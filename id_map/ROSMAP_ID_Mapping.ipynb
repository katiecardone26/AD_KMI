{
 "cells": [
  {
   "cell_type": "markdown",
   "id": "0",
   "metadata": {},
   "source": [
    "# load packages"
   ]
  },
  {
   "cell_type": "code",
   "execution_count": null,
   "id": "1",
   "metadata": {},
   "outputs": [],
   "source": [
    "library(tidyverse)"
   ]
  },
  {
   "cell_type": "markdown",
   "id": "2",
   "metadata": {},
   "source": [
    "# read in input files"
   ]
  },
  {
   "cell_type": "code",
   "execution_count": null,
   "id": "3",
   "metadata": {},
   "outputs": [],
   "source": [
    "vcf_id = read.csv('rosmap/ID_mapping/ROSMAP_VCF_IDs.txt',\n",
    "                  header = F)\n",
    "head(vcf_id)"
   ]
  },
  {
   "cell_type": "code",
   "execution_count": null,
   "id": "4",
   "metadata": {},
   "outputs": [],
   "source": [
    "rnaseq_id = read.csv('rosmap/ID_mapping/ROSMAP_RNAseq_IDs.txt')\n",
    "head(rnaseq_id)"
   ]
  },
  {
   "cell_type": "code",
   "execution_count": null,
   "id": "5",
   "metadata": {},
   "outputs": [],
   "source": [
    "biospec = read.csv('rosmap/MetaData/ROSMAP_biospecimen_metadata.csv')\n",
    "head(biospec)"
   ]
  },
  {
   "cell_type": "code",
   "execution_count": null,
   "id": "6",
   "metadata": {},
   "outputs": [],
   "source": [
    "wgs_data = read.csv('rosmap/Metadata/ROSMAP_assay_wholeGenomeSeq_metadata.csv')\n",
    "head(wgs_data)"
   ]
  },
  {
   "cell_type": "code",
   "execution_count": null,
   "id": "7",
   "metadata": {},
   "outputs": [],
   "source": [
    "wgs_qc = read.csv('rosmap/Whole_Genome_Sequencing/WGS_sample_QC_info.csv')\n",
    "head(wgs_qc)\n",
    "nrow(wgs_qc)"
   ]
  },
  {
   "cell_type": "code",
   "execution_count": null,
   "id": "8",
   "metadata": {},
   "outputs": [],
   "source": [
    "pheno = read.csv('rosmap/Metadata/ROSMAP_clinical.csv')\n",
    "head(pheno)"
   ]
  },
  {
   "cell_type": "code",
   "execution_count": null,
   "id": "9",
   "metadata": {},
   "outputs": [],
   "source": [
    "array = read.csv('rosmap/Genomic_Variants_SNP_Array/Raw/ROSMAP_arrayGenotype.fam',\n",
    "                 sep = '',\n",
    "                 header = F)\n",
    "head(array)"
   ]
  },
  {
   "cell_type": "code",
   "execution_count": null,
   "id": "10",
   "metadata": {},
   "outputs": [],
   "source": [
    "adsp = read.csv('ADSP/MAP_FILES/ROSMAP_ADSPID_mapping.csv')\n",
    "head(adsp)\n",
    "nrow(adsp)"
   ]
  },
  {
   "cell_type": "code",
   "execution_count": null,
   "id": "11",
   "metadata": {},
   "outputs": [],
   "source": [
    "adsp_wgs_list = read.csv('rosmap/ID_mapping/ROSMAP_ADSP_WGS_samples.txt',\n",
    "                         sep = '',\n",
    "                         header = F)\n",
    "head(adsp_wgs_list)"
   ]
  },
  {
   "cell_type": "code",
   "execution_count": null,
   "id": "12",
   "metadata": {},
   "outputs": [],
   "source": [
    "adsp_pheno = read.csv('ADSP/v11_122023/v11_CombinedPhenotypes/ADSPIntegratedPhenotypes_DS_2023.08.08.csv')\n",
    "head(adsp_pheno)"
   ]
  },
  {
   "cell_type": "code",
   "execution_count": null,
   "id": "13",
   "metadata": {},
   "outputs": [],
   "source": [
    "adsp_qc = read.csv('/project/ritchie/datasets/ADSP/v11_122023/231211-ADSPv11_Release/downloads/v11-dl-dir/gcad.r4.wgs.36361.VCPA1.1.2022.08.15.v3.qcmetrics.seq.ALL.txt',\n",
    "                   sep = '\\t')\n",
    "head(adsp_qc)"
   ]
  },
  {
   "cell_type": "code",
   "execution_count": null,
   "id": "14",
   "metadata": {},
   "outputs": [],
   "source": [
    "methylation = read.csv('/project/ritchie/projects/AD_KMI/pathway_score/rosmap/ID_mapping/ROSMAP.Methylation.IDs.txt')\n",
    "nrow(methylation)\n",
    "length(unique(methylation$TargetID))\n",
    "head(methylation)"
   ]
  },
  {
   "cell_type": "markdown",
   "id": "15",
   "metadata": {},
   "source": [
    "# remove WGS samples that didn't pass QC"
   ]
  },
  {
   "cell_type": "markdown",
   "id": "16",
   "metadata": {},
   "source": [
    "## filter to samples that failed"
   ]
  },
  {
   "cell_type": "code",
   "execution_count": null,
   "id": "17",
   "metadata": {},
   "outputs": [],
   "source": [
    "unique(wgs_qc$QC)"
   ]
  },
  {
   "cell_type": "code",
   "execution_count": null,
   "id": "18",
   "metadata": {},
   "outputs": [],
   "source": [
    "wgs_qc %>%\n",
    "filter(grepl('Fail',QC)) %>%\n",
    "filter(grepl('identical',QC))"
   ]
  },
  {
   "cell_type": "code",
   "execution_count": null,
   "id": "19",
   "metadata": {},
   "outputs": [],
   "source": [
    "wgs_fail_qc = wgs_qc %>%\n",
    "filter(grepl('Fail',QC))\n",
    "head(wgs_fail_qc)\n",
    "nrow(wgs_fail_qc)"
   ]
  },
  {
   "cell_type": "markdown",
   "id": "20",
   "metadata": {},
   "source": [
    "## remove samples"
   ]
  },
  {
   "cell_type": "code",
   "execution_count": null,
   "id": "21",
   "metadata": {},
   "outputs": [],
   "source": [
    "vcf_pass_qc=data.frame(vcf_id[!(vcf_id$V1 %in% wgs_fail_qc$WGS_id),])\n",
    "colnames(vcf_pass_qc) = c('ID')\n",
    "head(vcf_pass_qc)\n",
    "nrow(vcf_pass_qc)\n",
    "nrow(vcf_id)"
   ]
  },
  {
   "cell_type": "markdown",
   "id": "22",
   "metadata": {},
   "source": [
    "# fix duplicates"
   ]
  },
  {
   "cell_type": "markdown",
   "id": "23",
   "metadata": {},
   "source": [
    "## filter to duplicates"
   ]
  },
  {
   "cell_type": "code",
   "execution_count": null,
   "id": "24",
   "metadata": {},
   "outputs": [],
   "source": [
    "wgs_dup = wgs_qc %>%\n",
    "filter(grepl('identical', Duplicate)) %>%\n",
    "filter(!grepl('Fail', QC))\n",
    "nrow(wgs_dup)\n",
    "print(wgs_dup)"
   ]
  },
  {
   "cell_type": "raw",
   "id": "25",
   "metadata": {},
   "source": [
    "# duplicate notes\n",
    "SM-CTDVR = SM-CJFO9\n",
    "SM-CTEGE = SM-CTEN4\n",
    "SM-CJEI2 = SM-CTEFA\n",
    "SM-CJEL3 = SM-CTELW\n",
    "SM-CTEGU = SM-CTDRP\n",
    "SM-CTEDF = SM-CJK43\n",
    "SM-CTEEX = SM-CJK43\n",
    "SM-CJFKP = SM-CTDVH"
   ]
  },
  {
   "cell_type": "markdown",
   "id": "26",
   "metadata": {
    "jp-MarkdownHeadingCollapsed": true
   },
   "source": [
    "## check to see if dups still exist even after removing samples that failed QC"
   ]
  },
  {
   "cell_type": "code",
   "execution_count": null,
   "id": "27",
   "metadata": {},
   "outputs": [],
   "source": [
    "wgs_qc%>%\n",
    "filter(!grepl('Fail',QC))%>%\n",
    "filter(grepl('SM-CTDVR',WGS_id))%>%\n",
    "head()"
   ]
  },
  {
   "cell_type": "code",
   "execution_count": null,
   "id": "28",
   "metadata": {},
   "outputs": [],
   "source": [
    "wgs_qc%>%\n",
    "filter(!grepl('Fail',QC))%>%\n",
    "filter(grepl('SM-CTEGE',WGS_id))"
   ]
  },
  {
   "cell_type": "code",
   "execution_count": null,
   "id": "29",
   "metadata": {},
   "outputs": [],
   "source": [
    "wgs_qc%>%\n",
    "filter(!grepl('Fail',QC))%>%\n",
    "filter(grepl('SM-CJEI2',WGS_id))"
   ]
  },
  {
   "cell_type": "code",
   "execution_count": null,
   "id": "30",
   "metadata": {},
   "outputs": [],
   "source": [
    "wgs_qc%>%\n",
    "filter(!grepl('Fail',QC))%>%\n",
    "filter(grepl('SM-CJEL3',WGS_id))"
   ]
  },
  {
   "cell_type": "code",
   "execution_count": null,
   "id": "31",
   "metadata": {},
   "outputs": [],
   "source": [
    "wgs_qc%>%\n",
    "filter(!grepl('Fail',QC))%>%\n",
    "filter(grepl('SM-CTEGU',WGS_id))"
   ]
  },
  {
   "cell_type": "code",
   "execution_count": null,
   "id": "32",
   "metadata": {},
   "outputs": [],
   "source": [
    "wgs_qc%>%\n",
    "filter(!grepl('Fail',QC))%>%\n",
    "filter(grepl('SM-CTEDF',WGS_id))"
   ]
  },
  {
   "cell_type": "code",
   "execution_count": null,
   "id": "33",
   "metadata": {},
   "outputs": [],
   "source": [
    "wgs_qc%>%\n",
    "filter(!grepl('Fail',QC))%>%\n",
    "filter(grepl('SM-CTEEX',WGS_id))"
   ]
  },
  {
   "cell_type": "code",
   "execution_count": null,
   "id": "34",
   "metadata": {},
   "outputs": [],
   "source": [
    "wgs_qc%>%\n",
    "filter(!grepl('Fail',QC))%>%\n",
    "filter(grepl('SM-CJFKP',WGS_id))"
   ]
  },
  {
   "cell_type": "raw",
   "id": "35",
   "metadata": {},
   "source": [
    "# all duplicates were removed after removing samples that failed QC so were good."
   ]
  },
  {
   "cell_type": "markdown",
   "id": "36",
   "metadata": {},
   "source": [
    "## see how many samples have RNAseq based on the table"
   ]
  },
  {
   "cell_type": "code",
   "execution_count": null,
   "id": "37",
   "metadata": {},
   "outputs": [],
   "source": [
    "wgs_qc %>%\n",
    "filter(!grepl('Fail', QC)) %>%\n",
    "filter(is.na(Concordant_with_RNAseq) == F) %>%\n",
    "head()\n",
    "wgs_qc%>%\n",
    "filter(!grepl('Fail', QC)) %>%\n",
    "filter(is.na(Concordant_with_RNAseq) == F) %>%\n",
    "nrow()"
   ]
  },
  {
   "cell_type": "markdown",
   "id": "38",
   "metadata": {},
   "source": [
    "# create vcf individual ID map"
   ]
  },
  {
   "cell_type": "markdown",
   "id": "39",
   "metadata": {},
   "source": [
    "## filter to individuals in VCF pass QC file"
   ]
  },
  {
   "cell_type": "code",
   "execution_count": null,
   "id": "40",
   "metadata": {},
   "outputs": [],
   "source": [
    "biospec_vcf = biospec[biospec$specimenID %in% vcf_pass_qc$ID,]\n",
    "nrow(biospec_vcf)\n",
    "length(unique(biospec_vcf$individualID))\n",
    "nrow(vcf_pass_qc)\n",
    "head(biospec_vcf)"
   ]
  },
  {
   "cell_type": "markdown",
   "id": "41",
   "metadata": {},
   "source": [
    "## check out duplicates"
   ]
  },
  {
   "cell_type": "code",
   "execution_count": null,
   "id": "42",
   "metadata": {},
   "outputs": [],
   "source": [
    "biospec_vcf_id = biospec_vcf %>%\n",
    "select(individualID)\n",
    "head(biospec_vcf_id)"
   ]
  },
  {
   "cell_type": "code",
   "execution_count": null,
   "id": "43",
   "metadata": {},
   "outputs": [],
   "source": [
    "write.table(biospec_vcf_id,\n",
    "            'rosmap/ID_mapping/biospec_vcf_pass_qc_poss_dups.txt',\n",
    "            sep = '\\t',\n",
    "            col.names = F,\n",
    "            row.names = F,\n",
    "            quote = F)"
   ]
  },
  {
   "cell_type": "code",
   "execution_count": null,
   "id": "44",
   "metadata": {},
   "outputs": [],
   "source": [
    "biospec_vcf_id_dup_list = read.csv('rosmap/ID_mapping/biospec_vcf_pass_qc_dups.txt',\n",
    "                                   header = F)\n",
    "head(biospec_vcf_id_dup_list)"
   ]
  },
  {
   "cell_type": "code",
   "execution_count": null,
   "id": "45",
   "metadata": {},
   "outputs": [],
   "source": [
    "biospec_vcf_id_dups = biospec_vcf[biospec_vcf$individualID %in% biospec_vcf_id_dup_list$V1,]\n",
    "nrow(biospec_vcf_id_dups)\n",
    "biospec_vcf_id_dups %>%\n",
    "arrange(individualID)"
   ]
  },
  {
   "cell_type": "raw",
   "id": "46",
   "metadata": {},
   "source": [
    "# duplicate notes\n",
    "SM-CJIX3 = SM-CTEE2\n",
    "SM-CJFNH = SM-CTED9\t\n",
    "SM-CJGGL = SM-CTEN3\n",
    "SM-CJK4Y = SM-CTEI8\n",
    "SM-CJEFV = SM-CTEMN\n",
    "SM-CJEGK = SM-CTEIJ"
   ]
  },
  {
   "cell_type": "markdown",
   "id": "47",
   "metadata": {},
   "source": [
    "## fix duplicates"
   ]
  },
  {
   "cell_type": "markdown",
   "id": "48",
   "metadata": {},
   "source": [
    "### filter to duplicates"
   ]
  },
  {
   "cell_type": "code",
   "execution_count": null,
   "id": "49",
   "metadata": {},
   "outputs": [],
   "source": [
    "wgs_qc_dup = wgs_qc[wgs_qc$WGS_id %in% biospec_vcf_id_dups$specimenID,]\n",
    "wgs_qc_dup"
   ]
  },
  {
   "cell_type": "markdown",
   "id": "50",
   "metadata": {},
   "source": [
    "### keep duplicate with highest GQN"
   ]
  },
  {
   "cell_type": "code",
   "execution_count": null,
   "id": "51",
   "metadata": {},
   "outputs": [],
   "source": [
    "wgs_qc_dup_fixed = wgs_qc_dup %>%\n",
    "filter(grepl('SM-CJK4Y|SM-CTEE2|SM-CTEN3|SM-CTED9|SM-CTEIJ|SM-CTEMN', WGS_id))\n",
    "wgs_qc_dup_fixed"
   ]
  },
  {
   "cell_type": "markdown",
   "id": "52",
   "metadata": {},
   "source": [
    "### remove dups from biospecimen file"
   ]
  },
  {
   "cell_type": "code",
   "execution_count": null,
   "id": "53",
   "metadata": {},
   "outputs": [],
   "source": [
    "biospec_vcf_no_dups = biospec_vcf[!(biospec_vcf$individualID %in% biospec_vcf_id_dup_list$V1),]\n",
    "nrow(biospec_vcf_no_dups)\n",
    "nrow(biospec_vcf)"
   ]
  },
  {
   "cell_type": "markdown",
   "id": "54",
   "metadata": {},
   "source": [
    "### filter to fixed dups in biospecimen file"
   ]
  },
  {
   "cell_type": "code",
   "execution_count": null,
   "id": "55",
   "metadata": {},
   "outputs": [],
   "source": [
    "biospec_vcf_new_dups = biospec_vcf[biospec_vcf$specimenID %in% wgs_qc_dup_fixed$WGS_id,]\n",
    "nrow(wgs_qc_dup_fixed)\n",
    "nrow(biospec_vcf_new_dups)"
   ]
  },
  {
   "cell_type": "markdown",
   "id": "56",
   "metadata": {},
   "source": [
    "### concatenate files"
   ]
  },
  {
   "cell_type": "code",
   "execution_count": null,
   "id": "57",
   "metadata": {},
   "outputs": [],
   "source": [
    "biospec_vcf_dups_fixed = rbind(biospec_vcf_no_dups,biospec_vcf_new_dups)\n",
    "nrow(biospec_vcf_dups_fixed)\n",
    "length(unique(biospec_vcf_dups_fixed$individualID))"
   ]
  },
  {
   "cell_type": "markdown",
   "id": "58",
   "metadata": {},
   "source": [
    "# create map for RNAseq sample"
   ]
  },
  {
   "cell_type": "markdown",
   "id": "59",
   "metadata": {},
   "source": [
    "## get unique RNA seq samples"
   ]
  },
  {
   "cell_type": "code",
   "execution_count": null,
   "id": "60",
   "metadata": {},
   "outputs": [],
   "source": [
    "rnaseq_unique = rnaseq_id%>%\n",
    "distinct()\n",
    "nrow(rnaseq_unique)"
   ]
  },
  {
   "cell_type": "markdown",
   "id": "61",
   "metadata": {},
   "source": [
    "## check out duplicates"
   ]
  },
  {
   "cell_type": "code",
   "execution_count": null,
   "id": "62",
   "metadata": {},
   "outputs": [],
   "source": [
    "write.table(rnaseq_id,'rosmap/ID_mapping/rnaseq_ids.txt',\n",
    "            sep = '\\t',\n",
    "            col.names = F,\n",
    "            row.names = F,\n",
    "            quote = F)"
   ]
  },
  {
   "cell_type": "code",
   "execution_count": null,
   "id": "63",
   "metadata": {},
   "outputs": [],
   "source": [
    "rnaseq_dups = read.csv('rosmap/ID_mapping/rnaseq_ids_dups.txt',\n",
    "                       header = F)\n",
    "head(rnaseq_dups)"
   ]
  },
  {
   "cell_type": "code",
   "execution_count": null,
   "id": "64",
   "metadata": {},
   "outputs": [],
   "source": [
    "rnaseq_id[rnaseq_id$individualID %in% rnaseq_dups$V1,]"
   ]
  },
  {
   "cell_type": "code",
   "execution_count": null,
   "id": "65",
   "metadata": {},
   "outputs": [],
   "source": [
    "biospec_rnaseq_dup = biospec[biospec$individualID %in% rnaseq_dups$V1,]\n",
    "nrow(biospec_rnaseq_dup)\n",
    "biospec_rnaseq_dup %>%\n",
    "filter(grepl('rnaSeq', assay))"
   ]
  },
  {
   "cell_type": "code",
   "execution_count": null,
   "id": "66",
   "metadata": {},
   "outputs": [],
   "source": [
    "biospec_rnaseq = biospec[biospec$individualID %in% rnaseq_id$individualID,]\n",
    "biospec_rnaseq %>%\n",
    "filter(grepl('rnaSeq', assay)) %>%\n",
    "group_by(tissue) %>%\n",
    "summarize(n())"
   ]
  },
  {
   "cell_type": "markdown",
   "id": "67",
   "metadata": {},
   "source": [
    "## filter"
   ]
  },
  {
   "cell_type": "code",
   "execution_count": null,
   "id": "68",
   "metadata": {},
   "outputs": [],
   "source": [
    "biospec_rnaseq = biospec_vcf_no_dups[biospec_vcf_no_dups$individualID %in% rnaseq_unique$individualID,]\n",
    "nrow(biospec_rnaseq)\n",
    "nrow(biospec_vcf_no_dups)\n",
    "nrow(rnaseq_unique)"
   ]
  },
  {
   "cell_type": "markdown",
   "id": "69",
   "metadata": {},
   "source": [
    "## check out IDs that didn't map"
   ]
  },
  {
   "cell_type": "code",
   "execution_count": null,
   "id": "70",
   "metadata": {},
   "outputs": [],
   "source": [
    "rnaseq_mismatch = data.frame(rnaseq_id[!(rnaseq_id$individualID %in% biospec_rnaseq$individualID),])\n",
    "colnames(rnaseq_mismatch) = c('individualID')\n",
    "nrow(rnaseq_mismatch)"
   ]
  },
  {
   "cell_type": "code",
   "execution_count": null,
   "id": "71",
   "metadata": {},
   "outputs": [],
   "source": [
    "unique(biospec$assay)"
   ]
  },
  {
   "cell_type": "code",
   "execution_count": null,
   "id": "72",
   "metadata": {},
   "outputs": [],
   "source": [
    "biospec_mismatch = biospec[biospec$individualID %in% rnaseq_mismatch$individualID,]\n",
    "head(biospec_mismatch)"
   ]
  },
  {
   "cell_type": "code",
   "execution_count": null,
   "id": "73",
   "metadata": {},
   "outputs": [],
   "source": [
    "biospec_mismatch_wgs = biospec_mismatch %>%\n",
    "filter(grepl('wholeGenomeSeq', assay))\n",
    "nrow(biospec_mismatch_wgs)"
   ]
  },
  {
   "cell_type": "raw",
   "id": "74",
   "metadata": {},
   "source": [
    "53 RNA seq samples don't have WGS data"
   ]
  },
  {
   "cell_type": "code",
   "execution_count": null,
   "id": "75",
   "metadata": {},
   "outputs": [],
   "source": [
    "biospec_mismatch_wgs_pass_qc=biospec_mismatch_wgs[!(biospec_mismatch_wgs$specimenID %in% wgs_fail_qc$WGS_id),]\n",
    "nrow(biospec_mismatch_wgs_pass_qc)"
   ]
  },
  {
   "cell_type": "raw",
   "id": "76",
   "metadata": {},
   "source": [
    "5 samples did not pass QC"
   ]
  },
  {
   "cell_type": "code",
   "execution_count": null,
   "id": "77",
   "metadata": {},
   "outputs": [],
   "source": [
    "biospec_mismatch_wgs_no_dups=biospec_mismatch_wgs_pass_qc[!(biospec_mismatch_wgs_pass_qc$individualID %in% biospec_vcf_id_dup_list$V1),]\n",
    "nrow(biospec_mismatch_wgs_no_dups)"
   ]
  },
  {
   "cell_type": "code",
   "execution_count": null,
   "id": "78",
   "metadata": {},
   "outputs": [],
   "source": [
    "biospec_mismatch_wgs_dups = biospec_mismatch_wgs_pass_qc[biospec_mismatch_wgs_pass_qc$individualID %in% biospec_vcf_id_dup_list$V1,]\n",
    "biospec_mismatch_wgs_dups %>%\n",
    "arrange(individualID)"
   ]
  },
  {
   "cell_type": "raw",
   "id": "79",
   "metadata": {},
   "source": [
    "8 samples were duplicated"
   ]
  },
  {
   "cell_type": "code",
   "execution_count": null,
   "id": "80",
   "metadata": {},
   "outputs": [],
   "source": [
    "biospec_mismatch_wgs_no_dups\n",
    "nrow(biospec_mismatch_wgs_no_dups)"
   ]
  },
  {
   "cell_type": "markdown",
   "id": "81",
   "metadata": {},
   "source": [
    "## see if we can fix IDs with pheno file"
   ]
  },
  {
   "cell_type": "code",
   "execution_count": null,
   "id": "82",
   "metadata": {},
   "outputs": [],
   "source": [
    "nrow(pheno)"
   ]
  },
  {
   "cell_type": "code",
   "execution_count": null,
   "id": "83",
   "metadata": {},
   "outputs": [],
   "source": [
    "pheno_mismatch = pheno[pheno$individualID %in% biospec_mismatch_wgs_no_dups$individualID,]\n",
    "nrow(pheno_mismatch)\n",
    "head(pheno_mismatch)"
   ]
  },
  {
   "cell_type": "code",
   "execution_count": null,
   "id": "84",
   "metadata": {},
   "outputs": [],
   "source": [
    "pheno_mismatch_sub = pheno_mismatch %>%\n",
    "select(projid,Study,individualID)\n",
    "head(pheno_mismatch_sub)"
   ]
  },
  {
   "cell_type": "code",
   "execution_count": null,
   "id": "85",
   "metadata": {},
   "outputs": [],
   "source": [
    "pheno_mismatch_wgs = merge(pheno_mismatch_sub,wgs_qc, by = 'projid')\n",
    "nrow(pheno_mismatch_wgs)\n",
    "head(pheno_mismatch_wgs)"
   ]
  },
  {
   "cell_type": "code",
   "execution_count": null,
   "id": "86",
   "metadata": {},
   "outputs": [],
   "source": [
    "nrow(data.frame(vcf_id[vcf_id$V1 %in% pheno_mismatch_wgs$WGS_id,]))"
   ]
  },
  {
   "cell_type": "code",
   "execution_count": null,
   "id": "87",
   "metadata": {},
   "outputs": [],
   "source": [
    "pheno_mismatch_wgs_sub = pheno_mismatch_wgs %>%\n",
    "select(individualID,WGS_id)"
   ]
  },
  {
   "cell_type": "code",
   "execution_count": null,
   "id": "88",
   "metadata": {},
   "outputs": [],
   "source": [
    "biospec_fixed = merge(biospec_mismatch_wgs_no_dups, pheno_mismatch_wgs_sub, by = 'individualID')\n",
    "nrow(biospec_fixed)\n",
    "head(biospec_fixed)"
   ]
  },
  {
   "cell_type": "code",
   "execution_count": null,
   "id": "89",
   "metadata": {},
   "outputs": [],
   "source": [
    "biospec_fixed_sub = biospec_fixed %>%\n",
    "select(individualID,\n",
    "       WGS_id,\n",
    "       specimenIdSource,\n",
    "       samplingDate,\n",
    "       organ,\n",
    "       tissue,\n",
    "       BrodmannArea,\n",
    "       sampleStatus,\n",
    "       tissueWeight,\n",
    "       tissueVolume,\n",
    "       nucleicAcidSource,\n",
    "       cellType,\n",
    "       fastingState,\n",
    "       isPostMortem,\n",
    "       samplingAge,\n",
    "       visitNumber,\n",
    "       assay,\n",
    "       exclude,\n",
    "       excludeReason) %>%\n",
    "rename('specimenID' = 'WGS_id')\n",
    "head(biospec_fixed_sub)"
   ]
  },
  {
   "cell_type": "markdown",
   "id": "90",
   "metadata": {},
   "source": [
    "## concatenate to make final RNAseq map"
   ]
  },
  {
   "cell_type": "code",
   "execution_count": null,
   "id": "91",
   "metadata": {},
   "outputs": [],
   "source": [
    "rnaseq_map_final = rbind(biospec_rnaseq, biospec_fixed_sub)\n",
    "nrow(rnaseq_map_final)\n",
    "head(rnaseq_map_final)"
   ]
  },
  {
   "cell_type": "markdown",
   "id": "92",
   "metadata": {},
   "source": [
    "## subset to IDs"
   ]
  },
  {
   "cell_type": "code",
   "execution_count": null,
   "id": "93",
   "metadata": {},
   "outputs": [],
   "source": [
    "rnaseq_map_final_sub = rnaseq_map_final %>%\n",
    "select(individualID, specimenID)"
   ]
  },
  {
   "cell_type": "markdown",
   "id": "94",
   "metadata": {},
   "source": [
    "## create ID list for plink score"
   ]
  },
  {
   "cell_type": "code",
   "execution_count": null,
   "id": "95",
   "metadata": {},
   "outputs": [],
   "source": [
    "rnaseq_map_final_id = rnaseq_map_final_sub %>%\n",
    "select(specimenID)"
   ]
  },
  {
   "cell_type": "code",
   "execution_count": null,
   "id": "96",
   "metadata": {},
   "outputs": [],
   "source": [
    "nrow(rnaseq_map_final_sub[rnaseq_map_final_sub$specimenID %in% vcf_id$V1,])\n",
    "nrow(rnaseq_map_final_sub)"
   ]
  },
  {
   "cell_type": "markdown",
   "id": "97",
   "metadata": {},
   "source": [
    "## export"
   ]
  },
  {
   "cell_type": "code",
   "execution_count": null,
   "id": "98",
   "metadata": {},
   "outputs": [],
   "source": [
    "write.table(rnaseq_map_final_sub,\n",
    "            'rosmap/ID_mapping/ROSMAP_RNA_seq_WGS_ID_map.txt',\n",
    "            sep = '\\t',\n",
    "            col.names = T,\n",
    "            row.names = F,\n",
    "            quote = F)"
   ]
  },
  {
   "cell_type": "code",
   "execution_count": null,
   "id": "99",
   "metadata": {},
   "outputs": [],
   "source": [
    "write.table(rnaseq_map_final_id,\n",
    "            'rosmap/ID_mapping/ROSMAP_RNA_seq_WGS_sample_list.txt',\n",
    "            sep = '\\t',\n",
    "            col.names = F,\n",
    "            row.names = F,\n",
    "            quote = F)"
   ]
  },
  {
   "cell_type": "markdown",
   "id": "100",
   "metadata": {},
   "source": [
    "# create methylation id map"
   ]
  },
  {
   "cell_type": "markdown",
   "id": "101",
   "metadata": {},
   "source": [
    "## filter biospec file"
   ]
  },
  {
   "cell_type": "code",
   "execution_count": null,
   "id": "102",
   "metadata": {},
   "outputs": [],
   "source": [
    "biospec_methyl = biospec[biospec$specimenID %in% methylation$TargetID,]\n",
    "nrow(biospec_methyl)\n",
    "length(unique(biospec_methyl$individualID))\n",
    "length(unique(biospec_methyl$specimenID))\n",
    "head(biospec_methyl)"
   ]
  },
  {
   "cell_type": "markdown",
   "id": "103",
   "metadata": {},
   "source": [
    "## subset to IDs"
   ]
  },
  {
   "cell_type": "code",
   "execution_count": null,
   "id": "104",
   "metadata": {},
   "outputs": [],
   "source": [
    "biospec_methyl_sub = biospec_methyl %>%\n",
    "select(individualID, specimenID)\n",
    "head(biospec_methyl_sub)"
   ]
  },
  {
   "cell_type": "markdown",
   "id": "105",
   "metadata": {},
   "source": [
    "## export"
   ]
  },
  {
   "cell_type": "code",
   "execution_count": null,
   "id": "106",
   "metadata": {},
   "outputs": [],
   "source": [
    "write.table(biospec_methyl_sub,\n",
    "            'rosmap/ID_mapping/ROSMAP.Methylation_Array.individualID_map.txt',\n",
    "            sep = '\\t',\n",
    "            col.names = T,\n",
    "            row.names = F,\n",
    "            quote = F)"
   ]
  },
  {
   "cell_type": "markdown",
   "id": "107",
   "metadata": {},
   "source": [
    "# create VCF map for all samples"
   ]
  },
  {
   "cell_type": "markdown",
   "id": "108",
   "metadata": {},
   "source": [
    "## subset map"
   ]
  },
  {
   "cell_type": "code",
   "execution_count": null,
   "id": "109",
   "metadata": {},
   "outputs": [],
   "source": [
    "biospec_vcf_dups_fixed_sub = subset(biospec_vcf_dups_fixed, select = c(individualID, specimenID))\n",
    "head(biospec_vcf_dups_fixed_sub)"
   ]
  },
  {
   "cell_type": "markdown",
   "id": "110",
   "metadata": {},
   "source": [
    "## find samples that didn't match"
   ]
  },
  {
   "cell_type": "code",
   "execution_count": null,
   "id": "111",
   "metadata": {},
   "outputs": [],
   "source": [
    "vcf_no_match = data.frame(vcf_pass_qc[!(vcf_pass_qc$ID %in% biospec_vcf_dups_fixed$specimenID),])\n",
    "colnames(vcf_no_match) = 'ID'\n",
    "nrow(vcf_no_match)\n",
    "head(vcf_no_match)"
   ]
  },
  {
   "cell_type": "markdown",
   "id": "112",
   "metadata": {},
   "source": [
    "## find these samples in phenotype file"
   ]
  },
  {
   "cell_type": "code",
   "execution_count": null,
   "id": "113",
   "metadata": {},
   "outputs": [],
   "source": [
    "pheno_id = pheno %>%\n",
    "select(projid, Study, individualID) %>%\n",
    "mutate(specimenID = paste0(Study, projid))\n",
    "head(pheno_id)"
   ]
  },
  {
   "cell_type": "code",
   "execution_count": null,
   "id": "114",
   "metadata": {},
   "outputs": [],
   "source": [
    "pheno_vcf_no_match = pheno_id[pheno_id$specimenID %in% vcf_no_match$ID,]\n",
    "nrow(pheno_vcf_no_match)"
   ]
  },
  {
   "cell_type": "raw",
   "id": "115",
   "metadata": {},
   "source": [
    "this number matches- it excludes the duplicates that were dropped"
   ]
  },
  {
   "cell_type": "markdown",
   "id": "116",
   "metadata": {},
   "source": [
    "## subset pheno map"
   ]
  },
  {
   "cell_type": "code",
   "execution_count": null,
   "id": "117",
   "metadata": {},
   "outputs": [],
   "source": [
    "pheno_vcf_no_match_sub = pheno_vcf_no_match %>%\n",
    "select(individualID, specimenID)"
   ]
  },
  {
   "cell_type": "markdown",
   "id": "118",
   "metadata": {},
   "source": [
    "## remove samples in VCF map (IDK HOW THEY GOT THERE OKAY)"
   ]
  },
  {
   "cell_type": "code",
   "execution_count": null,
   "id": "119",
   "metadata": {},
   "outputs": [],
   "source": [
    "pheno_vcf_def_no_match_sub = pheno_vcf_no_match_sub[!(pheno_vcf_no_match_sub$individualID %in% biospec_vcf_dups_fixed_sub$individualID),]\n",
    "nrow(pheno_vcf_def_no_match_sub)"
   ]
  },
  {
   "cell_type": "markdown",
   "id": "120",
   "metadata": {},
   "source": [
    "## concatenate"
   ]
  },
  {
   "cell_type": "code",
   "execution_count": null,
   "id": "121",
   "metadata": {},
   "outputs": [],
   "source": [
    "vcf_map_final = rbind(biospec_vcf_dups_fixed_sub, pheno_vcf_def_no_match_sub)\n",
    "head(vcf_map_final)\n",
    "nrow(vcf_map_final)\n",
    "length(unique(vcf_map_final$individualID))"
   ]
  },
  {
   "cell_type": "code",
   "execution_count": null,
   "id": "122",
   "metadata": {},
   "outputs": [],
   "source": [
    "nrow(biospec_vcf_dups_fixed_sub)\n",
    "length(unique(biospec_vcf_dups_fixed_sub$individualID))"
   ]
  },
  {
   "cell_type": "code",
   "execution_count": null,
   "id": "123",
   "metadata": {},
   "outputs": [],
   "source": [
    "nrow(pheno_vcf_no_match_sub)\n",
    "length(unique(pheno_vcf_no_match_sub$individualID))"
   ]
  },
  {
   "cell_type": "code",
   "execution_count": null,
   "id": "124",
   "metadata": {},
   "outputs": [],
   "source": [
    "test = pheno_vcf_no_match_sub[pheno_vcf_no_match_sub$individualID %in% biospec_vcf_dups_fixed_sub$individualID,]\n",
    "nrow(test)"
   ]
  },
  {
   "cell_type": "markdown",
   "id": "125",
   "metadata": {},
   "source": [
    "## create sample list"
   ]
  },
  {
   "cell_type": "code",
   "execution_count": null,
   "id": "126",
   "metadata": {},
   "outputs": [],
   "source": [
    "vcf_map_final_sample = vcf_map_final %>%\n",
    "select(specimenID)"
   ]
  },
  {
   "cell_type": "markdown",
   "id": "127",
   "metadata": {},
   "source": [
    "## export"
   ]
  },
  {
   "cell_type": "code",
   "execution_count": null,
   "id": "128",
   "metadata": {},
   "outputs": [],
   "source": [
    "write.table(vcf_map_final_sample,\n",
    "            'rosmap/ID_mapping/ROSMAP.ALL_WGS.pass_qc.sample_list.txt',\n",
    "            sep = '\\t',\n",
    "            col.names = F,\n",
    "            row.names = F,\n",
    "            quote = F)"
   ]
  },
  {
   "cell_type": "code",
   "execution_count": null,
   "id": "129",
   "metadata": {},
   "outputs": [],
   "source": [
    "write.table(vcf_map_final,\n",
    "            'rosmap/ID_mapping/ROSMAP.ALL_WGS.pass_qc.ID_map.txt',\n",
    "            sep = '\\t',\n",
    "            col.names = T,\n",
    "            row.names = F,\n",
    "            quote = F)"
   ]
  },
  {
   "cell_type": "markdown",
   "id": "130",
   "metadata": {},
   "source": [
    "# create adsp map"
   ]
  },
  {
   "cell_type": "markdown",
   "id": "131",
   "metadata": {},
   "source": [
    "## clean adsp file"
   ]
  },
  {
   "cell_type": "code",
   "execution_count": null,
   "id": "132",
   "metadata": {},
   "outputs": [],
   "source": [
    "adsp_id = adsp %>%\n",
    "mutate(specimenID = paste0(cohort_key, subject_key_original)) %>%\n",
    "select(subject_key, specimenID)%>%\n",
    "rename('ADSP_ID' = 'subject_key')\n",
    "head(adsp_id)\n",
    "nrow(adsp_id)"
   ]
  },
  {
   "cell_type": "markdown",
   "id": "133",
   "metadata": {},
   "source": [
    "## map to pheno file"
   ]
  },
  {
   "cell_type": "code",
   "execution_count": null,
   "id": "134",
   "metadata": {},
   "outputs": [],
   "source": [
    "head(pheno_id)"
   ]
  },
  {
   "cell_type": "code",
   "execution_count": null,
   "id": "135",
   "metadata": {},
   "outputs": [],
   "source": [
    "adsp_rosmap = merge(pheno_id, adsp_id, by = 'specimenID')\n",
    "nrow(adsp_rosmap)\n",
    "nrow(adsp)\n",
    "head(adsp_rosmap)"
   ]
  },
  {
   "cell_type": "markdown",
   "id": "136",
   "metadata": {},
   "source": [
    "## filter mapped file"
   ]
  },
  {
   "cell_type": "code",
   "execution_count": null,
   "id": "137",
   "metadata": {},
   "outputs": [],
   "source": [
    "adsp_rosmap_sub = adsp_rosmap %>%\n",
    "select(individualID, ADSP_ID)\n",
    "head(adsp_rosmap_sub)"
   ]
  },
  {
   "cell_type": "markdown",
   "id": "138",
   "metadata": {},
   "source": [
    "## map to vcf file"
   ]
  },
  {
   "cell_type": "code",
   "execution_count": null,
   "id": "139",
   "metadata": {},
   "outputs": [],
   "source": [
    "head(vcf_map_final)\n",
    "nrow(vcf_map_final)"
   ]
  },
  {
   "cell_type": "code",
   "execution_count": null,
   "id": "140",
   "metadata": {},
   "outputs": [],
   "source": [
    "adsp_rosmap_map = merge(vcf_map_final, adsp_rosmap_sub, by = 'individualID')\n",
    "nrow(adsp_rosmap_map)\n",
    "nrow(adsp_rosmap_sub)\n",
    "nrow(vcf_map_final)\n",
    "length(unique(adsp_rosmap_map$individualID))\n",
    "head(adsp_rosmap_map)"
   ]
  },
  {
   "cell_type": "markdown",
   "id": "141",
   "metadata": {},
   "source": [
    "## check if mapped IDs are all in ADSP WGS list"
   ]
  },
  {
   "cell_type": "code",
   "execution_count": null,
   "id": "142",
   "metadata": {},
   "outputs": [],
   "source": [
    "adsp_pheno_id = adsp_pheno %>%\n",
    "select(SampleID, SUBJID)\n",
    "head(adsp_pheno_id)"
   ]
  },
  {
   "cell_type": "code",
   "execution_count": null,
   "id": "143",
   "metadata": {},
   "outputs": [],
   "source": [
    "adsp_pheno_rosmap_wgs = adsp_pheno[adsp_pheno$SampleID %in% adsp_wgs_list$V1,]\n",
    "nrow(adsp_pheno_rosmap_wgs)\n",
    "nrow(adsp_wgs_list)"
   ]
  },
  {
   "cell_type": "code",
   "execution_count": null,
   "id": "144",
   "metadata": {},
   "outputs": [],
   "source": [
    "adsp_rosmap_map_wgs = adsp_rosmap_map[adsp_rosmap_map$ADSP_ID %in% adsp_pheno_rosmap_wgs$SUBJID,]\n",
    "nrow(adsp_rosmap_map_wgs)\n",
    "head(adsp_rosmap_map_wgs)"
   ]
  },
  {
   "cell_type": "code",
   "execution_count": null,
   "id": "145",
   "metadata": {},
   "outputs": [],
   "source": [
    "adsp_rosmap_map_wgs_rename = adsp_rosmap_map_wgs %>%\n",
    "rename('SUBJID'='ADSP_ID')\n",
    "adsp_rosmap_map_wgs_all_id = adsp_rosmap_map_wgs_rename %>%\n",
    "left_join(adsp_pheno_id, by = 'SUBJID')%>%\n",
    "select(individualID, specimenID, SampleID, SUBJID)\n",
    "head(adsp_rosmap_map_wgs_all_id)\n",
    "nrow(adsp_rosmap_map_wgs_all_id)"
   ]
  },
  {
   "cell_type": "code",
   "execution_count": null,
   "id": "146",
   "metadata": {},
   "outputs": [],
   "source": [
    "write.table(adsp_rosmap_map_wgs_all_id,\n",
    "            'rosmap/ID_mapping/ROSMAP.ADSP_WGS.ID_map.txt',\n",
    "            sep = '\\t',\n",
    "            col.names = T,\n",
    "            row.names = F,\n",
    "            quote = F)"
   ]
  },
  {
   "cell_type": "code",
   "execution_count": null,
   "id": "147",
   "metadata": {},
   "outputs": [],
   "source": [
    "adsp_rosmap_map_pheno = adsp_rosmap_map[adsp_rosmap_map$ADSP_ID %in% adsp_pheno$SUBJID,]\n",
    "nrow(adsp_rosmap_map_pheno)\n",
    "head(adsp_rosmap_map_pheno)"
   ]
  },
  {
   "cell_type": "code",
   "execution_count": null,
   "id": "148",
   "metadata": {},
   "outputs": [],
   "source": [
    "adsp_rosmap_map_pheno_rename = adsp_rosmap_map_pheno %>%\n",
    "rename('SUBJID' = 'ADSP_ID')\n",
    "adsp_rosmap_map_pheno_all_id = adsp_rosmap_map_pheno_rename %>%\n",
    "left_join(adsp_pheno_id, by='SUBJID')%>%\n",
    "select(individualID, specimenID, SampleID, SUBJID)\n",
    "head(adsp_rosmap_map_pheno_all_id)\n",
    "nrow(adsp_rosmap_map_pheno_all_id)"
   ]
  },
  {
   "cell_type": "code",
   "execution_count": null,
   "id": "149",
   "metadata": {},
   "outputs": [],
   "source": [
    "adsp_rosmap_map_pheno_all_id %>%\n",
    "select(specimenID_RNAseq) %>%\n",
    "na.omit() %>%\n",
    "nrow()"
   ]
  },
  {
   "cell_type": "code",
   "execution_count": null,
   "id": "150",
   "metadata": {},
   "outputs": [],
   "source": [
    "adsp_rosmap_map_pheno_all_id %>%\n",
    "select(specimenID_MethylArray) %>%\n",
    "na.omit() %>%\n",
    "nrow()"
   ]
  },
  {
   "cell_type": "code",
   "execution_count": null,
   "id": "151",
   "metadata": {},
   "outputs": [],
   "source": [
    "write.table(adsp_rosmap_map_pheno_all_id,\n",
    "            'rosmap/ID_mapping/ROSMAP.ADSP_PHENO.ID_map.txt',\n",
    "            sep = '\\t',\n",
    "            col.names = T,\n",
    "            row.names = F,\n",
    "            quote = F)"
   ]
  },
  {
   "cell_type": "code",
   "execution_count": null,
   "id": "152",
   "metadata": {},
   "outputs": [],
   "source": [
    "adsp_pheno %>%\n",
    "filter(grepl('ROS|MAP',Cohort)) %>%\n",
    "nrow()"
   ]
  },
  {
   "cell_type": "code",
   "execution_count": null,
   "id": "153",
   "metadata": {},
   "outputs": [],
   "source": [
    "adsp_pheno %>%\n",
    "filter(!grepl('ROS|MAP',Cohort)) %>%\n",
    "distinct(Cohort)"
   ]
  },
  {
   "cell_type": "markdown",
   "id": "154",
   "metadata": {},
   "source": [
    "## check out ids that didn't map"
   ]
  },
  {
   "cell_type": "markdown",
   "id": "155",
   "metadata": {},
   "source": [
    "### ADSP IDs that aren't in VCF files"
   ]
  },
  {
   "cell_type": "code",
   "execution_count": null,
   "id": "156",
   "metadata": {},
   "outputs": [],
   "source": [
    "adsp_no_map = adsp_rosmap_sub[!(adsp_rosmap_sub$ADSP_ID %in% adsp_rosmap_map$ADSP_ID),]\n",
    "nrow(adsp_no_map)\n",
    "length(unique(adsp_no_map$individualID))\n",
    "length(unique(adsp_no_map$ADSP_ID))\n",
    "head(adsp_no_map)"
   ]
  },
  {
   "cell_type": "code",
   "execution_count": null,
   "id": "157",
   "metadata": {},
   "outputs": [],
   "source": [
    "head(biospec_vcf_dups_fixed)"
   ]
  },
  {
   "cell_type": "code",
   "execution_count": null,
   "id": "158",
   "metadata": {},
   "outputs": [],
   "source": [
    "biospec_vcf_adsp_no_map = biospec_vcf_dups_fixed[biospec_vcf_dups_fixed$individualID %in% adsp_no_map$individualID,]\n",
    "nrow(biospec_vcf_adsp_no_map)"
   ]
  },
  {
   "cell_type": "code",
   "execution_count": null,
   "id": "159",
   "metadata": {},
   "outputs": [],
   "source": [
    "nrow(biospec)"
   ]
  },
  {
   "cell_type": "code",
   "execution_count": null,
   "id": "160",
   "metadata": {},
   "outputs": [],
   "source": [
    "biospec_vcf_broken=biospec[!(biospec$individualID %in% biospec_vcf_dups_fixed$individualID),]\n",
    "nrow(biospec_vcf_broken)\n",
    "length(unique(biospec_vcf_broken$individualID))"
   ]
  },
  {
   "cell_type": "code",
   "execution_count": null,
   "id": "161",
   "metadata": {},
   "outputs": [],
   "source": [
    "adsp_broken_vcf=adsp_no_map[adsp_no_map$individualID %in% biospec_vcf_broken$individualID,]\n",
    "nrow(adsp_no_map)"
   ]
  },
  {
   "cell_type": "code",
   "execution_count": null,
   "id": "162",
   "metadata": {},
   "outputs": [],
   "source": [
    "biospec_vcf_broken_adsp=biospec_vcf_broken[biospec_vcf_broken$individualID %in% adsp_no_map$individualID,]\n",
    "head(biospec_vcf_broken_adsp)"
   ]
  },
  {
   "cell_type": "code",
   "execution_count": null,
   "id": "163",
   "metadata": {},
   "outputs": [],
   "source": [
    "unique(biospec_vcf_broken_adsp$assay)"
   ]
  },
  {
   "cell_type": "code",
   "execution_count": null,
   "id": "164",
   "metadata": {},
   "outputs": [],
   "source": [
    "biospec_vcf_broken_adsp %>%\n",
    "filter(grepl('wholeGenomeSeq', assay)) %>%\n",
    "head()"
   ]
  },
  {
   "cell_type": "markdown",
   "id": "165",
   "metadata": {},
   "source": [
    "### mismatch"
   ]
  },
  {
   "cell_type": "markdown",
   "id": "166",
   "metadata": {},
   "source": [
    "#### create mismatch file"
   ]
  },
  {
   "cell_type": "code",
   "execution_count": null,
   "id": "167",
   "metadata": {},
   "outputs": [],
   "source": [
    "adsp_mismatch = vcf_map_final[!(vcf_map_final$individualID %in% adsp_rosmap_sub$individualID),]\n",
    "nrow(adsp_mismatch)\n",
    "head(adsp_mismatch)"
   ]
  },
  {
   "cell_type": "markdown",
   "id": "168",
   "metadata": {},
   "source": [
    "#### check for leading zeros"
   ]
  },
  {
   "cell_type": "code",
   "execution_count": null,
   "id": "169",
   "metadata": {},
   "outputs": [],
   "source": [
    "adsp %>%\n",
    "select(subject_key_original) %>%\n",
    "filter(grepl('^0', subject_key_original)) %>%\n",
    "nrow()"
   ]
  },
  {
   "cell_type": "code",
   "execution_count": null,
   "id": "170",
   "metadata": {},
   "outputs": [],
   "source": [
    "pheno_id %>%\n",
    "select(projid) %>%\n",
    "filter(grepl('^0', projid)) %>%\n",
    "nrow()"
   ]
  },
  {
   "cell_type": "markdown",
   "id": "171",
   "metadata": {},
   "source": [
    "#### check if all IDs are SM"
   ]
  },
  {
   "cell_type": "code",
   "execution_count": null,
   "id": "172",
   "metadata": {},
   "outputs": [],
   "source": [
    "adsp_mismatch %>%\n",
    "filter(grepl('SM-', specimenID)) %>%\n",
    "nrow()"
   ]
  },
  {
   "cell_type": "code",
   "execution_count": null,
   "id": "173",
   "metadata": {},
   "outputs": [],
   "source": [
    "adsp_mismatch %>%\n",
    "filter(!grepl('SM-', specimenID)) %>%\n",
    "head()"
   ]
  },
  {
   "cell_type": "markdown",
   "id": "174",
   "metadata": {},
   "source": [
    "#### see if individualID ares in pheno file"
   ]
  },
  {
   "cell_type": "code",
   "execution_count": null,
   "id": "175",
   "metadata": {},
   "outputs": [],
   "source": [
    "pheno_mismatch = pheno_id[pheno_id$individualID %in% adsp_mismatch$individualID,]\n",
    "nrow(pheno_mismatch)\n",
    "head(pheno_mismatch)"
   ]
  },
  {
   "cell_type": "code",
   "execution_count": null,
   "id": "176",
   "metadata": {},
   "outputs": [],
   "source": [
    "adsp_mismatch_rename = adsp_mismatch %>%\n",
    "rename('vcf_specimenID' = 'specimenID')\n",
    "pheno_adsp_mismatch = merge(adsp_mismatch_rename,pheno_mismatch, by = 'individualID')\n",
    "nrow(pheno_adsp_mismatch)\n",
    "head(pheno_adsp_mismatch)"
   ]
  },
  {
   "cell_type": "code",
   "execution_count": null,
   "id": "177",
   "metadata": {},
   "outputs": [],
   "source": [
    "adsp_test=pheno_adsp_mismatch[pheno_adsp_mismatch$individualID %in% biospec_vcf_broken_adsp$individualID,]\n",
    "nrow(adsp_test)\n",
    "nrow(adsp_no_map)"
   ]
  },
  {
   "cell_type": "code",
   "execution_count": null,
   "id": "178",
   "metadata": {},
   "outputs": [],
   "source": [
    "adsp_mismatch_fixed = merge(pheno_adsp_mismatch,adsp_rosmap, by = 'individualID')\n",
    "nrow(adsp_mismatch_fixed)\n",
    "head(adsp_mismatch_fixed)"
   ]
  },
  {
   "cell_type": "code",
   "execution_count": null,
   "id": "179",
   "metadata": {},
   "outputs": [],
   "source": [
    "adsp_test = pheno_adsp_mismatch[pheno_adsp_mismatch$individualID %in% biospec$individualID,]\n",
    "nrow(adsp_test)\n",
    "head(adsp_test)"
   ]
  },
  {
   "cell_type": "code",
   "execution_count": null,
   "id": "180",
   "metadata": {},
   "outputs": [],
   "source": [
    "head(adsp)\n",
    "nrow(adsp)"
   ]
  },
  {
   "cell_type": "markdown",
   "id": "181",
   "metadata": {},
   "source": [
    "# see if ROSMAP is in keep quest comb in ADSP"
   ]
  },
  {
   "cell_type": "code",
   "execution_count": null,
   "id": "182",
   "metadata": {},
   "outputs": [],
   "source": [
    "adsp_qc_sub = adsp_qc %>%\n",
    "select(Study, Sample.name) %>%\n",
    "rename('SampleID' = 'Sample.name')\n",
    "head(adsp_qc_sub)\n",
    "print(nrow(adsp_qc_sub))"
   ]
  },
  {
   "cell_type": "code",
   "execution_count": null,
   "id": "183",
   "metadata": {},
   "outputs": [],
   "source": [
    "adsp_pheno_study = adsp_pheno %>%\n",
    "select(SampleID,Cohort)\n",
    "head(adsp_pheno_study)\n",
    "print(nrow(adsp_pheno_study))"
   ]
  },
  {
   "cell_type": "code",
   "execution_count": null,
   "id": "184",
   "metadata": {},
   "outputs": [],
   "source": [
    "adsp_pheno_qc = left_join(adsp_pheno_study, adsp_qc_sub, by = 'SampleID')\n",
    "head(adsp_pheno_qc)\n",
    "nrow(adsp_pheno_qc)"
   ]
  },
  {
   "cell_type": "code",
   "execution_count": null,
   "id": "185",
   "metadata": {},
   "outputs": [],
   "source": [
    "adsp_pheno_qc_rosmap = adsp_pheno_qc %>%\n",
    "filter(grepl('ROS|MAP', Cohort))\n",
    "head(adsp_pheno_qc_rosmap)\n",
    "nrow(adsp_pheno_qc_rosmap)"
   ]
  },
  {
   "cell_type": "code",
   "execution_count": null,
   "id": "186",
   "metadata": {},
   "outputs": [],
   "source": [
    "unique(adsp_pheno_qc_rosmap$Study)"
   ]
  },
  {
   "cell_type": "code",
   "execution_count": null,
   "id": "187",
   "metadata": {},
   "outputs": [],
   "source": []
  }
 ],
 "metadata": {
  "kernelspec": {
   "display_name": "R",
   "language": "R",
   "name": "ir"
  },
  "language_info": {
   "codemirror_mode": "r",
   "file_extension": ".r",
   "mimetype": "text/x-r-source",
   "name": "R",
   "pygments_lexer": "r",
   "version": "4.4.3"
  }
 },
 "nbformat": 4,
 "nbformat_minor": 5
}

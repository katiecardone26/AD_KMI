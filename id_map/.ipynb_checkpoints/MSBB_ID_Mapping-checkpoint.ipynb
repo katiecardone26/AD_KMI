{
 "cells": [
  {
   "cell_type": "markdown",
   "id": "37c3eee3-2249-40f4-87cf-9201fde1d1b0",
   "metadata": {},
   "source": [
    "# load packages"
   ]
  },
  {
   "cell_type": "code",
   "execution_count": null,
   "id": "a0980729-aafd-46d0-8831-cd9f9c7ba698",
   "metadata": {},
   "outputs": [],
   "source": [
    "import pandas as pd"
   ]
  },
  {
   "cell_type": "markdown",
   "id": "6fefcb16-4d0d-4bec-802b-c74f7dd6344a",
   "metadata": {},
   "source": [
    "# read in input files"
   ]
  },
  {
   "cell_type": "code",
   "execution_count": null,
   "id": "7acec808-7044-4e4e-9a9b-6f7d301b8f2f",
   "metadata": {},
   "outputs": [],
   "source": [
    "id_map = pd.read_csv('ADSP/MAP_FILES/AMP-AD_IDs_17k.csv')\n",
    "id_map.head()"
   ]
  },
  {
   "cell_type": "code",
   "execution_count": null,
   "id": "bf04ad90-d3b6-4427-8b88-1b11916b2480",
   "metadata": {},
   "outputs": [],
   "source": [
    "biospec = pd.read_csv('MSBB/Data/Metadata/MSBB_biospecimen_metadata.csv')\n",
    "biospec.head()"
   ]
  },
  {
   "cell_type": "code",
   "execution_count": null,
   "id": "ae34c481-8380-4706-8e55-227cfaf023df",
   "metadata": {},
   "outputs": [],
   "source": [
    "adsp_pheno = pd.read_csv('ADSP/v11_122023/v11_CombinedPhenotypes/ADSPIntegratedPhenotypes_DS_2023.08.08.csv',\n",
    "                         low_memory = False)\n",
    "adsp_pheno.head()"
   ]
  },
  {
   "cell_type": "markdown",
   "id": "1d11474f-d996-42cf-beb3-40dc51976cea",
   "metadata": {},
   "source": [
    "# filter id map to MSBB"
   ]
  },
  {
   "cell_type": "code",
   "execution_count": null,
   "id": "9766dc61-d55b-49e0-8f7f-65d23baa7757",
   "metadata": {},
   "outputs": [],
   "source": [
    "id_map_msbb = id_map[id_map['sample_key'].str.contains('MSBB')]\n",
    "print(len(id_map_msbb.index))\n",
    "print(len(id_map_msbb['sample_key'].unique()))\n",
    "print(len(id_map_msbb['subject_key'].unique()))\n",
    "print(len(id_map_msbb['AlternateID'].unique()))\n",
    "id_map_msbb.head()"
   ]
  },
  {
   "cell_type": "markdown",
   "id": "cc6134ed-e011-4af4-8cd7-811c1412b371",
   "metadata": {},
   "source": [
    "## see if all map to pheno"
   ]
  },
  {
   "cell_type": "raw",
   "id": "1a7a6c20-09fc-4765-b8f5-20927f53b2b9",
   "metadata": {},
   "source": [
    "the duplicate MSBB ids do not map"
   ]
  },
  {
   "cell_type": "code",
   "execution_count": null,
   "id": "28931408-4d6a-486e-9333-91de9347e2ad",
   "metadata": {},
   "outputs": [],
   "source": [
    "adsp_pheno_id_map_msbb = adsp_pheno[adsp_pheno['SampleID'].isin(id_map_msbb['sample_key'])]\n",
    "print(len(adsp_pheno_id_map_msbb.index))\n",
    "adsp_pheno_id_map_msbb.head()"
   ]
  },
  {
   "cell_type": "code",
   "execution_count": null,
   "id": "caf45847-6c1b-450f-9c1c-9c9b96aa8151",
   "metadata": {},
   "outputs": [],
   "source": [
    "id_map_msbb[~id_map_msbb['sample_key'].isin(adsp_pheno_id_map_msbb['SampleID'])]"
   ]
  },
  {
   "cell_type": "code",
   "execution_count": null,
   "id": "0fd60475-c51b-4f84-8444-d09bd1a7dd37",
   "metadata": {
    "scrolled": true
   },
   "outputs": [],
   "source": [
    "id_map_msbb[~id_map_msbb['sample_key'].isin(adsp_pheno_id_map_msbb['SampleID'])]"
   ]
  },
  {
   "cell_type": "code",
   "execution_count": null,
   "id": "ae6c110a-3866-421e-9c58-15bf5e3f3ed5",
   "metadata": {},
   "outputs": [],
   "source": [
    "adsp_pheno[adsp_pheno['SUBJID'].isin(['G-MSBB-MB000281', 'G-MSBB-MB000286'])]"
   ]
  },
  {
   "cell_type": "markdown",
   "id": "20576d04-aa86-4c96-a045-36c726e42092",
   "metadata": {},
   "source": [
    "## figure out duplicates"
   ]
  },
  {
   "cell_type": "code",
   "execution_count": null,
   "id": "2838c65a-a013-4ecf-b7da-a52106fc0b73",
   "metadata": {},
   "outputs": [],
   "source": [
    "dup = id_map_msbb[id_map_msbb.duplicated('subject_key', keep = False)].sort_values(by = ['subject_key'])\n",
    "dup"
   ]
  },
  {
   "cell_type": "code",
   "execution_count": null,
   "id": "112f8003-c734-411c-8499-88d7a78df6c5",
   "metadata": {},
   "outputs": [],
   "source": [
    "dup[~dup['sample_key'].isin(adsp_pheno_id_map_msbb['SampleID'])]"
   ]
  },
  {
   "cell_type": "code",
   "execution_count": null,
   "id": "529aeb0d-f971-4ccc-a794-64576ca3b84f",
   "metadata": {},
   "outputs": [],
   "source": [
    "dup[dup['sample_key'].isin(adsp_pheno_id_map_msbb['SampleID'])]"
   ]
  },
  {
   "cell_type": "markdown",
   "id": "7d815e54-95b8-4657-b033-804412a4b5cc",
   "metadata": {},
   "source": [
    "## filter map to adsp pheno"
   ]
  },
  {
   "cell_type": "code",
   "execution_count": null,
   "id": "6d40384d-bf7a-4dc9-a2a9-a628889f351a",
   "metadata": {},
   "outputs": [],
   "source": [
    "id_map_msbb_adsp = id_map_msbb[id_map_msbb['sample_key'].isin(adsp_pheno['SampleID'])]\n",
    "print(len(id_map_msbb_adsp.index))\n",
    "print(len(id_map_msbb_adsp['sample_key'].unique()))\n",
    "print(len(id_map_msbb_adsp['subject_key'].unique()))\n",
    "print(len(id_map_msbb_adsp['AlternateID'].unique()))\n",
    "id_map_msbb_adsp.head()"
   ]
  },
  {
   "cell_type": "markdown",
   "id": "842e703b-fba0-4bd0-b517-427cd36cbe14",
   "metadata": {},
   "source": [
    "# map MSBB to ID map"
   ]
  },
  {
   "cell_type": "markdown",
   "id": "145d4a9f-157a-44bf-8de7-70a122f481c1",
   "metadata": {},
   "source": [
    "## rename columns"
   ]
  },
  {
   "cell_type": "code",
   "execution_count": null,
   "id": "101bb0ef-706e-416c-acf1-fc25a0711ae2",
   "metadata": {},
   "outputs": [],
   "source": [
    "id_map_msbb_adsp.rename(columns = {'sample_key' : 'SampleID',\n",
    "                                   'subject_key' : 'SUBJID',\n",
    "                                   'AlternateID' : 'individualID'}, inplace = True)\n",
    "id_map_msbb_adsp.drop(columns = ['AMP-AD_ID'], inplace = True)\n",
    "id_map_msbb_adsp.head()"
   ]
  },
  {
   "cell_type": "code",
   "execution_count": null,
   "id": "52e9f13c-f986-49bf-a412-6543c912d7a2",
   "metadata": {},
   "outputs": [],
   "source": [
    "msbb_adsp = id_map_msbb_adsp.merge(biospec, on = 'individualID', how = 'inner')\n",
    "print(len(msbb_adsp['individualID'].unique()))\n",
    "msbb_adsp.head()"
   ]
  },
  {
   "cell_type": "markdown",
   "id": "5c253fd2-df84-4ea4-bb5d-776ac09b766b",
   "metadata": {},
   "source": [
    "# subset"
   ]
  },
  {
   "cell_type": "code",
   "execution_count": null,
   "id": "3f2c9f1d-7cd3-4fa8-b749-287fd888ae38",
   "metadata": {},
   "outputs": [],
   "source": [
    "msbb_adsp_sub = msbb_adsp[['SampleID', 'SUBJID', 'individualID', 'specimenID']]"
   ]
  },
  {
   "cell_type": "markdown",
   "id": "f7e3c95f-84d6-4e92-aa53-9d5e27673126",
   "metadata": {},
   "source": [
    "# export"
   ]
  },
  {
   "cell_type": "code",
   "execution_count": null,
   "id": "ce8d6258-ca0b-4594-8c34-345027d3d8be",
   "metadata": {},
   "outputs": [],
   "source": [
    "msbb_adsp.to_csv('msbb/MSBB_biospecimen_metadata.ADSP_ID.csv',\n",
    "                 index = None) d"
   ]
  },
  {
   "cell_type": "code",
   "execution_count": null,
   "id": "dbd31698-a5ec-467b-a967-423ff9d1790d",
   "metadata": {},
   "outputs": [],
   "source": [
    "msbb_adsp_sub.to_csv('msbb/MSBB.ADSP.ID_map.csv',\n",
    "                     index = None)"
   ]
  },
  {
   "cell_type": "code",
   "execution_count": null,
   "id": "6d88a595-9d48-4288-96b3-86b1c4e81139",
   "metadata": {},
   "outputs": [],
   "source": []
  }
 ],
 "metadata": {
  "kernelspec": {
   "display_name": "Python 3 (ipykernel)",
   "language": "python",
   "name": "python3"
  },
  "language_info": {
   "codemirror_mode": {
    "name": "ipython",
    "version": 3
   },
   "file_extension": ".py",
   "mimetype": "text/x-python",
   "name": "python",
   "nbconvert_exporter": "python",
   "pygments_lexer": "ipython3",
   "version": "3.12.3"
  }
 },
 "nbformat": 4,
 "nbformat_minor": 5
}

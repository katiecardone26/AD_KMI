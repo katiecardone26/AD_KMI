{
 "cells": [
  {
   "cell_type": "markdown",
   "id": "2632cbf5-696f-4781-be7d-f1b9656f4441",
   "metadata": {},
   "source": [
    "# load packages"
   ]
  },
  {
   "cell_type": "code",
   "execution_count": null,
   "id": "7d73edb6-d553-4e14-af2b-9012000cb06c",
   "metadata": {},
   "outputs": [],
   "source": [
    "import pandas as pd"
   ]
  },
  {
   "cell_type": "markdown",
   "id": "a4dc54a3-63ff-45b5-8856-e6201ff7f9e1",
   "metadata": {},
   "source": [
    "# read in input files"
   ]
  },
  {
   "cell_type": "code",
   "execution_count": null,
   "id": "b5003edb-8fd9-4312-b1a6-afc03550df86",
   "metadata": {},
   "outputs": [],
   "source": [
    "biospec = pd.read_csv('rosmap/MetaData/ROSMAP_biospecimen_metadata.csv')\n",
    "biospec.head()"
   ]
  },
  {
   "cell_type": "code",
   "execution_count": null,
   "id": "bd1c8ee0-3b9d-42ac-bf2a-4b9f85a784cc",
   "metadata": {},
   "outputs": [],
   "source": [
    "clinical = pd.read_csv('rosmap/Metadata/ROSMAP_clinical.csv')\n",
    "clinical.head()"
   ]
  },
  {
   "cell_type": "code",
   "execution_count": null,
   "id": "2a73d832-574b-4849-b7f3-1a35e2dc7220",
   "metadata": {},
   "outputs": [],
   "source": [
    "adsp = pd.read_csv('ADSP/MAP_FILES/ROSMAP_ADSPID_mapping.csv')\n",
    "adsp.head()"
   ]
  },
  {
   "cell_type": "code",
   "execution_count": null,
   "id": "f5b223b6-d677-42d2-a38f-4674d9a1b379",
   "metadata": {},
   "outputs": [],
   "source": [
    "adsp_ids = pd.read_csv('ADSP/v11_122023/v11_CombinedPhenotypes/ADSPIntegratedPhenotypes_DS_2023.08.08.csv',\n",
    "                      usecols = ['SampleID','SUBJID'])\n",
    "adsp_ids.head()"
   ]
  },
  {
   "cell_type": "markdown",
   "id": "9dc8cb73-b773-4423-a206-ea82cf0153ff",
   "metadata": {},
   "source": [
    "# create id map"
   ]
  },
  {
   "cell_type": "markdown",
   "id": "7934278e-9e3c-46df-a89a-3d3c12fe0e56",
   "metadata": {},
   "source": [
    "## create rosmap id column in adsp file"
   ]
  },
  {
   "cell_type": "code",
   "execution_count": null,
   "id": "2bc3a2c4-9659-481e-98e7-2660f118eba4",
   "metadata": {},
   "outputs": [],
   "source": [
    "adsp['specimenID'] = adsp['cohort_key'] + adsp['subject_key_original'].astype(str)\n",
    "adsp.drop(columns = ['cohort_key', 'subject_key_original'], inplace = True)\n",
    "adsp.rename(columns = {'subject_key' : 'SUBJID'}, inplace = True)\n",
    "print(len(adsp.index))\n",
    "adsp.head()"
   ]
  },
  {
   "cell_type": "markdown",
   "id": "2570105d-ff0b-4461-a27a-e0e323196995",
   "metadata": {},
   "source": [
    "## merge w adsp sample IDs"
   ]
  },
  {
   "cell_type": "code",
   "execution_count": null,
   "id": "54c912fa-8683-4758-80cc-6b475a1b9229",
   "metadata": {},
   "outputs": [],
   "source": [
    "adsp_all = adsp_ids.merge(adsp, on = 'SUBJID', how = 'inner')\n",
    "print(len(adsp_all.index))\n",
    "adsp_all.head()"
   ]
  },
  {
   "cell_type": "markdown",
   "id": "af18a999-5b0a-4e3e-b85f-5bb530c91352",
   "metadata": {},
   "source": [
    "## subset clinical file"
   ]
  },
  {
   "cell_type": "code",
   "execution_count": null,
   "id": "829179b7-6fb5-4225-aba2-b75fb0b6bf39",
   "metadata": {},
   "outputs": [],
   "source": [
    "clinical['specimenID'] = clinical['Study'] + clinical['projid'].astype(str)\n",
    "clinical_sub = clinical[['individualID', 'specimenID']]\n",
    "print(len(clinical_sub.index))\n",
    "clinical_sub.head()"
   ]
  },
  {
   "cell_type": "markdown",
   "id": "5ebc3ba8-4111-46bd-8948-b5c323451157",
   "metadata": {},
   "source": [
    "## merge adsp + clinical"
   ]
  },
  {
   "cell_type": "code",
   "execution_count": null,
   "id": "2c96d355-d154-46ea-ada9-c0b1fcc6ea60",
   "metadata": {},
   "outputs": [],
   "source": [
    "adsp_clinical = clinical_sub.merge(adsp_all, on = 'specimenID', how = 'inner')\n",
    "print(len(adsp_clinical.index))\n",
    "adsp_clinical.head()"
   ]
  },
  {
   "cell_type": "markdown",
   "id": "e4c53778-2f72-4c66-89d8-7510b0ad6802",
   "metadata": {},
   "source": [
    "## check for duplicates"
   ]
  },
  {
   "cell_type": "code",
   "execution_count": null,
   "id": "79870582-8357-4c27-a7b6-677934129ce0",
   "metadata": {},
   "outputs": [],
   "source": [
    "print(len(adsp_clinical.index))\n",
    "print(len(adsp_clinical['individualID'].unique()))\n",
    "print(len(adsp_clinical['specimenID'].unique()))\n",
    "print(len(adsp_clinical['ADSP_ID'].unique()))"
   ]
  },
  {
   "cell_type": "code",
   "execution_count": null,
   "id": "f202d89f-7c5a-47ae-9da0-6485d55969c0",
   "metadata": {},
   "outputs": [],
   "source": []
  }
 ],
 "metadata": {
  "kernelspec": {
   "display_name": "Python 3 (ipykernel)",
   "language": "python",
   "name": "python3"
  },
  "language_info": {
   "codemirror_mode": {
    "name": "ipython",
    "version": 3
   },
   "file_extension": ".py",
   "mimetype": "text/x-python",
   "name": "python",
   "nbconvert_exporter": "python",
   "pygments_lexer": "ipython3",
   "version": "3.12.3"
  }
 },
 "nbformat": 4,
 "nbformat_minor": 5
}

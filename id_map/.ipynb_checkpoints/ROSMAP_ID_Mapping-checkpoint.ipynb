{
 "cells": [
  {
   "cell_type": "markdown",
   "id": "fc0bcffa-2eca-4b1f-aa63-df1619fd2b63",
   "metadata": {},
   "source": [
    "# load packages"
   ]
  },
  {
   "cell_type": "code",
   "execution_count": null,
   "id": "80d97194-c540-4191-b9e7-8f8200d08975",
   "metadata": {},
   "outputs": [],
   "source": [
    "library(tidyverse)"
   ]
  },
  {
   "cell_type": "markdown",
   "id": "51b4f90c-1c53-4cba-8f7f-dadb4a49205f",
   "metadata": {},
   "source": [
    "# read in input files"
   ]
  },
  {
   "cell_type": "code",
   "execution_count": null,
   "id": "d017b7df-2e69-4ba3-be80-ffb110b7665f",
   "metadata": {},
   "outputs": [],
   "source": [
    "vcf_id = read.csv('rosmap/ID_mapping/ROSMAP_VCF_IDs.txt',\n",
    "                  header = F)\n",
    "head(vcf_id)"
   ]
  },
  {
   "cell_type": "code",
   "execution_count": null,
   "id": "040675d3-2d97-4589-8151-9a432b5003ff",
   "metadata": {},
   "outputs": [],
   "source": [
    "rnaseq_id = read.csv('rosmap/ID_mapping/ROSMAP_RNAseq_IDs.txt')\n",
    "head(rnaseq_id)"
   ]
  },
  {
   "cell_type": "code",
   "execution_count": null,
   "id": "e2f9c7d0-06e5-45b6-bef3-ef9ff28a45a0",
   "metadata": {},
   "outputs": [],
   "source": [
    "biospec = read.csv('rosmap/MetaData/ROSMAP_biospecimen_metadata.csv')\n",
    "head(biospec)"
   ]
  },
  {
   "cell_type": "code",
   "execution_count": null,
   "id": "bc6cfc55-afde-47d5-b8ba-870400eaedea",
   "metadata": {},
   "outputs": [],
   "source": [
    "wgs_data = read.csv('rosmap/Metadata/ROSMAP_assay_wholeGenomeSeq_metadata.csv')\n",
    "head(wgs_data)"
   ]
  },
  {
   "cell_type": "code",
   "execution_count": null,
   "id": "4fa41c27-2ef2-4799-8599-180e4756cf6a",
   "metadata": {},
   "outputs": [],
   "source": [
    "wgs_qc = read.csv('rosmap/Whole_Genome_Sequencing/WGS_sample_QC_info.csv')\n",
    "head(wgs_qc)\n",
    "nrow(wgs_qc)"
   ]
  },
  {
   "cell_type": "code",
   "execution_count": null,
   "id": "29e7f459-888b-48ef-9d03-881ebc0559af",
   "metadata": {},
   "outputs": [],
   "source": [
    "pheno = read.csv('rosmap/Metadata/ROSMAP_clinical.csv')\n",
    "head(pheno)"
   ]
  },
  {
   "cell_type": "code",
   "execution_count": null,
   "id": "f8026cb7-75f2-42da-a70a-87c7fac229e7",
   "metadata": {},
   "outputs": [],
   "source": [
    "array = read.csv('rosmap/Genomic_Variants_SNP_Array/Raw/ROSMAP_arrayGenotype.fam',\n",
    "                 sep = '',\n",
    "                 header = F)\n",
    "head(array)"
   ]
  },
  {
   "cell_type": "code",
   "execution_count": null,
   "id": "cf0845bd-6800-4fff-b327-95a97c036e50",
   "metadata": {},
   "outputs": [],
   "source": [
    "adsp = read.csv('ADSP/MAP_FILES/ROSMAP_ADSPID_mapping.csv')\n",
    "head(adsp)\n",
    "nrow(adsp)"
   ]
  },
  {
   "cell_type": "code",
   "execution_count": null,
   "id": "162f9e0c-01bc-4d3c-8f3a-9a08c64732e3",
   "metadata": {},
   "outputs": [],
   "source": [
    "adsp_wgs_list = read.csv('rosmap/ID_mapping/ROSMAP_ADSP_WGS_samples.txt',\n",
    "                         sep = '',\n",
    "                         header = F)\n",
    "head(adsp_wgs_list)"
   ]
  },
  {
   "cell_type": "code",
   "execution_count": null,
   "id": "1df304e0-240d-4a9c-9dc1-a0ba906ac5a2",
   "metadata": {},
   "outputs": [],
   "source": [
    "adsp_pheno = read.csv('ADSP/v11_122023/v11_CombinedPhenotypes/ADSPIntegratedPhenotypes_DS_2023.08.08.csv')\n",
    "head(adsp_pheno)"
   ]
  },
  {
   "cell_type": "code",
   "execution_count": null,
   "id": "236ce59f-3c51-49f8-b0ae-8163d9de459c",
   "metadata": {},
   "outputs": [],
   "source": [
    "adsp_qc = read.csv('/project/ritchie/datasets/ADSP/v11_122023/231211-ADSPv11_Release/downloads/v11-dl-dir/gcad.r4.wgs.36361.VCPA1.1.2022.08.15.v3.qcmetrics.seq.ALL.txt',\n",
    "                   sep = '\\t')\n",
    "head(adsp_qc)"
   ]
  },
  {
   "cell_type": "code",
   "execution_count": null,
   "id": "4475f559-7220-456f-9df4-63269fc0e5a8",
   "metadata": {},
   "outputs": [],
   "source": [
    "methylation = read.csv('/project/ritchie/projects/AD_KMI/pathway_score/rosmap/ID_mapping/ROSMAP.Methylation.IDs.txt')\n",
    "nrow(methylation)\n",
    "length(unique(methylation$TargetID))\n",
    "head(methylation)"
   ]
  },
  {
   "cell_type": "markdown",
   "id": "469e2b38-b372-4764-afd6-825b6a6aadbe",
   "metadata": {},
   "source": [
    "# remove WGS samples that didn't pass QC"
   ]
  },
  {
   "cell_type": "markdown",
   "id": "b20fe2c7-994b-4e0c-8654-15e1184a9c40",
   "metadata": {},
   "source": [
    "## filter to samples that failed"
   ]
  },
  {
   "cell_type": "code",
   "execution_count": null,
   "id": "fe4be6f8-855f-440b-b824-0b97eb6e1e85",
   "metadata": {},
   "outputs": [],
   "source": [
    "unique(wgs_qc$QC)"
   ]
  },
  {
   "cell_type": "code",
   "execution_count": null,
   "id": "7840ad83-81e0-4c17-add0-25f02ffe9c24",
   "metadata": {},
   "outputs": [],
   "source": [
    "wgs_qc %>%\n",
    "filter(grepl('Fail',QC)) %>%\n",
    "filter(grepl('identical',QC))"
   ]
  },
  {
   "cell_type": "code",
   "execution_count": null,
   "id": "9e4f4e63-50f4-4170-aed8-f59debaa76d0",
   "metadata": {},
   "outputs": [],
   "source": [
    "wgs_fail_qc = wgs_qc %>%\n",
    "filter(grepl('Fail',QC))\n",
    "head(wgs_fail_qc)\n",
    "nrow(wgs_fail_qc)"
   ]
  },
  {
   "cell_type": "markdown",
   "id": "6f5ab8f6-0dae-41e9-b2eb-df448e80b3d9",
   "metadata": {},
   "source": [
    "## remove samples"
   ]
  },
  {
   "cell_type": "code",
   "execution_count": null,
   "id": "fe02664d-be8c-4a70-9881-6ef1990004b1",
   "metadata": {},
   "outputs": [],
   "source": [
    "vcf_pass_qc=data.frame(vcf_id[!(vcf_id$V1 %in% wgs_fail_qc$WGS_id),])\n",
    "colnames(vcf_pass_qc) = c('ID')\n",
    "head(vcf_pass_qc)\n",
    "nrow(vcf_pass_qc)\n",
    "nrow(vcf_id)"
   ]
  },
  {
   "cell_type": "markdown",
   "id": "dc44f375-2861-4973-91a2-8e4a59b63d75",
   "metadata": {},
   "source": [
    "# fix duplicates"
   ]
  },
  {
   "cell_type": "markdown",
   "id": "e809ecb8-0138-4700-8a6e-8f990fced00b",
   "metadata": {},
   "source": [
    "## filter to duplicates"
   ]
  },
  {
   "cell_type": "code",
   "execution_count": null,
   "id": "8398d815-f363-4dca-a670-cf8a2a82fd12",
   "metadata": {},
   "outputs": [],
   "source": [
    "wgs_dup = wgs_qc %>%\n",
    "filter(grepl('identical', Duplicate)) %>%\n",
    "filter(!grepl('Fail', QC))\n",
    "nrow(wgs_dup)\n",
    "print(wgs_dup)"
   ]
  },
  {
   "cell_type": "raw",
   "id": "5d54e014-57e7-4727-8bc8-4db7f3561c6a",
   "metadata": {},
   "source": [
    "# duplicate notes\n",
    "SM-CTDVR = SM-CJFO9\n",
    "SM-CTEGE = SM-CTEN4\n",
    "SM-CJEI2 = SM-CTEFA\n",
    "SM-CJEL3 = SM-CTELW\n",
    "SM-CTEGU = SM-CTDRP\n",
    "SM-CTEDF = SM-CJK43\n",
    "SM-CTEEX = SM-CJK43\n",
    "SM-CJFKP = SM-CTDVH"
   ]
  },
  {
   "cell_type": "markdown",
   "id": "c9e39c27-965a-47fb-8167-8d4d12d5c513",
   "metadata": {
    "jp-MarkdownHeadingCollapsed": true
   },
   "source": [
    "## check to see if dups still exist even after removing samples that failed QC"
   ]
  },
  {
   "cell_type": "code",
   "execution_count": null,
   "id": "28caff67-4d6a-49ef-bcac-2ba80257e7cd",
   "metadata": {},
   "outputs": [],
   "source": [
    "wgs_qc%>%\n",
    "filter(!grepl('Fail',QC))%>%\n",
    "filter(grepl('SM-CTDVR',WGS_id))%>%\n",
    "head()"
   ]
  },
  {
   "cell_type": "code",
   "execution_count": null,
   "id": "3df31f31-16d7-4673-ba6e-deab5c37be6b",
   "metadata": {},
   "outputs": [],
   "source": [
    "wgs_qc%>%\n",
    "filter(!grepl('Fail',QC))%>%\n",
    "filter(grepl('SM-CTEGE',WGS_id))"
   ]
  },
  {
   "cell_type": "code",
   "execution_count": null,
   "id": "24ef6d51-d108-47f2-bd59-292b4e1a49ac",
   "metadata": {},
   "outputs": [],
   "source": [
    "wgs_qc%>%\n",
    "filter(!grepl('Fail',QC))%>%\n",
    "filter(grepl('SM-CJEI2',WGS_id))"
   ]
  },
  {
   "cell_type": "code",
   "execution_count": null,
   "id": "6b74311b-5228-4163-a7f2-37b471b2ce59",
   "metadata": {},
   "outputs": [],
   "source": [
    "wgs_qc%>%\n",
    "filter(!grepl('Fail',QC))%>%\n",
    "filter(grepl('SM-CJEL3',WGS_id))"
   ]
  },
  {
   "cell_type": "code",
   "execution_count": null,
   "id": "d3fb2da1-d027-45c9-9b2e-db6ae68680be",
   "metadata": {},
   "outputs": [],
   "source": [
    "wgs_qc%>%\n",
    "filter(!grepl('Fail',QC))%>%\n",
    "filter(grepl('SM-CTEGU',WGS_id))"
   ]
  },
  {
   "cell_type": "code",
   "execution_count": null,
   "id": "2a397a11-5c83-442d-8fcf-a58c6a39bfb7",
   "metadata": {},
   "outputs": [],
   "source": [
    "wgs_qc%>%\n",
    "filter(!grepl('Fail',QC))%>%\n",
    "filter(grepl('SM-CTEDF',WGS_id))"
   ]
  },
  {
   "cell_type": "code",
   "execution_count": null,
   "id": "7a1811c2-04f5-40ad-a919-de1e7401f211",
   "metadata": {},
   "outputs": [],
   "source": [
    "wgs_qc%>%\n",
    "filter(!grepl('Fail',QC))%>%\n",
    "filter(grepl('SM-CTEEX',WGS_id))"
   ]
  },
  {
   "cell_type": "code",
   "execution_count": null,
   "id": "9a7f1f5f-5bfb-4151-9d46-2d27649475ac",
   "metadata": {},
   "outputs": [],
   "source": [
    "wgs_qc%>%\n",
    "filter(!grepl('Fail',QC))%>%\n",
    "filter(grepl('SM-CJFKP',WGS_id))"
   ]
  },
  {
   "cell_type": "raw",
   "id": "17d17c48-82ae-46e3-84ed-2767e540639a",
   "metadata": {},
   "source": [
    "# all duplicates were removed after removing samples that failed QC so were good."
   ]
  },
  {
   "cell_type": "markdown",
   "id": "ae1e0a94-9558-485d-8cd7-05bc7ebfd715",
   "metadata": {},
   "source": [
    "## see how many samples have RNAseq based on the table"
   ]
  },
  {
   "cell_type": "code",
   "execution_count": null,
   "id": "b7e189ad-9be1-41f2-9bc1-8498ac4daa0e",
   "metadata": {},
   "outputs": [],
   "source": [
    "wgs_qc %>%\n",
    "filter(!grepl('Fail', QC)) %>%\n",
    "filter(is.na(Concordant_with_RNAseq) == F) %>%\n",
    "head()\n",
    "wgs_qc%>%\n",
    "filter(!grepl('Fail', QC)) %>%\n",
    "filter(is.na(Concordant_with_RNAseq) == F) %>%\n",
    "nrow()"
   ]
  },
  {
   "cell_type": "markdown",
   "id": "28b26eec-63be-4737-a309-38234248c01c",
   "metadata": {},
   "source": [
    "# create vcf individual ID map"
   ]
  },
  {
   "cell_type": "markdown",
   "id": "e865dcf8-cc1f-47e5-9d7d-57a3c642d2d3",
   "metadata": {},
   "source": [
    "## filter to individuals in VCF pass QC file"
   ]
  },
  {
   "cell_type": "code",
   "execution_count": null,
   "id": "bbe0cdf2-6a2b-473d-972d-101d5f799d2a",
   "metadata": {
    "scrolled": true
   },
   "outputs": [],
   "source": [
    "biospec_vcf = biospec[biospec$specimenID %in% vcf_pass_qc$ID,]\n",
    "nrow(biospec_vcf)\n",
    "length(unique(biospec_vcf$individualID))\n",
    "nrow(vcf_pass_qc)\n",
    "head(biospec_vcf)"
   ]
  },
  {
   "cell_type": "markdown",
   "id": "9f2d5dee-457c-406a-8f25-ff64904562d9",
   "metadata": {},
   "source": [
    "## check out duplicates"
   ]
  },
  {
   "cell_type": "code",
   "execution_count": null,
   "id": "1ea5fe6e-bf3b-432f-a6f9-9247e7c6361e",
   "metadata": {},
   "outputs": [],
   "source": [
    "biospec_vcf_id = biospec_vcf %>%\n",
    "select(individualID)\n",
    "head(biospec_vcf_id)"
   ]
  },
  {
   "cell_type": "code",
   "execution_count": null,
   "id": "b3a810c4-0f34-4765-afa5-a2005cff6235",
   "metadata": {},
   "outputs": [],
   "source": [
    "write.table(biospec_vcf_id,\n",
    "            'rosmap/ID_mapping/biospec_vcf_pass_qc_poss_dups.txt',\n",
    "            sep = '\\t',\n",
    "            col.names = F,\n",
    "            row.names = F,\n",
    "            quote = F)"
   ]
  },
  {
   "cell_type": "code",
   "execution_count": null,
   "id": "e1e5a83e-919e-4109-a997-7d1862044203",
   "metadata": {},
   "outputs": [],
   "source": [
    "biospec_vcf_id_dup_list = read.csv('rosmap/ID_mapping/biospec_vcf_pass_qc_dups.txt',\n",
    "                                   header = F)\n",
    "head(biospec_vcf_id_dup_list)"
   ]
  },
  {
   "cell_type": "code",
   "execution_count": null,
   "id": "62d48e20-5f80-40f5-90c9-5b0a5ece3bb5",
   "metadata": {},
   "outputs": [],
   "source": [
    "biospec_vcf_id_dups = biospec_vcf[biospec_vcf$individualID %in% biospec_vcf_id_dup_list$V1,]\n",
    "nrow(biospec_vcf_id_dups)\n",
    "biospec_vcf_id_dups %>%\n",
    "arrange(individualID)"
   ]
  },
  {
   "cell_type": "raw",
   "id": "7ab2a42e-bf05-415f-93b1-f0c1c9cfb99e",
   "metadata": {},
   "source": [
    "# duplicate notes\n",
    "SM-CJIX3 = SM-CTEE2\n",
    "SM-CJFNH = SM-CTED9\t\n",
    "SM-CJGGL = SM-CTEN3\n",
    "SM-CJK4Y = SM-CTEI8\n",
    "SM-CJEFV = SM-CTEMN\n",
    "SM-CJEGK = SM-CTEIJ"
   ]
  },
  {
   "cell_type": "markdown",
   "id": "1c0a3052-676a-4450-8e95-affce5468b27",
   "metadata": {},
   "source": [
    "## fix duplicates"
   ]
  },
  {
   "cell_type": "markdown",
   "id": "581f7d22-3483-4d95-bfc2-d5a4c9bf820f",
   "metadata": {},
   "source": [
    "### filter to duplicates"
   ]
  },
  {
   "cell_type": "code",
   "execution_count": null,
   "id": "b00ecad4-cb33-4a05-bb85-a35cd40a67b1",
   "metadata": {},
   "outputs": [],
   "source": [
    "wgs_qc_dup = wgs_qc[wgs_qc$WGS_id %in% biospec_vcf_id_dups$specimenID,]\n",
    "wgs_qc_dup"
   ]
  },
  {
   "cell_type": "markdown",
   "id": "d902861e-d41e-497b-94d9-4fb2273264e0",
   "metadata": {},
   "source": [
    "### keep duplicate with highest GQN"
   ]
  },
  {
   "cell_type": "code",
   "execution_count": null,
   "id": "62109989-0561-4c89-9c34-c0b06f5d44af",
   "metadata": {},
   "outputs": [],
   "source": [
    "wgs_qc_dup_fixed = wgs_qc_dup %>%\n",
    "filter(grepl('SM-CJK4Y|SM-CTEE2|SM-CTEN3|SM-CTED9|SM-CTEIJ|SM-CTEMN', WGS_id))\n",
    "wgs_qc_dup_fixed"
   ]
  },
  {
   "cell_type": "markdown",
   "id": "5c6d3ffc-1521-4082-bb90-80f71b8ac641",
   "metadata": {},
   "source": [
    "### remove dups from biospecimen file"
   ]
  },
  {
   "cell_type": "code",
   "execution_count": null,
   "id": "8f9336c7-5956-41d9-b08b-7d67eeca4d19",
   "metadata": {},
   "outputs": [],
   "source": [
    "biospec_vcf_no_dups = biospec_vcf[!(biospec_vcf$individualID %in% biospec_vcf_id_dup_list$V1),]\n",
    "nrow(biospec_vcf_no_dups)\n",
    "nrow(biospec_vcf)"
   ]
  },
  {
   "cell_type": "markdown",
   "id": "4607d59f-b9d4-4b6d-9e34-5307b8996dd3",
   "metadata": {},
   "source": [
    "### filter to fixed dups in biospecimen file"
   ]
  },
  {
   "cell_type": "code",
   "execution_count": null,
   "id": "32d671e6-ec65-4502-9568-4ca0d69b5a78",
   "metadata": {},
   "outputs": [],
   "source": [
    "biospec_vcf_new_dups = biospec_vcf[biospec_vcf$specimenID %in% wgs_qc_dup_fixed$WGS_id,]\n",
    "nrow(wgs_qc_dup_fixed)\n",
    "nrow(biospec_vcf_new_dups)"
   ]
  },
  {
   "cell_type": "markdown",
   "id": "6370df1f-f230-45cd-abf2-bee70fc43484",
   "metadata": {},
   "source": [
    "### concatenate files"
   ]
  },
  {
   "cell_type": "code",
   "execution_count": null,
   "id": "72e0307d-3fbd-428f-bcae-68bdc0edd9ad",
   "metadata": {},
   "outputs": [],
   "source": [
    "biospec_vcf_dups_fixed = rbind(biospec_vcf_no_dups,biospec_vcf_new_dups)\n",
    "nrow(biospec_vcf_dups_fixed)\n",
    "length(unique(biospec_vcf_dups_fixed$individualID))"
   ]
  },
  {
   "cell_type": "markdown",
   "id": "f99c60bf-834f-48be-ae89-9f2495be01cd",
   "metadata": {},
   "source": [
    "# create map for RNAseq sample"
   ]
  },
  {
   "cell_type": "markdown",
   "id": "bf67fb28-617c-44de-ac06-7944b96391cc",
   "metadata": {},
   "source": [
    "## get unique RNA seq samples"
   ]
  },
  {
   "cell_type": "code",
   "execution_count": null,
   "id": "085f74b2-4eca-4c4f-9185-77f931bca744",
   "metadata": {},
   "outputs": [],
   "source": [
    "rnaseq_unique = rnaseq_id%>%\n",
    "distinct()\n",
    "nrow(rnaseq_unique)"
   ]
  },
  {
   "cell_type": "markdown",
   "id": "af984923-2171-445a-8bdf-370b1a63a948",
   "metadata": {},
   "source": [
    "## check out duplicates"
   ]
  },
  {
   "cell_type": "code",
   "execution_count": null,
   "id": "eb6f84e3-92ac-4d8d-a8a1-c5c23316ff0c",
   "metadata": {},
   "outputs": [],
   "source": [
    "write.table(rnaseq_id,'rosmap/ID_mapping/rnaseq_ids.txt',\n",
    "            sep = '\\t',\n",
    "            col.names = F,\n",
    "            row.names = F,\n",
    "            quote = F)"
   ]
  },
  {
   "cell_type": "code",
   "execution_count": null,
   "id": "d9536993-5145-4643-b10b-ecf48c209b3e",
   "metadata": {},
   "outputs": [],
   "source": [
    "rnaseq_dups = read.csv('rosmap/ID_mapping/rnaseq_ids_dups.txt',\n",
    "                       header = F)\n",
    "head(rnaseq_dups)"
   ]
  },
  {
   "cell_type": "code",
   "execution_count": null,
   "id": "a77aeb20-b3af-486a-9334-4ec858750afd",
   "metadata": {},
   "outputs": [],
   "source": [
    "rnaseq_id[rnaseq_id$individualID %in% rnaseq_dups$V1,]"
   ]
  },
  {
   "cell_type": "code",
   "execution_count": null,
   "id": "903baf53-97e1-4e87-9ea5-077ca7ac90d4",
   "metadata": {},
   "outputs": [],
   "source": [
    "biospec_rnaseq_dup = biospec[biospec$individualID %in% rnaseq_dups$V1,]\n",
    "nrow(biospec_rnaseq_dup)\n",
    "biospec_rnaseq_dup %>%\n",
    "filter(grepl('rnaSeq', assay))"
   ]
  },
  {
   "cell_type": "code",
   "execution_count": null,
   "id": "f5ecfe9d-6578-468e-9489-9c87be1ae496",
   "metadata": {},
   "outputs": [],
   "source": [
    "biospec_rnaseq = biospec[biospec$individualID %in% rnaseq_id$individualID,]\n",
    "biospec_rnaseq %>%\n",
    "filter(grepl('rnaSeq', assay)) %>%\n",
    "group_by(tissue) %>%\n",
    "summarize(n())"
   ]
  },
  {
   "cell_type": "markdown",
   "id": "824ce6a8-bd43-427b-a2de-0903a990e453",
   "metadata": {},
   "source": [
    "## filter"
   ]
  },
  {
   "cell_type": "code",
   "execution_count": null,
   "id": "5ec4af58-3ebc-43a6-81d2-28015971891d",
   "metadata": {},
   "outputs": [],
   "source": [
    "biospec_rnaseq = biospec_vcf_no_dups[biospec_vcf_no_dups$individualID %in% rnaseq_unique$individualID,]\n",
    "nrow(biospec_rnaseq)\n",
    "nrow(biospec_vcf_no_dups)\n",
    "nrow(rnaseq_unique)"
   ]
  },
  {
   "cell_type": "markdown",
   "id": "05e0133e-767c-48ca-9b67-4eec2a269d5e",
   "metadata": {},
   "source": [
    "## check out IDs that didn't map"
   ]
  },
  {
   "cell_type": "code",
   "execution_count": null,
   "id": "16c50d8e-7232-488e-a015-a658ff150863",
   "metadata": {},
   "outputs": [],
   "source": [
    "rnaseq_mismatch = data.frame(rnaseq_id[!(rnaseq_id$individualID %in% biospec_rnaseq$individualID),])\n",
    "colnames(rnaseq_mismatch) = c('individualID')\n",
    "nrow(rnaseq_mismatch)"
   ]
  },
  {
   "cell_type": "code",
   "execution_count": null,
   "id": "09599e7c-8e93-4c33-85eb-ae510f326e41",
   "metadata": {},
   "outputs": [],
   "source": [
    "unique(biospec$assay)"
   ]
  },
  {
   "cell_type": "code",
   "execution_count": null,
   "id": "09aa88c0-df64-4f3c-a997-b554da0048b5",
   "metadata": {},
   "outputs": [],
   "source": [
    "biospec_mismatch = biospec[biospec$individualID %in% rnaseq_mismatch$individualID,]\n",
    "head(biospec_mismatch)"
   ]
  },
  {
   "cell_type": "code",
   "execution_count": null,
   "id": "e86fe964-9089-4712-9e65-1860dbb68dcc",
   "metadata": {},
   "outputs": [],
   "source": [
    "biospec_mismatch_wgs = biospec_mismatch %>%\n",
    "filter(grepl('wholeGenomeSeq', assay))\n",
    "nrow(biospec_mismatch_wgs)"
   ]
  },
  {
   "cell_type": "raw",
   "id": "33eb4bdf-ac57-4ae1-99fa-64e8f5b6084c",
   "metadata": {},
   "source": [
    "53 RNA seq samples don't have WGS data"
   ]
  },
  {
   "cell_type": "code",
   "execution_count": null,
   "id": "a8e05762-cd19-4801-a10c-e655e3fd9ee1",
   "metadata": {},
   "outputs": [],
   "source": [
    "biospec_mismatch_wgs_pass_qc=biospec_mismatch_wgs[!(biospec_mismatch_wgs$specimenID %in% wgs_fail_qc$WGS_id),]\n",
    "nrow(biospec_mismatch_wgs_pass_qc)"
   ]
  },
  {
   "cell_type": "raw",
   "id": "77ac656e-d93e-47fb-bf35-1608eb22253d",
   "metadata": {},
   "source": [
    "5 samples did not pass QC"
   ]
  },
  {
   "cell_type": "code",
   "execution_count": null,
   "id": "760602e8-32e4-40b8-ac56-877f17c6c901",
   "metadata": {},
   "outputs": [],
   "source": [
    "biospec_mismatch_wgs_no_dups=biospec_mismatch_wgs_pass_qc[!(biospec_mismatch_wgs_pass_qc$individualID %in% biospec_vcf_id_dup_list$V1),]\n",
    "nrow(biospec_mismatch_wgs_no_dups)"
   ]
  },
  {
   "cell_type": "code",
   "execution_count": null,
   "id": "07520f84-6a03-4c72-94da-584f1c7a3e1b",
   "metadata": {},
   "outputs": [],
   "source": [
    "biospec_mismatch_wgs_dups = biospec_mismatch_wgs_pass_qc[biospec_mismatch_wgs_pass_qc$individualID %in% biospec_vcf_id_dup_list$V1,]\n",
    "biospec_mismatch_wgs_dups %>%\n",
    "arrange(individualID)"
   ]
  },
  {
   "cell_type": "raw",
   "id": "84e97248-e918-4aa4-8ead-828c6f730028",
   "metadata": {},
   "source": [
    "8 samples were duplicated"
   ]
  },
  {
   "cell_type": "code",
   "execution_count": null,
   "id": "fd2efa22-4fd9-4fb2-8425-959116810471",
   "metadata": {},
   "outputs": [],
   "source": [
    "biospec_mismatch_wgs_no_dups\n",
    "nrow(biospec_mismatch_wgs_no_dups)"
   ]
  },
  {
   "cell_type": "markdown",
   "id": "56480cbe-2578-4e7b-8972-df7fe1284600",
   "metadata": {},
   "source": [
    "## see if we can fix IDs with pheno file"
   ]
  },
  {
   "cell_type": "code",
   "execution_count": null,
   "id": "66a7a36b-ab1e-4d99-8e7e-3f7c7c5a241f",
   "metadata": {},
   "outputs": [],
   "source": [
    "nrow(pheno)"
   ]
  },
  {
   "cell_type": "code",
   "execution_count": null,
   "id": "c0435f41-cf57-4687-b76e-c332eac8c525",
   "metadata": {},
   "outputs": [],
   "source": [
    "pheno_mismatch = pheno[pheno$individualID %in% biospec_mismatch_wgs_no_dups$individualID,]\n",
    "nrow(pheno_mismatch)\n",
    "head(pheno_mismatch)"
   ]
  },
  {
   "cell_type": "code",
   "execution_count": null,
   "id": "5e27d3ec-4cc9-4aa2-9e91-6071b575ccac",
   "metadata": {},
   "outputs": [],
   "source": [
    "pheno_mismatch_sub = pheno_mismatch %>%\n",
    "select(projid,Study,individualID)\n",
    "head(pheno_mismatch_sub)"
   ]
  },
  {
   "cell_type": "code",
   "execution_count": null,
   "id": "f4cac3d9-7716-438c-b9d7-e46c818086c0",
   "metadata": {},
   "outputs": [],
   "source": [
    "pheno_mismatch_wgs = merge(pheno_mismatch_sub,wgs_qc, by = 'projid')\n",
    "nrow(pheno_mismatch_wgs)\n",
    "head(pheno_mismatch_wgs)"
   ]
  },
  {
   "cell_type": "code",
   "execution_count": null,
   "id": "c2932c21-f367-4878-a22d-45e691dcf015",
   "metadata": {},
   "outputs": [],
   "source": [
    "nrow(data.frame(vcf_id[vcf_id$V1 %in% pheno_mismatch_wgs$WGS_id,]))"
   ]
  },
  {
   "cell_type": "code",
   "execution_count": null,
   "id": "8a27ff1b-e431-438f-9517-faf0044c47a8",
   "metadata": {},
   "outputs": [],
   "source": [
    "pheno_mismatch_wgs_sub = pheno_mismatch_wgs %>%\n",
    "select(individualID,WGS_id)"
   ]
  },
  {
   "cell_type": "code",
   "execution_count": null,
   "id": "d7309052-1e33-4a27-ab18-72a793564aaf",
   "metadata": {},
   "outputs": [],
   "source": [
    "biospec_fixed = merge(biospec_mismatch_wgs_no_dups, pheno_mismatch_wgs_sub, by = 'individualID')\n",
    "nrow(biospec_fixed)\n",
    "head(biospec_fixed)"
   ]
  },
  {
   "cell_type": "code",
   "execution_count": null,
   "id": "b54ab75d-7fef-4366-a4b1-f49f8925d0d9",
   "metadata": {},
   "outputs": [],
   "source": [
    "biospec_fixed_sub = biospec_fixed %>%\n",
    "select(individualID,\n",
    "       WGS_id,\n",
    "       specimenIdSource,\n",
    "       samplingDate,\n",
    "       organ,\n",
    "       tissue,\n",
    "       BrodmannArea,\n",
    "       sampleStatus,\n",
    "       tissueWeight,\n",
    "       tissueVolume,\n",
    "       nucleicAcidSource,\n",
    "       cellType,\n",
    "       fastingState,\n",
    "       isPostMortem,\n",
    "       samplingAge,\n",
    "       visitNumber,\n",
    "       assay,\n",
    "       exclude,\n",
    "       excludeReason) %>%\n",
    "rename('specimenID' = 'WGS_id')\n",
    "head(biospec_fixed_sub)"
   ]
  },
  {
   "cell_type": "markdown",
   "id": "c8ea9cdf-f065-4e3c-ba60-a59cddb3583b",
   "metadata": {},
   "source": [
    "## concatenate to make final RNAseq map"
   ]
  },
  {
   "cell_type": "code",
   "execution_count": null,
   "id": "07d56ebf-894f-4b28-b5ff-63ceb493511f",
   "metadata": {},
   "outputs": [],
   "source": [
    "rnaseq_map_final = rbind(biospec_rnaseq, biospec_fixed_sub)\n",
    "nrow(rnaseq_map_final)\n",
    "head(rnaseq_map_final)"
   ]
  },
  {
   "cell_type": "markdown",
   "id": "2a1d8208-568b-42bc-b779-3bd5afc750bb",
   "metadata": {},
   "source": [
    "## subset to IDs"
   ]
  },
  {
   "cell_type": "code",
   "execution_count": null,
   "id": "a400c1e0-1e2c-4ed6-b8c2-a5575b454269",
   "metadata": {},
   "outputs": [],
   "source": [
    "rnaseq_map_final_sub = rnaseq_map_final %>%\n",
    "select(individualID, specimenID)"
   ]
  },
  {
   "cell_type": "markdown",
   "id": "a1f8d096-1803-42e8-9315-8c02f97f6486",
   "metadata": {},
   "source": [
    "## create ID list for plink score"
   ]
  },
  {
   "cell_type": "code",
   "execution_count": null,
   "id": "ffa634fe-c515-413f-a6da-3f253edfa37e",
   "metadata": {},
   "outputs": [],
   "source": [
    "rnaseq_map_final_id = rnaseq_map_final_sub %>%\n",
    "select(specimenID)"
   ]
  },
  {
   "cell_type": "code",
   "execution_count": null,
   "id": "e81a2ab5-0ec9-4d74-aa7c-ba78d47377c9",
   "metadata": {},
   "outputs": [],
   "source": [
    "nrow(rnaseq_map_final_sub[rnaseq_map_final_sub$specimenID %in% vcf_id$V1,])\n",
    "nrow(rnaseq_map_final_sub)"
   ]
  },
  {
   "cell_type": "markdown",
   "id": "d11b08f0-c0d6-4dc2-a210-e4c926db7c47",
   "metadata": {},
   "source": [
    "## export"
   ]
  },
  {
   "cell_type": "code",
   "execution_count": null,
   "id": "8e77d4c3-1985-4a6b-b7c4-10c1efda8736",
   "metadata": {},
   "outputs": [],
   "source": [
    "write.table(rnaseq_map_final_sub,\n",
    "            'rosmap/ID_mapping/ROSMAP_RNA_seq_WGS_ID_map.txt',\n",
    "            sep = '\\t',\n",
    "            col.names = T,\n",
    "            row.names = F,\n",
    "            quote = F)"
   ]
  },
  {
   "cell_type": "code",
   "execution_count": null,
   "id": "c9706d83-ffa4-4de9-8ec4-453b3ebaefc4",
   "metadata": {},
   "outputs": [],
   "source": [
    "write.table(rnaseq_map_final_id,\n",
    "            'rosmap/ID_mapping/ROSMAP_RNA_seq_WGS_sample_list.txt',\n",
    "            sep = '\\t',\n",
    "            col.names = F,\n",
    "            row.names = F,\n",
    "            quote = F)"
   ]
  },
  {
   "cell_type": "markdown",
   "id": "69636b9d-2bee-4abf-92fe-d215ee91b231",
   "metadata": {},
   "source": [
    "# create methylation id map"
   ]
  },
  {
   "cell_type": "markdown",
   "id": "3ee1155c-62f7-4422-b84d-c54ea4198c5e",
   "metadata": {},
   "source": [
    "## filter biospec file"
   ]
  },
  {
   "cell_type": "code",
   "execution_count": null,
   "id": "bb123e83-f318-4785-964f-460b586a1e54",
   "metadata": {},
   "outputs": [],
   "source": [
    "biospec_methyl = biospec[biospec$specimenID %in% methylation$TargetID,]\n",
    "nrow(biospec_methyl)\n",
    "length(unique(biospec_methyl$individualID))\n",
    "length(unique(biospec_methyl$specimenID))\n",
    "head(biospec_methyl)"
   ]
  },
  {
   "cell_type": "markdown",
   "id": "6f41dbca-45ef-4c29-a699-91e3e06e8bf7",
   "metadata": {},
   "source": [
    "## subset to IDs"
   ]
  },
  {
   "cell_type": "code",
   "execution_count": null,
   "id": "042d8a10-5fc2-4f7d-a23d-66d1650e9c07",
   "metadata": {},
   "outputs": [],
   "source": [
    "biospec_methyl_sub = biospec_methyl %>%\n",
    "select(individualID, specimenID)\n",
    "head(biospec_methyl_sub)"
   ]
  },
  {
   "cell_type": "markdown",
   "id": "d1c2052e-cdba-4747-a37a-217d52b39323",
   "metadata": {},
   "source": [
    "## export"
   ]
  },
  {
   "cell_type": "code",
   "execution_count": null,
   "id": "cb01958d-b816-4bdf-b2ac-03a41fb70d74",
   "metadata": {},
   "outputs": [],
   "source": [
    "write.table(biospec_methyl_sub,\n",
    "            'rosmap/ID_mapping/ROSMAP.Methylation_Array.individualID_map.txt',\n",
    "            sep = '\\t',\n",
    "            col.names = T,\n",
    "            row.names = F,\n",
    "            quote = F)"
   ]
  },
  {
   "cell_type": "markdown",
   "id": "f1799bdd-49e6-49cb-9711-95cb9838050c",
   "metadata": {},
   "source": [
    "# create VCF map for all samples"
   ]
  },
  {
   "cell_type": "markdown",
   "id": "89ab5a58-0ab6-438e-91f2-3b69591bd659",
   "metadata": {},
   "source": [
    "## subset map"
   ]
  },
  {
   "cell_type": "code",
   "execution_count": null,
   "id": "f5246109-6cac-42c6-8cc5-88c425df120d",
   "metadata": {},
   "outputs": [],
   "source": [
    "biospec_vcf_dups_fixed_sub = subset(biospec_vcf_dups_fixed, select = c(individualID, specimenID))\n",
    "head(biospec_vcf_dups_fixed_sub)"
   ]
  },
  {
   "cell_type": "markdown",
   "id": "3e6a6167-5880-4fef-b71c-7bbe9b7b6dca",
   "metadata": {},
   "source": [
    "## find samples that didn't match"
   ]
  },
  {
   "cell_type": "code",
   "execution_count": null,
   "id": "141bebc2-fdae-45a0-a9be-0a431b2054e9",
   "metadata": {},
   "outputs": [],
   "source": [
    "vcf_no_match = data.frame(vcf_pass_qc[!(vcf_pass_qc$ID %in% biospec_vcf_dups_fixed$specimenID),])\n",
    "colnames(vcf_no_match) = 'ID'\n",
    "nrow(vcf_no_match)\n",
    "head(vcf_no_match)"
   ]
  },
  {
   "cell_type": "markdown",
   "id": "921e250f-b503-4928-ab9a-aa87179c4b03",
   "metadata": {},
   "source": [
    "## find these samples in phenotype file"
   ]
  },
  {
   "cell_type": "code",
   "execution_count": null,
   "id": "34a0f4f0-eb4c-4491-956f-30a7dd000e97",
   "metadata": {},
   "outputs": [],
   "source": [
    "pheno_id = pheno %>%\n",
    "select(projid, Study, individualID) %>%\n",
    "mutate(specimenID = paste0(Study, projid))\n",
    "head(pheno_id)"
   ]
  },
  {
   "cell_type": "code",
   "execution_count": null,
   "id": "bd61463a-5f37-4b60-8f34-5363791a5706",
   "metadata": {},
   "outputs": [],
   "source": [
    "pheno_vcf_no_match = pheno_id[pheno_id$specimenID %in% vcf_no_match$ID,]\n",
    "nrow(pheno_vcf_no_match)"
   ]
  },
  {
   "cell_type": "raw",
   "id": "153393b1-a0ea-49a2-b1f0-19a8ae2b7fd8",
   "metadata": {},
   "source": [
    "this number matches- it excludes the duplicates that were dropped"
   ]
  },
  {
   "cell_type": "markdown",
   "id": "ae6d3198-0520-470f-b479-ee110ac1206f",
   "metadata": {},
   "source": [
    "## subset pheno map"
   ]
  },
  {
   "cell_type": "code",
   "execution_count": null,
   "id": "9bf062c9-4b55-4b35-89b2-649894b44ff9",
   "metadata": {},
   "outputs": [],
   "source": [
    "pheno_vcf_no_match_sub = pheno_vcf_no_match %>%\n",
    "select(individualID, specimenID)"
   ]
  },
  {
   "cell_type": "markdown",
   "id": "1be99af4-82c0-41d0-84d3-1778586b9258",
   "metadata": {},
   "source": [
    "## remove samples in VCF map (IDK HOW THEY GOT THERE OKAY)"
   ]
  },
  {
   "cell_type": "code",
   "execution_count": null,
   "id": "a97da7b0-557a-4a44-84f9-2d6f8408669f",
   "metadata": {},
   "outputs": [],
   "source": [
    "pheno_vcf_def_no_match_sub = pheno_vcf_no_match_sub[!(pheno_vcf_no_match_sub$individualID %in% biospec_vcf_dups_fixed_sub$individualID),]\n",
    "nrow(pheno_vcf_def_no_match_sub)"
   ]
  },
  {
   "cell_type": "markdown",
   "id": "497cbca6-e1d3-4cb9-8be8-52ef5041ad00",
   "metadata": {},
   "source": [
    "## concatenate"
   ]
  },
  {
   "cell_type": "code",
   "execution_count": null,
   "id": "6faa77d1-b050-4de7-a478-790a58ef2bcd",
   "metadata": {},
   "outputs": [],
   "source": [
    "vcf_map_final = rbind(biospec_vcf_dups_fixed_sub, pheno_vcf_def_no_match_sub)\n",
    "head(vcf_map_final)\n",
    "nrow(vcf_map_final)\n",
    "length(unique(vcf_map_final$individualID))"
   ]
  },
  {
   "cell_type": "code",
   "execution_count": null,
   "id": "603d2750-6a1e-4518-ab54-b55afedf726d",
   "metadata": {},
   "outputs": [],
   "source": [
    "nrow(biospec_vcf_dups_fixed_sub)\n",
    "length(unique(biospec_vcf_dups_fixed_sub$individualID))"
   ]
  },
  {
   "cell_type": "code",
   "execution_count": null,
   "id": "72be007b-35a7-4d69-9ce0-78539836f589",
   "metadata": {},
   "outputs": [],
   "source": [
    "nrow(pheno_vcf_no_match_sub)\n",
    "length(unique(pheno_vcf_no_match_sub$individualID))"
   ]
  },
  {
   "cell_type": "code",
   "execution_count": null,
   "id": "a18bd2dc-6995-4a30-85fb-2873e1950306",
   "metadata": {},
   "outputs": [],
   "source": [
    "test = pheno_vcf_no_match_sub[pheno_vcf_no_match_sub$individualID %in% biospec_vcf_dups_fixed_sub$individualID,]\n",
    "nrow(test)"
   ]
  },
  {
   "cell_type": "markdown",
   "id": "620ec62a-8c27-4dae-bdf5-d6bfaaa7f84e",
   "metadata": {},
   "source": [
    "## create sample list"
   ]
  },
  {
   "cell_type": "code",
   "execution_count": null,
   "id": "a2945e72-1b47-41e7-88f7-aaf2f4e3c77b",
   "metadata": {},
   "outputs": [],
   "source": [
    "vcf_map_final_sample = vcf_map_final %>%\n",
    "select(specimenID)"
   ]
  },
  {
   "cell_type": "markdown",
   "id": "5b25a580-155e-489e-a9f0-4e3436b3dcc2",
   "metadata": {},
   "source": [
    "## export"
   ]
  },
  {
   "cell_type": "code",
   "execution_count": null,
   "id": "a840ef6f-9bea-4ec3-b2e5-f44eda8dffb9",
   "metadata": {},
   "outputs": [],
   "source": [
    "write.table(vcf_map_final_sample,\n",
    "            'rosmap/ID_mapping/ROSMAP.ALL_WGS.pass_qc.sample_list.txt',\n",
    "            sep = '\\t',\n",
    "            col.names = F,\n",
    "            row.names = F,\n",
    "            quote = F)"
   ]
  },
  {
   "cell_type": "code",
   "execution_count": null,
   "id": "e8c2e82d-a845-4576-8852-30d7be5b43c6",
   "metadata": {},
   "outputs": [],
   "source": [
    "write.table(vcf_map_final,\n",
    "            'rosmap/ID_mapping/ROSMAP.ALL_WGS.pass_qc.ID_map.txt',\n",
    "            sep = '\\t',\n",
    "            col.names = T,\n",
    "            row.names = F,\n",
    "            quote = F)"
   ]
  },
  {
   "cell_type": "markdown",
   "id": "eab7dd32-636e-4f11-a573-95ed21fec8f4",
   "metadata": {},
   "source": [
    "# create adsp map"
   ]
  },
  {
   "cell_type": "markdown",
   "id": "82d1f106-58ce-47ec-933e-2bd7266e38f6",
   "metadata": {},
   "source": [
    "## clean adsp file"
   ]
  },
  {
   "cell_type": "code",
   "execution_count": null,
   "id": "37dccf4f-841d-49b3-a49b-22c452492ddf",
   "metadata": {},
   "outputs": [],
   "source": [
    "adsp_id = adsp %>%\n",
    "mutate(specimenID = paste0(cohort_key, subject_key_original)) %>%\n",
    "select(subject_key, specimenID)%>%\n",
    "rename('ADSP_ID' = 'subject_key')\n",
    "head(adsp_id)\n",
    "nrow(adsp_id)"
   ]
  },
  {
   "cell_type": "markdown",
   "id": "eb4e68be-3888-4c12-a424-5f0386430a7e",
   "metadata": {},
   "source": [
    "## map to pheno file"
   ]
  },
  {
   "cell_type": "code",
   "execution_count": null,
   "id": "e1fc0315-38ef-4fbc-bdf7-27d80de17e10",
   "metadata": {},
   "outputs": [],
   "source": [
    "head(pheno_id)"
   ]
  },
  {
   "cell_type": "code",
   "execution_count": null,
   "id": "11373c24-ec7d-4ca0-a033-b4a241fe404c",
   "metadata": {},
   "outputs": [],
   "source": [
    "adsp_rosmap = merge(pheno_id, adsp_id, by = 'specimenID')\n",
    "nrow(adsp_rosmap)\n",
    "nrow(adsp)\n",
    "head(adsp_rosmap)"
   ]
  },
  {
   "cell_type": "markdown",
   "id": "0c65d64a-1464-48c3-bcc0-794a2d4560ba",
   "metadata": {},
   "source": [
    "## filter mapped file"
   ]
  },
  {
   "cell_type": "code",
   "execution_count": null,
   "id": "5a3cf31b-248a-487c-9c53-a2874c39d3da",
   "metadata": {},
   "outputs": [],
   "source": [
    "adsp_rosmap_sub = adsp_rosmap %>%\n",
    "select(individualID, ADSP_ID)\n",
    "head(adsp_rosmap_sub)"
   ]
  },
  {
   "cell_type": "markdown",
   "id": "62ac7b11-1f97-4140-a719-e22ef0f31263",
   "metadata": {},
   "source": [
    "## map to vcf file"
   ]
  },
  {
   "cell_type": "code",
   "execution_count": null,
   "id": "1af8f45f-afde-40e5-8dcd-75bb326559ff",
   "metadata": {},
   "outputs": [],
   "source": [
    "head(vcf_map_final)\n",
    "nrow(vcf_map_final)"
   ]
  },
  {
   "cell_type": "code",
   "execution_count": null,
   "id": "ef84e2d7-6c3e-4d5b-b12b-420ff34f647c",
   "metadata": {},
   "outputs": [],
   "source": [
    "adsp_rosmap_map = merge(vcf_map_final, adsp_rosmap_sub, by = 'individualID')\n",
    "nrow(adsp_rosmap_map)\n",
    "nrow(adsp_rosmap_sub)\n",
    "nrow(vcf_map_final)\n",
    "length(unique(adsp_rosmap_map$individualID))\n",
    "head(adsp_rosmap_map)"
   ]
  },
  {
   "cell_type": "markdown",
   "id": "f463dda2-e452-4000-a119-a0424e9b1485",
   "metadata": {},
   "source": [
    "## check if mapped IDs are all in ADSP WGS list"
   ]
  },
  {
   "cell_type": "code",
   "execution_count": null,
   "id": "e45cc030-3673-4b74-94a4-d3315a47230c",
   "metadata": {},
   "outputs": [],
   "source": [
    "adsp_pheno_id = adsp_pheno %>%\n",
    "select(SampleID, SUBJID)\n",
    "head(adsp_pheno_id)"
   ]
  },
  {
   "cell_type": "code",
   "execution_count": null,
   "id": "02988e68-e5d0-4ac8-9113-a40dd8e58dbe",
   "metadata": {
    "scrolled": true
   },
   "outputs": [],
   "source": [
    "adsp_pheno_rosmap_wgs = adsp_pheno[adsp_pheno$SampleID %in% adsp_wgs_list$V1,]\n",
    "nrow(adsp_pheno_rosmap_wgs)\n",
    "nrow(adsp_wgs_list)"
   ]
  },
  {
   "cell_type": "code",
   "execution_count": null,
   "id": "c6428194-1aaf-41b9-aaed-3c65c010839c",
   "metadata": {},
   "outputs": [],
   "source": [
    "adsp_rosmap_map_wgs = adsp_rosmap_map[adsp_rosmap_map$ADSP_ID %in% adsp_pheno_rosmap_wgs$SUBJID,]\n",
    "nrow(adsp_rosmap_map_wgs)\n",
    "head(adsp_rosmap_map_wgs)"
   ]
  },
  {
   "cell_type": "code",
   "execution_count": null,
   "id": "c8115e56-d62f-48d9-8ea1-4f3ba9abb4a4",
   "metadata": {},
   "outputs": [],
   "source": [
    "adsp_rosmap_map_wgs_rename = adsp_rosmap_map_wgs %>%\n",
    "rename('SUBJID'='ADSP_ID')\n",
    "adsp_rosmap_map_wgs_all_id = adsp_rosmap_map_wgs_rename %>%\n",
    "left_join(adsp_pheno_id, by = 'SUBJID')%>%\n",
    "select(individualID, specimenID, SampleID, SUBJID)\n",
    "head(adsp_rosmap_map_wgs_all_id)\n",
    "nrow(adsp_rosmap_map_wgs_all_id)"
   ]
  },
  {
   "cell_type": "code",
   "execution_count": null,
   "id": "088af4b3-f399-4fa6-9459-1489d63266db",
   "metadata": {},
   "outputs": [],
   "source": [
    "write.table(adsp_rosmap_map_wgs_all_id,\n",
    "            'rosmap/ID_mapping/ROSMAP.ADSP_WGS.ID_map.txt',\n",
    "            sep = '\\t',\n",
    "            col.names = T,\n",
    "            row.names = F,\n",
    "            quote = F)"
   ]
  },
  {
   "cell_type": "code",
   "execution_count": null,
   "id": "4538dbec-8200-4942-91c6-96cf14182234",
   "metadata": {},
   "outputs": [],
   "source": [
    "adsp_rosmap_map_pheno = adsp_rosmap_map[adsp_rosmap_map$ADSP_ID %in% adsp_pheno$SUBJID,]\n",
    "nrow(adsp_rosmap_map_pheno)\n",
    "head(adsp_rosmap_map_pheno)"
   ]
  },
  {
   "cell_type": "code",
   "execution_count": null,
   "id": "07cfa01b-0656-4fa1-9272-fe61db32f72b",
   "metadata": {},
   "outputs": [],
   "source": [
    "adsp_rosmap_map_pheno_rename = adsp_rosmap_map_pheno %>%\n",
    "rename('SUBJID' = 'ADSP_ID')\n",
    "adsp_rosmap_map_pheno_all_id = adsp_rosmap_map_pheno_rename %>%\n",
    "left_join(adsp_pheno_id, by='SUBJID')%>%\n",
    "select(individualID, specimenID, SampleID, SUBJID)\n",
    "head(adsp_rosmap_map_pheno_all_id)\n",
    "nrow(adsp_rosmap_map_pheno_all_id)"
   ]
  },
  {
   "cell_type": "code",
   "execution_count": null,
   "id": "320a027e-b2e9-43da-8689-b0799286a3ce",
   "metadata": {},
   "outputs": [],
   "source": [
    "adsp_rosmap_map_pheno_all_id %>%\n",
    "select(specimenID_RNAseq) %>%\n",
    "na.omit() %>%\n",
    "nrow()"
   ]
  },
  {
   "cell_type": "code",
   "execution_count": null,
   "id": "93d46ff5-9ded-4a0e-b93e-0bc3457ba382",
   "metadata": {},
   "outputs": [],
   "source": [
    "adsp_rosmap_map_pheno_all_id %>%\n",
    "select(specimenID_MethylArray) %>%\n",
    "na.omit() %>%\n",
    "nrow()"
   ]
  },
  {
   "cell_type": "code",
   "execution_count": null,
   "id": "54884632-6bd6-4d6d-94db-8b868c362a0f",
   "metadata": {},
   "outputs": [],
   "source": [
    "write.table(adsp_rosmap_map_pheno_all_id,\n",
    "            'rosmap/ID_mapping/ROSMAP.ADSP_PHENO.ID_map.txt',\n",
    "            sep = '\\t',\n",
    "            col.names = T,\n",
    "            row.names = F,\n",
    "            quote = F)"
   ]
  },
  {
   "cell_type": "code",
   "execution_count": null,
   "id": "d3e37e70-3d19-4a61-b287-7ee65c3a1110",
   "metadata": {},
   "outputs": [],
   "source": [
    "adsp_pheno %>%\n",
    "filter(grepl('ROS|MAP',Cohort)) %>%\n",
    "nrow()"
   ]
  },
  {
   "cell_type": "code",
   "execution_count": null,
   "id": "e2bfbc7c-d3a3-4002-9848-75ae1c0007d0",
   "metadata": {},
   "outputs": [],
   "source": [
    "adsp_pheno %>%\n",
    "filter(!grepl('ROS|MAP',Cohort)) %>%\n",
    "distinct(Cohort)"
   ]
  },
  {
   "cell_type": "markdown",
   "id": "e95ebac0-7384-49a5-9c45-da9e1cfd84e2",
   "metadata": {},
   "source": [
    "## check out ids that didn't map"
   ]
  },
  {
   "cell_type": "markdown",
   "id": "cff45932-5e30-4608-a462-a41301612bd6",
   "metadata": {},
   "source": [
    "### ADSP IDs that aren't in VCF files"
   ]
  },
  {
   "cell_type": "code",
   "execution_count": null,
   "id": "7fdd150a-d461-4f43-a1aa-58ad586c3e50",
   "metadata": {},
   "outputs": [],
   "source": [
    "adsp_no_map = adsp_rosmap_sub[!(adsp_rosmap_sub$ADSP_ID %in% adsp_rosmap_map$ADSP_ID),]\n",
    "nrow(adsp_no_map)\n",
    "length(unique(adsp_no_map$individualID))\n",
    "length(unique(adsp_no_map$ADSP_ID))\n",
    "head(adsp_no_map)"
   ]
  },
  {
   "cell_type": "code",
   "execution_count": null,
   "id": "75ca5968-b106-41d5-b3fe-3a705a2fe5dd",
   "metadata": {},
   "outputs": [],
   "source": [
    "head(biospec_vcf_dups_fixed)"
   ]
  },
  {
   "cell_type": "code",
   "execution_count": null,
   "id": "d3cb228e-42bb-4329-83a8-03bea2f4c387",
   "metadata": {},
   "outputs": [],
   "source": [
    "biospec_vcf_adsp_no_map = biospec_vcf_dups_fixed[biospec_vcf_dups_fixed$individualID %in% adsp_no_map$individualID,]\n",
    "nrow(biospec_vcf_adsp_no_map)"
   ]
  },
  {
   "cell_type": "code",
   "execution_count": null,
   "id": "6144a270-d154-476d-8431-555a6737a220",
   "metadata": {},
   "outputs": [],
   "source": [
    "nrow(biospec)"
   ]
  },
  {
   "cell_type": "code",
   "execution_count": null,
   "id": "6210c7bd-fc44-427e-b69f-3362dc15abaa",
   "metadata": {},
   "outputs": [],
   "source": [
    "biospec_vcf_broken=biospec[!(biospec$individualID %in% biospec_vcf_dups_fixed$individualID),]\n",
    "nrow(biospec_vcf_broken)\n",
    "length(unique(biospec_vcf_broken$individualID))"
   ]
  },
  {
   "cell_type": "code",
   "execution_count": null,
   "id": "f25e4711-31f8-41b6-b061-d7f1fd513a37",
   "metadata": {},
   "outputs": [],
   "source": [
    "adsp_broken_vcf=adsp_no_map[adsp_no_map$individualID %in% biospec_vcf_broken$individualID,]\n",
    "nrow(adsp_no_map)"
   ]
  },
  {
   "cell_type": "code",
   "execution_count": null,
   "id": "57c33579-374d-4750-8fa2-f4eca311071d",
   "metadata": {},
   "outputs": [],
   "source": [
    "biospec_vcf_broken_adsp=biospec_vcf_broken[biospec_vcf_broken$individualID %in% adsp_no_map$individualID,]\n",
    "head(biospec_vcf_broken_adsp)"
   ]
  },
  {
   "cell_type": "code",
   "execution_count": null,
   "id": "dd4bed93-a794-47d6-a94e-a0d65afb728b",
   "metadata": {},
   "outputs": [],
   "source": [
    "unique(biospec_vcf_broken_adsp$assay)"
   ]
  },
  {
   "cell_type": "code",
   "execution_count": null,
   "id": "ed7a22e4-a476-48d7-8159-89bb5c700989",
   "metadata": {},
   "outputs": [],
   "source": [
    "biospec_vcf_broken_adsp %>%\n",
    "filter(grepl('wholeGenomeSeq', assay)) %>%\n",
    "head()"
   ]
  },
  {
   "cell_type": "markdown",
   "id": "ead7001d-ce2b-4f45-a698-88ac1ab78497",
   "metadata": {},
   "source": [
    "### mismatch"
   ]
  },
  {
   "cell_type": "markdown",
   "id": "c2055332-15c3-44e2-91cc-d33061776338",
   "metadata": {},
   "source": [
    "#### create mismatch file"
   ]
  },
  {
   "cell_type": "code",
   "execution_count": null,
   "id": "678073ef-181e-456b-ae99-df461bf54bca",
   "metadata": {},
   "outputs": [],
   "source": [
    "adsp_mismatch = vcf_map_final[!(vcf_map_final$individualID %in% adsp_rosmap_sub$individualID),]\n",
    "nrow(adsp_mismatch)\n",
    "head(adsp_mismatch)"
   ]
  },
  {
   "cell_type": "markdown",
   "id": "72dc2f65-3893-4c13-9724-546221cd5930",
   "metadata": {},
   "source": [
    "#### check for leading zeros"
   ]
  },
  {
   "cell_type": "code",
   "execution_count": null,
   "id": "9db10c21-cb0d-48ff-8173-80654b6970a3",
   "metadata": {},
   "outputs": [],
   "source": [
    "adsp %>%\n",
    "select(subject_key_original) %>%\n",
    "filter(grepl('^0', subject_key_original)) %>%\n",
    "nrow()"
   ]
  },
  {
   "cell_type": "code",
   "execution_count": null,
   "id": "808e20dd-df82-430b-ab5e-80ae05e8c06e",
   "metadata": {},
   "outputs": [],
   "source": [
    "pheno_id %>%\n",
    "select(projid) %>%\n",
    "filter(grepl('^0', projid)) %>%\n",
    "nrow()"
   ]
  },
  {
   "cell_type": "markdown",
   "id": "6aed5cb6-5874-4078-8b84-1f2b1532cb82",
   "metadata": {},
   "source": [
    "#### check if all IDs are SM"
   ]
  },
  {
   "cell_type": "code",
   "execution_count": null,
   "id": "335bf288-d8c5-4707-a17a-bd9c39b2e63b",
   "metadata": {},
   "outputs": [],
   "source": [
    "adsp_mismatch %>%\n",
    "filter(grepl('SM-', specimenID)) %>%\n",
    "nrow()"
   ]
  },
  {
   "cell_type": "code",
   "execution_count": null,
   "id": "6be3ac00-527a-4bb9-b8c4-76f648d1c733",
   "metadata": {},
   "outputs": [],
   "source": [
    "adsp_mismatch %>%\n",
    "filter(!grepl('SM-', specimenID)) %>%\n",
    "head()"
   ]
  },
  {
   "cell_type": "markdown",
   "id": "72cfba32-d5b5-4805-ba37-18a62d04630b",
   "metadata": {},
   "source": [
    "#### see if individualID ares in pheno file"
   ]
  },
  {
   "cell_type": "code",
   "execution_count": null,
   "id": "cf71bb6d-ddb1-4397-8cb7-13a7e11d25e7",
   "metadata": {},
   "outputs": [],
   "source": [
    "pheno_mismatch = pheno_id[pheno_id$individualID %in% adsp_mismatch$individualID,]\n",
    "nrow(pheno_mismatch)\n",
    "head(pheno_mismatch)"
   ]
  },
  {
   "cell_type": "code",
   "execution_count": null,
   "id": "6453781d-9285-421e-a0a4-32ba9fc2b20d",
   "metadata": {},
   "outputs": [],
   "source": [
    "adsp_mismatch_rename = adsp_mismatch %>%\n",
    "rename('vcf_specimenID' = 'specimenID')\n",
    "pheno_adsp_mismatch = merge(adsp_mismatch_rename,pheno_mismatch, by = 'individualID')\n",
    "nrow(pheno_adsp_mismatch)\n",
    "head(pheno_adsp_mismatch)"
   ]
  },
  {
   "cell_type": "code",
   "execution_count": null,
   "id": "fc00aeda-0fc3-4e79-8b04-42e0ec4c36a4",
   "metadata": {},
   "outputs": [],
   "source": [
    "adsp_test=pheno_adsp_mismatch[pheno_adsp_mismatch$individualID %in% biospec_vcf_broken_adsp$individualID,]\n",
    "nrow(adsp_test)\n",
    "nrow(adsp_no_map)"
   ]
  },
  {
   "cell_type": "code",
   "execution_count": null,
   "id": "e39ed575-30c0-4c3f-83b1-8e6372aa832c",
   "metadata": {},
   "outputs": [],
   "source": [
    "adsp_mismatch_fixed = merge(pheno_adsp_mismatch,adsp_rosmap, by = 'individualID')\n",
    "nrow(adsp_mismatch_fixed)\n",
    "head(adsp_mismatch_fixed)"
   ]
  },
  {
   "cell_type": "code",
   "execution_count": null,
   "id": "f3ba8ad5-eeef-4e10-9b2a-e56751b9af91",
   "metadata": {},
   "outputs": [],
   "source": [
    "adsp_test = pheno_adsp_mismatch[pheno_adsp_mismatch$individualID %in% biospec$individualID,]\n",
    "nrow(adsp_test)\n",
    "head(adsp_test)"
   ]
  },
  {
   "cell_type": "code",
   "execution_count": null,
   "id": "d422cdfb-fe3b-49cf-874d-1bc5c0ecb74f",
   "metadata": {},
   "outputs": [],
   "source": [
    "head(adsp)\n",
    "nrow(adsp)"
   ]
  },
  {
   "cell_type": "markdown",
   "id": "cb333631-36eb-4aa3-bde0-8c4f399d552b",
   "metadata": {},
   "source": [
    "# see if ROSMAP is in keep quest comb in ADSP"
   ]
  },
  {
   "cell_type": "code",
   "execution_count": null,
   "id": "16c6be75-eb61-478a-b8ec-53c4caa53f96",
   "metadata": {},
   "outputs": [],
   "source": [
    "adsp_qc_sub = adsp_qc %>%\n",
    "select(Study, Sample.name) %>%\n",
    "rename('SampleID' = 'Sample.name')\n",
    "head(adsp_qc_sub)\n",
    "print(nrow(adsp_qc_sub))"
   ]
  },
  {
   "cell_type": "code",
   "execution_count": null,
   "id": "ec6a2d95-e03b-4d5a-ab89-e7d14225f018",
   "metadata": {},
   "outputs": [],
   "source": [
    "adsp_pheno_study = adsp_pheno %>%\n",
    "select(SampleID,Cohort)\n",
    "head(adsp_pheno_study)\n",
    "print(nrow(adsp_pheno_study))"
   ]
  },
  {
   "cell_type": "code",
   "execution_count": null,
   "id": "b36bf57d-99cf-4f98-b2b7-7f483878efb5",
   "metadata": {},
   "outputs": [],
   "source": [
    "adsp_pheno_qc = left_join(adsp_pheno_study, adsp_qc_sub, by = 'SampleID')\n",
    "head(adsp_pheno_qc)\n",
    "nrow(adsp_pheno_qc)"
   ]
  },
  {
   "cell_type": "code",
   "execution_count": null,
   "id": "78fa7e5f-542b-4442-a5d1-df07ae7cf51c",
   "metadata": {},
   "outputs": [],
   "source": [
    "adsp_pheno_qc_rosmap = adsp_pheno_qc %>%\n",
    "filter(grepl('ROS|MAP', Cohort))\n",
    "head(adsp_pheno_qc_rosmap)\n",
    "nrow(adsp_pheno_qc_rosmap)"
   ]
  },
  {
   "cell_type": "code",
   "execution_count": null,
   "id": "2b291d91-b9e7-4665-8d49-50a957dc6abc",
   "metadata": {},
   "outputs": [],
   "source": [
    "unique(adsp_pheno_qc_rosmap$Study)"
   ]
  },
  {
   "cell_type": "code",
   "execution_count": null,
   "id": "194b78dc-75a7-4cb2-a5bf-eaaedde12755",
   "metadata": {},
   "outputs": [],
   "source": []
  }
 ],
 "metadata": {
  "kernelspec": {
   "display_name": "R",
   "language": "R",
   "name": "ir"
  },
  "language_info": {
   "codemirror_mode": "r",
   "file_extension": ".r",
   "mimetype": "text/x-r-source",
   "name": "R",
   "pygments_lexer": "r",
   "version": "4.4.3"
  }
 },
 "nbformat": 4,
 "nbformat_minor": 5
}

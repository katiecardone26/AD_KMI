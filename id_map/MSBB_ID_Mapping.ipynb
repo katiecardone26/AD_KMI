{
 "cells": [
  {
   "cell_type": "markdown",
   "id": "0",
   "metadata": {},
   "source": [
    "# load packages"
   ]
  },
  {
   "cell_type": "code",
   "execution_count": null,
   "id": "1",
   "metadata": {},
   "outputs": [],
   "source": [
    "import pandas as pd"
   ]
  },
  {
   "cell_type": "markdown",
   "id": "2",
   "metadata": {},
   "source": [
    "# read in input files"
   ]
  },
  {
   "cell_type": "code",
   "execution_count": null,
   "id": "3",
   "metadata": {},
   "outputs": [],
   "source": [
    "id_map = pd.read_csv('ADSP/MAP_FILES/AMP-AD_IDs_17k.csv')\n",
    "id_map.head()"
   ]
  },
  {
   "cell_type": "code",
   "execution_count": null,
   "id": "4",
   "metadata": {},
   "outputs": [],
   "source": [
    "biospec = pd.read_csv('MSBB/Data/Metadata/MSBB_biospecimen_metadata.csv')\n",
    "biospec.head()"
   ]
  },
  {
   "cell_type": "code",
   "execution_count": null,
   "id": "5",
   "metadata": {},
   "outputs": [],
   "source": [
    "adsp_pheno = pd.read_csv('ADSP/v11_122023/v11_CombinedPhenotypes/ADSPIntegratedPhenotypes_DS_2023.08.08.csv',\n",
    "                         low_memory = False)\n",
    "adsp_pheno.head()"
   ]
  },
  {
   "cell_type": "markdown",
   "id": "6",
   "metadata": {},
   "source": [
    "# filter id map to MSBB"
   ]
  },
  {
   "cell_type": "code",
   "execution_count": null,
   "id": "7",
   "metadata": {},
   "outputs": [],
   "source": [
    "id_map_msbb = id_map[id_map['sample_key'].str.contains('MSBB')]\n",
    "print(len(id_map_msbb.index))\n",
    "print(len(id_map_msbb['sample_key'].unique()))\n",
    "print(len(id_map_msbb['subject_key'].unique()))\n",
    "print(len(id_map_msbb['AlternateID'].unique()))\n",
    "id_map_msbb.head()"
   ]
  },
  {
   "cell_type": "markdown",
   "id": "8",
   "metadata": {},
   "source": [
    "## see if all map to pheno"
   ]
  },
  {
   "cell_type": "raw",
   "id": "9",
   "metadata": {},
   "source": [
    "the duplicate MSBB ids do not map"
   ]
  },
  {
   "cell_type": "code",
   "execution_count": null,
   "id": "10",
   "metadata": {},
   "outputs": [],
   "source": [
    "adsp_pheno_id_map_msbb = adsp_pheno[adsp_pheno['SampleID'].isin(id_map_msbb['sample_key'])]\n",
    "print(len(adsp_pheno_id_map_msbb.index))\n",
    "adsp_pheno_id_map_msbb.head()"
   ]
  },
  {
   "cell_type": "code",
   "execution_count": null,
   "id": "11",
   "metadata": {},
   "outputs": [],
   "source": [
    "id_map_msbb[~id_map_msbb['sample_key'].isin(adsp_pheno_id_map_msbb['SampleID'])]"
   ]
  },
  {
   "cell_type": "code",
   "execution_count": null,
   "id": "12",
   "metadata": {},
   "outputs": [],
   "source": [
    "id_map_msbb[~id_map_msbb['sample_key'].isin(adsp_pheno_id_map_msbb['SampleID'])]"
   ]
  },
  {
   "cell_type": "code",
   "execution_count": null,
   "id": "13",
   "metadata": {},
   "outputs": [],
   "source": [
    "adsp_pheno[adsp_pheno['SUBJID'].isin(['G-MSBB-MB000281', 'G-MSBB-MB000286'])]"
   ]
  },
  {
   "cell_type": "markdown",
   "id": "14",
   "metadata": {},
   "source": [
    "## figure out duplicates"
   ]
  },
  {
   "cell_type": "code",
   "execution_count": null,
   "id": "15",
   "metadata": {},
   "outputs": [],
   "source": [
    "dup = id_map_msbb[id_map_msbb.duplicated('subject_key', keep = False)].sort_values(by = ['subject_key'])\n",
    "dup"
   ]
  },
  {
   "cell_type": "code",
   "execution_count": null,
   "id": "16",
   "metadata": {},
   "outputs": [],
   "source": [
    "dup[~dup['sample_key'].isin(adsp_pheno_id_map_msbb['SampleID'])]"
   ]
  },
  {
   "cell_type": "code",
   "execution_count": null,
   "id": "17",
   "metadata": {},
   "outputs": [],
   "source": [
    "dup[dup['sample_key'].isin(adsp_pheno_id_map_msbb['SampleID'])]"
   ]
  },
  {
   "cell_type": "markdown",
   "id": "18",
   "metadata": {},
   "source": [
    "## filter map to adsp pheno"
   ]
  },
  {
   "cell_type": "code",
   "execution_count": null,
   "id": "19",
   "metadata": {},
   "outputs": [],
   "source": [
    "id_map_msbb_adsp = id_map_msbb[id_map_msbb['sample_key'].isin(adsp_pheno['SampleID'])]\n",
    "print(len(id_map_msbb_adsp.index))\n",
    "print(len(id_map_msbb_adsp['sample_key'].unique()))\n",
    "print(len(id_map_msbb_adsp['subject_key'].unique()))\n",
    "print(len(id_map_msbb_adsp['AlternateID'].unique()))\n",
    "id_map_msbb_adsp.head()"
   ]
  },
  {
   "cell_type": "markdown",
   "id": "20",
   "metadata": {},
   "source": [
    "# map MSBB to ID map"
   ]
  },
  {
   "cell_type": "markdown",
   "id": "21",
   "metadata": {},
   "source": [
    "## rename columns"
   ]
  },
  {
   "cell_type": "code",
   "execution_count": null,
   "id": "22",
   "metadata": {},
   "outputs": [],
   "source": [
    "id_map_msbb_adsp.rename(columns = {'sample_key' : 'SampleID',\n",
    "                                   'subject_key' : 'SUBJID',\n",
    "                                   'AlternateID' : 'individualID'}, inplace = True)\n",
    "id_map_msbb_adsp.drop(columns = ['AMP-AD_ID'], inplace = True)\n",
    "id_map_msbb_adsp.head()"
   ]
  },
  {
   "cell_type": "code",
   "execution_count": null,
   "id": "23",
   "metadata": {},
   "outputs": [],
   "source": [
    "msbb_adsp = id_map_msbb_adsp.merge(biospec, on = 'individualID', how = 'inner')\n",
    "print(len(msbb_adsp['individualID'].unique()))\n",
    "msbb_adsp.head()"
   ]
  },
  {
   "cell_type": "markdown",
   "id": "24",
   "metadata": {},
   "source": [
    "# subset"
   ]
  },
  {
   "cell_type": "code",
   "execution_count": null,
   "id": "25",
   "metadata": {},
   "outputs": [],
   "source": [
    "msbb_adsp_sub = msbb_adsp[['SampleID', 'SUBJID', 'individualID', 'specimenID']]"
   ]
  },
  {
   "cell_type": "markdown",
   "id": "26",
   "metadata": {},
   "source": [
    "# export"
   ]
  },
  {
   "cell_type": "code",
   "execution_count": null,
   "id": "27",
   "metadata": {},
   "outputs": [],
   "source": [
    "msbb_adsp.to_csv('msbb/MSBB_biospecimen_metadata.ADSP_ID.csv',\n",
    "                 index = None) d"
   ]
  },
  {
   "cell_type": "code",
   "execution_count": null,
   "id": "28",
   "metadata": {},
   "outputs": [],
   "source": [
    "msbb_adsp_sub.to_csv('msbb/MSBB.ADSP.ID_map.csv',\n",
    "                     index = None)"
   ]
  },
  {
   "cell_type": "code",
   "execution_count": null,
   "id": "29",
   "metadata": {},
   "outputs": [],
   "source": []
  }
 ],
 "metadata": {
  "kernelspec": {
   "display_name": "Python 3 (ipykernel)",
   "language": "python",
   "name": "python3"
  },
  "language_info": {
   "codemirror_mode": {
    "name": "ipython",
    "version": 3
   },
   "file_extension": ".py",
   "mimetype": "text/x-python",
   "name": "python",
   "nbconvert_exporter": "python",
   "pygments_lexer": "ipython3",
   "version": "3.12.3"
  }
 },
 "nbformat": 4,
 "nbformat_minor": 5
}

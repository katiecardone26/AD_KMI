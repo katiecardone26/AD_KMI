{
 "cells": [
  {
   "cell_type": "markdown",
   "id": "0",
   "metadata": {},
   "source": [
    "# load packages"
   ]
  },
  {
   "cell_type": "code",
   "execution_count": null,
   "id": "1",
   "metadata": {},
   "outputs": [],
   "source": [
    "import pandas as pd"
   ]
  },
  {
   "cell_type": "code",
   "execution_count": null,
   "id": "2",
   "metadata": {},
   "outputs": [],
   "source": [
    "import numpy as np"
   ]
  },
  {
   "cell_type": "markdown",
   "id": "3",
   "metadata": {},
   "source": [
    "# read in input files"
   ]
  },
  {
   "cell_type": "code",
   "execution_count": null,
   "id": "4",
   "metadata": {},
   "outputs": [],
   "source": [
    "gene_score = pd.read_csv('merged_outputs/AOU_ALL.UKBB.metasoft.ADSP.all.VEP_v113.gene_by_position.r2_0.1_clump_variants_excluded.RE_pval_threshold_0.05.gene_symbol.average_gene_score.merged.txt.gz',\n",
    "                         sep = '\\t')\n",
    "gene_score.head()"
   ]
  },
  {
   "cell_type": "code",
   "execution_count": null,
   "id": "5",
   "metadata": {},
   "outputs": [],
   "source": [
    "msbb_id_map = pd.read_csv('msbb/MSBB.ADSP.ID_map.csv')\n",
    "msbb_id_map.head()"
   ]
  },
  {
   "cell_type": "code",
   "execution_count": null,
   "id": "6",
   "metadata": {},
   "outputs": [],
   "source": [
    "rosmap_id_map = pd.read_csv('ROSMAP.ADSP_PHENO.ID_map.txt',\n",
    "                             sep = '\\t')\n",
    "rosmap_id_map.head()"
   ]
  },
  {
   "cell_type": "markdown",
   "id": "7",
   "metadata": {},
   "source": [
    "# clean ID maps"
   ]
  },
  {
   "cell_type": "markdown",
   "id": "8",
   "metadata": {},
   "source": [
    "## subset"
   ]
  },
  {
   "cell_type": "code",
   "execution_count": null,
   "id": "9",
   "metadata": {},
   "outputs": [],
   "source": [
    "rosmap_id_map['ID'] = rosmap_id_map['SampleID'] + ':' + rosmap_id_map['individualID']\n",
    "rosmap_id_map_sub = rosmap_id_map[['SampleID', 'individualID', 'ID']]\n",
    "rosmap_id_map_sub.head()"
   ]
  },
  {
   "cell_type": "code",
   "execution_count": null,
   "id": "10",
   "metadata": {},
   "outputs": [],
   "source": [
    "msbb_id_map['ID'] = msbb_id_map['SampleID'] + ':' + msbb_id_map['individualID']\n",
    "msbb_id_map_sub = msbb_id_map[['SampleID', 'individualID', 'ID']]\n",
    "msbb_id_map_sub.drop_duplicates(inplace = True)\n",
    "msbb_id_map_sub.head()"
   ]
  },
  {
   "cell_type": "markdown",
   "id": "11",
   "metadata": {},
   "source": [
    "## merge"
   ]
  },
  {
   "cell_type": "code",
   "execution_count": null,
   "id": "12",
   "metadata": {},
   "outputs": [],
   "source": [
    "all_id_map = pd.concat([msbb_id_map_sub, rosmap_id_map_sub], axis = 0)\n",
    "print(len(rosmap_id_map_sub.index))\n",
    "print(len(msbb_id_map_sub.index))\n",
    "print(len(all_id_map.index))\n",
    "all_id_map.head()"
   ]
  },
  {
   "cell_type": "markdown",
   "id": "13",
   "metadata": {},
   "source": [
    "# map gene scores to MSBB and ROSMAP IDs"
   ]
  },
  {
   "cell_type": "code",
   "execution_count": null,
   "id": "14",
   "metadata": {},
   "outputs": [],
   "source": [
    "gene_score.rename(columns = {'ID' : 'SampleID'}, inplace = True)"
   ]
  },
  {
   "cell_type": "code",
   "execution_count": null,
   "id": "15",
   "metadata": {},
   "outputs": [],
   "source": [
    "gene_score_map = all_id_map.merge(gene_score, on = 'SampleID', how = 'inner')\n",
    "gene_score_map.set_index('ID', inplace = True)\n",
    "gene_score_map_sub = gene_score_map.copy()\n",
    "print(len(gene_score_map_sub.index))\n",
    "gene_score_map_sub.head()"
   ]
  },
  {
   "cell_type": "markdown",
   "id": "16",
   "metadata": {},
   "source": [
    "# create common ID in people that don't map"
   ]
  },
  {
   "cell_type": "code",
   "execution_count": null,
   "id": "17",
   "metadata": {},
   "outputs": [],
   "source": [
    "gene_score_no_map = gene_score[~gene_score['SampleID'].isin(gene_score_map['SampleID'])]\n",
    "gene_score_no_map['ID'] = gene_score_no_map['SampleID'] + ':NA'\n",
    "gene_score_no_map.set_index('ID', inplace = True)\n",
    "gene_score_no_map_sub = gene_score_no_map.copy()\n",
    "gene_score_no_map_sub.insert(1, 'individualID', np.nan)\n",
    "print(len(gene_score_no_map_sub.index))\n",
    "gene_score_no_map_sub.head()"
   ]
  },
  {
   "cell_type": "markdown",
   "id": "18",
   "metadata": {},
   "source": [
    "# concatenate w new ids"
   ]
  },
  {
   "cell_type": "code",
   "execution_count": null,
   "id": "19",
   "metadata": {},
   "outputs": [],
   "source": [
    "gene_score_cat = pd.concat([gene_score_no_map_sub, gene_score_map_sub], axis = 0)\n",
    "print(len(gene_score_cat.index))\n",
    "gene_score_cat.head()"
   ]
  },
  {
   "cell_type": "markdown",
   "id": "20",
   "metadata": {},
   "source": [
    "# make id map"
   ]
  },
  {
   "cell_type": "code",
   "execution_count": null,
   "id": "21",
   "metadata": {},
   "outputs": [],
   "source": [
    "id_map = gene_score_cat[['SampleID', 'individualID']]\n",
    "id_map['CommonID'] = id_map.index\n",
    "print(len(gene_score_cat.index))\n",
    "id_map.head()"
   ]
  },
  {
   "cell_type": "code",
   "execution_count": null,
   "id": "22",
   "metadata": {},
   "outputs": [],
   "source": [
    "print(len(rosmap_id_map_sub[~rosmap_id_map_sub['ID'].isin(id_map['CommonID'])]))\n",
    "print(len(msbb_id_map_sub[~msbb_id_map_sub['ID'].isin(id_map['CommonID'])]))"
   ]
  },
  {
   "cell_type": "code",
   "execution_count": null,
   "id": "23",
   "metadata": {},
   "outputs": [],
   "source": [
    "rosmap_no_match = rosmap_id_map_sub[~rosmap_id_map_sub['ID'].isin(id_map['CommonID'])]\n",
    "rosmap_no_match.rename(columns = {'ID' : 'CommonID'}, inplace = True)\n",
    "id_map = pd.concat([id_map, rosmap_no_match], axis = 0)\n",
    "print(len(id_map.index))\n",
    "id_map.head()"
   ]
  },
  {
   "cell_type": "markdown",
   "id": "24",
   "metadata": {},
   "source": [
    "# transpose"
   ]
  },
  {
   "cell_type": "code",
   "execution_count": null,
   "id": "25",
   "metadata": {},
   "outputs": [],
   "source": [
    "gene_score_cat.drop(columns = ['SampleID', 'individualID'], inplace = True)\n",
    "gene_score_transpose = gene_score_cat.transpose()\n",
    "gene_score_transpose.insert(0, 'GENE', gene_score_transpose.index)\n",
    "gene_score_transpose.head()"
   ]
  },
  {
   "cell_type": "markdown",
   "id": "26",
   "metadata": {},
   "source": [
    "# export"
   ]
  },
  {
   "cell_type": "code",
   "execution_count": null,
   "id": "27",
   "metadata": {},
   "outputs": [],
   "source": [
    "gene_score_transpose.to_csv('merged_outputs/AOU_ALL.UKBB.metasoft.ADSP.all.VEP_v113.gene_by_position.r2_0.1_clump_variants_excluded.RE_pval_threshold_0.05.gene_symbol.average_gene_score.merged.common_id.transpose.txt',\n",
    "                            sep = '\\t',\n",
    "                           index = None)"
   ]
  },
  {
   "cell_type": "code",
   "execution_count": null,
   "id": "28",
   "metadata": {},
   "outputs": [],
   "source": [
    "id_map.to_csv('id_map/ADSP.ROSMAP.MSBB.id_map.txt',\n",
    "              sep = '\\t',\n",
    "              index = None)"
   ]
  },
  {
   "cell_type": "code",
   "execution_count": null,
   "id": "29",
   "metadata": {},
   "outputs": [],
   "source": []
  }
 ],
 "metadata": {
  "kernelspec": {
   "display_name": "Python 3 (ipykernel)",
   "language": "python",
   "name": "python3"
  },
  "language_info": {
   "codemirror_mode": {
    "name": "ipython",
    "version": 3
   },
   "file_extension": ".py",
   "mimetype": "text/x-python",
   "name": "python",
   "nbconvert_exporter": "python",
   "pygments_lexer": "ipython3",
   "version": "3.12.3"
  }
 },
 "nbformat": 4,
 "nbformat_minor": 5
}

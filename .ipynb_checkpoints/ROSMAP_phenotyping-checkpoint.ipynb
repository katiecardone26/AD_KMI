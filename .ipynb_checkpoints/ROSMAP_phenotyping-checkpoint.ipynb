{
 "cells": [
  {
   "cell_type": "markdown",
   "id": "fc12cf9e-ae10-4b00-98f2-3c10d68366a1",
   "metadata": {},
   "source": [
    "# load packages"
   ]
  },
  {
   "cell_type": "code",
   "execution_count": 1,
   "id": "62e78dc7-8f83-458c-b321-63a98db3c227",
   "metadata": {},
   "outputs": [
    {
     "name": "stderr",
     "output_type": "stream",
     "text": [
      "── \u001b[1mAttaching core tidyverse packages\u001b[22m ───────────────────────────────────────────────────────────────────────────────────────────── tidyverse 2.0.0 ──\n",
      "\u001b[32m✔\u001b[39m \u001b[34mdplyr    \u001b[39m 1.1.4     \u001b[32m✔\u001b[39m \u001b[34mreadr    \u001b[39m 2.1.5\n",
      "\u001b[32m✔\u001b[39m \u001b[34mforcats  \u001b[39m 1.0.0     \u001b[32m✔\u001b[39m \u001b[34mstringr  \u001b[39m 1.5.1\n",
      "\u001b[32m✔\u001b[39m \u001b[34mggplot2  \u001b[39m 3.5.0     \u001b[32m✔\u001b[39m \u001b[34mtibble   \u001b[39m 3.2.1\n",
      "\u001b[32m✔\u001b[39m \u001b[34mlubridate\u001b[39m 1.9.3     \u001b[32m✔\u001b[39m \u001b[34mtidyr    \u001b[39m 1.3.1\n",
      "\u001b[32m✔\u001b[39m \u001b[34mpurrr    \u001b[39m 1.0.2     \n",
      "── \u001b[1mConflicts\u001b[22m ─────────────────────────────────────────────────────────────────────────────────────────────────────────────── tidyverse_conflicts() ──\n",
      "\u001b[31m✖\u001b[39m \u001b[34mdplyr\u001b[39m::\u001b[32mfilter()\u001b[39m masks \u001b[34mstats\u001b[39m::filter()\n",
      "\u001b[31m✖\u001b[39m \u001b[34mdplyr\u001b[39m::\u001b[32mlag()\u001b[39m    masks \u001b[34mstats\u001b[39m::lag()\n",
      "\u001b[36mℹ\u001b[39m Use the conflicted package (\u001b[3m\u001b[34m<http://conflicted.r-lib.org/>\u001b[39m\u001b[23m) to force all conflicts to become errors\n"
     ]
    }
   ],
   "source": [
    "library(tidyverse)"
   ]
  },
  {
   "cell_type": "markdown",
   "id": "bfeb3e03-8007-499e-835a-74f298bc0b78",
   "metadata": {},
   "source": [
    "# read in input files"
   ]
  },
  {
   "cell_type": "code",
   "execution_count": 2,
   "id": "98183f13-552c-4af2-8af9-f2b2d5b80679",
   "metadata": {},
   "outputs": [
    {
     "data": {
      "text/html": [
       "<table class=\"dataframe\">\n",
       "<caption>A data.frame: 6 × 18</caption>\n",
       "<thead>\n",
       "\t<tr><th></th><th scope=col>projid</th><th scope=col>Study</th><th scope=col>msex</th><th scope=col>educ</th><th scope=col>race</th><th scope=col>spanish</th><th scope=col>apoe_genotype</th><th scope=col>age_at_visit_max</th><th scope=col>age_first_ad_dx</th><th scope=col>age_death</th><th scope=col>cts_mmse30_first_ad_dx</th><th scope=col>cts_mmse30_lv</th><th scope=col>pmi</th><th scope=col>braaksc</th><th scope=col>ceradsc</th><th scope=col>cogdx</th><th scope=col>dcfdx_lv</th><th scope=col>individualID</th></tr>\n",
       "\t<tr><th></th><th scope=col>&lt;int&gt;</th><th scope=col>&lt;chr&gt;</th><th scope=col>&lt;int&gt;</th><th scope=col>&lt;int&gt;</th><th scope=col>&lt;int&gt;</th><th scope=col>&lt;int&gt;</th><th scope=col>&lt;int&gt;</th><th scope=col>&lt;chr&gt;</th><th scope=col>&lt;chr&gt;</th><th scope=col>&lt;chr&gt;</th><th scope=col>&lt;dbl&gt;</th><th scope=col>&lt;dbl&gt;</th><th scope=col>&lt;dbl&gt;</th><th scope=col>&lt;int&gt;</th><th scope=col>&lt;int&gt;</th><th scope=col>&lt;int&gt;</th><th scope=col>&lt;int&gt;</th><th scope=col>&lt;chr&gt;</th></tr>\n",
       "</thead>\n",
       "<tbody>\n",
       "\t<tr><th scope=row>1</th><td>10101589</td><td>ROS</td><td>1</td><td>20</td><td>1</td><td>2</td><td>34</td><td>90+</td><td>90+</td><td>90+</td><td>18</td><td> 5</td><td>9.916667</td><td> 4</td><td> 2</td><td> 4</td><td>4</td><td>R6939144</td></tr>\n",
       "\t<tr><th scope=row>2</th><td>86767530</td><td>MAP</td><td>0</td><td>10</td><td>1</td><td>2</td><td>33</td><td>90+</td><td>90+</td><td>90+</td><td>18</td><td>10</td><td>6.500000</td><td> 4</td><td> 2</td><td> 4</td><td>4</td><td>R3893503</td></tr>\n",
       "\t<tr><th scope=row>3</th><td> 9650662</td><td>MAP</td><td>0</td><td>15</td><td>1</td><td>2</td><td>23</td><td>90+</td><td>90+</td><td>90+</td><td> 0</td><td> 0</td><td>3.850000</td><td> 3</td><td> 2</td><td> 4</td><td>4</td><td>R8937093</td></tr>\n",
       "\t<tr><th scope=row>4</th><td>50402855</td><td>MAP</td><td>0</td><td>21</td><td>1</td><td>2</td><td>33</td><td>90+</td><td>NA </td><td>NA </td><td>NA</td><td>27</td><td>      NA</td><td>NA</td><td>NA</td><td>NA</td><td>1</td><td>R7139444</td></tr>\n",
       "\t<tr><th scope=row>5</th><td>20544321</td><td>ROS</td><td>0</td><td>16</td><td>1</td><td>2</td><td>23</td><td>90+</td><td>90+</td><td>NA </td><td>13</td><td>14</td><td>      NA</td><td>NA</td><td>NA</td><td>NA</td><td>4</td><td>R4971237</td></tr>\n",
       "\t<tr><th scope=row>6</th><td>20630946</td><td>ROS</td><td>0</td><td>18</td><td>1</td><td>2</td><td>33</td><td>90+</td><td>90+</td><td>90+</td><td>NA</td><td> 0</td><td>2.900000</td><td> 3</td><td> 4</td><td> 4</td><td>4</td><td>R4859661</td></tr>\n",
       "</tbody>\n",
       "</table>\n"
      ],
      "text/latex": [
       "A data.frame: 6 × 18\n",
       "\\begin{tabular}{r|llllllllllllllllll}\n",
       "  & projid & Study & msex & educ & race & spanish & apoe\\_genotype & age\\_at\\_visit\\_max & age\\_first\\_ad\\_dx & age\\_death & cts\\_mmse30\\_first\\_ad\\_dx & cts\\_mmse30\\_lv & pmi & braaksc & ceradsc & cogdx & dcfdx\\_lv & individualID\\\\\n",
       "  & <int> & <chr> & <int> & <int> & <int> & <int> & <int> & <chr> & <chr> & <chr> & <dbl> & <dbl> & <dbl> & <int> & <int> & <int> & <int> & <chr>\\\\\n",
       "\\hline\n",
       "\t1 & 10101589 & ROS & 1 & 20 & 1 & 2 & 34 & 90+ & 90+ & 90+ & 18 &  5 & 9.916667 &  4 &  2 &  4 & 4 & R6939144\\\\\n",
       "\t2 & 86767530 & MAP & 0 & 10 & 1 & 2 & 33 & 90+ & 90+ & 90+ & 18 & 10 & 6.500000 &  4 &  2 &  4 & 4 & R3893503\\\\\n",
       "\t3 &  9650662 & MAP & 0 & 15 & 1 & 2 & 23 & 90+ & 90+ & 90+ &  0 &  0 & 3.850000 &  3 &  2 &  4 & 4 & R8937093\\\\\n",
       "\t4 & 50402855 & MAP & 0 & 21 & 1 & 2 & 33 & 90+ & NA  & NA  & NA & 27 &       NA & NA & NA & NA & 1 & R7139444\\\\\n",
       "\t5 & 20544321 & ROS & 0 & 16 & 1 & 2 & 23 & 90+ & 90+ & NA  & 13 & 14 &       NA & NA & NA & NA & 4 & R4971237\\\\\n",
       "\t6 & 20630946 & ROS & 0 & 18 & 1 & 2 & 33 & 90+ & 90+ & 90+ & NA &  0 & 2.900000 &  3 &  4 &  4 & 4 & R4859661\\\\\n",
       "\\end{tabular}\n"
      ],
      "text/markdown": [
       "\n",
       "A data.frame: 6 × 18\n",
       "\n",
       "| <!--/--> | projid &lt;int&gt; | Study &lt;chr&gt; | msex &lt;int&gt; | educ &lt;int&gt; | race &lt;int&gt; | spanish &lt;int&gt; | apoe_genotype &lt;int&gt; | age_at_visit_max &lt;chr&gt; | age_first_ad_dx &lt;chr&gt; | age_death &lt;chr&gt; | cts_mmse30_first_ad_dx &lt;dbl&gt; | cts_mmse30_lv &lt;dbl&gt; | pmi &lt;dbl&gt; | braaksc &lt;int&gt; | ceradsc &lt;int&gt; | cogdx &lt;int&gt; | dcfdx_lv &lt;int&gt; | individualID &lt;chr&gt; |\n",
       "|---|---|---|---|---|---|---|---|---|---|---|---|---|---|---|---|---|---|---|\n",
       "| 1 | 10101589 | ROS | 1 | 20 | 1 | 2 | 34 | 90+ | 90+ | 90+ | 18 |  5 | 9.916667 |  4 |  2 |  4 | 4 | R6939144 |\n",
       "| 2 | 86767530 | MAP | 0 | 10 | 1 | 2 | 33 | 90+ | 90+ | 90+ | 18 | 10 | 6.500000 |  4 |  2 |  4 | 4 | R3893503 |\n",
       "| 3 |  9650662 | MAP | 0 | 15 | 1 | 2 | 23 | 90+ | 90+ | 90+ |  0 |  0 | 3.850000 |  3 |  2 |  4 | 4 | R8937093 |\n",
       "| 4 | 50402855 | MAP | 0 | 21 | 1 | 2 | 33 | 90+ | NA  | NA  | NA | 27 |       NA | NA | NA | NA | 1 | R7139444 |\n",
       "| 5 | 20544321 | ROS | 0 | 16 | 1 | 2 | 23 | 90+ | 90+ | NA  | 13 | 14 |       NA | NA | NA | NA | 4 | R4971237 |\n",
       "| 6 | 20630946 | ROS | 0 | 18 | 1 | 2 | 33 | 90+ | 90+ | 90+ | NA |  0 | 2.900000 |  3 |  4 |  4 | 4 | R4859661 |\n",
       "\n"
      ],
      "text/plain": [
       "  projid   Study msex educ race spanish apoe_genotype age_at_visit_max\n",
       "1 10101589 ROS   1    20   1    2       34            90+             \n",
       "2 86767530 MAP   0    10   1    2       33            90+             \n",
       "3  9650662 MAP   0    15   1    2       23            90+             \n",
       "4 50402855 MAP   0    21   1    2       33            90+             \n",
       "5 20544321 ROS   0    16   1    2       23            90+             \n",
       "6 20630946 ROS   0    18   1    2       33            90+             \n",
       "  age_first_ad_dx age_death cts_mmse30_first_ad_dx cts_mmse30_lv pmi     \n",
       "1 90+             90+       18                      5            9.916667\n",
       "2 90+             90+       18                     10            6.500000\n",
       "3 90+             90+        0                      0            3.850000\n",
       "4 NA              NA        NA                     27                  NA\n",
       "5 90+             NA        13                     14                  NA\n",
       "6 90+             90+       NA                      0            2.900000\n",
       "  braaksc ceradsc cogdx dcfdx_lv individualID\n",
       "1  4       2       4    4        R6939144    \n",
       "2  4       2       4    4        R3893503    \n",
       "3  3       2       4    4        R8937093    \n",
       "4 NA      NA      NA    1        R7139444    \n",
       "5 NA      NA      NA    4        R4971237    \n",
       "6  3       4       4    4        R4859661    "
      ]
     },
     "metadata": {},
     "output_type": "display_data"
    }
   ],
   "source": [
    "pheno=read.csv('/project/ritchie01/datasets/rosmap/Metadata/ROSMAP_clinical.csv',na.strings=c(\"\",\"NA\"))\n",
    "head(pheno)"
   ]
  },
  {
   "cell_type": "code",
   "execution_count": 3,
   "id": "9406d147-d51c-4585-8d7e-def3cba935c7",
   "metadata": {},
   "outputs": [
    {
     "data": {
      "text/html": [
       "<table class=\"dataframe\">\n",
       "<caption>A data.frame: 6 × 2</caption>\n",
       "<thead>\n",
       "\t<tr><th></th><th scope=col>individualID</th><th scope=col>specimenID</th></tr>\n",
       "\t<tr><th></th><th scope=col>&lt;chr&gt;</th><th scope=col>&lt;chr&gt;</th></tr>\n",
       "</thead>\n",
       "<tbody>\n",
       "\t<tr><th scope=row>1</th><td>R9996478</td><td>SM-CJFME</td></tr>\n",
       "\t<tr><th scope=row>2</th><td>R9991313</td><td>SM-CTDUE</td></tr>\n",
       "\t<tr><th scope=row>3</th><td>R9976232</td><td>SM-CTDS5</td></tr>\n",
       "\t<tr><th scope=row>4</th><td>R9974729</td><td>SM-CJK4P</td></tr>\n",
       "\t<tr><th scope=row>5</th><td>R9958949</td><td>SM-CJEGN</td></tr>\n",
       "\t<tr><th scope=row>6</th><td>R9950567</td><td>SM-CTDTE</td></tr>\n",
       "</tbody>\n",
       "</table>\n"
      ],
      "text/latex": [
       "A data.frame: 6 × 2\n",
       "\\begin{tabular}{r|ll}\n",
       "  & individualID & specimenID\\\\\n",
       "  & <chr> & <chr>\\\\\n",
       "\\hline\n",
       "\t1 & R9996478 & SM-CJFME\\\\\n",
       "\t2 & R9991313 & SM-CTDUE\\\\\n",
       "\t3 & R9976232 & SM-CTDS5\\\\\n",
       "\t4 & R9974729 & SM-CJK4P\\\\\n",
       "\t5 & R9958949 & SM-CJEGN\\\\\n",
       "\t6 & R9950567 & SM-CTDTE\\\\\n",
       "\\end{tabular}\n"
      ],
      "text/markdown": [
       "\n",
       "A data.frame: 6 × 2\n",
       "\n",
       "| <!--/--> | individualID &lt;chr&gt; | specimenID &lt;chr&gt; |\n",
       "|---|---|---|\n",
       "| 1 | R9996478 | SM-CJFME |\n",
       "| 2 | R9991313 | SM-CTDUE |\n",
       "| 3 | R9976232 | SM-CTDS5 |\n",
       "| 4 | R9974729 | SM-CJK4P |\n",
       "| 5 | R9958949 | SM-CJEGN |\n",
       "| 6 | R9950567 | SM-CTDTE |\n",
       "\n"
      ],
      "text/plain": [
       "  individualID specimenID\n",
       "1 R9996478     SM-CJFME  \n",
       "2 R9991313     SM-CTDUE  \n",
       "3 R9976232     SM-CTDS5  \n",
       "4 R9974729     SM-CJK4P  \n",
       "5 R9958949     SM-CJEGN  \n",
       "6 R9950567     SM-CTDTE  "
      ]
     },
     "metadata": {},
     "output_type": "display_data"
    },
    {
     "data": {
      "text/html": [
       "1174"
      ],
      "text/latex": [
       "1174"
      ],
      "text/markdown": [
       "1174"
      ],
      "text/plain": [
       "[1] 1174"
      ]
     },
     "metadata": {},
     "output_type": "display_data"
    }
   ],
   "source": [
    "id_map=read.csv('/project/ritchie02/projects/AD_KMI/pathway_score/rosmap/ID_mapping/ROSMAP.ALL_WGS.pass_qc.ID_map.txt',sep='\\t')\n",
    "head(id_map)\n",
    "nrow(id_map)"
   ]
  },
  {
   "cell_type": "code",
   "execution_count": 4,
   "id": "134d0d6a-78fc-4e1e-b431-369863ccbc16",
   "metadata": {},
   "outputs": [
    {
     "data": {
      "text/html": [
       "<table class=\"dataframe\">\n",
       "<caption>A data.frame: 6 × 12</caption>\n",
       "<thead>\n",
       "\t<tr><th></th><th scope=col>ID</th><th scope=col>PC1</th><th scope=col>PC2</th><th scope=col>PC3</th><th scope=col>PC4</th><th scope=col>PC5</th><th scope=col>PC6</th><th scope=col>PC7</th><th scope=col>PC8</th><th scope=col>PC9</th><th scope=col>PC10</th><th scope=col>STUDY</th></tr>\n",
       "\t<tr><th></th><th scope=col>&lt;chr&gt;</th><th scope=col>&lt;dbl&gt;</th><th scope=col>&lt;dbl&gt;</th><th scope=col>&lt;dbl&gt;</th><th scope=col>&lt;dbl&gt;</th><th scope=col>&lt;dbl&gt;</th><th scope=col>&lt;dbl&gt;</th><th scope=col>&lt;dbl&gt;</th><th scope=col>&lt;dbl&gt;</th><th scope=col>&lt;dbl&gt;</th><th scope=col>&lt;dbl&gt;</th><th scope=col>&lt;chr&gt;</th></tr>\n",
       "</thead>\n",
       "<tbody>\n",
       "\t<tr><th scope=row>1</th><td>MAP15387421</td><td>-0.0109</td><td>-0.0272</td><td>0.0094</td><td>0.0171</td><td>-0.0040</td><td>-0.0089</td><td>-0.0128</td><td>-0.0154</td><td> 0.0090</td><td>-0.0140</td><td>ROSMAP</td></tr>\n",
       "\t<tr><th scope=row>2</th><td>MAP22868024</td><td>-0.0108</td><td>-0.0274</td><td>0.0066</td><td>0.0154</td><td>-0.0120</td><td>-0.0091</td><td>-0.0019</td><td>-0.0207</td><td> 0.0148</td><td>-0.0132</td><td>ROSMAP</td></tr>\n",
       "\t<tr><th scope=row>3</th><td>MAP26637867</td><td>-0.0113</td><td>-0.0270</td><td>0.0086</td><td>0.0153</td><td> 0.0138</td><td>-0.0038</td><td> 0.0012</td><td>-0.0277</td><td> 0.0062</td><td>-0.0138</td><td>ROSMAP</td></tr>\n",
       "\t<tr><th scope=row>4</th><td>MAP29629849</td><td>-0.0113</td><td>-0.0275</td><td>0.0093</td><td>0.0146</td><td>-0.0046</td><td>-0.0085</td><td>-0.0033</td><td>-0.0249</td><td>-0.0018</td><td>-0.0141</td><td>ROSMAP</td></tr>\n",
       "\t<tr><th scope=row>5</th><td>MAP33332646</td><td>-0.0113</td><td>-0.0273</td><td>0.0084</td><td>0.0144</td><td> 0.0007</td><td>-0.0109</td><td>-0.0054</td><td>-0.0342</td><td> 0.0027</td><td>-0.0094</td><td>ROSMAP</td></tr>\n",
       "\t<tr><th scope=row>6</th><td>MAP34726040</td><td>-0.0111</td><td>-0.0268</td><td>0.0088</td><td>0.0155</td><td>-0.0031</td><td>-0.0067</td><td>-0.0091</td><td>-0.0362</td><td> 0.0087</td><td>-0.0105</td><td>ROSMAP</td></tr>\n",
       "</tbody>\n",
       "</table>\n"
      ],
      "text/latex": [
       "A data.frame: 6 × 12\n",
       "\\begin{tabular}{r|llllllllllll}\n",
       "  & ID & PC1 & PC2 & PC3 & PC4 & PC5 & PC6 & PC7 & PC8 & PC9 & PC10 & STUDY\\\\\n",
       "  & <chr> & <dbl> & <dbl> & <dbl> & <dbl> & <dbl> & <dbl> & <dbl> & <dbl> & <dbl> & <dbl> & <chr>\\\\\n",
       "\\hline\n",
       "\t1 & MAP15387421 & -0.0109 & -0.0272 & 0.0094 & 0.0171 & -0.0040 & -0.0089 & -0.0128 & -0.0154 &  0.0090 & -0.0140 & ROSMAP\\\\\n",
       "\t2 & MAP22868024 & -0.0108 & -0.0274 & 0.0066 & 0.0154 & -0.0120 & -0.0091 & -0.0019 & -0.0207 &  0.0148 & -0.0132 & ROSMAP\\\\\n",
       "\t3 & MAP26637867 & -0.0113 & -0.0270 & 0.0086 & 0.0153 &  0.0138 & -0.0038 &  0.0012 & -0.0277 &  0.0062 & -0.0138 & ROSMAP\\\\\n",
       "\t4 & MAP29629849 & -0.0113 & -0.0275 & 0.0093 & 0.0146 & -0.0046 & -0.0085 & -0.0033 & -0.0249 & -0.0018 & -0.0141 & ROSMAP\\\\\n",
       "\t5 & MAP33332646 & -0.0113 & -0.0273 & 0.0084 & 0.0144 &  0.0007 & -0.0109 & -0.0054 & -0.0342 &  0.0027 & -0.0094 & ROSMAP\\\\\n",
       "\t6 & MAP34726040 & -0.0111 & -0.0268 & 0.0088 & 0.0155 & -0.0031 & -0.0067 & -0.0091 & -0.0362 &  0.0087 & -0.0105 & ROSMAP\\\\\n",
       "\\end{tabular}\n"
      ],
      "text/markdown": [
       "\n",
       "A data.frame: 6 × 12\n",
       "\n",
       "| <!--/--> | ID &lt;chr&gt; | PC1 &lt;dbl&gt; | PC2 &lt;dbl&gt; | PC3 &lt;dbl&gt; | PC4 &lt;dbl&gt; | PC5 &lt;dbl&gt; | PC6 &lt;dbl&gt; | PC7 &lt;dbl&gt; | PC8 &lt;dbl&gt; | PC9 &lt;dbl&gt; | PC10 &lt;dbl&gt; | STUDY &lt;chr&gt; |\n",
       "|---|---|---|---|---|---|---|---|---|---|---|---|---|\n",
       "| 1 | MAP15387421 | -0.0109 | -0.0272 | 0.0094 | 0.0171 | -0.0040 | -0.0089 | -0.0128 | -0.0154 |  0.0090 | -0.0140 | ROSMAP |\n",
       "| 2 | MAP22868024 | -0.0108 | -0.0274 | 0.0066 | 0.0154 | -0.0120 | -0.0091 | -0.0019 | -0.0207 |  0.0148 | -0.0132 | ROSMAP |\n",
       "| 3 | MAP26637867 | -0.0113 | -0.0270 | 0.0086 | 0.0153 |  0.0138 | -0.0038 |  0.0012 | -0.0277 |  0.0062 | -0.0138 | ROSMAP |\n",
       "| 4 | MAP29629849 | -0.0113 | -0.0275 | 0.0093 | 0.0146 | -0.0046 | -0.0085 | -0.0033 | -0.0249 | -0.0018 | -0.0141 | ROSMAP |\n",
       "| 5 | MAP33332646 | -0.0113 | -0.0273 | 0.0084 | 0.0144 |  0.0007 | -0.0109 | -0.0054 | -0.0342 |  0.0027 | -0.0094 | ROSMAP |\n",
       "| 6 | MAP34726040 | -0.0111 | -0.0268 | 0.0088 | 0.0155 | -0.0031 | -0.0067 | -0.0091 | -0.0362 |  0.0087 | -0.0105 | ROSMAP |\n",
       "\n"
      ],
      "text/plain": [
       "  ID          PC1     PC2     PC3    PC4    PC5     PC6     PC7     PC8    \n",
       "1 MAP15387421 -0.0109 -0.0272 0.0094 0.0171 -0.0040 -0.0089 -0.0128 -0.0154\n",
       "2 MAP22868024 -0.0108 -0.0274 0.0066 0.0154 -0.0120 -0.0091 -0.0019 -0.0207\n",
       "3 MAP26637867 -0.0113 -0.0270 0.0086 0.0153  0.0138 -0.0038  0.0012 -0.0277\n",
       "4 MAP29629849 -0.0113 -0.0275 0.0093 0.0146 -0.0046 -0.0085 -0.0033 -0.0249\n",
       "5 MAP33332646 -0.0113 -0.0273 0.0084 0.0144  0.0007 -0.0109 -0.0054 -0.0342\n",
       "6 MAP34726040 -0.0111 -0.0268 0.0088 0.0155 -0.0031 -0.0067 -0.0091 -0.0362\n",
       "  PC9     PC10    STUDY \n",
       "1  0.0090 -0.0140 ROSMAP\n",
       "2  0.0148 -0.0132 ROSMAP\n",
       "3  0.0062 -0.0138 ROSMAP\n",
       "4 -0.0018 -0.0141 ROSMAP\n",
       "5  0.0027 -0.0094 ROSMAP\n",
       "6  0.0087 -0.0105 ROSMAP"
      ]
     },
     "metadata": {},
     "output_type": "display_data"
    }
   ],
   "source": [
    "pca=read.csv('/project/ritchie02/projects/AD_KMI/common_var_gene_score/igap_rosmap_gene_score/rosmap_pca/pca_output/rosmap_gene_score.projected_onto_1KG.eigenvec_cleaned',\n",
    "             sep='\\t')\n",
    "head(pca)"
   ]
  },
  {
   "cell_type": "markdown",
   "id": "61fa315c-c0ac-425b-ad54-bd6f286b8d26",
   "metadata": {},
   "source": [
    "# map IDs"
   ]
  },
  {
   "cell_type": "code",
   "execution_count": 5,
   "id": "21fee7bd-b006-4e1a-bc36-f9603f897da8",
   "metadata": {},
   "outputs": [
    {
     "data": {
      "text/html": [
       "1174"
      ],
      "text/latex": [
       "1174"
      ],
      "text/markdown": [
       "1174"
      ],
      "text/plain": [
       "[1] 1174"
      ]
     },
     "metadata": {},
     "output_type": "display_data"
    },
    {
     "data": {
      "text/html": [
       "3584"
      ],
      "text/latex": [
       "3584"
      ],
      "text/markdown": [
       "3584"
      ],
      "text/plain": [
       "[1] 3584"
      ]
     },
     "metadata": {},
     "output_type": "display_data"
    },
    {
     "data": {
      "text/html": [
       "1174"
      ],
      "text/latex": [
       "1174"
      ],
      "text/markdown": [
       "1174"
      ],
      "text/plain": [
       "[1] 1174"
      ]
     },
     "metadata": {},
     "output_type": "display_data"
    },
    {
     "data": {
      "text/html": [
       "<table class=\"dataframe\">\n",
       "<caption>A data.frame: 6 × 19</caption>\n",
       "<thead>\n",
       "\t<tr><th></th><th scope=col>individualID</th><th scope=col>projid</th><th scope=col>Study</th><th scope=col>msex</th><th scope=col>educ</th><th scope=col>race</th><th scope=col>spanish</th><th scope=col>apoe_genotype</th><th scope=col>age_at_visit_max</th><th scope=col>age_first_ad_dx</th><th scope=col>age_death</th><th scope=col>cts_mmse30_first_ad_dx</th><th scope=col>cts_mmse30_lv</th><th scope=col>pmi</th><th scope=col>braaksc</th><th scope=col>ceradsc</th><th scope=col>cogdx</th><th scope=col>dcfdx_lv</th><th scope=col>specimenID</th></tr>\n",
       "\t<tr><th></th><th scope=col>&lt;chr&gt;</th><th scope=col>&lt;int&gt;</th><th scope=col>&lt;chr&gt;</th><th scope=col>&lt;int&gt;</th><th scope=col>&lt;int&gt;</th><th scope=col>&lt;int&gt;</th><th scope=col>&lt;int&gt;</th><th scope=col>&lt;int&gt;</th><th scope=col>&lt;chr&gt;</th><th scope=col>&lt;chr&gt;</th><th scope=col>&lt;chr&gt;</th><th scope=col>&lt;dbl&gt;</th><th scope=col>&lt;dbl&gt;</th><th scope=col>&lt;dbl&gt;</th><th scope=col>&lt;int&gt;</th><th scope=col>&lt;int&gt;</th><th scope=col>&lt;int&gt;</th><th scope=col>&lt;int&gt;</th><th scope=col>&lt;chr&gt;</th></tr>\n",
       "</thead>\n",
       "<tbody>\n",
       "\t<tr><th scope=row>1</th><td>R1012422</td><td>20925446</td><td>ROS</td><td>0</td><td>14</td><td>1</td><td>2</td><td>33</td><td>87.501711156741962</td><td>NA               </td><td>87.55099247091033 </td><td>NA</td><td>14</td><td>3.000000</td><td>4</td><td>2</td><td>4</td><td>4</td><td>SM-CTEMF</td></tr>\n",
       "\t<tr><th scope=row>2</th><td>R1015854</td><td>45115248</td><td>MAP</td><td>0</td><td>16</td><td>1</td><td>2</td><td>33</td><td>86.811772758384663</td><td>NA               </td><td>87.115674195756327</td><td>NA</td><td>26</td><td>4.633333</td><td>2</td><td>4</td><td>2</td><td>2</td><td>SM-CTDQP</td></tr>\n",
       "\t<tr><th scope=row>3</th><td>R1017692</td><td>20787136</td><td>ROS</td><td>0</td><td>16</td><td>1</td><td>2</td><td>33</td><td>74.135523613963045</td><td>NA               </td><td>75.019849418206704</td><td>NA</td><td>27</td><td>4.000000</td><td>4</td><td>1</td><td>2</td><td>4</td><td>SM-CJFP9</td></tr>\n",
       "\t<tr><th scope=row>4</th><td>R1018391</td><td>50103381</td><td>MAP</td><td>1</td><td>16</td><td>1</td><td>2</td><td>34</td><td>89.639972621492134</td><td>NA               </td><td>90+               </td><td>NA</td><td>29</td><td>5.416667</td><td>4</td><td>2</td><td>2</td><td>2</td><td>SM-CJIXL</td></tr>\n",
       "\t<tr><th scope=row>5</th><td>R1020037</td><td>20154287</td><td>ROS</td><td>0</td><td>20</td><td>1</td><td>2</td><td>23</td><td>89.073237508555778</td><td>87.00342231348391</td><td>90+               </td><td>28</td><td>26</td><td>2.750000</td><td>3</td><td>4</td><td>2</td><td>2</td><td>SM-CJEJ2</td></tr>\n",
       "\t<tr><th scope=row>6</th><td>R1022980</td><td>30819298</td><td>MAP</td><td>0</td><td>10</td><td>1</td><td>2</td><td>33</td><td>89.111567419575636</td><td>NA               </td><td>89.900068446269685</td><td>NA</td><td> 8</td><td>8.083333</td><td>3</td><td>3</td><td>4</td><td>4</td><td>SM-CTEMK</td></tr>\n",
       "</tbody>\n",
       "</table>\n"
      ],
      "text/latex": [
       "A data.frame: 6 × 19\n",
       "\\begin{tabular}{r|lllllllllllllllllll}\n",
       "  & individualID & projid & Study & msex & educ & race & spanish & apoe\\_genotype & age\\_at\\_visit\\_max & age\\_first\\_ad\\_dx & age\\_death & cts\\_mmse30\\_first\\_ad\\_dx & cts\\_mmse30\\_lv & pmi & braaksc & ceradsc & cogdx & dcfdx\\_lv & specimenID\\\\\n",
       "  & <chr> & <int> & <chr> & <int> & <int> & <int> & <int> & <int> & <chr> & <chr> & <chr> & <dbl> & <dbl> & <dbl> & <int> & <int> & <int> & <int> & <chr>\\\\\n",
       "\\hline\n",
       "\t1 & R1012422 & 20925446 & ROS & 0 & 14 & 1 & 2 & 33 & 87.501711156741962 & NA                & 87.55099247091033  & NA & 14 & 3.000000 & 4 & 2 & 4 & 4 & SM-CTEMF\\\\\n",
       "\t2 & R1015854 & 45115248 & MAP & 0 & 16 & 1 & 2 & 33 & 86.811772758384663 & NA                & 87.115674195756327 & NA & 26 & 4.633333 & 2 & 4 & 2 & 2 & SM-CTDQP\\\\\n",
       "\t3 & R1017692 & 20787136 & ROS & 0 & 16 & 1 & 2 & 33 & 74.135523613963045 & NA                & 75.019849418206704 & NA & 27 & 4.000000 & 4 & 1 & 2 & 4 & SM-CJFP9\\\\\n",
       "\t4 & R1018391 & 50103381 & MAP & 1 & 16 & 1 & 2 & 34 & 89.639972621492134 & NA                & 90+                & NA & 29 & 5.416667 & 4 & 2 & 2 & 2 & SM-CJIXL\\\\\n",
       "\t5 & R1020037 & 20154287 & ROS & 0 & 20 & 1 & 2 & 23 & 89.073237508555778 & 87.00342231348391 & 90+                & 28 & 26 & 2.750000 & 3 & 4 & 2 & 2 & SM-CJEJ2\\\\\n",
       "\t6 & R1022980 & 30819298 & MAP & 0 & 10 & 1 & 2 & 33 & 89.111567419575636 & NA                & 89.900068446269685 & NA &  8 & 8.083333 & 3 & 3 & 4 & 4 & SM-CTEMK\\\\\n",
       "\\end{tabular}\n"
      ],
      "text/markdown": [
       "\n",
       "A data.frame: 6 × 19\n",
       "\n",
       "| <!--/--> | individualID &lt;chr&gt; | projid &lt;int&gt; | Study &lt;chr&gt; | msex &lt;int&gt; | educ &lt;int&gt; | race &lt;int&gt; | spanish &lt;int&gt; | apoe_genotype &lt;int&gt; | age_at_visit_max &lt;chr&gt; | age_first_ad_dx &lt;chr&gt; | age_death &lt;chr&gt; | cts_mmse30_first_ad_dx &lt;dbl&gt; | cts_mmse30_lv &lt;dbl&gt; | pmi &lt;dbl&gt; | braaksc &lt;int&gt; | ceradsc &lt;int&gt; | cogdx &lt;int&gt; | dcfdx_lv &lt;int&gt; | specimenID &lt;chr&gt; |\n",
       "|---|---|---|---|---|---|---|---|---|---|---|---|---|---|---|---|---|---|---|---|\n",
       "| 1 | R1012422 | 20925446 | ROS | 0 | 14 | 1 | 2 | 33 | 87.501711156741962 | NA                | 87.55099247091033  | NA | 14 | 3.000000 | 4 | 2 | 4 | 4 | SM-CTEMF |\n",
       "| 2 | R1015854 | 45115248 | MAP | 0 | 16 | 1 | 2 | 33 | 86.811772758384663 | NA                | 87.115674195756327 | NA | 26 | 4.633333 | 2 | 4 | 2 | 2 | SM-CTDQP |\n",
       "| 3 | R1017692 | 20787136 | ROS | 0 | 16 | 1 | 2 | 33 | 74.135523613963045 | NA                | 75.019849418206704 | NA | 27 | 4.000000 | 4 | 1 | 2 | 4 | SM-CJFP9 |\n",
       "| 4 | R1018391 | 50103381 | MAP | 1 | 16 | 1 | 2 | 34 | 89.639972621492134 | NA                | 90+                | NA | 29 | 5.416667 | 4 | 2 | 2 | 2 | SM-CJIXL |\n",
       "| 5 | R1020037 | 20154287 | ROS | 0 | 20 | 1 | 2 | 23 | 89.073237508555778 | 87.00342231348391 | 90+                | 28 | 26 | 2.750000 | 3 | 4 | 2 | 2 | SM-CJEJ2 |\n",
       "| 6 | R1022980 | 30819298 | MAP | 0 | 10 | 1 | 2 | 33 | 89.111567419575636 | NA                | 89.900068446269685 | NA |  8 | 8.083333 | 3 | 3 | 4 | 4 | SM-CTEMK |\n",
       "\n"
      ],
      "text/plain": [
       "  individualID projid   Study msex educ race spanish apoe_genotype\n",
       "1 R1012422     20925446 ROS   0    14   1    2       33           \n",
       "2 R1015854     45115248 MAP   0    16   1    2       33           \n",
       "3 R1017692     20787136 ROS   0    16   1    2       33           \n",
       "4 R1018391     50103381 MAP   1    16   1    2       34           \n",
       "5 R1020037     20154287 ROS   0    20   1    2       23           \n",
       "6 R1022980     30819298 MAP   0    10   1    2       33           \n",
       "  age_at_visit_max   age_first_ad_dx   age_death         \n",
       "1 87.501711156741962 NA                87.55099247091033 \n",
       "2 86.811772758384663 NA                87.115674195756327\n",
       "3 74.135523613963045 NA                75.019849418206704\n",
       "4 89.639972621492134 NA                90+               \n",
       "5 89.073237508555778 87.00342231348391 90+               \n",
       "6 89.111567419575636 NA                89.900068446269685\n",
       "  cts_mmse30_first_ad_dx cts_mmse30_lv pmi      braaksc ceradsc cogdx dcfdx_lv\n",
       "1 NA                     14            3.000000 4       2       4     4       \n",
       "2 NA                     26            4.633333 2       4       2     2       \n",
       "3 NA                     27            4.000000 4       1       2     4       \n",
       "4 NA                     29            5.416667 4       2       2     2       \n",
       "5 28                     26            2.750000 3       4       2     2       \n",
       "6 NA                      8            8.083333 3       3       4     4       \n",
       "  specimenID\n",
       "1 SM-CTEMF  \n",
       "2 SM-CTDQP  \n",
       "3 SM-CJFP9  \n",
       "4 SM-CJIXL  \n",
       "5 SM-CJEJ2  \n",
       "6 SM-CTEMK  "
      ]
     },
     "metadata": {},
     "output_type": "display_data"
    }
   ],
   "source": [
    "pheno_id=merge(pheno,id_map,by='individualID')\n",
    "nrow(pheno_id)\n",
    "nrow(pheno)\n",
    "nrow(id_map)\n",
    "head(pheno_id)"
   ]
  },
  {
   "cell_type": "markdown",
   "id": "2025971c-087f-4c05-aefd-db1567872c38",
   "metadata": {},
   "source": [
    "# drop other dementias and recode sex column"
   ]
  },
  {
   "cell_type": "code",
   "execution_count": 6,
   "id": "81e2468f-bb86-448d-afc0-791dca02b03e",
   "metadata": {},
   "outputs": [
    {
     "data": {
      "text/html": [
       "1152"
      ],
      "text/latex": [
       "1152"
      ],
      "text/markdown": [
       "1152"
      ],
      "text/plain": [
       "[1] 1152"
      ]
     },
     "metadata": {},
     "output_type": "display_data"
    },
    {
     "data": {
      "text/html": [
       "<style>\n",
       ".list-inline {list-style: none; margin:0; padding: 0}\n",
       ".list-inline>li {display: inline-block}\n",
       ".list-inline>li:not(:last-child)::after {content: \"\\00b7\"; padding: 0 .5ex}\n",
       "</style>\n",
       "<ol class=list-inline><li>4</li><li>2</li><li>1</li><li>3</li><li>5</li></ol>\n"
      ],
      "text/latex": [
       "\\begin{enumerate*}\n",
       "\\item 4\n",
       "\\item 2\n",
       "\\item 1\n",
       "\\item 3\n",
       "\\item 5\n",
       "\\end{enumerate*}\n"
      ],
      "text/markdown": [
       "1. 4\n",
       "2. 2\n",
       "3. 1\n",
       "4. 3\n",
       "5. 5\n",
       "\n",
       "\n"
      ],
      "text/plain": [
       "[1] 4 2 1 3 5"
      ]
     },
     "metadata": {},
     "output_type": "display_data"
    },
    {
     "data": {
      "text/html": [
       "<style>\n",
       ".list-inline {list-style: none; margin:0; padding: 0}\n",
       ".list-inline>li {display: inline-block}\n",
       ".list-inline>li:not(:last-child)::after {content: \"\\00b7\"; padding: 0 .5ex}\n",
       "</style>\n",
       "<ol class=list-inline><li>'2'</li><li>'1'</li></ol>\n"
      ],
      "text/latex": [
       "\\begin{enumerate*}\n",
       "\\item '2'\n",
       "\\item '1'\n",
       "\\end{enumerate*}\n"
      ],
      "text/markdown": [
       "1. '2'\n",
       "2. '1'\n",
       "\n",
       "\n"
      ],
      "text/plain": [
       "[1] \"2\" \"1\""
      ]
     },
     "metadata": {},
     "output_type": "display_data"
    },
    {
     "data": {
      "text/html": [
       "<table class=\"dataframe\">\n",
       "<caption>A data.frame: 6 × 19</caption>\n",
       "<thead>\n",
       "\t<tr><th></th><th scope=col>individualID</th><th scope=col>projid</th><th scope=col>Study</th><th scope=col>SEX</th><th scope=col>educ</th><th scope=col>race</th><th scope=col>spanish</th><th scope=col>apoe_genotype</th><th scope=col>age_at_visit_max</th><th scope=col>age_first_ad_dx</th><th scope=col>age_death</th><th scope=col>cts_mmse30_first_ad_dx</th><th scope=col>cts_mmse30_lv</th><th scope=col>pmi</th><th scope=col>braaksc</th><th scope=col>ceradsc</th><th scope=col>cogdx</th><th scope=col>dcfdx_lv</th><th scope=col>specimenID</th></tr>\n",
       "\t<tr><th></th><th scope=col>&lt;chr&gt;</th><th scope=col>&lt;int&gt;</th><th scope=col>&lt;chr&gt;</th><th scope=col>&lt;chr&gt;</th><th scope=col>&lt;int&gt;</th><th scope=col>&lt;int&gt;</th><th scope=col>&lt;int&gt;</th><th scope=col>&lt;int&gt;</th><th scope=col>&lt;chr&gt;</th><th scope=col>&lt;chr&gt;</th><th scope=col>&lt;chr&gt;</th><th scope=col>&lt;dbl&gt;</th><th scope=col>&lt;dbl&gt;</th><th scope=col>&lt;dbl&gt;</th><th scope=col>&lt;int&gt;</th><th scope=col>&lt;int&gt;</th><th scope=col>&lt;int&gt;</th><th scope=col>&lt;int&gt;</th><th scope=col>&lt;chr&gt;</th></tr>\n",
       "</thead>\n",
       "<tbody>\n",
       "\t<tr><th scope=row>1</th><td>R1012422</td><td>20925446</td><td>ROS</td><td>2</td><td>14</td><td>1</td><td>2</td><td>33</td><td>87.501711156741962</td><td>NA               </td><td>87.55099247091033 </td><td>NA</td><td>14</td><td>3.000000</td><td>4</td><td>2</td><td>4</td><td>4</td><td>SM-CTEMF</td></tr>\n",
       "\t<tr><th scope=row>2</th><td>R1015854</td><td>45115248</td><td>MAP</td><td>2</td><td>16</td><td>1</td><td>2</td><td>33</td><td>86.811772758384663</td><td>NA               </td><td>87.115674195756327</td><td>NA</td><td>26</td><td>4.633333</td><td>2</td><td>4</td><td>2</td><td>2</td><td>SM-CTDQP</td></tr>\n",
       "\t<tr><th scope=row>3</th><td>R1017692</td><td>20787136</td><td>ROS</td><td>2</td><td>16</td><td>1</td><td>2</td><td>33</td><td>74.135523613963045</td><td>NA               </td><td>75.019849418206704</td><td>NA</td><td>27</td><td>4.000000</td><td>4</td><td>1</td><td>2</td><td>4</td><td>SM-CJFP9</td></tr>\n",
       "\t<tr><th scope=row>4</th><td>R1018391</td><td>50103381</td><td>MAP</td><td>1</td><td>16</td><td>1</td><td>2</td><td>34</td><td>89.639972621492134</td><td>NA               </td><td>90+               </td><td>NA</td><td>29</td><td>5.416667</td><td>4</td><td>2</td><td>2</td><td>2</td><td>SM-CJIXL</td></tr>\n",
       "\t<tr><th scope=row>5</th><td>R1020037</td><td>20154287</td><td>ROS</td><td>2</td><td>20</td><td>1</td><td>2</td><td>23</td><td>89.073237508555778</td><td>87.00342231348391</td><td>90+               </td><td>28</td><td>26</td><td>2.750000</td><td>3</td><td>4</td><td>2</td><td>2</td><td>SM-CJEJ2</td></tr>\n",
       "\t<tr><th scope=row>6</th><td>R1022980</td><td>30819298</td><td>MAP</td><td>2</td><td>10</td><td>1</td><td>2</td><td>33</td><td>89.111567419575636</td><td>NA               </td><td>89.900068446269685</td><td>NA</td><td> 8</td><td>8.083333</td><td>3</td><td>3</td><td>4</td><td>4</td><td>SM-CTEMK</td></tr>\n",
       "</tbody>\n",
       "</table>\n"
      ],
      "text/latex": [
       "A data.frame: 6 × 19\n",
       "\\begin{tabular}{r|lllllllllllllllllll}\n",
       "  & individualID & projid & Study & SEX & educ & race & spanish & apoe\\_genotype & age\\_at\\_visit\\_max & age\\_first\\_ad\\_dx & age\\_death & cts\\_mmse30\\_first\\_ad\\_dx & cts\\_mmse30\\_lv & pmi & braaksc & ceradsc & cogdx & dcfdx\\_lv & specimenID\\\\\n",
       "  & <chr> & <int> & <chr> & <chr> & <int> & <int> & <int> & <int> & <chr> & <chr> & <chr> & <dbl> & <dbl> & <dbl> & <int> & <int> & <int> & <int> & <chr>\\\\\n",
       "\\hline\n",
       "\t1 & R1012422 & 20925446 & ROS & 2 & 14 & 1 & 2 & 33 & 87.501711156741962 & NA                & 87.55099247091033  & NA & 14 & 3.000000 & 4 & 2 & 4 & 4 & SM-CTEMF\\\\\n",
       "\t2 & R1015854 & 45115248 & MAP & 2 & 16 & 1 & 2 & 33 & 86.811772758384663 & NA                & 87.115674195756327 & NA & 26 & 4.633333 & 2 & 4 & 2 & 2 & SM-CTDQP\\\\\n",
       "\t3 & R1017692 & 20787136 & ROS & 2 & 16 & 1 & 2 & 33 & 74.135523613963045 & NA                & 75.019849418206704 & NA & 27 & 4.000000 & 4 & 1 & 2 & 4 & SM-CJFP9\\\\\n",
       "\t4 & R1018391 & 50103381 & MAP & 1 & 16 & 1 & 2 & 34 & 89.639972621492134 & NA                & 90+                & NA & 29 & 5.416667 & 4 & 2 & 2 & 2 & SM-CJIXL\\\\\n",
       "\t5 & R1020037 & 20154287 & ROS & 2 & 20 & 1 & 2 & 23 & 89.073237508555778 & 87.00342231348391 & 90+                & 28 & 26 & 2.750000 & 3 & 4 & 2 & 2 & SM-CJEJ2\\\\\n",
       "\t6 & R1022980 & 30819298 & MAP & 2 & 10 & 1 & 2 & 33 & 89.111567419575636 & NA                & 89.900068446269685 & NA &  8 & 8.083333 & 3 & 3 & 4 & 4 & SM-CTEMK\\\\\n",
       "\\end{tabular}\n"
      ],
      "text/markdown": [
       "\n",
       "A data.frame: 6 × 19\n",
       "\n",
       "| <!--/--> | individualID &lt;chr&gt; | projid &lt;int&gt; | Study &lt;chr&gt; | SEX &lt;chr&gt; | educ &lt;int&gt; | race &lt;int&gt; | spanish &lt;int&gt; | apoe_genotype &lt;int&gt; | age_at_visit_max &lt;chr&gt; | age_first_ad_dx &lt;chr&gt; | age_death &lt;chr&gt; | cts_mmse30_first_ad_dx &lt;dbl&gt; | cts_mmse30_lv &lt;dbl&gt; | pmi &lt;dbl&gt; | braaksc &lt;int&gt; | ceradsc &lt;int&gt; | cogdx &lt;int&gt; | dcfdx_lv &lt;int&gt; | specimenID &lt;chr&gt; |\n",
       "|---|---|---|---|---|---|---|---|---|---|---|---|---|---|---|---|---|---|---|---|\n",
       "| 1 | R1012422 | 20925446 | ROS | 2 | 14 | 1 | 2 | 33 | 87.501711156741962 | NA                | 87.55099247091033  | NA | 14 | 3.000000 | 4 | 2 | 4 | 4 | SM-CTEMF |\n",
       "| 2 | R1015854 | 45115248 | MAP | 2 | 16 | 1 | 2 | 33 | 86.811772758384663 | NA                | 87.115674195756327 | NA | 26 | 4.633333 | 2 | 4 | 2 | 2 | SM-CTDQP |\n",
       "| 3 | R1017692 | 20787136 | ROS | 2 | 16 | 1 | 2 | 33 | 74.135523613963045 | NA                | 75.019849418206704 | NA | 27 | 4.000000 | 4 | 1 | 2 | 4 | SM-CJFP9 |\n",
       "| 4 | R1018391 | 50103381 | MAP | 1 | 16 | 1 | 2 | 34 | 89.639972621492134 | NA                | 90+                | NA | 29 | 5.416667 | 4 | 2 | 2 | 2 | SM-CJIXL |\n",
       "| 5 | R1020037 | 20154287 | ROS | 2 | 20 | 1 | 2 | 23 | 89.073237508555778 | 87.00342231348391 | 90+                | 28 | 26 | 2.750000 | 3 | 4 | 2 | 2 | SM-CJEJ2 |\n",
       "| 6 | R1022980 | 30819298 | MAP | 2 | 10 | 1 | 2 | 33 | 89.111567419575636 | NA                | 89.900068446269685 | NA |  8 | 8.083333 | 3 | 3 | 4 | 4 | SM-CTEMK |\n",
       "\n"
      ],
      "text/plain": [
       "  individualID projid   Study SEX educ race spanish apoe_genotype\n",
       "1 R1012422     20925446 ROS   2   14   1    2       33           \n",
       "2 R1015854     45115248 MAP   2   16   1    2       33           \n",
       "3 R1017692     20787136 ROS   2   16   1    2       33           \n",
       "4 R1018391     50103381 MAP   1   16   1    2       34           \n",
       "5 R1020037     20154287 ROS   2   20   1    2       23           \n",
       "6 R1022980     30819298 MAP   2   10   1    2       33           \n",
       "  age_at_visit_max   age_first_ad_dx   age_death         \n",
       "1 87.501711156741962 NA                87.55099247091033 \n",
       "2 86.811772758384663 NA                87.115674195756327\n",
       "3 74.135523613963045 NA                75.019849418206704\n",
       "4 89.639972621492134 NA                90+               \n",
       "5 89.073237508555778 87.00342231348391 90+               \n",
       "6 89.111567419575636 NA                89.900068446269685\n",
       "  cts_mmse30_first_ad_dx cts_mmse30_lv pmi      braaksc ceradsc cogdx dcfdx_lv\n",
       "1 NA                     14            3.000000 4       2       4     4       \n",
       "2 NA                     26            4.633333 2       4       2     2       \n",
       "3 NA                     27            4.000000 4       1       2     4       \n",
       "4 NA                     29            5.416667 4       2       2     2       \n",
       "5 28                     26            2.750000 3       4       2     2       \n",
       "6 NA                      8            8.083333 3       3       4     4       \n",
       "  specimenID\n",
       "1 SM-CTEMF  \n",
       "2 SM-CTDQP  \n",
       "3 SM-CJFP9  \n",
       "4 SM-CJIXL  \n",
       "5 SM-CJEJ2  \n",
       "6 SM-CTEMK  "
      ]
     },
     "metadata": {},
     "output_type": "display_data"
    }
   ],
   "source": [
    "pheno_no_other_dementia=pheno_id%>%\n",
    "filter(cogdx!=6)%>%\n",
    "rename('SEX'='msex')%>%\n",
    "mutate(SEX=gsub(0,2,SEX))\n",
    "nrow(pheno_no_other_dementia)\n",
    "unique(pheno_no_other_dementia$cogdx)\n",
    "unique(pheno_no_other_dementia$SEX)\n",
    "head(pheno_no_other_dementia)"
   ]
  },
  {
   "cell_type": "markdown",
   "id": "79dfd204-8029-48c6-aefa-b2ba13b3c6fb",
   "metadata": {},
   "source": [
    "# see how many people have 5"
   ]
  },
  {
   "cell_type": "code",
   "execution_count": 20,
   "id": "8d8b9876-21c2-41c5-86ac-6465888232e3",
   "metadata": {},
   "outputs": [
    {
     "data": {
      "text/html": [
       "58"
      ],
      "text/latex": [
       "58"
      ],
      "text/markdown": [
       "58"
      ],
      "text/plain": [
       "[1] 58"
      ]
     },
     "metadata": {},
     "output_type": "display_data"
    }
   ],
   "source": [
    "pheno_no_other_dementia%>%\n",
    "filter(grepl(5,cogdx))%>%\n",
    "nrow()"
   ]
  },
  {
   "cell_type": "markdown",
   "id": "ee826de1-665a-4b47-b619-a4f100d79484",
   "metadata": {},
   "source": [
    "# define whether dead or alive"
   ]
  },
  {
   "cell_type": "code",
   "execution_count": 7,
   "id": "fb10619e-d665-4215-b239-ed846832a456",
   "metadata": {},
   "outputs": [
    {
     "data": {
      "text/html": [
       "1152"
      ],
      "text/latex": [
       "1152"
      ],
      "text/markdown": [
       "1152"
      ],
      "text/plain": [
       "[1] 1152"
      ]
     },
     "metadata": {},
     "output_type": "display_data"
    },
    {
     "data": {
      "text/html": [
       "1152"
      ],
      "text/latex": [
       "1152"
      ],
      "text/markdown": [
       "1152"
      ],
      "text/plain": [
       "[1] 1152"
      ]
     },
     "metadata": {},
     "output_type": "display_data"
    }
   ],
   "source": [
    "pheno_no_other_dementia%>%\n",
    "filter(!is.na(age_death))%>%\n",
    "nrow()\n",
    "nrow(pheno_no_other_dementia)"
   ]
  },
  {
   "cell_type": "code",
   "execution_count": 8,
   "id": "050f6fd2-1da7-412c-9579-a44b83829d17",
   "metadata": {},
   "outputs": [
    {
     "data": {
      "text/html": [
       "1152"
      ],
      "text/latex": [
       "1152"
      ],
      "text/markdown": [
       "1152"
      ],
      "text/plain": [
       "[1] 1152"
      ]
     },
     "metadata": {},
     "output_type": "display_data"
    },
    {
     "data": {
      "text/html": [
       "1152"
      ],
      "text/latex": [
       "1152"
      ],
      "text/markdown": [
       "1152"
      ],
      "text/plain": [
       "[1] 1152"
      ]
     },
     "metadata": {},
     "output_type": "display_data"
    }
   ],
   "source": [
    "pheno_no_other_dementia%>%\n",
    "filter(!is.na(cogdx))%>%\n",
    "nrow()\n",
    "nrow(pheno_no_other_dementia)"
   ]
  },
  {
   "cell_type": "raw",
   "id": "d605b8e7-b68c-4eac-ba79-387dee6144b9",
   "metadata": {},
   "source": [
    "everyone is dead RIP"
   ]
  },
  {
   "cell_type": "markdown",
   "id": "93ed731e-9711-41a0-926d-b1b968ad4140",
   "metadata": {},
   "source": [
    "# define cases and controls"
   ]
  },
  {
   "cell_type": "raw",
   "id": "d1dc76d8-8e4a-44fe-adc8-487dad41afd3",
   "metadata": {},
   "source": [
    "use cogdx to define phenotype bc everyone is dead RIP"
   ]
  },
  {
   "cell_type": "code",
   "execution_count": 9,
   "id": "e7a6e80f-6671-4e84-a3e5-d85b36616e90",
   "metadata": {},
   "outputs": [
    {
     "data": {
      "text/html": [
       "489"
      ],
      "text/latex": [
       "489"
      ],
      "text/markdown": [
       "489"
      ],
      "text/plain": [
       "[1] 489"
      ]
     },
     "metadata": {},
     "output_type": "display_data"
    },
    {
     "data": {
      "text/html": [
       "<style>\n",
       ".list-inline {list-style: none; margin:0; padding: 0}\n",
       ".list-inline>li {display: inline-block}\n",
       ".list-inline>li:not(:last-child)::after {content: \"\\00b7\"; padding: 0 .5ex}\n",
       "</style>\n",
       "<ol class=list-inline><li>4</li><li>5</li></ol>\n"
      ],
      "text/latex": [
       "\\begin{enumerate*}\n",
       "\\item 4\n",
       "\\item 5\n",
       "\\end{enumerate*}\n"
      ],
      "text/markdown": [
       "1. 4\n",
       "2. 5\n",
       "\n",
       "\n"
      ],
      "text/plain": [
       "[1] 4 5"
      ]
     },
     "metadata": {},
     "output_type": "display_data"
    },
    {
     "data": {
      "text/html": [
       "<table class=\"dataframe\">\n",
       "<caption>A data.frame: 6 × 20</caption>\n",
       "<thead>\n",
       "\t<tr><th></th><th scope=col>individualID</th><th scope=col>projid</th><th scope=col>Study</th><th scope=col>SEX</th><th scope=col>educ</th><th scope=col>race</th><th scope=col>spanish</th><th scope=col>apoe_genotype</th><th scope=col>age_at_visit_max</th><th scope=col>age_first_ad_dx</th><th scope=col>age_death</th><th scope=col>cts_mmse30_first_ad_dx</th><th scope=col>cts_mmse30_lv</th><th scope=col>pmi</th><th scope=col>braaksc</th><th scope=col>ceradsc</th><th scope=col>cogdx</th><th scope=col>dcfdx_lv</th><th scope=col>specimenID</th><th scope=col>ALZ_STATUS</th></tr>\n",
       "\t<tr><th></th><th scope=col>&lt;chr&gt;</th><th scope=col>&lt;int&gt;</th><th scope=col>&lt;chr&gt;</th><th scope=col>&lt;chr&gt;</th><th scope=col>&lt;int&gt;</th><th scope=col>&lt;int&gt;</th><th scope=col>&lt;int&gt;</th><th scope=col>&lt;int&gt;</th><th scope=col>&lt;chr&gt;</th><th scope=col>&lt;chr&gt;</th><th scope=col>&lt;chr&gt;</th><th scope=col>&lt;dbl&gt;</th><th scope=col>&lt;dbl&gt;</th><th scope=col>&lt;dbl&gt;</th><th scope=col>&lt;int&gt;</th><th scope=col>&lt;int&gt;</th><th scope=col>&lt;int&gt;</th><th scope=col>&lt;int&gt;</th><th scope=col>&lt;chr&gt;</th><th scope=col>&lt;dbl&gt;</th></tr>\n",
       "</thead>\n",
       "<tbody>\n",
       "\t<tr><th scope=row>1</th><td>R1012422</td><td>20925446</td><td>ROS</td><td>2</td><td>14</td><td>1</td><td>2</td><td>33</td><td>87.501711156741962</td><td>NA                </td><td>87.55099247091033 </td><td>NA</td><td>14.0000</td><td>3.000000</td><td>4</td><td>2</td><td>4</td><td>4</td><td>SM-CTEMF</td><td>1</td></tr>\n",
       "\t<tr><th scope=row>2</th><td>R1022980</td><td>30819298</td><td>MAP</td><td>2</td><td>10</td><td>1</td><td>2</td><td>33</td><td>89.111567419575636</td><td>NA                </td><td>89.900068446269685</td><td>NA</td><td> 8.0000</td><td>8.083333</td><td>3</td><td>3</td><td>4</td><td>4</td><td>SM-CTEMK</td><td>1</td></tr>\n",
       "\t<tr><th scope=row>3</th><td>R1028639</td><td>46000440</td><td>MAP</td><td>1</td><td>16</td><td>1</td><td>2</td><td>34</td><td>88.703627652292951</td><td>88.703627652292951</td><td>89.642710472279262</td><td>19</td><td>19.0000</td><td>6.916667</td><td>4</td><td>1</td><td>4</td><td>4</td><td>SM-CTDQV</td><td>1</td></tr>\n",
       "\t<tr><th scope=row>4</th><td>R1039781</td><td>50302428</td><td>MAP</td><td>2</td><td>12</td><td>1</td><td>2</td><td>33</td><td>84.312114989733061</td><td>NA                </td><td>84.665297741273108</td><td>NA</td><td>18.0000</td><td>3.000000</td><td>5</td><td>1</td><td>4</td><td>4</td><td>SM-CJK5Q</td><td>1</td></tr>\n",
       "\t<tr><th scope=row>5</th><td>R1042011</td><td>20532115</td><td>ROS</td><td>2</td><td>17</td><td>1</td><td>2</td><td>23</td><td>89.505817932922653</td><td>88.511978097193705</td><td>89.727583846680361</td><td>24</td><td>23.7931</td><td>5.266667</td><td>2</td><td>4</td><td>4</td><td>2</td><td>SM-CJK5G</td><td>1</td></tr>\n",
       "\t<tr><th scope=row>6</th><td>R1074668</td><td>21000180</td><td>ROS</td><td>2</td><td>16</td><td>1</td><td>2</td><td>33</td><td>90+               </td><td>90+               </td><td>90+               </td><td>21</td><td>23.0000</td><td>4.850000</td><td>3</td><td>2</td><td>4</td><td>4</td><td>SM-CJK5F</td><td>1</td></tr>\n",
       "</tbody>\n",
       "</table>\n"
      ],
      "text/latex": [
       "A data.frame: 6 × 20\n",
       "\\begin{tabular}{r|llllllllllllllllllll}\n",
       "  & individualID & projid & Study & SEX & educ & race & spanish & apoe\\_genotype & age\\_at\\_visit\\_max & age\\_first\\_ad\\_dx & age\\_death & cts\\_mmse30\\_first\\_ad\\_dx & cts\\_mmse30\\_lv & pmi & braaksc & ceradsc & cogdx & dcfdx\\_lv & specimenID & ALZ\\_STATUS\\\\\n",
       "  & <chr> & <int> & <chr> & <chr> & <int> & <int> & <int> & <int> & <chr> & <chr> & <chr> & <dbl> & <dbl> & <dbl> & <int> & <int> & <int> & <int> & <chr> & <dbl>\\\\\n",
       "\\hline\n",
       "\t1 & R1012422 & 20925446 & ROS & 2 & 14 & 1 & 2 & 33 & 87.501711156741962 & NA                 & 87.55099247091033  & NA & 14.0000 & 3.000000 & 4 & 2 & 4 & 4 & SM-CTEMF & 1\\\\\n",
       "\t2 & R1022980 & 30819298 & MAP & 2 & 10 & 1 & 2 & 33 & 89.111567419575636 & NA                 & 89.900068446269685 & NA &  8.0000 & 8.083333 & 3 & 3 & 4 & 4 & SM-CTEMK & 1\\\\\n",
       "\t3 & R1028639 & 46000440 & MAP & 1 & 16 & 1 & 2 & 34 & 88.703627652292951 & 88.703627652292951 & 89.642710472279262 & 19 & 19.0000 & 6.916667 & 4 & 1 & 4 & 4 & SM-CTDQV & 1\\\\\n",
       "\t4 & R1039781 & 50302428 & MAP & 2 & 12 & 1 & 2 & 33 & 84.312114989733061 & NA                 & 84.665297741273108 & NA & 18.0000 & 3.000000 & 5 & 1 & 4 & 4 & SM-CJK5Q & 1\\\\\n",
       "\t5 & R1042011 & 20532115 & ROS & 2 & 17 & 1 & 2 & 23 & 89.505817932922653 & 88.511978097193705 & 89.727583846680361 & 24 & 23.7931 & 5.266667 & 2 & 4 & 4 & 2 & SM-CJK5G & 1\\\\\n",
       "\t6 & R1074668 & 21000180 & ROS & 2 & 16 & 1 & 2 & 33 & 90+                & 90+                & 90+                & 21 & 23.0000 & 4.850000 & 3 & 2 & 4 & 4 & SM-CJK5F & 1\\\\\n",
       "\\end{tabular}\n"
      ],
      "text/markdown": [
       "\n",
       "A data.frame: 6 × 20\n",
       "\n",
       "| <!--/--> | individualID &lt;chr&gt; | projid &lt;int&gt; | Study &lt;chr&gt; | SEX &lt;chr&gt; | educ &lt;int&gt; | race &lt;int&gt; | spanish &lt;int&gt; | apoe_genotype &lt;int&gt; | age_at_visit_max &lt;chr&gt; | age_first_ad_dx &lt;chr&gt; | age_death &lt;chr&gt; | cts_mmse30_first_ad_dx &lt;dbl&gt; | cts_mmse30_lv &lt;dbl&gt; | pmi &lt;dbl&gt; | braaksc &lt;int&gt; | ceradsc &lt;int&gt; | cogdx &lt;int&gt; | dcfdx_lv &lt;int&gt; | specimenID &lt;chr&gt; | ALZ_STATUS &lt;dbl&gt; |\n",
       "|---|---|---|---|---|---|---|---|---|---|---|---|---|---|---|---|---|---|---|---|---|\n",
       "| 1 | R1012422 | 20925446 | ROS | 2 | 14 | 1 | 2 | 33 | 87.501711156741962 | NA                 | 87.55099247091033  | NA | 14.0000 | 3.000000 | 4 | 2 | 4 | 4 | SM-CTEMF | 1 |\n",
       "| 2 | R1022980 | 30819298 | MAP | 2 | 10 | 1 | 2 | 33 | 89.111567419575636 | NA                 | 89.900068446269685 | NA |  8.0000 | 8.083333 | 3 | 3 | 4 | 4 | SM-CTEMK | 1 |\n",
       "| 3 | R1028639 | 46000440 | MAP | 1 | 16 | 1 | 2 | 34 | 88.703627652292951 | 88.703627652292951 | 89.642710472279262 | 19 | 19.0000 | 6.916667 | 4 | 1 | 4 | 4 | SM-CTDQV | 1 |\n",
       "| 4 | R1039781 | 50302428 | MAP | 2 | 12 | 1 | 2 | 33 | 84.312114989733061 | NA                 | 84.665297741273108 | NA | 18.0000 | 3.000000 | 5 | 1 | 4 | 4 | SM-CJK5Q | 1 |\n",
       "| 5 | R1042011 | 20532115 | ROS | 2 | 17 | 1 | 2 | 23 | 89.505817932922653 | 88.511978097193705 | 89.727583846680361 | 24 | 23.7931 | 5.266667 | 2 | 4 | 4 | 2 | SM-CJK5G | 1 |\n",
       "| 6 | R1074668 | 21000180 | ROS | 2 | 16 | 1 | 2 | 33 | 90+                | 90+                | 90+                | 21 | 23.0000 | 4.850000 | 3 | 2 | 4 | 4 | SM-CJK5F | 1 |\n",
       "\n"
      ],
      "text/plain": [
       "  individualID projid   Study SEX educ race spanish apoe_genotype\n",
       "1 R1012422     20925446 ROS   2   14   1    2       33           \n",
       "2 R1022980     30819298 MAP   2   10   1    2       33           \n",
       "3 R1028639     46000440 MAP   1   16   1    2       34           \n",
       "4 R1039781     50302428 MAP   2   12   1    2       33           \n",
       "5 R1042011     20532115 ROS   2   17   1    2       23           \n",
       "6 R1074668     21000180 ROS   2   16   1    2       33           \n",
       "  age_at_visit_max   age_first_ad_dx    age_death         \n",
       "1 87.501711156741962 NA                 87.55099247091033 \n",
       "2 89.111567419575636 NA                 89.900068446269685\n",
       "3 88.703627652292951 88.703627652292951 89.642710472279262\n",
       "4 84.312114989733061 NA                 84.665297741273108\n",
       "5 89.505817932922653 88.511978097193705 89.727583846680361\n",
       "6 90+                90+                90+               \n",
       "  cts_mmse30_first_ad_dx cts_mmse30_lv pmi      braaksc ceradsc cogdx dcfdx_lv\n",
       "1 NA                     14.0000       3.000000 4       2       4     4       \n",
       "2 NA                      8.0000       8.083333 3       3       4     4       \n",
       "3 19                     19.0000       6.916667 4       1       4     4       \n",
       "4 NA                     18.0000       3.000000 5       1       4     4       \n",
       "5 24                     23.7931       5.266667 2       4       4     2       \n",
       "6 21                     23.0000       4.850000 3       2       4     4       \n",
       "  specimenID ALZ_STATUS\n",
       "1 SM-CTEMF   1         \n",
       "2 SM-CTEMK   1         \n",
       "3 SM-CTDQV   1         \n",
       "4 SM-CJK5Q   1         \n",
       "5 SM-CJK5G   1         \n",
       "6 SM-CJK5F   1         "
      ]
     },
     "metadata": {},
     "output_type": "display_data"
    }
   ],
   "source": [
    "case=pheno_no_other_dementia%>%\n",
    "filter(cogdx==4 | cogdx==5)%>%\n",
    "mutate(ALZ_STATUS=1)\n",
    "nrow(case)\n",
    "unique(case$cogdx)\n",
    "head(case)"
   ]
  },
  {
   "cell_type": "code",
   "execution_count": 10,
   "id": "5229f562-13f1-43f2-ba60-b8b49746a60e",
   "metadata": {},
   "outputs": [
    {
     "data": {
      "text/html": [
       "663"
      ],
      "text/latex": [
       "663"
      ],
      "text/markdown": [
       "663"
      ],
      "text/plain": [
       "[1] 663"
      ]
     },
     "metadata": {},
     "output_type": "display_data"
    },
    {
     "data": {
      "text/html": [
       "<style>\n",
       ".list-inline {list-style: none; margin:0; padding: 0}\n",
       ".list-inline>li {display: inline-block}\n",
       ".list-inline>li:not(:last-child)::after {content: \"\\00b7\"; padding: 0 .5ex}\n",
       "</style>\n",
       "<ol class=list-inline><li>2</li><li>1</li><li>3</li></ol>\n"
      ],
      "text/latex": [
       "\\begin{enumerate*}\n",
       "\\item 2\n",
       "\\item 1\n",
       "\\item 3\n",
       "\\end{enumerate*}\n"
      ],
      "text/markdown": [
       "1. 2\n",
       "2. 1\n",
       "3. 3\n",
       "\n",
       "\n"
      ],
      "text/plain": [
       "[1] 2 1 3"
      ]
     },
     "metadata": {},
     "output_type": "display_data"
    }
   ],
   "source": [
    "control=pheno_no_other_dementia%>%\n",
    "filter(cogdx==1 | cogdx==2 | cogdx==3)%>%\n",
    "mutate(ALZ_STATUS=0)\n",
    "nrow(control)\n",
    "unique(control$cogdx)"
   ]
  },
  {
   "cell_type": "markdown",
   "id": "f401d0e2-0cc5-4934-a16f-838e03afd852",
   "metadata": {},
   "source": [
    "# define age"
   ]
  },
  {
   "cell_type": "markdown",
   "id": "c8e2dd98-e7ff-45bf-8249-abb845c194fb",
   "metadata": {},
   "source": [
    "## case"
   ]
  },
  {
   "cell_type": "code",
   "execution_count": 11,
   "id": "4faa5cb0-ba33-417f-a08c-41419acb4de5",
   "metadata": {},
   "outputs": [
    {
     "data": {
      "text/html": [
       "366"
      ],
      "text/latex": [
       "366"
      ],
      "text/markdown": [
       "366"
      ],
      "text/plain": [
       "[1] 366"
      ]
     },
     "metadata": {},
     "output_type": "display_data"
    },
    {
     "data": {
      "text/html": [
       "<table class=\"dataframe\">\n",
       "<caption>A data.frame: 6 × 5</caption>\n",
       "<thead>\n",
       "\t<tr><th></th><th scope=col>individualID</th><th scope=col>specimenID</th><th scope=col>ALZ_STATUS</th><th scope=col>AGE</th><th scope=col>SEX</th></tr>\n",
       "\t<tr><th></th><th scope=col>&lt;chr&gt;</th><th scope=col>&lt;chr&gt;</th><th scope=col>&lt;dbl&gt;</th><th scope=col>&lt;dbl&gt;</th><th scope=col>&lt;chr&gt;</th></tr>\n",
       "</thead>\n",
       "<tbody>\n",
       "\t<tr><th scope=row>1</th><td>R1028639</td><td>SM-CTDQV</td><td>1</td><td>88.70363</td><td>1</td></tr>\n",
       "\t<tr><th scope=row>2</th><td>R1042011</td><td>SM-CJK5G</td><td>1</td><td>88.51198</td><td>2</td></tr>\n",
       "\t<tr><th scope=row>3</th><td>R1074668</td><td>SM-CJK5F</td><td>1</td><td>90.00000</td><td>2</td></tr>\n",
       "\t<tr><th scope=row>4</th><td>R1088362</td><td>SM-CJFMH</td><td>1</td><td>85.52225</td><td>2</td></tr>\n",
       "\t<tr><th scope=row>5</th><td>R1103580</td><td>SM-CTDSF</td><td>1</td><td>89.37988</td><td>2</td></tr>\n",
       "\t<tr><th scope=row>6</th><td>R1113373</td><td>SM-CJEHX</td><td>1</td><td>83.78097</td><td>2</td></tr>\n",
       "</tbody>\n",
       "</table>\n"
      ],
      "text/latex": [
       "A data.frame: 6 × 5\n",
       "\\begin{tabular}{r|lllll}\n",
       "  & individualID & specimenID & ALZ\\_STATUS & AGE & SEX\\\\\n",
       "  & <chr> & <chr> & <dbl> & <dbl> & <chr>\\\\\n",
       "\\hline\n",
       "\t1 & R1028639 & SM-CTDQV & 1 & 88.70363 & 1\\\\\n",
       "\t2 & R1042011 & SM-CJK5G & 1 & 88.51198 & 2\\\\\n",
       "\t3 & R1074668 & SM-CJK5F & 1 & 90.00000 & 2\\\\\n",
       "\t4 & R1088362 & SM-CJFMH & 1 & 85.52225 & 2\\\\\n",
       "\t5 & R1103580 & SM-CTDSF & 1 & 89.37988 & 2\\\\\n",
       "\t6 & R1113373 & SM-CJEHX & 1 & 83.78097 & 2\\\\\n",
       "\\end{tabular}\n"
      ],
      "text/markdown": [
       "\n",
       "A data.frame: 6 × 5\n",
       "\n",
       "| <!--/--> | individualID &lt;chr&gt; | specimenID &lt;chr&gt; | ALZ_STATUS &lt;dbl&gt; | AGE &lt;dbl&gt; | SEX &lt;chr&gt; |\n",
       "|---|---|---|---|---|---|\n",
       "| 1 | R1028639 | SM-CTDQV | 1 | 88.70363 | 1 |\n",
       "| 2 | R1042011 | SM-CJK5G | 1 | 88.51198 | 2 |\n",
       "| 3 | R1074668 | SM-CJK5F | 1 | 90.00000 | 2 |\n",
       "| 4 | R1088362 | SM-CJFMH | 1 | 85.52225 | 2 |\n",
       "| 5 | R1103580 | SM-CTDSF | 1 | 89.37988 | 2 |\n",
       "| 6 | R1113373 | SM-CJEHX | 1 | 83.78097 | 2 |\n",
       "\n"
      ],
      "text/plain": [
       "  individualID specimenID ALZ_STATUS AGE      SEX\n",
       "1 R1028639     SM-CTDQV   1          88.70363 1  \n",
       "2 R1042011     SM-CJK5G   1          88.51198 2  \n",
       "3 R1074668     SM-CJK5F   1          90.00000 2  \n",
       "4 R1088362     SM-CJFMH   1          85.52225 2  \n",
       "5 R1103580     SM-CTDSF   1          89.37988 2  \n",
       "6 R1113373     SM-CJEHX   1          83.78097 2  "
      ]
     },
     "metadata": {},
     "output_type": "display_data"
    },
    {
     "data": {
      "text/plain": [
       "   Min. 1st Qu.  Median    Mean 3rd Qu.    Max. \n",
       "  68.93   83.70   87.42   86.08   90.00   90.00 "
      ]
     },
     "metadata": {},
     "output_type": "display_data"
    }
   ],
   "source": [
    "case_age_first_dx=case%>%\n",
    "filter(!is.na(age_first_ad_dx))%>%\n",
    "mutate(AGE=age_first_ad_dx)%>%\n",
    "mutate(AGE=str_replace(AGE,'90\\\\+','90'))%>%\n",
    "mutate(AGE=as.numeric(AGE))%>%\n",
    "select(individualID,specimenID,ALZ_STATUS,AGE,SEX)\n",
    "nrow(case_age_first_dx)\n",
    "head(case_age_first_dx)\n",
    "summary(case_age_first_dx$AGE)"
   ]
  },
  {
   "cell_type": "code",
   "execution_count": 12,
   "id": "39606835-7b50-44aa-b68e-50229e4178e4",
   "metadata": {},
   "outputs": [
    {
     "data": {
      "text/html": [
       "123"
      ],
      "text/latex": [
       "123"
      ],
      "text/markdown": [
       "123"
      ],
      "text/plain": [
       "[1] 123"
      ]
     },
     "metadata": {},
     "output_type": "display_data"
    },
    {
     "data": {
      "text/html": [
       "<table class=\"dataframe\">\n",
       "<caption>A data.frame: 6 × 5</caption>\n",
       "<thead>\n",
       "\t<tr><th></th><th scope=col>individualID</th><th scope=col>specimenID</th><th scope=col>ALZ_STATUS</th><th scope=col>AGE</th><th scope=col>SEX</th></tr>\n",
       "\t<tr><th></th><th scope=col>&lt;chr&gt;</th><th scope=col>&lt;chr&gt;</th><th scope=col>&lt;dbl&gt;</th><th scope=col>&lt;dbl&gt;</th><th scope=col>&lt;chr&gt;</th></tr>\n",
       "</thead>\n",
       "<tbody>\n",
       "\t<tr><th scope=row>1</th><td>R1012422</td><td>SM-CTEMF</td><td>1</td><td>87.50171</td><td>2</td></tr>\n",
       "\t<tr><th scope=row>2</th><td>R1022980</td><td>SM-CTEMK</td><td>1</td><td>89.11157</td><td>2</td></tr>\n",
       "\t<tr><th scope=row>3</th><td>R1039781</td><td>SM-CJK5Q</td><td>1</td><td>84.31211</td><td>2</td></tr>\n",
       "\t<tr><th scope=row>4</th><td>R1141019</td><td>SM-CTEEC</td><td>1</td><td>90.00000</td><td>2</td></tr>\n",
       "\t<tr><th scope=row>5</th><td>R1154454</td><td>SM-CTDQN</td><td>1</td><td>86.12183</td><td>1</td></tr>\n",
       "\t<tr><th scope=row>6</th><td>R1177802</td><td>SM-CJFMK</td><td>1</td><td>90.00000</td><td>1</td></tr>\n",
       "</tbody>\n",
       "</table>\n"
      ],
      "text/latex": [
       "A data.frame: 6 × 5\n",
       "\\begin{tabular}{r|lllll}\n",
       "  & individualID & specimenID & ALZ\\_STATUS & AGE & SEX\\\\\n",
       "  & <chr> & <chr> & <dbl> & <dbl> & <chr>\\\\\n",
       "\\hline\n",
       "\t1 & R1012422 & SM-CTEMF & 1 & 87.50171 & 2\\\\\n",
       "\t2 & R1022980 & SM-CTEMK & 1 & 89.11157 & 2\\\\\n",
       "\t3 & R1039781 & SM-CJK5Q & 1 & 84.31211 & 2\\\\\n",
       "\t4 & R1141019 & SM-CTEEC & 1 & 90.00000 & 2\\\\\n",
       "\t5 & R1154454 & SM-CTDQN & 1 & 86.12183 & 1\\\\\n",
       "\t6 & R1177802 & SM-CJFMK & 1 & 90.00000 & 1\\\\\n",
       "\\end{tabular}\n"
      ],
      "text/markdown": [
       "\n",
       "A data.frame: 6 × 5\n",
       "\n",
       "| <!--/--> | individualID &lt;chr&gt; | specimenID &lt;chr&gt; | ALZ_STATUS &lt;dbl&gt; | AGE &lt;dbl&gt; | SEX &lt;chr&gt; |\n",
       "|---|---|---|---|---|---|\n",
       "| 1 | R1012422 | SM-CTEMF | 1 | 87.50171 | 2 |\n",
       "| 2 | R1022980 | SM-CTEMK | 1 | 89.11157 | 2 |\n",
       "| 3 | R1039781 | SM-CJK5Q | 1 | 84.31211 | 2 |\n",
       "| 4 | R1141019 | SM-CTEEC | 1 | 90.00000 | 2 |\n",
       "| 5 | R1154454 | SM-CTDQN | 1 | 86.12183 | 1 |\n",
       "| 6 | R1177802 | SM-CJFMK | 1 | 90.00000 | 1 |\n",
       "\n"
      ],
      "text/plain": [
       "  individualID specimenID ALZ_STATUS AGE      SEX\n",
       "1 R1012422     SM-CTEMF   1          87.50171 2  \n",
       "2 R1022980     SM-CTEMK   1          89.11157 2  \n",
       "3 R1039781     SM-CJK5Q   1          84.31211 2  \n",
       "4 R1141019     SM-CTEEC   1          90.00000 2  \n",
       "5 R1154454     SM-CTDQN   1          86.12183 1  \n",
       "6 R1177802     SM-CJFMK   1          90.00000 1  "
      ]
     },
     "metadata": {},
     "output_type": "display_data"
    },
    {
     "data": {
      "text/plain": [
       "   Min. 1st Qu.  Median    Mean 3rd Qu.    Max. \n",
       "  69.73   83.18   88.33   86.38   90.00   90.00 "
      ]
     },
     "metadata": {},
     "output_type": "display_data"
    }
   ],
   "source": [
    "case_age_visit_max=case%>%\n",
    "filter(is.na(age_first_ad_dx))%>%\n",
    "mutate(AGE=age_at_visit_max)%>%\n",
    "mutate(AGE=str_replace(AGE,'90\\\\+','90'))%>%\n",
    "mutate(AGE=as.numeric(AGE))%>%\n",
    "select(individualID,specimenID,ALZ_STATUS,AGE,SEX)\n",
    "nrow(case_age_visit_max)\n",
    "head(case_age_visit_max)\n",
    "summary(case_age_visit_max$AGE)"
   ]
  },
  {
   "cell_type": "code",
   "execution_count": 13,
   "id": "a82036ec-48b6-43ef-874b-9aef5981933a",
   "metadata": {},
   "outputs": [
    {
     "data": {
      "text/html": [
       "489"
      ],
      "text/latex": [
       "489"
      ],
      "text/markdown": [
       "489"
      ],
      "text/plain": [
       "[1] 489"
      ]
     },
     "metadata": {},
     "output_type": "display_data"
    }
   ],
   "source": [
    "case_age_all=rbind(case_age_first_dx,case_age_visit_max)\n",
    "nrow(case_age_all)"
   ]
  },
  {
   "cell_type": "markdown",
   "id": "2c01a94e-d972-4750-a462-fca8dea4d015",
   "metadata": {},
   "source": [
    "## control"
   ]
  },
  {
   "cell_type": "code",
   "execution_count": 14,
   "id": "5f00ac00-47a8-4d03-8393-322a004d289e",
   "metadata": {},
   "outputs": [
    {
     "data": {
      "text/html": [
       "663"
      ],
      "text/latex": [
       "663"
      ],
      "text/markdown": [
       "663"
      ],
      "text/plain": [
       "[1] 663"
      ]
     },
     "metadata": {},
     "output_type": "display_data"
    },
    {
     "data": {
      "text/html": [
       "<table class=\"dataframe\">\n",
       "<caption>A data.frame: 6 × 5</caption>\n",
       "<thead>\n",
       "\t<tr><th></th><th scope=col>individualID</th><th scope=col>specimenID</th><th scope=col>ALZ_STATUS</th><th scope=col>AGE</th><th scope=col>SEX</th></tr>\n",
       "\t<tr><th></th><th scope=col>&lt;chr&gt;</th><th scope=col>&lt;chr&gt;</th><th scope=col>&lt;dbl&gt;</th><th scope=col>&lt;dbl&gt;</th><th scope=col>&lt;chr&gt;</th></tr>\n",
       "</thead>\n",
       "<tbody>\n",
       "\t<tr><th scope=row>1</th><td>R1015854</td><td>SM-CTDQP</td><td>0</td><td>87.11567</td><td>2</td></tr>\n",
       "\t<tr><th scope=row>2</th><td>R1017692</td><td>SM-CJFP9</td><td>0</td><td>75.01985</td><td>2</td></tr>\n",
       "\t<tr><th scope=row>3</th><td>R1018391</td><td>SM-CJIXL</td><td>0</td><td>90.00000</td><td>1</td></tr>\n",
       "\t<tr><th scope=row>4</th><td>R1020037</td><td>SM-CJEJ2</td><td>0</td><td>90.00000</td><td>2</td></tr>\n",
       "\t<tr><th scope=row>5</th><td>R1034846</td><td>SM-CJFKJ</td><td>0</td><td>87.34292</td><td>2</td></tr>\n",
       "\t<tr><th scope=row>6</th><td>R1042566</td><td>SM-CTEDG</td><td>0</td><td>89.22108</td><td>2</td></tr>\n",
       "</tbody>\n",
       "</table>\n"
      ],
      "text/latex": [
       "A data.frame: 6 × 5\n",
       "\\begin{tabular}{r|lllll}\n",
       "  & individualID & specimenID & ALZ\\_STATUS & AGE & SEX\\\\\n",
       "  & <chr> & <chr> & <dbl> & <dbl> & <chr>\\\\\n",
       "\\hline\n",
       "\t1 & R1015854 & SM-CTDQP & 0 & 87.11567 & 2\\\\\n",
       "\t2 & R1017692 & SM-CJFP9 & 0 & 75.01985 & 2\\\\\n",
       "\t3 & R1018391 & SM-CJIXL & 0 & 90.00000 & 1\\\\\n",
       "\t4 & R1020037 & SM-CJEJ2 & 0 & 90.00000 & 2\\\\\n",
       "\t5 & R1034846 & SM-CJFKJ & 0 & 87.34292 & 2\\\\\n",
       "\t6 & R1042566 & SM-CTEDG & 0 & 89.22108 & 2\\\\\n",
       "\\end{tabular}\n"
      ],
      "text/markdown": [
       "\n",
       "A data.frame: 6 × 5\n",
       "\n",
       "| <!--/--> | individualID &lt;chr&gt; | specimenID &lt;chr&gt; | ALZ_STATUS &lt;dbl&gt; | AGE &lt;dbl&gt; | SEX &lt;chr&gt; |\n",
       "|---|---|---|---|---|---|\n",
       "| 1 | R1015854 | SM-CTDQP | 0 | 87.11567 | 2 |\n",
       "| 2 | R1017692 | SM-CJFP9 | 0 | 75.01985 | 2 |\n",
       "| 3 | R1018391 | SM-CJIXL | 0 | 90.00000 | 1 |\n",
       "| 4 | R1020037 | SM-CJEJ2 | 0 | 90.00000 | 2 |\n",
       "| 5 | R1034846 | SM-CJFKJ | 0 | 87.34292 | 2 |\n",
       "| 6 | R1042566 | SM-CTEDG | 0 | 89.22108 | 2 |\n",
       "\n"
      ],
      "text/plain": [
       "  individualID specimenID ALZ_STATUS AGE      SEX\n",
       "1 R1015854     SM-CTDQP   0          87.11567 2  \n",
       "2 R1017692     SM-CJFP9   0          75.01985 2  \n",
       "3 R1018391     SM-CJIXL   0          90.00000 1  \n",
       "4 R1020037     SM-CJEJ2   0          90.00000 2  \n",
       "5 R1034846     SM-CJFKJ   0          87.34292 2  \n",
       "6 R1042566     SM-CTEDG   0          89.22108 2  "
      ]
     },
     "metadata": {},
     "output_type": "display_data"
    },
    {
     "data": {
      "text/plain": [
       "   Min. 1st Qu.  Median    Mean 3rd Qu.    Max. \n",
       "  65.99   83.54   88.29   86.19   90.00   90.00 "
      ]
     },
     "metadata": {},
     "output_type": "display_data"
    }
   ],
   "source": [
    "control_age_death=control%>%\n",
    "mutate(AGE=age_death)%>%\n",
    "mutate(AGE=str_replace(AGE,'90\\\\+','90'))%>%\n",
    "mutate(AGE=as.numeric(AGE))%>%\n",
    "select(individualID,specimenID,ALZ_STATUS,AGE,SEX)\n",
    "nrow(control_age_death)\n",
    "head(control_age_death)\n",
    "summary(control_age_death$AGE)"
   ]
  },
  {
   "cell_type": "markdown",
   "id": "674da2be-e7e7-4a86-a490-06b062005fa7",
   "metadata": {},
   "source": [
    "# recombine case and control dataframes"
   ]
  },
  {
   "cell_type": "code",
   "execution_count": 15,
   "id": "731df9ce-8db7-4dc5-8c65-b1ff4af2003f",
   "metadata": {},
   "outputs": [
    {
     "data": {
      "text/html": [
       "1152"
      ],
      "text/latex": [
       "1152"
      ],
      "text/markdown": [
       "1152"
      ],
      "text/plain": [
       "[1] 1152"
      ]
     },
     "metadata": {},
     "output_type": "display_data"
    }
   ],
   "source": [
    "case_control=rbind(case_age_all,control_age_death)\n",
    "nrow(case_control)"
   ]
  },
  {
   "cell_type": "markdown",
   "id": "3aeafca2-fadc-4cec-bd40-4a2803881074",
   "metadata": {},
   "source": [
    "# clean PCA df"
   ]
  },
  {
   "cell_type": "code",
   "execution_count": 16,
   "id": "209c287b-39b6-4d8f-8b81-27f8df2f2a44",
   "metadata": {},
   "outputs": [
    {
     "data": {
      "text/html": [
       "<table class=\"dataframe\">\n",
       "<caption>A data.frame: 6 × 12</caption>\n",
       "<thead>\n",
       "\t<tr><th></th><th scope=col>ID</th><th scope=col>PC1</th><th scope=col>PC2</th><th scope=col>PC3</th><th scope=col>PC4</th><th scope=col>PC5</th><th scope=col>PC6</th><th scope=col>PC7</th><th scope=col>PC8</th><th scope=col>PC9</th><th scope=col>PC10</th><th scope=col>STUDY</th></tr>\n",
       "\t<tr><th></th><th scope=col>&lt;chr&gt;</th><th scope=col>&lt;dbl&gt;</th><th scope=col>&lt;dbl&gt;</th><th scope=col>&lt;dbl&gt;</th><th scope=col>&lt;dbl&gt;</th><th scope=col>&lt;dbl&gt;</th><th scope=col>&lt;dbl&gt;</th><th scope=col>&lt;dbl&gt;</th><th scope=col>&lt;dbl&gt;</th><th scope=col>&lt;dbl&gt;</th><th scope=col>&lt;dbl&gt;</th><th scope=col>&lt;chr&gt;</th></tr>\n",
       "</thead>\n",
       "<tbody>\n",
       "\t<tr><th scope=row>1</th><td>MAP15387421</td><td>-0.0109</td><td>-0.0272</td><td>0.0094</td><td>0.0171</td><td>-0.0040</td><td>-0.0089</td><td>-0.0128</td><td>-0.0154</td><td> 0.0090</td><td>-0.0140</td><td>ROSMAP</td></tr>\n",
       "\t<tr><th scope=row>2</th><td>MAP22868024</td><td>-0.0108</td><td>-0.0274</td><td>0.0066</td><td>0.0154</td><td>-0.0120</td><td>-0.0091</td><td>-0.0019</td><td>-0.0207</td><td> 0.0148</td><td>-0.0132</td><td>ROSMAP</td></tr>\n",
       "\t<tr><th scope=row>3</th><td>MAP26637867</td><td>-0.0113</td><td>-0.0270</td><td>0.0086</td><td>0.0153</td><td> 0.0138</td><td>-0.0038</td><td> 0.0012</td><td>-0.0277</td><td> 0.0062</td><td>-0.0138</td><td>ROSMAP</td></tr>\n",
       "\t<tr><th scope=row>4</th><td>MAP29629849</td><td>-0.0113</td><td>-0.0275</td><td>0.0093</td><td>0.0146</td><td>-0.0046</td><td>-0.0085</td><td>-0.0033</td><td>-0.0249</td><td>-0.0018</td><td>-0.0141</td><td>ROSMAP</td></tr>\n",
       "\t<tr><th scope=row>5</th><td>MAP33332646</td><td>-0.0113</td><td>-0.0273</td><td>0.0084</td><td>0.0144</td><td> 0.0007</td><td>-0.0109</td><td>-0.0054</td><td>-0.0342</td><td> 0.0027</td><td>-0.0094</td><td>ROSMAP</td></tr>\n",
       "\t<tr><th scope=row>6</th><td>MAP34726040</td><td>-0.0111</td><td>-0.0268</td><td>0.0088</td><td>0.0155</td><td>-0.0031</td><td>-0.0067</td><td>-0.0091</td><td>-0.0362</td><td> 0.0087</td><td>-0.0105</td><td>ROSMAP</td></tr>\n",
       "</tbody>\n",
       "</table>\n"
      ],
      "text/latex": [
       "A data.frame: 6 × 12\n",
       "\\begin{tabular}{r|llllllllllll}\n",
       "  & ID & PC1 & PC2 & PC3 & PC4 & PC5 & PC6 & PC7 & PC8 & PC9 & PC10 & STUDY\\\\\n",
       "  & <chr> & <dbl> & <dbl> & <dbl> & <dbl> & <dbl> & <dbl> & <dbl> & <dbl> & <dbl> & <dbl> & <chr>\\\\\n",
       "\\hline\n",
       "\t1 & MAP15387421 & -0.0109 & -0.0272 & 0.0094 & 0.0171 & -0.0040 & -0.0089 & -0.0128 & -0.0154 &  0.0090 & -0.0140 & ROSMAP\\\\\n",
       "\t2 & MAP22868024 & -0.0108 & -0.0274 & 0.0066 & 0.0154 & -0.0120 & -0.0091 & -0.0019 & -0.0207 &  0.0148 & -0.0132 & ROSMAP\\\\\n",
       "\t3 & MAP26637867 & -0.0113 & -0.0270 & 0.0086 & 0.0153 &  0.0138 & -0.0038 &  0.0012 & -0.0277 &  0.0062 & -0.0138 & ROSMAP\\\\\n",
       "\t4 & MAP29629849 & -0.0113 & -0.0275 & 0.0093 & 0.0146 & -0.0046 & -0.0085 & -0.0033 & -0.0249 & -0.0018 & -0.0141 & ROSMAP\\\\\n",
       "\t5 & MAP33332646 & -0.0113 & -0.0273 & 0.0084 & 0.0144 &  0.0007 & -0.0109 & -0.0054 & -0.0342 &  0.0027 & -0.0094 & ROSMAP\\\\\n",
       "\t6 & MAP34726040 & -0.0111 & -0.0268 & 0.0088 & 0.0155 & -0.0031 & -0.0067 & -0.0091 & -0.0362 &  0.0087 & -0.0105 & ROSMAP\\\\\n",
       "\\end{tabular}\n"
      ],
      "text/markdown": [
       "\n",
       "A data.frame: 6 × 12\n",
       "\n",
       "| <!--/--> | ID &lt;chr&gt; | PC1 &lt;dbl&gt; | PC2 &lt;dbl&gt; | PC3 &lt;dbl&gt; | PC4 &lt;dbl&gt; | PC5 &lt;dbl&gt; | PC6 &lt;dbl&gt; | PC7 &lt;dbl&gt; | PC8 &lt;dbl&gt; | PC9 &lt;dbl&gt; | PC10 &lt;dbl&gt; | STUDY &lt;chr&gt; |\n",
       "|---|---|---|---|---|---|---|---|---|---|---|---|---|\n",
       "| 1 | MAP15387421 | -0.0109 | -0.0272 | 0.0094 | 0.0171 | -0.0040 | -0.0089 | -0.0128 | -0.0154 |  0.0090 | -0.0140 | ROSMAP |\n",
       "| 2 | MAP22868024 | -0.0108 | -0.0274 | 0.0066 | 0.0154 | -0.0120 | -0.0091 | -0.0019 | -0.0207 |  0.0148 | -0.0132 | ROSMAP |\n",
       "| 3 | MAP26637867 | -0.0113 | -0.0270 | 0.0086 | 0.0153 |  0.0138 | -0.0038 |  0.0012 | -0.0277 |  0.0062 | -0.0138 | ROSMAP |\n",
       "| 4 | MAP29629849 | -0.0113 | -0.0275 | 0.0093 | 0.0146 | -0.0046 | -0.0085 | -0.0033 | -0.0249 | -0.0018 | -0.0141 | ROSMAP |\n",
       "| 5 | MAP33332646 | -0.0113 | -0.0273 | 0.0084 | 0.0144 |  0.0007 | -0.0109 | -0.0054 | -0.0342 |  0.0027 | -0.0094 | ROSMAP |\n",
       "| 6 | MAP34726040 | -0.0111 | -0.0268 | 0.0088 | 0.0155 | -0.0031 | -0.0067 | -0.0091 | -0.0362 |  0.0087 | -0.0105 | ROSMAP |\n",
       "\n"
      ],
      "text/plain": [
       "  ID          PC1     PC2     PC3    PC4    PC5     PC6     PC7     PC8    \n",
       "1 MAP15387421 -0.0109 -0.0272 0.0094 0.0171 -0.0040 -0.0089 -0.0128 -0.0154\n",
       "2 MAP22868024 -0.0108 -0.0274 0.0066 0.0154 -0.0120 -0.0091 -0.0019 -0.0207\n",
       "3 MAP26637867 -0.0113 -0.0270 0.0086 0.0153  0.0138 -0.0038  0.0012 -0.0277\n",
       "4 MAP29629849 -0.0113 -0.0275 0.0093 0.0146 -0.0046 -0.0085 -0.0033 -0.0249\n",
       "5 MAP33332646 -0.0113 -0.0273 0.0084 0.0144  0.0007 -0.0109 -0.0054 -0.0342\n",
       "6 MAP34726040 -0.0111 -0.0268 0.0088 0.0155 -0.0031 -0.0067 -0.0091 -0.0362\n",
       "  PC9     PC10    STUDY \n",
       "1  0.0090 -0.0140 ROSMAP\n",
       "2  0.0148 -0.0132 ROSMAP\n",
       "3  0.0062 -0.0138 ROSMAP\n",
       "4 -0.0018 -0.0141 ROSMAP\n",
       "5  0.0027 -0.0094 ROSMAP\n",
       "6  0.0087 -0.0105 ROSMAP"
      ]
     },
     "metadata": {},
     "output_type": "display_data"
    }
   ],
   "source": [
    "head(pca)"
   ]
  },
  {
   "cell_type": "code",
   "execution_count": 17,
   "id": "416305c7-23a8-4c31-8428-dd964d4c49c0",
   "metadata": {},
   "outputs": [
    {
     "data": {
      "text/html": [
       "<table class=\"dataframe\">\n",
       "<caption>A data.frame: 6 × 5</caption>\n",
       "<thead>\n",
       "\t<tr><th></th><th scope=col>specimenID</th><th scope=col>PC1</th><th scope=col>PC2</th><th scope=col>PC3</th><th scope=col>PC4</th></tr>\n",
       "\t<tr><th></th><th scope=col>&lt;chr&gt;</th><th scope=col>&lt;dbl&gt;</th><th scope=col>&lt;dbl&gt;</th><th scope=col>&lt;dbl&gt;</th><th scope=col>&lt;dbl&gt;</th></tr>\n",
       "</thead>\n",
       "<tbody>\n",
       "\t<tr><th scope=row>1</th><td>MAP15387421</td><td>-0.0109</td><td>-0.0272</td><td>0.0094</td><td>0.0171</td></tr>\n",
       "\t<tr><th scope=row>2</th><td>MAP22868024</td><td>-0.0108</td><td>-0.0274</td><td>0.0066</td><td>0.0154</td></tr>\n",
       "\t<tr><th scope=row>3</th><td>MAP26637867</td><td>-0.0113</td><td>-0.0270</td><td>0.0086</td><td>0.0153</td></tr>\n",
       "\t<tr><th scope=row>4</th><td>MAP29629849</td><td>-0.0113</td><td>-0.0275</td><td>0.0093</td><td>0.0146</td></tr>\n",
       "\t<tr><th scope=row>5</th><td>MAP33332646</td><td>-0.0113</td><td>-0.0273</td><td>0.0084</td><td>0.0144</td></tr>\n",
       "\t<tr><th scope=row>6</th><td>MAP34726040</td><td>-0.0111</td><td>-0.0268</td><td>0.0088</td><td>0.0155</td></tr>\n",
       "</tbody>\n",
       "</table>\n"
      ],
      "text/latex": [
       "A data.frame: 6 × 5\n",
       "\\begin{tabular}{r|lllll}\n",
       "  & specimenID & PC1 & PC2 & PC3 & PC4\\\\\n",
       "  & <chr> & <dbl> & <dbl> & <dbl> & <dbl>\\\\\n",
       "\\hline\n",
       "\t1 & MAP15387421 & -0.0109 & -0.0272 & 0.0094 & 0.0171\\\\\n",
       "\t2 & MAP22868024 & -0.0108 & -0.0274 & 0.0066 & 0.0154\\\\\n",
       "\t3 & MAP26637867 & -0.0113 & -0.0270 & 0.0086 & 0.0153\\\\\n",
       "\t4 & MAP29629849 & -0.0113 & -0.0275 & 0.0093 & 0.0146\\\\\n",
       "\t5 & MAP33332646 & -0.0113 & -0.0273 & 0.0084 & 0.0144\\\\\n",
       "\t6 & MAP34726040 & -0.0111 & -0.0268 & 0.0088 & 0.0155\\\\\n",
       "\\end{tabular}\n"
      ],
      "text/markdown": [
       "\n",
       "A data.frame: 6 × 5\n",
       "\n",
       "| <!--/--> | specimenID &lt;chr&gt; | PC1 &lt;dbl&gt; | PC2 &lt;dbl&gt; | PC3 &lt;dbl&gt; | PC4 &lt;dbl&gt; |\n",
       "|---|---|---|---|---|---|\n",
       "| 1 | MAP15387421 | -0.0109 | -0.0272 | 0.0094 | 0.0171 |\n",
       "| 2 | MAP22868024 | -0.0108 | -0.0274 | 0.0066 | 0.0154 |\n",
       "| 3 | MAP26637867 | -0.0113 | -0.0270 | 0.0086 | 0.0153 |\n",
       "| 4 | MAP29629849 | -0.0113 | -0.0275 | 0.0093 | 0.0146 |\n",
       "| 5 | MAP33332646 | -0.0113 | -0.0273 | 0.0084 | 0.0144 |\n",
       "| 6 | MAP34726040 | -0.0111 | -0.0268 | 0.0088 | 0.0155 |\n",
       "\n"
      ],
      "text/plain": [
       "  specimenID  PC1     PC2     PC3    PC4   \n",
       "1 MAP15387421 -0.0109 -0.0272 0.0094 0.0171\n",
       "2 MAP22868024 -0.0108 -0.0274 0.0066 0.0154\n",
       "3 MAP26637867 -0.0113 -0.0270 0.0086 0.0153\n",
       "4 MAP29629849 -0.0113 -0.0275 0.0093 0.0146\n",
       "5 MAP33332646 -0.0113 -0.0273 0.0084 0.0144\n",
       "6 MAP34726040 -0.0111 -0.0268 0.0088 0.0155"
      ]
     },
     "metadata": {},
     "output_type": "display_data"
    }
   ],
   "source": [
    "pca_sub=pca%>%\n",
    "select(ID,PC1,PC2,PC3,PC4)%>%\n",
    "rename('specimenID'='ID')\n",
    "head(pca_sub)"
   ]
  },
  {
   "cell_type": "markdown",
   "id": "cb6b3826-72bc-45a0-a6b1-73abd0cf92ad",
   "metadata": {},
   "source": [
    "# add PCs"
   ]
  },
  {
   "cell_type": "code",
   "execution_count": 18,
   "id": "dfd16d9d-98aa-4f97-8458-f369eaf365b0",
   "metadata": {},
   "outputs": [
    {
     "data": {
      "text/html": [
       "<table class=\"dataframe\">\n",
       "<caption>A data.frame: 6 × 9</caption>\n",
       "<thead>\n",
       "\t<tr><th></th><th scope=col>specimenID</th><th scope=col>individualID</th><th scope=col>ALZ_STATUS</th><th scope=col>AGE</th><th scope=col>SEX</th><th scope=col>PC1</th><th scope=col>PC2</th><th scope=col>PC3</th><th scope=col>PC4</th></tr>\n",
       "\t<tr><th></th><th scope=col>&lt;chr&gt;</th><th scope=col>&lt;chr&gt;</th><th scope=col>&lt;dbl&gt;</th><th scope=col>&lt;dbl&gt;</th><th scope=col>&lt;chr&gt;</th><th scope=col>&lt;dbl&gt;</th><th scope=col>&lt;dbl&gt;</th><th scope=col>&lt;dbl&gt;</th><th scope=col>&lt;dbl&gt;</th></tr>\n",
       "</thead>\n",
       "<tbody>\n",
       "\t<tr><th scope=row>1</th><td>MAP15387421</td><td>R2398607</td><td>1</td><td>90.00000</td><td>2</td><td>-0.0109</td><td>-0.0272</td><td>0.0094</td><td>0.0171</td></tr>\n",
       "\t<tr><th scope=row>2</th><td>MAP22868024</td><td>R9255058</td><td>0</td><td>90.00000</td><td>1</td><td>-0.0108</td><td>-0.0274</td><td>0.0066</td><td>0.0154</td></tr>\n",
       "\t<tr><th scope=row>3</th><td>MAP26637867</td><td>R5225865</td><td>0</td><td>90.00000</td><td>2</td><td>-0.0113</td><td>-0.0270</td><td>0.0086</td><td>0.0153</td></tr>\n",
       "\t<tr><th scope=row>4</th><td>MAP29629849</td><td>R5379193</td><td>1</td><td>85.16632</td><td>2</td><td>-0.0113</td><td>-0.0275</td><td>0.0093</td><td>0.0146</td></tr>\n",
       "\t<tr><th scope=row>5</th><td>MAP33332646</td><td>R6998518</td><td>1</td><td>84.25462</td><td>2</td><td>-0.0113</td><td>-0.0273</td><td>0.0084</td><td>0.0144</td></tr>\n",
       "\t<tr><th scope=row>6</th><td>MAP34726040</td><td>R1326552</td><td>0</td><td>72.82683</td><td>1</td><td>-0.0111</td><td>-0.0268</td><td>0.0088</td><td>0.0155</td></tr>\n",
       "</tbody>\n",
       "</table>\n"
      ],
      "text/latex": [
       "A data.frame: 6 × 9\n",
       "\\begin{tabular}{r|lllllllll}\n",
       "  & specimenID & individualID & ALZ\\_STATUS & AGE & SEX & PC1 & PC2 & PC3 & PC4\\\\\n",
       "  & <chr> & <chr> & <dbl> & <dbl> & <chr> & <dbl> & <dbl> & <dbl> & <dbl>\\\\\n",
       "\\hline\n",
       "\t1 & MAP15387421 & R2398607 & 1 & 90.00000 & 2 & -0.0109 & -0.0272 & 0.0094 & 0.0171\\\\\n",
       "\t2 & MAP22868024 & R9255058 & 0 & 90.00000 & 1 & -0.0108 & -0.0274 & 0.0066 & 0.0154\\\\\n",
       "\t3 & MAP26637867 & R5225865 & 0 & 90.00000 & 2 & -0.0113 & -0.0270 & 0.0086 & 0.0153\\\\\n",
       "\t4 & MAP29629849 & R5379193 & 1 & 85.16632 & 2 & -0.0113 & -0.0275 & 0.0093 & 0.0146\\\\\n",
       "\t5 & MAP33332646 & R6998518 & 1 & 84.25462 & 2 & -0.0113 & -0.0273 & 0.0084 & 0.0144\\\\\n",
       "\t6 & MAP34726040 & R1326552 & 0 & 72.82683 & 1 & -0.0111 & -0.0268 & 0.0088 & 0.0155\\\\\n",
       "\\end{tabular}\n"
      ],
      "text/markdown": [
       "\n",
       "A data.frame: 6 × 9\n",
       "\n",
       "| <!--/--> | specimenID &lt;chr&gt; | individualID &lt;chr&gt; | ALZ_STATUS &lt;dbl&gt; | AGE &lt;dbl&gt; | SEX &lt;chr&gt; | PC1 &lt;dbl&gt; | PC2 &lt;dbl&gt; | PC3 &lt;dbl&gt; | PC4 &lt;dbl&gt; |\n",
       "|---|---|---|---|---|---|---|---|---|---|\n",
       "| 1 | MAP15387421 | R2398607 | 1 | 90.00000 | 2 | -0.0109 | -0.0272 | 0.0094 | 0.0171 |\n",
       "| 2 | MAP22868024 | R9255058 | 0 | 90.00000 | 1 | -0.0108 | -0.0274 | 0.0066 | 0.0154 |\n",
       "| 3 | MAP26637867 | R5225865 | 0 | 90.00000 | 2 | -0.0113 | -0.0270 | 0.0086 | 0.0153 |\n",
       "| 4 | MAP29629849 | R5379193 | 1 | 85.16632 | 2 | -0.0113 | -0.0275 | 0.0093 | 0.0146 |\n",
       "| 5 | MAP33332646 | R6998518 | 1 | 84.25462 | 2 | -0.0113 | -0.0273 | 0.0084 | 0.0144 |\n",
       "| 6 | MAP34726040 | R1326552 | 0 | 72.82683 | 1 | -0.0111 | -0.0268 | 0.0088 | 0.0155 |\n",
       "\n"
      ],
      "text/plain": [
       "  specimenID  individualID ALZ_STATUS AGE      SEX PC1     PC2     PC3   \n",
       "1 MAP15387421 R2398607     1          90.00000 2   -0.0109 -0.0272 0.0094\n",
       "2 MAP22868024 R9255058     0          90.00000 1   -0.0108 -0.0274 0.0066\n",
       "3 MAP26637867 R5225865     0          90.00000 2   -0.0113 -0.0270 0.0086\n",
       "4 MAP29629849 R5379193     1          85.16632 2   -0.0113 -0.0275 0.0093\n",
       "5 MAP33332646 R6998518     1          84.25462 2   -0.0113 -0.0273 0.0084\n",
       "6 MAP34726040 R1326552     0          72.82683 1   -0.0111 -0.0268 0.0088\n",
       "  PC4   \n",
       "1 0.0171\n",
       "2 0.0154\n",
       "3 0.0153\n",
       "4 0.0146\n",
       "5 0.0144\n",
       "6 0.0155"
      ]
     },
     "metadata": {},
     "output_type": "display_data"
    },
    {
     "data": {
      "text/html": [
       "1152"
      ],
      "text/latex": [
       "1152"
      ],
      "text/markdown": [
       "1152"
      ],
      "text/plain": [
       "[1] 1152"
      ]
     },
     "metadata": {},
     "output_type": "display_data"
    }
   ],
   "source": [
    "pheno_pca=merge(case_control,pca_sub,by='specimenID')\n",
    "head(pheno_pca)\n",
    "nrow(pheno_pca)"
   ]
  },
  {
   "cell_type": "markdown",
   "id": "eded7c98-e927-4f72-b52a-401c75effd26",
   "metadata": {},
   "source": [
    "# export"
   ]
  },
  {
   "cell_type": "code",
   "execution_count": 19,
   "id": "e4fa376a-73c7-41bd-a0fe-5d758a856bf1",
   "metadata": {},
   "outputs": [],
   "source": [
    "write.table(pheno_pca,'/project/ritchie02/projects/AD_KMI/common_var_gene_score/igap_rosmap_gene_score/ROSMAP_phenotype_covariates.txt',\n",
    "            sep='\\t',\n",
    "            col.names=T,\n",
    "            row.names=F,\n",
    "            quote=F)"
   ]
  },
  {
   "cell_type": "code",
   "execution_count": null,
   "id": "2bfb169f-a026-4481-beb9-d85333bc83f8",
   "metadata": {},
   "outputs": [],
   "source": []
  }
 ],
 "metadata": {
  "kernelspec": {
   "display_name": "R",
   "language": "R",
   "name": "ir"
  },
  "language_info": {
   "codemirror_mode": "r",
   "file_extension": ".r",
   "mimetype": "text/x-r-source",
   "name": "R",
   "pygments_lexer": "r",
   "version": "4.2.3"
  }
 },
 "nbformat": 4,
 "nbformat_minor": 5
}

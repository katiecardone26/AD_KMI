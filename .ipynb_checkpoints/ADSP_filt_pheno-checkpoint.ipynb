{
 "cells": [
  {
   "cell_type": "markdown",
   "id": "5a2f5bb9-7a96-4e71-97f1-b268c44c9ef2",
   "metadata": {},
   "source": [
    "# load packages"
   ]
  },
  {
   "cell_type": "code",
   "execution_count": null,
   "id": "bb112905-c4ed-4d7e-92c7-324491a295c1",
   "metadata": {},
   "outputs": [],
   "source": [
    "library(data.table)"
   ]
  },
  {
   "cell_type": "code",
   "execution_count": null,
   "id": "4db6d11b-7982-4023-94c5-57326956209a",
   "metadata": {},
   "outputs": [],
   "source": [
    "library(dplyr)"
   ]
  },
  {
   "cell_type": "markdown",
   "id": "880a7c37-2419-4ad2-8918-19500fcb8fa1",
   "metadata": {},
   "source": [
    "# read in files"
   ]
  },
  {
   "cell_type": "code",
   "execution_count": null,
   "id": "44ad9d65-e141-43ec-8d39-7ed919f39336",
   "metadata": {},
   "outputs": [],
   "source": [
    "raw = fread('adsp_filt_phenos/ADSPIntegratedPhenotypes_DS_2023.08.08.csv',\n",
    "          sep = ',')\n",
    "head(raw)"
   ]
  },
  {
   "cell_type": "code",
   "execution_count": null,
   "id": "4f2a273f-69f3-48b7-a308-332365b884bd",
   "metadata": {},
   "outputs": [],
   "source": [
    "filt_original = fread('adsp_filt_phenos/ADSP_sample_list_filtered_anni.txt',\n",
    "                    sep = '\\t')\n",
    "head(filt_original)\n",
    "nrow(filt_original)"
   ]
  },
  {
   "cell_type": "code",
   "execution_count": null,
   "id": "fb73694c-63e8-49a9-aa53-d60450f1175f",
   "metadata": {},
   "outputs": [],
   "source": [
    "igap_overlap = fread('adsp_filt_phenos/Common_ADNI_SbjID_between_ADSP_and_ADGC.csv',\n",
    "           sep = '\\t')\n",
    "head(igap_overlap)"
   ]
  },
  {
   "cell_type": "code",
   "execution_count": null,
   "id": "fd0f9697-0861-4fd8-9a1b-ba812d221b9b",
   "metadata": {},
   "outputs": [],
   "source": [
    "map = fread('adsp_filt_phenos/mapping_ADNIMERGE_ADNI-ADSP-FU.csv',\n",
    "           sep = ',')\n",
    "head(map)"
   ]
  },
  {
   "cell_type": "code",
   "execution_count": null,
   "id": "b7124215-51de-4c04-9c32-47f5132b84ed",
   "metadata": {},
   "outputs": [],
   "source": [
    "keep = fread('adsp_filt_phenos/ADSPIntegratedPhenotypes_DS_2023.08.08.keep_cohorts_samples.csv',\n",
    "           header = F)\n",
    "head(keep)"
   ]
  },
  {
   "cell_type": "code",
   "execution_count": null,
   "id": "535a04d5-4529-4b7b-a169-a7e5da7af865",
   "metadata": {},
   "outputs": [],
   "source": [
    "keep_comb = fread('adsp_filt_phenos/ADSPIntegratedPhenotypes_DS_2023.08.08.keep_comb_cohorts_samples.csv',\n",
    "           header = F)\n",
    "head(keep_comb)"
   ]
  },
  {
   "cell_type": "code",
   "execution_count": null,
   "id": "546a0460-02e5-41a9-8265-5549b87eb579",
   "metadata": {},
   "outputs": [],
   "source": [
    "keep_quest = fread('adsp_filt_phenos/ADSPIntegratedPhenotypes_DS_2023.08.08.keep_quest_cohorts_samples.csv',\n",
    "           header = F)\n",
    "head(keep_quest)"
   ]
  },
  {
   "cell_type": "code",
   "execution_count": null,
   "id": "ae608792-9cd1-4ec8-b12b-d8add5910f2f",
   "metadata": {},
   "outputs": [],
   "source": [
    "keep_quest_comb = fread('adsp_filt_phenos/ADSPIntegratedPhenotypes_DS_2023.08.08.keep_quest_comb_cohorts_samples.csv',\n",
    "           header = F)\n",
    "head(keep_quest_comb)"
   ]
  },
  {
   "cell_type": "code",
   "execution_count": null,
   "id": "ee12d972-6e30-4a86-adb7-165623f15a56",
   "metadata": {},
   "outputs": [],
   "source": [
    "gene_score = fread('adsp_filt_phenos/IGAP_stage1_ADSP_pval_threshold_0.05_gene_average_score_sample_list.txt')\n",
    "head(gene_score)"
   ]
  },
  {
   "cell_type": "code",
   "execution_count": null,
   "id": "55a0c227-9820-48e7-8ea3-74a750156123",
   "metadata": {},
   "outputs": [],
   "source": [
    "saige = fread('adsp_filt_phenos/ADSPphenotype_forAnalysis.txt',\n",
    "            sep = '\\t')\n",
    "nrow(saige)\n",
    "head(saige)"
   ]
  },
  {
   "cell_type": "markdown",
   "id": "7dcb50b2-92fc-4fd7-aecf-13b168aa2152",
   "metadata": {},
   "source": [
    "# filter phenotype file to only have individuals with WGS data"
   ]
  },
  {
   "cell_type": "code",
   "execution_count": null,
   "id": "dcb474c7-b1b4-40b8-9a3c-5f1a7e3def8a",
   "metadata": {},
   "outputs": [],
   "source": [
    "pheno_geno = raw[raw$SampleID %in% gene_score$ID,]\n",
    "nrow(pheno_geno)\n",
    "nrow(raw)\n",
    "nrow(gene_score)"
   ]
  },
  {
   "cell_type": "markdown",
   "id": "24c74eb7-20ea-42e4-b719-d0dac3d0d718",
   "metadata": {},
   "source": [
    "# remove igap overlap"
   ]
  },
  {
   "cell_type": "markdown",
   "id": "bf297b58-8e52-4f2b-9eed-55853271f08d",
   "metadata": {},
   "source": [
    "## get unique columns in map"
   ]
  },
  {
   "cell_type": "code",
   "execution_count": null,
   "id": "9a5e4643-fe05-4331-95d6-ae5f3b5494a7",
   "metadata": {},
   "outputs": [],
   "source": [
    "map_sub = map%>%\n",
    "select(Genotype_IID, PTID) %>%\n",
    "distinct()\n",
    "nrow(map_sub)\n",
    "head(map_sub)"
   ]
  },
  {
   "cell_type": "markdown",
   "id": "d758374b-b10f-4ec1-82eb-9c4c9819ba72",
   "metadata": {},
   "source": [
    "## remove IDs from map"
   ]
  },
  {
   "cell_type": "code",
   "execution_count": null,
   "id": "8ed13e8c-7fe7-4b33-9496-a819edd396fd",
   "metadata": {},
   "outputs": [],
   "source": [
    "map_no_overlap = map_sub[!(map_sub$PTID %in% igap_overlap$In_ADSP),]\n",
    "nrow(map_no_overlap)\n",
    "nrow(map_sub)\n",
    "nrow(map_sub) - nrow(map_no_overlap)\n",
    "nrow(igap_overlap)\n",
    "head(map_no_overlap)"
   ]
  },
  {
   "cell_type": "markdown",
   "id": "8841d881-01bd-45fc-9d04-d809d1db40af",
   "metadata": {},
   "source": [
    "## look at IDs that didn't match"
   ]
  },
  {
   "cell_type": "code",
   "execution_count": null,
   "id": "49cda294-1076-4819-90f8-20456b16a8fd",
   "metadata": {},
   "outputs": [],
   "source": [
    "map_overlap = map_sub[map_sub$PTID %in% igap_overlap$In_ADSP,]\n",
    "nrow(map_overlap)"
   ]
  },
  {
   "cell_type": "code",
   "execution_count": null,
   "id": "defa90a3-7588-46a4-9ec5-2831379c17db",
   "metadata": {},
   "outputs": [],
   "source": [
    "igap_nope = data.frame(igap_overlap[!(igap_overlap$In_ADSP %in% map_overlap$PTID),])\n",
    "nrow(igap_nope)\n",
    "head(igap_nope)"
   ]
  },
  {
   "cell_type": "markdown",
   "id": "82238b3e-c315-4fcf-b2b5-3a7c4219401e",
   "metadata": {},
   "source": [
    "## remove IDs from phenotype file"
   ]
  },
  {
   "cell_type": "code",
   "execution_count": null,
   "id": "e740f2da-b21e-4188-b75e-555c7510346f",
   "metadata": {},
   "outputs": [],
   "source": [
    "pheno_adni = pheno_geno %>%\n",
    "filter(grepl('ADNI', SampleID))\n",
    "nrow(pheno_adni)\n",
    "head(pheno_adni)"
   ]
  },
  {
   "cell_type": "code",
   "execution_count": null,
   "id": "bffbe0b7-bfe7-4919-9118-8acc424a16d8",
   "metadata": {},
   "outputs": [],
   "source": [
    "pheno_no_adni = pheno_geno %>%\n",
    "filter(!grepl('ADNI', SampleID))\n",
    "nrow(pheno_no_adni)\n",
    "head(pheno_no_adni)"
   ]
  },
  {
   "cell_type": "code",
   "execution_count": null,
   "id": "9dd23c35-d756-44df-b125-52d27807ec12",
   "metadata": {},
   "outputs": [],
   "source": [
    "pheno_adni_no_overlap = pheno_adni[pheno_adni$SampleID %in% map_no_overlap$Genotype_IID,]\n",
    "nrow(pheno_adni_no_overlap)\n",
    "nrow(pheno_adni)\n",
    "nrow(map_no_overlap)"
   ]
  },
  {
   "cell_type": "code",
   "execution_count": null,
   "id": "774231f7-978a-4b7d-a46d-6bb108c3d8f2",
   "metadata": {},
   "outputs": [],
   "source": [
    "pheno_adni_overlap = pheno_adni[pheno_adni$SampleID %in% map_overlap$Genotype_IID,]\n",
    "nrow(pheno_adni_overlap)"
   ]
  },
  {
   "cell_type": "code",
   "execution_count": null,
   "id": "a8b213c2-e1c1-4d06-91c8-aa1c3ebd0b6d",
   "metadata": {},
   "outputs": [],
   "source": [
    "pheno_raw_adni_overlap = raw[raw$SampleID %in% map_overlap$Genotype_IID,]\n",
    "nrow(pheno_raw_adni_overlap)"
   ]
  },
  {
   "cell_type": "code",
   "execution_count": null,
   "id": "00d09f35-bed9-456e-8a7b-31ac9df9de0d",
   "metadata": {},
   "outputs": [],
   "source": [
    "pheno_no_overlap = rbind(pheno_no_adni, pheno_adni_no_overlap)\n",
    "nrow(pheno_no_overlap)\n",
    "head(pheno_no_overlap)"
   ]
  },
  {
   "cell_type": "markdown",
   "id": "683ecb8e-62ce-45e7-97ca-133d1a8204f7",
   "metadata": {},
   "source": [
    "# filter pheno covar file for regression"
   ]
  },
  {
   "cell_type": "code",
   "execution_count": null,
   "id": "a39747e6-1a1e-4cc5-bc14-337f1d107504",
   "metadata": {},
   "outputs": [],
   "source": [
    "saige_no_overlap = saige[saige$IID %in% pheno_no_overlap$SampleID,]\n",
    "nrow(saige_no_overlap)\n",
    "nrow(pheno_no_overlap)\n",
    "nrow(saige)"
   ]
  },
  {
   "cell_type": "markdown",
   "id": "643757af-9dd1-40d3-bf99-cdb392aefbe2",
   "metadata": {},
   "source": [
    "# remove anni's original datasets"
   ]
  },
  {
   "cell_type": "code",
   "execution_count": null,
   "id": "b737d765-05c4-470f-b17a-090cc6c851bf",
   "metadata": {},
   "outputs": [],
   "source": [
    "saige_filt_original = saige_no_overlap[saige_no_overlap$IID %in% filt_original$SampleID,]\n",
    "nrow(saige_filt_original)\n",
    "nrow(saige_no_overlap)\n",
    "nrow(filt_original)"
   ]
  },
  {
   "cell_type": "markdown",
   "id": "e4d9aef1-9665-47a0-a217-130edcbd1913",
   "metadata": {},
   "source": [
    "# filter to different dataset combos (new filtering)"
   ]
  },
  {
   "cell_type": "code",
   "execution_count": null,
   "id": "ce1cd223-0899-4071-bd38-453da96e7a77",
   "metadata": {},
   "outputs": [],
   "source": [
    "saige_keep=saige_filt_original[saige_filt_original$IID %in% keep$V1,]\n",
    "nrow(saige_keep)\n",
    "nrow(keep)"
   ]
  },
  {
   "cell_type": "code",
   "execution_count": null,
   "id": "652f26fe-68a5-44f5-b8e4-95a8ab7e54a5",
   "metadata": {},
   "outputs": [],
   "source": [
    "saige_keep_quest=saige_filt_original[saige_filt_original$IID %in% keep_quest$V1,]\n",
    "nrow(saige_keep_quest)\n",
    "nrow(keep_quest)"
   ]
  },
  {
   "cell_type": "code",
   "execution_count": null,
   "id": "17416093-d545-4328-96d4-e4080b2f0382",
   "metadata": {},
   "outputs": [],
   "source": [
    "saige_keep_comb=saige_filt_original[saige_filt_original$IID %in% keep_comb$V1,]\n",
    "nrow(saige_keep_comb)\n",
    "nrow(keep_comb)"
   ]
  },
  {
   "cell_type": "code",
   "execution_count": null,
   "id": "a18e7041-7b24-472c-8abf-6421de307b76",
   "metadata": {},
   "outputs": [],
   "source": [
    "saige_keep_quest_comb=saige_filt_original[saige_filt_original$IID %in% keep_quest_comb$V1,]\n",
    "nrow(saige_keep_quest_comb)\n",
    "nrow(keep_quest_comb)\n",
    "head(saige_keep_quest_comb)"
   ]
  },
  {
   "cell_type": "markdown",
   "id": "cf7fe1a8-3426-44c0-bf67-d77a4295ee52",
   "metadata": {},
   "source": [
    "# export files"
   ]
  },
  {
   "cell_type": "code",
   "execution_count": null,
   "id": "797acc4a-34a0-4a51-81f4-387c2266e48a",
   "metadata": {},
   "outputs": [],
   "source": [
    "write.table(saige_keep,\n",
    "            '/project/ritchie02/projects/AD_KMI/common_var_gene_score/adsp_filt_phenos/ADSP.filt_pheno_covar.no_igap.keep.txt',\n",
    "            sep='\\t',\n",
    "            col.names=T,\n",
    "            row.names=F,\n",
    "            quote=F)"
   ]
  },
  {
   "cell_type": "code",
   "execution_count": null,
   "id": "b3366849-dc9f-4fb3-9b85-d5d2b3bbb513",
   "metadata": {},
   "outputs": [],
   "source": [
    "write.table(saige_keep_quest,\n",
    "            '/project/ritchie02/projects/AD_KMI/common_var_gene_score/adsp_filt_phenos/ADSP.filt_pheno_covar.no_igap.keep_quest.txt',\n",
    "            sep='\\t',\n",
    "            col.names=T,\n",
    "            row.names=F,\n",
    "            quote=F)"
   ]
  },
  {
   "cell_type": "code",
   "execution_count": null,
   "id": "e7a6535b-febd-4cbc-b55e-783e012ac0f9",
   "metadata": {},
   "outputs": [],
   "source": [
    "write.table(saige_keep_comb,\n",
    "            '/project/ritchie02/projects/AD_KMI/common_var_gene_score/adsp_filt_phenos/ADSP.filt_pheno_covar.no_igap.keep_comb.txt',\n",
    "            sep='\\t',\n",
    "            col.names=T,\n",
    "            row.names=F,\n",
    "            quote=F)"
   ]
  },
  {
   "cell_type": "code",
   "execution_count": null,
   "id": "72666877-9297-4f1c-8b0a-033b789dded6",
   "metadata": {},
   "outputs": [],
   "source": [
    "write.table(saige_keep_quest_comb,\n",
    "            '/project/ritchie02/projects/AD_KMI/common_var_gene_score/adsp_filt_phenos/ADSP.filt_pheno_covar.no_igap.keep_quest_comb.txt',\n",
    "            sep='\\t',\n",
    "            col.names=T,\n",
    "            row.names=F,\n",
    "            quote=F)"
   ]
  },
  {
   "cell_type": "code",
   "execution_count": null,
   "id": "fceb7691-0e7d-40f2-8328-fe9fd9c37a22",
   "metadata": {},
   "outputs": [],
   "source": []
  }
 ],
 "metadata": {
  "kernelspec": {
   "display_name": "R",
   "language": "R",
   "name": "ir"
  },
  "language_info": {
   "codemirror_mode": "r",
   "file_extension": ".r",
   "mimetype": "text/x-r-source",
   "name": "R",
   "pygments_lexer": "r",
   "version": "4.4.3"
  }
 },
 "nbformat": 4,
 "nbformat_minor": 5
}

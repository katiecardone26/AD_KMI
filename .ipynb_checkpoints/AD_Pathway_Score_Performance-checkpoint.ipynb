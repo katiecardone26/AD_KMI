{
 "cells": [
  {
   "cell_type": "markdown",
   "id": "5b229e6a-7db5-45ca-b4ec-b685937c1d55",
   "metadata": {},
   "source": [
    "# load packages"
   ]
  },
  {
   "cell_type": "code",
   "execution_count": 1,
   "id": "07876b6f-a1c6-49db-aecc-e5957aca5a87",
   "metadata": {},
   "outputs": [
    {
     "name": "stderr",
     "output_type": "stream",
     "text": [
      "── \u001b[1mAttaching core tidyverse packages\u001b[22m ──────────────────────── tidyverse 2.0.0 ──\n",
      "\u001b[32m✔\u001b[39m \u001b[34mdplyr    \u001b[39m 1.1.4     \u001b[32m✔\u001b[39m \u001b[34mreadr    \u001b[39m 2.1.5\n",
      "\u001b[32m✔\u001b[39m \u001b[34mforcats  \u001b[39m 1.0.0     \u001b[32m✔\u001b[39m \u001b[34mstringr  \u001b[39m 1.5.1\n",
      "\u001b[32m✔\u001b[39m \u001b[34mggplot2  \u001b[39m 3.5.2     \u001b[32m✔\u001b[39m \u001b[34mtibble   \u001b[39m 3.3.0\n",
      "\u001b[32m✔\u001b[39m \u001b[34mlubridate\u001b[39m 1.9.4     \u001b[32m✔\u001b[39m \u001b[34mtidyr    \u001b[39m 1.3.1\n",
      "\u001b[32m✔\u001b[39m \u001b[34mpurrr    \u001b[39m 1.0.4     \n",
      "── \u001b[1mConflicts\u001b[22m ────────────────────────────────────────── tidyverse_conflicts() ──\n",
      "\u001b[31m✖\u001b[39m \u001b[34mdplyr\u001b[39m::\u001b[32mfilter()\u001b[39m masks \u001b[34mstats\u001b[39m::filter()\n",
      "\u001b[31m✖\u001b[39m \u001b[34mdplyr\u001b[39m::\u001b[32mlag()\u001b[39m    masks \u001b[34mstats\u001b[39m::lag()\n",
      "\u001b[36mℹ\u001b[39m Use the conflicted package (\u001b[3m\u001b[34m<http://conflicted.r-lib.org/>\u001b[39m\u001b[23m) to force all conflicts to become errors\n"
     ]
    }
   ],
   "source": [
    "library(tidyverse)"
   ]
  },
  {
   "cell_type": "code",
   "execution_count": 2,
   "id": "a7c608e5-f333-48f2-9345-c7e01894efe1",
   "metadata": {},
   "outputs": [
    {
     "name": "stderr",
     "output_type": "stream",
     "text": [
      "\n",
      "Attaching package: ‘data.table’\n",
      "\n",
      "\n",
      "The following objects are masked from ‘package:lubridate’:\n",
      "\n",
      "    hour, isoweek, mday, minute, month, quarter, second, wday, week,\n",
      "    yday, year\n",
      "\n",
      "\n",
      "The following objects are masked from ‘package:dplyr’:\n",
      "\n",
      "    between, first, last\n",
      "\n",
      "\n",
      "The following object is masked from ‘package:purrr’:\n",
      "\n",
      "    transpose\n",
      "\n",
      "\n"
     ]
    }
   ],
   "source": [
    "library(data.table)"
   ]
  },
  {
   "cell_type": "code",
   "execution_count": 3,
   "id": "27053e85-0700-412a-8169-4b22740f1995",
   "metadata": {},
   "outputs": [
    {
     "name": "stderr",
     "output_type": "stream",
     "text": [
      "Loading required package: Matrix\n",
      "\n",
      "\n",
      "Attaching package: ‘Matrix’\n",
      "\n",
      "\n",
      "The following objects are masked from ‘package:tidyr’:\n",
      "\n",
      "    expand, pack, unpack\n",
      "\n",
      "\n",
      "Loaded glmnet 4.1-9\n",
      "\n"
     ]
    }
   ],
   "source": [
    "library(glmnet)"
   ]
  },
  {
   "cell_type": "code",
   "execution_count": 4,
   "id": "2987eb82-e8ca-4d63-be6e-9997b1864102",
   "metadata": {},
   "outputs": [],
   "source": [
    "library(stats)"
   ]
  },
  {
   "cell_type": "code",
   "execution_count": 5,
   "id": "0f74816d-a9e6-4775-a9b4-633d369082de",
   "metadata": {},
   "outputs": [
    {
     "name": "stderr",
     "output_type": "stream",
     "text": [
      "Type 'citation(\"pROC\")' for a citation.\n",
      "\n",
      "\n",
      "Attaching package: ‘pROC’\n",
      "\n",
      "\n",
      "The following objects are masked from ‘package:stats’:\n",
      "\n",
      "    cov, smooth, var\n",
      "\n",
      "\n"
     ]
    }
   ],
   "source": [
    "library(pROC)"
   ]
  },
  {
   "cell_type": "code",
   "execution_count": 6,
   "id": "b89f364d-032a-4e84-9eb3-9b78ba719111",
   "metadata": {},
   "outputs": [
    {
     "name": "stderr",
     "output_type": "stream",
     "text": [
      "\n",
      "Attaching package: ‘yardstick’\n",
      "\n",
      "\n",
      "The following object is masked from ‘package:readr’:\n",
      "\n",
      "    spec\n",
      "\n",
      "\n"
     ]
    }
   ],
   "source": [
    "library(yardstick)"
   ]
  },
  {
   "cell_type": "markdown",
   "id": "147fa35b-66fc-486d-a506-23f2369a0dbb",
   "metadata": {},
   "source": [
    "# read in input files"
   ]
  },
  {
   "cell_type": "markdown",
   "id": "b66939e2-3c68-45dd-bdd4-25b7058f0d46",
   "metadata": {
    "jp-MarkdownHeadingCollapsed": true
   },
   "source": [
    "## pathway scores"
   ]
  },
  {
   "cell_type": "code",
   "execution_count": 125,
   "id": "22acbb4c-3794-49c6-ad16-8d8013ccccd2",
   "metadata": {},
   "outputs": [
    {
     "data": {
      "text/html": [
       "<style>\n",
       ".list-inline {list-style: none; margin:0; padding: 0}\n",
       ".list-inline>li {display: inline-block}\n",
       ".list-inline>li:not(:last-child)::after {content: \"\\00b7\"; padding: 0 .5ex}\n",
       "</style>\n",
       "<ol class=list-inline><li>2713</li><li>33106</li></ol>\n"
      ],
      "text/latex": [
       "\\begin{enumerate*}\n",
       "\\item 2713\n",
       "\\item 33106\n",
       "\\end{enumerate*}\n"
      ],
      "text/markdown": [
       "1. 2713\n",
       "2. 33106\n",
       "\n",
       "\n"
      ],
      "text/plain": [
       "[1]  2713 33106"
      ]
     },
     "metadata": {},
     "output_type": "display_data"
    },
    {
     "data": {
      "text/html": [
       "<table class=\"dataframe\">\n",
       "<caption>A data.table: 6 × 33106</caption>\n",
       "<thead>\n",
       "\t<tr><th scope=col>PATHWAY_ID</th><th scope=col>A-ACT-AC000014-BL-NCR-15AD78694:NA</th><th scope=col>A-ACT-AC000034-BL-NCR-16AD84906:NA</th><th scope=col>A-ACT-AC000057-BL-NCR-15AD78356:NA</th><th scope=col>A-ACT-AC000072-BL-NCR-15AD77250:NA</th><th scope=col>A-ACT-AC000088-BL-NCR-15AD76548:NA</th><th scope=col>A-ACT-AC000090-BL-NCR-15AD78097:NA</th><th scope=col>A-ACT-AC000092-BL-NCR-15AD78589:NA</th><th scope=col>A-ACT-AC000100-BL-NCR-15AD76766:NA</th><th scope=col>A-ACT-AC000109-BL-NCR-15AD78136:NA</th><th scope=col>⋯</th><th scope=col>A-MAP-MA000886-BR-RUS-a0440:R9931355</th><th scope=col>A-MAP-MA000023-BR-RUS-a0010:R9936070</th><th scope=col>A-MAP-MA000246-BR-RUS-a0098:R9940994</th><th scope=col>A-ROS-RS000762-BL-RUS-a1120:R9950567</th><th scope=col>A-ROS-RS000998-BL-RUS-a1198:R9958949</th><th scope=col>A-ROS-RS000539-BR-RUS-a0976:R9974729</th><th scope=col>A-ROS-RS000244-BL-RUS-a0766:R7039412</th><th scope=col>A-ROS-RS000409-BL-RUS-a0877:R6253512</th><th scope=col>A-MAP-MA001193-BL-RUS-a0583:R3776872</th><th scope=col>A-ROS-RS000358-BL-RUS-a0836:R1020037</th></tr>\n",
       "\t<tr><th scope=col>&lt;chr&gt;</th><th scope=col>&lt;dbl&gt;</th><th scope=col>&lt;dbl&gt;</th><th scope=col>&lt;dbl&gt;</th><th scope=col>&lt;dbl&gt;</th><th scope=col>&lt;dbl&gt;</th><th scope=col>&lt;dbl&gt;</th><th scope=col>&lt;dbl&gt;</th><th scope=col>&lt;dbl&gt;</th><th scope=col>&lt;dbl&gt;</th><th scope=col>⋯</th><th scope=col>&lt;dbl&gt;</th><th scope=col>&lt;dbl&gt;</th><th scope=col>&lt;dbl&gt;</th><th scope=col>&lt;dbl&gt;</th><th scope=col>&lt;dbl&gt;</th><th scope=col>&lt;dbl&gt;</th><th scope=col>&lt;dbl&gt;</th><th scope=col>&lt;dbl&gt;</th><th scope=col>&lt;dbl&gt;</th><th scope=col>&lt;dbl&gt;</th></tr>\n",
       "</thead>\n",
       "<tbody>\n",
       "\t<tr><td>R-HSA-1059683</td><td>0.005790022</td><td>0.01156327</td><td>0.007643638</td><td>0.01632031</td><td>0.011944416</td><td>0.01589437</td><td>0.007077533</td><td>0.01523017</td><td>0.009344372</td><td>⋯</td><td>0.00505808</td><td>-0.14710858</td><td>-0.82031740</td><td>0.4793162</td><td>1.714142</td><td>-0.8143024</td><td>-0.326220430</td><td>-0.40187629</td><td>-0.32001626</td><td>0.8691975</td></tr>\n",
       "\t<tr><td>R-HSA-109581 </td><td>0.020531349</td><td>0.01796820</td><td>0.016380931</td><td>0.02017361</td><td>0.017514444</td><td>0.02175717</td><td>0.017756971</td><td>0.01304933</td><td>0.017571581</td><td>⋯</td><td>0.01772833</td><td>-0.13353464</td><td>-0.58229301</td><td>0.5092849</td><td>1.615065</td><td>-0.6969016</td><td>-0.184517013</td><td>-0.24331571</td><td>-0.23157306</td><td>0.8984179</td></tr>\n",
       "\t<tr><td>R-HSA-109582 </td><td>0.016851505</td><td>0.01546342</td><td>0.016341246</td><td>0.01587716</td><td>0.016025229</td><td>0.01677316</td><td>0.016212859</td><td>0.01576178</td><td>0.016360053</td><td>⋯</td><td>0.01431426</td><td> 0.17334016</td><td>-0.12429413</td><td>0.4975361</td><td>1.669272</td><td>-0.2399512</td><td> 0.285039549</td><td> 0.18734442</td><td> 0.19648986</td><td>1.2169210</td></tr>\n",
       "\t<tr><td>R-HSA-109606 </td><td>0.021120523</td><td>0.02013274</td><td>0.011247472</td><td>0.01387589</td><td>0.015544494</td><td>0.02562302</td><td>0.017109938</td><td>0.01548973</td><td>0.020065994</td><td>⋯</td><td>0.01673737</td><td> 0.01018635</td><td>-0.39307885</td><td>0.5161164</td><td>1.687929</td><td>-0.5155680</td><td>-0.009202761</td><td>-0.05150333</td><td>-0.05368064</td><td>1.0688047</td></tr>\n",
       "\t<tr><td>R-HSA-109703 </td><td>0.000000000</td><td>0.00000000</td><td>0.000000000</td><td>0.07953435</td><td>0.000000000</td><td>0.00000000</td><td>0.000000000</td><td>0.00000000</td><td>0.000000000</td><td>⋯</td><td>0.00000000</td><td>-0.27510891</td><td>-0.77244997</td><td>0.4666794</td><td>1.581506</td><td>-0.8866620</td><td>-0.445188392</td><td>-0.33761142</td><td>-0.44633811</td><td>0.6505576</td></tr>\n",
       "\t<tr><td>R-HSA-109704 </td><td>0.014173533</td><td>0.01288868</td><td>0.021682190</td><td>0.02133366</td><td>0.009689169</td><td>0.01452120</td><td>0.014863719</td><td>0.01305469</td><td>0.015769697</td><td>⋯</td><td>0.01723131</td><td> 0.22774222</td><td>-0.02435427</td><td>0.5217012</td><td>1.434567</td><td>-0.1076940</td><td> 0.343836855</td><td> 0.24386345</td><td> 0.31543520</td><td>1.1046437</td></tr>\n",
       "</tbody>\n",
       "</table>\n"
      ],
      "text/latex": [
       "A data.table: 6 × 33106\n",
       "\\begin{tabular}{lllllllllllllllllllll}\n",
       " PATHWAY\\_ID & A-ACT-AC000014-BL-NCR-15AD78694:NA & A-ACT-AC000034-BL-NCR-16AD84906:NA & A-ACT-AC000057-BL-NCR-15AD78356:NA & A-ACT-AC000072-BL-NCR-15AD77250:NA & A-ACT-AC000088-BL-NCR-15AD76548:NA & A-ACT-AC000090-BL-NCR-15AD78097:NA & A-ACT-AC000092-BL-NCR-15AD78589:NA & A-ACT-AC000100-BL-NCR-15AD76766:NA & A-ACT-AC000109-BL-NCR-15AD78136:NA & ⋯ & A-MAP-MA000886-BR-RUS-a0440:R9931355 & A-MAP-MA000023-BR-RUS-a0010:R9936070 & A-MAP-MA000246-BR-RUS-a0098:R9940994 & A-ROS-RS000762-BL-RUS-a1120:R9950567 & A-ROS-RS000998-BL-RUS-a1198:R9958949 & A-ROS-RS000539-BR-RUS-a0976:R9974729 & A-ROS-RS000244-BL-RUS-a0766:R7039412 & A-ROS-RS000409-BL-RUS-a0877:R6253512 & A-MAP-MA001193-BL-RUS-a0583:R3776872 & A-ROS-RS000358-BL-RUS-a0836:R1020037\\\\\n",
       " <chr> & <dbl> & <dbl> & <dbl> & <dbl> & <dbl> & <dbl> & <dbl> & <dbl> & <dbl> & ⋯ & <dbl> & <dbl> & <dbl> & <dbl> & <dbl> & <dbl> & <dbl> & <dbl> & <dbl> & <dbl>\\\\\n",
       "\\hline\n",
       "\t R-HSA-1059683 & 0.005790022 & 0.01156327 & 0.007643638 & 0.01632031 & 0.011944416 & 0.01589437 & 0.007077533 & 0.01523017 & 0.009344372 & ⋯ & 0.00505808 & -0.14710858 & -0.82031740 & 0.4793162 & 1.714142 & -0.8143024 & -0.326220430 & -0.40187629 & -0.32001626 & 0.8691975\\\\\n",
       "\t R-HSA-109581  & 0.020531349 & 0.01796820 & 0.016380931 & 0.02017361 & 0.017514444 & 0.02175717 & 0.017756971 & 0.01304933 & 0.017571581 & ⋯ & 0.01772833 & -0.13353464 & -0.58229301 & 0.5092849 & 1.615065 & -0.6969016 & -0.184517013 & -0.24331571 & -0.23157306 & 0.8984179\\\\\n",
       "\t R-HSA-109582  & 0.016851505 & 0.01546342 & 0.016341246 & 0.01587716 & 0.016025229 & 0.01677316 & 0.016212859 & 0.01576178 & 0.016360053 & ⋯ & 0.01431426 &  0.17334016 & -0.12429413 & 0.4975361 & 1.669272 & -0.2399512 &  0.285039549 &  0.18734442 &  0.19648986 & 1.2169210\\\\\n",
       "\t R-HSA-109606  & 0.021120523 & 0.02013274 & 0.011247472 & 0.01387589 & 0.015544494 & 0.02562302 & 0.017109938 & 0.01548973 & 0.020065994 & ⋯ & 0.01673737 &  0.01018635 & -0.39307885 & 0.5161164 & 1.687929 & -0.5155680 & -0.009202761 & -0.05150333 & -0.05368064 & 1.0688047\\\\\n",
       "\t R-HSA-109703  & 0.000000000 & 0.00000000 & 0.000000000 & 0.07953435 & 0.000000000 & 0.00000000 & 0.000000000 & 0.00000000 & 0.000000000 & ⋯ & 0.00000000 & -0.27510891 & -0.77244997 & 0.4666794 & 1.581506 & -0.8866620 & -0.445188392 & -0.33761142 & -0.44633811 & 0.6505576\\\\\n",
       "\t R-HSA-109704  & 0.014173533 & 0.01288868 & 0.021682190 & 0.02133366 & 0.009689169 & 0.01452120 & 0.014863719 & 0.01305469 & 0.015769697 & ⋯ & 0.01723131 &  0.22774222 & -0.02435427 & 0.5217012 & 1.434567 & -0.1076940 &  0.343836855 &  0.24386345 &  0.31543520 & 1.1046437\\\\\n",
       "\\end{tabular}\n"
      ],
      "text/markdown": [
       "\n",
       "A data.table: 6 × 33106\n",
       "\n",
       "| PATHWAY_ID &lt;chr&gt; | A-ACT-AC000014-BL-NCR-15AD78694:NA &lt;dbl&gt; | A-ACT-AC000034-BL-NCR-16AD84906:NA &lt;dbl&gt; | A-ACT-AC000057-BL-NCR-15AD78356:NA &lt;dbl&gt; | A-ACT-AC000072-BL-NCR-15AD77250:NA &lt;dbl&gt; | A-ACT-AC000088-BL-NCR-15AD76548:NA &lt;dbl&gt; | A-ACT-AC000090-BL-NCR-15AD78097:NA &lt;dbl&gt; | A-ACT-AC000092-BL-NCR-15AD78589:NA &lt;dbl&gt; | A-ACT-AC000100-BL-NCR-15AD76766:NA &lt;dbl&gt; | A-ACT-AC000109-BL-NCR-15AD78136:NA &lt;dbl&gt; | ⋯ ⋯ | A-MAP-MA000886-BR-RUS-a0440:R9931355 &lt;dbl&gt; | A-MAP-MA000023-BR-RUS-a0010:R9936070 &lt;dbl&gt; | A-MAP-MA000246-BR-RUS-a0098:R9940994 &lt;dbl&gt; | A-ROS-RS000762-BL-RUS-a1120:R9950567 &lt;dbl&gt; | A-ROS-RS000998-BL-RUS-a1198:R9958949 &lt;dbl&gt; | A-ROS-RS000539-BR-RUS-a0976:R9974729 &lt;dbl&gt; | A-ROS-RS000244-BL-RUS-a0766:R7039412 &lt;dbl&gt; | A-ROS-RS000409-BL-RUS-a0877:R6253512 &lt;dbl&gt; | A-MAP-MA001193-BL-RUS-a0583:R3776872 &lt;dbl&gt; | A-ROS-RS000358-BL-RUS-a0836:R1020037 &lt;dbl&gt; |\n",
       "|---|---|---|---|---|---|---|---|---|---|---|---|---|---|---|---|---|---|---|---|---|\n",
       "| R-HSA-1059683 | 0.005790022 | 0.01156327 | 0.007643638 | 0.01632031 | 0.011944416 | 0.01589437 | 0.007077533 | 0.01523017 | 0.009344372 | ⋯ | 0.00505808 | -0.14710858 | -0.82031740 | 0.4793162 | 1.714142 | -0.8143024 | -0.326220430 | -0.40187629 | -0.32001626 | 0.8691975 |\n",
       "| R-HSA-109581  | 0.020531349 | 0.01796820 | 0.016380931 | 0.02017361 | 0.017514444 | 0.02175717 | 0.017756971 | 0.01304933 | 0.017571581 | ⋯ | 0.01772833 | -0.13353464 | -0.58229301 | 0.5092849 | 1.615065 | -0.6969016 | -0.184517013 | -0.24331571 | -0.23157306 | 0.8984179 |\n",
       "| R-HSA-109582  | 0.016851505 | 0.01546342 | 0.016341246 | 0.01587716 | 0.016025229 | 0.01677316 | 0.016212859 | 0.01576178 | 0.016360053 | ⋯ | 0.01431426 |  0.17334016 | -0.12429413 | 0.4975361 | 1.669272 | -0.2399512 |  0.285039549 |  0.18734442 |  0.19648986 | 1.2169210 |\n",
       "| R-HSA-109606  | 0.021120523 | 0.02013274 | 0.011247472 | 0.01387589 | 0.015544494 | 0.02562302 | 0.017109938 | 0.01548973 | 0.020065994 | ⋯ | 0.01673737 |  0.01018635 | -0.39307885 | 0.5161164 | 1.687929 | -0.5155680 | -0.009202761 | -0.05150333 | -0.05368064 | 1.0688047 |\n",
       "| R-HSA-109703  | 0.000000000 | 0.00000000 | 0.000000000 | 0.07953435 | 0.000000000 | 0.00000000 | 0.000000000 | 0.00000000 | 0.000000000 | ⋯ | 0.00000000 | -0.27510891 | -0.77244997 | 0.4666794 | 1.581506 | -0.8866620 | -0.445188392 | -0.33761142 | -0.44633811 | 0.6505576 |\n",
       "| R-HSA-109704  | 0.014173533 | 0.01288868 | 0.021682190 | 0.02133366 | 0.009689169 | 0.01452120 | 0.014863719 | 0.01305469 | 0.015769697 | ⋯ | 0.01723131 |  0.22774222 | -0.02435427 | 0.5217012 | 1.434567 | -0.1076940 |  0.343836855 |  0.24386345 |  0.31543520 | 1.1046437 |\n",
       "\n"
      ],
      "text/plain": [
       "  PATHWAY_ID    A-ACT-AC000014-BL-NCR-15AD78694:NA\n",
       "1 R-HSA-1059683 0.005790022                       \n",
       "2 R-HSA-109581  0.020531349                       \n",
       "3 R-HSA-109582  0.016851505                       \n",
       "4 R-HSA-109606  0.021120523                       \n",
       "5 R-HSA-109703  0.000000000                       \n",
       "6 R-HSA-109704  0.014173533                       \n",
       "  A-ACT-AC000034-BL-NCR-16AD84906:NA A-ACT-AC000057-BL-NCR-15AD78356:NA\n",
       "1 0.01156327                         0.007643638                       \n",
       "2 0.01796820                         0.016380931                       \n",
       "3 0.01546342                         0.016341246                       \n",
       "4 0.02013274                         0.011247472                       \n",
       "5 0.00000000                         0.000000000                       \n",
       "6 0.01288868                         0.021682190                       \n",
       "  A-ACT-AC000072-BL-NCR-15AD77250:NA A-ACT-AC000088-BL-NCR-15AD76548:NA\n",
       "1 0.01632031                         0.011944416                       \n",
       "2 0.02017361                         0.017514444                       \n",
       "3 0.01587716                         0.016025229                       \n",
       "4 0.01387589                         0.015544494                       \n",
       "5 0.07953435                         0.000000000                       \n",
       "6 0.02133366                         0.009689169                       \n",
       "  A-ACT-AC000090-BL-NCR-15AD78097:NA A-ACT-AC000092-BL-NCR-15AD78589:NA\n",
       "1 0.01589437                         0.007077533                       \n",
       "2 0.02175717                         0.017756971                       \n",
       "3 0.01677316                         0.016212859                       \n",
       "4 0.02562302                         0.017109938                       \n",
       "5 0.00000000                         0.000000000                       \n",
       "6 0.01452120                         0.014863719                       \n",
       "  A-ACT-AC000100-BL-NCR-15AD76766:NA A-ACT-AC000109-BL-NCR-15AD78136:NA ⋯\n",
       "1 0.01523017                         0.009344372                        ⋯\n",
       "2 0.01304933                         0.017571581                        ⋯\n",
       "3 0.01576178                         0.016360053                        ⋯\n",
       "4 0.01548973                         0.020065994                        ⋯\n",
       "5 0.00000000                         0.000000000                        ⋯\n",
       "6 0.01305469                         0.015769697                        ⋯\n",
       "  A-MAP-MA000886-BR-RUS-a0440:R9931355 A-MAP-MA000023-BR-RUS-a0010:R9936070\n",
       "1 0.00505808                           -0.14710858                         \n",
       "2 0.01772833                           -0.13353464                         \n",
       "3 0.01431426                            0.17334016                         \n",
       "4 0.01673737                            0.01018635                         \n",
       "5 0.00000000                           -0.27510891                         \n",
       "6 0.01723131                            0.22774222                         \n",
       "  A-MAP-MA000246-BR-RUS-a0098:R9940994 A-ROS-RS000762-BL-RUS-a1120:R9950567\n",
       "1 -0.82031740                          0.4793162                           \n",
       "2 -0.58229301                          0.5092849                           \n",
       "3 -0.12429413                          0.4975361                           \n",
       "4 -0.39307885                          0.5161164                           \n",
       "5 -0.77244997                          0.4666794                           \n",
       "6 -0.02435427                          0.5217012                           \n",
       "  A-ROS-RS000998-BL-RUS-a1198:R9958949 A-ROS-RS000539-BR-RUS-a0976:R9974729\n",
       "1 1.714142                             -0.8143024                          \n",
       "2 1.615065                             -0.6969016                          \n",
       "3 1.669272                             -0.2399512                          \n",
       "4 1.687929                             -0.5155680                          \n",
       "5 1.581506                             -0.8866620                          \n",
       "6 1.434567                             -0.1076940                          \n",
       "  A-ROS-RS000244-BL-RUS-a0766:R7039412 A-ROS-RS000409-BL-RUS-a0877:R6253512\n",
       "1 -0.326220430                         -0.40187629                         \n",
       "2 -0.184517013                         -0.24331571                         \n",
       "3  0.285039549                          0.18734442                         \n",
       "4 -0.009202761                         -0.05150333                         \n",
       "5 -0.445188392                         -0.33761142                         \n",
       "6  0.343836855                          0.24386345                         \n",
       "  A-MAP-MA001193-BL-RUS-a0583:R3776872 A-ROS-RS000358-BL-RUS-a0836:R1020037\n",
       "1 -0.32001626                          0.8691975                           \n",
       "2 -0.23157306                          0.8984179                           \n",
       "3  0.19648986                          1.2169210                           \n",
       "4 -0.05368064                          1.0688047                           \n",
       "5 -0.44633811                          0.6505576                           \n",
       "6  0.31543520                          1.1046437                           "
      ]
     },
     "metadata": {},
     "output_type": "display_data"
    }
   ],
   "source": [
    "avg_pathway = fread('/project/ritchie/projects/AD_KMI/pathway_score/rosmap/avg_pathways/AOU_ALL.UKBB.metasoft.gene_score.ROSMAP.RNAseq.arrayMethylation.somoscan_proteomics.ADSP.pathway_average.pathway_scores.txt',\n",
    "                    sep = '\\t')\n",
    "dim(avg_pathway)\n",
    "head(avg_pathway)"
   ]
  },
  {
   "cell_type": "code",
   "execution_count": 126,
   "id": "b5d71f6f-1e8d-4d0d-b79c-610a7aaee745",
   "metadata": {},
   "outputs": [
    {
     "data": {
      "text/html": [
       "<style>\n",
       ".list-inline {list-style: none; margin:0; padding: 0}\n",
       ".list-inline>li {display: inline-block}\n",
       ".list-inline>li:not(:last-child)::after {content: \"\\00b7\"; padding: 0 .5ex}\n",
       "</style>\n",
       "<ol class=list-inline><li>2713</li><li>33107</li></ol>\n"
      ],
      "text/latex": [
       "\\begin{enumerate*}\n",
       "\\item 2713\n",
       "\\item 33107\n",
       "\\end{enumerate*}\n"
      ],
      "text/markdown": [
       "1. 2713\n",
       "2. 33107\n",
       "\n",
       "\n"
      ],
      "text/plain": [
       "[1]  2713 33107"
      ]
     },
     "metadata": {},
     "output_type": "display_data"
    },
    {
     "data": {
      "text/html": [
       "<table class=\"dataframe\">\n",
       "<caption>A data.table: 6 × 33107</caption>\n",
       "<thead>\n",
       "\t<tr><th scope=col>PATHWAY_ID</th><th scope=col>A-ACT-AC000014-BL-NCR-15AD78694:NA</th><th scope=col>A-ACT-AC000034-BL-NCR-16AD84906:NA</th><th scope=col>A-ACT-AC000057-BL-NCR-15AD78356:NA</th><th scope=col>A-ACT-AC000072-BL-NCR-15AD77250:NA</th><th scope=col>A-ACT-AC000088-BL-NCR-15AD76548:NA</th><th scope=col>A-ACT-AC000090-BL-NCR-15AD78097:NA</th><th scope=col>A-ACT-AC000092-BL-NCR-15AD78589:NA</th><th scope=col>A-ACT-AC000100-BL-NCR-15AD76766:NA</th><th scope=col>A-ACT-AC000109-BL-NCR-15AD78136:NA</th><th scope=col>⋯</th><th scope=col>A-MAP-MA000023-BR-RUS-a0010:R9936070</th><th scope=col>A-MAP-MA000246-BR-RUS-a0098:R9940994</th><th scope=col>A-ROS-RS000762-BL-RUS-a1120:R9950567</th><th scope=col>A-ROS-RS000998-BL-RUS-a1198:R9958949</th><th scope=col>A-ROS-RS000539-BR-RUS-a0976:R9974729</th><th scope=col>A-ROS-RS000244-BL-RUS-a0766:R7039412</th><th scope=col>A-ROS-RS000409-BL-RUS-a0877:R6253512</th><th scope=col>A-MAP-MA001193-BL-RUS-a0583:R3776872</th><th scope=col>A-ROS-RS000358-BL-RUS-a0836:R1020037</th><th scope=col>G-MSBB-MB000223-BR-MSBB-71875:AMPAD_MSSM_0000069984.1</th></tr>\n",
       "\t<tr><th scope=col>&lt;chr&gt;</th><th scope=col>&lt;dbl&gt;</th><th scope=col>&lt;dbl&gt;</th><th scope=col>&lt;dbl&gt;</th><th scope=col>&lt;dbl&gt;</th><th scope=col>&lt;dbl&gt;</th><th scope=col>&lt;dbl&gt;</th><th scope=col>&lt;dbl&gt;</th><th scope=col>&lt;dbl&gt;</th><th scope=col>&lt;dbl&gt;</th><th scope=col>⋯</th><th scope=col>&lt;dbl&gt;</th><th scope=col>&lt;dbl&gt;</th><th scope=col>&lt;dbl&gt;</th><th scope=col>&lt;dbl&gt;</th><th scope=col>&lt;dbl&gt;</th><th scope=col>&lt;dbl&gt;</th><th scope=col>&lt;dbl&gt;</th><th scope=col>&lt;dbl&gt;</th><th scope=col>&lt;dbl&gt;</th><th scope=col>&lt;dbl&gt;</th></tr>\n",
       "</thead>\n",
       "<tbody>\n",
       "\t<tr><td>R-HSA-1059683</td><td>0.005790022</td><td>0.01156327</td><td>0.007643638</td><td>0.01632031</td><td>0.011944416</td><td>0.01589437</td><td>0.007077533</td><td>0.01523017</td><td>0.009344372</td><td>⋯</td><td>-0.14710858</td><td>-0.82031740</td><td>0.4793162</td><td>1.714142</td><td>-0.8143024</td><td>-0.326220430</td><td>-0.40187629</td><td>-0.32001626</td><td>0.8691975</td><td>17.20571</td></tr>\n",
       "\t<tr><td>R-HSA-109581 </td><td>0.020531349</td><td>0.01796820</td><td>0.016380931</td><td>0.02017361</td><td>0.017514444</td><td>0.02175717</td><td>0.017756971</td><td>0.01304933</td><td>0.017571581</td><td>⋯</td><td>-0.13353464</td><td>-0.58229301</td><td>0.5092849</td><td>1.615065</td><td>-0.6969016</td><td>-0.184517013</td><td>-0.24331571</td><td>-0.23157306</td><td>0.8984179</td><td>19.13414</td></tr>\n",
       "\t<tr><td>R-HSA-109582 </td><td>0.016851505</td><td>0.01546342</td><td>0.016341246</td><td>0.01587716</td><td>0.016025229</td><td>0.01677316</td><td>0.016212859</td><td>0.01576178</td><td>0.016360053</td><td>⋯</td><td> 0.17334016</td><td>-0.12429413</td><td>0.4975361</td><td>1.669272</td><td>-0.2399512</td><td> 0.285039549</td><td> 0.18734442</td><td> 0.19648986</td><td>1.2169210</td><td>18.88889</td></tr>\n",
       "\t<tr><td>R-HSA-109606 </td><td>0.021120523</td><td>0.02013274</td><td>0.011247472</td><td>0.01387589</td><td>0.015544494</td><td>0.02562302</td><td>0.017109938</td><td>0.01548973</td><td>0.020065994</td><td>⋯</td><td> 0.01018635</td><td>-0.39307885</td><td>0.5161164</td><td>1.687929</td><td>-0.5155680</td><td>-0.009202761</td><td>-0.05150333</td><td>-0.05368064</td><td>1.0688047</td><td>19.24613</td></tr>\n",
       "\t<tr><td>R-HSA-109703 </td><td>0.000000000</td><td>0.00000000</td><td>0.000000000</td><td>0.07953435</td><td>0.000000000</td><td>0.00000000</td><td>0.000000000</td><td>0.00000000</td><td>0.000000000</td><td>⋯</td><td>-0.27510891</td><td>-0.77244997</td><td>0.4666794</td><td>1.581506</td><td>-0.8866620</td><td>-0.445188392</td><td>-0.33761142</td><td>-0.44633811</td><td>0.6505576</td><td>17.09591</td></tr>\n",
       "\t<tr><td>R-HSA-109704 </td><td>0.014173533</td><td>0.01288868</td><td>0.021682190</td><td>0.02133366</td><td>0.009689169</td><td>0.01452120</td><td>0.014863719</td><td>0.01305469</td><td>0.015769697</td><td>⋯</td><td> 0.22774222</td><td>-0.02435427</td><td>0.5217012</td><td>1.434567</td><td>-0.1076940</td><td> 0.343836855</td><td> 0.24386345</td><td> 0.31543520</td><td>1.1046437</td><td>16.92068</td></tr>\n",
       "</tbody>\n",
       "</table>\n"
      ],
      "text/latex": [
       "A data.table: 6 × 33107\n",
       "\\begin{tabular}{lllllllllllllllllllll}\n",
       " PATHWAY\\_ID & A-ACT-AC000014-BL-NCR-15AD78694:NA & A-ACT-AC000034-BL-NCR-16AD84906:NA & A-ACT-AC000057-BL-NCR-15AD78356:NA & A-ACT-AC000072-BL-NCR-15AD77250:NA & A-ACT-AC000088-BL-NCR-15AD76548:NA & A-ACT-AC000090-BL-NCR-15AD78097:NA & A-ACT-AC000092-BL-NCR-15AD78589:NA & A-ACT-AC000100-BL-NCR-15AD76766:NA & A-ACT-AC000109-BL-NCR-15AD78136:NA & ⋯ & A-MAP-MA000023-BR-RUS-a0010:R9936070 & A-MAP-MA000246-BR-RUS-a0098:R9940994 & A-ROS-RS000762-BL-RUS-a1120:R9950567 & A-ROS-RS000998-BL-RUS-a1198:R9958949 & A-ROS-RS000539-BR-RUS-a0976:R9974729 & A-ROS-RS000244-BL-RUS-a0766:R7039412 & A-ROS-RS000409-BL-RUS-a0877:R6253512 & A-MAP-MA001193-BL-RUS-a0583:R3776872 & A-ROS-RS000358-BL-RUS-a0836:R1020037 & G-MSBB-MB000223-BR-MSBB-71875:AMPAD\\_MSSM\\_0000069984.1\\\\\n",
       " <chr> & <dbl> & <dbl> & <dbl> & <dbl> & <dbl> & <dbl> & <dbl> & <dbl> & <dbl> & ⋯ & <dbl> & <dbl> & <dbl> & <dbl> & <dbl> & <dbl> & <dbl> & <dbl> & <dbl> & <dbl>\\\\\n",
       "\\hline\n",
       "\t R-HSA-1059683 & 0.005790022 & 0.01156327 & 0.007643638 & 0.01632031 & 0.011944416 & 0.01589437 & 0.007077533 & 0.01523017 & 0.009344372 & ⋯ & -0.14710858 & -0.82031740 & 0.4793162 & 1.714142 & -0.8143024 & -0.326220430 & -0.40187629 & -0.32001626 & 0.8691975 & 17.20571\\\\\n",
       "\t R-HSA-109581  & 0.020531349 & 0.01796820 & 0.016380931 & 0.02017361 & 0.017514444 & 0.02175717 & 0.017756971 & 0.01304933 & 0.017571581 & ⋯ & -0.13353464 & -0.58229301 & 0.5092849 & 1.615065 & -0.6969016 & -0.184517013 & -0.24331571 & -0.23157306 & 0.8984179 & 19.13414\\\\\n",
       "\t R-HSA-109582  & 0.016851505 & 0.01546342 & 0.016341246 & 0.01587716 & 0.016025229 & 0.01677316 & 0.016212859 & 0.01576178 & 0.016360053 & ⋯ &  0.17334016 & -0.12429413 & 0.4975361 & 1.669272 & -0.2399512 &  0.285039549 &  0.18734442 &  0.19648986 & 1.2169210 & 18.88889\\\\\n",
       "\t R-HSA-109606  & 0.021120523 & 0.02013274 & 0.011247472 & 0.01387589 & 0.015544494 & 0.02562302 & 0.017109938 & 0.01548973 & 0.020065994 & ⋯ &  0.01018635 & -0.39307885 & 0.5161164 & 1.687929 & -0.5155680 & -0.009202761 & -0.05150333 & -0.05368064 & 1.0688047 & 19.24613\\\\\n",
       "\t R-HSA-109703  & 0.000000000 & 0.00000000 & 0.000000000 & 0.07953435 & 0.000000000 & 0.00000000 & 0.000000000 & 0.00000000 & 0.000000000 & ⋯ & -0.27510891 & -0.77244997 & 0.4666794 & 1.581506 & -0.8866620 & -0.445188392 & -0.33761142 & -0.44633811 & 0.6505576 & 17.09591\\\\\n",
       "\t R-HSA-109704  & 0.014173533 & 0.01288868 & 0.021682190 & 0.02133366 & 0.009689169 & 0.01452120 & 0.014863719 & 0.01305469 & 0.015769697 & ⋯ &  0.22774222 & -0.02435427 & 0.5217012 & 1.434567 & -0.1076940 &  0.343836855 &  0.24386345 &  0.31543520 & 1.1046437 & 16.92068\\\\\n",
       "\\end{tabular}\n"
      ],
      "text/markdown": [
       "\n",
       "A data.table: 6 × 33107\n",
       "\n",
       "| PATHWAY_ID &lt;chr&gt; | A-ACT-AC000014-BL-NCR-15AD78694:NA &lt;dbl&gt; | A-ACT-AC000034-BL-NCR-16AD84906:NA &lt;dbl&gt; | A-ACT-AC000057-BL-NCR-15AD78356:NA &lt;dbl&gt; | A-ACT-AC000072-BL-NCR-15AD77250:NA &lt;dbl&gt; | A-ACT-AC000088-BL-NCR-15AD76548:NA &lt;dbl&gt; | A-ACT-AC000090-BL-NCR-15AD78097:NA &lt;dbl&gt; | A-ACT-AC000092-BL-NCR-15AD78589:NA &lt;dbl&gt; | A-ACT-AC000100-BL-NCR-15AD76766:NA &lt;dbl&gt; | A-ACT-AC000109-BL-NCR-15AD78136:NA &lt;dbl&gt; | ⋯ ⋯ | A-MAP-MA000023-BR-RUS-a0010:R9936070 &lt;dbl&gt; | A-MAP-MA000246-BR-RUS-a0098:R9940994 &lt;dbl&gt; | A-ROS-RS000762-BL-RUS-a1120:R9950567 &lt;dbl&gt; | A-ROS-RS000998-BL-RUS-a1198:R9958949 &lt;dbl&gt; | A-ROS-RS000539-BR-RUS-a0976:R9974729 &lt;dbl&gt; | A-ROS-RS000244-BL-RUS-a0766:R7039412 &lt;dbl&gt; | A-ROS-RS000409-BL-RUS-a0877:R6253512 &lt;dbl&gt; | A-MAP-MA001193-BL-RUS-a0583:R3776872 &lt;dbl&gt; | A-ROS-RS000358-BL-RUS-a0836:R1020037 &lt;dbl&gt; | G-MSBB-MB000223-BR-MSBB-71875:AMPAD_MSSM_0000069984.1 &lt;dbl&gt; |\n",
       "|---|---|---|---|---|---|---|---|---|---|---|---|---|---|---|---|---|---|---|---|---|\n",
       "| R-HSA-1059683 | 0.005790022 | 0.01156327 | 0.007643638 | 0.01632031 | 0.011944416 | 0.01589437 | 0.007077533 | 0.01523017 | 0.009344372 | ⋯ | -0.14710858 | -0.82031740 | 0.4793162 | 1.714142 | -0.8143024 | -0.326220430 | -0.40187629 | -0.32001626 | 0.8691975 | 17.20571 |\n",
       "| R-HSA-109581  | 0.020531349 | 0.01796820 | 0.016380931 | 0.02017361 | 0.017514444 | 0.02175717 | 0.017756971 | 0.01304933 | 0.017571581 | ⋯ | -0.13353464 | -0.58229301 | 0.5092849 | 1.615065 | -0.6969016 | -0.184517013 | -0.24331571 | -0.23157306 | 0.8984179 | 19.13414 |\n",
       "| R-HSA-109582  | 0.016851505 | 0.01546342 | 0.016341246 | 0.01587716 | 0.016025229 | 0.01677316 | 0.016212859 | 0.01576178 | 0.016360053 | ⋯ |  0.17334016 | -0.12429413 | 0.4975361 | 1.669272 | -0.2399512 |  0.285039549 |  0.18734442 |  0.19648986 | 1.2169210 | 18.88889 |\n",
       "| R-HSA-109606  | 0.021120523 | 0.02013274 | 0.011247472 | 0.01387589 | 0.015544494 | 0.02562302 | 0.017109938 | 0.01548973 | 0.020065994 | ⋯ |  0.01018635 | -0.39307885 | 0.5161164 | 1.687929 | -0.5155680 | -0.009202761 | -0.05150333 | -0.05368064 | 1.0688047 | 19.24613 |\n",
       "| R-HSA-109703  | 0.000000000 | 0.00000000 | 0.000000000 | 0.07953435 | 0.000000000 | 0.00000000 | 0.000000000 | 0.00000000 | 0.000000000 | ⋯ | -0.27510891 | -0.77244997 | 0.4666794 | 1.581506 | -0.8866620 | -0.445188392 | -0.33761142 | -0.44633811 | 0.6505576 | 17.09591 |\n",
       "| R-HSA-109704  | 0.014173533 | 0.01288868 | 0.021682190 | 0.02133366 | 0.009689169 | 0.01452120 | 0.014863719 | 0.01305469 | 0.015769697 | ⋯ |  0.22774222 | -0.02435427 | 0.5217012 | 1.434567 | -0.1076940 |  0.343836855 |  0.24386345 |  0.31543520 | 1.1046437 | 16.92068 |\n",
       "\n"
      ],
      "text/plain": [
       "  PATHWAY_ID    A-ACT-AC000014-BL-NCR-15AD78694:NA\n",
       "1 R-HSA-1059683 0.005790022                       \n",
       "2 R-HSA-109581  0.020531349                       \n",
       "3 R-HSA-109582  0.016851505                       \n",
       "4 R-HSA-109606  0.021120523                       \n",
       "5 R-HSA-109703  0.000000000                       \n",
       "6 R-HSA-109704  0.014173533                       \n",
       "  A-ACT-AC000034-BL-NCR-16AD84906:NA A-ACT-AC000057-BL-NCR-15AD78356:NA\n",
       "1 0.01156327                         0.007643638                       \n",
       "2 0.01796820                         0.016380931                       \n",
       "3 0.01546342                         0.016341246                       \n",
       "4 0.02013274                         0.011247472                       \n",
       "5 0.00000000                         0.000000000                       \n",
       "6 0.01288868                         0.021682190                       \n",
       "  A-ACT-AC000072-BL-NCR-15AD77250:NA A-ACT-AC000088-BL-NCR-15AD76548:NA\n",
       "1 0.01632031                         0.011944416                       \n",
       "2 0.02017361                         0.017514444                       \n",
       "3 0.01587716                         0.016025229                       \n",
       "4 0.01387589                         0.015544494                       \n",
       "5 0.07953435                         0.000000000                       \n",
       "6 0.02133366                         0.009689169                       \n",
       "  A-ACT-AC000090-BL-NCR-15AD78097:NA A-ACT-AC000092-BL-NCR-15AD78589:NA\n",
       "1 0.01589437                         0.007077533                       \n",
       "2 0.02175717                         0.017756971                       \n",
       "3 0.01677316                         0.016212859                       \n",
       "4 0.02562302                         0.017109938                       \n",
       "5 0.00000000                         0.000000000                       \n",
       "6 0.01452120                         0.014863719                       \n",
       "  A-ACT-AC000100-BL-NCR-15AD76766:NA A-ACT-AC000109-BL-NCR-15AD78136:NA ⋯\n",
       "1 0.01523017                         0.009344372                        ⋯\n",
       "2 0.01304933                         0.017571581                        ⋯\n",
       "3 0.01576178                         0.016360053                        ⋯\n",
       "4 0.01548973                         0.020065994                        ⋯\n",
       "5 0.00000000                         0.000000000                        ⋯\n",
       "6 0.01305469                         0.015769697                        ⋯\n",
       "  A-MAP-MA000023-BR-RUS-a0010:R9936070 A-MAP-MA000246-BR-RUS-a0098:R9940994\n",
       "1 -0.14710858                          -0.82031740                         \n",
       "2 -0.13353464                          -0.58229301                         \n",
       "3  0.17334016                          -0.12429413                         \n",
       "4  0.01018635                          -0.39307885                         \n",
       "5 -0.27510891                          -0.77244997                         \n",
       "6  0.22774222                          -0.02435427                         \n",
       "  A-ROS-RS000762-BL-RUS-a1120:R9950567 A-ROS-RS000998-BL-RUS-a1198:R9958949\n",
       "1 0.4793162                            1.714142                            \n",
       "2 0.5092849                            1.615065                            \n",
       "3 0.4975361                            1.669272                            \n",
       "4 0.5161164                            1.687929                            \n",
       "5 0.4666794                            1.581506                            \n",
       "6 0.5217012                            1.434567                            \n",
       "  A-ROS-RS000539-BR-RUS-a0976:R9974729 A-ROS-RS000244-BL-RUS-a0766:R7039412\n",
       "1 -0.8143024                           -0.326220430                        \n",
       "2 -0.6969016                           -0.184517013                        \n",
       "3 -0.2399512                            0.285039549                        \n",
       "4 -0.5155680                           -0.009202761                        \n",
       "5 -0.8866620                           -0.445188392                        \n",
       "6 -0.1076940                            0.343836855                        \n",
       "  A-ROS-RS000409-BL-RUS-a0877:R6253512 A-MAP-MA001193-BL-RUS-a0583:R3776872\n",
       "1 -0.40187629                          -0.32001626                         \n",
       "2 -0.24331571                          -0.23157306                         \n",
       "3  0.18734442                           0.19648986                         \n",
       "4 -0.05150333                          -0.05368064                         \n",
       "5 -0.33761142                          -0.44633811                         \n",
       "6  0.24386345                           0.31543520                         \n",
       "  A-ROS-RS000358-BL-RUS-a0836:R1020037\n",
       "1 0.8691975                           \n",
       "2 0.8984179                           \n",
       "3 1.2169210                           \n",
       "4 1.0688047                           \n",
       "5 0.6505576                           \n",
       "6 1.1046437                           \n",
       "  G-MSBB-MB000223-BR-MSBB-71875:AMPAD_MSSM_0000069984.1\n",
       "1 17.20571                                             \n",
       "2 19.13414                                             \n",
       "3 18.88889                                             \n",
       "4 19.24613                                             \n",
       "5 17.09591                                             \n",
       "6 16.92068                                             "
      ]
     },
     "metadata": {},
     "output_type": "display_data"
    }
   ],
   "source": [
    "avg_pathway_msbb = fread('/project/ritchie/projects/AD_KMI/pathway_score/rosmap/avg_pathways/AOU_ALL.UKBB.metasoft.gene_score.ROSMAP.RNAseq.methylation.somoscan_proteomics.MSBB.RNAseq.methylation.tmt_proteomics.ADSP.pathway_average.pathway_scores.txt',\n",
    "                    sep = '\\t')\n",
    "dim(avg_pathway_msbb)\n",
    "head(avg_pathway_msbb)"
   ]
  },
  {
   "cell_type": "code",
   "execution_count": 127,
   "id": "e0649a8d-316e-4ca9-8ffa-95f2b80935ed",
   "metadata": {},
   "outputs": [
    {
     "data": {
      "text/html": [
       "<style>\n",
       ".list-inline {list-style: none; margin:0; padding: 0}\n",
       ".list-inline>li {display: inline-block}\n",
       ".list-inline>li:not(:last-child)::after {content: \"\\00b7\"; padding: 0 .5ex}\n",
       "</style>\n",
       "<ol class=list-inline><li>2713</li><li>33106</li></ol>\n"
      ],
      "text/latex": [
       "\\begin{enumerate*}\n",
       "\\item 2713\n",
       "\\item 33106\n",
       "\\end{enumerate*}\n"
      ],
      "text/markdown": [
       "1. 2713\n",
       "2. 33106\n",
       "\n",
       "\n"
      ],
      "text/plain": [
       "[1]  2713 33106"
      ]
     },
     "metadata": {},
     "output_type": "display_data"
    },
    {
     "data": {
      "text/html": [
       "<table class=\"dataframe\">\n",
       "<caption>A data.table: 6 × 33106</caption>\n",
       "<thead>\n",
       "\t<tr><th scope=col>PATHWAY_ID</th><th scope=col>A-ACT-AC000014-BL-NCR-15AD78694:NA</th><th scope=col>A-ACT-AC000034-BL-NCR-16AD84906:NA</th><th scope=col>A-ACT-AC000057-BL-NCR-15AD78356:NA</th><th scope=col>A-ACT-AC000072-BL-NCR-15AD77250:NA</th><th scope=col>A-ACT-AC000088-BL-NCR-15AD76548:NA</th><th scope=col>A-ACT-AC000090-BL-NCR-15AD78097:NA</th><th scope=col>A-ACT-AC000092-BL-NCR-15AD78589:NA</th><th scope=col>A-ACT-AC000100-BL-NCR-15AD76766:NA</th><th scope=col>A-ACT-AC000109-BL-NCR-15AD78136:NA</th><th scope=col>⋯</th><th scope=col>A-MAP-MA000886-BR-RUS-a0440:R9931355</th><th scope=col>A-MAP-MA000023-BR-RUS-a0010:R9936070</th><th scope=col>A-MAP-MA000246-BR-RUS-a0098:R9940994</th><th scope=col>A-ROS-RS000762-BL-RUS-a1120:R9950567</th><th scope=col>A-ROS-RS000998-BL-RUS-a1198:R9958949</th><th scope=col>A-ROS-RS000539-BR-RUS-a0976:R9974729</th><th scope=col>A-ROS-RS000244-BL-RUS-a0766:R7039412</th><th scope=col>A-ROS-RS000409-BL-RUS-a0877:R6253512</th><th scope=col>A-MAP-MA001193-BL-RUS-a0583:R3776872</th><th scope=col>A-ROS-RS000358-BL-RUS-a0836:R1020037</th></tr>\n",
       "\t<tr><th scope=col>&lt;chr&gt;</th><th scope=col>&lt;dbl&gt;</th><th scope=col>&lt;dbl&gt;</th><th scope=col>&lt;dbl&gt;</th><th scope=col>&lt;dbl&gt;</th><th scope=col>&lt;dbl&gt;</th><th scope=col>&lt;dbl&gt;</th><th scope=col>&lt;dbl&gt;</th><th scope=col>&lt;dbl&gt;</th><th scope=col>&lt;dbl&gt;</th><th scope=col>⋯</th><th scope=col>&lt;dbl&gt;</th><th scope=col>&lt;dbl&gt;</th><th scope=col>&lt;dbl&gt;</th><th scope=col>&lt;dbl&gt;</th><th scope=col>&lt;dbl&gt;</th><th scope=col>&lt;dbl&gt;</th><th scope=col>&lt;dbl&gt;</th><th scope=col>&lt;dbl&gt;</th><th scope=col>&lt;dbl&gt;</th><th scope=col>&lt;dbl&gt;</th></tr>\n",
       "</thead>\n",
       "<tbody>\n",
       "\t<tr><td>R-HSA-1059683</td><td>0.005790022</td><td>0.01156327</td><td>0.007643638</td><td>0.01632031</td><td>0.011944416</td><td>0.01589437</td><td>0.007077533</td><td>0.01523017</td><td>0.009344372</td><td>⋯</td><td>0.00505808</td><td>-1.2639342</td><td>-1.4330254</td><td>0.7224889</td><td>2.494505</td><td>-1.5046822</td><td>-1.4629061</td><td>-1.4801256</td><td>-1.4538983</td><td>-1.3021393</td></tr>\n",
       "\t<tr><td>R-HSA-109581 </td><td>0.020531349</td><td>0.01796820</td><td>0.016380931</td><td>0.02017361</td><td>0.017514444</td><td>0.02175717</td><td>0.017756971</td><td>0.01304933</td><td>0.017571581</td><td>⋯</td><td>0.01772833</td><td>-1.6582553</td><td>-1.6762195</td><td>0.8088093</td><td>2.254550</td><td>-1.9097213</td><td>-1.6298725</td><td>-1.7035809</td><td>-1.7060748</td><td>-1.5335078</td></tr>\n",
       "\t<tr><td>R-HSA-109582 </td><td>0.016851505</td><td>0.01546342</td><td>0.016341246</td><td>0.01587716</td><td>0.016025229</td><td>0.01677316</td><td>0.016212859</td><td>0.01576178</td><td>0.016360053</td><td>⋯</td><td>0.01431426</td><td>-0.4803167</td><td>-0.4350839</td><td>0.7669406</td><td>2.118663</td><td>-0.6381621</td><td>-0.4956907</td><td>-0.5437297</td><td>-0.5696225</td><td>-0.3925164</td></tr>\n",
       "\t<tr><td>R-HSA-109606 </td><td>0.021120523</td><td>0.02013274</td><td>0.011247472</td><td>0.01387589</td><td>0.015544494</td><td>0.02562302</td><td>0.017109938</td><td>0.01548973</td><td>0.020065994</td><td>⋯</td><td>0.01673737</td><td>-1.3815577</td><td>-1.3286724</td><td>0.8145749</td><td>2.278887</td><td>-1.5726601</td><td>-1.3974119</td><td>-1.4129483</td><td>-1.4522935</td><td>-1.4250628</td></tr>\n",
       "\t<tr><td>R-HSA-109703 </td><td>0.000000000</td><td>0.00000000</td><td>0.000000000</td><td>0.07953435</td><td>0.000000000</td><td>0.00000000</td><td>0.000000000</td><td>0.00000000</td><td>0.000000000</td><td>⋯</td><td>0.00000000</td><td>-1.6133297</td><td>-1.5322355</td><td>0.7140418</td><td>1.581506</td><td>-1.7146396</td><td>-1.7685271</td><td>-1.4817784</td><td>-1.7821830</td><td>-1.8679416</td></tr>\n",
       "\t<tr><td>R-HSA-109704 </td><td>0.014173533</td><td>0.01288868</td><td>0.021682190</td><td>0.02133366</td><td>0.009689169</td><td>0.01452120</td><td>0.014863719</td><td>0.01305469</td><td>0.015769697</td><td>⋯</td><td>0.01723131</td><td>-0.7602483</td><td>-0.6006618</td><td>0.8221170</td><td>2.156883</td><td>-0.7991541</td><td>-0.7391113</td><td>-0.8371181</td><td>-0.8433472</td><td>-0.7067397</td></tr>\n",
       "</tbody>\n",
       "</table>\n"
      ],
      "text/latex": [
       "A data.table: 6 × 33106\n",
       "\\begin{tabular}{lllllllllllllllllllll}\n",
       " PATHWAY\\_ID & A-ACT-AC000014-BL-NCR-15AD78694:NA & A-ACT-AC000034-BL-NCR-16AD84906:NA & A-ACT-AC000057-BL-NCR-15AD78356:NA & A-ACT-AC000072-BL-NCR-15AD77250:NA & A-ACT-AC000088-BL-NCR-15AD76548:NA & A-ACT-AC000090-BL-NCR-15AD78097:NA & A-ACT-AC000092-BL-NCR-15AD78589:NA & A-ACT-AC000100-BL-NCR-15AD76766:NA & A-ACT-AC000109-BL-NCR-15AD78136:NA & ⋯ & A-MAP-MA000886-BR-RUS-a0440:R9931355 & A-MAP-MA000023-BR-RUS-a0010:R9936070 & A-MAP-MA000246-BR-RUS-a0098:R9940994 & A-ROS-RS000762-BL-RUS-a1120:R9950567 & A-ROS-RS000998-BL-RUS-a1198:R9958949 & A-ROS-RS000539-BR-RUS-a0976:R9974729 & A-ROS-RS000244-BL-RUS-a0766:R7039412 & A-ROS-RS000409-BL-RUS-a0877:R6253512 & A-MAP-MA001193-BL-RUS-a0583:R3776872 & A-ROS-RS000358-BL-RUS-a0836:R1020037\\\\\n",
       " <chr> & <dbl> & <dbl> & <dbl> & <dbl> & <dbl> & <dbl> & <dbl> & <dbl> & <dbl> & ⋯ & <dbl> & <dbl> & <dbl> & <dbl> & <dbl> & <dbl> & <dbl> & <dbl> & <dbl> & <dbl>\\\\\n",
       "\\hline\n",
       "\t R-HSA-1059683 & 0.005790022 & 0.01156327 & 0.007643638 & 0.01632031 & 0.011944416 & 0.01589437 & 0.007077533 & 0.01523017 & 0.009344372 & ⋯ & 0.00505808 & -1.2639342 & -1.4330254 & 0.7224889 & 2.494505 & -1.5046822 & -1.4629061 & -1.4801256 & -1.4538983 & -1.3021393\\\\\n",
       "\t R-HSA-109581  & 0.020531349 & 0.01796820 & 0.016380931 & 0.02017361 & 0.017514444 & 0.02175717 & 0.017756971 & 0.01304933 & 0.017571581 & ⋯ & 0.01772833 & -1.6582553 & -1.6762195 & 0.8088093 & 2.254550 & -1.9097213 & -1.6298725 & -1.7035809 & -1.7060748 & -1.5335078\\\\\n",
       "\t R-HSA-109582  & 0.016851505 & 0.01546342 & 0.016341246 & 0.01587716 & 0.016025229 & 0.01677316 & 0.016212859 & 0.01576178 & 0.016360053 & ⋯ & 0.01431426 & -0.4803167 & -0.4350839 & 0.7669406 & 2.118663 & -0.6381621 & -0.4956907 & -0.5437297 & -0.5696225 & -0.3925164\\\\\n",
       "\t R-HSA-109606  & 0.021120523 & 0.02013274 & 0.011247472 & 0.01387589 & 0.015544494 & 0.02562302 & 0.017109938 & 0.01548973 & 0.020065994 & ⋯ & 0.01673737 & -1.3815577 & -1.3286724 & 0.8145749 & 2.278887 & -1.5726601 & -1.3974119 & -1.4129483 & -1.4522935 & -1.4250628\\\\\n",
       "\t R-HSA-109703  & 0.000000000 & 0.00000000 & 0.000000000 & 0.07953435 & 0.000000000 & 0.00000000 & 0.000000000 & 0.00000000 & 0.000000000 & ⋯ & 0.00000000 & -1.6133297 & -1.5322355 & 0.7140418 & 1.581506 & -1.7146396 & -1.7685271 & -1.4817784 & -1.7821830 & -1.8679416\\\\\n",
       "\t R-HSA-109704  & 0.014173533 & 0.01288868 & 0.021682190 & 0.02133366 & 0.009689169 & 0.01452120 & 0.014863719 & 0.01305469 & 0.015769697 & ⋯ & 0.01723131 & -0.7602483 & -0.6006618 & 0.8221170 & 2.156883 & -0.7991541 & -0.7391113 & -0.8371181 & -0.8433472 & -0.7067397\\\\\n",
       "\\end{tabular}\n"
      ],
      "text/markdown": [
       "\n",
       "A data.table: 6 × 33106\n",
       "\n",
       "| PATHWAY_ID &lt;chr&gt; | A-ACT-AC000014-BL-NCR-15AD78694:NA &lt;dbl&gt; | A-ACT-AC000034-BL-NCR-16AD84906:NA &lt;dbl&gt; | A-ACT-AC000057-BL-NCR-15AD78356:NA &lt;dbl&gt; | A-ACT-AC000072-BL-NCR-15AD77250:NA &lt;dbl&gt; | A-ACT-AC000088-BL-NCR-15AD76548:NA &lt;dbl&gt; | A-ACT-AC000090-BL-NCR-15AD78097:NA &lt;dbl&gt; | A-ACT-AC000092-BL-NCR-15AD78589:NA &lt;dbl&gt; | A-ACT-AC000100-BL-NCR-15AD76766:NA &lt;dbl&gt; | A-ACT-AC000109-BL-NCR-15AD78136:NA &lt;dbl&gt; | ⋯ ⋯ | A-MAP-MA000886-BR-RUS-a0440:R9931355 &lt;dbl&gt; | A-MAP-MA000023-BR-RUS-a0010:R9936070 &lt;dbl&gt; | A-MAP-MA000246-BR-RUS-a0098:R9940994 &lt;dbl&gt; | A-ROS-RS000762-BL-RUS-a1120:R9950567 &lt;dbl&gt; | A-ROS-RS000998-BL-RUS-a1198:R9958949 &lt;dbl&gt; | A-ROS-RS000539-BR-RUS-a0976:R9974729 &lt;dbl&gt; | A-ROS-RS000244-BL-RUS-a0766:R7039412 &lt;dbl&gt; | A-ROS-RS000409-BL-RUS-a0877:R6253512 &lt;dbl&gt; | A-MAP-MA001193-BL-RUS-a0583:R3776872 &lt;dbl&gt; | A-ROS-RS000358-BL-RUS-a0836:R1020037 &lt;dbl&gt; |\n",
       "|---|---|---|---|---|---|---|---|---|---|---|---|---|---|---|---|---|---|---|---|---|\n",
       "| R-HSA-1059683 | 0.005790022 | 0.01156327 | 0.007643638 | 0.01632031 | 0.011944416 | 0.01589437 | 0.007077533 | 0.01523017 | 0.009344372 | ⋯ | 0.00505808 | -1.2639342 | -1.4330254 | 0.7224889 | 2.494505 | -1.5046822 | -1.4629061 | -1.4801256 | -1.4538983 | -1.3021393 |\n",
       "| R-HSA-109581  | 0.020531349 | 0.01796820 | 0.016380931 | 0.02017361 | 0.017514444 | 0.02175717 | 0.017756971 | 0.01304933 | 0.017571581 | ⋯ | 0.01772833 | -1.6582553 | -1.6762195 | 0.8088093 | 2.254550 | -1.9097213 | -1.6298725 | -1.7035809 | -1.7060748 | -1.5335078 |\n",
       "| R-HSA-109582  | 0.016851505 | 0.01546342 | 0.016341246 | 0.01587716 | 0.016025229 | 0.01677316 | 0.016212859 | 0.01576178 | 0.016360053 | ⋯ | 0.01431426 | -0.4803167 | -0.4350839 | 0.7669406 | 2.118663 | -0.6381621 | -0.4956907 | -0.5437297 | -0.5696225 | -0.3925164 |\n",
       "| R-HSA-109606  | 0.021120523 | 0.02013274 | 0.011247472 | 0.01387589 | 0.015544494 | 0.02562302 | 0.017109938 | 0.01548973 | 0.020065994 | ⋯ | 0.01673737 | -1.3815577 | -1.3286724 | 0.8145749 | 2.278887 | -1.5726601 | -1.3974119 | -1.4129483 | -1.4522935 | -1.4250628 |\n",
       "| R-HSA-109703  | 0.000000000 | 0.00000000 | 0.000000000 | 0.07953435 | 0.000000000 | 0.00000000 | 0.000000000 | 0.00000000 | 0.000000000 | ⋯ | 0.00000000 | -1.6133297 | -1.5322355 | 0.7140418 | 1.581506 | -1.7146396 | -1.7685271 | -1.4817784 | -1.7821830 | -1.8679416 |\n",
       "| R-HSA-109704  | 0.014173533 | 0.01288868 | 0.021682190 | 0.02133366 | 0.009689169 | 0.01452120 | 0.014863719 | 0.01305469 | 0.015769697 | ⋯ | 0.01723131 | -0.7602483 | -0.6006618 | 0.8221170 | 2.156883 | -0.7991541 | -0.7391113 | -0.8371181 | -0.8433472 | -0.7067397 |\n",
       "\n"
      ],
      "text/plain": [
       "  PATHWAY_ID    A-ACT-AC000014-BL-NCR-15AD78694:NA\n",
       "1 R-HSA-1059683 0.005790022                       \n",
       "2 R-HSA-109581  0.020531349                       \n",
       "3 R-HSA-109582  0.016851505                       \n",
       "4 R-HSA-109606  0.021120523                       \n",
       "5 R-HSA-109703  0.000000000                       \n",
       "6 R-HSA-109704  0.014173533                       \n",
       "  A-ACT-AC000034-BL-NCR-16AD84906:NA A-ACT-AC000057-BL-NCR-15AD78356:NA\n",
       "1 0.01156327                         0.007643638                       \n",
       "2 0.01796820                         0.016380931                       \n",
       "3 0.01546342                         0.016341246                       \n",
       "4 0.02013274                         0.011247472                       \n",
       "5 0.00000000                         0.000000000                       \n",
       "6 0.01288868                         0.021682190                       \n",
       "  A-ACT-AC000072-BL-NCR-15AD77250:NA A-ACT-AC000088-BL-NCR-15AD76548:NA\n",
       "1 0.01632031                         0.011944416                       \n",
       "2 0.02017361                         0.017514444                       \n",
       "3 0.01587716                         0.016025229                       \n",
       "4 0.01387589                         0.015544494                       \n",
       "5 0.07953435                         0.000000000                       \n",
       "6 0.02133366                         0.009689169                       \n",
       "  A-ACT-AC000090-BL-NCR-15AD78097:NA A-ACT-AC000092-BL-NCR-15AD78589:NA\n",
       "1 0.01589437                         0.007077533                       \n",
       "2 0.02175717                         0.017756971                       \n",
       "3 0.01677316                         0.016212859                       \n",
       "4 0.02562302                         0.017109938                       \n",
       "5 0.00000000                         0.000000000                       \n",
       "6 0.01452120                         0.014863719                       \n",
       "  A-ACT-AC000100-BL-NCR-15AD76766:NA A-ACT-AC000109-BL-NCR-15AD78136:NA ⋯\n",
       "1 0.01523017                         0.009344372                        ⋯\n",
       "2 0.01304933                         0.017571581                        ⋯\n",
       "3 0.01576178                         0.016360053                        ⋯\n",
       "4 0.01548973                         0.020065994                        ⋯\n",
       "5 0.00000000                         0.000000000                        ⋯\n",
       "6 0.01305469                         0.015769697                        ⋯\n",
       "  A-MAP-MA000886-BR-RUS-a0440:R9931355 A-MAP-MA000023-BR-RUS-a0010:R9936070\n",
       "1 0.00505808                           -1.2639342                          \n",
       "2 0.01772833                           -1.6582553                          \n",
       "3 0.01431426                           -0.4803167                          \n",
       "4 0.01673737                           -1.3815577                          \n",
       "5 0.00000000                           -1.6133297                          \n",
       "6 0.01723131                           -0.7602483                          \n",
       "  A-MAP-MA000246-BR-RUS-a0098:R9940994 A-ROS-RS000762-BL-RUS-a1120:R9950567\n",
       "1 -1.4330254                           0.7224889                           \n",
       "2 -1.6762195                           0.8088093                           \n",
       "3 -0.4350839                           0.7669406                           \n",
       "4 -1.3286724                           0.8145749                           \n",
       "5 -1.5322355                           0.7140418                           \n",
       "6 -0.6006618                           0.8221170                           \n",
       "  A-ROS-RS000998-BL-RUS-a1198:R9958949 A-ROS-RS000539-BR-RUS-a0976:R9974729\n",
       "1 2.494505                             -1.5046822                          \n",
       "2 2.254550                             -1.9097213                          \n",
       "3 2.118663                             -0.6381621                          \n",
       "4 2.278887                             -1.5726601                          \n",
       "5 1.581506                             -1.7146396                          \n",
       "6 2.156883                             -0.7991541                          \n",
       "  A-ROS-RS000244-BL-RUS-a0766:R7039412 A-ROS-RS000409-BL-RUS-a0877:R6253512\n",
       "1 -1.4629061                           -1.4801256                          \n",
       "2 -1.6298725                           -1.7035809                          \n",
       "3 -0.4956907                           -0.5437297                          \n",
       "4 -1.3974119                           -1.4129483                          \n",
       "5 -1.7685271                           -1.4817784                          \n",
       "6 -0.7391113                           -0.8371181                          \n",
       "  A-MAP-MA001193-BL-RUS-a0583:R3776872 A-ROS-RS000358-BL-RUS-a0836:R1020037\n",
       "1 -1.4538983                           -1.3021393                          \n",
       "2 -1.7060748                           -1.5335078                          \n",
       "3 -0.5696225                           -0.3925164                          \n",
       "4 -1.4522935                           -1.4250628                          \n",
       "5 -1.7821830                           -1.8679416                          \n",
       "6 -0.8433472                           -0.7067397                          "
      ]
     },
     "metadata": {},
     "output_type": "display_data"
    }
   ],
   "source": [
    "avg_gene = fread('/project/ritchie/projects/AD_KMI/pathway_score/rosmap/avg_genes/AOU_ALL.UKBB.metasoft.gene_score.ROSMAP.RNAseq.arrayMethylation.somoscan_proteomics.ADSP.gene_avg.pathway_scores.txt',\n",
    "                 sep = '\\t')\n",
    "dim(avg_gene)\n",
    "head(avg_gene)"
   ]
  },
  {
   "cell_type": "code",
   "execution_count": 128,
   "id": "f182f34f-37d7-4d75-8485-1e0e2057e102",
   "metadata": {},
   "outputs": [
    {
     "data": {
      "text/html": [
       "<style>\n",
       ".list-inline {list-style: none; margin:0; padding: 0}\n",
       ".list-inline>li {display: inline-block}\n",
       ".list-inline>li:not(:last-child)::after {content: \"\\00b7\"; padding: 0 .5ex}\n",
       "</style>\n",
       "<ol class=list-inline><li>2713</li><li>33107</li></ol>\n"
      ],
      "text/latex": [
       "\\begin{enumerate*}\n",
       "\\item 2713\n",
       "\\item 33107\n",
       "\\end{enumerate*}\n"
      ],
      "text/markdown": [
       "1. 2713\n",
       "2. 33107\n",
       "\n",
       "\n"
      ],
      "text/plain": [
       "[1]  2713 33107"
      ]
     },
     "metadata": {},
     "output_type": "display_data"
    },
    {
     "data": {
      "text/html": [
       "<table class=\"dataframe\">\n",
       "<caption>A data.table: 6 × 33107</caption>\n",
       "<thead>\n",
       "\t<tr><th scope=col>PATHWAY_ID</th><th scope=col>A-ACT-AC000014-BL-NCR-15AD78694:NA</th><th scope=col>A-ACT-AC000034-BL-NCR-16AD84906:NA</th><th scope=col>A-ACT-AC000057-BL-NCR-15AD78356:NA</th><th scope=col>A-ACT-AC000072-BL-NCR-15AD77250:NA</th><th scope=col>A-ACT-AC000088-BL-NCR-15AD76548:NA</th><th scope=col>A-ACT-AC000090-BL-NCR-15AD78097:NA</th><th scope=col>A-ACT-AC000092-BL-NCR-15AD78589:NA</th><th scope=col>A-ACT-AC000100-BL-NCR-15AD76766:NA</th><th scope=col>A-ACT-AC000109-BL-NCR-15AD78136:NA</th><th scope=col>⋯</th><th scope=col>A-MAP-MA000023-BR-RUS-a0010:R9936070</th><th scope=col>A-MAP-MA000246-BR-RUS-a0098:R9940994</th><th scope=col>A-ROS-RS000762-BL-RUS-a1120:R9950567</th><th scope=col>A-ROS-RS000998-BL-RUS-a1198:R9958949</th><th scope=col>A-ROS-RS000539-BR-RUS-a0976:R9974729</th><th scope=col>A-ROS-RS000244-BL-RUS-a0766:R7039412</th><th scope=col>A-ROS-RS000409-BL-RUS-a0877:R6253512</th><th scope=col>A-MAP-MA001193-BL-RUS-a0583:R3776872</th><th scope=col>A-ROS-RS000358-BL-RUS-a0836:R1020037</th><th scope=col>G-MSBB-MB000223-BR-MSBB-71875:AMPAD_MSSM_0000069984.1</th></tr>\n",
       "\t<tr><th scope=col>&lt;chr&gt;</th><th scope=col>&lt;dbl&gt;</th><th scope=col>&lt;dbl&gt;</th><th scope=col>&lt;dbl&gt;</th><th scope=col>&lt;dbl&gt;</th><th scope=col>&lt;dbl&gt;</th><th scope=col>&lt;dbl&gt;</th><th scope=col>&lt;dbl&gt;</th><th scope=col>&lt;dbl&gt;</th><th scope=col>&lt;dbl&gt;</th><th scope=col>⋯</th><th scope=col>&lt;dbl&gt;</th><th scope=col>&lt;dbl&gt;</th><th scope=col>&lt;dbl&gt;</th><th scope=col>&lt;dbl&gt;</th><th scope=col>&lt;dbl&gt;</th><th scope=col>&lt;dbl&gt;</th><th scope=col>&lt;dbl&gt;</th><th scope=col>&lt;dbl&gt;</th><th scope=col>&lt;dbl&gt;</th><th scope=col>&lt;dbl&gt;</th></tr>\n",
       "</thead>\n",
       "<tbody>\n",
       "\t<tr><td>R-HSA-1059683</td><td>0.005790022</td><td>0.01156327</td><td>0.007643638</td><td>0.01632031</td><td>0.011944416</td><td>0.01589437</td><td>0.007077533</td><td>0.01523017</td><td>0.009344372</td><td>⋯</td><td>-1.2639342</td><td>-1.4330254</td><td>0.7224889</td><td>2.494505</td><td>-1.5046822</td><td>-1.4629061</td><td>-1.4801256</td><td>-1.4538983</td><td>-1.3021393</td><td>17.20571</td></tr>\n",
       "\t<tr><td>R-HSA-109581 </td><td>0.020531349</td><td>0.01796820</td><td>0.016380931</td><td>0.02017361</td><td>0.017514444</td><td>0.02175717</td><td>0.017756971</td><td>0.01304933</td><td>0.017571581</td><td>⋯</td><td>-1.6582553</td><td>-1.6762195</td><td>0.8088093</td><td>2.254550</td><td>-1.9097213</td><td>-1.6298725</td><td>-1.7035809</td><td>-1.7060748</td><td>-1.5335078</td><td>19.13414</td></tr>\n",
       "\t<tr><td>R-HSA-109582 </td><td>0.016851505</td><td>0.01546342</td><td>0.016341246</td><td>0.01587716</td><td>0.016025229</td><td>0.01677316</td><td>0.016212859</td><td>0.01576178</td><td>0.016360053</td><td>⋯</td><td>-0.4803167</td><td>-0.4350839</td><td>0.7669406</td><td>2.118663</td><td>-0.6381621</td><td>-0.4956907</td><td>-0.5437297</td><td>-0.5696225</td><td>-0.3925164</td><td>18.88889</td></tr>\n",
       "\t<tr><td>R-HSA-109606 </td><td>0.021120523</td><td>0.02013274</td><td>0.011247472</td><td>0.01387589</td><td>0.015544494</td><td>0.02562302</td><td>0.017109938</td><td>0.01548973</td><td>0.020065994</td><td>⋯</td><td>-1.3815577</td><td>-1.3286724</td><td>0.8145749</td><td>2.278887</td><td>-1.5726601</td><td>-1.3974119</td><td>-1.4129483</td><td>-1.4522935</td><td>-1.4250628</td><td>19.24613</td></tr>\n",
       "\t<tr><td>R-HSA-109703 </td><td>0.000000000</td><td>0.00000000</td><td>0.000000000</td><td>0.07953435</td><td>0.000000000</td><td>0.00000000</td><td>0.000000000</td><td>0.00000000</td><td>0.000000000</td><td>⋯</td><td>-1.6133297</td><td>-1.5322355</td><td>0.7140418</td><td>1.581506</td><td>-1.7146396</td><td>-1.7685271</td><td>-1.4817784</td><td>-1.7821830</td><td>-1.8679416</td><td>17.09591</td></tr>\n",
       "\t<tr><td>R-HSA-109704 </td><td>0.014173533</td><td>0.01288868</td><td>0.021682190</td><td>0.02133366</td><td>0.009689169</td><td>0.01452120</td><td>0.014863719</td><td>0.01305469</td><td>0.015769697</td><td>⋯</td><td>-0.7602483</td><td>-0.6006618</td><td>0.8221170</td><td>2.156883</td><td>-0.7991541</td><td>-0.7391113</td><td>-0.8371181</td><td>-0.8433472</td><td>-0.7067397</td><td>16.92068</td></tr>\n",
       "</tbody>\n",
       "</table>\n"
      ],
      "text/latex": [
       "A data.table: 6 × 33107\n",
       "\\begin{tabular}{lllllllllllllllllllll}\n",
       " PATHWAY\\_ID & A-ACT-AC000014-BL-NCR-15AD78694:NA & A-ACT-AC000034-BL-NCR-16AD84906:NA & A-ACT-AC000057-BL-NCR-15AD78356:NA & A-ACT-AC000072-BL-NCR-15AD77250:NA & A-ACT-AC000088-BL-NCR-15AD76548:NA & A-ACT-AC000090-BL-NCR-15AD78097:NA & A-ACT-AC000092-BL-NCR-15AD78589:NA & A-ACT-AC000100-BL-NCR-15AD76766:NA & A-ACT-AC000109-BL-NCR-15AD78136:NA & ⋯ & A-MAP-MA000023-BR-RUS-a0010:R9936070 & A-MAP-MA000246-BR-RUS-a0098:R9940994 & A-ROS-RS000762-BL-RUS-a1120:R9950567 & A-ROS-RS000998-BL-RUS-a1198:R9958949 & A-ROS-RS000539-BR-RUS-a0976:R9974729 & A-ROS-RS000244-BL-RUS-a0766:R7039412 & A-ROS-RS000409-BL-RUS-a0877:R6253512 & A-MAP-MA001193-BL-RUS-a0583:R3776872 & A-ROS-RS000358-BL-RUS-a0836:R1020037 & G-MSBB-MB000223-BR-MSBB-71875:AMPAD\\_MSSM\\_0000069984.1\\\\\n",
       " <chr> & <dbl> & <dbl> & <dbl> & <dbl> & <dbl> & <dbl> & <dbl> & <dbl> & <dbl> & ⋯ & <dbl> & <dbl> & <dbl> & <dbl> & <dbl> & <dbl> & <dbl> & <dbl> & <dbl> & <dbl>\\\\\n",
       "\\hline\n",
       "\t R-HSA-1059683 & 0.005790022 & 0.01156327 & 0.007643638 & 0.01632031 & 0.011944416 & 0.01589437 & 0.007077533 & 0.01523017 & 0.009344372 & ⋯ & -1.2639342 & -1.4330254 & 0.7224889 & 2.494505 & -1.5046822 & -1.4629061 & -1.4801256 & -1.4538983 & -1.3021393 & 17.20571\\\\\n",
       "\t R-HSA-109581  & 0.020531349 & 0.01796820 & 0.016380931 & 0.02017361 & 0.017514444 & 0.02175717 & 0.017756971 & 0.01304933 & 0.017571581 & ⋯ & -1.6582553 & -1.6762195 & 0.8088093 & 2.254550 & -1.9097213 & -1.6298725 & -1.7035809 & -1.7060748 & -1.5335078 & 19.13414\\\\\n",
       "\t R-HSA-109582  & 0.016851505 & 0.01546342 & 0.016341246 & 0.01587716 & 0.016025229 & 0.01677316 & 0.016212859 & 0.01576178 & 0.016360053 & ⋯ & -0.4803167 & -0.4350839 & 0.7669406 & 2.118663 & -0.6381621 & -0.4956907 & -0.5437297 & -0.5696225 & -0.3925164 & 18.88889\\\\\n",
       "\t R-HSA-109606  & 0.021120523 & 0.02013274 & 0.011247472 & 0.01387589 & 0.015544494 & 0.02562302 & 0.017109938 & 0.01548973 & 0.020065994 & ⋯ & -1.3815577 & -1.3286724 & 0.8145749 & 2.278887 & -1.5726601 & -1.3974119 & -1.4129483 & -1.4522935 & -1.4250628 & 19.24613\\\\\n",
       "\t R-HSA-109703  & 0.000000000 & 0.00000000 & 0.000000000 & 0.07953435 & 0.000000000 & 0.00000000 & 0.000000000 & 0.00000000 & 0.000000000 & ⋯ & -1.6133297 & -1.5322355 & 0.7140418 & 1.581506 & -1.7146396 & -1.7685271 & -1.4817784 & -1.7821830 & -1.8679416 & 17.09591\\\\\n",
       "\t R-HSA-109704  & 0.014173533 & 0.01288868 & 0.021682190 & 0.02133366 & 0.009689169 & 0.01452120 & 0.014863719 & 0.01305469 & 0.015769697 & ⋯ & -0.7602483 & -0.6006618 & 0.8221170 & 2.156883 & -0.7991541 & -0.7391113 & -0.8371181 & -0.8433472 & -0.7067397 & 16.92068\\\\\n",
       "\\end{tabular}\n"
      ],
      "text/markdown": [
       "\n",
       "A data.table: 6 × 33107\n",
       "\n",
       "| PATHWAY_ID &lt;chr&gt; | A-ACT-AC000014-BL-NCR-15AD78694:NA &lt;dbl&gt; | A-ACT-AC000034-BL-NCR-16AD84906:NA &lt;dbl&gt; | A-ACT-AC000057-BL-NCR-15AD78356:NA &lt;dbl&gt; | A-ACT-AC000072-BL-NCR-15AD77250:NA &lt;dbl&gt; | A-ACT-AC000088-BL-NCR-15AD76548:NA &lt;dbl&gt; | A-ACT-AC000090-BL-NCR-15AD78097:NA &lt;dbl&gt; | A-ACT-AC000092-BL-NCR-15AD78589:NA &lt;dbl&gt; | A-ACT-AC000100-BL-NCR-15AD76766:NA &lt;dbl&gt; | A-ACT-AC000109-BL-NCR-15AD78136:NA &lt;dbl&gt; | ⋯ ⋯ | A-MAP-MA000023-BR-RUS-a0010:R9936070 &lt;dbl&gt; | A-MAP-MA000246-BR-RUS-a0098:R9940994 &lt;dbl&gt; | A-ROS-RS000762-BL-RUS-a1120:R9950567 &lt;dbl&gt; | A-ROS-RS000998-BL-RUS-a1198:R9958949 &lt;dbl&gt; | A-ROS-RS000539-BR-RUS-a0976:R9974729 &lt;dbl&gt; | A-ROS-RS000244-BL-RUS-a0766:R7039412 &lt;dbl&gt; | A-ROS-RS000409-BL-RUS-a0877:R6253512 &lt;dbl&gt; | A-MAP-MA001193-BL-RUS-a0583:R3776872 &lt;dbl&gt; | A-ROS-RS000358-BL-RUS-a0836:R1020037 &lt;dbl&gt; | G-MSBB-MB000223-BR-MSBB-71875:AMPAD_MSSM_0000069984.1 &lt;dbl&gt; |\n",
       "|---|---|---|---|---|---|---|---|---|---|---|---|---|---|---|---|---|---|---|---|---|\n",
       "| R-HSA-1059683 | 0.005790022 | 0.01156327 | 0.007643638 | 0.01632031 | 0.011944416 | 0.01589437 | 0.007077533 | 0.01523017 | 0.009344372 | ⋯ | -1.2639342 | -1.4330254 | 0.7224889 | 2.494505 | -1.5046822 | -1.4629061 | -1.4801256 | -1.4538983 | -1.3021393 | 17.20571 |\n",
       "| R-HSA-109581  | 0.020531349 | 0.01796820 | 0.016380931 | 0.02017361 | 0.017514444 | 0.02175717 | 0.017756971 | 0.01304933 | 0.017571581 | ⋯ | -1.6582553 | -1.6762195 | 0.8088093 | 2.254550 | -1.9097213 | -1.6298725 | -1.7035809 | -1.7060748 | -1.5335078 | 19.13414 |\n",
       "| R-HSA-109582  | 0.016851505 | 0.01546342 | 0.016341246 | 0.01587716 | 0.016025229 | 0.01677316 | 0.016212859 | 0.01576178 | 0.016360053 | ⋯ | -0.4803167 | -0.4350839 | 0.7669406 | 2.118663 | -0.6381621 | -0.4956907 | -0.5437297 | -0.5696225 | -0.3925164 | 18.88889 |\n",
       "| R-HSA-109606  | 0.021120523 | 0.02013274 | 0.011247472 | 0.01387589 | 0.015544494 | 0.02562302 | 0.017109938 | 0.01548973 | 0.020065994 | ⋯ | -1.3815577 | -1.3286724 | 0.8145749 | 2.278887 | -1.5726601 | -1.3974119 | -1.4129483 | -1.4522935 | -1.4250628 | 19.24613 |\n",
       "| R-HSA-109703  | 0.000000000 | 0.00000000 | 0.000000000 | 0.07953435 | 0.000000000 | 0.00000000 | 0.000000000 | 0.00000000 | 0.000000000 | ⋯ | -1.6133297 | -1.5322355 | 0.7140418 | 1.581506 | -1.7146396 | -1.7685271 | -1.4817784 | -1.7821830 | -1.8679416 | 17.09591 |\n",
       "| R-HSA-109704  | 0.014173533 | 0.01288868 | 0.021682190 | 0.02133366 | 0.009689169 | 0.01452120 | 0.014863719 | 0.01305469 | 0.015769697 | ⋯ | -0.7602483 | -0.6006618 | 0.8221170 | 2.156883 | -0.7991541 | -0.7391113 | -0.8371181 | -0.8433472 | -0.7067397 | 16.92068 |\n",
       "\n"
      ],
      "text/plain": [
       "  PATHWAY_ID    A-ACT-AC000014-BL-NCR-15AD78694:NA\n",
       "1 R-HSA-1059683 0.005790022                       \n",
       "2 R-HSA-109581  0.020531349                       \n",
       "3 R-HSA-109582  0.016851505                       \n",
       "4 R-HSA-109606  0.021120523                       \n",
       "5 R-HSA-109703  0.000000000                       \n",
       "6 R-HSA-109704  0.014173533                       \n",
       "  A-ACT-AC000034-BL-NCR-16AD84906:NA A-ACT-AC000057-BL-NCR-15AD78356:NA\n",
       "1 0.01156327                         0.007643638                       \n",
       "2 0.01796820                         0.016380931                       \n",
       "3 0.01546342                         0.016341246                       \n",
       "4 0.02013274                         0.011247472                       \n",
       "5 0.00000000                         0.000000000                       \n",
       "6 0.01288868                         0.021682190                       \n",
       "  A-ACT-AC000072-BL-NCR-15AD77250:NA A-ACT-AC000088-BL-NCR-15AD76548:NA\n",
       "1 0.01632031                         0.011944416                       \n",
       "2 0.02017361                         0.017514444                       \n",
       "3 0.01587716                         0.016025229                       \n",
       "4 0.01387589                         0.015544494                       \n",
       "5 0.07953435                         0.000000000                       \n",
       "6 0.02133366                         0.009689169                       \n",
       "  A-ACT-AC000090-BL-NCR-15AD78097:NA A-ACT-AC000092-BL-NCR-15AD78589:NA\n",
       "1 0.01589437                         0.007077533                       \n",
       "2 0.02175717                         0.017756971                       \n",
       "3 0.01677316                         0.016212859                       \n",
       "4 0.02562302                         0.017109938                       \n",
       "5 0.00000000                         0.000000000                       \n",
       "6 0.01452120                         0.014863719                       \n",
       "  A-ACT-AC000100-BL-NCR-15AD76766:NA A-ACT-AC000109-BL-NCR-15AD78136:NA ⋯\n",
       "1 0.01523017                         0.009344372                        ⋯\n",
       "2 0.01304933                         0.017571581                        ⋯\n",
       "3 0.01576178                         0.016360053                        ⋯\n",
       "4 0.01548973                         0.020065994                        ⋯\n",
       "5 0.00000000                         0.000000000                        ⋯\n",
       "6 0.01305469                         0.015769697                        ⋯\n",
       "  A-MAP-MA000023-BR-RUS-a0010:R9936070 A-MAP-MA000246-BR-RUS-a0098:R9940994\n",
       "1 -1.2639342                           -1.4330254                          \n",
       "2 -1.6582553                           -1.6762195                          \n",
       "3 -0.4803167                           -0.4350839                          \n",
       "4 -1.3815577                           -1.3286724                          \n",
       "5 -1.6133297                           -1.5322355                          \n",
       "6 -0.7602483                           -0.6006618                          \n",
       "  A-ROS-RS000762-BL-RUS-a1120:R9950567 A-ROS-RS000998-BL-RUS-a1198:R9958949\n",
       "1 0.7224889                            2.494505                            \n",
       "2 0.8088093                            2.254550                            \n",
       "3 0.7669406                            2.118663                            \n",
       "4 0.8145749                            2.278887                            \n",
       "5 0.7140418                            1.581506                            \n",
       "6 0.8221170                            2.156883                            \n",
       "  A-ROS-RS000539-BR-RUS-a0976:R9974729 A-ROS-RS000244-BL-RUS-a0766:R7039412\n",
       "1 -1.5046822                           -1.4629061                          \n",
       "2 -1.9097213                           -1.6298725                          \n",
       "3 -0.6381621                           -0.4956907                          \n",
       "4 -1.5726601                           -1.3974119                          \n",
       "5 -1.7146396                           -1.7685271                          \n",
       "6 -0.7991541                           -0.7391113                          \n",
       "  A-ROS-RS000409-BL-RUS-a0877:R6253512 A-MAP-MA001193-BL-RUS-a0583:R3776872\n",
       "1 -1.4801256                           -1.4538983                          \n",
       "2 -1.7035809                           -1.7060748                          \n",
       "3 -0.5437297                           -0.5696225                          \n",
       "4 -1.4129483                           -1.4522935                          \n",
       "5 -1.4817784                           -1.7821830                          \n",
       "6 -0.8371181                           -0.8433472                          \n",
       "  A-ROS-RS000358-BL-RUS-a0836:R1020037\n",
       "1 -1.3021393                          \n",
       "2 -1.5335078                          \n",
       "3 -0.3925164                          \n",
       "4 -1.4250628                          \n",
       "5 -1.8679416                          \n",
       "6 -0.7067397                          \n",
       "  G-MSBB-MB000223-BR-MSBB-71875:AMPAD_MSSM_0000069984.1\n",
       "1 17.20571                                             \n",
       "2 19.13414                                             \n",
       "3 18.88889                                             \n",
       "4 19.24613                                             \n",
       "5 17.09591                                             \n",
       "6 16.92068                                             "
      ]
     },
     "metadata": {},
     "output_type": "display_data"
    }
   ],
   "source": [
    "avg_gene_msbb = fread('/project/ritchie/projects/AD_KMI/pathway_score/rosmap/avg_pathways/AOU_ALL.UKBB.metasoft.gene_score.ROSMAP.RNAseq.methylation.somoscan_proteomics.MSBB.RNAseq.methylation.tmt_proteomics.ADSP.gene_avg.pathway_scores.txt',\n",
    "                    sep = '\\t')\n",
    "dim(avg_gene_msbb)\n",
    "head(avg_gene_msbb)"
   ]
  },
  {
   "cell_type": "markdown",
   "id": "5e4ad7ff-41c9-43d6-8646-1eff2d9b57b7",
   "metadata": {
    "jp-MarkdownHeadingCollapsed": true
   },
   "source": [
    "## adsp phenos"
   ]
  },
  {
   "cell_type": "code",
   "execution_count": 130,
   "id": "f9f26b45-0e4c-43ee-924d-37d9837dab8c",
   "metadata": {},
   "outputs": [
    {
     "data": {
      "text/html": [
       "<style>\n",
       ".list-inline {list-style: none; margin:0; padding: 0}\n",
       ".list-inline>li {display: inline-block}\n",
       ".list-inline>li:not(:last-child)::after {content: \"\\00b7\"; padding: 0 .5ex}\n",
       "</style>\n",
       "<ol class=list-inline><li>33101</li><li>31</li></ol>\n"
      ],
      "text/latex": [
       "\\begin{enumerate*}\n",
       "\\item 33101\n",
       "\\item 31\n",
       "\\end{enumerate*}\n"
      ],
      "text/markdown": [
       "1. 33101\n",
       "2. 31\n",
       "\n",
       "\n"
      ],
      "text/plain": [
       "[1] 33101    31"
      ]
     },
     "metadata": {},
     "output_type": "display_data"
    },
    {
     "data": {
      "text/html": [
       "<table class=\"dataframe\">\n",
       "<caption>A data.frame: 6 × 31</caption>\n",
       "<thead>\n",
       "\t<tr><th></th><th scope=col>FID</th><th scope=col>IID</th><th scope=col>Sex</th><th scope=col>Age_harmonized</th><th scope=col>Age_baseline</th><th scope=col>APOE_reported</th><th scope=col>APOE_WGS</th><th scope=col>Braak</th><th scope=col>Race</th><th scope=col>Ethnicity</th><th scope=col>⋯</th><th scope=col>PC11</th><th scope=col>PC12</th><th scope=col>PC13</th><th scope=col>PC14</th><th scope=col>PC15</th><th scope=col>PC16</th><th scope=col>PC17</th><th scope=col>PC18</th><th scope=col>PC19</th><th scope=col>PC20</th></tr>\n",
       "\t<tr><th></th><th scope=col>&lt;int&gt;</th><th scope=col>&lt;chr&gt;</th><th scope=col>&lt;int&gt;</th><th scope=col>&lt;int&gt;</th><th scope=col>&lt;int&gt;</th><th scope=col>&lt;int&gt;</th><th scope=col>&lt;int&gt;</th><th scope=col>&lt;int&gt;</th><th scope=col>&lt;int&gt;</th><th scope=col>&lt;int&gt;</th><th scope=col>⋯</th><th scope=col>&lt;dbl&gt;</th><th scope=col>&lt;dbl&gt;</th><th scope=col>&lt;dbl&gt;</th><th scope=col>&lt;dbl&gt;</th><th scope=col>&lt;dbl&gt;</th><th scope=col>&lt;dbl&gt;</th><th scope=col>&lt;dbl&gt;</th><th scope=col>&lt;dbl&gt;</th><th scope=col>&lt;dbl&gt;</th><th scope=col>&lt;dbl&gt;</th></tr>\n",
       "</thead>\n",
       "<tbody>\n",
       "\t<tr><th scope=row>1</th><td>0</td><td>A-ACT-AC000014-BL-NCR-15AD78694</td><td>0</td><td>77</td><td>73</td><td>23</td><td>23</td><td>NA</td><td>5</td><td>0</td><td>⋯</td><td>-0.0002</td><td> 0.0011</td><td> 0.0005</td><td> 0.0004</td><td>-0.0006</td><td> 0.0002</td><td> 0.0033</td><td> 0.0035</td><td>-0.0010</td><td>-0.0056</td></tr>\n",
       "\t<tr><th scope=row>2</th><td>0</td><td>A-ACT-AC000034-BL-NCR-16AD84906</td><td>0</td><td>68</td><td>66</td><td>33</td><td>33</td><td> 1</td><td>5</td><td>0</td><td>⋯</td><td>-0.0025</td><td>-0.0081</td><td> 0.0067</td><td>-0.0019</td><td>-0.0026</td><td> 0.0033</td><td> 0.0042</td><td>-0.0003</td><td>-0.0016</td><td>-0.0013</td></tr>\n",
       "\t<tr><th scope=row>3</th><td>0</td><td>A-ACT-AC000057-BL-NCR-15AD78356</td><td>0</td><td>88</td><td>81</td><td>33</td><td>33</td><td> 4</td><td>5</td><td>0</td><td>⋯</td><td> 0.0004</td><td> 0.0026</td><td> 0.0000</td><td>-0.0022</td><td> 0.0020</td><td> 0.0018</td><td> 0.0095</td><td> 0.0022</td><td> 0.0018</td><td>-0.0056</td></tr>\n",
       "\t<tr><th scope=row>4</th><td>0</td><td>A-ACT-AC000072-BL-NCR-15AD77250</td><td>1</td><td>90</td><td>89</td><td>33</td><td>33</td><td> 3</td><td>5</td><td>0</td><td>⋯</td><td>-0.0013</td><td>-0.0040</td><td>-0.0004</td><td>-0.0001</td><td> 0.0072</td><td>-0.0025</td><td>-0.0157</td><td> 0.0070</td><td>-0.0056</td><td>-0.0030</td></tr>\n",
       "\t<tr><th scope=row>5</th><td>0</td><td>A-ACT-AC000088-BL-NCR-15AD76548</td><td>1</td><td>86</td><td>73</td><td>33</td><td>33</td><td> 5</td><td>5</td><td>0</td><td>⋯</td><td> 0.0005</td><td> 0.0016</td><td> 0.0020</td><td>-0.0020</td><td>-0.0016</td><td>-0.0002</td><td> 0.0009</td><td> 0.0029</td><td>-0.0042</td><td>-0.0042</td></tr>\n",
       "\t<tr><th scope=row>6</th><td>0</td><td>A-ACT-AC000090-BL-NCR-15AD78097</td><td>1</td><td>NA</td><td>81</td><td>34</td><td>34</td><td> 6</td><td>5</td><td>0</td><td>⋯</td><td> 0.0003</td><td>-0.0003</td><td> 0.0004</td><td> 0.0017</td><td> 0.0006</td><td> 0.0008</td><td>-0.0009</td><td> 0.0026</td><td>-0.0046</td><td>-0.0022</td></tr>\n",
       "</tbody>\n",
       "</table>\n"
      ],
      "text/latex": [
       "A data.frame: 6 × 31\n",
       "\\begin{tabular}{r|lllllllllllllllllllll}\n",
       "  & FID & IID & Sex & Age\\_harmonized & Age\\_baseline & APOE\\_reported & APOE\\_WGS & Braak & Race & Ethnicity & ⋯ & PC11 & PC12 & PC13 & PC14 & PC15 & PC16 & PC17 & PC18 & PC19 & PC20\\\\\n",
       "  & <int> & <chr> & <int> & <int> & <int> & <int> & <int> & <int> & <int> & <int> & ⋯ & <dbl> & <dbl> & <dbl> & <dbl> & <dbl> & <dbl> & <dbl> & <dbl> & <dbl> & <dbl>\\\\\n",
       "\\hline\n",
       "\t1 & 0 & A-ACT-AC000014-BL-NCR-15AD78694 & 0 & 77 & 73 & 23 & 23 & NA & 5 & 0 & ⋯ & -0.0002 &  0.0011 &  0.0005 &  0.0004 & -0.0006 &  0.0002 &  0.0033 &  0.0035 & -0.0010 & -0.0056\\\\\n",
       "\t2 & 0 & A-ACT-AC000034-BL-NCR-16AD84906 & 0 & 68 & 66 & 33 & 33 &  1 & 5 & 0 & ⋯ & -0.0025 & -0.0081 &  0.0067 & -0.0019 & -0.0026 &  0.0033 &  0.0042 & -0.0003 & -0.0016 & -0.0013\\\\\n",
       "\t3 & 0 & A-ACT-AC000057-BL-NCR-15AD78356 & 0 & 88 & 81 & 33 & 33 &  4 & 5 & 0 & ⋯ &  0.0004 &  0.0026 &  0.0000 & -0.0022 &  0.0020 &  0.0018 &  0.0095 &  0.0022 &  0.0018 & -0.0056\\\\\n",
       "\t4 & 0 & A-ACT-AC000072-BL-NCR-15AD77250 & 1 & 90 & 89 & 33 & 33 &  3 & 5 & 0 & ⋯ & -0.0013 & -0.0040 & -0.0004 & -0.0001 &  0.0072 & -0.0025 & -0.0157 &  0.0070 & -0.0056 & -0.0030\\\\\n",
       "\t5 & 0 & A-ACT-AC000088-BL-NCR-15AD76548 & 1 & 86 & 73 & 33 & 33 &  5 & 5 & 0 & ⋯ &  0.0005 &  0.0016 &  0.0020 & -0.0020 & -0.0016 & -0.0002 &  0.0009 &  0.0029 & -0.0042 & -0.0042\\\\\n",
       "\t6 & 0 & A-ACT-AC000090-BL-NCR-15AD78097 & 1 & NA & 81 & 34 & 34 &  6 & 5 & 0 & ⋯ &  0.0003 & -0.0003 &  0.0004 &  0.0017 &  0.0006 &  0.0008 & -0.0009 &  0.0026 & -0.0046 & -0.0022\\\\\n",
       "\\end{tabular}\n"
      ],
      "text/markdown": [
       "\n",
       "A data.frame: 6 × 31\n",
       "\n",
       "| <!--/--> | FID &lt;int&gt; | IID &lt;chr&gt; | Sex &lt;int&gt; | Age_harmonized &lt;int&gt; | Age_baseline &lt;int&gt; | APOE_reported &lt;int&gt; | APOE_WGS &lt;int&gt; | Braak &lt;int&gt; | Race &lt;int&gt; | Ethnicity &lt;int&gt; | ⋯ ⋯ | PC11 &lt;dbl&gt; | PC12 &lt;dbl&gt; | PC13 &lt;dbl&gt; | PC14 &lt;dbl&gt; | PC15 &lt;dbl&gt; | PC16 &lt;dbl&gt; | PC17 &lt;dbl&gt; | PC18 &lt;dbl&gt; | PC19 &lt;dbl&gt; | PC20 &lt;dbl&gt; |\n",
       "|---|---|---|---|---|---|---|---|---|---|---|---|---|---|---|---|---|---|---|---|---|---|\n",
       "| 1 | 0 | A-ACT-AC000014-BL-NCR-15AD78694 | 0 | 77 | 73 | 23 | 23 | NA | 5 | 0 | ⋯ | -0.0002 |  0.0011 |  0.0005 |  0.0004 | -0.0006 |  0.0002 |  0.0033 |  0.0035 | -0.0010 | -0.0056 |\n",
       "| 2 | 0 | A-ACT-AC000034-BL-NCR-16AD84906 | 0 | 68 | 66 | 33 | 33 |  1 | 5 | 0 | ⋯ | -0.0025 | -0.0081 |  0.0067 | -0.0019 | -0.0026 |  0.0033 |  0.0042 | -0.0003 | -0.0016 | -0.0013 |\n",
       "| 3 | 0 | A-ACT-AC000057-BL-NCR-15AD78356 | 0 | 88 | 81 | 33 | 33 |  4 | 5 | 0 | ⋯ |  0.0004 |  0.0026 |  0.0000 | -0.0022 |  0.0020 |  0.0018 |  0.0095 |  0.0022 |  0.0018 | -0.0056 |\n",
       "| 4 | 0 | A-ACT-AC000072-BL-NCR-15AD77250 | 1 | 90 | 89 | 33 | 33 |  3 | 5 | 0 | ⋯ | -0.0013 | -0.0040 | -0.0004 | -0.0001 |  0.0072 | -0.0025 | -0.0157 |  0.0070 | -0.0056 | -0.0030 |\n",
       "| 5 | 0 | A-ACT-AC000088-BL-NCR-15AD76548 | 1 | 86 | 73 | 33 | 33 |  5 | 5 | 0 | ⋯ |  0.0005 |  0.0016 |  0.0020 | -0.0020 | -0.0016 | -0.0002 |  0.0009 |  0.0029 | -0.0042 | -0.0042 |\n",
       "| 6 | 0 | A-ACT-AC000090-BL-NCR-15AD78097 | 1 | NA | 81 | 34 | 34 |  6 | 5 | 0 | ⋯ |  0.0003 | -0.0003 |  0.0004 |  0.0017 |  0.0006 |  0.0008 | -0.0009 |  0.0026 | -0.0046 | -0.0022 |\n",
       "\n"
      ],
      "text/plain": [
       "  FID IID                             Sex Age_harmonized Age_baseline\n",
       "1 0   A-ACT-AC000014-BL-NCR-15AD78694 0   77             73          \n",
       "2 0   A-ACT-AC000034-BL-NCR-16AD84906 0   68             66          \n",
       "3 0   A-ACT-AC000057-BL-NCR-15AD78356 0   88             81          \n",
       "4 0   A-ACT-AC000072-BL-NCR-15AD77250 1   90             89          \n",
       "5 0   A-ACT-AC000088-BL-NCR-15AD76548 1   86             73          \n",
       "6 0   A-ACT-AC000090-BL-NCR-15AD78097 1   NA             81          \n",
       "  APOE_reported APOE_WGS Braak Race Ethnicity ⋯ PC11    PC12    PC13    PC14   \n",
       "1 23            23       NA    5    0         ⋯ -0.0002  0.0011  0.0005  0.0004\n",
       "2 33            33        1    5    0         ⋯ -0.0025 -0.0081  0.0067 -0.0019\n",
       "3 33            33        4    5    0         ⋯  0.0004  0.0026  0.0000 -0.0022\n",
       "4 33            33        3    5    0         ⋯ -0.0013 -0.0040 -0.0004 -0.0001\n",
       "5 33            33        5    5    0         ⋯  0.0005  0.0016  0.0020 -0.0020\n",
       "6 34            34        6    5    0         ⋯  0.0003 -0.0003  0.0004  0.0017\n",
       "  PC15    PC16    PC17    PC18    PC19    PC20   \n",
       "1 -0.0006  0.0002  0.0033  0.0035 -0.0010 -0.0056\n",
       "2 -0.0026  0.0033  0.0042 -0.0003 -0.0016 -0.0013\n",
       "3  0.0020  0.0018  0.0095  0.0022  0.0018 -0.0056\n",
       "4  0.0072 -0.0025 -0.0157  0.0070 -0.0056 -0.0030\n",
       "5 -0.0016 -0.0002  0.0009  0.0029 -0.0042 -0.0042\n",
       "6  0.0006  0.0008 -0.0009  0.0026 -0.0046 -0.0022"
      ]
     },
     "metadata": {},
     "output_type": "display_data"
    }
   ],
   "source": [
    "adsp_pheno = read.csv('/project/ritchie/projects/AD_KMI/adsp_filt_phenos/ADSP.filt_pheno_covar.all.txt',\n",
    "                         sep = '\\t')\n",
    "dim(adsp_pheno)\n",
    "head(adsp_pheno)"
   ]
  },
  {
   "cell_type": "code",
   "execution_count": 131,
   "id": "f678ad1f-edd2-4a59-b8a6-ce1bfa2dae45",
   "metadata": {},
   "outputs": [
    {
     "data": {
      "text/html": [
       "<style>\n",
       ".list-inline {list-style: none; margin:0; padding: 0}\n",
       ".list-inline>li {display: inline-block}\n",
       ".list-inline>li:not(:last-child)::after {content: \"\\00b7\"; padding: 0 .5ex}\n",
       "</style>\n",
       "<ol class=list-inline><li>17793</li><li>1</li></ol>\n"
      ],
      "text/latex": [
       "\\begin{enumerate*}\n",
       "\\item 17793\n",
       "\\item 1\n",
       "\\end{enumerate*}\n"
      ],
      "text/markdown": [
       "1. 17793\n",
       "2. 1\n",
       "\n",
       "\n"
      ],
      "text/plain": [
       "[1] 17793     1"
      ]
     },
     "metadata": {},
     "output_type": "display_data"
    },
    {
     "data": {
      "text/html": [
       "<table class=\"dataframe\">\n",
       "<caption>A data.frame: 6 × 1</caption>\n",
       "<thead>\n",
       "\t<tr><th></th><th scope=col>V1</th></tr>\n",
       "\t<tr><th></th><th scope=col>&lt;chr&gt;</th></tr>\n",
       "</thead>\n",
       "<tbody>\n",
       "\t<tr><th scope=row>1</th><td>A-IIBD-IB000002-BL-NCR-14AD71292</td></tr>\n",
       "\t<tr><th scope=row>2</th><td>A-IIBD-IB000004-BL-NCR-14AD71294</td></tr>\n",
       "\t<tr><th scope=row>3</th><td>A-IIBD-IB000005-BL-NCR-14AD71295</td></tr>\n",
       "\t<tr><th scope=row>4</th><td>A-IIBD-IB000006-BL-NCR-14AD71296</td></tr>\n",
       "\t<tr><th scope=row>5</th><td>A-IIBD-IB000007-BL-NCR-14AD70850</td></tr>\n",
       "\t<tr><th scope=row>6</th><td>A-IIBD-IB000008-BL-NCR-14AD71298</td></tr>\n",
       "</tbody>\n",
       "</table>\n"
      ],
      "text/latex": [
       "A data.frame: 6 × 1\n",
       "\\begin{tabular}{r|l}\n",
       "  & V1\\\\\n",
       "  & <chr>\\\\\n",
       "\\hline\n",
       "\t1 & A-IIBD-IB000002-BL-NCR-14AD71292\\\\\n",
       "\t2 & A-IIBD-IB000004-BL-NCR-14AD71294\\\\\n",
       "\t3 & A-IIBD-IB000005-BL-NCR-14AD71295\\\\\n",
       "\t4 & A-IIBD-IB000006-BL-NCR-14AD71296\\\\\n",
       "\t5 & A-IIBD-IB000007-BL-NCR-14AD70850\\\\\n",
       "\t6 & A-IIBD-IB000008-BL-NCR-14AD71298\\\\\n",
       "\\end{tabular}\n"
      ],
      "text/markdown": [
       "\n",
       "A data.frame: 6 × 1\n",
       "\n",
       "| <!--/--> | V1 &lt;chr&gt; |\n",
       "|---|---|\n",
       "| 1 | A-IIBD-IB000002-BL-NCR-14AD71292 |\n",
       "| 2 | A-IIBD-IB000004-BL-NCR-14AD71294 |\n",
       "| 3 | A-IIBD-IB000005-BL-NCR-14AD71295 |\n",
       "| 4 | A-IIBD-IB000006-BL-NCR-14AD71296 |\n",
       "| 5 | A-IIBD-IB000007-BL-NCR-14AD70850 |\n",
       "| 6 | A-IIBD-IB000008-BL-NCR-14AD71298 |\n",
       "\n"
      ],
      "text/plain": [
       "  V1                              \n",
       "1 A-IIBD-IB000002-BL-NCR-14AD71292\n",
       "2 A-IIBD-IB000004-BL-NCR-14AD71294\n",
       "3 A-IIBD-IB000005-BL-NCR-14AD71295\n",
       "4 A-IIBD-IB000006-BL-NCR-14AD71296\n",
       "5 A-IIBD-IB000007-BL-NCR-14AD70850\n",
       "6 A-IIBD-IB000008-BL-NCR-14AD71298"
      ]
     },
     "metadata": {},
     "output_type": "display_data"
    }
   ],
   "source": [
    "keep_quest_comb = read.csv('/project/ritchie/projects/AD_KMI/adsp_filt_phenos/ADSPIntegratedPhenotypes_DS_2023.08.08.keep_quest_comb_cohorts_samples.csv',\n",
    "                           header = F)\n",
    "dim(keep_quest_comb)\n",
    "head(keep_quest_comb)"
   ]
  },
  {
   "cell_type": "markdown",
   "id": "43004e97-d251-4295-9579-f281d2da8430",
   "metadata": {
    "jp-MarkdownHeadingCollapsed": true
   },
   "source": [
    "## pathway maps"
   ]
  },
  {
   "cell_type": "code",
   "execution_count": 120,
   "id": "2c7bc27a-7a62-4014-9605-f14a99c8a857",
   "metadata": {},
   "outputs": [
    {
     "data": {
      "text/html": [
       "126739"
      ],
      "text/latex": [
       "126739"
      ],
      "text/markdown": [
       "126739"
      ],
      "text/plain": [
       "[1] 126739"
      ]
     },
     "metadata": {},
     "output_type": "display_data"
    },
    {
     "data": {
      "text/html": [
       "<table class=\"dataframe\">\n",
       "<caption>A data.frame: 6 × 4</caption>\n",
       "<thead>\n",
       "\t<tr><th></th><th scope=col>PATHWAY_NAME</th><th scope=col>PATHWAY_ID</th><th scope=col>GENE</th><th scope=col>SOURCE</th></tr>\n",
       "\t<tr><th></th><th scope=col>&lt;chr&gt;</th><th scope=col>&lt;chr&gt;</th><th scope=col>&lt;chr&gt;</th><th scope=col>&lt;chr&gt;</th></tr>\n",
       "</thead>\n",
       "<tbody>\n",
       "\t<tr><th scope=row>1</th><td>2-LTR circle formation</td><td>R-HSA-164843</td><td>BANF1</td><td>MSBB_MA;MSBB_RS;MSBB_TP;ROSMAP_MA;ROSMAP_RS          </td></tr>\n",
       "\t<tr><th scope=row>2</th><td>2-LTR circle formation</td><td>R-HSA-164843</td><td>HMGA1</td><td>MSBB_MA;MSBB_RS;MSBB_TP;ROSMAP_MA;ROSMAP_RS;ROSMAP_SP</td></tr>\n",
       "\t<tr><th scope=row>3</th><td>2-LTR circle formation</td><td>R-HSA-164843</td><td>LIG4 </td><td>MSBB_MA;MSBB_RS;MSBB_TP;ROSMAP_MA;ROSMAP_RS          </td></tr>\n",
       "\t<tr><th scope=row>4</th><td>2-LTR circle formation</td><td>R-HSA-164843</td><td>PSIP1</td><td>MSBB_MA;MSBB_RS;MSBB_TP;ROSMAP_MA;ROSMAP_RS;ROSMAP_SP</td></tr>\n",
       "\t<tr><th scope=row>5</th><td>2-LTR circle formation</td><td>R-HSA-164843</td><td>XRCC4</td><td>MSBB_MA;MSBB_RS;MSBB_TP;ROSMAP_MA;ROSMAP_RS;ROSMAP_SP</td></tr>\n",
       "\t<tr><th scope=row>6</th><td>2-LTR circle formation</td><td>R-HSA-164843</td><td>XRCC5</td><td>ADSP_GS;MSBB_MA;MSBB_RS;MSBB_TP;ROSMAP_MA;ROSMAP_RS  </td></tr>\n",
       "</tbody>\n",
       "</table>\n"
      ],
      "text/latex": [
       "A data.frame: 6 × 4\n",
       "\\begin{tabular}{r|llll}\n",
       "  & PATHWAY\\_NAME & PATHWAY\\_ID & GENE & SOURCE\\\\\n",
       "  & <chr> & <chr> & <chr> & <chr>\\\\\n",
       "\\hline\n",
       "\t1 & 2-LTR circle formation & R-HSA-164843 & BANF1 & MSBB\\_MA;MSBB\\_RS;MSBB\\_TP;ROSMAP\\_MA;ROSMAP\\_RS          \\\\\n",
       "\t2 & 2-LTR circle formation & R-HSA-164843 & HMGA1 & MSBB\\_MA;MSBB\\_RS;MSBB\\_TP;ROSMAP\\_MA;ROSMAP\\_RS;ROSMAP\\_SP\\\\\n",
       "\t3 & 2-LTR circle formation & R-HSA-164843 & LIG4  & MSBB\\_MA;MSBB\\_RS;MSBB\\_TP;ROSMAP\\_MA;ROSMAP\\_RS          \\\\\n",
       "\t4 & 2-LTR circle formation & R-HSA-164843 & PSIP1 & MSBB\\_MA;MSBB\\_RS;MSBB\\_TP;ROSMAP\\_MA;ROSMAP\\_RS;ROSMAP\\_SP\\\\\n",
       "\t5 & 2-LTR circle formation & R-HSA-164843 & XRCC4 & MSBB\\_MA;MSBB\\_RS;MSBB\\_TP;ROSMAP\\_MA;ROSMAP\\_RS;ROSMAP\\_SP\\\\\n",
       "\t6 & 2-LTR circle formation & R-HSA-164843 & XRCC5 & ADSP\\_GS;MSBB\\_MA;MSBB\\_RS;MSBB\\_TP;ROSMAP\\_MA;ROSMAP\\_RS  \\\\\n",
       "\\end{tabular}\n"
      ],
      "text/markdown": [
       "\n",
       "A data.frame: 6 × 4\n",
       "\n",
       "| <!--/--> | PATHWAY_NAME &lt;chr&gt; | PATHWAY_ID &lt;chr&gt; | GENE &lt;chr&gt; | SOURCE &lt;chr&gt; |\n",
       "|---|---|---|---|---|\n",
       "| 1 | 2-LTR circle formation | R-HSA-164843 | BANF1 | MSBB_MA;MSBB_RS;MSBB_TP;ROSMAP_MA;ROSMAP_RS           |\n",
       "| 2 | 2-LTR circle formation | R-HSA-164843 | HMGA1 | MSBB_MA;MSBB_RS;MSBB_TP;ROSMAP_MA;ROSMAP_RS;ROSMAP_SP |\n",
       "| 3 | 2-LTR circle formation | R-HSA-164843 | LIG4  | MSBB_MA;MSBB_RS;MSBB_TP;ROSMAP_MA;ROSMAP_RS           |\n",
       "| 4 | 2-LTR circle formation | R-HSA-164843 | PSIP1 | MSBB_MA;MSBB_RS;MSBB_TP;ROSMAP_MA;ROSMAP_RS;ROSMAP_SP |\n",
       "| 5 | 2-LTR circle formation | R-HSA-164843 | XRCC4 | MSBB_MA;MSBB_RS;MSBB_TP;ROSMAP_MA;ROSMAP_RS;ROSMAP_SP |\n",
       "| 6 | 2-LTR circle formation | R-HSA-164843 | XRCC5 | ADSP_GS;MSBB_MA;MSBB_RS;MSBB_TP;ROSMAP_MA;ROSMAP_RS   |\n",
       "\n"
      ],
      "text/plain": [
       "  PATHWAY_NAME           PATHWAY_ID   GENE \n",
       "1 2-LTR circle formation R-HSA-164843 BANF1\n",
       "2 2-LTR circle formation R-HSA-164843 HMGA1\n",
       "3 2-LTR circle formation R-HSA-164843 LIG4 \n",
       "4 2-LTR circle formation R-HSA-164843 PSIP1\n",
       "5 2-LTR circle formation R-HSA-164843 XRCC4\n",
       "6 2-LTR circle formation R-HSA-164843 XRCC5\n",
       "  SOURCE                                               \n",
       "1 MSBB_MA;MSBB_RS;MSBB_TP;ROSMAP_MA;ROSMAP_RS          \n",
       "2 MSBB_MA;MSBB_RS;MSBB_TP;ROSMAP_MA;ROSMAP_RS;ROSMAP_SP\n",
       "3 MSBB_MA;MSBB_RS;MSBB_TP;ROSMAP_MA;ROSMAP_RS          \n",
       "4 MSBB_MA;MSBB_RS;MSBB_TP;ROSMAP_MA;ROSMAP_RS;ROSMAP_SP\n",
       "5 MSBB_MA;MSBB_RS;MSBB_TP;ROSMAP_MA;ROSMAP_RS;ROSMAP_SP\n",
       "6 ADSP_GS;MSBB_MA;MSBB_RS;MSBB_TP;ROSMAP_MA;ROSMAP_RS  "
      ]
     },
     "metadata": {},
     "output_type": "display_data"
    }
   ],
   "source": [
    "all_path_map = read.csv('/project/ritchie/projects/AD_KMI/pathway_score/pathway_annotation/reactome/AD_KMI.ADSP.ROSMAP.all_omics.somoscan.MSBB.all_omics.reactome.gene_to_pathway.pathway_mapping.txt',\n",
    "                            sep = '\\t')\n",
    "nrow(all_path_map)\n",
    "head(all_path_map)"
   ]
  },
  {
   "cell_type": "markdown",
   "id": "23301b4a-9acc-40be-8484-40c6fa22dfe8",
   "metadata": {
    "jp-MarkdownHeadingCollapsed": true
   },
   "source": [
    "## omics id lists"
   ]
  },
  {
   "cell_type": "code",
   "execution_count": 26,
   "id": "22092f00-aa85-4d4a-bfa0-b955bf307f64",
   "metadata": {},
   "outputs": [
    {
     "data": {
      "text/html": [
       "369"
      ],
      "text/latex": [
       "369"
      ],
      "text/markdown": [
       "369"
      ],
      "text/plain": [
       "[1] 369"
      ]
     },
     "metadata": {},
     "output_type": "display_data"
    },
    {
     "data": {
      "text/html": [
       "<table class=\"dataframe\">\n",
       "<caption>A data.frame: 6 × 1</caption>\n",
       "<thead>\n",
       "\t<tr><th></th><th scope=col>V1</th></tr>\n",
       "\t<tr><th></th><th scope=col>&lt;chr&gt;</th></tr>\n",
       "</thead>\n",
       "<tbody>\n",
       "\t<tr><th scope=row>1</th><td>A-MAP-MA000023-BR-RUS-a0010:R9936070</td></tr>\n",
       "\t<tr><th scope=row>2</th><td>A-ROS-RS000829-BR-RUS-a1160:R9905342</td></tr>\n",
       "\t<tr><th scope=row>3</th><td>A-MAP-MA001301-BR-RUS-a0375:R9904978</td></tr>\n",
       "\t<tr><th scope=row>4</th><td>A-ROS-RS000195-BL-RUS-a0732:R9818080</td></tr>\n",
       "\t<tr><th scope=row>5</th><td>A-ROS-RS000353-BR-RUS-a0833:R9817161</td></tr>\n",
       "\t<tr><th scope=row>6</th><td>A-ROS-RS000073-BR-RUS-a0646:R9817056</td></tr>\n",
       "</tbody>\n",
       "</table>\n"
      ],
      "text/latex": [
       "A data.frame: 6 × 1\n",
       "\\begin{tabular}{r|l}\n",
       "  & V1\\\\\n",
       "  & <chr>\\\\\n",
       "\\hline\n",
       "\t1 & A-MAP-MA000023-BR-RUS-a0010:R9936070\\\\\n",
       "\t2 & A-ROS-RS000829-BR-RUS-a1160:R9905342\\\\\n",
       "\t3 & A-MAP-MA001301-BR-RUS-a0375:R9904978\\\\\n",
       "\t4 & A-ROS-RS000195-BL-RUS-a0732:R9818080\\\\\n",
       "\t5 & A-ROS-RS000353-BR-RUS-a0833:R9817161\\\\\n",
       "\t6 & A-ROS-RS000073-BR-RUS-a0646:R9817056\\\\\n",
       "\\end{tabular}\n"
      ],
      "text/markdown": [
       "\n",
       "A data.frame: 6 × 1\n",
       "\n",
       "| <!--/--> | V1 &lt;chr&gt; |\n",
       "|---|---|\n",
       "| 1 | A-MAP-MA000023-BR-RUS-a0010:R9936070 |\n",
       "| 2 | A-ROS-RS000829-BR-RUS-a1160:R9905342 |\n",
       "| 3 | A-MAP-MA001301-BR-RUS-a0375:R9904978 |\n",
       "| 4 | A-ROS-RS000195-BL-RUS-a0732:R9818080 |\n",
       "| 5 | A-ROS-RS000353-BR-RUS-a0833:R9817161 |\n",
       "| 6 | A-ROS-RS000073-BR-RUS-a0646:R9817056 |\n",
       "\n"
      ],
      "text/plain": [
       "  V1                                  \n",
       "1 A-MAP-MA000023-BR-RUS-a0010:R9936070\n",
       "2 A-ROS-RS000829-BR-RUS-a1160:R9905342\n",
       "3 A-MAP-MA001301-BR-RUS-a0375:R9904978\n",
       "4 A-ROS-RS000195-BL-RUS-a0732:R9818080\n",
       "5 A-ROS-RS000353-BR-RUS-a0833:R9817161\n",
       "6 A-ROS-RS000073-BR-RUS-a0646:R9817056"
      ]
     },
     "metadata": {},
     "output_type": "display_data"
    }
   ],
   "source": [
    "rosmap_rnaseq = read.csv('/project/ritchie/projects/AD_KMI/pathway_score/gene_mapping/ROSMAP.RNAseq.TPM5_log2norm.individualids.codinggenes.VEP_v113_genes.gene_symbol.common_id.duplicate_ids_removed.transpose.ids.txt',\n",
    "                         header = F)\n",
    "nrow(rosmap_rnaseq)\n",
    "head(rosmap_rnaseq)"
   ]
  },
  {
   "cell_type": "code",
   "execution_count": 27,
   "id": "3607787b-ccd5-4831-8b2b-cfeacc15587b",
   "metadata": {},
   "outputs": [
    {
     "data": {
      "text/html": [
       "444"
      ],
      "text/latex": [
       "444"
      ],
      "text/markdown": [
       "444"
      ],
      "text/plain": [
       "[1] 444"
      ]
     },
     "metadata": {},
     "output_type": "display_data"
    },
    {
     "data": {
      "text/html": [
       "<table class=\"dataframe\">\n",
       "<caption>A data.frame: 6 × 1</caption>\n",
       "<thead>\n",
       "\t<tr><th></th><th scope=col>V1</th></tr>\n",
       "\t<tr><th></th><th scope=col>&lt;chr&gt;</th></tr>\n",
       "</thead>\n",
       "<tbody>\n",
       "\t<tr><th scope=row>1</th><td>A-ROS-RS000539-BR-RUS-a0976:R9974729</td></tr>\n",
       "\t<tr><th scope=row>2</th><td>A-MAP-MA000246-BR-RUS-a0098:R9940994</td></tr>\n",
       "\t<tr><th scope=row>3</th><td>A-MAP-MA000023-BR-RUS-a0010:R9936070</td></tr>\n",
       "\t<tr><th scope=row>4</th><td>A-ROS-RS000829-BR-RUS-a1160:R9905342</td></tr>\n",
       "\t<tr><th scope=row>5</th><td>A-MAP-MA001301-BR-RUS-a0375:R9904978</td></tr>\n",
       "\t<tr><th scope=row>6</th><td>A-MAP-MA000687-BR-RUS-a0361:R9821425</td></tr>\n",
       "</tbody>\n",
       "</table>\n"
      ],
      "text/latex": [
       "A data.frame: 6 × 1\n",
       "\\begin{tabular}{r|l}\n",
       "  & V1\\\\\n",
       "  & <chr>\\\\\n",
       "\\hline\n",
       "\t1 & A-ROS-RS000539-BR-RUS-a0976:R9974729\\\\\n",
       "\t2 & A-MAP-MA000246-BR-RUS-a0098:R9940994\\\\\n",
       "\t3 & A-MAP-MA000023-BR-RUS-a0010:R9936070\\\\\n",
       "\t4 & A-ROS-RS000829-BR-RUS-a1160:R9905342\\\\\n",
       "\t5 & A-MAP-MA001301-BR-RUS-a0375:R9904978\\\\\n",
       "\t6 & A-MAP-MA000687-BR-RUS-a0361:R9821425\\\\\n",
       "\\end{tabular}\n"
      ],
      "text/markdown": [
       "\n",
       "A data.frame: 6 × 1\n",
       "\n",
       "| <!--/--> | V1 &lt;chr&gt; |\n",
       "|---|---|\n",
       "| 1 | A-ROS-RS000539-BR-RUS-a0976:R9974729 |\n",
       "| 2 | A-MAP-MA000246-BR-RUS-a0098:R9940994 |\n",
       "| 3 | A-MAP-MA000023-BR-RUS-a0010:R9936070 |\n",
       "| 4 | A-ROS-RS000829-BR-RUS-a1160:R9905342 |\n",
       "| 5 | A-MAP-MA001301-BR-RUS-a0375:R9904978 |\n",
       "| 6 | A-MAP-MA000687-BR-RUS-a0361:R9821425 |\n",
       "\n"
      ],
      "text/plain": [
       "  V1                                  \n",
       "1 A-ROS-RS000539-BR-RUS-a0976:R9974729\n",
       "2 A-MAP-MA000246-BR-RUS-a0098:R9940994\n",
       "3 A-MAP-MA000023-BR-RUS-a0010:R9936070\n",
       "4 A-ROS-RS000829-BR-RUS-a1160:R9905342\n",
       "5 A-MAP-MA001301-BR-RUS-a0375:R9904978\n",
       "6 A-MAP-MA000687-BR-RUS-a0361:R9821425"
      ]
     },
     "metadata": {},
     "output_type": "display_data"
    }
   ],
   "source": [
    "rosmap_methyl = read.csv('/project/ritchie/projects/AD_KMI/pathway_score/rosmap/ROSMAP_arrayMethylation_imputed.gene_symbol.individualID.mvalue_norm.common_id.transpose.ids.txt',\n",
    "                         header = F)\n",
    "nrow(rosmap_methyl)\n",
    "head(rosmap_methyl)"
   ]
  },
  {
   "cell_type": "code",
   "execution_count": 28,
   "id": "959f401c-0cb1-480a-b3c0-604f5e291db3",
   "metadata": {},
   "outputs": [
    {
     "data": {
      "text/html": [
       "238"
      ],
      "text/latex": [
       "238"
      ],
      "text/markdown": [
       "238"
      ],
      "text/plain": [
       "[1] 238"
      ]
     },
     "metadata": {},
     "output_type": "display_data"
    },
    {
     "data": {
      "text/html": [
       "<table class=\"dataframe\">\n",
       "<caption>A data.frame: 6 × 1</caption>\n",
       "<thead>\n",
       "\t<tr><th></th><th scope=col>V1</th></tr>\n",
       "\t<tr><th></th><th scope=col>&lt;chr&gt;</th></tr>\n",
       "</thead>\n",
       "<tbody>\n",
       "\t<tr><th scope=row>1</th><td>A-MAP-MA000447-BR-RUS-a0188:R1015854 </td></tr>\n",
       "\t<tr><th scope=row>2</th><td>A-ROS-RS000358-BL-RUS-a0836:R1020037 </td></tr>\n",
       "\t<tr><th scope=row>3</th><td>A-MAP-MA000458-BR-RUS-a0193:R1028639 </td></tr>\n",
       "\t<tr><th scope=row>4</th><td>A-ROS-RS000580-BR-RUS-a0999:R1088362 </td></tr>\n",
       "\t<tr><th scope=row>5</th><td>A-MAP-MA001241-UNK-RUS-a0603:R1113373</td></tr>\n",
       "\t<tr><th scope=row>6</th><td>A-ROS-RS001000-BR-RUS-a1200:R1177802 </td></tr>\n",
       "</tbody>\n",
       "</table>\n"
      ],
      "text/latex": [
       "A data.frame: 6 × 1\n",
       "\\begin{tabular}{r|l}\n",
       "  & V1\\\\\n",
       "  & <chr>\\\\\n",
       "\\hline\n",
       "\t1 & A-MAP-MA000447-BR-RUS-a0188:R1015854 \\\\\n",
       "\t2 & A-ROS-RS000358-BL-RUS-a0836:R1020037 \\\\\n",
       "\t3 & A-MAP-MA000458-BR-RUS-a0193:R1028639 \\\\\n",
       "\t4 & A-ROS-RS000580-BR-RUS-a0999:R1088362 \\\\\n",
       "\t5 & A-MAP-MA001241-UNK-RUS-a0603:R1113373\\\\\n",
       "\t6 & A-ROS-RS001000-BR-RUS-a1200:R1177802 \\\\\n",
       "\\end{tabular}\n"
      ],
      "text/markdown": [
       "\n",
       "A data.frame: 6 × 1\n",
       "\n",
       "| <!--/--> | V1 &lt;chr&gt; |\n",
       "|---|---|\n",
       "| 1 | A-MAP-MA000447-BR-RUS-a0188:R1015854  |\n",
       "| 2 | A-ROS-RS000358-BL-RUS-a0836:R1020037  |\n",
       "| 3 | A-MAP-MA000458-BR-RUS-a0193:R1028639  |\n",
       "| 4 | A-ROS-RS000580-BR-RUS-a0999:R1088362  |\n",
       "| 5 | A-MAP-MA001241-UNK-RUS-a0603:R1113373 |\n",
       "| 6 | A-ROS-RS001000-BR-RUS-a1200:R1177802  |\n",
       "\n"
      ],
      "text/plain": [
       "  V1                                   \n",
       "1 A-MAP-MA000447-BR-RUS-a0188:R1015854 \n",
       "2 A-ROS-RS000358-BL-RUS-a0836:R1020037 \n",
       "3 A-MAP-MA000458-BR-RUS-a0193:R1028639 \n",
       "4 A-ROS-RS000580-BR-RUS-a0999:R1088362 \n",
       "5 A-MAP-MA001241-UNK-RUS-a0603:R1113373\n",
       "6 A-ROS-RS001000-BR-RUS-a1200:R1177802 "
      ]
     },
     "metadata": {},
     "output_type": "display_data"
    }
   ],
   "source": [
    "rosmap_somoscan = read.csv('/project/ritchie/projects/AD_KMI/pathway_score/rosmap/ROSMAP.proteomics.somoscan.individualID.entrez_gene_symbol.common_id.transpose.ids.txt',\n",
    "                         header = F)\n",
    "nrow(rosmap_somoscan)\n",
    "head(rosmap_somoscan)"
   ]
  },
  {
   "cell_type": "markdown",
   "id": "f1e9c6cb-26f4-48c2-97e6-9237e096f1a4",
   "metadata": {
    "jp-MarkdownHeadingCollapsed": true
   },
   "source": [
    "## advp gene list"
   ]
  },
  {
   "cell_type": "code",
   "execution_count": 27,
   "id": "17b027dd-34b3-4ee5-a638-13e9a803fe8e",
   "metadata": {},
   "outputs": [
    {
     "data": {
      "text/html": [
       "<table class=\"dataframe\">\n",
       "<caption>A data.frame: 6 × 20</caption>\n",
       "<thead>\n",
       "\t<tr><th></th><th scope=col>X.dbSNP_hg38_chr</th><th scope=col>dbSNP_hg38_position</th><th scope=col>Top.SNP</th><th scope=col>P.value</th><th scope=col>LocusName</th><th scope=col>RA.1.Reported.Allele.1.</th><th scope=col>nonref_allele</th><th scope=col>nonref_effect</th><th scope=col>OR_nonref</th><th scope=col>nearest_gene_symb</th><th scope=col>Study.type</th><th scope=col>Study.Design</th><th scope=col>Pubmed.PMID</th><th scope=col>Population_map</th><th scope=col>Cohort_simple3</th><th scope=col>Sample.size</th><th scope=col>Analysis.group</th><th scope=col>Phenotype</th><th scope=col>Phenotype.derived</th><th scope=col>most_severe_consequence</th></tr>\n",
       "\t<tr><th></th><th scope=col>&lt;chr&gt;</th><th scope=col>&lt;int&gt;</th><th scope=col>&lt;chr&gt;</th><th scope=col>&lt;chr&gt;</th><th scope=col>&lt;chr&gt;</th><th scope=col>&lt;chr&gt;</th><th scope=col>&lt;chr&gt;</th><th scope=col>&lt;chr&gt;</th><th scope=col>&lt;dbl&gt;</th><th scope=col>&lt;chr&gt;</th><th scope=col>&lt;chr&gt;</th><th scope=col>&lt;chr&gt;</th><th scope=col>&lt;int&gt;</th><th scope=col>&lt;chr&gt;</th><th scope=col>&lt;chr&gt;</th><th scope=col>&lt;chr&gt;</th><th scope=col>&lt;chr&gt;</th><th scope=col>&lt;chr&gt;</th><th scope=col>&lt;chr&gt;</th><th scope=col>&lt;chr&gt;</th></tr>\n",
       "</thead>\n",
       "<tbody>\n",
       "\t<tr><th scope=row>1</th><td>chr1</td><td> 6434683</td><td>rs12074379 </td><td>0.00726 </td><td>ESPN  </td><td>T </td><td>T </td><td>NR  </td><td>  NA</td><td>ESPN </td><td>SNP-based </td><td>Disease risk    </td><td>30636644</td><td>Caucasian</td><td>ADGC, CHS, CHARGE, HRS</td><td>10191</td><td>Plan 3 (only females)</td><td>AD                            </td><td>AD        </td><td>intron_variant  </td></tr>\n",
       "\t<tr><th scope=row>2</th><td>chr1</td><td> 6434683</td><td>rs12074379 </td><td>8.51E-40</td><td>NR    </td><td>T </td><td>T </td><td>NR  </td><td>  NA</td><td>ESPN </td><td>SNP-based </td><td>eQTL            </td><td>30636644</td><td>Caucasian</td><td>ADGC, CHS, CHARGE, HRS</td><td>10191</td><td>Plan 3 (only females)</td><td>ESPN (ILMN_1806710) expression</td><td>Expression</td><td>intron_variant  </td></tr>\n",
       "\t<tr><th scope=row>3</th><td>chr1</td><td> 8708071</td><td>rs112053331</td><td>0.0009  </td><td>RERE  </td><td>NR</td><td>NR</td><td>NR  </td><td>  NA</td><td>RERE </td><td>SNP-based </td><td>Cross phenotype </td><td>30010129</td><td>Caucasian</td><td>IGAP                  </td><td>54162</td><td>All                  </td><td>AD                            </td><td>AD        </td><td>intron_variant  </td></tr>\n",
       "\t<tr><th scope=row>4</th><td>chr1</td><td> 8708071</td><td>rs112053331</td><td>0.08392 </td><td>NA    </td><td>NR</td><td>NR</td><td>NR  </td><td>  NA</td><td>RERE </td><td>Gene-based</td><td>Cross phenotype </td><td>30010129</td><td>Caucasian</td><td>IGAP                  </td><td>54162</td><td>All                  </td><td>AD                            </td><td>AD        </td><td>intron_variant  </td></tr>\n",
       "\t<tr><th scope=row>5</th><td>chr1</td><td>11487007</td><td>rs2379135  </td><td>0.0156  </td><td>PTCHD2</td><td>NR</td><td>NR</td><td>NR  </td><td>  NA</td><td>DISP3</td><td>SNP-based </td><td>Endophenotype   </td><td>22245343</td><td>Caucasian</td><td>ADNI                  </td><td>757  </td><td>All                  </td><td>MRI                           </td><td>Imaging   </td><td>intron_variant  </td></tr>\n",
       "\t<tr><th scope=row>6</th><td>chr1</td><td>11796321</td><td>rs1801133  </td><td>0.832   </td><td>MTHFR </td><td>A </td><td>A </td><td>0.98</td><td>0.98</td><td>MTHFR</td><td>SNP-based </td><td>Disease risk    </td><td>20534741</td><td>Caucasian</td><td>ADC, UM               </td><td>1610 </td><td>All                  </td><td>AD                            </td><td>AD        </td><td>missense_variant</td></tr>\n",
       "</tbody>\n",
       "</table>\n"
      ],
      "text/latex": [
       "A data.frame: 6 × 20\n",
       "\\begin{tabular}{r|llllllllllllllllllll}\n",
       "  & X.dbSNP\\_hg38\\_chr & dbSNP\\_hg38\\_position & Top.SNP & P.value & LocusName & RA.1.Reported.Allele.1. & nonref\\_allele & nonref\\_effect & OR\\_nonref & nearest\\_gene\\_symb & Study.type & Study.Design & Pubmed.PMID & Population\\_map & Cohort\\_simple3 & Sample.size & Analysis.group & Phenotype & Phenotype.derived & most\\_severe\\_consequence\\\\\n",
       "  & <chr> & <int> & <chr> & <chr> & <chr> & <chr> & <chr> & <chr> & <dbl> & <chr> & <chr> & <chr> & <int> & <chr> & <chr> & <chr> & <chr> & <chr> & <chr> & <chr>\\\\\n",
       "\\hline\n",
       "\t1 & chr1 &  6434683 & rs12074379  & 0.00726  & ESPN   & T  & T  & NR   &   NA & ESPN  & SNP-based  & Disease risk     & 30636644 & Caucasian & ADGC, CHS, CHARGE, HRS & 10191 & Plan 3 (only females) & AD                             & AD         & intron\\_variant  \\\\\n",
       "\t2 & chr1 &  6434683 & rs12074379  & 8.51E-40 & NR     & T  & T  & NR   &   NA & ESPN  & SNP-based  & eQTL             & 30636644 & Caucasian & ADGC, CHS, CHARGE, HRS & 10191 & Plan 3 (only females) & ESPN (ILMN\\_1806710) expression & Expression & intron\\_variant  \\\\\n",
       "\t3 & chr1 &  8708071 & rs112053331 & 0.0009   & RERE   & NR & NR & NR   &   NA & RERE  & SNP-based  & Cross phenotype  & 30010129 & Caucasian & IGAP                   & 54162 & All                   & AD                             & AD         & intron\\_variant  \\\\\n",
       "\t4 & chr1 &  8708071 & rs112053331 & 0.08392  & NA     & NR & NR & NR   &   NA & RERE  & Gene-based & Cross phenotype  & 30010129 & Caucasian & IGAP                   & 54162 & All                   & AD                             & AD         & intron\\_variant  \\\\\n",
       "\t5 & chr1 & 11487007 & rs2379135   & 0.0156   & PTCHD2 & NR & NR & NR   &   NA & DISP3 & SNP-based  & Endophenotype    & 22245343 & Caucasian & ADNI                   & 757   & All                   & MRI                            & Imaging    & intron\\_variant  \\\\\n",
       "\t6 & chr1 & 11796321 & rs1801133   & 0.832    & MTHFR  & A  & A  & 0.98 & 0.98 & MTHFR & SNP-based  & Disease risk     & 20534741 & Caucasian & ADC, UM                & 1610  & All                   & AD                             & AD         & missense\\_variant\\\\\n",
       "\\end{tabular}\n"
      ],
      "text/markdown": [
       "\n",
       "A data.frame: 6 × 20\n",
       "\n",
       "| <!--/--> | X.dbSNP_hg38_chr &lt;chr&gt; | dbSNP_hg38_position &lt;int&gt; | Top.SNP &lt;chr&gt; | P.value &lt;chr&gt; | LocusName &lt;chr&gt; | RA.1.Reported.Allele.1. &lt;chr&gt; | nonref_allele &lt;chr&gt; | nonref_effect &lt;chr&gt; | OR_nonref &lt;dbl&gt; | nearest_gene_symb &lt;chr&gt; | Study.type &lt;chr&gt; | Study.Design &lt;chr&gt; | Pubmed.PMID &lt;int&gt; | Population_map &lt;chr&gt; | Cohort_simple3 &lt;chr&gt; | Sample.size &lt;chr&gt; | Analysis.group &lt;chr&gt; | Phenotype &lt;chr&gt; | Phenotype.derived &lt;chr&gt; | most_severe_consequence &lt;chr&gt; |\n",
       "|---|---|---|---|---|---|---|---|---|---|---|---|---|---|---|---|---|---|---|---|---|\n",
       "| 1 | chr1 |  6434683 | rs12074379  | 0.00726  | ESPN   | T  | T  | NR   |   NA | ESPN  | SNP-based  | Disease risk     | 30636644 | Caucasian | ADGC, CHS, CHARGE, HRS | 10191 | Plan 3 (only females) | AD                             | AD         | intron_variant   |\n",
       "| 2 | chr1 |  6434683 | rs12074379  | 8.51E-40 | NR     | T  | T  | NR   |   NA | ESPN  | SNP-based  | eQTL             | 30636644 | Caucasian | ADGC, CHS, CHARGE, HRS | 10191 | Plan 3 (only females) | ESPN (ILMN_1806710) expression | Expression | intron_variant   |\n",
       "| 3 | chr1 |  8708071 | rs112053331 | 0.0009   | RERE   | NR | NR | NR   |   NA | RERE  | SNP-based  | Cross phenotype  | 30010129 | Caucasian | IGAP                   | 54162 | All                   | AD                             | AD         | intron_variant   |\n",
       "| 4 | chr1 |  8708071 | rs112053331 | 0.08392  | NA     | NR | NR | NR   |   NA | RERE  | Gene-based | Cross phenotype  | 30010129 | Caucasian | IGAP                   | 54162 | All                   | AD                             | AD         | intron_variant   |\n",
       "| 5 | chr1 | 11487007 | rs2379135   | 0.0156   | PTCHD2 | NR | NR | NR   |   NA | DISP3 | SNP-based  | Endophenotype    | 22245343 | Caucasian | ADNI                   | 757   | All                   | MRI                            | Imaging    | intron_variant   |\n",
       "| 6 | chr1 | 11796321 | rs1801133   | 0.832    | MTHFR  | A  | A  | 0.98 | 0.98 | MTHFR | SNP-based  | Disease risk     | 20534741 | Caucasian | ADC, UM                | 1610  | All                   | AD                             | AD         | missense_variant |\n",
       "\n"
      ],
      "text/plain": [
       "  X.dbSNP_hg38_chr dbSNP_hg38_position Top.SNP     P.value  LocusName\n",
       "1 chr1              6434683            rs12074379  0.00726  ESPN     \n",
       "2 chr1              6434683            rs12074379  8.51E-40 NR       \n",
       "3 chr1              8708071            rs112053331 0.0009   RERE     \n",
       "4 chr1              8708071            rs112053331 0.08392  NA       \n",
       "5 chr1             11487007            rs2379135   0.0156   PTCHD2   \n",
       "6 chr1             11796321            rs1801133   0.832    MTHFR    \n",
       "  RA.1.Reported.Allele.1. nonref_allele nonref_effect OR_nonref\n",
       "1 T                       T             NR              NA     \n",
       "2 T                       T             NR              NA     \n",
       "3 NR                      NR            NR              NA     \n",
       "4 NR                      NR            NR              NA     \n",
       "5 NR                      NR            NR              NA     \n",
       "6 A                       A             0.98          0.98     \n",
       "  nearest_gene_symb Study.type Study.Design     Pubmed.PMID Population_map\n",
       "1 ESPN              SNP-based  Disease risk     30636644    Caucasian     \n",
       "2 ESPN              SNP-based  eQTL             30636644    Caucasian     \n",
       "3 RERE              SNP-based  Cross phenotype  30010129    Caucasian     \n",
       "4 RERE              Gene-based Cross phenotype  30010129    Caucasian     \n",
       "5 DISP3             SNP-based  Endophenotype    22245343    Caucasian     \n",
       "6 MTHFR             SNP-based  Disease risk     20534741    Caucasian     \n",
       "  Cohort_simple3         Sample.size Analysis.group       \n",
       "1 ADGC, CHS, CHARGE, HRS 10191       Plan 3 (only females)\n",
       "2 ADGC, CHS, CHARGE, HRS 10191       Plan 3 (only females)\n",
       "3 IGAP                   54162       All                  \n",
       "4 IGAP                   54162       All                  \n",
       "5 ADNI                   757         All                  \n",
       "6 ADC, UM                1610        All                  \n",
       "  Phenotype                      Phenotype.derived most_severe_consequence\n",
       "1 AD                             AD                intron_variant         \n",
       "2 ESPN (ILMN_1806710) expression Expression        intron_variant         \n",
       "3 AD                             AD                intron_variant         \n",
       "4 AD                             AD                intron_variant         \n",
       "5 MRI                            Imaging           intron_variant         \n",
       "6 AD                             AD                missense_variant       "
      ]
     },
     "metadata": {},
     "output_type": "display_data"
    }
   ],
   "source": [
    "advp = read.csv('/project/ritchie/projects/AD_KMI/advp/advp.variant.records.hg38.tsv', sep = '\\t')\n",
    "head(advp)"
   ]
  },
  {
   "cell_type": "code",
   "execution_count": 74,
   "id": "0ccdb49b-f598-43be-92d2-6dd6908013bf",
   "metadata": {},
   "outputs": [
    {
     "data": {
      "text/html": [
       "<table class=\"dataframe\">\n",
       "<caption>A data.frame: 6 × 1</caption>\n",
       "<thead>\n",
       "\t<tr><th></th><th scope=col>V1</th></tr>\n",
       "\t<tr><th></th><th scope=col>&lt;chr&gt;</th></tr>\n",
       "</thead>\n",
       "<tbody>\n",
       "\t<tr><th scope=row>1</th><td>OPCML </td></tr>\n",
       "\t<tr><th scope=row>2</th><td>HNT   </td></tr>\n",
       "\t<tr><th scope=row>3</th><td>RGSL2 </td></tr>\n",
       "\t<tr><th scope=row>4</th><td>TOMM40</td></tr>\n",
       "\t<tr><th scope=row>5</th><td>PVRL2 </td></tr>\n",
       "\t<tr><th scope=row>6</th><td>APOE  </td></tr>\n",
       "</tbody>\n",
       "</table>\n"
      ],
      "text/latex": [
       "A data.frame: 6 × 1\n",
       "\\begin{tabular}{r|l}\n",
       "  & V1\\\\\n",
       "  & <chr>\\\\\n",
       "\\hline\n",
       "\t1 & OPCML \\\\\n",
       "\t2 & HNT   \\\\\n",
       "\t3 & RGSL2 \\\\\n",
       "\t4 & TOMM40\\\\\n",
       "\t5 & PVRL2 \\\\\n",
       "\t6 & APOE  \\\\\n",
       "\\end{tabular}\n"
      ],
      "text/markdown": [
       "\n",
       "A data.frame: 6 × 1\n",
       "\n",
       "| <!--/--> | V1 &lt;chr&gt; |\n",
       "|---|---|\n",
       "| 1 | OPCML  |\n",
       "| 2 | HNT    |\n",
       "| 3 | RGSL2  |\n",
       "| 4 | TOMM40 |\n",
       "| 5 | PVRL2  |\n",
       "| 6 | APOE   |\n",
       "\n"
      ],
      "text/plain": [
       "  V1    \n",
       "1 OPCML \n",
       "2 HNT   \n",
       "3 RGSL2 \n",
       "4 TOMM40\n",
       "5 PVRL2 \n",
       "6 APOE  "
      ]
     },
     "metadata": {},
     "output_type": "display_data"
    }
   ],
   "source": [
    "advp_known_gene = read.csv('/project/ritchie/projects/AD_KMI/advp/AD_known_gene_list.txt', header = F)\n",
    "head(advp_known_gene)"
   ]
  },
  {
   "cell_type": "markdown",
   "id": "aaa18d92-a9e8-4449-a672-29a0254bbea7",
   "metadata": {},
   "source": [
    "## reactome dbs"
   ]
  },
  {
   "cell_type": "code",
   "execution_count": 201,
   "id": "4fbb4439-8136-4c8d-a0cd-b50524b62398",
   "metadata": {},
   "outputs": [],
   "source": [
    "avg_pathway_download = read.csv('/project/ritchie/projects/AD_KMI/pathway_score/feature_selection/lasso/AOU_ALL.UKBB.metasoft.gene_score.ROSMAP.RNAseq.arrayMethylation.somoscan_proteomics.ADSP.pathway_average.pathway_scores.lasso.important_pathways.reactome_db.csv')"
   ]
  },
  {
   "cell_type": "code",
   "execution_count": 202,
   "id": "0fb30e3d-d873-4b5b-a472-03097ff7ad72",
   "metadata": {},
   "outputs": [],
   "source": [
    "avg_gene_download = read.csv('/project/ritchie/projects/AD_KMI/pathway_score/feature_selection/lasso/AOU_ALL.UKBB.metasoft.gene_score.ROSMAP.RNAseq.arrayMethylation.somoscan_proteomics.ADSP.gene_average.pathway_scores.lasso.important_pathways.reactome_db.csv')"
   ]
  },
  {
   "cell_type": "code",
   "execution_count": 203,
   "id": "8f4113da-220d-4a57-a883-5bca338cc302",
   "metadata": {},
   "outputs": [],
   "source": [
    "avg_pathway_msbb_download = read.csv('/project/ritchie/projects/AD_KMI/pathway_score/feature_selection/lasso/AOU_ALL.UKBB.metasoft.gene_score.ROSMAP.RNAseq.arrayMethylation.somoscan_proteomics.MSBB.RNAseq.methylation.tmt_proteomics.ADSP.pathway_average.pathway_scores.lasso.important_pathways.reactome_db.csv')"
   ]
  },
  {
   "cell_type": "code",
   "execution_count": 204,
   "id": "6265e45c-fafc-45dd-b776-ae31a5840825",
   "metadata": {},
   "outputs": [],
   "source": [
    "avg_gene_msbb_download = read.csv('/project/ritchie/projects/AD_KMI/pathway_score/feature_selection/lasso/AOU_ALL.UKBB.metasoft.gene_score.ROSMAP.RNAseq.arrayMethylation.somoscan_proteomics.MSBB.RNAseq.methylation.tmt_proteomics.ADSP.gene_average.pathway_scores.lasso.important_pathways.reactome_db.csv')"
   ]
  },
  {
   "cell_type": "markdown",
   "id": "836bd2b1-2eb7-45d4-bc34-684224140135",
   "metadata": {
    "jp-MarkdownHeadingCollapsed": true
   },
   "source": [
    "# compare dfs"
   ]
  },
  {
   "cell_type": "markdown",
   "id": "3c8ce5f3-c52d-495f-8821-e2fd99c76574",
   "metadata": {},
   "source": [
    "## check for missing"
   ]
  },
  {
   "cell_type": "code",
   "execution_count": 9,
   "id": "90cfa8bb-aec0-4250-a0b3-66e90949bef8",
   "metadata": {},
   "outputs": [
    {
     "data": {
      "text/html": [
       "10680962"
      ],
      "text/latex": [
       "10680962"
      ],
      "text/markdown": [
       "10680962"
      ],
      "text/plain": [
       "[1] 10680962"
      ]
     },
     "metadata": {},
     "output_type": "display_data"
    }
   ],
   "source": [
    "sum(is.na(avg_pathway))"
   ]
  },
  {
   "cell_type": "code",
   "execution_count": 10,
   "id": "3177e2a4-6118-4bbe-b64c-1c4a252778e5",
   "metadata": {},
   "outputs": [
    {
     "data": {
      "text/html": [
       "<style>\n",
       ".list-inline {list-style: none; margin:0; padding: 0}\n",
       ".list-inline>li {display: inline-block}\n",
       ".list-inline>li:not(:last-child)::after {content: \"\\00b7\"; padding: 0 .5ex}\n",
       "</style>\n",
       "<ol class=list-inline><li>2713</li><li>33106</li></ol>\n"
      ],
      "text/latex": [
       "\\begin{enumerate*}\n",
       "\\item 2713\n",
       "\\item 33106\n",
       "\\end{enumerate*}\n"
      ],
      "text/markdown": [
       "1. 2713\n",
       "2. 33106\n",
       "\n",
       "\n"
      ],
      "text/plain": [
       "[1]  2713 33106"
      ]
     },
     "metadata": {},
     "output_type": "display_data"
    },
    {
     "data": {
      "text/html": [
       "<style>\n",
       ".list-inline {list-style: none; margin:0; padding: 0}\n",
       ".list-inline>li {display: inline-block}\n",
       ".list-inline>li:not(:last-child)::after {content: \"\\00b7\"; padding: 0 .5ex}\n",
       "</style>\n",
       "<ol class=list-inline><li>2385</li><li>33106</li></ol>\n"
      ],
      "text/latex": [
       "\\begin{enumerate*}\n",
       "\\item 2385\n",
       "\\item 33106\n",
       "\\end{enumerate*}\n"
      ],
      "text/markdown": [
       "1. 2385\n",
       "2. 33106\n",
       "\n",
       "\n"
      ],
      "text/plain": [
       "[1]  2385 33106"
      ]
     },
     "metadata": {},
     "output_type": "display_data"
    }
   ],
   "source": [
    "dim(avg_pathway)\n",
    "avg_pathway%>%\n",
    "na.omit() %>%\n",
    "dim()"
   ]
  },
  {
   "cell_type": "code",
   "execution_count": 11,
   "id": "5e7a1260-78f1-4c82-b0d7-e344e859c47c",
   "metadata": {},
   "outputs": [
    {
     "data": {
      "text/html": [
       "10680962"
      ],
      "text/latex": [
       "10680962"
      ],
      "text/markdown": [
       "10680962"
      ],
      "text/plain": [
       "[1] 10680962"
      ]
     },
     "metadata": {},
     "output_type": "display_data"
    }
   ],
   "source": [
    "sum(is.na(avg_gene))"
   ]
  },
  {
   "cell_type": "code",
   "execution_count": 12,
   "id": "0bcbd26f-f5f6-424c-bf4d-64ce26b82526",
   "metadata": {},
   "outputs": [
    {
     "data": {
      "text/html": [
       "<style>\n",
       ".list-inline {list-style: none; margin:0; padding: 0}\n",
       ".list-inline>li {display: inline-block}\n",
       ".list-inline>li:not(:last-child)::after {content: \"\\00b7\"; padding: 0 .5ex}\n",
       "</style>\n",
       "<ol class=list-inline><li>2713</li><li>33106</li></ol>\n"
      ],
      "text/latex": [
       "\\begin{enumerate*}\n",
       "\\item 2713\n",
       "\\item 33106\n",
       "\\end{enumerate*}\n"
      ],
      "text/markdown": [
       "1. 2713\n",
       "2. 33106\n",
       "\n",
       "\n"
      ],
      "text/plain": [
       "[1]  2713 33106"
      ]
     },
     "metadata": {},
     "output_type": "display_data"
    },
    {
     "data": {
      "text/html": [
       "<style>\n",
       ".list-inline {list-style: none; margin:0; padding: 0}\n",
       ".list-inline>li {display: inline-block}\n",
       ".list-inline>li:not(:last-child)::after {content: \"\\00b7\"; padding: 0 .5ex}\n",
       "</style>\n",
       "<ol class=list-inline><li>2385</li><li>33106</li></ol>\n"
      ],
      "text/latex": [
       "\\begin{enumerate*}\n",
       "\\item 2385\n",
       "\\item 33106\n",
       "\\end{enumerate*}\n"
      ],
      "text/markdown": [
       "1. 2385\n",
       "2. 33106\n",
       "\n",
       "\n"
      ],
      "text/plain": [
       "[1]  2385 33106"
      ]
     },
     "metadata": {},
     "output_type": "display_data"
    }
   ],
   "source": [
    "dim(avg_gene)\n",
    "avg_gene%>%\n",
    "na.omit() %>%\n",
    "dim()"
   ]
  },
  {
   "cell_type": "markdown",
   "id": "7ff4dfa2-421c-470e-a810-7541e1cdd174",
   "metadata": {
    "jp-MarkdownHeadingCollapsed": true
   },
   "source": [
    "## check for non-overlapping pathways"
   ]
  },
  {
   "cell_type": "code",
   "execution_count": 13,
   "id": "1fb9ac4d-791d-4b51-9435-c3e7bdbeee52",
   "metadata": {},
   "outputs": [
    {
     "name": "stderr",
     "output_type": "stream",
     "text": [
      "Warning message in cbind(parts$left, chars$ellip_h, parts$right, deparse.level = 0L):\n",
      "“number of rows of result is not a multiple of vector length (arg 2)”\n",
      "Warning message in cbind(parts$left, chars$ellip_h, parts$right, deparse.level = 0L):\n",
      "“number of rows of result is not a multiple of vector length (arg 2)”\n",
      "Warning message in cbind(parts$left, chars$ellip_h, parts$right, deparse.level = 0L):\n",
      "“number of rows of result is not a multiple of vector length (arg 2)”\n",
      "Warning message in cbind(parts$left, chars$ellip_h, parts$right, deparse.level = 0L):\n",
      "“number of rows of result is not a multiple of vector length (arg 2)”\n"
     ]
    },
    {
     "data": {
      "text/html": [
       "<table class=\"dataframe\">\n",
       "<caption>A data.table: 0 × 33106</caption>\n",
       "<thead>\n",
       "\t<tr><th scope=col>PATHWAY_ID</th><th scope=col>A-MAP-MA000549-BR-RUS-a0257:R8415954</th><th scope=col>A-ROS-RS000530-BR-RUS-a0969:R6226355</th><th scope=col>A-ROS-RS000432-BR-RUS-a0898:R3111222</th><th scope=col>A-MAP-MA000702-BL-RUS-a0370:R7551006</th><th scope=col>A-ROS-RS000566-BL-RUS-a0992:R9309271</th><th scope=col>A-ROS-RS000431-BR-RUS-a0897:R6265038</th><th scope=col>A-MAP-MA000909-BR-RUS-a0456:R5955028</th><th scope=col>A-ROS-RS000246-BR-RUS-a0768:R4581557</th><th scope=col>A-ROS-RS000475-BL-RUS-a0928:R2372487</th><th scope=col>⋯</th><th scope=col>A-PRHS-PR000724-BL-COL-45380BL1:NA</th><th scope=col>A-AMSH-AM000847-BL-MIA-201000289v:NA</th><th scope=col>A-ADC-AD010167-BL-NCR-14AD72452uf:NA</th><th scope=col>A-TARC-TC001078-BL-NCR-0005802969:NA</th><th scope=col>C-ERF-70210-BL-ERA-D018304:NA</th><th scope=col>ADNI_022_S_2379:NA</th><th scope=col>A-ADC-AD010113-BL-NCR-13AD61148e:NA</th><th scope=col>ADNI_052_S_0952:NA</th><th scope=col>A-MHAS-MH000445-BL-COL-100863:NA</th><th scope=col>A-MHAS-MH000918-BL-COL-101336:NA</th></tr>\n",
       "\t<tr><th scope=col>&lt;chr&gt;</th><th scope=col>&lt;dbl&gt;</th><th scope=col>&lt;dbl&gt;</th><th scope=col>&lt;dbl&gt;</th><th scope=col>&lt;dbl&gt;</th><th scope=col>&lt;dbl&gt;</th><th scope=col>&lt;dbl&gt;</th><th scope=col>&lt;dbl&gt;</th><th scope=col>&lt;dbl&gt;</th><th scope=col>&lt;dbl&gt;</th><th scope=col>⋯</th><th scope=col>&lt;dbl&gt;</th><th scope=col>&lt;dbl&gt;</th><th scope=col>&lt;dbl&gt;</th><th scope=col>&lt;dbl&gt;</th><th scope=col>&lt;dbl&gt;</th><th scope=col>&lt;dbl&gt;</th><th scope=col>&lt;dbl&gt;</th><th scope=col>&lt;dbl&gt;</th><th scope=col>&lt;dbl&gt;</th><th scope=col>&lt;dbl&gt;</th></tr>\n",
       "</thead>\n",
       "<tbody>\n",
       "</tbody>\n",
       "</table>\n"
      ],
      "text/latex": [
       "A data.table: 0 × 33106\n",
       "\\begin{tabular}{lllllllllllllllllllll}\n",
       " PATHWAY\\_ID & A-MAP-MA000549-BR-RUS-a0257:R8415954 & A-ROS-RS000530-BR-RUS-a0969:R6226355 & A-ROS-RS000432-BR-RUS-a0898:R3111222 & A-MAP-MA000702-BL-RUS-a0370:R7551006 & A-ROS-RS000566-BL-RUS-a0992:R9309271 & A-ROS-RS000431-BR-RUS-a0897:R6265038 & A-MAP-MA000909-BR-RUS-a0456:R5955028 & A-ROS-RS000246-BR-RUS-a0768:R4581557 & A-ROS-RS000475-BL-RUS-a0928:R2372487 & ⋯ & A-PRHS-PR000724-BL-COL-45380BL1:NA & A-AMSH-AM000847-BL-MIA-201000289v:NA & A-ADC-AD010167-BL-NCR-14AD72452uf:NA & A-TARC-TC001078-BL-NCR-0005802969:NA & C-ERF-70210-BL-ERA-D018304:NA & ADNI\\_022\\_S\\_2379:NA & A-ADC-AD010113-BL-NCR-13AD61148e:NA & ADNI\\_052\\_S\\_0952:NA & A-MHAS-MH000445-BL-COL-100863:NA & A-MHAS-MH000918-BL-COL-101336:NA\\\\\n",
       " <chr> & <dbl> & <dbl> & <dbl> & <dbl> & <dbl> & <dbl> & <dbl> & <dbl> & <dbl> & ⋯ & <dbl> & <dbl> & <dbl> & <dbl> & <dbl> & <dbl> & <dbl> & <dbl> & <dbl> & <dbl>\\\\\n",
       "\\hline\n",
       "\\end{tabular}\n"
      ],
      "text/markdown": [
       "\n",
       "A data.table: 0 × 33106\n",
       "\n",
       "| PATHWAY_ID &lt;chr&gt; | A-MAP-MA000549-BR-RUS-a0257:R8415954 &lt;dbl&gt; | A-ROS-RS000530-BR-RUS-a0969:R6226355 &lt;dbl&gt; | A-ROS-RS000432-BR-RUS-a0898:R3111222 &lt;dbl&gt; | A-MAP-MA000702-BL-RUS-a0370:R7551006 &lt;dbl&gt; | A-ROS-RS000566-BL-RUS-a0992:R9309271 &lt;dbl&gt; | A-ROS-RS000431-BR-RUS-a0897:R6265038 &lt;dbl&gt; | A-MAP-MA000909-BR-RUS-a0456:R5955028 &lt;dbl&gt; | A-ROS-RS000246-BR-RUS-a0768:R4581557 &lt;dbl&gt; | A-ROS-RS000475-BL-RUS-a0928:R2372487 &lt;dbl&gt; | ⋯ ⋯ | A-PRHS-PR000724-BL-COL-45380BL1:NA &lt;dbl&gt; | A-AMSH-AM000847-BL-MIA-201000289v:NA &lt;dbl&gt; | A-ADC-AD010167-BL-NCR-14AD72452uf:NA &lt;dbl&gt; | A-TARC-TC001078-BL-NCR-0005802969:NA &lt;dbl&gt; | C-ERF-70210-BL-ERA-D018304:NA &lt;dbl&gt; | ADNI_022_S_2379:NA &lt;dbl&gt; | A-ADC-AD010113-BL-NCR-13AD61148e:NA &lt;dbl&gt; | ADNI_052_S_0952:NA &lt;dbl&gt; | A-MHAS-MH000445-BL-COL-100863:NA &lt;dbl&gt; | A-MHAS-MH000918-BL-COL-101336:NA &lt;dbl&gt; |\n",
       "|---|---|---|---|---|---|---|---|---|---|---|---|---|---|---|---|---|---|---|---|---|\n",
       "\n"
      ],
      "text/plain": [
       "     PATHWAY_ID A-MAP-MA000549-BR-RUS-a0257:R8415954\n",
       "     A-ROS-RS000530-BR-RUS-a0969:R6226355 A-ROS-RS000432-BR-RUS-a0898:R3111222\n",
       "     A-MAP-MA000702-BL-RUS-a0370:R7551006 A-ROS-RS000566-BL-RUS-a0992:R9309271\n",
       "     A-ROS-RS000431-BR-RUS-a0897:R6265038 A-MAP-MA000909-BR-RUS-a0456:R5955028\n",
       "     A-ROS-RS000246-BR-RUS-a0768:R4581557 A-ROS-RS000475-BL-RUS-a0928:R2372487\n",
       "     ⋯ A-PRHS-PR000724-BL-COL-45380BL1:NA A-AMSH-AM000847-BL-MIA-201000289v:NA\n",
       "     A-ADC-AD010167-BL-NCR-14AD72452uf:NA A-TARC-TC001078-BL-NCR-0005802969:NA\n",
       "     C-ERF-70210-BL-ERA-D018304:NA ADNI_022_S_2379:NA\n",
       "     A-ADC-AD010113-BL-NCR-13AD61148e:NA ADNI_052_S_0952:NA\n",
       "     A-MHAS-MH000445-BL-COL-100863:NA A-MHAS-MH000918-BL-COL-101336:NA"
      ]
     },
     "metadata": {},
     "output_type": "display_data"
    }
   ],
   "source": [
    "avg_gene[!avg_gene$PATHWAY_ID %in% avg_pathway$PATHWAY_ID,]"
   ]
  },
  {
   "cell_type": "code",
   "execution_count": 15,
   "id": "bde63b3f-9a80-4e83-bbe7-a77a0dc14f28",
   "metadata": {},
   "outputs": [
    {
     "data": {
      "text/html": [
       "<table class=\"dataframe\">\n",
       "<caption>A data.table: 3 × 33106</caption>\n",
       "<thead>\n",
       "\t<tr><th scope=col>PATHWAY_ID</th><th scope=col>A-ACT-AC000014-BL-NCR-15AD78694:NA</th><th scope=col>A-ACT-AC000034-BL-NCR-16AD84906:NA</th><th scope=col>A-ACT-AC000057-BL-NCR-15AD78356:NA</th><th scope=col>A-ACT-AC000072-BL-NCR-15AD77250:NA</th><th scope=col>A-ACT-AC000088-BL-NCR-15AD76548:NA</th><th scope=col>A-ACT-AC000090-BL-NCR-15AD78097:NA</th><th scope=col>A-ACT-AC000092-BL-NCR-15AD78589:NA</th><th scope=col>A-ACT-AC000100-BL-NCR-15AD76766:NA</th><th scope=col>A-ACT-AC000109-BL-NCR-15AD78136:NA</th><th scope=col>⋯</th><th scope=col>G-MSBB-MB000335-BR-MSBB-74458:NA</th><th scope=col>G-MSBB-MB000337-BR-MSBB-76349:NA</th><th scope=col>G-MSBB-MB000338-BR-MSBB-76350:NA</th><th scope=col>G-MSBB-MB000339-BR-MSBB-76351:NA</th><th scope=col>G-MSBB-MB000340-BR-MSBB-76352:NA</th><th scope=col>G-MSBB-MB000341-BR-MSBB-76353:NA</th><th scope=col>A-ROS-RS000244-BL-RUS-a0766:R7039412</th><th scope=col>A-ROS-RS000409-BL-RUS-a0877:R6253512</th><th scope=col>A-MAP-MA001193-BL-RUS-a0583:R3776872</th><th scope=col>A-ROS-RS000358-BL-RUS-a0836:R1020037</th></tr>\n",
       "\t<tr><th scope=col>&lt;chr&gt;</th><th scope=col>&lt;dbl&gt;</th><th scope=col>&lt;dbl&gt;</th><th scope=col>&lt;dbl&gt;</th><th scope=col>&lt;dbl&gt;</th><th scope=col>&lt;dbl&gt;</th><th scope=col>&lt;dbl&gt;</th><th scope=col>&lt;dbl&gt;</th><th scope=col>&lt;dbl&gt;</th><th scope=col>&lt;dbl&gt;</th><th scope=col>⋯</th><th scope=col>&lt;dbl&gt;</th><th scope=col>&lt;dbl&gt;</th><th scope=col>&lt;dbl&gt;</th><th scope=col>&lt;dbl&gt;</th><th scope=col>&lt;dbl&gt;</th><th scope=col>&lt;dbl&gt;</th><th scope=col>&lt;dbl&gt;</th><th scope=col>&lt;dbl&gt;</th><th scope=col>&lt;dbl&gt;</th><th scope=col>&lt;dbl&gt;</th></tr>\n",
       "</thead>\n",
       "<tbody>\n",
       "\t<tr><td>R-HSA-5659898</td><td>NaN</td><td>NaN</td><td>NaN</td><td>NaN</td><td>NaN</td><td>NaN</td><td>NaN</td><td>NaN</td><td>NaN</td><td>⋯</td><td>NaN</td><td>NaN</td><td>NaN</td><td>NaN</td><td>NaN</td><td>NaN</td><td> 2.929725</td><td> 2.850891</td><td> 2.756350</td><td> 2.9669315</td></tr>\n",
       "\t<tr><td>R-HSA-5688031</td><td>NaN</td><td>NaN</td><td>NaN</td><td>NaN</td><td>NaN</td><td>NaN</td><td>NaN</td><td>NaN</td><td>NaN</td><td>⋯</td><td>NaN</td><td>NaN</td><td>NaN</td><td>NaN</td><td>NaN</td><td>NaN</td><td> 2.513270</td><td> 2.118526</td><td> 2.061728</td><td> 2.2492285</td></tr>\n",
       "\t<tr><td>R-HSA-9692912</td><td>NaN</td><td>NaN</td><td>NaN</td><td>NaN</td><td>NaN</td><td>NaN</td><td>NaN</td><td>NaN</td><td>NaN</td><td>⋯</td><td>NaN</td><td>NaN</td><td>NaN</td><td>NaN</td><td>NaN</td><td>NaN</td><td>-2.921097</td><td>-2.944672</td><td>-2.707986</td><td>-0.5097687</td></tr>\n",
       "</tbody>\n",
       "</table>\n"
      ],
      "text/latex": [
       "A data.table: 3 × 33106\n",
       "\\begin{tabular}{lllllllllllllllllllll}\n",
       " PATHWAY\\_ID & A-ACT-AC000014-BL-NCR-15AD78694:NA & A-ACT-AC000034-BL-NCR-16AD84906:NA & A-ACT-AC000057-BL-NCR-15AD78356:NA & A-ACT-AC000072-BL-NCR-15AD77250:NA & A-ACT-AC000088-BL-NCR-15AD76548:NA & A-ACT-AC000090-BL-NCR-15AD78097:NA & A-ACT-AC000092-BL-NCR-15AD78589:NA & A-ACT-AC000100-BL-NCR-15AD76766:NA & A-ACT-AC000109-BL-NCR-15AD78136:NA & ⋯ & G-MSBB-MB000335-BR-MSBB-74458:NA & G-MSBB-MB000337-BR-MSBB-76349:NA & G-MSBB-MB000338-BR-MSBB-76350:NA & G-MSBB-MB000339-BR-MSBB-76351:NA & G-MSBB-MB000340-BR-MSBB-76352:NA & G-MSBB-MB000341-BR-MSBB-76353:NA & A-ROS-RS000244-BL-RUS-a0766:R7039412 & A-ROS-RS000409-BL-RUS-a0877:R6253512 & A-MAP-MA001193-BL-RUS-a0583:R3776872 & A-ROS-RS000358-BL-RUS-a0836:R1020037\\\\\n",
       " <chr> & <dbl> & <dbl> & <dbl> & <dbl> & <dbl> & <dbl> & <dbl> & <dbl> & <dbl> & ⋯ & <dbl> & <dbl> & <dbl> & <dbl> & <dbl> & <dbl> & <dbl> & <dbl> & <dbl> & <dbl>\\\\\n",
       "\\hline\n",
       "\t R-HSA-5659898 & NaN & NaN & NaN & NaN & NaN & NaN & NaN & NaN & NaN & ⋯ & NaN & NaN & NaN & NaN & NaN & NaN &  2.929725 &  2.850891 &  2.756350 &  2.9669315\\\\\n",
       "\t R-HSA-5688031 & NaN & NaN & NaN & NaN & NaN & NaN & NaN & NaN & NaN & ⋯ & NaN & NaN & NaN & NaN & NaN & NaN &  2.513270 &  2.118526 &  2.061728 &  2.2492285\\\\\n",
       "\t R-HSA-9692912 & NaN & NaN & NaN & NaN & NaN & NaN & NaN & NaN & NaN & ⋯ & NaN & NaN & NaN & NaN & NaN & NaN & -2.921097 & -2.944672 & -2.707986 & -0.5097687\\\\\n",
       "\\end{tabular}\n"
      ],
      "text/markdown": [
       "\n",
       "A data.table: 3 × 33106\n",
       "\n",
       "| PATHWAY_ID &lt;chr&gt; | A-ACT-AC000014-BL-NCR-15AD78694:NA &lt;dbl&gt; | A-ACT-AC000034-BL-NCR-16AD84906:NA &lt;dbl&gt; | A-ACT-AC000057-BL-NCR-15AD78356:NA &lt;dbl&gt; | A-ACT-AC000072-BL-NCR-15AD77250:NA &lt;dbl&gt; | A-ACT-AC000088-BL-NCR-15AD76548:NA &lt;dbl&gt; | A-ACT-AC000090-BL-NCR-15AD78097:NA &lt;dbl&gt; | A-ACT-AC000092-BL-NCR-15AD78589:NA &lt;dbl&gt; | A-ACT-AC000100-BL-NCR-15AD76766:NA &lt;dbl&gt; | A-ACT-AC000109-BL-NCR-15AD78136:NA &lt;dbl&gt; | ⋯ ⋯ | G-MSBB-MB000335-BR-MSBB-74458:NA &lt;dbl&gt; | G-MSBB-MB000337-BR-MSBB-76349:NA &lt;dbl&gt; | G-MSBB-MB000338-BR-MSBB-76350:NA &lt;dbl&gt; | G-MSBB-MB000339-BR-MSBB-76351:NA &lt;dbl&gt; | G-MSBB-MB000340-BR-MSBB-76352:NA &lt;dbl&gt; | G-MSBB-MB000341-BR-MSBB-76353:NA &lt;dbl&gt; | A-ROS-RS000244-BL-RUS-a0766:R7039412 &lt;dbl&gt; | A-ROS-RS000409-BL-RUS-a0877:R6253512 &lt;dbl&gt; | A-MAP-MA001193-BL-RUS-a0583:R3776872 &lt;dbl&gt; | A-ROS-RS000358-BL-RUS-a0836:R1020037 &lt;dbl&gt; |\n",
       "|---|---|---|---|---|---|---|---|---|---|---|---|---|---|---|---|---|---|---|---|---|\n",
       "| R-HSA-5659898 | NaN | NaN | NaN | NaN | NaN | NaN | NaN | NaN | NaN | ⋯ | NaN | NaN | NaN | NaN | NaN | NaN |  2.929725 |  2.850891 |  2.756350 |  2.9669315 |\n",
       "| R-HSA-5688031 | NaN | NaN | NaN | NaN | NaN | NaN | NaN | NaN | NaN | ⋯ | NaN | NaN | NaN | NaN | NaN | NaN |  2.513270 |  2.118526 |  2.061728 |  2.2492285 |\n",
       "| R-HSA-9692912 | NaN | NaN | NaN | NaN | NaN | NaN | NaN | NaN | NaN | ⋯ | NaN | NaN | NaN | NaN | NaN | NaN | -2.921097 | -2.944672 | -2.707986 | -0.5097687 |\n",
       "\n"
      ],
      "text/plain": [
       "  PATHWAY_ID    A-ACT-AC000014-BL-NCR-15AD78694:NA\n",
       "1 R-HSA-5659898 NaN                               \n",
       "2 R-HSA-5688031 NaN                               \n",
       "3 R-HSA-9692912 NaN                               \n",
       "  A-ACT-AC000034-BL-NCR-16AD84906:NA A-ACT-AC000057-BL-NCR-15AD78356:NA\n",
       "1 NaN                                NaN                               \n",
       "2 NaN                                NaN                               \n",
       "3 NaN                                NaN                               \n",
       "  A-ACT-AC000072-BL-NCR-15AD77250:NA A-ACT-AC000088-BL-NCR-15AD76548:NA\n",
       "1 NaN                                NaN                               \n",
       "2 NaN                                NaN                               \n",
       "3 NaN                                NaN                               \n",
       "  A-ACT-AC000090-BL-NCR-15AD78097:NA A-ACT-AC000092-BL-NCR-15AD78589:NA\n",
       "1 NaN                                NaN                               \n",
       "2 NaN                                NaN                               \n",
       "3 NaN                                NaN                               \n",
       "  A-ACT-AC000100-BL-NCR-15AD76766:NA A-ACT-AC000109-BL-NCR-15AD78136:NA ⋯\n",
       "1 NaN                                NaN                                ⋯\n",
       "2 NaN                                NaN                                ⋯\n",
       "3 NaN                                NaN                                ⋯\n",
       "  G-MSBB-MB000335-BR-MSBB-74458:NA G-MSBB-MB000337-BR-MSBB-76349:NA\n",
       "1 NaN                              NaN                             \n",
       "2 NaN                              NaN                             \n",
       "3 NaN                              NaN                             \n",
       "  G-MSBB-MB000338-BR-MSBB-76350:NA G-MSBB-MB000339-BR-MSBB-76351:NA\n",
       "1 NaN                              NaN                             \n",
       "2 NaN                              NaN                             \n",
       "3 NaN                              NaN                             \n",
       "  G-MSBB-MB000340-BR-MSBB-76352:NA G-MSBB-MB000341-BR-MSBB-76353:NA\n",
       "1 NaN                              NaN                             \n",
       "2 NaN                              NaN                             \n",
       "3 NaN                              NaN                             \n",
       "  A-ROS-RS000244-BL-RUS-a0766:R7039412 A-ROS-RS000409-BL-RUS-a0877:R6253512\n",
       "1  2.929725                             2.850891                           \n",
       "2  2.513270                             2.118526                           \n",
       "3 -2.921097                            -2.944672                           \n",
       "  A-MAP-MA001193-BL-RUS-a0583:R3776872 A-ROS-RS000358-BL-RUS-a0836:R1020037\n",
       "1  2.756350                             2.9669315                          \n",
       "2  2.061728                             2.2492285                          \n",
       "3 -2.707986                            -0.5097687                          "
      ]
     },
     "metadata": {},
     "output_type": "display_data"
    }
   ],
   "source": [
    "no_overlap = avg_pathway[!avg_pathway$PATHWAY_ID %in% avg_gene$PATHWAY_ID,]\n",
    "no_overlap"
   ]
  },
  {
   "cell_type": "code",
   "execution_count": 23,
   "id": "d342c902-f83c-4658-a36c-ac5cd7e63fff",
   "metadata": {},
   "outputs": [
    {
     "data": {
      "text/html": [
       "<style>\n",
       ".list-inline {list-style: none; margin:0; padding: 0}\n",
       ".list-inline>li {display: inline-block}\n",
       ".list-inline>li:not(:last-child)::after {content: \"\\00b7\"; padding: 0 .5ex}\n",
       "</style>\n",
       "<ol class=list-inline><li>3</li><li>558</li></ol>\n"
      ],
      "text/latex": [
       "\\begin{enumerate*}\n",
       "\\item 3\n",
       "\\item 558\n",
       "\\end{enumerate*}\n"
      ],
      "text/markdown": [
       "1. 3\n",
       "2. 558\n",
       "\n",
       "\n"
      ],
      "text/plain": [
       "[1]   3 558"
      ]
     },
     "metadata": {},
     "output_type": "display_data"
    },
    {
     "data": {
      "text/html": [
       "<table class=\"dataframe\">\n",
       "<caption>A data.table: 3 × 558</caption>\n",
       "<thead>\n",
       "\t<tr><th scope=col>PATHWAY_ID</th><th scope=col>A-MAP-MA000005-BR-RUS-a0003:R3978789</th><th scope=col>A-MAP-MA000007-BR-RUS-a0004:R8140052</th><th scope=col>A-MAP-MA000012-BR-RUS-a0005:R7881801</th><th scope=col>A-MAP-MA000019-BL-RUS-a0007:R6108690</th><th scope=col>A-MAP-MA000021-BR-RUS-a0008:R6013281</th><th scope=col>A-MAP-MA000022-BR-RUS-a0009:R9662437</th><th scope=col>A-MAP-MA000023-BR-RUS-a0010:R9936070</th><th scope=col>A-MAP-MA000030-BR-RUS-a0012:R6284795</th><th scope=col>A-MAP-MA000042-BR-RUS-a0017:R9116123</th><th scope=col>⋯</th><th scope=col>A-ROS-RS001027-BR-RUS-a1029:R9537646</th><th scope=col>A-ROS-RS001031-BR-RUS-a1080:R8920307</th><th scope=col>A-ROS-RS001032-BR-RUS-a1086:R3633816</th><th scope=col>A-ROS-RS001035-BL-RUS-a1179:R3937593</th><th scope=col>A-ROS-RS001037-BR-RUS-a1187:R3592818</th><th scope=col>A-ROS-RS001039-BR-RUS-a1195:R2830542</th><th scope=col>A-ROS-RS000244-BL-RUS-a0766:R7039412</th><th scope=col>A-ROS-RS000409-BL-RUS-a0877:R6253512</th><th scope=col>A-MAP-MA001193-BL-RUS-a0583:R3776872</th><th scope=col>A-ROS-RS000358-BL-RUS-a0836:R1020037</th></tr>\n",
       "\t<tr><th scope=col>&lt;chr&gt;</th><th scope=col>&lt;dbl&gt;</th><th scope=col>&lt;dbl&gt;</th><th scope=col>&lt;dbl&gt;</th><th scope=col>&lt;dbl&gt;</th><th scope=col>&lt;dbl&gt;</th><th scope=col>&lt;dbl&gt;</th><th scope=col>&lt;dbl&gt;</th><th scope=col>&lt;dbl&gt;</th><th scope=col>&lt;dbl&gt;</th><th scope=col>⋯</th><th scope=col>&lt;dbl&gt;</th><th scope=col>&lt;dbl&gt;</th><th scope=col>&lt;dbl&gt;</th><th scope=col>&lt;dbl&gt;</th><th scope=col>&lt;dbl&gt;</th><th scope=col>&lt;dbl&gt;</th><th scope=col>&lt;dbl&gt;</th><th scope=col>&lt;dbl&gt;</th><th scope=col>&lt;dbl&gt;</th><th scope=col>&lt;dbl&gt;</th></tr>\n",
       "</thead>\n",
       "<tbody>\n",
       "\t<tr><td>R-HSA-5659898</td><td> 2.739359</td><td> 2.8207419</td><td> 2.641465</td><td> 2.925718</td><td>3.048209</td><td> 2.9536360</td><td> 3.216962</td><td> 3.225216</td><td> 3.4314940</td><td>⋯</td><td>3.261025</td><td> 3.059458</td><td>2.780965</td><td> 2.749360</td><td>3.424751</td><td>3.571732</td><td> 2.929725</td><td> 2.850891</td><td> 2.756350</td><td> 2.9669315</td></tr>\n",
       "\t<tr><td>R-HSA-5688031</td><td> 2.283681</td><td> 2.3805371</td><td> 1.963629</td><td> 2.335384</td><td>2.408749</td><td> 2.3825140</td><td> 2.412797</td><td> 2.645043</td><td> 2.6374291</td><td>⋯</td><td>2.287354</td><td> 2.332951</td><td>2.286456</td><td> 2.507909</td><td>2.329805</td><td>2.178401</td><td> 2.513270</td><td> 2.118526</td><td> 2.061728</td><td> 2.2492285</td></tr>\n",
       "\t<tr><td>R-HSA-9692912</td><td>-3.168826</td><td>-0.4649513</td><td>-3.579433</td><td>-3.693112</td><td>2.323252</td><td>-0.7803478</td><td>-3.581449</td><td>-3.135755</td><td>-0.5761846</td><td>⋯</td><td>2.380754</td><td>-3.194276</td><td>2.338656</td><td>-2.830259</td><td>2.223755</td><td>2.264109</td><td>-2.921097</td><td>-2.944672</td><td>-2.707986</td><td>-0.5097687</td></tr>\n",
       "</tbody>\n",
       "</table>\n"
      ],
      "text/latex": [
       "A data.table: 3 × 558\n",
       "\\begin{tabular}{lllllllllllllllllllll}\n",
       " PATHWAY\\_ID & A-MAP-MA000005-BR-RUS-a0003:R3978789 & A-MAP-MA000007-BR-RUS-a0004:R8140052 & A-MAP-MA000012-BR-RUS-a0005:R7881801 & A-MAP-MA000019-BL-RUS-a0007:R6108690 & A-MAP-MA000021-BR-RUS-a0008:R6013281 & A-MAP-MA000022-BR-RUS-a0009:R9662437 & A-MAP-MA000023-BR-RUS-a0010:R9936070 & A-MAP-MA000030-BR-RUS-a0012:R6284795 & A-MAP-MA000042-BR-RUS-a0017:R9116123 & ⋯ & A-ROS-RS001027-BR-RUS-a1029:R9537646 & A-ROS-RS001031-BR-RUS-a1080:R8920307 & A-ROS-RS001032-BR-RUS-a1086:R3633816 & A-ROS-RS001035-BL-RUS-a1179:R3937593 & A-ROS-RS001037-BR-RUS-a1187:R3592818 & A-ROS-RS001039-BR-RUS-a1195:R2830542 & A-ROS-RS000244-BL-RUS-a0766:R7039412 & A-ROS-RS000409-BL-RUS-a0877:R6253512 & A-MAP-MA001193-BL-RUS-a0583:R3776872 & A-ROS-RS000358-BL-RUS-a0836:R1020037\\\\\n",
       " <chr> & <dbl> & <dbl> & <dbl> & <dbl> & <dbl> & <dbl> & <dbl> & <dbl> & <dbl> & ⋯ & <dbl> & <dbl> & <dbl> & <dbl> & <dbl> & <dbl> & <dbl> & <dbl> & <dbl> & <dbl>\\\\\n",
       "\\hline\n",
       "\t R-HSA-5659898 &  2.739359 &  2.8207419 &  2.641465 &  2.925718 & 3.048209 &  2.9536360 &  3.216962 &  3.225216 &  3.4314940 & ⋯ & 3.261025 &  3.059458 & 2.780965 &  2.749360 & 3.424751 & 3.571732 &  2.929725 &  2.850891 &  2.756350 &  2.9669315\\\\\n",
       "\t R-HSA-5688031 &  2.283681 &  2.3805371 &  1.963629 &  2.335384 & 2.408749 &  2.3825140 &  2.412797 &  2.645043 &  2.6374291 & ⋯ & 2.287354 &  2.332951 & 2.286456 &  2.507909 & 2.329805 & 2.178401 &  2.513270 &  2.118526 &  2.061728 &  2.2492285\\\\\n",
       "\t R-HSA-9692912 & -3.168826 & -0.4649513 & -3.579433 & -3.693112 & 2.323252 & -0.7803478 & -3.581449 & -3.135755 & -0.5761846 & ⋯ & 2.380754 & -3.194276 & 2.338656 & -2.830259 & 2.223755 & 2.264109 & -2.921097 & -2.944672 & -2.707986 & -0.5097687\\\\\n",
       "\\end{tabular}\n"
      ],
      "text/markdown": [
       "\n",
       "A data.table: 3 × 558\n",
       "\n",
       "| PATHWAY_ID &lt;chr&gt; | A-MAP-MA000005-BR-RUS-a0003:R3978789 &lt;dbl&gt; | A-MAP-MA000007-BR-RUS-a0004:R8140052 &lt;dbl&gt; | A-MAP-MA000012-BR-RUS-a0005:R7881801 &lt;dbl&gt; | A-MAP-MA000019-BL-RUS-a0007:R6108690 &lt;dbl&gt; | A-MAP-MA000021-BR-RUS-a0008:R6013281 &lt;dbl&gt; | A-MAP-MA000022-BR-RUS-a0009:R9662437 &lt;dbl&gt; | A-MAP-MA000023-BR-RUS-a0010:R9936070 &lt;dbl&gt; | A-MAP-MA000030-BR-RUS-a0012:R6284795 &lt;dbl&gt; | A-MAP-MA000042-BR-RUS-a0017:R9116123 &lt;dbl&gt; | ⋯ ⋯ | A-ROS-RS001027-BR-RUS-a1029:R9537646 &lt;dbl&gt; | A-ROS-RS001031-BR-RUS-a1080:R8920307 &lt;dbl&gt; | A-ROS-RS001032-BR-RUS-a1086:R3633816 &lt;dbl&gt; | A-ROS-RS001035-BL-RUS-a1179:R3937593 &lt;dbl&gt; | A-ROS-RS001037-BR-RUS-a1187:R3592818 &lt;dbl&gt; | A-ROS-RS001039-BR-RUS-a1195:R2830542 &lt;dbl&gt; | A-ROS-RS000244-BL-RUS-a0766:R7039412 &lt;dbl&gt; | A-ROS-RS000409-BL-RUS-a0877:R6253512 &lt;dbl&gt; | A-MAP-MA001193-BL-RUS-a0583:R3776872 &lt;dbl&gt; | A-ROS-RS000358-BL-RUS-a0836:R1020037 &lt;dbl&gt; |\n",
       "|---|---|---|---|---|---|---|---|---|---|---|---|---|---|---|---|---|---|---|---|---|\n",
       "| R-HSA-5659898 |  2.739359 |  2.8207419 |  2.641465 |  2.925718 | 3.048209 |  2.9536360 |  3.216962 |  3.225216 |  3.4314940 | ⋯ | 3.261025 |  3.059458 | 2.780965 |  2.749360 | 3.424751 | 3.571732 |  2.929725 |  2.850891 |  2.756350 |  2.9669315 |\n",
       "| R-HSA-5688031 |  2.283681 |  2.3805371 |  1.963629 |  2.335384 | 2.408749 |  2.3825140 |  2.412797 |  2.645043 |  2.6374291 | ⋯ | 2.287354 |  2.332951 | 2.286456 |  2.507909 | 2.329805 | 2.178401 |  2.513270 |  2.118526 |  2.061728 |  2.2492285 |\n",
       "| R-HSA-9692912 | -3.168826 | -0.4649513 | -3.579433 | -3.693112 | 2.323252 | -0.7803478 | -3.581449 | -3.135755 | -0.5761846 | ⋯ | 2.380754 | -3.194276 | 2.338656 | -2.830259 | 2.223755 | 2.264109 | -2.921097 | -2.944672 | -2.707986 | -0.5097687 |\n",
       "\n"
      ],
      "text/plain": [
       "  PATHWAY_ID    A-MAP-MA000005-BR-RUS-a0003:R3978789\n",
       "1 R-HSA-5659898  2.739359                           \n",
       "2 R-HSA-5688031  2.283681                           \n",
       "3 R-HSA-9692912 -3.168826                           \n",
       "  A-MAP-MA000007-BR-RUS-a0004:R8140052 A-MAP-MA000012-BR-RUS-a0005:R7881801\n",
       "1  2.8207419                            2.641465                           \n",
       "2  2.3805371                            1.963629                           \n",
       "3 -0.4649513                           -3.579433                           \n",
       "  A-MAP-MA000019-BL-RUS-a0007:R6108690 A-MAP-MA000021-BR-RUS-a0008:R6013281\n",
       "1  2.925718                            3.048209                            \n",
       "2  2.335384                            2.408749                            \n",
       "3 -3.693112                            2.323252                            \n",
       "  A-MAP-MA000022-BR-RUS-a0009:R9662437 A-MAP-MA000023-BR-RUS-a0010:R9936070\n",
       "1  2.9536360                            3.216962                           \n",
       "2  2.3825140                            2.412797                           \n",
       "3 -0.7803478                           -3.581449                           \n",
       "  A-MAP-MA000030-BR-RUS-a0012:R6284795 A-MAP-MA000042-BR-RUS-a0017:R9116123 ⋯\n",
       "1  3.225216                             3.4314940                           ⋯\n",
       "2  2.645043                             2.6374291                           ⋯\n",
       "3 -3.135755                            -0.5761846                           ⋯\n",
       "  A-ROS-RS001027-BR-RUS-a1029:R9537646 A-ROS-RS001031-BR-RUS-a1080:R8920307\n",
       "1 3.261025                              3.059458                           \n",
       "2 2.287354                              2.332951                           \n",
       "3 2.380754                             -3.194276                           \n",
       "  A-ROS-RS001032-BR-RUS-a1086:R3633816 A-ROS-RS001035-BL-RUS-a1179:R3937593\n",
       "1 2.780965                              2.749360                           \n",
       "2 2.286456                              2.507909                           \n",
       "3 2.338656                             -2.830259                           \n",
       "  A-ROS-RS001037-BR-RUS-a1187:R3592818 A-ROS-RS001039-BR-RUS-a1195:R2830542\n",
       "1 3.424751                             3.571732                            \n",
       "2 2.329805                             2.178401                            \n",
       "3 2.223755                             2.264109                            \n",
       "  A-ROS-RS000244-BL-RUS-a0766:R7039412 A-ROS-RS000409-BL-RUS-a0877:R6253512\n",
       "1  2.929725                             2.850891                           \n",
       "2  2.513270                             2.118526                           \n",
       "3 -2.921097                            -2.944672                           \n",
       "  A-MAP-MA001193-BL-RUS-a0583:R3776872 A-ROS-RS000358-BL-RUS-a0836:R1020037\n",
       "1  2.756350                             2.9669315                          \n",
       "2  2.061728                             2.2492285                          \n",
       "3 -2.707986                            -0.5097687                          "
      ]
     },
     "metadata": {},
     "output_type": "display_data"
    }
   ],
   "source": [
    "no_overlap_no_missing = no_overlap %>%\n",
    "select(where(~ all(!is.na(.))))\n",
    "dim(no_overlap_no_missing)\n",
    "no_overlap_no_missing"
   ]
  },
  {
   "cell_type": "code",
   "execution_count": 36,
   "id": "041438e0-1470-4b55-80a2-4c0f43199d0d",
   "metadata": {},
   "outputs": [
    {
     "data": {
      "text/html": [
       "321"
      ],
      "text/latex": [
       "321"
      ],
      "text/markdown": [
       "321"
      ],
      "text/plain": [
       "[1] 321"
      ]
     },
     "metadata": {},
     "output_type": "display_data"
    },
    {
     "data": {
      "text/html": [
       "115"
      ],
      "text/latex": [
       "115"
      ],
      "text/markdown": [
       "115"
      ],
      "text/plain": [
       "[1] 115"
      ]
     },
     "metadata": {},
     "output_type": "display_data"
    },
    {
     "data": {
      "text/html": [
       "125"
      ],
      "text/latex": [
       "125"
      ],
      "text/markdown": [
       "125"
      ],
      "text/plain": [
       "[1] 125"
      ]
     },
     "metadata": {},
     "output_type": "display_data"
    },
    {
     "data": {
      "text/html": [
       "96"
      ],
      "text/latex": [
       "96"
      ],
      "text/markdown": [
       "96"
      ],
      "text/plain": [
       "[1] 96"
      ]
     },
     "metadata": {},
     "output_type": "display_data"
    }
   ],
   "source": [
    "rnaseq_methyl_intersect <- intersect(rosmap_rnaseq$V1, rosmap_methyl$V1)\n",
    "length(rnaseq_methyl_intersect)\n",
    "rnaseq_somoscan_intersect <- intersect(rosmap_rnaseq$V1, rosmap_somoscan$V1)\n",
    "length(rnaseq_somoscan_intersect)\n",
    "methyl_somoscan_intersect <- intersect(rosmap_methyl$V1, rosmap_somoscan$V1)\n",
    "length(methyl_somoscan_intersect)\n",
    "rnaseq_methyl_somoscan_intersect <- intersect(rnaseq_methyl_intersect, rosmap_somoscan$V1)\n",
    "length(rnaseq_methyl_somoscan_intersect)"
   ]
  },
  {
   "cell_type": "code",
   "execution_count": 41,
   "id": "1c93739e-931b-4994-8d1f-7b52d15cd252",
   "metadata": {},
   "outputs": [
    {
     "data": {
      "text/html": [
       "225"
      ],
      "text/latex": [
       "225"
      ],
      "text/markdown": [
       "225"
      ],
      "text/plain": [
       "[1] 225"
      ]
     },
     "metadata": {},
     "output_type": "display_data"
    },
    {
     "data": {
      "text/html": [
       "19"
      ],
      "text/latex": [
       "19"
      ],
      "text/markdown": [
       "19"
      ],
      "text/plain": [
       "[1] 19"
      ]
     },
     "metadata": {},
     "output_type": "display_data"
    },
    {
     "data": {
      "text/html": [
       "29"
      ],
      "text/latex": [
       "29"
      ],
      "text/markdown": [
       "29"
      ],
      "text/plain": [
       "[1] 29"
      ]
     },
     "metadata": {},
     "output_type": "display_data"
    }
   ],
   "source": [
    "rnaseq_methyl_intersect_only = rnaseq_methyl_intersect[!(rnaseq_methyl_intersect %in% rnaseq_methyl_somoscan_intersect)]\n",
    "length(rnaseq_methyl_intersect_only)\n",
    "rnaseq_somoscan_intersect_only = rnaseq_somoscan_intersect[!(rnaseq_somoscan_intersect %in% rnaseq_methyl_somoscan_intersect)]\n",
    "length(rnaseq_somoscan_intersect_only)\n",
    "methyl_somoscan_intersect_only = methyl_somoscan_intersect[!(methyl_somoscan_intersect %in% rnaseq_methyl_somoscan_intersect)]\n",
    "length(methyl_somoscan_intersect_only)"
   ]
  },
  {
   "cell_type": "code",
   "execution_count": 42,
   "id": "461435b7-fb02-4347-bdf7-1102d4cc9f96",
   "metadata": {},
   "outputs": [
    {
     "data": {
      "text/html": [
       "558"
      ],
      "text/latex": [
       "558"
      ],
      "text/markdown": [
       "558"
      ],
      "text/plain": [
       "[1] 558"
      ]
     },
     "metadata": {},
     "output_type": "display_data"
    },
    {
     "data": {
      "text/html": [
       "340"
      ],
      "text/latex": [
       "340"
      ],
      "text/markdown": [
       "340"
      ],
      "text/plain": [
       "[1] 340"
      ]
     },
     "metadata": {},
     "output_type": "display_data"
    },
    {
     "data": {
      "text/html": [
       "444"
      ],
      "text/latex": [
       "444"
      ],
      "text/markdown": [
       "444"
      ],
      "text/plain": [
       "[1] 444"
      ]
     },
     "metadata": {},
     "output_type": "display_data"
    },
    {
     "data": {
      "text/html": [
       "238"
      ],
      "text/latex": [
       "238"
      ],
      "text/markdown": [
       "238"
      ],
      "text/plain": [
       "[1] 238"
      ]
     },
     "metadata": {},
     "output_type": "display_data"
    },
    {
     "data": {
      "text/html": [
       "225"
      ],
      "text/latex": [
       "225"
      ],
      "text/markdown": [
       "225"
      ],
      "text/plain": [
       "[1] 225"
      ]
     },
     "metadata": {},
     "output_type": "display_data"
    },
    {
     "data": {
      "text/html": [
       "19"
      ],
      "text/latex": [
       "19"
      ],
      "text/markdown": [
       "19"
      ],
      "text/plain": [
       "[1] 19"
      ]
     },
     "metadata": {},
     "output_type": "display_data"
    },
    {
     "data": {
      "text/html": [
       "29"
      ],
      "text/latex": [
       "29"
      ],
      "text/markdown": [
       "29"
      ],
      "text/plain": [
       "[1] 29"
      ]
     },
     "metadata": {},
     "output_type": "display_data"
    },
    {
     "data": {
      "text/html": [
       "96"
      ],
      "text/latex": [
       "96"
      ],
      "text/markdown": [
       "96"
      ],
      "text/plain": [
       "[1] 96"
      ]
     },
     "metadata": {},
     "output_type": "display_data"
    }
   ],
   "source": [
    "length(colnames(no_overlap_no_missing))\n",
    "sum(colnames(no_overlap_no_missing) %in% rosmap_rnaseq$V1)\n",
    "sum(colnames(no_overlap_no_missing) %in% rosmap_methyl$V1)\n",
    "sum(colnames(no_overlap_no_missing) %in% rosmap_somoscan$V1)\n",
    "sum(colnames(no_overlap_no_missing) %in% rnaseq_methyl_intersect_only)\n",
    "sum(colnames(no_overlap_no_missing) %in% rnaseq_somoscan_intersect_only)\n",
    "sum(colnames(no_overlap_no_missing) %in% methyl_somoscan_intersect_only)\n",
    "sum(colnames(no_overlap_no_missing) %in% rnaseq_methyl_somoscan_intersect)"
   ]
  },
  {
   "cell_type": "code",
   "execution_count": 38,
   "id": "ec72009f-f63f-411b-ba41-3b2382d5385e",
   "metadata": {},
   "outputs": [
    {
     "data": {
      "text/html": [
       "369"
      ],
      "text/latex": [
       "369"
      ],
      "text/markdown": [
       "369"
      ],
      "text/plain": [
       "[1] 369"
      ]
     },
     "metadata": {},
     "output_type": "display_data"
    },
    {
     "data": {
      "text/html": [
       "444"
      ],
      "text/latex": [
       "444"
      ],
      "text/markdown": [
       "444"
      ],
      "text/plain": [
       "[1] 444"
      ]
     },
     "metadata": {},
     "output_type": "display_data"
    },
    {
     "data": {
      "text/html": [
       "238"
      ],
      "text/latex": [
       "238"
      ],
      "text/markdown": [
       "238"
      ],
      "text/plain": [
       "[1] 238"
      ]
     },
     "metadata": {},
     "output_type": "display_data"
    }
   ],
   "source": [
    "nrow(rosmap_rnaseq)\n",
    "nrow(rosmap_methyl)\n",
    "nrow(rosmap_somoscan)"
   ]
  },
  {
   "cell_type": "markdown",
   "id": "3ce631e8-9f5c-463e-a379-168c9632566a",
   "metadata": {},
   "source": [
    "# clean pheno file"
   ]
  },
  {
   "cell_type": "code",
   "execution_count": 132,
   "id": "1fdf2e0d-645e-4cb3-bc59-ceaa1c4bd737",
   "metadata": {},
   "outputs": [
    {
     "data": {
      "text/html": [
       "<style>\n",
       ".list-inline {list-style: none; margin:0; padding: 0}\n",
       ".list-inline>li {display: inline-block}\n",
       ".list-inline>li:not(:last-child)::after {content: \"\\00b7\"; padding: 0 .5ex}\n",
       "</style>\n",
       "<ol class=list-inline><li>'FID'</li><li>'IID'</li><li>'Sex'</li><li>'Age_harmonized'</li><li>'Age_baseline'</li><li>'APOE_reported'</li><li>'APOE_WGS'</li><li>'Braak'</li><li>'Race'</li><li>'Ethnicity'</li><li>'DX_harmonized'</li><li>'PC1'</li><li>'PC2'</li><li>'PC3'</li><li>'PC4'</li><li>'PC5'</li><li>'PC6'</li><li>'PC7'</li><li>'PC8'</li><li>'PC9'</li><li>'PC10'</li><li>'PC11'</li><li>'PC12'</li><li>'PC13'</li><li>'PC14'</li><li>'PC15'</li><li>'PC16'</li><li>'PC17'</li><li>'PC18'</li><li>'PC19'</li><li>'PC20'</li></ol>\n"
      ],
      "text/latex": [
       "\\begin{enumerate*}\n",
       "\\item 'FID'\n",
       "\\item 'IID'\n",
       "\\item 'Sex'\n",
       "\\item 'Age\\_harmonized'\n",
       "\\item 'Age\\_baseline'\n",
       "\\item 'APOE\\_reported'\n",
       "\\item 'APOE\\_WGS'\n",
       "\\item 'Braak'\n",
       "\\item 'Race'\n",
       "\\item 'Ethnicity'\n",
       "\\item 'DX\\_harmonized'\n",
       "\\item 'PC1'\n",
       "\\item 'PC2'\n",
       "\\item 'PC3'\n",
       "\\item 'PC4'\n",
       "\\item 'PC5'\n",
       "\\item 'PC6'\n",
       "\\item 'PC7'\n",
       "\\item 'PC8'\n",
       "\\item 'PC9'\n",
       "\\item 'PC10'\n",
       "\\item 'PC11'\n",
       "\\item 'PC12'\n",
       "\\item 'PC13'\n",
       "\\item 'PC14'\n",
       "\\item 'PC15'\n",
       "\\item 'PC16'\n",
       "\\item 'PC17'\n",
       "\\item 'PC18'\n",
       "\\item 'PC19'\n",
       "\\item 'PC20'\n",
       "\\end{enumerate*}\n"
      ],
      "text/markdown": [
       "1. 'FID'\n",
       "2. 'IID'\n",
       "3. 'Sex'\n",
       "4. 'Age_harmonized'\n",
       "5. 'Age_baseline'\n",
       "6. 'APOE_reported'\n",
       "7. 'APOE_WGS'\n",
       "8. 'Braak'\n",
       "9. 'Race'\n",
       "10. 'Ethnicity'\n",
       "11. 'DX_harmonized'\n",
       "12. 'PC1'\n",
       "13. 'PC2'\n",
       "14. 'PC3'\n",
       "15. 'PC4'\n",
       "16. 'PC5'\n",
       "17. 'PC6'\n",
       "18. 'PC7'\n",
       "19. 'PC8'\n",
       "20. 'PC9'\n",
       "21. 'PC10'\n",
       "22. 'PC11'\n",
       "23. 'PC12'\n",
       "24. 'PC13'\n",
       "25. 'PC14'\n",
       "26. 'PC15'\n",
       "27. 'PC16'\n",
       "28. 'PC17'\n",
       "29. 'PC18'\n",
       "30. 'PC19'\n",
       "31. 'PC20'\n",
       "\n",
       "\n"
      ],
      "text/plain": [
       " [1] \"FID\"            \"IID\"            \"Sex\"            \"Age_harmonized\"\n",
       " [5] \"Age_baseline\"   \"APOE_reported\"  \"APOE_WGS\"       \"Braak\"         \n",
       " [9] \"Race\"           \"Ethnicity\"      \"DX_harmonized\"  \"PC1\"           \n",
       "[13] \"PC2\"            \"PC3\"            \"PC4\"            \"PC5\"           \n",
       "[17] \"PC6\"            \"PC7\"            \"PC8\"            \"PC9\"           \n",
       "[21] \"PC10\"           \"PC11\"           \"PC12\"           \"PC13\"          \n",
       "[25] \"PC14\"           \"PC15\"           \"PC16\"           \"PC17\"          \n",
       "[29] \"PC18\"           \"PC19\"           \"PC20\"          "
      ]
     },
     "metadata": {},
     "output_type": "display_data"
    }
   ],
   "source": [
    "colnames(adsp_pheno)"
   ]
  },
  {
   "cell_type": "code",
   "execution_count": 133,
   "id": "e1d371f0-1987-4672-8f68-c9aef249c4c1",
   "metadata": {},
   "outputs": [
    {
     "data": {
      "text/html": [
       "<style>\n",
       ".list-inline {list-style: none; margin:0; padding: 0}\n",
       ".list-inline>li {display: inline-block}\n",
       ".list-inline>li:not(:last-child)::after {content: \"\\00b7\"; padding: 0 .5ex}\n",
       "</style>\n",
       "<ol class=list-inline><li>27265</li><li>9</li></ol>\n"
      ],
      "text/latex": [
       "\\begin{enumerate*}\n",
       "\\item 27265\n",
       "\\item 9\n",
       "\\end{enumerate*}\n"
      ],
      "text/markdown": [
       "1. 27265\n",
       "2. 9\n",
       "\n",
       "\n"
      ],
      "text/plain": [
       "[1] 27265     9"
      ]
     },
     "metadata": {},
     "output_type": "display_data"
    },
    {
     "data": {
      "text/html": [
       "<table class=\"dataframe\">\n",
       "<caption>A data.frame: 6 × 9</caption>\n",
       "<thead>\n",
       "\t<tr><th></th><th scope=col>SampleID</th><th scope=col>Sex</th><th scope=col>Age_harmonized</th><th scope=col>DX_harmonized</th><th scope=col>PC1</th><th scope=col>PC2</th><th scope=col>PC3</th><th scope=col>PC4</th><th scope=col>PC5</th></tr>\n",
       "\t<tr><th></th><th scope=col>&lt;chr&gt;</th><th scope=col>&lt;int&gt;</th><th scope=col>&lt;int&gt;</th><th scope=col>&lt;int&gt;</th><th scope=col>&lt;dbl&gt;</th><th scope=col>&lt;dbl&gt;</th><th scope=col>&lt;dbl&gt;</th><th scope=col>&lt;dbl&gt;</th><th scope=col>&lt;dbl&gt;</th></tr>\n",
       "</thead>\n",
       "<tbody>\n",
       "\t<tr><th scope=row>1</th><td>A-ACT-AC000014-BL-NCR-15AD78694</td><td>0</td><td>77</td><td>0</td><td>-0.0045</td><td>-0.0026</td><td>-4e-04</td><td>0.0016</td><td>-0.0036</td></tr>\n",
       "\t<tr><th scope=row>2</th><td>A-ACT-AC000034-BL-NCR-16AD84906</td><td>0</td><td>68</td><td>0</td><td>-0.0036</td><td>-0.0002</td><td> 2e-04</td><td>0.0036</td><td>-0.0089</td></tr>\n",
       "\t<tr><th scope=row>3</th><td>A-ACT-AC000057-BL-NCR-15AD78356</td><td>0</td><td>88</td><td>1</td><td>-0.0045</td><td>-0.0025</td><td>-5e-04</td><td>0.0008</td><td>-0.0038</td></tr>\n",
       "\t<tr><th scope=row>4</th><td>A-ACT-AC000072-BL-NCR-15AD77250</td><td>1</td><td>90</td><td>1</td><td>-0.0042</td><td>-0.0023</td><td> 1e-04</td><td>0.0010</td><td>-0.0066</td></tr>\n",
       "\t<tr><th scope=row>5</th><td>A-ACT-AC000088-BL-NCR-15AD76548</td><td>1</td><td>86</td><td>1</td><td>-0.0045</td><td>-0.0025</td><td>-5e-04</td><td>0.0008</td><td>-0.0044</td></tr>\n",
       "\t<tr><th scope=row>7</th><td>A-ACT-AC000092-BL-NCR-15AD78589</td><td>1</td><td>79</td><td>0</td><td>-0.0044</td><td>-0.0019</td><td> 0e+00</td><td>0.0016</td><td>-0.0050</td></tr>\n",
       "</tbody>\n",
       "</table>\n"
      ],
      "text/latex": [
       "A data.frame: 6 × 9\n",
       "\\begin{tabular}{r|lllllllll}\n",
       "  & SampleID & Sex & Age\\_harmonized & DX\\_harmonized & PC1 & PC2 & PC3 & PC4 & PC5\\\\\n",
       "  & <chr> & <int> & <int> & <int> & <dbl> & <dbl> & <dbl> & <dbl> & <dbl>\\\\\n",
       "\\hline\n",
       "\t1 & A-ACT-AC000014-BL-NCR-15AD78694 & 0 & 77 & 0 & -0.0045 & -0.0026 & -4e-04 & 0.0016 & -0.0036\\\\\n",
       "\t2 & A-ACT-AC000034-BL-NCR-16AD84906 & 0 & 68 & 0 & -0.0036 & -0.0002 &  2e-04 & 0.0036 & -0.0089\\\\\n",
       "\t3 & A-ACT-AC000057-BL-NCR-15AD78356 & 0 & 88 & 1 & -0.0045 & -0.0025 & -5e-04 & 0.0008 & -0.0038\\\\\n",
       "\t4 & A-ACT-AC000072-BL-NCR-15AD77250 & 1 & 90 & 1 & -0.0042 & -0.0023 &  1e-04 & 0.0010 & -0.0066\\\\\n",
       "\t5 & A-ACT-AC000088-BL-NCR-15AD76548 & 1 & 86 & 1 & -0.0045 & -0.0025 & -5e-04 & 0.0008 & -0.0044\\\\\n",
       "\t7 & A-ACT-AC000092-BL-NCR-15AD78589 & 1 & 79 & 0 & -0.0044 & -0.0019 &  0e+00 & 0.0016 & -0.0050\\\\\n",
       "\\end{tabular}\n"
      ],
      "text/markdown": [
       "\n",
       "A data.frame: 6 × 9\n",
       "\n",
       "| <!--/--> | SampleID &lt;chr&gt; | Sex &lt;int&gt; | Age_harmonized &lt;int&gt; | DX_harmonized &lt;int&gt; | PC1 &lt;dbl&gt; | PC2 &lt;dbl&gt; | PC3 &lt;dbl&gt; | PC4 &lt;dbl&gt; | PC5 &lt;dbl&gt; |\n",
       "|---|---|---|---|---|---|---|---|---|---|\n",
       "| 1 | A-ACT-AC000014-BL-NCR-15AD78694 | 0 | 77 | 0 | -0.0045 | -0.0026 | -4e-04 | 0.0016 | -0.0036 |\n",
       "| 2 | A-ACT-AC000034-BL-NCR-16AD84906 | 0 | 68 | 0 | -0.0036 | -0.0002 |  2e-04 | 0.0036 | -0.0089 |\n",
       "| 3 | A-ACT-AC000057-BL-NCR-15AD78356 | 0 | 88 | 1 | -0.0045 | -0.0025 | -5e-04 | 0.0008 | -0.0038 |\n",
       "| 4 | A-ACT-AC000072-BL-NCR-15AD77250 | 1 | 90 | 1 | -0.0042 | -0.0023 |  1e-04 | 0.0010 | -0.0066 |\n",
       "| 5 | A-ACT-AC000088-BL-NCR-15AD76548 | 1 | 86 | 1 | -0.0045 | -0.0025 | -5e-04 | 0.0008 | -0.0044 |\n",
       "| 7 | A-ACT-AC000092-BL-NCR-15AD78589 | 1 | 79 | 0 | -0.0044 | -0.0019 |  0e+00 | 0.0016 | -0.0050 |\n",
       "\n"
      ],
      "text/plain": [
       "  SampleID                        Sex Age_harmonized DX_harmonized PC1    \n",
       "1 A-ACT-AC000014-BL-NCR-15AD78694 0   77             0             -0.0045\n",
       "2 A-ACT-AC000034-BL-NCR-16AD84906 0   68             0             -0.0036\n",
       "3 A-ACT-AC000057-BL-NCR-15AD78356 0   88             1             -0.0045\n",
       "4 A-ACT-AC000072-BL-NCR-15AD77250 1   90             1             -0.0042\n",
       "5 A-ACT-AC000088-BL-NCR-15AD76548 1   86             1             -0.0045\n",
       "7 A-ACT-AC000092-BL-NCR-15AD78589 1   79             0             -0.0044\n",
       "  PC2     PC3    PC4    PC5    \n",
       "1 -0.0026 -4e-04 0.0016 -0.0036\n",
       "2 -0.0002  2e-04 0.0036 -0.0089\n",
       "3 -0.0025 -5e-04 0.0008 -0.0038\n",
       "4 -0.0023  1e-04 0.0010 -0.0066\n",
       "5 -0.0025 -5e-04 0.0008 -0.0044\n",
       "7 -0.0019  0e+00 0.0016 -0.0050"
      ]
     },
     "metadata": {},
     "output_type": "display_data"
    }
   ],
   "source": [
    "adsp_pheno_sub = adsp_pheno %>%\n",
    "select('IID', 'Sex', 'Age_harmonized', 'DX_harmonized', 'PC1', 'PC2', 'PC3', 'PC4', 'PC5') %>%\n",
    "rename('SampleID' = 'IID') %>%\n",
    "na.omit()\n",
    "dim(adsp_pheno_sub)\n",
    "head(adsp_pheno_sub)"
   ]
  },
  {
   "cell_type": "markdown",
   "id": "633d5f6f-7829-4d07-b48d-54b12bf62046",
   "metadata": {},
   "source": [
    "# transpose, create SampleID col, and merge w pheno"
   ]
  },
  {
   "cell_type": "code",
   "execution_count": 136,
   "id": "6c7e94f7-5dd6-4771-9e0d-1f745f018dd6",
   "metadata": {},
   "outputs": [
    {
     "data": {
      "text/html": [
       "<style>\n",
       ".list-inline {list-style: none; margin:0; padding: 0}\n",
       ".list-inline>li {display: inline-block}\n",
       ".list-inline>li:not(:last-child)::after {content: \"\\00b7\"; padding: 0 .5ex}\n",
       "</style>\n",
       "<ol class=list-inline><li>27265</li><li>2396</li></ol>\n"
      ],
      "text/latex": [
       "\\begin{enumerate*}\n",
       "\\item 27265\n",
       "\\item 2396\n",
       "\\end{enumerate*}\n"
      ],
      "text/markdown": [
       "1. 27265\n",
       "2. 2396\n",
       "\n",
       "\n"
      ],
      "text/plain": [
       "[1] 27265  2396"
      ]
     },
     "metadata": {},
     "output_type": "display_data"
    },
    {
     "data": {
      "text/html": [
       "<table class=\"dataframe\">\n",
       "<caption>A data.frame: 6 × 2396</caption>\n",
       "<thead>\n",
       "\t<tr><th></th><th scope=col>SampleID</th><th scope=col>individualID</th><th scope=col>ID</th><th scope=col>R-HSA-1059683</th><th scope=col>R-HSA-109581</th><th scope=col>R-HSA-109582</th><th scope=col>R-HSA-109606</th><th scope=col>R-HSA-109703</th><th scope=col>R-HSA-109704</th><th scope=col>R-HSA-110056</th><th scope=col>⋯</th><th scope=col>R-HSA-9937080</th><th scope=col>R-HSA-997272</th><th scope=col>Sex</th><th scope=col>Age_harmonized</th><th scope=col>DX_harmonized</th><th scope=col>PC1</th><th scope=col>PC2</th><th scope=col>PC3</th><th scope=col>PC4</th><th scope=col>PC5</th></tr>\n",
       "\t<tr><th></th><th scope=col>&lt;chr&gt;</th><th scope=col>&lt;chr&gt;</th><th scope=col>&lt;chr&gt;</th><th scope=col>&lt;chr&gt;</th><th scope=col>&lt;chr&gt;</th><th scope=col>&lt;chr&gt;</th><th scope=col>&lt;chr&gt;</th><th scope=col>&lt;chr&gt;</th><th scope=col>&lt;chr&gt;</th><th scope=col>&lt;chr&gt;</th><th scope=col>⋯</th><th scope=col>&lt;chr&gt;</th><th scope=col>&lt;chr&gt;</th><th scope=col>&lt;int&gt;</th><th scope=col>&lt;int&gt;</th><th scope=col>&lt;int&gt;</th><th scope=col>&lt;dbl&gt;</th><th scope=col>&lt;dbl&gt;</th><th scope=col>&lt;dbl&gt;</th><th scope=col>&lt;dbl&gt;</th><th scope=col>&lt;dbl&gt;</th></tr>\n",
       "</thead>\n",
       "<tbody>\n",
       "\t<tr><th scope=row>1</th><td>A-ACT-AC000014-BL-NCR-15AD78694</td><td>NA</td><td>A-ACT-AC000014-BL-NCR-15AD78694:NA</td><td>0.0057900219</td><td>0.0205313490</td><td>0.0168515047</td><td>0.0211205228</td><td>0.0000000000</td><td>0.0141735332</td><td>0.0151777667</td><td>⋯</td><td>0.0136588165</td><td>0.0116109364</td><td>0</td><td>77</td><td>0</td><td>-0.0045</td><td>-0.0026</td><td>-4e-04</td><td>0.0016</td><td>-0.0036</td></tr>\n",
       "\t<tr><th scope=row>2</th><td>A-ACT-AC000034-BL-NCR-16AD84906</td><td>NA</td><td>A-ACT-AC000034-BL-NCR-16AD84906:NA</td><td>0.0115632651</td><td>0.0179681971</td><td>0.0154634152</td><td>0.0201327367</td><td>0.0000000000</td><td>0.0128886832</td><td>0.0182895450</td><td>⋯</td><td>0.0136588165</td><td>0.0136789473</td><td>0</td><td>68</td><td>0</td><td>-0.0036</td><td>-0.0002</td><td> 2e-04</td><td>0.0036</td><td>-0.0089</td></tr>\n",
       "\t<tr><th scope=row>3</th><td>A-ACT-AC000057-BL-NCR-15AD78356</td><td>NA</td><td>A-ACT-AC000057-BL-NCR-15AD78356:NA</td><td>0.0076436376</td><td>0.0163809313</td><td>0.0163412462</td><td>0.0112474718</td><td>0.0000000000</td><td>0.0216821899</td><td>0.0080725574</td><td>⋯</td><td>0.0194377500</td><td>0.0161391594</td><td>0</td><td>88</td><td>1</td><td>-0.0045</td><td>-0.0025</td><td>-5e-04</td><td>0.0008</td><td>-0.0038</td></tr>\n",
       "\t<tr><th scope=row>4</th><td>A-ACT-AC000072-BL-NCR-15AD77250</td><td>NA</td><td>A-ACT-AC000072-BL-NCR-15AD77250:NA</td><td>0.0163203124</td><td>0.0201736105</td><td>0.0158771569</td><td>0.0138758905</td><td>0.0795343478</td><td>0.0213336607</td><td>0.0265606233</td><td>⋯</td><td>0.0019699500</td><td>0.0165577412</td><td>1</td><td>90</td><td>1</td><td>-0.0042</td><td>-0.0023</td><td> 1e-04</td><td>0.0010</td><td>-0.0066</td></tr>\n",
       "\t<tr><th scope=row>5</th><td>A-ACT-AC000088-BL-NCR-15AD76548</td><td>NA</td><td>A-ACT-AC000088-BL-NCR-15AD76548:NA</td><td>0.0119444165</td><td>0.0175144440</td><td>0.0160252292</td><td>0.0155444936</td><td>0.0000000000</td><td>0.0096891688</td><td>0.0145060102</td><td>⋯</td><td>0.0116888665</td><td>0.0121561019</td><td>1</td><td>86</td><td>1</td><td>-0.0045</td><td>-0.0025</td><td>-5e-04</td><td>0.0008</td><td>-0.0044</td></tr>\n",
       "\t<tr><th scope=row>6</th><td>A-ACT-AC000092-BL-NCR-15AD78589</td><td>NA</td><td>A-ACT-AC000092-BL-NCR-15AD78589:NA</td><td>0.0070775331</td><td>0.0177569710</td><td>0.0162128592</td><td>0.0171099384</td><td>0.0000000000</td><td>0.0148637191</td><td>0.0112552256</td><td>⋯</td><td>0.0019699500</td><td>0.0136842177</td><td>1</td><td>79</td><td>0</td><td>-0.0044</td><td>-0.0019</td><td> 0e+00</td><td>0.0016</td><td>-0.0050</td></tr>\n",
       "</tbody>\n",
       "</table>\n"
      ],
      "text/latex": [
       "A data.frame: 6 × 2396\n",
       "\\begin{tabular}{r|lllllllllllllllllllll}\n",
       "  & SampleID & individualID & ID & R-HSA-1059683 & R-HSA-109581 & R-HSA-109582 & R-HSA-109606 & R-HSA-109703 & R-HSA-109704 & R-HSA-110056 & ⋯ & R-HSA-9937080 & R-HSA-997272 & Sex & Age\\_harmonized & DX\\_harmonized & PC1 & PC2 & PC3 & PC4 & PC5\\\\\n",
       "  & <chr> & <chr> & <chr> & <chr> & <chr> & <chr> & <chr> & <chr> & <chr> & <chr> & ⋯ & <chr> & <chr> & <int> & <int> & <int> & <dbl> & <dbl> & <dbl> & <dbl> & <dbl>\\\\\n",
       "\\hline\n",
       "\t1 & A-ACT-AC000014-BL-NCR-15AD78694 & NA & A-ACT-AC000014-BL-NCR-15AD78694:NA & 0.0057900219 & 0.0205313490 & 0.0168515047 & 0.0211205228 & 0.0000000000 & 0.0141735332 & 0.0151777667 & ⋯ & 0.0136588165 & 0.0116109364 & 0 & 77 & 0 & -0.0045 & -0.0026 & -4e-04 & 0.0016 & -0.0036\\\\\n",
       "\t2 & A-ACT-AC000034-BL-NCR-16AD84906 & NA & A-ACT-AC000034-BL-NCR-16AD84906:NA & 0.0115632651 & 0.0179681971 & 0.0154634152 & 0.0201327367 & 0.0000000000 & 0.0128886832 & 0.0182895450 & ⋯ & 0.0136588165 & 0.0136789473 & 0 & 68 & 0 & -0.0036 & -0.0002 &  2e-04 & 0.0036 & -0.0089\\\\\n",
       "\t3 & A-ACT-AC000057-BL-NCR-15AD78356 & NA & A-ACT-AC000057-BL-NCR-15AD78356:NA & 0.0076436376 & 0.0163809313 & 0.0163412462 & 0.0112474718 & 0.0000000000 & 0.0216821899 & 0.0080725574 & ⋯ & 0.0194377500 & 0.0161391594 & 0 & 88 & 1 & -0.0045 & -0.0025 & -5e-04 & 0.0008 & -0.0038\\\\\n",
       "\t4 & A-ACT-AC000072-BL-NCR-15AD77250 & NA & A-ACT-AC000072-BL-NCR-15AD77250:NA & 0.0163203124 & 0.0201736105 & 0.0158771569 & 0.0138758905 & 0.0795343478 & 0.0213336607 & 0.0265606233 & ⋯ & 0.0019699500 & 0.0165577412 & 1 & 90 & 1 & -0.0042 & -0.0023 &  1e-04 & 0.0010 & -0.0066\\\\\n",
       "\t5 & A-ACT-AC000088-BL-NCR-15AD76548 & NA & A-ACT-AC000088-BL-NCR-15AD76548:NA & 0.0119444165 & 0.0175144440 & 0.0160252292 & 0.0155444936 & 0.0000000000 & 0.0096891688 & 0.0145060102 & ⋯ & 0.0116888665 & 0.0121561019 & 1 & 86 & 1 & -0.0045 & -0.0025 & -5e-04 & 0.0008 & -0.0044\\\\\n",
       "\t6 & A-ACT-AC000092-BL-NCR-15AD78589 & NA & A-ACT-AC000092-BL-NCR-15AD78589:NA & 0.0070775331 & 0.0177569710 & 0.0162128592 & 0.0171099384 & 0.0000000000 & 0.0148637191 & 0.0112552256 & ⋯ & 0.0019699500 & 0.0136842177 & 1 & 79 & 0 & -0.0044 & -0.0019 &  0e+00 & 0.0016 & -0.0050\\\\\n",
       "\\end{tabular}\n"
      ],
      "text/markdown": [
       "\n",
       "A data.frame: 6 × 2396\n",
       "\n",
       "| <!--/--> | SampleID &lt;chr&gt; | individualID &lt;chr&gt; | ID &lt;chr&gt; | R-HSA-1059683 &lt;chr&gt; | R-HSA-109581 &lt;chr&gt; | R-HSA-109582 &lt;chr&gt; | R-HSA-109606 &lt;chr&gt; | R-HSA-109703 &lt;chr&gt; | R-HSA-109704 &lt;chr&gt; | R-HSA-110056 &lt;chr&gt; | ⋯ ⋯ | R-HSA-9937080 &lt;chr&gt; | R-HSA-997272 &lt;chr&gt; | Sex &lt;int&gt; | Age_harmonized &lt;int&gt; | DX_harmonized &lt;int&gt; | PC1 &lt;dbl&gt; | PC2 &lt;dbl&gt; | PC3 &lt;dbl&gt; | PC4 &lt;dbl&gt; | PC5 &lt;dbl&gt; |\n",
       "|---|---|---|---|---|---|---|---|---|---|---|---|---|---|---|---|---|---|---|---|---|---|\n",
       "| 1 | A-ACT-AC000014-BL-NCR-15AD78694 | NA | A-ACT-AC000014-BL-NCR-15AD78694:NA | 0.0057900219 | 0.0205313490 | 0.0168515047 | 0.0211205228 | 0.0000000000 | 0.0141735332 | 0.0151777667 | ⋯ | 0.0136588165 | 0.0116109364 | 0 | 77 | 0 | -0.0045 | -0.0026 | -4e-04 | 0.0016 | -0.0036 |\n",
       "| 2 | A-ACT-AC000034-BL-NCR-16AD84906 | NA | A-ACT-AC000034-BL-NCR-16AD84906:NA | 0.0115632651 | 0.0179681971 | 0.0154634152 | 0.0201327367 | 0.0000000000 | 0.0128886832 | 0.0182895450 | ⋯ | 0.0136588165 | 0.0136789473 | 0 | 68 | 0 | -0.0036 | -0.0002 |  2e-04 | 0.0036 | -0.0089 |\n",
       "| 3 | A-ACT-AC000057-BL-NCR-15AD78356 | NA | A-ACT-AC000057-BL-NCR-15AD78356:NA | 0.0076436376 | 0.0163809313 | 0.0163412462 | 0.0112474718 | 0.0000000000 | 0.0216821899 | 0.0080725574 | ⋯ | 0.0194377500 | 0.0161391594 | 0 | 88 | 1 | -0.0045 | -0.0025 | -5e-04 | 0.0008 | -0.0038 |\n",
       "| 4 | A-ACT-AC000072-BL-NCR-15AD77250 | NA | A-ACT-AC000072-BL-NCR-15AD77250:NA | 0.0163203124 | 0.0201736105 | 0.0158771569 | 0.0138758905 | 0.0795343478 | 0.0213336607 | 0.0265606233 | ⋯ | 0.0019699500 | 0.0165577412 | 1 | 90 | 1 | -0.0042 | -0.0023 |  1e-04 | 0.0010 | -0.0066 |\n",
       "| 5 | A-ACT-AC000088-BL-NCR-15AD76548 | NA | A-ACT-AC000088-BL-NCR-15AD76548:NA | 0.0119444165 | 0.0175144440 | 0.0160252292 | 0.0155444936 | 0.0000000000 | 0.0096891688 | 0.0145060102 | ⋯ | 0.0116888665 | 0.0121561019 | 1 | 86 | 1 | -0.0045 | -0.0025 | -5e-04 | 0.0008 | -0.0044 |\n",
       "| 6 | A-ACT-AC000092-BL-NCR-15AD78589 | NA | A-ACT-AC000092-BL-NCR-15AD78589:NA | 0.0070775331 | 0.0177569710 | 0.0162128592 | 0.0171099384 | 0.0000000000 | 0.0148637191 | 0.0112552256 | ⋯ | 0.0019699500 | 0.0136842177 | 1 | 79 | 0 | -0.0044 | -0.0019 |  0e+00 | 0.0016 | -0.0050 |\n",
       "\n"
      ],
      "text/plain": [
       "  SampleID                        individualID\n",
       "1 A-ACT-AC000014-BL-NCR-15AD78694 NA          \n",
       "2 A-ACT-AC000034-BL-NCR-16AD84906 NA          \n",
       "3 A-ACT-AC000057-BL-NCR-15AD78356 NA          \n",
       "4 A-ACT-AC000072-BL-NCR-15AD77250 NA          \n",
       "5 A-ACT-AC000088-BL-NCR-15AD76548 NA          \n",
       "6 A-ACT-AC000092-BL-NCR-15AD78589 NA          \n",
       "  ID                                 R-HSA-1059683 R-HSA-109581 R-HSA-109582\n",
       "1 A-ACT-AC000014-BL-NCR-15AD78694:NA 0.0057900219  0.0205313490 0.0168515047\n",
       "2 A-ACT-AC000034-BL-NCR-16AD84906:NA 0.0115632651  0.0179681971 0.0154634152\n",
       "3 A-ACT-AC000057-BL-NCR-15AD78356:NA 0.0076436376  0.0163809313 0.0163412462\n",
       "4 A-ACT-AC000072-BL-NCR-15AD77250:NA 0.0163203124  0.0201736105 0.0158771569\n",
       "5 A-ACT-AC000088-BL-NCR-15AD76548:NA 0.0119444165  0.0175144440 0.0160252292\n",
       "6 A-ACT-AC000092-BL-NCR-15AD78589:NA 0.0070775331  0.0177569710 0.0162128592\n",
       "  R-HSA-109606 R-HSA-109703 R-HSA-109704 R-HSA-110056 ⋯ R-HSA-9937080\n",
       "1 0.0211205228 0.0000000000 0.0141735332 0.0151777667 ⋯ 0.0136588165 \n",
       "2 0.0201327367 0.0000000000 0.0128886832 0.0182895450 ⋯ 0.0136588165 \n",
       "3 0.0112474718 0.0000000000 0.0216821899 0.0080725574 ⋯ 0.0194377500 \n",
       "4 0.0138758905 0.0795343478 0.0213336607 0.0265606233 ⋯ 0.0019699500 \n",
       "5 0.0155444936 0.0000000000 0.0096891688 0.0145060102 ⋯ 0.0116888665 \n",
       "6 0.0171099384 0.0000000000 0.0148637191 0.0112552256 ⋯ 0.0019699500 \n",
       "  R-HSA-997272 Sex Age_harmonized DX_harmonized PC1     PC2     PC3    PC4   \n",
       "1 0.0116109364 0   77             0             -0.0045 -0.0026 -4e-04 0.0016\n",
       "2 0.0136789473 0   68             0             -0.0036 -0.0002  2e-04 0.0036\n",
       "3 0.0161391594 0   88             1             -0.0045 -0.0025 -5e-04 0.0008\n",
       "4 0.0165577412 1   90             1             -0.0042 -0.0023  1e-04 0.0010\n",
       "5 0.0121561019 1   86             1             -0.0045 -0.0025 -5e-04 0.0008\n",
       "6 0.0136842177 1   79             0             -0.0044 -0.0019  0e+00 0.0016\n",
       "  PC5    \n",
       "1 -0.0036\n",
       "2 -0.0089\n",
       "3 -0.0038\n",
       "4 -0.0066\n",
       "5 -0.0044\n",
       "6 -0.0050"
      ]
     },
     "metadata": {},
     "output_type": "display_data"
    }
   ],
   "source": [
    "avg_pathway_transpose = data.frame(t(na.omit(avg_pathway)))\n",
    "colnames(avg_pathway_transpose) <- avg_pathway_transpose[1, ]\n",
    "avg_pathway_transpose <- avg_pathway_transpose[-1, ]\n",
    "avg_pathway_merge = avg_pathway_transpose %>%\n",
    "mutate(ID = rownames(avg_pathway_transpose)) %>%\n",
    "separate(ID, into = c(\"SampleID\", \"individualID\"), sep = \":\", remove = FALSE) %>%\n",
    "relocate(c(SampleID, individualID, ID), .before = everything()) %>%\n",
    "inner_join(adsp_pheno_sub, by = 'SampleID')\n",
    "dim(avg_pathway_merge)\n",
    "head(avg_pathway_merge)"
   ]
  },
  {
   "cell_type": "code",
   "execution_count": 137,
   "id": "40bba830-a244-4a39-a3a2-336ce29b520d",
   "metadata": {},
   "outputs": [
    {
     "data": {
      "text/html": [
       "<style>\n",
       ".list-inline {list-style: none; margin:0; padding: 0}\n",
       ".list-inline>li {display: inline-block}\n",
       ".list-inline>li:not(:last-child)::after {content: \"\\00b7\"; padding: 0 .5ex}\n",
       "</style>\n",
       "<ol class=list-inline><li>27266</li><li>2292</li></ol>\n"
      ],
      "text/latex": [
       "\\begin{enumerate*}\n",
       "\\item 27266\n",
       "\\item 2292\n",
       "\\end{enumerate*}\n"
      ],
      "text/markdown": [
       "1. 27266\n",
       "2. 2292\n",
       "\n",
       "\n"
      ],
      "text/plain": [
       "[1] 27266  2292"
      ]
     },
     "metadata": {},
     "output_type": "display_data"
    },
    {
     "data": {
      "text/html": [
       "<table class=\"dataframe\">\n",
       "<caption>A data.frame: 6 × 2292</caption>\n",
       "<thead>\n",
       "\t<tr><th></th><th scope=col>SampleID</th><th scope=col>individualID</th><th scope=col>ID</th><th scope=col>R-HSA-1059683</th><th scope=col>R-HSA-109581</th><th scope=col>R-HSA-109582</th><th scope=col>R-HSA-109606</th><th scope=col>R-HSA-109703</th><th scope=col>R-HSA-109704</th><th scope=col>R-HSA-110056</th><th scope=col>⋯</th><th scope=col>R-HSA-9937080</th><th scope=col>R-HSA-997272</th><th scope=col>Sex</th><th scope=col>Age_harmonized</th><th scope=col>DX_harmonized</th><th scope=col>PC1</th><th scope=col>PC2</th><th scope=col>PC3</th><th scope=col>PC4</th><th scope=col>PC5</th></tr>\n",
       "\t<tr><th></th><th scope=col>&lt;chr&gt;</th><th scope=col>&lt;chr&gt;</th><th scope=col>&lt;chr&gt;</th><th scope=col>&lt;chr&gt;</th><th scope=col>&lt;chr&gt;</th><th scope=col>&lt;chr&gt;</th><th scope=col>&lt;chr&gt;</th><th scope=col>&lt;chr&gt;</th><th scope=col>&lt;chr&gt;</th><th scope=col>&lt;chr&gt;</th><th scope=col>⋯</th><th scope=col>&lt;chr&gt;</th><th scope=col>&lt;chr&gt;</th><th scope=col>&lt;int&gt;</th><th scope=col>&lt;int&gt;</th><th scope=col>&lt;int&gt;</th><th scope=col>&lt;dbl&gt;</th><th scope=col>&lt;dbl&gt;</th><th scope=col>&lt;dbl&gt;</th><th scope=col>&lt;dbl&gt;</th><th scope=col>&lt;dbl&gt;</th></tr>\n",
       "</thead>\n",
       "<tbody>\n",
       "\t<tr><th scope=row>1</th><td>A-ACT-AC000014-BL-NCR-15AD78694</td><td>NA</td><td>A-ACT-AC000014-BL-NCR-15AD78694:NA</td><td>0.0057900219</td><td>0.0205313490</td><td>0.0168515047</td><td>0.0211205228</td><td>0.0000000000</td><td>0.0141735332</td><td>0.0151777667</td><td>⋯</td><td>0.0136588165</td><td>0.0116109364</td><td>0</td><td>77</td><td>0</td><td>-0.0045</td><td>-0.0026</td><td>-4e-04</td><td>0.0016</td><td>-0.0036</td></tr>\n",
       "\t<tr><th scope=row>2</th><td>A-ACT-AC000034-BL-NCR-16AD84906</td><td>NA</td><td>A-ACT-AC000034-BL-NCR-16AD84906:NA</td><td>0.0115632651</td><td>0.0179681971</td><td>0.0154634152</td><td>0.0201327367</td><td>0.0000000000</td><td>0.0128886832</td><td>0.0182895450</td><td>⋯</td><td>0.0136588165</td><td>0.0136789473</td><td>0</td><td>68</td><td>0</td><td>-0.0036</td><td>-0.0002</td><td> 2e-04</td><td>0.0036</td><td>-0.0089</td></tr>\n",
       "\t<tr><th scope=row>3</th><td>A-ACT-AC000057-BL-NCR-15AD78356</td><td>NA</td><td>A-ACT-AC000057-BL-NCR-15AD78356:NA</td><td>0.0076436376</td><td>0.0163809313</td><td>0.0163412462</td><td>0.0112474718</td><td>0.0000000000</td><td>0.0216821899</td><td>0.0080725574</td><td>⋯</td><td>0.0194377500</td><td>0.0161391594</td><td>0</td><td>88</td><td>1</td><td>-0.0045</td><td>-0.0025</td><td>-5e-04</td><td>0.0008</td><td>-0.0038</td></tr>\n",
       "\t<tr><th scope=row>4</th><td>A-ACT-AC000072-BL-NCR-15AD77250</td><td>NA</td><td>A-ACT-AC000072-BL-NCR-15AD77250:NA</td><td>0.0163203124</td><td>0.0201736105</td><td>0.0158771569</td><td>0.0138758905</td><td>0.0795343478</td><td>0.0213336607</td><td>0.0265606233</td><td>⋯</td><td>0.0019699500</td><td>0.0165577412</td><td>1</td><td>90</td><td>1</td><td>-0.0042</td><td>-0.0023</td><td> 1e-04</td><td>0.0010</td><td>-0.0066</td></tr>\n",
       "\t<tr><th scope=row>5</th><td>A-ACT-AC000088-BL-NCR-15AD76548</td><td>NA</td><td>A-ACT-AC000088-BL-NCR-15AD76548:NA</td><td>0.0119444165</td><td>0.0175144440</td><td>0.0160252292</td><td>0.0155444936</td><td>0.0000000000</td><td>0.0096891688</td><td>0.0145060102</td><td>⋯</td><td>0.0116888665</td><td>0.0121561019</td><td>1</td><td>86</td><td>1</td><td>-0.0045</td><td>-0.0025</td><td>-5e-04</td><td>0.0008</td><td>-0.0044</td></tr>\n",
       "\t<tr><th scope=row>6</th><td>A-ACT-AC000092-BL-NCR-15AD78589</td><td>NA</td><td>A-ACT-AC000092-BL-NCR-15AD78589:NA</td><td>0.0070775331</td><td>0.0177569710</td><td>0.0162128592</td><td>0.0171099384</td><td>0.0000000000</td><td>0.0148637191</td><td>0.0112552256</td><td>⋯</td><td>0.0019699500</td><td>0.0136842177</td><td>1</td><td>79</td><td>0</td><td>-0.0044</td><td>-0.0019</td><td> 0e+00</td><td>0.0016</td><td>-0.0050</td></tr>\n",
       "</tbody>\n",
       "</table>\n"
      ],
      "text/latex": [
       "A data.frame: 6 × 2292\n",
       "\\begin{tabular}{r|lllllllllllllllllllll}\n",
       "  & SampleID & individualID & ID & R-HSA-1059683 & R-HSA-109581 & R-HSA-109582 & R-HSA-109606 & R-HSA-109703 & R-HSA-109704 & R-HSA-110056 & ⋯ & R-HSA-9937080 & R-HSA-997272 & Sex & Age\\_harmonized & DX\\_harmonized & PC1 & PC2 & PC3 & PC4 & PC5\\\\\n",
       "  & <chr> & <chr> & <chr> & <chr> & <chr> & <chr> & <chr> & <chr> & <chr> & <chr> & ⋯ & <chr> & <chr> & <int> & <int> & <int> & <dbl> & <dbl> & <dbl> & <dbl> & <dbl>\\\\\n",
       "\\hline\n",
       "\t1 & A-ACT-AC000014-BL-NCR-15AD78694 & NA & A-ACT-AC000014-BL-NCR-15AD78694:NA & 0.0057900219 & 0.0205313490 & 0.0168515047 & 0.0211205228 & 0.0000000000 & 0.0141735332 & 0.0151777667 & ⋯ & 0.0136588165 & 0.0116109364 & 0 & 77 & 0 & -0.0045 & -0.0026 & -4e-04 & 0.0016 & -0.0036\\\\\n",
       "\t2 & A-ACT-AC000034-BL-NCR-16AD84906 & NA & A-ACT-AC000034-BL-NCR-16AD84906:NA & 0.0115632651 & 0.0179681971 & 0.0154634152 & 0.0201327367 & 0.0000000000 & 0.0128886832 & 0.0182895450 & ⋯ & 0.0136588165 & 0.0136789473 & 0 & 68 & 0 & -0.0036 & -0.0002 &  2e-04 & 0.0036 & -0.0089\\\\\n",
       "\t3 & A-ACT-AC000057-BL-NCR-15AD78356 & NA & A-ACT-AC000057-BL-NCR-15AD78356:NA & 0.0076436376 & 0.0163809313 & 0.0163412462 & 0.0112474718 & 0.0000000000 & 0.0216821899 & 0.0080725574 & ⋯ & 0.0194377500 & 0.0161391594 & 0 & 88 & 1 & -0.0045 & -0.0025 & -5e-04 & 0.0008 & -0.0038\\\\\n",
       "\t4 & A-ACT-AC000072-BL-NCR-15AD77250 & NA & A-ACT-AC000072-BL-NCR-15AD77250:NA & 0.0163203124 & 0.0201736105 & 0.0158771569 & 0.0138758905 & 0.0795343478 & 0.0213336607 & 0.0265606233 & ⋯ & 0.0019699500 & 0.0165577412 & 1 & 90 & 1 & -0.0042 & -0.0023 &  1e-04 & 0.0010 & -0.0066\\\\\n",
       "\t5 & A-ACT-AC000088-BL-NCR-15AD76548 & NA & A-ACT-AC000088-BL-NCR-15AD76548:NA & 0.0119444165 & 0.0175144440 & 0.0160252292 & 0.0155444936 & 0.0000000000 & 0.0096891688 & 0.0145060102 & ⋯ & 0.0116888665 & 0.0121561019 & 1 & 86 & 1 & -0.0045 & -0.0025 & -5e-04 & 0.0008 & -0.0044\\\\\n",
       "\t6 & A-ACT-AC000092-BL-NCR-15AD78589 & NA & A-ACT-AC000092-BL-NCR-15AD78589:NA & 0.0070775331 & 0.0177569710 & 0.0162128592 & 0.0171099384 & 0.0000000000 & 0.0148637191 & 0.0112552256 & ⋯ & 0.0019699500 & 0.0136842177 & 1 & 79 & 0 & -0.0044 & -0.0019 &  0e+00 & 0.0016 & -0.0050\\\\\n",
       "\\end{tabular}\n"
      ],
      "text/markdown": [
       "\n",
       "A data.frame: 6 × 2292\n",
       "\n",
       "| <!--/--> | SampleID &lt;chr&gt; | individualID &lt;chr&gt; | ID &lt;chr&gt; | R-HSA-1059683 &lt;chr&gt; | R-HSA-109581 &lt;chr&gt; | R-HSA-109582 &lt;chr&gt; | R-HSA-109606 &lt;chr&gt; | R-HSA-109703 &lt;chr&gt; | R-HSA-109704 &lt;chr&gt; | R-HSA-110056 &lt;chr&gt; | ⋯ ⋯ | R-HSA-9937080 &lt;chr&gt; | R-HSA-997272 &lt;chr&gt; | Sex &lt;int&gt; | Age_harmonized &lt;int&gt; | DX_harmonized &lt;int&gt; | PC1 &lt;dbl&gt; | PC2 &lt;dbl&gt; | PC3 &lt;dbl&gt; | PC4 &lt;dbl&gt; | PC5 &lt;dbl&gt; |\n",
       "|---|---|---|---|---|---|---|---|---|---|---|---|---|---|---|---|---|---|---|---|---|---|\n",
       "| 1 | A-ACT-AC000014-BL-NCR-15AD78694 | NA | A-ACT-AC000014-BL-NCR-15AD78694:NA | 0.0057900219 | 0.0205313490 | 0.0168515047 | 0.0211205228 | 0.0000000000 | 0.0141735332 | 0.0151777667 | ⋯ | 0.0136588165 | 0.0116109364 | 0 | 77 | 0 | -0.0045 | -0.0026 | -4e-04 | 0.0016 | -0.0036 |\n",
       "| 2 | A-ACT-AC000034-BL-NCR-16AD84906 | NA | A-ACT-AC000034-BL-NCR-16AD84906:NA | 0.0115632651 | 0.0179681971 | 0.0154634152 | 0.0201327367 | 0.0000000000 | 0.0128886832 | 0.0182895450 | ⋯ | 0.0136588165 | 0.0136789473 | 0 | 68 | 0 | -0.0036 | -0.0002 |  2e-04 | 0.0036 | -0.0089 |\n",
       "| 3 | A-ACT-AC000057-BL-NCR-15AD78356 | NA | A-ACT-AC000057-BL-NCR-15AD78356:NA | 0.0076436376 | 0.0163809313 | 0.0163412462 | 0.0112474718 | 0.0000000000 | 0.0216821899 | 0.0080725574 | ⋯ | 0.0194377500 | 0.0161391594 | 0 | 88 | 1 | -0.0045 | -0.0025 | -5e-04 | 0.0008 | -0.0038 |\n",
       "| 4 | A-ACT-AC000072-BL-NCR-15AD77250 | NA | A-ACT-AC000072-BL-NCR-15AD77250:NA | 0.0163203124 | 0.0201736105 | 0.0158771569 | 0.0138758905 | 0.0795343478 | 0.0213336607 | 0.0265606233 | ⋯ | 0.0019699500 | 0.0165577412 | 1 | 90 | 1 | -0.0042 | -0.0023 |  1e-04 | 0.0010 | -0.0066 |\n",
       "| 5 | A-ACT-AC000088-BL-NCR-15AD76548 | NA | A-ACT-AC000088-BL-NCR-15AD76548:NA | 0.0119444165 | 0.0175144440 | 0.0160252292 | 0.0155444936 | 0.0000000000 | 0.0096891688 | 0.0145060102 | ⋯ | 0.0116888665 | 0.0121561019 | 1 | 86 | 1 | -0.0045 | -0.0025 | -5e-04 | 0.0008 | -0.0044 |\n",
       "| 6 | A-ACT-AC000092-BL-NCR-15AD78589 | NA | A-ACT-AC000092-BL-NCR-15AD78589:NA | 0.0070775331 | 0.0177569710 | 0.0162128592 | 0.0171099384 | 0.0000000000 | 0.0148637191 | 0.0112552256 | ⋯ | 0.0019699500 | 0.0136842177 | 1 | 79 | 0 | -0.0044 | -0.0019 |  0e+00 | 0.0016 | -0.0050 |\n",
       "\n"
      ],
      "text/plain": [
       "  SampleID                        individualID\n",
       "1 A-ACT-AC000014-BL-NCR-15AD78694 NA          \n",
       "2 A-ACT-AC000034-BL-NCR-16AD84906 NA          \n",
       "3 A-ACT-AC000057-BL-NCR-15AD78356 NA          \n",
       "4 A-ACT-AC000072-BL-NCR-15AD77250 NA          \n",
       "5 A-ACT-AC000088-BL-NCR-15AD76548 NA          \n",
       "6 A-ACT-AC000092-BL-NCR-15AD78589 NA          \n",
       "  ID                                 R-HSA-1059683 R-HSA-109581 R-HSA-109582\n",
       "1 A-ACT-AC000014-BL-NCR-15AD78694:NA 0.0057900219  0.0205313490 0.0168515047\n",
       "2 A-ACT-AC000034-BL-NCR-16AD84906:NA 0.0115632651  0.0179681971 0.0154634152\n",
       "3 A-ACT-AC000057-BL-NCR-15AD78356:NA 0.0076436376  0.0163809313 0.0163412462\n",
       "4 A-ACT-AC000072-BL-NCR-15AD77250:NA 0.0163203124  0.0201736105 0.0158771569\n",
       "5 A-ACT-AC000088-BL-NCR-15AD76548:NA 0.0119444165  0.0175144440 0.0160252292\n",
       "6 A-ACT-AC000092-BL-NCR-15AD78589:NA 0.0070775331  0.0177569710 0.0162128592\n",
       "  R-HSA-109606 R-HSA-109703 R-HSA-109704 R-HSA-110056 ⋯ R-HSA-9937080\n",
       "1 0.0211205228 0.0000000000 0.0141735332 0.0151777667 ⋯ 0.0136588165 \n",
       "2 0.0201327367 0.0000000000 0.0128886832 0.0182895450 ⋯ 0.0136588165 \n",
       "3 0.0112474718 0.0000000000 0.0216821899 0.0080725574 ⋯ 0.0194377500 \n",
       "4 0.0138758905 0.0795343478 0.0213336607 0.0265606233 ⋯ 0.0019699500 \n",
       "5 0.0155444936 0.0000000000 0.0096891688 0.0145060102 ⋯ 0.0116888665 \n",
       "6 0.0171099384 0.0000000000 0.0148637191 0.0112552256 ⋯ 0.0019699500 \n",
       "  R-HSA-997272 Sex Age_harmonized DX_harmonized PC1     PC2     PC3    PC4   \n",
       "1 0.0116109364 0   77             0             -0.0045 -0.0026 -4e-04 0.0016\n",
       "2 0.0136789473 0   68             0             -0.0036 -0.0002  2e-04 0.0036\n",
       "3 0.0161391594 0   88             1             -0.0045 -0.0025 -5e-04 0.0008\n",
       "4 0.0165577412 1   90             1             -0.0042 -0.0023  1e-04 0.0010\n",
       "5 0.0121561019 1   86             1             -0.0045 -0.0025 -5e-04 0.0008\n",
       "6 0.0136842177 1   79             0             -0.0044 -0.0019  0e+00 0.0016\n",
       "  PC5    \n",
       "1 -0.0036\n",
       "2 -0.0089\n",
       "3 -0.0038\n",
       "4 -0.0066\n",
       "5 -0.0044\n",
       "6 -0.0050"
      ]
     },
     "metadata": {},
     "output_type": "display_data"
    }
   ],
   "source": [
    "avg_pathway_msbb_transpose = data.frame(t(na.omit(avg_pathway_msbb)))\n",
    "colnames(avg_pathway_msbb_transpose) <- avg_pathway_msbb_transpose[1, ]\n",
    "avg_pathway_msbb_transpose <- avg_pathway_msbb_transpose[-1, ]\n",
    "avg_pathway_msbb_merge = avg_pathway_msbb_transpose %>%\n",
    "mutate(ID = rownames(avg_pathway_msbb_transpose)) %>%\n",
    "separate(ID, into = c(\"SampleID\", \"individualID\"), sep = \":\", remove = FALSE) %>%\n",
    "relocate(c(SampleID, individualID, ID), .before = everything()) %>%\n",
    "inner_join(adsp_pheno_sub, by = 'SampleID')\n",
    "dim(avg_pathway_msbb_merge)\n",
    "head(avg_pathway_msbb_merge)"
   ]
  },
  {
   "cell_type": "code",
   "execution_count": 139,
   "id": "611fb1a1-cdf3-4f7d-8bd7-78059fbe08bb",
   "metadata": {},
   "outputs": [
    {
     "data": {
      "text/html": [
       "<style>\n",
       ".list-inline {list-style: none; margin:0; padding: 0}\n",
       ".list-inline>li {display: inline-block}\n",
       ".list-inline>li:not(:last-child)::after {content: \"\\00b7\"; padding: 0 .5ex}\n",
       "</style>\n",
       "<ol class=list-inline><li>27265</li><li>2396</li></ol>\n"
      ],
      "text/latex": [
       "\\begin{enumerate*}\n",
       "\\item 27265\n",
       "\\item 2396\n",
       "\\end{enumerate*}\n"
      ],
      "text/markdown": [
       "1. 27265\n",
       "2. 2396\n",
       "\n",
       "\n"
      ],
      "text/plain": [
       "[1] 27265  2396"
      ]
     },
     "metadata": {},
     "output_type": "display_data"
    },
    {
     "data": {
      "text/html": [
       "<table class=\"dataframe\">\n",
       "<caption>A data.frame: 6 × 2396</caption>\n",
       "<thead>\n",
       "\t<tr><th></th><th scope=col>SampleID</th><th scope=col>individualID</th><th scope=col>ID</th><th scope=col>R-HSA-1059683</th><th scope=col>R-HSA-109581</th><th scope=col>R-HSA-109582</th><th scope=col>R-HSA-109606</th><th scope=col>R-HSA-109703</th><th scope=col>R-HSA-109704</th><th scope=col>R-HSA-110056</th><th scope=col>⋯</th><th scope=col>R-HSA-9937080</th><th scope=col>R-HSA-997272</th><th scope=col>Sex</th><th scope=col>Age_harmonized</th><th scope=col>DX_harmonized</th><th scope=col>PC1</th><th scope=col>PC2</th><th scope=col>PC3</th><th scope=col>PC4</th><th scope=col>PC5</th></tr>\n",
       "\t<tr><th></th><th scope=col>&lt;chr&gt;</th><th scope=col>&lt;chr&gt;</th><th scope=col>&lt;chr&gt;</th><th scope=col>&lt;chr&gt;</th><th scope=col>&lt;chr&gt;</th><th scope=col>&lt;chr&gt;</th><th scope=col>&lt;chr&gt;</th><th scope=col>&lt;chr&gt;</th><th scope=col>&lt;chr&gt;</th><th scope=col>&lt;chr&gt;</th><th scope=col>⋯</th><th scope=col>&lt;chr&gt;</th><th scope=col>&lt;chr&gt;</th><th scope=col>&lt;int&gt;</th><th scope=col>&lt;int&gt;</th><th scope=col>&lt;int&gt;</th><th scope=col>&lt;dbl&gt;</th><th scope=col>&lt;dbl&gt;</th><th scope=col>&lt;dbl&gt;</th><th scope=col>&lt;dbl&gt;</th><th scope=col>&lt;dbl&gt;</th></tr>\n",
       "</thead>\n",
       "<tbody>\n",
       "\t<tr><th scope=row>1</th><td>A-ACT-AC000014-BL-NCR-15AD78694</td><td>NA</td><td>A-ACT-AC000014-BL-NCR-15AD78694:NA</td><td>0.0057900219</td><td>0.0205313490</td><td>0.0168515047</td><td>0.0211205228</td><td>0.0000000000</td><td>0.0141735332</td><td>0.0151777667</td><td>⋯</td><td>0.0136588165</td><td>0.0116109364</td><td>0</td><td>77</td><td>0</td><td>-0.0045</td><td>-0.0026</td><td>-4e-04</td><td>0.0016</td><td>-0.0036</td></tr>\n",
       "\t<tr><th scope=row>2</th><td>A-ACT-AC000034-BL-NCR-16AD84906</td><td>NA</td><td>A-ACT-AC000034-BL-NCR-16AD84906:NA</td><td>0.0115632651</td><td>0.0179681971</td><td>0.0154634152</td><td>0.0201327367</td><td>0.0000000000</td><td>0.0128886832</td><td>0.0182895450</td><td>⋯</td><td>0.0136588165</td><td>0.0136789473</td><td>0</td><td>68</td><td>0</td><td>-0.0036</td><td>-0.0002</td><td> 2e-04</td><td>0.0036</td><td>-0.0089</td></tr>\n",
       "\t<tr><th scope=row>3</th><td>A-ACT-AC000057-BL-NCR-15AD78356</td><td>NA</td><td>A-ACT-AC000057-BL-NCR-15AD78356:NA</td><td>0.0076436376</td><td>0.0163809313</td><td>0.0163412462</td><td>0.0112474718</td><td>0.0000000000</td><td>0.0216821899</td><td>0.0080725574</td><td>⋯</td><td>0.0194377500</td><td>0.0161391594</td><td>0</td><td>88</td><td>1</td><td>-0.0045</td><td>-0.0025</td><td>-5e-04</td><td>0.0008</td><td>-0.0038</td></tr>\n",
       "\t<tr><th scope=row>4</th><td>A-ACT-AC000072-BL-NCR-15AD77250</td><td>NA</td><td>A-ACT-AC000072-BL-NCR-15AD77250:NA</td><td>0.0163203124</td><td>0.0201736105</td><td>0.0158771569</td><td>0.0138758905</td><td>0.0795343478</td><td>0.0213336607</td><td>0.0265606233</td><td>⋯</td><td>0.0019699500</td><td>0.0165577412</td><td>1</td><td>90</td><td>1</td><td>-0.0042</td><td>-0.0023</td><td> 1e-04</td><td>0.0010</td><td>-0.0066</td></tr>\n",
       "\t<tr><th scope=row>5</th><td>A-ACT-AC000088-BL-NCR-15AD76548</td><td>NA</td><td>A-ACT-AC000088-BL-NCR-15AD76548:NA</td><td>0.0119444165</td><td>0.0175144440</td><td>0.0160252292</td><td>0.0155444936</td><td>0.0000000000</td><td>0.0096891688</td><td>0.0145060102</td><td>⋯</td><td>0.0116888665</td><td>0.0121561019</td><td>1</td><td>86</td><td>1</td><td>-0.0045</td><td>-0.0025</td><td>-5e-04</td><td>0.0008</td><td>-0.0044</td></tr>\n",
       "\t<tr><th scope=row>6</th><td>A-ACT-AC000092-BL-NCR-15AD78589</td><td>NA</td><td>A-ACT-AC000092-BL-NCR-15AD78589:NA</td><td>0.0070775331</td><td>0.0177569710</td><td>0.0162128592</td><td>0.0171099384</td><td>0.0000000000</td><td>0.0148637191</td><td>0.0112552256</td><td>⋯</td><td>0.0019699500</td><td>0.0136842177</td><td>1</td><td>79</td><td>0</td><td>-0.0044</td><td>-0.0019</td><td> 0e+00</td><td>0.0016</td><td>-0.0050</td></tr>\n",
       "</tbody>\n",
       "</table>\n"
      ],
      "text/latex": [
       "A data.frame: 6 × 2396\n",
       "\\begin{tabular}{r|lllllllllllllllllllll}\n",
       "  & SampleID & individualID & ID & R-HSA-1059683 & R-HSA-109581 & R-HSA-109582 & R-HSA-109606 & R-HSA-109703 & R-HSA-109704 & R-HSA-110056 & ⋯ & R-HSA-9937080 & R-HSA-997272 & Sex & Age\\_harmonized & DX\\_harmonized & PC1 & PC2 & PC3 & PC4 & PC5\\\\\n",
       "  & <chr> & <chr> & <chr> & <chr> & <chr> & <chr> & <chr> & <chr> & <chr> & <chr> & ⋯ & <chr> & <chr> & <int> & <int> & <int> & <dbl> & <dbl> & <dbl> & <dbl> & <dbl>\\\\\n",
       "\\hline\n",
       "\t1 & A-ACT-AC000014-BL-NCR-15AD78694 & NA & A-ACT-AC000014-BL-NCR-15AD78694:NA & 0.0057900219 & 0.0205313490 & 0.0168515047 & 0.0211205228 & 0.0000000000 & 0.0141735332 & 0.0151777667 & ⋯ & 0.0136588165 & 0.0116109364 & 0 & 77 & 0 & -0.0045 & -0.0026 & -4e-04 & 0.0016 & -0.0036\\\\\n",
       "\t2 & A-ACT-AC000034-BL-NCR-16AD84906 & NA & A-ACT-AC000034-BL-NCR-16AD84906:NA & 0.0115632651 & 0.0179681971 & 0.0154634152 & 0.0201327367 & 0.0000000000 & 0.0128886832 & 0.0182895450 & ⋯ & 0.0136588165 & 0.0136789473 & 0 & 68 & 0 & -0.0036 & -0.0002 &  2e-04 & 0.0036 & -0.0089\\\\\n",
       "\t3 & A-ACT-AC000057-BL-NCR-15AD78356 & NA & A-ACT-AC000057-BL-NCR-15AD78356:NA & 0.0076436376 & 0.0163809313 & 0.0163412462 & 0.0112474718 & 0.0000000000 & 0.0216821899 & 0.0080725574 & ⋯ & 0.0194377500 & 0.0161391594 & 0 & 88 & 1 & -0.0045 & -0.0025 & -5e-04 & 0.0008 & -0.0038\\\\\n",
       "\t4 & A-ACT-AC000072-BL-NCR-15AD77250 & NA & A-ACT-AC000072-BL-NCR-15AD77250:NA & 0.0163203124 & 0.0201736105 & 0.0158771569 & 0.0138758905 & 0.0795343478 & 0.0213336607 & 0.0265606233 & ⋯ & 0.0019699500 & 0.0165577412 & 1 & 90 & 1 & -0.0042 & -0.0023 &  1e-04 & 0.0010 & -0.0066\\\\\n",
       "\t5 & A-ACT-AC000088-BL-NCR-15AD76548 & NA & A-ACT-AC000088-BL-NCR-15AD76548:NA & 0.0119444165 & 0.0175144440 & 0.0160252292 & 0.0155444936 & 0.0000000000 & 0.0096891688 & 0.0145060102 & ⋯ & 0.0116888665 & 0.0121561019 & 1 & 86 & 1 & -0.0045 & -0.0025 & -5e-04 & 0.0008 & -0.0044\\\\\n",
       "\t6 & A-ACT-AC000092-BL-NCR-15AD78589 & NA & A-ACT-AC000092-BL-NCR-15AD78589:NA & 0.0070775331 & 0.0177569710 & 0.0162128592 & 0.0171099384 & 0.0000000000 & 0.0148637191 & 0.0112552256 & ⋯ & 0.0019699500 & 0.0136842177 & 1 & 79 & 0 & -0.0044 & -0.0019 &  0e+00 & 0.0016 & -0.0050\\\\\n",
       "\\end{tabular}\n"
      ],
      "text/markdown": [
       "\n",
       "A data.frame: 6 × 2396\n",
       "\n",
       "| <!--/--> | SampleID &lt;chr&gt; | individualID &lt;chr&gt; | ID &lt;chr&gt; | R-HSA-1059683 &lt;chr&gt; | R-HSA-109581 &lt;chr&gt; | R-HSA-109582 &lt;chr&gt; | R-HSA-109606 &lt;chr&gt; | R-HSA-109703 &lt;chr&gt; | R-HSA-109704 &lt;chr&gt; | R-HSA-110056 &lt;chr&gt; | ⋯ ⋯ | R-HSA-9937080 &lt;chr&gt; | R-HSA-997272 &lt;chr&gt; | Sex &lt;int&gt; | Age_harmonized &lt;int&gt; | DX_harmonized &lt;int&gt; | PC1 &lt;dbl&gt; | PC2 &lt;dbl&gt; | PC3 &lt;dbl&gt; | PC4 &lt;dbl&gt; | PC5 &lt;dbl&gt; |\n",
       "|---|---|---|---|---|---|---|---|---|---|---|---|---|---|---|---|---|---|---|---|---|---|\n",
       "| 1 | A-ACT-AC000014-BL-NCR-15AD78694 | NA | A-ACT-AC000014-BL-NCR-15AD78694:NA | 0.0057900219 | 0.0205313490 | 0.0168515047 | 0.0211205228 | 0.0000000000 | 0.0141735332 | 0.0151777667 | ⋯ | 0.0136588165 | 0.0116109364 | 0 | 77 | 0 | -0.0045 | -0.0026 | -4e-04 | 0.0016 | -0.0036 |\n",
       "| 2 | A-ACT-AC000034-BL-NCR-16AD84906 | NA | A-ACT-AC000034-BL-NCR-16AD84906:NA | 0.0115632651 | 0.0179681971 | 0.0154634152 | 0.0201327367 | 0.0000000000 | 0.0128886832 | 0.0182895450 | ⋯ | 0.0136588165 | 0.0136789473 | 0 | 68 | 0 | -0.0036 | -0.0002 |  2e-04 | 0.0036 | -0.0089 |\n",
       "| 3 | A-ACT-AC000057-BL-NCR-15AD78356 | NA | A-ACT-AC000057-BL-NCR-15AD78356:NA | 0.0076436376 | 0.0163809313 | 0.0163412462 | 0.0112474718 | 0.0000000000 | 0.0216821899 | 0.0080725574 | ⋯ | 0.0194377500 | 0.0161391594 | 0 | 88 | 1 | -0.0045 | -0.0025 | -5e-04 | 0.0008 | -0.0038 |\n",
       "| 4 | A-ACT-AC000072-BL-NCR-15AD77250 | NA | A-ACT-AC000072-BL-NCR-15AD77250:NA | 0.0163203124 | 0.0201736105 | 0.0158771569 | 0.0138758905 | 0.0795343478 | 0.0213336607 | 0.0265606233 | ⋯ | 0.0019699500 | 0.0165577412 | 1 | 90 | 1 | -0.0042 | -0.0023 |  1e-04 | 0.0010 | -0.0066 |\n",
       "| 5 | A-ACT-AC000088-BL-NCR-15AD76548 | NA | A-ACT-AC000088-BL-NCR-15AD76548:NA | 0.0119444165 | 0.0175144440 | 0.0160252292 | 0.0155444936 | 0.0000000000 | 0.0096891688 | 0.0145060102 | ⋯ | 0.0116888665 | 0.0121561019 | 1 | 86 | 1 | -0.0045 | -0.0025 | -5e-04 | 0.0008 | -0.0044 |\n",
       "| 6 | A-ACT-AC000092-BL-NCR-15AD78589 | NA | A-ACT-AC000092-BL-NCR-15AD78589:NA | 0.0070775331 | 0.0177569710 | 0.0162128592 | 0.0171099384 | 0.0000000000 | 0.0148637191 | 0.0112552256 | ⋯ | 0.0019699500 | 0.0136842177 | 1 | 79 | 0 | -0.0044 | -0.0019 |  0e+00 | 0.0016 | -0.0050 |\n",
       "\n"
      ],
      "text/plain": [
       "  SampleID                        individualID\n",
       "1 A-ACT-AC000014-BL-NCR-15AD78694 NA          \n",
       "2 A-ACT-AC000034-BL-NCR-16AD84906 NA          \n",
       "3 A-ACT-AC000057-BL-NCR-15AD78356 NA          \n",
       "4 A-ACT-AC000072-BL-NCR-15AD77250 NA          \n",
       "5 A-ACT-AC000088-BL-NCR-15AD76548 NA          \n",
       "6 A-ACT-AC000092-BL-NCR-15AD78589 NA          \n",
       "  ID                                 R-HSA-1059683 R-HSA-109581 R-HSA-109582\n",
       "1 A-ACT-AC000014-BL-NCR-15AD78694:NA 0.0057900219  0.0205313490 0.0168515047\n",
       "2 A-ACT-AC000034-BL-NCR-16AD84906:NA 0.0115632651  0.0179681971 0.0154634152\n",
       "3 A-ACT-AC000057-BL-NCR-15AD78356:NA 0.0076436376  0.0163809313 0.0163412462\n",
       "4 A-ACT-AC000072-BL-NCR-15AD77250:NA 0.0163203124  0.0201736105 0.0158771569\n",
       "5 A-ACT-AC000088-BL-NCR-15AD76548:NA 0.0119444165  0.0175144440 0.0160252292\n",
       "6 A-ACT-AC000092-BL-NCR-15AD78589:NA 0.0070775331  0.0177569710 0.0162128592\n",
       "  R-HSA-109606 R-HSA-109703 R-HSA-109704 R-HSA-110056 ⋯ R-HSA-9937080\n",
       "1 0.0211205228 0.0000000000 0.0141735332 0.0151777667 ⋯ 0.0136588165 \n",
       "2 0.0201327367 0.0000000000 0.0128886832 0.0182895450 ⋯ 0.0136588165 \n",
       "3 0.0112474718 0.0000000000 0.0216821899 0.0080725574 ⋯ 0.0194377500 \n",
       "4 0.0138758905 0.0795343478 0.0213336607 0.0265606233 ⋯ 0.0019699500 \n",
       "5 0.0155444936 0.0000000000 0.0096891688 0.0145060102 ⋯ 0.0116888665 \n",
       "6 0.0171099384 0.0000000000 0.0148637191 0.0112552256 ⋯ 0.0019699500 \n",
       "  R-HSA-997272 Sex Age_harmonized DX_harmonized PC1     PC2     PC3    PC4   \n",
       "1 0.0116109364 0   77             0             -0.0045 -0.0026 -4e-04 0.0016\n",
       "2 0.0136789473 0   68             0             -0.0036 -0.0002  2e-04 0.0036\n",
       "3 0.0161391594 0   88             1             -0.0045 -0.0025 -5e-04 0.0008\n",
       "4 0.0165577412 1   90             1             -0.0042 -0.0023  1e-04 0.0010\n",
       "5 0.0121561019 1   86             1             -0.0045 -0.0025 -5e-04 0.0008\n",
       "6 0.0136842177 1   79             0             -0.0044 -0.0019  0e+00 0.0016\n",
       "  PC5    \n",
       "1 -0.0036\n",
       "2 -0.0089\n",
       "3 -0.0038\n",
       "4 -0.0066\n",
       "5 -0.0044\n",
       "6 -0.0050"
      ]
     },
     "metadata": {},
     "output_type": "display_data"
    }
   ],
   "source": [
    "avg_gene_transpose = data.frame(t(na.omit(avg_gene)))\n",
    "colnames(avg_gene_transpose) <- avg_gene_transpose[1, ]\n",
    "avg_gene_transpose <- avg_gene_transpose[-1, ]\n",
    "avg_gene_merge = avg_gene_transpose %>%\n",
    "mutate(ID = rownames(avg_gene_transpose)) %>%\n",
    "separate(ID, into = c(\"SampleID\", \"individualID\"), sep = \":\", remove = FALSE) %>%\n",
    "relocate(c(SampleID, individualID, ID), .before = everything()) %>%\n",
    "inner_join(adsp_pheno_sub, by = 'SampleID')\n",
    "dim(avg_gene_merge)\n",
    "head(avg_gene_merge)"
   ]
  },
  {
   "cell_type": "code",
   "execution_count": 140,
   "id": "47dd92cb-ddf3-47f4-8740-2edb45a14805",
   "metadata": {},
   "outputs": [
    {
     "data": {
      "text/html": [
       "<style>\n",
       ".list-inline {list-style: none; margin:0; padding: 0}\n",
       ".list-inline>li {display: inline-block}\n",
       ".list-inline>li:not(:last-child)::after {content: \"\\00b7\"; padding: 0 .5ex}\n",
       "</style>\n",
       "<ol class=list-inline><li>27266</li><li>2292</li></ol>\n"
      ],
      "text/latex": [
       "\\begin{enumerate*}\n",
       "\\item 27266\n",
       "\\item 2292\n",
       "\\end{enumerate*}\n"
      ],
      "text/markdown": [
       "1. 27266\n",
       "2. 2292\n",
       "\n",
       "\n"
      ],
      "text/plain": [
       "[1] 27266  2292"
      ]
     },
     "metadata": {},
     "output_type": "display_data"
    },
    {
     "data": {
      "text/html": [
       "<table class=\"dataframe\">\n",
       "<caption>A data.frame: 6 × 2292</caption>\n",
       "<thead>\n",
       "\t<tr><th></th><th scope=col>SampleID</th><th scope=col>individualID</th><th scope=col>ID</th><th scope=col>R-HSA-1059683</th><th scope=col>R-HSA-109581</th><th scope=col>R-HSA-109582</th><th scope=col>R-HSA-109606</th><th scope=col>R-HSA-109703</th><th scope=col>R-HSA-109704</th><th scope=col>R-HSA-110056</th><th scope=col>⋯</th><th scope=col>R-HSA-9937080</th><th scope=col>R-HSA-997272</th><th scope=col>Sex</th><th scope=col>Age_harmonized</th><th scope=col>DX_harmonized</th><th scope=col>PC1</th><th scope=col>PC2</th><th scope=col>PC3</th><th scope=col>PC4</th><th scope=col>PC5</th></tr>\n",
       "\t<tr><th></th><th scope=col>&lt;chr&gt;</th><th scope=col>&lt;chr&gt;</th><th scope=col>&lt;chr&gt;</th><th scope=col>&lt;chr&gt;</th><th scope=col>&lt;chr&gt;</th><th scope=col>&lt;chr&gt;</th><th scope=col>&lt;chr&gt;</th><th scope=col>&lt;chr&gt;</th><th scope=col>&lt;chr&gt;</th><th scope=col>&lt;chr&gt;</th><th scope=col>⋯</th><th scope=col>&lt;chr&gt;</th><th scope=col>&lt;chr&gt;</th><th scope=col>&lt;int&gt;</th><th scope=col>&lt;int&gt;</th><th scope=col>&lt;int&gt;</th><th scope=col>&lt;dbl&gt;</th><th scope=col>&lt;dbl&gt;</th><th scope=col>&lt;dbl&gt;</th><th scope=col>&lt;dbl&gt;</th><th scope=col>&lt;dbl&gt;</th></tr>\n",
       "</thead>\n",
       "<tbody>\n",
       "\t<tr><th scope=row>1</th><td>A-ACT-AC000014-BL-NCR-15AD78694</td><td>NA</td><td>A-ACT-AC000014-BL-NCR-15AD78694:NA</td><td>0.0057900219</td><td>0.0205313490</td><td>0.0168515047</td><td>0.0211205228</td><td>0.0000000000</td><td>0.0141735332</td><td>0.0151777667</td><td>⋯</td><td>0.0136588165</td><td>0.0116109364</td><td>0</td><td>77</td><td>0</td><td>-0.0045</td><td>-0.0026</td><td>-4e-04</td><td>0.0016</td><td>-0.0036</td></tr>\n",
       "\t<tr><th scope=row>2</th><td>A-ACT-AC000034-BL-NCR-16AD84906</td><td>NA</td><td>A-ACT-AC000034-BL-NCR-16AD84906:NA</td><td>0.0115632651</td><td>0.0179681971</td><td>0.0154634152</td><td>0.0201327367</td><td>0.0000000000</td><td>0.0128886832</td><td>0.0182895450</td><td>⋯</td><td>0.0136588165</td><td>0.0136789473</td><td>0</td><td>68</td><td>0</td><td>-0.0036</td><td>-0.0002</td><td> 2e-04</td><td>0.0036</td><td>-0.0089</td></tr>\n",
       "\t<tr><th scope=row>3</th><td>A-ACT-AC000057-BL-NCR-15AD78356</td><td>NA</td><td>A-ACT-AC000057-BL-NCR-15AD78356:NA</td><td>0.0076436376</td><td>0.0163809313</td><td>0.0163412462</td><td>0.0112474718</td><td>0.0000000000</td><td>0.0216821899</td><td>0.0080725574</td><td>⋯</td><td>0.0194377500</td><td>0.0161391594</td><td>0</td><td>88</td><td>1</td><td>-0.0045</td><td>-0.0025</td><td>-5e-04</td><td>0.0008</td><td>-0.0038</td></tr>\n",
       "\t<tr><th scope=row>4</th><td>A-ACT-AC000072-BL-NCR-15AD77250</td><td>NA</td><td>A-ACT-AC000072-BL-NCR-15AD77250:NA</td><td>0.0163203124</td><td>0.0201736105</td><td>0.0158771569</td><td>0.0138758905</td><td>0.0795343478</td><td>0.0213336607</td><td>0.0265606233</td><td>⋯</td><td>0.0019699500</td><td>0.0165577412</td><td>1</td><td>90</td><td>1</td><td>-0.0042</td><td>-0.0023</td><td> 1e-04</td><td>0.0010</td><td>-0.0066</td></tr>\n",
       "\t<tr><th scope=row>5</th><td>A-ACT-AC000088-BL-NCR-15AD76548</td><td>NA</td><td>A-ACT-AC000088-BL-NCR-15AD76548:NA</td><td>0.0119444165</td><td>0.0175144440</td><td>0.0160252292</td><td>0.0155444936</td><td>0.0000000000</td><td>0.0096891688</td><td>0.0145060102</td><td>⋯</td><td>0.0116888665</td><td>0.0121561019</td><td>1</td><td>86</td><td>1</td><td>-0.0045</td><td>-0.0025</td><td>-5e-04</td><td>0.0008</td><td>-0.0044</td></tr>\n",
       "\t<tr><th scope=row>6</th><td>A-ACT-AC000092-BL-NCR-15AD78589</td><td>NA</td><td>A-ACT-AC000092-BL-NCR-15AD78589:NA</td><td>0.0070775331</td><td>0.0177569710</td><td>0.0162128592</td><td>0.0171099384</td><td>0.0000000000</td><td>0.0148637191</td><td>0.0112552256</td><td>⋯</td><td>0.0019699500</td><td>0.0136842177</td><td>1</td><td>79</td><td>0</td><td>-0.0044</td><td>-0.0019</td><td> 0e+00</td><td>0.0016</td><td>-0.0050</td></tr>\n",
       "</tbody>\n",
       "</table>\n"
      ],
      "text/latex": [
       "A data.frame: 6 × 2292\n",
       "\\begin{tabular}{r|lllllllllllllllllllll}\n",
       "  & SampleID & individualID & ID & R-HSA-1059683 & R-HSA-109581 & R-HSA-109582 & R-HSA-109606 & R-HSA-109703 & R-HSA-109704 & R-HSA-110056 & ⋯ & R-HSA-9937080 & R-HSA-997272 & Sex & Age\\_harmonized & DX\\_harmonized & PC1 & PC2 & PC3 & PC4 & PC5\\\\\n",
       "  & <chr> & <chr> & <chr> & <chr> & <chr> & <chr> & <chr> & <chr> & <chr> & <chr> & ⋯ & <chr> & <chr> & <int> & <int> & <int> & <dbl> & <dbl> & <dbl> & <dbl> & <dbl>\\\\\n",
       "\\hline\n",
       "\t1 & A-ACT-AC000014-BL-NCR-15AD78694 & NA & A-ACT-AC000014-BL-NCR-15AD78694:NA & 0.0057900219 & 0.0205313490 & 0.0168515047 & 0.0211205228 & 0.0000000000 & 0.0141735332 & 0.0151777667 & ⋯ & 0.0136588165 & 0.0116109364 & 0 & 77 & 0 & -0.0045 & -0.0026 & -4e-04 & 0.0016 & -0.0036\\\\\n",
       "\t2 & A-ACT-AC000034-BL-NCR-16AD84906 & NA & A-ACT-AC000034-BL-NCR-16AD84906:NA & 0.0115632651 & 0.0179681971 & 0.0154634152 & 0.0201327367 & 0.0000000000 & 0.0128886832 & 0.0182895450 & ⋯ & 0.0136588165 & 0.0136789473 & 0 & 68 & 0 & -0.0036 & -0.0002 &  2e-04 & 0.0036 & -0.0089\\\\\n",
       "\t3 & A-ACT-AC000057-BL-NCR-15AD78356 & NA & A-ACT-AC000057-BL-NCR-15AD78356:NA & 0.0076436376 & 0.0163809313 & 0.0163412462 & 0.0112474718 & 0.0000000000 & 0.0216821899 & 0.0080725574 & ⋯ & 0.0194377500 & 0.0161391594 & 0 & 88 & 1 & -0.0045 & -0.0025 & -5e-04 & 0.0008 & -0.0038\\\\\n",
       "\t4 & A-ACT-AC000072-BL-NCR-15AD77250 & NA & A-ACT-AC000072-BL-NCR-15AD77250:NA & 0.0163203124 & 0.0201736105 & 0.0158771569 & 0.0138758905 & 0.0795343478 & 0.0213336607 & 0.0265606233 & ⋯ & 0.0019699500 & 0.0165577412 & 1 & 90 & 1 & -0.0042 & -0.0023 &  1e-04 & 0.0010 & -0.0066\\\\\n",
       "\t5 & A-ACT-AC000088-BL-NCR-15AD76548 & NA & A-ACT-AC000088-BL-NCR-15AD76548:NA & 0.0119444165 & 0.0175144440 & 0.0160252292 & 0.0155444936 & 0.0000000000 & 0.0096891688 & 0.0145060102 & ⋯ & 0.0116888665 & 0.0121561019 & 1 & 86 & 1 & -0.0045 & -0.0025 & -5e-04 & 0.0008 & -0.0044\\\\\n",
       "\t6 & A-ACT-AC000092-BL-NCR-15AD78589 & NA & A-ACT-AC000092-BL-NCR-15AD78589:NA & 0.0070775331 & 0.0177569710 & 0.0162128592 & 0.0171099384 & 0.0000000000 & 0.0148637191 & 0.0112552256 & ⋯ & 0.0019699500 & 0.0136842177 & 1 & 79 & 0 & -0.0044 & -0.0019 &  0e+00 & 0.0016 & -0.0050\\\\\n",
       "\\end{tabular}\n"
      ],
      "text/markdown": [
       "\n",
       "A data.frame: 6 × 2292\n",
       "\n",
       "| <!--/--> | SampleID &lt;chr&gt; | individualID &lt;chr&gt; | ID &lt;chr&gt; | R-HSA-1059683 &lt;chr&gt; | R-HSA-109581 &lt;chr&gt; | R-HSA-109582 &lt;chr&gt; | R-HSA-109606 &lt;chr&gt; | R-HSA-109703 &lt;chr&gt; | R-HSA-109704 &lt;chr&gt; | R-HSA-110056 &lt;chr&gt; | ⋯ ⋯ | R-HSA-9937080 &lt;chr&gt; | R-HSA-997272 &lt;chr&gt; | Sex &lt;int&gt; | Age_harmonized &lt;int&gt; | DX_harmonized &lt;int&gt; | PC1 &lt;dbl&gt; | PC2 &lt;dbl&gt; | PC3 &lt;dbl&gt; | PC4 &lt;dbl&gt; | PC5 &lt;dbl&gt; |\n",
       "|---|---|---|---|---|---|---|---|---|---|---|---|---|---|---|---|---|---|---|---|---|---|\n",
       "| 1 | A-ACT-AC000014-BL-NCR-15AD78694 | NA | A-ACT-AC000014-BL-NCR-15AD78694:NA | 0.0057900219 | 0.0205313490 | 0.0168515047 | 0.0211205228 | 0.0000000000 | 0.0141735332 | 0.0151777667 | ⋯ | 0.0136588165 | 0.0116109364 | 0 | 77 | 0 | -0.0045 | -0.0026 | -4e-04 | 0.0016 | -0.0036 |\n",
       "| 2 | A-ACT-AC000034-BL-NCR-16AD84906 | NA | A-ACT-AC000034-BL-NCR-16AD84906:NA | 0.0115632651 | 0.0179681971 | 0.0154634152 | 0.0201327367 | 0.0000000000 | 0.0128886832 | 0.0182895450 | ⋯ | 0.0136588165 | 0.0136789473 | 0 | 68 | 0 | -0.0036 | -0.0002 |  2e-04 | 0.0036 | -0.0089 |\n",
       "| 3 | A-ACT-AC000057-BL-NCR-15AD78356 | NA | A-ACT-AC000057-BL-NCR-15AD78356:NA | 0.0076436376 | 0.0163809313 | 0.0163412462 | 0.0112474718 | 0.0000000000 | 0.0216821899 | 0.0080725574 | ⋯ | 0.0194377500 | 0.0161391594 | 0 | 88 | 1 | -0.0045 | -0.0025 | -5e-04 | 0.0008 | -0.0038 |\n",
       "| 4 | A-ACT-AC000072-BL-NCR-15AD77250 | NA | A-ACT-AC000072-BL-NCR-15AD77250:NA | 0.0163203124 | 0.0201736105 | 0.0158771569 | 0.0138758905 | 0.0795343478 | 0.0213336607 | 0.0265606233 | ⋯ | 0.0019699500 | 0.0165577412 | 1 | 90 | 1 | -0.0042 | -0.0023 |  1e-04 | 0.0010 | -0.0066 |\n",
       "| 5 | A-ACT-AC000088-BL-NCR-15AD76548 | NA | A-ACT-AC000088-BL-NCR-15AD76548:NA | 0.0119444165 | 0.0175144440 | 0.0160252292 | 0.0155444936 | 0.0000000000 | 0.0096891688 | 0.0145060102 | ⋯ | 0.0116888665 | 0.0121561019 | 1 | 86 | 1 | -0.0045 | -0.0025 | -5e-04 | 0.0008 | -0.0044 |\n",
       "| 6 | A-ACT-AC000092-BL-NCR-15AD78589 | NA | A-ACT-AC000092-BL-NCR-15AD78589:NA | 0.0070775331 | 0.0177569710 | 0.0162128592 | 0.0171099384 | 0.0000000000 | 0.0148637191 | 0.0112552256 | ⋯ | 0.0019699500 | 0.0136842177 | 1 | 79 | 0 | -0.0044 | -0.0019 |  0e+00 | 0.0016 | -0.0050 |\n",
       "\n"
      ],
      "text/plain": [
       "  SampleID                        individualID\n",
       "1 A-ACT-AC000014-BL-NCR-15AD78694 NA          \n",
       "2 A-ACT-AC000034-BL-NCR-16AD84906 NA          \n",
       "3 A-ACT-AC000057-BL-NCR-15AD78356 NA          \n",
       "4 A-ACT-AC000072-BL-NCR-15AD77250 NA          \n",
       "5 A-ACT-AC000088-BL-NCR-15AD76548 NA          \n",
       "6 A-ACT-AC000092-BL-NCR-15AD78589 NA          \n",
       "  ID                                 R-HSA-1059683 R-HSA-109581 R-HSA-109582\n",
       "1 A-ACT-AC000014-BL-NCR-15AD78694:NA 0.0057900219  0.0205313490 0.0168515047\n",
       "2 A-ACT-AC000034-BL-NCR-16AD84906:NA 0.0115632651  0.0179681971 0.0154634152\n",
       "3 A-ACT-AC000057-BL-NCR-15AD78356:NA 0.0076436376  0.0163809313 0.0163412462\n",
       "4 A-ACT-AC000072-BL-NCR-15AD77250:NA 0.0163203124  0.0201736105 0.0158771569\n",
       "5 A-ACT-AC000088-BL-NCR-15AD76548:NA 0.0119444165  0.0175144440 0.0160252292\n",
       "6 A-ACT-AC000092-BL-NCR-15AD78589:NA 0.0070775331  0.0177569710 0.0162128592\n",
       "  R-HSA-109606 R-HSA-109703 R-HSA-109704 R-HSA-110056 ⋯ R-HSA-9937080\n",
       "1 0.0211205228 0.0000000000 0.0141735332 0.0151777667 ⋯ 0.0136588165 \n",
       "2 0.0201327367 0.0000000000 0.0128886832 0.0182895450 ⋯ 0.0136588165 \n",
       "3 0.0112474718 0.0000000000 0.0216821899 0.0080725574 ⋯ 0.0194377500 \n",
       "4 0.0138758905 0.0795343478 0.0213336607 0.0265606233 ⋯ 0.0019699500 \n",
       "5 0.0155444936 0.0000000000 0.0096891688 0.0145060102 ⋯ 0.0116888665 \n",
       "6 0.0171099384 0.0000000000 0.0148637191 0.0112552256 ⋯ 0.0019699500 \n",
       "  R-HSA-997272 Sex Age_harmonized DX_harmonized PC1     PC2     PC3    PC4   \n",
       "1 0.0116109364 0   77             0             -0.0045 -0.0026 -4e-04 0.0016\n",
       "2 0.0136789473 0   68             0             -0.0036 -0.0002  2e-04 0.0036\n",
       "3 0.0161391594 0   88             1             -0.0045 -0.0025 -5e-04 0.0008\n",
       "4 0.0165577412 1   90             1             -0.0042 -0.0023  1e-04 0.0010\n",
       "5 0.0121561019 1   86             1             -0.0045 -0.0025 -5e-04 0.0008\n",
       "6 0.0136842177 1   79             0             -0.0044 -0.0019  0e+00 0.0016\n",
       "  PC5    \n",
       "1 -0.0036\n",
       "2 -0.0089\n",
       "3 -0.0038\n",
       "4 -0.0066\n",
       "5 -0.0044\n",
       "6 -0.0050"
      ]
     },
     "metadata": {},
     "output_type": "display_data"
    }
   ],
   "source": [
    "avg_gene_msbb_transpose = data.frame(t(na.omit(avg_gene_msbb)))\n",
    "colnames(avg_gene_msbb_transpose) <- avg_gene_msbb_transpose[1, ]\n",
    "avg_gene_msbb_transpose <- avg_gene_msbb_transpose[-1, ]\n",
    "avg_gene_msbb_merge = avg_gene_msbb_transpose %>%\n",
    "mutate(ID = rownames(avg_gene_msbb_transpose)) %>%\n",
    "separate(ID, into = c(\"SampleID\", \"individualID\"), sep = \":\", remove = FALSE) %>%\n",
    "relocate(c(SampleID, individualID, ID), .before = everything()) %>%\n",
    "inner_join(adsp_pheno_sub, by = 'SampleID')\n",
    "dim(avg_gene_msbb_merge)\n",
    "head(avg_gene_msbb_merge)"
   ]
  },
  {
   "cell_type": "markdown",
   "id": "7b5fa4e6-f186-4a7d-a046-d8f596255a28",
   "metadata": {
    "jp-MarkdownHeadingCollapsed": true
   },
   "source": [
    "# feature selection"
   ]
  },
  {
   "cell_type": "markdown",
   "id": "0be41d13-0d48-451f-826f-81d88cedbdee",
   "metadata": {},
   "source": [
    "## create input dfs"
   ]
  },
  {
   "cell_type": "code",
   "execution_count": 141,
   "id": "3f8d367a-f4fd-437d-a17b-22f8239febdf",
   "metadata": {},
   "outputs": [],
   "source": [
    "avg_pathway_merge_sub = avg_pathway_merge %>%\n",
    "select(-c(ID, SampleID, individualID, Sex, Age_harmonized, DX_harmonized, PC1, PC2, PC3, PC4, PC5))"
   ]
  },
  {
   "cell_type": "code",
   "execution_count": 142,
   "id": "fd872b6a-8954-4653-a6b1-336f617e2eac",
   "metadata": {},
   "outputs": [],
   "source": [
    "avg_pathway_msbb_merge_sub = avg_pathway_msbb_merge %>%\n",
    "select(-c(ID, SampleID, individualID, Sex, Age_harmonized, DX_harmonized, PC1, PC2, PC3, PC4, PC5))"
   ]
  },
  {
   "cell_type": "code",
   "execution_count": 143,
   "id": "22efdb5d-ab8c-42aa-b82e-f5f9bea4d993",
   "metadata": {},
   "outputs": [],
   "source": [
    "avg_gene_merge_sub = avg_gene_merge %>%\n",
    "select(-c(ID, SampleID, individualID, Sex, Age_harmonized, DX_harmonized, PC1, PC2, PC3, PC4, PC5))"
   ]
  },
  {
   "cell_type": "code",
   "execution_count": 144,
   "id": "bc3917c1-cc51-44dc-a770-6ba33c83a033",
   "metadata": {},
   "outputs": [],
   "source": [
    "avg_gene_msbb_merge_sub = avg_gene_msbb_merge %>%\n",
    "select(-c(ID, SampleID, individualID, Sex, Age_harmonized, DX_harmonized, PC1, PC2, PC3, PC4, PC5))"
   ]
  },
  {
   "cell_type": "markdown",
   "id": "fc9b4883-e1aa-46fe-9218-0065f4aed3d2",
   "metadata": {
    "jp-MarkdownHeadingCollapsed": true
   },
   "source": [
    "## make variables"
   ]
  },
  {
   "cell_type": "code",
   "execution_count": 145,
   "id": "4231efa4-29eb-4e47-825a-59415c5af6ba",
   "metadata": {},
   "outputs": [],
   "source": [
    "avg_pathway_y = avg_pathway_merge$DX_harmonized"
   ]
  },
  {
   "cell_type": "code",
   "execution_count": 146,
   "id": "c5f51678-9dbd-4fa7-8086-e063de9b8af1",
   "metadata": {},
   "outputs": [],
   "source": [
    "avg_pathway_msbb_y = avg_pathway_msbb_merge$DX_harmonized"
   ]
  },
  {
   "cell_type": "code",
   "execution_count": 147,
   "id": "c09535ab-c4b9-400a-85b7-173de06a4a85",
   "metadata": {},
   "outputs": [],
   "source": [
    "avg_gene_y = avg_gene_merge$DX_harmonized"
   ]
  },
  {
   "cell_type": "code",
   "execution_count": 148,
   "id": "bb5ca820-c2d8-4935-9b68-7d6ceed2abe7",
   "metadata": {},
   "outputs": [],
   "source": [
    "avg_gene_msbb_y = avg_gene_msbb_merge$DX_harmonized"
   ]
  },
  {
   "cell_type": "code",
   "execution_count": 149,
   "id": "e6e5ebb9-03b1-4108-82b7-274d9c12116c",
   "metadata": {},
   "outputs": [],
   "source": [
    "avg_pathway_x = data.matrix(avg_pathway_merge_sub)"
   ]
  },
  {
   "cell_type": "code",
   "execution_count": 150,
   "id": "23cdb679-2804-4d1e-9480-b8d9d90f16b3",
   "metadata": {},
   "outputs": [],
   "source": [
    "avg_pathway_msbb_x = data.matrix(avg_pathway_msbb_merge_sub)"
   ]
  },
  {
   "cell_type": "code",
   "execution_count": 151,
   "id": "2ad16e4b-708d-4a92-ae91-14aabf5f80a2",
   "metadata": {},
   "outputs": [],
   "source": [
    "avg_gene_x = data.matrix(avg_gene_merge_sub)"
   ]
  },
  {
   "cell_type": "code",
   "execution_count": 152,
   "id": "a5ecd917-f825-4822-9c2b-e14994c22327",
   "metadata": {},
   "outputs": [],
   "source": [
    "avg_gene_msbb_x = data.matrix(avg_gene_msbb_merge_sub)"
   ]
  },
  {
   "cell_type": "markdown",
   "id": "2ca8acfd-1ffb-46be-a989-96dfbc311d80",
   "metadata": {},
   "source": [
    "## run lasso regression"
   ]
  },
  {
   "cell_type": "code",
   "execution_count": 153,
   "id": "5288559e-a019-4452-82ed-a9c511760a29",
   "metadata": {},
   "outputs": [],
   "source": [
    "avg_pathway_cv = cv.glmnet(avg_pathway_x, avg_pathway_y, alpha = 1)\n",
    "avg_pathway_lam <- avg_pathway_cv$lambda.1se\n",
    "avg_pathway_lasso <- glmnet(avg_pathway_x, avg_pathway_y, alpha = 1, lambda = avg_pathway_lam)"
   ]
  },
  {
   "cell_type": "code",
   "execution_count": 154,
   "id": "416153a4-719c-4ba3-8685-93a21eb22b9e",
   "metadata": {},
   "outputs": [],
   "source": [
    "avg_pathway_msbb_cv = cv.glmnet(avg_pathway_msbb_x, avg_pathway_msbb_y, alpha = 1)\n",
    "avg_pathway_msbb_lam <- avg_pathway_msbb_cv$lambda.1se\n",
    "avg_pathway_msbb_lasso <- glmnet(avg_pathway_msbb_x, avg_pathway_msbb_y, alpha = 1, lambda = avg_pathway_msbb_lam)"
   ]
  },
  {
   "cell_type": "code",
   "execution_count": 155,
   "id": "733c3783-6245-407a-a1d9-941e433b6258",
   "metadata": {},
   "outputs": [],
   "source": [
    "avg_gene_cv = cv.glmnet(avg_gene_x, avg_gene_y, alpha = 1)\n",
    "avg_gene_lam <- avg_gene_cv$lambda.1se\n",
    "avg_gene_lasso <- glmnet(avg_gene_x, avg_gene_y, alpha = 1, lambda = avg_gene_lam)"
   ]
  },
  {
   "cell_type": "code",
   "execution_count": 156,
   "id": "19c4476e-ea7b-462e-a22b-d5e1c124946d",
   "metadata": {},
   "outputs": [],
   "source": [
    "avg_gene_msbb_cv = cv.glmnet(avg_gene_msbb_x, avg_gene_msbb_y, alpha = 1)\n",
    "avg_gene_msbb_lam <- avg_gene_msbb_cv$lambda.1se\n",
    "avg_gene_msbb_lasso <- glmnet(avg_gene_msbb_x, avg_gene_msbb_y, alpha = 1, lambda = avg_gene_msbb_lam)"
   ]
  },
  {
   "cell_type": "markdown",
   "id": "33ecb16c-a458-47b1-ae7f-c6e54a6c648d",
   "metadata": {},
   "source": [
    "## extract important pathways"
   ]
  },
  {
   "cell_type": "code",
   "execution_count": 157,
   "id": "cb9c7a7a-ae67-4d5d-ac57-e0abc4b8a266",
   "metadata": {},
   "outputs": [
    {
     "data": {
      "text/html": [
       "<style>\n",
       ".list-inline {list-style: none; margin:0; padding: 0}\n",
       ".list-inline>li {display: inline-block}\n",
       ".list-inline>li:not(:last-child)::after {content: \"\\00b7\"; padding: 0 .5ex}\n",
       "</style>\n",
       "<ol class=list-inline><li>251</li><li>2</li></ol>\n"
      ],
      "text/latex": [
       "\\begin{enumerate*}\n",
       "\\item 251\n",
       "\\item 2\n",
       "\\end{enumerate*}\n"
      ],
      "text/markdown": [
       "1. 251\n",
       "2. 2\n",
       "\n",
       "\n"
      ],
      "text/plain": [
       "[1] 251   2"
      ]
     },
     "metadata": {},
     "output_type": "display_data"
    },
    {
     "data": {
      "text/html": [
       "<table class=\"dataframe\">\n",
       "<caption>A data.frame: 6 × 2</caption>\n",
       "<thead>\n",
       "\t<tr><th></th><th scope=col>PATHWAY_ID</th><th scope=col>COEF</th></tr>\n",
       "\t<tr><th></th><th scope=col>&lt;chr&gt;</th><th scope=col>&lt;dbl&gt;</th></tr>\n",
       "</thead>\n",
       "<tbody>\n",
       "\t<tr><th scope=row>1</th><td>R-HSA-9652282</td><td>-2.289039e-04</td></tr>\n",
       "\t<tr><th scope=row>2</th><td>R-HSA-162585 </td><td>-2.232749e-04</td></tr>\n",
       "\t<tr><th scope=row>3</th><td>R-HSA-3858516</td><td> 2.231272e-04</td></tr>\n",
       "\t<tr><th scope=row>4</th><td>R-HSA-198323 </td><td> 1.907654e-04</td></tr>\n",
       "\t<tr><th scope=row>5</th><td>R-HSA-5579031</td><td> 1.066776e-04</td></tr>\n",
       "\t<tr><th scope=row>6</th><td>R-HSA-173107 </td><td>-9.629156e-05</td></tr>\n",
       "</tbody>\n",
       "</table>\n"
      ],
      "text/latex": [
       "A data.frame: 6 × 2\n",
       "\\begin{tabular}{r|ll}\n",
       "  & PATHWAY\\_ID & COEF\\\\\n",
       "  & <chr> & <dbl>\\\\\n",
       "\\hline\n",
       "\t1 & R-HSA-9652282 & -2.289039e-04\\\\\n",
       "\t2 & R-HSA-162585  & -2.232749e-04\\\\\n",
       "\t3 & R-HSA-3858516 &  2.231272e-04\\\\\n",
       "\t4 & R-HSA-198323  &  1.907654e-04\\\\\n",
       "\t5 & R-HSA-5579031 &  1.066776e-04\\\\\n",
       "\t6 & R-HSA-173107  & -9.629156e-05\\\\\n",
       "\\end{tabular}\n"
      ],
      "text/markdown": [
       "\n",
       "A data.frame: 6 × 2\n",
       "\n",
       "| <!--/--> | PATHWAY_ID &lt;chr&gt; | COEF &lt;dbl&gt; |\n",
       "|---|---|---|\n",
       "| 1 | R-HSA-9652282 | -2.289039e-04 |\n",
       "| 2 | R-HSA-162585  | -2.232749e-04 |\n",
       "| 3 | R-HSA-3858516 |  2.231272e-04 |\n",
       "| 4 | R-HSA-198323  |  1.907654e-04 |\n",
       "| 5 | R-HSA-5579031 |  1.066776e-04 |\n",
       "| 6 | R-HSA-173107  | -9.629156e-05 |\n",
       "\n"
      ],
      "text/plain": [
       "  PATHWAY_ID    COEF         \n",
       "1 R-HSA-9652282 -2.289039e-04\n",
       "2 R-HSA-162585  -2.232749e-04\n",
       "3 R-HSA-3858516  2.231272e-04\n",
       "4 R-HSA-198323   1.907654e-04\n",
       "5 R-HSA-5579031  1.066776e-04\n",
       "6 R-HSA-173107  -9.629156e-05"
      ]
     },
     "metadata": {},
     "output_type": "display_data"
    }
   ],
   "source": [
    "coef = coef(avg_pathway_lasso, s = 'lambda.1se')\n",
    "inds = which(coef != 0)\n",
    "PATHWAY_ID = rownames(coef)[inds]\n",
    "pathway_df = data.frame(PATHWAY_ID)\n",
    "COEF = coef[inds]\n",
    "coef_df = data.frame(COEF)\n",
    "avg_pathway_important = cbind(pathway_df, coef_df)\n",
    "avg_pathway_important = avg_pathway_important %>%\n",
    "filter(!grepl('Intercept', PATHWAY_ID)) %>%\n",
    "arrange(-abs(COEF))\n",
    "dim(avg_pathway_important)\n",
    "head(avg_pathway_important)"
   ]
  },
  {
   "cell_type": "code",
   "execution_count": 158,
   "id": "5946c16e-f976-427d-ada4-5c9eb8fad795",
   "metadata": {},
   "outputs": [
    {
     "data": {
      "text/html": [
       "<style>\n",
       ".list-inline {list-style: none; margin:0; padding: 0}\n",
       ".list-inline>li {display: inline-block}\n",
       ".list-inline>li:not(:last-child)::after {content: \"\\00b7\"; padding: 0 .5ex}\n",
       "</style>\n",
       "<ol class=list-inline><li>280</li><li>2</li></ol>\n"
      ],
      "text/latex": [
       "\\begin{enumerate*}\n",
       "\\item 280\n",
       "\\item 2\n",
       "\\end{enumerate*}\n"
      ],
      "text/markdown": [
       "1. 280\n",
       "2. 2\n",
       "\n",
       "\n"
      ],
      "text/plain": [
       "[1] 280   2"
      ]
     },
     "metadata": {},
     "output_type": "display_data"
    },
    {
     "data": {
      "text/html": [
       "<table class=\"dataframe\">\n",
       "<caption>A data.frame: 6 × 2</caption>\n",
       "<thead>\n",
       "\t<tr><th></th><th scope=col>PATHWAY_ID</th><th scope=col>COEF</th></tr>\n",
       "\t<tr><th></th><th scope=col>&lt;chr&gt;</th><th scope=col>&lt;dbl&gt;</th></tr>\n",
       "</thead>\n",
       "<tbody>\n",
       "\t<tr><th scope=row>1</th><td>R-HSA-3858516</td><td> 0.0002168008</td></tr>\n",
       "\t<tr><th scope=row>2</th><td>R-HSA-9837092</td><td>-0.0001807056</td></tr>\n",
       "\t<tr><th scope=row>3</th><td>R-HSA-4720454</td><td>-0.0001534651</td></tr>\n",
       "\t<tr><th scope=row>4</th><td>R-HSA-1483196</td><td>-0.0001453514</td></tr>\n",
       "\t<tr><th scope=row>5</th><td>R-HSA-4549356</td><td>-0.0001215125</td></tr>\n",
       "\t<tr><th scope=row>6</th><td>R-HSA-198323 </td><td> 0.0001122176</td></tr>\n",
       "</tbody>\n",
       "</table>\n"
      ],
      "text/latex": [
       "A data.frame: 6 × 2\n",
       "\\begin{tabular}{r|ll}\n",
       "  & PATHWAY\\_ID & COEF\\\\\n",
       "  & <chr> & <dbl>\\\\\n",
       "\\hline\n",
       "\t1 & R-HSA-3858516 &  0.0002168008\\\\\n",
       "\t2 & R-HSA-9837092 & -0.0001807056\\\\\n",
       "\t3 & R-HSA-4720454 & -0.0001534651\\\\\n",
       "\t4 & R-HSA-1483196 & -0.0001453514\\\\\n",
       "\t5 & R-HSA-4549356 & -0.0001215125\\\\\n",
       "\t6 & R-HSA-198323  &  0.0001122176\\\\\n",
       "\\end{tabular}\n"
      ],
      "text/markdown": [
       "\n",
       "A data.frame: 6 × 2\n",
       "\n",
       "| <!--/--> | PATHWAY_ID &lt;chr&gt; | COEF &lt;dbl&gt; |\n",
       "|---|---|---|\n",
       "| 1 | R-HSA-3858516 |  0.0002168008 |\n",
       "| 2 | R-HSA-9837092 | -0.0001807056 |\n",
       "| 3 | R-HSA-4720454 | -0.0001534651 |\n",
       "| 4 | R-HSA-1483196 | -0.0001453514 |\n",
       "| 5 | R-HSA-4549356 | -0.0001215125 |\n",
       "| 6 | R-HSA-198323  |  0.0001122176 |\n",
       "\n"
      ],
      "text/plain": [
       "  PATHWAY_ID    COEF         \n",
       "1 R-HSA-3858516  0.0002168008\n",
       "2 R-HSA-9837092 -0.0001807056\n",
       "3 R-HSA-4720454 -0.0001534651\n",
       "4 R-HSA-1483196 -0.0001453514\n",
       "5 R-HSA-4549356 -0.0001215125\n",
       "6 R-HSA-198323   0.0001122176"
      ]
     },
     "metadata": {},
     "output_type": "display_data"
    }
   ],
   "source": [
    "coef = coef(avg_pathway_msbb_lasso, s = 'lambda.1se')\n",
    "inds = which(coef != 0)\n",
    "PATHWAY_ID = rownames(coef)[inds]\n",
    "pathway_df = data.frame(PATHWAY_ID)\n",
    "COEF = coef[inds]\n",
    "coef_df = data.frame(COEF)\n",
    "avg_pathway_msbb_important = cbind(pathway_df, coef_df)\n",
    "avg_pathway_msbb_important = avg_pathway_msbb_important %>%\n",
    "filter(!grepl('Intercept', PATHWAY_ID)) %>%\n",
    "arrange(-abs(COEF))\n",
    "dim(avg_pathway_msbb_important)\n",
    "head(avg_pathway_msbb_important)"
   ]
  },
  {
   "cell_type": "code",
   "execution_count": 159,
   "id": "9abb2eb0-b4c5-4d14-b5bb-e52f516d0565",
   "metadata": {},
   "outputs": [
    {
     "data": {
      "text/html": [
       "<style>\n",
       ".list-inline {list-style: none; margin:0; padding: 0}\n",
       ".list-inline>li {display: inline-block}\n",
       ".list-inline>li:not(:last-child)::after {content: \"\\00b7\"; padding: 0 .5ex}\n",
       "</style>\n",
       "<ol class=list-inline><li>272</li><li>2</li></ol>\n"
      ],
      "text/latex": [
       "\\begin{enumerate*}\n",
       "\\item 272\n",
       "\\item 2\n",
       "\\end{enumerate*}\n"
      ],
      "text/markdown": [
       "1. 272\n",
       "2. 2\n",
       "\n",
       "\n"
      ],
      "text/plain": [
       "[1] 272   2"
      ]
     },
     "metadata": {},
     "output_type": "display_data"
    },
    {
     "data": {
      "text/html": [
       "<table class=\"dataframe\">\n",
       "<caption>A data.frame: 6 × 2</caption>\n",
       "<thead>\n",
       "\t<tr><th></th><th scope=col>PATHWAY_ID</th><th scope=col>COEF</th></tr>\n",
       "\t<tr><th></th><th scope=col>&lt;chr&gt;</th><th scope=col>&lt;dbl&gt;</th></tr>\n",
       "</thead>\n",
       "<tbody>\n",
       "\t<tr><th scope=row>1</th><td>R-HSA-3359454</td><td>-0.0002886222</td></tr>\n",
       "\t<tr><th scope=row>2</th><td>R-HSA-3858516</td><td> 0.0002724356</td></tr>\n",
       "\t<tr><th scope=row>3</th><td>R-HSA-198323 </td><td> 0.0002468266</td></tr>\n",
       "\t<tr><th scope=row>4</th><td>R-HSA-2142700</td><td>-0.0001947765</td></tr>\n",
       "\t<tr><th scope=row>5</th><td>R-HSA-173107 </td><td>-0.0001622548</td></tr>\n",
       "\t<tr><th scope=row>6</th><td>R-HSA-9027307</td><td>-0.0001412183</td></tr>\n",
       "</tbody>\n",
       "</table>\n"
      ],
      "text/latex": [
       "A data.frame: 6 × 2\n",
       "\\begin{tabular}{r|ll}\n",
       "  & PATHWAY\\_ID & COEF\\\\\n",
       "  & <chr> & <dbl>\\\\\n",
       "\\hline\n",
       "\t1 & R-HSA-3359454 & -0.0002886222\\\\\n",
       "\t2 & R-HSA-3858516 &  0.0002724356\\\\\n",
       "\t3 & R-HSA-198323  &  0.0002468266\\\\\n",
       "\t4 & R-HSA-2142700 & -0.0001947765\\\\\n",
       "\t5 & R-HSA-173107  & -0.0001622548\\\\\n",
       "\t6 & R-HSA-9027307 & -0.0001412183\\\\\n",
       "\\end{tabular}\n"
      ],
      "text/markdown": [
       "\n",
       "A data.frame: 6 × 2\n",
       "\n",
       "| <!--/--> | PATHWAY_ID &lt;chr&gt; | COEF &lt;dbl&gt; |\n",
       "|---|---|---|\n",
       "| 1 | R-HSA-3359454 | -0.0002886222 |\n",
       "| 2 | R-HSA-3858516 |  0.0002724356 |\n",
       "| 3 | R-HSA-198323  |  0.0002468266 |\n",
       "| 4 | R-HSA-2142700 | -0.0001947765 |\n",
       "| 5 | R-HSA-173107  | -0.0001622548 |\n",
       "| 6 | R-HSA-9027307 | -0.0001412183 |\n",
       "\n"
      ],
      "text/plain": [
       "  PATHWAY_ID    COEF         \n",
       "1 R-HSA-3359454 -0.0002886222\n",
       "2 R-HSA-3858516  0.0002724356\n",
       "3 R-HSA-198323   0.0002468266\n",
       "4 R-HSA-2142700 -0.0001947765\n",
       "5 R-HSA-173107  -0.0001622548\n",
       "6 R-HSA-9027307 -0.0001412183"
      ]
     },
     "metadata": {},
     "output_type": "display_data"
    }
   ],
   "source": [
    "coef = coef(avg_gene_lasso, s = 'lambda.1se')\n",
    "inds = which(coef != 0)\n",
    "PATHWAY_ID = rownames(coef)[inds]\n",
    "pathway_df = data.frame(PATHWAY_ID)\n",
    "COEF = coef[inds]\n",
    "coef_df = data.frame(COEF)\n",
    "avg_gene_important = cbind(pathway_df, coef_df)\n",
    "avg_gene_important = avg_gene_important %>%\n",
    "filter(!grepl('Intercept', PATHWAY_ID)) %>%\n",
    "arrange(-abs(COEF))\n",
    "dim(avg_gene_important)\n",
    "head(avg_gene_important)"
   ]
  },
  {
   "cell_type": "code",
   "execution_count": 160,
   "id": "38c86f5c-2454-4f8e-b2f4-fae568061cb0",
   "metadata": {},
   "outputs": [
    {
     "data": {
      "text/html": [
       "<style>\n",
       ".list-inline {list-style: none; margin:0; padding: 0}\n",
       ".list-inline>li {display: inline-block}\n",
       ".list-inline>li:not(:last-child)::after {content: \"\\00b7\"; padding: 0 .5ex}\n",
       "</style>\n",
       "<ol class=list-inline><li>313</li><li>2</li></ol>\n"
      ],
      "text/latex": [
       "\\begin{enumerate*}\n",
       "\\item 313\n",
       "\\item 2\n",
       "\\end{enumerate*}\n"
      ],
      "text/markdown": [
       "1. 313\n",
       "2. 2\n",
       "\n",
       "\n"
      ],
      "text/plain": [
       "[1] 313   2"
      ]
     },
     "metadata": {},
     "output_type": "display_data"
    },
    {
     "data": {
      "text/html": [
       "<table class=\"dataframe\">\n",
       "<caption>A data.frame: 6 × 2</caption>\n",
       "<thead>\n",
       "\t<tr><th></th><th scope=col>PATHWAY_ID</th><th scope=col>COEF</th></tr>\n",
       "\t<tr><th></th><th scope=col>&lt;chr&gt;</th><th scope=col>&lt;dbl&gt;</th></tr>\n",
       "</thead>\n",
       "<tbody>\n",
       "\t<tr><th scope=row>1</th><td>R-HSA-5602410</td><td>-2.489379e-04</td></tr>\n",
       "\t<tr><th scope=row>2</th><td>R-HSA-3878781</td><td> 1.430585e-04</td></tr>\n",
       "\t<tr><th scope=row>3</th><td>R-HSA-162585 </td><td>-1.337142e-04</td></tr>\n",
       "\t<tr><th scope=row>4</th><td>R-HSA-190371 </td><td>-1.162608e-04</td></tr>\n",
       "\t<tr><th scope=row>5</th><td>R-HSA-193670 </td><td>-7.952434e-05</td></tr>\n",
       "\t<tr><th scope=row>6</th><td>R-HSA-198323 </td><td> 7.369436e-05</td></tr>\n",
       "</tbody>\n",
       "</table>\n"
      ],
      "text/latex": [
       "A data.frame: 6 × 2\n",
       "\\begin{tabular}{r|ll}\n",
       "  & PATHWAY\\_ID & COEF\\\\\n",
       "  & <chr> & <dbl>\\\\\n",
       "\\hline\n",
       "\t1 & R-HSA-5602410 & -2.489379e-04\\\\\n",
       "\t2 & R-HSA-3878781 &  1.430585e-04\\\\\n",
       "\t3 & R-HSA-162585  & -1.337142e-04\\\\\n",
       "\t4 & R-HSA-190371  & -1.162608e-04\\\\\n",
       "\t5 & R-HSA-193670  & -7.952434e-05\\\\\n",
       "\t6 & R-HSA-198323  &  7.369436e-05\\\\\n",
       "\\end{tabular}\n"
      ],
      "text/markdown": [
       "\n",
       "A data.frame: 6 × 2\n",
       "\n",
       "| <!--/--> | PATHWAY_ID &lt;chr&gt; | COEF &lt;dbl&gt; |\n",
       "|---|---|---|\n",
       "| 1 | R-HSA-5602410 | -2.489379e-04 |\n",
       "| 2 | R-HSA-3878781 |  1.430585e-04 |\n",
       "| 3 | R-HSA-162585  | -1.337142e-04 |\n",
       "| 4 | R-HSA-190371  | -1.162608e-04 |\n",
       "| 5 | R-HSA-193670  | -7.952434e-05 |\n",
       "| 6 | R-HSA-198323  |  7.369436e-05 |\n",
       "\n"
      ],
      "text/plain": [
       "  PATHWAY_ID    COEF         \n",
       "1 R-HSA-5602410 -2.489379e-04\n",
       "2 R-HSA-3878781  1.430585e-04\n",
       "3 R-HSA-162585  -1.337142e-04\n",
       "4 R-HSA-190371  -1.162608e-04\n",
       "5 R-HSA-193670  -7.952434e-05\n",
       "6 R-HSA-198323   7.369436e-05"
      ]
     },
     "metadata": {},
     "output_type": "display_data"
    }
   ],
   "source": [
    "coef = coef(avg_gene_msbb_lasso, s = 'lambda.1se')\n",
    "inds = which(coef != 0)\n",
    "PATHWAY_ID = rownames(coef)[inds]\n",
    "pathway_df = data.frame(PATHWAY_ID)\n",
    "COEF = coef[inds]\n",
    "coef_df = data.frame(COEF)\n",
    "avg_gene_msbb_important = cbind(pathway_df, coef_df)\n",
    "avg_gene_msbb_important = avg_gene_msbb_important %>%\n",
    "filter(!grepl('Intercept', PATHWAY_ID)) %>%\n",
    "arrange(-abs(COEF))\n",
    "dim(avg_gene_msbb_important)\n",
    "head(avg_gene_msbb_important)"
   ]
  },
  {
   "cell_type": "markdown",
   "id": "3dfab866-d81e-418f-8caa-fe0a404e3f48",
   "metadata": {},
   "source": [
    "## map to pathway names and genes"
   ]
  },
  {
   "cell_type": "markdown",
   "id": "9f18c974-d24b-46f0-8900-eccf92d795bf",
   "metadata": {},
   "source": [
    "### clean pathway map"
   ]
  },
  {
   "cell_type": "code",
   "execution_count": 168,
   "id": "095f3d72-1386-409b-a44c-54db5b805958",
   "metadata": {},
   "outputs": [
    {
     "data": {
      "text/html": [
       "2722"
      ],
      "text/latex": [
       "2722"
      ],
      "text/markdown": [
       "2722"
      ],
      "text/plain": [
       "[1] 2722"
      ]
     },
     "metadata": {},
     "output_type": "display_data"
    }
   ],
   "source": [
    "length(unique(all_path_map$PATHWAY_ID))"
   ]
  },
  {
   "cell_type": "code",
   "execution_count": 166,
   "id": "b6b7b3f7-fe4e-4596-8ed0-ee511eeba197",
   "metadata": {},
   "outputs": [
    {
     "data": {
      "text/html": [
       "<table class=\"dataframe\">\n",
       "<caption>A data.frame: 6 × 4</caption>\n",
       "<thead>\n",
       "\t<tr><th></th><th scope=col>PATHWAY_NAME</th><th scope=col>PATHWAY_ID</th><th scope=col>GENE</th><th scope=col>SOURCE</th></tr>\n",
       "\t<tr><th></th><th scope=col>&lt;chr&gt;</th><th scope=col>&lt;chr&gt;</th><th scope=col>&lt;chr&gt;</th><th scope=col>&lt;chr&gt;</th></tr>\n",
       "</thead>\n",
       "<tbody>\n",
       "\t<tr><th scope=row>1</th><td>Activation of IRF3, IRF7 mediated by TBK1, IKKε (IKBKE)</td><td>R-HSA-936964</td><td>CD14 </td><td>MSBB_MA;MSBB_RS;MSBB_TP;ROSMAP_MA;ROSMAP_RS;ROSMAP_SP</td></tr>\n",
       "\t<tr><th scope=row>2</th><td>Activation of IRF3, IRF7 mediated by TBK1, IKKε (IKBKE)</td><td>R-HSA-936964</td><td>IKBKE</td><td>MSBB_MA;MSBB_TP;ROSMAP_MA                            </td></tr>\n",
       "\t<tr><th scope=row>3</th><td>Activation of IRF3, IRF7 mediated by TBK1, IKKε (IKBKE)</td><td>R-HSA-936964</td><td>IRF3 </td><td>MSBB_MA;MSBB_RS;ROSMAP_MA;ROSMAP_RS;ROSMAP_SP        </td></tr>\n",
       "\t<tr><th scope=row>4</th><td>Activation of IRF3, IRF7 mediated by TBK1, IKKε (IKBKE)</td><td>R-HSA-936964</td><td>IRF7 </td><td>MSBB_MA;ROSMAP_MA;ROSMAP_RS                          </td></tr>\n",
       "\t<tr><th scope=row>5</th><td>Activation of IRF3, IRF7 mediated by TBK1, IKKε (IKBKE)</td><td>R-HSA-936964</td><td>LY96 </td><td>ADSP_GS;MSBB_MA;MSBB_RS;ROSMAP_MA;ROSMAP_RS;ROSMAP_SP</td></tr>\n",
       "\t<tr><th scope=row>6</th><td>Activation of IRF3, IRF7 mediated by TBK1, IKKε (IKBKE)</td><td>R-HSA-936964</td><td>OPTN </td><td>ADSP_GS;MSBB_MA;MSBB_RS;MSBB_TP;ROSMAP_MA;ROSMAP_RS  </td></tr>\n",
       "</tbody>\n",
       "</table>\n"
      ],
      "text/latex": [
       "A data.frame: 6 × 4\n",
       "\\begin{tabular}{r|llll}\n",
       "  & PATHWAY\\_NAME & PATHWAY\\_ID & GENE & SOURCE\\\\\n",
       "  & <chr> & <chr> & <chr> & <chr>\\\\\n",
       "\\hline\n",
       "\t1 & Activation of IRF3, IRF7 mediated by TBK1, IKKε (IKBKE) & R-HSA-936964 & CD14  & MSBB\\_MA;MSBB\\_RS;MSBB\\_TP;ROSMAP\\_MA;ROSMAP\\_RS;ROSMAP\\_SP\\\\\n",
       "\t2 & Activation of IRF3, IRF7 mediated by TBK1, IKKε (IKBKE) & R-HSA-936964 & IKBKE & MSBB\\_MA;MSBB\\_TP;ROSMAP\\_MA                            \\\\\n",
       "\t3 & Activation of IRF3, IRF7 mediated by TBK1, IKKε (IKBKE) & R-HSA-936964 & IRF3  & MSBB\\_MA;MSBB\\_RS;ROSMAP\\_MA;ROSMAP\\_RS;ROSMAP\\_SP        \\\\\n",
       "\t4 & Activation of IRF3, IRF7 mediated by TBK1, IKKε (IKBKE) & R-HSA-936964 & IRF7  & MSBB\\_MA;ROSMAP\\_MA;ROSMAP\\_RS                          \\\\\n",
       "\t5 & Activation of IRF3, IRF7 mediated by TBK1, IKKε (IKBKE) & R-HSA-936964 & LY96  & ADSP\\_GS;MSBB\\_MA;MSBB\\_RS;ROSMAP\\_MA;ROSMAP\\_RS;ROSMAP\\_SP\\\\\n",
       "\t6 & Activation of IRF3, IRF7 mediated by TBK1, IKKε (IKBKE) & R-HSA-936964 & OPTN  & ADSP\\_GS;MSBB\\_MA;MSBB\\_RS;MSBB\\_TP;ROSMAP\\_MA;ROSMAP\\_RS  \\\\\n",
       "\\end{tabular}\n"
      ],
      "text/markdown": [
       "\n",
       "A data.frame: 6 × 4\n",
       "\n",
       "| <!--/--> | PATHWAY_NAME &lt;chr&gt; | PATHWAY_ID &lt;chr&gt; | GENE &lt;chr&gt; | SOURCE &lt;chr&gt; |\n",
       "|---|---|---|---|---|\n",
       "| 1 | Activation of IRF3, IRF7 mediated by TBK1, IKKε (IKBKE) | R-HSA-936964 | CD14  | MSBB_MA;MSBB_RS;MSBB_TP;ROSMAP_MA;ROSMAP_RS;ROSMAP_SP |\n",
       "| 2 | Activation of IRF3, IRF7 mediated by TBK1, IKKε (IKBKE) | R-HSA-936964 | IKBKE | MSBB_MA;MSBB_TP;ROSMAP_MA                             |\n",
       "| 3 | Activation of IRF3, IRF7 mediated by TBK1, IKKε (IKBKE) | R-HSA-936964 | IRF3  | MSBB_MA;MSBB_RS;ROSMAP_MA;ROSMAP_RS;ROSMAP_SP         |\n",
       "| 4 | Activation of IRF3, IRF7 mediated by TBK1, IKKε (IKBKE) | R-HSA-936964 | IRF7  | MSBB_MA;ROSMAP_MA;ROSMAP_RS                           |\n",
       "| 5 | Activation of IRF3, IRF7 mediated by TBK1, IKKε (IKBKE) | R-HSA-936964 | LY96  | ADSP_GS;MSBB_MA;MSBB_RS;ROSMAP_MA;ROSMAP_RS;ROSMAP_SP |\n",
       "| 6 | Activation of IRF3, IRF7 mediated by TBK1, IKKε (IKBKE) | R-HSA-936964 | OPTN  | ADSP_GS;MSBB_MA;MSBB_RS;MSBB_TP;ROSMAP_MA;ROSMAP_RS   |\n",
       "\n"
      ],
      "text/plain": [
       "  PATHWAY_NAME                                            PATHWAY_ID   GENE \n",
       "1 Activation of IRF3, IRF7 mediated by TBK1, IKKε (IKBKE) R-HSA-936964 CD14 \n",
       "2 Activation of IRF3, IRF7 mediated by TBK1, IKKε (IKBKE) R-HSA-936964 IKBKE\n",
       "3 Activation of IRF3, IRF7 mediated by TBK1, IKKε (IKBKE) R-HSA-936964 IRF3 \n",
       "4 Activation of IRF3, IRF7 mediated by TBK1, IKKε (IKBKE) R-HSA-936964 IRF7 \n",
       "5 Activation of IRF3, IRF7 mediated by TBK1, IKKε (IKBKE) R-HSA-936964 LY96 \n",
       "6 Activation of IRF3, IRF7 mediated by TBK1, IKKε (IKBKE) R-HSA-936964 OPTN \n",
       "  SOURCE                                               \n",
       "1 MSBB_MA;MSBB_RS;MSBB_TP;ROSMAP_MA;ROSMAP_RS;ROSMAP_SP\n",
       "2 MSBB_MA;MSBB_TP;ROSMAP_MA                            \n",
       "3 MSBB_MA;MSBB_RS;ROSMAP_MA;ROSMAP_RS;ROSMAP_SP        \n",
       "4 MSBB_MA;ROSMAP_MA;ROSMAP_RS                          \n",
       "5 ADSP_GS;MSBB_MA;MSBB_RS;ROSMAP_MA;ROSMAP_RS;ROSMAP_SP\n",
       "6 ADSP_GS;MSBB_MA;MSBB_RS;MSBB_TP;ROSMAP_MA;ROSMAP_RS  "
      ]
     },
     "metadata": {},
     "output_type": "display_data"
    }
   ],
   "source": [
    "all_path_map %>%\n",
    "filter(grepl(',', PATHWAY_NAME)) %>%\n",
    "head()"
   ]
  },
  {
   "cell_type": "code",
   "execution_count": 171,
   "id": "4666bed1-0b55-443e-bd6a-4cda9a9064cf",
   "metadata": {},
   "outputs": [
    {
     "data": {
      "text/html": [
       "<table class=\"dataframe\">\n",
       "<caption>A data.frame: 6 × 5</caption>\n",
       "<thead>\n",
       "\t<tr><th></th><th scope=col>PATHWAY_NAME</th><th scope=col>PATHWAY_ID</th><th scope=col>GENE</th><th scope=col>SOURCE</th><th scope=col>N_SEMICOLONS</th></tr>\n",
       "\t<tr><th></th><th scope=col>&lt;chr&gt;</th><th scope=col>&lt;chr&gt;</th><th scope=col>&lt;chr&gt;</th><th scope=col>&lt;chr&gt;</th><th scope=col>&lt;int&gt;</th></tr>\n",
       "</thead>\n",
       "<tbody>\n",
       "\t<tr><th scope=row>1</th><td>Interleukin-6 signaling</td><td>R-HSA-1059683</td><td>IL6ST</td><td>ADSP_GS;MSBB_MA;MSBB_RS;MSBB_TP;ROSMAP_MA;ROSMAP_RS;ROSMAP_SP</td><td>6</td></tr>\n",
       "\t<tr><th scope=row>2</th><td>Interleukin-6 signaling</td><td>R-HSA-1059683</td><td>JAK2 </td><td>ADSP_GS;MSBB_MA;MSBB_RS;MSBB_TP;ROSMAP_MA;ROSMAP_RS;ROSMAP_SP</td><td>6</td></tr>\n",
       "\t<tr><th scope=row>3</th><td>Interleukin-6 signaling</td><td>R-HSA-1059683</td><td>STAT1</td><td>ADSP_GS;MSBB_MA;MSBB_RS;MSBB_TP;ROSMAP_MA;ROSMAP_RS;ROSMAP_SP</td><td>6</td></tr>\n",
       "\t<tr><th scope=row>4</th><td>Interleukin-6 signaling</td><td>R-HSA-1059683</td><td>CBL  </td><td>MSBB_MA;MSBB_RS;MSBB_TP;ROSMAP_MA;ROSMAP_RS;ROSMAP_SP        </td><td>5</td></tr>\n",
       "\t<tr><th scope=row>5</th><td>Interleukin-6 signaling</td><td>R-HSA-1059683</td><td>IL6R </td><td>ADSP_GS;MSBB_MA;MSBB_RS;ROSMAP_MA;ROSMAP_RS;ROSMAP_SP        </td><td>5</td></tr>\n",
       "\t<tr><th scope=row>6</th><td>Interleukin-6 signaling</td><td>R-HSA-1059683</td><td>JAK1 </td><td>ADSP_GS;MSBB_MA;MSBB_RS;MSBB_TP;ROSMAP_MA;ROSMAP_RS          </td><td>5</td></tr>\n",
       "</tbody>\n",
       "</table>\n"
      ],
      "text/latex": [
       "A data.frame: 6 × 5\n",
       "\\begin{tabular}{r|lllll}\n",
       "  & PATHWAY\\_NAME & PATHWAY\\_ID & GENE & SOURCE & N\\_SEMICOLONS\\\\\n",
       "  & <chr> & <chr> & <chr> & <chr> & <int>\\\\\n",
       "\\hline\n",
       "\t1 & Interleukin-6 signaling & R-HSA-1059683 & IL6ST & ADSP\\_GS;MSBB\\_MA;MSBB\\_RS;MSBB\\_TP;ROSMAP\\_MA;ROSMAP\\_RS;ROSMAP\\_SP & 6\\\\\n",
       "\t2 & Interleukin-6 signaling & R-HSA-1059683 & JAK2  & ADSP\\_GS;MSBB\\_MA;MSBB\\_RS;MSBB\\_TP;ROSMAP\\_MA;ROSMAP\\_RS;ROSMAP\\_SP & 6\\\\\n",
       "\t3 & Interleukin-6 signaling & R-HSA-1059683 & STAT1 & ADSP\\_GS;MSBB\\_MA;MSBB\\_RS;MSBB\\_TP;ROSMAP\\_MA;ROSMAP\\_RS;ROSMAP\\_SP & 6\\\\\n",
       "\t4 & Interleukin-6 signaling & R-HSA-1059683 & CBL   & MSBB\\_MA;MSBB\\_RS;MSBB\\_TP;ROSMAP\\_MA;ROSMAP\\_RS;ROSMAP\\_SP         & 5\\\\\n",
       "\t5 & Interleukin-6 signaling & R-HSA-1059683 & IL6R  & ADSP\\_GS;MSBB\\_MA;MSBB\\_RS;ROSMAP\\_MA;ROSMAP\\_RS;ROSMAP\\_SP         & 5\\\\\n",
       "\t6 & Interleukin-6 signaling & R-HSA-1059683 & JAK1  & ADSP\\_GS;MSBB\\_MA;MSBB\\_RS;MSBB\\_TP;ROSMAP\\_MA;ROSMAP\\_RS           & 5\\\\\n",
       "\\end{tabular}\n"
      ],
      "text/markdown": [
       "\n",
       "A data.frame: 6 × 5\n",
       "\n",
       "| <!--/--> | PATHWAY_NAME &lt;chr&gt; | PATHWAY_ID &lt;chr&gt; | GENE &lt;chr&gt; | SOURCE &lt;chr&gt; | N_SEMICOLONS &lt;int&gt; |\n",
       "|---|---|---|---|---|---|\n",
       "| 1 | Interleukin-6 signaling | R-HSA-1059683 | IL6ST | ADSP_GS;MSBB_MA;MSBB_RS;MSBB_TP;ROSMAP_MA;ROSMAP_RS;ROSMAP_SP | 6 |\n",
       "| 2 | Interleukin-6 signaling | R-HSA-1059683 | JAK2  | ADSP_GS;MSBB_MA;MSBB_RS;MSBB_TP;ROSMAP_MA;ROSMAP_RS;ROSMAP_SP | 6 |\n",
       "| 3 | Interleukin-6 signaling | R-HSA-1059683 | STAT1 | ADSP_GS;MSBB_MA;MSBB_RS;MSBB_TP;ROSMAP_MA;ROSMAP_RS;ROSMAP_SP | 6 |\n",
       "| 4 | Interleukin-6 signaling | R-HSA-1059683 | CBL   | MSBB_MA;MSBB_RS;MSBB_TP;ROSMAP_MA;ROSMAP_RS;ROSMAP_SP         | 5 |\n",
       "| 5 | Interleukin-6 signaling | R-HSA-1059683 | IL6R  | ADSP_GS;MSBB_MA;MSBB_RS;ROSMAP_MA;ROSMAP_RS;ROSMAP_SP         | 5 |\n",
       "| 6 | Interleukin-6 signaling | R-HSA-1059683 | JAK1  | ADSP_GS;MSBB_MA;MSBB_RS;MSBB_TP;ROSMAP_MA;ROSMAP_RS           | 5 |\n",
       "\n"
      ],
      "text/plain": [
       "  PATHWAY_NAME            PATHWAY_ID    GENE \n",
       "1 Interleukin-6 signaling R-HSA-1059683 IL6ST\n",
       "2 Interleukin-6 signaling R-HSA-1059683 JAK2 \n",
       "3 Interleukin-6 signaling R-HSA-1059683 STAT1\n",
       "4 Interleukin-6 signaling R-HSA-1059683 CBL  \n",
       "5 Interleukin-6 signaling R-HSA-1059683 IL6R \n",
       "6 Interleukin-6 signaling R-HSA-1059683 JAK1 \n",
       "  SOURCE                                                        N_SEMICOLONS\n",
       "1 ADSP_GS;MSBB_MA;MSBB_RS;MSBB_TP;ROSMAP_MA;ROSMAP_RS;ROSMAP_SP 6           \n",
       "2 ADSP_GS;MSBB_MA;MSBB_RS;MSBB_TP;ROSMAP_MA;ROSMAP_RS;ROSMAP_SP 6           \n",
       "3 ADSP_GS;MSBB_MA;MSBB_RS;MSBB_TP;ROSMAP_MA;ROSMAP_RS;ROSMAP_SP 6           \n",
       "4 MSBB_MA;MSBB_RS;MSBB_TP;ROSMAP_MA;ROSMAP_RS;ROSMAP_SP         5           \n",
       "5 ADSP_GS;MSBB_MA;MSBB_RS;ROSMAP_MA;ROSMAP_RS;ROSMAP_SP         5           \n",
       "6 ADSP_GS;MSBB_MA;MSBB_RS;MSBB_TP;ROSMAP_MA;ROSMAP_RS           5           "
      ]
     },
     "metadata": {},
     "output_type": "display_data"
    }
   ],
   "source": [
    "all_path_map %>%\n",
    "mutate(PATHWAY_NAME = gsub(',', ';', PATHWAY_NAME),\n",
    "       N_SEMICOLONS = stringr::str_count(SOURCE, \";\")) %>%\n",
    "arrange(PATHWAY_ID, -N_SEMICOLONS)%>%\n",
    "head()"
   ]
  },
  {
   "cell_type": "code",
   "execution_count": 172,
   "id": "237c0a4b-566f-4244-979c-e26e80bd2952",
   "metadata": {},
   "outputs": [
    {
     "data": {
      "text/html": [
       "2722"
      ],
      "text/latex": [
       "2722"
      ],
      "text/markdown": [
       "2722"
      ],
      "text/plain": [
       "[1] 2722"
      ]
     },
     "metadata": {},
     "output_type": "display_data"
    },
    {
     "data": {
      "text/html": [
       "<table class=\"dataframe\">\n",
       "<caption>A tibble: 6 × 5</caption>\n",
       "<thead>\n",
       "\t<tr><th scope=col>PATHWAY_ID</th><th scope=col>PATHWAY_NAME</th><th scope=col>N_GENES</th><th scope=col>GENES</th><th scope=col>SOURCE</th></tr>\n",
       "\t<tr><th scope=col>&lt;chr&gt;</th><th scope=col>&lt;chr&gt;</th><th scope=col>&lt;int&gt;</th><th scope=col>&lt;chr&gt;</th><th scope=col>&lt;chr&gt;</th></tr>\n",
       "</thead>\n",
       "<tbody>\n",
       "\t<tr><td>R-HSA-1059683</td><td>Interleukin-6 signaling        </td><td> 11</td><td>IL6;SOCS3;CBL;IL6R;JAK1;PTPN11;STAT3;TYK2;IL6ST;JAK2;STAT1                                                                                                                                                                                                                                                                                                                                                                                                                                                                                                                                                                                                                                                                                                                                                                                                                                                                                                                                                                                                                                                                                                                                                                                                                                                                                                                                                                                                                                                                                                                                                                                                                                                                                                                                                                                                                                                                                                                                                                                                                                                                                                                                                                                                                                                                                                                                                                                                                                                                                                                                                                                                                                                                                                                                                                                                                                                                                                                                                                                                                                                                                                                                                                                                                                                                                                                                                                                                                                                                                                                                                                                                                                                                                                                                                                                                                                                                                                                                                                                                                                                                                                                                                                                </td><td>MSBB_MA;ROSMAP_MA;ROSMAP_RS;ROSMAP_SP      </td></tr>\n",
       "\t<tr><td>R-HSA-109581 </td><td>Apoptosis                      </td><td>166</td><td>H1-1;H1-5;STK26;BMX;H1-0;H1-3;H1-4;SEM1;CLSPN;FASLG;H1-2;SEPT4;XIAP;BAK1;BBC3;BCAP31;BMF;CARD8;CASP9;CDKN2A;DFFB;DSG1;E2F1;GSDME;GZMB;MAGED1;PKP1;PLEC;PMAIP1;PSMB3;TFDP2;TICAM1;TP73;APC;CASP6;CASP8;CDH1;CFLAR;DSG2;DSG3;GSDMD;LMNA;OMA1;PPP1R13B;PPP3CC;PSMC1;PSMC4;PSMD12;PSMD13;PSMD2;PSMD3;PSMD8;ROCK1;SFN;TFDP1;TLR4;TNFRSF10B;TP53;TP63;UACA;UBA52;UBC;ACIN1;ADD1;AKT1;AKT2;AKT3;APAF1;APIP;ARHGAP10;BAD;BAX;BCL2;BCL2L1;BCL2L11;BIRC2;C1QBP;CASP3;CASP7;CD14;CTNNB1;CYCS;DAPK2;DAPK3;DBNL;DFFA;DIABLO;DNM1L;DSP;DYNLL1;DYNLL2;FADD;FNTA;GAS2;HMGB1;HMGB2;KPNA1;LY96;OCLN;OPA1;PAK2;PPP3R1;PSMA2;PSMA3;PSMA4;PSMA5;PSMA7;PSMB1;PSMB2;PSMB4;PSMB5;PSMB6;PSMB7;PSMC2;PSMC5;PSMC6;PSMD1;PSMD11;PSMD14;PSMD6;PSMD7;PTK2;RPS27A;SPTAN1;STAT3;STK24;TICAM2;TJP1;TJP2;TNFRSF10A;TNFSF10;TP53BP2;TRADD;TRAF2;UBB;UNC5A;UNC5B;VIM;YWHAB;YWHAG;YWHAH;YWHAZ;ADRM1;APPL1;AVEN;BID;DAPK1;DCC;FAS;GSN;KPNB1;LMNB1;MAPK1;MAPK3;MAPK8;MAPT;NMT1;PRKCD;PRKCQ;PSMA1;PSMA6;PSMC3;RIPK1;SATB1;YWHAE;YWHAQ                                                                                                                                                                                                                                                                                                                                                                                                                                                                                                                                                                                                                                                                                                                                                                                                                                                                                                                                                                                                                                                                                                                                                                                                                                                                                                                                                                                                                                                                                                                                                                                                                                                                                                                                                                                                                                                                                                                                                                                                                                                                                                                                                                                                                                                                                                                                                                                                                                                                                                                                                                                                                                                                                                                                                                                                                                                                                                                                                                                                                                                                                                                                                                                                                                             </td><td>MSBB_RS                                    </td></tr>\n",
       "\t<tr><td>R-HSA-109582 </td><td>Hemostasis                     </td><td>658</td><td>DGKK;GATA1;IFNA10;IFNA16;IFNA5;IGHV1-2;IGHV2-70;IGHV3-11;IGHV3-30;IGHV3-48;IGHV3-53;IGHV3-7;IGHV4-34;IGHV4-39;IGHV7-81;IGKC;IGKV1-17;IGKV1D-16;IGKV1D-33;IGKV3-11;IGKV3-15;IGKV3-20;IGKV4-1;IGLV1-40;IGLV1-44;IGLV10-54;IGLV11-55;IGLV2-11;IGLV2-14;IGLV2-18;IGLV2-23;IGLV2-8;IGLV3-1;IGLV3-16;IGLV3-21;IGLV3-27;IGLV4-69;IGLV5-37;IGLV5-45;IGLV6-57;IGLV7-46;KIF4A;POTEKP;TUBB8B;ADRA2B;CD99;CEACAM5;CEACAM6;GATA5;GNAT3;GP9;GUCY1A3;GUCY1B3;GYPA;H3-3A;HIST1H3G;IFNA1;IFNA21;IFNA4;IFNA7;IFNB1;IGHA1;IGHV1-46;IGHV1-69;IGHV3-13;IGHV3-9;IGKV1-5;IGKV3D-20;IGLC2;IGLC7;IGLV1-47;IGLV3-19;IGLV3-25;IGLV8-61;JAML;KIF20A;LY6G6F;ORAI1;ORM2;P2RX3;PIK3R6;PRKACG;PSG3;PSG4;VEGFD;VPREB1;APOOL;ATP2B3;CEACAM1;CEACAM8;CTSW;DOCK11;EPCAM;F2RL2;F8;F9;FCAMR;GATA2;GATA3;GATA4;GATA6;GNG8;GNGT1;GUCY1B2;GYPB;HBG1;IFNA14;IFNA2;IFNA6;IFNA8;IGHA2;IGHM;JCHAIN;KCNMB1;KIF18A;KIF18B;KIF2B;KIF4B;KIFC1;LAMP2;MAGED2;MMRN1;NFE2;ORM1;P2RX1;P2RX2;P2RX5;PSG1;PSG11;PSG2;PSG5;PSG6;PSG7;PSG8;PSG9;PTGIR;RBSN;SDC1;SELENOP;SPP2;TBXA2R;TIMP1;TMSB4X;TRPC7;TSPAN7;TUBA3C;VPREB3;ACTB;ADRA2A;ADRA2C;APOH;ATP2A1;BRPF3;CALM1;CARMIL1;CD177;CD2;CD244;CD99L2;CDK2;CEACAM3;CENPE;CLEC1B;CYRIB;DOK2;F12;F13B;F2RL3;FGA;FGB;FGG;FLNA;GNB3;GNG10;GNG13;GP1BB;GP5;GRB7;IGF2;IGLL1;IRAG1;KCNMB3;KIF11;KIF12;KIF15;KIF20B;KIF23;KIF25;KIF26A;KIF2C;L1CAM;LAT;MMP1;MPL;MYB;NOS2;ORAI2;P2RX4;P2RY1;PECAM1;PF4;PF4V1;PHF21A;PIK3R2;PIK3R5;PLAU;PLAUR;PROC;PRTN3;RAD51B;RCOR1;SERPINA4;SERPINB2;SH2B2;SLC16A8;SLC7A7;SLC7A9;SPN;STXBP2;SYTL4;THBD;THPO;TOR4A;TREM1;TUBA1C;TUBA3E;TUBA4B;TUBAL3;TUBB1;TUBB4A;TUBB4B;TUBB8;WEE1;ZFPM2;A1BG;AAMP;ADAMTS13;AHSG;AKAP1;ANGPT2;ANGPT4;APOA1;APOB;ATP2A2;ATP2A3;ATP2B4;BCAR1;CALU;CAPZA2;CAV1;CD36;CD48;CFD;COL1A1;COL1A2;DAGLB;DGKA;DGKE;DOCK10;DOCK5;DOCK6;DOCK7;EGF;ENDOD1;F10;F2;F2R;F7;FCER1G;FGR;GAS6;GNA11;GNA13;GNA15;GNAI2;GNAS;GNB1;GNB2;GNB4;GNB5;GNG3;GNG5;GNGT2;GP1BA;GP6;GRB14;GTPBP2;GYPC;HBD;HDAC1;HGF;HMG20B;IGF1;IRF1;IRF2;ISLR;ITGA10;ITGA4;ITGAL;ITGAX;ITGB3;ITIH3;ITIH4;ITPR1;KCNMA1;KCNMB2;KCNMB4;KIF19;KIF21A;KIF27;KIF2A;KIF5A;KIF6;KIF9;KIFAP3;KIFC2;KLC2;KLC4;KNG1;LCK;LCP2;LHFPL2;MAFF;MAFK;MFN2;MIF;OLR1;P2RX6;PAFAH2;PDE9A;PDPN;PIK3CG;PIK3R3;PPP2CA;PPP2CB;PPP2R5E;PRKACB;PROCR;PTPN6;RAC2;RAP1B;RASGRP2;SDC2;SDC4;SELE;SELP;SERPINA5;SERPINB6;SERPINC1;SERPINE1;SH2B3;SIN3A;SIRPG;SLC16A1;SLC7A11;SLC7A6;SLC7A8;SLC8A2;STXBP3;TEX264;TFPI;TGFB1;TLN1;TNFRSF10B;TP53;TRPC3;TRPC6;TUBA1A;TUBA1B;TUBB2A;TUBB2B;TUBB3;TUBB6;VEGFB;VPS45;ZFPM1;A2M;ABCC4;ABHD12;ABHD6;ABL1;ACTN2;AK3;AKAP10;AKT1;ALB;ALDOA;ANGPT1;ANXA5;APBB1IP;APLP2;ARRB2;ATP1B2;ATP2B1;ATP2B2;BSG;C1QBP;CABLES1;CABLES2;CAPZA1;CBX5;CD58;CD63;CD74;CD84;CD9;CDC37L1;CDC42;CDK5;CFL1;CLEC3B;CRK;CSK;CXADR;CYB5R1;DAGLA;DGKB;DGKD;DGKG;DGKH;DGKI;DGKQ;DGKZ;DOCK1;DOCK3;DOCK4;DOCK8;DOCK9;ECM1;EHD1;EHD2;EHD3;ESAM;F11;F11R;FAM3C;FERMT3;GLG1;GNA12;GNA14;GNAI3;GNG11;GNG12;GNG2;GNG4;GNG7;GPC1;GUCY1A2;HABP4;HBB;HBE1;HBG2;HDAC2;HRG;HSPA5;ITGA2;ITGA2B;ITGA3;ITGA5;ITGAM;ITGAV;ITGB1;ITPK1;ITPR2;ITPR3;JAM2;JMJD1C;KDM1A;KIF13B;KIF1A;KIF1B;KIF1C;KIF21B;KIF22;KIF26B;KIF3A;KIF5B;KIF5C;KLC1;KLC3;KLKB1;LEFTY2;LGALS3BP;MAFG;MANF;MAPK14;MERTK;MFN1;MGLL;MICAL1;NHLRC2;NOS1;NOS3;NRAS;OLA1;P2RX7;P2RY12;PCDH7;PCYOX1L;PDE10A;PDE11A;PDE1B;PDE5A;PDGFB;PDPK1;PFN1;PHACTR2;PICK1;PIK3CA;PIK3CB;PLAT;PLEK;PLG;PPBP;PPP2R1A;PPP2R1B;PPP2R5A;PPP2R5B;PPP2R5C;PPP2R5D;PRCP;PRKACA;PRKAR2A;PRKAR2B;PRKCE;PRKCG;PRKCH;PRKG2;PROS1;PTK2;PTPN1;PTPN11;QSOX1;RAB27B;RAC1;RACGAP1;RAD51C;RAF1;RAP1A;RAPGEF3;RAPGEF4;RARRES2;RASGRP1;RHOA;RHOB;S100A10;SCCPDH;SCG3;SDC3;SELL;SELPLG;SERPINA1;SERPINF2;SERPING1;SH2B1;SHC1;SIRPA;SLC16A3;SLC3A2;SLC7A10;SLC7A5;SLC8A1;SLC8A3;SOD1;SOS1;SRC;SRGN;STX4;TAGLN2;TEK;TF;TGFB2;TGFB3;TIMP3;TMX3;TNFRSF10A;TNFRSF10D;TUBA4A;TUBA8;VAV1;VAV2;VEGFA;VEGFC;VTI1B;WDR1;YWHAZ;ACTN1;ACTN4;ANXA2;APP;ARRB1;ATP1B1;ATP1B3;CAP1;CAPZB;CD109;CD44;CD47;CHID1;CLU;DOCK2;F13A1;F5;FN1;FYN;GNAI1;GNAQ;GRB2;HRAS;INPP5D;ITGA1;ITGA6;ITGB2;JAK2;JAM3;KIF16B;KIF3B;KIF3C;KRAS;LRP8;LYN;MAG;MAPK1;MAPK3;PDE1A;PDE2A;PDGFA;PIK3R1;PLA2G4A;PLCG1;PLCG2;PPIA;PPIL2;PRKAR1A;PRKAR1B;PRKCA;PRKCB;PRKCD;PRKCQ;PRKCZ;PRKG1;PSAP;RAB5A;RHOG;SERPINA3;SERPINB8;SERPIND1;SERPINE2;SPARC;SRI;STIM1;SYK;THBS1;TTN;VAV3;VCL;VWF;YES1</td><td>MSBB_MA                                    </td></tr>\n",
       "\t<tr><td>R-HSA-109606 </td><td>Intrinsic Pathway for Apoptosis</td><td> 55</td><td>SEPT4;XIAP;BAK1;BBC3;BMF;CARD8;CASP9;CDKN2A;E2F1;GSDME;GZMB;PMAIP1;TFDP2;TP73;CASP8;GSDMD;PPP1R13B;PPP3CC;SFN;TFDP1;TP53;TP63;UACA;AKT1;AKT2;AKT3;APAF1;APIP;BAD;BAX;BCL2;BCL2L1;BCL2L11;C1QBP;CASP3;CASP7;CYCS;DIABLO;DYNLL1;DYNLL2;PPP3R1;STAT3;TP53BP2;YWHAB;YWHAG;YWHAH;YWHAZ;AVEN;BID;MAPK1;MAPK3;MAPK8;NMT1;YWHAE;YWHAQ                                                                                                                                                                                                                                                                                                                                                                                                                                                                                                                                                                                                                                                                                                                                                                                                                                                                                                                                                                                                                                                                                                                                                                                                                                                                                                                                                                                                                                                                                                                                                                                                                                                                                                                                                                                                                                                                                                                                                                                                                                                                                                                                                                                                                                                                                                                                                                                                                                                                                                                                                                                                                                                                                                                                                                                                                                                                                                                                                                                                                                                                                                                                                                                                                                                                                                                                                                                                                                                                                                                                                                                                                                                                                                                                                                                                                                                                                                             </td><td>MSBB_MA;MSBB_TP;ROSMAP_MA                  </td></tr>\n",
       "\t<tr><td>R-HSA-109703 </td><td>PKB-mediated events            </td><td>  2</td><td>PDE3B;AKT2                                                                                                                                                                                                                                                                                                                                                                                                                                                                                                                                                                                                                                                                                                                                                                                                                                                                                                                                                                                                                                                                                                                                                                                                                                                                                                                                                                                                                                                                                                                                                                                                                                                                                                                                                                                                                                                                                                                                                                                                                                                                                                                                                                                                                                                                                                                                                                                                                                                                                                                                                                                                                                                                                                                                                                                                                                                                                                                                                                                                                                                                                                                                                                                                                                                                                                                                                                                                                                                                                                                                                                                                                                                                                                                                                                                                                                                                                                                                                                                                                                                                                                                                                                                                                                </td><td>ADSP_GS;MSBB_MA;MSBB_RS;ROSMAP_MA;ROSMAP_RS</td></tr>\n",
       "\t<tr><td>R-HSA-109704 </td><td>PI3K Cascade                   </td><td> 44</td><td>FGF16;FGF19;FGF3;FGF4;FGF6;TLR9;FGF18;FGF20;FGF23;FGF5;FGF8;FLT3LG;IRS1;PIK3R2;TRIB3;FGF10;FGF17;FGF7;FGF9;FGFR1;FGFR4;KLB;PDE3B;PIK3R4;AKT2;FGF22;FGFR3;FLT3;GAB1;GAB2;IRS2;KL;PDPK1;PIK3CA;PIK3CB;PTPN11;THEM4;FGF1;FGF2;FGFR2;FRS2;GRB2;PIK3C3;PIK3R1                                                                                                                                                                                                                                                                                                                                                                                                                                                                                                                                                                                                                                                                                                                                                                                                                                                                                                                                                                                                                                                                                                                                                                                                                                                                                                                                                                                                                                                                                                                                                                                                                                                                                                                                                                                                                                                                                                                                                                                                                                                                                                                                                                                                                                                                                                                                                                                                                                                                                                                                                                                                                                                                                                                                                                                                                                                                                                                                                                                                                                                                                                                                                                                                                                                                                                                                                                                                                                                                                                                                                                                                                                                                                                                                                                                                                                                                                                                                                                                  </td><td>MSBB_MA;ROSMAP_SP                          </td></tr>\n",
       "</tbody>\n",
       "</table>\n"
      ],
      "text/latex": [
       "A tibble: 6 × 5\n",
       "\\begin{tabular}{lllll}\n",
       " PATHWAY\\_ID & PATHWAY\\_NAME & N\\_GENES & GENES & SOURCE\\\\\n",
       " <chr> & <chr> & <int> & <chr> & <chr>\\\\\n",
       "\\hline\n",
       "\t R-HSA-1059683 & Interleukin-6 signaling         &  11 & IL6;SOCS3;CBL;IL6R;JAK1;PTPN11;STAT3;TYK2;IL6ST;JAK2;STAT1                                                                                                                                                                                                                                                                                                                                                                                                                                                                                                                                                                                                                                                                                                                                                                                                                                                                                                                                                                                                                                                                                                                                                                                                                                                                                                                                                                                                                                                                                                                                                                                                                                                                                                                                                                                                                                                                                                                                                                                                                                                                                                                                                                                                                                                                                                                                                                                                                                                                                                                                                                                                                                                                                                                                                                                                                                                                                                                                                                                                                                                                                                                                                                                                                                                                                                                                                                                                                                                                                                                                                                                                                                                                                                                                                                                                                                                                                                                                                                                                                                                                                                                                                                                 & MSBB\\_MA;ROSMAP\\_MA;ROSMAP\\_RS;ROSMAP\\_SP      \\\\\n",
       "\t R-HSA-109581  & Apoptosis                       & 166 & H1-1;H1-5;STK26;BMX;H1-0;H1-3;H1-4;SEM1;CLSPN;FASLG;H1-2;SEPT4;XIAP;BAK1;BBC3;BCAP31;BMF;CARD8;CASP9;CDKN2A;DFFB;DSG1;E2F1;GSDME;GZMB;MAGED1;PKP1;PLEC;PMAIP1;PSMB3;TFDP2;TICAM1;TP73;APC;CASP6;CASP8;CDH1;CFLAR;DSG2;DSG3;GSDMD;LMNA;OMA1;PPP1R13B;PPP3CC;PSMC1;PSMC4;PSMD12;PSMD13;PSMD2;PSMD3;PSMD8;ROCK1;SFN;TFDP1;TLR4;TNFRSF10B;TP53;TP63;UACA;UBA52;UBC;ACIN1;ADD1;AKT1;AKT2;AKT3;APAF1;APIP;ARHGAP10;BAD;BAX;BCL2;BCL2L1;BCL2L11;BIRC2;C1QBP;CASP3;CASP7;CD14;CTNNB1;CYCS;DAPK2;DAPK3;DBNL;DFFA;DIABLO;DNM1L;DSP;DYNLL1;DYNLL2;FADD;FNTA;GAS2;HMGB1;HMGB2;KPNA1;LY96;OCLN;OPA1;PAK2;PPP3R1;PSMA2;PSMA3;PSMA4;PSMA5;PSMA7;PSMB1;PSMB2;PSMB4;PSMB5;PSMB6;PSMB7;PSMC2;PSMC5;PSMC6;PSMD1;PSMD11;PSMD14;PSMD6;PSMD7;PTK2;RPS27A;SPTAN1;STAT3;STK24;TICAM2;TJP1;TJP2;TNFRSF10A;TNFSF10;TP53BP2;TRADD;TRAF2;UBB;UNC5A;UNC5B;VIM;YWHAB;YWHAG;YWHAH;YWHAZ;ADRM1;APPL1;AVEN;BID;DAPK1;DCC;FAS;GSN;KPNB1;LMNB1;MAPK1;MAPK3;MAPK8;MAPT;NMT1;PRKCD;PRKCQ;PSMA1;PSMA6;PSMC3;RIPK1;SATB1;YWHAE;YWHAQ                                                                                                                                                                                                                                                                                                                                                                                                                                                                                                                                                                                                                                                                                                                                                                                                                                                                                                                                                                                                                                                                                                                                                                                                                                                                                                                                                                                                                                                                                                                                                                                                                                                                                                                                                                                                                                                                                                                                                                                                                                                                                                                                                                                                                                                                                                                                                                                                                                                                                                                                                                                                                                                                                                                                                                                                                                                                                                                                                                                                                                                                                                                                                                                                                                              & MSBB\\_RS                                    \\\\\n",
       "\t R-HSA-109582  & Hemostasis                      & 658 & DGKK;GATA1;IFNA10;IFNA16;IFNA5;IGHV1-2;IGHV2-70;IGHV3-11;IGHV3-30;IGHV3-48;IGHV3-53;IGHV3-7;IGHV4-34;IGHV4-39;IGHV7-81;IGKC;IGKV1-17;IGKV1D-16;IGKV1D-33;IGKV3-11;IGKV3-15;IGKV3-20;IGKV4-1;IGLV1-40;IGLV1-44;IGLV10-54;IGLV11-55;IGLV2-11;IGLV2-14;IGLV2-18;IGLV2-23;IGLV2-8;IGLV3-1;IGLV3-16;IGLV3-21;IGLV3-27;IGLV4-69;IGLV5-37;IGLV5-45;IGLV6-57;IGLV7-46;KIF4A;POTEKP;TUBB8B;ADRA2B;CD99;CEACAM5;CEACAM6;GATA5;GNAT3;GP9;GUCY1A3;GUCY1B3;GYPA;H3-3A;HIST1H3G;IFNA1;IFNA21;IFNA4;IFNA7;IFNB1;IGHA1;IGHV1-46;IGHV1-69;IGHV3-13;IGHV3-9;IGKV1-5;IGKV3D-20;IGLC2;IGLC7;IGLV1-47;IGLV3-19;IGLV3-25;IGLV8-61;JAML;KIF20A;LY6G6F;ORAI1;ORM2;P2RX3;PIK3R6;PRKACG;PSG3;PSG4;VEGFD;VPREB1;APOOL;ATP2B3;CEACAM1;CEACAM8;CTSW;DOCK11;EPCAM;F2RL2;F8;F9;FCAMR;GATA2;GATA3;GATA4;GATA6;GNG8;GNGT1;GUCY1B2;GYPB;HBG1;IFNA14;IFNA2;IFNA6;IFNA8;IGHA2;IGHM;JCHAIN;KCNMB1;KIF18A;KIF18B;KIF2B;KIF4B;KIFC1;LAMP2;MAGED2;MMRN1;NFE2;ORM1;P2RX1;P2RX2;P2RX5;PSG1;PSG11;PSG2;PSG5;PSG6;PSG7;PSG8;PSG9;PTGIR;RBSN;SDC1;SELENOP;SPP2;TBXA2R;TIMP1;TMSB4X;TRPC7;TSPAN7;TUBA3C;VPREB3;ACTB;ADRA2A;ADRA2C;APOH;ATP2A1;BRPF3;CALM1;CARMIL1;CD177;CD2;CD244;CD99L2;CDK2;CEACAM3;CENPE;CLEC1B;CYRIB;DOK2;F12;F13B;F2RL3;FGA;FGB;FGG;FLNA;GNB3;GNG10;GNG13;GP1BB;GP5;GRB7;IGF2;IGLL1;IRAG1;KCNMB3;KIF11;KIF12;KIF15;KIF20B;KIF23;KIF25;KIF26A;KIF2C;L1CAM;LAT;MMP1;MPL;MYB;NOS2;ORAI2;P2RX4;P2RY1;PECAM1;PF4;PF4V1;PHF21A;PIK3R2;PIK3R5;PLAU;PLAUR;PROC;PRTN3;RAD51B;RCOR1;SERPINA4;SERPINB2;SH2B2;SLC16A8;SLC7A7;SLC7A9;SPN;STXBP2;SYTL4;THBD;THPO;TOR4A;TREM1;TUBA1C;TUBA3E;TUBA4B;TUBAL3;TUBB1;TUBB4A;TUBB4B;TUBB8;WEE1;ZFPM2;A1BG;AAMP;ADAMTS13;AHSG;AKAP1;ANGPT2;ANGPT4;APOA1;APOB;ATP2A2;ATP2A3;ATP2B4;BCAR1;CALU;CAPZA2;CAV1;CD36;CD48;CFD;COL1A1;COL1A2;DAGLB;DGKA;DGKE;DOCK10;DOCK5;DOCK6;DOCK7;EGF;ENDOD1;F10;F2;F2R;F7;FCER1G;FGR;GAS6;GNA11;GNA13;GNA15;GNAI2;GNAS;GNB1;GNB2;GNB4;GNB5;GNG3;GNG5;GNGT2;GP1BA;GP6;GRB14;GTPBP2;GYPC;HBD;HDAC1;HGF;HMG20B;IGF1;IRF1;IRF2;ISLR;ITGA10;ITGA4;ITGAL;ITGAX;ITGB3;ITIH3;ITIH4;ITPR1;KCNMA1;KCNMB2;KCNMB4;KIF19;KIF21A;KIF27;KIF2A;KIF5A;KIF6;KIF9;KIFAP3;KIFC2;KLC2;KLC4;KNG1;LCK;LCP2;LHFPL2;MAFF;MAFK;MFN2;MIF;OLR1;P2RX6;PAFAH2;PDE9A;PDPN;PIK3CG;PIK3R3;PPP2CA;PPP2CB;PPP2R5E;PRKACB;PROCR;PTPN6;RAC2;RAP1B;RASGRP2;SDC2;SDC4;SELE;SELP;SERPINA5;SERPINB6;SERPINC1;SERPINE1;SH2B3;SIN3A;SIRPG;SLC16A1;SLC7A11;SLC7A6;SLC7A8;SLC8A2;STXBP3;TEX264;TFPI;TGFB1;TLN1;TNFRSF10B;TP53;TRPC3;TRPC6;TUBA1A;TUBA1B;TUBB2A;TUBB2B;TUBB3;TUBB6;VEGFB;VPS45;ZFPM1;A2M;ABCC4;ABHD12;ABHD6;ABL1;ACTN2;AK3;AKAP10;AKT1;ALB;ALDOA;ANGPT1;ANXA5;APBB1IP;APLP2;ARRB2;ATP1B2;ATP2B1;ATP2B2;BSG;C1QBP;CABLES1;CABLES2;CAPZA1;CBX5;CD58;CD63;CD74;CD84;CD9;CDC37L1;CDC42;CDK5;CFL1;CLEC3B;CRK;CSK;CXADR;CYB5R1;DAGLA;DGKB;DGKD;DGKG;DGKH;DGKI;DGKQ;DGKZ;DOCK1;DOCK3;DOCK4;DOCK8;DOCK9;ECM1;EHD1;EHD2;EHD3;ESAM;F11;F11R;FAM3C;FERMT3;GLG1;GNA12;GNA14;GNAI3;GNG11;GNG12;GNG2;GNG4;GNG7;GPC1;GUCY1A2;HABP4;HBB;HBE1;HBG2;HDAC2;HRG;HSPA5;ITGA2;ITGA2B;ITGA3;ITGA5;ITGAM;ITGAV;ITGB1;ITPK1;ITPR2;ITPR3;JAM2;JMJD1C;KDM1A;KIF13B;KIF1A;KIF1B;KIF1C;KIF21B;KIF22;KIF26B;KIF3A;KIF5B;KIF5C;KLC1;KLC3;KLKB1;LEFTY2;LGALS3BP;MAFG;MANF;MAPK14;MERTK;MFN1;MGLL;MICAL1;NHLRC2;NOS1;NOS3;NRAS;OLA1;P2RX7;P2RY12;PCDH7;PCYOX1L;PDE10A;PDE11A;PDE1B;PDE5A;PDGFB;PDPK1;PFN1;PHACTR2;PICK1;PIK3CA;PIK3CB;PLAT;PLEK;PLG;PPBP;PPP2R1A;PPP2R1B;PPP2R5A;PPP2R5B;PPP2R5C;PPP2R5D;PRCP;PRKACA;PRKAR2A;PRKAR2B;PRKCE;PRKCG;PRKCH;PRKG2;PROS1;PTK2;PTPN1;PTPN11;QSOX1;RAB27B;RAC1;RACGAP1;RAD51C;RAF1;RAP1A;RAPGEF3;RAPGEF4;RARRES2;RASGRP1;RHOA;RHOB;S100A10;SCCPDH;SCG3;SDC3;SELL;SELPLG;SERPINA1;SERPINF2;SERPING1;SH2B1;SHC1;SIRPA;SLC16A3;SLC3A2;SLC7A10;SLC7A5;SLC8A1;SLC8A3;SOD1;SOS1;SRC;SRGN;STX4;TAGLN2;TEK;TF;TGFB2;TGFB3;TIMP3;TMX3;TNFRSF10A;TNFRSF10D;TUBA4A;TUBA8;VAV1;VAV2;VEGFA;VEGFC;VTI1B;WDR1;YWHAZ;ACTN1;ACTN4;ANXA2;APP;ARRB1;ATP1B1;ATP1B3;CAP1;CAPZB;CD109;CD44;CD47;CHID1;CLU;DOCK2;F13A1;F5;FN1;FYN;GNAI1;GNAQ;GRB2;HRAS;INPP5D;ITGA1;ITGA6;ITGB2;JAK2;JAM3;KIF16B;KIF3B;KIF3C;KRAS;LRP8;LYN;MAG;MAPK1;MAPK3;PDE1A;PDE2A;PDGFA;PIK3R1;PLA2G4A;PLCG1;PLCG2;PPIA;PPIL2;PRKAR1A;PRKAR1B;PRKCA;PRKCB;PRKCD;PRKCQ;PRKCZ;PRKG1;PSAP;RAB5A;RHOG;SERPINA3;SERPINB8;SERPIND1;SERPINE2;SPARC;SRI;STIM1;SYK;THBS1;TTN;VAV3;VCL;VWF;YES1 & MSBB\\_MA                                    \\\\\n",
       "\t R-HSA-109606  & Intrinsic Pathway for Apoptosis &  55 & SEPT4;XIAP;BAK1;BBC3;BMF;CARD8;CASP9;CDKN2A;E2F1;GSDME;GZMB;PMAIP1;TFDP2;TP73;CASP8;GSDMD;PPP1R13B;PPP3CC;SFN;TFDP1;TP53;TP63;UACA;AKT1;AKT2;AKT3;APAF1;APIP;BAD;BAX;BCL2;BCL2L1;BCL2L11;C1QBP;CASP3;CASP7;CYCS;DIABLO;DYNLL1;DYNLL2;PPP3R1;STAT3;TP53BP2;YWHAB;YWHAG;YWHAH;YWHAZ;AVEN;BID;MAPK1;MAPK3;MAPK8;NMT1;YWHAE;YWHAQ                                                                                                                                                                                                                                                                                                                                                                                                                                                                                                                                                                                                                                                                                                                                                                                                                                                                                                                                                                                                                                                                                                                                                                                                                                                                                                                                                                                                                                                                                                                                                                                                                                                                                                                                                                                                                                                                                                                                                                                                                                                                                                                                                                                                                                                                                                                                                                                                                                                                                                                                                                                                                                                                                                                                                                                                                                                                                                                                                                                                                                                                                                                                                                                                                                                                                                                                                                                                                                                                                                                                                                                                                                                                                                                                                                                                                                                                                                              & MSBB\\_MA;MSBB\\_TP;ROSMAP\\_MA                  \\\\\n",
       "\t R-HSA-109703  & PKB-mediated events             &   2 & PDE3B;AKT2                                                                                                                                                                                                                                                                                                                                                                                                                                                                                                                                                                                                                                                                                                                                                                                                                                                                                                                                                                                                                                                                                                                                                                                                                                                                                                                                                                                                                                                                                                                                                                                                                                                                                                                                                                                                                                                                                                                                                                                                                                                                                                                                                                                                                                                                                                                                                                                                                                                                                                                                                                                                                                                                                                                                                                                                                                                                                                                                                                                                                                                                                                                                                                                                                                                                                                                                                                                                                                                                                                                                                                                                                                                                                                                                                                                                                                                                                                                                                                                                                                                                                                                                                                                                                                 & ADSP\\_GS;MSBB\\_MA;MSBB\\_RS;ROSMAP\\_MA;ROSMAP\\_RS\\\\\n",
       "\t R-HSA-109704  & PI3K Cascade                    &  44 & FGF16;FGF19;FGF3;FGF4;FGF6;TLR9;FGF18;FGF20;FGF23;FGF5;FGF8;FLT3LG;IRS1;PIK3R2;TRIB3;FGF10;FGF17;FGF7;FGF9;FGFR1;FGFR4;KLB;PDE3B;PIK3R4;AKT2;FGF22;FGFR3;FLT3;GAB1;GAB2;IRS2;KL;PDPK1;PIK3CA;PIK3CB;PTPN11;THEM4;FGF1;FGF2;FGFR2;FRS2;GRB2;PIK3C3;PIK3R1                                                                                                                                                                                                                                                                                                                                                                                                                                                                                                                                                                                                                                                                                                                                                                                                                                                                                                                                                                                                                                                                                                                                                                                                                                                                                                                                                                                                                                                                                                                                                                                                                                                                                                                                                                                                                                                                                                                                                                                                                                                                                                                                                                                                                                                                                                                                                                                                                                                                                                                                                                                                                                                                                                                                                                                                                                                                                                                                                                                                                                                                                                                                                                                                                                                                                                                                                                                                                                                                                                                                                                                                                                                                                                                                                                                                                                                                                                                                                                                   & MSBB\\_MA;ROSMAP\\_SP                          \\\\\n",
       "\\end{tabular}\n"
      ],
      "text/markdown": [
       "\n",
       "A tibble: 6 × 5\n",
       "\n",
       "| PATHWAY_ID &lt;chr&gt; | PATHWAY_NAME &lt;chr&gt; | N_GENES &lt;int&gt; | GENES &lt;chr&gt; | SOURCE &lt;chr&gt; |\n",
       "|---|---|---|---|---|\n",
       "| R-HSA-1059683 | Interleukin-6 signaling         |  11 | IL6;SOCS3;CBL;IL6R;JAK1;PTPN11;STAT3;TYK2;IL6ST;JAK2;STAT1                                                                                                                                                                                                                                                                                                                                                                                                                                                                                                                                                                                                                                                                                                                                                                                                                                                                                                                                                                                                                                                                                                                                                                                                                                                                                                                                                                                                                                                                                                                                                                                                                                                                                                                                                                                                                                                                                                                                                                                                                                                                                                                                                                                                                                                                                                                                                                                                                                                                                                                                                                                                                                                                                                                                                                                                                                                                                                                                                                                                                                                                                                                                                                                                                                                                                                                                                                                                                                                                                                                                                                                                                                                                                                                                                                                                                                                                                                                                                                                                                                                                                                                                                                                 | MSBB_MA;ROSMAP_MA;ROSMAP_RS;ROSMAP_SP       |\n",
       "| R-HSA-109581  | Apoptosis                       | 166 | H1-1;H1-5;STK26;BMX;H1-0;H1-3;H1-4;SEM1;CLSPN;FASLG;H1-2;SEPT4;XIAP;BAK1;BBC3;BCAP31;BMF;CARD8;CASP9;CDKN2A;DFFB;DSG1;E2F1;GSDME;GZMB;MAGED1;PKP1;PLEC;PMAIP1;PSMB3;TFDP2;TICAM1;TP73;APC;CASP6;CASP8;CDH1;CFLAR;DSG2;DSG3;GSDMD;LMNA;OMA1;PPP1R13B;PPP3CC;PSMC1;PSMC4;PSMD12;PSMD13;PSMD2;PSMD3;PSMD8;ROCK1;SFN;TFDP1;TLR4;TNFRSF10B;TP53;TP63;UACA;UBA52;UBC;ACIN1;ADD1;AKT1;AKT2;AKT3;APAF1;APIP;ARHGAP10;BAD;BAX;BCL2;BCL2L1;BCL2L11;BIRC2;C1QBP;CASP3;CASP7;CD14;CTNNB1;CYCS;DAPK2;DAPK3;DBNL;DFFA;DIABLO;DNM1L;DSP;DYNLL1;DYNLL2;FADD;FNTA;GAS2;HMGB1;HMGB2;KPNA1;LY96;OCLN;OPA1;PAK2;PPP3R1;PSMA2;PSMA3;PSMA4;PSMA5;PSMA7;PSMB1;PSMB2;PSMB4;PSMB5;PSMB6;PSMB7;PSMC2;PSMC5;PSMC6;PSMD1;PSMD11;PSMD14;PSMD6;PSMD7;PTK2;RPS27A;SPTAN1;STAT3;STK24;TICAM2;TJP1;TJP2;TNFRSF10A;TNFSF10;TP53BP2;TRADD;TRAF2;UBB;UNC5A;UNC5B;VIM;YWHAB;YWHAG;YWHAH;YWHAZ;ADRM1;APPL1;AVEN;BID;DAPK1;DCC;FAS;GSN;KPNB1;LMNB1;MAPK1;MAPK3;MAPK8;MAPT;NMT1;PRKCD;PRKCQ;PSMA1;PSMA6;PSMC3;RIPK1;SATB1;YWHAE;YWHAQ                                                                                                                                                                                                                                                                                                                                                                                                                                                                                                                                                                                                                                                                                                                                                                                                                                                                                                                                                                                                                                                                                                                                                                                                                                                                                                                                                                                                                                                                                                                                                                                                                                                                                                                                                                                                                                                                                                                                                                                                                                                                                                                                                                                                                                                                                                                                                                                                                                                                                                                                                                                                                                                                                                                                                                                                                                                                                                                                                                                                                                                                                                                                                                                                                                              | MSBB_RS                                     |\n",
       "| R-HSA-109582  | Hemostasis                      | 658 | DGKK;GATA1;IFNA10;IFNA16;IFNA5;IGHV1-2;IGHV2-70;IGHV3-11;IGHV3-30;IGHV3-48;IGHV3-53;IGHV3-7;IGHV4-34;IGHV4-39;IGHV7-81;IGKC;IGKV1-17;IGKV1D-16;IGKV1D-33;IGKV3-11;IGKV3-15;IGKV3-20;IGKV4-1;IGLV1-40;IGLV1-44;IGLV10-54;IGLV11-55;IGLV2-11;IGLV2-14;IGLV2-18;IGLV2-23;IGLV2-8;IGLV3-1;IGLV3-16;IGLV3-21;IGLV3-27;IGLV4-69;IGLV5-37;IGLV5-45;IGLV6-57;IGLV7-46;KIF4A;POTEKP;TUBB8B;ADRA2B;CD99;CEACAM5;CEACAM6;GATA5;GNAT3;GP9;GUCY1A3;GUCY1B3;GYPA;H3-3A;HIST1H3G;IFNA1;IFNA21;IFNA4;IFNA7;IFNB1;IGHA1;IGHV1-46;IGHV1-69;IGHV3-13;IGHV3-9;IGKV1-5;IGKV3D-20;IGLC2;IGLC7;IGLV1-47;IGLV3-19;IGLV3-25;IGLV8-61;JAML;KIF20A;LY6G6F;ORAI1;ORM2;P2RX3;PIK3R6;PRKACG;PSG3;PSG4;VEGFD;VPREB1;APOOL;ATP2B3;CEACAM1;CEACAM8;CTSW;DOCK11;EPCAM;F2RL2;F8;F9;FCAMR;GATA2;GATA3;GATA4;GATA6;GNG8;GNGT1;GUCY1B2;GYPB;HBG1;IFNA14;IFNA2;IFNA6;IFNA8;IGHA2;IGHM;JCHAIN;KCNMB1;KIF18A;KIF18B;KIF2B;KIF4B;KIFC1;LAMP2;MAGED2;MMRN1;NFE2;ORM1;P2RX1;P2RX2;P2RX5;PSG1;PSG11;PSG2;PSG5;PSG6;PSG7;PSG8;PSG9;PTGIR;RBSN;SDC1;SELENOP;SPP2;TBXA2R;TIMP1;TMSB4X;TRPC7;TSPAN7;TUBA3C;VPREB3;ACTB;ADRA2A;ADRA2C;APOH;ATP2A1;BRPF3;CALM1;CARMIL1;CD177;CD2;CD244;CD99L2;CDK2;CEACAM3;CENPE;CLEC1B;CYRIB;DOK2;F12;F13B;F2RL3;FGA;FGB;FGG;FLNA;GNB3;GNG10;GNG13;GP1BB;GP5;GRB7;IGF2;IGLL1;IRAG1;KCNMB3;KIF11;KIF12;KIF15;KIF20B;KIF23;KIF25;KIF26A;KIF2C;L1CAM;LAT;MMP1;MPL;MYB;NOS2;ORAI2;P2RX4;P2RY1;PECAM1;PF4;PF4V1;PHF21A;PIK3R2;PIK3R5;PLAU;PLAUR;PROC;PRTN3;RAD51B;RCOR1;SERPINA4;SERPINB2;SH2B2;SLC16A8;SLC7A7;SLC7A9;SPN;STXBP2;SYTL4;THBD;THPO;TOR4A;TREM1;TUBA1C;TUBA3E;TUBA4B;TUBAL3;TUBB1;TUBB4A;TUBB4B;TUBB8;WEE1;ZFPM2;A1BG;AAMP;ADAMTS13;AHSG;AKAP1;ANGPT2;ANGPT4;APOA1;APOB;ATP2A2;ATP2A3;ATP2B4;BCAR1;CALU;CAPZA2;CAV1;CD36;CD48;CFD;COL1A1;COL1A2;DAGLB;DGKA;DGKE;DOCK10;DOCK5;DOCK6;DOCK7;EGF;ENDOD1;F10;F2;F2R;F7;FCER1G;FGR;GAS6;GNA11;GNA13;GNA15;GNAI2;GNAS;GNB1;GNB2;GNB4;GNB5;GNG3;GNG5;GNGT2;GP1BA;GP6;GRB14;GTPBP2;GYPC;HBD;HDAC1;HGF;HMG20B;IGF1;IRF1;IRF2;ISLR;ITGA10;ITGA4;ITGAL;ITGAX;ITGB3;ITIH3;ITIH4;ITPR1;KCNMA1;KCNMB2;KCNMB4;KIF19;KIF21A;KIF27;KIF2A;KIF5A;KIF6;KIF9;KIFAP3;KIFC2;KLC2;KLC4;KNG1;LCK;LCP2;LHFPL2;MAFF;MAFK;MFN2;MIF;OLR1;P2RX6;PAFAH2;PDE9A;PDPN;PIK3CG;PIK3R3;PPP2CA;PPP2CB;PPP2R5E;PRKACB;PROCR;PTPN6;RAC2;RAP1B;RASGRP2;SDC2;SDC4;SELE;SELP;SERPINA5;SERPINB6;SERPINC1;SERPINE1;SH2B3;SIN3A;SIRPG;SLC16A1;SLC7A11;SLC7A6;SLC7A8;SLC8A2;STXBP3;TEX264;TFPI;TGFB1;TLN1;TNFRSF10B;TP53;TRPC3;TRPC6;TUBA1A;TUBA1B;TUBB2A;TUBB2B;TUBB3;TUBB6;VEGFB;VPS45;ZFPM1;A2M;ABCC4;ABHD12;ABHD6;ABL1;ACTN2;AK3;AKAP10;AKT1;ALB;ALDOA;ANGPT1;ANXA5;APBB1IP;APLP2;ARRB2;ATP1B2;ATP2B1;ATP2B2;BSG;C1QBP;CABLES1;CABLES2;CAPZA1;CBX5;CD58;CD63;CD74;CD84;CD9;CDC37L1;CDC42;CDK5;CFL1;CLEC3B;CRK;CSK;CXADR;CYB5R1;DAGLA;DGKB;DGKD;DGKG;DGKH;DGKI;DGKQ;DGKZ;DOCK1;DOCK3;DOCK4;DOCK8;DOCK9;ECM1;EHD1;EHD2;EHD3;ESAM;F11;F11R;FAM3C;FERMT3;GLG1;GNA12;GNA14;GNAI3;GNG11;GNG12;GNG2;GNG4;GNG7;GPC1;GUCY1A2;HABP4;HBB;HBE1;HBG2;HDAC2;HRG;HSPA5;ITGA2;ITGA2B;ITGA3;ITGA5;ITGAM;ITGAV;ITGB1;ITPK1;ITPR2;ITPR3;JAM2;JMJD1C;KDM1A;KIF13B;KIF1A;KIF1B;KIF1C;KIF21B;KIF22;KIF26B;KIF3A;KIF5B;KIF5C;KLC1;KLC3;KLKB1;LEFTY2;LGALS3BP;MAFG;MANF;MAPK14;MERTK;MFN1;MGLL;MICAL1;NHLRC2;NOS1;NOS3;NRAS;OLA1;P2RX7;P2RY12;PCDH7;PCYOX1L;PDE10A;PDE11A;PDE1B;PDE5A;PDGFB;PDPK1;PFN1;PHACTR2;PICK1;PIK3CA;PIK3CB;PLAT;PLEK;PLG;PPBP;PPP2R1A;PPP2R1B;PPP2R5A;PPP2R5B;PPP2R5C;PPP2R5D;PRCP;PRKACA;PRKAR2A;PRKAR2B;PRKCE;PRKCG;PRKCH;PRKG2;PROS1;PTK2;PTPN1;PTPN11;QSOX1;RAB27B;RAC1;RACGAP1;RAD51C;RAF1;RAP1A;RAPGEF3;RAPGEF4;RARRES2;RASGRP1;RHOA;RHOB;S100A10;SCCPDH;SCG3;SDC3;SELL;SELPLG;SERPINA1;SERPINF2;SERPING1;SH2B1;SHC1;SIRPA;SLC16A3;SLC3A2;SLC7A10;SLC7A5;SLC8A1;SLC8A3;SOD1;SOS1;SRC;SRGN;STX4;TAGLN2;TEK;TF;TGFB2;TGFB3;TIMP3;TMX3;TNFRSF10A;TNFRSF10D;TUBA4A;TUBA8;VAV1;VAV2;VEGFA;VEGFC;VTI1B;WDR1;YWHAZ;ACTN1;ACTN4;ANXA2;APP;ARRB1;ATP1B1;ATP1B3;CAP1;CAPZB;CD109;CD44;CD47;CHID1;CLU;DOCK2;F13A1;F5;FN1;FYN;GNAI1;GNAQ;GRB2;HRAS;INPP5D;ITGA1;ITGA6;ITGB2;JAK2;JAM3;KIF16B;KIF3B;KIF3C;KRAS;LRP8;LYN;MAG;MAPK1;MAPK3;PDE1A;PDE2A;PDGFA;PIK3R1;PLA2G4A;PLCG1;PLCG2;PPIA;PPIL2;PRKAR1A;PRKAR1B;PRKCA;PRKCB;PRKCD;PRKCQ;PRKCZ;PRKG1;PSAP;RAB5A;RHOG;SERPINA3;SERPINB8;SERPIND1;SERPINE2;SPARC;SRI;STIM1;SYK;THBS1;TTN;VAV3;VCL;VWF;YES1 | MSBB_MA                                     |\n",
       "| R-HSA-109606  | Intrinsic Pathway for Apoptosis |  55 | SEPT4;XIAP;BAK1;BBC3;BMF;CARD8;CASP9;CDKN2A;E2F1;GSDME;GZMB;PMAIP1;TFDP2;TP73;CASP8;GSDMD;PPP1R13B;PPP3CC;SFN;TFDP1;TP53;TP63;UACA;AKT1;AKT2;AKT3;APAF1;APIP;BAD;BAX;BCL2;BCL2L1;BCL2L11;C1QBP;CASP3;CASP7;CYCS;DIABLO;DYNLL1;DYNLL2;PPP3R1;STAT3;TP53BP2;YWHAB;YWHAG;YWHAH;YWHAZ;AVEN;BID;MAPK1;MAPK3;MAPK8;NMT1;YWHAE;YWHAQ                                                                                                                                                                                                                                                                                                                                                                                                                                                                                                                                                                                                                                                                                                                                                                                                                                                                                                                                                                                                                                                                                                                                                                                                                                                                                                                                                                                                                                                                                                                                                                                                                                                                                                                                                                                                                                                                                                                                                                                                                                                                                                                                                                                                                                                                                                                                                                                                                                                                                                                                                                                                                                                                                                                                                                                                                                                                                                                                                                                                                                                                                                                                                                                                                                                                                                                                                                                                                                                                                                                                                                                                                                                                                                                                                                                                                                                                                                              | MSBB_MA;MSBB_TP;ROSMAP_MA                   |\n",
       "| R-HSA-109703  | PKB-mediated events             |   2 | PDE3B;AKT2                                                                                                                                                                                                                                                                                                                                                                                                                                                                                                                                                                                                                                                                                                                                                                                                                                                                                                                                                                                                                                                                                                                                                                                                                                                                                                                                                                                                                                                                                                                                                                                                                                                                                                                                                                                                                                                                                                                                                                                                                                                                                                                                                                                                                                                                                                                                                                                                                                                                                                                                                                                                                                                                                                                                                                                                                                                                                                                                                                                                                                                                                                                                                                                                                                                                                                                                                                                                                                                                                                                                                                                                                                                                                                                                                                                                                                                                                                                                                                                                                                                                                                                                                                                                                                 | ADSP_GS;MSBB_MA;MSBB_RS;ROSMAP_MA;ROSMAP_RS |\n",
       "| R-HSA-109704  | PI3K Cascade                    |  44 | FGF16;FGF19;FGF3;FGF4;FGF6;TLR9;FGF18;FGF20;FGF23;FGF5;FGF8;FLT3LG;IRS1;PIK3R2;TRIB3;FGF10;FGF17;FGF7;FGF9;FGFR1;FGFR4;KLB;PDE3B;PIK3R4;AKT2;FGF22;FGFR3;FLT3;GAB1;GAB2;IRS2;KL;PDPK1;PIK3CA;PIK3CB;PTPN11;THEM4;FGF1;FGF2;FGFR2;FRS2;GRB2;PIK3C3;PIK3R1                                                                                                                                                                                                                                                                                                                                                                                                                                                                                                                                                                                                                                                                                                                                                                                                                                                                                                                                                                                                                                                                                                                                                                                                                                                                                                                                                                                                                                                                                                                                                                                                                                                                                                                                                                                                                                                                                                                                                                                                                                                                                                                                                                                                                                                                                                                                                                                                                                                                                                                                                                                                                                                                                                                                                                                                                                                                                                                                                                                                                                                                                                                                                                                                                                                                                                                                                                                                                                                                                                                                                                                                                                                                                                                                                                                                                                                                                                                                                                                   | MSBB_MA;ROSMAP_SP                           |\n",
       "\n"
      ],
      "text/plain": [
       "  PATHWAY_ID    PATHWAY_NAME                    N_GENES\n",
       "1 R-HSA-1059683 Interleukin-6 signaling          11    \n",
       "2 R-HSA-109581  Apoptosis                       166    \n",
       "3 R-HSA-109582  Hemostasis                      658    \n",
       "4 R-HSA-109606  Intrinsic Pathway for Apoptosis  55    \n",
       "5 R-HSA-109703  PKB-mediated events               2    \n",
       "6 R-HSA-109704  PI3K Cascade                     44    \n",
       "  GENES                                                                                                                                                                                                                                                                                                                                                                                                                                                                                                                                                                                                                                                                                                                                                                                                                                                                                                                                                                                                                                                                                                                                                                                                                                                                                                                                                                                                                                                                                                                                                                                                                                                                                                                                                                                                                                                                                                                                                                                                                                                                                                                                                                                                                                                                                                                                                                                                                                                                                                                                                                                                                                                                                                                                                                                                                                                                                                                                                                                                                                                                                                                                                                                                                                                                                                                                                                                                                                                                                                                                                                                                                                                                                                                                                                                                                                                                                                                                                                                                                                                                                                                                                                                                                                     \n",
       "1 IL6;SOCS3;CBL;IL6R;JAK1;PTPN11;STAT3;TYK2;IL6ST;JAK2;STAT1                                                                                                                                                                                                                                                                                                                                                                                                                                                                                                                                                                                                                                                                                                                                                                                                                                                                                                                                                                                                                                                                                                                                                                                                                                                                                                                                                                                                                                                                                                                                                                                                                                                                                                                                                                                                                                                                                                                                                                                                                                                                                                                                                                                                                                                                                                                                                                                                                                                                                                                                                                                                                                                                                                                                                                                                                                                                                                                                                                                                                                                                                                                                                                                                                                                                                                                                                                                                                                                                                                                                                                                                                                                                                                                                                                                                                                                                                                                                                                                                                                                                                                                                                                                \n",
       "2 H1-1;H1-5;STK26;BMX;H1-0;H1-3;H1-4;SEM1;CLSPN;FASLG;H1-2;SEPT4;XIAP;BAK1;BBC3;BCAP31;BMF;CARD8;CASP9;CDKN2A;DFFB;DSG1;E2F1;GSDME;GZMB;MAGED1;PKP1;PLEC;PMAIP1;PSMB3;TFDP2;TICAM1;TP73;APC;CASP6;CASP8;CDH1;CFLAR;DSG2;DSG3;GSDMD;LMNA;OMA1;PPP1R13B;PPP3CC;PSMC1;PSMC4;PSMD12;PSMD13;PSMD2;PSMD3;PSMD8;ROCK1;SFN;TFDP1;TLR4;TNFRSF10B;TP53;TP63;UACA;UBA52;UBC;ACIN1;ADD1;AKT1;AKT2;AKT3;APAF1;APIP;ARHGAP10;BAD;BAX;BCL2;BCL2L1;BCL2L11;BIRC2;C1QBP;CASP3;CASP7;CD14;CTNNB1;CYCS;DAPK2;DAPK3;DBNL;DFFA;DIABLO;DNM1L;DSP;DYNLL1;DYNLL2;FADD;FNTA;GAS2;HMGB1;HMGB2;KPNA1;LY96;OCLN;OPA1;PAK2;PPP3R1;PSMA2;PSMA3;PSMA4;PSMA5;PSMA7;PSMB1;PSMB2;PSMB4;PSMB5;PSMB6;PSMB7;PSMC2;PSMC5;PSMC6;PSMD1;PSMD11;PSMD14;PSMD6;PSMD7;PTK2;RPS27A;SPTAN1;STAT3;STK24;TICAM2;TJP1;TJP2;TNFRSF10A;TNFSF10;TP53BP2;TRADD;TRAF2;UBB;UNC5A;UNC5B;VIM;YWHAB;YWHAG;YWHAH;YWHAZ;ADRM1;APPL1;AVEN;BID;DAPK1;DCC;FAS;GSN;KPNB1;LMNB1;MAPK1;MAPK3;MAPK8;MAPT;NMT1;PRKCD;PRKCQ;PSMA1;PSMA6;PSMC3;RIPK1;SATB1;YWHAE;YWHAQ                                                                                                                                                                                                                                                                                                                                                                                                                                                                                                                                                                                                                                                                                                                                                                                                                                                                                                                                                                                                                                                                                                                                                                                                                                                                                                                                                                                                                                                                                                                                                                                                                                                                                                                                                                                                                                                                                                                                                                                                                                                                                                                                                                                                                                                                                                                                                                                                                                                                                                                                                                                                                                                                                                                                                                                                                                                                                                                                                                                                                                                                                                                                                                                                                                             \n",
       "3 DGKK;GATA1;IFNA10;IFNA16;IFNA5;IGHV1-2;IGHV2-70;IGHV3-11;IGHV3-30;IGHV3-48;IGHV3-53;IGHV3-7;IGHV4-34;IGHV4-39;IGHV7-81;IGKC;IGKV1-17;IGKV1D-16;IGKV1D-33;IGKV3-11;IGKV3-15;IGKV3-20;IGKV4-1;IGLV1-40;IGLV1-44;IGLV10-54;IGLV11-55;IGLV2-11;IGLV2-14;IGLV2-18;IGLV2-23;IGLV2-8;IGLV3-1;IGLV3-16;IGLV3-21;IGLV3-27;IGLV4-69;IGLV5-37;IGLV5-45;IGLV6-57;IGLV7-46;KIF4A;POTEKP;TUBB8B;ADRA2B;CD99;CEACAM5;CEACAM6;GATA5;GNAT3;GP9;GUCY1A3;GUCY1B3;GYPA;H3-3A;HIST1H3G;IFNA1;IFNA21;IFNA4;IFNA7;IFNB1;IGHA1;IGHV1-46;IGHV1-69;IGHV3-13;IGHV3-9;IGKV1-5;IGKV3D-20;IGLC2;IGLC7;IGLV1-47;IGLV3-19;IGLV3-25;IGLV8-61;JAML;KIF20A;LY6G6F;ORAI1;ORM2;P2RX3;PIK3R6;PRKACG;PSG3;PSG4;VEGFD;VPREB1;APOOL;ATP2B3;CEACAM1;CEACAM8;CTSW;DOCK11;EPCAM;F2RL2;F8;F9;FCAMR;GATA2;GATA3;GATA4;GATA6;GNG8;GNGT1;GUCY1B2;GYPB;HBG1;IFNA14;IFNA2;IFNA6;IFNA8;IGHA2;IGHM;JCHAIN;KCNMB1;KIF18A;KIF18B;KIF2B;KIF4B;KIFC1;LAMP2;MAGED2;MMRN1;NFE2;ORM1;P2RX1;P2RX2;P2RX5;PSG1;PSG11;PSG2;PSG5;PSG6;PSG7;PSG8;PSG9;PTGIR;RBSN;SDC1;SELENOP;SPP2;TBXA2R;TIMP1;TMSB4X;TRPC7;TSPAN7;TUBA3C;VPREB3;ACTB;ADRA2A;ADRA2C;APOH;ATP2A1;BRPF3;CALM1;CARMIL1;CD177;CD2;CD244;CD99L2;CDK2;CEACAM3;CENPE;CLEC1B;CYRIB;DOK2;F12;F13B;F2RL3;FGA;FGB;FGG;FLNA;GNB3;GNG10;GNG13;GP1BB;GP5;GRB7;IGF2;IGLL1;IRAG1;KCNMB3;KIF11;KIF12;KIF15;KIF20B;KIF23;KIF25;KIF26A;KIF2C;L1CAM;LAT;MMP1;MPL;MYB;NOS2;ORAI2;P2RX4;P2RY1;PECAM1;PF4;PF4V1;PHF21A;PIK3R2;PIK3R5;PLAU;PLAUR;PROC;PRTN3;RAD51B;RCOR1;SERPINA4;SERPINB2;SH2B2;SLC16A8;SLC7A7;SLC7A9;SPN;STXBP2;SYTL4;THBD;THPO;TOR4A;TREM1;TUBA1C;TUBA3E;TUBA4B;TUBAL3;TUBB1;TUBB4A;TUBB4B;TUBB8;WEE1;ZFPM2;A1BG;AAMP;ADAMTS13;AHSG;AKAP1;ANGPT2;ANGPT4;APOA1;APOB;ATP2A2;ATP2A3;ATP2B4;BCAR1;CALU;CAPZA2;CAV1;CD36;CD48;CFD;COL1A1;COL1A2;DAGLB;DGKA;DGKE;DOCK10;DOCK5;DOCK6;DOCK7;EGF;ENDOD1;F10;F2;F2R;F7;FCER1G;FGR;GAS6;GNA11;GNA13;GNA15;GNAI2;GNAS;GNB1;GNB2;GNB4;GNB5;GNG3;GNG5;GNGT2;GP1BA;GP6;GRB14;GTPBP2;GYPC;HBD;HDAC1;HGF;HMG20B;IGF1;IRF1;IRF2;ISLR;ITGA10;ITGA4;ITGAL;ITGAX;ITGB3;ITIH3;ITIH4;ITPR1;KCNMA1;KCNMB2;KCNMB4;KIF19;KIF21A;KIF27;KIF2A;KIF5A;KIF6;KIF9;KIFAP3;KIFC2;KLC2;KLC4;KNG1;LCK;LCP2;LHFPL2;MAFF;MAFK;MFN2;MIF;OLR1;P2RX6;PAFAH2;PDE9A;PDPN;PIK3CG;PIK3R3;PPP2CA;PPP2CB;PPP2R5E;PRKACB;PROCR;PTPN6;RAC2;RAP1B;RASGRP2;SDC2;SDC4;SELE;SELP;SERPINA5;SERPINB6;SERPINC1;SERPINE1;SH2B3;SIN3A;SIRPG;SLC16A1;SLC7A11;SLC7A6;SLC7A8;SLC8A2;STXBP3;TEX264;TFPI;TGFB1;TLN1;TNFRSF10B;TP53;TRPC3;TRPC6;TUBA1A;TUBA1B;TUBB2A;TUBB2B;TUBB3;TUBB6;VEGFB;VPS45;ZFPM1;A2M;ABCC4;ABHD12;ABHD6;ABL1;ACTN2;AK3;AKAP10;AKT1;ALB;ALDOA;ANGPT1;ANXA5;APBB1IP;APLP2;ARRB2;ATP1B2;ATP2B1;ATP2B2;BSG;C1QBP;CABLES1;CABLES2;CAPZA1;CBX5;CD58;CD63;CD74;CD84;CD9;CDC37L1;CDC42;CDK5;CFL1;CLEC3B;CRK;CSK;CXADR;CYB5R1;DAGLA;DGKB;DGKD;DGKG;DGKH;DGKI;DGKQ;DGKZ;DOCK1;DOCK3;DOCK4;DOCK8;DOCK9;ECM1;EHD1;EHD2;EHD3;ESAM;F11;F11R;FAM3C;FERMT3;GLG1;GNA12;GNA14;GNAI3;GNG11;GNG12;GNG2;GNG4;GNG7;GPC1;GUCY1A2;HABP4;HBB;HBE1;HBG2;HDAC2;HRG;HSPA5;ITGA2;ITGA2B;ITGA3;ITGA5;ITGAM;ITGAV;ITGB1;ITPK1;ITPR2;ITPR3;JAM2;JMJD1C;KDM1A;KIF13B;KIF1A;KIF1B;KIF1C;KIF21B;KIF22;KIF26B;KIF3A;KIF5B;KIF5C;KLC1;KLC3;KLKB1;LEFTY2;LGALS3BP;MAFG;MANF;MAPK14;MERTK;MFN1;MGLL;MICAL1;NHLRC2;NOS1;NOS3;NRAS;OLA1;P2RX7;P2RY12;PCDH7;PCYOX1L;PDE10A;PDE11A;PDE1B;PDE5A;PDGFB;PDPK1;PFN1;PHACTR2;PICK1;PIK3CA;PIK3CB;PLAT;PLEK;PLG;PPBP;PPP2R1A;PPP2R1B;PPP2R5A;PPP2R5B;PPP2R5C;PPP2R5D;PRCP;PRKACA;PRKAR2A;PRKAR2B;PRKCE;PRKCG;PRKCH;PRKG2;PROS1;PTK2;PTPN1;PTPN11;QSOX1;RAB27B;RAC1;RACGAP1;RAD51C;RAF1;RAP1A;RAPGEF3;RAPGEF4;RARRES2;RASGRP1;RHOA;RHOB;S100A10;SCCPDH;SCG3;SDC3;SELL;SELPLG;SERPINA1;SERPINF2;SERPING1;SH2B1;SHC1;SIRPA;SLC16A3;SLC3A2;SLC7A10;SLC7A5;SLC8A1;SLC8A3;SOD1;SOS1;SRC;SRGN;STX4;TAGLN2;TEK;TF;TGFB2;TGFB3;TIMP3;TMX3;TNFRSF10A;TNFRSF10D;TUBA4A;TUBA8;VAV1;VAV2;VEGFA;VEGFC;VTI1B;WDR1;YWHAZ;ACTN1;ACTN4;ANXA2;APP;ARRB1;ATP1B1;ATP1B3;CAP1;CAPZB;CD109;CD44;CD47;CHID1;CLU;DOCK2;F13A1;F5;FN1;FYN;GNAI1;GNAQ;GRB2;HRAS;INPP5D;ITGA1;ITGA6;ITGB2;JAK2;JAM3;KIF16B;KIF3B;KIF3C;KRAS;LRP8;LYN;MAG;MAPK1;MAPK3;PDE1A;PDE2A;PDGFA;PIK3R1;PLA2G4A;PLCG1;PLCG2;PPIA;PPIL2;PRKAR1A;PRKAR1B;PRKCA;PRKCB;PRKCD;PRKCQ;PRKCZ;PRKG1;PSAP;RAB5A;RHOG;SERPINA3;SERPINB8;SERPIND1;SERPINE2;SPARC;SRI;STIM1;SYK;THBS1;TTN;VAV3;VCL;VWF;YES1\n",
       "4 SEPT4;XIAP;BAK1;BBC3;BMF;CARD8;CASP9;CDKN2A;E2F1;GSDME;GZMB;PMAIP1;TFDP2;TP73;CASP8;GSDMD;PPP1R13B;PPP3CC;SFN;TFDP1;TP53;TP63;UACA;AKT1;AKT2;AKT3;APAF1;APIP;BAD;BAX;BCL2;BCL2L1;BCL2L11;C1QBP;CASP3;CASP7;CYCS;DIABLO;DYNLL1;DYNLL2;PPP3R1;STAT3;TP53BP2;YWHAB;YWHAG;YWHAH;YWHAZ;AVEN;BID;MAPK1;MAPK3;MAPK8;NMT1;YWHAE;YWHAQ                                                                                                                                                                                                                                                                                                                                                                                                                                                                                                                                                                                                                                                                                                                                                                                                                                                                                                                                                                                                                                                                                                                                                                                                                                                                                                                                                                                                                                                                                                                                                                                                                                                                                                                                                                                                                                                                                                                                                                                                                                                                                                                                                                                                                                                                                                                                                                                                                                                                                                                                                                                                                                                                                                                                                                                                                                                                                                                                                                                                                                                                                                                                                                                                                                                                                                                                                                                                                                                                                                                                                                                                                                                                                                                                                                                                                                                                                                             \n",
       "5 PDE3B;AKT2                                                                                                                                                                                                                                                                                                                                                                                                                                                                                                                                                                                                                                                                                                                                                                                                                                                                                                                                                                                                                                                                                                                                                                                                                                                                                                                                                                                                                                                                                                                                                                                                                                                                                                                                                                                                                                                                                                                                                                                                                                                                                                                                                                                                                                                                                                                                                                                                                                                                                                                                                                                                                                                                                                                                                                                                                                                                                                                                                                                                                                                                                                                                                                                                                                                                                                                                                                                                                                                                                                                                                                                                                                                                                                                                                                                                                                                                                                                                                                                                                                                                                                                                                                                                                                \n",
       "6 FGF16;FGF19;FGF3;FGF4;FGF6;TLR9;FGF18;FGF20;FGF23;FGF5;FGF8;FLT3LG;IRS1;PIK3R2;TRIB3;FGF10;FGF17;FGF7;FGF9;FGFR1;FGFR4;KLB;PDE3B;PIK3R4;AKT2;FGF22;FGFR3;FLT3;GAB1;GAB2;IRS2;KL;PDPK1;PIK3CA;PIK3CB;PTPN11;THEM4;FGF1;FGF2;FGFR2;FRS2;GRB2;PIK3C3;PIK3R1                                                                                                                                                                                                                                                                                                                                                                                                                                                                                                                                                                                                                                                                                                                                                                                                                                                                                                                                                                                                                                                                                                                                                                                                                                                                                                                                                                                                                                                                                                                                                                                                                                                                                                                                                                                                                                                                                                                                                                                                                                                                                                                                                                                                                                                                                                                                                                                                                                                                                                                                                                                                                                                                                                                                                                                                                                                                                                                                                                                                                                                                                                                                                                                                                                                                                                                                                                                                                                                                                                                                                                                                                                                                                                                                                                                                                                                                                                                                                                                  \n",
       "  SOURCE                                     \n",
       "1 MSBB_MA;ROSMAP_MA;ROSMAP_RS;ROSMAP_SP      \n",
       "2 MSBB_RS                                    \n",
       "3 MSBB_MA                                    \n",
       "4 MSBB_MA;MSBB_TP;ROSMAP_MA                  \n",
       "5 ADSP_GS;MSBB_MA;MSBB_RS;ROSMAP_MA;ROSMAP_RS\n",
       "6 MSBB_MA;ROSMAP_SP                          "
      ]
     },
     "metadata": {},
     "output_type": "display_data"
    }
   ],
   "source": [
    "all_path_map_clean = all_path_map %>%\n",
    "mutate(PATHWAY_NAME = gsub(',', ';', PATHWAY_NAME),\n",
    "       N_SEMICOLONS = stringr::str_count(SOURCE, \";\")) %>%\n",
    "arrange(PATHWAY_ID, N_SEMICOLONS) %>%\n",
    "group_by(PATHWAY_ID, PATHWAY_NAME) %>%\n",
    "summarise(N_GENES = n(),\n",
    "          GENES = paste(GENE, collapse = \";\"),\n",
    "          SOURCE = first(SOURCE),\n",
    "          .groups = \"drop\")\n",
    "nrow(all_path_map_clean)\n",
    "head(all_path_map_clean)"
   ]
  },
  {
   "cell_type": "code",
   "execution_count": 173,
   "id": "23f5ef75-98ae-4ba2-9ee2-17f6c73abf6d",
   "metadata": {},
   "outputs": [
    {
     "data": {
      "text/html": [
       "<table class=\"dataframe\">\n",
       "<caption>A tibble: 0 × 5</caption>\n",
       "<thead>\n",
       "\t<tr><th scope=col>PATHWAY_ID</th><th scope=col>PATHWAY_NAME</th><th scope=col>N_GENES</th><th scope=col>GENES</th><th scope=col>SOURCE</th></tr>\n",
       "\t<tr><th scope=col>&lt;chr&gt;</th><th scope=col>&lt;chr&gt;</th><th scope=col>&lt;int&gt;</th><th scope=col>&lt;chr&gt;</th><th scope=col>&lt;chr&gt;</th></tr>\n",
       "</thead>\n",
       "<tbody>\n",
       "</tbody>\n",
       "</table>\n"
      ],
      "text/latex": [
       "A tibble: 0 × 5\n",
       "\\begin{tabular}{lllll}\n",
       " PATHWAY\\_ID & PATHWAY\\_NAME & N\\_GENES & GENES & SOURCE\\\\\n",
       " <chr> & <chr> & <int> & <chr> & <chr>\\\\\n",
       "\\hline\n",
       "\\end{tabular}\n"
      ],
      "text/markdown": [
       "\n",
       "A tibble: 0 × 5\n",
       "\n",
       "| PATHWAY_ID &lt;chr&gt; | PATHWAY_NAME &lt;chr&gt; | N_GENES &lt;int&gt; | GENES &lt;chr&gt; | SOURCE &lt;chr&gt; |\n",
       "|---|---|---|---|---|\n",
       "\n"
      ],
      "text/plain": [
       "     PATHWAY_ID PATHWAY_NAME N_GENES GENES SOURCE"
      ]
     },
     "metadata": {},
     "output_type": "display_data"
    }
   ],
   "source": [
    "all_path_map_clean %>%\n",
    "filter(grepl(',', PATHWAY_NAME)) %>%\n",
    "head()"
   ]
  },
  {
   "cell_type": "markdown",
   "id": "d0d298b3-fdb2-41cf-99b0-538872e82512",
   "metadata": {},
   "source": [
    "### merge"
   ]
  },
  {
   "cell_type": "code",
   "execution_count": 174,
   "id": "90080295-3d00-407a-b80c-8eac0f460ff7",
   "metadata": {},
   "outputs": [
    {
     "data": {
      "text/html": [
       "251"
      ],
      "text/latex": [
       "251"
      ],
      "text/markdown": [
       "251"
      ],
      "text/plain": [
       "[1] 251"
      ]
     },
     "metadata": {},
     "output_type": "display_data"
    },
    {
     "data": {
      "text/html": [
       "<table class=\"dataframe\">\n",
       "<caption>A data.frame: 6 × 6</caption>\n",
       "<thead>\n",
       "\t<tr><th></th><th scope=col>PATHWAY_ID</th><th scope=col>COEF</th><th scope=col>PATHWAY_NAME</th><th scope=col>N_GENES</th><th scope=col>GENES</th><th scope=col>SOURCE</th></tr>\n",
       "\t<tr><th></th><th scope=col>&lt;chr&gt;</th><th scope=col>&lt;dbl&gt;</th><th scope=col>&lt;chr&gt;</th><th scope=col>&lt;int&gt;</th><th scope=col>&lt;chr&gt;</th><th scope=col>&lt;chr&gt;</th></tr>\n",
       "</thead>\n",
       "<tbody>\n",
       "\t<tr><th scope=row>1</th><td>R-HSA-9652282</td><td>-2.289039e-04</td><td>Drug-mediated inhibition of ERBB2 signaling </td><td> 4</td><td>ERBIN;ERBB2;CDC37;HSP90AA1                                                    </td><td>ADSP_GS;MSBB_RS;MSBB_TP;ROSMAP_RS                            </td></tr>\n",
       "\t<tr><th scope=row>2</th><td>R-HSA-162585 </td><td>-2.232749e-04</td><td>Uncoating of the HIV Virion                 </td><td> 1</td><td>PPIA                                                                          </td><td>ADSP_GS;MSBB_MA;MSBB_RS;MSBB_TP;ROSMAP_MA;ROSMAP_RS;ROSMAP_SP</td></tr>\n",
       "\t<tr><th scope=row>3</th><td>R-HSA-3858516</td><td> 2.231272e-04</td><td>Glycogen storage disease type 0 (liver GYS2)</td><td> 2</td><td>GYG2;GYS2                                                                     </td><td>MSBB_MA;MSBB_RS;MSBB_TP;ROSMAP_SP                            </td></tr>\n",
       "\t<tr><th scope=row>4</th><td>R-HSA-198323 </td><td> 1.907654e-04</td><td>AKT phosphorylates targets in the cytosol   </td><td>14</td><td>CASP9;CDKN1A;CHUK;MDM2;AKT1;AKT1S1;AKT2;AKT3;BAD;CDKN1B;GSK3A;GSK3B;MKRN1;TSC2</td><td>MSBB_MA;MSBB_RS;ROSMAP_MA;ROSMAP_RS                          </td></tr>\n",
       "\t<tr><th scope=row>5</th><td>R-HSA-5579031</td><td> 1.066776e-04</td><td>Defective ACTH causes obesity and POMCD     </td><td> 2</td><td>MC2R;POMC                                                                     </td><td>ADSP_GS;MSBB_MA;ROSMAP_MA                                    </td></tr>\n",
       "\t<tr><th scope=row>6</th><td>R-HSA-173107 </td><td>-9.629156e-05</td><td>Binding and entry of HIV virion             </td><td> 4</td><td>CCR5;CXCR4;CD4;PPIA                                                           </td><td>ADSP_GS;MSBB_MA;ROSMAP_MA;ROSMAP_RS                          </td></tr>\n",
       "</tbody>\n",
       "</table>\n"
      ],
      "text/latex": [
       "A data.frame: 6 × 6\n",
       "\\begin{tabular}{r|llllll}\n",
       "  & PATHWAY\\_ID & COEF & PATHWAY\\_NAME & N\\_GENES & GENES & SOURCE\\\\\n",
       "  & <chr> & <dbl> & <chr> & <int> & <chr> & <chr>\\\\\n",
       "\\hline\n",
       "\t1 & R-HSA-9652282 & -2.289039e-04 & Drug-mediated inhibition of ERBB2 signaling  &  4 & ERBIN;ERBB2;CDC37;HSP90AA1                                                     & ADSP\\_GS;MSBB\\_RS;MSBB\\_TP;ROSMAP\\_RS                            \\\\\n",
       "\t2 & R-HSA-162585  & -2.232749e-04 & Uncoating of the HIV Virion                  &  1 & PPIA                                                                           & ADSP\\_GS;MSBB\\_MA;MSBB\\_RS;MSBB\\_TP;ROSMAP\\_MA;ROSMAP\\_RS;ROSMAP\\_SP\\\\\n",
       "\t3 & R-HSA-3858516 &  2.231272e-04 & Glycogen storage disease type 0 (liver GYS2) &  2 & GYG2;GYS2                                                                      & MSBB\\_MA;MSBB\\_RS;MSBB\\_TP;ROSMAP\\_SP                            \\\\\n",
       "\t4 & R-HSA-198323  &  1.907654e-04 & AKT phosphorylates targets in the cytosol    & 14 & CASP9;CDKN1A;CHUK;MDM2;AKT1;AKT1S1;AKT2;AKT3;BAD;CDKN1B;GSK3A;GSK3B;MKRN1;TSC2 & MSBB\\_MA;MSBB\\_RS;ROSMAP\\_MA;ROSMAP\\_RS                          \\\\\n",
       "\t5 & R-HSA-5579031 &  1.066776e-04 & Defective ACTH causes obesity and POMCD      &  2 & MC2R;POMC                                                                      & ADSP\\_GS;MSBB\\_MA;ROSMAP\\_MA                                    \\\\\n",
       "\t6 & R-HSA-173107  & -9.629156e-05 & Binding and entry of HIV virion              &  4 & CCR5;CXCR4;CD4;PPIA                                                            & ADSP\\_GS;MSBB\\_MA;ROSMAP\\_MA;ROSMAP\\_RS                          \\\\\n",
       "\\end{tabular}\n"
      ],
      "text/markdown": [
       "\n",
       "A data.frame: 6 × 6\n",
       "\n",
       "| <!--/--> | PATHWAY_ID &lt;chr&gt; | COEF &lt;dbl&gt; | PATHWAY_NAME &lt;chr&gt; | N_GENES &lt;int&gt; | GENES &lt;chr&gt; | SOURCE &lt;chr&gt; |\n",
       "|---|---|---|---|---|---|---|\n",
       "| 1 | R-HSA-9652282 | -2.289039e-04 | Drug-mediated inhibition of ERBB2 signaling  |  4 | ERBIN;ERBB2;CDC37;HSP90AA1                                                     | ADSP_GS;MSBB_RS;MSBB_TP;ROSMAP_RS                             |\n",
       "| 2 | R-HSA-162585  | -2.232749e-04 | Uncoating of the HIV Virion                  |  1 | PPIA                                                                           | ADSP_GS;MSBB_MA;MSBB_RS;MSBB_TP;ROSMAP_MA;ROSMAP_RS;ROSMAP_SP |\n",
       "| 3 | R-HSA-3858516 |  2.231272e-04 | Glycogen storage disease type 0 (liver GYS2) |  2 | GYG2;GYS2                                                                      | MSBB_MA;MSBB_RS;MSBB_TP;ROSMAP_SP                             |\n",
       "| 4 | R-HSA-198323  |  1.907654e-04 | AKT phosphorylates targets in the cytosol    | 14 | CASP9;CDKN1A;CHUK;MDM2;AKT1;AKT1S1;AKT2;AKT3;BAD;CDKN1B;GSK3A;GSK3B;MKRN1;TSC2 | MSBB_MA;MSBB_RS;ROSMAP_MA;ROSMAP_RS                           |\n",
       "| 5 | R-HSA-5579031 |  1.066776e-04 | Defective ACTH causes obesity and POMCD      |  2 | MC2R;POMC                                                                      | ADSP_GS;MSBB_MA;ROSMAP_MA                                     |\n",
       "| 6 | R-HSA-173107  | -9.629156e-05 | Binding and entry of HIV virion              |  4 | CCR5;CXCR4;CD4;PPIA                                                            | ADSP_GS;MSBB_MA;ROSMAP_MA;ROSMAP_RS                           |\n",
       "\n"
      ],
      "text/plain": [
       "  PATHWAY_ID    COEF          PATHWAY_NAME                                \n",
       "1 R-HSA-9652282 -2.289039e-04 Drug-mediated inhibition of ERBB2 signaling \n",
       "2 R-HSA-162585  -2.232749e-04 Uncoating of the HIV Virion                 \n",
       "3 R-HSA-3858516  2.231272e-04 Glycogen storage disease type 0 (liver GYS2)\n",
       "4 R-HSA-198323   1.907654e-04 AKT phosphorylates targets in the cytosol   \n",
       "5 R-HSA-5579031  1.066776e-04 Defective ACTH causes obesity and POMCD     \n",
       "6 R-HSA-173107  -9.629156e-05 Binding and entry of HIV virion             \n",
       "  N_GENES\n",
       "1  4     \n",
       "2  1     \n",
       "3  2     \n",
       "4 14     \n",
       "5  2     \n",
       "6  4     \n",
       "  GENES                                                                         \n",
       "1 ERBIN;ERBB2;CDC37;HSP90AA1                                                    \n",
       "2 PPIA                                                                          \n",
       "3 GYG2;GYS2                                                                     \n",
       "4 CASP9;CDKN1A;CHUK;MDM2;AKT1;AKT1S1;AKT2;AKT3;BAD;CDKN1B;GSK3A;GSK3B;MKRN1;TSC2\n",
       "5 MC2R;POMC                                                                     \n",
       "6 CCR5;CXCR4;CD4;PPIA                                                           \n",
       "  SOURCE                                                       \n",
       "1 ADSP_GS;MSBB_RS;MSBB_TP;ROSMAP_RS                            \n",
       "2 ADSP_GS;MSBB_MA;MSBB_RS;MSBB_TP;ROSMAP_MA;ROSMAP_RS;ROSMAP_SP\n",
       "3 MSBB_MA;MSBB_RS;MSBB_TP;ROSMAP_SP                            \n",
       "4 MSBB_MA;MSBB_RS;ROSMAP_MA;ROSMAP_RS                          \n",
       "5 ADSP_GS;MSBB_MA;ROSMAP_MA                                    \n",
       "6 ADSP_GS;MSBB_MA;ROSMAP_MA;ROSMAP_RS                          "
      ]
     },
     "metadata": {},
     "output_type": "display_data"
    }
   ],
   "source": [
    "avg_pathway_important_desc = avg_pathway_important %>%\n",
    "inner_join(all_path_map_clean, by = 'PATHWAY_ID')\n",
    "nrow(avg_pathway_important_desc)\n",
    "head(avg_pathway_important_desc)"
   ]
  },
  {
   "cell_type": "code",
   "execution_count": 175,
   "id": "a6e9c72b-6025-4f49-877a-2589fc07c950",
   "metadata": {},
   "outputs": [
    {
     "data": {
      "text/html": [
       "280"
      ],
      "text/latex": [
       "280"
      ],
      "text/markdown": [
       "280"
      ],
      "text/plain": [
       "[1] 280"
      ]
     },
     "metadata": {},
     "output_type": "display_data"
    },
    {
     "data": {
      "text/html": [
       "<table class=\"dataframe\">\n",
       "<caption>A data.frame: 6 × 6</caption>\n",
       "<thead>\n",
       "\t<tr><th></th><th scope=col>PATHWAY_ID</th><th scope=col>COEF</th><th scope=col>PATHWAY_NAME</th><th scope=col>N_GENES</th><th scope=col>GENES</th><th scope=col>SOURCE</th></tr>\n",
       "\t<tr><th></th><th scope=col>&lt;chr&gt;</th><th scope=col>&lt;dbl&gt;</th><th scope=col>&lt;chr&gt;</th><th scope=col>&lt;int&gt;</th><th scope=col>&lt;chr&gt;</th><th scope=col>&lt;chr&gt;</th></tr>\n",
       "</thead>\n",
       "<tbody>\n",
       "\t<tr><th scope=row>1</th><td>R-HSA-3858516</td><td> 0.0002168008</td><td>Glycogen storage disease type 0 (liver GYS2)                                 </td><td> 2</td><td>GYG2;GYS2                                                                                                                </td><td>MSBB_MA;MSBB_RS;MSBB_TP;ROSMAP_SP                            </td></tr>\n",
       "\t<tr><th scope=row>2</th><td>R-HSA-9837092</td><td>-0.0001807056</td><td>FASTK family proteins regulate processing and stability of mitochondrial RNAs</td><td>17</td><td>MT-CYB;MT-ND2;MT-ND4L;MT-ATP6;MT-ATP8;MT-CO1;MT-CO2;MT-CO3;MT-ND1;MT-ND3;MT-ND4;MT-ND5;MT-ND6;FASTK;FASTKD5;TBRG4;FASTKD2</td><td>MSBB_RS                                                      </td></tr>\n",
       "\t<tr><th scope=row>3</th><td>R-HSA-4720454</td><td>-0.0001534651</td><td>Defective ALG9 causes CDG-1l                                                 </td><td> 1</td><td>ALG9                                                                                                                     </td><td>ADSP_GS;MSBB_MA;MSBB_RS;MSBB_TP;ROSMAP_MA;ROSMAP_RS          </td></tr>\n",
       "\t<tr><th scope=row>4</th><td>R-HSA-1483196</td><td>-0.0001453514</td><td>PI and PC transport between ER and Golgi membranes                           </td><td> 1</td><td>PITPNB                                                                                                                   </td><td>ADSP_GS;MSBB_MA;MSBB_RS;MSBB_TP;ROSMAP_MA;ROSMAP_RS;ROSMAP_SP</td></tr>\n",
       "\t<tr><th scope=row>5</th><td>R-HSA-4549356</td><td>-0.0001215125</td><td>Defective DPAGT1 causes CDG-1j; CMSTA2                                       </td><td> 1</td><td>DPAGT1                                                                                                                   </td><td>ADSP_GS;MSBB_MA;MSBB_RS;MSBB_TP;ROSMAP_MA;ROSMAP_RS          </td></tr>\n",
       "\t<tr><th scope=row>6</th><td>R-HSA-198323 </td><td> 0.0001122176</td><td>AKT phosphorylates targets in the cytosol                                    </td><td>14</td><td>CASP9;CDKN1A;CHUK;MDM2;AKT1;AKT1S1;AKT2;AKT3;BAD;CDKN1B;GSK3A;GSK3B;MKRN1;TSC2                                           </td><td>MSBB_MA;MSBB_RS;ROSMAP_MA;ROSMAP_RS                          </td></tr>\n",
       "</tbody>\n",
       "</table>\n"
      ],
      "text/latex": [
       "A data.frame: 6 × 6\n",
       "\\begin{tabular}{r|llllll}\n",
       "  & PATHWAY\\_ID & COEF & PATHWAY\\_NAME & N\\_GENES & GENES & SOURCE\\\\\n",
       "  & <chr> & <dbl> & <chr> & <int> & <chr> & <chr>\\\\\n",
       "\\hline\n",
       "\t1 & R-HSA-3858516 &  0.0002168008 & Glycogen storage disease type 0 (liver GYS2)                                  &  2 & GYG2;GYS2                                                                                                                 & MSBB\\_MA;MSBB\\_RS;MSBB\\_TP;ROSMAP\\_SP                            \\\\\n",
       "\t2 & R-HSA-9837092 & -0.0001807056 & FASTK family proteins regulate processing and stability of mitochondrial RNAs & 17 & MT-CYB;MT-ND2;MT-ND4L;MT-ATP6;MT-ATP8;MT-CO1;MT-CO2;MT-CO3;MT-ND1;MT-ND3;MT-ND4;MT-ND5;MT-ND6;FASTK;FASTKD5;TBRG4;FASTKD2 & MSBB\\_RS                                                      \\\\\n",
       "\t3 & R-HSA-4720454 & -0.0001534651 & Defective ALG9 causes CDG-1l                                                  &  1 & ALG9                                                                                                                      & ADSP\\_GS;MSBB\\_MA;MSBB\\_RS;MSBB\\_TP;ROSMAP\\_MA;ROSMAP\\_RS          \\\\\n",
       "\t4 & R-HSA-1483196 & -0.0001453514 & PI and PC transport between ER and Golgi membranes                            &  1 & PITPNB                                                                                                                    & ADSP\\_GS;MSBB\\_MA;MSBB\\_RS;MSBB\\_TP;ROSMAP\\_MA;ROSMAP\\_RS;ROSMAP\\_SP\\\\\n",
       "\t5 & R-HSA-4549356 & -0.0001215125 & Defective DPAGT1 causes CDG-1j; CMSTA2                                        &  1 & DPAGT1                                                                                                                    & ADSP\\_GS;MSBB\\_MA;MSBB\\_RS;MSBB\\_TP;ROSMAP\\_MA;ROSMAP\\_RS          \\\\\n",
       "\t6 & R-HSA-198323  &  0.0001122176 & AKT phosphorylates targets in the cytosol                                     & 14 & CASP9;CDKN1A;CHUK;MDM2;AKT1;AKT1S1;AKT2;AKT3;BAD;CDKN1B;GSK3A;GSK3B;MKRN1;TSC2                                            & MSBB\\_MA;MSBB\\_RS;ROSMAP\\_MA;ROSMAP\\_RS                          \\\\\n",
       "\\end{tabular}\n"
      ],
      "text/markdown": [
       "\n",
       "A data.frame: 6 × 6\n",
       "\n",
       "| <!--/--> | PATHWAY_ID &lt;chr&gt; | COEF &lt;dbl&gt; | PATHWAY_NAME &lt;chr&gt; | N_GENES &lt;int&gt; | GENES &lt;chr&gt; | SOURCE &lt;chr&gt; |\n",
       "|---|---|---|---|---|---|---|\n",
       "| 1 | R-HSA-3858516 |  0.0002168008 | Glycogen storage disease type 0 (liver GYS2)                                  |  2 | GYG2;GYS2                                                                                                                 | MSBB_MA;MSBB_RS;MSBB_TP;ROSMAP_SP                             |\n",
       "| 2 | R-HSA-9837092 | -0.0001807056 | FASTK family proteins regulate processing and stability of mitochondrial RNAs | 17 | MT-CYB;MT-ND2;MT-ND4L;MT-ATP6;MT-ATP8;MT-CO1;MT-CO2;MT-CO3;MT-ND1;MT-ND3;MT-ND4;MT-ND5;MT-ND6;FASTK;FASTKD5;TBRG4;FASTKD2 | MSBB_RS                                                       |\n",
       "| 3 | R-HSA-4720454 | -0.0001534651 | Defective ALG9 causes CDG-1l                                                  |  1 | ALG9                                                                                                                      | ADSP_GS;MSBB_MA;MSBB_RS;MSBB_TP;ROSMAP_MA;ROSMAP_RS           |\n",
       "| 4 | R-HSA-1483196 | -0.0001453514 | PI and PC transport between ER and Golgi membranes                            |  1 | PITPNB                                                                                                                    | ADSP_GS;MSBB_MA;MSBB_RS;MSBB_TP;ROSMAP_MA;ROSMAP_RS;ROSMAP_SP |\n",
       "| 5 | R-HSA-4549356 | -0.0001215125 | Defective DPAGT1 causes CDG-1j; CMSTA2                                        |  1 | DPAGT1                                                                                                                    | ADSP_GS;MSBB_MA;MSBB_RS;MSBB_TP;ROSMAP_MA;ROSMAP_RS           |\n",
       "| 6 | R-HSA-198323  |  0.0001122176 | AKT phosphorylates targets in the cytosol                                     | 14 | CASP9;CDKN1A;CHUK;MDM2;AKT1;AKT1S1;AKT2;AKT3;BAD;CDKN1B;GSK3A;GSK3B;MKRN1;TSC2                                            | MSBB_MA;MSBB_RS;ROSMAP_MA;ROSMAP_RS                           |\n",
       "\n"
      ],
      "text/plain": [
       "  PATHWAY_ID    COEF         \n",
       "1 R-HSA-3858516  0.0002168008\n",
       "2 R-HSA-9837092 -0.0001807056\n",
       "3 R-HSA-4720454 -0.0001534651\n",
       "4 R-HSA-1483196 -0.0001453514\n",
       "5 R-HSA-4549356 -0.0001215125\n",
       "6 R-HSA-198323   0.0001122176\n",
       "  PATHWAY_NAME                                                                 \n",
       "1 Glycogen storage disease type 0 (liver GYS2)                                 \n",
       "2 FASTK family proteins regulate processing and stability of mitochondrial RNAs\n",
       "3 Defective ALG9 causes CDG-1l                                                 \n",
       "4 PI and PC transport between ER and Golgi membranes                           \n",
       "5 Defective DPAGT1 causes CDG-1j; CMSTA2                                       \n",
       "6 AKT phosphorylates targets in the cytosol                                    \n",
       "  N_GENES\n",
       "1  2     \n",
       "2 17     \n",
       "3  1     \n",
       "4  1     \n",
       "5  1     \n",
       "6 14     \n",
       "  GENES                                                                                                                    \n",
       "1 GYG2;GYS2                                                                                                                \n",
       "2 MT-CYB;MT-ND2;MT-ND4L;MT-ATP6;MT-ATP8;MT-CO1;MT-CO2;MT-CO3;MT-ND1;MT-ND3;MT-ND4;MT-ND5;MT-ND6;FASTK;FASTKD5;TBRG4;FASTKD2\n",
       "3 ALG9                                                                                                                     \n",
       "4 PITPNB                                                                                                                   \n",
       "5 DPAGT1                                                                                                                   \n",
       "6 CASP9;CDKN1A;CHUK;MDM2;AKT1;AKT1S1;AKT2;AKT3;BAD;CDKN1B;GSK3A;GSK3B;MKRN1;TSC2                                           \n",
       "  SOURCE                                                       \n",
       "1 MSBB_MA;MSBB_RS;MSBB_TP;ROSMAP_SP                            \n",
       "2 MSBB_RS                                                      \n",
       "3 ADSP_GS;MSBB_MA;MSBB_RS;MSBB_TP;ROSMAP_MA;ROSMAP_RS          \n",
       "4 ADSP_GS;MSBB_MA;MSBB_RS;MSBB_TP;ROSMAP_MA;ROSMAP_RS;ROSMAP_SP\n",
       "5 ADSP_GS;MSBB_MA;MSBB_RS;MSBB_TP;ROSMAP_MA;ROSMAP_RS          \n",
       "6 MSBB_MA;MSBB_RS;ROSMAP_MA;ROSMAP_RS                          "
      ]
     },
     "metadata": {},
     "output_type": "display_data"
    }
   ],
   "source": [
    "avg_pathway_msbb_important_desc = avg_pathway_msbb_important %>%\n",
    "inner_join(all_path_map_clean, by = 'PATHWAY_ID')\n",
    "nrow(avg_pathway_msbb_important_desc)\n",
    "head(avg_pathway_msbb_important_desc)"
   ]
  },
  {
   "cell_type": "code",
   "execution_count": 176,
   "id": "a0a05008-2af0-4ab4-8674-19e4c51926ae",
   "metadata": {},
   "outputs": [
    {
     "data": {
      "text/html": [
       "272"
      ],
      "text/latex": [
       "272"
      ],
      "text/markdown": [
       "272"
      ],
      "text/plain": [
       "[1] 272"
      ]
     },
     "metadata": {},
     "output_type": "display_data"
    },
    {
     "data": {
      "text/html": [
       "<table class=\"dataframe\">\n",
       "<caption>A data.frame: 6 × 6</caption>\n",
       "<thead>\n",
       "\t<tr><th></th><th scope=col>PATHWAY_ID</th><th scope=col>COEF</th><th scope=col>PATHWAY_NAME</th><th scope=col>N_GENES</th><th scope=col>GENES</th><th scope=col>SOURCE</th></tr>\n",
       "\t<tr><th></th><th scope=col>&lt;chr&gt;</th><th scope=col>&lt;dbl&gt;</th><th scope=col>&lt;chr&gt;</th><th scope=col>&lt;int&gt;</th><th scope=col>&lt;chr&gt;</th><th scope=col>&lt;chr&gt;</th></tr>\n",
       "</thead>\n",
       "<tbody>\n",
       "\t<tr><th scope=row>1</th><td>R-HSA-3359454</td><td>-0.0002886222</td><td>Defective TCN2 causes TCN2 deficiency       </td><td> 1</td><td>TCN2                                                                          </td><td>ADSP_GS;MSBB_MA;MSBB_RS;ROSMAP_MA;ROSMAP_RS;ROSMAP_SP</td></tr>\n",
       "\t<tr><th scope=row>2</th><td>R-HSA-3858516</td><td> 0.0002724356</td><td>Glycogen storage disease type 0 (liver GYS2)</td><td> 2</td><td>GYG2;GYS2                                                                     </td><td>MSBB_MA;MSBB_RS;MSBB_TP;ROSMAP_SP                    </td></tr>\n",
       "\t<tr><th scope=row>3</th><td>R-HSA-198323 </td><td> 0.0002468266</td><td>AKT phosphorylates targets in the cytosol   </td><td>14</td><td>CASP9;CDKN1A;CHUK;MDM2;AKT1;AKT1S1;AKT2;AKT3;BAD;CDKN1B;GSK3A;GSK3B;MKRN1;TSC2</td><td>MSBB_MA;MSBB_RS;ROSMAP_MA;ROSMAP_RS                  </td></tr>\n",
       "\t<tr><th scope=row>4</th><td>R-HSA-2142700</td><td>-0.0001947765</td><td>Biosynthesis of Lipoxins (LX)               </td><td> 6</td><td>LTC4S;ALOX12;HPGD;ALOX5;ALOX5AP;PTGR1                                         </td><td>MSBB_MA;ROSMAP_MA;ROSMAP_RS                          </td></tr>\n",
       "\t<tr><th scope=row>5</th><td>R-HSA-173107 </td><td>-0.0001622548</td><td>Binding and entry of HIV virion             </td><td> 4</td><td>CCR5;CXCR4;CD4;PPIA                                                           </td><td>ADSP_GS;MSBB_MA;ROSMAP_MA;ROSMAP_RS                  </td></tr>\n",
       "\t<tr><th scope=row>6</th><td>R-HSA-9027307</td><td>-0.0001412183</td><td>Biosynthesis of maresin-like SPMs           </td><td> 6</td><td>CYP1A2;CYP2C8;CYP2C9;CYP2D6;CYP2E1;CYP3A4                                     </td><td>MSBB_MA;ROSMAP_MA                                    </td></tr>\n",
       "</tbody>\n",
       "</table>\n"
      ],
      "text/latex": [
       "A data.frame: 6 × 6\n",
       "\\begin{tabular}{r|llllll}\n",
       "  & PATHWAY\\_ID & COEF & PATHWAY\\_NAME & N\\_GENES & GENES & SOURCE\\\\\n",
       "  & <chr> & <dbl> & <chr> & <int> & <chr> & <chr>\\\\\n",
       "\\hline\n",
       "\t1 & R-HSA-3359454 & -0.0002886222 & Defective TCN2 causes TCN2 deficiency        &  1 & TCN2                                                                           & ADSP\\_GS;MSBB\\_MA;MSBB\\_RS;ROSMAP\\_MA;ROSMAP\\_RS;ROSMAP\\_SP\\\\\n",
       "\t2 & R-HSA-3858516 &  0.0002724356 & Glycogen storage disease type 0 (liver GYS2) &  2 & GYG2;GYS2                                                                      & MSBB\\_MA;MSBB\\_RS;MSBB\\_TP;ROSMAP\\_SP                    \\\\\n",
       "\t3 & R-HSA-198323  &  0.0002468266 & AKT phosphorylates targets in the cytosol    & 14 & CASP9;CDKN1A;CHUK;MDM2;AKT1;AKT1S1;AKT2;AKT3;BAD;CDKN1B;GSK3A;GSK3B;MKRN1;TSC2 & MSBB\\_MA;MSBB\\_RS;ROSMAP\\_MA;ROSMAP\\_RS                  \\\\\n",
       "\t4 & R-HSA-2142700 & -0.0001947765 & Biosynthesis of Lipoxins (LX)                &  6 & LTC4S;ALOX12;HPGD;ALOX5;ALOX5AP;PTGR1                                          & MSBB\\_MA;ROSMAP\\_MA;ROSMAP\\_RS                          \\\\\n",
       "\t5 & R-HSA-173107  & -0.0001622548 & Binding and entry of HIV virion              &  4 & CCR5;CXCR4;CD4;PPIA                                                            & ADSP\\_GS;MSBB\\_MA;ROSMAP\\_MA;ROSMAP\\_RS                  \\\\\n",
       "\t6 & R-HSA-9027307 & -0.0001412183 & Biosynthesis of maresin-like SPMs            &  6 & CYP1A2;CYP2C8;CYP2C9;CYP2D6;CYP2E1;CYP3A4                                      & MSBB\\_MA;ROSMAP\\_MA                                    \\\\\n",
       "\\end{tabular}\n"
      ],
      "text/markdown": [
       "\n",
       "A data.frame: 6 × 6\n",
       "\n",
       "| <!--/--> | PATHWAY_ID &lt;chr&gt; | COEF &lt;dbl&gt; | PATHWAY_NAME &lt;chr&gt; | N_GENES &lt;int&gt; | GENES &lt;chr&gt; | SOURCE &lt;chr&gt; |\n",
       "|---|---|---|---|---|---|---|\n",
       "| 1 | R-HSA-3359454 | -0.0002886222 | Defective TCN2 causes TCN2 deficiency        |  1 | TCN2                                                                           | ADSP_GS;MSBB_MA;MSBB_RS;ROSMAP_MA;ROSMAP_RS;ROSMAP_SP |\n",
       "| 2 | R-HSA-3858516 |  0.0002724356 | Glycogen storage disease type 0 (liver GYS2) |  2 | GYG2;GYS2                                                                      | MSBB_MA;MSBB_RS;MSBB_TP;ROSMAP_SP                     |\n",
       "| 3 | R-HSA-198323  |  0.0002468266 | AKT phosphorylates targets in the cytosol    | 14 | CASP9;CDKN1A;CHUK;MDM2;AKT1;AKT1S1;AKT2;AKT3;BAD;CDKN1B;GSK3A;GSK3B;MKRN1;TSC2 | MSBB_MA;MSBB_RS;ROSMAP_MA;ROSMAP_RS                   |\n",
       "| 4 | R-HSA-2142700 | -0.0001947765 | Biosynthesis of Lipoxins (LX)                |  6 | LTC4S;ALOX12;HPGD;ALOX5;ALOX5AP;PTGR1                                          | MSBB_MA;ROSMAP_MA;ROSMAP_RS                           |\n",
       "| 5 | R-HSA-173107  | -0.0001622548 | Binding and entry of HIV virion              |  4 | CCR5;CXCR4;CD4;PPIA                                                            | ADSP_GS;MSBB_MA;ROSMAP_MA;ROSMAP_RS                   |\n",
       "| 6 | R-HSA-9027307 | -0.0001412183 | Biosynthesis of maresin-like SPMs            |  6 | CYP1A2;CYP2C8;CYP2C9;CYP2D6;CYP2E1;CYP3A4                                      | MSBB_MA;ROSMAP_MA                                     |\n",
       "\n"
      ],
      "text/plain": [
       "  PATHWAY_ID    COEF          PATHWAY_NAME                                \n",
       "1 R-HSA-3359454 -0.0002886222 Defective TCN2 causes TCN2 deficiency       \n",
       "2 R-HSA-3858516  0.0002724356 Glycogen storage disease type 0 (liver GYS2)\n",
       "3 R-HSA-198323   0.0002468266 AKT phosphorylates targets in the cytosol   \n",
       "4 R-HSA-2142700 -0.0001947765 Biosynthesis of Lipoxins (LX)               \n",
       "5 R-HSA-173107  -0.0001622548 Binding and entry of HIV virion             \n",
       "6 R-HSA-9027307 -0.0001412183 Biosynthesis of maresin-like SPMs           \n",
       "  N_GENES\n",
       "1  1     \n",
       "2  2     \n",
       "3 14     \n",
       "4  6     \n",
       "5  4     \n",
       "6  6     \n",
       "  GENES                                                                         \n",
       "1 TCN2                                                                          \n",
       "2 GYG2;GYS2                                                                     \n",
       "3 CASP9;CDKN1A;CHUK;MDM2;AKT1;AKT1S1;AKT2;AKT3;BAD;CDKN1B;GSK3A;GSK3B;MKRN1;TSC2\n",
       "4 LTC4S;ALOX12;HPGD;ALOX5;ALOX5AP;PTGR1                                         \n",
       "5 CCR5;CXCR4;CD4;PPIA                                                           \n",
       "6 CYP1A2;CYP2C8;CYP2C9;CYP2D6;CYP2E1;CYP3A4                                     \n",
       "  SOURCE                                               \n",
       "1 ADSP_GS;MSBB_MA;MSBB_RS;ROSMAP_MA;ROSMAP_RS;ROSMAP_SP\n",
       "2 MSBB_MA;MSBB_RS;MSBB_TP;ROSMAP_SP                    \n",
       "3 MSBB_MA;MSBB_RS;ROSMAP_MA;ROSMAP_RS                  \n",
       "4 MSBB_MA;ROSMAP_MA;ROSMAP_RS                          \n",
       "5 ADSP_GS;MSBB_MA;ROSMAP_MA;ROSMAP_RS                  \n",
       "6 MSBB_MA;ROSMAP_MA                                    "
      ]
     },
     "metadata": {},
     "output_type": "display_data"
    }
   ],
   "source": [
    "avg_gene_important_desc = avg_gene_important %>%\n",
    "inner_join(all_path_map_clean, by = 'PATHWAY_ID')\n",
    "nrow(avg_gene_important_desc)\n",
    "head(avg_gene_important_desc)"
   ]
  },
  {
   "cell_type": "code",
   "execution_count": 177,
   "id": "f3498426-9d2e-48f5-b527-3af223870460",
   "metadata": {},
   "outputs": [
    {
     "data": {
      "text/html": [
       "313"
      ],
      "text/latex": [
       "313"
      ],
      "text/markdown": [
       "313"
      ],
      "text/plain": [
       "[1] 313"
      ]
     },
     "metadata": {},
     "output_type": "display_data"
    },
    {
     "data": {
      "text/html": [
       "<table class=\"dataframe\">\n",
       "<caption>A data.frame: 6 × 6</caption>\n",
       "<thead>\n",
       "\t<tr><th></th><th scope=col>PATHWAY_ID</th><th scope=col>COEF</th><th scope=col>PATHWAY_NAME</th><th scope=col>N_GENES</th><th scope=col>GENES</th><th scope=col>SOURCE</th></tr>\n",
       "\t<tr><th></th><th scope=col>&lt;chr&gt;</th><th scope=col>&lt;dbl&gt;</th><th scope=col>&lt;chr&gt;</th><th scope=col>&lt;int&gt;</th><th scope=col>&lt;chr&gt;</th><th scope=col>&lt;chr&gt;</th></tr>\n",
       "</thead>\n",
       "<tbody>\n",
       "\t<tr><th scope=row>1</th><td>R-HSA-5602410</td><td>-2.489379e-04</td><td>TLR3 deficiency - HSE                         </td><td> 1</td><td>TLR3                                                                          </td><td>ADSP_GS;MSBB_MA;MSBB_RS;MSBB_TP;ROSMAP_MA;ROSMAP_RS;ROSMAP_SP</td></tr>\n",
       "\t<tr><th scope=row>2</th><td>R-HSA-3878781</td><td> 1.430585e-04</td><td>Glycogen storage disease type IV (GBE1)       </td><td> 3</td><td>GYG2;GBE1;GYS2                                                                </td><td>MSBB_MA;MSBB_RS;MSBB_TP;ROSMAP_SP                            </td></tr>\n",
       "\t<tr><th scope=row>3</th><td>R-HSA-162585 </td><td>-1.337142e-04</td><td>Uncoating of the HIV Virion                   </td><td> 1</td><td>PPIA                                                                          </td><td>ADSP_GS;MSBB_MA;MSBB_RS;MSBB_TP;ROSMAP_MA;ROSMAP_RS;ROSMAP_SP</td></tr>\n",
       "\t<tr><th scope=row>4</th><td>R-HSA-190371 </td><td>-1.162608e-04</td><td>FGFR3b ligand binding and activation          </td><td> 7</td><td>FGF18;FGF20;FGF8;FGF17;FGF9;FGFR3;FGF1                                        </td><td>MSBB_MA;ROSMAP_MA;ROSMAP_RS;ROSMAP_SP                        </td></tr>\n",
       "\t<tr><th scope=row>5</th><td>R-HSA-193670 </td><td>-7.952434e-05</td><td>p75NTR negatively regulates cell cycle via SC1</td><td> 6</td><td>HDAC1;HDAC3;NGF;NGFR;PRDM4;HDAC2                                              </td><td>MSBB_MA;MSBB_RS;MSBB_TP;ROSMAP_MA;ROSMAP_RS                  </td></tr>\n",
       "\t<tr><th scope=row>6</th><td>R-HSA-198323 </td><td> 7.369436e-05</td><td>AKT phosphorylates targets in the cytosol     </td><td>14</td><td>CASP9;CDKN1A;CHUK;MDM2;AKT1;AKT1S1;AKT2;AKT3;BAD;CDKN1B;GSK3A;GSK3B;MKRN1;TSC2</td><td>MSBB_MA;MSBB_RS;ROSMAP_MA;ROSMAP_RS                          </td></tr>\n",
       "</tbody>\n",
       "</table>\n"
      ],
      "text/latex": [
       "A data.frame: 6 × 6\n",
       "\\begin{tabular}{r|llllll}\n",
       "  & PATHWAY\\_ID & COEF & PATHWAY\\_NAME & N\\_GENES & GENES & SOURCE\\\\\n",
       "  & <chr> & <dbl> & <chr> & <int> & <chr> & <chr>\\\\\n",
       "\\hline\n",
       "\t1 & R-HSA-5602410 & -2.489379e-04 & TLR3 deficiency - HSE                          &  1 & TLR3                                                                           & ADSP\\_GS;MSBB\\_MA;MSBB\\_RS;MSBB\\_TP;ROSMAP\\_MA;ROSMAP\\_RS;ROSMAP\\_SP\\\\\n",
       "\t2 & R-HSA-3878781 &  1.430585e-04 & Glycogen storage disease type IV (GBE1)        &  3 & GYG2;GBE1;GYS2                                                                 & MSBB\\_MA;MSBB\\_RS;MSBB\\_TP;ROSMAP\\_SP                            \\\\\n",
       "\t3 & R-HSA-162585  & -1.337142e-04 & Uncoating of the HIV Virion                    &  1 & PPIA                                                                           & ADSP\\_GS;MSBB\\_MA;MSBB\\_RS;MSBB\\_TP;ROSMAP\\_MA;ROSMAP\\_RS;ROSMAP\\_SP\\\\\n",
       "\t4 & R-HSA-190371  & -1.162608e-04 & FGFR3b ligand binding and activation           &  7 & FGF18;FGF20;FGF8;FGF17;FGF9;FGFR3;FGF1                                         & MSBB\\_MA;ROSMAP\\_MA;ROSMAP\\_RS;ROSMAP\\_SP                        \\\\\n",
       "\t5 & R-HSA-193670  & -7.952434e-05 & p75NTR negatively regulates cell cycle via SC1 &  6 & HDAC1;HDAC3;NGF;NGFR;PRDM4;HDAC2                                               & MSBB\\_MA;MSBB\\_RS;MSBB\\_TP;ROSMAP\\_MA;ROSMAP\\_RS                  \\\\\n",
       "\t6 & R-HSA-198323  &  7.369436e-05 & AKT phosphorylates targets in the cytosol      & 14 & CASP9;CDKN1A;CHUK;MDM2;AKT1;AKT1S1;AKT2;AKT3;BAD;CDKN1B;GSK3A;GSK3B;MKRN1;TSC2 & MSBB\\_MA;MSBB\\_RS;ROSMAP\\_MA;ROSMAP\\_RS                          \\\\\n",
       "\\end{tabular}\n"
      ],
      "text/markdown": [
       "\n",
       "A data.frame: 6 × 6\n",
       "\n",
       "| <!--/--> | PATHWAY_ID &lt;chr&gt; | COEF &lt;dbl&gt; | PATHWAY_NAME &lt;chr&gt; | N_GENES &lt;int&gt; | GENES &lt;chr&gt; | SOURCE &lt;chr&gt; |\n",
       "|---|---|---|---|---|---|---|\n",
       "| 1 | R-HSA-5602410 | -2.489379e-04 | TLR3 deficiency - HSE                          |  1 | TLR3                                                                           | ADSP_GS;MSBB_MA;MSBB_RS;MSBB_TP;ROSMAP_MA;ROSMAP_RS;ROSMAP_SP |\n",
       "| 2 | R-HSA-3878781 |  1.430585e-04 | Glycogen storage disease type IV (GBE1)        |  3 | GYG2;GBE1;GYS2                                                                 | MSBB_MA;MSBB_RS;MSBB_TP;ROSMAP_SP                             |\n",
       "| 3 | R-HSA-162585  | -1.337142e-04 | Uncoating of the HIV Virion                    |  1 | PPIA                                                                           | ADSP_GS;MSBB_MA;MSBB_RS;MSBB_TP;ROSMAP_MA;ROSMAP_RS;ROSMAP_SP |\n",
       "| 4 | R-HSA-190371  | -1.162608e-04 | FGFR3b ligand binding and activation           |  7 | FGF18;FGF20;FGF8;FGF17;FGF9;FGFR3;FGF1                                         | MSBB_MA;ROSMAP_MA;ROSMAP_RS;ROSMAP_SP                         |\n",
       "| 5 | R-HSA-193670  | -7.952434e-05 | p75NTR negatively regulates cell cycle via SC1 |  6 | HDAC1;HDAC3;NGF;NGFR;PRDM4;HDAC2                                               | MSBB_MA;MSBB_RS;MSBB_TP;ROSMAP_MA;ROSMAP_RS                   |\n",
       "| 6 | R-HSA-198323  |  7.369436e-05 | AKT phosphorylates targets in the cytosol      | 14 | CASP9;CDKN1A;CHUK;MDM2;AKT1;AKT1S1;AKT2;AKT3;BAD;CDKN1B;GSK3A;GSK3B;MKRN1;TSC2 | MSBB_MA;MSBB_RS;ROSMAP_MA;ROSMAP_RS                           |\n",
       "\n"
      ],
      "text/plain": [
       "  PATHWAY_ID    COEF          PATHWAY_NAME                                  \n",
       "1 R-HSA-5602410 -2.489379e-04 TLR3 deficiency - HSE                         \n",
       "2 R-HSA-3878781  1.430585e-04 Glycogen storage disease type IV (GBE1)       \n",
       "3 R-HSA-162585  -1.337142e-04 Uncoating of the HIV Virion                   \n",
       "4 R-HSA-190371  -1.162608e-04 FGFR3b ligand binding and activation          \n",
       "5 R-HSA-193670  -7.952434e-05 p75NTR negatively regulates cell cycle via SC1\n",
       "6 R-HSA-198323   7.369436e-05 AKT phosphorylates targets in the cytosol     \n",
       "  N_GENES\n",
       "1  1     \n",
       "2  3     \n",
       "3  1     \n",
       "4  7     \n",
       "5  6     \n",
       "6 14     \n",
       "  GENES                                                                         \n",
       "1 TLR3                                                                          \n",
       "2 GYG2;GBE1;GYS2                                                                \n",
       "3 PPIA                                                                          \n",
       "4 FGF18;FGF20;FGF8;FGF17;FGF9;FGFR3;FGF1                                        \n",
       "5 HDAC1;HDAC3;NGF;NGFR;PRDM4;HDAC2                                              \n",
       "6 CASP9;CDKN1A;CHUK;MDM2;AKT1;AKT1S1;AKT2;AKT3;BAD;CDKN1B;GSK3A;GSK3B;MKRN1;TSC2\n",
       "  SOURCE                                                       \n",
       "1 ADSP_GS;MSBB_MA;MSBB_RS;MSBB_TP;ROSMAP_MA;ROSMAP_RS;ROSMAP_SP\n",
       "2 MSBB_MA;MSBB_RS;MSBB_TP;ROSMAP_SP                            \n",
       "3 ADSP_GS;MSBB_MA;MSBB_RS;MSBB_TP;ROSMAP_MA;ROSMAP_RS;ROSMAP_SP\n",
       "4 MSBB_MA;ROSMAP_MA;ROSMAP_RS;ROSMAP_SP                        \n",
       "5 MSBB_MA;MSBB_RS;MSBB_TP;ROSMAP_MA;ROSMAP_RS                  \n",
       "6 MSBB_MA;MSBB_RS;ROSMAP_MA;ROSMAP_RS                          "
      ]
     },
     "metadata": {},
     "output_type": "display_data"
    }
   ],
   "source": [
    "avg_gene_msbb_important_desc = avg_gene_msbb_important %>%\n",
    "inner_join(all_path_map_clean, by = 'PATHWAY_ID')\n",
    "nrow(avg_gene_msbb_important_desc)\n",
    "head(avg_gene_msbb_important_desc)"
   ]
  },
  {
   "cell_type": "markdown",
   "id": "20390c8c-e74f-4443-a1fb-898e92d335e8",
   "metadata": {
    "jp-MarkdownHeadingCollapsed": true
   },
   "source": [
    "# clean advp file"
   ]
  },
  {
   "cell_type": "raw",
   "id": "e1e294f6-c4c8-42b9-98d4-b9ba74f7578c",
   "metadata": {},
   "source": [
    "# filtered to genome wide significant 5e-8\n",
    "# removed >/< symbols\n",
    "# excluded variants that had missing or NR/NS in their pval column\n",
    "# there are commas in the LocusName column but not in the nearest gene symbol column. Not all genes in the Locus Name column might be in advp"
   ]
  },
  {
   "cell_type": "markdown",
   "id": "2ca4ef2f-b812-4690-883c-7711a387a0a1",
   "metadata": {},
   "source": [
    "## filter to genome wide significant"
   ]
  },
  {
   "cell_type": "code",
   "execution_count": 52,
   "id": "c42e170f-8018-4fda-88d1-2dfe7338ef29",
   "metadata": {},
   "outputs": [
    {
     "name": "stderr",
     "output_type": "stream",
     "text": [
      "Warning message:\n",
      "“\u001b[1m\u001b[22mThere was 1 warning in `mutate()`.\n",
      "\u001b[1m\u001b[22m\u001b[36mℹ\u001b[39m In argument: `P.value = as.numeric(P.value)`.\n",
      "Caused by warning:\n",
      "\u001b[33m!\u001b[39m NAs introduced by coercion”\n"
     ]
    },
    {
     "data": {
      "text/html": [
       "<table class=\"dataframe\">\n",
       "<caption>A data.frame: 1 × 20</caption>\n",
       "<thead>\n",
       "\t<tr><th></th><th scope=col>X.dbSNP_hg38_chr</th><th scope=col>dbSNP_hg38_position</th><th scope=col>Top.SNP</th><th scope=col>P.value</th><th scope=col>LocusName</th><th scope=col>RA.1.Reported.Allele.1.</th><th scope=col>nonref_allele</th><th scope=col>nonref_effect</th><th scope=col>OR_nonref</th><th scope=col>nearest_gene_symb</th><th scope=col>Study.type</th><th scope=col>Study.Design</th><th scope=col>Pubmed.PMID</th><th scope=col>Population_map</th><th scope=col>Cohort_simple3</th><th scope=col>Sample.size</th><th scope=col>Analysis.group</th><th scope=col>Phenotype</th><th scope=col>Phenotype.derived</th><th scope=col>most_severe_consequence</th></tr>\n",
       "\t<tr><th></th><th scope=col>&lt;chr&gt;</th><th scope=col>&lt;int&gt;</th><th scope=col>&lt;chr&gt;</th><th scope=col>&lt;dbl&gt;</th><th scope=col>&lt;chr&gt;</th><th scope=col>&lt;chr&gt;</th><th scope=col>&lt;chr&gt;</th><th scope=col>&lt;chr&gt;</th><th scope=col>&lt;dbl&gt;</th><th scope=col>&lt;chr&gt;</th><th scope=col>&lt;chr&gt;</th><th scope=col>&lt;chr&gt;</th><th scope=col>&lt;int&gt;</th><th scope=col>&lt;chr&gt;</th><th scope=col>&lt;chr&gt;</th><th scope=col>&lt;chr&gt;</th><th scope=col>&lt;chr&gt;</th><th scope=col>&lt;chr&gt;</th><th scope=col>&lt;chr&gt;</th><th scope=col>&lt;chr&gt;</th></tr>\n",
       "</thead>\n",
       "<tbody>\n",
       "\t<tr><th scope=row>1</th><td>chr8</td><td>27611345</td><td>rs9331888</td><td>NA</td><td>CLU</td><td>G</td><td>G</td><td>1</td><td>1</td><td>CLU</td><td>SNP-based</td><td>Disease risk</td><td>22159054</td><td>African American</td><td>ADGC</td><td>1009</td><td>All</td><td>LOAD</td><td>AD</td><td>5_prime_UTR_variant</td></tr>\n",
       "</tbody>\n",
       "</table>\n"
      ],
      "text/latex": [
       "A data.frame: 1 × 20\n",
       "\\begin{tabular}{r|llllllllllllllllllll}\n",
       "  & X.dbSNP\\_hg38\\_chr & dbSNP\\_hg38\\_position & Top.SNP & P.value & LocusName & RA.1.Reported.Allele.1. & nonref\\_allele & nonref\\_effect & OR\\_nonref & nearest\\_gene\\_symb & Study.type & Study.Design & Pubmed.PMID & Population\\_map & Cohort\\_simple3 & Sample.size & Analysis.group & Phenotype & Phenotype.derived & most\\_severe\\_consequence\\\\\n",
       "  & <chr> & <int> & <chr> & <dbl> & <chr> & <chr> & <chr> & <chr> & <dbl> & <chr> & <chr> & <chr> & <int> & <chr> & <chr> & <chr> & <chr> & <chr> & <chr> & <chr>\\\\\n",
       "\\hline\n",
       "\t1 & chr8 & 27611345 & rs9331888 & NA & CLU & G & G & 1 & 1 & CLU & SNP-based & Disease risk & 22159054 & African American & ADGC & 1009 & All & LOAD & AD & 5\\_prime\\_UTR\\_variant\\\\\n",
       "\\end{tabular}\n"
      ],
      "text/markdown": [
       "\n",
       "A data.frame: 1 × 20\n",
       "\n",
       "| <!--/--> | X.dbSNP_hg38_chr &lt;chr&gt; | dbSNP_hg38_position &lt;int&gt; | Top.SNP &lt;chr&gt; | P.value &lt;dbl&gt; | LocusName &lt;chr&gt; | RA.1.Reported.Allele.1. &lt;chr&gt; | nonref_allele &lt;chr&gt; | nonref_effect &lt;chr&gt; | OR_nonref &lt;dbl&gt; | nearest_gene_symb &lt;chr&gt; | Study.type &lt;chr&gt; | Study.Design &lt;chr&gt; | Pubmed.PMID &lt;int&gt; | Population_map &lt;chr&gt; | Cohort_simple3 &lt;chr&gt; | Sample.size &lt;chr&gt; | Analysis.group &lt;chr&gt; | Phenotype &lt;chr&gt; | Phenotype.derived &lt;chr&gt; | most_severe_consequence &lt;chr&gt; |\n",
       "|---|---|---|---|---|---|---|---|---|---|---|---|---|---|---|---|---|---|---|---|---|\n",
       "| 1 | chr8 | 27611345 | rs9331888 | NA | CLU | G | G | 1 | 1 | CLU | SNP-based | Disease risk | 22159054 | African American | ADGC | 1009 | All | LOAD | AD | 5_prime_UTR_variant |\n",
       "\n"
      ],
      "text/plain": [
       "  X.dbSNP_hg38_chr dbSNP_hg38_position Top.SNP   P.value LocusName\n",
       "1 chr8             27611345            rs9331888 NA      CLU      \n",
       "  RA.1.Reported.Allele.1. nonref_allele nonref_effect OR_nonref\n",
       "1 G                       G             1             1        \n",
       "  nearest_gene_symb Study.type Study.Design Pubmed.PMID Population_map  \n",
       "1 CLU               SNP-based  Disease risk 22159054    African American\n",
       "  Cohort_simple3 Sample.size Analysis.group Phenotype Phenotype.derived\n",
       "1 ADGC           1009        All            LOAD      AD               \n",
       "  most_severe_consequence\n",
       "1 5_prime_UTR_variant    "
      ]
     },
     "metadata": {},
     "output_type": "display_data"
    }
   ],
   "source": [
    "advp %>%\n",
    "filter(!P.value %in% c('NR', 'NS')) %>%\n",
    "mutate(P.value = gsub('<', '', P.value)) %>%\n",
    "filter(!is.na(P.value)) %>%\n",
    "mutate(P.value = as.numeric(P.value)) %>%\n",
    "filter(is.na(P.value)) %>%\n",
    "head()"
   ]
  },
  {
   "cell_type": "code",
   "execution_count": 53,
   "id": "f4f8fb3a-99bc-4238-b9bd-33c367d10bba",
   "metadata": {},
   "outputs": [
    {
     "data": {
      "text/html": [
       "<table class=\"dataframe\">\n",
       "<caption>A data.frame: 17 × 20</caption>\n",
       "<thead>\n",
       "\t<tr><th scope=col>X.dbSNP_hg38_chr</th><th scope=col>dbSNP_hg38_position</th><th scope=col>Top.SNP</th><th scope=col>P.value</th><th scope=col>LocusName</th><th scope=col>RA.1.Reported.Allele.1.</th><th scope=col>nonref_allele</th><th scope=col>nonref_effect</th><th scope=col>OR_nonref</th><th scope=col>nearest_gene_symb</th><th scope=col>Study.type</th><th scope=col>Study.Design</th><th scope=col>Pubmed.PMID</th><th scope=col>Population_map</th><th scope=col>Cohort_simple3</th><th scope=col>Sample.size</th><th scope=col>Analysis.group</th><th scope=col>Phenotype</th><th scope=col>Phenotype.derived</th><th scope=col>most_severe_consequence</th></tr>\n",
       "\t<tr><th scope=col>&lt;chr&gt;</th><th scope=col>&lt;int&gt;</th><th scope=col>&lt;chr&gt;</th><th scope=col>&lt;chr&gt;</th><th scope=col>&lt;chr&gt;</th><th scope=col>&lt;chr&gt;</th><th scope=col>&lt;chr&gt;</th><th scope=col>&lt;chr&gt;</th><th scope=col>&lt;dbl&gt;</th><th scope=col>&lt;chr&gt;</th><th scope=col>&lt;chr&gt;</th><th scope=col>&lt;chr&gt;</th><th scope=col>&lt;int&gt;</th><th scope=col>&lt;chr&gt;</th><th scope=col>&lt;chr&gt;</th><th scope=col>&lt;chr&gt;</th><th scope=col>&lt;chr&gt;</th><th scope=col>&lt;chr&gt;</th><th scope=col>&lt;chr&gt;</th><th scope=col>&lt;chr&gt;</th></tr>\n",
       "</thead>\n",
       "<tbody>\n",
       "\t<tr><td>chr8</td><td>27611345</td><td>rs9331888</td><td>0.000000094</td><td>CLU</td><td>NR</td><td>NR</td><td>1.16</td><td>1.16</td><td>CLU</td><td>SNP-based</td><td>Disease risk                 </td><td>19734903</td><td>Caucasian       </td><td>Cohorts from Europe</td><td>14395</td><td>All                           </td><td>AD             </td><td>AD   </td><td>5_prime_UTR_variant</td></tr>\n",
       "\t<tr><td>chr8</td><td>27611345</td><td>rs9331888</td><td>0.00000794 </td><td>CLU</td><td>NR</td><td>NR</td><td>0.16</td><td>  NA</td><td>CLU</td><td>SNP-based</td><td>Age at onset (AAO) / Survival</td><td>28323831</td><td>Caucasian       </td><td>ADGC               </td><td>15795</td><td>All                           </td><td>Age of AD onset</td><td>Other</td><td>5_prime_UTR_variant</td></tr>\n",
       "\t<tr><td>chr8</td><td>27611345</td><td>rs9331888</td><td>0.000018   </td><td>CLU</td><td>NR</td><td>NR</td><td>1.19</td><td>1.19</td><td>CLU</td><td>SNP-based</td><td>Disease risk                 </td><td>19734903</td><td>Caucasian       </td><td>Cohorts from Europe</td><td>7353 </td><td>All                           </td><td>AD             </td><td>AD   </td><td>5_prime_UTR_variant</td></tr>\n",
       "\t<tr><td>chr8</td><td>27611345</td><td>rs9331888</td><td>0.000078   </td><td>CLU</td><td>NR</td><td>NR</td><td>1.21</td><td>1.21</td><td>CLU</td><td>SNP-based</td><td>Disease risk                 </td><td>19734903</td><td>Caucasian       </td><td>Cohorts from Europe</td><td>4821 </td><td>APOE-e4 carrier               </td><td>AD             </td><td>AD   </td><td>5_prime_UTR_variant</td></tr>\n",
       "\t<tr><td>chr8</td><td>27611345</td><td>rs9331888</td><td>0.0029     </td><td>CLU</td><td>NR</td><td>NR</td><td>1.12</td><td>1.12</td><td>CLU</td><td>SNP-based</td><td>Disease risk                 </td><td>19734903</td><td>Caucasian       </td><td>Cohorts from Europe</td><td>7042 </td><td>All                           </td><td>AD             </td><td>AD   </td><td>5_prime_UTR_variant</td></tr>\n",
       "\t<tr><td>chr8</td><td>27611345</td><td>rs9331888</td><td>0.0045     </td><td>CLU</td><td>NR</td><td>NR</td><td>1.22</td><td>1.22</td><td>CLU</td><td>SNP-based</td><td>Disease risk                 </td><td>19734903</td><td>Caucasian       </td><td>Cohorts from Europe</td><td>2715 </td><td>All                           </td><td>AD             </td><td>AD   </td><td>5_prime_UTR_variant</td></tr>\n",
       "\t<tr><td>chr8</td><td>27611345</td><td>rs9331888</td><td>0.018      </td><td>CLU</td><td>NR</td><td>NR</td><td>1.09</td><td>1.09</td><td>CLU</td><td>SNP-based</td><td>Disease risk                 </td><td>19734903</td><td>Caucasian       </td><td>Cohorts from Europe</td><td>9518 </td><td>APOE-e4 non-carrier           </td><td>AD             </td><td>AD   </td><td>5_prime_UTR_variant</td></tr>\n",
       "\t<tr><td>chr8</td><td>27611345</td><td>rs9331888</td><td>0.0697     </td><td>CLU</td><td>G </td><td>G </td><td>1.1 </td><td>1.10</td><td>CLU</td><td>SNP-based</td><td>Disease risk                 </td><td>23565137</td><td>Asian           </td><td>Cohort from Japan  </td><td>2024 </td><td>All                           </td><td>LOAD           </td><td>AD   </td><td>5_prime_UTR_variant</td></tr>\n",
       "\t<tr><td>chr8</td><td>27611345</td><td>rs9331888</td><td>0.12       </td><td>CLU</td><td>NR</td><td>NR</td><td>1.16</td><td>1.16</td><td>CLU</td><td>SNP-based</td><td>Disease risk                 </td><td>19734903</td><td>Caucasian       </td><td>Cohorts from Europe</td><td>1573 </td><td>All                           </td><td>AD             </td><td>AD   </td><td>5_prime_UTR_variant</td></tr>\n",
       "\t<tr><td>chr8</td><td>27611345</td><td>rs9331888</td><td>0.19       </td><td>CLU</td><td>NR</td><td>NR</td><td>0.92</td><td>0.92</td><td>CLU</td><td>SNP-based</td><td>Disease risk                 </td><td>20697030</td><td>Caucasian       </td><td>ADGC               </td><td>12969</td><td>Subjects with APOE-e4+ carrier</td><td>AD             </td><td>AD   </td><td>5_prime_UTR_variant</td></tr>\n",
       "\t<tr><td>chr8</td><td>27611345</td><td>rs9331888</td><td>0.192      </td><td>CLU</td><td>G </td><td>G </td><td>0.89</td><td>0.89</td><td>CLU</td><td>SNP-based</td><td>Disease risk                 </td><td>23565137</td><td>Asian           </td><td>Cohort from Korea  </td><td>1468 </td><td>All                           </td><td>LOAD           </td><td>AD   </td><td>5_prime_UTR_variant</td></tr>\n",
       "\t<tr><td>chr8</td><td>27611345</td><td>rs9331888</td><td>0.32       </td><td>CLU</td><td>NR</td><td>NR</td><td>1.09</td><td>1.09</td><td>CLU</td><td>SNP-based</td><td>Disease risk                 </td><td>19734903</td><td>Caucasian       </td><td>Cohorts from Europe</td><td>1224 </td><td>All                           </td><td>AD             </td><td>AD   </td><td>5_prime_UTR_variant</td></tr>\n",
       "\t<tr><td>chr8</td><td>27611345</td><td>rs9331888</td><td>0.48       </td><td>CLU</td><td>NR</td><td>NR</td><td>1.06</td><td>1.06</td><td>CLU</td><td>SNP-based</td><td>Disease risk                 </td><td>19734903</td><td>Caucasian       </td><td>Cohorts from Europe</td><td>1530 </td><td>All                           </td><td>AD             </td><td>AD   </td><td>5_prime_UTR_variant</td></tr>\n",
       "\t<tr><td>chr8</td><td>27611345</td><td>rs9331888</td><td>0.53       </td><td>CLU</td><td>NR</td><td>NR</td><td>1.03</td><td>1.03</td><td>CLU</td><td>SNP-based</td><td>Disease risk                 </td><td>20697030</td><td>Caucasian       </td><td>ADGC               </td><td>12969</td><td>Subjects with APOE-e4- carrier</td><td>AD             </td><td>AD   </td><td>5_prime_UTR_variant</td></tr>\n",
       "\t<tr><td>chr8</td><td>27611345</td><td>rs9331888</td><td>0.74       </td><td>CLU</td><td>G </td><td>G </td><td>0.99</td><td>0.99</td><td>CLU</td><td>SNP-based</td><td>Disease risk                 </td><td>20697030</td><td>Caucasian       </td><td>ADGC               </td><td>12969</td><td>All                           </td><td>AD             </td><td>AD   </td><td>5_prime_UTR_variant</td></tr>\n",
       "\t<tr><td>chr8</td><td>27611345</td><td>rs9331888</td><td>0.76       </td><td>CLU</td><td>G </td><td>G </td><td>0.99</td><td>0.99</td><td>CLU</td><td>SNP-based</td><td>Disease risk                 </td><td>20697030</td><td>Caucasian       </td><td>ADGC               </td><td>12969</td><td>All                           </td><td>AD             </td><td>AD   </td><td>5_prime_UTR_variant</td></tr>\n",
       "\t<tr><td>chr8</td><td>27611345</td><td>rs9331888</td><td><span style=white-space:pre-wrap>&gt;9.90E-01  </span></td><td>CLU</td><td>G </td><td>G </td><td><span style=white-space:pre-wrap>1   </span></td><td>1.00</td><td>CLU</td><td>SNP-based</td><td><span style=white-space:pre-wrap>Disease risk                 </span></td><td>22159054</td><td>African American</td><td><span style=white-space:pre-wrap>ADGC               </span></td><td>1009 </td><td><span style=white-space:pre-wrap>All                           </span></td><td><span style=white-space:pre-wrap>LOAD           </span></td><td><span style=white-space:pre-wrap>AD   </span></td><td>5_prime_UTR_variant</td></tr>\n",
       "</tbody>\n",
       "</table>\n"
      ],
      "text/latex": [
       "A data.frame: 17 × 20\n",
       "\\begin{tabular}{llllllllllllllllllll}\n",
       " X.dbSNP\\_hg38\\_chr & dbSNP\\_hg38\\_position & Top.SNP & P.value & LocusName & RA.1.Reported.Allele.1. & nonref\\_allele & nonref\\_effect & OR\\_nonref & nearest\\_gene\\_symb & Study.type & Study.Design & Pubmed.PMID & Population\\_map & Cohort\\_simple3 & Sample.size & Analysis.group & Phenotype & Phenotype.derived & most\\_severe\\_consequence\\\\\n",
       " <chr> & <int> & <chr> & <chr> & <chr> & <chr> & <chr> & <chr> & <dbl> & <chr> & <chr> & <chr> & <int> & <chr> & <chr> & <chr> & <chr> & <chr> & <chr> & <chr>\\\\\n",
       "\\hline\n",
       "\t chr8 & 27611345 & rs9331888 & 0.000000094 & CLU & NR & NR & 1.16 & 1.16 & CLU & SNP-based & Disease risk                  & 19734903 & Caucasian        & Cohorts from Europe & 14395 & All                            & AD              & AD    & 5\\_prime\\_UTR\\_variant\\\\\n",
       "\t chr8 & 27611345 & rs9331888 & 0.00000794  & CLU & NR & NR & 0.16 &   NA & CLU & SNP-based & Age at onset (AAO) / Survival & 28323831 & Caucasian        & ADGC                & 15795 & All                            & Age of AD onset & Other & 5\\_prime\\_UTR\\_variant\\\\\n",
       "\t chr8 & 27611345 & rs9331888 & 0.000018    & CLU & NR & NR & 1.19 & 1.19 & CLU & SNP-based & Disease risk                  & 19734903 & Caucasian        & Cohorts from Europe & 7353  & All                            & AD              & AD    & 5\\_prime\\_UTR\\_variant\\\\\n",
       "\t chr8 & 27611345 & rs9331888 & 0.000078    & CLU & NR & NR & 1.21 & 1.21 & CLU & SNP-based & Disease risk                  & 19734903 & Caucasian        & Cohorts from Europe & 4821  & APOE-e4 carrier                & AD              & AD    & 5\\_prime\\_UTR\\_variant\\\\\n",
       "\t chr8 & 27611345 & rs9331888 & 0.0029      & CLU & NR & NR & 1.12 & 1.12 & CLU & SNP-based & Disease risk                  & 19734903 & Caucasian        & Cohorts from Europe & 7042  & All                            & AD              & AD    & 5\\_prime\\_UTR\\_variant\\\\\n",
       "\t chr8 & 27611345 & rs9331888 & 0.0045      & CLU & NR & NR & 1.22 & 1.22 & CLU & SNP-based & Disease risk                  & 19734903 & Caucasian        & Cohorts from Europe & 2715  & All                            & AD              & AD    & 5\\_prime\\_UTR\\_variant\\\\\n",
       "\t chr8 & 27611345 & rs9331888 & 0.018       & CLU & NR & NR & 1.09 & 1.09 & CLU & SNP-based & Disease risk                  & 19734903 & Caucasian        & Cohorts from Europe & 9518  & APOE-e4 non-carrier            & AD              & AD    & 5\\_prime\\_UTR\\_variant\\\\\n",
       "\t chr8 & 27611345 & rs9331888 & 0.0697      & CLU & G  & G  & 1.1  & 1.10 & CLU & SNP-based & Disease risk                  & 23565137 & Asian            & Cohort from Japan   & 2024  & All                            & LOAD            & AD    & 5\\_prime\\_UTR\\_variant\\\\\n",
       "\t chr8 & 27611345 & rs9331888 & 0.12        & CLU & NR & NR & 1.16 & 1.16 & CLU & SNP-based & Disease risk                  & 19734903 & Caucasian        & Cohorts from Europe & 1573  & All                            & AD              & AD    & 5\\_prime\\_UTR\\_variant\\\\\n",
       "\t chr8 & 27611345 & rs9331888 & 0.19        & CLU & NR & NR & 0.92 & 0.92 & CLU & SNP-based & Disease risk                  & 20697030 & Caucasian        & ADGC                & 12969 & Subjects with APOE-e4+ carrier & AD              & AD    & 5\\_prime\\_UTR\\_variant\\\\\n",
       "\t chr8 & 27611345 & rs9331888 & 0.192       & CLU & G  & G  & 0.89 & 0.89 & CLU & SNP-based & Disease risk                  & 23565137 & Asian            & Cohort from Korea   & 1468  & All                            & LOAD            & AD    & 5\\_prime\\_UTR\\_variant\\\\\n",
       "\t chr8 & 27611345 & rs9331888 & 0.32        & CLU & NR & NR & 1.09 & 1.09 & CLU & SNP-based & Disease risk                  & 19734903 & Caucasian        & Cohorts from Europe & 1224  & All                            & AD              & AD    & 5\\_prime\\_UTR\\_variant\\\\\n",
       "\t chr8 & 27611345 & rs9331888 & 0.48        & CLU & NR & NR & 1.06 & 1.06 & CLU & SNP-based & Disease risk                  & 19734903 & Caucasian        & Cohorts from Europe & 1530  & All                            & AD              & AD    & 5\\_prime\\_UTR\\_variant\\\\\n",
       "\t chr8 & 27611345 & rs9331888 & 0.53        & CLU & NR & NR & 1.03 & 1.03 & CLU & SNP-based & Disease risk                  & 20697030 & Caucasian        & ADGC                & 12969 & Subjects with APOE-e4- carrier & AD              & AD    & 5\\_prime\\_UTR\\_variant\\\\\n",
       "\t chr8 & 27611345 & rs9331888 & 0.74        & CLU & G  & G  & 0.99 & 0.99 & CLU & SNP-based & Disease risk                  & 20697030 & Caucasian        & ADGC                & 12969 & All                            & AD              & AD    & 5\\_prime\\_UTR\\_variant\\\\\n",
       "\t chr8 & 27611345 & rs9331888 & 0.76        & CLU & G  & G  & 0.99 & 0.99 & CLU & SNP-based & Disease risk                  & 20697030 & Caucasian        & ADGC                & 12969 & All                            & AD              & AD    & 5\\_prime\\_UTR\\_variant\\\\\n",
       "\t chr8 & 27611345 & rs9331888 & >9.90E-01   & CLU & G  & G  & 1    & 1.00 & CLU & SNP-based & Disease risk                  & 22159054 & African American & ADGC                & 1009  & All                            & LOAD            & AD    & 5\\_prime\\_UTR\\_variant\\\\\n",
       "\\end{tabular}\n"
      ],
      "text/markdown": [
       "\n",
       "A data.frame: 17 × 20\n",
       "\n",
       "| X.dbSNP_hg38_chr &lt;chr&gt; | dbSNP_hg38_position &lt;int&gt; | Top.SNP &lt;chr&gt; | P.value &lt;chr&gt; | LocusName &lt;chr&gt; | RA.1.Reported.Allele.1. &lt;chr&gt; | nonref_allele &lt;chr&gt; | nonref_effect &lt;chr&gt; | OR_nonref &lt;dbl&gt; | nearest_gene_symb &lt;chr&gt; | Study.type &lt;chr&gt; | Study.Design &lt;chr&gt; | Pubmed.PMID &lt;int&gt; | Population_map &lt;chr&gt; | Cohort_simple3 &lt;chr&gt; | Sample.size &lt;chr&gt; | Analysis.group &lt;chr&gt; | Phenotype &lt;chr&gt; | Phenotype.derived &lt;chr&gt; | most_severe_consequence &lt;chr&gt; |\n",
       "|---|---|---|---|---|---|---|---|---|---|---|---|---|---|---|---|---|---|---|---|\n",
       "| chr8 | 27611345 | rs9331888 | 0.000000094 | CLU | NR | NR | 1.16 | 1.16 | CLU | SNP-based | Disease risk                  | 19734903 | Caucasian        | Cohorts from Europe | 14395 | All                            | AD              | AD    | 5_prime_UTR_variant |\n",
       "| chr8 | 27611345 | rs9331888 | 0.00000794  | CLU | NR | NR | 0.16 |   NA | CLU | SNP-based | Age at onset (AAO) / Survival | 28323831 | Caucasian        | ADGC                | 15795 | All                            | Age of AD onset | Other | 5_prime_UTR_variant |\n",
       "| chr8 | 27611345 | rs9331888 | 0.000018    | CLU | NR | NR | 1.19 | 1.19 | CLU | SNP-based | Disease risk                  | 19734903 | Caucasian        | Cohorts from Europe | 7353  | All                            | AD              | AD    | 5_prime_UTR_variant |\n",
       "| chr8 | 27611345 | rs9331888 | 0.000078    | CLU | NR | NR | 1.21 | 1.21 | CLU | SNP-based | Disease risk                  | 19734903 | Caucasian        | Cohorts from Europe | 4821  | APOE-e4 carrier                | AD              | AD    | 5_prime_UTR_variant |\n",
       "| chr8 | 27611345 | rs9331888 | 0.0029      | CLU | NR | NR | 1.12 | 1.12 | CLU | SNP-based | Disease risk                  | 19734903 | Caucasian        | Cohorts from Europe | 7042  | All                            | AD              | AD    | 5_prime_UTR_variant |\n",
       "| chr8 | 27611345 | rs9331888 | 0.0045      | CLU | NR | NR | 1.22 | 1.22 | CLU | SNP-based | Disease risk                  | 19734903 | Caucasian        | Cohorts from Europe | 2715  | All                            | AD              | AD    | 5_prime_UTR_variant |\n",
       "| chr8 | 27611345 | rs9331888 | 0.018       | CLU | NR | NR | 1.09 | 1.09 | CLU | SNP-based | Disease risk                  | 19734903 | Caucasian        | Cohorts from Europe | 9518  | APOE-e4 non-carrier            | AD              | AD    | 5_prime_UTR_variant |\n",
       "| chr8 | 27611345 | rs9331888 | 0.0697      | CLU | G  | G  | 1.1  | 1.10 | CLU | SNP-based | Disease risk                  | 23565137 | Asian            | Cohort from Japan   | 2024  | All                            | LOAD            | AD    | 5_prime_UTR_variant |\n",
       "| chr8 | 27611345 | rs9331888 | 0.12        | CLU | NR | NR | 1.16 | 1.16 | CLU | SNP-based | Disease risk                  | 19734903 | Caucasian        | Cohorts from Europe | 1573  | All                            | AD              | AD    | 5_prime_UTR_variant |\n",
       "| chr8 | 27611345 | rs9331888 | 0.19        | CLU | NR | NR | 0.92 | 0.92 | CLU | SNP-based | Disease risk                  | 20697030 | Caucasian        | ADGC                | 12969 | Subjects with APOE-e4+ carrier | AD              | AD    | 5_prime_UTR_variant |\n",
       "| chr8 | 27611345 | rs9331888 | 0.192       | CLU | G  | G  | 0.89 | 0.89 | CLU | SNP-based | Disease risk                  | 23565137 | Asian            | Cohort from Korea   | 1468  | All                            | LOAD            | AD    | 5_prime_UTR_variant |\n",
       "| chr8 | 27611345 | rs9331888 | 0.32        | CLU | NR | NR | 1.09 | 1.09 | CLU | SNP-based | Disease risk                  | 19734903 | Caucasian        | Cohorts from Europe | 1224  | All                            | AD              | AD    | 5_prime_UTR_variant |\n",
       "| chr8 | 27611345 | rs9331888 | 0.48        | CLU | NR | NR | 1.06 | 1.06 | CLU | SNP-based | Disease risk                  | 19734903 | Caucasian        | Cohorts from Europe | 1530  | All                            | AD              | AD    | 5_prime_UTR_variant |\n",
       "| chr8 | 27611345 | rs9331888 | 0.53        | CLU | NR | NR | 1.03 | 1.03 | CLU | SNP-based | Disease risk                  | 20697030 | Caucasian        | ADGC                | 12969 | Subjects with APOE-e4- carrier | AD              | AD    | 5_prime_UTR_variant |\n",
       "| chr8 | 27611345 | rs9331888 | 0.74        | CLU | G  | G  | 0.99 | 0.99 | CLU | SNP-based | Disease risk                  | 20697030 | Caucasian        | ADGC                | 12969 | All                            | AD              | AD    | 5_prime_UTR_variant |\n",
       "| chr8 | 27611345 | rs9331888 | 0.76        | CLU | G  | G  | 0.99 | 0.99 | CLU | SNP-based | Disease risk                  | 20697030 | Caucasian        | ADGC                | 12969 | All                            | AD              | AD    | 5_prime_UTR_variant |\n",
       "| chr8 | 27611345 | rs9331888 | &gt;9.90E-01   | CLU | G  | G  | 1    | 1.00 | CLU | SNP-based | Disease risk                  | 22159054 | African American | ADGC                | 1009  | All                            | LOAD            | AD    | 5_prime_UTR_variant |\n",
       "\n"
      ],
      "text/plain": [
       "   X.dbSNP_hg38_chr dbSNP_hg38_position Top.SNP   P.value     LocusName\n",
       "1  chr8             27611345            rs9331888 0.000000094 CLU      \n",
       "2  chr8             27611345            rs9331888 0.00000794  CLU      \n",
       "3  chr8             27611345            rs9331888 0.000018    CLU      \n",
       "4  chr8             27611345            rs9331888 0.000078    CLU      \n",
       "5  chr8             27611345            rs9331888 0.0029      CLU      \n",
       "6  chr8             27611345            rs9331888 0.0045      CLU      \n",
       "7  chr8             27611345            rs9331888 0.018       CLU      \n",
       "8  chr8             27611345            rs9331888 0.0697      CLU      \n",
       "9  chr8             27611345            rs9331888 0.12        CLU      \n",
       "10 chr8             27611345            rs9331888 0.19        CLU      \n",
       "11 chr8             27611345            rs9331888 0.192       CLU      \n",
       "12 chr8             27611345            rs9331888 0.32        CLU      \n",
       "13 chr8             27611345            rs9331888 0.48        CLU      \n",
       "14 chr8             27611345            rs9331888 0.53        CLU      \n",
       "15 chr8             27611345            rs9331888 0.74        CLU      \n",
       "16 chr8             27611345            rs9331888 0.76        CLU      \n",
       "17 chr8             27611345            rs9331888 >9.90E-01   CLU      \n",
       "   RA.1.Reported.Allele.1. nonref_allele nonref_effect OR_nonref\n",
       "1  NR                      NR            1.16          1.16     \n",
       "2  NR                      NR            0.16            NA     \n",
       "3  NR                      NR            1.19          1.19     \n",
       "4  NR                      NR            1.21          1.21     \n",
       "5  NR                      NR            1.12          1.12     \n",
       "6  NR                      NR            1.22          1.22     \n",
       "7  NR                      NR            1.09          1.09     \n",
       "8  G                       G             1.1           1.10     \n",
       "9  NR                      NR            1.16          1.16     \n",
       "10 NR                      NR            0.92          0.92     \n",
       "11 G                       G             0.89          0.89     \n",
       "12 NR                      NR            1.09          1.09     \n",
       "13 NR                      NR            1.06          1.06     \n",
       "14 NR                      NR            1.03          1.03     \n",
       "15 G                       G             0.99          0.99     \n",
       "16 G                       G             0.99          0.99     \n",
       "17 G                       G             1             1.00     \n",
       "   nearest_gene_symb Study.type Study.Design                  Pubmed.PMID\n",
       "1  CLU               SNP-based  Disease risk                  19734903   \n",
       "2  CLU               SNP-based  Age at onset (AAO) / Survival 28323831   \n",
       "3  CLU               SNP-based  Disease risk                  19734903   \n",
       "4  CLU               SNP-based  Disease risk                  19734903   \n",
       "5  CLU               SNP-based  Disease risk                  19734903   \n",
       "6  CLU               SNP-based  Disease risk                  19734903   \n",
       "7  CLU               SNP-based  Disease risk                  19734903   \n",
       "8  CLU               SNP-based  Disease risk                  23565137   \n",
       "9  CLU               SNP-based  Disease risk                  19734903   \n",
       "10 CLU               SNP-based  Disease risk                  20697030   \n",
       "11 CLU               SNP-based  Disease risk                  23565137   \n",
       "12 CLU               SNP-based  Disease risk                  19734903   \n",
       "13 CLU               SNP-based  Disease risk                  19734903   \n",
       "14 CLU               SNP-based  Disease risk                  20697030   \n",
       "15 CLU               SNP-based  Disease risk                  20697030   \n",
       "16 CLU               SNP-based  Disease risk                  20697030   \n",
       "17 CLU               SNP-based  Disease risk                  22159054   \n",
       "   Population_map   Cohort_simple3      Sample.size\n",
       "1  Caucasian        Cohorts from Europe 14395      \n",
       "2  Caucasian        ADGC                15795      \n",
       "3  Caucasian        Cohorts from Europe 7353       \n",
       "4  Caucasian        Cohorts from Europe 4821       \n",
       "5  Caucasian        Cohorts from Europe 7042       \n",
       "6  Caucasian        Cohorts from Europe 2715       \n",
       "7  Caucasian        Cohorts from Europe 9518       \n",
       "8  Asian            Cohort from Japan   2024       \n",
       "9  Caucasian        Cohorts from Europe 1573       \n",
       "10 Caucasian        ADGC                12969      \n",
       "11 Asian            Cohort from Korea   1468       \n",
       "12 Caucasian        Cohorts from Europe 1224       \n",
       "13 Caucasian        Cohorts from Europe 1530       \n",
       "14 Caucasian        ADGC                12969      \n",
       "15 Caucasian        ADGC                12969      \n",
       "16 Caucasian        ADGC                12969      \n",
       "17 African American ADGC                1009       \n",
       "   Analysis.group                 Phenotype       Phenotype.derived\n",
       "1  All                            AD              AD               \n",
       "2  All                            Age of AD onset Other            \n",
       "3  All                            AD              AD               \n",
       "4  APOE-e4 carrier                AD              AD               \n",
       "5  All                            AD              AD               \n",
       "6  All                            AD              AD               \n",
       "7  APOE-e4 non-carrier            AD              AD               \n",
       "8  All                            LOAD            AD               \n",
       "9  All                            AD              AD               \n",
       "10 Subjects with APOE-e4+ carrier AD              AD               \n",
       "11 All                            LOAD            AD               \n",
       "12 All                            AD              AD               \n",
       "13 All                            AD              AD               \n",
       "14 Subjects with APOE-e4- carrier AD              AD               \n",
       "15 All                            AD              AD               \n",
       "16 All                            AD              AD               \n",
       "17 All                            LOAD            AD               \n",
       "   most_severe_consequence\n",
       "1  5_prime_UTR_variant    \n",
       "2  5_prime_UTR_variant    \n",
       "3  5_prime_UTR_variant    \n",
       "4  5_prime_UTR_variant    \n",
       "5  5_prime_UTR_variant    \n",
       "6  5_prime_UTR_variant    \n",
       "7  5_prime_UTR_variant    \n",
       "8  5_prime_UTR_variant    \n",
       "9  5_prime_UTR_variant    \n",
       "10 5_prime_UTR_variant    \n",
       "11 5_prime_UTR_variant    \n",
       "12 5_prime_UTR_variant    \n",
       "13 5_prime_UTR_variant    \n",
       "14 5_prime_UTR_variant    \n",
       "15 5_prime_UTR_variant    \n",
       "16 5_prime_UTR_variant    \n",
       "17 5_prime_UTR_variant    "
      ]
     },
     "metadata": {},
     "output_type": "display_data"
    }
   ],
   "source": [
    "advp %>%\n",
    "filter(Top.SNP == 'rs9331888')"
   ]
  },
  {
   "cell_type": "code",
   "execution_count": 54,
   "id": "0f299156-9eb9-4dd7-bde8-b9bc3b857d29",
   "metadata": {},
   "outputs": [
    {
     "data": {
      "text/html": [
       "6346"
      ],
      "text/latex": [
       "6346"
      ],
      "text/markdown": [
       "6346"
      ],
      "text/plain": [
       "[1] 6346"
      ]
     },
     "metadata": {},
     "output_type": "display_data"
    },
    {
     "data": {
      "text/html": [
       "1067"
      ],
      "text/latex": [
       "1067"
      ],
      "text/markdown": [
       "1067"
      ],
      "text/plain": [
       "[1] 1067"
      ]
     },
     "metadata": {},
     "output_type": "display_data"
    },
    {
     "data": {
      "text/html": [
       "<table class=\"dataframe\">\n",
       "<caption>A data.frame: 6 × 20</caption>\n",
       "<thead>\n",
       "\t<tr><th></th><th scope=col>X.dbSNP_hg38_chr</th><th scope=col>dbSNP_hg38_position</th><th scope=col>Top.SNP</th><th scope=col>P.value</th><th scope=col>LocusName</th><th scope=col>RA.1.Reported.Allele.1.</th><th scope=col>nonref_allele</th><th scope=col>nonref_effect</th><th scope=col>OR_nonref</th><th scope=col>nearest_gene_symb</th><th scope=col>Study.type</th><th scope=col>Study.Design</th><th scope=col>Pubmed.PMID</th><th scope=col>Population_map</th><th scope=col>Cohort_simple3</th><th scope=col>Sample.size</th><th scope=col>Analysis.group</th><th scope=col>Phenotype</th><th scope=col>Phenotype.derived</th><th scope=col>most_severe_consequence</th></tr>\n",
       "\t<tr><th></th><th scope=col>&lt;chr&gt;</th><th scope=col>&lt;int&gt;</th><th scope=col>&lt;chr&gt;</th><th scope=col>&lt;dbl&gt;</th><th scope=col>&lt;chr&gt;</th><th scope=col>&lt;chr&gt;</th><th scope=col>&lt;chr&gt;</th><th scope=col>&lt;chr&gt;</th><th scope=col>&lt;dbl&gt;</th><th scope=col>&lt;chr&gt;</th><th scope=col>&lt;chr&gt;</th><th scope=col>&lt;chr&gt;</th><th scope=col>&lt;int&gt;</th><th scope=col>&lt;chr&gt;</th><th scope=col>&lt;chr&gt;</th><th scope=col>&lt;chr&gt;</th><th scope=col>&lt;chr&gt;</th><th scope=col>&lt;chr&gt;</th><th scope=col>&lt;chr&gt;</th><th scope=col>&lt;chr&gt;</th></tr>\n",
       "</thead>\n",
       "<tbody>\n",
       "\t<tr><th scope=row>1</th><td>chr1</td><td> 6434683</td><td>rs12074379</td><td>8.51e-40</td><td>NR    </td><td>T </td><td>T </td><td>NR  </td><td>     NA</td><td>ESPN </td><td>SNP-based</td><td>eQTL</td><td>30636644</td><td>Caucasian</td><td>ADGC, CHS, CHARGE, HRS</td><td>10191</td><td>Plan 3 (only females)</td><td>ESPN (ILMN_1806710) expression      </td><td>Expression</td><td>intron_variant       </td></tr>\n",
       "\t<tr><th scope=row>2</th><td>chr1</td><td>16013965</td><td>rs1763601 </td><td>1.55e-60</td><td>CLCNKA</td><td>NR</td><td>NR</td><td>1.22</td><td>3.38719</td><td>HSPB7</td><td>SNP-based</td><td>eQTL</td><td>22685416</td><td>Caucasian</td><td>MAYO                  </td><td>374  </td><td>All                  </td><td>CLCNKA expression in Cerebellar     </td><td>Expression</td><td>upstream_gene_variant</td></tr>\n",
       "\t<tr><th scope=row>3</th><td>chr1</td><td>16013965</td><td>rs1763601 </td><td>1.67e-46</td><td>CLCNKA</td><td>NR</td><td>NR</td><td>1.02</td><td>2.77319</td><td>HSPB7</td><td>SNP-based</td><td>eQTL</td><td>22685416</td><td>Caucasian</td><td>MAYO                  </td><td>399  </td><td>All                  </td><td>CLCNKA expression in Temporal cortex</td><td>Expression</td><td>upstream_gene_variant</td></tr>\n",
       "\t<tr><th scope=row>4</th><td>chr1</td><td>16013965</td><td>rs1763601 </td><td>3.66e-25</td><td>CLCNKA</td><td>NR</td><td>NR</td><td>1.14</td><td>3.12677</td><td>HSPB7</td><td>SNP-based</td><td>eQTL</td><td>22685416</td><td>Caucasian</td><td>MAYO                  </td><td>197  </td><td>AD                   </td><td>CLCNKA expression in Cerebellar     </td><td>Expression</td><td>upstream_gene_variant</td></tr>\n",
       "\t<tr><th scope=row>5</th><td>chr1</td><td>16013965</td><td>rs1763601 </td><td>4.69e-31</td><td>CLCNKA</td><td>NR</td><td>NR</td><td>1.3 </td><td>3.66930</td><td>HSPB7</td><td>SNP-based</td><td>eQTL</td><td>22685416</td><td>Caucasian</td><td>MAYO                  </td><td>177  </td><td>Non-AD               </td><td>CLCNKA expression in Cerebellar     </td><td>Expression</td><td>upstream_gene_variant</td></tr>\n",
       "\t<tr><th scope=row>6</th><td>chr1</td><td>17283250</td><td>rs16824888</td><td>6.28e-87</td><td>NR    </td><td>A </td><td>A </td><td>NR  </td><td>     NA</td><td>PADI3</td><td>SNP-based</td><td>eQTL</td><td>31055733</td><td>Caucasian</td><td>ADGC, CHS, CHARGE, HRS</td><td>10870</td><td>HTN-P group          </td><td>PADI4 (ILMN_1807529) expression     </td><td>Expression</td><td>3_prime_UTR_variant  </td></tr>\n",
       "</tbody>\n",
       "</table>\n"
      ],
      "text/latex": [
       "A data.frame: 6 × 20\n",
       "\\begin{tabular}{r|llllllllllllllllllll}\n",
       "  & X.dbSNP\\_hg38\\_chr & dbSNP\\_hg38\\_position & Top.SNP & P.value & LocusName & RA.1.Reported.Allele.1. & nonref\\_allele & nonref\\_effect & OR\\_nonref & nearest\\_gene\\_symb & Study.type & Study.Design & Pubmed.PMID & Population\\_map & Cohort\\_simple3 & Sample.size & Analysis.group & Phenotype & Phenotype.derived & most\\_severe\\_consequence\\\\\n",
       "  & <chr> & <int> & <chr> & <dbl> & <chr> & <chr> & <chr> & <chr> & <dbl> & <chr> & <chr> & <chr> & <int> & <chr> & <chr> & <chr> & <chr> & <chr> & <chr> & <chr>\\\\\n",
       "\\hline\n",
       "\t1 & chr1 &  6434683 & rs12074379 & 8.51e-40 & NR     & T  & T  & NR   &      NA & ESPN  & SNP-based & eQTL & 30636644 & Caucasian & ADGC, CHS, CHARGE, HRS & 10191 & Plan 3 (only females) & ESPN (ILMN\\_1806710) expression       & Expression & intron\\_variant       \\\\\n",
       "\t2 & chr1 & 16013965 & rs1763601  & 1.55e-60 & CLCNKA & NR & NR & 1.22 & 3.38719 & HSPB7 & SNP-based & eQTL & 22685416 & Caucasian & MAYO                   & 374   & All                   & CLCNKA expression in Cerebellar      & Expression & upstream\\_gene\\_variant\\\\\n",
       "\t3 & chr1 & 16013965 & rs1763601  & 1.67e-46 & CLCNKA & NR & NR & 1.02 & 2.77319 & HSPB7 & SNP-based & eQTL & 22685416 & Caucasian & MAYO                   & 399   & All                   & CLCNKA expression in Temporal cortex & Expression & upstream\\_gene\\_variant\\\\\n",
       "\t4 & chr1 & 16013965 & rs1763601  & 3.66e-25 & CLCNKA & NR & NR & 1.14 & 3.12677 & HSPB7 & SNP-based & eQTL & 22685416 & Caucasian & MAYO                   & 197   & AD                    & CLCNKA expression in Cerebellar      & Expression & upstream\\_gene\\_variant\\\\\n",
       "\t5 & chr1 & 16013965 & rs1763601  & 4.69e-31 & CLCNKA & NR & NR & 1.3  & 3.66930 & HSPB7 & SNP-based & eQTL & 22685416 & Caucasian & MAYO                   & 177   & Non-AD                & CLCNKA expression in Cerebellar      & Expression & upstream\\_gene\\_variant\\\\\n",
       "\t6 & chr1 & 17283250 & rs16824888 & 6.28e-87 & NR     & A  & A  & NR   &      NA & PADI3 & SNP-based & eQTL & 31055733 & Caucasian & ADGC, CHS, CHARGE, HRS & 10870 & HTN-P group           & PADI4 (ILMN\\_1807529) expression      & Expression & 3\\_prime\\_UTR\\_variant  \\\\\n",
       "\\end{tabular}\n"
      ],
      "text/markdown": [
       "\n",
       "A data.frame: 6 × 20\n",
       "\n",
       "| <!--/--> | X.dbSNP_hg38_chr &lt;chr&gt; | dbSNP_hg38_position &lt;int&gt; | Top.SNP &lt;chr&gt; | P.value &lt;dbl&gt; | LocusName &lt;chr&gt; | RA.1.Reported.Allele.1. &lt;chr&gt; | nonref_allele &lt;chr&gt; | nonref_effect &lt;chr&gt; | OR_nonref &lt;dbl&gt; | nearest_gene_symb &lt;chr&gt; | Study.type &lt;chr&gt; | Study.Design &lt;chr&gt; | Pubmed.PMID &lt;int&gt; | Population_map &lt;chr&gt; | Cohort_simple3 &lt;chr&gt; | Sample.size &lt;chr&gt; | Analysis.group &lt;chr&gt; | Phenotype &lt;chr&gt; | Phenotype.derived &lt;chr&gt; | most_severe_consequence &lt;chr&gt; |\n",
       "|---|---|---|---|---|---|---|---|---|---|---|---|---|---|---|---|---|---|---|---|---|\n",
       "| 1 | chr1 |  6434683 | rs12074379 | 8.51e-40 | NR     | T  | T  | NR   |      NA | ESPN  | SNP-based | eQTL | 30636644 | Caucasian | ADGC, CHS, CHARGE, HRS | 10191 | Plan 3 (only females) | ESPN (ILMN_1806710) expression       | Expression | intron_variant        |\n",
       "| 2 | chr1 | 16013965 | rs1763601  | 1.55e-60 | CLCNKA | NR | NR | 1.22 | 3.38719 | HSPB7 | SNP-based | eQTL | 22685416 | Caucasian | MAYO                   | 374   | All                   | CLCNKA expression in Cerebellar      | Expression | upstream_gene_variant |\n",
       "| 3 | chr1 | 16013965 | rs1763601  | 1.67e-46 | CLCNKA | NR | NR | 1.02 | 2.77319 | HSPB7 | SNP-based | eQTL | 22685416 | Caucasian | MAYO                   | 399   | All                   | CLCNKA expression in Temporal cortex | Expression | upstream_gene_variant |\n",
       "| 4 | chr1 | 16013965 | rs1763601  | 3.66e-25 | CLCNKA | NR | NR | 1.14 | 3.12677 | HSPB7 | SNP-based | eQTL | 22685416 | Caucasian | MAYO                   | 197   | AD                    | CLCNKA expression in Cerebellar      | Expression | upstream_gene_variant |\n",
       "| 5 | chr1 | 16013965 | rs1763601  | 4.69e-31 | CLCNKA | NR | NR | 1.3  | 3.66930 | HSPB7 | SNP-based | eQTL | 22685416 | Caucasian | MAYO                   | 177   | Non-AD                | CLCNKA expression in Cerebellar      | Expression | upstream_gene_variant |\n",
       "| 6 | chr1 | 17283250 | rs16824888 | 6.28e-87 | NR     | A  | A  | NR   |      NA | PADI3 | SNP-based | eQTL | 31055733 | Caucasian | ADGC, CHS, CHARGE, HRS | 10870 | HTN-P group           | PADI4 (ILMN_1807529) expression      | Expression | 3_prime_UTR_variant   |\n",
       "\n"
      ],
      "text/plain": [
       "  X.dbSNP_hg38_chr dbSNP_hg38_position Top.SNP    P.value  LocusName\n",
       "1 chr1              6434683            rs12074379 8.51e-40 NR       \n",
       "2 chr1             16013965            rs1763601  1.55e-60 CLCNKA   \n",
       "3 chr1             16013965            rs1763601  1.67e-46 CLCNKA   \n",
       "4 chr1             16013965            rs1763601  3.66e-25 CLCNKA   \n",
       "5 chr1             16013965            rs1763601  4.69e-31 CLCNKA   \n",
       "6 chr1             17283250            rs16824888 6.28e-87 NR       \n",
       "  RA.1.Reported.Allele.1. nonref_allele nonref_effect OR_nonref\n",
       "1 T                       T             NR                 NA  \n",
       "2 NR                      NR            1.22          3.38719  \n",
       "3 NR                      NR            1.02          2.77319  \n",
       "4 NR                      NR            1.14          3.12677  \n",
       "5 NR                      NR            1.3           3.66930  \n",
       "6 A                       A             NR                 NA  \n",
       "  nearest_gene_symb Study.type Study.Design Pubmed.PMID Population_map\n",
       "1 ESPN              SNP-based  eQTL         30636644    Caucasian     \n",
       "2 HSPB7             SNP-based  eQTL         22685416    Caucasian     \n",
       "3 HSPB7             SNP-based  eQTL         22685416    Caucasian     \n",
       "4 HSPB7             SNP-based  eQTL         22685416    Caucasian     \n",
       "5 HSPB7             SNP-based  eQTL         22685416    Caucasian     \n",
       "6 PADI3             SNP-based  eQTL         31055733    Caucasian     \n",
       "  Cohort_simple3         Sample.size Analysis.group       \n",
       "1 ADGC, CHS, CHARGE, HRS 10191       Plan 3 (only females)\n",
       "2 MAYO                   374         All                  \n",
       "3 MAYO                   399         All                  \n",
       "4 MAYO                   197         AD                   \n",
       "5 MAYO                   177         Non-AD               \n",
       "6 ADGC, CHS, CHARGE, HRS 10870       HTN-P group          \n",
       "  Phenotype                            Phenotype.derived\n",
       "1 ESPN (ILMN_1806710) expression       Expression       \n",
       "2 CLCNKA expression in Cerebellar      Expression       \n",
       "3 CLCNKA expression in Temporal cortex Expression       \n",
       "4 CLCNKA expression in Cerebellar      Expression       \n",
       "5 CLCNKA expression in Cerebellar      Expression       \n",
       "6 PADI4 (ILMN_1807529) expression      Expression       \n",
       "  most_severe_consequence\n",
       "1 intron_variant         \n",
       "2 upstream_gene_variant  \n",
       "3 upstream_gene_variant  \n",
       "4 upstream_gene_variant  \n",
       "5 upstream_gene_variant  \n",
       "6 3_prime_UTR_variant    "
      ]
     },
     "metadata": {},
     "output_type": "display_data"
    }
   ],
   "source": [
    "advp_sig = advp%>%\n",
    "filter(!P.value %in% c('NR', 'NS')) %>%\n",
    "mutate(P.value = gsub('<', '', P.value)) %>%\n",
    "mutate(P.value = gsub('>', '', P.value)) %>%\n",
    "filter(!is.na(P.value)) %>%\n",
    "mutate(P.value = as.numeric(P.value)) %>%\n",
    "filter(P.value <= 5e-8)\n",
    "nrow(advp)\n",
    "nrow(advp_sig)\n",
    "head(advp_sig)"
   ]
  },
  {
   "cell_type": "markdown",
   "id": "5535d678-abfd-4d57-9bbf-b8e4ab0d68f7",
   "metadata": {},
   "source": [
    "## check for commas"
   ]
  },
  {
   "cell_type": "code",
   "execution_count": 61,
   "id": "5b846cff-19df-422e-ad5e-b24ca28f1a4b",
   "metadata": {},
   "outputs": [
    {
     "data": {
      "text/html": [
       "63"
      ],
      "text/latex": [
       "63"
      ],
      "text/markdown": [
       "63"
      ],
      "text/plain": [
       "[1] 63"
      ]
     },
     "metadata": {},
     "output_type": "display_data"
    }
   ],
   "source": [
    "advp_sig %>%\n",
    "filter(grepl(',', LocusName)) %>%\n",
    "nrow()"
   ]
  },
  {
   "cell_type": "code",
   "execution_count": 62,
   "id": "fba03acb-8388-4799-abd3-019657821814",
   "metadata": {},
   "outputs": [
    {
     "data": {
      "text/html": [
       "0"
      ],
      "text/latex": [
       "0"
      ],
      "text/markdown": [
       "0"
      ],
      "text/plain": [
       "[1] 0"
      ]
     },
     "metadata": {},
     "output_type": "display_data"
    }
   ],
   "source": [
    "advp_sig %>%\n",
    "filter(grepl(',', nearest_gene_symb)) %>%\n",
    "nrow()"
   ]
  },
  {
   "cell_type": "markdown",
   "id": "7cea8884-bccc-4e5c-b7ab-3f9ce5412013",
   "metadata": {},
   "source": [
    "## check to see where columns are equal"
   ]
  },
  {
   "cell_type": "code",
   "execution_count": 64,
   "id": "325bf477-3359-4cff-8a65-9b65cd63c9f9",
   "metadata": {},
   "outputs": [
    {
     "data": {
      "text/html": [
       "1067"
      ],
      "text/latex": [
       "1067"
      ],
      "text/markdown": [
       "1067"
      ],
      "text/plain": [
       "[1] 1067"
      ]
     },
     "metadata": {},
     "output_type": "display_data"
    },
    {
     "data": {
      "text/html": [
       "568"
      ],
      "text/latex": [
       "568"
      ],
      "text/markdown": [
       "568"
      ],
      "text/plain": [
       "[1] 568"
      ]
     },
     "metadata": {},
     "output_type": "display_data"
    }
   ],
   "source": [
    "nrow(advp_sig)\n",
    "advp_sig %>%\n",
    "filter(LocusName == nearest_gene_symb) %>%\n",
    "nrow()"
   ]
  },
  {
   "cell_type": "code",
   "execution_count": 66,
   "id": "c0586e7d-d84b-4041-8bd4-93f277ca56ca",
   "metadata": {},
   "outputs": [
    {
     "data": {
      "text/html": [
       "121"
      ],
      "text/latex": [
       "121"
      ],
      "text/markdown": [
       "121"
      ],
      "text/plain": [
       "[1] 121"
      ]
     },
     "metadata": {},
     "output_type": "display_data"
    }
   ],
   "source": [
    "advp_sig %>%\n",
    "filter(LocusName %in% c('NR', 'NS')) %>%\n",
    "nrow()"
   ]
  },
  {
   "cell_type": "code",
   "execution_count": 67,
   "id": "f4d2339a-ac26-4668-b24a-b43f436642bb",
   "metadata": {},
   "outputs": [
    {
     "data": {
      "text/html": [
       "5"
      ],
      "text/latex": [
       "5"
      ],
      "text/markdown": [
       "5"
      ],
      "text/plain": [
       "[1] 5"
      ]
     },
     "metadata": {},
     "output_type": "display_data"
    }
   ],
   "source": [
    "advp_sig %>%\n",
    "filter(is.na(LocusName)) %>%\n",
    "nrow()"
   ]
  },
  {
   "cell_type": "code",
   "execution_count": 70,
   "id": "8c88c88d-8c8d-4d2f-8f2b-f6c931861da4",
   "metadata": {},
   "outputs": [
    {
     "data": {
      "text/html": [
       "1130"
      ],
      "text/latex": [
       "1130"
      ],
      "text/markdown": [
       "1130"
      ],
      "text/plain": [
       "[1] 1130"
      ]
     },
     "metadata": {},
     "output_type": "display_data"
    }
   ],
   "source": [
    "568 + 121 + 5 + 63 + 373"
   ]
  },
  {
   "cell_type": "code",
   "execution_count": 72,
   "id": "2c796ecb-697b-4e6d-9ce8-82d5f5823b5b",
   "metadata": {},
   "outputs": [
    {
     "data": {
      "text/html": [
       "<table class=\"dataframe\">\n",
       "<caption>A data.frame: 6 × 20</caption>\n",
       "<thead>\n",
       "\t<tr><th></th><th scope=col>X.dbSNP_hg38_chr</th><th scope=col>dbSNP_hg38_position</th><th scope=col>Top.SNP</th><th scope=col>P.value</th><th scope=col>LocusName</th><th scope=col>RA.1.Reported.Allele.1.</th><th scope=col>nonref_allele</th><th scope=col>nonref_effect</th><th scope=col>OR_nonref</th><th scope=col>nearest_gene_symb</th><th scope=col>Study.type</th><th scope=col>Study.Design</th><th scope=col>Pubmed.PMID</th><th scope=col>Population_map</th><th scope=col>Cohort_simple3</th><th scope=col>Sample.size</th><th scope=col>Analysis.group</th><th scope=col>Phenotype</th><th scope=col>Phenotype.derived</th><th scope=col>most_severe_consequence</th></tr>\n",
       "\t<tr><th></th><th scope=col>&lt;chr&gt;</th><th scope=col>&lt;int&gt;</th><th scope=col>&lt;chr&gt;</th><th scope=col>&lt;dbl&gt;</th><th scope=col>&lt;chr&gt;</th><th scope=col>&lt;chr&gt;</th><th scope=col>&lt;chr&gt;</th><th scope=col>&lt;chr&gt;</th><th scope=col>&lt;dbl&gt;</th><th scope=col>&lt;chr&gt;</th><th scope=col>&lt;chr&gt;</th><th scope=col>&lt;chr&gt;</th><th scope=col>&lt;int&gt;</th><th scope=col>&lt;chr&gt;</th><th scope=col>&lt;chr&gt;</th><th scope=col>&lt;chr&gt;</th><th scope=col>&lt;chr&gt;</th><th scope=col>&lt;chr&gt;</th><th scope=col>&lt;chr&gt;</th><th scope=col>&lt;chr&gt;</th></tr>\n",
       "</thead>\n",
       "<tbody>\n",
       "\t<tr><th scope=row>1</th><td>chr1</td><td> 16013965</td><td>rs1763601</td><td>1.55e-60</td><td>CLCNKA</td><td>NR</td><td>NR</td><td>1.22</td><td>3.38719</td><td>HSPB7 </td><td>SNP-based</td><td>eQTL         </td><td>22685416</td><td>Caucasian</td><td>MAYO             </td><td>374</td><td>All                         </td><td>CLCNKA expression in Cerebellar     </td><td>Expression     </td><td>upstream_gene_variant</td></tr>\n",
       "\t<tr><th scope=row>2</th><td>chr1</td><td> 16013965</td><td>rs1763601</td><td>1.67e-46</td><td>CLCNKA</td><td>NR</td><td>NR</td><td>1.02</td><td>2.77319</td><td>HSPB7 </td><td>SNP-based</td><td>eQTL         </td><td>22685416</td><td>Caucasian</td><td>MAYO             </td><td>399</td><td>All                         </td><td>CLCNKA expression in Temporal cortex</td><td>Expression     </td><td>upstream_gene_variant</td></tr>\n",
       "\t<tr><th scope=row>3</th><td>chr1</td><td> 16013965</td><td>rs1763601</td><td>3.66e-25</td><td>CLCNKA</td><td>NR</td><td>NR</td><td>1.14</td><td>3.12677</td><td>HSPB7 </td><td>SNP-based</td><td>eQTL         </td><td>22685416</td><td>Caucasian</td><td>MAYO             </td><td>197</td><td>AD                          </td><td>CLCNKA expression in Cerebellar     </td><td>Expression     </td><td>upstream_gene_variant</td></tr>\n",
       "\t<tr><th scope=row>4</th><td>chr1</td><td> 16013965</td><td>rs1763601</td><td>4.69e-31</td><td>CLCNKA</td><td>NR</td><td>NR</td><td>1.3 </td><td>3.66930</td><td>HSPB7 </td><td>SNP-based</td><td>eQTL         </td><td>22685416</td><td>Caucasian</td><td>MAYO             </td><td>177</td><td>Non-AD                      </td><td>CLCNKA expression in Cerebellar     </td><td>Expression     </td><td>upstream_gene_variant</td></tr>\n",
       "\t<tr><th scope=row>5</th><td>chr1</td><td>154544102</td><td>rs3811448</td><td>2.13e-10</td><td>IL6R  </td><td>NR</td><td>NR</td><td>NR  </td><td>     NA</td><td>TDRD10</td><td>SNP-based</td><td>Endophenotype</td><td>25340798</td><td>Caucasian</td><td>ADNI, Knight-ADRC</td><td>574</td><td>Subjects with CDR = 0       </td><td>CSF IL6R                            </td><td>Fluid biomarker</td><td>missense_variant     </td></tr>\n",
       "\t<tr><th scope=row>6</th><td>chr1</td><td>154544102</td><td>rs3811448</td><td>2.36e-09</td><td>IL6R  </td><td>NR</td><td>NR</td><td>NR  </td><td>     NA</td><td>TDRD10</td><td>SNP-based</td><td>Endophenotype</td><td>25340798</td><td>Caucasian</td><td>ADNI, Knight-ADRC</td><td>574</td><td>No amyloid deposition strata</td><td>CSF IL6R                            </td><td>Fluid biomarker</td><td>missense_variant     </td></tr>\n",
       "</tbody>\n",
       "</table>\n"
      ],
      "text/latex": [
       "A data.frame: 6 × 20\n",
       "\\begin{tabular}{r|llllllllllllllllllll}\n",
       "  & X.dbSNP\\_hg38\\_chr & dbSNP\\_hg38\\_position & Top.SNP & P.value & LocusName & RA.1.Reported.Allele.1. & nonref\\_allele & nonref\\_effect & OR\\_nonref & nearest\\_gene\\_symb & Study.type & Study.Design & Pubmed.PMID & Population\\_map & Cohort\\_simple3 & Sample.size & Analysis.group & Phenotype & Phenotype.derived & most\\_severe\\_consequence\\\\\n",
       "  & <chr> & <int> & <chr> & <dbl> & <chr> & <chr> & <chr> & <chr> & <dbl> & <chr> & <chr> & <chr> & <int> & <chr> & <chr> & <chr> & <chr> & <chr> & <chr> & <chr>\\\\\n",
       "\\hline\n",
       "\t1 & chr1 &  16013965 & rs1763601 & 1.55e-60 & CLCNKA & NR & NR & 1.22 & 3.38719 & HSPB7  & SNP-based & eQTL          & 22685416 & Caucasian & MAYO              & 374 & All                          & CLCNKA expression in Cerebellar      & Expression      & upstream\\_gene\\_variant\\\\\n",
       "\t2 & chr1 &  16013965 & rs1763601 & 1.67e-46 & CLCNKA & NR & NR & 1.02 & 2.77319 & HSPB7  & SNP-based & eQTL          & 22685416 & Caucasian & MAYO              & 399 & All                          & CLCNKA expression in Temporal cortex & Expression      & upstream\\_gene\\_variant\\\\\n",
       "\t3 & chr1 &  16013965 & rs1763601 & 3.66e-25 & CLCNKA & NR & NR & 1.14 & 3.12677 & HSPB7  & SNP-based & eQTL          & 22685416 & Caucasian & MAYO              & 197 & AD                           & CLCNKA expression in Cerebellar      & Expression      & upstream\\_gene\\_variant\\\\\n",
       "\t4 & chr1 &  16013965 & rs1763601 & 4.69e-31 & CLCNKA & NR & NR & 1.3  & 3.66930 & HSPB7  & SNP-based & eQTL          & 22685416 & Caucasian & MAYO              & 177 & Non-AD                       & CLCNKA expression in Cerebellar      & Expression      & upstream\\_gene\\_variant\\\\\n",
       "\t5 & chr1 & 154544102 & rs3811448 & 2.13e-10 & IL6R   & NR & NR & NR   &      NA & TDRD10 & SNP-based & Endophenotype & 25340798 & Caucasian & ADNI, Knight-ADRC & 574 & Subjects with CDR = 0        & CSF IL6R                             & Fluid biomarker & missense\\_variant     \\\\\n",
       "\t6 & chr1 & 154544102 & rs3811448 & 2.36e-09 & IL6R   & NR & NR & NR   &      NA & TDRD10 & SNP-based & Endophenotype & 25340798 & Caucasian & ADNI, Knight-ADRC & 574 & No amyloid deposition strata & CSF IL6R                             & Fluid biomarker & missense\\_variant     \\\\\n",
       "\\end{tabular}\n"
      ],
      "text/markdown": [
       "\n",
       "A data.frame: 6 × 20\n",
       "\n",
       "| <!--/--> | X.dbSNP_hg38_chr &lt;chr&gt; | dbSNP_hg38_position &lt;int&gt; | Top.SNP &lt;chr&gt; | P.value &lt;dbl&gt; | LocusName &lt;chr&gt; | RA.1.Reported.Allele.1. &lt;chr&gt; | nonref_allele &lt;chr&gt; | nonref_effect &lt;chr&gt; | OR_nonref &lt;dbl&gt; | nearest_gene_symb &lt;chr&gt; | Study.type &lt;chr&gt; | Study.Design &lt;chr&gt; | Pubmed.PMID &lt;int&gt; | Population_map &lt;chr&gt; | Cohort_simple3 &lt;chr&gt; | Sample.size &lt;chr&gt; | Analysis.group &lt;chr&gt; | Phenotype &lt;chr&gt; | Phenotype.derived &lt;chr&gt; | most_severe_consequence &lt;chr&gt; |\n",
       "|---|---|---|---|---|---|---|---|---|---|---|---|---|---|---|---|---|---|---|---|---|\n",
       "| 1 | chr1 |  16013965 | rs1763601 | 1.55e-60 | CLCNKA | NR | NR | 1.22 | 3.38719 | HSPB7  | SNP-based | eQTL          | 22685416 | Caucasian | MAYO              | 374 | All                          | CLCNKA expression in Cerebellar      | Expression      | upstream_gene_variant |\n",
       "| 2 | chr1 |  16013965 | rs1763601 | 1.67e-46 | CLCNKA | NR | NR | 1.02 | 2.77319 | HSPB7  | SNP-based | eQTL          | 22685416 | Caucasian | MAYO              | 399 | All                          | CLCNKA expression in Temporal cortex | Expression      | upstream_gene_variant |\n",
       "| 3 | chr1 |  16013965 | rs1763601 | 3.66e-25 | CLCNKA | NR | NR | 1.14 | 3.12677 | HSPB7  | SNP-based | eQTL          | 22685416 | Caucasian | MAYO              | 197 | AD                           | CLCNKA expression in Cerebellar      | Expression      | upstream_gene_variant |\n",
       "| 4 | chr1 |  16013965 | rs1763601 | 4.69e-31 | CLCNKA | NR | NR | 1.3  | 3.66930 | HSPB7  | SNP-based | eQTL          | 22685416 | Caucasian | MAYO              | 177 | Non-AD                       | CLCNKA expression in Cerebellar      | Expression      | upstream_gene_variant |\n",
       "| 5 | chr1 | 154544102 | rs3811448 | 2.13e-10 | IL6R   | NR | NR | NR   |      NA | TDRD10 | SNP-based | Endophenotype | 25340798 | Caucasian | ADNI, Knight-ADRC | 574 | Subjects with CDR = 0        | CSF IL6R                             | Fluid biomarker | missense_variant      |\n",
       "| 6 | chr1 | 154544102 | rs3811448 | 2.36e-09 | IL6R   | NR | NR | NR   |      NA | TDRD10 | SNP-based | Endophenotype | 25340798 | Caucasian | ADNI, Knight-ADRC | 574 | No amyloid deposition strata | CSF IL6R                             | Fluid biomarker | missense_variant      |\n",
       "\n"
      ],
      "text/plain": [
       "  X.dbSNP_hg38_chr dbSNP_hg38_position Top.SNP   P.value  LocusName\n",
       "1 chr1              16013965           rs1763601 1.55e-60 CLCNKA   \n",
       "2 chr1              16013965           rs1763601 1.67e-46 CLCNKA   \n",
       "3 chr1              16013965           rs1763601 3.66e-25 CLCNKA   \n",
       "4 chr1              16013965           rs1763601 4.69e-31 CLCNKA   \n",
       "5 chr1             154544102           rs3811448 2.13e-10 IL6R     \n",
       "6 chr1             154544102           rs3811448 2.36e-09 IL6R     \n",
       "  RA.1.Reported.Allele.1. nonref_allele nonref_effect OR_nonref\n",
       "1 NR                      NR            1.22          3.38719  \n",
       "2 NR                      NR            1.02          2.77319  \n",
       "3 NR                      NR            1.14          3.12677  \n",
       "4 NR                      NR            1.3           3.66930  \n",
       "5 NR                      NR            NR                 NA  \n",
       "6 NR                      NR            NR                 NA  \n",
       "  nearest_gene_symb Study.type Study.Design  Pubmed.PMID Population_map\n",
       "1 HSPB7             SNP-based  eQTL          22685416    Caucasian     \n",
       "2 HSPB7             SNP-based  eQTL          22685416    Caucasian     \n",
       "3 HSPB7             SNP-based  eQTL          22685416    Caucasian     \n",
       "4 HSPB7             SNP-based  eQTL          22685416    Caucasian     \n",
       "5 TDRD10            SNP-based  Endophenotype 25340798    Caucasian     \n",
       "6 TDRD10            SNP-based  Endophenotype 25340798    Caucasian     \n",
       "  Cohort_simple3    Sample.size Analysis.group              \n",
       "1 MAYO              374         All                         \n",
       "2 MAYO              399         All                         \n",
       "3 MAYO              197         AD                          \n",
       "4 MAYO              177         Non-AD                      \n",
       "5 ADNI, Knight-ADRC 574         Subjects with CDR = 0       \n",
       "6 ADNI, Knight-ADRC 574         No amyloid deposition strata\n",
       "  Phenotype                            Phenotype.derived\n",
       "1 CLCNKA expression in Cerebellar      Expression       \n",
       "2 CLCNKA expression in Temporal cortex Expression       \n",
       "3 CLCNKA expression in Cerebellar      Expression       \n",
       "4 CLCNKA expression in Cerebellar      Expression       \n",
       "5 CSF IL6R                             Fluid biomarker  \n",
       "6 CSF IL6R                             Fluid biomarker  \n",
       "  most_severe_consequence\n",
       "1 upstream_gene_variant  \n",
       "2 upstream_gene_variant  \n",
       "3 upstream_gene_variant  \n",
       "4 upstream_gene_variant  \n",
       "5 missense_variant       \n",
       "6 missense_variant       "
      ]
     },
     "metadata": {},
     "output_type": "display_data"
    }
   ],
   "source": [
    "advp_sig %>%\n",
    "filter(LocusName != nearest_gene_symb) %>%\n",
    "filter(!LocusName %in% c('NR', 'NS')) %>%\n",
    "filter(!is.na(LocusName)) %>%\n",
    "head()"
   ]
  },
  {
   "cell_type": "markdown",
   "id": "b4263f97-0e71-4a8b-b7ec-066a115b637c",
   "metadata": {},
   "source": [
    "## create unique gene list"
   ]
  },
  {
   "cell_type": "code",
   "execution_count": 55,
   "id": "38579688-8557-4fdc-bf58-2e4110b0685f",
   "metadata": {},
   "outputs": [
    {
     "data": {
      "text/html": [
       "234"
      ],
      "text/latex": [
       "234"
      ],
      "text/markdown": [
       "234"
      ],
      "text/plain": [
       "[1] 234"
      ]
     },
     "metadata": {},
     "output_type": "display_data"
    }
   ],
   "source": [
    "advp_gene = advp_sig %>%\n",
    "select(LocusName) %>%\n",
    "filter(!grepl('NR', LocusName)) %>%\n",
    "na.omit() %>%\n",
    "distinct()\n",
    "nrow(advp_gene)"
   ]
  },
  {
   "cell_type": "code",
   "execution_count": 56,
   "id": "e1231e96-ce93-4c3e-9579-d9c663a559cf",
   "metadata": {},
   "outputs": [
    {
     "data": {
      "text/html": [
       "283"
      ],
      "text/latex": [
       "283"
      ],
      "text/markdown": [
       "283"
      ],
      "text/plain": [
       "[1] 283"
      ]
     },
     "metadata": {},
     "output_type": "display_data"
    }
   ],
   "source": [
    "advp_nearest_gene = advp_sig %>%\n",
    "select(nearest_gene_symb) %>%\n",
    "filter(!grepl('NR', nearest_gene_symb)) %>%\n",
    "na.omit() %>%\n",
    "distinct()\n",
    "nrow(advp_nearest_gene)"
   ]
  },
  {
   "cell_type": "markdown",
   "id": "fb068457-7b72-483d-ba7d-a5fb97e89513",
   "metadata": {},
   "source": [
    "## check for CYP gene"
   ]
  },
  {
   "cell_type": "code",
   "execution_count": 58,
   "id": "9d778429-7dd2-4df4-8a61-e6fe89f10754",
   "metadata": {},
   "outputs": [
    {
     "data": {
      "text/html": [
       "<table class=\"dataframe\">\n",
       "<caption>A data.frame: 1 × 20</caption>\n",
       "<thead>\n",
       "\t<tr><th></th><th scope=col>X.dbSNP_hg38_chr</th><th scope=col>dbSNP_hg38_position</th><th scope=col>Top.SNP</th><th scope=col>P.value</th><th scope=col>LocusName</th><th scope=col>RA.1.Reported.Allele.1.</th><th scope=col>nonref_allele</th><th scope=col>nonref_effect</th><th scope=col>OR_nonref</th><th scope=col>nearest_gene_symb</th><th scope=col>Study.type</th><th scope=col>Study.Design</th><th scope=col>Pubmed.PMID</th><th scope=col>Population_map</th><th scope=col>Cohort_simple3</th><th scope=col>Sample.size</th><th scope=col>Analysis.group</th><th scope=col>Phenotype</th><th scope=col>Phenotype.derived</th><th scope=col>most_severe_consequence</th></tr>\n",
       "\t<tr><th></th><th scope=col>&lt;chr&gt;</th><th scope=col>&lt;int&gt;</th><th scope=col>&lt;chr&gt;</th><th scope=col>&lt;dbl&gt;</th><th scope=col>&lt;chr&gt;</th><th scope=col>&lt;chr&gt;</th><th scope=col>&lt;chr&gt;</th><th scope=col>&lt;chr&gt;</th><th scope=col>&lt;dbl&gt;</th><th scope=col>&lt;chr&gt;</th><th scope=col>&lt;chr&gt;</th><th scope=col>&lt;chr&gt;</th><th scope=col>&lt;int&gt;</th><th scope=col>&lt;chr&gt;</th><th scope=col>&lt;chr&gt;</th><th scope=col>&lt;chr&gt;</th><th scope=col>&lt;chr&gt;</th><th scope=col>&lt;chr&gt;</th><th scope=col>&lt;chr&gt;</th><th scope=col>&lt;chr&gt;</th></tr>\n",
       "</thead>\n",
       "<tbody>\n",
       "\t<tr><th scope=row>1</th><td>chr10</td><td>94890571</td><td>rs4110517</td><td>4.7e-10</td><td>CYP2C19, CYP2C9</td><td>NA</td><td>NA</td><td>NA</td><td>NA</td><td>CYP2C19</td><td>SNP-based</td><td>Endophenotype</td><td>17564960</td><td>genetically isolated community in the southwestern area of The Netherlands</td><td>GRIP</td><td>197</td><td>All</td><td>Cognitive function (Memory - Learning (or working memory), Memory - Delayed recall, Memory - Recognition, Executive Function - Stroop Color Word test, Executive Function - Part B of the Trail making test (TMTB), Executive Function - Block test, Verbal Fluency - Semantic fluency, Verbal Fluency - Phonological fluency)</td><td>Cognitive</td><td>intergenic_region</td></tr>\n",
       "</tbody>\n",
       "</table>\n"
      ],
      "text/latex": [
       "A data.frame: 1 × 20\n",
       "\\begin{tabular}{r|llllllllllllllllllll}\n",
       "  & X.dbSNP\\_hg38\\_chr & dbSNP\\_hg38\\_position & Top.SNP & P.value & LocusName & RA.1.Reported.Allele.1. & nonref\\_allele & nonref\\_effect & OR\\_nonref & nearest\\_gene\\_symb & Study.type & Study.Design & Pubmed.PMID & Population\\_map & Cohort\\_simple3 & Sample.size & Analysis.group & Phenotype & Phenotype.derived & most\\_severe\\_consequence\\\\\n",
       "  & <chr> & <int> & <chr> & <dbl> & <chr> & <chr> & <chr> & <chr> & <dbl> & <chr> & <chr> & <chr> & <int> & <chr> & <chr> & <chr> & <chr> & <chr> & <chr> & <chr>\\\\\n",
       "\\hline\n",
       "\t1 & chr10 & 94890571 & rs4110517 & 4.7e-10 & CYP2C19, CYP2C9 & NA & NA & NA & NA & CYP2C19 & SNP-based & Endophenotype & 17564960 & genetically isolated community in the southwestern area of The Netherlands & GRIP & 197 & All & Cognitive function (Memory - Learning (or working memory), Memory - Delayed recall, Memory - Recognition, Executive Function - Stroop Color Word test, Executive Function - Part B of the Trail making test (TMTB), Executive Function - Block test, Verbal Fluency - Semantic fluency, Verbal Fluency - Phonological fluency) & Cognitive & intergenic\\_region\\\\\n",
       "\\end{tabular}\n"
      ],
      "text/markdown": [
       "\n",
       "A data.frame: 1 × 20\n",
       "\n",
       "| <!--/--> | X.dbSNP_hg38_chr &lt;chr&gt; | dbSNP_hg38_position &lt;int&gt; | Top.SNP &lt;chr&gt; | P.value &lt;dbl&gt; | LocusName &lt;chr&gt; | RA.1.Reported.Allele.1. &lt;chr&gt; | nonref_allele &lt;chr&gt; | nonref_effect &lt;chr&gt; | OR_nonref &lt;dbl&gt; | nearest_gene_symb &lt;chr&gt; | Study.type &lt;chr&gt; | Study.Design &lt;chr&gt; | Pubmed.PMID &lt;int&gt; | Population_map &lt;chr&gt; | Cohort_simple3 &lt;chr&gt; | Sample.size &lt;chr&gt; | Analysis.group &lt;chr&gt; | Phenotype &lt;chr&gt; | Phenotype.derived &lt;chr&gt; | most_severe_consequence &lt;chr&gt; |\n",
       "|---|---|---|---|---|---|---|---|---|---|---|---|---|---|---|---|---|---|---|---|---|\n",
       "| 1 | chr10 | 94890571 | rs4110517 | 4.7e-10 | CYP2C19, CYP2C9 | NA | NA | NA | NA | CYP2C19 | SNP-based | Endophenotype | 17564960 | genetically isolated community in the southwestern area of The Netherlands | GRIP | 197 | All | Cognitive function (Memory - Learning (or working memory), Memory - Delayed recall, Memory - Recognition, Executive Function - Stroop Color Word test, Executive Function - Part B of the Trail making test (TMTB), Executive Function - Block test, Verbal Fluency - Semantic fluency, Verbal Fluency - Phonological fluency) | Cognitive | intergenic_region |\n",
       "\n"
      ],
      "text/plain": [
       "  X.dbSNP_hg38_chr dbSNP_hg38_position Top.SNP   P.value LocusName      \n",
       "1 chr10            94890571            rs4110517 4.7e-10 CYP2C19, CYP2C9\n",
       "  RA.1.Reported.Allele.1. nonref_allele nonref_effect OR_nonref\n",
       "1 NA                      NA            NA            NA       \n",
       "  nearest_gene_symb Study.type Study.Design  Pubmed.PMID\n",
       "1 CYP2C19           SNP-based  Endophenotype 17564960   \n",
       "  Population_map                                                            \n",
       "1 genetically isolated community in the southwestern area of The Netherlands\n",
       "  Cohort_simple3 Sample.size Analysis.group\n",
       "1 GRIP           197         All           \n",
       "  Phenotype                                                                                                                                                                                                                                                                                                                     \n",
       "1 Cognitive function (Memory - Learning (or working memory), Memory - Delayed recall, Memory - Recognition, Executive Function - Stroop Color Word test, Executive Function - Part B of the Trail making test (TMTB), Executive Function - Block test, Verbal Fluency - Semantic fluency, Verbal Fluency - Phonological fluency)\n",
       "  Phenotype.derived most_severe_consequence\n",
       "1 Cognitive         intergenic_region      "
      ]
     },
     "metadata": {},
     "output_type": "display_data"
    }
   ],
   "source": [
    "advp_sig %>%\n",
    "filter(grepl('CYP2C9', LocusName)) %>%\n",
    "head()"
   ]
  },
  {
   "cell_type": "code",
   "execution_count": 59,
   "id": "c469627d-dc92-4f45-afa7-3e75f63a0d3d",
   "metadata": {},
   "outputs": [
    {
     "data": {
      "text/html": [
       "<table class=\"dataframe\">\n",
       "<caption>A data.frame: 0 × 20</caption>\n",
       "<thead>\n",
       "\t<tr><th scope=col>X.dbSNP_hg38_chr</th><th scope=col>dbSNP_hg38_position</th><th scope=col>Top.SNP</th><th scope=col>P.value</th><th scope=col>LocusName</th><th scope=col>RA.1.Reported.Allele.1.</th><th scope=col>nonref_allele</th><th scope=col>nonref_effect</th><th scope=col>OR_nonref</th><th scope=col>nearest_gene_symb</th><th scope=col>Study.type</th><th scope=col>Study.Design</th><th scope=col>Pubmed.PMID</th><th scope=col>Population_map</th><th scope=col>Cohort_simple3</th><th scope=col>Sample.size</th><th scope=col>Analysis.group</th><th scope=col>Phenotype</th><th scope=col>Phenotype.derived</th><th scope=col>most_severe_consequence</th></tr>\n",
       "\t<tr><th scope=col>&lt;chr&gt;</th><th scope=col>&lt;int&gt;</th><th scope=col>&lt;chr&gt;</th><th scope=col>&lt;dbl&gt;</th><th scope=col>&lt;chr&gt;</th><th scope=col>&lt;chr&gt;</th><th scope=col>&lt;chr&gt;</th><th scope=col>&lt;chr&gt;</th><th scope=col>&lt;dbl&gt;</th><th scope=col>&lt;chr&gt;</th><th scope=col>&lt;chr&gt;</th><th scope=col>&lt;chr&gt;</th><th scope=col>&lt;int&gt;</th><th scope=col>&lt;chr&gt;</th><th scope=col>&lt;chr&gt;</th><th scope=col>&lt;chr&gt;</th><th scope=col>&lt;chr&gt;</th><th scope=col>&lt;chr&gt;</th><th scope=col>&lt;chr&gt;</th><th scope=col>&lt;chr&gt;</th></tr>\n",
       "</thead>\n",
       "<tbody>\n",
       "</tbody>\n",
       "</table>\n"
      ],
      "text/latex": [
       "A data.frame: 0 × 20\n",
       "\\begin{tabular}{llllllllllllllllllll}\n",
       " X.dbSNP\\_hg38\\_chr & dbSNP\\_hg38\\_position & Top.SNP & P.value & LocusName & RA.1.Reported.Allele.1. & nonref\\_allele & nonref\\_effect & OR\\_nonref & nearest\\_gene\\_symb & Study.type & Study.Design & Pubmed.PMID & Population\\_map & Cohort\\_simple3 & Sample.size & Analysis.group & Phenotype & Phenotype.derived & most\\_severe\\_consequence\\\\\n",
       " <chr> & <int> & <chr> & <dbl> & <chr> & <chr> & <chr> & <chr> & <dbl> & <chr> & <chr> & <chr> & <int> & <chr> & <chr> & <chr> & <chr> & <chr> & <chr> & <chr>\\\\\n",
       "\\hline\n",
       "\\end{tabular}\n"
      ],
      "text/markdown": [
       "\n",
       "A data.frame: 0 × 20\n",
       "\n",
       "| X.dbSNP_hg38_chr &lt;chr&gt; | dbSNP_hg38_position &lt;int&gt; | Top.SNP &lt;chr&gt; | P.value &lt;dbl&gt; | LocusName &lt;chr&gt; | RA.1.Reported.Allele.1. &lt;chr&gt; | nonref_allele &lt;chr&gt; | nonref_effect &lt;chr&gt; | OR_nonref &lt;dbl&gt; | nearest_gene_symb &lt;chr&gt; | Study.type &lt;chr&gt; | Study.Design &lt;chr&gt; | Pubmed.PMID &lt;int&gt; | Population_map &lt;chr&gt; | Cohort_simple3 &lt;chr&gt; | Sample.size &lt;chr&gt; | Analysis.group &lt;chr&gt; | Phenotype &lt;chr&gt; | Phenotype.derived &lt;chr&gt; | most_severe_consequence &lt;chr&gt; |\n",
       "|---|---|---|---|---|---|---|---|---|---|---|---|---|---|---|---|---|---|---|---|\n",
       "\n"
      ],
      "text/plain": [
       "     X.dbSNP_hg38_chr dbSNP_hg38_position Top.SNP P.value LocusName\n",
       "     RA.1.Reported.Allele.1. nonref_allele nonref_effect OR_nonref\n",
       "     nearest_gene_symb Study.type Study.Design Pubmed.PMID Population_map\n",
       "     Cohort_simple3 Sample.size Analysis.group Phenotype Phenotype.derived\n",
       "     most_severe_consequence"
      ]
     },
     "metadata": {},
     "output_type": "display_data"
    }
   ],
   "source": [
    "advp_sig %>%\n",
    "filter(grepl('CYP2C9', nearest_gene_symb)) %>%\n",
    "head()"
   ]
  },
  {
   "cell_type": "markdown",
   "id": "4ecfc9a3-0854-4954-afcf-bc8b42eb7b9f",
   "metadata": {},
   "source": [
    "# check for overlap between different scoring metrics"
   ]
  },
  {
   "cell_type": "markdown",
   "id": "f581102c-8ae9-4bbc-a42f-9352407a03e8",
   "metadata": {
    "jp-MarkdownHeadingCollapsed": true
   },
   "source": [
    "## read in important pathways (if needed)"
   ]
  },
  {
   "cell_type": "code",
   "execution_count": 8,
   "id": "e0cad4fd-1aed-4e7d-a6ec-b4b9d3cb5e0e",
   "metadata": {},
   "outputs": [
    {
     "data": {
      "text/html": [
       "<table class=\"dataframe\">\n",
       "<caption>A data.frame: 6 × 5</caption>\n",
       "<thead>\n",
       "\t<tr><th></th><th scope=col>PATHWAY_ID</th><th scope=col>COEF</th><th scope=col>PATHWAY_NAME</th><th scope=col>N_GENES</th><th scope=col>GENES</th></tr>\n",
       "\t<tr><th></th><th scope=col>&lt;chr&gt;</th><th scope=col>&lt;dbl&gt;</th><th scope=col>&lt;chr&gt;</th><th scope=col>&lt;int&gt;</th><th scope=col>&lt;chr&gt;</th></tr>\n",
       "</thead>\n",
       "<tbody>\n",
       "\t<tr><th scope=row>1</th><td>R-HSA-9652282</td><td>-0.0002630817</td><td>Drug-mediated inhibition of ERBB2 signaling </td><td> 4</td><td>ERBIN;CDC37;ERBB2;HSP90AA1                                                    </td></tr>\n",
       "\t<tr><th scope=row>2</th><td>R-HSA-3858516</td><td> 0.0002512967</td><td>Glycogen storage disease type 0 (liver GYS2)</td><td> 2</td><td>GYS2;GYG2                                                                     </td></tr>\n",
       "\t<tr><th scope=row>3</th><td>R-HSA-162585 </td><td>-0.0002239284</td><td>Uncoating of the HIV Virion                 </td><td> 1</td><td>PPIA                                                                          </td></tr>\n",
       "\t<tr><th scope=row>4</th><td>R-HSA-198323 </td><td> 0.0002150232</td><td>AKT phosphorylates targets in the cytosol   </td><td>14</td><td>MKRN1;TSC2;AKT1;AKT1S1;AKT2;AKT3;BAD;CASP9;CDKN1A;CDKN1B;CHUK;GSK3A;GSK3B;MDM2</td></tr>\n",
       "\t<tr><th scope=row>5</th><td>R-HSA-5579031</td><td> 0.0001105496</td><td>Defective ACTH causes obesity and POMCD     </td><td> 2</td><td>MC2R;POMC                                                                     </td></tr>\n",
       "\t<tr><th scope=row>6</th><td>R-HSA-173107 </td><td>-0.0001013300</td><td>Binding and entry of HIV virion             </td><td> 4</td><td>CCR5;PPIA;CD4;CXCR4                                                           </td></tr>\n",
       "</tbody>\n",
       "</table>\n"
      ],
      "text/latex": [
       "A data.frame: 6 × 5\n",
       "\\begin{tabular}{r|lllll}\n",
       "  & PATHWAY\\_ID & COEF & PATHWAY\\_NAME & N\\_GENES & GENES\\\\\n",
       "  & <chr> & <dbl> & <chr> & <int> & <chr>\\\\\n",
       "\\hline\n",
       "\t1 & R-HSA-9652282 & -0.0002630817 & Drug-mediated inhibition of ERBB2 signaling  &  4 & ERBIN;CDC37;ERBB2;HSP90AA1                                                    \\\\\n",
       "\t2 & R-HSA-3858516 &  0.0002512967 & Glycogen storage disease type 0 (liver GYS2) &  2 & GYS2;GYG2                                                                     \\\\\n",
       "\t3 & R-HSA-162585  & -0.0002239284 & Uncoating of the HIV Virion                  &  1 & PPIA                                                                          \\\\\n",
       "\t4 & R-HSA-198323  &  0.0002150232 & AKT phosphorylates targets in the cytosol    & 14 & MKRN1;TSC2;AKT1;AKT1S1;AKT2;AKT3;BAD;CASP9;CDKN1A;CDKN1B;CHUK;GSK3A;GSK3B;MDM2\\\\\n",
       "\t5 & R-HSA-5579031 &  0.0001105496 & Defective ACTH causes obesity and POMCD      &  2 & MC2R;POMC                                                                     \\\\\n",
       "\t6 & R-HSA-173107  & -0.0001013300 & Binding and entry of HIV virion              &  4 & CCR5;PPIA;CD4;CXCR4                                                           \\\\\n",
       "\\end{tabular}\n"
      ],
      "text/markdown": [
       "\n",
       "A data.frame: 6 × 5\n",
       "\n",
       "| <!--/--> | PATHWAY_ID &lt;chr&gt; | COEF &lt;dbl&gt; | PATHWAY_NAME &lt;chr&gt; | N_GENES &lt;int&gt; | GENES &lt;chr&gt; |\n",
       "|---|---|---|---|---|---|\n",
       "| 1 | R-HSA-9652282 | -0.0002630817 | Drug-mediated inhibition of ERBB2 signaling  |  4 | ERBIN;CDC37;ERBB2;HSP90AA1                                                     |\n",
       "| 2 | R-HSA-3858516 |  0.0002512967 | Glycogen storage disease type 0 (liver GYS2) |  2 | GYS2;GYG2                                                                      |\n",
       "| 3 | R-HSA-162585  | -0.0002239284 | Uncoating of the HIV Virion                  |  1 | PPIA                                                                           |\n",
       "| 4 | R-HSA-198323  |  0.0002150232 | AKT phosphorylates targets in the cytosol    | 14 | MKRN1;TSC2;AKT1;AKT1S1;AKT2;AKT3;BAD;CASP9;CDKN1A;CDKN1B;CHUK;GSK3A;GSK3B;MDM2 |\n",
       "| 5 | R-HSA-5579031 |  0.0001105496 | Defective ACTH causes obesity and POMCD      |  2 | MC2R;POMC                                                                      |\n",
       "| 6 | R-HSA-173107  | -0.0001013300 | Binding and entry of HIV virion              |  4 | CCR5;PPIA;CD4;CXCR4                                                            |\n",
       "\n"
      ],
      "text/plain": [
       "  PATHWAY_ID    COEF          PATHWAY_NAME                                \n",
       "1 R-HSA-9652282 -0.0002630817 Drug-mediated inhibition of ERBB2 signaling \n",
       "2 R-HSA-3858516  0.0002512967 Glycogen storage disease type 0 (liver GYS2)\n",
       "3 R-HSA-162585  -0.0002239284 Uncoating of the HIV Virion                 \n",
       "4 R-HSA-198323   0.0002150232 AKT phosphorylates targets in the cytosol   \n",
       "5 R-HSA-5579031  0.0001105496 Defective ACTH causes obesity and POMCD     \n",
       "6 R-HSA-173107  -0.0001013300 Binding and entry of HIV virion             \n",
       "  N_GENES\n",
       "1  4     \n",
       "2  2     \n",
       "3  1     \n",
       "4 14     \n",
       "5  2     \n",
       "6  4     \n",
       "  GENES                                                                         \n",
       "1 ERBIN;CDC37;ERBB2;HSP90AA1                                                    \n",
       "2 GYS2;GYG2                                                                     \n",
       "3 PPIA                                                                          \n",
       "4 MKRN1;TSC2;AKT1;AKT1S1;AKT2;AKT3;BAD;CASP9;CDKN1A;CDKN1B;CHUK;GSK3A;GSK3B;MDM2\n",
       "5 MC2R;POMC                                                                     \n",
       "6 CCR5;PPIA;CD4;CXCR4                                                           "
      ]
     },
     "metadata": {},
     "output_type": "display_data"
    }
   ],
   "source": [
    "avg_pathway_important_desc = read.csv('/project/ritchie/projects/AD_KMI/pathway_score/feature_selection/lasso/AOU_ALL.UKBB.metasoft.gene_score.ROSMAP.RNAseq.arrayMethylation.somoscan_proteomics.ADSP.pathway_average.pathway_scores.lasso.important_pathways.csv')\n",
    "head(avg_pathway_important_desc)"
   ]
  },
  {
   "cell_type": "code",
   "execution_count": 9,
   "id": "13061b66-cb92-4923-8e4a-9ca48e412673",
   "metadata": {},
   "outputs": [
    {
     "data": {
      "text/html": [
       "<table class=\"dataframe\">\n",
       "<caption>A data.frame: 6 × 5</caption>\n",
       "<thead>\n",
       "\t<tr><th></th><th scope=col>PATHWAY_ID</th><th scope=col>COEF</th><th scope=col>PATHWAY_NAME</th><th scope=col>N_GENES</th><th scope=col>GENES</th></tr>\n",
       "\t<tr><th></th><th scope=col>&lt;chr&gt;</th><th scope=col>&lt;dbl&gt;</th><th scope=col>&lt;chr&gt;</th><th scope=col>&lt;int&gt;</th><th scope=col>&lt;chr&gt;</th></tr>\n",
       "</thead>\n",
       "<tbody>\n",
       "\t<tr><th scope=row>1</th><td>R-HSA-3858516</td><td> 0.0002130906</td><td>Glycogen storage disease type 0 (liver GYS2)                                 </td><td> 2</td><td>GYS2;GYG2                                                                     </td></tr>\n",
       "\t<tr><th scope=row>2</th><td>R-HSA-9837092</td><td>-0.0001877392</td><td>FASTK family proteins regulate processing and stability of mitochondrial RNAs</td><td> 4</td><td>FASTKD2;FASTK;FASTKD5;TBRG4                                                   </td></tr>\n",
       "\t<tr><th scope=row>3</th><td>R-HSA-4720454</td><td>-0.0001559325</td><td>Defective ALG9 causes CDG-1l                                                 </td><td> 1</td><td>ALG9                                                                          </td></tr>\n",
       "\t<tr><th scope=row>4</th><td>R-HSA-1483196</td><td>-0.0001501670</td><td>PI and PC transport between ER and Golgi membranes                           </td><td> 1</td><td>PITPNB                                                                        </td></tr>\n",
       "\t<tr><th scope=row>5</th><td>R-HSA-4549356</td><td>-0.0001382902</td><td>Defective DPAGT1 causes CDG-1j; CMSTA2                                       </td><td> 1</td><td>DPAGT1                                                                        </td></tr>\n",
       "\t<tr><th scope=row>6</th><td>R-HSA-198323 </td><td> 0.0001268804</td><td>AKT phosphorylates targets in the cytosol                                    </td><td>14</td><td>MKRN1;TSC2;AKT1;AKT1S1;AKT2;AKT3;BAD;CASP9;CDKN1A;CDKN1B;CHUK;GSK3A;GSK3B;MDM2</td></tr>\n",
       "</tbody>\n",
       "</table>\n"
      ],
      "text/latex": [
       "A data.frame: 6 × 5\n",
       "\\begin{tabular}{r|lllll}\n",
       "  & PATHWAY\\_ID & COEF & PATHWAY\\_NAME & N\\_GENES & GENES\\\\\n",
       "  & <chr> & <dbl> & <chr> & <int> & <chr>\\\\\n",
       "\\hline\n",
       "\t1 & R-HSA-3858516 &  0.0002130906 & Glycogen storage disease type 0 (liver GYS2)                                  &  2 & GYS2;GYG2                                                                     \\\\\n",
       "\t2 & R-HSA-9837092 & -0.0001877392 & FASTK family proteins regulate processing and stability of mitochondrial RNAs &  4 & FASTKD2;FASTK;FASTKD5;TBRG4                                                   \\\\\n",
       "\t3 & R-HSA-4720454 & -0.0001559325 & Defective ALG9 causes CDG-1l                                                  &  1 & ALG9                                                                          \\\\\n",
       "\t4 & R-HSA-1483196 & -0.0001501670 & PI and PC transport between ER and Golgi membranes                            &  1 & PITPNB                                                                        \\\\\n",
       "\t5 & R-HSA-4549356 & -0.0001382902 & Defective DPAGT1 causes CDG-1j; CMSTA2                                        &  1 & DPAGT1                                                                        \\\\\n",
       "\t6 & R-HSA-198323  &  0.0001268804 & AKT phosphorylates targets in the cytosol                                     & 14 & MKRN1;TSC2;AKT1;AKT1S1;AKT2;AKT3;BAD;CASP9;CDKN1A;CDKN1B;CHUK;GSK3A;GSK3B;MDM2\\\\\n",
       "\\end{tabular}\n"
      ],
      "text/markdown": [
       "\n",
       "A data.frame: 6 × 5\n",
       "\n",
       "| <!--/--> | PATHWAY_ID &lt;chr&gt; | COEF &lt;dbl&gt; | PATHWAY_NAME &lt;chr&gt; | N_GENES &lt;int&gt; | GENES &lt;chr&gt; |\n",
       "|---|---|---|---|---|---|\n",
       "| 1 | R-HSA-3858516 |  0.0002130906 | Glycogen storage disease type 0 (liver GYS2)                                  |  2 | GYS2;GYG2                                                                      |\n",
       "| 2 | R-HSA-9837092 | -0.0001877392 | FASTK family proteins regulate processing and stability of mitochondrial RNAs |  4 | FASTKD2;FASTK;FASTKD5;TBRG4                                                    |\n",
       "| 3 | R-HSA-4720454 | -0.0001559325 | Defective ALG9 causes CDG-1l                                                  |  1 | ALG9                                                                           |\n",
       "| 4 | R-HSA-1483196 | -0.0001501670 | PI and PC transport between ER and Golgi membranes                            |  1 | PITPNB                                                                         |\n",
       "| 5 | R-HSA-4549356 | -0.0001382902 | Defective DPAGT1 causes CDG-1j; CMSTA2                                        |  1 | DPAGT1                                                                         |\n",
       "| 6 | R-HSA-198323  |  0.0001268804 | AKT phosphorylates targets in the cytosol                                     | 14 | MKRN1;TSC2;AKT1;AKT1S1;AKT2;AKT3;BAD;CASP9;CDKN1A;CDKN1B;CHUK;GSK3A;GSK3B;MDM2 |\n",
       "\n"
      ],
      "text/plain": [
       "  PATHWAY_ID    COEF         \n",
       "1 R-HSA-3858516  0.0002130906\n",
       "2 R-HSA-9837092 -0.0001877392\n",
       "3 R-HSA-4720454 -0.0001559325\n",
       "4 R-HSA-1483196 -0.0001501670\n",
       "5 R-HSA-4549356 -0.0001382902\n",
       "6 R-HSA-198323   0.0001268804\n",
       "  PATHWAY_NAME                                                                 \n",
       "1 Glycogen storage disease type 0 (liver GYS2)                                 \n",
       "2 FASTK family proteins regulate processing and stability of mitochondrial RNAs\n",
       "3 Defective ALG9 causes CDG-1l                                                 \n",
       "4 PI and PC transport between ER and Golgi membranes                           \n",
       "5 Defective DPAGT1 causes CDG-1j; CMSTA2                                       \n",
       "6 AKT phosphorylates targets in the cytosol                                    \n",
       "  N_GENES\n",
       "1  2     \n",
       "2  4     \n",
       "3  1     \n",
       "4  1     \n",
       "5  1     \n",
       "6 14     \n",
       "  GENES                                                                         \n",
       "1 GYS2;GYG2                                                                     \n",
       "2 FASTKD2;FASTK;FASTKD5;TBRG4                                                   \n",
       "3 ALG9                                                                          \n",
       "4 PITPNB                                                                        \n",
       "5 DPAGT1                                                                        \n",
       "6 MKRN1;TSC2;AKT1;AKT1S1;AKT2;AKT3;BAD;CASP9;CDKN1A;CDKN1B;CHUK;GSK3A;GSK3B;MDM2"
      ]
     },
     "metadata": {},
     "output_type": "display_data"
    }
   ],
   "source": [
    "avg_pathway_msbb_important_desc = read.csv('/project/ritchie/projects/AD_KMI/pathway_score/feature_selection/lasso/AOU_ALL.UKBB.metasoft.gene_score.ROSMAP.RNAseq.arrayMethylation.somoscan_proteomics.MSBB.RNAseq.methylation.tmt_proteomics.ADSP.pathway_average.pathway_scores.lasso.important_pathways.csv')\n",
    "head(avg_pathway_msbb_important_desc)"
   ]
  },
  {
   "cell_type": "code",
   "execution_count": 10,
   "id": "68254414-76f9-4e7c-9868-f6cd23f2d81a",
   "metadata": {},
   "outputs": [
    {
     "data": {
      "text/html": [
       "<table class=\"dataframe\">\n",
       "<caption>A data.frame: 6 × 5</caption>\n",
       "<thead>\n",
       "\t<tr><th></th><th scope=col>PATHWAY_ID</th><th scope=col>COEF</th><th scope=col>PATHWAY_NAME</th><th scope=col>N_GENES</th><th scope=col>GENES</th></tr>\n",
       "\t<tr><th></th><th scope=col>&lt;chr&gt;</th><th scope=col>&lt;dbl&gt;</th><th scope=col>&lt;chr&gt;</th><th scope=col>&lt;int&gt;</th><th scope=col>&lt;chr&gt;</th></tr>\n",
       "</thead>\n",
       "<tbody>\n",
       "\t<tr><th scope=row>1</th><td>R-HSA-3359454</td><td>-0.0002842311</td><td>Defective TCN2 causes TCN2 deficiency       </td><td> 1</td><td>TCN2                                                                          </td></tr>\n",
       "\t<tr><th scope=row>2</th><td>R-HSA-3858516</td><td> 0.0002661906</td><td>Glycogen storage disease type 0 (liver GYS2)</td><td> 2</td><td>GYS2;GYG2                                                                     </td></tr>\n",
       "\t<tr><th scope=row>3</th><td>R-HSA-198323 </td><td> 0.0002159362</td><td>AKT phosphorylates targets in the cytosol   </td><td>14</td><td>MKRN1;TSC2;AKT1;AKT1S1;AKT2;AKT3;BAD;CASP9;CDKN1A;CDKN1B;CHUK;GSK3A;GSK3B;MDM2</td></tr>\n",
       "\t<tr><th scope=row>4</th><td>R-HSA-2142700</td><td>-0.0001785581</td><td>Biosynthesis of Lipoxins (LX)               </td><td> 6</td><td>ALOX5AP;ALOX12;ALOX5;HPGD;LTC4S;PTGR1                                         </td></tr>\n",
       "\t<tr><th scope=row>5</th><td>R-HSA-173107 </td><td>-0.0001628058</td><td>Binding and entry of HIV virion             </td><td> 4</td><td>CCR5;PPIA;CD4;CXCR4                                                           </td></tr>\n",
       "\t<tr><th scope=row>6</th><td>R-HSA-9027307</td><td>-0.0001282798</td><td>Biosynthesis of maresin-like SPMs           </td><td> 6</td><td>CYP2C9;CYP3A4;CYP2C8;CYP2D6;CYP2E1;CYP1A2                                     </td></tr>\n",
       "</tbody>\n",
       "</table>\n"
      ],
      "text/latex": [
       "A data.frame: 6 × 5\n",
       "\\begin{tabular}{r|lllll}\n",
       "  & PATHWAY\\_ID & COEF & PATHWAY\\_NAME & N\\_GENES & GENES\\\\\n",
       "  & <chr> & <dbl> & <chr> & <int> & <chr>\\\\\n",
       "\\hline\n",
       "\t1 & R-HSA-3359454 & -0.0002842311 & Defective TCN2 causes TCN2 deficiency        &  1 & TCN2                                                                          \\\\\n",
       "\t2 & R-HSA-3858516 &  0.0002661906 & Glycogen storage disease type 0 (liver GYS2) &  2 & GYS2;GYG2                                                                     \\\\\n",
       "\t3 & R-HSA-198323  &  0.0002159362 & AKT phosphorylates targets in the cytosol    & 14 & MKRN1;TSC2;AKT1;AKT1S1;AKT2;AKT3;BAD;CASP9;CDKN1A;CDKN1B;CHUK;GSK3A;GSK3B;MDM2\\\\\n",
       "\t4 & R-HSA-2142700 & -0.0001785581 & Biosynthesis of Lipoxins (LX)                &  6 & ALOX5AP;ALOX12;ALOX5;HPGD;LTC4S;PTGR1                                         \\\\\n",
       "\t5 & R-HSA-173107  & -0.0001628058 & Binding and entry of HIV virion              &  4 & CCR5;PPIA;CD4;CXCR4                                                           \\\\\n",
       "\t6 & R-HSA-9027307 & -0.0001282798 & Biosynthesis of maresin-like SPMs            &  6 & CYP2C9;CYP3A4;CYP2C8;CYP2D6;CYP2E1;CYP1A2                                     \\\\\n",
       "\\end{tabular}\n"
      ],
      "text/markdown": [
       "\n",
       "A data.frame: 6 × 5\n",
       "\n",
       "| <!--/--> | PATHWAY_ID &lt;chr&gt; | COEF &lt;dbl&gt; | PATHWAY_NAME &lt;chr&gt; | N_GENES &lt;int&gt; | GENES &lt;chr&gt; |\n",
       "|---|---|---|---|---|---|\n",
       "| 1 | R-HSA-3359454 | -0.0002842311 | Defective TCN2 causes TCN2 deficiency        |  1 | TCN2                                                                           |\n",
       "| 2 | R-HSA-3858516 |  0.0002661906 | Glycogen storage disease type 0 (liver GYS2) |  2 | GYS2;GYG2                                                                      |\n",
       "| 3 | R-HSA-198323  |  0.0002159362 | AKT phosphorylates targets in the cytosol    | 14 | MKRN1;TSC2;AKT1;AKT1S1;AKT2;AKT3;BAD;CASP9;CDKN1A;CDKN1B;CHUK;GSK3A;GSK3B;MDM2 |\n",
       "| 4 | R-HSA-2142700 | -0.0001785581 | Biosynthesis of Lipoxins (LX)                |  6 | ALOX5AP;ALOX12;ALOX5;HPGD;LTC4S;PTGR1                                          |\n",
       "| 5 | R-HSA-173107  | -0.0001628058 | Binding and entry of HIV virion              |  4 | CCR5;PPIA;CD4;CXCR4                                                            |\n",
       "| 6 | R-HSA-9027307 | -0.0001282798 | Biosynthesis of maresin-like SPMs            |  6 | CYP2C9;CYP3A4;CYP2C8;CYP2D6;CYP2E1;CYP1A2                                      |\n",
       "\n"
      ],
      "text/plain": [
       "  PATHWAY_ID    COEF          PATHWAY_NAME                                \n",
       "1 R-HSA-3359454 -0.0002842311 Defective TCN2 causes TCN2 deficiency       \n",
       "2 R-HSA-3858516  0.0002661906 Glycogen storage disease type 0 (liver GYS2)\n",
       "3 R-HSA-198323   0.0002159362 AKT phosphorylates targets in the cytosol   \n",
       "4 R-HSA-2142700 -0.0001785581 Biosynthesis of Lipoxins (LX)               \n",
       "5 R-HSA-173107  -0.0001628058 Binding and entry of HIV virion             \n",
       "6 R-HSA-9027307 -0.0001282798 Biosynthesis of maresin-like SPMs           \n",
       "  N_GENES\n",
       "1  1     \n",
       "2  2     \n",
       "3 14     \n",
       "4  6     \n",
       "5  4     \n",
       "6  6     \n",
       "  GENES                                                                         \n",
       "1 TCN2                                                                          \n",
       "2 GYS2;GYG2                                                                     \n",
       "3 MKRN1;TSC2;AKT1;AKT1S1;AKT2;AKT3;BAD;CASP9;CDKN1A;CDKN1B;CHUK;GSK3A;GSK3B;MDM2\n",
       "4 ALOX5AP;ALOX12;ALOX5;HPGD;LTC4S;PTGR1                                         \n",
       "5 CCR5;PPIA;CD4;CXCR4                                                           \n",
       "6 CYP2C9;CYP3A4;CYP2C8;CYP2D6;CYP2E1;CYP1A2                                     "
      ]
     },
     "metadata": {},
     "output_type": "display_data"
    }
   ],
   "source": [
    "avg_gene_important_desc = read.csv('/project/ritchie/projects/AD_KMI/pathway_score/feature_selection/lasso/AOU_ALL.UKBB.metasoft.gene_score.ROSMAP.RNAseq.arrayMethylation.somoscan_proteomics.ADSP.gene_average.pathway_scores.lasso.important_pathways.csv')\n",
    "head(avg_gene_important_desc)"
   ]
  },
  {
   "cell_type": "code",
   "execution_count": 11,
   "id": "a95adf3d-4af0-4e71-b181-c81bba1bba4e",
   "metadata": {},
   "outputs": [
    {
     "data": {
      "text/html": [
       "<table class=\"dataframe\">\n",
       "<caption>A data.frame: 6 × 5</caption>\n",
       "<thead>\n",
       "\t<tr><th></th><th scope=col>PATHWAY_ID</th><th scope=col>COEF</th><th scope=col>PATHWAY_NAME</th><th scope=col>N_GENES</th><th scope=col>GENES</th></tr>\n",
       "\t<tr><th></th><th scope=col>&lt;chr&gt;</th><th scope=col>&lt;dbl&gt;</th><th scope=col>&lt;chr&gt;</th><th scope=col>&lt;int&gt;</th><th scope=col>&lt;chr&gt;</th></tr>\n",
       "</thead>\n",
       "<tbody>\n",
       "\t<tr><th scope=row>1</th><td>R-HSA-5602410</td><td>-2.645800e-04</td><td>TLR3 deficiency - HSE                         </td><td> 1</td><td>TLR3                                                                 </td></tr>\n",
       "\t<tr><th scope=row>2</th><td>R-HSA-164516 </td><td>-1.154964e-04</td><td>Minus-strand DNA synthesis                    </td><td> 1</td><td>PPIA                                                                 </td></tr>\n",
       "\t<tr><th scope=row>3</th><td>R-HSA-3878781</td><td> 9.964707e-05</td><td>Glycogen storage disease type IV (GBE1)       </td><td> 3</td><td>GYS2;GBE1;GYG2                                                       </td></tr>\n",
       "\t<tr><th scope=row>4</th><td>R-HSA-190371 </td><td>-8.155723e-05</td><td>FGFR3b ligand binding and activation          </td><td> 7</td><td>FGF1;FGF17;FGF18;FGF20;FGF8;FGF9;FGFR3                               </td></tr>\n",
       "\t<tr><th scope=row>5</th><td>R-HSA-193670 </td><td>-7.519138e-05</td><td>p75NTR negatively regulates cell cycle via SC1</td><td> 6</td><td>NGF;HDAC1;HDAC2;HDAC3;NGFR;PRDM4                                     </td></tr>\n",
       "\t<tr><th scope=row>6</th><td>R-HSA-9754560</td><td>-6.969458e-05</td><td>SARS-CoV-2 modulates autophagy                </td><td>11</td><td>UVRAG;VPS16;VPS33B;MAP1LC3B;TUFM;VPS11;VPS18;VPS33A;VPS39;VPS41;VPS45</td></tr>\n",
       "</tbody>\n",
       "</table>\n"
      ],
      "text/latex": [
       "A data.frame: 6 × 5\n",
       "\\begin{tabular}{r|lllll}\n",
       "  & PATHWAY\\_ID & COEF & PATHWAY\\_NAME & N\\_GENES & GENES\\\\\n",
       "  & <chr> & <dbl> & <chr> & <int> & <chr>\\\\\n",
       "\\hline\n",
       "\t1 & R-HSA-5602410 & -2.645800e-04 & TLR3 deficiency - HSE                          &  1 & TLR3                                                                 \\\\\n",
       "\t2 & R-HSA-164516  & -1.154964e-04 & Minus-strand DNA synthesis                     &  1 & PPIA                                                                 \\\\\n",
       "\t3 & R-HSA-3878781 &  9.964707e-05 & Glycogen storage disease type IV (GBE1)        &  3 & GYS2;GBE1;GYG2                                                       \\\\\n",
       "\t4 & R-HSA-190371  & -8.155723e-05 & FGFR3b ligand binding and activation           &  7 & FGF1;FGF17;FGF18;FGF20;FGF8;FGF9;FGFR3                               \\\\\n",
       "\t5 & R-HSA-193670  & -7.519138e-05 & p75NTR negatively regulates cell cycle via SC1 &  6 & NGF;HDAC1;HDAC2;HDAC3;NGFR;PRDM4                                     \\\\\n",
       "\t6 & R-HSA-9754560 & -6.969458e-05 & SARS-CoV-2 modulates autophagy                 & 11 & UVRAG;VPS16;VPS33B;MAP1LC3B;TUFM;VPS11;VPS18;VPS33A;VPS39;VPS41;VPS45\\\\\n",
       "\\end{tabular}\n"
      ],
      "text/markdown": [
       "\n",
       "A data.frame: 6 × 5\n",
       "\n",
       "| <!--/--> | PATHWAY_ID &lt;chr&gt; | COEF &lt;dbl&gt; | PATHWAY_NAME &lt;chr&gt; | N_GENES &lt;int&gt; | GENES &lt;chr&gt; |\n",
       "|---|---|---|---|---|---|\n",
       "| 1 | R-HSA-5602410 | -2.645800e-04 | TLR3 deficiency - HSE                          |  1 | TLR3                                                                  |\n",
       "| 2 | R-HSA-164516  | -1.154964e-04 | Minus-strand DNA synthesis                     |  1 | PPIA                                                                  |\n",
       "| 3 | R-HSA-3878781 |  9.964707e-05 | Glycogen storage disease type IV (GBE1)        |  3 | GYS2;GBE1;GYG2                                                        |\n",
       "| 4 | R-HSA-190371  | -8.155723e-05 | FGFR3b ligand binding and activation           |  7 | FGF1;FGF17;FGF18;FGF20;FGF8;FGF9;FGFR3                                |\n",
       "| 5 | R-HSA-193670  | -7.519138e-05 | p75NTR negatively regulates cell cycle via SC1 |  6 | NGF;HDAC1;HDAC2;HDAC3;NGFR;PRDM4                                      |\n",
       "| 6 | R-HSA-9754560 | -6.969458e-05 | SARS-CoV-2 modulates autophagy                 | 11 | UVRAG;VPS16;VPS33B;MAP1LC3B;TUFM;VPS11;VPS18;VPS33A;VPS39;VPS41;VPS45 |\n",
       "\n"
      ],
      "text/plain": [
       "  PATHWAY_ID    COEF          PATHWAY_NAME                                  \n",
       "1 R-HSA-5602410 -2.645800e-04 TLR3 deficiency - HSE                         \n",
       "2 R-HSA-164516  -1.154964e-04 Minus-strand DNA synthesis                    \n",
       "3 R-HSA-3878781  9.964707e-05 Glycogen storage disease type IV (GBE1)       \n",
       "4 R-HSA-190371  -8.155723e-05 FGFR3b ligand binding and activation          \n",
       "5 R-HSA-193670  -7.519138e-05 p75NTR negatively regulates cell cycle via SC1\n",
       "6 R-HSA-9754560 -6.969458e-05 SARS-CoV-2 modulates autophagy                \n",
       "  N_GENES GENES                                                                \n",
       "1  1      TLR3                                                                 \n",
       "2  1      PPIA                                                                 \n",
       "3  3      GYS2;GBE1;GYG2                                                       \n",
       "4  7      FGF1;FGF17;FGF18;FGF20;FGF8;FGF9;FGFR3                               \n",
       "5  6      NGF;HDAC1;HDAC2;HDAC3;NGFR;PRDM4                                     \n",
       "6 11      UVRAG;VPS16;VPS33B;MAP1LC3B;TUFM;VPS11;VPS18;VPS33A;VPS39;VPS41;VPS45"
      ]
     },
     "metadata": {},
     "output_type": "display_data"
    }
   ],
   "source": [
    "avg_gene_msbb_important_desc = read.csv('/project/ritchie/projects/AD_KMI/pathway_score/feature_selection/lasso/AOU_ALL.UKBB.metasoft.gene_score.ROSMAP.RNAseq.arrayMethylation.somoscan_proteomics.MSBB.RNAseq.methylation.tmt_proteomics.ADSP.gene_average.pathway_scores.lasso.important_pathways.csv')\n",
    "head(avg_gene_msbb_important_desc)"
   ]
  },
  {
   "cell_type": "markdown",
   "id": "5f27525f-57fd-4794-bbe8-2791bb80f68a",
   "metadata": {
    "jp-MarkdownHeadingCollapsed": true
   },
   "source": [
    "## check for overlap between pathways w same datatypes"
   ]
  },
  {
   "cell_type": "code",
   "execution_count": 178,
   "id": "23871736-43b1-4591-b81b-b25991b03a4b",
   "metadata": {},
   "outputs": [
    {
     "data": {
      "text/html": [
       "251"
      ],
      "text/latex": [
       "251"
      ],
      "text/markdown": [
       "251"
      ],
      "text/plain": [
       "[1] 251"
      ]
     },
     "metadata": {},
     "output_type": "display_data"
    },
    {
     "data": {
      "text/html": [
       "226"
      ],
      "text/latex": [
       "226"
      ],
      "text/markdown": [
       "226"
      ],
      "text/plain": [
       "[1] 226"
      ]
     },
     "metadata": {},
     "output_type": "display_data"
    },
    {
     "data": {
      "text/html": [
       "25"
      ],
      "text/latex": [
       "25"
      ],
      "text/markdown": [
       "25"
      ],
      "text/plain": [
       "[1] 25"
      ]
     },
     "metadata": {},
     "output_type": "display_data"
    }
   ],
   "source": [
    "nrow(avg_pathway_important_desc)\n",
    "nrow(avg_pathway_important_desc[avg_pathway_important_desc$PATHWAY_ID %in% avg_gene_important_desc$PATHWAY_ID,])\n",
    "nrow(avg_pathway_important_desc[!avg_pathway_important_desc$PATHWAY_ID %in% avg_gene_important_desc$PATHWAY_ID,])"
   ]
  },
  {
   "cell_type": "code",
   "execution_count": 179,
   "id": "d0a76dab-7895-4d34-ac04-3c48478f681b",
   "metadata": {},
   "outputs": [
    {
     "data": {
      "text/html": [
       "272"
      ],
      "text/latex": [
       "272"
      ],
      "text/markdown": [
       "272"
      ],
      "text/plain": [
       "[1] 272"
      ]
     },
     "metadata": {},
     "output_type": "display_data"
    },
    {
     "data": {
      "text/html": [
       "226"
      ],
      "text/latex": [
       "226"
      ],
      "text/markdown": [
       "226"
      ],
      "text/plain": [
       "[1] 226"
      ]
     },
     "metadata": {},
     "output_type": "display_data"
    },
    {
     "data": {
      "text/html": [
       "46"
      ],
      "text/latex": [
       "46"
      ],
      "text/markdown": [
       "46"
      ],
      "text/plain": [
       "[1] 46"
      ]
     },
     "metadata": {},
     "output_type": "display_data"
    }
   ],
   "source": [
    "nrow(avg_gene_important_desc)\n",
    "nrow(avg_gene_important_desc[avg_gene_important_desc$PATHWAY_ID %in% avg_pathway_important_desc$PATHWAY_ID,])\n",
    "nrow(avg_gene_important_desc[!avg_gene_important_desc$PATHWAY_ID %in% avg_pathway_important_desc$PATHWAY_ID,])"
   ]
  },
  {
   "cell_type": "code",
   "execution_count": 180,
   "id": "7e762db8-b102-4ac4-a93b-ffd15e2e29d2",
   "metadata": {},
   "outputs": [
    {
     "data": {
      "text/html": [
       "280"
      ],
      "text/latex": [
       "280"
      ],
      "text/markdown": [
       "280"
      ],
      "text/plain": [
       "[1] 280"
      ]
     },
     "metadata": {},
     "output_type": "display_data"
    },
    {
     "data": {
      "text/html": [
       "235"
      ],
      "text/latex": [
       "235"
      ],
      "text/markdown": [
       "235"
      ],
      "text/plain": [
       "[1] 235"
      ]
     },
     "metadata": {},
     "output_type": "display_data"
    },
    {
     "data": {
      "text/html": [
       "45"
      ],
      "text/latex": [
       "45"
      ],
      "text/markdown": [
       "45"
      ],
      "text/plain": [
       "[1] 45"
      ]
     },
     "metadata": {},
     "output_type": "display_data"
    }
   ],
   "source": [
    "nrow(avg_pathway_msbb_important_desc)\n",
    "nrow(avg_pathway_msbb_important_desc[avg_pathway_msbb_important_desc$PATHWAY_ID %in% avg_gene_msbb_important_desc$PATHWAY_ID,])\n",
    "nrow(avg_pathway_msbb_important_desc[!avg_pathway_msbb_important_desc$PATHWAY_ID %in% avg_gene_msbb_important_desc$PATHWAY_ID,])"
   ]
  },
  {
   "cell_type": "code",
   "execution_count": 181,
   "id": "cacae3d3-2d6a-4748-acf1-dc74da2255a3",
   "metadata": {},
   "outputs": [
    {
     "data": {
      "text/html": [
       "313"
      ],
      "text/latex": [
       "313"
      ],
      "text/markdown": [
       "313"
      ],
      "text/plain": [
       "[1] 313"
      ]
     },
     "metadata": {},
     "output_type": "display_data"
    },
    {
     "data": {
      "text/html": [
       "235"
      ],
      "text/latex": [
       "235"
      ],
      "text/markdown": [
       "235"
      ],
      "text/plain": [
       "[1] 235"
      ]
     },
     "metadata": {},
     "output_type": "display_data"
    },
    {
     "data": {
      "text/html": [
       "78"
      ],
      "text/latex": [
       "78"
      ],
      "text/markdown": [
       "78"
      ],
      "text/plain": [
       "[1] 78"
      ]
     },
     "metadata": {},
     "output_type": "display_data"
    }
   ],
   "source": [
    "nrow(avg_gene_msbb_important_desc)\n",
    "nrow(avg_gene_msbb_important_desc[avg_gene_msbb_important_desc$PATHWAY_ID %in% avg_pathway_msbb_important_desc$PATHWAY_ID,])\n",
    "nrow(avg_gene_msbb_important_desc[!avg_gene_msbb_important_desc$PATHWAY_ID %in% avg_pathway_msbb_important_desc$PATHWAY_ID,])"
   ]
  },
  {
   "cell_type": "markdown",
   "id": "b1f54a09-37eb-4d2a-9c96-9b61d7d8cd2e",
   "metadata": {
    "jp-MarkdownHeadingCollapsed": true
   },
   "source": [
    "## check for overlap between pathways w different datatypes"
   ]
  },
  {
   "cell_type": "code",
   "execution_count": 182,
   "id": "907264f3-d619-4e54-8ca1-c770bc23c483",
   "metadata": {},
   "outputs": [
    {
     "data": {
      "text/html": [
       "280"
      ],
      "text/latex": [
       "280"
      ],
      "text/markdown": [
       "280"
      ],
      "text/plain": [
       "[1] 280"
      ]
     },
     "metadata": {},
     "output_type": "display_data"
    },
    {
     "data": {
      "text/html": [
       "251"
      ],
      "text/latex": [
       "251"
      ],
      "text/markdown": [
       "251"
      ],
      "text/plain": [
       "[1] 251"
      ]
     },
     "metadata": {},
     "output_type": "display_data"
    },
    {
     "data": {
      "text/html": [
       "203"
      ],
      "text/latex": [
       "203"
      ],
      "text/markdown": [
       "203"
      ],
      "text/plain": [
       "[1] 203"
      ]
     },
     "metadata": {},
     "output_type": "display_data"
    },
    {
     "data": {
      "text/html": [
       "77"
      ],
      "text/latex": [
       "77"
      ],
      "text/markdown": [
       "77"
      ],
      "text/plain": [
       "[1] 77"
      ]
     },
     "metadata": {},
     "output_type": "display_data"
    },
    {
     "data": {
      "text/html": [
       "48"
      ],
      "text/latex": [
       "48"
      ],
      "text/markdown": [
       "48"
      ],
      "text/plain": [
       "[1] 48"
      ]
     },
     "metadata": {},
     "output_type": "display_data"
    }
   ],
   "source": [
    "nrow(avg_pathway_msbb_important_desc)\n",
    "nrow(avg_pathway_important_desc)\n",
    "nrow(avg_pathway_important_desc[avg_pathway_important_desc$PATHWAY_ID %in% avg_pathway_msbb_important_desc$PATHWAY_ID,])\n",
    "nrow(avg_pathway_msbb_important_desc[!avg_pathway_msbb_important_desc$PATHWAY_ID %in% avg_pathway_important_desc$PATHWAY_ID,])\n",
    "nrow(avg_pathway_important_desc[!avg_pathway_important_desc$PATHWAY_ID %in% avg_pathway_msbb_important_desc$PATHWAY_ID,])"
   ]
  },
  {
   "cell_type": "code",
   "execution_count": 183,
   "id": "e08ddaee-64ee-450c-a689-e5d87a42428d",
   "metadata": {},
   "outputs": [
    {
     "data": {
      "text/html": [
       "313"
      ],
      "text/latex": [
       "313"
      ],
      "text/markdown": [
       "313"
      ],
      "text/plain": [
       "[1] 313"
      ]
     },
     "metadata": {},
     "output_type": "display_data"
    },
    {
     "data": {
      "text/html": [
       "272"
      ],
      "text/latex": [
       "272"
      ],
      "text/markdown": [
       "272"
      ],
      "text/plain": [
       "[1] 272"
      ]
     },
     "metadata": {},
     "output_type": "display_data"
    },
    {
     "data": {
      "text/html": [
       "233"
      ],
      "text/latex": [
       "233"
      ],
      "text/markdown": [
       "233"
      ],
      "text/plain": [
       "[1] 233"
      ]
     },
     "metadata": {},
     "output_type": "display_data"
    },
    {
     "data": {
      "text/html": [
       "80"
      ],
      "text/latex": [
       "80"
      ],
      "text/markdown": [
       "80"
      ],
      "text/plain": [
       "[1] 80"
      ]
     },
     "metadata": {},
     "output_type": "display_data"
    },
    {
     "data": {
      "text/html": [
       "39"
      ],
      "text/latex": [
       "39"
      ],
      "text/markdown": [
       "39"
      ],
      "text/plain": [
       "[1] 39"
      ]
     },
     "metadata": {},
     "output_type": "display_data"
    }
   ],
   "source": [
    "nrow(avg_gene_msbb_important_desc)\n",
    "nrow(avg_gene_important_desc)\n",
    "nrow(avg_gene_important_desc[avg_gene_important_desc$PATHWAY_ID %in% avg_gene_msbb_important_desc$PATHWAY_ID,])\n",
    "nrow(avg_gene_msbb_important_desc[!avg_gene_msbb_important_desc$PATHWAY_ID %in% avg_gene_important_desc$PATHWAY_ID,])\n",
    "nrow(avg_gene_important_desc[!avg_gene_important_desc$PATHWAY_ID %in% avg_gene_msbb_important_desc$PATHWAY_ID,])"
   ]
  },
  {
   "cell_type": "code",
   "execution_count": 184,
   "id": "d5062847-c4d3-419d-8d84-2e18d0cd986b",
   "metadata": {},
   "outputs": [
    {
     "data": {
      "text/html": [
       "313"
      ],
      "text/latex": [
       "313"
      ],
      "text/markdown": [
       "313"
      ],
      "text/plain": [
       "[1] 313"
      ]
     },
     "metadata": {},
     "output_type": "display_data"
    },
    {
     "data": {
      "text/html": [
       "251"
      ],
      "text/latex": [
       "251"
      ],
      "text/markdown": [
       "251"
      ],
      "text/plain": [
       "[1] 251"
      ]
     },
     "metadata": {},
     "output_type": "display_data"
    },
    {
     "data": {
      "text/html": [
       "214"
      ],
      "text/latex": [
       "214"
      ],
      "text/markdown": [
       "214"
      ],
      "text/plain": [
       "[1] 214"
      ]
     },
     "metadata": {},
     "output_type": "display_data"
    },
    {
     "data": {
      "text/html": [
       "99"
      ],
      "text/latex": [
       "99"
      ],
      "text/markdown": [
       "99"
      ],
      "text/plain": [
       "[1] 99"
      ]
     },
     "metadata": {},
     "output_type": "display_data"
    },
    {
     "data": {
      "text/html": [
       "37"
      ],
      "text/latex": [
       "37"
      ],
      "text/markdown": [
       "37"
      ],
      "text/plain": [
       "[1] 37"
      ]
     },
     "metadata": {},
     "output_type": "display_data"
    }
   ],
   "source": [
    "nrow(avg_gene_msbb_important_desc)\n",
    "nrow(avg_pathway_important_desc)\n",
    "nrow(avg_pathway_important_desc[avg_pathway_important_desc$PATHWAY_ID %in% avg_gene_msbb_important_desc$PATHWAY_ID,])\n",
    "nrow(avg_gene_msbb_important_desc[!avg_gene_msbb_important_desc$PATHWAY_ID %in% avg_pathway_important_desc$PATHWAY_ID,])\n",
    "nrow(avg_pathway_important_desc[!avg_pathway_important_desc$PATHWAY_ID %in% avg_gene_msbb_important_desc$PATHWAY_ID,])"
   ]
  },
  {
   "cell_type": "code",
   "execution_count": 185,
   "id": "e8088f04-bedf-4e0c-a0a1-cf3ccb0a9441",
   "metadata": {},
   "outputs": [
    {
     "data": {
      "text/html": [
       "280"
      ],
      "text/latex": [
       "280"
      ],
      "text/markdown": [
       "280"
      ],
      "text/plain": [
       "[1] 280"
      ]
     },
     "metadata": {},
     "output_type": "display_data"
    },
    {
     "data": {
      "text/html": [
       "272"
      ],
      "text/latex": [
       "272"
      ],
      "text/markdown": [
       "272"
      ],
      "text/plain": [
       "[1] 272"
      ]
     },
     "metadata": {},
     "output_type": "display_data"
    },
    {
     "data": {
      "text/html": [
       "209"
      ],
      "text/latex": [
       "209"
      ],
      "text/markdown": [
       "209"
      ],
      "text/plain": [
       "[1] 209"
      ]
     },
     "metadata": {},
     "output_type": "display_data"
    },
    {
     "data": {
      "text/html": [
       "71"
      ],
      "text/latex": [
       "71"
      ],
      "text/markdown": [
       "71"
      ],
      "text/plain": [
       "[1] 71"
      ]
     },
     "metadata": {},
     "output_type": "display_data"
    },
    {
     "data": {
      "text/html": [
       "63"
      ],
      "text/latex": [
       "63"
      ],
      "text/markdown": [
       "63"
      ],
      "text/plain": [
       "[1] 63"
      ]
     },
     "metadata": {},
     "output_type": "display_data"
    }
   ],
   "source": [
    "nrow(avg_pathway_msbb_important_desc)\n",
    "nrow(avg_gene_important_desc)\n",
    "nrow(avg_gene_important_desc[avg_gene_important_desc$PATHWAY_ID %in% avg_pathway_msbb_important_desc$PATHWAY_ID,])\n",
    "nrow(avg_pathway_msbb_important_desc[!avg_pathway_msbb_important_desc$PATHWAY_ID %in% avg_gene_important_desc$PATHWAY_ID,])\n",
    "nrow(avg_gene_important_desc[!avg_gene_important_desc$PATHWAY_ID %in% avg_pathway_msbb_important_desc$PATHWAY_ID,])"
   ]
  },
  {
   "cell_type": "markdown",
   "id": "ee1566ff-4bf2-4e16-8bf9-c3e70394d3ff",
   "metadata": {
    "jp-MarkdownHeadingCollapsed": true
   },
   "source": [
    "# check for advp gene inclusion"
   ]
  },
  {
   "cell_type": "code",
   "execution_count": 186,
   "id": "90ebea07-cdb7-4cb1-b5b2-d2b8dea55e47",
   "metadata": {},
   "outputs": [
    {
     "data": {
      "text/html": [
       "251"
      ],
      "text/latex": [
       "251"
      ],
      "text/markdown": [
       "251"
      ],
      "text/plain": [
       "[1] 251"
      ]
     },
     "metadata": {},
     "output_type": "display_data"
    },
    {
     "data": {
      "text/html": [
       "76"
      ],
      "text/latex": [
       "76"
      ],
      "text/markdown": [
       "76"
      ],
      "text/plain": [
       "[1] 76"
      ]
     },
     "metadata": {},
     "output_type": "display_data"
    },
    {
     "data": {
      "text/html": [
       "<table class=\"dataframe\">\n",
       "<caption>A tibble: 6 × 6</caption>\n",
       "<thead>\n",
       "\t<tr><th scope=col>PATHWAY_ID</th><th scope=col>COEF</th><th scope=col>PATHWAY_NAME</th><th scope=col>N_GENES</th><th scope=col>GENES</th><th scope=col>SOURCE</th></tr>\n",
       "\t<tr><th scope=col>&lt;chr&gt;</th><th scope=col>&lt;dbl&gt;</th><th scope=col>&lt;chr&gt;</th><th scope=col>&lt;int&gt;</th><th scope=col>&lt;chr&gt;</th><th scope=col>&lt;chr&gt;</th></tr>\n",
       "</thead>\n",
       "<tbody>\n",
       "\t<tr><td>R-HSA-173107 </td><td>-9.629156e-05</td><td>Binding and entry of HIV virion                             </td><td> 4</td><td>CCR5;CXCR4;CD4;PPIA                                                                                           </td><td>ADSP_GS;MSBB_MA;ROSMAP_MA;ROSMAP_RS</td></tr>\n",
       "\t<tr><td>R-HSA-9027307</td><td>-7.508621e-05</td><td>Biosynthesis of maresin-like SPMs                           </td><td> 6</td><td>CYP1A2;CYP2C8;CYP2C9;CYP2D6;CYP2E1;CYP3A4                                                                     </td><td>MSBB_MA;ROSMAP_MA                  </td></tr>\n",
       "\t<tr><td>R-HSA-9017802</td><td> 7.049369e-05</td><td>Noncanonical activation of NOTCH3                           </td><td> 8</td><td>PSEN2;APH1A;APH1B;NOTCH3;PSENEN;NCSTN;PSEN1;YBX1                                                              </td><td>MSBB_MA;MSBB_RS;ROSMAP_MA;ROSMAP_RS</td></tr>\n",
       "\t<tr><td>R-HSA-8963898</td><td>-3.106217e-05</td><td>Plasma lipoprotein assembly                                 </td><td>19</td><td>APOC4;PRKACG;APOA2;APOA4;APOC3;BMP1;APOA1;APOB;APOC2;MTTP;PRKACB;A2M;ABCA1;APOE;P4HB;PRKACA;SAR1B;ZDHHC8;APOC1</td><td>MSBB_MA;ROSMAP_MA                  </td></tr>\n",
       "\t<tr><td>R-HSA-9029558</td><td> 1.556258e-05</td><td>NR1H2 &amp; NR1H3 regulate gene expression linked to lipogenesis</td><td> 9</td><td><span style=white-space:pre-wrap>ANGPTL3;NR1H3;NRIP1;RXRB;SCD;NR1H2;RXRA;SREBF1;FASN                                                           </span></td><td>MSBB_MA;MSBB_RS;ROSMAP_MA;ROSMAP_SP</td></tr>\n",
       "\t<tr><td>R-HSA-193692 </td><td> 1.284532e-05</td><td>Regulated proteolysis of p75NTR                             </td><td>11</td><td>PSEN2;APH1A;APH1B;NGFR;PSENEN;RELA;NCSTN;NFKB1;PSEN1;TRAF6;ADAM17                                             </td><td>MSBB_MA;MSBB_RS;ROSMAP_MA;ROSMAP_RS</td></tr>\n",
       "</tbody>\n",
       "</table>\n"
      ],
      "text/latex": [
       "A tibble: 6 × 6\n",
       "\\begin{tabular}{llllll}\n",
       " PATHWAY\\_ID & COEF & PATHWAY\\_NAME & N\\_GENES & GENES & SOURCE\\\\\n",
       " <chr> & <dbl> & <chr> & <int> & <chr> & <chr>\\\\\n",
       "\\hline\n",
       "\t R-HSA-173107  & -9.629156e-05 & Binding and entry of HIV virion                              &  4 & CCR5;CXCR4;CD4;PPIA                                                                                            & ADSP\\_GS;MSBB\\_MA;ROSMAP\\_MA;ROSMAP\\_RS\\\\\n",
       "\t R-HSA-9027307 & -7.508621e-05 & Biosynthesis of maresin-like SPMs                            &  6 & CYP1A2;CYP2C8;CYP2C9;CYP2D6;CYP2E1;CYP3A4                                                                      & MSBB\\_MA;ROSMAP\\_MA                  \\\\\n",
       "\t R-HSA-9017802 &  7.049369e-05 & Noncanonical activation of NOTCH3                            &  8 & PSEN2;APH1A;APH1B;NOTCH3;PSENEN;NCSTN;PSEN1;YBX1                                                               & MSBB\\_MA;MSBB\\_RS;ROSMAP\\_MA;ROSMAP\\_RS\\\\\n",
       "\t R-HSA-8963898 & -3.106217e-05 & Plasma lipoprotein assembly                                  & 19 & APOC4;PRKACG;APOA2;APOA4;APOC3;BMP1;APOA1;APOB;APOC2;MTTP;PRKACB;A2M;ABCA1;APOE;P4HB;PRKACA;SAR1B;ZDHHC8;APOC1 & MSBB\\_MA;ROSMAP\\_MA                  \\\\\n",
       "\t R-HSA-9029558 &  1.556258e-05 & NR1H2 \\& NR1H3 regulate gene expression linked to lipogenesis &  9 & ANGPTL3;NR1H3;NRIP1;RXRB;SCD;NR1H2;RXRA;SREBF1;FASN                                                            & MSBB\\_MA;MSBB\\_RS;ROSMAP\\_MA;ROSMAP\\_SP\\\\\n",
       "\t R-HSA-193692  &  1.284532e-05 & Regulated proteolysis of p75NTR                              & 11 & PSEN2;APH1A;APH1B;NGFR;PSENEN;RELA;NCSTN;NFKB1;PSEN1;TRAF6;ADAM17                                              & MSBB\\_MA;MSBB\\_RS;ROSMAP\\_MA;ROSMAP\\_RS\\\\\n",
       "\\end{tabular}\n"
      ],
      "text/markdown": [
       "\n",
       "A tibble: 6 × 6\n",
       "\n",
       "| PATHWAY_ID &lt;chr&gt; | COEF &lt;dbl&gt; | PATHWAY_NAME &lt;chr&gt; | N_GENES &lt;int&gt; | GENES &lt;chr&gt; | SOURCE &lt;chr&gt; |\n",
       "|---|---|---|---|---|---|\n",
       "| R-HSA-173107  | -9.629156e-05 | Binding and entry of HIV virion                              |  4 | CCR5;CXCR4;CD4;PPIA                                                                                            | ADSP_GS;MSBB_MA;ROSMAP_MA;ROSMAP_RS |\n",
       "| R-HSA-9027307 | -7.508621e-05 | Biosynthesis of maresin-like SPMs                            |  6 | CYP1A2;CYP2C8;CYP2C9;CYP2D6;CYP2E1;CYP3A4                                                                      | MSBB_MA;ROSMAP_MA                   |\n",
       "| R-HSA-9017802 |  7.049369e-05 | Noncanonical activation of NOTCH3                            |  8 | PSEN2;APH1A;APH1B;NOTCH3;PSENEN;NCSTN;PSEN1;YBX1                                                               | MSBB_MA;MSBB_RS;ROSMAP_MA;ROSMAP_RS |\n",
       "| R-HSA-8963898 | -3.106217e-05 | Plasma lipoprotein assembly                                  | 19 | APOC4;PRKACG;APOA2;APOA4;APOC3;BMP1;APOA1;APOB;APOC2;MTTP;PRKACB;A2M;ABCA1;APOE;P4HB;PRKACA;SAR1B;ZDHHC8;APOC1 | MSBB_MA;ROSMAP_MA                   |\n",
       "| R-HSA-9029558 |  1.556258e-05 | NR1H2 &amp; NR1H3 regulate gene expression linked to lipogenesis |  9 | ANGPTL3;NR1H3;NRIP1;RXRB;SCD;NR1H2;RXRA;SREBF1;FASN                                                            | MSBB_MA;MSBB_RS;ROSMAP_MA;ROSMAP_SP |\n",
       "| R-HSA-193692  |  1.284532e-05 | Regulated proteolysis of p75NTR                              | 11 | PSEN2;APH1A;APH1B;NGFR;PSENEN;RELA;NCSTN;NFKB1;PSEN1;TRAF6;ADAM17                                              | MSBB_MA;MSBB_RS;ROSMAP_MA;ROSMAP_RS |\n",
       "\n"
      ],
      "text/plain": [
       "  PATHWAY_ID    COEF         \n",
       "1 R-HSA-173107  -9.629156e-05\n",
       "2 R-HSA-9027307 -7.508621e-05\n",
       "3 R-HSA-9017802  7.049369e-05\n",
       "4 R-HSA-8963898 -3.106217e-05\n",
       "5 R-HSA-9029558  1.556258e-05\n",
       "6 R-HSA-193692   1.284532e-05\n",
       "  PATHWAY_NAME                                                 N_GENES\n",
       "1 Binding and entry of HIV virion                               4     \n",
       "2 Biosynthesis of maresin-like SPMs                             6     \n",
       "3 Noncanonical activation of NOTCH3                             8     \n",
       "4 Plasma lipoprotein assembly                                  19     \n",
       "5 NR1H2 & NR1H3 regulate gene expression linked to lipogenesis  9     \n",
       "6 Regulated proteolysis of p75NTR                              11     \n",
       "  GENES                                                                                                         \n",
       "1 CCR5;CXCR4;CD4;PPIA                                                                                           \n",
       "2 CYP1A2;CYP2C8;CYP2C9;CYP2D6;CYP2E1;CYP3A4                                                                     \n",
       "3 PSEN2;APH1A;APH1B;NOTCH3;PSENEN;NCSTN;PSEN1;YBX1                                                              \n",
       "4 APOC4;PRKACG;APOA2;APOA4;APOC3;BMP1;APOA1;APOB;APOC2;MTTP;PRKACB;A2M;ABCA1;APOE;P4HB;PRKACA;SAR1B;ZDHHC8;APOC1\n",
       "5 ANGPTL3;NR1H3;NRIP1;RXRB;SCD;NR1H2;RXRA;SREBF1;FASN                                                           \n",
       "6 PSEN2;APH1A;APH1B;NGFR;PSENEN;RELA;NCSTN;NFKB1;PSEN1;TRAF6;ADAM17                                             \n",
       "  SOURCE                             \n",
       "1 ADSP_GS;MSBB_MA;ROSMAP_MA;ROSMAP_RS\n",
       "2 MSBB_MA;ROSMAP_MA                  \n",
       "3 MSBB_MA;MSBB_RS;ROSMAP_MA;ROSMAP_RS\n",
       "4 MSBB_MA;ROSMAP_MA                  \n",
       "5 MSBB_MA;MSBB_RS;ROSMAP_MA;ROSMAP_SP\n",
       "6 MSBB_MA;MSBB_RS;ROSMAP_MA;ROSMAP_RS"
      ]
     },
     "metadata": {},
     "output_type": "display_data"
    }
   ],
   "source": [
    "avg_pathway_important_desc_advp = avg_pathway_important_desc %>%\n",
    "rowwise() %>%\n",
    "filter(any(strsplit(GENES, \";\")[[1]] %in% advp_known_gene$V1)) %>%\n",
    "ungroup()\n",
    "nrow(avg_pathway_important_desc)\n",
    "nrow(avg_pathway_important_desc_advp)\n",
    "head(avg_pathway_important_desc_advp)"
   ]
  },
  {
   "cell_type": "code",
   "execution_count": 187,
   "id": "92f6e802-d6cd-49d1-890c-1802fb9a252e",
   "metadata": {},
   "outputs": [
    {
     "data": {
      "text/html": [
       "272"
      ],
      "text/latex": [
       "272"
      ],
      "text/markdown": [
       "272"
      ],
      "text/plain": [
       "[1] 272"
      ]
     },
     "metadata": {},
     "output_type": "display_data"
    },
    {
     "data": {
      "text/html": [
       "83"
      ],
      "text/latex": [
       "83"
      ],
      "text/markdown": [
       "83"
      ],
      "text/plain": [
       "[1] 83"
      ]
     },
     "metadata": {},
     "output_type": "display_data"
    },
    {
     "data": {
      "text/html": [
       "<table class=\"dataframe\">\n",
       "<caption>A tibble: 6 × 6</caption>\n",
       "<thead>\n",
       "\t<tr><th scope=col>PATHWAY_ID</th><th scope=col>COEF</th><th scope=col>PATHWAY_NAME</th><th scope=col>N_GENES</th><th scope=col>GENES</th><th scope=col>SOURCE</th></tr>\n",
       "\t<tr><th scope=col>&lt;chr&gt;</th><th scope=col>&lt;dbl&gt;</th><th scope=col>&lt;chr&gt;</th><th scope=col>&lt;int&gt;</th><th scope=col>&lt;chr&gt;</th><th scope=col>&lt;chr&gt;</th></tr>\n",
       "</thead>\n",
       "<tbody>\n",
       "\t<tr><td>R-HSA-173107 </td><td>-1.622548e-04</td><td>Binding and entry of HIV virion                             </td><td> 4</td><td>CCR5;CXCR4;CD4;PPIA                                                                                                       </td><td>ADSP_GS;MSBB_MA;ROSMAP_MA;ROSMAP_RS</td></tr>\n",
       "\t<tr><td>R-HSA-9027307</td><td>-1.412183e-04</td><td>Biosynthesis of maresin-like SPMs                           </td><td> 6</td><td>CYP1A2;CYP2C8;CYP2C9;CYP2D6;CYP2E1;CYP3A4                                                                                 </td><td>MSBB_MA;ROSMAP_MA                  </td></tr>\n",
       "\t<tr><td>R-HSA-9017802</td><td> 1.152818e-04</td><td>Noncanonical activation of NOTCH3                           </td><td> 8</td><td>PSEN2;APH1A;APH1B;NOTCH3;PSENEN;NCSTN;PSEN1;YBX1                                                                          </td><td>MSBB_MA;MSBB_RS;ROSMAP_MA;ROSMAP_RS</td></tr>\n",
       "\t<tr><td>R-HSA-8963898</td><td>-3.038820e-05</td><td>Plasma lipoprotein assembly                                 </td><td>19</td><td>APOC4;PRKACG;APOA2;APOA4;APOC3;BMP1;APOA1;APOB;APOC2;MTTP;PRKACB;A2M;ABCA1;APOE;P4HB;PRKACA;SAR1B;ZDHHC8;APOC1            </td><td>MSBB_MA;ROSMAP_MA                  </td></tr>\n",
       "\t<tr><td>R-HSA-9029558</td><td> 1.518813e-05</td><td>NR1H2 &amp; NR1H3 regulate gene expression linked to lipogenesis</td><td> 9</td><td><span style=white-space:pre-wrap>ANGPTL3;NR1H3;NRIP1;RXRB;SCD;NR1H2;RXRA;SREBF1;FASN                                                                       </span></td><td>MSBB_MA;MSBB_RS;ROSMAP_MA;ROSMAP_SP</td></tr>\n",
       "\t<tr><td>R-HSA-9603798</td><td> 1.088869e-05</td><td>Class I peroxisomal membrane protein import                 </td><td>20</td><td>ABCD1;PEX2;PXMP2;PXMP4;SLC25A17;ABCD2;ABCD3;ACBD5;ALDH3A2;PEX11B;PEX12;PEX13;PEX16;PEX19;PEX26;PEX3;ATAD1;FIS1;GDAP1;PEX14</td><td>MSBB_MA;MSBB_RS;MSBB_TP            </td></tr>\n",
       "</tbody>\n",
       "</table>\n"
      ],
      "text/latex": [
       "A tibble: 6 × 6\n",
       "\\begin{tabular}{llllll}\n",
       " PATHWAY\\_ID & COEF & PATHWAY\\_NAME & N\\_GENES & GENES & SOURCE\\\\\n",
       " <chr> & <dbl> & <chr> & <int> & <chr> & <chr>\\\\\n",
       "\\hline\n",
       "\t R-HSA-173107  & -1.622548e-04 & Binding and entry of HIV virion                              &  4 & CCR5;CXCR4;CD4;PPIA                                                                                                        & ADSP\\_GS;MSBB\\_MA;ROSMAP\\_MA;ROSMAP\\_RS\\\\\n",
       "\t R-HSA-9027307 & -1.412183e-04 & Biosynthesis of maresin-like SPMs                            &  6 & CYP1A2;CYP2C8;CYP2C9;CYP2D6;CYP2E1;CYP3A4                                                                                  & MSBB\\_MA;ROSMAP\\_MA                  \\\\\n",
       "\t R-HSA-9017802 &  1.152818e-04 & Noncanonical activation of NOTCH3                            &  8 & PSEN2;APH1A;APH1B;NOTCH3;PSENEN;NCSTN;PSEN1;YBX1                                                                           & MSBB\\_MA;MSBB\\_RS;ROSMAP\\_MA;ROSMAP\\_RS\\\\\n",
       "\t R-HSA-8963898 & -3.038820e-05 & Plasma lipoprotein assembly                                  & 19 & APOC4;PRKACG;APOA2;APOA4;APOC3;BMP1;APOA1;APOB;APOC2;MTTP;PRKACB;A2M;ABCA1;APOE;P4HB;PRKACA;SAR1B;ZDHHC8;APOC1             & MSBB\\_MA;ROSMAP\\_MA                  \\\\\n",
       "\t R-HSA-9029558 &  1.518813e-05 & NR1H2 \\& NR1H3 regulate gene expression linked to lipogenesis &  9 & ANGPTL3;NR1H3;NRIP1;RXRB;SCD;NR1H2;RXRA;SREBF1;FASN                                                                        & MSBB\\_MA;MSBB\\_RS;ROSMAP\\_MA;ROSMAP\\_SP\\\\\n",
       "\t R-HSA-9603798 &  1.088869e-05 & Class I peroxisomal membrane protein import                  & 20 & ABCD1;PEX2;PXMP2;PXMP4;SLC25A17;ABCD2;ABCD3;ACBD5;ALDH3A2;PEX11B;PEX12;PEX13;PEX16;PEX19;PEX26;PEX3;ATAD1;FIS1;GDAP1;PEX14 & MSBB\\_MA;MSBB\\_RS;MSBB\\_TP            \\\\\n",
       "\\end{tabular}\n"
      ],
      "text/markdown": [
       "\n",
       "A tibble: 6 × 6\n",
       "\n",
       "| PATHWAY_ID &lt;chr&gt; | COEF &lt;dbl&gt; | PATHWAY_NAME &lt;chr&gt; | N_GENES &lt;int&gt; | GENES &lt;chr&gt; | SOURCE &lt;chr&gt; |\n",
       "|---|---|---|---|---|---|\n",
       "| R-HSA-173107  | -1.622548e-04 | Binding and entry of HIV virion                              |  4 | CCR5;CXCR4;CD4;PPIA                                                                                                        | ADSP_GS;MSBB_MA;ROSMAP_MA;ROSMAP_RS |\n",
       "| R-HSA-9027307 | -1.412183e-04 | Biosynthesis of maresin-like SPMs                            |  6 | CYP1A2;CYP2C8;CYP2C9;CYP2D6;CYP2E1;CYP3A4                                                                                  | MSBB_MA;ROSMAP_MA                   |\n",
       "| R-HSA-9017802 |  1.152818e-04 | Noncanonical activation of NOTCH3                            |  8 | PSEN2;APH1A;APH1B;NOTCH3;PSENEN;NCSTN;PSEN1;YBX1                                                                           | MSBB_MA;MSBB_RS;ROSMAP_MA;ROSMAP_RS |\n",
       "| R-HSA-8963898 | -3.038820e-05 | Plasma lipoprotein assembly                                  | 19 | APOC4;PRKACG;APOA2;APOA4;APOC3;BMP1;APOA1;APOB;APOC2;MTTP;PRKACB;A2M;ABCA1;APOE;P4HB;PRKACA;SAR1B;ZDHHC8;APOC1             | MSBB_MA;ROSMAP_MA                   |\n",
       "| R-HSA-9029558 |  1.518813e-05 | NR1H2 &amp; NR1H3 regulate gene expression linked to lipogenesis |  9 | ANGPTL3;NR1H3;NRIP1;RXRB;SCD;NR1H2;RXRA;SREBF1;FASN                                                                        | MSBB_MA;MSBB_RS;ROSMAP_MA;ROSMAP_SP |\n",
       "| R-HSA-9603798 |  1.088869e-05 | Class I peroxisomal membrane protein import                  | 20 | ABCD1;PEX2;PXMP2;PXMP4;SLC25A17;ABCD2;ABCD3;ACBD5;ALDH3A2;PEX11B;PEX12;PEX13;PEX16;PEX19;PEX26;PEX3;ATAD1;FIS1;GDAP1;PEX14 | MSBB_MA;MSBB_RS;MSBB_TP             |\n",
       "\n"
      ],
      "text/plain": [
       "  PATHWAY_ID    COEF         \n",
       "1 R-HSA-173107  -1.622548e-04\n",
       "2 R-HSA-9027307 -1.412183e-04\n",
       "3 R-HSA-9017802  1.152818e-04\n",
       "4 R-HSA-8963898 -3.038820e-05\n",
       "5 R-HSA-9029558  1.518813e-05\n",
       "6 R-HSA-9603798  1.088869e-05\n",
       "  PATHWAY_NAME                                                 N_GENES\n",
       "1 Binding and entry of HIV virion                               4     \n",
       "2 Biosynthesis of maresin-like SPMs                             6     \n",
       "3 Noncanonical activation of NOTCH3                             8     \n",
       "4 Plasma lipoprotein assembly                                  19     \n",
       "5 NR1H2 & NR1H3 regulate gene expression linked to lipogenesis  9     \n",
       "6 Class I peroxisomal membrane protein import                  20     \n",
       "  GENES                                                                                                                     \n",
       "1 CCR5;CXCR4;CD4;PPIA                                                                                                       \n",
       "2 CYP1A2;CYP2C8;CYP2C9;CYP2D6;CYP2E1;CYP3A4                                                                                 \n",
       "3 PSEN2;APH1A;APH1B;NOTCH3;PSENEN;NCSTN;PSEN1;YBX1                                                                          \n",
       "4 APOC4;PRKACG;APOA2;APOA4;APOC3;BMP1;APOA1;APOB;APOC2;MTTP;PRKACB;A2M;ABCA1;APOE;P4HB;PRKACA;SAR1B;ZDHHC8;APOC1            \n",
       "5 ANGPTL3;NR1H3;NRIP1;RXRB;SCD;NR1H2;RXRA;SREBF1;FASN                                                                       \n",
       "6 ABCD1;PEX2;PXMP2;PXMP4;SLC25A17;ABCD2;ABCD3;ACBD5;ALDH3A2;PEX11B;PEX12;PEX13;PEX16;PEX19;PEX26;PEX3;ATAD1;FIS1;GDAP1;PEX14\n",
       "  SOURCE                             \n",
       "1 ADSP_GS;MSBB_MA;ROSMAP_MA;ROSMAP_RS\n",
       "2 MSBB_MA;ROSMAP_MA                  \n",
       "3 MSBB_MA;MSBB_RS;ROSMAP_MA;ROSMAP_RS\n",
       "4 MSBB_MA;ROSMAP_MA                  \n",
       "5 MSBB_MA;MSBB_RS;ROSMAP_MA;ROSMAP_SP\n",
       "6 MSBB_MA;MSBB_RS;MSBB_TP            "
      ]
     },
     "metadata": {},
     "output_type": "display_data"
    }
   ],
   "source": [
    "avg_gene_important_desc_advp = avg_gene_important_desc %>%\n",
    "rowwise() %>%\n",
    "filter(any(strsplit(GENES, \";\")[[1]] %in% advp_known_gene$V1)) %>%\n",
    "ungroup()\n",
    "nrow(avg_gene_important_desc)\n",
    "nrow(avg_gene_important_desc_advp)\n",
    "head(avg_gene_important_desc_advp)"
   ]
  },
  {
   "cell_type": "code",
   "execution_count": 188,
   "id": "d4f88080-9338-4478-bb35-4cbfbaf473bb",
   "metadata": {},
   "outputs": [
    {
     "data": {
      "text/html": [
       "280"
      ],
      "text/latex": [
       "280"
      ],
      "text/markdown": [
       "280"
      ],
      "text/plain": [
       "[1] 280"
      ]
     },
     "metadata": {},
     "output_type": "display_data"
    },
    {
     "data": {
      "text/html": [
       "95"
      ],
      "text/latex": [
       "95"
      ],
      "text/markdown": [
       "95"
      ],
      "text/plain": [
       "[1] 95"
      ]
     },
     "metadata": {},
     "output_type": "display_data"
    },
    {
     "data": {
      "text/html": [
       "<table class=\"dataframe\">\n",
       "<caption>A tibble: 6 × 6</caption>\n",
       "<thead>\n",
       "\t<tr><th scope=col>PATHWAY_ID</th><th scope=col>COEF</th><th scope=col>PATHWAY_NAME</th><th scope=col>N_GENES</th><th scope=col>GENES</th><th scope=col>SOURCE</th></tr>\n",
       "\t<tr><th scope=col>&lt;chr&gt;</th><th scope=col>&lt;dbl&gt;</th><th scope=col>&lt;chr&gt;</th><th scope=col>&lt;int&gt;</th><th scope=col>&lt;chr&gt;</th><th scope=col>&lt;chr&gt;</th></tr>\n",
       "</thead>\n",
       "<tbody>\n",
       "\t<tr><td>R-HSA-8963898</td><td>-3.346275e-05</td><td>Plasma lipoprotein assembly                                                   </td><td>19</td><td>APOC4;PRKACG;APOA2;APOA4;APOC3;BMP1;APOA1;APOB;APOC2;MTTP;PRKACB;A2M;ABCA1;APOE;P4HB;PRKACA;SAR1B;ZDHHC8;APOC1         </td><td>MSBB_MA;ROSMAP_MA                  </td></tr>\n",
       "\t<tr><td>R-HSA-9017802</td><td> 2.836137e-05</td><td>Noncanonical activation of NOTCH3                                             </td><td> 8</td><td>PSEN2;APH1A;APH1B;NOTCH3;PSENEN;NCSTN;PSEN1;YBX1                                                                       </td><td>MSBB_MA;MSBB_RS;ROSMAP_MA;ROSMAP_RS</td></tr>\n",
       "\t<tr><td>R-HSA-193692 </td><td> 2.756636e-05</td><td>Regulated proteolysis of p75NTR                                               </td><td>11</td><td>PSEN2;APH1A;APH1B;NGFR;PSENEN;RELA;NCSTN;NFKB1;PSEN1;TRAF6;ADAM17                                                      </td><td>MSBB_MA;MSBB_RS;ROSMAP_MA;ROSMAP_RS</td></tr>\n",
       "\t<tr><td>R-HSA-5676594</td><td> 2.581785e-05</td><td>TNF receptor superfamily (TNFSF) members mediating non-canonical NF-kB pathway</td><td>17</td><td>CD40LG;TNFSF11;CD40;LTA;LTB;MAP3K14;TNFRSF12A;TNFSF14;LTBR;TNFRSF13C;TNFSF12;TNFSF13B;TRAF3;BIRC2;BIRC3;TNFRSF11A;TRAF2</td><td>MSBB_MA;ROSMAP_SP                  </td></tr>\n",
       "\t<tr><td>R-HSA-9029558</td><td> 1.737654e-05</td><td><span style=white-space:pre-wrap>NR1H2 &amp; NR1H3 regulate gene expression linked to lipogenesis                  </span></td><td> 9</td><td><span style=white-space:pre-wrap>ANGPTL3;NR1H3;NRIP1;RXRB;SCD;NR1H2;RXRA;SREBF1;FASN                                                                    </span></td><td>MSBB_MA;MSBB_RS;ROSMAP_MA;ROSMAP_SP</td></tr>\n",
       "\t<tr><td>R-HSA-435368 </td><td> 1.143811e-05</td><td>Zinc efflux and compartmentalization by the SLC30 family                      </td><td> 5</td><td>SLC30A2;SLC30A8;SLC30A1;SLC30A5;SLC30A3                                                                                </td><td>ADSP_GS;MSBB_MA;ROSMAP_MA          </td></tr>\n",
       "</tbody>\n",
       "</table>\n"
      ],
      "text/latex": [
       "A tibble: 6 × 6\n",
       "\\begin{tabular}{llllll}\n",
       " PATHWAY\\_ID & COEF & PATHWAY\\_NAME & N\\_GENES & GENES & SOURCE\\\\\n",
       " <chr> & <dbl> & <chr> & <int> & <chr> & <chr>\\\\\n",
       "\\hline\n",
       "\t R-HSA-8963898 & -3.346275e-05 & Plasma lipoprotein assembly                                                    & 19 & APOC4;PRKACG;APOA2;APOA4;APOC3;BMP1;APOA1;APOB;APOC2;MTTP;PRKACB;A2M;ABCA1;APOE;P4HB;PRKACA;SAR1B;ZDHHC8;APOC1          & MSBB\\_MA;ROSMAP\\_MA                  \\\\\n",
       "\t R-HSA-9017802 &  2.836137e-05 & Noncanonical activation of NOTCH3                                              &  8 & PSEN2;APH1A;APH1B;NOTCH3;PSENEN;NCSTN;PSEN1;YBX1                                                                        & MSBB\\_MA;MSBB\\_RS;ROSMAP\\_MA;ROSMAP\\_RS\\\\\n",
       "\t R-HSA-193692  &  2.756636e-05 & Regulated proteolysis of p75NTR                                                & 11 & PSEN2;APH1A;APH1B;NGFR;PSENEN;RELA;NCSTN;NFKB1;PSEN1;TRAF6;ADAM17                                                       & MSBB\\_MA;MSBB\\_RS;ROSMAP\\_MA;ROSMAP\\_RS\\\\\n",
       "\t R-HSA-5676594 &  2.581785e-05 & TNF receptor superfamily (TNFSF) members mediating non-canonical NF-kB pathway & 17 & CD40LG;TNFSF11;CD40;LTA;LTB;MAP3K14;TNFRSF12A;TNFSF14;LTBR;TNFRSF13C;TNFSF12;TNFSF13B;TRAF3;BIRC2;BIRC3;TNFRSF11A;TRAF2 & MSBB\\_MA;ROSMAP\\_SP                  \\\\\n",
       "\t R-HSA-9029558 &  1.737654e-05 & NR1H2 \\& NR1H3 regulate gene expression linked to lipogenesis                   &  9 & ANGPTL3;NR1H3;NRIP1;RXRB;SCD;NR1H2;RXRA;SREBF1;FASN                                                                     & MSBB\\_MA;MSBB\\_RS;ROSMAP\\_MA;ROSMAP\\_SP\\\\\n",
       "\t R-HSA-435368  &  1.143811e-05 & Zinc efflux and compartmentalization by the SLC30 family                       &  5 & SLC30A2;SLC30A8;SLC30A1;SLC30A5;SLC30A3                                                                                 & ADSP\\_GS;MSBB\\_MA;ROSMAP\\_MA          \\\\\n",
       "\\end{tabular}\n"
      ],
      "text/markdown": [
       "\n",
       "A tibble: 6 × 6\n",
       "\n",
       "| PATHWAY_ID &lt;chr&gt; | COEF &lt;dbl&gt; | PATHWAY_NAME &lt;chr&gt; | N_GENES &lt;int&gt; | GENES &lt;chr&gt; | SOURCE &lt;chr&gt; |\n",
       "|---|---|---|---|---|---|\n",
       "| R-HSA-8963898 | -3.346275e-05 | Plasma lipoprotein assembly                                                    | 19 | APOC4;PRKACG;APOA2;APOA4;APOC3;BMP1;APOA1;APOB;APOC2;MTTP;PRKACB;A2M;ABCA1;APOE;P4HB;PRKACA;SAR1B;ZDHHC8;APOC1          | MSBB_MA;ROSMAP_MA                   |\n",
       "| R-HSA-9017802 |  2.836137e-05 | Noncanonical activation of NOTCH3                                              |  8 | PSEN2;APH1A;APH1B;NOTCH3;PSENEN;NCSTN;PSEN1;YBX1                                                                        | MSBB_MA;MSBB_RS;ROSMAP_MA;ROSMAP_RS |\n",
       "| R-HSA-193692  |  2.756636e-05 | Regulated proteolysis of p75NTR                                                | 11 | PSEN2;APH1A;APH1B;NGFR;PSENEN;RELA;NCSTN;NFKB1;PSEN1;TRAF6;ADAM17                                                       | MSBB_MA;MSBB_RS;ROSMAP_MA;ROSMAP_RS |\n",
       "| R-HSA-5676594 |  2.581785e-05 | TNF receptor superfamily (TNFSF) members mediating non-canonical NF-kB pathway | 17 | CD40LG;TNFSF11;CD40;LTA;LTB;MAP3K14;TNFRSF12A;TNFSF14;LTBR;TNFRSF13C;TNFSF12;TNFSF13B;TRAF3;BIRC2;BIRC3;TNFRSF11A;TRAF2 | MSBB_MA;ROSMAP_SP                   |\n",
       "| R-HSA-9029558 |  1.737654e-05 | NR1H2 &amp; NR1H3 regulate gene expression linked to lipogenesis                   |  9 | ANGPTL3;NR1H3;NRIP1;RXRB;SCD;NR1H2;RXRA;SREBF1;FASN                                                                     | MSBB_MA;MSBB_RS;ROSMAP_MA;ROSMAP_SP |\n",
       "| R-HSA-435368  |  1.143811e-05 | Zinc efflux and compartmentalization by the SLC30 family                       |  5 | SLC30A2;SLC30A8;SLC30A1;SLC30A5;SLC30A3                                                                                 | ADSP_GS;MSBB_MA;ROSMAP_MA           |\n",
       "\n"
      ],
      "text/plain": [
       "  PATHWAY_ID    COEF         \n",
       "1 R-HSA-8963898 -3.346275e-05\n",
       "2 R-HSA-9017802  2.836137e-05\n",
       "3 R-HSA-193692   2.756636e-05\n",
       "4 R-HSA-5676594  2.581785e-05\n",
       "5 R-HSA-9029558  1.737654e-05\n",
       "6 R-HSA-435368   1.143811e-05\n",
       "  PATHWAY_NAME                                                                  \n",
       "1 Plasma lipoprotein assembly                                                   \n",
       "2 Noncanonical activation of NOTCH3                                             \n",
       "3 Regulated proteolysis of p75NTR                                               \n",
       "4 TNF receptor superfamily (TNFSF) members mediating non-canonical NF-kB pathway\n",
       "5 NR1H2 & NR1H3 regulate gene expression linked to lipogenesis                  \n",
       "6 Zinc efflux and compartmentalization by the SLC30 family                      \n",
       "  N_GENES\n",
       "1 19     \n",
       "2  8     \n",
       "3 11     \n",
       "4 17     \n",
       "5  9     \n",
       "6  5     \n",
       "  GENES                                                                                                                  \n",
       "1 APOC4;PRKACG;APOA2;APOA4;APOC3;BMP1;APOA1;APOB;APOC2;MTTP;PRKACB;A2M;ABCA1;APOE;P4HB;PRKACA;SAR1B;ZDHHC8;APOC1         \n",
       "2 PSEN2;APH1A;APH1B;NOTCH3;PSENEN;NCSTN;PSEN1;YBX1                                                                       \n",
       "3 PSEN2;APH1A;APH1B;NGFR;PSENEN;RELA;NCSTN;NFKB1;PSEN1;TRAF6;ADAM17                                                      \n",
       "4 CD40LG;TNFSF11;CD40;LTA;LTB;MAP3K14;TNFRSF12A;TNFSF14;LTBR;TNFRSF13C;TNFSF12;TNFSF13B;TRAF3;BIRC2;BIRC3;TNFRSF11A;TRAF2\n",
       "5 ANGPTL3;NR1H3;NRIP1;RXRB;SCD;NR1H2;RXRA;SREBF1;FASN                                                                    \n",
       "6 SLC30A2;SLC30A8;SLC30A1;SLC30A5;SLC30A3                                                                                \n",
       "  SOURCE                             \n",
       "1 MSBB_MA;ROSMAP_MA                  \n",
       "2 MSBB_MA;MSBB_RS;ROSMAP_MA;ROSMAP_RS\n",
       "3 MSBB_MA;MSBB_RS;ROSMAP_MA;ROSMAP_RS\n",
       "4 MSBB_MA;ROSMAP_SP                  \n",
       "5 MSBB_MA;MSBB_RS;ROSMAP_MA;ROSMAP_SP\n",
       "6 ADSP_GS;MSBB_MA;ROSMAP_MA          "
      ]
     },
     "metadata": {},
     "output_type": "display_data"
    }
   ],
   "source": [
    "avg_pathway_msbb_important_desc_advp = avg_pathway_msbb_important_desc %>%\n",
    "rowwise() %>%\n",
    "filter(any(strsplit(GENES, \";\")[[1]] %in% advp_known_gene$V1)) %>%\n",
    "ungroup()\n",
    "nrow(avg_pathway_msbb_important_desc)\n",
    "nrow(avg_pathway_msbb_important_desc_advp)\n",
    "head(avg_pathway_msbb_important_desc_advp)"
   ]
  },
  {
   "cell_type": "code",
   "execution_count": 189,
   "id": "5a450036-7a0e-4e36-937d-bbf68034d809",
   "metadata": {},
   "outputs": [
    {
     "data": {
      "text/html": [
       "313"
      ],
      "text/latex": [
       "313"
      ],
      "text/markdown": [
       "313"
      ],
      "text/plain": [
       "[1] 313"
      ]
     },
     "metadata": {},
     "output_type": "display_data"
    },
    {
     "data": {
      "text/html": [
       "99"
      ],
      "text/latex": [
       "99"
      ],
      "text/markdown": [
       "99"
      ],
      "text/plain": [
       "[1] 99"
      ]
     },
     "metadata": {},
     "output_type": "display_data"
    },
    {
     "data": {
      "text/html": [
       "<table class=\"dataframe\">\n",
       "<caption>A tibble: 6 × 6</caption>\n",
       "<thead>\n",
       "\t<tr><th scope=col>PATHWAY_ID</th><th scope=col>COEF</th><th scope=col>PATHWAY_NAME</th><th scope=col>N_GENES</th><th scope=col>GENES</th><th scope=col>SOURCE</th></tr>\n",
       "\t<tr><th scope=col>&lt;chr&gt;</th><th scope=col>&lt;dbl&gt;</th><th scope=col>&lt;chr&gt;</th><th scope=col>&lt;int&gt;</th><th scope=col>&lt;chr&gt;</th><th scope=col>&lt;chr&gt;</th></tr>\n",
       "</thead>\n",
       "<tbody>\n",
       "\t<tr><td>R-HSA-8963898</td><td>-3.126982e-05</td><td>Plasma lipoprotein assembly                                 </td><td>19</td><td>APOC4;PRKACG;APOA2;APOA4;APOC3;BMP1;APOA1;APOB;APOC2;MTTP;PRKACB;A2M;ABCA1;APOE;P4HB;PRKACA;SAR1B;ZDHHC8;APOC1            </td><td>MSBB_MA;ROSMAP_MA                  </td></tr>\n",
       "\t<tr><td>R-HSA-193692 </td><td> 1.648572e-05</td><td>Regulated proteolysis of p75NTR                             </td><td>11</td><td>PSEN2;APH1A;APH1B;NGFR;PSENEN;RELA;NCSTN;NFKB1;PSEN1;TRAF6;ADAM17                                                         </td><td>MSBB_MA;MSBB_RS;ROSMAP_MA;ROSMAP_RS</td></tr>\n",
       "\t<tr><td>R-HSA-9603798</td><td> 1.620620e-05</td><td>Class I peroxisomal membrane protein import                 </td><td>20</td><td>ABCD1;PEX2;PXMP2;PXMP4;SLC25A17;ABCD2;ABCD3;ACBD5;ALDH3A2;PEX11B;PEX12;PEX13;PEX16;PEX19;PEX26;PEX3;ATAD1;FIS1;GDAP1;PEX14</td><td>MSBB_MA;MSBB_RS;MSBB_TP            </td></tr>\n",
       "\t<tr><td>R-HSA-9029558</td><td> 1.613316e-05</td><td>NR1H2 &amp; NR1H3 regulate gene expression linked to lipogenesis</td><td> 9</td><td><span style=white-space:pre-wrap>ANGPTL3;NR1H3;NRIP1;RXRB;SCD;NR1H2;RXRA;SREBF1;FASN                                                                       </span></td><td>MSBB_MA;MSBB_RS;ROSMAP_MA;ROSMAP_SP</td></tr>\n",
       "\t<tr><td>R-HSA-9018682</td><td>-4.907995e-06</td><td>Biosynthesis of maresins                                    </td><td> 8</td><td>CYP1A2;CYP2C8;CYP2C9;CYP2D6;CYP2E1;CYP3A4;ALOX5;EPHX2                                                                     </td><td>MSBB_MA;ROSMAP_MA                  </td></tr>\n",
       "\t<tr><td>R-HSA-435368 </td><td> 4.903866e-06</td><td>Zinc efflux and compartmentalization by the SLC30 family    </td><td> 5</td><td>SLC30A2;SLC30A8;SLC30A1;SLC30A5;SLC30A3                                                                                   </td><td>ADSP_GS;MSBB_MA;ROSMAP_MA          </td></tr>\n",
       "</tbody>\n",
       "</table>\n"
      ],
      "text/latex": [
       "A tibble: 6 × 6\n",
       "\\begin{tabular}{llllll}\n",
       " PATHWAY\\_ID & COEF & PATHWAY\\_NAME & N\\_GENES & GENES & SOURCE\\\\\n",
       " <chr> & <dbl> & <chr> & <int> & <chr> & <chr>\\\\\n",
       "\\hline\n",
       "\t R-HSA-8963898 & -3.126982e-05 & Plasma lipoprotein assembly                                  & 19 & APOC4;PRKACG;APOA2;APOA4;APOC3;BMP1;APOA1;APOB;APOC2;MTTP;PRKACB;A2M;ABCA1;APOE;P4HB;PRKACA;SAR1B;ZDHHC8;APOC1             & MSBB\\_MA;ROSMAP\\_MA                  \\\\\n",
       "\t R-HSA-193692  &  1.648572e-05 & Regulated proteolysis of p75NTR                              & 11 & PSEN2;APH1A;APH1B;NGFR;PSENEN;RELA;NCSTN;NFKB1;PSEN1;TRAF6;ADAM17                                                          & MSBB\\_MA;MSBB\\_RS;ROSMAP\\_MA;ROSMAP\\_RS\\\\\n",
       "\t R-HSA-9603798 &  1.620620e-05 & Class I peroxisomal membrane protein import                  & 20 & ABCD1;PEX2;PXMP2;PXMP4;SLC25A17;ABCD2;ABCD3;ACBD5;ALDH3A2;PEX11B;PEX12;PEX13;PEX16;PEX19;PEX26;PEX3;ATAD1;FIS1;GDAP1;PEX14 & MSBB\\_MA;MSBB\\_RS;MSBB\\_TP            \\\\\n",
       "\t R-HSA-9029558 &  1.613316e-05 & NR1H2 \\& NR1H3 regulate gene expression linked to lipogenesis &  9 & ANGPTL3;NR1H3;NRIP1;RXRB;SCD;NR1H2;RXRA;SREBF1;FASN                                                                        & MSBB\\_MA;MSBB\\_RS;ROSMAP\\_MA;ROSMAP\\_SP\\\\\n",
       "\t R-HSA-9018682 & -4.907995e-06 & Biosynthesis of maresins                                     &  8 & CYP1A2;CYP2C8;CYP2C9;CYP2D6;CYP2E1;CYP3A4;ALOX5;EPHX2                                                                      & MSBB\\_MA;ROSMAP\\_MA                  \\\\\n",
       "\t R-HSA-435368  &  4.903866e-06 & Zinc efflux and compartmentalization by the SLC30 family     &  5 & SLC30A2;SLC30A8;SLC30A1;SLC30A5;SLC30A3                                                                                    & ADSP\\_GS;MSBB\\_MA;ROSMAP\\_MA          \\\\\n",
       "\\end{tabular}\n"
      ],
      "text/markdown": [
       "\n",
       "A tibble: 6 × 6\n",
       "\n",
       "| PATHWAY_ID &lt;chr&gt; | COEF &lt;dbl&gt; | PATHWAY_NAME &lt;chr&gt; | N_GENES &lt;int&gt; | GENES &lt;chr&gt; | SOURCE &lt;chr&gt; |\n",
       "|---|---|---|---|---|---|\n",
       "| R-HSA-8963898 | -3.126982e-05 | Plasma lipoprotein assembly                                  | 19 | APOC4;PRKACG;APOA2;APOA4;APOC3;BMP1;APOA1;APOB;APOC2;MTTP;PRKACB;A2M;ABCA1;APOE;P4HB;PRKACA;SAR1B;ZDHHC8;APOC1             | MSBB_MA;ROSMAP_MA                   |\n",
       "| R-HSA-193692  |  1.648572e-05 | Regulated proteolysis of p75NTR                              | 11 | PSEN2;APH1A;APH1B;NGFR;PSENEN;RELA;NCSTN;NFKB1;PSEN1;TRAF6;ADAM17                                                          | MSBB_MA;MSBB_RS;ROSMAP_MA;ROSMAP_RS |\n",
       "| R-HSA-9603798 |  1.620620e-05 | Class I peroxisomal membrane protein import                  | 20 | ABCD1;PEX2;PXMP2;PXMP4;SLC25A17;ABCD2;ABCD3;ACBD5;ALDH3A2;PEX11B;PEX12;PEX13;PEX16;PEX19;PEX26;PEX3;ATAD1;FIS1;GDAP1;PEX14 | MSBB_MA;MSBB_RS;MSBB_TP             |\n",
       "| R-HSA-9029558 |  1.613316e-05 | NR1H2 &amp; NR1H3 regulate gene expression linked to lipogenesis |  9 | ANGPTL3;NR1H3;NRIP1;RXRB;SCD;NR1H2;RXRA;SREBF1;FASN                                                                        | MSBB_MA;MSBB_RS;ROSMAP_MA;ROSMAP_SP |\n",
       "| R-HSA-9018682 | -4.907995e-06 | Biosynthesis of maresins                                     |  8 | CYP1A2;CYP2C8;CYP2C9;CYP2D6;CYP2E1;CYP3A4;ALOX5;EPHX2                                                                      | MSBB_MA;ROSMAP_MA                   |\n",
       "| R-HSA-435368  |  4.903866e-06 | Zinc efflux and compartmentalization by the SLC30 family     |  5 | SLC30A2;SLC30A8;SLC30A1;SLC30A5;SLC30A3                                                                                    | ADSP_GS;MSBB_MA;ROSMAP_MA           |\n",
       "\n"
      ],
      "text/plain": [
       "  PATHWAY_ID    COEF         \n",
       "1 R-HSA-8963898 -3.126982e-05\n",
       "2 R-HSA-193692   1.648572e-05\n",
       "3 R-HSA-9603798  1.620620e-05\n",
       "4 R-HSA-9029558  1.613316e-05\n",
       "5 R-HSA-9018682 -4.907995e-06\n",
       "6 R-HSA-435368   4.903866e-06\n",
       "  PATHWAY_NAME                                                 N_GENES\n",
       "1 Plasma lipoprotein assembly                                  19     \n",
       "2 Regulated proteolysis of p75NTR                              11     \n",
       "3 Class I peroxisomal membrane protein import                  20     \n",
       "4 NR1H2 & NR1H3 regulate gene expression linked to lipogenesis  9     \n",
       "5 Biosynthesis of maresins                                      8     \n",
       "6 Zinc efflux and compartmentalization by the SLC30 family      5     \n",
       "  GENES                                                                                                                     \n",
       "1 APOC4;PRKACG;APOA2;APOA4;APOC3;BMP1;APOA1;APOB;APOC2;MTTP;PRKACB;A2M;ABCA1;APOE;P4HB;PRKACA;SAR1B;ZDHHC8;APOC1            \n",
       "2 PSEN2;APH1A;APH1B;NGFR;PSENEN;RELA;NCSTN;NFKB1;PSEN1;TRAF6;ADAM17                                                         \n",
       "3 ABCD1;PEX2;PXMP2;PXMP4;SLC25A17;ABCD2;ABCD3;ACBD5;ALDH3A2;PEX11B;PEX12;PEX13;PEX16;PEX19;PEX26;PEX3;ATAD1;FIS1;GDAP1;PEX14\n",
       "4 ANGPTL3;NR1H3;NRIP1;RXRB;SCD;NR1H2;RXRA;SREBF1;FASN                                                                       \n",
       "5 CYP1A2;CYP2C8;CYP2C9;CYP2D6;CYP2E1;CYP3A4;ALOX5;EPHX2                                                                     \n",
       "6 SLC30A2;SLC30A8;SLC30A1;SLC30A5;SLC30A3                                                                                   \n",
       "  SOURCE                             \n",
       "1 MSBB_MA;ROSMAP_MA                  \n",
       "2 MSBB_MA;MSBB_RS;ROSMAP_MA;ROSMAP_RS\n",
       "3 MSBB_MA;MSBB_RS;MSBB_TP            \n",
       "4 MSBB_MA;MSBB_RS;ROSMAP_MA;ROSMAP_SP\n",
       "5 MSBB_MA;ROSMAP_MA                  \n",
       "6 ADSP_GS;MSBB_MA;ROSMAP_MA          "
      ]
     },
     "metadata": {},
     "output_type": "display_data"
    }
   ],
   "source": [
    "avg_gene_msbb_important_desc_advp = avg_gene_msbb_important_desc %>%\n",
    "rowwise() %>%\n",
    "filter(any(strsplit(GENES, \";\")[[1]] %in% advp_known_gene$V1)) %>%\n",
    "ungroup()\n",
    "nrow(avg_gene_msbb_important_desc)\n",
    "nrow(avg_gene_msbb_important_desc_advp)\n",
    "head(avg_gene_msbb_important_desc_advp)"
   ]
  },
  {
   "cell_type": "markdown",
   "id": "555cc03f-9eba-403a-b4ea-5c54dfca4288",
   "metadata": {},
   "source": [
    "# check for reactome pathways associated w AD"
   ]
  },
  {
   "cell_type": "markdown",
   "id": "23b94329-129b-494b-9895-6d7961de658a",
   "metadata": {},
   "source": [
    "## under disease column"
   ]
  },
  {
   "cell_type": "code",
   "execution_count": 205,
   "id": "07622926-e878-4529-9b45-321f1b87c593",
   "metadata": {},
   "outputs": [
    {
     "data": {
      "text/html": [
       "251"
      ],
      "text/latex": [
       "251"
      ],
      "text/markdown": [
       "251"
      ],
      "text/plain": [
       "[1] 251"
      ]
     },
     "metadata": {},
     "output_type": "display_data"
    },
    {
     "data": {
      "text/html": [
       "0"
      ],
      "text/latex": [
       "0"
      ],
      "text/markdown": [
       "0"
      ],
      "text/plain": [
       "[1] 0"
      ]
     },
     "metadata": {},
     "output_type": "display_data"
    }
   ],
   "source": [
    "nrow(avg_pathway_download)\n",
    "avg_pathway_download_ad_disease = avg_pathway_download %>%\n",
    "filter(grepl('Alzheimer', disease, ignore.case = TRUE))\n",
    "nrow(avg_pathway_download_ad_disease)"
   ]
  },
  {
   "cell_type": "code",
   "execution_count": 206,
   "id": "fa6cbe4f-a093-413d-9373-d830ef6dbfb3",
   "metadata": {},
   "outputs": [
    {
     "data": {
      "text/html": [
       "272"
      ],
      "text/latex": [
       "272"
      ],
      "text/markdown": [
       "272"
      ],
      "text/plain": [
       "[1] 272"
      ]
     },
     "metadata": {},
     "output_type": "display_data"
    },
    {
     "data": {
      "text/html": [
       "0"
      ],
      "text/latex": [
       "0"
      ],
      "text/markdown": [
       "0"
      ],
      "text/plain": [
       "[1] 0"
      ]
     },
     "metadata": {},
     "output_type": "display_data"
    }
   ],
   "source": [
    "nrow(avg_gene_download)\n",
    "avg_gene_download_ad_disease = avg_gene_download %>%\n",
    "filter(grepl('Alzheimer', disease, ignore.case = TRUE))\n",
    "nrow(avg_gene_download_ad_disease)"
   ]
  },
  {
   "cell_type": "code",
   "execution_count": 207,
   "id": "b266126d-124c-49c9-9885-10eee0612c03",
   "metadata": {},
   "outputs": [
    {
     "data": {
      "text/html": [
       "280"
      ],
      "text/latex": [
       "280"
      ],
      "text/markdown": [
       "280"
      ],
      "text/plain": [
       "[1] 280"
      ]
     },
     "metadata": {},
     "output_type": "display_data"
    },
    {
     "data": {
      "text/html": [
       "0"
      ],
      "text/latex": [
       "0"
      ],
      "text/markdown": [
       "0"
      ],
      "text/plain": [
       "[1] 0"
      ]
     },
     "metadata": {},
     "output_type": "display_data"
    }
   ],
   "source": [
    "nrow(avg_pathway_msbb_download)\n",
    "avg_pathway_msbb_download_ad_disease = avg_pathway_msbb_download %>%\n",
    "filter(grepl('Alzheimer', disease, ignore.case = TRUE))\n",
    "nrow(avg_pathway_msbb_download_ad_disease)"
   ]
  },
  {
   "cell_type": "code",
   "execution_count": 208,
   "id": "a6c9ef7d-c2d5-4675-9e7d-d06733f38a03",
   "metadata": {},
   "outputs": [
    {
     "data": {
      "text/html": [
       "239"
      ],
      "text/latex": [
       "239"
      ],
      "text/markdown": [
       "239"
      ],
      "text/plain": [
       "[1] 239"
      ]
     },
     "metadata": {},
     "output_type": "display_data"
    },
    {
     "data": {
      "text/html": [
       "0"
      ],
      "text/latex": [
       "0"
      ],
      "text/markdown": [
       "0"
      ],
      "text/plain": [
       "[1] 0"
      ]
     },
     "metadata": {},
     "output_type": "display_data"
    }
   ],
   "source": [
    "nrow(avg_gene_msbb_download)\n",
    "avg_gene_msbb_download_ad_disease = avg_gene_msbb_download %>%\n",
    "filter(grepl('Alzheimer', disease, ignore.case = TRUE))\n",
    "nrow(avg_gene_msbb_download_ad_disease)"
   ]
  },
  {
   "cell_type": "markdown",
   "id": "3049465e-8166-4b55-af44-8411b44ff360",
   "metadata": {},
   "source": [
    "## under summation column"
   ]
  },
  {
   "cell_type": "code",
   "execution_count": 209,
   "id": "b38e608a-f365-4488-9b0b-1c8c54541f42",
   "metadata": {},
   "outputs": [
    {
     "data": {
      "text/html": [
       "251"
      ],
      "text/latex": [
       "251"
      ],
      "text/markdown": [
       "251"
      ],
      "text/plain": [
       "[1] 251"
      ]
     },
     "metadata": {},
     "output_type": "display_data"
    },
    {
     "data": {
      "text/html": [
       "2"
      ],
      "text/latex": [
       "2"
      ],
      "text/markdown": [
       "2"
      ],
      "text/plain": [
       "[1] 2"
      ]
     },
     "metadata": {},
     "output_type": "display_data"
    },
    {
     "data": {
      "text/html": [
       "<table class=\"dataframe\">\n",
       "<caption>A data.frame: 2 × 3</caption>\n",
       "<thead>\n",
       "\t<tr><th scope=col>X</th><th scope=col>displayName</th><th scope=col>summation</th></tr>\n",
       "\t<tr><th scope=col>&lt;chr&gt;</th><th scope=col>&lt;chr&gt;</th><th scope=col>&lt;chr&gt;</th></tr>\n",
       "</thead>\n",
       "<tbody>\n",
       "\t<tr><td>R-HSA-8866376</td><td><span style=white-space:pre-wrap>Reelin signalling pathway                                </span></td><td><span style=white-space:pre-wrap>[{'dbId': 8866383; 'displayName': 'Reelin (RELN) is an extracellular; multifunctional signal gl...'; 'text': \"Reelin (RELN) is an extracellular; multifunctional signal glycoprotein that controls not only the positioning of neurons in the developing brain; but also their growth; maturation; and synaptic activity in the adult brain (Stranahan et al. 2013). Abnormal Reelin expression in the brain is implicated in a number of neuropsychiatric disorders including autism; schizophrenia; bipolar disorder and Alzheimer's disease (Folsom &amp; Fatemi  2013).\"; 'className': 'Summation'; 'schemaClass': 'Summation'}]                                                                                                                                                                                                                                                                                                                                                                                                                                                                                                                                                                                                                                                                                                                                                                                                                                                                                                                                                                                                                                                                                                                                                                                                                                                                                                                                                                                                                                                                                                                                                                                                                                                                                                                                                                                                                                                                                                                                                                                                                                                                                                                                                                                                                                                                                                                                                                                                                                                                                                                                                                                                                                                                                                                                                                                                                                                                                                                                                                                                                                                                                                                                                                                                                                                                                                                                                                                                                                                                                                                                                                                                                                                                                                                                                                                                                                                              </span></td></tr>\n",
       "\t<tr><td>R-HSA-9018678</td><td>Biosynthesis of specialized proresolving mediators (SPMs)</td><td>[{'dbId': 9018730; 'displayName': 'A host’s normal protective response to tissue injury or path...'; 'text': 'A host’s normal protective response to tissue injury or pathogenic infection is acute inflammation. The condition of acute inflammation is created by the release of pro-inflammatory lipid mediators such as leukotrienes (LTs) and prostaglandins (PGs) that launch a series of signaling cascades to destroy invading pathogens and to repair damaged tissue (Libby 2007). The potent chemotactic agent leukotriene B4 (LTB4) promotes the recruitment of neutrophils (PMNs) to inflamed tissues; while the prostaglandins E2 and D2 (PGE2 and PGD2) further accelerate the inflammatory process. If left unchecked; the inflammatory response can initiate chronic systemic inflammatory disorders associated with cardiovascular disease; rheumatoid arthritis; periodontal disease; asthma; diabetes; inflammatory bowel disease (IBD); Alzheimer’s disease and age-related macular degeneration (AMD). The specific role by which inflammation contributes to their pathogenesis is not fully understood.&lt;br&gt;&lt;br&gt;To prevent the onset of chronic inflammation; a &lt;i&gt;lipid mediator class switch&lt;/i&gt; is thought to occur from the initial actions of pro-inflammatory lipid mediators to the anti-inflammatory and pro-resolving actions of lipoxins; resolvins; protectins and maresins (collectively called specialized proresolving mediators (SPMs)). Nanopicogram quantities of different lipid mediators are generated at different times during the evolution of the inflammatory response and these mediators coincide with distinct cellular events. The class switch activates leukocyte translational regulation of the enzymes required to produce pro-resolving lipid mediators (Levy et al. 2001). Each family of these PSMs exert specialized actions; including blocking neutrophil recruitment; promoting the recruitment and activation of monocytes; as well as mediating the nonphlogistic phagocytosis and lymphatic clearance of apoptotic neutrophils by activated macrophages (ie without inducing inflammation) and mediating tissue regeneration. Eventually; through the combined actions of these mediators; the resolution of inflammation is completed and homeostasis is reached (Serhan 2010; Bannenberg &amp; Serhan 2010; Freire &amp; Van Dyke 2013; Serhan et al. 2014).&lt;br&gt;&lt;br&gt;SPMs are derived from polyunsaturated fatty acids (PUFAs) (Molfino et al. 2017). PUFAs of the ω-3 series are essential nutrients since they cannot be produced by humans (Duvall &amp; Levy 2016) and are primarily found in dietary fish oils (Calder 2013) and in plants (Baker et al. 2016). The ω-3 PUFAs eicosapentaenoic acid (EPA); docosahexaenoic acid (DHA) and docosapentaenoic acid (DPAn-3) circulate in the bloodstream after dietary intake and are easily incorporated into cellular membranes in a time- and dose-dependent manner (Calder 2009); as well as being present in inflammatory exudates (Kasuga et al. 2008). They can be mobilised by phospholipase A2 from cellular membranes on injury or infection when they are converted to exudate SPMs (Serhan et al. 2002) to interact with local immune cells (Kasuga et al. 2008). EPA is the source for E-series resolvins while DHA is the source for D-series resolvins; protectins; maresins and sulfido conjugates in tissue regeneration mediators (Serhan et al. 2017). The ω-6 fatty acid arachidonic acid (AA) is the source for lipoxins. ω-3 or ω-6 PUFA docosapentaenoic acids (DPAn-3 and DPAn-6) are the sources of DPA-derived resolvins; protectins and maresins (Vik et al. 2017). Aspirin can also trigger the production of epimeric SPMs via acetylated PTGS2 (prostaglandin G/H synthase; COX2) (Serhan &amp; Chiang 2002). Combinations of oxidation; reduction and hydrolysis can generate numerous SPMs. Electrophilic oxo-derivatives of ω-3 PUFAs are a class of oxidised derivatives that are generated in macrophages and neutrophils by the actions of 5-lipoxygenase; cyclooxygenase-2 and acetylated cyclooxygenase-2; followed by dehydrogenation. Being electrophilic; oxo-derivative SPMs reversibly bind to nucleophilic residues on target proteins; triggering the activation of cytoprotective pathways (Cipollina 2015). The pathways in this section describe the biosynthesis of these SPMs.'; 'className': 'Summation'; 'schemaClass': 'Summation'}]</td></tr>\n",
       "</tbody>\n",
       "</table>\n"
      ],
      "text/latex": [
       "A data.frame: 2 × 3\n",
       "\\begin{tabular}{lll}\n",
       " X & displayName & summation\\\\\n",
       " <chr> & <chr> & <chr>\\\\\n",
       "\\hline\n",
       "\t R-HSA-8866376 & Reelin signalling pathway                                 & {[}\\{'dbId': 8866383; 'displayName': 'Reelin (RELN) is an extracellular; multifunctional signal gl...'; 'text': \"Reelin (RELN) is an extracellular; multifunctional signal glycoprotein that controls not only the positioning of neurons in the developing brain; but also their growth; maturation; and synaptic activity in the adult brain (Stranahan et al. 2013). Abnormal Reelin expression in the brain is implicated in a number of neuropsychiatric disorders including autism; schizophrenia; bipolar disorder and Alzheimer's disease (Folsom \\& Fatemi  2013).\"; 'className': 'Summation'; 'schemaClass': 'Summation'\\}{]}                                                                                                                                                                                                                                                                                                                                                                                                                                                                                                                                                                                                                                                                                                                                                                                                                                                                                                                                                                                                                                                                                                                                                                                                                                                                                                                                                                                                                                                                                                                                                                                                                                                                                                                                                                                                                                                                                                                                                                                                                                                                                                                                                                                                                                                                                                                                                                                                                                                                                                                                                                                                                                                                                                                                                                                                                                                                                                                                                                                                                                                                                                                                                                                                                                                                                                                                                                                                                                                                                                                                                                                                                                                                                                                                                                                                                                                              \\\\\n",
       "\t R-HSA-9018678 & Biosynthesis of specialized proresolving mediators (SPMs) & {[}\\{'dbId': 9018730; 'displayName': 'A host’s normal protective response to tissue injury or path...'; 'text': 'A host’s normal protective response to tissue injury or pathogenic infection is acute inflammation. The condition of acute inflammation is created by the release of pro-inflammatory lipid mediators such as leukotrienes (LTs) and prostaglandins (PGs) that launch a series of signaling cascades to destroy invading pathogens and to repair damaged tissue (Libby 2007). The potent chemotactic agent leukotriene B4 (LTB4) promotes the recruitment of neutrophils (PMNs) to inflamed tissues; while the prostaglandins E2 and D2 (PGE2 and PGD2) further accelerate the inflammatory process. If left unchecked; the inflammatory response can initiate chronic systemic inflammatory disorders associated with cardiovascular disease; rheumatoid arthritis; periodontal disease; asthma; diabetes; inflammatory bowel disease (IBD); Alzheimer’s disease and age-related macular degeneration (AMD). The specific role by which inflammation contributes to their pathogenesis is not fully understood.<br><br>To prevent the onset of chronic inflammation; a <i>lipid mediator class switch</i> is thought to occur from the initial actions of pro-inflammatory lipid mediators to the anti-inflammatory and pro-resolving actions of lipoxins; resolvins; protectins and maresins (collectively called specialized proresolving mediators (SPMs)). Nanopicogram quantities of different lipid mediators are generated at different times during the evolution of the inflammatory response and these mediators coincide with distinct cellular events. The class switch activates leukocyte translational regulation of the enzymes required to produce pro-resolving lipid mediators (Levy et al. 2001). Each family of these PSMs exert specialized actions; including blocking neutrophil recruitment; promoting the recruitment and activation of monocytes; as well as mediating the nonphlogistic phagocytosis and lymphatic clearance of apoptotic neutrophils by activated macrophages (ie without inducing inflammation) and mediating tissue regeneration. Eventually; through the combined actions of these mediators; the resolution of inflammation is completed and homeostasis is reached (Serhan 2010; Bannenberg \\& Serhan 2010; Freire \\& Van Dyke 2013; Serhan et al. 2014).<br><br>SPMs are derived from polyunsaturated fatty acids (PUFAs) (Molfino et al. 2017). PUFAs of the ω-3 series are essential nutrients since they cannot be produced by humans (Duvall \\& Levy 2016) and are primarily found in dietary fish oils (Calder 2013) and in plants (Baker et al. 2016). The ω-3 PUFAs eicosapentaenoic acid (EPA); docosahexaenoic acid (DHA) and docosapentaenoic acid (DPAn-3) circulate in the bloodstream after dietary intake and are easily incorporated into cellular membranes in a time- and dose-dependent manner (Calder 2009); as well as being present in inflammatory exudates (Kasuga et al. 2008). They can be mobilised by phospholipase A2 from cellular membranes on injury or infection when they are converted to exudate SPMs (Serhan et al. 2002) to interact with local immune cells (Kasuga et al. 2008). EPA is the source for E-series resolvins while DHA is the source for D-series resolvins; protectins; maresins and sulfido conjugates in tissue regeneration mediators (Serhan et al. 2017). The ω-6 fatty acid arachidonic acid (AA) is the source for lipoxins. ω-3 or ω-6 PUFA docosapentaenoic acids (DPAn-3 and DPAn-6) are the sources of DPA-derived resolvins; protectins and maresins (Vik et al. 2017). Aspirin can also trigger the production of epimeric SPMs via acetylated PTGS2 (prostaglandin G/H synthase; COX2) (Serhan \\& Chiang 2002). Combinations of oxidation; reduction and hydrolysis can generate numerous SPMs. Electrophilic oxo-derivatives of ω-3 PUFAs are a class of oxidised derivatives that are generated in macrophages and neutrophils by the actions of 5-lipoxygenase; cyclooxygenase-2 and acetylated cyclooxygenase-2; followed by dehydrogenation. Being electrophilic; oxo-derivative SPMs reversibly bind to nucleophilic residues on target proteins; triggering the activation of cytoprotective pathways (Cipollina 2015). The pathways in this section describe the biosynthesis of these SPMs.'; 'className': 'Summation'; 'schemaClass': 'Summation'\\}{]}\\\\\n",
       "\\end{tabular}\n"
      ],
      "text/markdown": [
       "\n",
       "A data.frame: 2 × 3\n",
       "\n",
       "| X &lt;chr&gt; | displayName &lt;chr&gt; | summation &lt;chr&gt; |\n",
       "|---|---|---|\n",
       "| R-HSA-8866376 | Reelin signalling pathway                                 | [{'dbId': 8866383; 'displayName': 'Reelin (RELN) is an extracellular; multifunctional signal gl...'; 'text': \"Reelin (RELN) is an extracellular; multifunctional signal glycoprotein that controls not only the positioning of neurons in the developing brain; but also their growth; maturation; and synaptic activity in the adult brain (Stranahan et al. 2013). Abnormal Reelin expression in the brain is implicated in a number of neuropsychiatric disorders including autism; schizophrenia; bipolar disorder and Alzheimer's disease (Folsom &amp; Fatemi  2013).\"; 'className': 'Summation'; 'schemaClass': 'Summation'}]                                                                                                                                                                                                                                                                                                                                                                                                                                                                                                                                                                                                                                                                                                                                                                                                                                                                                                                                                                                                                                                                                                                                                                                                                                                                                                                                                                                                                                                                                                                                                                                                                                                                                                                                                                                                                                                                                                                                                                                                                                                                                                                                                                                                                                                                                                                                                                                                                                                                                                                                                                                                                                                                                                                                                                                                                                                                                                                                                                                                                                                                                                                                                                                                                                                                                                                                                                                                                                                                                                                                                                                                                                                                                                                                                                                                                                                               |\n",
       "| R-HSA-9018678 | Biosynthesis of specialized proresolving mediators (SPMs) | [{'dbId': 9018730; 'displayName': 'A host’s normal protective response to tissue injury or path...'; 'text': 'A host’s normal protective response to tissue injury or pathogenic infection is acute inflammation. The condition of acute inflammation is created by the release of pro-inflammatory lipid mediators such as leukotrienes (LTs) and prostaglandins (PGs) that launch a series of signaling cascades to destroy invading pathogens and to repair damaged tissue (Libby 2007). The potent chemotactic agent leukotriene B4 (LTB4) promotes the recruitment of neutrophils (PMNs) to inflamed tissues; while the prostaglandins E2 and D2 (PGE2 and PGD2) further accelerate the inflammatory process. If left unchecked; the inflammatory response can initiate chronic systemic inflammatory disorders associated with cardiovascular disease; rheumatoid arthritis; periodontal disease; asthma; diabetes; inflammatory bowel disease (IBD); Alzheimer’s disease and age-related macular degeneration (AMD). The specific role by which inflammation contributes to their pathogenesis is not fully understood.&lt;br&gt;&lt;br&gt;To prevent the onset of chronic inflammation; a &lt;i&gt;lipid mediator class switch&lt;/i&gt; is thought to occur from the initial actions of pro-inflammatory lipid mediators to the anti-inflammatory and pro-resolving actions of lipoxins; resolvins; protectins and maresins (collectively called specialized proresolving mediators (SPMs)). Nanopicogram quantities of different lipid mediators are generated at different times during the evolution of the inflammatory response and these mediators coincide with distinct cellular events. The class switch activates leukocyte translational regulation of the enzymes required to produce pro-resolving lipid mediators (Levy et al. 2001). Each family of these PSMs exert specialized actions; including blocking neutrophil recruitment; promoting the recruitment and activation of monocytes; as well as mediating the nonphlogistic phagocytosis and lymphatic clearance of apoptotic neutrophils by activated macrophages (ie without inducing inflammation) and mediating tissue regeneration. Eventually; through the combined actions of these mediators; the resolution of inflammation is completed and homeostasis is reached (Serhan 2010; Bannenberg &amp; Serhan 2010; Freire &amp; Van Dyke 2013; Serhan et al. 2014).&lt;br&gt;&lt;br&gt;SPMs are derived from polyunsaturated fatty acids (PUFAs) (Molfino et al. 2017). PUFAs of the ω-3 series are essential nutrients since they cannot be produced by humans (Duvall &amp; Levy 2016) and are primarily found in dietary fish oils (Calder 2013) and in plants (Baker et al. 2016). The ω-3 PUFAs eicosapentaenoic acid (EPA); docosahexaenoic acid (DHA) and docosapentaenoic acid (DPAn-3) circulate in the bloodstream after dietary intake and are easily incorporated into cellular membranes in a time- and dose-dependent manner (Calder 2009); as well as being present in inflammatory exudates (Kasuga et al. 2008). They can be mobilised by phospholipase A2 from cellular membranes on injury or infection when they are converted to exudate SPMs (Serhan et al. 2002) to interact with local immune cells (Kasuga et al. 2008). EPA is the source for E-series resolvins while DHA is the source for D-series resolvins; protectins; maresins and sulfido conjugates in tissue regeneration mediators (Serhan et al. 2017). The ω-6 fatty acid arachidonic acid (AA) is the source for lipoxins. ω-3 or ω-6 PUFA docosapentaenoic acids (DPAn-3 and DPAn-6) are the sources of DPA-derived resolvins; protectins and maresins (Vik et al. 2017). Aspirin can also trigger the production of epimeric SPMs via acetylated PTGS2 (prostaglandin G/H synthase; COX2) (Serhan &amp; Chiang 2002). Combinations of oxidation; reduction and hydrolysis can generate numerous SPMs. Electrophilic oxo-derivatives of ω-3 PUFAs are a class of oxidised derivatives that are generated in macrophages and neutrophils by the actions of 5-lipoxygenase; cyclooxygenase-2 and acetylated cyclooxygenase-2; followed by dehydrogenation. Being electrophilic; oxo-derivative SPMs reversibly bind to nucleophilic residues on target proteins; triggering the activation of cytoprotective pathways (Cipollina 2015). The pathways in this section describe the biosynthesis of these SPMs.'; 'className': 'Summation'; 'schemaClass': 'Summation'}] |\n",
       "\n"
      ],
      "text/plain": [
       "  X             displayName                                              \n",
       "1 R-HSA-8866376 Reelin signalling pathway                                \n",
       "2 R-HSA-9018678 Biosynthesis of specialized proresolving mediators (SPMs)\n",
       "  summation                                                                                                                                                                                                                                                                                                                                                                                                                                                                                                                                                                                                                                                                                                                                                                                                                                                                                                                                                                                                                                                                                                                                                                                                                                                                                                                                                                                                                                                                                                                                                                                                                                                                                                                                                                                                                                                                                                                                                                                                                                                                                                                                                                                                                                                                                                                                                                                                                                                                                                                                                                                                                                                                                                                                                                                                                                                                                                                                                                                                                                                                                                                                                                                                                                                                                                                                                                                                                                                                                                                                                                                                                                                                                                                                                                                                                                                                                                                                                                                                                                                                                                                                                                                                                                                                                                                                                                                                                                                                                     \n",
       "1 [{'dbId': 8866383; 'displayName': 'Reelin (RELN) is an extracellular; multifunctional signal gl...'; 'text': \"Reelin (RELN) is an extracellular; multifunctional signal glycoprotein that controls not only the positioning of neurons in the developing brain; but also their growth; maturation; and synaptic activity in the adult brain (Stranahan et al. 2013). Abnormal Reelin expression in the brain is implicated in a number of neuropsychiatric disorders including autism; schizophrenia; bipolar disorder and Alzheimer's disease (Folsom & Fatemi  2013).\"; 'className': 'Summation'; 'schemaClass': 'Summation'}]                                                                                                                                                                                                                                                                                                                                                                                                                                                                                                                                                                                                                                                                                                                                                                                                                                                                                                                                                                                                                                                                                                                                                                                                                                                                                                                                                                                                                                                                                                                                                                                                                                                                                                                                                                                                                                                                                                                                                                                                                                                                                                                                                                                                                                                                                                                                                                                                                                                                                                                                                                                                                                                                                                                                                                                                                                                                                                                                                                                                                                                                                                                                                                                                                                                                                                                                                                                                                                                                                                                                                                                                                                                                                                                                                                                                                                                              \n",
       "2 [{'dbId': 9018730; 'displayName': 'A host’s normal protective response to tissue injury or path...'; 'text': 'A host’s normal protective response to tissue injury or pathogenic infection is acute inflammation. The condition of acute inflammation is created by the release of pro-inflammatory lipid mediators such as leukotrienes (LTs) and prostaglandins (PGs) that launch a series of signaling cascades to destroy invading pathogens and to repair damaged tissue (Libby 2007). The potent chemotactic agent leukotriene B4 (LTB4) promotes the recruitment of neutrophils (PMNs) to inflamed tissues; while the prostaglandins E2 and D2 (PGE2 and PGD2) further accelerate the inflammatory process. If left unchecked; the inflammatory response can initiate chronic systemic inflammatory disorders associated with cardiovascular disease; rheumatoid arthritis; periodontal disease; asthma; diabetes; inflammatory bowel disease (IBD); Alzheimer’s disease and age-related macular degeneration (AMD). The specific role by which inflammation contributes to their pathogenesis is not fully understood.<br><br>To prevent the onset of chronic inflammation; a <i>lipid mediator class switch</i> is thought to occur from the initial actions of pro-inflammatory lipid mediators to the anti-inflammatory and pro-resolving actions of lipoxins; resolvins; protectins and maresins (collectively called specialized proresolving mediators (SPMs)). Nanopicogram quantities of different lipid mediators are generated at different times during the evolution of the inflammatory response and these mediators coincide with distinct cellular events. The class switch activates leukocyte translational regulation of the enzymes required to produce pro-resolving lipid mediators (Levy et al. 2001). Each family of these PSMs exert specialized actions; including blocking neutrophil recruitment; promoting the recruitment and activation of monocytes; as well as mediating the nonphlogistic phagocytosis and lymphatic clearance of apoptotic neutrophils by activated macrophages (ie without inducing inflammation) and mediating tissue regeneration. Eventually; through the combined actions of these mediators; the resolution of inflammation is completed and homeostasis is reached (Serhan 2010; Bannenberg & Serhan 2010; Freire & Van Dyke 2013; Serhan et al. 2014).<br><br>SPMs are derived from polyunsaturated fatty acids (PUFAs) (Molfino et al. 2017). PUFAs of the ω-3 series are essential nutrients since they cannot be produced by humans (Duvall & Levy 2016) and are primarily found in dietary fish oils (Calder 2013) and in plants (Baker et al. 2016). The ω-3 PUFAs eicosapentaenoic acid (EPA); docosahexaenoic acid (DHA) and docosapentaenoic acid (DPAn-3) circulate in the bloodstream after dietary intake and are easily incorporated into cellular membranes in a time- and dose-dependent manner (Calder 2009); as well as being present in inflammatory exudates (Kasuga et al. 2008). They can be mobilised by phospholipase A2 from cellular membranes on injury or infection when they are converted to exudate SPMs (Serhan et al. 2002) to interact with local immune cells (Kasuga et al. 2008). EPA is the source for E-series resolvins while DHA is the source for D-series resolvins; protectins; maresins and sulfido conjugates in tissue regeneration mediators (Serhan et al. 2017). The ω-6 fatty acid arachidonic acid (AA) is the source for lipoxins. ω-3 or ω-6 PUFA docosapentaenoic acids (DPAn-3 and DPAn-6) are the sources of DPA-derived resolvins; protectins and maresins (Vik et al. 2017). Aspirin can also trigger the production of epimeric SPMs via acetylated PTGS2 (prostaglandin G/H synthase; COX2) (Serhan & Chiang 2002). Combinations of oxidation; reduction and hydrolysis can generate numerous SPMs. Electrophilic oxo-derivatives of ω-3 PUFAs are a class of oxidised derivatives that are generated in macrophages and neutrophils by the actions of 5-lipoxygenase; cyclooxygenase-2 and acetylated cyclooxygenase-2; followed by dehydrogenation. Being electrophilic; oxo-derivative SPMs reversibly bind to nucleophilic residues on target proteins; triggering the activation of cytoprotective pathways (Cipollina 2015). The pathways in this section describe the biosynthesis of these SPMs.'; 'className': 'Summation'; 'schemaClass': 'Summation'}]"
      ]
     },
     "metadata": {},
     "output_type": "display_data"
    }
   ],
   "source": [
    "nrow(avg_pathway_download)\n",
    "avg_pathway_download_ad_summation = avg_pathway_download %>%\n",
    "filter(grepl('Alzheimer', summation, ignore.case = TRUE))\n",
    "nrow(avg_pathway_download_ad_summation)\n",
    "avg_pathway_download_ad_summation %>%\n",
    "select(X, displayName, summation)"
   ]
  },
  {
   "cell_type": "code",
   "execution_count": 210,
   "id": "677050b0-2bab-4d52-b2ed-9501fba300f4",
   "metadata": {},
   "outputs": [
    {
     "data": {
      "text/html": [
       "272"
      ],
      "text/latex": [
       "272"
      ],
      "text/markdown": [
       "272"
      ],
      "text/plain": [
       "[1] 272"
      ]
     },
     "metadata": {},
     "output_type": "display_data"
    },
    {
     "data": {
      "text/html": [
       "1"
      ],
      "text/latex": [
       "1"
      ],
      "text/markdown": [
       "1"
      ],
      "text/plain": [
       "[1] 1"
      ]
     },
     "metadata": {},
     "output_type": "display_data"
    },
    {
     "data": {
      "text/html": [
       "<table class=\"dataframe\">\n",
       "<caption>A data.frame: 1 × 2</caption>\n",
       "<thead>\n",
       "\t<tr><th scope=col>X</th><th scope=col>displayName</th></tr>\n",
       "\t<tr><th scope=col>&lt;chr&gt;</th><th scope=col>&lt;chr&gt;</th></tr>\n",
       "</thead>\n",
       "<tbody>\n",
       "\t<tr><td>R-HSA-8866376</td><td>Reelin signalling pathway</td></tr>\n",
       "</tbody>\n",
       "</table>\n"
      ],
      "text/latex": [
       "A data.frame: 1 × 2\n",
       "\\begin{tabular}{ll}\n",
       " X & displayName\\\\\n",
       " <chr> & <chr>\\\\\n",
       "\\hline\n",
       "\t R-HSA-8866376 & Reelin signalling pathway\\\\\n",
       "\\end{tabular}\n"
      ],
      "text/markdown": [
       "\n",
       "A data.frame: 1 × 2\n",
       "\n",
       "| X &lt;chr&gt; | displayName &lt;chr&gt; |\n",
       "|---|---|\n",
       "| R-HSA-8866376 | Reelin signalling pathway |\n",
       "\n"
      ],
      "text/plain": [
       "  X             displayName              \n",
       "1 R-HSA-8866376 Reelin signalling pathway"
      ]
     },
     "metadata": {},
     "output_type": "display_data"
    }
   ],
   "source": [
    "nrow(avg_gene_download)\n",
    "avg_gene_download_ad_summation = avg_gene_download %>%\n",
    "filter(grepl('Alzheimer', summation, ignore.case = TRUE))\n",
    "nrow(avg_gene_download_ad_summation)\n",
    "avg_gene_download_ad_summation %>%\n",
    "select(X, displayName)"
   ]
  },
  {
   "cell_type": "code",
   "execution_count": 211,
   "id": "a3e2180f-7f56-4d39-a747-8d601cfb399e",
   "metadata": {},
   "outputs": [
    {
     "data": {
      "text/html": [
       "280"
      ],
      "text/latex": [
       "280"
      ],
      "text/markdown": [
       "280"
      ],
      "text/plain": [
       "[1] 280"
      ]
     },
     "metadata": {},
     "output_type": "display_data"
    },
    {
     "data": {
      "text/html": [
       "3"
      ],
      "text/latex": [
       "3"
      ],
      "text/markdown": [
       "3"
      ],
      "text/plain": [
       "[1] 3"
      ]
     },
     "metadata": {},
     "output_type": "display_data"
    },
    {
     "data": {
      "text/html": [
       "<table class=\"dataframe\">\n",
       "<caption>A data.frame: 3 × 3</caption>\n",
       "<thead>\n",
       "\t<tr><th scope=col>X</th><th scope=col>displayName</th><th scope=col>summation</th></tr>\n",
       "\t<tr><th scope=col>&lt;chr&gt;</th><th scope=col>&lt;chr&gt;</th><th scope=col>&lt;chr&gt;</th></tr>\n",
       "</thead>\n",
       "<tbody>\n",
       "\t<tr><td>R-HSA-8866376</td><td><span style=white-space:pre-wrap>Reelin signalling pathway                                </span></td><td><span style=white-space:pre-wrap>[{'dbId': 8866383; 'displayName': 'Reelin (RELN) is an extracellular; multifunctional signal gl...'; 'text': \"Reelin (RELN) is an extracellular; multifunctional signal glycoprotein that controls not only the positioning of neurons in the developing brain; but also their growth; maturation; and synaptic activity in the adult brain (Stranahan et al. 2013). Abnormal Reelin expression in the brain is implicated in a number of neuropsychiatric disorders including autism; schizophrenia; bipolar disorder and Alzheimer's disease (Folsom &amp; Fatemi  2013).\"; 'className': 'Summation'; 'schemaClass': 'Summation'}]                                                                                                                                                                                                                                                                                                                                                                                                                                                                                                                                                                                                                                                                                                                                                                                                                                                                                                                                                                                                                                                                                                                                                                                                                                                                                                                                                                                                                                                                                                                                                                                                                                                                                                                                                                                                                                                                                                                                                                                                                                                                                                                                                                                                                                                                                                                                                                                                                                                                                                                                                                                                                                                                                                                                                                                                                                                                                                                                                                                                                                                                                                                                                                                                                                                                                                                                                                                                                                                                                                                                                                                                                                                                                                                                                                                                                                                              </span></td></tr>\n",
       "\t<tr><td>R-HSA-9018678</td><td>Biosynthesis of specialized proresolving mediators (SPMs)</td><td>[{'dbId': 9018730; 'displayName': 'A host’s normal protective response to tissue injury or path...'; 'text': 'A host’s normal protective response to tissue injury or pathogenic infection is acute inflammation. The condition of acute inflammation is created by the release of pro-inflammatory lipid mediators such as leukotrienes (LTs) and prostaglandins (PGs) that launch a series of signaling cascades to destroy invading pathogens and to repair damaged tissue (Libby 2007). The potent chemotactic agent leukotriene B4 (LTB4) promotes the recruitment of neutrophils (PMNs) to inflamed tissues; while the prostaglandins E2 and D2 (PGE2 and PGD2) further accelerate the inflammatory process. If left unchecked; the inflammatory response can initiate chronic systemic inflammatory disorders associated with cardiovascular disease; rheumatoid arthritis; periodontal disease; asthma; diabetes; inflammatory bowel disease (IBD); Alzheimer’s disease and age-related macular degeneration (AMD). The specific role by which inflammation contributes to their pathogenesis is not fully understood.&lt;br&gt;&lt;br&gt;To prevent the onset of chronic inflammation; a &lt;i&gt;lipid mediator class switch&lt;/i&gt; is thought to occur from the initial actions of pro-inflammatory lipid mediators to the anti-inflammatory and pro-resolving actions of lipoxins; resolvins; protectins and maresins (collectively called specialized proresolving mediators (SPMs)). Nanopicogram quantities of different lipid mediators are generated at different times during the evolution of the inflammatory response and these mediators coincide with distinct cellular events. The class switch activates leukocyte translational regulation of the enzymes required to produce pro-resolving lipid mediators (Levy et al. 2001). Each family of these PSMs exert specialized actions; including blocking neutrophil recruitment; promoting the recruitment and activation of monocytes; as well as mediating the nonphlogistic phagocytosis and lymphatic clearance of apoptotic neutrophils by activated macrophages (ie without inducing inflammation) and mediating tissue regeneration. Eventually; through the combined actions of these mediators; the resolution of inflammation is completed and homeostasis is reached (Serhan 2010; Bannenberg &amp; Serhan 2010; Freire &amp; Van Dyke 2013; Serhan et al. 2014).&lt;br&gt;&lt;br&gt;SPMs are derived from polyunsaturated fatty acids (PUFAs) (Molfino et al. 2017). PUFAs of the ω-3 series are essential nutrients since they cannot be produced by humans (Duvall &amp; Levy 2016) and are primarily found in dietary fish oils (Calder 2013) and in plants (Baker et al. 2016). The ω-3 PUFAs eicosapentaenoic acid (EPA); docosahexaenoic acid (DHA) and docosapentaenoic acid (DPAn-3) circulate in the bloodstream after dietary intake and are easily incorporated into cellular membranes in a time- and dose-dependent manner (Calder 2009); as well as being present in inflammatory exudates (Kasuga et al. 2008). They can be mobilised by phospholipase A2 from cellular membranes on injury or infection when they are converted to exudate SPMs (Serhan et al. 2002) to interact with local immune cells (Kasuga et al. 2008). EPA is the source for E-series resolvins while DHA is the source for D-series resolvins; protectins; maresins and sulfido conjugates in tissue regeneration mediators (Serhan et al. 2017). The ω-6 fatty acid arachidonic acid (AA) is the source for lipoxins. ω-3 or ω-6 PUFA docosapentaenoic acids (DPAn-3 and DPAn-6) are the sources of DPA-derived resolvins; protectins and maresins (Vik et al. 2017). Aspirin can also trigger the production of epimeric SPMs via acetylated PTGS2 (prostaglandin G/H synthase; COX2) (Serhan &amp; Chiang 2002). Combinations of oxidation; reduction and hydrolysis can generate numerous SPMs. Electrophilic oxo-derivatives of ω-3 PUFAs are a class of oxidised derivatives that are generated in macrophages and neutrophils by the actions of 5-lipoxygenase; cyclooxygenase-2 and acetylated cyclooxygenase-2; followed by dehydrogenation. Being electrophilic; oxo-derivative SPMs reversibly bind to nucleophilic residues on target proteins; triggering the activation of cytoprotective pathways (Cipollina 2015). The pathways in this section describe the biosynthesis of these SPMs.'; 'className': 'Summation'; 'schemaClass': 'Summation'}]</td></tr>\n",
       "\t<tr><td>R-HSA-205017 </td><td>NFG and proNGF binds to p75NTR                           </td><td>[{'dbId': 204945; 'displayName': 'When the co-receptor sortilin is present at the cell surface...'; 'text': \"When the co-receptor sortilin is present at the cell surface; proNGF preferentially interacts with a p75NTR:sortilin complex. Thus; proNGF; which does not bind TRKA; discriminates between TRKA and p75NTR; in cells that express both receptors. The same is true for proBDNF. Pro-neurotrophin binding to p75NTR:sortilin activates an apoptotic cascade; which may be involved in cell death after injury; and in neurodegenerative diseases such as Alzheimer's dementia.\"; 'className': 'Summation'; 'schemaClass': 'Summation'}]                                                                                                                                                                                                                                                                                                                                                                                                                                                                                                                                                                                                                                                                                                                                                                                                                                                                                                                                                                                                                                                                                                                                                                                                                                                                                                                                                                                                                                                                                                                                                                                                                                                                                                                                                                                                                                                                                                                                                                                                                                                                                                                                                                                                                                                                                                                                                                                                                                                                                                                                                                                                                                                                                                                                                                                                                                                                                                                                                                                                                                                                                                                                                                                                                                                                                                                                                                                                                                                                                                                                                                                                                                                                                                                                                                                                                                          </td></tr>\n",
       "</tbody>\n",
       "</table>\n"
      ],
      "text/latex": [
       "A data.frame: 3 × 3\n",
       "\\begin{tabular}{lll}\n",
       " X & displayName & summation\\\\\n",
       " <chr> & <chr> & <chr>\\\\\n",
       "\\hline\n",
       "\t R-HSA-8866376 & Reelin signalling pathway                                 & {[}\\{'dbId': 8866383; 'displayName': 'Reelin (RELN) is an extracellular; multifunctional signal gl...'; 'text': \"Reelin (RELN) is an extracellular; multifunctional signal glycoprotein that controls not only the positioning of neurons in the developing brain; but also their growth; maturation; and synaptic activity in the adult brain (Stranahan et al. 2013). Abnormal Reelin expression in the brain is implicated in a number of neuropsychiatric disorders including autism; schizophrenia; bipolar disorder and Alzheimer's disease (Folsom \\& Fatemi  2013).\"; 'className': 'Summation'; 'schemaClass': 'Summation'\\}{]}                                                                                                                                                                                                                                                                                                                                                                                                                                                                                                                                                                                                                                                                                                                                                                                                                                                                                                                                                                                                                                                                                                                                                                                                                                                                                                                                                                                                                                                                                                                                                                                                                                                                                                                                                                                                                                                                                                                                                                                                                                                                                                                                                                                                                                                                                                                                                                                                                                                                                                                                                                                                                                                                                                                                                                                                                                                                                                                                                                                                                                                                                                                                                                                                                                                                                                                                                                                                                                                                                                                                                                                                                                                                                                                                                                                                                                                              \\\\\n",
       "\t R-HSA-9018678 & Biosynthesis of specialized proresolving mediators (SPMs) & {[}\\{'dbId': 9018730; 'displayName': 'A host’s normal protective response to tissue injury or path...'; 'text': 'A host’s normal protective response to tissue injury or pathogenic infection is acute inflammation. The condition of acute inflammation is created by the release of pro-inflammatory lipid mediators such as leukotrienes (LTs) and prostaglandins (PGs) that launch a series of signaling cascades to destroy invading pathogens and to repair damaged tissue (Libby 2007). The potent chemotactic agent leukotriene B4 (LTB4) promotes the recruitment of neutrophils (PMNs) to inflamed tissues; while the prostaglandins E2 and D2 (PGE2 and PGD2) further accelerate the inflammatory process. If left unchecked; the inflammatory response can initiate chronic systemic inflammatory disorders associated with cardiovascular disease; rheumatoid arthritis; periodontal disease; asthma; diabetes; inflammatory bowel disease (IBD); Alzheimer’s disease and age-related macular degeneration (AMD). The specific role by which inflammation contributes to their pathogenesis is not fully understood.<br><br>To prevent the onset of chronic inflammation; a <i>lipid mediator class switch</i> is thought to occur from the initial actions of pro-inflammatory lipid mediators to the anti-inflammatory and pro-resolving actions of lipoxins; resolvins; protectins and maresins (collectively called specialized proresolving mediators (SPMs)). Nanopicogram quantities of different lipid mediators are generated at different times during the evolution of the inflammatory response and these mediators coincide with distinct cellular events. The class switch activates leukocyte translational regulation of the enzymes required to produce pro-resolving lipid mediators (Levy et al. 2001). Each family of these PSMs exert specialized actions; including blocking neutrophil recruitment; promoting the recruitment and activation of monocytes; as well as mediating the nonphlogistic phagocytosis and lymphatic clearance of apoptotic neutrophils by activated macrophages (ie without inducing inflammation) and mediating tissue regeneration. Eventually; through the combined actions of these mediators; the resolution of inflammation is completed and homeostasis is reached (Serhan 2010; Bannenberg \\& Serhan 2010; Freire \\& Van Dyke 2013; Serhan et al. 2014).<br><br>SPMs are derived from polyunsaturated fatty acids (PUFAs) (Molfino et al. 2017). PUFAs of the ω-3 series are essential nutrients since they cannot be produced by humans (Duvall \\& Levy 2016) and are primarily found in dietary fish oils (Calder 2013) and in plants (Baker et al. 2016). The ω-3 PUFAs eicosapentaenoic acid (EPA); docosahexaenoic acid (DHA) and docosapentaenoic acid (DPAn-3) circulate in the bloodstream after dietary intake and are easily incorporated into cellular membranes in a time- and dose-dependent manner (Calder 2009); as well as being present in inflammatory exudates (Kasuga et al. 2008). They can be mobilised by phospholipase A2 from cellular membranes on injury or infection when they are converted to exudate SPMs (Serhan et al. 2002) to interact with local immune cells (Kasuga et al. 2008). EPA is the source for E-series resolvins while DHA is the source for D-series resolvins; protectins; maresins and sulfido conjugates in tissue regeneration mediators (Serhan et al. 2017). The ω-6 fatty acid arachidonic acid (AA) is the source for lipoxins. ω-3 or ω-6 PUFA docosapentaenoic acids (DPAn-3 and DPAn-6) are the sources of DPA-derived resolvins; protectins and maresins (Vik et al. 2017). Aspirin can also trigger the production of epimeric SPMs via acetylated PTGS2 (prostaglandin G/H synthase; COX2) (Serhan \\& Chiang 2002). Combinations of oxidation; reduction and hydrolysis can generate numerous SPMs. Electrophilic oxo-derivatives of ω-3 PUFAs are a class of oxidised derivatives that are generated in macrophages and neutrophils by the actions of 5-lipoxygenase; cyclooxygenase-2 and acetylated cyclooxygenase-2; followed by dehydrogenation. Being electrophilic; oxo-derivative SPMs reversibly bind to nucleophilic residues on target proteins; triggering the activation of cytoprotective pathways (Cipollina 2015). The pathways in this section describe the biosynthesis of these SPMs.'; 'className': 'Summation'; 'schemaClass': 'Summation'\\}{]}\\\\\n",
       "\t R-HSA-205017  & NFG and proNGF binds to p75NTR                            & {[}\\{'dbId': 204945; 'displayName': 'When the co-receptor sortilin is present at the cell surface...'; 'text': \"When the co-receptor sortilin is present at the cell surface; proNGF preferentially interacts with a p75NTR:sortilin complex. Thus; proNGF; which does not bind TRKA; discriminates between TRKA and p75NTR; in cells that express both receptors. The same is true for proBDNF. Pro-neurotrophin binding to p75NTR:sortilin activates an apoptotic cascade; which may be involved in cell death after injury; and in neurodegenerative diseases such as Alzheimer's dementia.\"; 'className': 'Summation'; 'schemaClass': 'Summation'\\}{]}                                                                                                                                                                                                                                                                                                                                                                                                                                                                                                                                                                                                                                                                                                                                                                                                                                                                                                                                                                                                                                                                                                                                                                                                                                                                                                                                                                                                                                                                                                                                                                                                                                                                                                                                                                                                                                                                                                                                                                                                                                                                                                                                                                                                                                                                                                                                                                                                                                                                                                                                                                                                                                                                                                                                                                                                                                                                                                                                                                                                                                                                                                                                                                                                                                                                                                                                                                                                                                                                                                                                                                                                                                                                                                                                                                                                                                          \\\\\n",
       "\\end{tabular}\n"
      ],
      "text/markdown": [
       "\n",
       "A data.frame: 3 × 3\n",
       "\n",
       "| X &lt;chr&gt; | displayName &lt;chr&gt; | summation &lt;chr&gt; |\n",
       "|---|---|---|\n",
       "| R-HSA-8866376 | Reelin signalling pathway                                 | [{'dbId': 8866383; 'displayName': 'Reelin (RELN) is an extracellular; multifunctional signal gl...'; 'text': \"Reelin (RELN) is an extracellular; multifunctional signal glycoprotein that controls not only the positioning of neurons in the developing brain; but also their growth; maturation; and synaptic activity in the adult brain (Stranahan et al. 2013). Abnormal Reelin expression in the brain is implicated in a number of neuropsychiatric disorders including autism; schizophrenia; bipolar disorder and Alzheimer's disease (Folsom &amp; Fatemi  2013).\"; 'className': 'Summation'; 'schemaClass': 'Summation'}]                                                                                                                                                                                                                                                                                                                                                                                                                                                                                                                                                                                                                                                                                                                                                                                                                                                                                                                                                                                                                                                                                                                                                                                                                                                                                                                                                                                                                                                                                                                                                                                                                                                                                                                                                                                                                                                                                                                                                                                                                                                                                                                                                                                                                                                                                                                                                                                                                                                                                                                                                                                                                                                                                                                                                                                                                                                                                                                                                                                                                                                                                                                                                                                                                                                                                                                                                                                                                                                                                                                                                                                                                                                                                                                                                                                                                                                               |\n",
       "| R-HSA-9018678 | Biosynthesis of specialized proresolving mediators (SPMs) | [{'dbId': 9018730; 'displayName': 'A host’s normal protective response to tissue injury or path...'; 'text': 'A host’s normal protective response to tissue injury or pathogenic infection is acute inflammation. The condition of acute inflammation is created by the release of pro-inflammatory lipid mediators such as leukotrienes (LTs) and prostaglandins (PGs) that launch a series of signaling cascades to destroy invading pathogens and to repair damaged tissue (Libby 2007). The potent chemotactic agent leukotriene B4 (LTB4) promotes the recruitment of neutrophils (PMNs) to inflamed tissues; while the prostaglandins E2 and D2 (PGE2 and PGD2) further accelerate the inflammatory process. If left unchecked; the inflammatory response can initiate chronic systemic inflammatory disorders associated with cardiovascular disease; rheumatoid arthritis; periodontal disease; asthma; diabetes; inflammatory bowel disease (IBD); Alzheimer’s disease and age-related macular degeneration (AMD). The specific role by which inflammation contributes to their pathogenesis is not fully understood.&lt;br&gt;&lt;br&gt;To prevent the onset of chronic inflammation; a &lt;i&gt;lipid mediator class switch&lt;/i&gt; is thought to occur from the initial actions of pro-inflammatory lipid mediators to the anti-inflammatory and pro-resolving actions of lipoxins; resolvins; protectins and maresins (collectively called specialized proresolving mediators (SPMs)). Nanopicogram quantities of different lipid mediators are generated at different times during the evolution of the inflammatory response and these mediators coincide with distinct cellular events. The class switch activates leukocyte translational regulation of the enzymes required to produce pro-resolving lipid mediators (Levy et al. 2001). Each family of these PSMs exert specialized actions; including blocking neutrophil recruitment; promoting the recruitment and activation of monocytes; as well as mediating the nonphlogistic phagocytosis and lymphatic clearance of apoptotic neutrophils by activated macrophages (ie without inducing inflammation) and mediating tissue regeneration. Eventually; through the combined actions of these mediators; the resolution of inflammation is completed and homeostasis is reached (Serhan 2010; Bannenberg &amp; Serhan 2010; Freire &amp; Van Dyke 2013; Serhan et al. 2014).&lt;br&gt;&lt;br&gt;SPMs are derived from polyunsaturated fatty acids (PUFAs) (Molfino et al. 2017). PUFAs of the ω-3 series are essential nutrients since they cannot be produced by humans (Duvall &amp; Levy 2016) and are primarily found in dietary fish oils (Calder 2013) and in plants (Baker et al. 2016). The ω-3 PUFAs eicosapentaenoic acid (EPA); docosahexaenoic acid (DHA) and docosapentaenoic acid (DPAn-3) circulate in the bloodstream after dietary intake and are easily incorporated into cellular membranes in a time- and dose-dependent manner (Calder 2009); as well as being present in inflammatory exudates (Kasuga et al. 2008). They can be mobilised by phospholipase A2 from cellular membranes on injury or infection when they are converted to exudate SPMs (Serhan et al. 2002) to interact with local immune cells (Kasuga et al. 2008). EPA is the source for E-series resolvins while DHA is the source for D-series resolvins; protectins; maresins and sulfido conjugates in tissue regeneration mediators (Serhan et al. 2017). The ω-6 fatty acid arachidonic acid (AA) is the source for lipoxins. ω-3 or ω-6 PUFA docosapentaenoic acids (DPAn-3 and DPAn-6) are the sources of DPA-derived resolvins; protectins and maresins (Vik et al. 2017). Aspirin can also trigger the production of epimeric SPMs via acetylated PTGS2 (prostaglandin G/H synthase; COX2) (Serhan &amp; Chiang 2002). Combinations of oxidation; reduction and hydrolysis can generate numerous SPMs. Electrophilic oxo-derivatives of ω-3 PUFAs are a class of oxidised derivatives that are generated in macrophages and neutrophils by the actions of 5-lipoxygenase; cyclooxygenase-2 and acetylated cyclooxygenase-2; followed by dehydrogenation. Being electrophilic; oxo-derivative SPMs reversibly bind to nucleophilic residues on target proteins; triggering the activation of cytoprotective pathways (Cipollina 2015). The pathways in this section describe the biosynthesis of these SPMs.'; 'className': 'Summation'; 'schemaClass': 'Summation'}] |\n",
       "| R-HSA-205017  | NFG and proNGF binds to p75NTR                            | [{'dbId': 204945; 'displayName': 'When the co-receptor sortilin is present at the cell surface...'; 'text': \"When the co-receptor sortilin is present at the cell surface; proNGF preferentially interacts with a p75NTR:sortilin complex. Thus; proNGF; which does not bind TRKA; discriminates between TRKA and p75NTR; in cells that express both receptors. The same is true for proBDNF. Pro-neurotrophin binding to p75NTR:sortilin activates an apoptotic cascade; which may be involved in cell death after injury; and in neurodegenerative diseases such as Alzheimer's dementia.\"; 'className': 'Summation'; 'schemaClass': 'Summation'}]                                                                                                                                                                                                                                                                                                                                                                                                                                                                                                                                                                                                                                                                                                                                                                                                                                                                                                                                                                                                                                                                                                                                                                                                                                                                                                                                                                                                                                                                                                                                                                                                                                                                                                                                                                                                                                                                                                                                                                                                                                                                                                                                                                                                                                                                                                                                                                                                                                                                                                                                                                                                                                                                                                                                                                                                                                                                                                                                                                                                                                                                                                                                                                                                                                                                                                                                                                                                                                                                                                                                                                                                                                                                                                                                                                                                                                           |\n",
       "\n"
      ],
      "text/plain": [
       "  X             displayName                                              \n",
       "1 R-HSA-8866376 Reelin signalling pathway                                \n",
       "2 R-HSA-9018678 Biosynthesis of specialized proresolving mediators (SPMs)\n",
       "3 R-HSA-205017  NFG and proNGF binds to p75NTR                           \n",
       "  summation                                                                                                                                                                                                                                                                                                                                                                                                                                                                                                                                                                                                                                                                                                                                                                                                                                                                                                                                                                                                                                                                                                                                                                                                                                                                                                                                                                                                                                                                                                                                                                                                                                                                                                                                                                                                                                                                                                                                                                                                                                                                                                                                                                                                                                                                                                                                                                                                                                                                                                                                                                                                                                                                                                                                                                                                                                                                                                                                                                                                                                                                                                                                                                                                                                                                                                                                                                                                                                                                                                                                                                                                                                                                                                                                                                                                                                                                                                                                                                                                                                                                                                                                                                                                                                                                                                                                                                                                                                                                                     \n",
       "1 [{'dbId': 8866383; 'displayName': 'Reelin (RELN) is an extracellular; multifunctional signal gl...'; 'text': \"Reelin (RELN) is an extracellular; multifunctional signal glycoprotein that controls not only the positioning of neurons in the developing brain; but also their growth; maturation; and synaptic activity in the adult brain (Stranahan et al. 2013). Abnormal Reelin expression in the brain is implicated in a number of neuropsychiatric disorders including autism; schizophrenia; bipolar disorder and Alzheimer's disease (Folsom & Fatemi  2013).\"; 'className': 'Summation'; 'schemaClass': 'Summation'}]                                                                                                                                                                                                                                                                                                                                                                                                                                                                                                                                                                                                                                                                                                                                                                                                                                                                                                                                                                                                                                                                                                                                                                                                                                                                                                                                                                                                                                                                                                                                                                                                                                                                                                                                                                                                                                                                                                                                                                                                                                                                                                                                                                                                                                                                                                                                                                                                                                                                                                                                                                                                                                                                                                                                                                                                                                                                                                                                                                                                                                                                                                                                                                                                                                                                                                                                                                                                                                                                                                                                                                                                                                                                                                                                                                                                                                                              \n",
       "2 [{'dbId': 9018730; 'displayName': 'A host’s normal protective response to tissue injury or path...'; 'text': 'A host’s normal protective response to tissue injury or pathogenic infection is acute inflammation. The condition of acute inflammation is created by the release of pro-inflammatory lipid mediators such as leukotrienes (LTs) and prostaglandins (PGs) that launch a series of signaling cascades to destroy invading pathogens and to repair damaged tissue (Libby 2007). The potent chemotactic agent leukotriene B4 (LTB4) promotes the recruitment of neutrophils (PMNs) to inflamed tissues; while the prostaglandins E2 and D2 (PGE2 and PGD2) further accelerate the inflammatory process. If left unchecked; the inflammatory response can initiate chronic systemic inflammatory disorders associated with cardiovascular disease; rheumatoid arthritis; periodontal disease; asthma; diabetes; inflammatory bowel disease (IBD); Alzheimer’s disease and age-related macular degeneration (AMD). The specific role by which inflammation contributes to their pathogenesis is not fully understood.<br><br>To prevent the onset of chronic inflammation; a <i>lipid mediator class switch</i> is thought to occur from the initial actions of pro-inflammatory lipid mediators to the anti-inflammatory and pro-resolving actions of lipoxins; resolvins; protectins and maresins (collectively called specialized proresolving mediators (SPMs)). Nanopicogram quantities of different lipid mediators are generated at different times during the evolution of the inflammatory response and these mediators coincide with distinct cellular events. The class switch activates leukocyte translational regulation of the enzymes required to produce pro-resolving lipid mediators (Levy et al. 2001). Each family of these PSMs exert specialized actions; including blocking neutrophil recruitment; promoting the recruitment and activation of monocytes; as well as mediating the nonphlogistic phagocytosis and lymphatic clearance of apoptotic neutrophils by activated macrophages (ie without inducing inflammation) and mediating tissue regeneration. Eventually; through the combined actions of these mediators; the resolution of inflammation is completed and homeostasis is reached (Serhan 2010; Bannenberg & Serhan 2010; Freire & Van Dyke 2013; Serhan et al. 2014).<br><br>SPMs are derived from polyunsaturated fatty acids (PUFAs) (Molfino et al. 2017). PUFAs of the ω-3 series are essential nutrients since they cannot be produced by humans (Duvall & Levy 2016) and are primarily found in dietary fish oils (Calder 2013) and in plants (Baker et al. 2016). The ω-3 PUFAs eicosapentaenoic acid (EPA); docosahexaenoic acid (DHA) and docosapentaenoic acid (DPAn-3) circulate in the bloodstream after dietary intake and are easily incorporated into cellular membranes in a time- and dose-dependent manner (Calder 2009); as well as being present in inflammatory exudates (Kasuga et al. 2008). They can be mobilised by phospholipase A2 from cellular membranes on injury or infection when they are converted to exudate SPMs (Serhan et al. 2002) to interact with local immune cells (Kasuga et al. 2008). EPA is the source for E-series resolvins while DHA is the source for D-series resolvins; protectins; maresins and sulfido conjugates in tissue regeneration mediators (Serhan et al. 2017). The ω-6 fatty acid arachidonic acid (AA) is the source for lipoxins. ω-3 or ω-6 PUFA docosapentaenoic acids (DPAn-3 and DPAn-6) are the sources of DPA-derived resolvins; protectins and maresins (Vik et al. 2017). Aspirin can also trigger the production of epimeric SPMs via acetylated PTGS2 (prostaglandin G/H synthase; COX2) (Serhan & Chiang 2002). Combinations of oxidation; reduction and hydrolysis can generate numerous SPMs. Electrophilic oxo-derivatives of ω-3 PUFAs are a class of oxidised derivatives that are generated in macrophages and neutrophils by the actions of 5-lipoxygenase; cyclooxygenase-2 and acetylated cyclooxygenase-2; followed by dehydrogenation. Being electrophilic; oxo-derivative SPMs reversibly bind to nucleophilic residues on target proteins; triggering the activation of cytoprotective pathways (Cipollina 2015). The pathways in this section describe the biosynthesis of these SPMs.'; 'className': 'Summation'; 'schemaClass': 'Summation'}]\n",
       "3 [{'dbId': 204945; 'displayName': 'When the co-receptor sortilin is present at the cell surface...'; 'text': \"When the co-receptor sortilin is present at the cell surface; proNGF preferentially interacts with a p75NTR:sortilin complex. Thus; proNGF; which does not bind TRKA; discriminates between TRKA and p75NTR; in cells that express both receptors. The same is true for proBDNF. Pro-neurotrophin binding to p75NTR:sortilin activates an apoptotic cascade; which may be involved in cell death after injury; and in neurodegenerative diseases such as Alzheimer's dementia.\"; 'className': 'Summation'; 'schemaClass': 'Summation'}]                                                                                                                                                                                                                                                                                                                                                                                                                                                                                                                                                                                                                                                                                                                                                                                                                                                                                                                                                                                                                                                                                                                                                                                                                                                                                                                                                                                                                                                                                                                                                                                                                                                                                                                                                                                                                                                                                                                                                                                                                                                                                                                                                                                                                                                                                                                                                                                                                                                                                                                                                                                                                                                                                                                                                                                                                                                                                                                                                                                                                                                                                                                                                                                                                                                                                                                                                                                                                                                                                                                                                                                                                                                                                                                                                                                                                                          "
      ]
     },
     "metadata": {},
     "output_type": "display_data"
    }
   ],
   "source": [
    "nrow(avg_pathway_msbb_download)\n",
    "avg_pathway_msbb_download_ad_summation = avg_pathway_msbb_download %>%\n",
    "filter(grepl('Alzheimer', summation, ignore.case = TRUE))\n",
    "nrow(avg_pathway_msbb_download_ad_summation)\n",
    "avg_pathway_msbb_download_ad_summation %>%\n",
    "select(X, displayName, summation)"
   ]
  },
  {
   "cell_type": "code",
   "execution_count": 212,
   "id": "54affb2d-8750-4554-8fee-cadab419eb26",
   "metadata": {},
   "outputs": [
    {
     "data": {
      "text/html": [
       "239"
      ],
      "text/latex": [
       "239"
      ],
      "text/markdown": [
       "239"
      ],
      "text/plain": [
       "[1] 239"
      ]
     },
     "metadata": {},
     "output_type": "display_data"
    },
    {
     "data": {
      "text/html": [
       "3"
      ],
      "text/latex": [
       "3"
      ],
      "text/markdown": [
       "3"
      ],
      "text/plain": [
       "[1] 3"
      ]
     },
     "metadata": {},
     "output_type": "display_data"
    },
    {
     "data": {
      "text/html": [
       "<table class=\"dataframe\">\n",
       "<caption>A data.frame: 3 × 2</caption>\n",
       "<thead>\n",
       "\t<tr><th scope=col>X</th><th scope=col>displayName</th></tr>\n",
       "\t<tr><th scope=col>&lt;chr&gt;</th><th scope=col>&lt;chr&gt;</th></tr>\n",
       "</thead>\n",
       "<tbody>\n",
       "\t<tr><td>R-HSA-9018678</td><td>Biosynthesis of specialized proresolving mediators (SPMs)</td></tr>\n",
       "\t<tr><td>R-HSA-8866376</td><td>Reelin signalling pathway                                </td></tr>\n",
       "\t<tr><td>R-HSA-205017 </td><td>NFG and proNGF binds to p75NTR                           </td></tr>\n",
       "</tbody>\n",
       "</table>\n"
      ],
      "text/latex": [
       "A data.frame: 3 × 2\n",
       "\\begin{tabular}{ll}\n",
       " X & displayName\\\\\n",
       " <chr> & <chr>\\\\\n",
       "\\hline\n",
       "\t R-HSA-9018678 & Biosynthesis of specialized proresolving mediators (SPMs)\\\\\n",
       "\t R-HSA-8866376 & Reelin signalling pathway                                \\\\\n",
       "\t R-HSA-205017  & NFG and proNGF binds to p75NTR                           \\\\\n",
       "\\end{tabular}\n"
      ],
      "text/markdown": [
       "\n",
       "A data.frame: 3 × 2\n",
       "\n",
       "| X &lt;chr&gt; | displayName &lt;chr&gt; |\n",
       "|---|---|\n",
       "| R-HSA-9018678 | Biosynthesis of specialized proresolving mediators (SPMs) |\n",
       "| R-HSA-8866376 | Reelin signalling pathway                                 |\n",
       "| R-HSA-205017  | NFG and proNGF binds to p75NTR                            |\n",
       "\n"
      ],
      "text/plain": [
       "  X             displayName                                              \n",
       "1 R-HSA-9018678 Biosynthesis of specialized proresolving mediators (SPMs)\n",
       "2 R-HSA-8866376 Reelin signalling pathway                                \n",
       "3 R-HSA-205017  NFG and proNGF binds to p75NTR                           "
      ]
     },
     "metadata": {},
     "output_type": "display_data"
    }
   ],
   "source": [
    "nrow(avg_gene_msbb_download)\n",
    "avg_gene_msbb_download_ad_summation = avg_gene_msbb_download %>%\n",
    "filter(grepl('Alzheimer', summation, ignore.case = TRUE))\n",
    "nrow(avg_gene_msbb_download_ad_summation)\n",
    "avg_gene_msbb_download_ad_summation %>%\n",
    "select(X, displayName)"
   ]
  },
  {
   "cell_type": "markdown",
   "id": "f172831e-a3fa-4aba-89ab-990674a4c0c7",
   "metadata": {
    "jp-MarkdownHeadingCollapsed": true
   },
   "source": [
    "# look at pathway names"
   ]
  },
  {
   "cell_type": "code",
   "execution_count": 200,
   "id": "7bf1750d-727a-4424-803d-3488bf4cd02a",
   "metadata": {},
   "outputs": [
    {
     "data": {
      "text/html": [
       "<style>\n",
       ".list-inline {list-style: none; margin:0; padding: 0}\n",
       ".list-inline>li {display: inline-block}\n",
       ".list-inline>li:not(:last-child)::after {content: \"\\00b7\"; padding: 0 .5ex}\n",
       "</style>\n",
       "<ol class=list-inline><li>'Glycogen storage disease type 0 (liver GYS2)'</li><li>'FASTK family proteins regulate processing and stability of mitochondrial RNAs'</li><li>'Defective ALG9 causes CDG-1l'</li><li>'PI and PC transport between ER and Golgi membranes'</li><li>'Defective DPAGT1 causes CDG-1j; CMSTA2'</li><li>'AKT phosphorylates targets in the cytosol'</li><li>'Defective SLC2A1 causes GLUT1 deficiency syndrome 1 (GLUT1DS1)'</li><li>'SARS-CoV-2 modulates autophagy'</li><li>'Apoptosis induced DNA fragmentation'</li><li>'Drug-mediated inhibition of ERBB2 signaling'</li><li>'Reuptake of GABA'</li><li>'Activation of RAC1 downstream of NMDARs'</li><li>'Defective factor IX causes hemophilia B'</li><li>'APOBEC3G mediated resistance to HIV-1 infection'</li><li>'Nonhomologous End-Joining (NHEJ)'</li><li>'Defective SLC4A4 causes renal tubular acidosis; proximal; with ocular abnormalities and mental retardation (pRTA-OA)'</li><li>'Defective SLC17A8 causes autosomal dominant deafness 25 (DFNA25)'</li><li>'Strand-asynchronous mitochondrial DNA replication'</li><li>'Creatine metabolism'</li><li>'Plasma lipoprotein assembly'</li><li>'The AIM2 inflammasome'</li><li>'Interleukin-18 signaling'</li><li>'Noncanonical activation of NOTCH3'</li><li>'NFE2L2 regulating inflammation associated genes'</li><li>'Regulated proteolysis of p75NTR'</li><li>'HDL assembly'</li><li>'TNF receptor superfamily (TNFSF) members mediating non-canonical NF-kB pathway'</li><li>'Condensation of Prometaphase Chromosomes'</li><li>'Beta oxidation of decanoyl-CoA to octanoyl-CoA-CoA'</li><li>'Defective factor IX causes thrombophilia'</li><li>'Toxicity of botulinum toxin type E (botE)'</li><li>'RUNX3 Regulates Immune Response and Cell Migration'</li><li>'ERCC6 (CSB) and EHMT2 (G9a) positively regulate rRNA expression'</li><li>'Attachment of GPI anchor to uPAR'</li><li>'Serine metabolism'</li><li>'Uncoating of the HIV Virion'</li><li>'NR1H2 &amp; NR1H3 regulate gene expression linked to lipogenesis'</li><li>'FBXW7 Mutants and NOTCH1 in Cancer'</li><li>'Mitotic Metaphase/Anaphase Transition'</li><li>'Vitamin B1 (thiamin) metabolism'</li><li>'Defective CD320 causes MMATC'</li><li>'Zinc efflux and compartmentalization by the SLC30 family'</li><li>'Class I peroxisomal membrane protein import'</li><li>'MASTL Facilitates Mitotic Progression'</li><li>'Resistance of ERBB2 KD mutants to sapitinib'</li><li>'Lectin pathway of complement activation'</li><li>'CDH11 homotypic and heterotypic interactions'</li><li>'DNA Damage Recognition in GG-NER'</li><li>'SUMOylation of transcription factors'</li><li>'p38MAPK events'</li><li>'Phenylalanine metabolism'</li><li>'Protein lipoylation'</li><li>'Suppression of phagosomal maturation'</li><li>'MGMT-mediated DNA damage reversal'</li><li>'RNA Pol II CTD phosphorylation and interaction with CE during HIV infection'</li><li>'RHO GTPases regulate CFTR trafficking'</li><li>'RHOBTB1 GTPase cycle'</li><li>'Tetrahydrobiopterin (BH4) synthesis; recycling; salvage and regulation'</li><li>'GDP-fucose biosynthesis'</li><li><span style=white-space:pre-wrap>'TRAIL  signaling'</span></li><li>'Cholesterol biosynthesis'</li><li>'mRNA Capping'</li><li>'Aspartate and asparagine metabolism'</li><li>'NGF-stimulated transcription'</li><li>'Tryptophan catabolism'</li><li>'Loss of MECP2 binding ability to the NCoR/SMRT complex'</li><li>'Prednisone ADME'</li><li>'Mitochondrial protein import'</li><li>'Signalling to RAS'</li><li>'Defective C1GALT1C1 causes TNPS'</li><li>'HDR through MMEJ (alt-NHEJ)'</li><li>'Dissolution of Fibrin Clot'</li><li>'Late endosomal microautophagy'</li><li>'Synthesis of GDP-mannose'</li><li>'Drug resistance of ALK mutants'</li><li>'PLCG1 events in ERBB2 signaling'</li><li>'Phosphorylation of CD3 and TCR zeta chains'</li><li>'mRNA decay by 3\\' to 5\\' exoribonuclease'</li><li>'Recruitment and ATM-mediated phosphorylation of repair and signaling proteins at DNA double strand breaks'</li><li>'Phenylalanine and tyrosine metabolism'</li><li>'Activation of C3 and C5'</li><li>'Cytosolic iron-sulfur cluster assembly'</li><li>'Regulation of MITF-M-dependent genes involved in cell cycle and proliferation'</li><li>'Drug resistance in ERBB2 KD mutants'</li><li>'Budding and maturation of HIV virion'</li><li>'SARS-CoV-2 modulates host translation machinery'</li><li>'TP53 Regulates Transcription of Death Receptors and Ligands'</li><li>'Transport of organic anions'</li><li>'Defective SLC1A3 causes episodic ataxia 6 (EA6)'</li><li>'POU5F1 (OCT4); SOX2; NANOG activate genes related to proliferation'</li><li>'FGFRL1 modulation of FGFR1 signaling'</li><li>'Triglyceride biosynthesis'</li><li>'Regulation of gene expression in beta cells'</li><li>'Pyrimidine catabolism'</li><li>'Type I hemidesmosome assembly'</li><li>'Transport of RCbl within the body'</li><li>'SUMOylation of DNA methylation proteins'</li><li>'Chondroitin sulfate biosynthesis'</li><li>'G beta:gamma signalling through PI3Kgamma'</li><li>'SUMOylation of intracellular receptors'</li><li>'ADP signalling through P2Y purinoceptor 12'</li><li>'Cristae formation'</li><li>'Zinc transporters'</li><li>'Regulation of commissural axon pathfinding by SLIT and ROBO'</li><li>'Invadopodia formation'</li><li>'Reversal of alkylation damage by DNA dioxygenases'</li><li>'Response of EIF2AK1 (HRI) to heme deficiency'</li><li>'Aggrephagy'</li><li>'LGI-ADAM interactions'</li><li>'Immunoregulatory interactions between a Lymphoid and a non-Lymphoid cell'</li><li>'RUNX2 regulates genes involved in cell migration'</li><li>'The activation of arylsulfatases'</li><li>'Erythrocytes take up carbon dioxide and release oxygen'</li><li>'Glycosphingolipid biosynthesis'</li><li>'Nuclear Events (kinase and transcription factor activation)'</li><li>'Mitochondrial tRNA aminoacylation'</li><li>'Hedgehog ligand biogenesis'</li><li>'Signaling by Overexpressed Wild-Type EGFR in Cancer'</li><li>'Activation of GABAB receptors'</li><li>'Regulation of Insulin-like Growth Factor (IGF) transport and uptake by Insulin-like Growth Factor Binding Proteins (IGFBPs)'</li><li>'Deadenylation-dependent mRNA decay'</li><li>'Metabolism of water-soluble vitamins and cofactors'</li><li>'Cell-extracellular matrix interactions'</li><li>'RUNX1 and FOXP3 control the development of regulatory T lymphocytes (Tregs)'</li><li>'Transcriptional regulation of testis differentiation'</li><li>'Neutrophil degranulation'</li><li>'BMAL1:CLOCK;NPAS2 activates circadian expression'</li><li>'Formation of axial mesoderm'</li><li>'RNA Pol II CTD phosphorylation and interaction with CE'</li><li>'RUNX1 regulates transcription of genes involved in differentiation of myeloid cells'</li><li>'Phase 3 - rapid repolarisation'</li><li>'RUNX3 regulates p14-ARF'</li><li>'Netrin mediated repulsion signals'</li><li>'Regulation of RUNX2 expression and activity'</li><li>'WNT5A-dependent internalization of FZD2; FZD5 and ROR2'</li><li>'Resolution of D-Loop Structures'</li><li>'Chylomicron clearance'</li><li>'TGFBR3 PTM regulation'</li><li>'Crosslinking of collagen fibrils'</li><li>'Acetylcholine Neurotransmitter Release Cycle'</li><li>'Amino acid transport across the plasma membrane'</li><li>'Estrogen-dependent gene expression'</li><li>'Glycerophospholipid biosynthesis'</li><li>'PINK1-PRKN Mediated Mitophagy'</li><li>'Sodium/Calcium exchangers'</li><li>'Reelin signalling pathway'</li><li>'Signaling by WNT'</li><li>'EGFR interacts with phospholipase C-gamma'</li><li>'Interconversion of nucleotide di- and triphosphates'</li><li>'Signaling by cytosolic FGFR1 fusion mutants'</li><li>'CRMPs in Sema3A signaling'</li><li>'Regulation of MECP2 expression and activity'</li><li>'Synthesis of PIPs at the late endosome membrane'</li><li>'DNA strand elongation'</li><li>'Sodium/Proton exchangers'</li><li>'RAS processing'</li><li>'Cytokine Signaling in Immune system'</li><li>'Hedgehog \\'on\\' state'</li><li>'Signal transduction by L1'</li><li>'GPVI-mediated activation cascade'</li><li>'Bile acid and bile salt metabolism'</li><li>'Diseases of the neuronal system'</li><li>'VLDL clearance'</li><li>'RNA Polymerase I Promoter Clearance'</li><li>'Nucleotide catabolism'</li><li>'Transcriptional regulation of brown and beige adipocyte differentiation'</li><li>'Urea cycle'</li><li>'Aflatoxin activation and detoxification'</li><li>'Assembly of active LPL and LIPC lipase complexes'</li><li>'Activation of the TFAP2 (AP-2) family of transcription factors'</li><li>'TGF-beta receptor signaling in EMT (epithelial to mesenchymal transition)'</li><li>'Negative regulation of FLT3'</li><li>'Nicotinamide salvage'</li><li>'Signaling by Hippo'</li><li>'RHOV GTPase cycle'</li><li>'Glucagon-type ligand receptors'</li><li>'Biosynthesis of specialized proresolving mediators (SPMs)'</li><li>'TP53 Regulates Transcription of Cell Cycle Genes'</li><li>'VLDLR internalisation and degradation'</li><li>'Cellular hexose transport'</li><li>'Voltage gated Potassium channels'</li><li>'Nucleotide Excision Repair'</li><li>'Formation of WDR5-containing histone-modifying complexes'</li><li>'Synthesis of IP3 and IP4 in the cytosol'</li><li>'Receptor-type tyrosine-protein phosphatases'</li><li>'CDC42 GTPase cycle'</li><li>'RHO GTPases Activate WASPs and WAVEs'</li><li>'Growth hormone receptor signaling'</li><li>'Thrombin signalling through proteinase activated receptors (PARs)'</li><li>'PKMTs methylate histone lysines'</li><li>'Germ layer formation at gastrulation'</li><li>'rRNA modification in the nucleus and cytosol'</li><li>'Platelet Adhesion to exposed collagen'</li><li>'Translation of Structural Proteins_9694635'</li><li>'Caspase-mediated cleavage of cytoskeletal proteins'</li><li>'TNFs bind their physiological receptors'</li><li>'TP53 Regulates Metabolic Genes'</li><li>'Hemostasis'</li><li>'Regulation of FZD by ubiquitination'</li><li>'Striated Muscle Contraction'</li><li>'Deactivation of the beta-catenin transactivating complex'</li><li>'Regulation of Complement cascade'</li><li>'Metabolism of RNA'</li><li>'RIPK1-mediated regulated necrosis'</li><li>'Interleukin-12 family signaling'</li><li>'TP53 Regulates Transcription of Genes Involved in Cytochrome C Release'</li><li>'High laminar flow shear stress activates signaling by PIEZO1 and PECAM1:CDH5:KDR in endothelial cells'</li><li>'Phosphorylation of CLOCK; acetylation of BMAL1 (ARNTL) at target gene promoters'</li><li>'SUMOylation of DNA replication proteins'</li><li>'RHOB GTPase cycle'</li><li>'Asymmetric localization of PCP proteins'</li><li>'Epigenetic regulation by WDR5-containing histone modifying complexes'</li><li>'Binding and Uptake of Ligands by Scavenger Receptors'</li><li>'Downregulation of ERBB2:ERBB3 signaling'</li><li>'Biological oxidations'</li><li>'DNA Repair'</li><li>'Nucleotide-binding domain; leucine rich repeat containing receptor (NLR) signaling pathways'</li><li>'Ionotropic activity of kainate receptors'</li><li>'G2/M DNA damage checkpoint'</li><li>'Hyaluronan biosynthesis and export'</li><li>'RUNX1 regulates transcription of genes involved in BCR signaling'</li><li>'O-linked glycosylation'</li><li>'Sensory processing of sound by outer hair cells of the cochlea'</li><li>'Mitochondrial calcium ion transport'</li><li>'Interleukin-2 signaling'</li><li>'HDMs demethylate histones'</li><li>'Blood group systems biosynthesis'</li><li>'RHOA GTPase cycle'</li><li>'AURKA Activation by TPX2'</li><li>'Defective GCLC causes HAGGSD'</li><li>'Regulation of endogenous retroelements by Piwi-interacting RNAs (piRNAs)'</li><li>'Platelet activation; signaling and aggregation'</li><li>'Mitochondrial Fatty Acid Beta-Oxidation'</li><li>'NFG and proNGF binds to p75NTR'</li><li>'Purinergic signaling in leishmaniasis infection'</li><li>'Respiratory Syncytial Virus Infection Pathway'</li><li>'Amine ligand-binding receptors'</li><li>'Turbulent (oscillatory; disturbed) flow shear stress activates signaling by PIEZO1 and integrins in endothelial cells'</li><li>'COPI-mediated anterograde transport'</li><li>'Integrin cell surface interactions'</li><li>'HATs acetylate histones'</li><li>'Release of Hh-Np from the secreting cell'</li><li>'Minus-strand DNA synthesis'</li><li>'GLI proteins bind promoters of Hh responsive genes to promote transcription'</li><li>'Synthesis of PIPs at the plasma membrane'</li><li>'Negative regulators of DDX58/IFIH1 signaling'</li><li>'Potassium Channels'</li><li>'Signalling to ERKs'</li><li>'Reverse Transcription of HIV RNA'</li><li>'Mitotic Spindle Checkpoint'</li><li>'Cellular responses to mechanical stimuli'</li><li>'Arachidonate metabolism'</li><li>'Interferon gamma signaling'</li><li>'Metabolism of steroid hormones'</li><li>'Transcriptional regulation of brown and beige adipocyte differentiation by EBF2'</li><li>'Synthesis of PA'</li><li>'Nucleotide-like (purinergic) receptors'</li><li>'Mitotic G2-G2/M phases'</li><li>'ROBO receptors bind AKAP5'</li><li>'BBSome-mediated cargo-targeting to cilium'</li><li>'Nephrin family interactions'</li><li>'Aryl hydrocarbon receptor signalling'</li><li>'G-protein beta:gamma signalling'</li><li>'Regulation of lipid metabolism by PPARalpha'</li><li>'Sulfur amino acid metabolism'</li><li>'Glycosphingolipid catabolism'</li><li>'Transcriptional regulation by the AP-2 (TFAP2) family of transcription factors'</li><li>'Regulation of necroptotic cell death'</li><li>'Signaling by NTRKs'</li><li>'Cell recruitment (pro-inflammatory response)'</li><li>'Synthesis of bile acids and bile salts'</li><li>'RHO GTPases activate PKNs'</li><li>'Paracetamol ADME'</li><li>'Interleukin-2 family signaling'</li><li>'Resistance of ERBB2 KD mutants to tesevatinib'</li><li>'Defective cofactor function of FVIIIa variant'</li><li>'Resistance of ERBB2 KD mutants to trastuzumab'</li><li>'Plus-strand DNA synthesis'</li><li>'Activation of Ca-permeable Kainate Receptor'</li><li>'Inhibition of Signaling by Overexpressed EGFR'</li></ol>\n"
      ],
      "text/latex": [
       "\\begin{enumerate*}\n",
       "\\item 'Glycogen storage disease type 0 (liver GYS2)'\n",
       "\\item 'FASTK family proteins regulate processing and stability of mitochondrial RNAs'\n",
       "\\item 'Defective ALG9 causes CDG-1l'\n",
       "\\item 'PI and PC transport between ER and Golgi membranes'\n",
       "\\item 'Defective DPAGT1 causes CDG-1j; CMSTA2'\n",
       "\\item 'AKT phosphorylates targets in the cytosol'\n",
       "\\item 'Defective SLC2A1 causes GLUT1 deficiency syndrome 1 (GLUT1DS1)'\n",
       "\\item 'SARS-CoV-2 modulates autophagy'\n",
       "\\item 'Apoptosis induced DNA fragmentation'\n",
       "\\item 'Drug-mediated inhibition of ERBB2 signaling'\n",
       "\\item 'Reuptake of GABA'\n",
       "\\item 'Activation of RAC1 downstream of NMDARs'\n",
       "\\item 'Defective factor IX causes hemophilia B'\n",
       "\\item 'APOBEC3G mediated resistance to HIV-1 infection'\n",
       "\\item 'Nonhomologous End-Joining (NHEJ)'\n",
       "\\item 'Defective SLC4A4 causes renal tubular acidosis; proximal; with ocular abnormalities and mental retardation (pRTA-OA)'\n",
       "\\item 'Defective SLC17A8 causes autosomal dominant deafness 25 (DFNA25)'\n",
       "\\item 'Strand-asynchronous mitochondrial DNA replication'\n",
       "\\item 'Creatine metabolism'\n",
       "\\item 'Plasma lipoprotein assembly'\n",
       "\\item 'The AIM2 inflammasome'\n",
       "\\item 'Interleukin-18 signaling'\n",
       "\\item 'Noncanonical activation of NOTCH3'\n",
       "\\item 'NFE2L2 regulating inflammation associated genes'\n",
       "\\item 'Regulated proteolysis of p75NTR'\n",
       "\\item 'HDL assembly'\n",
       "\\item 'TNF receptor superfamily (TNFSF) members mediating non-canonical NF-kB pathway'\n",
       "\\item 'Condensation of Prometaphase Chromosomes'\n",
       "\\item 'Beta oxidation of decanoyl-CoA to octanoyl-CoA-CoA'\n",
       "\\item 'Defective factor IX causes thrombophilia'\n",
       "\\item 'Toxicity of botulinum toxin type E (botE)'\n",
       "\\item 'RUNX3 Regulates Immune Response and Cell Migration'\n",
       "\\item 'ERCC6 (CSB) and EHMT2 (G9a) positively regulate rRNA expression'\n",
       "\\item 'Attachment of GPI anchor to uPAR'\n",
       "\\item 'Serine metabolism'\n",
       "\\item 'Uncoating of the HIV Virion'\n",
       "\\item 'NR1H2 \\& NR1H3 regulate gene expression linked to lipogenesis'\n",
       "\\item 'FBXW7 Mutants and NOTCH1 in Cancer'\n",
       "\\item 'Mitotic Metaphase/Anaphase Transition'\n",
       "\\item 'Vitamin B1 (thiamin) metabolism'\n",
       "\\item 'Defective CD320 causes MMATC'\n",
       "\\item 'Zinc efflux and compartmentalization by the SLC30 family'\n",
       "\\item 'Class I peroxisomal membrane protein import'\n",
       "\\item 'MASTL Facilitates Mitotic Progression'\n",
       "\\item 'Resistance of ERBB2 KD mutants to sapitinib'\n",
       "\\item 'Lectin pathway of complement activation'\n",
       "\\item 'CDH11 homotypic and heterotypic interactions'\n",
       "\\item 'DNA Damage Recognition in GG-NER'\n",
       "\\item 'SUMOylation of transcription factors'\n",
       "\\item 'p38MAPK events'\n",
       "\\item 'Phenylalanine metabolism'\n",
       "\\item 'Protein lipoylation'\n",
       "\\item 'Suppression of phagosomal maturation'\n",
       "\\item 'MGMT-mediated DNA damage reversal'\n",
       "\\item 'RNA Pol II CTD phosphorylation and interaction with CE during HIV infection'\n",
       "\\item 'RHO GTPases regulate CFTR trafficking'\n",
       "\\item 'RHOBTB1 GTPase cycle'\n",
       "\\item 'Tetrahydrobiopterin (BH4) synthesis; recycling; salvage and regulation'\n",
       "\\item 'GDP-fucose biosynthesis'\n",
       "\\item 'TRAIL  signaling'\n",
       "\\item 'Cholesterol biosynthesis'\n",
       "\\item 'mRNA Capping'\n",
       "\\item 'Aspartate and asparagine metabolism'\n",
       "\\item 'NGF-stimulated transcription'\n",
       "\\item 'Tryptophan catabolism'\n",
       "\\item 'Loss of MECP2 binding ability to the NCoR/SMRT complex'\n",
       "\\item 'Prednisone ADME'\n",
       "\\item 'Mitochondrial protein import'\n",
       "\\item 'Signalling to RAS'\n",
       "\\item 'Defective C1GALT1C1 causes TNPS'\n",
       "\\item 'HDR through MMEJ (alt-NHEJ)'\n",
       "\\item 'Dissolution of Fibrin Clot'\n",
       "\\item 'Late endosomal microautophagy'\n",
       "\\item 'Synthesis of GDP-mannose'\n",
       "\\item 'Drug resistance of ALK mutants'\n",
       "\\item 'PLCG1 events in ERBB2 signaling'\n",
       "\\item 'Phosphorylation of CD3 and TCR zeta chains'\n",
       "\\item 'mRNA decay by 3\\textbackslash{}' to 5\\textbackslash{}' exoribonuclease'\n",
       "\\item 'Recruitment and ATM-mediated phosphorylation of repair and signaling proteins at DNA double strand breaks'\n",
       "\\item 'Phenylalanine and tyrosine metabolism'\n",
       "\\item 'Activation of C3 and C5'\n",
       "\\item 'Cytosolic iron-sulfur cluster assembly'\n",
       "\\item 'Regulation of MITF-M-dependent genes involved in cell cycle and proliferation'\n",
       "\\item 'Drug resistance in ERBB2 KD mutants'\n",
       "\\item 'Budding and maturation of HIV virion'\n",
       "\\item 'SARS-CoV-2 modulates host translation machinery'\n",
       "\\item 'TP53 Regulates Transcription of Death Receptors and Ligands'\n",
       "\\item 'Transport of organic anions'\n",
       "\\item 'Defective SLC1A3 causes episodic ataxia 6 (EA6)'\n",
       "\\item 'POU5F1 (OCT4); SOX2; NANOG activate genes related to proliferation'\n",
       "\\item 'FGFRL1 modulation of FGFR1 signaling'\n",
       "\\item 'Triglyceride biosynthesis'\n",
       "\\item 'Regulation of gene expression in beta cells'\n",
       "\\item 'Pyrimidine catabolism'\n",
       "\\item 'Type I hemidesmosome assembly'\n",
       "\\item 'Transport of RCbl within the body'\n",
       "\\item 'SUMOylation of DNA methylation proteins'\n",
       "\\item 'Chondroitin sulfate biosynthesis'\n",
       "\\item 'G beta:gamma signalling through PI3Kgamma'\n",
       "\\item 'SUMOylation of intracellular receptors'\n",
       "\\item 'ADP signalling through P2Y purinoceptor 12'\n",
       "\\item 'Cristae formation'\n",
       "\\item 'Zinc transporters'\n",
       "\\item 'Regulation of commissural axon pathfinding by SLIT and ROBO'\n",
       "\\item 'Invadopodia formation'\n",
       "\\item 'Reversal of alkylation damage by DNA dioxygenases'\n",
       "\\item 'Response of EIF2AK1 (HRI) to heme deficiency'\n",
       "\\item 'Aggrephagy'\n",
       "\\item 'LGI-ADAM interactions'\n",
       "\\item 'Immunoregulatory interactions between a Lymphoid and a non-Lymphoid cell'\n",
       "\\item 'RUNX2 regulates genes involved in cell migration'\n",
       "\\item 'The activation of arylsulfatases'\n",
       "\\item 'Erythrocytes take up carbon dioxide and release oxygen'\n",
       "\\item 'Glycosphingolipid biosynthesis'\n",
       "\\item 'Nuclear Events (kinase and transcription factor activation)'\n",
       "\\item 'Mitochondrial tRNA aminoacylation'\n",
       "\\item 'Hedgehog ligand biogenesis'\n",
       "\\item 'Signaling by Overexpressed Wild-Type EGFR in Cancer'\n",
       "\\item 'Activation of GABAB receptors'\n",
       "\\item 'Regulation of Insulin-like Growth Factor (IGF) transport and uptake by Insulin-like Growth Factor Binding Proteins (IGFBPs)'\n",
       "\\item 'Deadenylation-dependent mRNA decay'\n",
       "\\item 'Metabolism of water-soluble vitamins and cofactors'\n",
       "\\item 'Cell-extracellular matrix interactions'\n",
       "\\item 'RUNX1 and FOXP3 control the development of regulatory T lymphocytes (Tregs)'\n",
       "\\item 'Transcriptional regulation of testis differentiation'\n",
       "\\item 'Neutrophil degranulation'\n",
       "\\item 'BMAL1:CLOCK;NPAS2 activates circadian expression'\n",
       "\\item 'Formation of axial mesoderm'\n",
       "\\item 'RNA Pol II CTD phosphorylation and interaction with CE'\n",
       "\\item 'RUNX1 regulates transcription of genes involved in differentiation of myeloid cells'\n",
       "\\item 'Phase 3 - rapid repolarisation'\n",
       "\\item 'RUNX3 regulates p14-ARF'\n",
       "\\item 'Netrin mediated repulsion signals'\n",
       "\\item 'Regulation of RUNX2 expression and activity'\n",
       "\\item 'WNT5A-dependent internalization of FZD2; FZD5 and ROR2'\n",
       "\\item 'Resolution of D-Loop Structures'\n",
       "\\item 'Chylomicron clearance'\n",
       "\\item 'TGFBR3 PTM regulation'\n",
       "\\item 'Crosslinking of collagen fibrils'\n",
       "\\item 'Acetylcholine Neurotransmitter Release Cycle'\n",
       "\\item 'Amino acid transport across the plasma membrane'\n",
       "\\item 'Estrogen-dependent gene expression'\n",
       "\\item 'Glycerophospholipid biosynthesis'\n",
       "\\item 'PINK1-PRKN Mediated Mitophagy'\n",
       "\\item 'Sodium/Calcium exchangers'\n",
       "\\item 'Reelin signalling pathway'\n",
       "\\item 'Signaling by WNT'\n",
       "\\item 'EGFR interacts with phospholipase C-gamma'\n",
       "\\item 'Interconversion of nucleotide di- and triphosphates'\n",
       "\\item 'Signaling by cytosolic FGFR1 fusion mutants'\n",
       "\\item 'CRMPs in Sema3A signaling'\n",
       "\\item 'Regulation of MECP2 expression and activity'\n",
       "\\item 'Synthesis of PIPs at the late endosome membrane'\n",
       "\\item 'DNA strand elongation'\n",
       "\\item 'Sodium/Proton exchangers'\n",
       "\\item 'RAS processing'\n",
       "\\item 'Cytokine Signaling in Immune system'\n",
       "\\item 'Hedgehog \\textbackslash{}'on\\textbackslash{}' state'\n",
       "\\item 'Signal transduction by L1'\n",
       "\\item 'GPVI-mediated activation cascade'\n",
       "\\item 'Bile acid and bile salt metabolism'\n",
       "\\item 'Diseases of the neuronal system'\n",
       "\\item 'VLDL clearance'\n",
       "\\item 'RNA Polymerase I Promoter Clearance'\n",
       "\\item 'Nucleotide catabolism'\n",
       "\\item 'Transcriptional regulation of brown and beige adipocyte differentiation'\n",
       "\\item 'Urea cycle'\n",
       "\\item 'Aflatoxin activation and detoxification'\n",
       "\\item 'Assembly of active LPL and LIPC lipase complexes'\n",
       "\\item 'Activation of the TFAP2 (AP-2) family of transcription factors'\n",
       "\\item 'TGF-beta receptor signaling in EMT (epithelial to mesenchymal transition)'\n",
       "\\item 'Negative regulation of FLT3'\n",
       "\\item 'Nicotinamide salvage'\n",
       "\\item 'Signaling by Hippo'\n",
       "\\item 'RHOV GTPase cycle'\n",
       "\\item 'Glucagon-type ligand receptors'\n",
       "\\item 'Biosynthesis of specialized proresolving mediators (SPMs)'\n",
       "\\item 'TP53 Regulates Transcription of Cell Cycle Genes'\n",
       "\\item 'VLDLR internalisation and degradation'\n",
       "\\item 'Cellular hexose transport'\n",
       "\\item 'Voltage gated Potassium channels'\n",
       "\\item 'Nucleotide Excision Repair'\n",
       "\\item 'Formation of WDR5-containing histone-modifying complexes'\n",
       "\\item 'Synthesis of IP3 and IP4 in the cytosol'\n",
       "\\item 'Receptor-type tyrosine-protein phosphatases'\n",
       "\\item 'CDC42 GTPase cycle'\n",
       "\\item 'RHO GTPases Activate WASPs and WAVEs'\n",
       "\\item 'Growth hormone receptor signaling'\n",
       "\\item 'Thrombin signalling through proteinase activated receptors (PARs)'\n",
       "\\item 'PKMTs methylate histone lysines'\n",
       "\\item 'Germ layer formation at gastrulation'\n",
       "\\item 'rRNA modification in the nucleus and cytosol'\n",
       "\\item 'Platelet Adhesion to exposed collagen'\n",
       "\\item 'Translation of Structural Proteins\\_9694635'\n",
       "\\item 'Caspase-mediated cleavage of cytoskeletal proteins'\n",
       "\\item 'TNFs bind their physiological receptors'\n",
       "\\item 'TP53 Regulates Metabolic Genes'\n",
       "\\item 'Hemostasis'\n",
       "\\item 'Regulation of FZD by ubiquitination'\n",
       "\\item 'Striated Muscle Contraction'\n",
       "\\item 'Deactivation of the beta-catenin transactivating complex'\n",
       "\\item 'Regulation of Complement cascade'\n",
       "\\item 'Metabolism of RNA'\n",
       "\\item 'RIPK1-mediated regulated necrosis'\n",
       "\\item 'Interleukin-12 family signaling'\n",
       "\\item 'TP53 Regulates Transcription of Genes Involved in Cytochrome C Release'\n",
       "\\item 'High laminar flow shear stress activates signaling by PIEZO1 and PECAM1:CDH5:KDR in endothelial cells'\n",
       "\\item 'Phosphorylation of CLOCK; acetylation of BMAL1 (ARNTL) at target gene promoters'\n",
       "\\item 'SUMOylation of DNA replication proteins'\n",
       "\\item 'RHOB GTPase cycle'\n",
       "\\item 'Asymmetric localization of PCP proteins'\n",
       "\\item 'Epigenetic regulation by WDR5-containing histone modifying complexes'\n",
       "\\item 'Binding and Uptake of Ligands by Scavenger Receptors'\n",
       "\\item 'Downregulation of ERBB2:ERBB3 signaling'\n",
       "\\item 'Biological oxidations'\n",
       "\\item 'DNA Repair'\n",
       "\\item 'Nucleotide-binding domain; leucine rich repeat containing receptor (NLR) signaling pathways'\n",
       "\\item 'Ionotropic activity of kainate receptors'\n",
       "\\item 'G2/M DNA damage checkpoint'\n",
       "\\item 'Hyaluronan biosynthesis and export'\n",
       "\\item 'RUNX1 regulates transcription of genes involved in BCR signaling'\n",
       "\\item 'O-linked glycosylation'\n",
       "\\item 'Sensory processing of sound by outer hair cells of the cochlea'\n",
       "\\item 'Mitochondrial calcium ion transport'\n",
       "\\item 'Interleukin-2 signaling'\n",
       "\\item 'HDMs demethylate histones'\n",
       "\\item 'Blood group systems biosynthesis'\n",
       "\\item 'RHOA GTPase cycle'\n",
       "\\item 'AURKA Activation by TPX2'\n",
       "\\item 'Defective GCLC causes HAGGSD'\n",
       "\\item 'Regulation of endogenous retroelements by Piwi-interacting RNAs (piRNAs)'\n",
       "\\item 'Platelet activation; signaling and aggregation'\n",
       "\\item 'Mitochondrial Fatty Acid Beta-Oxidation'\n",
       "\\item 'NFG and proNGF binds to p75NTR'\n",
       "\\item 'Purinergic signaling in leishmaniasis infection'\n",
       "\\item 'Respiratory Syncytial Virus Infection Pathway'\n",
       "\\item 'Amine ligand-binding receptors'\n",
       "\\item 'Turbulent (oscillatory; disturbed) flow shear stress activates signaling by PIEZO1 and integrins in endothelial cells'\n",
       "\\item 'COPI-mediated anterograde transport'\n",
       "\\item 'Integrin cell surface interactions'\n",
       "\\item 'HATs acetylate histones'\n",
       "\\item 'Release of Hh-Np from the secreting cell'\n",
       "\\item 'Minus-strand DNA synthesis'\n",
       "\\item 'GLI proteins bind promoters of Hh responsive genes to promote transcription'\n",
       "\\item 'Synthesis of PIPs at the plasma membrane'\n",
       "\\item 'Negative regulators of DDX58/IFIH1 signaling'\n",
       "\\item 'Potassium Channels'\n",
       "\\item 'Signalling to ERKs'\n",
       "\\item 'Reverse Transcription of HIV RNA'\n",
       "\\item 'Mitotic Spindle Checkpoint'\n",
       "\\item 'Cellular responses to mechanical stimuli'\n",
       "\\item 'Arachidonate metabolism'\n",
       "\\item 'Interferon gamma signaling'\n",
       "\\item 'Metabolism of steroid hormones'\n",
       "\\item 'Transcriptional regulation of brown and beige adipocyte differentiation by EBF2'\n",
       "\\item 'Synthesis of PA'\n",
       "\\item 'Nucleotide-like (purinergic) receptors'\n",
       "\\item 'Mitotic G2-G2/M phases'\n",
       "\\item 'ROBO receptors bind AKAP5'\n",
       "\\item 'BBSome-mediated cargo-targeting to cilium'\n",
       "\\item 'Nephrin family interactions'\n",
       "\\item 'Aryl hydrocarbon receptor signalling'\n",
       "\\item 'G-protein beta:gamma signalling'\n",
       "\\item 'Regulation of lipid metabolism by PPARalpha'\n",
       "\\item 'Sulfur amino acid metabolism'\n",
       "\\item 'Glycosphingolipid catabolism'\n",
       "\\item 'Transcriptional regulation by the AP-2 (TFAP2) family of transcription factors'\n",
       "\\item 'Regulation of necroptotic cell death'\n",
       "\\item 'Signaling by NTRKs'\n",
       "\\item 'Cell recruitment (pro-inflammatory response)'\n",
       "\\item 'Synthesis of bile acids and bile salts'\n",
       "\\item 'RHO GTPases activate PKNs'\n",
       "\\item 'Paracetamol ADME'\n",
       "\\item 'Interleukin-2 family signaling'\n",
       "\\item 'Resistance of ERBB2 KD mutants to tesevatinib'\n",
       "\\item 'Defective cofactor function of FVIIIa variant'\n",
       "\\item 'Resistance of ERBB2 KD mutants to trastuzumab'\n",
       "\\item 'Plus-strand DNA synthesis'\n",
       "\\item 'Activation of Ca-permeable Kainate Receptor'\n",
       "\\item 'Inhibition of Signaling by Overexpressed EGFR'\n",
       "\\end{enumerate*}\n"
      ],
      "text/markdown": [
       "1. 'Glycogen storage disease type 0 (liver GYS2)'\n",
       "2. 'FASTK family proteins regulate processing and stability of mitochondrial RNAs'\n",
       "3. 'Defective ALG9 causes CDG-1l'\n",
       "4. 'PI and PC transport between ER and Golgi membranes'\n",
       "5. 'Defective DPAGT1 causes CDG-1j; CMSTA2'\n",
       "6. 'AKT phosphorylates targets in the cytosol'\n",
       "7. 'Defective SLC2A1 causes GLUT1 deficiency syndrome 1 (GLUT1DS1)'\n",
       "8. 'SARS-CoV-2 modulates autophagy'\n",
       "9. 'Apoptosis induced DNA fragmentation'\n",
       "10. 'Drug-mediated inhibition of ERBB2 signaling'\n",
       "11. 'Reuptake of GABA'\n",
       "12. 'Activation of RAC1 downstream of NMDARs'\n",
       "13. 'Defective factor IX causes hemophilia B'\n",
       "14. 'APOBEC3G mediated resistance to HIV-1 infection'\n",
       "15. 'Nonhomologous End-Joining (NHEJ)'\n",
       "16. 'Defective SLC4A4 causes renal tubular acidosis; proximal; with ocular abnormalities and mental retardation (pRTA-OA)'\n",
       "17. 'Defective SLC17A8 causes autosomal dominant deafness 25 (DFNA25)'\n",
       "18. 'Strand-asynchronous mitochondrial DNA replication'\n",
       "19. 'Creatine metabolism'\n",
       "20. 'Plasma lipoprotein assembly'\n",
       "21. 'The AIM2 inflammasome'\n",
       "22. 'Interleukin-18 signaling'\n",
       "23. 'Noncanonical activation of NOTCH3'\n",
       "24. 'NFE2L2 regulating inflammation associated genes'\n",
       "25. 'Regulated proteolysis of p75NTR'\n",
       "26. 'HDL assembly'\n",
       "27. 'TNF receptor superfamily (TNFSF) members mediating non-canonical NF-kB pathway'\n",
       "28. 'Condensation of Prometaphase Chromosomes'\n",
       "29. 'Beta oxidation of decanoyl-CoA to octanoyl-CoA-CoA'\n",
       "30. 'Defective factor IX causes thrombophilia'\n",
       "31. 'Toxicity of botulinum toxin type E (botE)'\n",
       "32. 'RUNX3 Regulates Immune Response and Cell Migration'\n",
       "33. 'ERCC6 (CSB) and EHMT2 (G9a) positively regulate rRNA expression'\n",
       "34. 'Attachment of GPI anchor to uPAR'\n",
       "35. 'Serine metabolism'\n",
       "36. 'Uncoating of the HIV Virion'\n",
       "37. 'NR1H2 &amp; NR1H3 regulate gene expression linked to lipogenesis'\n",
       "38. 'FBXW7 Mutants and NOTCH1 in Cancer'\n",
       "39. 'Mitotic Metaphase/Anaphase Transition'\n",
       "40. 'Vitamin B1 (thiamin) metabolism'\n",
       "41. 'Defective CD320 causes MMATC'\n",
       "42. 'Zinc efflux and compartmentalization by the SLC30 family'\n",
       "43. 'Class I peroxisomal membrane protein import'\n",
       "44. 'MASTL Facilitates Mitotic Progression'\n",
       "45. 'Resistance of ERBB2 KD mutants to sapitinib'\n",
       "46. 'Lectin pathway of complement activation'\n",
       "47. 'CDH11 homotypic and heterotypic interactions'\n",
       "48. 'DNA Damage Recognition in GG-NER'\n",
       "49. 'SUMOylation of transcription factors'\n",
       "50. 'p38MAPK events'\n",
       "51. 'Phenylalanine metabolism'\n",
       "52. 'Protein lipoylation'\n",
       "53. 'Suppression of phagosomal maturation'\n",
       "54. 'MGMT-mediated DNA damage reversal'\n",
       "55. 'RNA Pol II CTD phosphorylation and interaction with CE during HIV infection'\n",
       "56. 'RHO GTPases regulate CFTR trafficking'\n",
       "57. 'RHOBTB1 GTPase cycle'\n",
       "58. 'Tetrahydrobiopterin (BH4) synthesis; recycling; salvage and regulation'\n",
       "59. 'GDP-fucose biosynthesis'\n",
       "60. <span style=white-space:pre-wrap>'TRAIL  signaling'</span>\n",
       "61. 'Cholesterol biosynthesis'\n",
       "62. 'mRNA Capping'\n",
       "63. 'Aspartate and asparagine metabolism'\n",
       "64. 'NGF-stimulated transcription'\n",
       "65. 'Tryptophan catabolism'\n",
       "66. 'Loss of MECP2 binding ability to the NCoR/SMRT complex'\n",
       "67. 'Prednisone ADME'\n",
       "68. 'Mitochondrial protein import'\n",
       "69. 'Signalling to RAS'\n",
       "70. 'Defective C1GALT1C1 causes TNPS'\n",
       "71. 'HDR through MMEJ (alt-NHEJ)'\n",
       "72. 'Dissolution of Fibrin Clot'\n",
       "73. 'Late endosomal microautophagy'\n",
       "74. 'Synthesis of GDP-mannose'\n",
       "75. 'Drug resistance of ALK mutants'\n",
       "76. 'PLCG1 events in ERBB2 signaling'\n",
       "77. 'Phosphorylation of CD3 and TCR zeta chains'\n",
       "78. 'mRNA decay by 3\\' to 5\\' exoribonuclease'\n",
       "79. 'Recruitment and ATM-mediated phosphorylation of repair and signaling proteins at DNA double strand breaks'\n",
       "80. 'Phenylalanine and tyrosine metabolism'\n",
       "81. 'Activation of C3 and C5'\n",
       "82. 'Cytosolic iron-sulfur cluster assembly'\n",
       "83. 'Regulation of MITF-M-dependent genes involved in cell cycle and proliferation'\n",
       "84. 'Drug resistance in ERBB2 KD mutants'\n",
       "85. 'Budding and maturation of HIV virion'\n",
       "86. 'SARS-CoV-2 modulates host translation machinery'\n",
       "87. 'TP53 Regulates Transcription of Death Receptors and Ligands'\n",
       "88. 'Transport of organic anions'\n",
       "89. 'Defective SLC1A3 causes episodic ataxia 6 (EA6)'\n",
       "90. 'POU5F1 (OCT4); SOX2; NANOG activate genes related to proliferation'\n",
       "91. 'FGFRL1 modulation of FGFR1 signaling'\n",
       "92. 'Triglyceride biosynthesis'\n",
       "93. 'Regulation of gene expression in beta cells'\n",
       "94. 'Pyrimidine catabolism'\n",
       "95. 'Type I hemidesmosome assembly'\n",
       "96. 'Transport of RCbl within the body'\n",
       "97. 'SUMOylation of DNA methylation proteins'\n",
       "98. 'Chondroitin sulfate biosynthesis'\n",
       "99. 'G beta:gamma signalling through PI3Kgamma'\n",
       "100. 'SUMOylation of intracellular receptors'\n",
       "101. 'ADP signalling through P2Y purinoceptor 12'\n",
       "102. 'Cristae formation'\n",
       "103. 'Zinc transporters'\n",
       "104. 'Regulation of commissural axon pathfinding by SLIT and ROBO'\n",
       "105. 'Invadopodia formation'\n",
       "106. 'Reversal of alkylation damage by DNA dioxygenases'\n",
       "107. 'Response of EIF2AK1 (HRI) to heme deficiency'\n",
       "108. 'Aggrephagy'\n",
       "109. 'LGI-ADAM interactions'\n",
       "110. 'Immunoregulatory interactions between a Lymphoid and a non-Lymphoid cell'\n",
       "111. 'RUNX2 regulates genes involved in cell migration'\n",
       "112. 'The activation of arylsulfatases'\n",
       "113. 'Erythrocytes take up carbon dioxide and release oxygen'\n",
       "114. 'Glycosphingolipid biosynthesis'\n",
       "115. 'Nuclear Events (kinase and transcription factor activation)'\n",
       "116. 'Mitochondrial tRNA aminoacylation'\n",
       "117. 'Hedgehog ligand biogenesis'\n",
       "118. 'Signaling by Overexpressed Wild-Type EGFR in Cancer'\n",
       "119. 'Activation of GABAB receptors'\n",
       "120. 'Regulation of Insulin-like Growth Factor (IGF) transport and uptake by Insulin-like Growth Factor Binding Proteins (IGFBPs)'\n",
       "121. 'Deadenylation-dependent mRNA decay'\n",
       "122. 'Metabolism of water-soluble vitamins and cofactors'\n",
       "123. 'Cell-extracellular matrix interactions'\n",
       "124. 'RUNX1 and FOXP3 control the development of regulatory T lymphocytes (Tregs)'\n",
       "125. 'Transcriptional regulation of testis differentiation'\n",
       "126. 'Neutrophil degranulation'\n",
       "127. 'BMAL1:CLOCK;NPAS2 activates circadian expression'\n",
       "128. 'Formation of axial mesoderm'\n",
       "129. 'RNA Pol II CTD phosphorylation and interaction with CE'\n",
       "130. 'RUNX1 regulates transcription of genes involved in differentiation of myeloid cells'\n",
       "131. 'Phase 3 - rapid repolarisation'\n",
       "132. 'RUNX3 regulates p14-ARF'\n",
       "133. 'Netrin mediated repulsion signals'\n",
       "134. 'Regulation of RUNX2 expression and activity'\n",
       "135. 'WNT5A-dependent internalization of FZD2; FZD5 and ROR2'\n",
       "136. 'Resolution of D-Loop Structures'\n",
       "137. 'Chylomicron clearance'\n",
       "138. 'TGFBR3 PTM regulation'\n",
       "139. 'Crosslinking of collagen fibrils'\n",
       "140. 'Acetylcholine Neurotransmitter Release Cycle'\n",
       "141. 'Amino acid transport across the plasma membrane'\n",
       "142. 'Estrogen-dependent gene expression'\n",
       "143. 'Glycerophospholipid biosynthesis'\n",
       "144. 'PINK1-PRKN Mediated Mitophagy'\n",
       "145. 'Sodium/Calcium exchangers'\n",
       "146. 'Reelin signalling pathway'\n",
       "147. 'Signaling by WNT'\n",
       "148. 'EGFR interacts with phospholipase C-gamma'\n",
       "149. 'Interconversion of nucleotide di- and triphosphates'\n",
       "150. 'Signaling by cytosolic FGFR1 fusion mutants'\n",
       "151. 'CRMPs in Sema3A signaling'\n",
       "152. 'Regulation of MECP2 expression and activity'\n",
       "153. 'Synthesis of PIPs at the late endosome membrane'\n",
       "154. 'DNA strand elongation'\n",
       "155. 'Sodium/Proton exchangers'\n",
       "156. 'RAS processing'\n",
       "157. 'Cytokine Signaling in Immune system'\n",
       "158. 'Hedgehog \\'on\\' state'\n",
       "159. 'Signal transduction by L1'\n",
       "160. 'GPVI-mediated activation cascade'\n",
       "161. 'Bile acid and bile salt metabolism'\n",
       "162. 'Diseases of the neuronal system'\n",
       "163. 'VLDL clearance'\n",
       "164. 'RNA Polymerase I Promoter Clearance'\n",
       "165. 'Nucleotide catabolism'\n",
       "166. 'Transcriptional regulation of brown and beige adipocyte differentiation'\n",
       "167. 'Urea cycle'\n",
       "168. 'Aflatoxin activation and detoxification'\n",
       "169. 'Assembly of active LPL and LIPC lipase complexes'\n",
       "170. 'Activation of the TFAP2 (AP-2) family of transcription factors'\n",
       "171. 'TGF-beta receptor signaling in EMT (epithelial to mesenchymal transition)'\n",
       "172. 'Negative regulation of FLT3'\n",
       "173. 'Nicotinamide salvage'\n",
       "174. 'Signaling by Hippo'\n",
       "175. 'RHOV GTPase cycle'\n",
       "176. 'Glucagon-type ligand receptors'\n",
       "177. 'Biosynthesis of specialized proresolving mediators (SPMs)'\n",
       "178. 'TP53 Regulates Transcription of Cell Cycle Genes'\n",
       "179. 'VLDLR internalisation and degradation'\n",
       "180. 'Cellular hexose transport'\n",
       "181. 'Voltage gated Potassium channels'\n",
       "182. 'Nucleotide Excision Repair'\n",
       "183. 'Formation of WDR5-containing histone-modifying complexes'\n",
       "184. 'Synthesis of IP3 and IP4 in the cytosol'\n",
       "185. 'Receptor-type tyrosine-protein phosphatases'\n",
       "186. 'CDC42 GTPase cycle'\n",
       "187. 'RHO GTPases Activate WASPs and WAVEs'\n",
       "188. 'Growth hormone receptor signaling'\n",
       "189. 'Thrombin signalling through proteinase activated receptors (PARs)'\n",
       "190. 'PKMTs methylate histone lysines'\n",
       "191. 'Germ layer formation at gastrulation'\n",
       "192. 'rRNA modification in the nucleus and cytosol'\n",
       "193. 'Platelet Adhesion to exposed collagen'\n",
       "194. 'Translation of Structural Proteins_9694635'\n",
       "195. 'Caspase-mediated cleavage of cytoskeletal proteins'\n",
       "196. 'TNFs bind their physiological receptors'\n",
       "197. 'TP53 Regulates Metabolic Genes'\n",
       "198. 'Hemostasis'\n",
       "199. 'Regulation of FZD by ubiquitination'\n",
       "200. 'Striated Muscle Contraction'\n",
       "201. 'Deactivation of the beta-catenin transactivating complex'\n",
       "202. 'Regulation of Complement cascade'\n",
       "203. 'Metabolism of RNA'\n",
       "204. 'RIPK1-mediated regulated necrosis'\n",
       "205. 'Interleukin-12 family signaling'\n",
       "206. 'TP53 Regulates Transcription of Genes Involved in Cytochrome C Release'\n",
       "207. 'High laminar flow shear stress activates signaling by PIEZO1 and PECAM1:CDH5:KDR in endothelial cells'\n",
       "208. 'Phosphorylation of CLOCK; acetylation of BMAL1 (ARNTL) at target gene promoters'\n",
       "209. 'SUMOylation of DNA replication proteins'\n",
       "210. 'RHOB GTPase cycle'\n",
       "211. 'Asymmetric localization of PCP proteins'\n",
       "212. 'Epigenetic regulation by WDR5-containing histone modifying complexes'\n",
       "213. 'Binding and Uptake of Ligands by Scavenger Receptors'\n",
       "214. 'Downregulation of ERBB2:ERBB3 signaling'\n",
       "215. 'Biological oxidations'\n",
       "216. 'DNA Repair'\n",
       "217. 'Nucleotide-binding domain; leucine rich repeat containing receptor (NLR) signaling pathways'\n",
       "218. 'Ionotropic activity of kainate receptors'\n",
       "219. 'G2/M DNA damage checkpoint'\n",
       "220. 'Hyaluronan biosynthesis and export'\n",
       "221. 'RUNX1 regulates transcription of genes involved in BCR signaling'\n",
       "222. 'O-linked glycosylation'\n",
       "223. 'Sensory processing of sound by outer hair cells of the cochlea'\n",
       "224. 'Mitochondrial calcium ion transport'\n",
       "225. 'Interleukin-2 signaling'\n",
       "226. 'HDMs demethylate histones'\n",
       "227. 'Blood group systems biosynthesis'\n",
       "228. 'RHOA GTPase cycle'\n",
       "229. 'AURKA Activation by TPX2'\n",
       "230. 'Defective GCLC causes HAGGSD'\n",
       "231. 'Regulation of endogenous retroelements by Piwi-interacting RNAs (piRNAs)'\n",
       "232. 'Platelet activation; signaling and aggregation'\n",
       "233. 'Mitochondrial Fatty Acid Beta-Oxidation'\n",
       "234. 'NFG and proNGF binds to p75NTR'\n",
       "235. 'Purinergic signaling in leishmaniasis infection'\n",
       "236. 'Respiratory Syncytial Virus Infection Pathway'\n",
       "237. 'Amine ligand-binding receptors'\n",
       "238. 'Turbulent (oscillatory; disturbed) flow shear stress activates signaling by PIEZO1 and integrins in endothelial cells'\n",
       "239. 'COPI-mediated anterograde transport'\n",
       "240. 'Integrin cell surface interactions'\n",
       "241. 'HATs acetylate histones'\n",
       "242. 'Release of Hh-Np from the secreting cell'\n",
       "243. 'Minus-strand DNA synthesis'\n",
       "244. 'GLI proteins bind promoters of Hh responsive genes to promote transcription'\n",
       "245. 'Synthesis of PIPs at the plasma membrane'\n",
       "246. 'Negative regulators of DDX58/IFIH1 signaling'\n",
       "247. 'Potassium Channels'\n",
       "248. 'Signalling to ERKs'\n",
       "249. 'Reverse Transcription of HIV RNA'\n",
       "250. 'Mitotic Spindle Checkpoint'\n",
       "251. 'Cellular responses to mechanical stimuli'\n",
       "252. 'Arachidonate metabolism'\n",
       "253. 'Interferon gamma signaling'\n",
       "254. 'Metabolism of steroid hormones'\n",
       "255. 'Transcriptional regulation of brown and beige adipocyte differentiation by EBF2'\n",
       "256. 'Synthesis of PA'\n",
       "257. 'Nucleotide-like (purinergic) receptors'\n",
       "258. 'Mitotic G2-G2/M phases'\n",
       "259. 'ROBO receptors bind AKAP5'\n",
       "260. 'BBSome-mediated cargo-targeting to cilium'\n",
       "261. 'Nephrin family interactions'\n",
       "262. 'Aryl hydrocarbon receptor signalling'\n",
       "263. 'G-protein beta:gamma signalling'\n",
       "264. 'Regulation of lipid metabolism by PPARalpha'\n",
       "265. 'Sulfur amino acid metabolism'\n",
       "266. 'Glycosphingolipid catabolism'\n",
       "267. 'Transcriptional regulation by the AP-2 (TFAP2) family of transcription factors'\n",
       "268. 'Regulation of necroptotic cell death'\n",
       "269. 'Signaling by NTRKs'\n",
       "270. 'Cell recruitment (pro-inflammatory response)'\n",
       "271. 'Synthesis of bile acids and bile salts'\n",
       "272. 'RHO GTPases activate PKNs'\n",
       "273. 'Paracetamol ADME'\n",
       "274. 'Interleukin-2 family signaling'\n",
       "275. 'Resistance of ERBB2 KD mutants to tesevatinib'\n",
       "276. 'Defective cofactor function of FVIIIa variant'\n",
       "277. 'Resistance of ERBB2 KD mutants to trastuzumab'\n",
       "278. 'Plus-strand DNA synthesis'\n",
       "279. 'Activation of Ca-permeable Kainate Receptor'\n",
       "280. 'Inhibition of Signaling by Overexpressed EGFR'\n",
       "\n",
       "\n"
      ],
      "text/plain": [
       "  [1] \"Glycogen storage disease type 0 (liver GYS2)\"                                                                               \n",
       "  [2] \"FASTK family proteins regulate processing and stability of mitochondrial RNAs\"                                              \n",
       "  [3] \"Defective ALG9 causes CDG-1l\"                                                                                               \n",
       "  [4] \"PI and PC transport between ER and Golgi membranes\"                                                                         \n",
       "  [5] \"Defective DPAGT1 causes CDG-1j; CMSTA2\"                                                                                     \n",
       "  [6] \"AKT phosphorylates targets in the cytosol\"                                                                                  \n",
       "  [7] \"Defective SLC2A1 causes GLUT1 deficiency syndrome 1 (GLUT1DS1)\"                                                             \n",
       "  [8] \"SARS-CoV-2 modulates autophagy\"                                                                                             \n",
       "  [9] \"Apoptosis induced DNA fragmentation\"                                                                                        \n",
       " [10] \"Drug-mediated inhibition of ERBB2 signaling\"                                                                                \n",
       " [11] \"Reuptake of GABA\"                                                                                                           \n",
       " [12] \"Activation of RAC1 downstream of NMDARs\"                                                                                    \n",
       " [13] \"Defective factor IX causes hemophilia B\"                                                                                    \n",
       " [14] \"APOBEC3G mediated resistance to HIV-1 infection\"                                                                            \n",
       " [15] \"Nonhomologous End-Joining (NHEJ)\"                                                                                           \n",
       " [16] \"Defective SLC4A4 causes renal tubular acidosis; proximal; with ocular abnormalities and mental retardation (pRTA-OA)\"       \n",
       " [17] \"Defective SLC17A8 causes autosomal dominant deafness 25 (DFNA25)\"                                                           \n",
       " [18] \"Strand-asynchronous mitochondrial DNA replication\"                                                                          \n",
       " [19] \"Creatine metabolism\"                                                                                                        \n",
       " [20] \"Plasma lipoprotein assembly\"                                                                                                \n",
       " [21] \"The AIM2 inflammasome\"                                                                                                      \n",
       " [22] \"Interleukin-18 signaling\"                                                                                                   \n",
       " [23] \"Noncanonical activation of NOTCH3\"                                                                                          \n",
       " [24] \"NFE2L2 regulating inflammation associated genes\"                                                                            \n",
       " [25] \"Regulated proteolysis of p75NTR\"                                                                                            \n",
       " [26] \"HDL assembly\"                                                                                                               \n",
       " [27] \"TNF receptor superfamily (TNFSF) members mediating non-canonical NF-kB pathway\"                                             \n",
       " [28] \"Condensation of Prometaphase Chromosomes\"                                                                                   \n",
       " [29] \"Beta oxidation of decanoyl-CoA to octanoyl-CoA-CoA\"                                                                         \n",
       " [30] \"Defective factor IX causes thrombophilia\"                                                                                   \n",
       " [31] \"Toxicity of botulinum toxin type E (botE)\"                                                                                  \n",
       " [32] \"RUNX3 Regulates Immune Response and Cell Migration\"                                                                         \n",
       " [33] \"ERCC6 (CSB) and EHMT2 (G9a) positively regulate rRNA expression\"                                                            \n",
       " [34] \"Attachment of GPI anchor to uPAR\"                                                                                           \n",
       " [35] \"Serine metabolism\"                                                                                                          \n",
       " [36] \"Uncoating of the HIV Virion\"                                                                                                \n",
       " [37] \"NR1H2 & NR1H3 regulate gene expression linked to lipogenesis\"                                                               \n",
       " [38] \"FBXW7 Mutants and NOTCH1 in Cancer\"                                                                                         \n",
       " [39] \"Mitotic Metaphase/Anaphase Transition\"                                                                                      \n",
       " [40] \"Vitamin B1 (thiamin) metabolism\"                                                                                            \n",
       " [41] \"Defective CD320 causes MMATC\"                                                                                               \n",
       " [42] \"Zinc efflux and compartmentalization by the SLC30 family\"                                                                   \n",
       " [43] \"Class I peroxisomal membrane protein import\"                                                                                \n",
       " [44] \"MASTL Facilitates Mitotic Progression\"                                                                                      \n",
       " [45] \"Resistance of ERBB2 KD mutants to sapitinib\"                                                                                \n",
       " [46] \"Lectin pathway of complement activation\"                                                                                    \n",
       " [47] \"CDH11 homotypic and heterotypic interactions\"                                                                               \n",
       " [48] \"DNA Damage Recognition in GG-NER\"                                                                                           \n",
       " [49] \"SUMOylation of transcription factors\"                                                                                       \n",
       " [50] \"p38MAPK events\"                                                                                                             \n",
       " [51] \"Phenylalanine metabolism\"                                                                                                   \n",
       " [52] \"Protein lipoylation\"                                                                                                        \n",
       " [53] \"Suppression of phagosomal maturation\"                                                                                       \n",
       " [54] \"MGMT-mediated DNA damage reversal\"                                                                                          \n",
       " [55] \"RNA Pol II CTD phosphorylation and interaction with CE during HIV infection\"                                                \n",
       " [56] \"RHO GTPases regulate CFTR trafficking\"                                                                                      \n",
       " [57] \"RHOBTB1 GTPase cycle\"                                                                                                       \n",
       " [58] \"Tetrahydrobiopterin (BH4) synthesis; recycling; salvage and regulation\"                                                     \n",
       " [59] \"GDP-fucose biosynthesis\"                                                                                                    \n",
       " [60] \"TRAIL  signaling\"                                                                                                           \n",
       " [61] \"Cholesterol biosynthesis\"                                                                                                   \n",
       " [62] \"mRNA Capping\"                                                                                                               \n",
       " [63] \"Aspartate and asparagine metabolism\"                                                                                        \n",
       " [64] \"NGF-stimulated transcription\"                                                                                               \n",
       " [65] \"Tryptophan catabolism\"                                                                                                      \n",
       " [66] \"Loss of MECP2 binding ability to the NCoR/SMRT complex\"                                                                     \n",
       " [67] \"Prednisone ADME\"                                                                                                            \n",
       " [68] \"Mitochondrial protein import\"                                                                                               \n",
       " [69] \"Signalling to RAS\"                                                                                                          \n",
       " [70] \"Defective C1GALT1C1 causes TNPS\"                                                                                            \n",
       " [71] \"HDR through MMEJ (alt-NHEJ)\"                                                                                                \n",
       " [72] \"Dissolution of Fibrin Clot\"                                                                                                 \n",
       " [73] \"Late endosomal microautophagy\"                                                                                              \n",
       " [74] \"Synthesis of GDP-mannose\"                                                                                                   \n",
       " [75] \"Drug resistance of ALK mutants\"                                                                                             \n",
       " [76] \"PLCG1 events in ERBB2 signaling\"                                                                                            \n",
       " [77] \"Phosphorylation of CD3 and TCR zeta chains\"                                                                                 \n",
       " [78] \"mRNA decay by 3' to 5' exoribonuclease\"                                                                                     \n",
       " [79] \"Recruitment and ATM-mediated phosphorylation of repair and signaling proteins at DNA double strand breaks\"                  \n",
       " [80] \"Phenylalanine and tyrosine metabolism\"                                                                                      \n",
       " [81] \"Activation of C3 and C5\"                                                                                                    \n",
       " [82] \"Cytosolic iron-sulfur cluster assembly\"                                                                                     \n",
       " [83] \"Regulation of MITF-M-dependent genes involved in cell cycle and proliferation\"                                              \n",
       " [84] \"Drug resistance in ERBB2 KD mutants\"                                                                                        \n",
       " [85] \"Budding and maturation of HIV virion\"                                                                                       \n",
       " [86] \"SARS-CoV-2 modulates host translation machinery\"                                                                            \n",
       " [87] \"TP53 Regulates Transcription of Death Receptors and Ligands\"                                                                \n",
       " [88] \"Transport of organic anions\"                                                                                                \n",
       " [89] \"Defective SLC1A3 causes episodic ataxia 6 (EA6)\"                                                                            \n",
       " [90] \"POU5F1 (OCT4); SOX2; NANOG activate genes related to proliferation\"                                                         \n",
       " [91] \"FGFRL1 modulation of FGFR1 signaling\"                                                                                       \n",
       " [92] \"Triglyceride biosynthesis\"                                                                                                  \n",
       " [93] \"Regulation of gene expression in beta cells\"                                                                                \n",
       " [94] \"Pyrimidine catabolism\"                                                                                                      \n",
       " [95] \"Type I hemidesmosome assembly\"                                                                                              \n",
       " [96] \"Transport of RCbl within the body\"                                                                                          \n",
       " [97] \"SUMOylation of DNA methylation proteins\"                                                                                    \n",
       " [98] \"Chondroitin sulfate biosynthesis\"                                                                                           \n",
       " [99] \"G beta:gamma signalling through PI3Kgamma\"                                                                                  \n",
       "[100] \"SUMOylation of intracellular receptors\"                                                                                     \n",
       "[101] \"ADP signalling through P2Y purinoceptor 12\"                                                                                 \n",
       "[102] \"Cristae formation\"                                                                                                          \n",
       "[103] \"Zinc transporters\"                                                                                                          \n",
       "[104] \"Regulation of commissural axon pathfinding by SLIT and ROBO\"                                                                \n",
       "[105] \"Invadopodia formation\"                                                                                                      \n",
       "[106] \"Reversal of alkylation damage by DNA dioxygenases\"                                                                          \n",
       "[107] \"Response of EIF2AK1 (HRI) to heme deficiency\"                                                                               \n",
       "[108] \"Aggrephagy\"                                                                                                                 \n",
       "[109] \"LGI-ADAM interactions\"                                                                                                      \n",
       "[110] \"Immunoregulatory interactions between a Lymphoid and a non-Lymphoid cell\"                                                   \n",
       "[111] \"RUNX2 regulates genes involved in cell migration\"                                                                           \n",
       "[112] \"The activation of arylsulfatases\"                                                                                           \n",
       "[113] \"Erythrocytes take up carbon dioxide and release oxygen\"                                                                     \n",
       "[114] \"Glycosphingolipid biosynthesis\"                                                                                             \n",
       "[115] \"Nuclear Events (kinase and transcription factor activation)\"                                                                \n",
       "[116] \"Mitochondrial tRNA aminoacylation\"                                                                                          \n",
       "[117] \"Hedgehog ligand biogenesis\"                                                                                                 \n",
       "[118] \"Signaling by Overexpressed Wild-Type EGFR in Cancer\"                                                                        \n",
       "[119] \"Activation of GABAB receptors\"                                                                                              \n",
       "[120] \"Regulation of Insulin-like Growth Factor (IGF) transport and uptake by Insulin-like Growth Factor Binding Proteins (IGFBPs)\"\n",
       "[121] \"Deadenylation-dependent mRNA decay\"                                                                                         \n",
       "[122] \"Metabolism of water-soluble vitamins and cofactors\"                                                                         \n",
       "[123] \"Cell-extracellular matrix interactions\"                                                                                     \n",
       "[124] \"RUNX1 and FOXP3 control the development of regulatory T lymphocytes (Tregs)\"                                                \n",
       "[125] \"Transcriptional regulation of testis differentiation\"                                                                       \n",
       "[126] \"Neutrophil degranulation\"                                                                                                   \n",
       "[127] \"BMAL1:CLOCK;NPAS2 activates circadian expression\"                                                                           \n",
       "[128] \"Formation of axial mesoderm\"                                                                                                \n",
       "[129] \"RNA Pol II CTD phosphorylation and interaction with CE\"                                                                     \n",
       "[130] \"RUNX1 regulates transcription of genes involved in differentiation of myeloid cells\"                                        \n",
       "[131] \"Phase 3 - rapid repolarisation\"                                                                                             \n",
       "[132] \"RUNX3 regulates p14-ARF\"                                                                                                    \n",
       "[133] \"Netrin mediated repulsion signals\"                                                                                          \n",
       "[134] \"Regulation of RUNX2 expression and activity\"                                                                                \n",
       "[135] \"WNT5A-dependent internalization of FZD2; FZD5 and ROR2\"                                                                     \n",
       "[136] \"Resolution of D-Loop Structures\"                                                                                            \n",
       "[137] \"Chylomicron clearance\"                                                                                                      \n",
       "[138] \"TGFBR3 PTM regulation\"                                                                                                      \n",
       "[139] \"Crosslinking of collagen fibrils\"                                                                                           \n",
       "[140] \"Acetylcholine Neurotransmitter Release Cycle\"                                                                               \n",
       "[141] \"Amino acid transport across the plasma membrane\"                                                                            \n",
       "[142] \"Estrogen-dependent gene expression\"                                                                                         \n",
       "[143] \"Glycerophospholipid biosynthesis\"                                                                                           \n",
       "[144] \"PINK1-PRKN Mediated Mitophagy\"                                                                                              \n",
       "[145] \"Sodium/Calcium exchangers\"                                                                                                  \n",
       "[146] \"Reelin signalling pathway\"                                                                                                  \n",
       "[147] \"Signaling by WNT\"                                                                                                           \n",
       "[148] \"EGFR interacts with phospholipase C-gamma\"                                                                                  \n",
       "[149] \"Interconversion of nucleotide di- and triphosphates\"                                                                        \n",
       "[150] \"Signaling by cytosolic FGFR1 fusion mutants\"                                                                                \n",
       "[151] \"CRMPs in Sema3A signaling\"                                                                                                  \n",
       "[152] \"Regulation of MECP2 expression and activity\"                                                                                \n",
       "[153] \"Synthesis of PIPs at the late endosome membrane\"                                                                            \n",
       "[154] \"DNA strand elongation\"                                                                                                      \n",
       "[155] \"Sodium/Proton exchangers\"                                                                                                   \n",
       "[156] \"RAS processing\"                                                                                                             \n",
       "[157] \"Cytokine Signaling in Immune system\"                                                                                        \n",
       "[158] \"Hedgehog 'on' state\"                                                                                                        \n",
       "[159] \"Signal transduction by L1\"                                                                                                  \n",
       "[160] \"GPVI-mediated activation cascade\"                                                                                           \n",
       "[161] \"Bile acid and bile salt metabolism\"                                                                                         \n",
       "[162] \"Diseases of the neuronal system\"                                                                                            \n",
       "[163] \"VLDL clearance\"                                                                                                             \n",
       "[164] \"RNA Polymerase I Promoter Clearance\"                                                                                        \n",
       "[165] \"Nucleotide catabolism\"                                                                                                      \n",
       "[166] \"Transcriptional regulation of brown and beige adipocyte differentiation\"                                                    \n",
       "[167] \"Urea cycle\"                                                                                                                 \n",
       "[168] \"Aflatoxin activation and detoxification\"                                                                                    \n",
       "[169] \"Assembly of active LPL and LIPC lipase complexes\"                                                                           \n",
       "[170] \"Activation of the TFAP2 (AP-2) family of transcription factors\"                                                             \n",
       "[171] \"TGF-beta receptor signaling in EMT (epithelial to mesenchymal transition)\"                                                  \n",
       "[172] \"Negative regulation of FLT3\"                                                                                                \n",
       "[173] \"Nicotinamide salvage\"                                                                                                       \n",
       "[174] \"Signaling by Hippo\"                                                                                                         \n",
       "[175] \"RHOV GTPase cycle\"                                                                                                          \n",
       "[176] \"Glucagon-type ligand receptors\"                                                                                             \n",
       "[177] \"Biosynthesis of specialized proresolving mediators (SPMs)\"                                                                  \n",
       "[178] \"TP53 Regulates Transcription of Cell Cycle Genes\"                                                                           \n",
       "[179] \"VLDLR internalisation and degradation\"                                                                                      \n",
       "[180] \"Cellular hexose transport\"                                                                                                  \n",
       "[181] \"Voltage gated Potassium channels\"                                                                                           \n",
       "[182] \"Nucleotide Excision Repair\"                                                                                                 \n",
       "[183] \"Formation of WDR5-containing histone-modifying complexes\"                                                                   \n",
       "[184] \"Synthesis of IP3 and IP4 in the cytosol\"                                                                                    \n",
       "[185] \"Receptor-type tyrosine-protein phosphatases\"                                                                                \n",
       "[186] \"CDC42 GTPase cycle\"                                                                                                         \n",
       "[187] \"RHO GTPases Activate WASPs and WAVEs\"                                                                                       \n",
       "[188] \"Growth hormone receptor signaling\"                                                                                          \n",
       "[189] \"Thrombin signalling through proteinase activated receptors (PARs)\"                                                          \n",
       "[190] \"PKMTs methylate histone lysines\"                                                                                            \n",
       "[191] \"Germ layer formation at gastrulation\"                                                                                       \n",
       "[192] \"rRNA modification in the nucleus and cytosol\"                                                                               \n",
       "[193] \"Platelet Adhesion to exposed collagen\"                                                                                      \n",
       "[194] \"Translation of Structural Proteins_9694635\"                                                                                 \n",
       "[195] \"Caspase-mediated cleavage of cytoskeletal proteins\"                                                                         \n",
       "[196] \"TNFs bind their physiological receptors\"                                                                                    \n",
       "[197] \"TP53 Regulates Metabolic Genes\"                                                                                             \n",
       "[198] \"Hemostasis\"                                                                                                                 \n",
       "[199] \"Regulation of FZD by ubiquitination\"                                                                                        \n",
       "[200] \"Striated Muscle Contraction\"                                                                                                \n",
       "[201] \"Deactivation of the beta-catenin transactivating complex\"                                                                   \n",
       "[202] \"Regulation of Complement cascade\"                                                                                           \n",
       "[203] \"Metabolism of RNA\"                                                                                                          \n",
       "[204] \"RIPK1-mediated regulated necrosis\"                                                                                          \n",
       "[205] \"Interleukin-12 family signaling\"                                                                                            \n",
       "[206] \"TP53 Regulates Transcription of Genes Involved in Cytochrome C Release\"                                                     \n",
       "[207] \"High laminar flow shear stress activates signaling by PIEZO1 and PECAM1:CDH5:KDR in endothelial cells\"                      \n",
       "[208] \"Phosphorylation of CLOCK; acetylation of BMAL1 (ARNTL) at target gene promoters\"                                            \n",
       "[209] \"SUMOylation of DNA replication proteins\"                                                                                    \n",
       "[210] \"RHOB GTPase cycle\"                                                                                                          \n",
       "[211] \"Asymmetric localization of PCP proteins\"                                                                                    \n",
       "[212] \"Epigenetic regulation by WDR5-containing histone modifying complexes\"                                                       \n",
       "[213] \"Binding and Uptake of Ligands by Scavenger Receptors\"                                                                       \n",
       "[214] \"Downregulation of ERBB2:ERBB3 signaling\"                                                                                    \n",
       "[215] \"Biological oxidations\"                                                                                                      \n",
       "[216] \"DNA Repair\"                                                                                                                 \n",
       "[217] \"Nucleotide-binding domain; leucine rich repeat containing receptor (NLR) signaling pathways\"                                \n",
       "[218] \"Ionotropic activity of kainate receptors\"                                                                                   \n",
       "[219] \"G2/M DNA damage checkpoint\"                                                                                                 \n",
       "[220] \"Hyaluronan biosynthesis and export\"                                                                                         \n",
       "[221] \"RUNX1 regulates transcription of genes involved in BCR signaling\"                                                           \n",
       "[222] \"O-linked glycosylation\"                                                                                                     \n",
       "[223] \"Sensory processing of sound by outer hair cells of the cochlea\"                                                             \n",
       "[224] \"Mitochondrial calcium ion transport\"                                                                                        \n",
       "[225] \"Interleukin-2 signaling\"                                                                                                    \n",
       "[226] \"HDMs demethylate histones\"                                                                                                  \n",
       "[227] \"Blood group systems biosynthesis\"                                                                                           \n",
       "[228] \"RHOA GTPase cycle\"                                                                                                          \n",
       "[229] \"AURKA Activation by TPX2\"                                                                                                   \n",
       "[230] \"Defective GCLC causes HAGGSD\"                                                                                               \n",
       "[231] \"Regulation of endogenous retroelements by Piwi-interacting RNAs (piRNAs)\"                                                   \n",
       "[232] \"Platelet activation; signaling and aggregation\"                                                                             \n",
       "[233] \"Mitochondrial Fatty Acid Beta-Oxidation\"                                                                                    \n",
       "[234] \"NFG and proNGF binds to p75NTR\"                                                                                             \n",
       "[235] \"Purinergic signaling in leishmaniasis infection\"                                                                            \n",
       "[236] \"Respiratory Syncytial Virus Infection Pathway\"                                                                              \n",
       "[237] \"Amine ligand-binding receptors\"                                                                                             \n",
       "[238] \"Turbulent (oscillatory; disturbed) flow shear stress activates signaling by PIEZO1 and integrins in endothelial cells\"      \n",
       "[239] \"COPI-mediated anterograde transport\"                                                                                        \n",
       "[240] \"Integrin cell surface interactions\"                                                                                         \n",
       "[241] \"HATs acetylate histones\"                                                                                                    \n",
       "[242] \"Release of Hh-Np from the secreting cell\"                                                                                   \n",
       "[243] \"Minus-strand DNA synthesis\"                                                                                                 \n",
       "[244] \"GLI proteins bind promoters of Hh responsive genes to promote transcription\"                                                \n",
       "[245] \"Synthesis of PIPs at the plasma membrane\"                                                                                   \n",
       "[246] \"Negative regulators of DDX58/IFIH1 signaling\"                                                                               \n",
       "[247] \"Potassium Channels\"                                                                                                         \n",
       "[248] \"Signalling to ERKs\"                                                                                                         \n",
       "[249] \"Reverse Transcription of HIV RNA\"                                                                                           \n",
       "[250] \"Mitotic Spindle Checkpoint\"                                                                                                 \n",
       "[251] \"Cellular responses to mechanical stimuli\"                                                                                   \n",
       "[252] \"Arachidonate metabolism\"                                                                                                    \n",
       "[253] \"Interferon gamma signaling\"                                                                                                 \n",
       "[254] \"Metabolism of steroid hormones\"                                                                                             \n",
       "[255] \"Transcriptional regulation of brown and beige adipocyte differentiation by EBF2\"                                            \n",
       "[256] \"Synthesis of PA\"                                                                                                            \n",
       "[257] \"Nucleotide-like (purinergic) receptors\"                                                                                     \n",
       "[258] \"Mitotic G2-G2/M phases\"                                                                                                     \n",
       "[259] \"ROBO receptors bind AKAP5\"                                                                                                  \n",
       "[260] \"BBSome-mediated cargo-targeting to cilium\"                                                                                  \n",
       "[261] \"Nephrin family interactions\"                                                                                                \n",
       "[262] \"Aryl hydrocarbon receptor signalling\"                                                                                       \n",
       "[263] \"G-protein beta:gamma signalling\"                                                                                            \n",
       "[264] \"Regulation of lipid metabolism by PPARalpha\"                                                                                \n",
       "[265] \"Sulfur amino acid metabolism\"                                                                                               \n",
       "[266] \"Glycosphingolipid catabolism\"                                                                                               \n",
       "[267] \"Transcriptional regulation by the AP-2 (TFAP2) family of transcription factors\"                                             \n",
       "[268] \"Regulation of necroptotic cell death\"                                                                                       \n",
       "[269] \"Signaling by NTRKs\"                                                                                                         \n",
       "[270] \"Cell recruitment (pro-inflammatory response)\"                                                                               \n",
       "[271] \"Synthesis of bile acids and bile salts\"                                                                                     \n",
       "[272] \"RHO GTPases activate PKNs\"                                                                                                  \n",
       "[273] \"Paracetamol ADME\"                                                                                                           \n",
       "[274] \"Interleukin-2 family signaling\"                                                                                             \n",
       "[275] \"Resistance of ERBB2 KD mutants to tesevatinib\"                                                                              \n",
       "[276] \"Defective cofactor function of FVIIIa variant\"                                                                              \n",
       "[277] \"Resistance of ERBB2 KD mutants to trastuzumab\"                                                                              \n",
       "[278] \"Plus-strand DNA synthesis\"                                                                                                  \n",
       "[279] \"Activation of Ca-permeable Kainate Receptor\"                                                                                \n",
       "[280] \"Inhibition of Signaling by Overexpressed EGFR\"                                                                              "
      ]
     },
     "metadata": {},
     "output_type": "display_data"
    }
   ],
   "source": [
    "unique(avg_pathway_msbb_important_desc$PATHWAY_NAME)"
   ]
  },
  {
   "cell_type": "markdown",
   "id": "737e8415-e9de-47aa-9f2b-5b6541bffb47",
   "metadata": {},
   "source": [
    "# see if pathways are biased to having more genes"
   ]
  },
  {
   "cell_type": "code",
   "execution_count": 194,
   "id": "3704953d-f7de-4645-ae37-50d7f9c0c7cd",
   "metadata": {},
   "outputs": [
    {
     "data": {
      "text/plain": [
       "  PATHWAY_ID             n()         \n",
       " Length:2722        Min.   :   1.00  \n",
       " Class :character   1st Qu.:   5.00  \n",
       " Mode  :character   Median :  15.00  \n",
       "                    Mean   :  46.56  \n",
       "                    3rd Qu.:  42.00  \n",
       "                    Max.   :2579.00  "
      ]
     },
     "metadata": {},
     "output_type": "display_data"
    }
   ],
   "source": [
    "all_path_map%>%\n",
    "select(PATHWAY_ID, GENE) %>%\n",
    "group_by(PATHWAY_ID) %>%\n",
    "summarize(n()) %>%\n",
    "summary()"
   ]
  },
  {
   "cell_type": "markdown",
   "id": "e8f8362e-a564-43ee-a137-53ebb6fe2667",
   "metadata": {},
   "source": [
    "# see pathways are biased to having a lot of genes"
   ]
  },
  {
   "cell_type": "code",
   "execution_count": 195,
   "id": "e2d917af-98ec-44b4-b3bd-3301799c54fd",
   "metadata": {},
   "outputs": [
    {
     "data": {
      "text/plain": [
       "    N_GENES       \n",
       " Min.   :   1.00  \n",
       " 1st Qu.:   7.00  \n",
       " Median :  15.00  \n",
       " Mean   :  45.58  \n",
       " 3rd Qu.:  33.50  \n",
       " Max.   :2579.00  "
      ]
     },
     "metadata": {},
     "output_type": "display_data"
    }
   ],
   "source": [
    "avg_pathway_important_desc %>%\n",
    "select(N_GENES) %>%\n",
    "summary()"
   ]
  },
  {
   "cell_type": "code",
   "execution_count": 196,
   "id": "2d793e75-49f9-4ba8-880b-692da8e67b09",
   "metadata": {},
   "outputs": [
    {
     "data": {
      "text/plain": [
       "    N_GENES       \n",
       " Min.   :   1.00  \n",
       " 1st Qu.:   8.00  \n",
       " Median :  15.50  \n",
       " Mean   :  47.60  \n",
       " 3rd Qu.:  34.25  \n",
       " Max.   :2579.00  "
      ]
     },
     "metadata": {},
     "output_type": "display_data"
    }
   ],
   "source": [
    "avg_gene_important_desc %>%\n",
    "select(N_GENES) %>%\n",
    "summary()"
   ]
  },
  {
   "cell_type": "code",
   "execution_count": 197,
   "id": "ce156462-3b44-471c-9e11-57e5b0a777a3",
   "metadata": {},
   "outputs": [
    {
     "data": {
      "text/plain": [
       "    N_GENES      \n",
       " Min.   :  1.00  \n",
       " 1st Qu.:  9.00  \n",
       " Median : 18.50  \n",
       " Mean   : 41.90  \n",
       " 3rd Qu.: 37.25  \n",
       " Max.   :769.00  "
      ]
     },
     "metadata": {},
     "output_type": "display_data"
    }
   ],
   "source": [
    "avg_pathway_msbb_important_desc %>%\n",
    "select(N_GENES) %>%\n",
    "summary()"
   ]
  },
  {
   "cell_type": "code",
   "execution_count": 198,
   "id": "d83207c7-2abf-4014-8adb-bdee8b20cfab",
   "metadata": {},
   "outputs": [
    {
     "data": {
      "text/plain": [
       "    N_GENES       \n",
       " Min.   :   1.00  \n",
       " 1st Qu.:  10.00  \n",
       " Median :  19.00  \n",
       " Mean   :  48.12  \n",
       " 3rd Qu.:  42.00  \n",
       " Max.   :2579.00  "
      ]
     },
     "metadata": {},
     "output_type": "display_data"
    }
   ],
   "source": [
    "avg_gene_msbb_important_desc %>%\n",
    "select(N_GENES) %>%\n",
    "summary()"
   ]
  },
  {
   "cell_type": "markdown",
   "id": "12f2f12f-c60d-40c2-b683-493d54f9d222",
   "metadata": {},
   "source": [
    "# see if pathways are biased towards inclusion of certain datatypes"
   ]
  },
  {
   "cell_type": "code",
   "execution_count": 219,
   "id": "5d37bc48-4913-4795-8342-8f20a51ce6cc",
   "metadata": {},
   "outputs": [
    {
     "data": {
      "text/html": [
       "<table class=\"dataframe\">\n",
       "<caption>A tibble: 40 × 2</caption>\n",
       "<thead>\n",
       "\t<tr><th scope=col>SOURCE</th><th scope=col>count</th></tr>\n",
       "\t<tr><th scope=col>&lt;chr&gt;</th><th scope=col>&lt;int&gt;</th></tr>\n",
       "</thead>\n",
       "<tbody>\n",
       "\t<tr><td>MSBB_MA;ROSMAP_MA                                            </td><td>41</td></tr>\n",
       "\t<tr><td>MSBB_MA                                                      </td><td>15</td></tr>\n",
       "\t<tr><td>MSBB_MA;ROSMAP_MA;ROSMAP_RS                                  </td><td>15</td></tr>\n",
       "\t<tr><td>ADSP_GS;MSBB_MA;MSBB_RS;MSBB_TP;ROSMAP_MA;ROSMAP_RS;ROSMAP_SP</td><td>13</td></tr>\n",
       "\t<tr><td>MSBB_MA;MSBB_RS;ROSMAP_MA;ROSMAP_RS                          </td><td>13</td></tr>\n",
       "\t<tr><td>MSBB_RS;ROSMAP_RS                                            </td><td>13</td></tr>\n",
       "\t<tr><td>MSBB_RS                                                      </td><td>12</td></tr>\n",
       "\t<tr><td>ROSMAP_RS                                                    </td><td>12</td></tr>\n",
       "\t<tr><td>ADSP_GS;MSBB_RS;MSBB_TP;ROSMAP_RS                            </td><td>11</td></tr>\n",
       "\t<tr><td>MSBB_MA;MSBB_RS;MSBB_TP                                      </td><td>10</td></tr>\n",
       "\t<tr><td>MSBB_MA;ROSMAP_MA;ROSMAP_RS;ROSMAP_SP                        </td><td> 9</td></tr>\n",
       "\t<tr><td>ADSP_GS;MSBB_MA;ROSMAP_MA                                    </td><td> 8</td></tr>\n",
       "\t<tr><td>MSBB_MA;ROSMAP_MA;ROSMAP_SP                                  </td><td> 7</td></tr>\n",
       "\t<tr><td>ADSP_GS;MSBB_MA;MSBB_RS;MSBB_TP;ROSMAP_MA;ROSMAP_RS          </td><td> 6</td></tr>\n",
       "\t<tr><td>MSBB_MA;ROSMAP_SP                                            </td><td> 6</td></tr>\n",
       "\t<tr><td>ADSP_GS;MSBB_MA;MSBB_RS;ROSMAP_MA;ROSMAP_RS                  </td><td> 4</td></tr>\n",
       "\t<tr><td>ADSP_GS;MSBB_MA;ROSMAP_MA;ROSMAP_RS                          </td><td> 4</td></tr>\n",
       "\t<tr><td>MSBB_MA;MSBB_RS;MSBB_TP;ROSMAP_SP                            </td><td> 4</td></tr>\n",
       "\t<tr><td>MSBB_MA;MSBB_RS;ROSMAP_MA;ROSMAP_RS;ROSMAP_SP                </td><td> 4</td></tr>\n",
       "\t<tr><td>MSBB_TP                                                      </td><td> 4</td></tr>\n",
       "\t<tr><td>ROSMAP_SP                                                    </td><td> 4</td></tr>\n",
       "\t<tr><td>ADSP_GS;ROSMAP_MA                                            </td><td> 3</td></tr>\n",
       "\t<tr><td>MSBB_MA;MSBB_RS                                              </td><td> 3</td></tr>\n",
       "\t<tr><td>MSBB_MA;MSBB_RS;MSBB_TP;ROSMAP_MA;ROSMAP_RS                  </td><td> 3</td></tr>\n",
       "\t<tr><td>MSBB_MA;MSBB_RS;ROSMAP_SP                                    </td><td> 3</td></tr>\n",
       "\t<tr><td>MSBB_MA;MSBB_TP                                              </td><td> 3</td></tr>\n",
       "\t<tr><td>MSBB_MA;MSBB_TP;ROSMAP_MA;ROSMAP_RS                          </td><td> 3</td></tr>\n",
       "\t<tr><td>ROSMAP_MA                                                    </td><td> 3</td></tr>\n",
       "\t<tr><td>ADSP_GS;MSBB_MA;ROSMAP_MA;ROSMAP_RS;ROSMAP_SP                </td><td> 2</td></tr>\n",
       "\t<tr><td>ADSP_GS;MSBB_RS;ROSMAP_RS                                    </td><td> 2</td></tr>\n",
       "\t<tr><td>MSBB_MA;MSBB_TP;ROSMAP_MA                                    </td><td> 2</td></tr>\n",
       "\t<tr><td>ADSP_GS                                                      </td><td> 1</td></tr>\n",
       "\t<tr><td>ADSP_GS;MSBB_MA;MSBB_RS;ROSMAP_MA;ROSMAP_RS;ROSMAP_SP        </td><td> 1</td></tr>\n",
       "\t<tr><td>MSBB_MA;MSBB_RS;MSBB_TP;ROSMAP_MA;ROSMAP_RS;ROSMAP_SP        </td><td> 1</td></tr>\n",
       "\t<tr><td>MSBB_MA;MSBB_RS;ROSMAP_MA;ROSMAP_SP                          </td><td> 1</td></tr>\n",
       "\t<tr><td>MSBB_MA;ROSMAP_RS                                            </td><td> 1</td></tr>\n",
       "\t<tr><td>MSBB_RS;MSBB_TP;ROSMAP_RS                                    </td><td> 1</td></tr>\n",
       "\t<tr><td>MSBB_RS;ROSMAP_RS;ROSMAP_SP                                  </td><td> 1</td></tr>\n",
       "\t<tr><td>MSBB_TP;ROSMAP_RS                                            </td><td> 1</td></tr>\n",
       "\t<tr><td>ROSMAP_RS;ROSMAP_SP                                          </td><td> 1</td></tr>\n",
       "</tbody>\n",
       "</table>\n"
      ],
      "text/latex": [
       "A tibble: 40 × 2\n",
       "\\begin{tabular}{ll}\n",
       " SOURCE & count\\\\\n",
       " <chr> & <int>\\\\\n",
       "\\hline\n",
       "\t MSBB\\_MA;ROSMAP\\_MA                                             & 41\\\\\n",
       "\t MSBB\\_MA                                                       & 15\\\\\n",
       "\t MSBB\\_MA;ROSMAP\\_MA;ROSMAP\\_RS                                   & 15\\\\\n",
       "\t ADSP\\_GS;MSBB\\_MA;MSBB\\_RS;MSBB\\_TP;ROSMAP\\_MA;ROSMAP\\_RS;ROSMAP\\_SP & 13\\\\\n",
       "\t MSBB\\_MA;MSBB\\_RS;ROSMAP\\_MA;ROSMAP\\_RS                           & 13\\\\\n",
       "\t MSBB\\_RS;ROSMAP\\_RS                                             & 13\\\\\n",
       "\t MSBB\\_RS                                                       & 12\\\\\n",
       "\t ROSMAP\\_RS                                                     & 12\\\\\n",
       "\t ADSP\\_GS;MSBB\\_RS;MSBB\\_TP;ROSMAP\\_RS                             & 11\\\\\n",
       "\t MSBB\\_MA;MSBB\\_RS;MSBB\\_TP                                       & 10\\\\\n",
       "\t MSBB\\_MA;ROSMAP\\_MA;ROSMAP\\_RS;ROSMAP\\_SP                         &  9\\\\\n",
       "\t ADSP\\_GS;MSBB\\_MA;ROSMAP\\_MA                                     &  8\\\\\n",
       "\t MSBB\\_MA;ROSMAP\\_MA;ROSMAP\\_SP                                   &  7\\\\\n",
       "\t ADSP\\_GS;MSBB\\_MA;MSBB\\_RS;MSBB\\_TP;ROSMAP\\_MA;ROSMAP\\_RS           &  6\\\\\n",
       "\t MSBB\\_MA;ROSMAP\\_SP                                             &  6\\\\\n",
       "\t ADSP\\_GS;MSBB\\_MA;MSBB\\_RS;ROSMAP\\_MA;ROSMAP\\_RS                   &  4\\\\\n",
       "\t ADSP\\_GS;MSBB\\_MA;ROSMAP\\_MA;ROSMAP\\_RS                           &  4\\\\\n",
       "\t MSBB\\_MA;MSBB\\_RS;MSBB\\_TP;ROSMAP\\_SP                             &  4\\\\\n",
       "\t MSBB\\_MA;MSBB\\_RS;ROSMAP\\_MA;ROSMAP\\_RS;ROSMAP\\_SP                 &  4\\\\\n",
       "\t MSBB\\_TP                                                       &  4\\\\\n",
       "\t ROSMAP\\_SP                                                     &  4\\\\\n",
       "\t ADSP\\_GS;ROSMAP\\_MA                                             &  3\\\\\n",
       "\t MSBB\\_MA;MSBB\\_RS                                               &  3\\\\\n",
       "\t MSBB\\_MA;MSBB\\_RS;MSBB\\_TP;ROSMAP\\_MA;ROSMAP\\_RS                   &  3\\\\\n",
       "\t MSBB\\_MA;MSBB\\_RS;ROSMAP\\_SP                                     &  3\\\\\n",
       "\t MSBB\\_MA;MSBB\\_TP                                               &  3\\\\\n",
       "\t MSBB\\_MA;MSBB\\_TP;ROSMAP\\_MA;ROSMAP\\_RS                           &  3\\\\\n",
       "\t ROSMAP\\_MA                                                     &  3\\\\\n",
       "\t ADSP\\_GS;MSBB\\_MA;ROSMAP\\_MA;ROSMAP\\_RS;ROSMAP\\_SP                 &  2\\\\\n",
       "\t ADSP\\_GS;MSBB\\_RS;ROSMAP\\_RS                                     &  2\\\\\n",
       "\t MSBB\\_MA;MSBB\\_TP;ROSMAP\\_MA                                     &  2\\\\\n",
       "\t ADSP\\_GS                                                       &  1\\\\\n",
       "\t ADSP\\_GS;MSBB\\_MA;MSBB\\_RS;ROSMAP\\_MA;ROSMAP\\_RS;ROSMAP\\_SP         &  1\\\\\n",
       "\t MSBB\\_MA;MSBB\\_RS;MSBB\\_TP;ROSMAP\\_MA;ROSMAP\\_RS;ROSMAP\\_SP         &  1\\\\\n",
       "\t MSBB\\_MA;MSBB\\_RS;ROSMAP\\_MA;ROSMAP\\_SP                           &  1\\\\\n",
       "\t MSBB\\_MA;ROSMAP\\_RS                                             &  1\\\\\n",
       "\t MSBB\\_RS;MSBB\\_TP;ROSMAP\\_RS                                     &  1\\\\\n",
       "\t MSBB\\_RS;ROSMAP\\_RS;ROSMAP\\_SP                                   &  1\\\\\n",
       "\t MSBB\\_TP;ROSMAP\\_RS                                             &  1\\\\\n",
       "\t ROSMAP\\_RS;ROSMAP\\_SP                                           &  1\\\\\n",
       "\\end{tabular}\n"
      ],
      "text/markdown": [
       "\n",
       "A tibble: 40 × 2\n",
       "\n",
       "| SOURCE &lt;chr&gt; | count &lt;int&gt; |\n",
       "|---|---|\n",
       "| MSBB_MA;ROSMAP_MA                                             | 41 |\n",
       "| MSBB_MA                                                       | 15 |\n",
       "| MSBB_MA;ROSMAP_MA;ROSMAP_RS                                   | 15 |\n",
       "| ADSP_GS;MSBB_MA;MSBB_RS;MSBB_TP;ROSMAP_MA;ROSMAP_RS;ROSMAP_SP | 13 |\n",
       "| MSBB_MA;MSBB_RS;ROSMAP_MA;ROSMAP_RS                           | 13 |\n",
       "| MSBB_RS;ROSMAP_RS                                             | 13 |\n",
       "| MSBB_RS                                                       | 12 |\n",
       "| ROSMAP_RS                                                     | 12 |\n",
       "| ADSP_GS;MSBB_RS;MSBB_TP;ROSMAP_RS                             | 11 |\n",
       "| MSBB_MA;MSBB_RS;MSBB_TP                                       | 10 |\n",
       "| MSBB_MA;ROSMAP_MA;ROSMAP_RS;ROSMAP_SP                         |  9 |\n",
       "| ADSP_GS;MSBB_MA;ROSMAP_MA                                     |  8 |\n",
       "| MSBB_MA;ROSMAP_MA;ROSMAP_SP                                   |  7 |\n",
       "| ADSP_GS;MSBB_MA;MSBB_RS;MSBB_TP;ROSMAP_MA;ROSMAP_RS           |  6 |\n",
       "| MSBB_MA;ROSMAP_SP                                             |  6 |\n",
       "| ADSP_GS;MSBB_MA;MSBB_RS;ROSMAP_MA;ROSMAP_RS                   |  4 |\n",
       "| ADSP_GS;MSBB_MA;ROSMAP_MA;ROSMAP_RS                           |  4 |\n",
       "| MSBB_MA;MSBB_RS;MSBB_TP;ROSMAP_SP                             |  4 |\n",
       "| MSBB_MA;MSBB_RS;ROSMAP_MA;ROSMAP_RS;ROSMAP_SP                 |  4 |\n",
       "| MSBB_TP                                                       |  4 |\n",
       "| ROSMAP_SP                                                     |  4 |\n",
       "| ADSP_GS;ROSMAP_MA                                             |  3 |\n",
       "| MSBB_MA;MSBB_RS                                               |  3 |\n",
       "| MSBB_MA;MSBB_RS;MSBB_TP;ROSMAP_MA;ROSMAP_RS                   |  3 |\n",
       "| MSBB_MA;MSBB_RS;ROSMAP_SP                                     |  3 |\n",
       "| MSBB_MA;MSBB_TP                                               |  3 |\n",
       "| MSBB_MA;MSBB_TP;ROSMAP_MA;ROSMAP_RS                           |  3 |\n",
       "| ROSMAP_MA                                                     |  3 |\n",
       "| ADSP_GS;MSBB_MA;ROSMAP_MA;ROSMAP_RS;ROSMAP_SP                 |  2 |\n",
       "| ADSP_GS;MSBB_RS;ROSMAP_RS                                     |  2 |\n",
       "| MSBB_MA;MSBB_TP;ROSMAP_MA                                     |  2 |\n",
       "| ADSP_GS                                                       |  1 |\n",
       "| ADSP_GS;MSBB_MA;MSBB_RS;ROSMAP_MA;ROSMAP_RS;ROSMAP_SP         |  1 |\n",
       "| MSBB_MA;MSBB_RS;MSBB_TP;ROSMAP_MA;ROSMAP_RS;ROSMAP_SP         |  1 |\n",
       "| MSBB_MA;MSBB_RS;ROSMAP_MA;ROSMAP_SP                           |  1 |\n",
       "| MSBB_MA;ROSMAP_RS                                             |  1 |\n",
       "| MSBB_RS;MSBB_TP;ROSMAP_RS                                     |  1 |\n",
       "| MSBB_RS;ROSMAP_RS;ROSMAP_SP                                   |  1 |\n",
       "| MSBB_TP;ROSMAP_RS                                             |  1 |\n",
       "| ROSMAP_RS;ROSMAP_SP                                           |  1 |\n",
       "\n"
      ],
      "text/plain": [
       "   SOURCE                                                        count\n",
       "1  MSBB_MA;ROSMAP_MA                                             41   \n",
       "2  MSBB_MA                                                       15   \n",
       "3  MSBB_MA;ROSMAP_MA;ROSMAP_RS                                   15   \n",
       "4  ADSP_GS;MSBB_MA;MSBB_RS;MSBB_TP;ROSMAP_MA;ROSMAP_RS;ROSMAP_SP 13   \n",
       "5  MSBB_MA;MSBB_RS;ROSMAP_MA;ROSMAP_RS                           13   \n",
       "6  MSBB_RS;ROSMAP_RS                                             13   \n",
       "7  MSBB_RS                                                       12   \n",
       "8  ROSMAP_RS                                                     12   \n",
       "9  ADSP_GS;MSBB_RS;MSBB_TP;ROSMAP_RS                             11   \n",
       "10 MSBB_MA;MSBB_RS;MSBB_TP                                       10   \n",
       "11 MSBB_MA;ROSMAP_MA;ROSMAP_RS;ROSMAP_SP                          9   \n",
       "12 ADSP_GS;MSBB_MA;ROSMAP_MA                                      8   \n",
       "13 MSBB_MA;ROSMAP_MA;ROSMAP_SP                                    7   \n",
       "14 ADSP_GS;MSBB_MA;MSBB_RS;MSBB_TP;ROSMAP_MA;ROSMAP_RS            6   \n",
       "15 MSBB_MA;ROSMAP_SP                                              6   \n",
       "16 ADSP_GS;MSBB_MA;MSBB_RS;ROSMAP_MA;ROSMAP_RS                    4   \n",
       "17 ADSP_GS;MSBB_MA;ROSMAP_MA;ROSMAP_RS                            4   \n",
       "18 MSBB_MA;MSBB_RS;MSBB_TP;ROSMAP_SP                              4   \n",
       "19 MSBB_MA;MSBB_RS;ROSMAP_MA;ROSMAP_RS;ROSMAP_SP                  4   \n",
       "20 MSBB_TP                                                        4   \n",
       "21 ROSMAP_SP                                                      4   \n",
       "22 ADSP_GS;ROSMAP_MA                                              3   \n",
       "23 MSBB_MA;MSBB_RS                                                3   \n",
       "24 MSBB_MA;MSBB_RS;MSBB_TP;ROSMAP_MA;ROSMAP_RS                    3   \n",
       "25 MSBB_MA;MSBB_RS;ROSMAP_SP                                      3   \n",
       "26 MSBB_MA;MSBB_TP                                                3   \n",
       "27 MSBB_MA;MSBB_TP;ROSMAP_MA;ROSMAP_RS                            3   \n",
       "28 ROSMAP_MA                                                      3   \n",
       "29 ADSP_GS;MSBB_MA;ROSMAP_MA;ROSMAP_RS;ROSMAP_SP                  2   \n",
       "30 ADSP_GS;MSBB_RS;ROSMAP_RS                                      2   \n",
       "31 MSBB_MA;MSBB_TP;ROSMAP_MA                                      2   \n",
       "32 ADSP_GS                                                        1   \n",
       "33 ADSP_GS;MSBB_MA;MSBB_RS;ROSMAP_MA;ROSMAP_RS;ROSMAP_SP          1   \n",
       "34 MSBB_MA;MSBB_RS;MSBB_TP;ROSMAP_MA;ROSMAP_RS;ROSMAP_SP          1   \n",
       "35 MSBB_MA;MSBB_RS;ROSMAP_MA;ROSMAP_SP                            1   \n",
       "36 MSBB_MA;ROSMAP_RS                                              1   \n",
       "37 MSBB_RS;MSBB_TP;ROSMAP_RS                                      1   \n",
       "38 MSBB_RS;ROSMAP_RS;ROSMAP_SP                                    1   \n",
       "39 MSBB_TP;ROSMAP_RS                                              1   \n",
       "40 ROSMAP_RS;ROSMAP_SP                                            1   "
      ]
     },
     "metadata": {},
     "output_type": "display_data"
    }
   ],
   "source": [
    "avg_pathway_important_desc %>%\n",
    "group_by(SOURCE) %>%\n",
    "summarize(count = n()) %>%\n",
    "arrange(-count)"
   ]
  },
  {
   "cell_type": "code",
   "execution_count": 220,
   "id": "3ab40661-b55a-4793-8cba-ee3906a67e20",
   "metadata": {},
   "outputs": [
    {
     "data": {
      "text/html": [
       "<table class=\"dataframe\">\n",
       "<caption>A tibble: 41 × 2</caption>\n",
       "<thead>\n",
       "\t<tr><th scope=col>SOURCE</th><th scope=col>count</th></tr>\n",
       "\t<tr><th scope=col>&lt;chr&gt;</th><th scope=col>&lt;int&gt;</th></tr>\n",
       "</thead>\n",
       "<tbody>\n",
       "\t<tr><td>MSBB_MA;ROSMAP_MA                                            </td><td>45</td></tr>\n",
       "\t<tr><td>MSBB_MA;ROSMAP_MA;ROSMAP_RS                                  </td><td>19</td></tr>\n",
       "\t<tr><td>MSBB_MA                                                      </td><td>16</td></tr>\n",
       "\t<tr><td>MSBB_MA;MSBB_RS;ROSMAP_MA;ROSMAP_RS                          </td><td>15</td></tr>\n",
       "\t<tr><td>MSBB_RS                                                      </td><td>14</td></tr>\n",
       "\t<tr><td>MSBB_RS;ROSMAP_RS                                            </td><td>14</td></tr>\n",
       "\t<tr><td>ROSMAP_RS                                                    </td><td>13</td></tr>\n",
       "\t<tr><td>MSBB_MA;ROSMAP_MA;ROSMAP_SP                                  </td><td>12</td></tr>\n",
       "\t<tr><td>MSBB_MA;MSBB_RS;MSBB_TP                                      </td><td>11</td></tr>\n",
       "\t<tr><td>ADSP_GS;MSBB_MA;MSBB_RS;MSBB_TP;ROSMAP_MA;ROSMAP_RS;ROSMAP_SP</td><td> 9</td></tr>\n",
       "\t<tr><td>MSBB_MA;ROSMAP_MA;ROSMAP_RS;ROSMAP_SP                        </td><td> 9</td></tr>\n",
       "\t<tr><td>ADSP_GS;MSBB_MA;MSBB_RS;ROSMAP_MA;ROSMAP_RS;ROSMAP_SP        </td><td> 8</td></tr>\n",
       "\t<tr><td>ADSP_GS;MSBB_MA;ROSMAP_MA                                    </td><td> 8</td></tr>\n",
       "\t<tr><td>ROSMAP_SP                                                    </td><td> 8</td></tr>\n",
       "\t<tr><td>MSBB_MA;ROSMAP_SP                                            </td><td> 6</td></tr>\n",
       "\t<tr><td>ADSP_GS;MSBB_MA;ROSMAP_MA;ROSMAP_RS                          </td><td> 5</td></tr>\n",
       "\t<tr><td>MSBB_MA;MSBB_RS;MSBB_TP;ROSMAP_SP                            </td><td> 5</td></tr>\n",
       "\t<tr><td>MSBB_MA;MSBB_RS;ROSMAP_MA;ROSMAP_RS;ROSMAP_SP                </td><td> 5</td></tr>\n",
       "\t<tr><td>MSBB_TP                                                      </td><td> 5</td></tr>\n",
       "\t<tr><td>ADSP_GS;MSBB_MA;MSBB_RS;MSBB_TP;ROSMAP_MA;ROSMAP_RS          </td><td> 4</td></tr>\n",
       "\t<tr><td>ADSP_GS;MSBB_MA;MSBB_RS;ROSMAP_MA;ROSMAP_RS                  </td><td> 3</td></tr>\n",
       "\t<tr><td>ADSP_GS;ROSMAP_MA                                            </td><td> 3</td></tr>\n",
       "\t<tr><td>MSBB_MA;MSBB_RS                                              </td><td> 3</td></tr>\n",
       "\t<tr><td>MSBB_MA;MSBB_RS;MSBB_TP;ROSMAP_MA;ROSMAP_RS                  </td><td> 3</td></tr>\n",
       "\t<tr><td>MSBB_MA;MSBB_TP                                              </td><td> 3</td></tr>\n",
       "\t<tr><td>MSBB_MA;MSBB_TP;ROSMAP_MA;ROSMAP_RS                          </td><td> 3</td></tr>\n",
       "\t<tr><td>ROSMAP_MA                                                    </td><td> 3</td></tr>\n",
       "\t<tr><td>ADSP_GS;MSBB_MA;ROSMAP_MA;ROSMAP_RS;ROSMAP_SP                </td><td> 2</td></tr>\n",
       "\t<tr><td>ADSP_GS;MSBB_RS;MSBB_TP;ROSMAP_RS                            </td><td> 2</td></tr>\n",
       "\t<tr><td>ADSP_GS;MSBB_RS;ROSMAP_RS                                    </td><td> 2</td></tr>\n",
       "\t<tr><td>MSBB_MA;MSBB_RS;ROSMAP_SP                                    </td><td> 2</td></tr>\n",
       "\t<tr><td>MSBB_MA;MSBB_TP;ROSMAP_MA                                    </td><td> 2</td></tr>\n",
       "\t<tr><td>MSBB_RS;MSBB_TP;ROSMAP_RS                                    </td><td> 2</td></tr>\n",
       "\t<tr><td>ADSP_GS                                                      </td><td> 1</td></tr>\n",
       "\t<tr><td>MSBB_MA;MSBB_RS;MSBB_TP;ROSMAP_MA;ROSMAP_RS;ROSMAP_SP        </td><td> 1</td></tr>\n",
       "\t<tr><td>MSBB_MA;MSBB_RS;MSBB_TP;ROSMAP_RS                            </td><td> 1</td></tr>\n",
       "\t<tr><td>MSBB_MA;MSBB_RS;ROSMAP_MA;ROSMAP_SP                          </td><td> 1</td></tr>\n",
       "\t<tr><td>MSBB_MA;ROSMAP_RS                                            </td><td> 1</td></tr>\n",
       "\t<tr><td>MSBB_RS;ROSMAP_RS;ROSMAP_SP                                  </td><td> 1</td></tr>\n",
       "\t<tr><td>MSBB_TP;ROSMAP_RS                                            </td><td> 1</td></tr>\n",
       "\t<tr><td>ROSMAP_RS;ROSMAP_SP                                          </td><td> 1</td></tr>\n",
       "</tbody>\n",
       "</table>\n"
      ],
      "text/latex": [
       "A tibble: 41 × 2\n",
       "\\begin{tabular}{ll}\n",
       " SOURCE & count\\\\\n",
       " <chr> & <int>\\\\\n",
       "\\hline\n",
       "\t MSBB\\_MA;ROSMAP\\_MA                                             & 45\\\\\n",
       "\t MSBB\\_MA;ROSMAP\\_MA;ROSMAP\\_RS                                   & 19\\\\\n",
       "\t MSBB\\_MA                                                       & 16\\\\\n",
       "\t MSBB\\_MA;MSBB\\_RS;ROSMAP\\_MA;ROSMAP\\_RS                           & 15\\\\\n",
       "\t MSBB\\_RS                                                       & 14\\\\\n",
       "\t MSBB\\_RS;ROSMAP\\_RS                                             & 14\\\\\n",
       "\t ROSMAP\\_RS                                                     & 13\\\\\n",
       "\t MSBB\\_MA;ROSMAP\\_MA;ROSMAP\\_SP                                   & 12\\\\\n",
       "\t MSBB\\_MA;MSBB\\_RS;MSBB\\_TP                                       & 11\\\\\n",
       "\t ADSP\\_GS;MSBB\\_MA;MSBB\\_RS;MSBB\\_TP;ROSMAP\\_MA;ROSMAP\\_RS;ROSMAP\\_SP &  9\\\\\n",
       "\t MSBB\\_MA;ROSMAP\\_MA;ROSMAP\\_RS;ROSMAP\\_SP                         &  9\\\\\n",
       "\t ADSP\\_GS;MSBB\\_MA;MSBB\\_RS;ROSMAP\\_MA;ROSMAP\\_RS;ROSMAP\\_SP         &  8\\\\\n",
       "\t ADSP\\_GS;MSBB\\_MA;ROSMAP\\_MA                                     &  8\\\\\n",
       "\t ROSMAP\\_SP                                                     &  8\\\\\n",
       "\t MSBB\\_MA;ROSMAP\\_SP                                             &  6\\\\\n",
       "\t ADSP\\_GS;MSBB\\_MA;ROSMAP\\_MA;ROSMAP\\_RS                           &  5\\\\\n",
       "\t MSBB\\_MA;MSBB\\_RS;MSBB\\_TP;ROSMAP\\_SP                             &  5\\\\\n",
       "\t MSBB\\_MA;MSBB\\_RS;ROSMAP\\_MA;ROSMAP\\_RS;ROSMAP\\_SP                 &  5\\\\\n",
       "\t MSBB\\_TP                                                       &  5\\\\\n",
       "\t ADSP\\_GS;MSBB\\_MA;MSBB\\_RS;MSBB\\_TP;ROSMAP\\_MA;ROSMAP\\_RS           &  4\\\\\n",
       "\t ADSP\\_GS;MSBB\\_MA;MSBB\\_RS;ROSMAP\\_MA;ROSMAP\\_RS                   &  3\\\\\n",
       "\t ADSP\\_GS;ROSMAP\\_MA                                             &  3\\\\\n",
       "\t MSBB\\_MA;MSBB\\_RS                                               &  3\\\\\n",
       "\t MSBB\\_MA;MSBB\\_RS;MSBB\\_TP;ROSMAP\\_MA;ROSMAP\\_RS                   &  3\\\\\n",
       "\t MSBB\\_MA;MSBB\\_TP                                               &  3\\\\\n",
       "\t MSBB\\_MA;MSBB\\_TP;ROSMAP\\_MA;ROSMAP\\_RS                           &  3\\\\\n",
       "\t ROSMAP\\_MA                                                     &  3\\\\\n",
       "\t ADSP\\_GS;MSBB\\_MA;ROSMAP\\_MA;ROSMAP\\_RS;ROSMAP\\_SP                 &  2\\\\\n",
       "\t ADSP\\_GS;MSBB\\_RS;MSBB\\_TP;ROSMAP\\_RS                             &  2\\\\\n",
       "\t ADSP\\_GS;MSBB\\_RS;ROSMAP\\_RS                                     &  2\\\\\n",
       "\t MSBB\\_MA;MSBB\\_RS;ROSMAP\\_SP                                     &  2\\\\\n",
       "\t MSBB\\_MA;MSBB\\_TP;ROSMAP\\_MA                                     &  2\\\\\n",
       "\t MSBB\\_RS;MSBB\\_TP;ROSMAP\\_RS                                     &  2\\\\\n",
       "\t ADSP\\_GS                                                       &  1\\\\\n",
       "\t MSBB\\_MA;MSBB\\_RS;MSBB\\_TP;ROSMAP\\_MA;ROSMAP\\_RS;ROSMAP\\_SP         &  1\\\\\n",
       "\t MSBB\\_MA;MSBB\\_RS;MSBB\\_TP;ROSMAP\\_RS                             &  1\\\\\n",
       "\t MSBB\\_MA;MSBB\\_RS;ROSMAP\\_MA;ROSMAP\\_SP                           &  1\\\\\n",
       "\t MSBB\\_MA;ROSMAP\\_RS                                             &  1\\\\\n",
       "\t MSBB\\_RS;ROSMAP\\_RS;ROSMAP\\_SP                                   &  1\\\\\n",
       "\t MSBB\\_TP;ROSMAP\\_RS                                             &  1\\\\\n",
       "\t ROSMAP\\_RS;ROSMAP\\_SP                                           &  1\\\\\n",
       "\\end{tabular}\n"
      ],
      "text/markdown": [
       "\n",
       "A tibble: 41 × 2\n",
       "\n",
       "| SOURCE &lt;chr&gt; | count &lt;int&gt; |\n",
       "|---|---|\n",
       "| MSBB_MA;ROSMAP_MA                                             | 45 |\n",
       "| MSBB_MA;ROSMAP_MA;ROSMAP_RS                                   | 19 |\n",
       "| MSBB_MA                                                       | 16 |\n",
       "| MSBB_MA;MSBB_RS;ROSMAP_MA;ROSMAP_RS                           | 15 |\n",
       "| MSBB_RS                                                       | 14 |\n",
       "| MSBB_RS;ROSMAP_RS                                             | 14 |\n",
       "| ROSMAP_RS                                                     | 13 |\n",
       "| MSBB_MA;ROSMAP_MA;ROSMAP_SP                                   | 12 |\n",
       "| MSBB_MA;MSBB_RS;MSBB_TP                                       | 11 |\n",
       "| ADSP_GS;MSBB_MA;MSBB_RS;MSBB_TP;ROSMAP_MA;ROSMAP_RS;ROSMAP_SP |  9 |\n",
       "| MSBB_MA;ROSMAP_MA;ROSMAP_RS;ROSMAP_SP                         |  9 |\n",
       "| ADSP_GS;MSBB_MA;MSBB_RS;ROSMAP_MA;ROSMAP_RS;ROSMAP_SP         |  8 |\n",
       "| ADSP_GS;MSBB_MA;ROSMAP_MA                                     |  8 |\n",
       "| ROSMAP_SP                                                     |  8 |\n",
       "| MSBB_MA;ROSMAP_SP                                             |  6 |\n",
       "| ADSP_GS;MSBB_MA;ROSMAP_MA;ROSMAP_RS                           |  5 |\n",
       "| MSBB_MA;MSBB_RS;MSBB_TP;ROSMAP_SP                             |  5 |\n",
       "| MSBB_MA;MSBB_RS;ROSMAP_MA;ROSMAP_RS;ROSMAP_SP                 |  5 |\n",
       "| MSBB_TP                                                       |  5 |\n",
       "| ADSP_GS;MSBB_MA;MSBB_RS;MSBB_TP;ROSMAP_MA;ROSMAP_RS           |  4 |\n",
       "| ADSP_GS;MSBB_MA;MSBB_RS;ROSMAP_MA;ROSMAP_RS                   |  3 |\n",
       "| ADSP_GS;ROSMAP_MA                                             |  3 |\n",
       "| MSBB_MA;MSBB_RS                                               |  3 |\n",
       "| MSBB_MA;MSBB_RS;MSBB_TP;ROSMAP_MA;ROSMAP_RS                   |  3 |\n",
       "| MSBB_MA;MSBB_TP                                               |  3 |\n",
       "| MSBB_MA;MSBB_TP;ROSMAP_MA;ROSMAP_RS                           |  3 |\n",
       "| ROSMAP_MA                                                     |  3 |\n",
       "| ADSP_GS;MSBB_MA;ROSMAP_MA;ROSMAP_RS;ROSMAP_SP                 |  2 |\n",
       "| ADSP_GS;MSBB_RS;MSBB_TP;ROSMAP_RS                             |  2 |\n",
       "| ADSP_GS;MSBB_RS;ROSMAP_RS                                     |  2 |\n",
       "| MSBB_MA;MSBB_RS;ROSMAP_SP                                     |  2 |\n",
       "| MSBB_MA;MSBB_TP;ROSMAP_MA                                     |  2 |\n",
       "| MSBB_RS;MSBB_TP;ROSMAP_RS                                     |  2 |\n",
       "| ADSP_GS                                                       |  1 |\n",
       "| MSBB_MA;MSBB_RS;MSBB_TP;ROSMAP_MA;ROSMAP_RS;ROSMAP_SP         |  1 |\n",
       "| MSBB_MA;MSBB_RS;MSBB_TP;ROSMAP_RS                             |  1 |\n",
       "| MSBB_MA;MSBB_RS;ROSMAP_MA;ROSMAP_SP                           |  1 |\n",
       "| MSBB_MA;ROSMAP_RS                                             |  1 |\n",
       "| MSBB_RS;ROSMAP_RS;ROSMAP_SP                                   |  1 |\n",
       "| MSBB_TP;ROSMAP_RS                                             |  1 |\n",
       "| ROSMAP_RS;ROSMAP_SP                                           |  1 |\n",
       "\n"
      ],
      "text/plain": [
       "   SOURCE                                                        count\n",
       "1  MSBB_MA;ROSMAP_MA                                             45   \n",
       "2  MSBB_MA;ROSMAP_MA;ROSMAP_RS                                   19   \n",
       "3  MSBB_MA                                                       16   \n",
       "4  MSBB_MA;MSBB_RS;ROSMAP_MA;ROSMAP_RS                           15   \n",
       "5  MSBB_RS                                                       14   \n",
       "6  MSBB_RS;ROSMAP_RS                                             14   \n",
       "7  ROSMAP_RS                                                     13   \n",
       "8  MSBB_MA;ROSMAP_MA;ROSMAP_SP                                   12   \n",
       "9  MSBB_MA;MSBB_RS;MSBB_TP                                       11   \n",
       "10 ADSP_GS;MSBB_MA;MSBB_RS;MSBB_TP;ROSMAP_MA;ROSMAP_RS;ROSMAP_SP  9   \n",
       "11 MSBB_MA;ROSMAP_MA;ROSMAP_RS;ROSMAP_SP                          9   \n",
       "12 ADSP_GS;MSBB_MA;MSBB_RS;ROSMAP_MA;ROSMAP_RS;ROSMAP_SP          8   \n",
       "13 ADSP_GS;MSBB_MA;ROSMAP_MA                                      8   \n",
       "14 ROSMAP_SP                                                      8   \n",
       "15 MSBB_MA;ROSMAP_SP                                              6   \n",
       "16 ADSP_GS;MSBB_MA;ROSMAP_MA;ROSMAP_RS                            5   \n",
       "17 MSBB_MA;MSBB_RS;MSBB_TP;ROSMAP_SP                              5   \n",
       "18 MSBB_MA;MSBB_RS;ROSMAP_MA;ROSMAP_RS;ROSMAP_SP                  5   \n",
       "19 MSBB_TP                                                        5   \n",
       "20 ADSP_GS;MSBB_MA;MSBB_RS;MSBB_TP;ROSMAP_MA;ROSMAP_RS            4   \n",
       "21 ADSP_GS;MSBB_MA;MSBB_RS;ROSMAP_MA;ROSMAP_RS                    3   \n",
       "22 ADSP_GS;ROSMAP_MA                                              3   \n",
       "23 MSBB_MA;MSBB_RS                                                3   \n",
       "24 MSBB_MA;MSBB_RS;MSBB_TP;ROSMAP_MA;ROSMAP_RS                    3   \n",
       "25 MSBB_MA;MSBB_TP                                                3   \n",
       "26 MSBB_MA;MSBB_TP;ROSMAP_MA;ROSMAP_RS                            3   \n",
       "27 ROSMAP_MA                                                      3   \n",
       "28 ADSP_GS;MSBB_MA;ROSMAP_MA;ROSMAP_RS;ROSMAP_SP                  2   \n",
       "29 ADSP_GS;MSBB_RS;MSBB_TP;ROSMAP_RS                              2   \n",
       "30 ADSP_GS;MSBB_RS;ROSMAP_RS                                      2   \n",
       "31 MSBB_MA;MSBB_RS;ROSMAP_SP                                      2   \n",
       "32 MSBB_MA;MSBB_TP;ROSMAP_MA                                      2   \n",
       "33 MSBB_RS;MSBB_TP;ROSMAP_RS                                      2   \n",
       "34 ADSP_GS                                                        1   \n",
       "35 MSBB_MA;MSBB_RS;MSBB_TP;ROSMAP_MA;ROSMAP_RS;ROSMAP_SP          1   \n",
       "36 MSBB_MA;MSBB_RS;MSBB_TP;ROSMAP_RS                              1   \n",
       "37 MSBB_MA;MSBB_RS;ROSMAP_MA;ROSMAP_SP                            1   \n",
       "38 MSBB_MA;ROSMAP_RS                                              1   \n",
       "39 MSBB_RS;ROSMAP_RS;ROSMAP_SP                                    1   \n",
       "40 MSBB_TP;ROSMAP_RS                                              1   \n",
       "41 ROSMAP_RS;ROSMAP_SP                                            1   "
      ]
     },
     "metadata": {},
     "output_type": "display_data"
    }
   ],
   "source": [
    "avg_gene_important_desc %>%\n",
    "group_by(SOURCE) %>%\n",
    "summarize(count = n()) %>%\n",
    "arrange(-count)"
   ]
  },
  {
   "cell_type": "code",
   "execution_count": 221,
   "id": "fa11a334-42fd-4d55-9933-8019bfa521c2",
   "metadata": {},
   "outputs": [
    {
     "data": {
      "text/html": [
       "<table class=\"dataframe\">\n",
       "<caption>A tibble: 45 × 2</caption>\n",
       "<thead>\n",
       "\t<tr><th scope=col>SOURCE</th><th scope=col>count</th></tr>\n",
       "\t<tr><th scope=col>&lt;chr&gt;</th><th scope=col>&lt;int&gt;</th></tr>\n",
       "</thead>\n",
       "<tbody>\n",
       "\t<tr><td>MSBB_MA;ROSMAP_MA                                            </td><td>47</td></tr>\n",
       "\t<tr><td>MSBB_MA                                                      </td><td>23</td></tr>\n",
       "\t<tr><td>MSBB_MA;MSBB_RS;ROSMAP_MA;ROSMAP_RS                          </td><td>20</td></tr>\n",
       "\t<tr><td>MSBB_MA;ROSMAP_MA;ROSMAP_RS                                  </td><td>16</td></tr>\n",
       "\t<tr><td>MSBB_RS;ROSMAP_RS                                            </td><td>16</td></tr>\n",
       "\t<tr><td>ROSMAP_RS                                                    </td><td>15</td></tr>\n",
       "\t<tr><td>MSBB_RS                                                      </td><td>12</td></tr>\n",
       "\t<tr><td>MSBB_MA;MSBB_RS;MSBB_TP                                      </td><td>11</td></tr>\n",
       "\t<tr><td>MSBB_MA;ROSMAP_MA;ROSMAP_RS;ROSMAP_SP                        </td><td> 9</td></tr>\n",
       "\t<tr><td>ADSP_GS;MSBB_MA;MSBB_RS;MSBB_TP;ROSMAP_MA;ROSMAP_RS          </td><td> 8</td></tr>\n",
       "\t<tr><td>MSBB_MA;ROSMAP_MA;ROSMAP_SP                                  </td><td> 8</td></tr>\n",
       "\t<tr><td>ADSP_GS;MSBB_MA;MSBB_RS;MSBB_TP;ROSMAP_MA;ROSMAP_RS;ROSMAP_SP</td><td> 7</td></tr>\n",
       "\t<tr><td>MSBB_MA;ROSMAP_SP                                            </td><td> 7</td></tr>\n",
       "\t<tr><td>ROSMAP_SP                                                    </td><td> 6</td></tr>\n",
       "\t<tr><td>ADSP_GS;MSBB_RS;MSBB_TP;ROSMAP_RS                            </td><td> 5</td></tr>\n",
       "\t<tr><td>MSBB_MA;MSBB_RS;ROSMAP_MA;ROSMAP_RS;ROSMAP_SP                </td><td> 5</td></tr>\n",
       "\t<tr><td>MSBB_MA;MSBB_RS;ROSMAP_SP                                    </td><td> 5</td></tr>\n",
       "\t<tr><td>MSBB_MA;MSBB_TP;ROSMAP_MA;ROSMAP_RS                          </td><td> 5</td></tr>\n",
       "\t<tr><td>MSBB_TP                                                      </td><td> 5</td></tr>\n",
       "\t<tr><td>ADSP_GS;MSBB_MA;ROSMAP_MA                                    </td><td> 4</td></tr>\n",
       "\t<tr><td>MSBB_MA;MSBB_RS                                              </td><td> 4</td></tr>\n",
       "\t<tr><td>MSBB_MA;MSBB_RS;MSBB_TP;ROSMAP_MA;ROSMAP_RS                  </td><td> 4</td></tr>\n",
       "\t<tr><td>MSBB_MA;MSBB_RS;MSBB_TP;ROSMAP_SP                            </td><td> 4</td></tr>\n",
       "\t<tr><td>MSBB_MA;MSBB_TP                                              </td><td> 4</td></tr>\n",
       "\t<tr><td>ADSP_GS;MSBB_MA;ROSMAP_MA;ROSMAP_RS                          </td><td> 3</td></tr>\n",
       "\t<tr><td>ADSP_GS;MSBB_MA;ROSMAP_MA;ROSMAP_RS;ROSMAP_SP                </td><td> 3</td></tr>\n",
       "\t<tr><td>ROSMAP_MA                                                    </td><td> 3</td></tr>\n",
       "\t<tr><td>ADSP_GS;MSBB_RS;ROSMAP_RS                                    </td><td> 2</td></tr>\n",
       "\t<tr><td>ADSP_GS;ROSMAP_MA                                            </td><td> 2</td></tr>\n",
       "\t<tr><td>MSBB_MA;MSBB_RS;MSBB_TP;ROSMAP_MA;ROSMAP_RS;ROSMAP_SP        </td><td> 2</td></tr>\n",
       "\t<tr><td>ADSP_GS                                                      </td><td> 1</td></tr>\n",
       "\t<tr><td>ADSP_GS;MSBB_MA;MSBB_RS;ROSMAP_MA;ROSMAP_RS;ROSMAP_SP        </td><td> 1</td></tr>\n",
       "\t<tr><td>ADSP_GS;MSBB_MA;ROSMAP_RS                                    </td><td> 1</td></tr>\n",
       "\t<tr><td>ADSP_GS;MSBB_MA;ROSMAP_SP                                    </td><td> 1</td></tr>\n",
       "\t<tr><td>MSBB_MA;MSBB_RS;MSBB_TP;ROSMAP_RS                            </td><td> 1</td></tr>\n",
       "\t<tr><td>MSBB_MA;MSBB_RS;ROSMAP_MA;ROSMAP_SP                          </td><td> 1</td></tr>\n",
       "\t<tr><td>MSBB_MA;MSBB_TP;ROSMAP_MA                                    </td><td> 1</td></tr>\n",
       "\t<tr><td>MSBB_MA;MSBB_TP;ROSMAP_MA;ROSMAP_RS;ROSMAP_SP                </td><td> 1</td></tr>\n",
       "\t<tr><td>MSBB_MA;MSBB_TP;ROSMAP_SP                                    </td><td> 1</td></tr>\n",
       "\t<tr><td>MSBB_MA;ROSMAP_RS                                            </td><td> 1</td></tr>\n",
       "\t<tr><td>MSBB_RS;MSBB_TP;ROSMAP_RS                                    </td><td> 1</td></tr>\n",
       "\t<tr><td>MSBB_RS;ROSMAP_RS;ROSMAP_SP                                  </td><td> 1</td></tr>\n",
       "\t<tr><td>MSBB_TP;ROSMAP_RS                                            </td><td> 1</td></tr>\n",
       "\t<tr><td>ROSMAP_MA;ROSMAP_RS                                          </td><td> 1</td></tr>\n",
       "\t<tr><td>ROSMAP_RS;ROSMAP_SP                                          </td><td> 1</td></tr>\n",
       "</tbody>\n",
       "</table>\n"
      ],
      "text/latex": [
       "A tibble: 45 × 2\n",
       "\\begin{tabular}{ll}\n",
       " SOURCE & count\\\\\n",
       " <chr> & <int>\\\\\n",
       "\\hline\n",
       "\t MSBB\\_MA;ROSMAP\\_MA                                             & 47\\\\\n",
       "\t MSBB\\_MA                                                       & 23\\\\\n",
       "\t MSBB\\_MA;MSBB\\_RS;ROSMAP\\_MA;ROSMAP\\_RS                           & 20\\\\\n",
       "\t MSBB\\_MA;ROSMAP\\_MA;ROSMAP\\_RS                                   & 16\\\\\n",
       "\t MSBB\\_RS;ROSMAP\\_RS                                             & 16\\\\\n",
       "\t ROSMAP\\_RS                                                     & 15\\\\\n",
       "\t MSBB\\_RS                                                       & 12\\\\\n",
       "\t MSBB\\_MA;MSBB\\_RS;MSBB\\_TP                                       & 11\\\\\n",
       "\t MSBB\\_MA;ROSMAP\\_MA;ROSMAP\\_RS;ROSMAP\\_SP                         &  9\\\\\n",
       "\t ADSP\\_GS;MSBB\\_MA;MSBB\\_RS;MSBB\\_TP;ROSMAP\\_MA;ROSMAP\\_RS           &  8\\\\\n",
       "\t MSBB\\_MA;ROSMAP\\_MA;ROSMAP\\_SP                                   &  8\\\\\n",
       "\t ADSP\\_GS;MSBB\\_MA;MSBB\\_RS;MSBB\\_TP;ROSMAP\\_MA;ROSMAP\\_RS;ROSMAP\\_SP &  7\\\\\n",
       "\t MSBB\\_MA;ROSMAP\\_SP                                             &  7\\\\\n",
       "\t ROSMAP\\_SP                                                     &  6\\\\\n",
       "\t ADSP\\_GS;MSBB\\_RS;MSBB\\_TP;ROSMAP\\_RS                             &  5\\\\\n",
       "\t MSBB\\_MA;MSBB\\_RS;ROSMAP\\_MA;ROSMAP\\_RS;ROSMAP\\_SP                 &  5\\\\\n",
       "\t MSBB\\_MA;MSBB\\_RS;ROSMAP\\_SP                                     &  5\\\\\n",
       "\t MSBB\\_MA;MSBB\\_TP;ROSMAP\\_MA;ROSMAP\\_RS                           &  5\\\\\n",
       "\t MSBB\\_TP                                                       &  5\\\\\n",
       "\t ADSP\\_GS;MSBB\\_MA;ROSMAP\\_MA                                     &  4\\\\\n",
       "\t MSBB\\_MA;MSBB\\_RS                                               &  4\\\\\n",
       "\t MSBB\\_MA;MSBB\\_RS;MSBB\\_TP;ROSMAP\\_MA;ROSMAP\\_RS                   &  4\\\\\n",
       "\t MSBB\\_MA;MSBB\\_RS;MSBB\\_TP;ROSMAP\\_SP                             &  4\\\\\n",
       "\t MSBB\\_MA;MSBB\\_TP                                               &  4\\\\\n",
       "\t ADSP\\_GS;MSBB\\_MA;ROSMAP\\_MA;ROSMAP\\_RS                           &  3\\\\\n",
       "\t ADSP\\_GS;MSBB\\_MA;ROSMAP\\_MA;ROSMAP\\_RS;ROSMAP\\_SP                 &  3\\\\\n",
       "\t ROSMAP\\_MA                                                     &  3\\\\\n",
       "\t ADSP\\_GS;MSBB\\_RS;ROSMAP\\_RS                                     &  2\\\\\n",
       "\t ADSP\\_GS;ROSMAP\\_MA                                             &  2\\\\\n",
       "\t MSBB\\_MA;MSBB\\_RS;MSBB\\_TP;ROSMAP\\_MA;ROSMAP\\_RS;ROSMAP\\_SP         &  2\\\\\n",
       "\t ADSP\\_GS                                                       &  1\\\\\n",
       "\t ADSP\\_GS;MSBB\\_MA;MSBB\\_RS;ROSMAP\\_MA;ROSMAP\\_RS;ROSMAP\\_SP         &  1\\\\\n",
       "\t ADSP\\_GS;MSBB\\_MA;ROSMAP\\_RS                                     &  1\\\\\n",
       "\t ADSP\\_GS;MSBB\\_MA;ROSMAP\\_SP                                     &  1\\\\\n",
       "\t MSBB\\_MA;MSBB\\_RS;MSBB\\_TP;ROSMAP\\_RS                             &  1\\\\\n",
       "\t MSBB\\_MA;MSBB\\_RS;ROSMAP\\_MA;ROSMAP\\_SP                           &  1\\\\\n",
       "\t MSBB\\_MA;MSBB\\_TP;ROSMAP\\_MA                                     &  1\\\\\n",
       "\t MSBB\\_MA;MSBB\\_TP;ROSMAP\\_MA;ROSMAP\\_RS;ROSMAP\\_SP                 &  1\\\\\n",
       "\t MSBB\\_MA;MSBB\\_TP;ROSMAP\\_SP                                     &  1\\\\\n",
       "\t MSBB\\_MA;ROSMAP\\_RS                                             &  1\\\\\n",
       "\t MSBB\\_RS;MSBB\\_TP;ROSMAP\\_RS                                     &  1\\\\\n",
       "\t MSBB\\_RS;ROSMAP\\_RS;ROSMAP\\_SP                                   &  1\\\\\n",
       "\t MSBB\\_TP;ROSMAP\\_RS                                             &  1\\\\\n",
       "\t ROSMAP\\_MA;ROSMAP\\_RS                                           &  1\\\\\n",
       "\t ROSMAP\\_RS;ROSMAP\\_SP                                           &  1\\\\\n",
       "\\end{tabular}\n"
      ],
      "text/markdown": [
       "\n",
       "A tibble: 45 × 2\n",
       "\n",
       "| SOURCE &lt;chr&gt; | count &lt;int&gt; |\n",
       "|---|---|\n",
       "| MSBB_MA;ROSMAP_MA                                             | 47 |\n",
       "| MSBB_MA                                                       | 23 |\n",
       "| MSBB_MA;MSBB_RS;ROSMAP_MA;ROSMAP_RS                           | 20 |\n",
       "| MSBB_MA;ROSMAP_MA;ROSMAP_RS                                   | 16 |\n",
       "| MSBB_RS;ROSMAP_RS                                             | 16 |\n",
       "| ROSMAP_RS                                                     | 15 |\n",
       "| MSBB_RS                                                       | 12 |\n",
       "| MSBB_MA;MSBB_RS;MSBB_TP                                       | 11 |\n",
       "| MSBB_MA;ROSMAP_MA;ROSMAP_RS;ROSMAP_SP                         |  9 |\n",
       "| ADSP_GS;MSBB_MA;MSBB_RS;MSBB_TP;ROSMAP_MA;ROSMAP_RS           |  8 |\n",
       "| MSBB_MA;ROSMAP_MA;ROSMAP_SP                                   |  8 |\n",
       "| ADSP_GS;MSBB_MA;MSBB_RS;MSBB_TP;ROSMAP_MA;ROSMAP_RS;ROSMAP_SP |  7 |\n",
       "| MSBB_MA;ROSMAP_SP                                             |  7 |\n",
       "| ROSMAP_SP                                                     |  6 |\n",
       "| ADSP_GS;MSBB_RS;MSBB_TP;ROSMAP_RS                             |  5 |\n",
       "| MSBB_MA;MSBB_RS;ROSMAP_MA;ROSMAP_RS;ROSMAP_SP                 |  5 |\n",
       "| MSBB_MA;MSBB_RS;ROSMAP_SP                                     |  5 |\n",
       "| MSBB_MA;MSBB_TP;ROSMAP_MA;ROSMAP_RS                           |  5 |\n",
       "| MSBB_TP                                                       |  5 |\n",
       "| ADSP_GS;MSBB_MA;ROSMAP_MA                                     |  4 |\n",
       "| MSBB_MA;MSBB_RS                                               |  4 |\n",
       "| MSBB_MA;MSBB_RS;MSBB_TP;ROSMAP_MA;ROSMAP_RS                   |  4 |\n",
       "| MSBB_MA;MSBB_RS;MSBB_TP;ROSMAP_SP                             |  4 |\n",
       "| MSBB_MA;MSBB_TP                                               |  4 |\n",
       "| ADSP_GS;MSBB_MA;ROSMAP_MA;ROSMAP_RS                           |  3 |\n",
       "| ADSP_GS;MSBB_MA;ROSMAP_MA;ROSMAP_RS;ROSMAP_SP                 |  3 |\n",
       "| ROSMAP_MA                                                     |  3 |\n",
       "| ADSP_GS;MSBB_RS;ROSMAP_RS                                     |  2 |\n",
       "| ADSP_GS;ROSMAP_MA                                             |  2 |\n",
       "| MSBB_MA;MSBB_RS;MSBB_TP;ROSMAP_MA;ROSMAP_RS;ROSMAP_SP         |  2 |\n",
       "| ADSP_GS                                                       |  1 |\n",
       "| ADSP_GS;MSBB_MA;MSBB_RS;ROSMAP_MA;ROSMAP_RS;ROSMAP_SP         |  1 |\n",
       "| ADSP_GS;MSBB_MA;ROSMAP_RS                                     |  1 |\n",
       "| ADSP_GS;MSBB_MA;ROSMAP_SP                                     |  1 |\n",
       "| MSBB_MA;MSBB_RS;MSBB_TP;ROSMAP_RS                             |  1 |\n",
       "| MSBB_MA;MSBB_RS;ROSMAP_MA;ROSMAP_SP                           |  1 |\n",
       "| MSBB_MA;MSBB_TP;ROSMAP_MA                                     |  1 |\n",
       "| MSBB_MA;MSBB_TP;ROSMAP_MA;ROSMAP_RS;ROSMAP_SP                 |  1 |\n",
       "| MSBB_MA;MSBB_TP;ROSMAP_SP                                     |  1 |\n",
       "| MSBB_MA;ROSMAP_RS                                             |  1 |\n",
       "| MSBB_RS;MSBB_TP;ROSMAP_RS                                     |  1 |\n",
       "| MSBB_RS;ROSMAP_RS;ROSMAP_SP                                   |  1 |\n",
       "| MSBB_TP;ROSMAP_RS                                             |  1 |\n",
       "| ROSMAP_MA;ROSMAP_RS                                           |  1 |\n",
       "| ROSMAP_RS;ROSMAP_SP                                           |  1 |\n",
       "\n"
      ],
      "text/plain": [
       "   SOURCE                                                        count\n",
       "1  MSBB_MA;ROSMAP_MA                                             47   \n",
       "2  MSBB_MA                                                       23   \n",
       "3  MSBB_MA;MSBB_RS;ROSMAP_MA;ROSMAP_RS                           20   \n",
       "4  MSBB_MA;ROSMAP_MA;ROSMAP_RS                                   16   \n",
       "5  MSBB_RS;ROSMAP_RS                                             16   \n",
       "6  ROSMAP_RS                                                     15   \n",
       "7  MSBB_RS                                                       12   \n",
       "8  MSBB_MA;MSBB_RS;MSBB_TP                                       11   \n",
       "9  MSBB_MA;ROSMAP_MA;ROSMAP_RS;ROSMAP_SP                          9   \n",
       "10 ADSP_GS;MSBB_MA;MSBB_RS;MSBB_TP;ROSMAP_MA;ROSMAP_RS            8   \n",
       "11 MSBB_MA;ROSMAP_MA;ROSMAP_SP                                    8   \n",
       "12 ADSP_GS;MSBB_MA;MSBB_RS;MSBB_TP;ROSMAP_MA;ROSMAP_RS;ROSMAP_SP  7   \n",
       "13 MSBB_MA;ROSMAP_SP                                              7   \n",
       "14 ROSMAP_SP                                                      6   \n",
       "15 ADSP_GS;MSBB_RS;MSBB_TP;ROSMAP_RS                              5   \n",
       "16 MSBB_MA;MSBB_RS;ROSMAP_MA;ROSMAP_RS;ROSMAP_SP                  5   \n",
       "17 MSBB_MA;MSBB_RS;ROSMAP_SP                                      5   \n",
       "18 MSBB_MA;MSBB_TP;ROSMAP_MA;ROSMAP_RS                            5   \n",
       "19 MSBB_TP                                                        5   \n",
       "20 ADSP_GS;MSBB_MA;ROSMAP_MA                                      4   \n",
       "21 MSBB_MA;MSBB_RS                                                4   \n",
       "22 MSBB_MA;MSBB_RS;MSBB_TP;ROSMAP_MA;ROSMAP_RS                    4   \n",
       "23 MSBB_MA;MSBB_RS;MSBB_TP;ROSMAP_SP                              4   \n",
       "24 MSBB_MA;MSBB_TP                                                4   \n",
       "25 ADSP_GS;MSBB_MA;ROSMAP_MA;ROSMAP_RS                            3   \n",
       "26 ADSP_GS;MSBB_MA;ROSMAP_MA;ROSMAP_RS;ROSMAP_SP                  3   \n",
       "27 ROSMAP_MA                                                      3   \n",
       "28 ADSP_GS;MSBB_RS;ROSMAP_RS                                      2   \n",
       "29 ADSP_GS;ROSMAP_MA                                              2   \n",
       "30 MSBB_MA;MSBB_RS;MSBB_TP;ROSMAP_MA;ROSMAP_RS;ROSMAP_SP          2   \n",
       "31 ADSP_GS                                                        1   \n",
       "32 ADSP_GS;MSBB_MA;MSBB_RS;ROSMAP_MA;ROSMAP_RS;ROSMAP_SP          1   \n",
       "33 ADSP_GS;MSBB_MA;ROSMAP_RS                                      1   \n",
       "34 ADSP_GS;MSBB_MA;ROSMAP_SP                                      1   \n",
       "35 MSBB_MA;MSBB_RS;MSBB_TP;ROSMAP_RS                              1   \n",
       "36 MSBB_MA;MSBB_RS;ROSMAP_MA;ROSMAP_SP                            1   \n",
       "37 MSBB_MA;MSBB_TP;ROSMAP_MA                                      1   \n",
       "38 MSBB_MA;MSBB_TP;ROSMAP_MA;ROSMAP_RS;ROSMAP_SP                  1   \n",
       "39 MSBB_MA;MSBB_TP;ROSMAP_SP                                      1   \n",
       "40 MSBB_MA;ROSMAP_RS                                              1   \n",
       "41 MSBB_RS;MSBB_TP;ROSMAP_RS                                      1   \n",
       "42 MSBB_RS;ROSMAP_RS;ROSMAP_SP                                    1   \n",
       "43 MSBB_TP;ROSMAP_RS                                              1   \n",
       "44 ROSMAP_MA;ROSMAP_RS                                            1   \n",
       "45 ROSMAP_RS;ROSMAP_SP                                            1   "
      ]
     },
     "metadata": {},
     "output_type": "display_data"
    }
   ],
   "source": [
    "avg_pathway_msbb_important_desc %>%\n",
    "group_by(SOURCE) %>%\n",
    "summarize(count = n()) %>%\n",
    "arrange(-count)"
   ]
  },
  {
   "cell_type": "code",
   "execution_count": 222,
   "id": "039dfe91-982d-45fd-a65e-ecf0fb1c296e",
   "metadata": {},
   "outputs": [
    {
     "data": {
      "text/html": [
       "<table class=\"dataframe\">\n",
       "<caption>A tibble: 47 × 2</caption>\n",
       "<thead>\n",
       "\t<tr><th scope=col>SOURCE</th><th scope=col>count</th></tr>\n",
       "\t<tr><th scope=col>&lt;chr&gt;</th><th scope=col>&lt;int&gt;</th></tr>\n",
       "</thead>\n",
       "<tbody>\n",
       "\t<tr><td>MSBB_MA;ROSMAP_MA                                            </td><td>53</td></tr>\n",
       "\t<tr><td>MSBB_MA                                                      </td><td>23</td></tr>\n",
       "\t<tr><td>MSBB_MA;MSBB_RS;ROSMAP_MA;ROSMAP_RS                          </td><td>20</td></tr>\n",
       "\t<tr><td>MSBB_RS;ROSMAP_RS                                            </td><td>18</td></tr>\n",
       "\t<tr><td>ROSMAP_RS                                                    </td><td>17</td></tr>\n",
       "\t<tr><td>MSBB_MA;ROSMAP_MA;ROSMAP_RS                                  </td><td>16</td></tr>\n",
       "\t<tr><td>MSBB_RS                                                      </td><td>15</td></tr>\n",
       "\t<tr><td>ADSP_GS;MSBB_MA;MSBB_RS;MSBB_TP;ROSMAP_MA;ROSMAP_RS;ROSMAP_SP</td><td>14</td></tr>\n",
       "\t<tr><td>MSBB_MA;MSBB_RS;MSBB_TP                                      </td><td>11</td></tr>\n",
       "\t<tr><td>MSBB_MA;ROSMAP_MA;ROSMAP_SP                                  </td><td>11</td></tr>\n",
       "\t<tr><td>MSBB_MA;ROSMAP_MA;ROSMAP_RS;ROSMAP_SP                        </td><td> 9</td></tr>\n",
       "\t<tr><td>MSBB_MA;ROSMAP_SP                                            </td><td> 9</td></tr>\n",
       "\t<tr><td>MSBB_MA;MSBB_RS;MSBB_TP;ROSMAP_MA;ROSMAP_RS                  </td><td> 7</td></tr>\n",
       "\t<tr><td>MSBB_MA;MSBB_RS;MSBB_TP;ROSMAP_SP                            </td><td> 7</td></tr>\n",
       "\t<tr><td>MSBB_TP                                                      </td><td> 7</td></tr>\n",
       "\t<tr><td>ROSMAP_SP                                                    </td><td> 7</td></tr>\n",
       "\t<tr><td>ADSP_GS;MSBB_MA;ROSMAP_MA                                    </td><td> 6</td></tr>\n",
       "\t<tr><td>MSBB_MA;MSBB_RS;ROSMAP_MA;ROSMAP_RS;ROSMAP_SP                </td><td> 5</td></tr>\n",
       "\t<tr><td>MSBB_MA;MSBB_TP;ROSMAP_MA;ROSMAP_RS                          </td><td> 5</td></tr>\n",
       "\t<tr><td>ADSP_GS;MSBB_MA;MSBB_RS;MSBB_TP;ROSMAP_MA;ROSMAP_RS          </td><td> 4</td></tr>\n",
       "\t<tr><td>MSBB_MA;MSBB_RS                                              </td><td> 4</td></tr>\n",
       "\t<tr><td>ADSP_GS;MSBB_MA;ROSMAP_MA;ROSMAP_RS;ROSMAP_SP                </td><td> 3</td></tr>\n",
       "\t<tr><td>ADSP_GS;ROSMAP_MA                                            </td><td> 3</td></tr>\n",
       "\t<tr><td>MSBB_MA;MSBB_RS;ROSMAP_SP                                    </td><td> 3</td></tr>\n",
       "\t<tr><td>MSBB_MA;MSBB_TP                                              </td><td> 3</td></tr>\n",
       "\t<tr><td>ROSMAP_MA                                                    </td><td> 3</td></tr>\n",
       "\t<tr><td>ADSP_GS;MSBB_MA;MSBB_RS;ROSMAP_MA;ROSMAP_RS                  </td><td> 2</td></tr>\n",
       "\t<tr><td>ADSP_GS;MSBB_MA;MSBB_TP;ROSMAP_MA;ROSMAP_RS                  </td><td> 2</td></tr>\n",
       "\t<tr><td>ADSP_GS;MSBB_MA;ROSMAP_MA;ROSMAP_RS                          </td><td> 2</td></tr>\n",
       "\t<tr><td>ADSP_GS;MSBB_RS;MSBB_TP;ROSMAP_RS                            </td><td> 2</td></tr>\n",
       "\t<tr><td>ADSP_GS;MSBB_RS;ROSMAP_RS                                    </td><td> 2</td></tr>\n",
       "\t<tr><td>MSBB_MA;MSBB_RS;MSBB_TP;ROSMAP_MA;ROSMAP_RS;ROSMAP_SP        </td><td> 2</td></tr>\n",
       "\t<tr><td>MSBB_MA;MSBB_TP;ROSMAP_MA                                    </td><td> 2</td></tr>\n",
       "\t<tr><td>MSBB_MA;MSBB_TP;ROSMAP_SP                                    </td><td> 2</td></tr>\n",
       "\t<tr><td>MSBB_RS;MSBB_TP;ROSMAP_RS                                    </td><td> 2</td></tr>\n",
       "\t<tr><td>ADSP_GS                                                      </td><td> 1</td></tr>\n",
       "\t<tr><td>ADSP_GS;MSBB_MA;MSBB_RS;ROSMAP_MA;ROSMAP_RS;ROSMAP_SP        </td><td> 1</td></tr>\n",
       "\t<tr><td>ADSP_GS;MSBB_MA;ROSMAP_MA;ROSMAP_SP                          </td><td> 1</td></tr>\n",
       "\t<tr><td>MSBB_MA;MSBB_RS;MSBB_TP;ROSMAP_RS                            </td><td> 1</td></tr>\n",
       "\t<tr><td>MSBB_MA;MSBB_RS;ROSMAP_MA;ROSMAP_SP                          </td><td> 1</td></tr>\n",
       "\t<tr><td>MSBB_MA;MSBB_TP;ROSMAP_MA;ROSMAP_RS;ROSMAP_SP                </td><td> 1</td></tr>\n",
       "\t<tr><td>MSBB_MA;MSBB_TP;ROSMAP_MA;ROSMAP_SP                          </td><td> 1</td></tr>\n",
       "\t<tr><td>MSBB_MA;ROSMAP_RS                                            </td><td> 1</td></tr>\n",
       "\t<tr><td>MSBB_RS;ROSMAP_RS;ROSMAP_SP                                  </td><td> 1</td></tr>\n",
       "\t<tr><td>MSBB_TP;ROSMAP_RS                                            </td><td> 1</td></tr>\n",
       "\t<tr><td>ROSMAP_MA;ROSMAP_RS                                          </td><td> 1</td></tr>\n",
       "\t<tr><td>ROSMAP_RS;ROSMAP_SP                                          </td><td> 1</td></tr>\n",
       "</tbody>\n",
       "</table>\n"
      ],
      "text/latex": [
       "A tibble: 47 × 2\n",
       "\\begin{tabular}{ll}\n",
       " SOURCE & count\\\\\n",
       " <chr> & <int>\\\\\n",
       "\\hline\n",
       "\t MSBB\\_MA;ROSMAP\\_MA                                             & 53\\\\\n",
       "\t MSBB\\_MA                                                       & 23\\\\\n",
       "\t MSBB\\_MA;MSBB\\_RS;ROSMAP\\_MA;ROSMAP\\_RS                           & 20\\\\\n",
       "\t MSBB\\_RS;ROSMAP\\_RS                                             & 18\\\\\n",
       "\t ROSMAP\\_RS                                                     & 17\\\\\n",
       "\t MSBB\\_MA;ROSMAP\\_MA;ROSMAP\\_RS                                   & 16\\\\\n",
       "\t MSBB\\_RS                                                       & 15\\\\\n",
       "\t ADSP\\_GS;MSBB\\_MA;MSBB\\_RS;MSBB\\_TP;ROSMAP\\_MA;ROSMAP\\_RS;ROSMAP\\_SP & 14\\\\\n",
       "\t MSBB\\_MA;MSBB\\_RS;MSBB\\_TP                                       & 11\\\\\n",
       "\t MSBB\\_MA;ROSMAP\\_MA;ROSMAP\\_SP                                   & 11\\\\\n",
       "\t MSBB\\_MA;ROSMAP\\_MA;ROSMAP\\_RS;ROSMAP\\_SP                         &  9\\\\\n",
       "\t MSBB\\_MA;ROSMAP\\_SP                                             &  9\\\\\n",
       "\t MSBB\\_MA;MSBB\\_RS;MSBB\\_TP;ROSMAP\\_MA;ROSMAP\\_RS                   &  7\\\\\n",
       "\t MSBB\\_MA;MSBB\\_RS;MSBB\\_TP;ROSMAP\\_SP                             &  7\\\\\n",
       "\t MSBB\\_TP                                                       &  7\\\\\n",
       "\t ROSMAP\\_SP                                                     &  7\\\\\n",
       "\t ADSP\\_GS;MSBB\\_MA;ROSMAP\\_MA                                     &  6\\\\\n",
       "\t MSBB\\_MA;MSBB\\_RS;ROSMAP\\_MA;ROSMAP\\_RS;ROSMAP\\_SP                 &  5\\\\\n",
       "\t MSBB\\_MA;MSBB\\_TP;ROSMAP\\_MA;ROSMAP\\_RS                           &  5\\\\\n",
       "\t ADSP\\_GS;MSBB\\_MA;MSBB\\_RS;MSBB\\_TP;ROSMAP\\_MA;ROSMAP\\_RS           &  4\\\\\n",
       "\t MSBB\\_MA;MSBB\\_RS                                               &  4\\\\\n",
       "\t ADSP\\_GS;MSBB\\_MA;ROSMAP\\_MA;ROSMAP\\_RS;ROSMAP\\_SP                 &  3\\\\\n",
       "\t ADSP\\_GS;ROSMAP\\_MA                                             &  3\\\\\n",
       "\t MSBB\\_MA;MSBB\\_RS;ROSMAP\\_SP                                     &  3\\\\\n",
       "\t MSBB\\_MA;MSBB\\_TP                                               &  3\\\\\n",
       "\t ROSMAP\\_MA                                                     &  3\\\\\n",
       "\t ADSP\\_GS;MSBB\\_MA;MSBB\\_RS;ROSMAP\\_MA;ROSMAP\\_RS                   &  2\\\\\n",
       "\t ADSP\\_GS;MSBB\\_MA;MSBB\\_TP;ROSMAP\\_MA;ROSMAP\\_RS                   &  2\\\\\n",
       "\t ADSP\\_GS;MSBB\\_MA;ROSMAP\\_MA;ROSMAP\\_RS                           &  2\\\\\n",
       "\t ADSP\\_GS;MSBB\\_RS;MSBB\\_TP;ROSMAP\\_RS                             &  2\\\\\n",
       "\t ADSP\\_GS;MSBB\\_RS;ROSMAP\\_RS                                     &  2\\\\\n",
       "\t MSBB\\_MA;MSBB\\_RS;MSBB\\_TP;ROSMAP\\_MA;ROSMAP\\_RS;ROSMAP\\_SP         &  2\\\\\n",
       "\t MSBB\\_MA;MSBB\\_TP;ROSMAP\\_MA                                     &  2\\\\\n",
       "\t MSBB\\_MA;MSBB\\_TP;ROSMAP\\_SP                                     &  2\\\\\n",
       "\t MSBB\\_RS;MSBB\\_TP;ROSMAP\\_RS                                     &  2\\\\\n",
       "\t ADSP\\_GS                                                       &  1\\\\\n",
       "\t ADSP\\_GS;MSBB\\_MA;MSBB\\_RS;ROSMAP\\_MA;ROSMAP\\_RS;ROSMAP\\_SP         &  1\\\\\n",
       "\t ADSP\\_GS;MSBB\\_MA;ROSMAP\\_MA;ROSMAP\\_SP                           &  1\\\\\n",
       "\t MSBB\\_MA;MSBB\\_RS;MSBB\\_TP;ROSMAP\\_RS                             &  1\\\\\n",
       "\t MSBB\\_MA;MSBB\\_RS;ROSMAP\\_MA;ROSMAP\\_SP                           &  1\\\\\n",
       "\t MSBB\\_MA;MSBB\\_TP;ROSMAP\\_MA;ROSMAP\\_RS;ROSMAP\\_SP                 &  1\\\\\n",
       "\t MSBB\\_MA;MSBB\\_TP;ROSMAP\\_MA;ROSMAP\\_SP                           &  1\\\\\n",
       "\t MSBB\\_MA;ROSMAP\\_RS                                             &  1\\\\\n",
       "\t MSBB\\_RS;ROSMAP\\_RS;ROSMAP\\_SP                                   &  1\\\\\n",
       "\t MSBB\\_TP;ROSMAP\\_RS                                             &  1\\\\\n",
       "\t ROSMAP\\_MA;ROSMAP\\_RS                                           &  1\\\\\n",
       "\t ROSMAP\\_RS;ROSMAP\\_SP                                           &  1\\\\\n",
       "\\end{tabular}\n"
      ],
      "text/markdown": [
       "\n",
       "A tibble: 47 × 2\n",
       "\n",
       "| SOURCE &lt;chr&gt; | count &lt;int&gt; |\n",
       "|---|---|\n",
       "| MSBB_MA;ROSMAP_MA                                             | 53 |\n",
       "| MSBB_MA                                                       | 23 |\n",
       "| MSBB_MA;MSBB_RS;ROSMAP_MA;ROSMAP_RS                           | 20 |\n",
       "| MSBB_RS;ROSMAP_RS                                             | 18 |\n",
       "| ROSMAP_RS                                                     | 17 |\n",
       "| MSBB_MA;ROSMAP_MA;ROSMAP_RS                                   | 16 |\n",
       "| MSBB_RS                                                       | 15 |\n",
       "| ADSP_GS;MSBB_MA;MSBB_RS;MSBB_TP;ROSMAP_MA;ROSMAP_RS;ROSMAP_SP | 14 |\n",
       "| MSBB_MA;MSBB_RS;MSBB_TP                                       | 11 |\n",
       "| MSBB_MA;ROSMAP_MA;ROSMAP_SP                                   | 11 |\n",
       "| MSBB_MA;ROSMAP_MA;ROSMAP_RS;ROSMAP_SP                         |  9 |\n",
       "| MSBB_MA;ROSMAP_SP                                             |  9 |\n",
       "| MSBB_MA;MSBB_RS;MSBB_TP;ROSMAP_MA;ROSMAP_RS                   |  7 |\n",
       "| MSBB_MA;MSBB_RS;MSBB_TP;ROSMAP_SP                             |  7 |\n",
       "| MSBB_TP                                                       |  7 |\n",
       "| ROSMAP_SP                                                     |  7 |\n",
       "| ADSP_GS;MSBB_MA;ROSMAP_MA                                     |  6 |\n",
       "| MSBB_MA;MSBB_RS;ROSMAP_MA;ROSMAP_RS;ROSMAP_SP                 |  5 |\n",
       "| MSBB_MA;MSBB_TP;ROSMAP_MA;ROSMAP_RS                           |  5 |\n",
       "| ADSP_GS;MSBB_MA;MSBB_RS;MSBB_TP;ROSMAP_MA;ROSMAP_RS           |  4 |\n",
       "| MSBB_MA;MSBB_RS                                               |  4 |\n",
       "| ADSP_GS;MSBB_MA;ROSMAP_MA;ROSMAP_RS;ROSMAP_SP                 |  3 |\n",
       "| ADSP_GS;ROSMAP_MA                                             |  3 |\n",
       "| MSBB_MA;MSBB_RS;ROSMAP_SP                                     |  3 |\n",
       "| MSBB_MA;MSBB_TP                                               |  3 |\n",
       "| ROSMAP_MA                                                     |  3 |\n",
       "| ADSP_GS;MSBB_MA;MSBB_RS;ROSMAP_MA;ROSMAP_RS                   |  2 |\n",
       "| ADSP_GS;MSBB_MA;MSBB_TP;ROSMAP_MA;ROSMAP_RS                   |  2 |\n",
       "| ADSP_GS;MSBB_MA;ROSMAP_MA;ROSMAP_RS                           |  2 |\n",
       "| ADSP_GS;MSBB_RS;MSBB_TP;ROSMAP_RS                             |  2 |\n",
       "| ADSP_GS;MSBB_RS;ROSMAP_RS                                     |  2 |\n",
       "| MSBB_MA;MSBB_RS;MSBB_TP;ROSMAP_MA;ROSMAP_RS;ROSMAP_SP         |  2 |\n",
       "| MSBB_MA;MSBB_TP;ROSMAP_MA                                     |  2 |\n",
       "| MSBB_MA;MSBB_TP;ROSMAP_SP                                     |  2 |\n",
       "| MSBB_RS;MSBB_TP;ROSMAP_RS                                     |  2 |\n",
       "| ADSP_GS                                                       |  1 |\n",
       "| ADSP_GS;MSBB_MA;MSBB_RS;ROSMAP_MA;ROSMAP_RS;ROSMAP_SP         |  1 |\n",
       "| ADSP_GS;MSBB_MA;ROSMAP_MA;ROSMAP_SP                           |  1 |\n",
       "| MSBB_MA;MSBB_RS;MSBB_TP;ROSMAP_RS                             |  1 |\n",
       "| MSBB_MA;MSBB_RS;ROSMAP_MA;ROSMAP_SP                           |  1 |\n",
       "| MSBB_MA;MSBB_TP;ROSMAP_MA;ROSMAP_RS;ROSMAP_SP                 |  1 |\n",
       "| MSBB_MA;MSBB_TP;ROSMAP_MA;ROSMAP_SP                           |  1 |\n",
       "| MSBB_MA;ROSMAP_RS                                             |  1 |\n",
       "| MSBB_RS;ROSMAP_RS;ROSMAP_SP                                   |  1 |\n",
       "| MSBB_TP;ROSMAP_RS                                             |  1 |\n",
       "| ROSMAP_MA;ROSMAP_RS                                           |  1 |\n",
       "| ROSMAP_RS;ROSMAP_SP                                           |  1 |\n",
       "\n"
      ],
      "text/plain": [
       "   SOURCE                                                        count\n",
       "1  MSBB_MA;ROSMAP_MA                                             53   \n",
       "2  MSBB_MA                                                       23   \n",
       "3  MSBB_MA;MSBB_RS;ROSMAP_MA;ROSMAP_RS                           20   \n",
       "4  MSBB_RS;ROSMAP_RS                                             18   \n",
       "5  ROSMAP_RS                                                     17   \n",
       "6  MSBB_MA;ROSMAP_MA;ROSMAP_RS                                   16   \n",
       "7  MSBB_RS                                                       15   \n",
       "8  ADSP_GS;MSBB_MA;MSBB_RS;MSBB_TP;ROSMAP_MA;ROSMAP_RS;ROSMAP_SP 14   \n",
       "9  MSBB_MA;MSBB_RS;MSBB_TP                                       11   \n",
       "10 MSBB_MA;ROSMAP_MA;ROSMAP_SP                                   11   \n",
       "11 MSBB_MA;ROSMAP_MA;ROSMAP_RS;ROSMAP_SP                          9   \n",
       "12 MSBB_MA;ROSMAP_SP                                              9   \n",
       "13 MSBB_MA;MSBB_RS;MSBB_TP;ROSMAP_MA;ROSMAP_RS                    7   \n",
       "14 MSBB_MA;MSBB_RS;MSBB_TP;ROSMAP_SP                              7   \n",
       "15 MSBB_TP                                                        7   \n",
       "16 ROSMAP_SP                                                      7   \n",
       "17 ADSP_GS;MSBB_MA;ROSMAP_MA                                      6   \n",
       "18 MSBB_MA;MSBB_RS;ROSMAP_MA;ROSMAP_RS;ROSMAP_SP                  5   \n",
       "19 MSBB_MA;MSBB_TP;ROSMAP_MA;ROSMAP_RS                            5   \n",
       "20 ADSP_GS;MSBB_MA;MSBB_RS;MSBB_TP;ROSMAP_MA;ROSMAP_RS            4   \n",
       "21 MSBB_MA;MSBB_RS                                                4   \n",
       "22 ADSP_GS;MSBB_MA;ROSMAP_MA;ROSMAP_RS;ROSMAP_SP                  3   \n",
       "23 ADSP_GS;ROSMAP_MA                                              3   \n",
       "24 MSBB_MA;MSBB_RS;ROSMAP_SP                                      3   \n",
       "25 MSBB_MA;MSBB_TP                                                3   \n",
       "26 ROSMAP_MA                                                      3   \n",
       "27 ADSP_GS;MSBB_MA;MSBB_RS;ROSMAP_MA;ROSMAP_RS                    2   \n",
       "28 ADSP_GS;MSBB_MA;MSBB_TP;ROSMAP_MA;ROSMAP_RS                    2   \n",
       "29 ADSP_GS;MSBB_MA;ROSMAP_MA;ROSMAP_RS                            2   \n",
       "30 ADSP_GS;MSBB_RS;MSBB_TP;ROSMAP_RS                              2   \n",
       "31 ADSP_GS;MSBB_RS;ROSMAP_RS                                      2   \n",
       "32 MSBB_MA;MSBB_RS;MSBB_TP;ROSMAP_MA;ROSMAP_RS;ROSMAP_SP          2   \n",
       "33 MSBB_MA;MSBB_TP;ROSMAP_MA                                      2   \n",
       "34 MSBB_MA;MSBB_TP;ROSMAP_SP                                      2   \n",
       "35 MSBB_RS;MSBB_TP;ROSMAP_RS                                      2   \n",
       "36 ADSP_GS                                                        1   \n",
       "37 ADSP_GS;MSBB_MA;MSBB_RS;ROSMAP_MA;ROSMAP_RS;ROSMAP_SP          1   \n",
       "38 ADSP_GS;MSBB_MA;ROSMAP_MA;ROSMAP_SP                            1   \n",
       "39 MSBB_MA;MSBB_RS;MSBB_TP;ROSMAP_RS                              1   \n",
       "40 MSBB_MA;MSBB_RS;ROSMAP_MA;ROSMAP_SP                            1   \n",
       "41 MSBB_MA;MSBB_TP;ROSMAP_MA;ROSMAP_RS;ROSMAP_SP                  1   \n",
       "42 MSBB_MA;MSBB_TP;ROSMAP_MA;ROSMAP_SP                            1   \n",
       "43 MSBB_MA;ROSMAP_RS                                              1   \n",
       "44 MSBB_RS;ROSMAP_RS;ROSMAP_SP                                    1   \n",
       "45 MSBB_TP;ROSMAP_RS                                              1   \n",
       "46 ROSMAP_MA;ROSMAP_RS                                            1   \n",
       "47 ROSMAP_RS;ROSMAP_SP                                            1   "
      ]
     },
     "metadata": {},
     "output_type": "display_data"
    }
   ],
   "source": [
    "avg_gene_msbb_important_desc %>%\n",
    "group_by(SOURCE) %>%\n",
    "summarize(count = n()) %>%\n",
    "arrange(-count)"
   ]
  },
  {
   "cell_type": "markdown",
   "id": "cb478a5d-554e-48ca-b605-f51080d0d7f8",
   "metadata": {},
   "source": [
    "# export"
   ]
  },
  {
   "cell_type": "code",
   "execution_count": 190,
   "id": "3a82ab54-4c6b-4347-9ec8-2d6195697003",
   "metadata": {},
   "outputs": [],
   "source": [
    "write.table(avg_pathway_important_desc,\n",
    "            '/project/ritchie/projects/AD_KMI/pathway_score/feature_selection/lasso/AOU_ALL.UKBB.metasoft.gene_score.ROSMAP.RNAseq.arrayMethylation.somoscan_proteomics.ADSP.pathway_average.pathway_scores.lasso.important_pathways.csv',\n",
    "            sep = ',',\n",
    "            col.names = T,\n",
    "            row.names = F,\n",
    "            quote = F)"
   ]
  },
  {
   "cell_type": "code",
   "execution_count": 191,
   "id": "6c86bff2-2d52-4e03-a34a-ea6fa60a16d1",
   "metadata": {},
   "outputs": [],
   "source": [
    "write.table(avg_pathway_msbb_important_desc,\n",
    "            '/project/ritchie/projects/AD_KMI/pathway_score/feature_selection/lasso/AOU_ALL.UKBB.metasoft.gene_score.ROSMAP.RNAseq.arrayMethylation.somoscan_proteomics.MSBB.RNAseq.methylation.tmt_proteomics.ADSP.pathway_average.pathway_scores.lasso.important_pathways.csv',\n",
    "            sep = ',',\n",
    "            col.names = T,\n",
    "            row.names = F,\n",
    "            quote = F)"
   ]
  },
  {
   "cell_type": "code",
   "execution_count": 192,
   "id": "22d89c2a-a551-4d88-b4bc-c33e6d968268",
   "metadata": {},
   "outputs": [],
   "source": [
    "write.table(avg_gene_important_desc,\n",
    "            '/project/ritchie/projects/AD_KMI/pathway_score/feature_selection/lasso/AOU_ALL.UKBB.metasoft.gene_score.ROSMAP.RNAseq.arrayMethylation.somoscan_proteomics.ADSP.gene_average.pathway_scores.lasso.important_pathways.csv',\n",
    "            sep = ',',\n",
    "            col.names = T,\n",
    "            row.names = F,\n",
    "            quote = F)"
   ]
  },
  {
   "cell_type": "code",
   "execution_count": 193,
   "id": "a8290697-5578-4e86-91ee-72c53731e9fb",
   "metadata": {},
   "outputs": [],
   "source": [
    "write.table(avg_gene_msbb_important_desc,\n",
    "            '/project/ritchie/projects/AD_KMI/pathway_score/feature_selection/lasso/AOU_ALL.UKBB.metasoft.gene_score.ROSMAP.RNAseq.arrayMethylation.somoscan_proteomics.MSBB.RNAseq.methylation.tmt_proteomics.ADSP.pathway_average.gene_scores.lasso.important_pathways.csv',\n",
    "            sep = ',',\n",
    "            col.names = T,\n",
    "            row.names = F,\n",
    "            quote = F)"
   ]
  },
  {
   "cell_type": "code",
   "execution_count": null,
   "id": "adc2bb59-c8d5-481a-b6c0-49ff73d24b88",
   "metadata": {},
   "outputs": [],
   "source": []
  }
 ],
 "metadata": {
  "kernelspec": {
   "display_name": "R",
   "language": "R",
   "name": "ir"
  },
  "language_info": {
   "codemirror_mode": "r",
   "file_extension": ".r",
   "mimetype": "text/x-r-source",
   "name": "R",
   "pygments_lexer": "r",
   "version": "4.4.3"
  }
 },
 "nbformat": 4,
 "nbformat_minor": 5
}

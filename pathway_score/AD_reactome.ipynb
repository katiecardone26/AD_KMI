{
 "cells": [
  {
   "cell_type": "markdown",
   "id": "0",
   "metadata": {},
   "source": [
    "# load packages"
   ]
  },
  {
   "cell_type": "code",
   "execution_count": null,
   "id": "1",
   "metadata": {},
   "outputs": [],
   "source": [
    "import pandas as pd"
   ]
  },
  {
   "cell_type": "code",
   "execution_count": null,
   "id": "2",
   "metadata": {},
   "outputs": [],
   "source": [
    "from scipy.stats import zscore"
   ]
  },
  {
   "cell_type": "code",
   "execution_count": null,
   "id": "3",
   "metadata": {},
   "outputs": [],
   "source": [
    "import requests"
   ]
  },
  {
   "cell_type": "code",
   "execution_count": null,
   "id": "4",
   "metadata": {},
   "outputs": [],
   "source": [
    "import sys"
   ]
  },
  {
   "cell_type": "markdown",
   "id": "5",
   "metadata": {},
   "source": [
    "# read in input files"
   ]
  },
  {
   "cell_type": "markdown",
   "id": "6",
   "metadata": {},
   "source": [
    "## reactome databases"
   ]
  },
  {
   "cell_type": "code",
   "execution_count": null,
   "id": "7",
   "metadata": {},
   "outputs": [],
   "source": [
    "reactome_gene = pd.read_csv('raw_databases/ReactomePathways.gene.tsv',\n",
    "                            sep='\\t',\n",
    "                            header=None)\n",
    "reactome_gene.head()"
   ]
  },
  {
   "cell_type": "code",
   "execution_count": null,
   "id": "8",
   "metadata": {},
   "outputs": [],
   "source": [
    "reactome_protein = pd.read_csv('raw_databases/UniProt2Reactome_All_Levels.txt',\n",
    "                            sep='\\t',\n",
    "                            header=None)\n",
    "reactome_protein.head()"
   ]
  },
  {
   "cell_type": "code",
   "execution_count": null,
   "id": "9",
   "metadata": {},
   "outputs": [],
   "source": [
    "reactome_path = pd.read_csv('raw_databases/ReactomePathways.txt',\n",
    "                            sep='\\t',\n",
    "                            header=None)\n",
    "reactome_path.head()"
   ]
  },
  {
   "cell_type": "markdown",
   "id": "10",
   "metadata": {},
   "source": [
    "## gene/protein lists"
   ]
  },
  {
   "cell_type": "markdown",
   "id": "11",
   "metadata": {},
   "source": [
    "### gene list"
   ]
  },
  {
   "cell_type": "code",
   "execution_count": null,
   "id": "12",
   "metadata": {},
   "outputs": [],
   "source": [
    "meta_gene_list = pd.read_csv('merged_outputs/AOU_ALL.UKBB.metasoft.ADSP.all.VEP_v113.gene_by_position.r2_0.1_clump_variants_excluded.RE_pval_threshold_0.05.gene_score_list.txt')\n",
    "print(len(meta_gene_list.index))\n",
    "meta_gene_list.head()"
   ]
  },
  {
   "cell_type": "markdown",
   "id": "13",
   "metadata": {},
   "source": [
    "### rnaseq gene list"
   ]
  },
  {
   "cell_type": "code",
   "execution_count": null,
   "id": "14",
   "metadata": {},
   "outputs": [],
   "source": [
    "rnaseq_gene = pd.read_csv('rosmap/ROSMAP_RNAseq_genes.txt',\n",
    "                        header = None)\n",
    "print(len(rnaseq_gene.index))\n",
    "rnaseq_gene.head()"
   ]
  },
  {
   "cell_type": "code",
   "execution_count": null,
   "id": "15",
   "metadata": {},
   "outputs": [],
   "source": [
    "msbb_rnaseq_gene = pd.read_csv('msbb/MSBB.RNAseq.BA_ALL.19batch.gene_symbol.individualID.mvalue_norm.tpm.log2.coding_genes_only.covar_corrected.gene_list.txt')\n",
    "print(len(msbb_rnaseq_gene.index))\n",
    "msbb_rnaseq_gene.head()"
   ]
  },
  {
   "cell_type": "markdown",
   "id": "16",
   "metadata": {},
   "source": [
    "### methylation gene list"
   ]
  },
  {
   "cell_type": "code",
   "execution_count": null,
   "id": "17",
   "metadata": {},
   "outputs": [],
   "source": [
    "methyl_gene = pd.read_csv('rosmap/ROSMAP_arrayMethylation_imputed.gene_list.txt')\n",
    "print(len(methyl_gene.index))\n",
    "methyl_gene.head()"
   ]
  },
  {
   "cell_type": "code",
   "execution_count": null,
   "id": "18",
   "metadata": {},
   "outputs": [],
   "source": [
    "msbb_methyl_gene = pd.read_csv('msbb/MSBB.methylation_array.19batch.gene_symbol.individualID.mvalue_norm.gene_list.txt')\n",
    "print(len(msbb_methyl_gene.index))\n",
    "msbb_methyl_gene.head()"
   ]
  },
  {
   "cell_type": "markdown",
   "id": "19",
   "metadata": {},
   "source": [
    "### LC SRM protein output from uniprot"
   ]
  },
  {
   "cell_type": "code",
   "execution_count": null,
   "id": "20",
   "metadata": {},
   "outputs": [],
   "source": [
    "srm_protein = pd.read_csv('raw_databases/idmapping_reviewed_true_AND_organism_id_2025_04_30.rosmap.proteomics.srm.peptide.round1.tsv.gz',\n",
    "                          sep='\\t')\n",
    "print(len(srm_protein.index))\n",
    "srm_protein.head()"
   ]
  },
  {
   "cell_type": "markdown",
   "id": "21",
   "metadata": {},
   "source": [
    "### TMT protein list"
   ]
  },
  {
   "cell_type": "code",
   "execution_count": null,
   "id": "22",
   "metadata": {},
   "outputs": [],
   "source": [
    "tmt_protein = pd.read_csv('raw_databases/idmapping_model_organism_9606_AND_revie_2025_04_30.rosmap.proteomics.tmt.round1.tsv.gz',\n",
    "                          sep = '\\t')\n",
    "print(len(tmt_protein.index))\n",
    "tmt_protein.head()"
   ]
  },
  {
   "cell_type": "code",
   "execution_count": null,
   "id": "23",
   "metadata": {},
   "outputs": [],
   "source": [
    "msbb_tmt_gene = pd.read_csv('msbb/MSBB.TMT_proteomics.19batch.normalized.gene_symbol.individualID.log2_transformed.gene_list.txt')\n",
    "print(len(msbb_tmt_gene.index))\n",
    "msbb_tmt_gene.head()"
   ]
  },
  {
   "cell_type": "markdown",
   "id": "24",
   "metadata": {},
   "source": [
    "### somoscan"
   ]
  },
  {
   "cell_type": "code",
   "execution_count": null,
   "id": "25",
   "metadata": {},
   "outputs": [],
   "source": [
    "somoscan_gene = pd.read_csv('rosmap/ROSMAP.proteomics.somoscan.individualID.entrez_gene_symbol.gene_list.txt')\n",
    "print(len(somoscan_gene.index))\n",
    "somoscan_gene.head()"
   ]
  },
  {
   "cell_type": "code",
   "execution_count": null,
   "id": "26",
   "metadata": {},
   "outputs": [],
   "source": [
    "somoscan_protein = pd.read_csv('rosmap/ROSMAP.proteomics.somoscan.individualID.uniprot.protein_list.txt')\n",
    "print(len(somoscan_protein.index))\n",
    "somoscan_protein.head()"
   ]
  },
  {
   "cell_type": "markdown",
   "id": "27",
   "metadata": {},
   "source": [
    "## raw data"
   ]
  },
  {
   "cell_type": "markdown",
   "id": "28",
   "metadata": {},
   "source": [
    "### gene scores"
   ]
  },
  {
   "cell_type": "code",
   "execution_count": null,
   "id": "29",
   "metadata": {},
   "outputs": [],
   "source": [
    "gene_score = pd.read_csv('merged_outputs/AOU_ALL.UKBB.metasoft.ADSP.all.VEP_v113.gene_by_position.r2_0.1_clump_variants_excluded.RE_pval_threshold_0.05.average_gene_score.merged.txt.gz',\n",
    "                        sep = '\\t')\n",
    "print(gene_score.shape)\n",
    "gene_score.head()"
   ]
  },
  {
   "cell_type": "markdown",
   "id": "30",
   "metadata": {},
   "source": [
    "### rnaseq exp data"
   ]
  },
  {
   "cell_type": "code",
   "execution_count": null,
   "id": "31",
   "metadata": {},
   "outputs": [],
   "source": [
    "rnaseq_exp = pd.read_csv('rosmap/ROSMAP_RNAseq_TPM5_log2norm_individualids_codinggenes.tsv',\n",
    "                         sep = '\\t')\n",
    "print(rnaseq_exp.shape)\n",
    "rnaseq_exp.head()"
   ]
  },
  {
   "cell_type": "markdown",
   "id": "32",
   "metadata": {},
   "source": [
    "## gene map"
   ]
  },
  {
   "cell_type": "code",
   "execution_count": null,
   "id": "33",
   "metadata": {},
   "outputs": [],
   "source": [
    "gene_map = pd.read_csv('ensembl_start_stop/Homo_sapiens.GRCh38.113.gene_start_stop.autosomes.500kb_upstream_downstream.gtf.txt',\n",
    "                       sep = '\\t')\n",
    "gene_map.head()"
   ]
  },
  {
   "cell_type": "markdown",
   "id": "34",
   "metadata": {},
   "source": [
    "# clean pathway files"
   ]
  },
  {
   "cell_type": "markdown",
   "id": "35",
   "metadata": {},
   "source": [
    "## gene"
   ]
  },
  {
   "cell_type": "code",
   "execution_count": null,
   "id": "36",
   "metadata": {},
   "outputs": [],
   "source": [
    "reactome_gene_split = reactome_gene.assign(GENE = reactome_gene[2].str.split('|')).explode('GENE').reset_index(drop = True)\n",
    "reactome_gene_split.drop(columns = [2],inplace = True)\n",
    "reactome_gene_split.rename(columns = {0: 'PATHWAY_NAME',\n",
    "                                      1: 'PATHWAY_ID'}, inplace = True)\n",
    "reactome_gene_split.head()"
   ]
  },
  {
   "cell_type": "code",
   "execution_count": null,
   "id": "37",
   "metadata": {},
   "outputs": [],
   "source": [
    "print(len(reactome_gene_split['PATHWAY_NAME'].unique()))\n",
    "reactome_gene_split['PATHWAY_NAME'].unique()"
   ]
  },
  {
   "cell_type": "markdown",
   "id": "38",
   "metadata": {},
   "source": [
    "## protein"
   ]
  },
  {
   "cell_type": "code",
   "execution_count": null,
   "id": "39",
   "metadata": {},
   "outputs": [],
   "source": [
    "reactome_protein_human = reactome_protein[reactome_protein[5].isin(['Homo sapiens'])]\n",
    "reactome_protein_human = reactome_protein_human[[3, 1, 0]]\n",
    "reactome_protein_human.rename(columns = {3 : 'PATHWAY_NAME',\n",
    "                                         1 : 'PATHWAY_ID',\n",
    "                                         0 : 'PROTEIN'}, inplace = True)\n",
    "reactome_protein_human.head()"
   ]
  },
  {
   "cell_type": "markdown",
   "id": "40",
   "metadata": {},
   "source": [
    "## pathway"
   ]
  },
  {
   "cell_type": "code",
   "execution_count": null,
   "id": "41",
   "metadata": {},
   "outputs": [],
   "source": [
    "reactome_path_human = reactome_path[reactome_path[2].isin(['Homo sapiens'])]\n",
    "reactome_path_human.head()"
   ]
  },
  {
   "cell_type": "markdown",
   "id": "42",
   "metadata": {},
   "source": [
    "# map ENSIDs to gene names for gene scores"
   ]
  },
  {
   "cell_type": "markdown",
   "id": "43",
   "metadata": {},
   "source": [
    "## map"
   ]
  },
  {
   "cell_type": "code",
   "execution_count": null,
   "id": "44",
   "metadata": {},
   "outputs": [],
   "source": [
    "meta_gene_map = gene_map[gene_map['ENS_ID'].isin(meta_gene_list['GENE'])]\n",
    "print(len(meta_gene_map.index))\n",
    "print(len(meta_gene_map['ENS_ID'].unique()))\n",
    "print(len(meta_gene_map['GENE'].unique()))\n",
    "meta_gene_map.head()"
   ]
  },
  {
   "cell_type": "markdown",
   "id": "45",
   "metadata": {},
   "source": [
    "## investigate dups"
   ]
  },
  {
   "cell_type": "code",
   "execution_count": null,
   "id": "46",
   "metadata": {},
   "outputs": [],
   "source": [
    "meta_gene_map_dups = gene_map[gene_map['GENE'].isin(meta_gene_map['GENE'][meta_gene_map['GENE'].duplicated()])]\n",
    "meta_gene_map_dups"
   ]
  },
  {
   "cell_type": "raw",
   "id": "47",
   "metadata": {},
   "source": [
    "# meta without finngen notes\n",
    "# these are MANE Select Plus Clinical: Representative transcript from RefSeq & GENCODE\n",
    "PDE8B coordinates: chr5:77210680-77428256\n",
    "    ENSG00000113231 overlaps more closely\n",
    "\n",
    "CAST coordinates: chr5:96662376-96774683\n",
    "    ENSG00000310517 overlaps more closely\n",
    "\n",
    "LINC03023 coordinates: chr8:20953633-20968938\n",
    "    ENSG00000253147 overlaps more closely\n",
    "\n",
    "SPATA13 coordinates: chr13:24160720-24307069\n",
    "    ENSG00000182957 overlaps more closely\n",
    "\n",
    "PDE4C coordinates: chr19: chr19:18207965-18226438\n",
    "    ENSG00000105650 overlaps more closely"
   ]
  },
  {
   "cell_type": "markdown",
   "id": "48",
   "metadata": {},
   "source": [
    "## fix duplicates"
   ]
  },
  {
   "cell_type": "code",
   "execution_count": null,
   "id": "49",
   "metadata": {},
   "outputs": [],
   "source": [
    "meta_gene_map_no_dup = meta_gene_map[~meta_gene_map['GENE'].isin(meta_gene_map_dups['GENE'])]\n",
    "print(len(meta_gene_map.index))\n",
    "print(len(meta_gene_map_no_dup.index))"
   ]
  },
  {
   "cell_type": "code",
   "execution_count": null,
   "id": "50",
   "metadata": {},
   "outputs": [],
   "source": [
    "# no finngen meta fix\n",
    "meta_gene_map_dup_fixed = meta_gene_map_dups[meta_gene_map_dups['ENS_ID'].isin(['ENSG00000113231',\n",
    "                                                                                'ENSG00000310517',\n",
    "                                                                                'ENSG00000253147',\n",
    "                                                                                'ENSG00000182957',\n",
    "                                                                                'ENSG00000105650'])]\n",
    "meta_gene_map_dup_fixed"
   ]
  },
  {
   "cell_type": "code",
   "execution_count": null,
   "id": "51",
   "metadata": {},
   "outputs": [],
   "source": [
    "meta_gene_map_final = pd.concat([meta_gene_map_no_dup, meta_gene_map_dup_fixed], axis = 0)\n",
    "print(len(meta_gene_map_final.index))"
   ]
  },
  {
   "cell_type": "markdown",
   "id": "52",
   "metadata": {},
   "source": [
    "## subset"
   ]
  },
  {
   "cell_type": "code",
   "execution_count": null,
   "id": "53",
   "metadata": {},
   "outputs": [],
   "source": [
    "meta_gene_map_final = meta_gene_map_final[['ENS_ID', 'GENE']]\n",
    "meta_gene_map_final.head()"
   ]
  },
  {
   "cell_type": "markdown",
   "id": "54",
   "metadata": {},
   "source": [
    "# map ENSIDs to gene names for RNAseq genes"
   ]
  },
  {
   "cell_type": "markdown",
   "id": "55",
   "metadata": {},
   "source": [
    "## map"
   ]
  },
  {
   "cell_type": "code",
   "execution_count": null,
   "id": "56",
   "metadata": {},
   "outputs": [],
   "source": [
    "gene_map_rnaseq = gene_map[gene_map['ENS_ID'].isin(rnaseq_gene[0])]\n",
    "print(len(rnaseq_gene.index))\n",
    "print(len(gene_map_rnaseq.index))\n",
    "print(len(gene_map_rnaseq['ENS_ID'].unique()))\n",
    "print(len(gene_map_rnaseq['GENE'].unique()))\n",
    "gene_map_rnaseq.head()"
   ]
  },
  {
   "cell_type": "raw",
   "id": "57",
   "metadata": {},
   "source": [
    "# 667 RNAseq genes did not map\n",
    "# genes didn't map because they were retired/discontinued"
   ]
  },
  {
   "cell_type": "markdown",
   "id": "58",
   "metadata": {},
   "source": [
    "## subset"
   ]
  },
  {
   "cell_type": "code",
   "execution_count": null,
   "id": "59",
   "metadata": {},
   "outputs": [],
   "source": [
    "gene_map_rnaseq = gene_map_rnaseq[['ENS_ID','GENE']]\n",
    "gene_map_rnaseq.head()"
   ]
  },
  {
   "cell_type": "markdown",
   "id": "60",
   "metadata": {},
   "source": [
    "# split protein genes into the distinct rows"
   ]
  },
  {
   "cell_type": "markdown",
   "id": "61",
   "metadata": {
    "jp-MarkdownHeadingCollapsed": true
   },
   "source": [
    "## split srm"
   ]
  },
  {
   "cell_type": "code",
   "execution_count": null,
   "id": "62",
   "metadata": {},
   "outputs": [],
   "source": [
    "srm_protein_split = srm_protein.assign(GENE=srm_protein['Gene Names'].str.split(r'[ ,/]')).explode('GENE').reset_index(drop=True)\n",
    "print(len(srm_protein_split.index))\n",
    "print(len(srm_protein.index))\n",
    "srm_protein_split.head()"
   ]
  },
  {
   "cell_type": "markdown",
   "id": "63",
   "metadata": {
    "jp-MarkdownHeadingCollapsed": true
   },
   "source": [
    "## split tmt"
   ]
  },
  {
   "cell_type": "code",
   "execution_count": null,
   "id": "64",
   "metadata": {},
   "outputs": [],
   "source": [
    "tmt_protein_split = tmt_protein.assign(GENE=tmt_protein['Gene Names'].str.split(' ')).explode('GENE').reset_index(drop=True)\n",
    "print(len(tmt_protein_split.index))\n",
    "print(len(tmt_protein.index))\n",
    "tmt_protein_split.head()"
   ]
  },
  {
   "cell_type": "code",
   "execution_count": null,
   "id": "65",
   "metadata": {},
   "outputs": [],
   "source": [
    "tmt_slash_exclude = tmt_protein_split[tmt_protein_split['GENE'].str.contains('cl|H4/')]\n",
    "tmt_slash_exclude['GENE'].unique()"
   ]
  },
  {
   "cell_type": "code",
   "execution_count": null,
   "id": "66",
   "metadata": {},
   "outputs": [],
   "source": [
    "tmt_slash_include = tmt_protein_split[~tmt_protein_split.index.isin(tmt_slash_exclude.index)]\n",
    "print(len(tmt_slash_include.index))\n",
    "print(len(tmt_slash_exclude.index))\n",
    "print(len(tmt_protein_split.index))"
   ]
  },
  {
   "cell_type": "code",
   "execution_count": null,
   "id": "67",
   "metadata": {},
   "outputs": [],
   "source": [
    "print(len(tmt_slash_include.index))\n",
    "tmt_slash_include_split = tmt_slash_include.assign(GENE = tmt_slash_include['GENE'].str.split('/')).explode('GENE').reset_index(drop=True)\n",
    "print(len(tmt_slash_include_split.index))\n",
    "tmt_slash_include_split.head()"
   ]
  },
  {
   "cell_type": "code",
   "execution_count": null,
   "id": "68",
   "metadata": {},
   "outputs": [],
   "source": [
    "tmt_protein_split = pd.concat([tmt_slash_include_split, tmt_slash_exclude], axis = 0)\n",
    "print(len(tmt_protein_split.index))\n",
    "tmt_protein_split.head()"
   ]
  },
  {
   "cell_type": "markdown",
   "id": "69",
   "metadata": {},
   "source": [
    "## remove extra characters for tmt"
   ]
  },
  {
   "cell_type": "code",
   "execution_count": null,
   "id": "70",
   "metadata": {},
   "outputs": [],
   "source": [
    "tmt_protein_split['GENE'] = tmt_protein_split['GENE'].str.replace(r\"[;']\", \"\", regex = True)\n",
    "print(tmt_protein_split[tmt_protein_split['GENE'].str.contains(\";|'\")]['GENE'].unique())\n",
    "print(len(tmt_protein_split.index))"
   ]
  },
  {
   "cell_type": "markdown",
   "id": "71",
   "metadata": {},
   "source": [
    "## check for remaining special characters"
   ]
  },
  {
   "cell_type": "code",
   "execution_count": null,
   "id": "72",
   "metadata": {},
   "outputs": [],
   "source": [
    "mask = srm_protein_split['GENE'].str.contains(r'[^a-zA-Z0-9-]', regex = True)\n",
    "srm_protein_split[mask]"
   ]
  },
  {
   "cell_type": "code",
   "execution_count": null,
   "id": "73",
   "metadata": {},
   "outputs": [],
   "source": [
    "mask = tmt_protein_split['GENE'].str.contains(r'[^a-zA-Z0-9-._;]', regex = True)\n",
    "invalid = tmt_protein_split[mask]\n",
    "invalid[~invalid['GENE'].str.contains('UNQ|cl')]"
   ]
  },
  {
   "cell_type": "code",
   "execution_count": null,
   "id": "74",
   "metadata": {},
   "outputs": [],
   "source": [
    "tmt_protein_split[tmt_protein_split['GENE'].str.contains(\";|'\")]['GENE'].unique()"
   ]
  },
  {
   "cell_type": "markdown",
   "id": "75",
   "metadata": {},
   "source": [
    "# map RNAseq exp data ENSIDs to gene names"
   ]
  },
  {
   "cell_type": "markdown",
   "id": "76",
   "metadata": {},
   "source": [
    "## transpose df"
   ]
  },
  {
   "cell_type": "code",
   "execution_count": null,
   "id": "77",
   "metadata": {},
   "outputs": [],
   "source": [
    "rnaseq_exp_transpose = rnaseq_exp.transpose().reset_index().rename(columns = {\"index\" : \"ENS_ID\"})\n",
    "rnaseq_exp_transpose.head()"
   ]
  },
  {
   "cell_type": "markdown",
   "id": "78",
   "metadata": {},
   "source": [
    "## extract ID row"
   ]
  },
  {
   "cell_type": "code",
   "execution_count": null,
   "id": "79",
   "metadata": {},
   "outputs": [],
   "source": [
    "rnaseq_exp_id = rnaseq_exp_transpose.iloc[:1]\n",
    "rnaseq_exp_id['GENE'] = rnaseq_exp_id['ENS_ID']\n",
    "rnaseq_exp_id.head()"
   ]
  },
  {
   "cell_type": "markdown",
   "id": "80",
   "metadata": {},
   "source": [
    "## filter to gene map"
   ]
  },
  {
   "cell_type": "code",
   "execution_count": null,
   "id": "81",
   "metadata": {},
   "outputs": [],
   "source": [
    "rnaseq_exp_gene_map = rnaseq_exp_transpose.merge(gene_map, on = 'ENS_ID', how = 'inner')\n",
    "rnaseq_exp_gene_map.drop(columns = ['CHR','START','STOP','START_500kb_upstream','STOP_500kb_downstream'], inplace = True)\n",
    "print(len(rnaseq_exp_gene_map.index))\n",
    "rnaseq_exp_gene_map.head()"
   ]
  },
  {
   "cell_type": "markdown",
   "id": "82",
   "metadata": {},
   "source": [
    "## add id row back in"
   ]
  },
  {
   "cell_type": "code",
   "execution_count": null,
   "id": "83",
   "metadata": {},
   "outputs": [],
   "source": [
    "rnaseq_exp_gene_map_id = pd.concat([rnaseq_exp_id, rnaseq_exp_gene_map], axis = 0)\n",
    "rnaseq_exp_gene_map_id.head()"
   ]
  },
  {
   "cell_type": "markdown",
   "id": "84",
   "metadata": {},
   "source": [
    "## update index"
   ]
  },
  {
   "cell_type": "code",
   "execution_count": null,
   "id": "85",
   "metadata": {},
   "outputs": [],
   "source": [
    "rnaseq_exp_gene_map_id.set_index('GENE', inplace = True)\n",
    "rnaseq_exp_gene_map_id.head()"
   ]
  },
  {
   "cell_type": "markdown",
   "id": "86",
   "metadata": {},
   "source": [
    "## remove ENSID column"
   ]
  },
  {
   "cell_type": "code",
   "execution_count": null,
   "id": "87",
   "metadata": {},
   "outputs": [],
   "source": [
    "rnaseq_exp_gene_map_id.drop(columns=['ENS_ID'], inplace = True)\n",
    "rnaseq_exp_gene_map_id.head()"
   ]
  },
  {
   "cell_type": "markdown",
   "id": "88",
   "metadata": {},
   "source": [
    "## transpose back"
   ]
  },
  {
   "cell_type": "code",
   "execution_count": null,
   "id": "89",
   "metadata": {},
   "outputs": [],
   "source": [
    "rnaseq_exp_ensembl_gene_map_tranposed = rnaseq_exp_gene_map_id.transpose()\n",
    "rnaseq_exp_ensembl_gene_map_tranposed.head()"
   ]
  },
  {
   "cell_type": "markdown",
   "id": "90",
   "metadata": {},
   "source": [
    "# map gene scores data ENS IDs to gene names"
   ]
  },
  {
   "cell_type": "markdown",
   "id": "91",
   "metadata": {},
   "source": [
    "## remove avg label from colnames"
   ]
  },
  {
   "cell_type": "code",
   "execution_count": null,
   "id": "92",
   "metadata": {},
   "outputs": [],
   "source": [
    "gene_score.columns = gene_score.columns.str.replace('_AVG', '', regex = False)\n",
    "gene_score.columns"
   ]
  },
  {
   "cell_type": "markdown",
   "id": "93",
   "metadata": {},
   "source": [
    "## extract pheno + covariate columns"
   ]
  },
  {
   "cell_type": "code",
   "execution_count": null,
   "id": "94",
   "metadata": {},
   "outputs": [],
   "source": [
    "gene_score_covar = gene_score[['ID', 'ALZ_STATUS', 'AGE', 'SEX', 'PC1', 'PC2', 'PC3', 'PC4', 'PC5', 'PC6', 'PC7', 'PC8']]"
   ]
  },
  {
   "cell_type": "markdown",
   "id": "95",
   "metadata": {},
   "source": [
    "## drop pheno + covariate columns"
   ]
  },
  {
   "cell_type": "code",
   "execution_count": null,
   "id": "96",
   "metadata": {},
   "outputs": [],
   "source": [
    "gene_score.drop(columns = ['ALZ_STATUS', 'AGE', 'SEX', 'PC1', 'PC2', 'PC3', 'PC4', 'PC5', 'PC6', 'PC7', 'PC8'], inplace = True)\n",
    "gene_score.columns"
   ]
  },
  {
   "cell_type": "markdown",
   "id": "97",
   "metadata": {},
   "source": [
    "## transpose"
   ]
  },
  {
   "cell_type": "code",
   "execution_count": null,
   "id": "98",
   "metadata": {},
   "outputs": [],
   "source": [
    "gene_score_transpose = gene_score.transpose().reset_index().rename(columns = {\"index\" : \"ENS_ID\"})\n",
    "gene_score_transpose.head()"
   ]
  },
  {
   "cell_type": "markdown",
   "id": "99",
   "metadata": {},
   "source": [
    "## extract ID row"
   ]
  },
  {
   "cell_type": "code",
   "execution_count": null,
   "id": "100",
   "metadata": {},
   "outputs": [],
   "source": [
    "gene_score_id = gene_score_transpose.iloc[:1]\n",
    "gene_score_id['GENE'] = gene_score_id['ENS_ID']\n",
    "gene_score_id.head()"
   ]
  },
  {
   "cell_type": "markdown",
   "id": "101",
   "metadata": {},
   "source": [
    "## filter to gene map"
   ]
  },
  {
   "cell_type": "code",
   "execution_count": null,
   "id": "102",
   "metadata": {},
   "outputs": [],
   "source": [
    "gene_score_gene_map = gene_score_transpose.merge(gene_map, on = 'ENS_ID', how = 'inner')\n",
    "gene_score_gene_map.drop(columns = ['CHR','START','STOP','START_500kb_upstream','STOP_500kb_downstream'], inplace = True)\n",
    "print(len(gene_score_gene_map.index))\n",
    "gene_score_gene_map.head()"
   ]
  },
  {
   "cell_type": "markdown",
   "id": "103",
   "metadata": {},
   "source": [
    "## add id row back in"
   ]
  },
  {
   "cell_type": "code",
   "execution_count": null,
   "id": "104",
   "metadata": {},
   "outputs": [],
   "source": [
    "gene_score_gene_map_id = pd.concat([gene_score_id, gene_score_gene_map], axis = 0)\n",
    "gene_score_gene_map_id.head()"
   ]
  },
  {
   "cell_type": "markdown",
   "id": "105",
   "metadata": {},
   "source": [
    "## update index"
   ]
  },
  {
   "cell_type": "code",
   "execution_count": null,
   "id": "106",
   "metadata": {},
   "outputs": [],
   "source": [
    "gene_score_gene_map_id.set_index('GENE', inplace = True)\n",
    "gene_score_gene_map_id.head()"
   ]
  },
  {
   "cell_type": "markdown",
   "id": "107",
   "metadata": {},
   "source": [
    "## drop ensid column"
   ]
  },
  {
   "cell_type": "code",
   "execution_count": null,
   "id": "108",
   "metadata": {},
   "outputs": [],
   "source": [
    "gene_score_gene_map_id.drop(columns = ['ENS_ID'], inplace = True)\n",
    "gene_score_gene_map_id.head()"
   ]
  },
  {
   "cell_type": "markdown",
   "id": "109",
   "metadata": {},
   "source": [
    "## transpose back"
   ]
  },
  {
   "cell_type": "code",
   "execution_count": null,
   "id": "110",
   "metadata": {},
   "outputs": [],
   "source": [
    "gene_score_ensembl_gene_map_tranposed = gene_score_gene_map_id.transpose()\n",
    "gene_score_ensembl_gene_map_tranposed.head()"
   ]
  },
  {
   "cell_type": "markdown",
   "id": "111",
   "metadata": {},
   "source": [
    "## add covariates back in"
   ]
  },
  {
   "cell_type": "code",
   "execution_count": null,
   "id": "112",
   "metadata": {},
   "outputs": [],
   "source": [
    "gene_score_ensembl_gene_map_tranposed = gene_score_covar.merge(gene_score_ensembl_gene_map_tranposed, on = 'ID', how = 'inner')\n",
    "print(gene_score_ensembl_gene_map_tranposed.shape)\n",
    "gene_score_ensembl_gene_map_tranposed.head()"
   ]
  },
  {
   "cell_type": "markdown",
   "id": "113",
   "metadata": {},
   "source": [
    "# map genes to pathways"
   ]
  },
  {
   "cell_type": "markdown",
   "id": "114",
   "metadata": {},
   "source": [
    "## gene scores"
   ]
  },
  {
   "cell_type": "code",
   "execution_count": null,
   "id": "115",
   "metadata": {},
   "outputs": [],
   "source": [
    "gs_reactome = reactome_gene_split[reactome_gene_split['GENE'].isin(meta_gene_map_final['GENE'])]\n",
    "gs_reactome['SOURCE'] = 'ADSP_GS'\n",
    "print(len(gs_reactome.index))\n",
    "print(len(gs_reactome['GENE'].unique()))\n",
    "print(len(reactome_gene_split['GENE'].unique()))\n",
    "print(len(meta_gene_map_final.index))\n",
    "print(len(gs_reactome['PATHWAY_ID'].unique())) \n",
    "gs_reactome.head()"
   ]
  },
  {
   "cell_type": "markdown",
   "id": "116",
   "metadata": {},
   "source": [
    "## rnaseq"
   ]
  },
  {
   "cell_type": "code",
   "execution_count": null,
   "id": "117",
   "metadata": {},
   "outputs": [],
   "source": [
    "rs_reactome = reactome_gene_split[reactome_gene_split['GENE'].isin(gene_map_rnaseq['GENE'])]\n",
    "rs_reactome['SOURCE'] = 'ROSMAP_RS'\n",
    "print(len(rs_reactome.index))\n",
    "print(len(rs_reactome['GENE'].unique()))\n",
    "print(len(reactome_gene_split['GENE'].unique()))\n",
    "print(len(gene_map_rnaseq.index))\n",
    "print(len(rs_reactome['PATHWAY_ID'].unique())) \n",
    "rs_reactome.head()"
   ]
  },
  {
   "cell_type": "code",
   "execution_count": null,
   "id": "118",
   "metadata": {},
   "outputs": [],
   "source": [
    "msbb_rs_reactome = reactome_gene_split[reactome_gene_split['GENE'].isin(msbb_rnaseq_gene['GENE'])]\n",
    "msbb_rs_reactome['SOURCE'] = 'MSBB_RS'\n",
    "print(len(msbb_rs_reactome.index))\n",
    "print(len(msbb_rs_reactome['GENE'].unique()))\n",
    "print(len(reactome_gene_split['GENE'].unique()))\n",
    "print(len(msbb_rnaseq_gene.index))\n",
    "print(len(msbb_rs_reactome['PATHWAY_ID'].unique())) \n",
    "msbb_rs_reactome.head()"
   ]
  },
  {
   "cell_type": "markdown",
   "id": "119",
   "metadata": {},
   "source": [
    "## methylation"
   ]
  },
  {
   "cell_type": "code",
   "execution_count": null,
   "id": "120",
   "metadata": {},
   "outputs": [],
   "source": [
    "ma_reactome = reactome_gene_split[reactome_gene_split['GENE'].isin(methyl_gene['RefGene'])]\n",
    "ma_reactome['SOURCE'] = 'ROSMAP_MA'\n",
    "print(len(ma_reactome.index))\n",
    "print(len(ma_reactome['GENE'].unique()))\n",
    "print(len(reactome_gene_split['GENE'].unique()))\n",
    "print(len(methyl_gene.index))\n",
    "print(len(ma_reactome['PATHWAY_ID'].unique())) \n",
    "ma_reactome.head()"
   ]
  },
  {
   "cell_type": "code",
   "execution_count": null,
   "id": "121",
   "metadata": {},
   "outputs": [],
   "source": [
    "msbb_ma_reactome = reactome_gene_split[reactome_gene_split['GENE'].isin(msbb_methyl_gene['GENE'])]\n",
    "msbb_ma_reactome['SOURCE'] = 'MSBB_MA'\n",
    "print(len(msbb_ma_reactome.index))\n",
    "print(len(msbb_ma_reactome['GENE'].unique()))\n",
    "print(len(reactome_gene_split['GENE'].unique()))\n",
    "print(len(msbb_methyl_gene.index))\n",
    "print(len(msbb_ma_reactome['PATHWAY_ID'].unique())) \n",
    "msbb_ma_reactome.head()"
   ]
  },
  {
   "cell_type": "markdown",
   "id": "122",
   "metadata": {},
   "source": [
    "## tmt protein"
   ]
  },
  {
   "cell_type": "code",
   "execution_count": null,
   "id": "123",
   "metadata": {},
   "outputs": [],
   "source": [
    "msbb_tmt_reactome_gene = reactome_gene_split[reactome_gene_split['GENE'].isin(msbb_tmt_gene['GENE'])]\n",
    "msbb_tmt_reactome_gene['SOURCE'] = 'MSBB_TP'\n",
    "print(len(msbb_tmt_reactome_gene.index))\n",
    "print(len(msbb_tmt_reactome_gene['GENE'].unique()))\n",
    "print(len(reactome_gene_split['GENE'].unique()))\n",
    "print(len(msbb_tmt_gene.index))\n",
    "print(len(msbb_tmt_reactome_gene['PATHWAY_ID'].unique())) \n",
    "msbb_tmt_reactome_gene.head()"
   ]
  },
  {
   "cell_type": "markdown",
   "id": "124",
   "metadata": {},
   "source": [
    "## somoscan protein"
   ]
  },
  {
   "cell_type": "code",
   "execution_count": null,
   "id": "125",
   "metadata": {},
   "outputs": [],
   "source": [
    "somoscan_reactome_gene = reactome_gene_split[reactome_gene_split['GENE'].isin(somoscan_gene['GENE'])]\n",
    "somoscan_reactome_gene['SOURCE'] = 'ROSMAP_SP'\n",
    "print(len(somoscan_reactome_gene.index))\n",
    "print(len(somoscan_reactome_gene['GENE'].unique()))\n",
    "print(len(reactome_gene_split['GENE'].unique()))\n",
    "print(len(somoscan_gene['GENE'].unique()))\n",
    "#print(len(somoscan_protein.index))\n",
    "print(len(somoscan_reactome_gene['PATHWAY_ID'].unique())) \n",
    "somoscan_reactome_gene.head()"
   ]
  },
  {
   "cell_type": "code",
   "execution_count": null,
   "id": "126",
   "metadata": {},
   "outputs": [],
   "source": [
    "print(len(srm_reactome_gene['PATHWAY_ID'].unique()))\n",
    "print(len(srm_reactome_protein['PATHWAY_ID'].unique()))"
   ]
  },
  {
   "cell_type": "code",
   "execution_count": null,
   "id": "127",
   "metadata": {},
   "outputs": [],
   "source": [
    "print(len(srm_reactome_protein[srm_reactome_protein['PATHWAY_ID'].isin(srm_reactome_gene['PATHWAY_ID'])]['PATHWAY_ID'].unique()))\n",
    "print(len(srm_reactome_gene[srm_reactome_gene['PATHWAY_ID'].isin(srm_reactome_protein['PATHWAY_ID'])]['PATHWAY_ID'].unique()))"
   ]
  },
  {
   "cell_type": "code",
   "execution_count": null,
   "id": "128",
   "metadata": {},
   "outputs": [],
   "source": [
    "srm_reactome_gene[~srm_reactome_gene['PATHWAY_ID'].isin(srm_reactome_protein['PATHWAY_ID'])][['PATHWAY_NAME','PATHWAY_ID']].drop_duplicates()"
   ]
  },
  {
   "cell_type": "markdown",
   "id": "129",
   "metadata": {},
   "source": [
    "# merge"
   ]
  },
  {
   "cell_type": "code",
   "execution_count": null,
   "id": "130",
   "metadata": {},
   "outputs": [],
   "source": [
    "all_gene = pd.concat([gs_reactome, rs_reactome, msbb_rs_reactome, ma_reactome, msbb_ma_reactome, msbb_tmt_reactome_gene], axis = 0)\n",
    "all_gene = all_gene.groupby(['PATHWAY_NAME', 'PATHWAY_ID', 'GENE'])['SOURCE'].agg(lambda x: ';'.join(sorted(set(x)))).reset_index()\n",
    "print(len(all_gene.index))\n",
    "all_gene.head()"
   ]
  },
  {
   "cell_type": "code",
   "execution_count": null,
   "id": "131",
   "metadata": {},
   "outputs": [],
   "source": [
    "all_gene_somoscan_protein_gene = pd.concat([all_gene, somoscan_reactome_gene], axis = 0)\n",
    "all_gene_somoscan_protein_gene = all_gene_somoscan_protein_gene.groupby(['PATHWAY_NAME', 'PATHWAY_ID', 'GENE'])['SOURCE'].agg(lambda x: ';'.join(sorted(set(x)))).reset_index()\n",
    "print(len(all_gene_somoscan_protein_gene.index))\n",
    "all_gene_somoscan_protein_gene.head()"
   ]
  },
  {
   "cell_type": "code",
   "execution_count": null,
   "id": "132",
   "metadata": {},
   "outputs": [],
   "source": [
    "pd.set_option('display.max_rows', None) \n",
    "all_gene_somoscan_protein_gene.drop_duplicates(subset = ['PATHWAY_NAME', 'PATHWAY_ID', 'SOURCE'])['SOURCE'].value_counts(dropna = False)"
   ]
  },
  {
   "cell_type": "markdown",
   "id": "133",
   "metadata": {},
   "source": [
    "# export"
   ]
  },
  {
   "cell_type": "markdown",
   "id": "134",
   "metadata": {},
   "source": [
    "## rnaseq exp data"
   ]
  },
  {
   "cell_type": "code",
   "execution_count": null,
   "id": "135",
   "metadata": {},
   "outputs": [],
   "source": [
    "rnaseq_exp_norm_id.to_csv('gene_mapping/ROSMAP.RNAseq.TPM5_log2norm.individualids.codinggenes.VEP_v113_genes.gene_symbol.zscore_norm.txt',\n",
    "                          sep = '\\t',\n",
    "                          index = None)"
   ]
  },
  {
   "cell_type": "markdown",
   "id": "136",
   "metadata": {},
   "source": [
    "## gene scores data"
   ]
  },
  {
   "cell_type": "code",
   "execution_count": null,
   "id": "137",
   "metadata": {},
   "outputs": [],
   "source": [
    "gene_score_norm_id.to_csv('merged_outputs/AOU_ALL.UKBB.metasoft.ADSP.all.VEP_v113.gene_by_position.r2_0.1_clump_variants_excluded.RE_pval_threshold_0.05.gene_symbol.zscore_norm.average_gene_score.merged.txt',\n",
    "                                     sep = '\\t',\n",
    "                                     index = None)"
   ]
  },
  {
   "cell_type": "markdown",
   "id": "138",
   "metadata": {},
   "source": [
    "## pathway maps"
   ]
  },
  {
   "cell_type": "code",
   "execution_count": null,
   "id": "139",
   "metadata": {},
   "outputs": [],
   "source": [
    "gs_reactome.to_csv('reactome/AOU_ALL.UKBB.metasoft.ADSP.gene_score.reactome.pathway_mapping.txt',\n",
    "                   sep = '\\t',\n",
    "                   index = None)"
   ]
  },
  {
   "cell_type": "code",
   "execution_count": null,
   "id": "140",
   "metadata": {},
   "outputs": [],
   "source": [
    "rs_reactome.to_csv('reactome/ROSMAP.RNAseq.reactome.pathway_mapping.txt',\n",
    "                   sep = '\\t',\n",
    "                   index = None)"
   ]
  },
  {
   "cell_type": "code",
   "execution_count": null,
   "id": "141",
   "metadata": {},
   "outputs": [],
   "source": [
    "msbb_rs_reactome.to_csv('reactome/MSBB.RNAseq.reactome.pathway_mapping.txt',\n",
    "                   sep = '\\t',\n",
    "                   index = None)"
   ]
  },
  {
   "cell_type": "code",
   "execution_count": null,
   "id": "142",
   "metadata": {},
   "outputs": [],
   "source": [
    "ma_reactome.to_csv('reactome/ROSMAP.arrayMethylation_imputed.ref_gene.reactome.pathway_mapping.txt',\n",
    "                   sep = '\\t',\n",
    "                   index = None)"
   ]
  },
  {
   "cell_type": "code",
   "execution_count": null,
   "id": "143",
   "metadata": {},
   "outputs": [],
   "source": [
    "msbb_ma_reactome.to_csv('reactome/MSBB.methylation.reactome.pathway_mapping.txt',\n",
    "                        sep = '\\t',\n",
    "                        index = None)"
   ]
  },
  {
   "cell_type": "code",
   "execution_count": null,
   "id": "144",
   "metadata": {},
   "outputs": [],
   "source": [
    "srm_reactome_protein.to_csv('reactome/ROSMAP.proteomics.LC_SRM.round1.reactome.protein_to_pathway.pathway_mapping.txt',\n",
    "                            sep = '\\t',\n",
    "                            index = None)"
   ]
  },
  {
   "cell_type": "code",
   "execution_count": null,
   "id": "145",
   "metadata": {},
   "outputs": [],
   "source": [
    "srm_reactome_gene.to_csv('reactome/ROSMAP.proteomics.LC_SRM.round1.reactome.gene_to_pathway.pathway_mapping.txt',\n",
    "                         sep = '\\t',\n",
    "                        index = None)"
   ]
  },
  {
   "cell_type": "code",
   "execution_count": null,
   "id": "146",
   "metadata": {},
   "outputs": [],
   "source": [
    "tmt_reactome_protein.to_csv('reactome/ROSMAP.proteomics.TMT.round1.reactome.protein_to_pathway.pathway_mapping.txt',\n",
    "                            sep = '\\t',\n",
    "                            index = None)"
   ]
  },
  {
   "cell_type": "code",
   "execution_count": null,
   "id": "147",
   "metadata": {},
   "outputs": [],
   "source": [
    "tmt_reactome_gene.to_csv('reactome/ROSMAP.proteomics.TMT.round1.reactome.gene_to_pathway.pathway_mapping.txt',\n",
    "                         sep = '\\t',\n",
    "                        index = None)"
   ]
  },
  {
   "cell_type": "code",
   "execution_count": null,
   "id": "148",
   "metadata": {},
   "outputs": [],
   "source": [
    "msbb_tmt_reactome_gene.to_csv('reactome/MSBB.proteomics.TMT.reactome.gene_to_pathway.pathway_mapping.txt',\n",
    "                              sep = '\\t',\n",
    "                              index = None)"
   ]
  },
  {
   "cell_type": "code",
   "execution_count": null,
   "id": "149",
   "metadata": {},
   "outputs": [],
   "source": [
    "somoscan_reactome_gene.to_csv('reactome/ROSMAP.proteomics.somoscan.reactome.gene_to_pathway.pathway_mapping.txt',\n",
    "                              sep = '\\t',\n",
    "                              index = None)"
   ]
  },
  {
   "cell_type": "code",
   "execution_count": null,
   "id": "150",
   "metadata": {},
   "outputs": [],
   "source": [
    "all_gene_srm_protein.to_csv('reactome/AD_KMI.ADSP.ROSMAP.all_omics.LC_SRM_proteomics_round1.reactome.protein_to_pathway.pathway_mapping.txt',\n",
    "                            sep = '\\t',\n",
    "                            index = None)"
   ]
  },
  {
   "cell_type": "code",
   "execution_count": null,
   "id": "151",
   "metadata": {},
   "outputs": [],
   "source": [
    "all_gene_srm_protein_gene.to_csv('reactome/AD_KMI.ADSP.ROSMAP.all_omics.LC_SRM_proteomics_round1.reactome.gene_to_pathway.pathway_mapping.txt',\n",
    "                                 sep = '\\t',\n",
    "                                 index = None)"
   ]
  },
  {
   "cell_type": "code",
   "execution_count": null,
   "id": "152",
   "metadata": {},
   "outputs": [],
   "source": [
    "all_gene_tmt_protein.to_csv('reactome/AD_KMI.ADSP.ROSMAP.all_omics.TMT_proteomics_round1.reactome.protein_to_pathway.pathway_mapping.txt',\n",
    "                            sep = '\\t',\n",
    "                            index = None)"
   ]
  },
  {
   "cell_type": "code",
   "execution_count": null,
   "id": "153",
   "metadata": {},
   "outputs": [],
   "source": [
    "all_gene_tmt_protein_gene.to_csv('reactome/AD_KMI.ADSP.ROSMAP.all_omics.TMT_proteomics_round1.reactome.gene_to_pathway.pathway_mapping.txt',\n",
    "                                 sep = '\\t',\n",
    "                                 index = None)"
   ]
  },
  {
   "cell_type": "code",
   "execution_count": null,
   "id": "154",
   "metadata": {},
   "outputs": [],
   "source": [
    "all_gene_somoscan_protein.to_csv('reactome/AD_KMI.ADSP.ROSMAP.all_omics.somoscan.reactome.protein_to_pathway.pathway_mapping.txt',\n",
    "                                 sep = '\\t',\n",
    "                                 index = None)"
   ]
  },
  {
   "cell_type": "code",
   "execution_count": null,
   "id": "155",
   "metadata": {},
   "outputs": [],
   "source": [
    "all_gene_somoscan_protein_gene.to_csv('reactome/AD_KMI.ADSP.ROSMAP.all_omics.somoscan.MSBB.all_omics.reactome.gene_to_pathway.pathway_mapping.txt',\n",
    "                                      sep = '\\t',\n",
    "                                      index = None)"
   ]
  },
  {
   "cell_type": "code",
   "execution_count": null,
   "id": "156",
   "metadata": {},
   "outputs": [],
   "source": []
  }
 ],
 "metadata": {
  "kernelspec": {
   "display_name": "Python 3 (ipykernel)",
   "language": "python",
   "name": "python3"
  },
  "language_info": {
   "codemirror_mode": {
    "name": "ipython",
    "version": 3
   },
   "file_extension": ".py",
   "mimetype": "text/x-python",
   "name": "python",
   "nbconvert_exporter": "python",
   "pygments_lexer": "ipython3",
   "version": "3.12.3"
  }
 },
 "nbformat": 4,
 "nbformat_minor": 5
}

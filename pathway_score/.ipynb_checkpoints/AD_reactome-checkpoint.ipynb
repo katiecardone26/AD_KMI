{
 "cells": [
  {
   "cell_type": "markdown",
   "id": "3c5dd925-8bb3-40dc-9d3f-5a66cab95236",
   "metadata": {},
   "source": [
    "# load packages"
   ]
  },
  {
   "cell_type": "code",
   "execution_count": null,
   "id": "b2dcebcd-6d30-4e4c-8968-ff69934c64b3",
   "metadata": {},
   "outputs": [],
   "source": [
    "import pandas as pd"
   ]
  },
  {
   "cell_type": "code",
   "execution_count": null,
   "id": "a7ed2eed-f4a2-4db9-90de-1a89727ff357",
   "metadata": {},
   "outputs": [],
   "source": [
    "from scipy.stats import zscore"
   ]
  },
  {
   "cell_type": "code",
   "execution_count": null,
   "id": "800d3879-efcc-470c-b986-f4e111149102",
   "metadata": {},
   "outputs": [],
   "source": [
    "import requests"
   ]
  },
  {
   "cell_type": "code",
   "execution_count": null,
   "id": "90fb59ad-a697-4125-b507-e60f5a9497c5",
   "metadata": {},
   "outputs": [],
   "source": [
    "import sys"
   ]
  },
  {
   "cell_type": "markdown",
   "id": "f0d12994-908f-4773-8990-1697e69a742f",
   "metadata": {},
   "source": [
    "# read in input files"
   ]
  },
  {
   "cell_type": "markdown",
   "id": "0fa1fa77-9d07-483d-8527-323a7fedf164",
   "metadata": {},
   "source": [
    "## reactome databases"
   ]
  },
  {
   "cell_type": "code",
   "execution_count": null,
   "id": "fb8cb290-37a6-4a5e-b05b-32b26811deea",
   "metadata": {},
   "outputs": [],
   "source": [
    "reactome_gene = pd.read_csv('raw_databases/ReactomePathways.gene.tsv',\n",
    "                            sep='\\t',\n",
    "                            header=None)\n",
    "reactome_gene.head()"
   ]
  },
  {
   "cell_type": "code",
   "execution_count": null,
   "id": "e9777dca-f78b-42a5-a5c2-ec8c1af2080d",
   "metadata": {},
   "outputs": [],
   "source": [
    "reactome_protein = pd.read_csv('raw_databases/UniProt2Reactome_All_Levels.txt',\n",
    "                            sep='\\t',\n",
    "                            header=None)\n",
    "reactome_protein.head()"
   ]
  },
  {
   "cell_type": "code",
   "execution_count": null,
   "id": "0a006a71-d1ab-4fa1-9301-b82ba3334766",
   "metadata": {},
   "outputs": [],
   "source": [
    "reactome_path = pd.read_csv('raw_databases/ReactomePathways.txt',\n",
    "                            sep='\\t',\n",
    "                            header=None)\n",
    "reactome_path.head()"
   ]
  },
  {
   "cell_type": "markdown",
   "id": "d2fc6f60-9e8b-42f5-bd4b-91d058acc78d",
   "metadata": {},
   "source": [
    "## gene/protein lists"
   ]
  },
  {
   "cell_type": "markdown",
   "id": "4f06610e-21ed-40c3-b3cf-4fcb72606033",
   "metadata": {},
   "source": [
    "### gene list"
   ]
  },
  {
   "cell_type": "code",
   "execution_count": null,
   "id": "4a7d0be0-a16d-43f2-9e73-b9f722ba2cc4",
   "metadata": {},
   "outputs": [],
   "source": [
    "meta_gene_list = pd.read_csv('merged_outputs/AOU_ALL.UKBB.metasoft.ADSP.all.VEP_v113.gene_by_position.r2_0.1_clump_variants_excluded.RE_pval_threshold_0.05.gene_score_list.txt')\n",
    "print(len(meta_gene_list.index))\n",
    "meta_gene_list.head()"
   ]
  },
  {
   "cell_type": "markdown",
   "id": "29c7ddf9-1c61-4d03-8863-9a453c6a42fd",
   "metadata": {},
   "source": [
    "### rnaseq gene list"
   ]
  },
  {
   "cell_type": "code",
   "execution_count": null,
   "id": "47f8100e-24bd-4d95-b345-b92493af8a93",
   "metadata": {},
   "outputs": [],
   "source": [
    "rnaseq_gene = pd.read_csv('rosmap/ROSMAP_RNAseq_genes.txt',\n",
    "                        header = None)\n",
    "print(len(rnaseq_gene.index))\n",
    "rnaseq_gene.head()"
   ]
  },
  {
   "cell_type": "code",
   "execution_count": null,
   "id": "524b5b91-0e08-416a-8bc8-af05140c063f",
   "metadata": {},
   "outputs": [],
   "source": [
    "msbb_rnaseq_gene = pd.read_csv('msbb/MSBB.RNAseq.BA_ALL.19batch.gene_symbol.individualID.mvalue_norm.tpm.log2.coding_genes_only.covar_corrected.gene_list.txt')\n",
    "print(len(msbb_rnaseq_gene.index))\n",
    "msbb_rnaseq_gene.head()"
   ]
  },
  {
   "cell_type": "markdown",
   "id": "078dd12e-c253-4c25-8c02-7c8e60e53f39",
   "metadata": {},
   "source": [
    "### methylation gene list"
   ]
  },
  {
   "cell_type": "code",
   "execution_count": null,
   "id": "be75bf94-dbae-472c-93ab-47dd3b196fff",
   "metadata": {},
   "outputs": [],
   "source": [
    "methyl_gene = pd.read_csv('rosmap/ROSMAP_arrayMethylation_imputed.gene_list.txt')\n",
    "print(len(methyl_gene.index))\n",
    "methyl_gene.head()"
   ]
  },
  {
   "cell_type": "code",
   "execution_count": null,
   "id": "0a6d5165-511b-426d-a946-a2c77bb6cf1d",
   "metadata": {},
   "outputs": [],
   "source": [
    "msbb_methyl_gene = pd.read_csv('msbb/MSBB.methylation_array.19batch.gene_symbol.individualID.mvalue_norm.gene_list.txt')\n",
    "print(len(msbb_methyl_gene.index))\n",
    "msbb_methyl_gene.head()"
   ]
  },
  {
   "cell_type": "markdown",
   "id": "650d603b-87f5-46b0-b782-128e98eb1ebc",
   "metadata": {},
   "source": [
    "### LC SRM protein output from uniprot"
   ]
  },
  {
   "cell_type": "code",
   "execution_count": null,
   "id": "2027b814-c891-422b-9089-d37da6fa2d56",
   "metadata": {},
   "outputs": [],
   "source": [
    "srm_protein = pd.read_csv('raw_databases/idmapping_reviewed_true_AND_organism_id_2025_04_30.rosmap.proteomics.srm.peptide.round1.tsv.gz',\n",
    "                          sep='\\t')\n",
    "print(len(srm_protein.index))\n",
    "srm_protein.head()"
   ]
  },
  {
   "cell_type": "markdown",
   "id": "501d1202-e562-44ef-9b2b-8becd4a7f910",
   "metadata": {},
   "source": [
    "### TMT protein list"
   ]
  },
  {
   "cell_type": "code",
   "execution_count": null,
   "id": "f135dffb-78dc-4554-a514-df43df763084",
   "metadata": {},
   "outputs": [],
   "source": [
    "tmt_protein = pd.read_csv('raw_databases/idmapping_model_organism_9606_AND_revie_2025_04_30.rosmap.proteomics.tmt.round1.tsv.gz',\n",
    "                          sep = '\\t')\n",
    "print(len(tmt_protein.index))\n",
    "tmt_protein.head()"
   ]
  },
  {
   "cell_type": "code",
   "execution_count": null,
   "id": "43e05c11-5e40-4e76-a18a-ebbe39b1dc82",
   "metadata": {},
   "outputs": [],
   "source": [
    "msbb_tmt_gene = pd.read_csv('msbb/MSBB.TMT_proteomics.19batch.normalized.gene_symbol.individualID.log2_transformed.gene_list.txt')\n",
    "print(len(msbb_tmt_gene.index))\n",
    "msbb_tmt_gene.head()"
   ]
  },
  {
   "cell_type": "markdown",
   "id": "4b05b965-5d73-428b-a5e3-b5dbeccb0b35",
   "metadata": {},
   "source": [
    "### somoscan"
   ]
  },
  {
   "cell_type": "code",
   "execution_count": null,
   "id": "ba3cbab1-d496-4bd4-88d8-bcabc641b473",
   "metadata": {},
   "outputs": [],
   "source": [
    "somoscan_gene = pd.read_csv('rosmap/ROSMAP.proteomics.somoscan.individualID.entrez_gene_symbol.gene_list.txt')\n",
    "print(len(somoscan_gene.index))\n",
    "somoscan_gene.head()"
   ]
  },
  {
   "cell_type": "code",
   "execution_count": null,
   "id": "6f10b9c7-0d09-42fe-8551-77911b5302cf",
   "metadata": {},
   "outputs": [],
   "source": [
    "somoscan_protein = pd.read_csv('rosmap/ROSMAP.proteomics.somoscan.individualID.uniprot.protein_list.txt')\n",
    "print(len(somoscan_protein.index))\n",
    "somoscan_protein.head()"
   ]
  },
  {
   "cell_type": "markdown",
   "id": "e48a2370-317a-4574-be8c-ba76fecdfd7a",
   "metadata": {},
   "source": [
    "## raw data"
   ]
  },
  {
   "cell_type": "markdown",
   "id": "785ba48c-5b94-42f0-a138-ff87c470abc0",
   "metadata": {},
   "source": [
    "### gene scores"
   ]
  },
  {
   "cell_type": "code",
   "execution_count": null,
   "id": "3647cfde-0c29-43b0-aa31-8989f258cb20",
   "metadata": {},
   "outputs": [],
   "source": [
    "gene_score = pd.read_csv('merged_outputs/AOU_ALL.UKBB.metasoft.ADSP.all.VEP_v113.gene_by_position.r2_0.1_clump_variants_excluded.RE_pval_threshold_0.05.average_gene_score.merged.txt.gz',\n",
    "                        sep = '\\t')\n",
    "print(gene_score.shape)\n",
    "gene_score.head()"
   ]
  },
  {
   "cell_type": "markdown",
   "id": "2b30530a-8f7f-4679-95aa-f61866d56419",
   "metadata": {},
   "source": [
    "### rnaseq exp data"
   ]
  },
  {
   "cell_type": "code",
   "execution_count": null,
   "id": "32651cfc-5b73-4efc-88e0-9effbc50baee",
   "metadata": {},
   "outputs": [],
   "source": [
    "rnaseq_exp = pd.read_csv('rosmap/ROSMAP_RNAseq_TPM5_log2norm_individualids_codinggenes.tsv',\n",
    "                         sep = '\\t')\n",
    "print(rnaseq_exp.shape)\n",
    "rnaseq_exp.head()"
   ]
  },
  {
   "cell_type": "markdown",
   "id": "298635ce-a69a-44ab-92b1-6a051a2135f2",
   "metadata": {},
   "source": [
    "## gene map"
   ]
  },
  {
   "cell_type": "code",
   "execution_count": null,
   "id": "46415699-edc8-4710-a1bd-dce50e7c12c4",
   "metadata": {},
   "outputs": [],
   "source": [
    "gene_map = pd.read_csv('ensembl_start_stop/Homo_sapiens.GRCh38.113.gene_start_stop.autosomes.500kb_upstream_downstream.gtf.txt',\n",
    "                       sep = '\\t')\n",
    "gene_map.head()"
   ]
  },
  {
   "cell_type": "markdown",
   "id": "a435d3a2-a3a8-4d08-a577-2bcd284e88bf",
   "metadata": {},
   "source": [
    "# clean pathway files"
   ]
  },
  {
   "cell_type": "markdown",
   "id": "7765a796-290f-44f1-be8a-1b6e0a8a0e66",
   "metadata": {},
   "source": [
    "## gene"
   ]
  },
  {
   "cell_type": "code",
   "execution_count": null,
   "id": "861c1615-e586-420f-a69a-2dae741a70e3",
   "metadata": {},
   "outputs": [],
   "source": [
    "reactome_gene_split = reactome_gene.assign(GENE = reactome_gene[2].str.split('|')).explode('GENE').reset_index(drop = True)\n",
    "reactome_gene_split.drop(columns = [2],inplace = True)\n",
    "reactome_gene_split.rename(columns = {0: 'PATHWAY_NAME',\n",
    "                                      1: 'PATHWAY_ID'}, inplace = True)\n",
    "reactome_gene_split.head()"
   ]
  },
  {
   "cell_type": "code",
   "execution_count": null,
   "id": "2dafcdd0-8e82-41c8-8218-830d262de731",
   "metadata": {},
   "outputs": [],
   "source": [
    "print(len(reactome_gene_split['PATHWAY_NAME'].unique()))\n",
    "reactome_gene_split['PATHWAY_NAME'].unique()"
   ]
  },
  {
   "cell_type": "markdown",
   "id": "6e3b5aa3-0108-4720-ae4a-9d128c52d01f",
   "metadata": {},
   "source": [
    "## protein"
   ]
  },
  {
   "cell_type": "code",
   "execution_count": null,
   "id": "d18bbc30-cf50-4816-afaa-eb019dc9a6cf",
   "metadata": {},
   "outputs": [],
   "source": [
    "reactome_protein_human = reactome_protein[reactome_protein[5].isin(['Homo sapiens'])]\n",
    "reactome_protein_human = reactome_protein_human[[3, 1, 0]]\n",
    "reactome_protein_human.rename(columns = {3 : 'PATHWAY_NAME',\n",
    "                                         1 : 'PATHWAY_ID',\n",
    "                                         0 : 'PROTEIN'}, inplace = True)\n",
    "reactome_protein_human.head()"
   ]
  },
  {
   "cell_type": "markdown",
   "id": "e8a61945-6f63-46a6-9f73-8092cc7d3929",
   "metadata": {},
   "source": [
    "## pathway"
   ]
  },
  {
   "cell_type": "code",
   "execution_count": null,
   "id": "e20bf403-d121-4e8b-8717-02208015e366",
   "metadata": {},
   "outputs": [],
   "source": [
    "reactome_path_human = reactome_path[reactome_path[2].isin(['Homo sapiens'])]\n",
    "reactome_path_human.head()"
   ]
  },
  {
   "cell_type": "markdown",
   "id": "d2192a90-d81f-4ae7-9390-2db39f0f0bba",
   "metadata": {},
   "source": [
    "# map ENSIDs to gene names for gene scores"
   ]
  },
  {
   "cell_type": "markdown",
   "id": "51a143b5-38bf-4f11-bf96-e67b74da82d5",
   "metadata": {},
   "source": [
    "## map"
   ]
  },
  {
   "cell_type": "code",
   "execution_count": null,
   "id": "ed8e8556-0871-4be8-a1eb-e49e0d4e3976",
   "metadata": {},
   "outputs": [],
   "source": [
    "meta_gene_map = gene_map[gene_map['ENS_ID'].isin(meta_gene_list['GENE'])]\n",
    "print(len(meta_gene_map.index))\n",
    "print(len(meta_gene_map['ENS_ID'].unique()))\n",
    "print(len(meta_gene_map['GENE'].unique()))\n",
    "meta_gene_map.head()"
   ]
  },
  {
   "cell_type": "markdown",
   "id": "32c38036-fcd4-4d2a-aaa7-ea04c2f76440",
   "metadata": {},
   "source": [
    "## investigate dups"
   ]
  },
  {
   "cell_type": "code",
   "execution_count": null,
   "id": "8e9ae934-2918-41f5-bc05-61b11acea0cd",
   "metadata": {},
   "outputs": [],
   "source": [
    "meta_gene_map_dups = gene_map[gene_map['GENE'].isin(meta_gene_map['GENE'][meta_gene_map['GENE'].duplicated()])]\n",
    "meta_gene_map_dups"
   ]
  },
  {
   "cell_type": "raw",
   "id": "fecabeee-2cb2-45fc-9715-b9a08df75b8f",
   "metadata": {},
   "source": [
    "# meta without finngen notes\n",
    "# these are MANE Select Plus Clinical: Representative transcript from RefSeq & GENCODE\n",
    "PDE8B coordinates: chr5:77210680-77428256\n",
    "    ENSG00000113231 overlaps more closely\n",
    "\n",
    "CAST coordinates: chr5:96662376-96774683\n",
    "    ENSG00000310517 overlaps more closely\n",
    "\n",
    "LINC03023 coordinates: chr8:20953633-20968938\n",
    "    ENSG00000253147 overlaps more closely\n",
    "\n",
    "SPATA13 coordinates: chr13:24160720-24307069\n",
    "    ENSG00000182957 overlaps more closely\n",
    "\n",
    "PDE4C coordinates: chr19: chr19:18207965-18226438\n",
    "    ENSG00000105650 overlaps more closely"
   ]
  },
  {
   "cell_type": "markdown",
   "id": "a8a12e9a-621f-4ec3-8f02-d8bde92dfdfe",
   "metadata": {},
   "source": [
    "## fix duplicates"
   ]
  },
  {
   "cell_type": "code",
   "execution_count": null,
   "id": "aaac65ec-9e56-4f22-a004-a62bc4720a7f",
   "metadata": {},
   "outputs": [],
   "source": [
    "meta_gene_map_no_dup = meta_gene_map[~meta_gene_map['GENE'].isin(meta_gene_map_dups['GENE'])]\n",
    "print(len(meta_gene_map.index))\n",
    "print(len(meta_gene_map_no_dup.index))"
   ]
  },
  {
   "cell_type": "code",
   "execution_count": null,
   "id": "42028354-39a7-4796-b91c-d6d0adde0443",
   "metadata": {},
   "outputs": [],
   "source": [
    "# no finngen meta fix\n",
    "meta_gene_map_dup_fixed = meta_gene_map_dups[meta_gene_map_dups['ENS_ID'].isin(['ENSG00000113231',\n",
    "                                                                                'ENSG00000310517',\n",
    "                                                                                'ENSG00000253147',\n",
    "                                                                                'ENSG00000182957',\n",
    "                                                                                'ENSG00000105650'])]\n",
    "meta_gene_map_dup_fixed"
   ]
  },
  {
   "cell_type": "code",
   "execution_count": null,
   "id": "829363df-0868-4be1-97bc-d72880afb3f8",
   "metadata": {},
   "outputs": [],
   "source": [
    "meta_gene_map_final = pd.concat([meta_gene_map_no_dup, meta_gene_map_dup_fixed], axis = 0)\n",
    "print(len(meta_gene_map_final.index))"
   ]
  },
  {
   "cell_type": "markdown",
   "id": "ee55e7d3-e2d7-4a48-85ae-7fea1b075b4e",
   "metadata": {},
   "source": [
    "## subset"
   ]
  },
  {
   "cell_type": "code",
   "execution_count": null,
   "id": "6ac060d7-aa4b-4720-9ed4-aa54f8c8ae02",
   "metadata": {},
   "outputs": [],
   "source": [
    "meta_gene_map_final = meta_gene_map_final[['ENS_ID', 'GENE']]\n",
    "meta_gene_map_final.head()"
   ]
  },
  {
   "cell_type": "markdown",
   "id": "697ff87c-9c14-497e-8332-58b20665f1ee",
   "metadata": {},
   "source": [
    "# map ENSIDs to gene names for RNAseq genes"
   ]
  },
  {
   "cell_type": "markdown",
   "id": "404e2b74-249e-4262-940c-6d60306976cf",
   "metadata": {},
   "source": [
    "## map"
   ]
  },
  {
   "cell_type": "code",
   "execution_count": null,
   "id": "970557fc-1000-4417-aab1-a817d47c3f40",
   "metadata": {},
   "outputs": [],
   "source": [
    "gene_map_rnaseq = gene_map[gene_map['ENS_ID'].isin(rnaseq_gene[0])]\n",
    "print(len(rnaseq_gene.index))\n",
    "print(len(gene_map_rnaseq.index))\n",
    "print(len(gene_map_rnaseq['ENS_ID'].unique()))\n",
    "print(len(gene_map_rnaseq['GENE'].unique()))\n",
    "gene_map_rnaseq.head()"
   ]
  },
  {
   "cell_type": "raw",
   "id": "a9da659e-0176-42a3-98a2-5c0d84cfe3be",
   "metadata": {},
   "source": [
    "# 667 RNAseq genes did not map\n",
    "# genes didn't map because they were retired/discontinued"
   ]
  },
  {
   "cell_type": "markdown",
   "id": "17e6fff1-de61-438c-9177-e0a429fb2fed",
   "metadata": {},
   "source": [
    "## subset"
   ]
  },
  {
   "cell_type": "code",
   "execution_count": null,
   "id": "e481f5c1-b8a1-46f2-8d7a-b0eb8779b4af",
   "metadata": {},
   "outputs": [],
   "source": [
    "gene_map_rnaseq = gene_map_rnaseq[['ENS_ID','GENE']]\n",
    "gene_map_rnaseq.head()"
   ]
  },
  {
   "cell_type": "markdown",
   "id": "0f7c27b9-e122-4b6e-8ef8-ca7b9332bfea",
   "metadata": {},
   "source": [
    "# split protein genes into the distinct rows"
   ]
  },
  {
   "cell_type": "markdown",
   "id": "7c8c1ebd-3c71-4943-bf51-a4524ed9e4e2",
   "metadata": {
    "jp-MarkdownHeadingCollapsed": true
   },
   "source": [
    "## split srm"
   ]
  },
  {
   "cell_type": "code",
   "execution_count": null,
   "id": "92a35371-53fd-4150-b8af-fc44cf0b3be0",
   "metadata": {},
   "outputs": [],
   "source": [
    "srm_protein_split = srm_protein.assign(GENE=srm_protein['Gene Names'].str.split(r'[ ,/]')).explode('GENE').reset_index(drop=True)\n",
    "print(len(srm_protein_split.index))\n",
    "print(len(srm_protein.index))\n",
    "srm_protein_split.head()"
   ]
  },
  {
   "cell_type": "markdown",
   "id": "f287d02d-d6df-4c30-b4c8-3ba4561e9a60",
   "metadata": {
    "jp-MarkdownHeadingCollapsed": true
   },
   "source": [
    "## split tmt"
   ]
  },
  {
   "cell_type": "code",
   "execution_count": null,
   "id": "1078be96-c559-4a7f-90ae-60fc7d64dbb7",
   "metadata": {},
   "outputs": [],
   "source": [
    "tmt_protein_split = tmt_protein.assign(GENE=tmt_protein['Gene Names'].str.split(' ')).explode('GENE').reset_index(drop=True)\n",
    "print(len(tmt_protein_split.index))\n",
    "print(len(tmt_protein.index))\n",
    "tmt_protein_split.head()"
   ]
  },
  {
   "cell_type": "code",
   "execution_count": null,
   "id": "a359ee41-65a7-4c4a-8d8d-ef0187520590",
   "metadata": {},
   "outputs": [],
   "source": [
    "tmt_slash_exclude = tmt_protein_split[tmt_protein_split['GENE'].str.contains('cl|H4/')]\n",
    "tmt_slash_exclude['GENE'].unique()"
   ]
  },
  {
   "cell_type": "code",
   "execution_count": null,
   "id": "b2c03fe3-f077-4fae-9a5b-f021b9814325",
   "metadata": {},
   "outputs": [],
   "source": [
    "tmt_slash_include = tmt_protein_split[~tmt_protein_split.index.isin(tmt_slash_exclude.index)]\n",
    "print(len(tmt_slash_include.index))\n",
    "print(len(tmt_slash_exclude.index))\n",
    "print(len(tmt_protein_split.index))"
   ]
  },
  {
   "cell_type": "code",
   "execution_count": null,
   "id": "a952ef9b-03b3-4cb6-a144-6f3142e97ac2",
   "metadata": {},
   "outputs": [],
   "source": [
    "print(len(tmt_slash_include.index))\n",
    "tmt_slash_include_split = tmt_slash_include.assign(GENE = tmt_slash_include['GENE'].str.split('/')).explode('GENE').reset_index(drop=True)\n",
    "print(len(tmt_slash_include_split.index))\n",
    "tmt_slash_include_split.head()"
   ]
  },
  {
   "cell_type": "code",
   "execution_count": null,
   "id": "ee0d582f-b112-4d61-9814-279e7b93acad",
   "metadata": {},
   "outputs": [],
   "source": [
    "tmt_protein_split = pd.concat([tmt_slash_include_split, tmt_slash_exclude], axis = 0)\n",
    "print(len(tmt_protein_split.index))\n",
    "tmt_protein_split.head()"
   ]
  },
  {
   "cell_type": "markdown",
   "id": "2ce211df-86dd-4cb2-834e-9ee82872a310",
   "metadata": {},
   "source": [
    "## remove extra characters for tmt"
   ]
  },
  {
   "cell_type": "code",
   "execution_count": null,
   "id": "3cabab6d-a21a-444d-9bc5-a5187f944468",
   "metadata": {},
   "outputs": [],
   "source": [
    "tmt_protein_split['GENE'] = tmt_protein_split['GENE'].str.replace(r\"[;']\", \"\", regex = True)\n",
    "print(tmt_protein_split[tmt_protein_split['GENE'].str.contains(\";|'\")]['GENE'].unique())\n",
    "print(len(tmt_protein_split.index))"
   ]
  },
  {
   "cell_type": "markdown",
   "id": "d0eb7063-6cb9-415f-b498-eb15cc826840",
   "metadata": {},
   "source": [
    "## check for remaining special characters"
   ]
  },
  {
   "cell_type": "code",
   "execution_count": null,
   "id": "a7befcc2-ef7b-4f37-a0c8-1b15ddf439d5",
   "metadata": {},
   "outputs": [],
   "source": [
    "mask = srm_protein_split['GENE'].str.contains(r'[^a-zA-Z0-9-]', regex = True)\n",
    "srm_protein_split[mask]"
   ]
  },
  {
   "cell_type": "code",
   "execution_count": null,
   "id": "c5811d77-e672-483e-ab5b-736a76fc4b8d",
   "metadata": {},
   "outputs": [],
   "source": [
    "mask = tmt_protein_split['GENE'].str.contains(r'[^a-zA-Z0-9-._;]', regex = True)\n",
    "invalid = tmt_protein_split[mask]\n",
    "invalid[~invalid['GENE'].str.contains('UNQ|cl')]"
   ]
  },
  {
   "cell_type": "code",
   "execution_count": null,
   "id": "e3c4fa99-50f4-428a-9723-8e88f831ecd9",
   "metadata": {},
   "outputs": [],
   "source": [
    "tmt_protein_split[tmt_protein_split['GENE'].str.contains(\";|'\")]['GENE'].unique()"
   ]
  },
  {
   "cell_type": "markdown",
   "id": "8b980100-abc3-479b-8fb5-c893b7163ccf",
   "metadata": {},
   "source": [
    "# map RNAseq exp data ENSIDs to gene names"
   ]
  },
  {
   "cell_type": "markdown",
   "id": "c24794ad-560d-4c93-80ff-376973026024",
   "metadata": {},
   "source": [
    "## transpose df"
   ]
  },
  {
   "cell_type": "code",
   "execution_count": null,
   "id": "70c1dced-0ea7-49a5-b70b-e5d83feb65cd",
   "metadata": {},
   "outputs": [],
   "source": [
    "rnaseq_exp_transpose = rnaseq_exp.transpose().reset_index().rename(columns = {\"index\" : \"ENS_ID\"})\n",
    "rnaseq_exp_transpose.head()"
   ]
  },
  {
   "cell_type": "markdown",
   "id": "efb16827-95e5-4da5-ae5a-b03081c3f204",
   "metadata": {},
   "source": [
    "## extract ID row"
   ]
  },
  {
   "cell_type": "code",
   "execution_count": null,
   "id": "80119fd8-0682-401d-a8b7-7df2ba6d3350",
   "metadata": {},
   "outputs": [],
   "source": [
    "rnaseq_exp_id = rnaseq_exp_transpose.iloc[:1]\n",
    "rnaseq_exp_id['GENE'] = rnaseq_exp_id['ENS_ID']\n",
    "rnaseq_exp_id.head()"
   ]
  },
  {
   "cell_type": "markdown",
   "id": "46986fca-e75f-4d49-b412-ba0ac70c65fa",
   "metadata": {},
   "source": [
    "## filter to gene map"
   ]
  },
  {
   "cell_type": "code",
   "execution_count": null,
   "id": "1122a2b8-09d8-4845-8400-cf540011f450",
   "metadata": {},
   "outputs": [],
   "source": [
    "rnaseq_exp_gene_map = rnaseq_exp_transpose.merge(gene_map, on = 'ENS_ID', how = 'inner')\n",
    "rnaseq_exp_gene_map.drop(columns = ['CHR','START','STOP','START_500kb_upstream','STOP_500kb_downstream'], inplace = True)\n",
    "print(len(rnaseq_exp_gene_map.index))\n",
    "rnaseq_exp_gene_map.head()"
   ]
  },
  {
   "cell_type": "markdown",
   "id": "64c0bc10-10c7-4ee6-9279-1b2d252d0372",
   "metadata": {},
   "source": [
    "## add id row back in"
   ]
  },
  {
   "cell_type": "code",
   "execution_count": null,
   "id": "f8615d2d-b9d4-4da2-a768-25e9525aafe3",
   "metadata": {},
   "outputs": [],
   "source": [
    "rnaseq_exp_gene_map_id = pd.concat([rnaseq_exp_id, rnaseq_exp_gene_map], axis = 0)\n",
    "rnaseq_exp_gene_map_id.head()"
   ]
  },
  {
   "cell_type": "markdown",
   "id": "a18a6689-5455-44c7-85e8-fc0044c507fa",
   "metadata": {},
   "source": [
    "## update index"
   ]
  },
  {
   "cell_type": "code",
   "execution_count": null,
   "id": "54cd8fd1-f0b6-427a-beef-c036aae5ac43",
   "metadata": {},
   "outputs": [],
   "source": [
    "rnaseq_exp_gene_map_id.set_index('GENE', inplace = True)\n",
    "rnaseq_exp_gene_map_id.head()"
   ]
  },
  {
   "cell_type": "markdown",
   "id": "12add92d-8aad-4342-b45c-4e0da7cb9281",
   "metadata": {},
   "source": [
    "## remove ENSID column"
   ]
  },
  {
   "cell_type": "code",
   "execution_count": null,
   "id": "e3059658-b305-4b3e-a7ad-46d905d83659",
   "metadata": {},
   "outputs": [],
   "source": [
    "rnaseq_exp_gene_map_id.drop(columns=['ENS_ID'], inplace = True)\n",
    "rnaseq_exp_gene_map_id.head()"
   ]
  },
  {
   "cell_type": "markdown",
   "id": "8d29b2cf-5242-4e95-aea7-3db637ec1943",
   "metadata": {},
   "source": [
    "## transpose back"
   ]
  },
  {
   "cell_type": "code",
   "execution_count": null,
   "id": "cbc59b5f-ca54-4172-86a6-147bc89075a2",
   "metadata": {},
   "outputs": [],
   "source": [
    "rnaseq_exp_ensembl_gene_map_tranposed = rnaseq_exp_gene_map_id.transpose()\n",
    "rnaseq_exp_ensembl_gene_map_tranposed.head()"
   ]
  },
  {
   "cell_type": "markdown",
   "id": "ea52beeb-57cd-42c9-b6b8-0617154f9e62",
   "metadata": {},
   "source": [
    "# map gene scores data ENS IDs to gene names"
   ]
  },
  {
   "cell_type": "markdown",
   "id": "79cb771b-7787-41cc-ba5e-169387f8d43c",
   "metadata": {},
   "source": [
    "## remove avg label from colnames"
   ]
  },
  {
   "cell_type": "code",
   "execution_count": null,
   "id": "001a0e43-a9a4-4af6-ab4e-97ee7d5aef06",
   "metadata": {},
   "outputs": [],
   "source": [
    "gene_score.columns = gene_score.columns.str.replace('_AVG', '', regex = False)\n",
    "gene_score.columns"
   ]
  },
  {
   "cell_type": "markdown",
   "id": "8037bbc4-ee52-4c20-beda-8d967f0e50f5",
   "metadata": {},
   "source": [
    "## extract pheno + covariate columns"
   ]
  },
  {
   "cell_type": "code",
   "execution_count": null,
   "id": "08f03078-f724-41c8-9b3f-457c5b6b10c0",
   "metadata": {},
   "outputs": [],
   "source": [
    "gene_score_covar = gene_score[['ID', 'ALZ_STATUS', 'AGE', 'SEX', 'PC1', 'PC2', 'PC3', 'PC4', 'PC5', 'PC6', 'PC7', 'PC8']]"
   ]
  },
  {
   "cell_type": "markdown",
   "id": "5fa2e4e8-ef8f-46dd-9908-4b83940e4db3",
   "metadata": {},
   "source": [
    "## drop pheno + covariate columns"
   ]
  },
  {
   "cell_type": "code",
   "execution_count": null,
   "id": "938cd5e7-878b-44c0-aca5-7370773e9d2f",
   "metadata": {},
   "outputs": [],
   "source": [
    "gene_score.drop(columns = ['ALZ_STATUS', 'AGE', 'SEX', 'PC1', 'PC2', 'PC3', 'PC4', 'PC5', 'PC6', 'PC7', 'PC8'], inplace = True)\n",
    "gene_score.columns"
   ]
  },
  {
   "cell_type": "markdown",
   "id": "ce5257cc-a433-4cc4-b404-84cd12ad1709",
   "metadata": {},
   "source": [
    "## transpose"
   ]
  },
  {
   "cell_type": "code",
   "execution_count": null,
   "id": "72e4c6e4-3aa6-425a-beca-127450574d4b",
   "metadata": {},
   "outputs": [],
   "source": [
    "gene_score_transpose = gene_score.transpose().reset_index().rename(columns = {\"index\" : \"ENS_ID\"})\n",
    "gene_score_transpose.head()"
   ]
  },
  {
   "cell_type": "markdown",
   "id": "7d7b9391-39e9-4b62-9a41-8147c606dd92",
   "metadata": {},
   "source": [
    "## extract ID row"
   ]
  },
  {
   "cell_type": "code",
   "execution_count": null,
   "id": "4fcdecc0-d4b8-4568-b4c5-ba5b546c3587",
   "metadata": {},
   "outputs": [],
   "source": [
    "gene_score_id = gene_score_transpose.iloc[:1]\n",
    "gene_score_id['GENE'] = gene_score_id['ENS_ID']\n",
    "gene_score_id.head()"
   ]
  },
  {
   "cell_type": "markdown",
   "id": "cae3f30b-d908-47b3-ba1d-0505e4b9976e",
   "metadata": {},
   "source": [
    "## filter to gene map"
   ]
  },
  {
   "cell_type": "code",
   "execution_count": null,
   "id": "8bc43ee5-182e-4848-af19-062e0ade3bda",
   "metadata": {},
   "outputs": [],
   "source": [
    "gene_score_gene_map = gene_score_transpose.merge(gene_map, on = 'ENS_ID', how = 'inner')\n",
    "gene_score_gene_map.drop(columns = ['CHR','START','STOP','START_500kb_upstream','STOP_500kb_downstream'], inplace = True)\n",
    "print(len(gene_score_gene_map.index))\n",
    "gene_score_gene_map.head()"
   ]
  },
  {
   "cell_type": "markdown",
   "id": "826966c8-070d-45d0-90b6-fef88d7ff21d",
   "metadata": {},
   "source": [
    "## add id row back in"
   ]
  },
  {
   "cell_type": "code",
   "execution_count": null,
   "id": "eb058aa5-a781-4004-9424-42e0bc784fbc",
   "metadata": {},
   "outputs": [],
   "source": [
    "gene_score_gene_map_id = pd.concat([gene_score_id, gene_score_gene_map], axis = 0)\n",
    "gene_score_gene_map_id.head()"
   ]
  },
  {
   "cell_type": "markdown",
   "id": "b7625e0a-ac3e-4e28-a030-6de570be6a92",
   "metadata": {},
   "source": [
    "## update index"
   ]
  },
  {
   "cell_type": "code",
   "execution_count": null,
   "id": "ea4fa0cf-d113-4ba7-b170-bc8bacee059c",
   "metadata": {},
   "outputs": [],
   "source": [
    "gene_score_gene_map_id.set_index('GENE', inplace = True)\n",
    "gene_score_gene_map_id.head()"
   ]
  },
  {
   "cell_type": "markdown",
   "id": "6e5fcbcf-3fc5-4004-a507-b1ac39b0ddec",
   "metadata": {},
   "source": [
    "## drop ensid column"
   ]
  },
  {
   "cell_type": "code",
   "execution_count": null,
   "id": "0571fb31-e0ff-4e6c-86bd-aa1ba7f4d50e",
   "metadata": {},
   "outputs": [],
   "source": [
    "gene_score_gene_map_id.drop(columns = ['ENS_ID'], inplace = True)\n",
    "gene_score_gene_map_id.head()"
   ]
  },
  {
   "cell_type": "markdown",
   "id": "6c7d9202-4c64-4fa0-ba73-08ce6e533d00",
   "metadata": {},
   "source": [
    "## transpose back"
   ]
  },
  {
   "cell_type": "code",
   "execution_count": null,
   "id": "84ff0d42-dbb6-4c1e-9c76-46bdaed491e2",
   "metadata": {},
   "outputs": [],
   "source": [
    "gene_score_ensembl_gene_map_tranposed = gene_score_gene_map_id.transpose()\n",
    "gene_score_ensembl_gene_map_tranposed.head()"
   ]
  },
  {
   "cell_type": "markdown",
   "id": "597521ca-5258-4037-aa3b-5c6396a3c295",
   "metadata": {},
   "source": [
    "## add covariates back in"
   ]
  },
  {
   "cell_type": "code",
   "execution_count": null,
   "id": "88a13694-51ee-498d-8c02-1bf9ad7995f0",
   "metadata": {},
   "outputs": [],
   "source": [
    "gene_score_ensembl_gene_map_tranposed = gene_score_covar.merge(gene_score_ensembl_gene_map_tranposed, on = 'ID', how = 'inner')\n",
    "print(gene_score_ensembl_gene_map_tranposed.shape)\n",
    "gene_score_ensembl_gene_map_tranposed.head()"
   ]
  },
  {
   "cell_type": "markdown",
   "id": "ecc0ba14-bf97-48dc-a08d-ac9b21a1f118",
   "metadata": {},
   "source": [
    "# map genes to pathways"
   ]
  },
  {
   "cell_type": "markdown",
   "id": "a516519e-b045-4ccd-8703-31588cb0d6f5",
   "metadata": {},
   "source": [
    "## gene scores"
   ]
  },
  {
   "cell_type": "code",
   "execution_count": null,
   "id": "2d8d94cf-5aed-4d78-9808-a61adb3bcfea",
   "metadata": {},
   "outputs": [],
   "source": [
    "gs_reactome = reactome_gene_split[reactome_gene_split['GENE'].isin(meta_gene_map_final['GENE'])]\n",
    "gs_reactome['SOURCE'] = 'ADSP_GS'\n",
    "print(len(gs_reactome.index))\n",
    "print(len(gs_reactome['GENE'].unique()))\n",
    "print(len(reactome_gene_split['GENE'].unique()))\n",
    "print(len(meta_gene_map_final.index))\n",
    "print(len(gs_reactome['PATHWAY_ID'].unique())) \n",
    "gs_reactome.head()"
   ]
  },
  {
   "cell_type": "markdown",
   "id": "c50c195f-dcde-4769-8baf-297e93854080",
   "metadata": {},
   "source": [
    "## rnaseq"
   ]
  },
  {
   "cell_type": "code",
   "execution_count": null,
   "id": "e9070ede-9946-4d64-b972-70bb29028ae5",
   "metadata": {},
   "outputs": [],
   "source": [
    "rs_reactome = reactome_gene_split[reactome_gene_split['GENE'].isin(gene_map_rnaseq['GENE'])]\n",
    "rs_reactome['SOURCE'] = 'ROSMAP_RS'\n",
    "print(len(rs_reactome.index))\n",
    "print(len(rs_reactome['GENE'].unique()))\n",
    "print(len(reactome_gene_split['GENE'].unique()))\n",
    "print(len(gene_map_rnaseq.index))\n",
    "print(len(rs_reactome['PATHWAY_ID'].unique())) \n",
    "rs_reactome.head()"
   ]
  },
  {
   "cell_type": "code",
   "execution_count": null,
   "id": "b2ba8780-69e3-41ec-b942-6f840ac13533",
   "metadata": {},
   "outputs": [],
   "source": [
    "msbb_rs_reactome = reactome_gene_split[reactome_gene_split['GENE'].isin(msbb_rnaseq_gene['GENE'])]\n",
    "msbb_rs_reactome['SOURCE'] = 'MSBB_RS'\n",
    "print(len(msbb_rs_reactome.index))\n",
    "print(len(msbb_rs_reactome['GENE'].unique()))\n",
    "print(len(reactome_gene_split['GENE'].unique()))\n",
    "print(len(msbb_rnaseq_gene.index))\n",
    "print(len(msbb_rs_reactome['PATHWAY_ID'].unique())) \n",
    "msbb_rs_reactome.head()"
   ]
  },
  {
   "cell_type": "markdown",
   "id": "5f52ee3d-0350-4535-b156-0c5a14c7b1aa",
   "metadata": {},
   "source": [
    "## methylation"
   ]
  },
  {
   "cell_type": "code",
   "execution_count": null,
   "id": "48400cfa-b50f-4b00-9eca-04fd87f99f27",
   "metadata": {},
   "outputs": [],
   "source": [
    "ma_reactome = reactome_gene_split[reactome_gene_split['GENE'].isin(methyl_gene['RefGene'])]\n",
    "ma_reactome['SOURCE'] = 'ROSMAP_MA'\n",
    "print(len(ma_reactome.index))\n",
    "print(len(ma_reactome['GENE'].unique()))\n",
    "print(len(reactome_gene_split['GENE'].unique()))\n",
    "print(len(methyl_gene.index))\n",
    "print(len(ma_reactome['PATHWAY_ID'].unique())) \n",
    "ma_reactome.head()"
   ]
  },
  {
   "cell_type": "code",
   "execution_count": null,
   "id": "55617763-7f53-4b79-bc0e-5eddb3f09919",
   "metadata": {},
   "outputs": [],
   "source": [
    "msbb_ma_reactome = reactome_gene_split[reactome_gene_split['GENE'].isin(msbb_methyl_gene['GENE'])]\n",
    "msbb_ma_reactome['SOURCE'] = 'MSBB_MA'\n",
    "print(len(msbb_ma_reactome.index))\n",
    "print(len(msbb_ma_reactome['GENE'].unique()))\n",
    "print(len(reactome_gene_split['GENE'].unique()))\n",
    "print(len(msbb_methyl_gene.index))\n",
    "print(len(msbb_ma_reactome['PATHWAY_ID'].unique())) \n",
    "msbb_ma_reactome.head()"
   ]
  },
  {
   "cell_type": "markdown",
   "id": "d770df55-f19c-4ea0-978e-986cc55e5cc5",
   "metadata": {},
   "source": [
    "## tmt protein"
   ]
  },
  {
   "cell_type": "code",
   "execution_count": null,
   "id": "5dd75b61-c02d-4317-b0bc-76ec1965d431",
   "metadata": {},
   "outputs": [],
   "source": [
    "msbb_tmt_reactome_gene = reactome_gene_split[reactome_gene_split['GENE'].isin(msbb_tmt_gene['GENE'])]\n",
    "msbb_tmt_reactome_gene['SOURCE'] = 'MSBB_TP'\n",
    "print(len(msbb_tmt_reactome_gene.index))\n",
    "print(len(msbb_tmt_reactome_gene['GENE'].unique()))\n",
    "print(len(reactome_gene_split['GENE'].unique()))\n",
    "print(len(msbb_tmt_gene.index))\n",
    "print(len(msbb_tmt_reactome_gene['PATHWAY_ID'].unique())) \n",
    "msbb_tmt_reactome_gene.head()"
   ]
  },
  {
   "cell_type": "markdown",
   "id": "b3c9e4a4-f043-4d9a-951d-0453b19838f9",
   "metadata": {},
   "source": [
    "## somoscan protein"
   ]
  },
  {
   "cell_type": "code",
   "execution_count": null,
   "id": "5a1c00a6-0b90-4e81-8134-b886dd8cd981",
   "metadata": {},
   "outputs": [],
   "source": [
    "somoscan_reactome_gene = reactome_gene_split[reactome_gene_split['GENE'].isin(somoscan_gene['GENE'])]\n",
    "somoscan_reactome_gene['SOURCE'] = 'ROSMAP_SP'\n",
    "print(len(somoscan_reactome_gene.index))\n",
    "print(len(somoscan_reactome_gene['GENE'].unique()))\n",
    "print(len(reactome_gene_split['GENE'].unique()))\n",
    "print(len(somoscan_gene['GENE'].unique()))\n",
    "#print(len(somoscan_protein.index))\n",
    "print(len(somoscan_reactome_gene['PATHWAY_ID'].unique())) \n",
    "somoscan_reactome_gene.head()"
   ]
  },
  {
   "cell_type": "code",
   "execution_count": null,
   "id": "0953cc00-f5bc-471a-afcb-5bd61a377cc2",
   "metadata": {},
   "outputs": [],
   "source": [
    "print(len(srm_reactome_gene['PATHWAY_ID'].unique()))\n",
    "print(len(srm_reactome_protein['PATHWAY_ID'].unique()))"
   ]
  },
  {
   "cell_type": "code",
   "execution_count": null,
   "id": "81bada63-9d2c-42b6-a97b-9768bae3bd41",
   "metadata": {},
   "outputs": [],
   "source": [
    "print(len(srm_reactome_protein[srm_reactome_protein['PATHWAY_ID'].isin(srm_reactome_gene['PATHWAY_ID'])]['PATHWAY_ID'].unique()))\n",
    "print(len(srm_reactome_gene[srm_reactome_gene['PATHWAY_ID'].isin(srm_reactome_protein['PATHWAY_ID'])]['PATHWAY_ID'].unique()))"
   ]
  },
  {
   "cell_type": "code",
   "execution_count": null,
   "id": "af083e20-e281-4bdd-9e7a-4b98eb65a9eb",
   "metadata": {},
   "outputs": [],
   "source": [
    "srm_reactome_gene[~srm_reactome_gene['PATHWAY_ID'].isin(srm_reactome_protein['PATHWAY_ID'])][['PATHWAY_NAME','PATHWAY_ID']].drop_duplicates()"
   ]
  },
  {
   "cell_type": "markdown",
   "id": "877b1cdf-1420-4788-ad03-a7400d631e14",
   "metadata": {},
   "source": [
    "# merge"
   ]
  },
  {
   "cell_type": "code",
   "execution_count": null,
   "id": "2bf4a764-2073-48a5-a4dd-0102b3ceec54",
   "metadata": {},
   "outputs": [],
   "source": [
    "all_gene = pd.concat([gs_reactome, rs_reactome, msbb_rs_reactome, ma_reactome, msbb_ma_reactome, msbb_tmt_reactome_gene], axis = 0)\n",
    "all_gene = all_gene.groupby(['PATHWAY_NAME', 'PATHWAY_ID', 'GENE'])['SOURCE'].agg(lambda x: ';'.join(sorted(set(x)))).reset_index()\n",
    "print(len(all_gene.index))\n",
    "all_gene.head()"
   ]
  },
  {
   "cell_type": "code",
   "execution_count": null,
   "id": "9a170d43-22ce-47f3-a14c-db576a4f0b7b",
   "metadata": {},
   "outputs": [],
   "source": [
    "all_gene_somoscan_protein_gene = pd.concat([all_gene, somoscan_reactome_gene], axis = 0)\n",
    "all_gene_somoscan_protein_gene = all_gene_somoscan_protein_gene.groupby(['PATHWAY_NAME', 'PATHWAY_ID', 'GENE'])['SOURCE'].agg(lambda x: ';'.join(sorted(set(x)))).reset_index()\n",
    "print(len(all_gene_somoscan_protein_gene.index))\n",
    "all_gene_somoscan_protein_gene.head()"
   ]
  },
  {
   "cell_type": "code",
   "execution_count": null,
   "id": "c1e628f6-2ac1-46dd-8941-44848dd0ade2",
   "metadata": {},
   "outputs": [],
   "source": [
    "pd.set_option('display.max_rows', None) \n",
    "all_gene_somoscan_protein_gene.drop_duplicates(subset = ['PATHWAY_NAME', 'PATHWAY_ID', 'SOURCE'])['SOURCE'].value_counts(dropna = False)"
   ]
  },
  {
   "cell_type": "markdown",
   "id": "f6fbbfe1-4bef-474d-9d41-f6b164d2b33f",
   "metadata": {},
   "source": [
    "# export"
   ]
  },
  {
   "cell_type": "markdown",
   "id": "b698f25d-87ca-41b1-a1ad-7c5a3e5ed189",
   "metadata": {},
   "source": [
    "## rnaseq exp data"
   ]
  },
  {
   "cell_type": "code",
   "execution_count": null,
   "id": "bf762a86-8bd3-4941-8fa9-854c235498a4",
   "metadata": {},
   "outputs": [],
   "source": [
    "rnaseq_exp_norm_id.to_csv('gene_mapping/ROSMAP.RNAseq.TPM5_log2norm.individualids.codinggenes.VEP_v113_genes.gene_symbol.zscore_norm.txt',\n",
    "                          sep = '\\t',\n",
    "                          index = None)"
   ]
  },
  {
   "cell_type": "markdown",
   "id": "b43f98f7-f9de-4ed6-a962-8d9cb7b0f8d4",
   "metadata": {},
   "source": [
    "## gene scores data"
   ]
  },
  {
   "cell_type": "code",
   "execution_count": null,
   "id": "fbd79c65-703e-417a-aa18-73d800a0db8a",
   "metadata": {},
   "outputs": [],
   "source": [
    "gene_score_norm_id.to_csv('merged_outputs/AOU_ALL.UKBB.metasoft.ADSP.all.VEP_v113.gene_by_position.r2_0.1_clump_variants_excluded.RE_pval_threshold_0.05.gene_symbol.zscore_norm.average_gene_score.merged.txt',\n",
    "                                     sep = '\\t',\n",
    "                                     index = None)"
   ]
  },
  {
   "cell_type": "markdown",
   "id": "478ffd52-65a5-44e0-98f8-a5c69ec1efe0",
   "metadata": {},
   "source": [
    "## pathway maps"
   ]
  },
  {
   "cell_type": "code",
   "execution_count": null,
   "id": "96a764ea-ea31-4ab5-89b4-8397a6f8bcd1",
   "metadata": {},
   "outputs": [],
   "source": [
    "gs_reactome.to_csv('reactome/AOU_ALL.UKBB.metasoft.ADSP.gene_score.reactome.pathway_mapping.txt',\n",
    "                   sep = '\\t',\n",
    "                   index = None)"
   ]
  },
  {
   "cell_type": "code",
   "execution_count": null,
   "id": "32c5bee2-d465-4cbb-8b28-a9e4147e7583",
   "metadata": {},
   "outputs": [],
   "source": [
    "rs_reactome.to_csv('reactome/ROSMAP.RNAseq.reactome.pathway_mapping.txt',\n",
    "                   sep = '\\t',\n",
    "                   index = None)"
   ]
  },
  {
   "cell_type": "code",
   "execution_count": null,
   "id": "72a936ca-bc74-496e-ac9f-98102400695a",
   "metadata": {},
   "outputs": [],
   "source": [
    "msbb_rs_reactome.to_csv('reactome/MSBB.RNAseq.reactome.pathway_mapping.txt',\n",
    "                   sep = '\\t',\n",
    "                   index = None)"
   ]
  },
  {
   "cell_type": "code",
   "execution_count": null,
   "id": "b0330306-ef17-41ff-a784-1feef22b1bde",
   "metadata": {},
   "outputs": [],
   "source": [
    "ma_reactome.to_csv('reactome/ROSMAP.arrayMethylation_imputed.ref_gene.reactome.pathway_mapping.txt',\n",
    "                   sep = '\\t',\n",
    "                   index = None)"
   ]
  },
  {
   "cell_type": "code",
   "execution_count": null,
   "id": "a24f1804-4c26-4f9f-9d3b-232912ad12b1",
   "metadata": {},
   "outputs": [],
   "source": [
    "msbb_ma_reactome.to_csv('reactome/MSBB.methylation.reactome.pathway_mapping.txt',\n",
    "                        sep = '\\t',\n",
    "                        index = None)"
   ]
  },
  {
   "cell_type": "code",
   "execution_count": null,
   "id": "9e776821-50a3-48e3-bb7f-0156287b0060",
   "metadata": {},
   "outputs": [],
   "source": [
    "srm_reactome_protein.to_csv('reactome/ROSMAP.proteomics.LC_SRM.round1.reactome.protein_to_pathway.pathway_mapping.txt',\n",
    "                            sep = '\\t',\n",
    "                            index = None)"
   ]
  },
  {
   "cell_type": "code",
   "execution_count": null,
   "id": "663360b9-ff18-4ec0-a14e-7f4c7a4f4a8b",
   "metadata": {},
   "outputs": [],
   "source": [
    "srm_reactome_gene.to_csv('reactome/ROSMAP.proteomics.LC_SRM.round1.reactome.gene_to_pathway.pathway_mapping.txt',\n",
    "                         sep = '\\t',\n",
    "                        index = None)"
   ]
  },
  {
   "cell_type": "code",
   "execution_count": null,
   "id": "6c8f99d2-12fc-410e-8520-f4e9b5552a7e",
   "metadata": {},
   "outputs": [],
   "source": [
    "tmt_reactome_protein.to_csv('reactome/ROSMAP.proteomics.TMT.round1.reactome.protein_to_pathway.pathway_mapping.txt',\n",
    "                            sep = '\\t',\n",
    "                            index = None)"
   ]
  },
  {
   "cell_type": "code",
   "execution_count": null,
   "id": "f00b40c5-709f-4fe3-acb3-06924db85ba8",
   "metadata": {},
   "outputs": [],
   "source": [
    "tmt_reactome_gene.to_csv('reactome/ROSMAP.proteomics.TMT.round1.reactome.gene_to_pathway.pathway_mapping.txt',\n",
    "                         sep = '\\t',\n",
    "                        index = None)"
   ]
  },
  {
   "cell_type": "code",
   "execution_count": null,
   "id": "7f9de0fd-e6e1-4f75-b667-78ceecdb9061",
   "metadata": {},
   "outputs": [],
   "source": [
    "msbb_tmt_reactome_gene.to_csv('reactome/MSBB.proteomics.TMT.reactome.gene_to_pathway.pathway_mapping.txt',\n",
    "                              sep = '\\t',\n",
    "                              index = None)"
   ]
  },
  {
   "cell_type": "code",
   "execution_count": null,
   "id": "251e20dd-e0db-47b4-88f3-6bdfc78a4391",
   "metadata": {},
   "outputs": [],
   "source": [
    "somoscan_reactome_gene.to_csv('reactome/ROSMAP.proteomics.somoscan.reactome.gene_to_pathway.pathway_mapping.txt',\n",
    "                              sep = '\\t',\n",
    "                              index = None)"
   ]
  },
  {
   "cell_type": "code",
   "execution_count": null,
   "id": "9bce24e7-0692-4014-b72b-a1f86a388f73",
   "metadata": {},
   "outputs": [],
   "source": [
    "all_gene_srm_protein.to_csv('reactome/AD_KMI.ADSP.ROSMAP.all_omics.LC_SRM_proteomics_round1.reactome.protein_to_pathway.pathway_mapping.txt',\n",
    "                            sep = '\\t',\n",
    "                            index = None)"
   ]
  },
  {
   "cell_type": "code",
   "execution_count": null,
   "id": "44b3f802-0a27-4354-8dc0-c3fa9911e347",
   "metadata": {},
   "outputs": [],
   "source": [
    "all_gene_srm_protein_gene.to_csv('reactome/AD_KMI.ADSP.ROSMAP.all_omics.LC_SRM_proteomics_round1.reactome.gene_to_pathway.pathway_mapping.txt',\n",
    "                                 sep = '\\t',\n",
    "                                 index = None)"
   ]
  },
  {
   "cell_type": "code",
   "execution_count": null,
   "id": "de32add5-ab1c-4ff7-adee-1ee9c3131436",
   "metadata": {},
   "outputs": [],
   "source": [
    "all_gene_tmt_protein.to_csv('reactome/AD_KMI.ADSP.ROSMAP.all_omics.TMT_proteomics_round1.reactome.protein_to_pathway.pathway_mapping.txt',\n",
    "                            sep = '\\t',\n",
    "                            index = None)"
   ]
  },
  {
   "cell_type": "code",
   "execution_count": null,
   "id": "c47ca595-6f35-44ed-bf03-7c2bc8553a06",
   "metadata": {},
   "outputs": [],
   "source": [
    "all_gene_tmt_protein_gene.to_csv('reactome/AD_KMI.ADSP.ROSMAP.all_omics.TMT_proteomics_round1.reactome.gene_to_pathway.pathway_mapping.txt',\n",
    "                                 sep = '\\t',\n",
    "                                 index = None)"
   ]
  },
  {
   "cell_type": "code",
   "execution_count": null,
   "id": "70815eec-e8c0-4079-bb49-b78b468f14e5",
   "metadata": {},
   "outputs": [],
   "source": [
    "all_gene_somoscan_protein.to_csv('reactome/AD_KMI.ADSP.ROSMAP.all_omics.somoscan.reactome.protein_to_pathway.pathway_mapping.txt',\n",
    "                                 sep = '\\t',\n",
    "                                 index = None)"
   ]
  },
  {
   "cell_type": "code",
   "execution_count": null,
   "id": "6e1f0ab2-d348-48c4-bf87-27d24318fd08",
   "metadata": {},
   "outputs": [],
   "source": [
    "all_gene_somoscan_protein_gene.to_csv('reactome/AD_KMI.ADSP.ROSMAP.all_omics.somoscan.MSBB.all_omics.reactome.gene_to_pathway.pathway_mapping.txt',\n",
    "                                      sep = '\\t',\n",
    "                                      index = None)"
   ]
  },
  {
   "cell_type": "code",
   "execution_count": null,
   "id": "36e6198f-61d8-40e2-b408-43c25f7e02b3",
   "metadata": {},
   "outputs": [],
   "source": []
  }
 ],
 "metadata": {
  "kernelspec": {
   "display_name": "Python 3 (ipykernel)",
   "language": "python",
   "name": "python3"
  },
  "language_info": {
   "codemirror_mode": {
    "name": "ipython",
    "version": 3
   },
   "file_extension": ".py",
   "mimetype": "text/x-python",
   "name": "python",
   "nbconvert_exporter": "python",
   "pygments_lexer": "ipython3",
   "version": "3.12.3"
  }
 },
 "nbformat": 4,
 "nbformat_minor": 5
}

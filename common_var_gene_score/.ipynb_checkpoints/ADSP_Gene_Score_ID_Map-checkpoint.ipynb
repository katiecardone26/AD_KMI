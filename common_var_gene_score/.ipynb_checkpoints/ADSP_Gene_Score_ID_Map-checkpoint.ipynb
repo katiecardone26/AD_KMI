{
 "cells": [
  {
   "cell_type": "markdown",
   "id": "2ca0dc17-1f3a-469a-8b60-02234065aefd",
   "metadata": {},
   "source": [
    "# load packages"
   ]
  },
  {
   "cell_type": "code",
   "execution_count": null,
   "id": "f6137212-494b-40a0-a626-fbed1ac97578",
   "metadata": {},
   "outputs": [],
   "source": [
    "import pandas as pd"
   ]
  },
  {
   "cell_type": "code",
   "execution_count": null,
   "id": "293bcbe6-f669-4cf1-967d-5ae2be9fd77b",
   "metadata": {},
   "outputs": [],
   "source": [
    "import numpy as np"
   ]
  },
  {
   "cell_type": "markdown",
   "id": "ae06febd-b296-4df6-8e0c-c091ce51179c",
   "metadata": {},
   "source": [
    "# read in input files"
   ]
  },
  {
   "cell_type": "code",
   "execution_count": null,
   "id": "ddd7e6b7-d8fa-40d2-81f8-54265085c13d",
   "metadata": {},
   "outputs": [],
   "source": [
    "gene_score = pd.read_csv('/project/ritchie/projects/AD_KMI/common_var_gene_score/igap_adsp_gene_score/merged_outputs/AOU_ALL.UKBB.metasoft.ADSP.all.VEP_v113.gene_by_position.r2_0.1_clump_variants_excluded.RE_pval_threshold_0.05.gene_symbol.average_gene_score.merged.txt.gz',\n",
    "                            sep = '\\t')\n",
    "gene_score.head()"
   ]
  },
  {
   "cell_type": "code",
   "execution_count": null,
   "id": "76a1f24d-f0ad-4d79-9bc6-570a8ac9f6ea",
   "metadata": {},
   "outputs": [],
   "source": [
    "msbb_id_map = pd.read_csv('/project/ritchie/projects/AD_KMI/pathway_score/msbb/MSBB.ADSP.ID_map.csv')\n",
    "msbb_id_map.head()"
   ]
  },
  {
   "cell_type": "code",
   "execution_count": null,
   "id": "381db8b6-626a-419e-948b-241578381250",
   "metadata": {},
   "outputs": [],
   "source": [
    "rosmap_id_map = pd.read_csv('/project/ritchie/projects/AD_KMI/pathway_score/rosmap/ID_mapping/ROSMAP.ADSP_PHENO.ID_map.txt',\n",
    "                            sep = '\\t')\n",
    "rosmap_id_map.head()"
   ]
  },
  {
   "cell_type": "markdown",
   "id": "a094db1b-078a-4f71-b43d-88412b936b24",
   "metadata": {},
   "source": [
    "# clean ID maps"
   ]
  },
  {
   "cell_type": "markdown",
   "id": "069e269d-05d4-4067-a1b1-dc2b3a3ada80",
   "metadata": {},
   "source": [
    "## subset"
   ]
  },
  {
   "cell_type": "code",
   "execution_count": null,
   "id": "877317ad-8d48-4391-a6db-a2fc0f2ed172",
   "metadata": {},
   "outputs": [],
   "source": [
    "rosmap_id_map['ID'] = rosmap_id_map['SampleID'] + ':' + rosmap_id_map['individualID']\n",
    "rosmap_id_map_sub = rosmap_id_map[['SampleID', 'individualID', 'ID']]\n",
    "rosmap_id_map_sub.head()"
   ]
  },
  {
   "cell_type": "code",
   "execution_count": null,
   "id": "670720e5-d966-40cf-94c6-272f255c824d",
   "metadata": {},
   "outputs": [],
   "source": [
    "msbb_id_map['ID'] = msbb_id_map['SampleID'] + ':' + msbb_id_map['individualID']\n",
    "msbb_id_map_sub = msbb_id_map[['SampleID', 'individualID', 'ID']]\n",
    "msbb_id_map_sub.drop_duplicates(inplace = True)\n",
    "msbb_id_map_sub.head()"
   ]
  },
  {
   "cell_type": "markdown",
   "id": "e7261b03-247e-4b6f-bcc5-754d52a1930e",
   "metadata": {},
   "source": [
    "## merge"
   ]
  },
  {
   "cell_type": "code",
   "execution_count": null,
   "id": "542d3f68-6d75-4f75-ad3b-e8575262579f",
   "metadata": {},
   "outputs": [],
   "source": [
    "all_id_map = pd.concat([msbb_id_map_sub, rosmap_id_map_sub], axis = 0)\n",
    "print(len(rosmap_id_map_sub.index))\n",
    "print(len(msbb_id_map_sub.index))\n",
    "print(len(all_id_map.index))\n",
    "all_id_map.head()"
   ]
  },
  {
   "cell_type": "markdown",
   "id": "f6e299b0-b630-441d-b084-764aec069c29",
   "metadata": {},
   "source": [
    "# map gene scores to MSBB and ROSMAP IDs"
   ]
  },
  {
   "cell_type": "code",
   "execution_count": null,
   "id": "a87569ef-558c-432e-8645-f5b0e669aa39",
   "metadata": {},
   "outputs": [],
   "source": [
    "gene_score.rename(columns = {'ID' : 'SampleID'}, inplace = True)"
   ]
  },
  {
   "cell_type": "code",
   "execution_count": null,
   "id": "1de482c3-eeff-418c-8b48-4c98b5b064ba",
   "metadata": {},
   "outputs": [],
   "source": [
    "gene_score_map = all_id_map.merge(gene_score, on = 'SampleID', how = 'inner')\n",
    "gene_score_map.set_index('ID', inplace = True)\n",
    "gene_score_map_sub = gene_score_map.copy()\n",
    "print(len(gene_score_map_sub.index))\n",
    "gene_score_map_sub.head()"
   ]
  },
  {
   "cell_type": "markdown",
   "id": "e32005af-f223-4c36-9c70-e34781827b31",
   "metadata": {},
   "source": [
    "# create common ID in people that don't map"
   ]
  },
  {
   "cell_type": "code",
   "execution_count": null,
   "id": "71f6096e-5c94-4906-b4ea-5c07dd94d52e",
   "metadata": {},
   "outputs": [],
   "source": [
    "gene_score_no_map = gene_score[~gene_score['SampleID'].isin(gene_score_map['SampleID'])]\n",
    "gene_score_no_map['ID'] = gene_score_no_map['SampleID'] + ':NA'\n",
    "gene_score_no_map.set_index('ID', inplace = True)\n",
    "gene_score_no_map_sub = gene_score_no_map.copy()\n",
    "gene_score_no_map_sub.insert(1, 'individualID', np.nan)\n",
    "print(len(gene_score_no_map_sub.index))\n",
    "gene_score_no_map_sub.head()"
   ]
  },
  {
   "cell_type": "markdown",
   "id": "b55d75f2-7762-4efa-8dce-89444f652c76",
   "metadata": {},
   "source": [
    "# concatenate w new ids"
   ]
  },
  {
   "cell_type": "code",
   "execution_count": null,
   "id": "ab503b49-a927-41fa-b284-24b00f23f221",
   "metadata": {},
   "outputs": [],
   "source": [
    "gene_score_cat = pd.concat([gene_score_no_map_sub, gene_score_map_sub], axis = 0)\n",
    "print(len(gene_score_cat.index))\n",
    "gene_score_cat.head()"
   ]
  },
  {
   "cell_type": "markdown",
   "id": "e1dc22ad-a047-4afb-961a-eb19f42884af",
   "metadata": {},
   "source": [
    "# make id map"
   ]
  },
  {
   "cell_type": "code",
   "execution_count": null,
   "id": "936123f1-a51f-4499-a521-a0421707e26c",
   "metadata": {},
   "outputs": [],
   "source": [
    "id_map = gene_score_cat[['SampleID', 'individualID']]\n",
    "id_map['CommonID'] = id_map.index\n",
    "print(len(gene_score_cat.index))\n",
    "id_map.head()"
   ]
  },
  {
   "cell_type": "code",
   "execution_count": null,
   "id": "458fd3b1-0907-447f-b75a-01bcac7dcb53",
   "metadata": {},
   "outputs": [],
   "source": [
    "print(len(rosmap_id_map_sub[~rosmap_id_map_sub['ID'].isin(id_map['CommonID'])]))\n",
    "print(len(msbb_id_map_sub[~msbb_id_map_sub['ID'].isin(id_map['CommonID'])]))"
   ]
  },
  {
   "cell_type": "code",
   "execution_count": null,
   "id": "5b12cba8-7841-4d66-a88f-d7903154decf",
   "metadata": {},
   "outputs": [],
   "source": [
    "rosmap_no_match = rosmap_id_map_sub[~rosmap_id_map_sub['ID'].isin(id_map['CommonID'])]\n",
    "rosmap_no_match.rename(columns = {'ID' : 'CommonID'}, inplace = True)\n",
    "id_map = pd.concat([id_map, rosmap_no_match], axis = 0)\n",
    "print(len(id_map.index))\n",
    "id_map.head()"
   ]
  },
  {
   "cell_type": "markdown",
   "id": "80ed16fb-e58b-4884-b44e-80bb883212ed",
   "metadata": {},
   "source": [
    "# transpose"
   ]
  },
  {
   "cell_type": "code",
   "execution_count": null,
   "id": "5da1468a-a33b-4969-a0d7-e69b952b675e",
   "metadata": {},
   "outputs": [],
   "source": [
    "gene_score_cat.drop(columns = ['SampleID', 'individualID'], inplace = True)\n",
    "gene_score_transpose = gene_score_cat.transpose()\n",
    "gene_score_transpose.insert(0, 'GENE', gene_score_transpose.index)\n",
    "gene_score_transpose.head()"
   ]
  },
  {
   "cell_type": "markdown",
   "id": "564dff98-c6f2-4e17-8fb5-744ea5239833",
   "metadata": {},
   "source": [
    "# export"
   ]
  },
  {
   "cell_type": "code",
   "execution_count": null,
   "id": "41c7eaa0-4243-428e-8e6c-dfc995b2cd77",
   "metadata": {},
   "outputs": [],
   "source": [
    "gene_score_transpose.to_csv('/project/ritchie/projects/AD_KMI/common_var_gene_score/igap_adsp_gene_score/merged_outputs/AOU_ALL.UKBB.metasoft.ADSP.all.VEP_v113.gene_by_position.r2_0.1_clump_variants_excluded.RE_pval_threshold_0.05.gene_symbol.average_gene_score.merged.common_id.transpose.txt',\n",
    "                            sep = '\\t',\n",
    "                           index = None)"
   ]
  },
  {
   "cell_type": "code",
   "execution_count": null,
   "id": "e62a6c17-4f52-4c69-a784-7b8a7e30606d",
   "metadata": {},
   "outputs": [],
   "source": [
    "id_map.to_csv('/project/ritchie/projects/AD_KMI/pathway_score/id_map/ADSP.ROSMAP.MSBB.id_map.txt',\n",
    "              sep = '\\t',\n",
    "              index = None)"
   ]
  },
  {
   "cell_type": "code",
   "execution_count": null,
   "id": "ddd88612-a16e-44a4-8dc5-dbdf557f747c",
   "metadata": {},
   "outputs": [],
   "source": []
  }
 ],
 "metadata": {
  "kernelspec": {
   "display_name": "Python 3 (ipykernel)",
   "language": "python",
   "name": "python3"
  },
  "language_info": {
   "codemirror_mode": {
    "name": "ipython",
    "version": 3
   },
   "file_extension": ".py",
   "mimetype": "text/x-python",
   "name": "python",
   "nbconvert_exporter": "python",
   "pygments_lexer": "ipython3",
   "version": "3.12.3"
  }
 },
 "nbformat": 4,
 "nbformat_minor": 5
}

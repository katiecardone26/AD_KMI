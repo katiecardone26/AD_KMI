{
 "cells": [
  {
   "cell_type": "markdown",
   "metadata": {},
   "source": [
    "# load packages"
   ]
  },
  {
   "cell_type": "code",
   "execution_count": null,
   "metadata": {},
   "outputs": [],
   "source": [
    "import pandas as pd"
   ]
  },
  {
   "cell_type": "code",
   "execution_count": null,
   "metadata": {},
   "outputs": [],
   "source": [
    "import os"
   ]
  },
  {
   "cell_type": "code",
   "execution_count": null,
   "metadata": {},
   "outputs": [],
   "source": [
    "from datetime import datetime"
   ]
  },
  {
   "cell_type": "code",
   "execution_count": null,
   "metadata": {},
   "outputs": [],
   "source": [
    "from zoneinfo import ZoneInfo"
   ]
  },
  {
   "cell_type": "code",
   "execution_count": null,
   "metadata": {},
   "outputs": [],
   "source": [
    "from dateutil.relativedelta import relativedelta"
   ]
  },
  {
   "cell_type": "code",
   "execution_count": null,
   "metadata": {},
   "outputs": [],
   "source": [
    "import matplotlib.pyplot as plt"
   ]
  },
  {
   "cell_type": "markdown",
   "metadata": {},
   "source": [
    "# load datasets"
   ]
  },
  {
   "cell_type": "markdown",
   "metadata": {},
   "source": [
    "## demo case"
   ]
  },
  {
   "cell_type": "code",
   "execution_count": null,
   "metadata": {},
   "outputs": [],
   "source": [
    "# This query represents dataset \"AD_GWAS_case\" for domain \"person\" and was generated for All of Us Controlled Tier Dataset v8\n",
    "dataset_81777961_person_sql = \"\"\"\n",
    "    SELECT\n",
    "        person.person_id,\n",
    "        person.birth_datetime as date_of_birth,\n",
    "        p_sex_at_birth_concept.concept_name as sex_at_birth \n",
    "    FROM\n",
    "        `\"\"\" + os.environ[\"WORKSPACE_CDR\"] + \"\"\".person` person \n",
    "    LEFT JOIN\n",
    "        `\"\"\" + os.environ[\"WORKSPACE_CDR\"] + \"\"\".concept` p_sex_at_birth_concept \n",
    "            ON person.sex_at_birth_concept_id = p_sex_at_birth_concept.concept_id  \n",
    "    WHERE\n",
    "        person.PERSON_ID IN (SELECT\n",
    "            distinct person_id  \n",
    "        FROM\n",
    "            `\"\"\" + os.environ[\"WORKSPACE_CDR\"] + \"\"\".cb_search_person` cb_search_person  \n",
    "        WHERE\n",
    "            cb_search_person.person_id IN (SELECT\n",
    "                person_id \n",
    "            FROM\n",
    "                `\"\"\" + os.environ[\"WORKSPACE_CDR\"] + \"\"\".cb_search_person` p \n",
    "            WHERE\n",
    "                has_whole_genome_variant = 1 ) \n",
    "            AND cb_search_person.person_id IN (SELECT\n",
    "                criteria.person_id \n",
    "            FROM\n",
    "                (SELECT\n",
    "                    DISTINCT person_id, entry_date, concept_id \n",
    "                FROM\n",
    "                    `\"\"\" + os.environ[\"WORKSPACE_CDR\"] + \"\"\".cb_search_all_events` \n",
    "                WHERE\n",
    "                    (concept_id IN(SELECT\n",
    "                        DISTINCT c.concept_id \n",
    "                    FROM\n",
    "                        `\"\"\" + os.environ[\"WORKSPACE_CDR\"] + \"\"\".cb_criteria` c \n",
    "                    JOIN\n",
    "                        (SELECT\n",
    "                            CAST(cr.id as string) AS id       \n",
    "                        FROM\n",
    "                            `\"\"\" + os.environ[\"WORKSPACE_CDR\"] + \"\"\".cb_criteria` cr       \n",
    "                        WHERE\n",
    "                            concept_id IN (1568293, 44826537)       \n",
    "                            AND full_text LIKE '%_rank1]%'      ) a \n",
    "                            ON (c.path LIKE CONCAT('%.', a.id, '.%') \n",
    "                            OR c.path LIKE CONCAT('%.', a.id) \n",
    "                            OR c.path LIKE CONCAT(a.id, '.%') \n",
    "                            OR c.path = a.id) \n",
    "                    WHERE\n",
    "                        is_standard = 0 \n",
    "                        AND is_selectable = 1) \n",
    "                    AND is_standard = 0 )) criteria ) )\"\"\"\n",
    "\n",
    "case_demo = pd.read_gbq(\n",
    "    dataset_81777961_person_sql,\n",
    "    dialect=\"standard\",\n",
    "    use_bqstorage_api=(\"BIGQUERY_STORAGE_API_ENABLED\" in os.environ),\n",
    "    progress_bar_type=\"tqdm_notebook\")\n",
    "\n",
    "case_demo.head(5)"
   ]
  },
  {
   "cell_type": "markdown",
   "metadata": {},
   "source": [
    "## condition case"
   ]
  },
  {
   "cell_type": "code",
   "execution_count": null,
   "metadata": {},
   "outputs": [],
   "source": [
    "# This query represents dataset \"AD_GWAS_case\" for domain \"condition\" and was generated for All of Us Controlled Tier Dataset v8\n",
    "dataset_81777961_condition_sql = \"\"\"\n",
    "    SELECT\n",
    "        c_occurrence.person_id,\n",
    "        c_occurrence.condition_start_datetime,\n",
    "        c_occurrence.condition_source_value \n",
    "    FROM\n",
    "        ( SELECT\n",
    "            * \n",
    "        FROM\n",
    "            `\"\"\" + os.environ[\"WORKSPACE_CDR\"] + \"\"\".condition_occurrence` c_occurrence \n",
    "        WHERE\n",
    "            (\n",
    "                condition_source_concept_id IN (SELECT\n",
    "                    DISTINCT c.concept_id \n",
    "                FROM\n",
    "                    `\"\"\" + os.environ[\"WORKSPACE_CDR\"] + \"\"\".cb_criteria` c \n",
    "                JOIN\n",
    "                    (SELECT\n",
    "                        CAST(cr.id as string) AS id       \n",
    "                    FROM\n",
    "                        `\"\"\" + os.environ[\"WORKSPACE_CDR\"] + \"\"\".cb_criteria` cr       \n",
    "                    WHERE\n",
    "                        concept_id IN (1568293, 35207356, 35207357, 35207358, 35207359, 44826537)       \n",
    "                        AND full_text LIKE '%_rank1]%'      ) a \n",
    "                        ON (c.path LIKE CONCAT('%.', a.id, '.%') \n",
    "                        OR c.path LIKE CONCAT('%.', a.id) \n",
    "                        OR c.path LIKE CONCAT(a.id, '.%') \n",
    "                        OR c.path = a.id) \n",
    "                WHERE\n",
    "                    is_standard = 0 \n",
    "                    AND is_selectable = 1)\n",
    "            )  \n",
    "            AND (\n",
    "                c_occurrence.PERSON_ID IN (SELECT\n",
    "                    distinct person_id  \n",
    "                FROM\n",
    "                    `\"\"\" + os.environ[\"WORKSPACE_CDR\"] + \"\"\".cb_search_person` cb_search_person  \n",
    "                WHERE\n",
    "                    cb_search_person.person_id IN (SELECT\n",
    "                        person_id \n",
    "                    FROM\n",
    "                        `\"\"\" + os.environ[\"WORKSPACE_CDR\"] + \"\"\".cb_search_person` p \n",
    "                    WHERE\n",
    "                        has_whole_genome_variant = 1 ) \n",
    "                    AND cb_search_person.person_id IN (SELECT\n",
    "                        criteria.person_id \n",
    "                    FROM\n",
    "                        (SELECT\n",
    "                            DISTINCT person_id, entry_date, concept_id \n",
    "                        FROM\n",
    "                            `\"\"\" + os.environ[\"WORKSPACE_CDR\"] + \"\"\".cb_search_all_events` \n",
    "                        WHERE\n",
    "                            (concept_id IN(SELECT\n",
    "                                DISTINCT c.concept_id \n",
    "                            FROM\n",
    "                                `\"\"\" + os.environ[\"WORKSPACE_CDR\"] + \"\"\".cb_criteria` c \n",
    "                            JOIN\n",
    "                                (SELECT\n",
    "                                    CAST(cr.id as string) AS id       \n",
    "                                FROM\n",
    "                                    `\"\"\" + os.environ[\"WORKSPACE_CDR\"] + \"\"\".cb_criteria` cr       \n",
    "                                WHERE\n",
    "                                    concept_id IN (1568293, 44826537)       \n",
    "                                    AND full_text LIKE '%_rank1]%'      ) a \n",
    "                                    ON (c.path LIKE CONCAT('%.', a.id, '.%') \n",
    "                                    OR c.path LIKE CONCAT('%.', a.id) \n",
    "                                    OR c.path LIKE CONCAT(a.id, '.%') \n",
    "                                    OR c.path = a.id) \n",
    "                            WHERE\n",
    "                                is_standard = 0 \n",
    "                                AND is_selectable = 1) \n",
    "                            AND is_standard = 0 )) criteria ) )\n",
    "            )) c_occurrence\"\"\"\n",
    "\n",
    "case_icd = pd.read_gbq(\n",
    "    dataset_81777961_condition_sql,\n",
    "    dialect=\"standard\",\n",
    "    use_bqstorage_api=(\"BIGQUERY_STORAGE_API_ENABLED\" in os.environ),\n",
    "    progress_bar_type=\"tqdm_notebook\")\n",
    "\n",
    "case_icd.head(5)"
   ]
  },
  {
   "cell_type": "markdown",
   "metadata": {},
   "source": [
    "## demo control"
   ]
  },
  {
   "cell_type": "code",
   "execution_count": null,
   "metadata": {},
   "outputs": [],
   "source": [
    "# This query represents dataset \"AD_GWAS_control_srWGS\" for domain \"person\" and was generated for All of Us Controlled Tier Dataset v8\n",
    "dataset_90165111_person_sql = \"\"\"\n",
    "    SELECT\n",
    "        person.person_id,\n",
    "        person.birth_datetime as date_of_birth,\n",
    "        p_sex_at_birth_concept.concept_name as sex_at_birth \n",
    "    FROM\n",
    "        `\"\"\" + os.environ[\"WORKSPACE_CDR\"] + \"\"\".person` person \n",
    "    LEFT JOIN\n",
    "        `\"\"\" + os.environ[\"WORKSPACE_CDR\"] + \"\"\".concept` p_sex_at_birth_concept \n",
    "            ON person.sex_at_birth_concept_id = p_sex_at_birth_concept.concept_id  \n",
    "    WHERE\n",
    "        person.PERSON_ID IN (SELECT\n",
    "            distinct person_id  \n",
    "        FROM\n",
    "            `\"\"\" + os.environ[\"WORKSPACE_CDR\"] + \"\"\".cb_search_person` cb_search_person  \n",
    "        WHERE\n",
    "            cb_search_person.person_id IN (SELECT\n",
    "                person_id \n",
    "            FROM\n",
    "                `\"\"\" + os.environ[\"WORKSPACE_CDR\"] + \"\"\".cb_search_person` p \n",
    "            WHERE\n",
    "                has_whole_genome_variant = 1 ) )\"\"\"\n",
    "\n",
    "control_demo = pd.read_gbq(\n",
    "    dataset_90165111_person_sql,\n",
    "    dialect=\"standard\",\n",
    "    use_bqstorage_api=(\"BIGQUERY_STORAGE_API_ENABLED\" in os.environ),\n",
    "    progress_bar_type=\"tqdm_notebook\")\n",
    "\n",
    "control_demo.head(5)"
   ]
  },
  {
   "cell_type": "markdown",
   "metadata": {},
   "source": [
    "## PCA and GIA"
   ]
  },
  {
   "cell_type": "code",
   "execution_count": null,
   "metadata": {},
   "outputs": [],
   "source": [
    "gia = pd.read_csv('AOU.v8.GIA_PCA.txt', sep  ='\\t')\n",
    "gia.head()"
   ]
  },
  {
   "cell_type": "markdown",
   "metadata": {},
   "source": [
    "# make controls w no cases"
   ]
  },
  {
   "cell_type": "code",
   "execution_count": null,
   "metadata": {},
   "outputs": [],
   "source": [
    "control_no_case = control_demo[~control_demo['person_id'].isin(case_demo['person_id'])]\n",
    "print(len(control_no_case.index))\n",
    "control_no_case.head()"
   ]
  },
  {
   "cell_type": "markdown",
   "metadata": {},
   "source": [
    "# clean gia"
   ]
  },
  {
   "cell_type": "code",
   "execution_count": null,
   "metadata": {},
   "outputs": [],
   "source": [
    "gia_clean = gia[['research_id', 'ancestry_pred']]\n",
    "gia_clean.rename(columns = {'research_id' : 'person_id'}, inplace = True)\n",
    "gia_clean.head()"
   ]
  },
  {
   "cell_type": "markdown",
   "metadata": {},
   "source": [
    "# make cases by rule of 2"
   ]
  },
  {
   "cell_type": "markdown",
   "metadata": {},
   "source": [
    "## make person id list"
   ]
  },
  {
   "cell_type": "code",
   "execution_count": null,
   "metadata": {},
   "outputs": [],
   "source": [
    "id_list = case_icd['person_id'].unique().tolist()\n",
    "len(id_list)"
   ]
  },
  {
   "cell_type": "markdown",
   "metadata": {},
   "source": [
    "## loop through dataframe and only extract people that have at least 2 ICD codes"
   ]
  },
  {
   "cell_type": "code",
   "execution_count": null,
   "metadata": {},
   "outputs": [],
   "source": [
    "two_instances = []\n",
    "for id in id_list:\n",
    "    id_df = case_icd[case_icd['person_id'].isin([id])]\n",
    "    id_df.drop_duplicates(inplace = True)\n",
    "    id_df.reset_index(inplace = True, drop = True)\n",
    "    if len(id_df.index) >= 2:\n",
    "        two_instances.append(id)"
   ]
  },
  {
   "cell_type": "markdown",
   "metadata": {},
   "source": [
    "## check work and create filtered df"
   ]
  },
  {
   "cell_type": "code",
   "execution_count": null,
   "metadata": {},
   "outputs": [],
   "source": [
    "print(len(two_instances))\n",
    "two_instances"
   ]
  },
  {
   "cell_type": "code",
   "execution_count": null,
   "metadata": {},
   "outputs": [],
   "source": [
    "case_icd_two = case_icd[case_icd['person_id'].isin(two_instances)]\n",
    "case_icd_two.head()"
   ]
  },
  {
   "cell_type": "code",
   "execution_count": null,
   "metadata": {},
   "outputs": [],
   "source": [
    "case_icd_one = case_icd[~case_icd['person_id'].isin(two_instances)]\n",
    "case_icd_one.head()"
   ]
  },
  {
   "cell_type": "markdown",
   "metadata": {},
   "source": [
    "## get first date"
   ]
  },
  {
   "cell_type": "markdown",
   "metadata": {},
   "source": [
    "### clean up dataframe"
   ]
  },
  {
   "cell_type": "code",
   "execution_count": null,
   "metadata": {},
   "outputs": [],
   "source": [
    "case_icd_two.drop(columns = ['condition_source_value'], inplace = True)\n",
    "case_icd_two['condition_start_datetime'] = pd.to_datetime(case_icd_two['condition_start_datetime'])\n",
    "case_icd_two.sort_values(by = ['person_id', 'condition_start_datetime'], inplace = True)\n",
    "print(case_icd_two['condition_start_datetime'].dtype)\n",
    "case_icd_two.head()"
   ]
  },
  {
   "cell_type": "markdown",
   "metadata": {},
   "source": [
    "### get first date"
   ]
  },
  {
   "cell_type": "code",
   "execution_count": null,
   "metadata": {},
   "outputs": [],
   "source": [
    "case_icd_first = case_icd_two.drop_duplicates(keep = 'first', subset = 'person_id')\n",
    "print(len(case_icd_first.index))\n",
    "case_icd_first.head()"
   ]
  },
  {
   "cell_type": "markdown",
   "metadata": {},
   "source": [
    "# clean demo dfs"
   ]
  },
  {
   "cell_type": "markdown",
   "metadata": {},
   "source": [
    "## filter to males and females"
   ]
  },
  {
   "cell_type": "code",
   "execution_count": null,
   "metadata": {},
   "outputs": [],
   "source": [
    "case_demo['sex_at_birth'].unique()"
   ]
  },
  {
   "cell_type": "code",
   "execution_count": null,
   "metadata": {},
   "outputs": [],
   "source": [
    "case_demo_clean = case_demo[case_demo['sex_at_birth'].isin(['Male', 'Female'])]\n",
    "print(case_demo_clean['sex_at_birth'].unique())\n",
    "case_demo_clean.head()"
   ]
  },
  {
   "cell_type": "code",
   "execution_count": null,
   "metadata": {},
   "outputs": [],
   "source": [
    "control_demo_clean = control_demo[control_demo['sex_at_birth'].isin(['Male', 'Female'])]\n",
    "print(control_demo_clean['sex_at_birth'].unique())\n",
    "control_demo_clean.head()"
   ]
  },
  {
   "cell_type": "markdown",
   "metadata": {},
   "source": [
    "## recode sex column (male = 1, female = 2)"
   ]
  },
  {
   "cell_type": "code",
   "execution_count": null,
   "metadata": {},
   "outputs": [],
   "source": [
    "case_demo_clean['sex_at_birth'] = case_demo_clean['sex_at_birth'].str.replace('Male', '1')\n",
    "case_demo_clean['sex_at_birth'] = case_demo_clean['sex_at_birth'].str.replace('Female', '2')\n",
    "print(case_demo_clean['sex_at_birth'].unique())\n",
    "case_demo_clean.head()"
   ]
  },
  {
   "cell_type": "code",
   "execution_count": null,
   "metadata": {},
   "outputs": [],
   "source": [
    "control_demo_clean['sex_at_birth'] = control_demo_clean['sex_at_birth'].str.replace('Male', '1')\n",
    "control_demo_clean['sex_at_birth'] = control_demo_clean['sex_at_birth'].str.replace('Female', '2')\n",
    "print(control_demo_clean['sex_at_birth'].unique())\n",
    "control_demo_clean.head()"
   ]
  },
  {
   "cell_type": "markdown",
   "metadata": {},
   "source": [
    "## change DOB date type"
   ]
  },
  {
   "cell_type": "code",
   "execution_count": null,
   "metadata": {},
   "outputs": [],
   "source": [
    "case_demo_clean['date_of_birth'] = pd.to_datetime(case_demo_clean['date_of_birth'])\n",
    "print(case_demo_clean['date_of_birth'].dtype)\n",
    "case_demo_clean.head()"
   ]
  },
  {
   "cell_type": "code",
   "execution_count": null,
   "metadata": {},
   "outputs": [],
   "source": [
    "control_demo_clean['date_of_birth'] = pd.to_datetime(control_demo_clean['date_of_birth'])\n",
    "print(case_demo_clean['date_of_birth'].dtype)\n",
    "control_demo_clean.head()"
   ]
  },
  {
   "cell_type": "markdown",
   "metadata": {},
   "source": [
    "## calculate age at last data release for controls"
   ]
  },
  {
   "cell_type": "markdown",
   "metadata": {},
   "source": [
    "### calculate age"
   ]
  },
  {
   "cell_type": "code",
   "execution_count": null,
   "metadata": {},
   "outputs": [],
   "source": [
    "print(datetime(2025, 10, 1, 0, 0, 0))"
   ]
  },
  {
   "cell_type": "code",
   "execution_count": null,
   "metadata": {},
   "outputs": [],
   "source": [
    "control_demo_clean['AGE'] = (datetime(2025, 10, 1, 0, 0, 0)).replace(tzinfo = ZoneInfo(\"UTC\")) - control_demo_clean['date_of_birth']\n",
    "control_demo_clean['AGE'] = control_demo_clean['AGE'].astype(str).str.replace(' days','')\n",
    "control_demo_clean['AGE'] = control_demo_clean['AGE'].astype(float)\n",
    "control_demo_clean['AGE'] = control_demo_clean['AGE'] / 365.2425\n",
    "control_demo_clean.head()"
   ]
  },
  {
   "cell_type": "markdown",
   "metadata": {},
   "source": [
    "### remove DOB column"
   ]
  },
  {
   "cell_type": "code",
   "execution_count": null,
   "metadata": {},
   "outputs": [],
   "source": [
    "control_demo_clean.drop(columns = ['date_of_birth'], inplace = True)\n",
    "control_demo_clean.head()"
   ]
  },
  {
   "cell_type": "markdown",
   "metadata": {},
   "source": [
    "## calculate age at first condition in cases"
   ]
  },
  {
   "cell_type": "markdown",
   "metadata": {},
   "source": [
    "### merge icd & demo dfs"
   ]
  },
  {
   "cell_type": "code",
   "execution_count": null,
   "metadata": {},
   "outputs": [],
   "source": [
    "case_icd_demo = case_icd_first.merge(case_demo_clean, how = 'inner', on = 'person_id')\n",
    "print(len(case_icd_demo.index))\n",
    "case_icd_demo.head()"
   ]
  },
  {
   "cell_type": "markdown",
   "metadata": {},
   "source": [
    "### calculate age"
   ]
  },
  {
   "cell_type": "code",
   "execution_count": null,
   "metadata": {},
   "outputs": [],
   "source": [
    "case_icd_demo['condition_start_datetime'] = case_icd_demo['condition_start_datetime'].dt.date\n",
    "case_icd_demo['date_of_birth'] = case_icd_demo['date_of_birth'].dt.date\n",
    "case_icd_demo['AGE'] = case_icd_demo['condition_start_datetime'] - case_icd_demo['date_of_birth']\n",
    "case_icd_demo['AGE'] = case_icd_demo['AGE'].astype(str).str.replace(' days, 0:00:00','')\n",
    "case_icd_demo['AGE']  =case_icd_demo['AGE'].astype(float)\n",
    "case_icd_demo['AGE'] = case_icd_demo['AGE'] / 365.2425\n",
    "case_icd_demo.head()"
   ]
  },
  {
   "cell_type": "markdown",
   "metadata": {},
   "source": [
    "### drop dob & condition start columns"
   ]
  },
  {
   "cell_type": "code",
   "execution_count": null,
   "metadata": {},
   "outputs": [],
   "source": [
    "case_icd_demo.drop(columns=['date_of_birth','condition_start_datetime'], inplace = True)\n",
    "case_icd_demo.head()"
   ]
  },
  {
   "cell_type": "markdown",
   "metadata": {},
   "source": [
    "# examine age distribution"
   ]
  },
  {
   "cell_type": "code",
   "execution_count": null,
   "metadata": {},
   "outputs": [],
   "source": [
    "case_icd_demo['AGE'].describe()"
   ]
  },
  {
   "cell_type": "code",
   "execution_count": null,
   "metadata": {},
   "outputs": [],
   "source": [
    "control_demo_clean['AGE'].describe()"
   ]
  },
  {
   "cell_type": "markdown",
   "metadata": {},
   "source": [
    "# filter to min age of 65"
   ]
  },
  {
   "cell_type": "code",
   "execution_count": null,
   "metadata": {},
   "outputs": [],
   "source": [
    "control_min_age = control_demo_clean[control_demo_clean['AGE'] >= 65]\n",
    "print(len(control_min_age.index))\n",
    "control_min_age.head()"
   ]
  },
  {
   "cell_type": "markdown",
   "metadata": {},
   "source": [
    "# add AD column"
   ]
  },
  {
   "cell_type": "code",
   "execution_count": null,
   "metadata": {},
   "outputs": [],
   "source": [
    "case_min_age['AD'] = 1\n",
    "case_min_age.head()"
   ]
  },
  {
   "cell_type": "code",
   "execution_count": null,
   "metadata": {},
   "outputs": [],
   "source": [
    "control_min_age['AD'] = 0\n",
    "control_min_age.head()"
   ]
  },
  {
   "cell_type": "markdown",
   "metadata": {},
   "source": [
    "# concatenate!"
   ]
  },
  {
   "cell_type": "code",
   "execution_count": null,
   "metadata": {},
   "outputs": [],
   "source": [
    "case_control = pd.concat([control_min_age, case_min_age], axis = 0)\n",
    "print(len(case_control.index))\n",
    "case_control.head()"
   ]
  },
  {
   "cell_type": "markdown",
   "metadata": {},
   "source": [
    "# merge w gia"
   ]
  },
  {
   "cell_type": "code",
   "execution_count": null,
   "metadata": {},
   "outputs": [],
   "source": [
    "case_control_gia = case_control.merge(gia_clean, how = 'inner', on = 'person_id')\n",
    "print(len(case_control_gia.index))\n",
    "print(case_control_gia[['ancestry_pred', 'AD']].value_counts())\n",
    "print(case_control_gia['AD'].value_counts())\n",
    "case_control_gia.head()"
   ]
  },
  {
   "cell_type": "markdown",
   "metadata": {},
   "source": [
    "# create sample lists"
   ]
  },
  {
   "cell_type": "markdown",
   "metadata": {},
   "source": [
    "## multi-ancestry"
   ]
  },
  {
   "cell_type": "code",
   "execution_count": null,
   "metadata": {},
   "outputs": [],
   "source": [
    "all_sample = case_control[['person_id']]\n",
    "all_sample.head()"
   ]
  },
  {
   "cell_type": "markdown",
   "metadata": {},
   "source": [
    "## EUR"
   ]
  },
  {
   "cell_type": "code",
   "execution_count": null,
   "metadata": {},
   "outputs": [],
   "source": [
    "eur_case_control = case_control_gia[case_control_gia['ancestry_pred'].isin(['eur'])]\n",
    "print(len(eur_case_control.index))\n",
    "print(eur_case_control['AD'].value_counts())\n",
    "eur_case_control.head()"
   ]
  },
  {
   "cell_type": "code",
   "execution_count": null,
   "metadata": {},
   "outputs": [],
   "source": [
    "eur_sample=eur_case_control[['person_id']]\n",
    "eur_sample.head()"
   ]
  },
  {
   "cell_type": "markdown",
   "metadata": {},
   "source": [
    "# export sample lists"
   ]
  },
  {
   "cell_type": "code",
   "execution_count": null,
   "metadata": {},
   "outputs": [],
   "source": [
    "all_sample.to_csv('AOU.AD.ALL.sample_list.txt', sep = '\\t', header = None, index = None)"
   ]
  },
  {
   "cell_type": "code",
   "execution_count": null,
   "metadata": {},
   "outputs": [],
   "source": [
    "eur_sample.to_csv('AOU.AD.EUR.sample_list.txt', sep = '\\t', header = None, index = None)"
   ]
  },
  {
   "cell_type": "markdown",
   "metadata": {},
   "source": [
    "# read in PCs"
   ]
  },
  {
   "cell_type": "markdown",
   "metadata": {},
   "source": [
    "## eigenvalues"
   ]
  },
  {
   "cell_type": "code",
   "execution_count": null,
   "metadata": {},
   "outputs": [],
   "source": [
    "eur_eigenval = pd.read_csv('AOU.AD.EUR.PCA_cleaned.eigenval', header = None)\n",
    "print(len(eur_eigenval.index))\n",
    "eur_eigenval.head()"
   ]
  },
  {
   "cell_type": "code",
   "execution_count": null,
   "metadata": {},
   "outputs": [],
   "source": [
    "all_eigenval = pd.read_csv('AOU.AD.ALL.PCA_cleaned.eigenval', header = None)\n",
    "print(len(all_eigenval.index))\n",
    "all_eigenval.head()"
   ]
  },
  {
   "cell_type": "markdown",
   "metadata": {},
   "source": [
    "## eigenvectors"
   ]
  },
  {
   "cell_type": "code",
   "execution_count": null,
   "metadata": {},
   "outputs": [],
   "source": [
    "eur_eigenvec = pd.read_csv('AOU.AD.EUR.PCA_cleaned.eigenvec', sep = '\\t', header = None)\n",
    "print(len(eur_eigenvec.index))\n",
    "eur_eigenvec.head()"
   ]
  },
  {
   "cell_type": "code",
   "execution_count": null,
   "metadata": {},
   "outputs": [],
   "source": [
    "all_eigenvec = pd.read_csv('AOU.AD.ALL.PCA_cleaned.eigenvec', sep = '\\t', header = None)\n",
    "print(len(all_eigenvec.index))\n",
    "all_eigenvec.head()"
   ]
  },
  {
   "cell_type": "markdown",
   "metadata": {},
   "source": [
    "# make scree plots"
   ]
  },
  {
   "cell_type": "markdown",
   "metadata": {},
   "source": [
    "## clean files"
   ]
  },
  {
   "cell_type": "code",
   "execution_count": null,
   "metadata": {},
   "outputs": [],
   "source": [
    "eur_eigenval['PC'] = list(range(1,21))\n",
    "eur_eigenval.rename(columns = {0 : 'EIGENVAL'}, inplace = True)\n",
    "eur_eigenval['VARIANCE'] = eur_eigenval['EIGENVAL']/eur_eigenval['EIGENVAL'].sum()\n",
    "eur_eigenval.head()"
   ]
  },
  {
   "cell_type": "code",
   "execution_count": null,
   "metadata": {},
   "outputs": [],
   "source": [
    "all_eigenval['PC'] = list(range(1, 21))\n",
    "all_eigenval.rename(columns = {0 : 'EIGENVAL'}, inplace = True)\n",
    "all_eigenval['VARIANCE'] = all_eigenval['EIGENVAL']/all_eigenval['EIGENVAL'].sum()\n",
    "all_eigenval.head()"
   ]
  },
  {
   "cell_type": "markdown",
   "metadata": {},
   "source": [
    "## make plots"
   ]
  },
  {
   "cell_type": "code",
   "execution_count": null,
   "metadata": {},
   "outputs": [],
   "source": [
    "plt.plot(eur_eigenval['PC'], eur_eigenval['VARIANCE'])\n",
    "plt.xlabel('PC')\n",
    "plt.ylabel('Variance')\n",
    "plt.title('EUR AD GWAS Scree Plot')\n",
    "plt.xticks(list(range(1, 21)))"
   ]
  },
  {
   "cell_type": "code",
   "execution_count": null,
   "metadata": {},
   "outputs": [],
   "source": [
    "plt.plot(all_eigenval['PC'], all_eigenval['VARIANCE'])\n",
    "plt.xlabel('PC')\n",
    "plt.ylabel('Variance')\n",
    "plt.title('ALL AD GWAS Scree Plot')\n",
    "plt.xticks(list(range(1, 21)))"
   ]
  },
  {
   "cell_type": "markdown",
   "metadata": {},
   "source": [
    "# subset eigenvec files"
   ]
  },
  {
   "cell_type": "code",
   "execution_count": null,
   "metadata": {},
   "outputs": [],
   "source": [
    "eur_eigenvec_sub = eur_eigenvec[[0, 1, 2, 3]]\n",
    "eur_eigenvec_sub.rename(columns={0 : 'person_id',\n",
    "                                 1 : 'PC1',\n",
    "                                 2 : 'PC2',\n",
    "                                 3 : 'PC3'}, inplace = True)\n",
    "eur_eigenvec_sub.head()"
   ]
  },
  {
   "cell_type": "code",
   "execution_count": null,
   "metadata": {},
   "outputs": [],
   "source": [
    "all_eigenvec_sub = all_eigenvec[[0, 1, 2, 3, 4]]\n",
    "all_eigenvec_sub.rename(columns={0 : 'person_id',\n",
    "                                 1 : 'PC1',\n",
    "                                 2 : 'PC2',\n",
    "                                 3 : 'PC3',\n",
    "                                 4 : 'PC4'}, inplace = True)\n",
    "all_eigenvec_sub.head()"
   ]
  },
  {
   "cell_type": "markdown",
   "metadata": {},
   "source": [
    "# merge with pheno files"
   ]
  },
  {
   "cell_type": "code",
   "execution_count": null,
   "metadata": {},
   "outputs": [],
   "source": [
    "eur_pheno_pc=eur_case_control.merge(eur_eigenvec_sub, on = 'person_id')\n",
    "eur_pheno_pc.drop(columns = ['ancestry_pred'], inplace = True)\n",
    "print(len(eur_pheno_pc.index))\n",
    "print(eur_pheno_pc['AD'].value_counts())\n",
    "eur_pheno_pc.head()"
   ]
  },
  {
   "cell_type": "code",
   "execution_count": null,
   "metadata": {},
   "outputs": [],
   "source": [
    "all_pheno_pc=case_control_gia.merge(all_eigenvec_sub, on = 'person_id')\n",
    "all_pheno_pc.drop(columns = ['ancestry_pred'], inplace = True)\n",
    "print(len(all_pheno_pc.index))\n",
    "print(all_pheno_pc['AD'].value_counts())\n",
    "print(all_pheno_pc[['AD', 'sex_at_birth']].value_counts())\n",
    "all_pheno_pc.head()"
   ]
  },
  {
   "cell_type": "markdown",
   "metadata": {},
   "source": [
    "# make new sample lists"
   ]
  },
  {
   "cell_type": "code",
   "execution_count": null,
   "metadata": {},
   "outputs": [],
   "source": [
    "eur_pheno_pc_sample = eur_pheno_pc[['person_id']]\n",
    "print(len(eur_pheno_pc_sample.index))\n",
    "eur_pheno_pc_sample.head()"
   ]
  },
  {
   "cell_type": "code",
   "execution_count": null,
   "metadata": {},
   "outputs": [],
   "source": [
    "all_pheno_pc_sample = all_pheno_pc[['person_id']]\n",
    "print(len(all_pheno_pc_sample.index))\n",
    "all_pheno_pc_sample.head()"
   ]
  },
  {
   "cell_type": "markdown",
   "metadata": {},
   "source": [
    "# export"
   ]
  },
  {
   "cell_type": "code",
   "execution_count": null,
   "metadata": {},
   "outputs": [],
   "source": [
    "eur_pheno_pc.to_csv('AOU.AD.EUR.phenotype_covariates.txt', sep = '\\t', index = None)"
   ]
  },
  {
   "cell_type": "code",
   "execution_count": null,
   "metadata": {},
   "outputs": [],
   "source": [
    "all_pheno_pc.to_csv('AOU.AD.ALL.phenotype_covariates.txt', sep = '\\t', index = None)"
   ]
  },
  {
   "cell_type": "code",
   "execution_count": null,
   "metadata": {},
   "outputs": [],
   "source": [
    "eur_pheno_pc_sample.to_csv('AOU.AD.EUR.postPCA_QC.sample_list.txt', sep = '\\t', index = None, header = None)"
   ]
  },
  {
   "cell_type": "code",
   "execution_count": null,
   "metadata": {},
   "outputs": [],
   "source": [
    "all_pheno_pc_sample.to_csv('AOU.AD.ALL.postPCA_QC.sample_list.txt', sep = '\\t', index = None, header = None)"
   ]
  },
  {
   "cell_type": "code",
   "execution_count": null,
   "metadata": {},
   "outputs": [],
   "source": []
  }
 ],
 "metadata": {
  "kernelspec": {
   "display_name": "Python 3",
   "language": "python",
   "name": "python3"
  },
  "language_info": {
   "codemirror_mode": {
    "name": "ipython",
    "version": 3
   },
   "file_extension": ".py",
   "mimetype": "text/x-python",
   "name": "python",
   "nbconvert_exporter": "python",
   "pygments_lexer": "ipython3",
   "version": "3.10.16"
  },
  "toc": {
   "base_numbering": 1,
   "nav_menu": {},
   "number_sections": true,
   "sideBar": true,
   "skip_h1_title": false,
   "title_cell": "Table of Contents",
   "title_sidebar": "Contents",
   "toc_cell": false,
   "toc_position": {},
   "toc_section_display": true,
   "toc_window_display": false
  }
 },
 "nbformat": 4,
 "nbformat_minor": 2
}

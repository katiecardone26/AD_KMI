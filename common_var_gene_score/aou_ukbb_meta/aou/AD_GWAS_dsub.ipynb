{
 "cells": [
  {
   "cell_type": "markdown",
   "metadata": {},
   "source": [
    "# setup"
   ]
  },
  {
   "cell_type": "markdown",
   "metadata": {},
   "source": [
    "## import python modules"
   ]
  },
  {
   "cell_type": "code",
   "execution_count": null,
   "metadata": {},
   "outputs": [],
   "source": [
    "import pandas as pd\n",
    "import os"
   ]
  },
  {
   "cell_type": "markdown",
   "metadata": {},
   "source": [
    "## define workspace bucket location"
   ]
  },
  {
   "cell_type": "code",
   "execution_count": null,
   "metadata": {},
   "outputs": [],
   "source": [
    "bucket = os.getenv('WORKSPACE_BUCKET')\n",
    "bucket"
   ]
  },
  {
   "cell_type": "markdown",
   "metadata": {},
   "source": [
    "## setup dsub"
   ]
  },
  {
   "cell_type": "code",
   "execution_count": null,
   "metadata": {},
   "outputs": [],
   "source": [
    "%%writefile ~/aou_dsub.bash\n",
    "\n",
    "#!/bin/bash\n",
    "\n",
    "# This shell function passes reasonable defaults for several dsub parameters, while\n",
    "# allowing the caller to override any of them. It creates a nice folder structure within\n",
    "# the workspace bucket for dsub log files.\n",
    "\n",
    "# --[ Parameters ]--\n",
    "# any valid dsub parameter flag\n",
    "\n",
    "#--[ Returns ]--\n",
    "# the job id of the job created by dsub\n",
    "\n",
    "#--[ Details ]--\n",
    "# The first five parameters below should always be those values when running on AoU RWB.\n",
    "\n",
    "# Feel free to change the values for --user, --regions, --logging, and --image if you like.\n",
    "\n",
    "# Note that we insert some job data into the logging path.\n",
    "# https://github.com/DataBiosphere/dsub/blob/main/docs/logging.md#inserting-job-data\n",
    "\n",
    "function aou_dsub () {\n",
    "\n",
    "  # Get a shorter username to leave more characters for the job name.\n",
    "  local DSUB_USER_NAME=\"$(echo \"${OWNER_EMAIL}\" | cut -d@ -f1)\"\n",
    "\n",
    "  # For AoU RWB projects network name is \"network\".\n",
    "  local AOU_NETWORK=network\n",
    "  local AOU_SUBNETWORK=subnetwork\n",
    "\n",
    "  dsub \\\n",
    "      --provider google-cls-v2 \\\n",
    "      --user-project \"${GOOGLE_PROJECT}\"\\\n",
    "      --project \"${GOOGLE_PROJECT}\"\\\n",
    "      --image 'marketplace.gcr.io/google/ubuntu1804:latest' \\\n",
    "      --network \"${AOU_NETWORK}\" \\\n",
    "      --subnetwork \"${AOU_SUBNETWORK}\" \\\n",
    "      --service-account \"$(gcloud config get-value account)\" \\\n",
    "      --user \"${DSUB_USER_NAME}\" \\\n",
    "      --regions us-central1 \\\n",
    "      --logging \"${WORKSPACE_BUCKET}/dsub/logs/{job-name}/{user-id}/$(date +'%Y%m%d/%H%M%S')/{job-id}-{task-id}-{task-attempt}.log\" \\\n",
    "      \"$@\"\n",
    "}"
   ]
  },
  {
   "cell_type": "markdown",
   "metadata": {},
   "source": [
    "# compute ancestry specific PCA"
   ]
  },
  {
   "cell_type": "markdown",
   "metadata": {},
   "source": [
    "## run initial QC"
   ]
  },
  {
   "cell_type": "markdown",
   "metadata": {},
   "source": [
    "### submit jobs"
   ]
  },
  {
   "cell_type": "code",
   "execution_count": null,
   "metadata": {},
   "outputs": [],
   "source": [
    "USER_NAME = os.getenv('OWNER_EMAIL').split('@')[0].replace('.','-')\n",
    "%env USER_NAME={USER_NAME}\n",
    "JOB_NAME=f'inital_qc-{USER_NAME}'\n",
    "%env JOB_NAME={JOB_NAME}\n",
    "\n",
    "params_df = pd.DataFrame(data={\n",
    "    '--input-recursive ARRAY': [f\"gs://fc-aou-datasets-controlled/v8/microarray/plink\" for _ in range(2)],\n",
    "    '--input SAMPLE_LIST': [f\"{bucket}/AD_GWAS/PCA/input/AOU_AD.{x}.sample_list.txt\" for x in ['EUR', 'ALL']],\n",
    "    '--env ANCESTRY': ['EUR','ALL'],\n",
    "    '--output-recursive OUTPUT_DIR': [f\"{bucket}/AD_GWAS/PCA/input\" for _ in range(2)]\n",
    "})\n",
    "\n",
    "PARAMETER_FILENAME = f'{JOB_NAME}_params.tsv'\n",
    "%env PARAMETER_FILENAME={PARAMETER_FILENAME}\n",
    "\n",
    "params_df.to_csv(PARAMETER_FILENAME, sep='\\t', index=False)\n",
    "\n",
    "job_id = !source ~/aou_dsub.bash; aou_dsub \\\n",
    "  --name \"${JOB_NAME}\" \\\n",
    "  --provider google-cls-v2 \\\n",
    "  --image \"gcr.io/ritchie-aou-psom-9015/plink2:latest\" \\\n",
    "  --logging \"${WORKSPACE_BUCKET}/dsub_logs/AD_GWAS/pca/\" \\\n",
    "  --disk-size 360 \\\n",
    "  --tasks \"${PARAMETER_FILENAME}\" \\\n",
    "  --command 'plink2 --bfile ${ARRAY}/arrays \\\n",
    "              --keep ${SAMPLE_LIST} \\\n",
    "              --geno 0.01 \\\n",
    "              --mind 0.01 \\\n",
    "              --max-alleles 2 \\\n",
    "              --snps-only \\\n",
    "              --make-bed \\\n",
    "              --out ${OUTPUT_DIR}/AOU.AD.${ANCESTRY}.initial_qc'\n",
    "\n",
    "print(\"\\n\".join(job_id))\n",
    "job_id = job_id[1].split(\" \")[-1]\n",
    "%env JOB_ID={job_id}"
   ]
  },
  {
   "cell_type": "markdown",
   "metadata": {},
   "source": [
    "### check job status"
   ]
  },
  {
   "cell_type": "code",
   "execution_count": null,
   "metadata": {},
   "outputs": [],
   "source": [
    "!dstat \\\n",
    "    --provider google-cls-v2 \\\n",
    "    --project \"${GOOGLE_PROJECT}\" \\\n",
    "    --location us-central1 \\\n",
    "    --jobs \"${JOB_ID}\" \\\n",
    "    --users \"${USER_NAME}\" \\\n",
    "    --status '*'"
   ]
  },
  {
   "cell_type": "markdown",
   "metadata": {},
   "source": [
    "## filter based on maf"
   ]
  },
  {
   "cell_type": "markdown",
   "metadata": {},
   "source": [
    "### see size of files to determine disk size"
   ]
  },
  {
   "cell_type": "code",
   "execution_count": null,
   "metadata": {},
   "outputs": [],
   "source": [
    "!gsutil ls -lh {bucket}/AD_GWAS/PCA/input/"
   ]
  },
  {
   "cell_type": "markdown",
   "metadata": {},
   "source": [
    "### submit jobs"
   ]
  },
  {
   "cell_type": "code",
   "execution_count": null,
   "metadata": {},
   "outputs": [],
   "source": [
    "USER_NAME = os.getenv('OWNER_EMAIL').split('@')[0].replace('.','-')\n",
    "%env USER_NAME={USER_NAME}\n",
    "JOB_NAME=f'maf-{USER_NAME}'\n",
    "%env JOB_NAME={JOB_NAME}\n",
    "\n",
    "params_df = pd.DataFrame(data={\n",
    "    '--env ANCESTRY': ['EUR','ALL'],\n",
    "    '--output-recursive OUTPUT_DIR': [f\"{bucket}/AD_GWAS/PCA/input\" for _ in range(2)]\n",
    "})\n",
    "\n",
    "PARAMETER_FILENAME = f'{JOB_NAME}_params.tsv'\n",
    "%env PARAMETER_FILENAME={PARAMETER_FILENAME}\n",
    "\n",
    "params_df.to_csv(PARAMETER_FILENAME, sep='\\t', index=False)\n",
    "\n",
    "job_id = !source ~/aou_dsub.bash; aou_dsub \\\n",
    "  --name \"${JOB_NAME}\" \\\n",
    "  --provider google-cls-v2 \\\n",
    "  --image \"gcr.io/ritchie-aou-psom-9015/plink2:latest\" \\\n",
    "  --logging \"${WORKSPACE_BUCKET}/dsub_logs/AD_GWAS/pca/\" \\\n",
    "  --mount BUCKET=\"${WORKSPACE_BUCKET}\" \\\n",
    "  --disk-size 120 \\\n",
    "  --tasks \"${PARAMETER_FILENAME}\" \\\n",
    "  --command 'plink2 --bfile $BUCKET/AD_GWAS/PCA/input/AOU.AD.${ANCESTRY}.initial_qc \\\n",
    "              --maf 0.05 \\\n",
    "              --make-bed \\\n",
    "              --out ${OUTPUT_DIR}/AOU.AD.${ANCESTRY}.freq_qc'\n",
    "\n",
    "print(\"\\n\".join(job_id))\n",
    "job_id = job_id[1].split(\" \")[-1]\n",
    "%env JOB_ID={job_id}"
   ]
  },
  {
   "cell_type": "markdown",
   "metadata": {},
   "source": [
    "### check job status"
   ]
  },
  {
   "cell_type": "code",
   "execution_count": null,
   "metadata": {},
   "outputs": [],
   "source": [
    "!dstat \\\n",
    "    --provider google-cls-v2 \\\n",
    "    --project \"$GOOGLE_PROJECT\" \\\n",
    "    --location us-central1 \\\n",
    "    --jobs \"${JOB_ID}\" \\\n",
    "    --users \"${USER_NAME}\" \\\n",
    "    --status '*'"
   ]
  },
  {
   "cell_type": "markdown",
   "metadata": {},
   "source": [
    "## LD prune"
   ]
  },
  {
   "cell_type": "markdown",
   "metadata": {},
   "source": [
    "### submit jobs"
   ]
  },
  {
   "cell_type": "code",
   "execution_count": null,
   "metadata": {},
   "outputs": [],
   "source": [
    "USER_NAME = os.getenv('OWNER_EMAIL').split('@')[0].replace('.','-')\n",
    "%env USER_NAME={USER_NAME}\n",
    "JOB_NAME=f'ld_prune-{USER_NAME}'\n",
    "%env JOB_NAME={JOB_NAME}\n",
    "\n",
    "params_df = pd.DataFrame(data={\n",
    "    '--env ANCESTRY': ['EUR', 'ALL'],\n",
    "    '--env R2' : ['0.15', '0.13'],\n",
    "    '--output-recursive OUTPUT_DIR': [f\"{bucket}/AD_GWAS/PCA/input\" for _ in range(2)]\n",
    "})\n",
    "\n",
    "PARAMETER_FILENAME = f'{JOB_NAME}_params.tsv'\n",
    "%env PARAMETER_FILENAME={PARAMETER_FILENAME}\n",
    "\n",
    "params_df.to_csv(PARAMETER_FILENAME, sep='\\t', index=False)\n",
    "\n",
    "job_id = !source ~/aou_dsub.bash; aou_dsub \\\n",
    "  --name \"${JOB_NAME}\" \\\n",
    "  --provider google-cls-v2 \\\n",
    "  --image \"gcr.io/ritchie-aou-psom-9015/plink2:latest\" \\\n",
    "  --logging \"${WORKSPACE_BUCKET}/dsub_logs/AD_GWAS/pca/\" \\\n",
    "  --mount BUCKET=\"${WORKSPACE_BUCKET}\" \\\n",
    "  --disk-size 40 \\\n",
    "  --tasks \"${PARAMETER_FILENAME}\" \\\n",
    "  --command 'plink2 --bfile $BUCKET/AD_GWAS/PCA/input/AOU.AD.${ANCESTRY}.freq_qc \\\n",
    "              --autosome \\\n",
    "              --indep-pairwise 150 5 ${R2} \\\n",
    "              --out ${OUTPUT_DIR}/AOU.AD.${ANCESTRY}.ld_pruned'\n",
    "\n",
    "print(\"\\n\".join(job_id))\n",
    "job_id = job_id[1].split(\" \")[-1]\n",
    "%env JOB_ID={job_id}"
   ]
  },
  {
   "cell_type": "markdown",
   "metadata": {},
   "source": [
    "### check job status"
   ]
  },
  {
   "cell_type": "code",
   "execution_count": null,
   "metadata": {},
   "outputs": [],
   "source": [
    "!dstat \\\n",
    "    --provider google-cls-v2 \\\n",
    "    --project \"$GOOGLE_PROJECT\" \\\n",
    "    --location us-central1 \\\n",
    "    --jobs \"${JOB_ID}\" \\\n",
    "    --users \"${USER_NAME}\" \\\n",
    "    --status '*'"
   ]
  },
  {
   "cell_type": "markdown",
   "metadata": {},
   "source": [
    "## extract pruned variants"
   ]
  },
  {
   "cell_type": "markdown",
   "metadata": {},
   "source": [
    "### submit jobs"
   ]
  },
  {
   "cell_type": "code",
   "execution_count": null,
   "metadata": {},
   "outputs": [],
   "source": [
    "USER_NAME = os.getenv('OWNER_EMAIL').split('@')[0].replace('.','-')\n",
    "%env USER_NAME={USER_NAME}\n",
    "JOB_NAME=f'ld_prune_extract-{USER_NAME}'\n",
    "%env JOB_NAME={JOB_NAME}\n",
    "\n",
    "params_df = pd.DataFrame(data={\n",
    "    '--env ANCESTRY': ['EUR','ALL'],\n",
    "    '--output-recursive OUTPUT_DIR': [f\"{bucket}/AD_GWAS/PCA/input\" for _ in range(2)]\n",
    "})\n",
    "\n",
    "PARAMETER_FILENAME = f'{JOB_NAME}_params.tsv'\n",
    "%env PARAMETER_FILENAME={PARAMETER_FILENAME}\n",
    "\n",
    "params_df.to_csv(PARAMETER_FILENAME, sep='\\t', index=False)\n",
    "\n",
    "job_id = !source ~/aou_dsub.bash; aou_dsub \\\n",
    "  --name \"${JOB_NAME}\" \\\n",
    "  --provider google-cls-v2 \\\n",
    "  --image \"gcr.io/ritchie-aou-psom-9015/plink2:latest\" \\\n",
    "  --logging \"${WORKSPACE_BUCKET}/dsub_logs/AD_GWAS/pca/\" \\\n",
    "  --mount BUCKET=\"${WORKSPACE_BUCKET}\" \\\n",
    "  --disk-size 40 \\\n",
    "  --tasks \"${PARAMETER_FILENAME}\" \\\n",
    "  --command 'plink2 --bfile $BUCKET/AD_GWAS/PCA/input/AOU.AD.${ANCESTRY}.freq_qc \\\n",
    "              --extract $BUCKET/AD_GWAS/PCA/input/AOU.AD.${ANCESTRY}.ld_pruned.prune.in \\\n",
    "              --make-bed \\\n",
    "              --out ${OUTPUT_DIR}/AOU.AD.${ANCESTRY}.ld_pruned'\n",
    "\n",
    "print(\"\\n\".join(job_id))\n",
    "job_id = job_id[1].split(\" \")[-1]\n",
    "%env JOB_ID={job_id}"
   ]
  },
  {
   "cell_type": "markdown",
   "metadata": {},
   "source": [
    "### check job status"
   ]
  },
  {
   "cell_type": "code",
   "execution_count": null,
   "metadata": {},
   "outputs": [],
   "source": [
    "!dstat \\\n",
    "    --provider google-cls-v2 \\\n",
    "    --project \"$GOOGLE_PROJECT\" \\\n",
    "    --location us-central1 \\\n",
    "    --jobs \"${JOB_ID}\" \\\n",
    "    --users \"${USER_NAME}\" \\\n",
    "    --status '*'"
   ]
  },
  {
   "cell_type": "markdown",
   "metadata": {},
   "source": [
    "## make convertf file"
   ]
  },
  {
   "cell_type": "code",
   "execution_count": null,
   "metadata": {},
   "outputs": [],
   "source": [
    "%%bash\n",
    "BUCKET=\"fc-secure-xxxx\"\n",
    "for ANCESTRY in EUR ALL\n",
    "do\n",
    "\n",
    "echo ${ANCESTRY}\n",
    "genotypename=\"/mnt/data/mount/gs/${BUCKET}/AD_GWAS/PCA/input/AOU.AD.${ANCESTRY}.ld_pruned.bed\"\n",
    "snpname=\"/mnt/data/mount/gs/${BUCKET}/AD_GWAS/PCA/input/AOU.AD.${ANCESTRY}.ld_pruned.bim\"\n",
    "indivname=\"/mnt/data/mount/gs/${BUCKET}/AD_GWAS/PCA/input/AOU.AD.${ANCESTRY}.ld_pruned.fam\"\n",
    "outputformat=\"EIGENSTRAT\"\n",
    "genotypeoutname=\"/mnt/data/output/gs/${BUCKET}/AD_GWAS/PCA/input/AOU.AD.${ANCESTRY}.PCA_input.eigenstratgeno\"\n",
    "snpoutname=\"/mnt/data/output/gs/${BUCKET}/AD_GWAS/PCA/input/AOU.AD.${ANCESTRY}.PCA_input.snp\"\n",
    "indivoutname=\"/mnt/data/output/gs/${BUCKET}/AD_GWAS/PCA/input/AOU.AD.${ANCESTRY}.PCA_input.ind\" && \\\n",
    "\n",
    "echo \"genotypename:    $genotypename\" > convertf.${ANCESTRY}.par\n",
    "echo \"snpname:         $snpname\" >> convertf.${ANCESTRY}.par\n",
    "echo \"indivname:       $indivname\" >> convertf.${ANCESTRY}.par\n",
    "echo \"outputformat:    $outputformat\" >> convertf.${ANCESTRY}.par\n",
    "echo \"genotypeoutname: $genotypeoutname\" >> convertf.${ANCESTRY}.par\n",
    "echo \"snpoutname:      $snpoutname\" >> convertf.${ANCESTRY}.par\n",
    "echo \"indivoutname:    $indivoutname\" >> convertf.${ANCESTRY}.par\n",
    "\n",
    "cat convertf.${ANCESTRY}.par\n",
    "gsutil cp convertf.${ANCESTRY}.par ${WORKSPACE_BUCKET}/AD_GWAS/PCA/input/\n",
    "echo \" \"\n",
    "done"
   ]
  },
  {
   "cell_type": "markdown",
   "metadata": {},
   "source": [
    "## convert plink to eigenstrat format"
   ]
  },
  {
   "cell_type": "markdown",
   "metadata": {},
   "source": [
    "### submit job"
   ]
  },
  {
   "cell_type": "code",
   "execution_count": null,
   "metadata": {},
   "outputs": [],
   "source": [
    "USER_NAME = os.getenv('OWNER_EMAIL').split('@')[0].replace('.','-')\n",
    "%env USER_NAME={USER_NAME}\n",
    "JOB_NAME=f'convertf-{USER_NAME}'\n",
    "%env JOB_NAME={JOB_NAME}\n",
    "\n",
    "params_df = pd.DataFrame(data={\n",
    "    '--env ANCESTRY': ['EUR', 'ALL'],\n",
    "    '--output-recursive OUTPUT_DIR': [f\"{bucket}/AD_GWAS/PCA/input/\" for _ in range(2)]\n",
    "})\n",
    "\n",
    "PARAMETER_FILENAME = f'{JOB_NAME}_params.tsv'\n",
    "%env PARAMETER_FILENAME={PARAMETER_FILENAME}\n",
    "\n",
    "params_df.to_csv(PARAMETER_FILENAME, sep='\\t', index=False)\n",
    "\n",
    "job_id = !source ~/aou_dsub.bash; aou_dsub \\\n",
    "  --name \"${JOB_NAME}\" \\\n",
    "  --provider google-cls-v2 \\\n",
    "  --image \"gcr.io/ritchie-aou-psom-9015/eigenstrat:latest\" \\\n",
    "  --logging \"${WORKSPACE_BUCKET}/dsub_logs/AD_GWAS/pca/\" \\\n",
    "  --mount BUCKET=\"${WORKSPACE_BUCKET}\" \\\n",
    "  --disk-size 15 \\\n",
    "  --min-ram 8 \\\n",
    "  --tasks \"${PARAMETER_FILENAME}\" \\\n",
    "  --command 'convertf -p $BUCKET/AD_GWAS/PCA/input/convertf.${ANCESTRY}.par'\n",
    "\n",
    "print(\"\\n\".join(job_id))\n",
    "job_id = job_id[1].split(\" \")[-1]\n",
    "%env JOB_ID={job_id}"
   ]
  },
  {
   "cell_type": "markdown",
   "metadata": {},
   "source": [
    "### check job status"
   ]
  },
  {
   "cell_type": "code",
   "execution_count": null,
   "metadata": {},
   "outputs": [],
   "source": [
    "!dstat \\\n",
    "    --provider google-cls-v2 \\\n",
    "    --project \"$GOOGLE_PROJECT\" \\\n",
    "    --location us-central1 \\\n",
    "    --jobs \"${JOB_ID}\" \\\n",
    "    --users \"${USER_NAME}\" \\\n",
    "    --status '*'"
   ]
  },
  {
   "cell_type": "markdown",
   "metadata": {},
   "source": [
    "## make smartPCA par file"
   ]
  },
  {
   "cell_type": "code",
   "execution_count": null,
   "metadata": {},
   "outputs": [],
   "source": [
    "%%bash\n",
    "BUCKET=\"fc-secure-xxxx\"\n",
    "for ANCESTRY in EUR ALL\n",
    "do\n",
    "\n",
    "echo ${ANCESTRY}\n",
    "genotypename=\"/mnt/data/mount/gs/${BUCKET}/AD_GWAS/PCA/input/AOU.AD.${ANCESTRY}.PCA_input.eigenstratgeno\"\n",
    "snpname=\"/mnt/data/mount/gs/${BUCKET}/AD_GWAS/PCA/input/AOU.AD.${ANCESTRY}.PCA_input.snp\"\n",
    "indivname=\"/mnt/data/mount/gs/${BUCKET}/AD_GWAS/PCA/input/AOU.AD.${ANCESTRY}.PCA_input.ind\"\n",
    "evecoutname=\"/mnt/data/output/gs/${BUCKET}/AD_GWAS/PCA/output/AOU.AD.${ANCESTRY}.PCA.eigenvec\"\n",
    "evaloutname=\"/mnt/data/output/gs/${BUCKET}/AD_GWAS/PCA/output/AOU.AD.${ANCESTRY}.PCA.eigenval\"\n",
    "numoutevec=\"20\"\n",
    "numoutlieriter=\"0\"\n",
    "altnormstyle=\"NO\"\n",
    "fastmode=\"YES\"\n",
    "numthreads=\"16\"\n",
    "\n",
    "echo \"genotypename:    $genotypename\" > smartPCA.${ANCESTRY}.par\n",
    "echo \"snpname:         $snpname\" >> smartPCA.${ANCESTRY}.par\n",
    "echo \"indivname:       $indivname\" >> smartPCA.${ANCESTRY}.par\n",
    "echo \"evecoutname:     $evecoutname\" >> smartPCA.${ANCESTRY}.par\n",
    "echo \"evaloutname:     $evaloutname\" >> smartPCA.${ANCESTRY}.par\n",
    "echo \"numoutevec:      $numoutevec\" >> smartPCA.${ANCESTRY}.par\n",
    "echo \"numoutlieriter:  $numoutlieriter\" >> smartPCA.${ANCESTRY}.par\n",
    "echo \"altnormstyle:    $altnormstyle\" >> smartPCA.${ANCESTRY}.par\n",
    "echo \"fastmode:        $fastmode\" >> smartPCA.${ANCESTRY}.par\n",
    "echo \"numthreads:      $numthreads\" >> smartPCA.${ANCESTRY}.par\n",
    "\n",
    "cat smartPCA.${ANCESTRY}.par\n",
    "gsutil cp smartPCA.${ANCESTRY}.par ${WORKSPACE_BUCKET}/AD_GWAS/PCA/input/\n",
    "echo \" \"\n",
    "done"
   ]
  },
  {
   "cell_type": "markdown",
   "metadata": {},
   "source": [
    "## run smartPCA"
   ]
  },
  {
   "cell_type": "markdown",
   "metadata": {},
   "source": [
    "### submit job"
   ]
  },
  {
   "cell_type": "code",
   "execution_count": null,
   "metadata": {},
   "outputs": [],
   "source": [
    "USER_NAME = os.getenv('OWNER_EMAIL').split('@')[0].replace('.','-')\n",
    "%env USER_NAME={USER_NAME}\n",
    "JOB_NAME=f'pca-{USER_NAME}'\n",
    "%env JOB_NAME={JOB_NAME}\n",
    "\n",
    "params_df = pd.DataFrame(data={\n",
    "    '--env ANCESTRY': ['EUR','ALL'],\n",
    "    '--output EIGENVEC': [f\"{bucket}/AD_GWAS/PCA/output/AOU.AD.{x}.PCA.eigenvec\" for x in ['EUR','ALL']]\n",
    "})\n",
    "\n",
    "PARAMETER_FILENAME = f'{JOB_NAME}_params.tsv'\n",
    "%env PARAMETER_FILENAME={PARAMETER_FILENAME}\n",
    "\n",
    "params_df.to_csv(PARAMETER_FILENAME, sep='\\t', index=False)\n",
    "\n",
    "job_id = !source ~/aou_dsub.bash; aou_dsub \\\n",
    "  --name \"${JOB_NAME}\" \\\n",
    "  --provider google-cls-v2 \\\n",
    "  --image \"gcr.io/ritchie-aou-psom-9015/eigenstrat:latest\" \\\n",
    "  --logging \"${WORKSPACE_BUCKET}/dsub_logs/pca/\" \\\n",
    "  --mount BUCKET=\"${WORKSPACE_BUCKET}\" \\\n",
    "  --disk-size 15 \\\n",
    "  --min-cores 16 \\\n",
    "  --min-ram 64 \\\n",
    "  --tasks \"${PARAMETER_FILENAME}\" \\\n",
    "  --command 'smartpca -p $BUCKET/AD_GWAS/PCA/input/smartPCA.${ANCESTRY}.par'\n",
    "\n",
    "print(\"\\n\".join(job_id))\n",
    "job_id = job_id[1].split(\" \")[-1]\n",
    "%env JOB_ID={job_id}"
   ]
  },
  {
   "cell_type": "markdown",
   "metadata": {},
   "source": [
    "### check job status"
   ]
  },
  {
   "cell_type": "code",
   "execution_count": null,
   "metadata": {},
   "outputs": [],
   "source": [
    "!dstat \\\n",
    "    --provider google-cls-v2 \\\n",
    "    --project \"$GOOGLE_PROJECT\" \\\n",
    "    --location us-central1 \\\n",
    "    --jobs \"${JOB_ID}\" \\\n",
    "    --users \"${USER_NAME}\" \\\n",
    "    --status '*'"
   ]
  },
  {
   "cell_type": "markdown",
   "metadata": {},
   "source": [
    "## clean PCA output"
   ]
  },
  {
   "cell_type": "code",
   "execution_count": null,
   "metadata": {},
   "outputs": [],
   "source": [
    "!gsutil cp $WORKSPACE_BUCKET/AD_GWAS/PCA/output/* ."
   ]
  },
  {
   "cell_type": "code",
   "execution_count": null,
   "metadata": {},
   "outputs": [],
   "source": [
    "%%bash\n",
    "for ANCESTRY in EUR ALL\n",
    "do\n",
    "awk 'NR>1' AOU.AD.${ANCESTRY}.PCA.eigenvec | sed 's/^.*0://g' | sed 's/ /,/g' | sed 's/,\\+/,/g' | sed 's/,???//g' | sed 's/,/\\t/g' > AOU.AD.${ANCESTRY}.PCA_cleaned.eigenvec\n",
    "gsutil cp AOU.AD.${ANCESTRY}.PCA_cleaned.eigenvec ${WORKSPACE_BUCKET}/AD_GWAS/PCA/output/\n",
    "done"
   ]
  },
  {
   "cell_type": "code",
   "execution_count": null,
   "metadata": {},
   "outputs": [],
   "source": [
    "%%bash\n",
    "for ANCESTRY in EUR ALL\n",
    "do\n",
    "head -n1 AOU.AD.${ANCESTRY}.PCA.eigenvec | sed 's/^.*://' | sed 's/^[ \\t]*//' | sed 's/ /,/g' | sed 's/,\\+/,/g' | sed 's/,$//' | tr ',' '\\n' > AOU.AD.${ANCESTRY}.PCA_cleaned.eigenval\n",
    "gsutil cp AOU.AD.${ANCESTRY}.PCA_cleaned.eigenval ${WORKSPACE_BUCKET}/AD_GWAS/PCA/output/\n",
    "done"
   ]
  },
  {
   "cell_type": "markdown",
   "metadata": {},
   "source": [
    "# GWAS QC"
   ]
  },
  {
   "cell_type": "markdown",
   "metadata": {},
   "source": [
    "## initial QC"
   ]
  },
  {
   "cell_type": "markdown",
   "metadata": {},
   "source": [
    "### submit job"
   ]
  },
  {
   "cell_type": "code",
   "execution_count": null,
   "metadata": {},
   "outputs": [],
   "source": [
    "import os\n",
    "import pandas as pd\n",
    "bucket=os.getenv('WORKSPACE_BUCKET')\n",
    "USER_NAME = os.getenv('OWNER_EMAIL').split('@')[0].replace('.','-')\n",
    "%env USER_NAME={USER_NAME}\n",
    "JOB_NAME=f'inital_qc-{USER_NAME}'\n",
    "%env JOB_NAME={JOB_NAME}\n",
    "\n",
    "params_df = pd.DataFrame(data={\n",
    "    '--input PSAM': [f\"gs://fc-aou-datasets-controlled/v8/wgs/short_read/snpindel/acaf_threshold/pgen/acaf_threshold.chr{x}.psam\" for x in list(range(1,23))*2],\n",
    "    '--input PVAR': [f\"gs://fc-aou-datasets-controlled/v8/wgs/short_read/snpindel/acaf_threshold/pgen/acaf_threshold.chr{x}.pvar\" for x in list(range(1,23))*2],\n",
    "    '--input PGEN': [f\"gs://fc-aou-datasets-controlled/v8/wgs/short_read/snpindel/acaf_threshold/pgen/acaf_threshold.chr{x}.pgen\" for x in list(range(1,23))*2],\n",
    "    '--input SAMPLE_LIST': [f\"{bucket}/AD_GWAS/GWAS/input/AOU.AD.{x}.postPCA_QC.sample_list.txt\" for x in ['EUR'] * 22 + ['ALL'] * 22],\n",
    "    '--env ANCESTRY': ['EUR'] * 22 + ['ALL'] * 22,\n",
    "    '--env CHR': list(range(1,23))*2,\n",
    "    '--output-recursive OUTPUT_DIR': [f\"{bucket}/AD_GWAS/GWAS_QC/output/\" for _ in range(44)]\n",
    "})\n",
    "\n",
    "PARAMETER_FILENAME = f'{JOB_NAME}_params.tsv'\n",
    "%env PARAMETER_FILENAME={PARAMETER_FILENAME}\n",
    "\n",
    "params_df.to_csv(PARAMETER_FILENAME, sep='\\t', index=False)\n",
    "\n",
    "job_id = !source ~/aou_dsub.bash; aou_dsub \\\n",
    "  --name \"${JOB_NAME}\" \\\n",
    "  --provider google-cls-v2 \\\n",
    "  --image \"gcr.io/ritchie-aou-psom-9015/plink2:latest\" \\\n",
    "  --logging \"${WORKSPACE_BUCKET}/dsub_logs/AD_GWAS/plink_qc/\" \\\n",
    "  --disk-size 160 \\\n",
    "  --tasks \"${PARAMETER_FILENAME}\" \\\n",
    "  --command 'plink2 --psam ${PSAM} \\\n",
    "              --pvar ${PVAR} \\\n",
    "              --pgen ${PGEN} \\\n",
    "              --keep ${SAMPLE_LIST} \\\n",
    "              --geno 0.05 dosage \\\n",
    "              --max-alleles 2 \\\n",
    "              --snps-only \\\n",
    "              --make-pgen \\\n",
    "              --out ${OUTPUT_DIR}/AOU.AD.${ANCESTRY}.initial_qc.chr${CHR}'\n",
    "\n",
    "print(\"\\n\".join(job_id))\n",
    "job_id = job_id[1].split(\" \")[-1]\n",
    "%env JOB_ID={job_id}"
   ]
  },
  {
   "cell_type": "markdown",
   "metadata": {},
   "source": [
    "### check job status"
   ]
  },
  {
   "cell_type": "code",
   "execution_count": null,
   "metadata": {},
   "outputs": [],
   "source": [
    "!dstat \\\n",
    "    --provider google-cls-v2 \\\n",
    "    --project \"$GOOGLE_PROJECT\" \\\n",
    "    --location us-central1 \\\n",
    "    --jobs \"${JOB_ID}\" \\\n",
    "    --users \"${USER_NAME}\" \\\n",
    "    --status '*'"
   ]
  },
  {
   "cell_type": "markdown",
   "metadata": {},
   "source": [
    "## filter based on maf"
   ]
  },
  {
   "cell_type": "markdown",
   "metadata": {},
   "source": [
    "### check size of files to identify disk size"
   ]
  },
  {
   "cell_type": "code",
   "execution_count": null,
   "metadata": {},
   "outputs": [],
   "source": [
    "!gsutil ls -lh ${WORKSPACE_BUCKET}/AD_GWAS/GWAS_QC/output/*initial_qc*"
   ]
  },
  {
   "cell_type": "markdown",
   "metadata": {},
   "source": [
    "### submit jobs"
   ]
  },
  {
   "cell_type": "code",
   "execution_count": null,
   "metadata": {},
   "outputs": [],
   "source": [
    "import os\n",
    "import pandas as pd\n",
    "bucket=os.getenv('WORKSPACE_BUCKET')\n",
    "USER_NAME = os.getenv('OWNER_EMAIL').split('@')[0].replace('.','-')\n",
    "%env USER_NAME={USER_NAME}\n",
    "JOB_NAME=f'freq_qc-{USER_NAME}'\n",
    "%env JOB_NAME={JOB_NAME}\n",
    "\n",
    "params_df = pd.DataFrame(data={\n",
    "    '--env ANCESTRY': ['EUR'] * 22 + ['ALL'] * 22,\n",
    "    '--env CHR': list(range(1, 23))*2,\n",
    "    '--output-recursive OUTPUT_DIR': [f\"{bucket}/AD_GWAS/GWAS_QC/output/\" for _ in range(44)]\n",
    "})\n",
    "\n",
    "PARAMETER_FILENAME = f'{JOB_NAME}_params.tsv'\n",
    "%env PARAMETER_FILENAME={PARAMETER_FILENAME}\n",
    "\n",
    "params_df.to_csv(PARAMETER_FILENAME, sep='\\t', index=False)\n",
    "\n",
    "job_id = !source ~/aou_dsub.bash; aou_dsub \\\n",
    "  --name \"${JOB_NAME}\" \\\n",
    "  --provider google-cls-v2 \\\n",
    "  --image \"gcr.io/ritchie-aou-psom-9015/plink2:latest\" \\\n",
    "  --logging \"${WORKSPACE_BUCKET}/dsub_logs/AD_GWAS/plink_qc/\" \\\n",
    "  --mount BUCKET=\"${WORKSPACE_BUCKET}\" \\\n",
    "  --disk-size 20 \\\n",
    "  --tasks \"${PARAMETER_FILENAME}\" \\\n",
    "  --command 'plink2 --pfile $BUCKET/AD_GWAS/GWAS_QC/output/AOU.AD.${ANCESTRY}.initial_qc.chr${CHR} \\\n",
    "              --maf 0.05 \\\n",
    "              --set-all-var-ids chr@:#:\\$r:\\$a \\\n",
    "              --make-bed \\\n",
    "              --out ${OUTPUT_DIR}/AOU.AD.${ANCESTRY}.freq_qc.chr${CHR}'\n",
    "\n",
    "print(\"\\n\".join(job_id))\n",
    "job_id = job_id[1].split(\" \")[-1]\n",
    "%env JOB_ID={job_id}"
   ]
  },
  {
   "cell_type": "markdown",
   "metadata": {},
   "source": [
    "### check job status"
   ]
  },
  {
   "cell_type": "code",
   "execution_count": null,
   "metadata": {},
   "outputs": [],
   "source": [
    "!dstat \\\n",
    "    --provider google-cls-v2 \\\n",
    "    --project \"$GOOGLE_PROJECT\" \\\n",
    "    --location us-central1 \\\n",
    "    --jobs \"${JOB_ID}\" \\\n",
    "    --users \"${USER_NAME}\" \\\n",
    "    --status '*'"
   ]
  },
  {
   "cell_type": "markdown",
   "metadata": {},
   "source": [
    "# SAIGE Step 1"
   ]
  },
  {
   "cell_type": "markdown",
   "metadata": {},
   "source": [
    "### check size of files to identify disk size"
   ]
  },
  {
   "cell_type": "code",
   "execution_count": null,
   "metadata": {},
   "outputs": [],
   "source": [
    "!gsutil ls -lh ${WORKSPACE_BUCKET}/AD_GWAS/PCA/input/*ld_pruned*"
   ]
  },
  {
   "cell_type": "markdown",
   "metadata": {},
   "source": [
    "### submit jobs"
   ]
  },
  {
   "cell_type": "code",
   "execution_count": null,
   "metadata": {},
   "outputs": [],
   "source": [
    "import os\n",
    "import pandas as pd\n",
    "bucket = os.getenv(\"WORKSPACE_BUCKET\")\n",
    "\n",
    "USER_NAME = os.getenv('OWNER_EMAIL').split('@')[0].replace('.','-')\n",
    "%env USER_NAME={USER_NAME}\n",
    "JOB_NAME=f'step1-{USER_NAME}'\n",
    "%env JOB_NAME={JOB_NAME}\n",
    "\n",
    "params_df = pd.DataFrame(data={\n",
    "    '--env ANCESTRY': ['EUR', 'ALL'],\n",
    "    '--env PC': ['PC1, PC2, PC3'] + ['PC1, PC2, PC3, PC4'],\n",
    "    '--output-recursive OUTPUT_DIR': [f\"{bucket}/AD_GWAS/SAIGE/step1/\" for _ in range(2)]\n",
    "})\n",
    "\n",
    "PARAMETER_FILENAME = f'{JOB_NAME}_params.tsv'\n",
    "%env PARAMETER_FILENAME={PARAMETER_FILENAME}\n",
    "\n",
    "params_df.to_csv(PARAMETER_FILENAME, sep='\\t', index=False)\n",
    "\n",
    "job_id = !source ~/aou_dsub.bash; aou_dsub \\\n",
    "  --name \"${JOB_NAME}\" \\\n",
    "  --provider google-cls-v2 \\\n",
    "  --image \"gcr.io/ritchie-aou-psom-9015/saige:latest\" \\\n",
    "  --logging \"${WORKSPACE_BUCKET}/dsub_logs/AD_GWAS/saige/\" \\\n",
    "  --mount BUCKET=\"${WORKSPACE_BUCKET}\" \\\n",
    "  --disk-size 7 \\\n",
    "  --min-ram 15 \\\n",
    "  --tasks \"${PARAMETER_FILENAME}\" \\\n",
    "  --command 'step1_fitNULLGLMM.R \\\n",
    "              --plinkFile=$BUCKET/AD_GWAS/PCA/input/AOU.AD.${ANCESTRY}.ld_pruned \\\n",
    "              --phenoFile=$BUCKET/AD_GWAS/GWAS/input/AOU.AD.${ANCESTRY}.phenotype_covariates.txt \\\n",
    "              --phenoCol=AD \\\n",
    "              --covarColList=AGE,sex_at_birth,${PC} \\\n",
    "              --qCovarColList=sex_at_birth \\\n",
    "              --sampleIDColinphenoFile=person_id \\\n",
    "              --traitType=binary \\\n",
    "              --nThreads=10 \\\n",
    "              --IsOverwriteVarianceRatioFile=TRUE \\\n",
    "              --outputPrefix=${OUTPUT_DIR}/AOU.AD.${ANCESTRY}.saige_step1'\n",
    "\n",
    "print(\"\\n\".join(job_id))\n",
    "job_id = job_id[1].split(\" \")[-1]\n",
    "%env JOB_ID={job_id}"
   ]
  },
  {
   "cell_type": "markdown",
   "metadata": {},
   "source": [
    "### check job status"
   ]
  },
  {
   "cell_type": "code",
   "execution_count": null,
   "metadata": {},
   "outputs": [],
   "source": [
    "!dstat \\\n",
    "    --provider google-cls-v2 \\\n",
    "    --project \"$GOOGLE_PROJECT\" \\\n",
    "    --location us-central1 \\\n",
    "    --jobs \"${JOB_ID}\" \\\n",
    "    --users \"${USER_NAME}\" \\\n",
    "    --status '*'"
   ]
  },
  {
   "cell_type": "markdown",
   "metadata": {},
   "source": [
    "# SAIGE Step 2"
   ]
  },
  {
   "cell_type": "markdown",
   "metadata": {},
   "source": [
    "### check size of files to identify disk size"
   ]
  },
  {
   "cell_type": "code",
   "execution_count": null,
   "metadata": {},
   "outputs": [],
   "source": [
    "!gsutil ls -lh ${WORKSPACE_BUCKET}/AD_GWAS/GWAS_QC/output/*freq_qc* | head"
   ]
  },
  {
   "cell_type": "markdown",
   "metadata": {},
   "source": [
    "### submit jobs"
   ]
  },
  {
   "cell_type": "code",
   "execution_count": null,
   "metadata": {},
   "outputs": [],
   "source": [
    "import os\n",
    "import pandas as pd\n",
    "bucket = os.getenv(\"WORKSPACE_BUCKET\")\n",
    "\n",
    "USER_NAME = os.getenv('OWNER_EMAIL').split('@')[0].replace('.','-')\n",
    "%env USER_NAME={USER_NAME}\n",
    "JOB_NAME=f'step2-{USER_NAME}'\n",
    "%env JOB_NAME={JOB_NAME}\n",
    "\n",
    "params_df = pd.DataFrame(data={\n",
    "    '--env ANCESTRY': ['EUR'] * 22 + ['ALL'] * 22,\n",
    "    '--env CHR': list(range(1, 23))*2,\n",
    "    '--output-recursive OUTPUT_DIR': [f\"{bucket}/AD_GWAS/SAIGE/step2/\" for _ in range(44)]\n",
    "})\n",
    "\n",
    "PARAMETER_FILENAME = f'{JOB_NAME}_params.tsv'\n",
    "%env PARAMETER_FILENAME={PARAMETER_FILENAME}\n",
    "\n",
    "params_df.to_csv(PARAMETER_FILENAME, sep='\\t', index=False)\n",
    "\n",
    "job_id = !source ~/aou_dsub.bash; aou_dsub \\\n",
    "  --name \"${JOB_NAME}\" \\\n",
    "  --provider google-cls-v2 \\\n",
    "  --image \"gcr.io/ritchie-aou-psom-9015/saige:latest\" \\\n",
    "  --logging \"${WORKSPACE_BUCKET}/dsub_logs/AD_GWAS/saige/\" \\\n",
    "  --mount BUCKET=\"${WORKSPACE_BUCKET}\" \\\n",
    "  --disk-size 20 \\\n",
    "  --min-ram 15 \\\n",
    "  --tasks \"${PARAMETER_FILENAME}\" \\\n",
    "  --command 'step2_SPAtests.R \\\n",
    "              --bedFile=$BUCKET/AD_GWAS/GWAS_QC/output/AOU.AD.${ANCESTRY}.freq_qc.chr${CHR}.bed \\\n",
    "              --bimFile=$BUCKET/AD_GWAS/GWAS_QC/output/AOU.AD.${ANCESTRY}.freq_qc.chr${CHR}.bim \\\n",
    "              --famFile=$BUCKET/AD_GWAS/GWAS_QC/output/AOU.AD.${ANCESTRY}.freq_qc.chr${CHR}.fam \\\n",
    "              --GMMATmodelFile=$BUCKET/AD_GWAS/SAIGE/step1/AOU.AD.${ANCESTRY}.saige_step1.rda \\\n",
    "              --varianceRatioFile=$BUCKET/AD_GWAS/SAIGE/step1/AOU.AD.${ANCESTRY}.saige_step1.varianceRatio.txt \\\n",
    "              --minMAC=20 \\\n",
    "              --LOCO=TRUE \\\n",
    "              --chrom=${CHR} \\\n",
    "              --is_Firth_beta=TRUE \\\n",
    "              --pCutoffforFirth=0.05 \\\n",
    "              --is_output_moreDetails=TRUE \\\n",
    "              --SAIGEOutputFile=${OUTPUT_DIR}/AOU.AD.${ANCESTRY}.chr${CHR}'\n",
    "\n",
    "print(\"\\n\".join(job_id))\n",
    "job_id = job_id[1].split(\" \")[-1]\n",
    "%env JOB_ID={job_id}"
   ]
  },
  {
   "cell_type": "markdown",
   "metadata": {},
   "source": [
    "### check job status"
   ]
  },
  {
   "cell_type": "code",
   "execution_count": null,
   "metadata": {},
   "outputs": [],
   "source": [
    "!dstat \\\n",
    "    --provider google-cls-v2 \\\n",
    "    --project \"$GOOGLE_PROJECT\" \\\n",
    "    --location us-central1 \\\n",
    "    --jobs \"${JOB_ID}\" \\\n",
    "    --users \"${USER_NAME}\" \\\n",
    "    --status '*'"
   ]
  },
  {
   "cell_type": "markdown",
   "metadata": {},
   "source": [
    "# concatenate outputs"
   ]
  },
  {
   "cell_type": "markdown",
   "metadata": {},
   "source": [
    "### copy locally"
   ]
  },
  {
   "cell_type": "code",
   "execution_count": null,
   "metadata": {},
   "outputs": [],
   "source": [
    "!gsutil cp ${WORKSPACE_BUCKET}/AD_GWAS/SAIGE/step2/AOU.AD.*.chr* ."
   ]
  },
  {
   "cell_type": "markdown",
   "metadata": {},
   "source": [
    "### remove headers from all files"
   ]
  },
  {
   "cell_type": "code",
   "execution_count": null,
   "metadata": {},
   "outputs": [],
   "source": [
    "%%bash\n",
    "for ANCESTRY in EUR ALL\n",
    "do\n",
    "for CHR in $(seq 1 22)\n",
    "do\n",
    "awk 'NR>1' \"AOU.AD.\"$ANCESTRY\".chr\"$CHR > \"AOU.AD.\"$ANCESTRY\".chr\"$CHR\".saige_step2.txt.no_header\"\n",
    "done\n",
    "done"
   ]
  },
  {
   "cell_type": "markdown",
   "metadata": {},
   "source": [
    "### make header file"
   ]
  },
  {
   "cell_type": "code",
   "execution_count": null,
   "metadata": {},
   "outputs": [],
   "source": [
    "%%bash\n",
    "head -n1 AOU.AD.ALL.chr22 > header\n",
    "for ANCESTRY in EUR ALL\n",
    "do\n",
    "cat header AOU.AD.${ANCESTRY}.chr*.saige_step2.txt.no_header > AOU.AD.${ANCESTRY}.all_chr.saige_step2.txt\n",
    "gsutil cp AOU.AD.${ANCESTRY}.all_chr.saige_step2.txt ${WORKSPACE_BUCKET}/AD_GWAS/SAIGE/step2/\n",
    "done"
   ]
  },
  {
   "cell_type": "markdown",
   "metadata": {},
   "source": [
    "### concatenate into 2 files so they are <100 MB for download"
   ]
  },
  {
   "cell_type": "code",
   "execution_count": null,
   "metadata": {},
   "outputs": [],
   "source": [
    "%%bash\n",
    "for ANCESTRY in EUR ALL\n",
    "do\n",
    "cut -f6,7,16,17,18,19,20,21,22,23 --complement AOU.AD.${ANCESTRY}.all_chr.saige_step2.txt  > AOU.AD.${ANCESTRY}.all_chr.saige_step2.for_export.txt\n",
    "linecount=$(wc -l AOU.AD.${ANCESTRY}.all_chr.saige_step2.for_export.txt | cut -d ' ' -f1)\n",
    "echo $linecount\n",
    "half=$(($linecount / 2))\n",
    "echo $half\n",
    "if (( $linecount % 2 == 1 )); then\n",
    "    half_plus_one=$(($half +1))\n",
    "    head -n $half_plus_one AOU.AD.${ANCESTRY}.all_chr.saige_step2.for_export.txt > AOU.AD.${ANCESTRY}.all_chr.saige_step2.for_export.pt1.txt\n",
    "    tail -n $half AOU.AD.${ANCESTRY}.all_chr.saige_step2.for_export.txt > AOU.AD.${ANCESTRY}.all_chr.saige_step2.for_export.pt2.txt\n",
    "else\n",
    "    head -n $half AOU.AD.${ANCESTRY}.all_chr.saige_step2.for_export.txt > AOU.AD.${ANCESTRY}.all_chr.saige_step2.for_export.pt1.txt\n",
    "    tail -n $half AOU.AD.${ANCESTRY}.all_chr.saige_step2.for_export.txt > AOU.AD.${ANCESTRY}.all_chr.saige_step2.for_export.pt2.txt\n",
    "fi\n",
    "wc -l AOU.AD.${ANCESTRY}.all_chr.saige_step2.for_export.pt1.txt\n",
    "wc -l AOU.AD.${ANCESTRY}.all_chr.saige_step2.for_export.pt2.txt\n",
    "done"
   ]
  },
  {
   "cell_type": "markdown",
   "metadata": {},
   "source": [
    "### compress and check file size"
   ]
  },
  {
   "cell_type": "code",
   "execution_count": null,
   "metadata": {},
   "outputs": [],
   "source": [
    "%%bash\n",
    "for ANCESTRY in EUR ALL\n",
    "do\n",
    "gzip AOU.AD.${ANCESTRY}.all_chr.saige_step2.for_export.pt1.txt\n",
    "gzip AOU.AD.${ANCESTRY}.all_chr.saige_step2.for_export.pt2.txt\n",
    "ls -lh AOU.AD.${ANCESTRY}.all_chr.saige_step2.for_export.pt1.txt.gz\n",
    "ls -lh AOU.AD.${ANCESTRY}.all_chr.saige_step2.for_export.pt2.txt.gz\n",
    "done"
   ]
  },
  {
   "cell_type": "markdown",
   "metadata": {},
   "source": [
    "### copy back to bucket for storage"
   ]
  },
  {
   "cell_type": "code",
   "execution_count": null,
   "metadata": {},
   "outputs": [],
   "source": [
    "%%bash\n",
    "for ANCESTRY in EUR ALL\n",
    "do\n",
    "gsutil cp AOU.AD.${ANCESTRY}.all_chr.saige_step2.for_export* ${WORKSPACE_BUCKET}/AD_GWAS/SAIGE/step2/\n",
    "done"
   ]
  },
  {
   "cell_type": "code",
   "execution_count": null,
   "metadata": {},
   "outputs": [],
   "source": []
  }
 ],
 "metadata": {
  "kernelspec": {
   "display_name": "Python 3",
   "language": "python",
   "name": "python3"
  },
  "language_info": {
   "codemirror_mode": {
    "name": "ipython",
    "version": 3
   },
   "file_extension": ".py",
   "mimetype": "text/x-python",
   "name": "python",
   "nbconvert_exporter": "python",
   "pygments_lexer": "ipython3",
   "version": "3.10.16"
  },
  "toc": {
   "base_numbering": 1,
   "nav_menu": {},
   "number_sections": true,
   "sideBar": true,
   "skip_h1_title": false,
   "title_cell": "Table of Contents",
   "title_sidebar": "Contents",
   "toc_cell": false,
   "toc_position": {},
   "toc_section_display": true,
   "toc_window_display": false
  }
 },
 "nbformat": 4,
 "nbformat_minor": 2
}

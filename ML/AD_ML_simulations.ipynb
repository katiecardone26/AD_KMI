{
 "cells": [
  {
   "cell_type": "markdown",
   "id": "c9a28c4e-09bf-475e-8a0b-ca59d43250da",
   "metadata": {},
   "source": [
    "# load python modules"
   ]
  },
  {
   "cell_type": "code",
   "execution_count": null,
   "id": "940b319f-1b2c-4812-94e8-89e651cf859e",
   "metadata": {},
   "outputs": [],
   "source": [
    "import pandas as pd"
   ]
  },
  {
   "cell_type": "code",
   "execution_count": null,
   "id": "d04862d2-7c13-4653-a29c-0312f3971218",
   "metadata": {},
   "outputs": [],
   "source": [
    "import numpy as np"
   ]
  },
  {
   "cell_type": "code",
   "execution_count": null,
   "id": "d6802114-7db4-4fc1-8038-b93dabdbd610",
   "metadata": {},
   "outputs": [],
   "source": [
    "from sklearn.model_selection import train_test_split"
   ]
  },
  {
   "cell_type": "code",
   "execution_count": null,
   "id": "507a342c-7f0d-4940-a5de-15bc946bd1e9",
   "metadata": {},
   "outputs": [],
   "source": [
    "from sklearn.linear_model import LogisticRegression"
   ]
  },
  {
   "cell_type": "code",
   "execution_count": null,
   "id": "ff4a7d29-eecb-4a5c-94ee-75b801323247",
   "metadata": {},
   "outputs": [],
   "source": [
    "from sklearn.metrics import roc_auc_score, average_precision_score, f1_score, balanced_accuracy_score"
   ]
  },
  {
   "cell_type": "markdown",
   "id": "9caf6107-0df7-4d52-9cdc-048f136579d0",
   "metadata": {},
   "source": [
    "# read in input files"
   ]
  },
  {
   "cell_type": "markdown",
   "id": "c9cc3348-e618-4d5c-ab98-cf84a3d618c3",
   "metadata": {},
   "source": [
    "## pheno"
   ]
  },
  {
   "cell_type": "code",
   "execution_count": null,
   "id": "6c217c52-6aa9-4375-8bf2-18cb92e14897",
   "metadata": {},
   "outputs": [],
   "source": [
    "adsp_pheno = pd.read_csv('adsp_filt_phenos/ADSPIntegratedPhenotypes_DS_2023.08.08.csv')\n",
    "print(len(adsp_pheno.index))\n",
    "adsp_pheno.head()"
   ]
  },
  {
   "cell_type": "code",
   "execution_count": null,
   "id": "8fbb4111-f3ca-4731-b8f6-83d402f8e9ed",
   "metadata": {},
   "outputs": [],
   "source": [
    "adsp_pheno_sample = pd.read_csv('input/ADSP_phenotype.80%_train.txt',\n",
    "                                sep = ' ')\n",
    "adsp_pheno_sample.head()"
   ]
  },
  {
   "cell_type": "markdown",
   "id": "5f826c31-185e-4a35-bd68-27c653f1792a",
   "metadata": {},
   "source": [
    "## id map"
   ]
  },
  {
   "cell_type": "code",
   "execution_count": null,
   "id": "2ef5c3a4-4ae1-40be-b387-e328d7a07ab0",
   "metadata": {},
   "outputs": [],
   "source": [
    "id_map = pd.read_csv('id_map/ADSP.ROSMAP.MSBB.id_map.txt',\n",
    "                      sep = '\\t')\n",
    "id_map.head()"
   ]
  },
  {
   "cell_type": "markdown",
   "id": "9e00bacc-0f71-46cc-a168-815a6623af9f",
   "metadata": {},
   "source": [
    "# clean pheno file"
   ]
  },
  {
   "cell_type": "code",
   "execution_count": null,
   "id": "9d6a7f42-1bb5-44c1-9d35-04b17c9e8613",
   "metadata": {},
   "outputs": [],
   "source": [
    "adsp_pheno_id = id_map.merge(adsp_pheno, on = 'SampleID', how = 'inner')\n",
    "adsp_pheno_id = adsp_pheno_id[['CommonID', 'DX_harmonized']]\n",
    "adsp_pheno_id.rename(columns = {'CommonID' : 'ID',\n",
    "                                'DX_harmonized' : 'AD'}, inplace = True)\n",
    "print(len(adsp_pheno_id.index))\n",
    "adsp_pheno_id.dropna(inplace = True)\n",
    "adsp_pheno_id.reset_index(drop = True, inplace = True)\n",
    "print(len(adsp_pheno_id.index))\n",
    "adsp_pheno_id.head()"
   ]
  },
  {
   "cell_type": "markdown",
   "id": "3a6c5c10-1a09-41d6-98e5-b7d3aa40ff6f",
   "metadata": {},
   "source": [
    "# define number of samples and features"
   ]
  },
  {
   "cell_type": "code",
   "execution_count": null,
   "id": "e5a72d17-c01f-422f-8349-ec2fafe65671",
   "metadata": {},
   "outputs": [],
   "source": [
    "n_samples = 22365\n",
    "n_samples"
   ]
  },
  {
   "cell_type": "code",
   "execution_count": null,
   "id": "7340392b-3563-4b87-869f-eeacfab4d94d",
   "metadata": {},
   "outputs": [],
   "source": [
    "n_features_100 = 100\n",
    "n_features_100"
   ]
  },
  {
   "cell_type": "code",
   "execution_count": null,
   "id": "417d7a8f-580f-4430-bf30-e9ae30b558d8",
   "metadata": {},
   "outputs": [],
   "source": [
    "n_features_2722 = 2722\n",
    "n_features_2722"
   ]
  },
  {
   "cell_type": "markdown",
   "id": "2363fb1e-31c0-4c8d-898c-87d5e50db3f6",
   "metadata": {},
   "source": [
    "# create negative control"
   ]
  },
  {
   "cell_type": "markdown",
   "id": "4e59921f-48d8-4c48-83a9-e6ec7a6fb27f",
   "metadata": {},
   "source": [
    "## 100 features"
   ]
  },
  {
   "cell_type": "code",
   "execution_count": null,
   "id": "f1cecedc-09c4-4607-8ad1-fe9d22e62d06",
   "metadata": {},
   "outputs": [],
   "source": [
    "neg_control_100_x = np.random.randn(n_samples, n_features_100)"
   ]
  },
  {
   "cell_type": "code",
   "execution_count": null,
   "id": "93b86b0f-14d9-4a07-b965-5aaf2b2d9959",
   "metadata": {},
   "outputs": [],
   "source": [
    "neg_control_100_x_df = pd.DataFrame(neg_control_100_x, columns=[f\"feature_{i}\" for i in range(n_features_100)])\n",
    "print(neg_control_100_x_df.shape)"
   ]
  },
  {
   "cell_type": "code",
   "execution_count": null,
   "id": "586f110f-aa8f-40cc-ae21-bb6b8b31997a",
   "metadata": {},
   "outputs": [],
   "source": [
    "neg_control_100 = pd.concat([adsp_pheno_sample, neg_control_100_x_df], axis = 1)\n",
    "print(neg_control_100.shape)\n",
    "neg_control_100.head()"
   ]
  },
  {
   "cell_type": "markdown",
   "id": "1e5095eb-6803-4df9-bc28-1ff9838c5568",
   "metadata": {},
   "source": [
    "## 2722 features"
   ]
  },
  {
   "cell_type": "code",
   "execution_count": null,
   "id": "8a5a3b27-6e56-47d3-a9ac-469a4b6da18d",
   "metadata": {},
   "outputs": [],
   "source": [
    "neg_control_2722_x = np.random.randn(n_samples, n_features_2722)"
   ]
  },
  {
   "cell_type": "code",
   "execution_count": null,
   "id": "32a474c4-32e3-4cfd-a0a5-91a5d4beff4d",
   "metadata": {},
   "outputs": [],
   "source": [
    "neg_control_2722_x_df = pd.DataFrame(neg_control_2722_x, columns=[f\"feature_{i}\" for i in range(n_features_2722)])\n",
    "print(neg_control_2722_x_df.shape)"
   ]
  },
  {
   "cell_type": "code",
   "execution_count": null,
   "id": "a343dc63-4bd1-46d7-8b2b-35424949bf46",
   "metadata": {},
   "outputs": [],
   "source": [
    "neg_control_2722 = pd.concat([adsp_pheno_sample, neg_control_2722_x_df], axis = 1)\n",
    "print(neg_control_2722.shape)\n",
    "neg_control_2722.head()"
   ]
  },
  {
   "cell_type": "markdown",
   "id": "d3a42f92-c7c8-49bd-8938-d1cbf5e3d159",
   "metadata": {},
   "source": [
    "# test negative control"
   ]
  },
  {
   "cell_type": "markdown",
   "id": "bad99ded-9459-4ef4-af05-258f9a49ddc3",
   "metadata": {},
   "source": [
    "## 100 features"
   ]
  },
  {
   "cell_type": "code",
   "execution_count": null,
   "id": "0fbb7474-6ca3-4c69-88b8-e8bc06b4038a",
   "metadata": {},
   "outputs": [],
   "source": [
    "print(neg_control_100.drop(columns = ['ID', 'AD']).min().min())\n",
    "print(neg_control_100.drop(columns = ['ID', 'AD']).max().max())"
   ]
  },
  {
   "cell_type": "code",
   "execution_count": null,
   "id": "a8791f1b-4629-4fbf-966c-e3a8271ff4f1",
   "metadata": {},
   "outputs": [],
   "source": [
    "x_100 = neg_control_100.drop(columns = ['ID', 'AD'])"
   ]
  },
  {
   "cell_type": "code",
   "execution_count": null,
   "id": "544a4a15-8536-4eec-8d68-57c2f042f7dd",
   "metadata": {},
   "outputs": [],
   "source": [
    "y_100 = neg_control_100['AD']"
   ]
  },
  {
   "cell_type": "code",
   "execution_count": null,
   "id": "c2b399d8-dada-4878-836b-030a1af31fdf",
   "metadata": {},
   "outputs": [],
   "source": [
    "x_train_100, x_test_100, y_train_100, y_test_100 = train_test_split(x_100, y_100, stratify = y_100, test_size = 0.3, random_state = 7)"
   ]
  },
  {
   "cell_type": "code",
   "execution_count": null,
   "id": "ec23a5d0-15cd-426e-9ba3-81f07d58e4eb",
   "metadata": {},
   "outputs": [],
   "source": [
    "clf_100 = LogisticRegression()\n",
    "clf_100.fit(x_train_100, y_train_100)\n",
    "y_pred_100 = clf_100.predict(x_test_100)"
   ]
  },
  {
   "cell_type": "code",
   "execution_count": null,
   "id": "529d8e10-f4aa-498f-b33f-dd930315269d",
   "metadata": {},
   "outputs": [],
   "source": [
    "auroc_neg_100 = roc_auc_score(y_test_100, y_pred_100)\n",
    "print(auroc_neg_100)\n",
    "auprc_neg_100 = average_precision_score(y_test_100, y_pred_100)\n",
    "print(auprc_neg_100)\n",
    "f1_neg_100 = f1_score(y_test_100, y_pred_100)\n",
    "print(f1_neg_100)\n",
    "bal_acc_neg_100 = balanced_accuracy_score(y_test_100, y_pred_100)\n",
    "print(bal_acc_neg_100)"
   ]
  },
  {
   "cell_type": "markdown",
   "id": "dfa27fa4-c033-4366-979c-805c6963ff22",
   "metadata": {},
   "source": [
    "## 2722 features"
   ]
  },
  {
   "cell_type": "code",
   "execution_count": null,
   "id": "24be1f9f-c29c-40af-9970-1c0e24766c2e",
   "metadata": {},
   "outputs": [],
   "source": [
    "print(neg_control_2722.drop(columns = ['ID', 'AD']).min().min())\n",
    "print(neg_control_2722.drop(columns = ['ID', 'AD']).max().max())"
   ]
  },
  {
   "cell_type": "code",
   "execution_count": null,
   "id": "41ec1da6-1772-4280-80d9-0eea49d2ee23",
   "metadata": {},
   "outputs": [],
   "source": [
    "x_2722 = neg_control_2722.drop(columns = ['ID', 'AD'])"
   ]
  },
  {
   "cell_type": "code",
   "execution_count": null,
   "id": "2da33f49-2593-44b0-8d19-16d5e5c5ea17",
   "metadata": {},
   "outputs": [],
   "source": [
    "y_2722 = neg_control_2722['AD']"
   ]
  },
  {
   "cell_type": "code",
   "execution_count": null,
   "id": "c87e9e60-9a38-4e36-a419-0cbc6028c22c",
   "metadata": {},
   "outputs": [],
   "source": [
    "x_train_2722, x_test_2722, y_train_2722, y_test_2722 = train_test_split(x_2722, y_2722, stratify = y_2722, test_size = 0.3, random_state = 7)"
   ]
  },
  {
   "cell_type": "code",
   "execution_count": null,
   "id": "61531d6d-ce41-4b0a-a543-ae04027e3690",
   "metadata": {},
   "outputs": [],
   "source": [
    "clf_2722 = LogisticRegression()\n",
    "clf_2722.fit(x_train_2722, y_train_2722)\n",
    "y_pred_2722 = clf_2722.predict(x_test_2722)"
   ]
  },
  {
   "cell_type": "code",
   "execution_count": null,
   "id": "f2947265-9dbd-4e29-ab83-53df59ac5401",
   "metadata": {},
   "outputs": [],
   "source": [
    "auroc_neg_2722 = roc_auc_score(y_test_2722, y_pred_2722)\n",
    "print(auroc_neg_2722)\n",
    "auprc_neg_2722 = average_precision_score(y_test_2722, y_pred_2722)\n",
    "print(auprc_neg_2722)\n",
    "f1_neg_2722 = f1_score(y_test_2722, y_pred_2722)\n",
    "print(f1_neg_2722)\n",
    "bal_acc_neg_2722 = balanced_accuracy_score(y_test_2722, y_pred_2722)\n",
    "print(bal_acc_neg_2722)"
   ]
  },
  {
   "cell_type": "markdown",
   "id": "410a621e-41ad-4e1d-8c41-64097b448cd1",
   "metadata": {},
   "source": [
    "# create positive control"
   ]
  },
  {
   "cell_type": "code",
   "execution_count": null,
   "id": "847adf05-7e33-49ef-a0cd-46f1753ee78a",
   "metadata": {},
   "outputs": [],
   "source": [
    "signal_features_2 = [0, 1]"
   ]
  },
  {
   "cell_type": "code",
   "execution_count": null,
   "id": "38b0e0a7-a18b-4f79-ad8b-dce6e01b3374",
   "metadata": {},
   "outputs": [],
   "source": [
    "signal_features_3 = [0, 1, 2]"
   ]
  },
  {
   "cell_type": "code",
   "execution_count": null,
   "id": "d4fa7bca-541f-4f9d-b821-fec889984e08",
   "metadata": {},
   "outputs": [],
   "source": [
    "signal_features_4 = [0, 1, 2, 3]"
   ]
  },
  {
   "cell_type": "code",
   "execution_count": null,
   "id": "a3e96fa1-3a51-46db-baaa-b9d5e355e48b",
   "metadata": {},
   "outputs": [],
   "source": [
    "signal_features_5 = [0, 1, 2, 3, 4]"
   ]
  },
  {
   "cell_type": "markdown",
   "id": "a2832fb7-1db2-45c7-95f5-83684ac8502e",
   "metadata": {},
   "source": [
    "## 100 features"
   ]
  },
  {
   "cell_type": "code",
   "execution_count": null,
   "id": "89e78831-679a-46b8-8e1d-6242b3420736",
   "metadata": {},
   "outputs": [],
   "source": [
    "y_100 = neg_control_100['AD']"
   ]
  },
  {
   "cell_type": "markdown",
   "id": "05e97601-bbe7-4115-8f46-1ca7f96ab950",
   "metadata": {},
   "source": [
    "### 2 features with signal"
   ]
  },
  {
   "cell_type": "code",
   "execution_count": null,
   "id": "34aca64d-a841-47a7-8273-fca5f36c937e",
   "metadata": {},
   "outputs": [],
   "source": [
    "signal_strength_100_2f = 1.5\n",
    "\n",
    "pos_control_100_2f_x = np.random.normal(loc = 0.0, scale = 1.0, size = (n_samples, n_features_100))\n",
    "\n",
    "for f in signal_features_2:\n",
    "    pos_control_100_2f_x[y_100 == 1, f] = np.random.normal(loc = signal_strength_100_2f, scale = 1.0, size = (y_100 == 1).sum())\n",
    "pos_control_100_2f_x_df = pd.DataFrame(pos_control_100_2f_x, columns=[f\"feature_{i}\" for i in range(n_features_100)])\n",
    "pos_control_100_2f = pd.concat([adsp_pheno_sample, pos_control_100_2f_x_df], axis = 1)\n",
    "print(pos_control_100_2f.shape)"
   ]
  },
  {
   "cell_type": "markdown",
   "id": "311ac363-1446-4ad5-93ce-7e3a1f5ef29d",
   "metadata": {},
   "source": [
    "### 3 features with signal"
   ]
  },
  {
   "cell_type": "code",
   "execution_count": null,
   "id": "d25c8e30-73ab-4b2d-81b5-54c318121ce5",
   "metadata": {},
   "outputs": [],
   "source": [
    "signal_strength_100_3f = 1.2\n",
    "\n",
    "pos_control_100_3f_x = np.random.normal(loc = 0.0, scale = 1.0, size = (n_samples, n_features_100))\n",
    "\n",
    "for f in signal_features_3:\n",
    "    pos_control_100_3f_x[y_100 == 1, f] = np.random.normal(loc = signal_strength_100_3f, scale = 1.0, size = (y_100 == 1).sum())\n",
    "pos_control_100_3f_x_df = pd.DataFrame(pos_control_100_3f_x, columns=[f\"feature_{i}\" for i in range(n_features_100)])\n",
    "pos_control_100_3f = pd.concat([adsp_pheno_sample, pos_control_100_3f_x_df], axis = 1)\n",
    "print(pos_control_100_3f.shape)"
   ]
  },
  {
   "cell_type": "markdown",
   "id": "5c2e1fb6-5f6e-407a-b741-a2ddb377db47",
   "metadata": {},
   "source": [
    "### 4 features with signal"
   ]
  },
  {
   "cell_type": "code",
   "execution_count": null,
   "id": "de31d2bb-753c-47e6-aba6-7f24332ccc80",
   "metadata": {},
   "outputs": [],
   "source": [
    "signal_strength_100_4f = 1\n",
    "\n",
    "pos_control_100_4f_x = np.random.normal(loc = 0.0, scale = 1.0, size = (n_samples, n_features_100))\n",
    "\n",
    "for f in signal_features_4:\n",
    "    pos_control_100_4f_x[y_100 == 1, f] = np.random.normal(loc = signal_strength_100_4f, scale = 1.0, size = (y_100 == 1).sum())\n",
    "pos_control_100_4f_x_df = pd.DataFrame(pos_control_100_4f_x, columns=[f\"feature_{i}\" for i in range(n_features_100)])\n",
    "pos_control_100_4f = pd.concat([adsp_pheno_sample, pos_control_100_4f_x_df], axis = 1)\n",
    "print(pos_control_100_4f.shape)"
   ]
  },
  {
   "cell_type": "markdown",
   "id": "26a741eb-3daf-4aa1-8d85-d95ff0718cbf",
   "metadata": {},
   "source": [
    "### 5 features w signal"
   ]
  },
  {
   "cell_type": "code",
   "execution_count": null,
   "id": "a48d1ac3-b10a-4ae5-8bb8-8958b425a73a",
   "metadata": {},
   "outputs": [],
   "source": [
    "signal_strength_100_5f = 0.9\n",
    "\n",
    "pos_control_100_5f_x = np.random.normal(loc = 0.0, scale = 1.0, size = (n_samples, n_features_100))\n",
    "\n",
    "for f in signal_features_5:\n",
    "    pos_control_100_5f_x[y_100 == 1, f] = np.random.normal(loc = signal_strength_100_5f, scale = 1.0, size = (y_100 == 1).sum())\n",
    "pos_control_100_5f_x_df = pd.DataFrame(pos_control_100_5f_x, columns=[f\"feature_{i}\" for i in range(n_features_100)])\n",
    "pos_control_100_5f = pd.concat([adsp_pheno_sample, pos_control_100_5f_x_df], axis = 1)\n",
    "print(pos_control_100_5f.shape)"
   ]
  },
  {
   "cell_type": "markdown",
   "id": "10dcd4b3-d342-4029-81ce-c1c5e263bdff",
   "metadata": {},
   "source": [
    "## 2722 features"
   ]
  },
  {
   "cell_type": "markdown",
   "id": "a2f6553e-982e-44f2-808b-28e954ff5ded",
   "metadata": {},
   "source": [
    "### 2 features with signal"
   ]
  },
  {
   "cell_type": "code",
   "execution_count": null,
   "id": "517bb983-896f-447b-9afe-965709783225",
   "metadata": {},
   "outputs": [],
   "source": [
    "signal_strength_2722_2f = 1.7\n",
    "\n",
    "pos_control_2722_2f_x = np.random.normal(loc = 0.0, scale = 1.0, size = (n_samples, n_features_2722))\n",
    "\n",
    "for f in signal_features_2:\n",
    "    pos_control_2722_2f_x[y_2722 == 1, f] = np.random.normal(loc = signal_strength_2722_2f, scale = 1.0, size = (y_2722 == 1).sum())\n",
    "pos_control_2722_2f_x_df = pd.DataFrame(pos_control_2722_2f_x, columns=[f\"feature_{i}\" for i in range(n_features_2722)])\n",
    "pos_control_2722_2f = pd.concat([adsp_pheno_sample, pos_control_2722_2f_x_df], axis = 1)\n",
    "print(pos_control_2722_2f.shape)"
   ]
  },
  {
   "cell_type": "markdown",
   "id": "4909b9bc-0705-49e9-906c-897c35d1343e",
   "metadata": {},
   "source": [
    "### 3 features with signal"
   ]
  },
  {
   "cell_type": "code",
   "execution_count": null,
   "id": "a7b4fc2c-2ac3-4483-a4d6-bfe8678cb39e",
   "metadata": {},
   "outputs": [],
   "source": [
    "signal_strength_2722_3f = 1.4\n",
    "\n",
    "pos_control_2722_3f_x = np.random.normal(loc = 0.0, scale = 1.0, size = (n_samples, n_features_2722))\n",
    "\n",
    "for f in signal_features_3:\n",
    "    pos_control_2722_3f_x[y_2722 == 1, f] = np.random.normal(loc = signal_strength_2722_3f, scale = 1.0, size = (y_2722 == 1).sum())\n",
    "pos_control_2722_3f_x_df = pd.DataFrame(pos_control_2722_3f_x, columns=[f\"feature_{i}\" for i in range(n_features_2722)])\n",
    "pos_control_2722_3f = pd.concat([adsp_pheno_sample, pos_control_2722_3f_x_df], axis = 1)\n",
    "print(pos_control_2722_3f.shape)"
   ]
  },
  {
   "cell_type": "markdown",
   "id": "2d43aa4e-52af-4869-87b9-3a924e8cf49c",
   "metadata": {},
   "source": [
    "### 4 features with signal"
   ]
  },
  {
   "cell_type": "code",
   "execution_count": null,
   "id": "d65926d6-bdd8-46bf-bfc6-a81c35a06289",
   "metadata": {},
   "outputs": [],
   "source": [
    "signal_strength_2722_4f = 1.2\n",
    "\n",
    "pos_control_2722_4f_x = np.random.normal(loc = 0.0, scale = 1.0, size = (n_samples, n_features_2722))\n",
    "\n",
    "for f in signal_features_4:\n",
    "    pos_control_2722_4f_x[y_2722 == 1, f] = np.random.normal(loc = signal_strength_2722_4f, scale = 1.0, size = (y_2722 == 1).sum())\n",
    "pos_control_2722_4f_x_df = pd.DataFrame(pos_control_2722_4f_x, columns=[f\"feature_{i}\" for i in range(n_features_2722)])\n",
    "pos_control_2722_4f = pd.concat([adsp_pheno_sample, pos_control_2722_4f_x_df], axis = 1)\n",
    "print(pos_control_2722_4f.shape)"
   ]
  },
  {
   "cell_type": "markdown",
   "id": "c1bdabca-744c-4337-ac73-f6a4251628d0",
   "metadata": {},
   "source": [
    "### 5 features with signal"
   ]
  },
  {
   "cell_type": "code",
   "execution_count": null,
   "id": "024ecf9a-dbd1-4bdf-a0e2-4d77ba37739f",
   "metadata": {},
   "outputs": [],
   "source": [
    "signal_strength_2722_5f = 1.1\n",
    "\n",
    "pos_control_2722_5f_x = np.random.normal(loc = 0.0, scale = 1.0, size = (n_samples, n_features_2722))\n",
    "\n",
    "for f in signal_features_5:\n",
    "    pos_control_2722_5f_x[y_2722 == 1, f] = np.random.normal(loc = signal_strength_2722_5f, scale = 1.0, size = (y_2722 == 1).sum())\n",
    "pos_control_2722_5f_x_df = pd.DataFrame(pos_control_2722_5f_x, columns=[f\"feature_{i}\" for i in range(n_features_2722)])\n",
    "pos_control_2722_5f = pd.concat([adsp_pheno_sample, pos_control_2722_5f_x_df], axis = 1)\n",
    "print(pos_control_2722_5f.shape)"
   ]
  },
  {
   "cell_type": "markdown",
   "id": "2db973bf-8220-435d-be01-2f397ed2f5dd",
   "metadata": {},
   "source": [
    "# test positive control"
   ]
  },
  {
   "cell_type": "markdown",
   "id": "6efb62b0-fcd4-49ab-b516-a33c18cda312",
   "metadata": {},
   "source": [
    "## 100 features"
   ]
  },
  {
   "cell_type": "markdown",
   "id": "da94951f-1358-44b0-9bc7-93f7e6c39556",
   "metadata": {},
   "source": [
    "### 2 features with signal"
   ]
  },
  {
   "cell_type": "code",
   "execution_count": null,
   "id": "6b3acbc5-e7d6-4367-b1a0-5cff89c77fc5",
   "metadata": {},
   "outputs": [],
   "source": [
    "print(pos_control_100_2f.drop(columns = ['ID', 'AD']).min().min())\n",
    "print(pos_control_100_2f.drop(columns = ['ID', 'AD']).max().max())\n",
    "print(' ')\n",
    "x_100_2f = pos_control_100_2f.drop(columns = ['ID', 'AD'])\n",
    "y_100_2f = pos_control_100_2f['AD']\n",
    "x_train_100_2f, x_test_100_2f, y_train_100_2f, y_test_100_2f = train_test_split(x_100_2f, y_100_2f, stratify = y_100_2f, test_size = 0.3, random_state = 7)\n",
    "clf_100_2f = LogisticRegression()\n",
    "clf_100_2f.fit(x_train_100_2f, y_train_100_2f)\n",
    "y_pred_100_2f = clf_100_2f.predict(x_test_100_2f)\n",
    "\n",
    "auroc_pos_100_2f = roc_auc_score(y_test_100_2f, y_pred_100_2f)\n",
    "print(auroc_pos_100_2f)\n",
    "auprc_pos_100_2f = average_precision_score(y_test_100_2f, y_pred_100_2f)\n",
    "print(auprc_pos_100_2f)\n",
    "f1_pos_100_2f = f1_score(y_test_100_2f, y_pred_100_2f)\n",
    "print(f1_pos_100_2f)\n",
    "bal_acc_pos_100_2f = balanced_accuracy_score(y_test_100_2f, y_pred_100_2f)\n",
    "print(bal_acc_pos_100_2f)"
   ]
  },
  {
   "cell_type": "markdown",
   "id": "3a6e628e-9ae4-4276-84b2-1acc29798ace",
   "metadata": {},
   "source": [
    "### 3 features with signal"
   ]
  },
  {
   "cell_type": "code",
   "execution_count": null,
   "id": "000e2fa6-7d1c-4fbf-b928-82901570db96",
   "metadata": {},
   "outputs": [],
   "source": [
    "print(pos_control_100_3f.drop(columns = ['ID', 'AD']).min().min())\n",
    "print(pos_control_100_3f.drop(columns = ['ID', 'AD']).max().max())\n",
    "print(' ')\n",
    "\n",
    "x_100_3f = pos_control_100_3f.drop(columns = ['ID', 'AD'])\n",
    "y_100_3f = pos_control_100_3f['AD']\n",
    "x_train_100_3f, x_test_100_3f, y_train_100_3f, y_test_100_3f = train_test_split(x_100_3f, y_100_3f, stratify = y_100_3f, test_size = 0.3, random_state = 7)\n",
    "clf_100_3f = LogisticRegression()\n",
    "clf_100_3f.fit(x_train_100_3f, y_train_100_3f)\n",
    "y_pred_100_3f = clf_100_3f.predict(x_test_100_3f)\n",
    "\n",
    "auroc_pos_100_3f = roc_auc_score(y_test_100_3f, y_pred_100_3f)\n",
    "print(auroc_pos_100_3f)\n",
    "auprc_pos_100_3f = average_precision_score(y_test_100_3f, y_pred_100_3f)\n",
    "print(auprc_pos_100_3f)\n",
    "f1_pos_100_3f = f1_score(y_test_100_3f, y_pred_100_3f)\n",
    "print(f1_pos_100_3f)\n",
    "bal_acc_pos_100_3f = balanced_accuracy_score(y_test_100_3f, y_pred_100_3f)\n",
    "print(bal_acc_pos_100_3f)"
   ]
  },
  {
   "cell_type": "markdown",
   "id": "f78a6f8d-4185-47a3-b8f9-ef033f2eabae",
   "metadata": {},
   "source": [
    "### 4 features with signal"
   ]
  },
  {
   "cell_type": "code",
   "execution_count": null,
   "id": "90dfa7c5-b562-4e13-9483-b048317e9a4c",
   "metadata": {},
   "outputs": [],
   "source": [
    "print(pos_control_100_4f.drop(columns = ['ID', 'AD']).min().min())\n",
    "print(pos_control_100_4f.drop(columns = ['ID', 'AD']).max().max())\n",
    "print(' ')\n",
    "\n",
    "x_100_4f = pos_control_100_4f.drop(columns = ['ID', 'AD'])\n",
    "y_100_4f = pos_control_100_4f['AD']\n",
    "x_train_100_4f, x_test_100_4f, y_train_100_4f, y_test_100_4f = train_test_split(x_100_4f, y_100_4f, stratify = y_100_4f, test_size = 0.3, random_state = 7)\n",
    "clf_100_4f = LogisticRegression()\n",
    "clf_100_4f.fit(x_train_100_4f, y_train_100_4f)\n",
    "y_pred_100_4f = clf_100_4f.predict(x_test_100_4f)\n",
    "bal_acc_100_4f = balanced_accuracy_score(y_test_100_4f, y_pred_100_4f)\n",
    "\n",
    "auroc_pos_100_4f = roc_auc_score(y_test_100_4f, y_pred_100_4f)\n",
    "print(auroc_pos_100_4f)\n",
    "auprc_pos_100_4f = average_precision_score(y_test_100_4f, y_pred_100_4f)\n",
    "print(auprc_pos_100_4f)\n",
    "f1_pos_100_4f = f1_score(y_test_100_4f, y_pred_100_4f)\n",
    "print(f1_pos_100_4f)\n",
    "bal_acc_pos_100_4f = balanced_accuracy_score(y_test_100_4f, y_pred_100_4f)\n",
    "print(bal_acc_pos_100_4f)"
   ]
  },
  {
   "cell_type": "markdown",
   "id": "796079c4-760b-475a-ad97-939bcf924dca",
   "metadata": {},
   "source": [
    "### 5 features with signal"
   ]
  },
  {
   "cell_type": "code",
   "execution_count": null,
   "id": "2caa1ee1-f564-4c28-96f9-f9cbf23fdcbc",
   "metadata": {},
   "outputs": [],
   "source": [
    "print(pos_control_100_5f.drop(columns = ['ID', 'AD']).min().min())\n",
    "print(pos_control_100_5f.drop(columns = ['ID', 'AD']).max().max())\n",
    "print(' ')\n",
    "x_100_5f = pos_control_100_5f.drop(columns = ['ID', 'AD'])\n",
    "y_100_5f = pos_control_100_5f['AD']\n",
    "x_train_100_5f, x_test_100_5f, y_train_100_5f, y_test_100_5f = train_test_split(x_100_5f, y_100_5f, stratify = y_100_5f, test_size = 0.3, random_state = 7)\n",
    "clf_100_5f = LogisticRegression()\n",
    "clf_100_5f.fit(x_train_100_5f, y_train_100_5f)\n",
    "y_pred_100_5f = clf_100_5f.predict(x_test_100_5f)\n",
    "bal_acc_100_5f = balanced_accuracy_score(y_test_100_5f, y_pred_100_5f)\n",
    "\n",
    "auroc_pos_100_5f = roc_auc_score(y_test_100_5f, y_pred_100_5f)\n",
    "print(auroc_pos_100_5f)\n",
    "auprc_pos_100_5f = average_precision_score(y_test_100_5f, y_pred_100_5f)\n",
    "print(auprc_pos_100_5f)\n",
    "f1_pos_100_5f = f1_score(y_test_100_5f, y_pred_100_5f)\n",
    "print(f1_pos_100_5f)\n",
    "bal_acc_pos_100_5f = balanced_accuracy_score(y_test_100_5f, y_pred_100_5f)\n",
    "print(bal_acc_pos_100_5f)"
   ]
  },
  {
   "cell_type": "markdown",
   "id": "44aaacf3-ce1f-481a-9a09-56aa35e947a4",
   "metadata": {},
   "source": [
    "## 2722 features"
   ]
  },
  {
   "cell_type": "markdown",
   "id": "99cbc21d-2d15-4d06-aed7-84c936e6531f",
   "metadata": {},
   "source": [
    "### 2 features w signal"
   ]
  },
  {
   "cell_type": "code",
   "execution_count": null,
   "id": "ed4f7b5d-6bb3-4260-a174-4d0212282972",
   "metadata": {},
   "outputs": [],
   "source": [
    "print(pos_control_2722_2f.drop(columns = ['ID', 'AD']).min().min())\n",
    "print(pos_control_2722_2f.drop(columns = ['ID', 'AD']).max().max())\n",
    "print(' ')\n",
    "\n",
    "x_2722_2f = pos_control_2722_2f.drop(columns = ['ID', 'AD'])\n",
    "y_2722_2f = pos_control_2722_2f['AD']\n",
    "x_train_2722_2f, x_test_2722_2f, y_train_2722_2f, y_test_2722_2f = train_test_split(x_2722_2f, y_2722_2f, stratify = y_2722_2f, test_size = 0.3, random_state = 7)\n",
    "clf_2722_2f = LogisticRegression()\n",
    "clf_2722_2f.fit(x_train_2722_2f, y_train_2722_2f)\n",
    "y_pred_2722_2f = clf_2722_2f.predict(x_test_2722_2f)\n",
    "\n",
    "auroc_pos_2722_2f = roc_auc_score(y_test_2722_2f, y_pred_2722_2f)\n",
    "print(auroc_pos_2722_2f)\n",
    "auprc_pos_2722_2f = average_precision_score(y_test_2722_2f, y_pred_2722_2f)\n",
    "print(auprc_pos_2722_2f)\n",
    "f1_pos_2722_2f = f1_score(y_test_2722_2f, y_pred_2722_2f)\n",
    "print(f1_pos_2722_2f)\n",
    "bal_acc_pos_2722_2f = balanced_accuracy_score(y_test_2722_2f, y_pred_2722_2f)\n",
    "print(bal_acc_pos_2722_2f)"
   ]
  },
  {
   "cell_type": "markdown",
   "id": "14abb8f5-b5cf-492c-b1d7-b9b3ccc75cba",
   "metadata": {},
   "source": [
    "### 3 features w signal"
   ]
  },
  {
   "cell_type": "code",
   "execution_count": null,
   "id": "c1f32706-ecba-4e9a-9e16-60163660be7d",
   "metadata": {},
   "outputs": [],
   "source": [
    "print(pos_control_2722_3f.drop(columns = ['ID', 'AD']).min().min())\n",
    "print(pos_control_2722_3f.drop(columns = ['ID', 'AD']).max().max())\n",
    "print(' ')\n",
    "\n",
    "x_2722_3f = pos_control_2722_3f.drop(columns = ['ID', 'AD'])\n",
    "y_2722_3f = pos_control_2722_3f['AD']\n",
    "x_train_2722_3f, x_test_2722_3f, y_train_2722_3f, y_test_2722_3f = train_test_split(x_2722_3f, y_2722_3f, stratify = y_2722_3f, test_size = 0.3, random_state = 7)\n",
    "clf_2722_3f = LogisticRegression()\n",
    "clf_2722_3f.fit(x_train_2722_3f, y_train_2722_3f)\n",
    "y_pred_2722_3f = clf_2722_3f.predict(x_test_2722_3f)\n",
    "\n",
    "auroc_pos_2722_3f = roc_auc_score(y_test_2722_3f, y_pred_2722_3f)\n",
    "print(auroc_pos_2722_3f)\n",
    "auprc_pos_2722_3f = average_precision_score(y_test_2722_3f, y_pred_2722_3f)\n",
    "print(auprc_pos_2722_3f)\n",
    "f1_pos_2722_3f = f1_score(y_test_2722_3f, y_pred_2722_3f)\n",
    "print(f1_pos_2722_3f)\n",
    "bal_acc_pos_2722_3f = balanced_accuracy_score(y_test_2722_3f, y_pred_2722_3f)\n",
    "print(bal_acc_pos_2722_3f)"
   ]
  },
  {
   "cell_type": "markdown",
   "id": "aa6a8951-8e59-4895-a3c9-3463036f642c",
   "metadata": {},
   "source": [
    "### 4 features with signal"
   ]
  },
  {
   "cell_type": "code",
   "execution_count": null,
   "id": "d90f1d01-d3b6-4dda-b506-0d689d1f9dc3",
   "metadata": {},
   "outputs": [],
   "source": [
    "print(pos_control_2722_4f.drop(columns = ['ID', 'AD']).min().min())\n",
    "print(pos_control_2722_4f.drop(columns = ['ID', 'AD']).max().max())\n",
    "print(' ')\n",
    "\n",
    "x_2722_4f = pos_control_2722_4f.drop(columns = ['ID', 'AD'])\n",
    "y_2722_4f = pos_control_2722_4f['AD']\n",
    "x_train_2722_4f, x_test_2722_4f, y_train_2722_4f, y_test_2722_4f = train_test_split(x_2722_4f, y_2722_4f, stratify = y_2722_4f, test_size = 0.3, random_state = 7)\n",
    "clf_2722_4f = LogisticRegression()\n",
    "clf_2722_4f.fit(x_train_2722_4f, y_train_2722_4f)\n",
    "y_pred_2722_4f = clf_2722_4f.predict(x_test_2722_4f)\n",
    "\n",
    "auroc_pos_2722_4f = roc_auc_score(y_test_2722_4f, y_pred_2722_4f)\n",
    "print(auroc_pos_2722_4f)\n",
    "auprc_pos_2722_4f = average_precision_score(y_test_2722_4f, y_pred_2722_4f)\n",
    "print(auprc_pos_2722_4f)\n",
    "f1_pos_2722_4f = f1_score(y_test_2722_4f, y_pred_2722_4f)\n",
    "print(f1_pos_2722_4f)\n",
    "bal_acc_pos_2722_4f = balanced_accuracy_score(y_test_2722_4f, y_pred_2722_4f)\n",
    "print(bal_acc_pos_2722_4f)"
   ]
  },
  {
   "cell_type": "markdown",
   "id": "e8c51418-d595-4232-8f08-e5296de68e59",
   "metadata": {},
   "source": [
    "### 5 features with signal"
   ]
  },
  {
   "cell_type": "code",
   "execution_count": null,
   "id": "05a171d9-73b0-4078-b337-7634e71bdcf4",
   "metadata": {},
   "outputs": [],
   "source": [
    "print(pos_control_2722_5f.drop(columns = ['ID', 'AD']).min().min())\n",
    "print(pos_control_2722_5f.drop(columns = ['ID', 'AD']).max().max())\n",
    "print(' ')\n",
    "\n",
    "x_2722_5f = pos_control_2722_5f.drop(columns = ['ID', 'AD'])\n",
    "y_2722_5f = pos_control_2722_5f['AD']\n",
    "x_train_2722_5f, x_test_2722_5f, y_train_2722_5f, y_test_2722_5f = train_test_split(x_2722_5f, y_2722_5f, stratify = y_2722_5f, test_size = 0.3, random_state = 7)\n",
    "clf_2722_5f = LogisticRegression()\n",
    "clf_2722_5f.fit(x_train_2722_5f, y_train_2722_5f)\n",
    "y_pred_2722_5f = clf_2722_5f.predict(x_test_2722_5f)\n",
    "\n",
    "auroc_pos_2722_5f = roc_auc_score(y_test_2722_5f, y_pred_2722_5f)\n",
    "print(auroc_pos_2722_5f)\n",
    "auprc_pos_2722_5f = average_precision_score(y_test_2722_5f, y_pred_2722_5f)\n",
    "print(auprc_pos_2722_5f)\n",
    "f1_pos_2722_5f = f1_score(y_test_2722_5f, y_pred_2722_5f)\n",
    "print(f1_pos_2722_5f)\n",
    "bal_acc_pos_2722_5f = balanced_accuracy_score(y_test_2722_5f, y_pred_2722_5f)\n",
    "print(bal_acc_pos_2722_5f)"
   ]
  },
  {
   "cell_type": "markdown",
   "id": "77760c84-9a55-4add-943c-1dc13489e8c7",
   "metadata": {},
   "source": [
    "# remove AD column"
   ]
  },
  {
   "cell_type": "markdown",
   "id": "7a762a75-b8a2-4c16-85b3-2490bb549227",
   "metadata": {},
   "source": [
    "## negative control"
   ]
  },
  {
   "cell_type": "markdown",
   "id": "4e16c296-ba06-4160-9938-74158e3af3a0",
   "metadata": {},
   "source": [
    "### 100 features"
   ]
  },
  {
   "cell_type": "code",
   "execution_count": null,
   "id": "f5732a6c-7725-4fe0-b7ca-e31afb2054b9",
   "metadata": {},
   "outputs": [],
   "source": [
    "neg_control_100_export = neg_control_100.drop(columns = ['AD'])"
   ]
  },
  {
   "cell_type": "markdown",
   "id": "c8c15a6e-1e45-4a1c-a284-60f33f9b119d",
   "metadata": {},
   "source": [
    "### 2722 features"
   ]
  },
  {
   "cell_type": "code",
   "execution_count": null,
   "id": "0af4add6-77ee-4ede-ae3b-03f09f91bc03",
   "metadata": {},
   "outputs": [],
   "source": [
    "neg_control_2722_export = neg_control_2722.drop(columns = ['AD'])"
   ]
  },
  {
   "cell_type": "markdown",
   "id": "71142cb8-de0d-426a-b1c3-4b92413930e3",
   "metadata": {},
   "source": [
    "## positive control"
   ]
  },
  {
   "cell_type": "markdown",
   "id": "e241aab0-d3f6-41a3-b9aa-e3c7705b7ed8",
   "metadata": {},
   "source": [
    "### 100 features"
   ]
  },
  {
   "cell_type": "code",
   "execution_count": null,
   "id": "9b70fcfb-14ce-46f9-8e5c-4bca2f87bad7",
   "metadata": {},
   "outputs": [],
   "source": [
    "pos_control_100_2f_export = pos_control_100_2f.drop(columns = ['AD'])"
   ]
  },
  {
   "cell_type": "code",
   "execution_count": null,
   "id": "bedaaa8d-577e-4d85-b542-5e1e33a5ee48",
   "metadata": {},
   "outputs": [],
   "source": [
    "pos_control_100_3f_export = pos_control_100_3f.drop(columns = ['AD'])"
   ]
  },
  {
   "cell_type": "code",
   "execution_count": null,
   "id": "99bade24-e42d-4dcd-b44b-9ec0bdb7edcd",
   "metadata": {},
   "outputs": [],
   "source": [
    "pos_control_100_4f_export = pos_control_100_4f.drop(columns = ['AD'])"
   ]
  },
  {
   "cell_type": "code",
   "execution_count": null,
   "id": "5104d13d-483d-42dd-8a24-e88953cf2451",
   "metadata": {},
   "outputs": [],
   "source": [
    "pos_control_100_5f_export = pos_control_100_5f.drop(columns = ['AD'])"
   ]
  },
  {
   "cell_type": "markdown",
   "id": "3d7684be-6269-4f44-9d52-d1fe6ffaf27f",
   "metadata": {},
   "source": [
    "### 2722 features"
   ]
  },
  {
   "cell_type": "code",
   "execution_count": null,
   "id": "d57b2bfa-3348-470d-adc2-ca563953e408",
   "metadata": {},
   "outputs": [],
   "source": [
    "pos_control_2722_2f_export = pos_control_2722_2f.drop(columns = ['AD'])"
   ]
  },
  {
   "cell_type": "code",
   "execution_count": null,
   "id": "adb1a30e-93b4-4055-87dd-1cea20fe0578",
   "metadata": {},
   "outputs": [],
   "source": [
    "pos_control_2722_3f_export = pos_control_2722_3f.drop(columns = ['AD'])"
   ]
  },
  {
   "cell_type": "code",
   "execution_count": null,
   "id": "90499b7f-de7b-41e0-9067-1468da10986e",
   "metadata": {},
   "outputs": [],
   "source": [
    "pos_control_2722_4f_export = pos_control_2722_4f.drop(columns = ['AD'])"
   ]
  },
  {
   "cell_type": "code",
   "execution_count": null,
   "id": "ca034bc9-05b4-4b23-a7fd-d1ec75efb213",
   "metadata": {},
   "outputs": [],
   "source": [
    "pos_control_2722_5f_export = pos_control_2722_5f.drop(columns = ['AD'])"
   ]
  },
  {
   "cell_type": "markdown",
   "id": "828622d6-72de-4b81-9b08-cf4e0ec8a0d5",
   "metadata": {},
   "source": [
    "# export"
   ]
  },
  {
   "cell_type": "markdown",
   "id": "94797e0f-0b61-4c99-9ad5-2f6fbb55c708",
   "metadata": {},
   "source": [
    "## negative controls"
   ]
  },
  {
   "cell_type": "code",
   "execution_count": null,
   "id": "3dce2ac4-9550-4fcc-921b-0571bb2f1cf9",
   "metadata": {},
   "outputs": [],
   "source": [
    "neg_control_100_export.to_csv('simulated_datasets/ADSP.simulated.100_features.80%_train.negative_control.txt',\n",
    "                              sep = ' ',\n",
    "                              index = None,\n",
    "                              na_rep = 'NaN')"
   ]
  },
  {
   "cell_type": "code",
   "execution_count": null,
   "id": "1a075e7f-77be-4016-a966-6703a863d75b",
   "metadata": {},
   "outputs": [],
   "source": [
    "neg_control_2722_export.to_csv('simulated_datasets/ADSP.simulated.2722_features.80%_train.negative_control.txt',\n",
    "                               sep = ' ',\n",
    "                               index = None,\n",
    "                               na_rep = 'NaN')"
   ]
  },
  {
   "cell_type": "markdown",
   "id": "dd32e3eb-44a9-4453-b1af-647392f60530",
   "metadata": {},
   "source": [
    "## positive controls"
   ]
  },
  {
   "cell_type": "markdown",
   "id": "93568b5e-c670-47c7-8cb8-0efc441de3e1",
   "metadata": {},
   "source": [
    "### 100 features"
   ]
  },
  {
   "cell_type": "code",
   "execution_count": null,
   "id": "77217c7d-a10c-42be-80f9-5cd63e9706a0",
   "metadata": {},
   "outputs": [],
   "source": [
    "pos_control_100_2f_export.to_csv('simulated_datasets/ADSP.simulated.100_features.features_0-1_signal.80%_train.positive_control.txt',\n",
    "                                 sep = ' ',\n",
    "                                 index = None,\n",
    "                                 na_rep = 'NaN')"
   ]
  },
  {
   "cell_type": "code",
   "execution_count": null,
   "id": "b3a322e3-c665-4d5d-b3f4-2a6e19f0ff46",
   "metadata": {},
   "outputs": [],
   "source": [
    "pos_control_100_3f_export.to_csv('simulated_datasets/ADSP.simulated.100_features.features_0-2_signal.80%_train.positive_control.txt',\n",
    "                                 sep = ' ',\n",
    "                                 index = None,\n",
    "                                 na_rep = 'NaN')"
   ]
  },
  {
   "cell_type": "code",
   "execution_count": null,
   "id": "fd440be0-431b-4c80-9944-325911be5285",
   "metadata": {},
   "outputs": [],
   "source": [
    "pos_control_100_4f_export.to_csv('simulated_datasets/ADSP.simulated.100_features.features_0-3_signal.80%_train.positive_control.txt',\n",
    "                                 sep = ' ',\n",
    "                                 index = None,\n",
    "                                 na_rep = 'NaN')"
   ]
  },
  {
   "cell_type": "code",
   "execution_count": null,
   "id": "2bbd832b-975e-404d-aa49-c8f64df4e6a5",
   "metadata": {},
   "outputs": [],
   "source": [
    "pos_control_100_5f_export.to_csv('simulated_datasets/ADSP.simulated.100_features.features_0-4_signal.80%_train.positive_control.txt',\n",
    "                                 sep = ' ',\n",
    "                                 index = None,\n",
    "                                 na_rep = 'NaN')"
   ]
  },
  {
   "cell_type": "markdown",
   "id": "df1ce79f-d590-459f-a0da-6d5eac71de1b",
   "metadata": {},
   "source": [
    "### 2722 features"
   ]
  },
  {
   "cell_type": "code",
   "execution_count": null,
   "id": "e42d6305-5742-48a8-b9f3-a1590acfb56c",
   "metadata": {},
   "outputs": [],
   "source": [
    "pos_control_2722_2f_export.to_csv('simulated_datasets/ADSP.simulated.2722_features.features_0-1_signal.80%_train.positive_control.txt',\n",
    "                                  sep = ' ',\n",
    "                                  index = None,\n",
    "                                  na_rep = 'NaN')"
   ]
  },
  {
   "cell_type": "code",
   "execution_count": null,
   "id": "f5925560-2bc3-4da8-950f-f0df30a920a3",
   "metadata": {},
   "outputs": [],
   "source": [
    "pos_control_2722_3f_export.to_csv('simulated_datasets/ADSP.simulated.2722_features.features_0-2_signal.80%_train.positive_control.txt',\n",
    "                                  sep = ' ',\n",
    "                                  index = None,\n",
    "                                  na_rep = 'NaN')"
   ]
  },
  {
   "cell_type": "code",
   "execution_count": null,
   "id": "10a5654b-7e24-4d69-b519-b11b04932bd6",
   "metadata": {},
   "outputs": [],
   "source": [
    "pos_control_2722_4f_export.to_csv('simulated_datasets/ADSP.simulated.2722_features.features_0-3_signal.80%_train.positive_control.txt',\n",
    "                                  sep = ' ',\n",
    "                                  index = None,\n",
    "                                  na_rep = 'NaN')"
   ]
  },
  {
   "cell_type": "code",
   "execution_count": null,
   "id": "779fd506-dfd8-4fc6-adfd-0932e0d65fb3",
   "metadata": {},
   "outputs": [],
   "source": [
    "pos_control_2722_5f_export.to_csv('simulated_datasets/ADSP.simulated.2722_features.features_0-4_signal.80%_train.positive_control.txt',\n",
    "                                  sep = ' ',\n",
    "                                  index = None,\n",
    "                                  na_rep = 'NaN')"
   ]
  },
  {
   "cell_type": "code",
   "execution_count": null,
   "id": "89c4e50a-d81f-4b96-85b4-1082039ceddf",
   "metadata": {},
   "outputs": [],
   "source": []
  }
 ],
 "metadata": {
  "kernelspec": {
   "display_name": "Python 3 (ipykernel)",
   "language": "python",
   "name": "python3"
  },
  "language_info": {
   "codemirror_mode": {
    "name": "ipython",
    "version": 3
   },
   "file_extension": ".py",
   "mimetype": "text/x-python",
   "name": "python",
   "nbconvert_exporter": "python",
   "pygments_lexer": "ipython3",
   "version": "3.12.3"
  }
 },
 "nbformat": 4,
 "nbformat_minor": 5
}

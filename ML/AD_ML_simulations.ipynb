{
 "cells": [
  {
   "cell_type": "markdown",
   "id": "0",
   "metadata": {},
   "source": [
    "# load python modules"
   ]
  },
  {
   "cell_type": "code",
   "execution_count": null,
   "id": "1",
   "metadata": {},
   "outputs": [],
   "source": [
    "import pandas as pd"
   ]
  },
  {
   "cell_type": "code",
   "execution_count": null,
   "id": "2",
   "metadata": {},
   "outputs": [],
   "source": [
    "import numpy as np"
   ]
  },
  {
   "cell_type": "code",
   "execution_count": null,
   "id": "3",
   "metadata": {},
   "outputs": [],
   "source": [
    "from sklearn.model_selection import train_test_split"
   ]
  },
  {
   "cell_type": "code",
   "execution_count": null,
   "id": "4",
   "metadata": {},
   "outputs": [],
   "source": [
    "from sklearn.linear_model import LogisticRegression"
   ]
  },
  {
   "cell_type": "code",
   "execution_count": null,
   "id": "5",
   "metadata": {},
   "outputs": [],
   "source": [
    "from sklearn.metrics import roc_auc_score, average_precision_score, f1_score, balanced_accuracy_score"
   ]
  },
  {
   "cell_type": "markdown",
   "id": "6",
   "metadata": {},
   "source": [
    "# read in input files"
   ]
  },
  {
   "cell_type": "markdown",
   "id": "7",
   "metadata": {},
   "source": [
    "## pheno"
   ]
  },
  {
   "cell_type": "code",
   "execution_count": null,
   "id": "8",
   "metadata": {},
   "outputs": [],
   "source": [
    "adsp_pheno = pd.read_csv('adsp_filt_phenos/ADSPIntegratedPhenotypes_DS_2023.08.08.csv')\n",
    "print(len(adsp_pheno.index))\n",
    "adsp_pheno.head()"
   ]
  },
  {
   "cell_type": "code",
   "execution_count": null,
   "id": "9",
   "metadata": {},
   "outputs": [],
   "source": [
    "adsp_pheno_sample = pd.read_csv('input/ADSP_phenotype.80%_train.txt',\n",
    "                                sep = ' ')\n",
    "adsp_pheno_sample.head()"
   ]
  },
  {
   "cell_type": "markdown",
   "id": "10",
   "metadata": {},
   "source": [
    "## id map"
   ]
  },
  {
   "cell_type": "code",
   "execution_count": null,
   "id": "11",
   "metadata": {},
   "outputs": [],
   "source": [
    "id_map = pd.read_csv('id_map/ADSP.ROSMAP.MSBB.id_map.txt',\n",
    "                      sep = '\\t')\n",
    "id_map.head()"
   ]
  },
  {
   "cell_type": "markdown",
   "id": "12",
   "metadata": {},
   "source": [
    "# clean pheno file"
   ]
  },
  {
   "cell_type": "code",
   "execution_count": null,
   "id": "13",
   "metadata": {},
   "outputs": [],
   "source": [
    "adsp_pheno_id = id_map.merge(adsp_pheno, on = 'SampleID', how = 'inner')\n",
    "adsp_pheno_id = adsp_pheno_id[['CommonID', 'DX_harmonized']]\n",
    "adsp_pheno_id.rename(columns = {'CommonID' : 'ID',\n",
    "                                'DX_harmonized' : 'AD'}, inplace = True)\n",
    "print(len(adsp_pheno_id.index))\n",
    "adsp_pheno_id.dropna(inplace = True)\n",
    "adsp_pheno_id.reset_index(drop = True, inplace = True)\n",
    "print(len(adsp_pheno_id.index))\n",
    "adsp_pheno_id.head()"
   ]
  },
  {
   "cell_type": "markdown",
   "id": "14",
   "metadata": {},
   "source": [
    "# define number of samples and features"
   ]
  },
  {
   "cell_type": "code",
   "execution_count": null,
   "id": "15",
   "metadata": {},
   "outputs": [],
   "source": [
    "n_samples = 22365\n",
    "n_samples"
   ]
  },
  {
   "cell_type": "code",
   "execution_count": null,
   "id": "16",
   "metadata": {},
   "outputs": [],
   "source": [
    "n_features_100 = 100\n",
    "n_features_100"
   ]
  },
  {
   "cell_type": "code",
   "execution_count": null,
   "id": "17",
   "metadata": {},
   "outputs": [],
   "source": [
    "n_features_2722 = 2722\n",
    "n_features_2722"
   ]
  },
  {
   "cell_type": "markdown",
   "id": "18",
   "metadata": {},
   "source": [
    "# create negative control"
   ]
  },
  {
   "cell_type": "markdown",
   "id": "19",
   "metadata": {},
   "source": [
    "## 100 features"
   ]
  },
  {
   "cell_type": "code",
   "execution_count": null,
   "id": "20",
   "metadata": {},
   "outputs": [],
   "source": [
    "neg_control_100_x = np.random.randn(n_samples, n_features_100)"
   ]
  },
  {
   "cell_type": "code",
   "execution_count": null,
   "id": "21",
   "metadata": {},
   "outputs": [],
   "source": [
    "neg_control_100_x_df = pd.DataFrame(neg_control_100_x, columns=[f\"feature_{i}\" for i in range(n_features_100)])\n",
    "print(neg_control_100_x_df.shape)"
   ]
  },
  {
   "cell_type": "code",
   "execution_count": null,
   "id": "22",
   "metadata": {},
   "outputs": [],
   "source": [
    "neg_control_100 = pd.concat([adsp_pheno_sample, neg_control_100_x_df], axis = 1)\n",
    "print(neg_control_100.shape)\n",
    "neg_control_100.head()"
   ]
  },
  {
   "cell_type": "markdown",
   "id": "23",
   "metadata": {},
   "source": [
    "## 2722 features"
   ]
  },
  {
   "cell_type": "code",
   "execution_count": null,
   "id": "24",
   "metadata": {},
   "outputs": [],
   "source": [
    "neg_control_2722_x = np.random.randn(n_samples, n_features_2722)"
   ]
  },
  {
   "cell_type": "code",
   "execution_count": null,
   "id": "25",
   "metadata": {},
   "outputs": [],
   "source": [
    "neg_control_2722_x_df = pd.DataFrame(neg_control_2722_x, columns=[f\"feature_{i}\" for i in range(n_features_2722)])\n",
    "print(neg_control_2722_x_df.shape)"
   ]
  },
  {
   "cell_type": "code",
   "execution_count": null,
   "id": "26",
   "metadata": {},
   "outputs": [],
   "source": [
    "neg_control_2722 = pd.concat([adsp_pheno_sample, neg_control_2722_x_df], axis = 1)\n",
    "print(neg_control_2722.shape)\n",
    "neg_control_2722.head()"
   ]
  },
  {
   "cell_type": "markdown",
   "id": "27",
   "metadata": {},
   "source": [
    "# test negative control"
   ]
  },
  {
   "cell_type": "markdown",
   "id": "28",
   "metadata": {},
   "source": [
    "## 100 features"
   ]
  },
  {
   "cell_type": "code",
   "execution_count": null,
   "id": "29",
   "metadata": {},
   "outputs": [],
   "source": [
    "print(neg_control_100.drop(columns = ['ID', 'AD']).min().min())\n",
    "print(neg_control_100.drop(columns = ['ID', 'AD']).max().max())"
   ]
  },
  {
   "cell_type": "code",
   "execution_count": null,
   "id": "30",
   "metadata": {},
   "outputs": [],
   "source": [
    "x_100 = neg_control_100.drop(columns = ['ID', 'AD'])"
   ]
  },
  {
   "cell_type": "code",
   "execution_count": null,
   "id": "31",
   "metadata": {},
   "outputs": [],
   "source": [
    "y_100 = neg_control_100['AD']"
   ]
  },
  {
   "cell_type": "code",
   "execution_count": null,
   "id": "32",
   "metadata": {},
   "outputs": [],
   "source": [
    "x_train_100, x_test_100, y_train_100, y_test_100 = train_test_split(x_100, y_100, stratify = y_100, test_size = 0.3, random_state = 7)"
   ]
  },
  {
   "cell_type": "code",
   "execution_count": null,
   "id": "33",
   "metadata": {},
   "outputs": [],
   "source": [
    "clf_100 = LogisticRegression()\n",
    "clf_100.fit(x_train_100, y_train_100)\n",
    "y_pred_100 = clf_100.predict(x_test_100)"
   ]
  },
  {
   "cell_type": "code",
   "execution_count": null,
   "id": "34",
   "metadata": {},
   "outputs": [],
   "source": [
    "auroc_neg_100 = roc_auc_score(y_test_100, y_pred_100)\n",
    "print(auroc_neg_100)\n",
    "auprc_neg_100 = average_precision_score(y_test_100, y_pred_100)\n",
    "print(auprc_neg_100)\n",
    "f1_neg_100 = f1_score(y_test_100, y_pred_100)\n",
    "print(f1_neg_100)\n",
    "bal_acc_neg_100 = balanced_accuracy_score(y_test_100, y_pred_100)\n",
    "print(bal_acc_neg_100)"
   ]
  },
  {
   "cell_type": "markdown",
   "id": "35",
   "metadata": {},
   "source": [
    "## 2722 features"
   ]
  },
  {
   "cell_type": "code",
   "execution_count": null,
   "id": "36",
   "metadata": {},
   "outputs": [],
   "source": [
    "print(neg_control_2722.drop(columns = ['ID', 'AD']).min().min())\n",
    "print(neg_control_2722.drop(columns = ['ID', 'AD']).max().max())"
   ]
  },
  {
   "cell_type": "code",
   "execution_count": null,
   "id": "37",
   "metadata": {},
   "outputs": [],
   "source": [
    "x_2722 = neg_control_2722.drop(columns = ['ID', 'AD'])"
   ]
  },
  {
   "cell_type": "code",
   "execution_count": null,
   "id": "38",
   "metadata": {},
   "outputs": [],
   "source": [
    "y_2722 = neg_control_2722['AD']"
   ]
  },
  {
   "cell_type": "code",
   "execution_count": null,
   "id": "39",
   "metadata": {},
   "outputs": [],
   "source": [
    "x_train_2722, x_test_2722, y_train_2722, y_test_2722 = train_test_split(x_2722, y_2722, stratify = y_2722, test_size = 0.3, random_state = 7)"
   ]
  },
  {
   "cell_type": "code",
   "execution_count": null,
   "id": "40",
   "metadata": {},
   "outputs": [],
   "source": [
    "clf_2722 = LogisticRegression()\n",
    "clf_2722.fit(x_train_2722, y_train_2722)\n",
    "y_pred_2722 = clf_2722.predict(x_test_2722)"
   ]
  },
  {
   "cell_type": "code",
   "execution_count": null,
   "id": "41",
   "metadata": {},
   "outputs": [],
   "source": [
    "auroc_neg_2722 = roc_auc_score(y_test_2722, y_pred_2722)\n",
    "print(auroc_neg_2722)\n",
    "auprc_neg_2722 = average_precision_score(y_test_2722, y_pred_2722)\n",
    "print(auprc_neg_2722)\n",
    "f1_neg_2722 = f1_score(y_test_2722, y_pred_2722)\n",
    "print(f1_neg_2722)\n",
    "bal_acc_neg_2722 = balanced_accuracy_score(y_test_2722, y_pred_2722)\n",
    "print(bal_acc_neg_2722)"
   ]
  },
  {
   "cell_type": "markdown",
   "id": "42",
   "metadata": {},
   "source": [
    "# create positive control"
   ]
  },
  {
   "cell_type": "code",
   "execution_count": null,
   "id": "43",
   "metadata": {},
   "outputs": [],
   "source": [
    "signal_features_2 = [0, 1]"
   ]
  },
  {
   "cell_type": "code",
   "execution_count": null,
   "id": "44",
   "metadata": {},
   "outputs": [],
   "source": [
    "signal_features_3 = [0, 1, 2]"
   ]
  },
  {
   "cell_type": "code",
   "execution_count": null,
   "id": "45",
   "metadata": {},
   "outputs": [],
   "source": [
    "signal_features_4 = [0, 1, 2, 3]"
   ]
  },
  {
   "cell_type": "code",
   "execution_count": null,
   "id": "46",
   "metadata": {},
   "outputs": [],
   "source": [
    "signal_features_5 = [0, 1, 2, 3, 4]"
   ]
  },
  {
   "cell_type": "markdown",
   "id": "47",
   "metadata": {},
   "source": [
    "## 100 features"
   ]
  },
  {
   "cell_type": "code",
   "execution_count": null,
   "id": "48",
   "metadata": {},
   "outputs": [],
   "source": [
    "y_100 = neg_control_100['AD']"
   ]
  },
  {
   "cell_type": "markdown",
   "id": "49",
   "metadata": {},
   "source": [
    "### 2 features with signal"
   ]
  },
  {
   "cell_type": "code",
   "execution_count": null,
   "id": "50",
   "metadata": {},
   "outputs": [],
   "source": [
    "signal_strength_100_2f = 1.5\n",
    "\n",
    "pos_control_100_2f_x = np.random.normal(loc = 0.0, scale = 1.0, size = (n_samples, n_features_100))\n",
    "\n",
    "for f in signal_features_2:\n",
    "    pos_control_100_2f_x[y_100 == 1, f] = np.random.normal(loc = signal_strength_100_2f, scale = 1.0, size = (y_100 == 1).sum())\n",
    "pos_control_100_2f_x_df = pd.DataFrame(pos_control_100_2f_x, columns=[f\"feature_{i}\" for i in range(n_features_100)])\n",
    "pos_control_100_2f = pd.concat([adsp_pheno_sample, pos_control_100_2f_x_df], axis = 1)\n",
    "print(pos_control_100_2f.shape)"
   ]
  },
  {
   "cell_type": "markdown",
   "id": "51",
   "metadata": {},
   "source": [
    "### 3 features with signal"
   ]
  },
  {
   "cell_type": "code",
   "execution_count": null,
   "id": "52",
   "metadata": {},
   "outputs": [],
   "source": [
    "signal_strength_100_3f = 1.2\n",
    "\n",
    "pos_control_100_3f_x = np.random.normal(loc = 0.0, scale = 1.0, size = (n_samples, n_features_100))\n",
    "\n",
    "for f in signal_features_3:\n",
    "    pos_control_100_3f_x[y_100 == 1, f] = np.random.normal(loc = signal_strength_100_3f, scale = 1.0, size = (y_100 == 1).sum())\n",
    "pos_control_100_3f_x_df = pd.DataFrame(pos_control_100_3f_x, columns=[f\"feature_{i}\" for i in range(n_features_100)])\n",
    "pos_control_100_3f = pd.concat([adsp_pheno_sample, pos_control_100_3f_x_df], axis = 1)\n",
    "print(pos_control_100_3f.shape)"
   ]
  },
  {
   "cell_type": "markdown",
   "id": "53",
   "metadata": {},
   "source": [
    "### 4 features with signal"
   ]
  },
  {
   "cell_type": "code",
   "execution_count": null,
   "id": "54",
   "metadata": {},
   "outputs": [],
   "source": [
    "signal_strength_100_4f = 1\n",
    "\n",
    "pos_control_100_4f_x = np.random.normal(loc = 0.0, scale = 1.0, size = (n_samples, n_features_100))\n",
    "\n",
    "for f in signal_features_4:\n",
    "    pos_control_100_4f_x[y_100 == 1, f] = np.random.normal(loc = signal_strength_100_4f, scale = 1.0, size = (y_100 == 1).sum())\n",
    "pos_control_100_4f_x_df = pd.DataFrame(pos_control_100_4f_x, columns=[f\"feature_{i}\" for i in range(n_features_100)])\n",
    "pos_control_100_4f = pd.concat([adsp_pheno_sample, pos_control_100_4f_x_df], axis = 1)\n",
    "print(pos_control_100_4f.shape)"
   ]
  },
  {
   "cell_type": "markdown",
   "id": "55",
   "metadata": {},
   "source": [
    "### 5 features w signal"
   ]
  },
  {
   "cell_type": "code",
   "execution_count": null,
   "id": "56",
   "metadata": {},
   "outputs": [],
   "source": [
    "signal_strength_100_5f = 0.9\n",
    "\n",
    "pos_control_100_5f_x = np.random.normal(loc = 0.0, scale = 1.0, size = (n_samples, n_features_100))\n",
    "\n",
    "for f in signal_features_5:\n",
    "    pos_control_100_5f_x[y_100 == 1, f] = np.random.normal(loc = signal_strength_100_5f, scale = 1.0, size = (y_100 == 1).sum())\n",
    "pos_control_100_5f_x_df = pd.DataFrame(pos_control_100_5f_x, columns=[f\"feature_{i}\" for i in range(n_features_100)])\n",
    "pos_control_100_5f = pd.concat([adsp_pheno_sample, pos_control_100_5f_x_df], axis = 1)\n",
    "print(pos_control_100_5f.shape)"
   ]
  },
  {
   "cell_type": "markdown",
   "id": "57",
   "metadata": {},
   "source": [
    "## 2722 features"
   ]
  },
  {
   "cell_type": "markdown",
   "id": "58",
   "metadata": {},
   "source": [
    "### 2 features with signal"
   ]
  },
  {
   "cell_type": "code",
   "execution_count": null,
   "id": "59",
   "metadata": {},
   "outputs": [],
   "source": [
    "signal_strength_2722_2f = 1.7\n",
    "\n",
    "pos_control_2722_2f_x = np.random.normal(loc = 0.0, scale = 1.0, size = (n_samples, n_features_2722))\n",
    "\n",
    "for f in signal_features_2:\n",
    "    pos_control_2722_2f_x[y_2722 == 1, f] = np.random.normal(loc = signal_strength_2722_2f, scale = 1.0, size = (y_2722 == 1).sum())\n",
    "pos_control_2722_2f_x_df = pd.DataFrame(pos_control_2722_2f_x, columns=[f\"feature_{i}\" for i in range(n_features_2722)])\n",
    "pos_control_2722_2f = pd.concat([adsp_pheno_sample, pos_control_2722_2f_x_df], axis = 1)\n",
    "print(pos_control_2722_2f.shape)"
   ]
  },
  {
   "cell_type": "markdown",
   "id": "60",
   "metadata": {},
   "source": [
    "### 3 features with signal"
   ]
  },
  {
   "cell_type": "code",
   "execution_count": null,
   "id": "61",
   "metadata": {},
   "outputs": [],
   "source": [
    "signal_strength_2722_3f = 1.4\n",
    "\n",
    "pos_control_2722_3f_x = np.random.normal(loc = 0.0, scale = 1.0, size = (n_samples, n_features_2722))\n",
    "\n",
    "for f in signal_features_3:\n",
    "    pos_control_2722_3f_x[y_2722 == 1, f] = np.random.normal(loc = signal_strength_2722_3f, scale = 1.0, size = (y_2722 == 1).sum())\n",
    "pos_control_2722_3f_x_df = pd.DataFrame(pos_control_2722_3f_x, columns=[f\"feature_{i}\" for i in range(n_features_2722)])\n",
    "pos_control_2722_3f = pd.concat([adsp_pheno_sample, pos_control_2722_3f_x_df], axis = 1)\n",
    "print(pos_control_2722_3f.shape)"
   ]
  },
  {
   "cell_type": "markdown",
   "id": "62",
   "metadata": {},
   "source": [
    "### 4 features with signal"
   ]
  },
  {
   "cell_type": "code",
   "execution_count": null,
   "id": "63",
   "metadata": {},
   "outputs": [],
   "source": [
    "signal_strength_2722_4f = 1.2\n",
    "\n",
    "pos_control_2722_4f_x = np.random.normal(loc = 0.0, scale = 1.0, size = (n_samples, n_features_2722))\n",
    "\n",
    "for f in signal_features_4:\n",
    "    pos_control_2722_4f_x[y_2722 == 1, f] = np.random.normal(loc = signal_strength_2722_4f, scale = 1.0, size = (y_2722 == 1).sum())\n",
    "pos_control_2722_4f_x_df = pd.DataFrame(pos_control_2722_4f_x, columns=[f\"feature_{i}\" for i in range(n_features_2722)])\n",
    "pos_control_2722_4f = pd.concat([adsp_pheno_sample, pos_control_2722_4f_x_df], axis = 1)\n",
    "print(pos_control_2722_4f.shape)"
   ]
  },
  {
   "cell_type": "markdown",
   "id": "64",
   "metadata": {},
   "source": [
    "### 5 features with signal"
   ]
  },
  {
   "cell_type": "code",
   "execution_count": null,
   "id": "65",
   "metadata": {},
   "outputs": [],
   "source": [
    "signal_strength_2722_5f = 1.1\n",
    "\n",
    "pos_control_2722_5f_x = np.random.normal(loc = 0.0, scale = 1.0, size = (n_samples, n_features_2722))\n",
    "\n",
    "for f in signal_features_5:\n",
    "    pos_control_2722_5f_x[y_2722 == 1, f] = np.random.normal(loc = signal_strength_2722_5f, scale = 1.0, size = (y_2722 == 1).sum())\n",
    "pos_control_2722_5f_x_df = pd.DataFrame(pos_control_2722_5f_x, columns=[f\"feature_{i}\" for i in range(n_features_2722)])\n",
    "pos_control_2722_5f = pd.concat([adsp_pheno_sample, pos_control_2722_5f_x_df], axis = 1)\n",
    "print(pos_control_2722_5f.shape)"
   ]
  },
  {
   "cell_type": "markdown",
   "id": "66",
   "metadata": {},
   "source": [
    "# test positive control"
   ]
  },
  {
   "cell_type": "markdown",
   "id": "67",
   "metadata": {},
   "source": [
    "## 100 features"
   ]
  },
  {
   "cell_type": "markdown",
   "id": "68",
   "metadata": {},
   "source": [
    "### 2 features with signal"
   ]
  },
  {
   "cell_type": "code",
   "execution_count": null,
   "id": "69",
   "metadata": {},
   "outputs": [],
   "source": [
    "print(pos_control_100_2f.drop(columns = ['ID', 'AD']).min().min())\n",
    "print(pos_control_100_2f.drop(columns = ['ID', 'AD']).max().max())\n",
    "print(' ')\n",
    "x_100_2f = pos_control_100_2f.drop(columns = ['ID', 'AD'])\n",
    "y_100_2f = pos_control_100_2f['AD']\n",
    "x_train_100_2f, x_test_100_2f, y_train_100_2f, y_test_100_2f = train_test_split(x_100_2f, y_100_2f, stratify = y_100_2f, test_size = 0.3, random_state = 7)\n",
    "clf_100_2f = LogisticRegression()\n",
    "clf_100_2f.fit(x_train_100_2f, y_train_100_2f)\n",
    "y_pred_100_2f = clf_100_2f.predict(x_test_100_2f)\n",
    "\n",
    "auroc_pos_100_2f = roc_auc_score(y_test_100_2f, y_pred_100_2f)\n",
    "print(auroc_pos_100_2f)\n",
    "auprc_pos_100_2f = average_precision_score(y_test_100_2f, y_pred_100_2f)\n",
    "print(auprc_pos_100_2f)\n",
    "f1_pos_100_2f = f1_score(y_test_100_2f, y_pred_100_2f)\n",
    "print(f1_pos_100_2f)\n",
    "bal_acc_pos_100_2f = balanced_accuracy_score(y_test_100_2f, y_pred_100_2f)\n",
    "print(bal_acc_pos_100_2f)"
   ]
  },
  {
   "cell_type": "markdown",
   "id": "70",
   "metadata": {},
   "source": [
    "### 3 features with signal"
   ]
  },
  {
   "cell_type": "code",
   "execution_count": null,
   "id": "71",
   "metadata": {},
   "outputs": [],
   "source": [
    "print(pos_control_100_3f.drop(columns = ['ID', 'AD']).min().min())\n",
    "print(pos_control_100_3f.drop(columns = ['ID', 'AD']).max().max())\n",
    "print(' ')\n",
    "\n",
    "x_100_3f = pos_control_100_3f.drop(columns = ['ID', 'AD'])\n",
    "y_100_3f = pos_control_100_3f['AD']\n",
    "x_train_100_3f, x_test_100_3f, y_train_100_3f, y_test_100_3f = train_test_split(x_100_3f, y_100_3f, stratify = y_100_3f, test_size = 0.3, random_state = 7)\n",
    "clf_100_3f = LogisticRegression()\n",
    "clf_100_3f.fit(x_train_100_3f, y_train_100_3f)\n",
    "y_pred_100_3f = clf_100_3f.predict(x_test_100_3f)\n",
    "\n",
    "auroc_pos_100_3f = roc_auc_score(y_test_100_3f, y_pred_100_3f)\n",
    "print(auroc_pos_100_3f)\n",
    "auprc_pos_100_3f = average_precision_score(y_test_100_3f, y_pred_100_3f)\n",
    "print(auprc_pos_100_3f)\n",
    "f1_pos_100_3f = f1_score(y_test_100_3f, y_pred_100_3f)\n",
    "print(f1_pos_100_3f)\n",
    "bal_acc_pos_100_3f = balanced_accuracy_score(y_test_100_3f, y_pred_100_3f)\n",
    "print(bal_acc_pos_100_3f)"
   ]
  },
  {
   "cell_type": "markdown",
   "id": "72",
   "metadata": {},
   "source": [
    "### 4 features with signal"
   ]
  },
  {
   "cell_type": "code",
   "execution_count": null,
   "id": "73",
   "metadata": {},
   "outputs": [],
   "source": [
    "print(pos_control_100_4f.drop(columns = ['ID', 'AD']).min().min())\n",
    "print(pos_control_100_4f.drop(columns = ['ID', 'AD']).max().max())\n",
    "print(' ')\n",
    "\n",
    "x_100_4f = pos_control_100_4f.drop(columns = ['ID', 'AD'])\n",
    "y_100_4f = pos_control_100_4f['AD']\n",
    "x_train_100_4f, x_test_100_4f, y_train_100_4f, y_test_100_4f = train_test_split(x_100_4f, y_100_4f, stratify = y_100_4f, test_size = 0.3, random_state = 7)\n",
    "clf_100_4f = LogisticRegression()\n",
    "clf_100_4f.fit(x_train_100_4f, y_train_100_4f)\n",
    "y_pred_100_4f = clf_100_4f.predict(x_test_100_4f)\n",
    "bal_acc_100_4f = balanced_accuracy_score(y_test_100_4f, y_pred_100_4f)\n",
    "\n",
    "auroc_pos_100_4f = roc_auc_score(y_test_100_4f, y_pred_100_4f)\n",
    "print(auroc_pos_100_4f)\n",
    "auprc_pos_100_4f = average_precision_score(y_test_100_4f, y_pred_100_4f)\n",
    "print(auprc_pos_100_4f)\n",
    "f1_pos_100_4f = f1_score(y_test_100_4f, y_pred_100_4f)\n",
    "print(f1_pos_100_4f)\n",
    "bal_acc_pos_100_4f = balanced_accuracy_score(y_test_100_4f, y_pred_100_4f)\n",
    "print(bal_acc_pos_100_4f)"
   ]
  },
  {
   "cell_type": "markdown",
   "id": "74",
   "metadata": {},
   "source": [
    "### 5 features with signal"
   ]
  },
  {
   "cell_type": "code",
   "execution_count": null,
   "id": "75",
   "metadata": {},
   "outputs": [],
   "source": [
    "print(pos_control_100_5f.drop(columns = ['ID', 'AD']).min().min())\n",
    "print(pos_control_100_5f.drop(columns = ['ID', 'AD']).max().max())\n",
    "print(' ')\n",
    "x_100_5f = pos_control_100_5f.drop(columns = ['ID', 'AD'])\n",
    "y_100_5f = pos_control_100_5f['AD']\n",
    "x_train_100_5f, x_test_100_5f, y_train_100_5f, y_test_100_5f = train_test_split(x_100_5f, y_100_5f, stratify = y_100_5f, test_size = 0.3, random_state = 7)\n",
    "clf_100_5f = LogisticRegression()\n",
    "clf_100_5f.fit(x_train_100_5f, y_train_100_5f)\n",
    "y_pred_100_5f = clf_100_5f.predict(x_test_100_5f)\n",
    "bal_acc_100_5f = balanced_accuracy_score(y_test_100_5f, y_pred_100_5f)\n",
    "\n",
    "auroc_pos_100_5f = roc_auc_score(y_test_100_5f, y_pred_100_5f)\n",
    "print(auroc_pos_100_5f)\n",
    "auprc_pos_100_5f = average_precision_score(y_test_100_5f, y_pred_100_5f)\n",
    "print(auprc_pos_100_5f)\n",
    "f1_pos_100_5f = f1_score(y_test_100_5f, y_pred_100_5f)\n",
    "print(f1_pos_100_5f)\n",
    "bal_acc_pos_100_5f = balanced_accuracy_score(y_test_100_5f, y_pred_100_5f)\n",
    "print(bal_acc_pos_100_5f)"
   ]
  },
  {
   "cell_type": "markdown",
   "id": "76",
   "metadata": {},
   "source": [
    "## 2722 features"
   ]
  },
  {
   "cell_type": "markdown",
   "id": "77",
   "metadata": {},
   "source": [
    "### 2 features w signal"
   ]
  },
  {
   "cell_type": "code",
   "execution_count": null,
   "id": "78",
   "metadata": {},
   "outputs": [],
   "source": [
    "print(pos_control_2722_2f.drop(columns = ['ID', 'AD']).min().min())\n",
    "print(pos_control_2722_2f.drop(columns = ['ID', 'AD']).max().max())\n",
    "print(' ')\n",
    "\n",
    "x_2722_2f = pos_control_2722_2f.drop(columns = ['ID', 'AD'])\n",
    "y_2722_2f = pos_control_2722_2f['AD']\n",
    "x_train_2722_2f, x_test_2722_2f, y_train_2722_2f, y_test_2722_2f = train_test_split(x_2722_2f, y_2722_2f, stratify = y_2722_2f, test_size = 0.3, random_state = 7)\n",
    "clf_2722_2f = LogisticRegression()\n",
    "clf_2722_2f.fit(x_train_2722_2f, y_train_2722_2f)\n",
    "y_pred_2722_2f = clf_2722_2f.predict(x_test_2722_2f)\n",
    "\n",
    "auroc_pos_2722_2f = roc_auc_score(y_test_2722_2f, y_pred_2722_2f)\n",
    "print(auroc_pos_2722_2f)\n",
    "auprc_pos_2722_2f = average_precision_score(y_test_2722_2f, y_pred_2722_2f)\n",
    "print(auprc_pos_2722_2f)\n",
    "f1_pos_2722_2f = f1_score(y_test_2722_2f, y_pred_2722_2f)\n",
    "print(f1_pos_2722_2f)\n",
    "bal_acc_pos_2722_2f = balanced_accuracy_score(y_test_2722_2f, y_pred_2722_2f)\n",
    "print(bal_acc_pos_2722_2f)"
   ]
  },
  {
   "cell_type": "markdown",
   "id": "79",
   "metadata": {},
   "source": [
    "### 3 features w signal"
   ]
  },
  {
   "cell_type": "code",
   "execution_count": null,
   "id": "80",
   "metadata": {},
   "outputs": [],
   "source": [
    "print(pos_control_2722_3f.drop(columns = ['ID', 'AD']).min().min())\n",
    "print(pos_control_2722_3f.drop(columns = ['ID', 'AD']).max().max())\n",
    "print(' ')\n",
    "\n",
    "x_2722_3f = pos_control_2722_3f.drop(columns = ['ID', 'AD'])\n",
    "y_2722_3f = pos_control_2722_3f['AD']\n",
    "x_train_2722_3f, x_test_2722_3f, y_train_2722_3f, y_test_2722_3f = train_test_split(x_2722_3f, y_2722_3f, stratify = y_2722_3f, test_size = 0.3, random_state = 7)\n",
    "clf_2722_3f = LogisticRegression()\n",
    "clf_2722_3f.fit(x_train_2722_3f, y_train_2722_3f)\n",
    "y_pred_2722_3f = clf_2722_3f.predict(x_test_2722_3f)\n",
    "\n",
    "auroc_pos_2722_3f = roc_auc_score(y_test_2722_3f, y_pred_2722_3f)\n",
    "print(auroc_pos_2722_3f)\n",
    "auprc_pos_2722_3f = average_precision_score(y_test_2722_3f, y_pred_2722_3f)\n",
    "print(auprc_pos_2722_3f)\n",
    "f1_pos_2722_3f = f1_score(y_test_2722_3f, y_pred_2722_3f)\n",
    "print(f1_pos_2722_3f)\n",
    "bal_acc_pos_2722_3f = balanced_accuracy_score(y_test_2722_3f, y_pred_2722_3f)\n",
    "print(bal_acc_pos_2722_3f)"
   ]
  },
  {
   "cell_type": "markdown",
   "id": "81",
   "metadata": {},
   "source": [
    "### 4 features with signal"
   ]
  },
  {
   "cell_type": "code",
   "execution_count": null,
   "id": "82",
   "metadata": {},
   "outputs": [],
   "source": [
    "print(pos_control_2722_4f.drop(columns = ['ID', 'AD']).min().min())\n",
    "print(pos_control_2722_4f.drop(columns = ['ID', 'AD']).max().max())\n",
    "print(' ')\n",
    "\n",
    "x_2722_4f = pos_control_2722_4f.drop(columns = ['ID', 'AD'])\n",
    "y_2722_4f = pos_control_2722_4f['AD']\n",
    "x_train_2722_4f, x_test_2722_4f, y_train_2722_4f, y_test_2722_4f = train_test_split(x_2722_4f, y_2722_4f, stratify = y_2722_4f, test_size = 0.3, random_state = 7)\n",
    "clf_2722_4f = LogisticRegression()\n",
    "clf_2722_4f.fit(x_train_2722_4f, y_train_2722_4f)\n",
    "y_pred_2722_4f = clf_2722_4f.predict(x_test_2722_4f)\n",
    "\n",
    "auroc_pos_2722_4f = roc_auc_score(y_test_2722_4f, y_pred_2722_4f)\n",
    "print(auroc_pos_2722_4f)\n",
    "auprc_pos_2722_4f = average_precision_score(y_test_2722_4f, y_pred_2722_4f)\n",
    "print(auprc_pos_2722_4f)\n",
    "f1_pos_2722_4f = f1_score(y_test_2722_4f, y_pred_2722_4f)\n",
    "print(f1_pos_2722_4f)\n",
    "bal_acc_pos_2722_4f = balanced_accuracy_score(y_test_2722_4f, y_pred_2722_4f)\n",
    "print(bal_acc_pos_2722_4f)"
   ]
  },
  {
   "cell_type": "markdown",
   "id": "83",
   "metadata": {},
   "source": [
    "### 5 features with signal"
   ]
  },
  {
   "cell_type": "code",
   "execution_count": null,
   "id": "84",
   "metadata": {},
   "outputs": [],
   "source": [
    "print(pos_control_2722_5f.drop(columns = ['ID', 'AD']).min().min())\n",
    "print(pos_control_2722_5f.drop(columns = ['ID', 'AD']).max().max())\n",
    "print(' ')\n",
    "\n",
    "x_2722_5f = pos_control_2722_5f.drop(columns = ['ID', 'AD'])\n",
    "y_2722_5f = pos_control_2722_5f['AD']\n",
    "x_train_2722_5f, x_test_2722_5f, y_train_2722_5f, y_test_2722_5f = train_test_split(x_2722_5f, y_2722_5f, stratify = y_2722_5f, test_size = 0.3, random_state = 7)\n",
    "clf_2722_5f = LogisticRegression()\n",
    "clf_2722_5f.fit(x_train_2722_5f, y_train_2722_5f)\n",
    "y_pred_2722_5f = clf_2722_5f.predict(x_test_2722_5f)\n",
    "\n",
    "auroc_pos_2722_5f = roc_auc_score(y_test_2722_5f, y_pred_2722_5f)\n",
    "print(auroc_pos_2722_5f)\n",
    "auprc_pos_2722_5f = average_precision_score(y_test_2722_5f, y_pred_2722_5f)\n",
    "print(auprc_pos_2722_5f)\n",
    "f1_pos_2722_5f = f1_score(y_test_2722_5f, y_pred_2722_5f)\n",
    "print(f1_pos_2722_5f)\n",
    "bal_acc_pos_2722_5f = balanced_accuracy_score(y_test_2722_5f, y_pred_2722_5f)\n",
    "print(bal_acc_pos_2722_5f)"
   ]
  },
  {
   "cell_type": "markdown",
   "id": "85",
   "metadata": {},
   "source": [
    "# remove AD column"
   ]
  },
  {
   "cell_type": "markdown",
   "id": "86",
   "metadata": {},
   "source": [
    "## negative control"
   ]
  },
  {
   "cell_type": "markdown",
   "id": "87",
   "metadata": {},
   "source": [
    "### 100 features"
   ]
  },
  {
   "cell_type": "code",
   "execution_count": null,
   "id": "88",
   "metadata": {},
   "outputs": [],
   "source": [
    "neg_control_100_export = neg_control_100.drop(columns = ['AD'])"
   ]
  },
  {
   "cell_type": "markdown",
   "id": "89",
   "metadata": {},
   "source": [
    "### 2722 features"
   ]
  },
  {
   "cell_type": "code",
   "execution_count": null,
   "id": "90",
   "metadata": {},
   "outputs": [],
   "source": [
    "neg_control_2722_export = neg_control_2722.drop(columns = ['AD'])"
   ]
  },
  {
   "cell_type": "markdown",
   "id": "91",
   "metadata": {},
   "source": [
    "## positive control"
   ]
  },
  {
   "cell_type": "markdown",
   "id": "92",
   "metadata": {},
   "source": [
    "### 100 features"
   ]
  },
  {
   "cell_type": "code",
   "execution_count": null,
   "id": "93",
   "metadata": {},
   "outputs": [],
   "source": [
    "pos_control_100_2f_export = pos_control_100_2f.drop(columns = ['AD'])"
   ]
  },
  {
   "cell_type": "code",
   "execution_count": null,
   "id": "94",
   "metadata": {},
   "outputs": [],
   "source": [
    "pos_control_100_3f_export = pos_control_100_3f.drop(columns = ['AD'])"
   ]
  },
  {
   "cell_type": "code",
   "execution_count": null,
   "id": "95",
   "metadata": {},
   "outputs": [],
   "source": [
    "pos_control_100_4f_export = pos_control_100_4f.drop(columns = ['AD'])"
   ]
  },
  {
   "cell_type": "code",
   "execution_count": null,
   "id": "96",
   "metadata": {},
   "outputs": [],
   "source": [
    "pos_control_100_5f_export = pos_control_100_5f.drop(columns = ['AD'])"
   ]
  },
  {
   "cell_type": "markdown",
   "id": "97",
   "metadata": {},
   "source": [
    "### 2722 features"
   ]
  },
  {
   "cell_type": "code",
   "execution_count": null,
   "id": "98",
   "metadata": {},
   "outputs": [],
   "source": [
    "pos_control_2722_2f_export = pos_control_2722_2f.drop(columns = ['AD'])"
   ]
  },
  {
   "cell_type": "code",
   "execution_count": null,
   "id": "99",
   "metadata": {},
   "outputs": [],
   "source": [
    "pos_control_2722_3f_export = pos_control_2722_3f.drop(columns = ['AD'])"
   ]
  },
  {
   "cell_type": "code",
   "execution_count": null,
   "id": "100",
   "metadata": {},
   "outputs": [],
   "source": [
    "pos_control_2722_4f_export = pos_control_2722_4f.drop(columns = ['AD'])"
   ]
  },
  {
   "cell_type": "code",
   "execution_count": null,
   "id": "101",
   "metadata": {},
   "outputs": [],
   "source": [
    "pos_control_2722_5f_export = pos_control_2722_5f.drop(columns = ['AD'])"
   ]
  },
  {
   "cell_type": "markdown",
   "id": "102",
   "metadata": {},
   "source": [
    "# export"
   ]
  },
  {
   "cell_type": "markdown",
   "id": "103",
   "metadata": {},
   "source": [
    "## negative controls"
   ]
  },
  {
   "cell_type": "code",
   "execution_count": null,
   "id": "104",
   "metadata": {},
   "outputs": [],
   "source": [
    "neg_control_100_export.to_csv('simulated_datasets/ADSP.simulated.100_features.80%_train.negative_control.txt',\n",
    "                              sep = ' ',\n",
    "                              index = None,\n",
    "                              na_rep = 'NaN')"
   ]
  },
  {
   "cell_type": "code",
   "execution_count": null,
   "id": "105",
   "metadata": {},
   "outputs": [],
   "source": [
    "neg_control_2722_export.to_csv('simulated_datasets/ADSP.simulated.2722_features.80%_train.negative_control.txt',\n",
    "                               sep = ' ',\n",
    "                               index = None,\n",
    "                               na_rep = 'NaN')"
   ]
  },
  {
   "cell_type": "markdown",
   "id": "106",
   "metadata": {},
   "source": [
    "## positive controls"
   ]
  },
  {
   "cell_type": "markdown",
   "id": "107",
   "metadata": {},
   "source": [
    "### 100 features"
   ]
  },
  {
   "cell_type": "code",
   "execution_count": null,
   "id": "108",
   "metadata": {},
   "outputs": [],
   "source": [
    "pos_control_100_2f_export.to_csv('simulated_datasets/ADSP.simulated.100_features.features_0-1_signal.80%_train.positive_control.txt',\n",
    "                                 sep = ' ',\n",
    "                                 index = None,\n",
    "                                 na_rep = 'NaN')"
   ]
  },
  {
   "cell_type": "code",
   "execution_count": null,
   "id": "109",
   "metadata": {},
   "outputs": [],
   "source": [
    "pos_control_100_3f_export.to_csv('simulated_datasets/ADSP.simulated.100_features.features_0-2_signal.80%_train.positive_control.txt',\n",
    "                                 sep = ' ',\n",
    "                                 index = None,\n",
    "                                 na_rep = 'NaN')"
   ]
  },
  {
   "cell_type": "code",
   "execution_count": null,
   "id": "110",
   "metadata": {},
   "outputs": [],
   "source": [
    "pos_control_100_4f_export.to_csv('simulated_datasets/ADSP.simulated.100_features.features_0-3_signal.80%_train.positive_control.txt',\n",
    "                                 sep = ' ',\n",
    "                                 index = None,\n",
    "                                 na_rep = 'NaN')"
   ]
  },
  {
   "cell_type": "code",
   "execution_count": null,
   "id": "111",
   "metadata": {},
   "outputs": [],
   "source": [
    "pos_control_100_5f_export.to_csv('simulated_datasets/ADSP.simulated.100_features.features_0-4_signal.80%_train.positive_control.txt',\n",
    "                                 sep = ' ',\n",
    "                                 index = None,\n",
    "                                 na_rep = 'NaN')"
   ]
  },
  {
   "cell_type": "markdown",
   "id": "112",
   "metadata": {},
   "source": [
    "### 2722 features"
   ]
  },
  {
   "cell_type": "code",
   "execution_count": null,
   "id": "113",
   "metadata": {},
   "outputs": [],
   "source": [
    "pos_control_2722_2f_export.to_csv('simulated_datasets/ADSP.simulated.2722_features.features_0-1_signal.80%_train.positive_control.txt',\n",
    "                                  sep = ' ',\n",
    "                                  index = None,\n",
    "                                  na_rep = 'NaN')"
   ]
  },
  {
   "cell_type": "code",
   "execution_count": null,
   "id": "114",
   "metadata": {},
   "outputs": [],
   "source": [
    "pos_control_2722_3f_export.to_csv('simulated_datasets/ADSP.simulated.2722_features.features_0-2_signal.80%_train.positive_control.txt',\n",
    "                                  sep = ' ',\n",
    "                                  index = None,\n",
    "                                  na_rep = 'NaN')"
   ]
  },
  {
   "cell_type": "code",
   "execution_count": null,
   "id": "115",
   "metadata": {},
   "outputs": [],
   "source": [
    "pos_control_2722_4f_export.to_csv('simulated_datasets/ADSP.simulated.2722_features.features_0-3_signal.80%_train.positive_control.txt',\n",
    "                                  sep = ' ',\n",
    "                                  index = None,\n",
    "                                  na_rep = 'NaN')"
   ]
  },
  {
   "cell_type": "code",
   "execution_count": null,
   "id": "116",
   "metadata": {},
   "outputs": [],
   "source": [
    "pos_control_2722_5f_export.to_csv('simulated_datasets/ADSP.simulated.2722_features.features_0-4_signal.80%_train.positive_control.txt',\n",
    "                                  sep = ' ',\n",
    "                                  index = None,\n",
    "                                  na_rep = 'NaN')"
   ]
  },
  {
   "cell_type": "code",
   "execution_count": null,
   "id": "117",
   "metadata": {},
   "outputs": [],
   "source": []
  }
 ],
 "metadata": {
  "kernelspec": {
   "display_name": "Python 3 (ipykernel)",
   "language": "python",
   "name": "python3"
  },
  "language_info": {
   "codemirror_mode": {
    "name": "ipython",
    "version": 3
   },
   "file_extension": ".py",
   "mimetype": "text/x-python",
   "name": "python",
   "nbconvert_exporter": "python",
   "pygments_lexer": "ipython3",
   "version": "3.12.3"
  }
 },
 "nbformat": 4,
 "nbformat_minor": 5
}

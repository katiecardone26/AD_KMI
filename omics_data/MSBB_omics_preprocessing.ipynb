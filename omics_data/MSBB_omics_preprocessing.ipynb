{
 "cells": [
  {
   "cell_type": "markdown",
   "id": "0",
   "metadata": {},
   "source": [
    "# load packages"
   ]
  },
  {
   "cell_type": "code",
   "execution_count": null,
   "id": "1",
   "metadata": {},
   "outputs": [],
   "source": [
    "import pandas as pd"
   ]
  },
  {
   "cell_type": "code",
   "execution_count": null,
   "id": "2",
   "metadata": {},
   "outputs": [],
   "source": [
    "import numpy as np"
   ]
  },
  {
   "cell_type": "code",
   "execution_count": null,
   "id": "3",
   "metadata": {},
   "outputs": [],
   "source": [
    "import statsmodels.api as sm"
   ]
  },
  {
   "cell_type": "markdown",
   "id": "4",
   "metadata": {},
   "source": [
    "# read in input files"
   ]
  },
  {
   "cell_type": "markdown",
   "id": "5",
   "metadata": {},
   "source": [
    "## rnaseq"
   ]
  },
  {
   "cell_type": "raw",
   "id": "6",
   "metadata": {},
   "source": [
    "# rnaseq expression data is available for 4 brain areas\n",
    "Brodmann's Area 10\n",
    "- 262 individuals\n",
    "Brodmann's Area 22\n",
    "- 241 individuals\n",
    "Brodmann's Area 36\n",
    "- 216 individuals\n",
    "- TMT proteomics here\n",
    "Brodmann's Area 44\n",
    "- 232 individuals\n",
    "\n",
    "# --- i am going to include all 4 areas for now and potentially control for area and add it as a feature in my models ---\n",
    "\n",
    "- all have data for 23202 genes\n",
    "\n",
    "# there is another RNAseq batch done on parahippocampal gyrus (Brodmann's areas 27, 28, 35, 36, and 37) on different cell types (Neuronal nuclei (NEU), oligodendrocytes (OLIG), and microglia/astrocytes(MGAS))\n",
    "- 42 individuals\n",
    "\n",
    "# other MSBB areas\n",
    "- methylation array in PHG (Brodmann's areas 27, 28, 35, 36, and 37)\n",
    "- tmt proteomics in Brodmann's area 36 of PHG\n",
    "\n",
    "# rosmap areas\n",
    "- bulk brain RNAseq in dorsolateral prefrontal cortex (Brodmann's areas 9 & 46), posterior cingulate cortex (Brodmann's areas 23 and 31), head of caudate nucleus (doesn't directly correspond to an area but has connections to Brodmann's areas 9 and 0)\n",
    "- methylation array in prefrontal cortex (BA8, BA9, BA10, BA11, BA12, BA13, BA14, BA24, BA25, BA32, BA44, BA45, BA46, and BA47)\n",
    "- somoscan proteomics in blood\n"
   ]
  },
  {
   "cell_type": "code",
   "execution_count": null,
   "id": "7",
   "metadata": {},
   "outputs": [],
   "source": [
    "rnaseq_10_norm_done = pd.read_csv('MSBB/Data/Gene Expression/Gene Expression (RNA seq)/Processed/NormalizedExpression/AMP-AD_MSBB_MSSM_BM_10.normalized.sex_race_age_RIN_PMI_exonicRate_rRnaRate_batch_adj.tsv',\n",
    "                                  sep = '\\t')\n",
    "rnaseq_10_norm_done.head()"
   ]
  },
  {
   "cell_type": "code",
   "execution_count": null,
   "id": "8",
   "metadata": {},
   "outputs": [],
   "source": [
    "rnaseq_10_quant = pd.read_csv('MSBB/Data/Gene Expression/Gene Expression (RNA seq)/Processed/QuantitatedExpression/AMP-AD_MSBB_MSSM_BM_10.raw_counts.tsv',\n",
    "                              sep = '\\t')\n",
    "rnaseq_10_quant.head()"
   ]
  },
  {
   "cell_type": "code",
   "execution_count": null,
   "id": "9",
   "metadata": {},
   "outputs": [],
   "source": [
    "rnaseq_22_norm_done = pd.read_csv('MSBB/Data/Gene Expression/Gene Expression (RNA seq)/Processed/NormalizedExpression/AMP-AD_MSBB_MSSM_BM_22.normalized.sex_race_age_RIN_PMI_exonicRate_rRnaRate_batch_adj.tsv',\n",
    "                                  sep = '\\t')\n",
    "rnaseq_22_norm_done.head()"
   ]
  },
  {
   "cell_type": "code",
   "execution_count": null,
   "id": "10",
   "metadata": {},
   "outputs": [],
   "source": [
    "rnaseq_22_quant = pd.read_csv('MSBB/Data/Gene Expression/Gene Expression (RNA seq)/Processed/QuantitatedExpression/AMP-AD_MSBB_MSSM_BM_22.raw_counts.tsv',\n",
    "                              sep = '\\t')\n",
    "rnaseq_22_quant.head()"
   ]
  },
  {
   "cell_type": "code",
   "execution_count": null,
   "id": "11",
   "metadata": {},
   "outputs": [],
   "source": [
    "rnaseq_36_norm_done = pd.read_csv('MSBB/Data/Gene Expression/Gene Expression (RNA seq)/Processed/NormalizedExpression/AMP-AD_MSBB_MSSM_BM_36.normalized.sex_race_age_RIN_PMI_exonicRate_rRnaRate_batch_adj.tsv',\n",
    "                                  sep = '\\t')\n",
    "rnaseq_36_norm_done.head()"
   ]
  },
  {
   "cell_type": "code",
   "execution_count": null,
   "id": "12",
   "metadata": {},
   "outputs": [],
   "source": [
    "rnaseq_36_quant = pd.read_csv('MSBB/Data/Gene Expression/Gene Expression (RNA seq)/Processed/QuantitatedExpression/AMP-AD_MSBB_MSSM_BM_36.raw_counts.tsv',\n",
    "                              sep = '\\t')\n",
    "rnaseq_36_quant.head()"
   ]
  },
  {
   "cell_type": "code",
   "execution_count": null,
   "id": "13",
   "metadata": {},
   "outputs": [],
   "source": [
    "rnaseq_44_norm_done = pd.read_csv('MSBB/Data/Gene Expression/Gene Expression (RNA seq)/Processed/NormalizedExpression/AMP-AD_MSBB_MSSM_BM_44.normalized.sex_race_age_RIN_PMI_exonicRate_rRnaRate_batch_adj.tsv',\n",
    "                                  sep = '\\t')\n",
    "rnaseq_44_norm_done.head()"
   ]
  },
  {
   "cell_type": "code",
   "execution_count": null,
   "id": "14",
   "metadata": {},
   "outputs": [],
   "source": [
    "rnaseq_44_quant = pd.read_csv('MSBB/Data/Gene Expression/Gene Expression (RNA seq)/Processed/QuantitatedExpression/AMP-AD_MSBB_MSSM_BM_44.raw_counts.tsv',\n",
    "                              sep = '\\t')\n",
    "rnaseq_44_quant.head()"
   ]
  },
  {
   "cell_type": "markdown",
   "id": "15",
   "metadata": {},
   "source": [
    "## methylation"
   ]
  },
  {
   "cell_type": "code",
   "execution_count": null,
   "id": "16",
   "metadata": {},
   "outputs": [],
   "source": [
    "methyl = pd.read_csv('MSBB/Data/Epigenetics/Epigenetics (Methylation Array)/ROU_13169_B01_CUS_MethylEPIC.illumina.beta.txt',\n",
    "                     sep = '\\t')\n",
    "methyl.head()"
   ]
  },
  {
   "cell_type": "markdown",
   "id": "17",
   "metadata": {},
   "source": [
    "## proteomics"
   ]
  },
  {
   "cell_type": "code",
   "execution_count": null,
   "id": "18",
   "metadata": {},
   "outputs": [],
   "source": [
    "tmt = pd.read_excel('MSBB/Data/Proteomics/Proteomics (TMT proteomics)/analysis/msbb_19batch_normalized_tmt_matrix.xlsx', skiprows = 4)\n",
    "tmt.head()"
   ]
  },
  {
   "cell_type": "markdown",
   "id": "19",
   "metadata": {},
   "source": [
    "## id map"
   ]
  },
  {
   "cell_type": "code",
   "execution_count": null,
   "id": "20",
   "metadata": {},
   "outputs": [],
   "source": [
    "id_map = pd.read_csv('msbb/MSBB.ADSP.ID_map.csv')\n",
    "id_map.head()"
   ]
  },
  {
   "cell_type": "markdown",
   "id": "21",
   "metadata": {},
   "source": [
    "## raw id map"
   ]
  },
  {
   "cell_type": "code",
   "execution_count": null,
   "id": "22",
   "metadata": {},
   "outputs": [],
   "source": [
    "raw_id_map = pd.read_csv('ADSP/MAP_FILES/AMP-AD_IDs_17k.csv')\n",
    "raw_id_map.head()"
   ]
  },
  {
   "cell_type": "markdown",
   "id": "23",
   "metadata": {},
   "source": [
    "## raw biospec"
   ]
  },
  {
   "cell_type": "code",
   "execution_count": null,
   "id": "24",
   "metadata": {},
   "outputs": [],
   "source": [
    "biospec = pd.read_csv('MSBB/Data/Metadata/MSBB_biospecimen_metadata.csv')\n",
    "biospec.head()"
   ]
  },
  {
   "cell_type": "markdown",
   "id": "25",
   "metadata": {},
   "source": [
    "## gene map"
   ]
  },
  {
   "cell_type": "code",
   "execution_count": null,
   "id": "26",
   "metadata": {},
   "outputs": [],
   "source": [
    "gene_map = pd.read_csv('ensembl_start_stop/Homo_sapiens.GRCh38.113.gene_start_stop.all_chr.500kb_upstream_downstream.gtf.txt',\n",
    "                       sep = '\\t')\n",
    "gene_map.head()"
   ]
  },
  {
   "cell_type": "markdown",
   "id": "27",
   "metadata": {},
   "source": [
    "## methylation gene map"
   ]
  },
  {
   "cell_type": "code",
   "execution_count": null,
   "id": "28",
   "metadata": {},
   "outputs": [],
   "source": [
    "methyl_gene_map = pd.read_csv('msbb/infinium-methylationepic-v-1-0-b5-manifest-file.csv',\n",
    "                              skiprows = 7,\n",
    "                              low_memory = False)\n",
    "methyl_gene_map.head()"
   ]
  },
  {
   "cell_type": "markdown",
   "id": "29",
   "metadata": {},
   "source": [
    "## missing methylation gene map"
   ]
  },
  {
   "cell_type": "code",
   "execution_count": null,
   "id": "30",
   "metadata": {},
   "outputs": [],
   "source": [
    "methyl_gene_map_missing = pd.read_csv('msbb/MethylationEPIC Missing Legacy CpG (v1.0_B3 vs. v1.0_B2) Annotations.csv')\n",
    "methyl_gene_map_missing.head()"
   ]
  },
  {
   "cell_type": "markdown",
   "id": "31",
   "metadata": {},
   "source": [
    "## reference transcripts"
   ]
  },
  {
   "cell_type": "code",
   "execution_count": null,
   "id": "32",
   "metadata": {},
   "outputs": [],
   "source": [
    "ref = pd.read_csv('ensembl_start_stop/Homo_sapiens.GRCh38.113.refseq.tsv.gz',\n",
    "                  sep = '\\t')\n",
    "ref.head()"
   ]
  },
  {
   "cell_type": "markdown",
   "id": "33",
   "metadata": {},
   "source": [
    "## methylation metadata"
   ]
  },
  {
   "cell_type": "code",
   "execution_count": null,
   "id": "34",
   "metadata": {},
   "outputs": [],
   "source": [
    "methyl_meta = pd.read_csv('MSBB/Data/Metadata/MSBB_assay_MethylationArray_metadata.csv')\n",
    "methyl_meta.head()"
   ]
  },
  {
   "cell_type": "markdown",
   "id": "35",
   "metadata": {},
   "source": [
    "## rnaseq metadata"
   ]
  },
  {
   "cell_type": "code",
   "execution_count": null,
   "id": "36",
   "metadata": {},
   "outputs": [],
   "source": [
    "rnaseq_meta = pd.read_csv('MSBB/Data/Metadata/MSBB_assay_rnaSeq_metadata.csv')\n",
    "rnaseq_meta.head()"
   ]
  },
  {
   "cell_type": "markdown",
   "id": "37",
   "metadata": {},
   "source": [
    "## clinical metadata"
   ]
  },
  {
   "cell_type": "code",
   "execution_count": null,
   "id": "38",
   "metadata": {},
   "outputs": [],
   "source": [
    "clinical_meta = pd.read_csv('MSBB/Data/Metadata/MSBB_individual_metadata.csv')\n",
    "clinical_meta.head()"
   ]
  },
  {
   "cell_type": "markdown",
   "id": "39",
   "metadata": {},
   "source": [
    "## ensembl release 70 gtf"
   ]
  },
  {
   "cell_type": "code",
   "execution_count": null,
   "id": "40",
   "metadata": {},
   "outputs": [],
   "source": [
    "rnaseq_gtf = pd.read_csv('msbb/Homo_sapiens.GRCh37.70.gtf.gz',\n",
    "                         sep = '\\t',\n",
    "                         header = None,\n",
    "                         low_memory = False)\n",
    "rnaseq_gtf.head()"
   ]
  },
  {
   "cell_type": "markdown",
   "id": "41",
   "metadata": {},
   "source": [
    "## ensembl release 113 gtf"
   ]
  },
  {
   "cell_type": "code",
   "execution_count": null,
   "id": "42",
   "metadata": {},
   "outputs": [],
   "source": [
    "gtf_113 = pd.read_csv('ensembl_start_stop/Homo_sapiens.GRCh38.113.gtf.csv',\n",
    "                      header = None,\n",
    "                      low_memory = False)\n",
    "gtf_113.head()"
   ]
  },
  {
   "cell_type": "markdown",
   "id": "43",
   "metadata": {},
   "source": [
    "## rnaseq exonic rate"
   ]
  },
  {
   "cell_type": "code",
   "execution_count": null,
   "id": "44",
   "metadata": {},
   "outputs": [],
   "source": [
    "rnaseq_exonic_rate = pd.read_csv('MSBB/Data/Metadata/MSBB_assay_rnaSeq_exonic_rate.tsv',\n",
    "                                 sep = '\\t')\n",
    "rnaseq_exonic_rate.head()"
   ]
  },
  {
   "cell_type": "markdown",
   "id": "45",
   "metadata": {},
   "source": [
    "# filter biospec file to exclude particiants"
   ]
  },
  {
   "cell_type": "code",
   "execution_count": null,
   "id": "46",
   "metadata": {},
   "outputs": [],
   "source": [
    "biospec_exclude = biospec[biospec['exclude'] == True]\n",
    "print(len(biospec.index))\n",
    "print(len(biospec_exclude.index))\n",
    "print(biospec_exclude['assay'].unique())\n",
    "biospec_exclude.head()"
   ]
  },
  {
   "cell_type": "markdown",
   "id": "47",
   "metadata": {},
   "source": [
    "# clean RNAseq"
   ]
  },
  {
   "cell_type": "markdown",
   "id": "48",
   "metadata": {},
   "source": [
    "## subset and rename"
   ]
  },
  {
   "cell_type": "code",
   "execution_count": null,
   "id": "49",
   "metadata": {},
   "outputs": [],
   "source": [
    "gene_map_sub = gene_map[['ENS_ID', 'GENE']]"
   ]
  },
  {
   "cell_type": "code",
   "execution_count": null,
   "id": "50",
   "metadata": {},
   "outputs": [],
   "source": [
    "rnaseq_10_norm_done.rename(columns = {'Ensembl ID' : 'ENS_ID'}, inplace = True)"
   ]
  },
  {
   "cell_type": "code",
   "execution_count": null,
   "id": "51",
   "metadata": {},
   "outputs": [],
   "source": [
    "rnaseq_10_quant.rename(columns = {'Ensembl ID' : 'ENS_ID'}, inplace = True)"
   ]
  },
  {
   "cell_type": "code",
   "execution_count": null,
   "id": "52",
   "metadata": {},
   "outputs": [],
   "source": [
    "rnaseq_22_norm_done.rename(columns = {'Ensembl ID' : 'ENS_ID'}, inplace = True)"
   ]
  },
  {
   "cell_type": "code",
   "execution_count": null,
   "id": "53",
   "metadata": {},
   "outputs": [],
   "source": [
    "rnaseq_22_quant.rename(columns = {'Ensembl ID' : 'ENS_ID'}, inplace = True)"
   ]
  },
  {
   "cell_type": "code",
   "execution_count": null,
   "id": "54",
   "metadata": {},
   "outputs": [],
   "source": [
    "rnaseq_36_norm_done.rename(columns = {'Ensembl ID' : 'ENS_ID'}, inplace = True)"
   ]
  },
  {
   "cell_type": "code",
   "execution_count": null,
   "id": "55",
   "metadata": {},
   "outputs": [],
   "source": [
    "rnaseq_36_quant.rename(columns = {'Ensembl ID' : 'ENS_ID'}, inplace = True)"
   ]
  },
  {
   "cell_type": "code",
   "execution_count": null,
   "id": "56",
   "metadata": {},
   "outputs": [],
   "source": [
    "rnaseq_44_norm_done.rename(columns = {'Ensembl ID' : 'ENS_ID'}, inplace = True)"
   ]
  },
  {
   "cell_type": "code",
   "execution_count": null,
   "id": "57",
   "metadata": {},
   "outputs": [],
   "source": [
    "rnaseq_44_quant.rename(columns = {'Ensembl ID' : 'ENS_ID'}, inplace = True)"
   ]
  },
  {
   "cell_type": "markdown",
   "id": "58",
   "metadata": {},
   "source": [
    "## filter to genes in normalized dataframe (genes kept after QC)"
   ]
  },
  {
   "cell_type": "code",
   "execution_count": null,
   "id": "59",
   "metadata": {},
   "outputs": [],
   "source": [
    "rnaseq_10_quant_gene_filt = rnaseq_10_quant[rnaseq_10_quant['ENS_ID'].isin(rnaseq_10_norm_done['ENS_ID'])]\n",
    "print(len(rnaseq_10_quant.index))\n",
    "print(len(rnaseq_10_norm_done.index))\n",
    "print(len(rnaseq_10_quant_gene_filt.index))"
   ]
  },
  {
   "cell_type": "code",
   "execution_count": null,
   "id": "60",
   "metadata": {},
   "outputs": [],
   "source": [
    "rnaseq_22_quant_gene_filt = rnaseq_22_quant[rnaseq_22_quant['ENS_ID'].isin(rnaseq_22_norm_done['ENS_ID'])]\n",
    "print(len(rnaseq_22_quant.index))\n",
    "print(len(rnaseq_22_norm_done.index))\n",
    "print(len(rnaseq_22_quant_gene_filt.index))"
   ]
  },
  {
   "cell_type": "code",
   "execution_count": null,
   "id": "61",
   "metadata": {},
   "outputs": [],
   "source": [
    "rnaseq_36_quant_gene_filt = rnaseq_36_quant[rnaseq_36_quant['ENS_ID'].isin(rnaseq_36_norm_done['ENS_ID'])]\n",
    "print(len(rnaseq_36_quant.index))\n",
    "print(len(rnaseq_36_norm_done.index))\n",
    "print(len(rnaseq_36_quant_gene_filt.index))"
   ]
  },
  {
   "cell_type": "code",
   "execution_count": null,
   "id": "62",
   "metadata": {},
   "outputs": [],
   "source": [
    "rnaseq_44_quant_gene_filt = rnaseq_44_quant[rnaseq_44_quant['ENS_ID'].isin(rnaseq_44_norm_done['ENS_ID'])]\n",
    "print(len(rnaseq_44_quant.index))\n",
    "print(len(rnaseq_44_norm_done.index))\n",
    "print(len(rnaseq_44_quant_gene_filt.index))"
   ]
  },
  {
   "cell_type": "markdown",
   "id": "63",
   "metadata": {},
   "source": [
    "## map genes"
   ]
  },
  {
   "cell_type": "code",
   "execution_count": null,
   "id": "64",
   "metadata": {},
   "outputs": [],
   "source": [
    "rnaseq_10_gene = gene_map_sub.merge(rnaseq_10_quant_gene_filt, how = 'inner', on = 'ENS_ID')\n",
    "print(len(rnaseq_10_quant_gene_filt.index))\n",
    "print(len(gene_map_sub.index))\n",
    "print(len(rnaseq_10_gene.index))\n",
    "print(len(rnaseq_10_gene['ENS_ID'].unique()))\n",
    "print(len(rnaseq_10_gene['GENE'].unique()))"
   ]
  },
  {
   "cell_type": "code",
   "execution_count": null,
   "id": "65",
   "metadata": {},
   "outputs": [],
   "source": [
    "rnaseq_22_gene = gene_map_sub.merge(rnaseq_22_quant_gene_filt, how = 'inner', on = 'ENS_ID')\n",
    "print(len(rnaseq_22_quant_gene_filt.index))\n",
    "print(len(gene_map_sub.index))\n",
    "print(len(rnaseq_22_gene.index))\n",
    "print(len(rnaseq_22_gene['ENS_ID'].unique()))\n",
    "print(len(rnaseq_22_gene['GENE'].unique()))"
   ]
  },
  {
   "cell_type": "code",
   "execution_count": null,
   "id": "66",
   "metadata": {},
   "outputs": [],
   "source": [
    "rnaseq_36_gene = gene_map_sub.merge(rnaseq_36_quant_gene_filt, how = 'inner', on = 'ENS_ID')\n",
    "print(len(rnaseq_36_quant_gene_filt.index))\n",
    "print(len(gene_map_sub.index))\n",
    "print(len(rnaseq_36_gene.index))\n",
    "print(len(rnaseq_36_gene['ENS_ID'].unique()))\n",
    "print(len(rnaseq_36_gene['GENE'].unique()))"
   ]
  },
  {
   "cell_type": "code",
   "execution_count": null,
   "id": "67",
   "metadata": {},
   "outputs": [],
   "source": [
    "rnaseq_44_gene = gene_map_sub.merge(rnaseq_44_quant_gene_filt, how = 'inner', on = 'ENS_ID')\n",
    "print(len(rnaseq_44_quant_gene_filt.index))\n",
    "print(len(gene_map_sub.index))\n",
    "print(len(rnaseq_44_gene.index))\n",
    "print(len(rnaseq_44_gene['ENS_ID'].unique()))\n",
    "print(len(rnaseq_44_gene['GENE'].unique()))"
   ]
  },
  {
   "cell_type": "markdown",
   "id": "68",
   "metadata": {},
   "source": [
    "## assess genes that didn't map"
   ]
  },
  {
   "cell_type": "raw",
   "id": "69",
   "metadata": {},
   "source": [
    "# these genes seem to either be\n",
    "- discontinued in more recent versions\n",
    "- novel transcripts that are not mapped to genes\n",
    "- not in the database at all (ENSG00000233937)"
   ]
  },
  {
   "cell_type": "code",
   "execution_count": null,
   "id": "70",
   "metadata": {},
   "outputs": [],
   "source": [
    "rnaseq_no_map = rnaseq_10[~rnaseq_10['ENS_ID'].isin(rnaseq_10_gene['ENS_ID'])]\n",
    "print(len(rnaseq_no_map.index))\n",
    "print(rnaseq_no_map['ENS_ID'].head())\n",
    "print(rnaseq_no_map['ENS_ID'].tail())"
   ]
  },
  {
   "cell_type": "markdown",
   "id": "71",
   "metadata": {},
   "source": [
    "## figure out duplicate genes"
   ]
  },
  {
   "cell_type": "raw",
   "id": "72",
   "metadata": {},
   "source": [
    "ELFN2\n",
    "- keep ENSG00000166897 (on RefSeq, other gene is not)\n",
    "\n",
    "GUSBP5\n",
    "- keep ENSG00000236296 (neither are on RefSeq, but this gene's coordinates more closely align with GUSBP5 coordinates)\n",
    "\n",
    "Metazoa_SRP\n",
    "- dropping both- these are on different chromosomes and not in reactome database\n",
    "\n",
    "SPATA13\n",
    "- keep ENSG00000182957 (on RefSeq, other gene is not)\n",
    "\n",
    "Y_RNA\n",
    "- dropping both- these are on different chromosomes and not in reactome database"
   ]
  },
  {
   "cell_type": "code",
   "execution_count": null,
   "id": "73",
   "metadata": {},
   "outputs": [],
   "source": [
    "rnaseq_10_dup_gene = rnaseq_10_gene[rnaseq_10_gene.duplicated('GENE', keep = False)]\n",
    "print(len(rnaseq_10_dup_gene.index))\n",
    "print(len(rnaseq_10_dup_gene['GENE'].unique()))\n",
    "rnaseq_10_dup_gene[['ENS_ID', 'GENE']].sort_values(by = 'GENE')"
   ]
  },
  {
   "cell_type": "markdown",
   "id": "74",
   "metadata": {},
   "source": [
    "## fix duplicate genes"
   ]
  },
  {
   "cell_type": "code",
   "execution_count": null,
   "id": "75",
   "metadata": {},
   "outputs": [],
   "source": [
    "rnaseq_10_dup_fixed = rnaseq_10_dup_gene[rnaseq_10_dup_gene['ENS_ID'].isin(['ENSG00000166897', 'ENSG00000236296', 'ENSG00000182957'])]\n",
    "print(rnaseq_10_dup_fixed[['ENS_ID', 'GENE']])\n",
    "rnaseq_10_no_dup = rnaseq_10_gene[~rnaseq_10_gene.index.isin(rnaseq_10_dup_gene.index)]\n",
    "rnaseq_10_gene_clean = pd.concat([rnaseq_10_no_dup, rnaseq_10_dup_fixed], axis = 0)\n",
    "print(len(rnaseq_10_gene_clean.index))\n",
    "print(len(rnaseq_10_gene_clean['GENE'].unique()))"
   ]
  },
  {
   "cell_type": "code",
   "execution_count": null,
   "id": "76",
   "metadata": {},
   "outputs": [],
   "source": [
    "rnaseq_22_dup_gene = rnaseq_22_gene[rnaseq_22_gene.duplicated('GENE', keep = False)]\n",
    "rnaseq_22_dup_fixed = rnaseq_22_dup_gene[rnaseq_22_dup_gene['ENS_ID'].isin(['ENSG00000166897', 'ENSG00000236296', 'ENSG00000182957'])]\n",
    "rnaseq_22_no_dup = rnaseq_22_gene[~rnaseq_22_gene.index.isin(rnaseq_22_dup_gene.index)]\n",
    "rnaseq_22_gene_clean = pd.concat([rnaseq_22_no_dup, rnaseq_22_dup_fixed], axis = 0)\n",
    "print(len(rnaseq_22_gene_clean.index))\n",
    "print(len(rnaseq_22_gene_clean['GENE'].unique()))"
   ]
  },
  {
   "cell_type": "code",
   "execution_count": null,
   "id": "77",
   "metadata": {},
   "outputs": [],
   "source": [
    "rnaseq_36_dup_gene = rnaseq_36_gene[rnaseq_36_gene.duplicated('GENE', keep = False)]\n",
    "rnaseq_36_dup_fixed = rnaseq_36_dup_gene[rnaseq_36_dup_gene['ENS_ID'].isin(['ENSG00000166897', 'ENSG00000236296', 'ENSG00000182957'])]\n",
    "rnaseq_36_no_dup = rnaseq_36_gene[~rnaseq_36_gene.index.isin(rnaseq_36_dup_gene.index)]\n",
    "rnaseq_36_gene_clean = pd.concat([rnaseq_36_no_dup, rnaseq_36_dup_fixed], axis = 0)\n",
    "print(len(rnaseq_36_gene_clean.index))\n",
    "print(len(rnaseq_36_gene_clean['GENE'].unique()))"
   ]
  },
  {
   "cell_type": "code",
   "execution_count": null,
   "id": "78",
   "metadata": {},
   "outputs": [],
   "source": [
    "rnaseq_44_dup_gene = rnaseq_44_gene[rnaseq_44_gene.duplicated('GENE', keep = False)]\n",
    "rnaseq_44_dup_fixed = rnaseq_44_dup_gene[rnaseq_44_dup_gene['ENS_ID'].isin(['ENSG00000166897', 'ENSG00000236296', 'ENSG00000182957'])]\n",
    "rnaseq_44_no_dup = rnaseq_44_gene[~rnaseq_44_gene.index.isin(rnaseq_44_dup_gene.index)]\n",
    "rnaseq_44_gene_clean = pd.concat([rnaseq_44_no_dup, rnaseq_44_dup_fixed], axis = 0)\n",
    "print(len(rnaseq_44_gene_clean.index))\n",
    "print(len(rnaseq_44_gene_clean['GENE'].unique()))"
   ]
  },
  {
   "cell_type": "markdown",
   "id": "79",
   "metadata": {},
   "source": [
    "## filter to coding genes"
   ]
  },
  {
   "cell_type": "markdown",
   "id": "80",
   "metadata": {},
   "source": [
    "### clean v113 gtf file"
   ]
  },
  {
   "cell_type": "code",
   "execution_count": null,
   "id": "81",
   "metadata": {},
   "outputs": [],
   "source": [
    "gtf_113_gene = gtf_113[gtf_113[2].isin(['gene'])]\n",
    "split_cols_113 = gtf_113_gene[8].str.split(';', expand=True)\n",
    "biotype = split_cols_113[split_cols_113.astype(str).apply(lambda row: row.str.contains('biotype', case=False, na=False)).any(axis=1)]\n",
    "protein_coding = biotype[biotype.astype(str).apply(lambda row: row.str.contains('protein_coding', case=False, na=False)).any(axis=1)]\n",
    "protein_coding[0] = protein_coding[0].str.replace('gene_id', '')\n",
    "protein_coding[0] = protein_coding[0].str.replace('\"', '')\n",
    "protein_coding[0] = protein_coding[0].str.replace(' ', '')\n",
    "print(len(protein_coding[0].unique()))\n",
    "print(len(protein_coding.index))\n",
    "protein_coding.head()"
   ]
  },
  {
   "cell_type": "markdown",
   "id": "82",
   "metadata": {},
   "source": [
    "### filter to protein coding genes"
   ]
  },
  {
   "cell_type": "code",
   "execution_count": null,
   "id": "83",
   "metadata": {},
   "outputs": [],
   "source": [
    "rnaseq_10_protein_coding = rnaseq_10_gene_clean[rnaseq_10_gene_clean['ENS_ID'].isin(protein_coding[0])]\n",
    "print(len(rnaseq_10_gene_clean.index))\n",
    "print(len(rnaseq_10_protein_coding.index))"
   ]
  },
  {
   "cell_type": "code",
   "execution_count": null,
   "id": "84",
   "metadata": {},
   "outputs": [],
   "source": [
    "rnaseq_22_protein_coding = rnaseq_22_gene_clean[rnaseq_22_gene_clean['ENS_ID'].isin(protein_coding[0])]\n",
    "print(len(rnaseq_22_gene_clean.index))\n",
    "print(len(rnaseq_22_protein_coding.index))"
   ]
  },
  {
   "cell_type": "code",
   "execution_count": null,
   "id": "85",
   "metadata": {},
   "outputs": [],
   "source": [
    "rnaseq_36_protein_coding = rnaseq_36_gene_clean[rnaseq_36_gene_clean['ENS_ID'].isin(protein_coding[0])]\n",
    "print(len(rnaseq_36_gene_clean.index))\n",
    "print(len(rnaseq_36_protein_coding.index))"
   ]
  },
  {
   "cell_type": "code",
   "execution_count": null,
   "id": "86",
   "metadata": {},
   "outputs": [],
   "source": [
    "rnaseq_44_protein_coding = rnaseq_44_gene_clean[rnaseq_44_gene_clean['ENS_ID'].isin(protein_coding[0])]\n",
    "print(len(rnaseq_44_gene_clean.index))\n",
    "print(len(rnaseq_44_protein_coding.index))"
   ]
  },
  {
   "cell_type": "markdown",
   "id": "87",
   "metadata": {},
   "source": [
    "## convert to TPM"
   ]
  },
  {
   "cell_type": "markdown",
   "id": "88",
   "metadata": {},
   "source": [
    "### clean v70 gtf file"
   ]
  },
  {
   "cell_type": "code",
   "execution_count": null,
   "id": "89",
   "metadata": {},
   "outputs": [],
   "source": [
    "rnaseq_exon = rnaseq_gtf[rnaseq_gtf[2].isin(['exon'])]\n",
    "rnaseq_exon['LENGTH'] = rnaseq_exon[4] - rnaseq_exon[3]\n",
    "split_cols = rnaseq_exon[8].str.split(';', expand=True)\n",
    "split_cols.drop(columns = [7], inplace = True)\n",
    "split_cols.rename(columns = {0 : 'gene_id',\n",
    "                             1 : 'transcript_id',\n",
    "                             2 : 'exon_number',\n",
    "                             3 : 'gene_name',\n",
    "                             4 : 'gene_biotype',\n",
    "                             5 : 'transcript_name',\n",
    "                             6 : 'exon_id'}, inplace = True)\n",
    "rnaseq_exon = pd.concat([rnaseq_exon, split_cols], axis = 1)\n",
    "rnaseq_exon_sub = rnaseq_exon[['gene_id', 'LENGTH']]\n",
    "rnaseq_exon_sub['gene_id'] = rnaseq_exon_sub['gene_id'].str.replace('gene_id', '')\n",
    "rnaseq_exon_sub['gene_id'] = rnaseq_exon_sub['gene_id'].str.replace('\"', '')\n",
    "rnaseq_exon_sub['gene_id'] = rnaseq_exon_sub['gene_id'].str.replace(' ', '')\n",
    "\n",
    "rnaseq_exon_sub.head()"
   ]
  },
  {
   "cell_type": "code",
   "execution_count": null,
   "id": "90",
   "metadata": {},
   "outputs": [],
   "source": [
    "rnaseq_exon_sum = rnaseq_exon_sub.groupby('gene_id', as_index=False)['LENGTH'].sum()\n",
    "print(len(rnaseq_exon_sum.index))\n",
    "print(len(rnaseq_exon_sum['gene_id'].unique()))\n",
    "print(rnaseq_exon_sum['LENGTH'].describe().apply(lambda x: f\"{x:.0f}\"))\n",
    "rnaseq_exon_sum.rename(columns = {'gene_id' : 'ENS_ID'}, inplace = True)\n",
    "rnaseq_exon_sum.head()"
   ]
  },
  {
   "cell_type": "markdown",
   "id": "91",
   "metadata": {},
   "source": [
    "### merge rnaseq with gtf file"
   ]
  },
  {
   "cell_type": "code",
   "execution_count": null,
   "id": "92",
   "metadata": {},
   "outputs": [],
   "source": [
    "rnaseq_10_gene_length = rnaseq_10_protein_coding.merge(rnaseq_exon_sum, on = 'ENS_ID', how = 'inner')\n",
    "print(len(rnaseq_10_gene_length.index))\n",
    "print(len(rnaseq_10_protein_coding.index))"
   ]
  },
  {
   "cell_type": "code",
   "execution_count": null,
   "id": "93",
   "metadata": {},
   "outputs": [],
   "source": [
    "rnaseq_22_gene_length = rnaseq_22_protein_coding.merge(rnaseq_exon_sum, on = 'ENS_ID', how = 'inner')\n",
    "print(len(rnaseq_22_gene_length.index))\n",
    "print(len(rnaseq_22_protein_coding.index))"
   ]
  },
  {
   "cell_type": "code",
   "execution_count": null,
   "id": "94",
   "metadata": {},
   "outputs": [],
   "source": [
    "rnaseq_36_gene_length = rnaseq_36_protein_coding.merge(rnaseq_exon_sum, on = 'ENS_ID', how = 'inner')\n",
    "print(len(rnaseq_36_gene_length.index))\n",
    "print(len(rnaseq_36_protein_coding.index))"
   ]
  },
  {
   "cell_type": "code",
   "execution_count": null,
   "id": "95",
   "metadata": {},
   "outputs": [],
   "source": [
    "rnaseq_44_gene_length = rnaseq_44_protein_coding.merge(rnaseq_exon_sum, on = 'ENS_ID', how = 'inner')\n",
    "print(len(rnaseq_44_gene_length.index))\n",
    "print(len(rnaseq_44_protein_coding.index))"
   ]
  },
  {
   "cell_type": "markdown",
   "id": "96",
   "metadata": {},
   "source": [
    "### drop gene columns"
   ]
  },
  {
   "cell_type": "code",
   "execution_count": null,
   "id": "97",
   "metadata": {},
   "outputs": [],
   "source": [
    "rnaseq_10_gene_only = rnaseq_10_gene_length[['GENE']]\n",
    "rnaseq_10_no_gene = rnaseq_10_gene_length.drop(columns = ['ENS_ID', 'GENE'])\n",
    "rnaseq_10_no_gene.head()"
   ]
  },
  {
   "cell_type": "code",
   "execution_count": null,
   "id": "98",
   "metadata": {},
   "outputs": [],
   "source": [
    "rnaseq_22_gene_only = rnaseq_22_gene_length[['GENE']]\n",
    "rnaseq_22_no_gene = rnaseq_22_gene_length.drop(columns = ['ENS_ID', 'GENE'])\n",
    "rnaseq_22_no_gene.head()"
   ]
  },
  {
   "cell_type": "code",
   "execution_count": null,
   "id": "99",
   "metadata": {},
   "outputs": [],
   "source": [
    "rnaseq_36_gene_only = rnaseq_36_gene_length[['GENE']]\n",
    "rnaseq_36_no_gene = rnaseq_36_gene_length.drop(columns = ['ENS_ID', 'GENE'])\n",
    "rnaseq_36_no_gene.head()"
   ]
  },
  {
   "cell_type": "code",
   "execution_count": null,
   "id": "100",
   "metadata": {},
   "outputs": [],
   "source": [
    "rnaseq_44_gene_only = rnaseq_44_gene_length[['GENE']]\n",
    "rnaseq_44_no_gene = rnaseq_44_gene_length.drop(columns = ['ENS_ID', 'GENE'])\n",
    "rnaseq_44_no_gene.head()"
   ]
  },
  {
   "cell_type": "markdown",
   "id": "101",
   "metadata": {},
   "source": [
    "### create TPM function"
   ]
  },
  {
   "cell_type": "code",
   "execution_count": null,
   "id": "102",
   "metadata": {},
   "outputs": [],
   "source": [
    "def count_to_tpm(df):\n",
    "    # convert length col to kb\n",
    "    gene_lengths_kb = df['LENGTH'] / 1000\n",
    "    # drop length column\n",
    "    counts = df.drop(columns = ['LENGTH'])\n",
    "    # compute rate\n",
    "    rpk = counts.div(gene_lengths_kb, axis = 0)\n",
    "    # compute sum per column (per individual)\n",
    "    scaling_factor = rpk.sum(axis = 0)\n",
    "    # divide by sum and multiply by 1e6\n",
    "    tpm = rpk.div(scaling_factor, axis=1) * 1e6\n",
    "    # return completed df\n",
    "    return tpm"
   ]
  },
  {
   "cell_type": "markdown",
   "id": "103",
   "metadata": {},
   "source": [
    "### convert to TPM"
   ]
  },
  {
   "cell_type": "code",
   "execution_count": null,
   "id": "104",
   "metadata": {},
   "outputs": [],
   "source": [
    "rnaseq_10_tpm = count_to_tpm(rnaseq_10_no_gene)\n",
    "rnaseq_10_tpm.head()"
   ]
  },
  {
   "cell_type": "code",
   "execution_count": null,
   "id": "105",
   "metadata": {},
   "outputs": [],
   "source": [
    "rnaseq_22_tpm = count_to_tpm(rnaseq_22_no_gene)\n",
    "rnaseq_22_tpm.head()"
   ]
  },
  {
   "cell_type": "code",
   "execution_count": null,
   "id": "106",
   "metadata": {},
   "outputs": [],
   "source": [
    "rnaseq_36_tpm = count_to_tpm(rnaseq_36_no_gene)\n",
    "rnaseq_36_tpm.head()"
   ]
  },
  {
   "cell_type": "code",
   "execution_count": null,
   "id": "107",
   "metadata": {},
   "outputs": [],
   "source": [
    "rnaseq_44_tpm = count_to_tpm(rnaseq_44_no_gene)\n",
    "rnaseq_44_tpm.head()"
   ]
  },
  {
   "cell_type": "markdown",
   "id": "108",
   "metadata": {},
   "source": [
    "### add gene column back in and compute column wide medians"
   ]
  },
  {
   "cell_type": "code",
   "execution_count": null,
   "id": "109",
   "metadata": {},
   "outputs": [],
   "source": [
    "rnaseq_10_tpm['MEDIAN'] = rnaseq_10_tpm.median(axis = 1)\n",
    "rnaseq_10_tpm_gene = pd.concat([rnaseq_10_gene_only, rnaseq_10_tpm], axis = 1)\n",
    "rnaseq_10_tpm_gene.head()"
   ]
  },
  {
   "cell_type": "code",
   "execution_count": null,
   "id": "110",
   "metadata": {},
   "outputs": [],
   "source": [
    "rnaseq_22_tpm['MEDIAN'] = rnaseq_22_tpm.median(axis = 1)\n",
    "rnaseq_22_tpm_gene = pd.concat([rnaseq_22_gene_only, rnaseq_22_tpm], axis = 1)\n",
    "rnaseq_22_tpm_gene.head()"
   ]
  },
  {
   "cell_type": "code",
   "execution_count": null,
   "id": "111",
   "metadata": {},
   "outputs": [],
   "source": [
    "rnaseq_36_tpm['MEDIAN'] = rnaseq_36_tpm.median(axis = 1)\n",
    "rnaseq_36_tpm_gene = pd.concat([rnaseq_36_gene_only, rnaseq_36_tpm], axis = 1)\n",
    "rnaseq_36_tpm_gene.head()"
   ]
  },
  {
   "cell_type": "code",
   "execution_count": null,
   "id": "112",
   "metadata": {},
   "outputs": [],
   "source": [
    "rnaseq_44_tpm['MEDIAN'] = rnaseq_44_tpm.median(axis = 1)\n",
    "rnaseq_44_tpm_gene = pd.concat([rnaseq_44_gene_only, rnaseq_44_tpm], axis = 1)\n",
    "rnaseq_44_tpm_gene.head()"
   ]
  },
  {
   "cell_type": "markdown",
   "id": "113",
   "metadata": {},
   "source": [
    "### filter to genes with median tpm > 5"
   ]
  },
  {
   "cell_type": "code",
   "execution_count": null,
   "id": "114",
   "metadata": {},
   "outputs": [],
   "source": [
    "rnaseq_10_tpm_gene_min = rnaseq_10_tpm_gene[rnaseq_10_tpm_gene['MEDIAN'] > 5]\n",
    "rnaseq_10_tpm_gene_min.drop(columns = ['MEDIAN'], inplace = True)\n",
    "print(len(rnaseq_10_tpm_gene.index))\n",
    "print(len(rnaseq_10_tpm_gene_min.index))"
   ]
  },
  {
   "cell_type": "code",
   "execution_count": null,
   "id": "115",
   "metadata": {},
   "outputs": [],
   "source": [
    "rnaseq_22_tpm_gene_min = rnaseq_22_tpm_gene[rnaseq_22_tpm_gene['MEDIAN'] > 5]\n",
    "rnaseq_22_tpm_gene_min.drop(columns = ['MEDIAN'], inplace = True)\n",
    "print(len(rnaseq_22_tpm_gene.index))\n",
    "print(len(rnaseq_22_tpm_gene_min.index))"
   ]
  },
  {
   "cell_type": "code",
   "execution_count": null,
   "id": "116",
   "metadata": {},
   "outputs": [],
   "source": [
    "rnaseq_36_tpm_gene_min = rnaseq_36_tpm_gene[rnaseq_36_tpm_gene['MEDIAN'] > 5]\n",
    "rnaseq_36_tpm_gene_min.drop(columns = ['MEDIAN'], inplace = True)\n",
    "print(len(rnaseq_36_tpm_gene.index))\n",
    "print(len(rnaseq_36_tpm_gene_min.index))"
   ]
  },
  {
   "cell_type": "code",
   "execution_count": null,
   "id": "117",
   "metadata": {},
   "outputs": [],
   "source": [
    "rnaseq_44_tpm_gene_min = rnaseq_44_tpm_gene[rnaseq_44_tpm_gene['MEDIAN'] > 5]\n",
    "rnaseq_44_tpm_gene_min.drop(columns = ['MEDIAN'], inplace = True)\n",
    "print(len(rnaseq_44_tpm_gene.index))\n",
    "print(len(rnaseq_44_tpm_gene_min.index))"
   ]
  },
  {
   "cell_type": "markdown",
   "id": "118",
   "metadata": {},
   "source": [
    "### remove gene name again"
   ]
  },
  {
   "cell_type": "code",
   "execution_count": null,
   "id": "119",
   "metadata": {},
   "outputs": [],
   "source": [
    "rnaseq_10_tpm_gene_min_gene_only = rnaseq_10_tpm_gene_min[['GENE']]\n",
    "rnaseq_10_tpm_gene_min_no_gene = rnaseq_10_tpm_gene_min.drop(columns = ['GENE'])\n",
    "rnaseq_10_tpm_gene_min_no_gene.head()"
   ]
  },
  {
   "cell_type": "code",
   "execution_count": null,
   "id": "120",
   "metadata": {},
   "outputs": [],
   "source": [
    "rnaseq_22_tpm_gene_min_gene_only = rnaseq_22_tpm_gene_min[['GENE']]\n",
    "rnaseq_22_tpm_gene_min_no_gene = rnaseq_22_tpm_gene_min.drop(columns = ['GENE'])\n",
    "rnaseq_22_tpm_gene_min_no_gene.head()"
   ]
  },
  {
   "cell_type": "code",
   "execution_count": null,
   "id": "121",
   "metadata": {},
   "outputs": [],
   "source": [
    "rnaseq_36_tpm_gene_min_gene_only = rnaseq_36_tpm_gene_min[['GENE']]\n",
    "rnaseq_36_tpm_gene_min_no_gene = rnaseq_36_tpm_gene_min.drop(columns = ['GENE'])\n",
    "rnaseq_36_tpm_gene_min_no_gene.head()"
   ]
  },
  {
   "cell_type": "code",
   "execution_count": null,
   "id": "122",
   "metadata": {},
   "outputs": [],
   "source": [
    "rnaseq_44_tpm_gene_min_gene_only = rnaseq_44_tpm_gene_min[['GENE']]\n",
    "rnaseq_44_tpm_gene_min_no_gene = rnaseq_44_tpm_gene_min.drop(columns = ['GENE'])\n",
    "rnaseq_44_tpm_gene_min_no_gene.head()"
   ]
  },
  {
   "cell_type": "markdown",
   "id": "123",
   "metadata": {},
   "source": [
    "### replace zeros with np.nan and log2 transform"
   ]
  },
  {
   "cell_type": "code",
   "execution_count": null,
   "id": "124",
   "metadata": {},
   "outputs": [],
   "source": [
    "rnaseq_10_tpm_gene_min_no_gene = rnaseq_10_tpm_gene_min_no_gene.replace(0, np.nan)\n",
    "rnaseq_10_tpm_log2 = np.log2(rnaseq_10_tpm_gene_min_no_gene)\n",
    "rnaseq_10_tpm_log2.head()"
   ]
  },
  {
   "cell_type": "code",
   "execution_count": null,
   "id": "125",
   "metadata": {},
   "outputs": [],
   "source": [
    "rnaseq_22_tpm_gene_min_no_gene = rnaseq_22_tpm_gene_min_no_gene.replace(0, np.nan)\n",
    "rnaseq_22_tpm_log2 = np.log2(rnaseq_22_tpm_gene_min_no_gene)\n",
    "rnaseq_22_tpm_log2.head()"
   ]
  },
  {
   "cell_type": "code",
   "execution_count": null,
   "id": "126",
   "metadata": {},
   "outputs": [],
   "source": [
    "rnaseq_36_tpm_gene_min_no_gene = rnaseq_36_tpm_gene_min_no_gene.replace(0, np.nan)\n",
    "rnaseq_36_tpm_log2 = np.log2(rnaseq_36_tpm_gene_min_no_gene)\n",
    "rnaseq_36_tpm_log2.head()"
   ]
  },
  {
   "cell_type": "code",
   "execution_count": null,
   "id": "127",
   "metadata": {},
   "outputs": [],
   "source": [
    "rnaseq_44_tpm_gene_min_no_gene = rnaseq_44_tpm_gene_min_no_gene.replace(0, np.nan)\n",
    "rnaseq_44_tpm_log2 = np.log2(rnaseq_44_tpm_gene_min_no_gene)\n",
    "rnaseq_44_tpm_log2.head()"
   ]
  },
  {
   "cell_type": "markdown",
   "id": "128",
   "metadata": {},
   "source": [
    "### divide by rowwise (gene) means"
   ]
  },
  {
   "cell_type": "code",
   "execution_count": null,
   "id": "129",
   "metadata": {},
   "outputs": [],
   "source": [
    "rnaseq_10_gene_means = rnaseq_10_tpm_log2.mean(axis = 1)\n",
    "rnaseq_10_tpm_log2_mean = rnaseq_10_tpm_log2.div(rnaseq_10_gene_means, axis = 0)\n",
    "rnaseq_10_tpm_log2_mean.head()"
   ]
  },
  {
   "cell_type": "code",
   "execution_count": null,
   "id": "130",
   "metadata": {},
   "outputs": [],
   "source": [
    "rnaseq_22_gene_means = rnaseq_22_tpm_log2.mean(axis = 1)\n",
    "rnaseq_22_tpm_log2_mean = rnaseq_22_tpm_log2.div(rnaseq_22_gene_means, axis = 0)\n",
    "rnaseq_22_tpm_log2_mean.head()"
   ]
  },
  {
   "cell_type": "code",
   "execution_count": null,
   "id": "131",
   "metadata": {},
   "outputs": [],
   "source": [
    "rnaseq_36_gene_means = rnaseq_36_tpm_log2.mean(axis = 1)\n",
    "rnaseq_36_tpm_log2_mean = rnaseq_36_tpm_log2.div(rnaseq_36_gene_means, axis = 0)\n",
    "rnaseq_36_tpm_log2_mean.head()"
   ]
  },
  {
   "cell_type": "code",
   "execution_count": null,
   "id": "132",
   "metadata": {},
   "outputs": [],
   "source": [
    "rnaseq_44_gene_means = rnaseq_44_tpm_log2.mean(axis = 1)\n",
    "rnaseq_44_tpm_log2_mean = rnaseq_44_tpm_log2.div(rnaseq_44_gene_means, axis = 0)\n",
    "rnaseq_44_tpm_log2_mean.head()"
   ]
  },
  {
   "cell_type": "markdown",
   "id": "133",
   "metadata": {},
   "source": [
    "### add ID back in"
   ]
  },
  {
   "cell_type": "code",
   "execution_count": null,
   "id": "134",
   "metadata": {},
   "outputs": [],
   "source": [
    "rnaseq_10_tpm_log2_mean_gene = pd.concat([rnaseq_10_tpm_gene_min_gene_only, rnaseq_10_tpm_log2_mean], axis = 1)\n",
    "print(len(rnaseq_10_tpm_log2_mean_gene.index))\n",
    "rnaseq_10_tpm_log2_mean_gene.head()"
   ]
  },
  {
   "cell_type": "code",
   "execution_count": null,
   "id": "135",
   "metadata": {},
   "outputs": [],
   "source": [
    "rnaseq_22_tpm_log2_mean_gene = pd.concat([rnaseq_22_tpm_gene_min_gene_only, rnaseq_22_tpm_log2_mean], axis = 1)\n",
    "print(len(rnaseq_22_tpm_log2_mean_gene.index))\n",
    "rnaseq_22_tpm_log2_mean_gene.head()"
   ]
  },
  {
   "cell_type": "code",
   "execution_count": null,
   "id": "136",
   "metadata": {},
   "outputs": [],
   "source": [
    "rnaseq_36_tpm_log2_mean_gene = pd.concat([rnaseq_36_tpm_gene_min_gene_only, rnaseq_36_tpm_log2_mean], axis = 1)\n",
    "print(len(rnaseq_36_tpm_log2_mean_gene.index))\n",
    "rnaseq_36_tpm_log2_mean_gene.head()"
   ]
  },
  {
   "cell_type": "code",
   "execution_count": null,
   "id": "137",
   "metadata": {},
   "outputs": [],
   "source": [
    "rnaseq_44_tpm_log2_mean_gene = pd.concat([rnaseq_44_tpm_gene_min_gene_only, rnaseq_44_tpm_log2_mean], axis = 1)\n",
    "print(len(rnaseq_44_tpm_log2_mean_gene.index))\n",
    "rnaseq_44_tpm_log2_mean_gene.head()"
   ]
  },
  {
   "cell_type": "markdown",
   "id": "138",
   "metadata": {},
   "source": [
    "## map to individual IDs"
   ]
  },
  {
   "cell_type": "markdown",
   "id": "139",
   "metadata": {},
   "source": [
    "### transpose"
   ]
  },
  {
   "cell_type": "code",
   "execution_count": null,
   "id": "140",
   "metadata": {},
   "outputs": [],
   "source": [
    "rnaseq_10_transpose = rnaseq_10_tpm_log2_mean_gene.transpose()\n",
    "rnaseq_10_transpose.columns = rnaseq_10_transpose.iloc[0]\n",
    "rnaseq_10_transpose = rnaseq_10_transpose.iloc[1:]\n",
    "rnaseq_10_transpose['specimenID'] = rnaseq_10_transpose.index\n",
    "rnaseq_10_transpose.head()"
   ]
  },
  {
   "cell_type": "code",
   "execution_count": null,
   "id": "141",
   "metadata": {},
   "outputs": [],
   "source": [
    "rnaseq_22_transpose = rnaseq_22_tpm_log2_mean_gene.transpose()\n",
    "rnaseq_22_transpose.columns = rnaseq_22_transpose.iloc[0]\n",
    "rnaseq_22_transpose = rnaseq_22_transpose.iloc[1:]\n",
    "rnaseq_22_transpose['specimenID'] = rnaseq_22_transpose.index\n",
    "rnaseq_22_transpose.head()"
   ]
  },
  {
   "cell_type": "code",
   "execution_count": null,
   "id": "142",
   "metadata": {},
   "outputs": [],
   "source": [
    "rnaseq_36_transpose = rnaseq_36_tpm_log2_mean_gene.transpose()\n",
    "rnaseq_36_transpose.columns = rnaseq_36_transpose.iloc[0]\n",
    "rnaseq_36_transpose = rnaseq_36_transpose.iloc[1:]\n",
    "rnaseq_36_transpose['specimenID'] = rnaseq_36_transpose.index\n",
    "rnaseq_36_transpose.head()"
   ]
  },
  {
   "cell_type": "code",
   "execution_count": null,
   "id": "143",
   "metadata": {},
   "outputs": [],
   "source": [
    "rnaseq_44_transpose = rnaseq_44_tpm_log2_mean_gene.transpose()\n",
    "rnaseq_44_transpose.columns = rnaseq_44_transpose.iloc[0]\n",
    "rnaseq_44_transpose = rnaseq_44_transpose.iloc[1:]\n",
    "rnaseq_44_transpose['specimenID'] = rnaseq_44_transpose.index\n",
    "rnaseq_44_transpose.head()"
   ]
  },
  {
   "cell_type": "markdown",
   "id": "144",
   "metadata": {},
   "source": [
    "### check rnaseq meta file for sample filtering"
   ]
  },
  {
   "cell_type": "raw",
   "id": "145",
   "metadata": {},
   "source": [
    "# the only exclusion criteria that needs to be applied is high rRNA.rate\n",
    "# number of people to exclude\n",
    "BA 10: 1\n",
    "BA 22: 3\n",
    "BA 36: 0\n",
    "BA 44: 11\n",
    "- this has one person in the biospec file to exclude (hB_RNA_5001), but this person already has high rRNA.rate and thus is already excluded"
   ]
  },
  {
   "cell_type": "code",
   "execution_count": null,
   "id": "146",
   "metadata": {},
   "outputs": [],
   "source": [
    "rnaseq_meta['new_id'] = rnaseq_meta['specimenID'].str.replace('_resequenced', '')\n",
    "print(len(rnaseq_meta['new_id'].unique()))\n",
    "rnaseq_meta.head()"
   ]
  },
  {
   "cell_type": "code",
   "execution_count": null,
   "id": "147",
   "metadata": {},
   "outputs": [],
   "source": [
    "rnaseq_meta_10 = rnaseq_meta[rnaseq_meta['new_id'].isin(rnaseq_10_transpose['specimenID'])]\n",
    "print(len(rnaseq_meta_10[rnaseq_meta_10['RIN'] < 4].index))\n",
    "print(len(rnaseq_meta_10[rnaseq_meta_10['rRNA.rate'] > 0.05].index))\n",
    "print(len(rnaseq_meta_10[rnaseq_meta_10['specimenID'].isin(biospec_exclude['specimenID'])].index))\n",
    "print(rnaseq_meta_10.astype(str).apply(lambda col: col.str.contains('Remap', case = False, na=False)).any().any())\n",
    "print(rnaseq_meta_10.astype(str).apply(lambda col: col.str.contains('Exclude', case = False, na=False)).any().any())\n",
    "exclude_10 = rnaseq_meta_10[rnaseq_meta_10['rRNA.rate'] > 0.05]\n",
    "rnaseq_meta_10[rnaseq_meta_10['specimenID'].str.contains('|'.join(exclude_10['specimenID']))]"
   ]
  },
  {
   "cell_type": "code",
   "execution_count": null,
   "id": "148",
   "metadata": {},
   "outputs": [],
   "source": [
    "rnaseq_meta_22 = rnaseq_meta[rnaseq_meta['new_id'].isin(rnaseq_22_transpose['specimenID'])]\n",
    "print(len(rnaseq_meta_22[rnaseq_meta_22['RIN'] < 4].index))\n",
    "print(len(rnaseq_meta_22[rnaseq_meta_22['rRNA.rate'] > 0.05].index))\n",
    "print(len(rnaseq_meta_22[rnaseq_meta_22['specimenID'].isin(biospec_exclude['specimenID'])].index))\n",
    "print(rnaseq_meta_22.astype(str).apply(lambda col: col.str.contains('Remap', case=False, na=False)).any().any())\n",
    "print(rnaseq_meta_22.astype(str).apply(lambda col: col.str.contains('Exclude', case=False, na=False)).any().any())\n",
    "exclude_22 = rnaseq_meta_22[rnaseq_meta_22['rRNA.rate'] > 0.05]\n",
    "rnaseq_meta_22[rnaseq_meta_22['specimenID'].str.contains('|'.join(exclude_22['specimenID']))]"
   ]
  },
  {
   "cell_type": "code",
   "execution_count": null,
   "id": "149",
   "metadata": {},
   "outputs": [],
   "source": [
    "rnaseq_meta_36 = rnaseq_meta[rnaseq_meta['new_id'].isin(rnaseq_36_transpose['specimenID'])]\n",
    "print(len(rnaseq_meta_36[rnaseq_meta_36['RIN'] < 4].index))\n",
    "print(len(rnaseq_meta_36[rnaseq_meta_36['rRNA.rate'] > 0.05].index))\n",
    "print(len(rnaseq_meta_36[rnaseq_meta_36['specimenID'].isin(biospec_exclude['specimenID'])].index))\n",
    "print(rnaseq_meta_36.astype(str).apply(lambda col: col.str.contains('Remap', case=False, na=False)).any().any())\n",
    "print(rnaseq_meta_36.astype(str).apply(lambda col: col.str.contains('Exclude', case=False, na=False)).any().any())\n",
    "#exclude_36 = rnaseq_meta_36[rnaseq_meta_36['rRNA.rate'] > 0.05]\n",
    "#rnaseq_meta_36[rnaseq_meta_36['specimenID'].str.contains('|'.join(exclude_36['specimenID']))]"
   ]
  },
  {
   "cell_type": "code",
   "execution_count": null,
   "id": "150",
   "metadata": {},
   "outputs": [],
   "source": [
    "rnaseq_meta_44 = rnaseq_meta[rnaseq_meta['new_id'].isin(rnaseq_44_transpose['specimenID'])]\n",
    "print(len(rnaseq_meta_44[rnaseq_meta_44['RIN'] < 4].index))\n",
    "print(len(rnaseq_meta_44[rnaseq_meta_44['rRNA.rate'] > 0.05].index))\n",
    "print(len(rnaseq_meta_44[rnaseq_meta_44['specimenID'].isin(biospec_exclude['specimenID'])].index))\n",
    "print(rnaseq_meta_44[rnaseq_meta_44['specimenID'].isin(biospec_exclude['specimenID'])])\n",
    "print(rnaseq_meta_44.astype(str).apply(lambda col: col.str.contains('Remap', case=False, na=False)).any().any())\n",
    "print(rnaseq_meta_44.astype(str).apply(lambda col: col.str.contains('Exclude', case=False, na=False)).any().any())\n",
    "exclude_44 = rnaseq_meta_44[rnaseq_meta_44['rRNA.rate'] > 0.05]\n",
    "rnaseq_meta_44[rnaseq_meta_44['specimenID'].str.contains('|'.join(exclude_44['specimenID']))]"
   ]
  },
  {
   "cell_type": "code",
   "execution_count": null,
   "id": "151",
   "metadata": {},
   "outputs": [],
   "source": [
    "biospec_exclude[biospec_exclude['specimenID'].isin(['hB_RNA_5001'])]"
   ]
  },
  {
   "cell_type": "markdown",
   "id": "152",
   "metadata": {},
   "source": [
    "### remove samples that failed QC"
   ]
  },
  {
   "cell_type": "code",
   "execution_count": null,
   "id": "153",
   "metadata": {},
   "outputs": [],
   "source": [
    "print(len(rnaseq_10_transpose.index))\n",
    "rnaseq_10_transpose = rnaseq_10_transpose[~rnaseq_10_transpose['specimenID'].isin(exclude_10['specimenID'])]\n",
    "print(len(rnaseq_10_transpose.index))"
   ]
  },
  {
   "cell_type": "code",
   "execution_count": null,
   "id": "154",
   "metadata": {},
   "outputs": [],
   "source": [
    "print(len(rnaseq_22_transpose.index))\n",
    "rnaseq_22_transpose = rnaseq_22_transpose[~rnaseq_22_transpose['specimenID'].isin(exclude_22['specimenID'])]\n",
    "print(len(rnaseq_22_transpose.index))"
   ]
  },
  {
   "cell_type": "code",
   "execution_count": null,
   "id": "155",
   "metadata": {},
   "outputs": [],
   "source": [
    "print(len(rnaseq_44_transpose.index))\n",
    "rnaseq_44_transpose = rnaseq_44_transpose[~rnaseq_44_transpose['specimenID'].isin(exclude_44['specimenID'])]\n",
    "print(len(rnaseq_44_transpose.index))"
   ]
  },
  {
   "cell_type": "markdown",
   "id": "156",
   "metadata": {},
   "source": [
    "### merge"
   ]
  },
  {
   "cell_type": "code",
   "execution_count": null,
   "id": "157",
   "metadata": {},
   "outputs": [],
   "source": [
    "rnaseq_10_id = id_map.merge(rnaseq_10_transpose, on = 'specimenID')\n",
    "print(len(rnaseq_10_transpose.index))\n",
    "print(len(rnaseq_10_id.index))\n",
    "rnaseq_10_id.head()"
   ]
  },
  {
   "cell_type": "code",
   "execution_count": null,
   "id": "158",
   "metadata": {},
   "outputs": [],
   "source": [
    "rnaseq_22_id = id_map.merge(rnaseq_22_transpose, on = 'specimenID')\n",
    "print(len(rnaseq_22_transpose.index))\n",
    "print(len(rnaseq_22_id.index))\n",
    "rnaseq_22_id.head()"
   ]
  },
  {
   "cell_type": "code",
   "execution_count": null,
   "id": "159",
   "metadata": {},
   "outputs": [],
   "source": [
    "rnaseq_36_id = id_map.merge(rnaseq_36_transpose, on = 'specimenID')\n",
    "print(len(rnaseq_36_transpose.index))\n",
    "print(len(rnaseq_36_id.index))\n",
    "rnaseq_36_id.head()"
   ]
  },
  {
   "cell_type": "code",
   "execution_count": null,
   "id": "160",
   "metadata": {},
   "outputs": [],
   "source": [
    "rnaseq_44_id = id_map.merge(rnaseq_44_transpose, on = 'specimenID')\n",
    "print(len(rnaseq_44_transpose.index))\n",
    "print(len(rnaseq_44_id.index))\n",
    "rnaseq_44_id.head()"
   ]
  },
  {
   "cell_type": "markdown",
   "id": "161",
   "metadata": {
    "jp-MarkdownHeadingCollapsed": true
   },
   "source": [
    "### check out IDs that didn't map"
   ]
  },
  {
   "cell_type": "raw",
   "id": "162",
   "metadata": {},
   "source": [
    "# not in ADSP"
   ]
  },
  {
   "cell_type": "code",
   "execution_count": null,
   "id": "163",
   "metadata": {},
   "outputs": [],
   "source": [
    "rnaseq_10_no_map = rnaseq_10_transpose[~rnaseq_10_transpose['specimenID'].isin(rnaseq_10_id['specimenID'])]\n",
    "print(len(rnaseq_10_no_map.index))\n",
    "print(len(raw_id_map[raw_id_map['AlternateID'].isin(rnaseq_10_no_map['specimenID'])].index))\n",
    "print(raw_id_map[raw_id_map['AlternateID'].isin(rnaseq_10_no_map['specimenID'])])"
   ]
  },
  {
   "cell_type": "code",
   "execution_count": null,
   "id": "164",
   "metadata": {},
   "outputs": [],
   "source": [
    "rnaseq_10_biospec_no_map = biospec[biospec['specimenID'].isin(rnaseq_10_no_map['specimenID'])]\n",
    "print(len(rnaseq_10_biospec_no_map.index))\n",
    "rnaseq_10_biospec_no_map"
   ]
  },
  {
   "cell_type": "markdown",
   "id": "165",
   "metadata": {},
   "source": [
    "## correct for covariates"
   ]
  },
  {
   "cell_type": "markdown",
   "id": "166",
   "metadata": {},
   "source": [
    "### subset covariate files"
   ]
  },
  {
   "cell_type": "code",
   "execution_count": null,
   "id": "167",
   "metadata": {},
   "outputs": [],
   "source": [
    "print(len(rnaseq_meta_10[rnaseq_meta_10['rnaBatch'].isna() == False].index))\n",
    "print(len(rnaseq_meta_10[rnaseq_meta_10['libraryBatch'].isna() == False].index))\n",
    "print(len(rnaseq_meta_10[rnaseq_meta_10['sequencingBatch'].isna() == True].index))"
   ]
  },
  {
   "cell_type": "code",
   "execution_count": null,
   "id": "168",
   "metadata": {},
   "outputs": [],
   "source": [
    "rnaseq_meta_cov = rnaseq_meta[['specimenID', 'RIN', 'sequencingBatch', 'rRNA.rate']]\n",
    "print(len(rnaseq_meta_cov.index))\n",
    "rnaseq_meta_cov.head()"
   ]
  },
  {
   "cell_type": "code",
   "execution_count": null,
   "id": "169",
   "metadata": {},
   "outputs": [],
   "source": [
    "len(clinical_meta[clinical_meta['ageDeath'].isna()].index)"
   ]
  },
  {
   "cell_type": "code",
   "execution_count": null,
   "id": "170",
   "metadata": {},
   "outputs": [],
   "source": [
    "clinical_meta_cov = clinical_meta[['individualID', 'sex', 'race', 'pmi', 'ageDeath']]\n",
    "print(len(clinical_meta_cov.index))\n",
    "clinical_meta_cov.head()"
   ]
  },
  {
   "cell_type": "code",
   "execution_count": null,
   "id": "171",
   "metadata": {},
   "outputs": [],
   "source": [
    "rnaseq_exonic_rate_sub = rnaseq_exonic_rate[['ID', 'Exonic.Rate']]\n",
    "print(len(rnaseq_exonic_rate_sub.index))\n",
    "rnaseq_exonic_rate_sub.head()"
   ]
  },
  {
   "cell_type": "markdown",
   "id": "172",
   "metadata": {},
   "source": [
    "### fix resequenced specimenIDs"
   ]
  },
  {
   "cell_type": "code",
   "execution_count": null,
   "id": "173",
   "metadata": {},
   "outputs": [],
   "source": [
    "rnaseq_meta_cov[rnaseq_meta_cov['specimenID'].str.contains('resequenced')]"
   ]
  },
  {
   "cell_type": "code",
   "execution_count": null,
   "id": "174",
   "metadata": {},
   "outputs": [],
   "source": [
    "rnaseq_meta_cov[rnaseq_meta_cov['specimenID'].str.contains('hB_RNA_8215')]"
   ]
  },
  {
   "cell_type": "code",
   "execution_count": null,
   "id": "175",
   "metadata": {},
   "outputs": [],
   "source": [
    "rnaseq_exonic_rate_sub[rnaseq_exonic_rate_sub['ID'].str.contains('resequenced')]"
   ]
  },
  {
   "cell_type": "code",
   "execution_count": null,
   "id": "176",
   "metadata": {},
   "outputs": [],
   "source": [
    "rnaseq_meta_cov['new_id'] = rnaseq_meta_cov['specimenID'].str.replace('_resequenced', '')\n",
    "rnaseq_meta_cov_dup_id = rnaseq_meta_cov[rnaseq_meta_cov.duplicated('new_id', keep = False)].sort_values(by = 'new_id')\n",
    "rnaseq_meta_cov_dup_fixed = rnaseq_meta_cov_dup_id[rnaseq_meta_cov_dup_id['specimenID'].str.contains('resequenced')]\n",
    "print(len(rnaseq_meta_cov_dup_id.index))\n",
    "print(len(rnaseq_meta_cov_dup_id['new_id'].unique()))\n",
    "print(len(rnaseq_meta_cov_dup_fixed.index))\n",
    "print(len(rnaseq_meta_cov_dup_fixed['new_id'].unique()))\n",
    "rnaseq_meta_cov_dup_fixed['specimenID'] = rnaseq_meta_cov_dup_fixed['new_id']\n",
    "rnaseq_meta_cov_dup_fixed.drop(columns = ['new_id'], inplace = True)\n",
    "rnaseq_meta_cov_no_dup = rnaseq_meta_cov[~rnaseq_meta_cov['specimenID'].isin(rnaseq_meta_cov_dup_id['specimenID'])]\n",
    "rnaseq_meta_cov_no_dup.drop(columns = ['new_id'], inplace = True)\n",
    "rnaseq_meta_cov_no_reseq = pd.concat([rnaseq_meta_cov_no_dup, rnaseq_meta_cov_dup_fixed], axis = 0)\n",
    "print(len(rnaseq_meta_cov.index))\n",
    "print(len(rnaseq_meta_cov_no_reseq.index))\n",
    "rnaseq_meta_cov_no_reseq.head()"
   ]
  },
  {
   "cell_type": "markdown",
   "id": "177",
   "metadata": {},
   "source": [
    "### filter to rnaseq data specimenIDs to fix duplicates"
   ]
  },
  {
   "cell_type": "code",
   "execution_count": null,
   "id": "178",
   "metadata": {},
   "outputs": [],
   "source": [
    "print(len(rnaseq_10_id.index))\n",
    "print(len(rnaseq_10_id['individualID'].unique()))\n",
    "print(len(rnaseq_22_id.index))\n",
    "print(len(rnaseq_22_id['individualID'].unique()))\n",
    "print(len(rnaseq_36_id.index))\n",
    "print(len(rnaseq_36_id['individualID'].unique()))\n",
    "print(len(rnaseq_44_id.index))\n",
    "print(len(rnaseq_44_id['individualID'].unique()))"
   ]
  },
  {
   "cell_type": "code",
   "execution_count": null,
   "id": "179",
   "metadata": {},
   "outputs": [],
   "source": [
    "all_rnaseq_ids = pd.concat([rnaseq_10_id, rnaseq_22_id, rnaseq_36_id, rnaseq_44_id], axis = 0)\n",
    "all_rnaseq_ids = all_rnaseq_ids[['specimenID']]\n",
    "all_rnaseq_ids.drop_duplicates(inplace = True)\n",
    "print(len(all_rnaseq_ids.index))\n",
    "all_rnaseq_ids.head()"
   ]
  },
  {
   "cell_type": "markdown",
   "id": "180",
   "metadata": {},
   "source": [
    "### map to individualIDs and specimenIDs"
   ]
  },
  {
   "cell_type": "code",
   "execution_count": null,
   "id": "181",
   "metadata": {},
   "outputs": [],
   "source": [
    "id_map_sub = id_map[['individualID', 'specimenID']]"
   ]
  },
  {
   "cell_type": "code",
   "execution_count": null,
   "id": "182",
   "metadata": {},
   "outputs": [],
   "source": [
    "rnaseq_meta_cov_id = id_map_sub.merge(rnaseq_meta_cov_no_reseq, on = 'specimenID', how = 'inner')\n",
    "print(len(rnaseq_meta_cov_no_reseq.index))\n",
    "print(len(rnaseq_meta_cov_id.index))\n",
    "rnaseq_meta_cov_id.head()"
   ]
  },
  {
   "cell_type": "code",
   "execution_count": null,
   "id": "183",
   "metadata": {},
   "outputs": [],
   "source": [
    "rnaseq_exonic_rate_sub.rename(columns = {'ID' : 'specimenID'}, inplace = True)\n",
    "rnaseq_exonic_rate_id = id_map_sub.merge(rnaseq_exonic_rate_sub, on = 'specimenID', how = 'inner')\n",
    "print(len(rnaseq_exonic_rate_sub.index))\n",
    "print(len(rnaseq_exonic_rate_id.index))\n",
    "rnaseq_exonic_rate_id.head()"
   ]
  },
  {
   "cell_type": "code",
   "execution_count": null,
   "id": "184",
   "metadata": {},
   "outputs": [],
   "source": [
    "clinical_meta_cov_id = id_map_sub.merge(clinical_meta_cov, on = 'individualID', how = 'inner')\n",
    "print(len(clinical_meta_cov.index))\n",
    "print(len(clinical_meta_cov_id.index))\n",
    "clinical_meta_cov_id.head()"
   ]
  },
  {
   "cell_type": "markdown",
   "id": "185",
   "metadata": {},
   "source": [
    "### merge"
   ]
  },
  {
   "cell_type": "code",
   "execution_count": null,
   "id": "186",
   "metadata": {},
   "outputs": [],
   "source": [
    "print(len(rnaseq_meta_cov_id.index))\n",
    "print(len(rnaseq_meta_cov_id['individualID'].unique()))\n",
    "print(len(rnaseq_exonic_rate_id.index))\n",
    "print(len(rnaseq_exonic_rate_id['individualID'].unique()))\n",
    "print(len(clinical_meta_cov.index))\n",
    "print(len(clinical_meta_cov['individualID'].unique()))"
   ]
  },
  {
   "cell_type": "code",
   "execution_count": null,
   "id": "187",
   "metadata": {},
   "outputs": [],
   "source": [
    "rnaseq_cov = clinical_meta_cov_id.merge(rnaseq_meta_cov_id, on = ['individualID' ,'specimenID'], how = 'inner').merge(rnaseq_exonic_rate_id, on = ['individualID' ,'specimenID'], how = 'inner')\n",
    "print(len(rnaseq_meta_cov_id.index))\n",
    "print(len(rnaseq_exonic_rate_id.index))\n",
    "print(len(clinical_meta_cov_id.index))\n",
    "print(len(rnaseq_cov.index))\n",
    "rnaseq_cov.head()"
   ]
  },
  {
   "cell_type": "markdown",
   "id": "188",
   "metadata": {},
   "source": [
    "### recode columns"
   ]
  },
  {
   "cell_type": "raw",
   "id": "189",
   "metadata": {},
   "source": [
    "# convert ageDeath 90+ to 90 and convert column type to float\n",
    "# recode sex column (male = 1, female = 2) and convert column type to float\n",
    "# recode race column (B = 1, W = 2, H = 3, A = 4, U = 5) and convert column type to float"
   ]
  },
  {
   "cell_type": "markdown",
   "id": "190",
   "metadata": {},
   "source": [
    "#### age death"
   ]
  },
  {
   "cell_type": "code",
   "execution_count": null,
   "id": "191",
   "metadata": {},
   "outputs": [],
   "source": [
    "rnaseq_cov['ageDeath'] = rnaseq_cov['ageDeath'].str.replace('+', '')\n",
    "rnaseq_cov['ageDeath'] = rnaseq_cov['ageDeath'].astype(float)\n",
    "print(rnaseq_cov['ageDeath'].describe().apply(lambda x: f\"{x:.0f}\"))"
   ]
  },
  {
   "cell_type": "markdown",
   "id": "192",
   "metadata": {},
   "source": [
    "#### sex"
   ]
  },
  {
   "cell_type": "code",
   "execution_count": null,
   "id": "193",
   "metadata": {},
   "outputs": [],
   "source": [
    "print(rnaseq_cov['sex'].unique())\n",
    "rnaseq_cov['sex'] = rnaseq_cov['sex'].str.replace('female', '2')\n",
    "rnaseq_cov['sex'] = rnaseq_cov['sex'].str.replace('male', '1')\n",
    "rnaseq_cov['sex'] = rnaseq_cov['sex'].astype(float)\n",
    "print(rnaseq_cov['sex'].unique())"
   ]
  },
  {
   "cell_type": "markdown",
   "id": "194",
   "metadata": {},
   "source": [
    "#### race"
   ]
  },
  {
   "cell_type": "code",
   "execution_count": null,
   "id": "195",
   "metadata": {},
   "outputs": [],
   "source": [
    "print(rnaseq_cov['race'].unique())\n",
    "rnaseq_cov['race'] = rnaseq_cov['race'].str.replace('B', '1')\n",
    "rnaseq_cov['race'] = rnaseq_cov['race'].str.replace('W', '2')\n",
    "rnaseq_cov['race'] = rnaseq_cov['race'].str.replace('H', '3')\n",
    "rnaseq_cov['race'] = rnaseq_cov['race'].str.replace('A', '4')\n",
    "rnaseq_cov['race'] = rnaseq_cov['race'].str.replace('U', '5')\n",
    "rnaseq_cov['race'] = rnaseq_cov['race'].astype(float)\n",
    "print(rnaseq_cov['race'].unique())"
   ]
  },
  {
   "cell_type": "markdown",
   "id": "196",
   "metadata": {},
   "source": [
    "#### sequencing batch"
   ]
  },
  {
   "cell_type": "code",
   "execution_count": null,
   "id": "197",
   "metadata": {},
   "outputs": [],
   "source": [
    "batch_unique = rnaseq_cov['sequencingBatch'].unique()\n",
    "print(rnaseq_cov['sequencingBatch'].value_counts(dropna = False))\n",
    "batch_labels = {label: i+1 for i, label in enumerate(batch_unique)}\n",
    "rnaseq_cov['sequencingBatch'] = rnaseq_cov['sequencingBatch'].map(batch_labels)\n",
    "print(rnaseq_cov['sequencingBatch'].value_counts(dropna = False))\n",
    "print(rnaseq_cov['sequencingBatch'].dtype)"
   ]
  },
  {
   "cell_type": "markdown",
   "id": "198",
   "metadata": {},
   "source": [
    "#### check other column dtypes"
   ]
  },
  {
   "cell_type": "code",
   "execution_count": null,
   "id": "199",
   "metadata": {},
   "outputs": [],
   "source": [
    "print(rnaseq_cov['pmi'].dtype)"
   ]
  },
  {
   "cell_type": "code",
   "execution_count": null,
   "id": "200",
   "metadata": {},
   "outputs": [],
   "source": [
    "print(rnaseq_cov['RIN'].dtype)"
   ]
  },
  {
   "cell_type": "code",
   "execution_count": null,
   "id": "201",
   "metadata": {},
   "outputs": [],
   "source": [
    "print(rnaseq_cov['rRNA.rate'].dtype)"
   ]
  },
  {
   "cell_type": "code",
   "execution_count": null,
   "id": "202",
   "metadata": {},
   "outputs": [],
   "source": [
    "print(rnaseq_cov['Exonic.Rate'].dtype)"
   ]
  },
  {
   "cell_type": "code",
   "execution_count": null,
   "id": "203",
   "metadata": {},
   "outputs": [],
   "source": [
    "rnaseq_cov.head()"
   ]
  },
  {
   "cell_type": "markdown",
   "id": "204",
   "metadata": {},
   "source": [
    "### merge w RNAseq data"
   ]
  },
  {
   "cell_type": "code",
   "execution_count": null,
   "id": "205",
   "metadata": {},
   "outputs": [],
   "source": [
    "rnaseq_10_cov = rnaseq_10_id.merge(rnaseq_cov, on = ['individualID', 'specimenID'], how = 'inner')\n",
    "print(len(rnaseq_10_id.index))\n",
    "print(len(rnaseq_10_cov.index))\n",
    "print(len(rnaseq_10_cov['individualID'].unique()))"
   ]
  },
  {
   "cell_type": "code",
   "execution_count": null,
   "id": "206",
   "metadata": {},
   "outputs": [],
   "source": [
    "rnaseq_22_cov = rnaseq_22_id.merge(rnaseq_cov, on = ['individualID', 'specimenID'], how = 'inner')\n",
    "print(len(rnaseq_22_id.index))\n",
    "print(len(rnaseq_22_cov.index))\n",
    "print(len(rnaseq_22_cov['individualID'].unique()))"
   ]
  },
  {
   "cell_type": "code",
   "execution_count": null,
   "id": "207",
   "metadata": {},
   "outputs": [],
   "source": [
    "rnaseq_36_cov = rnaseq_36_id.merge(rnaseq_cov, on = ['individualID', 'specimenID'], how = 'inner')\n",
    "print(len(rnaseq_36_id.index))\n",
    "print(len(rnaseq_36_cov.index))\n",
    "print(len(rnaseq_36_cov['individualID'].unique()))"
   ]
  },
  {
   "cell_type": "code",
   "execution_count": null,
   "id": "208",
   "metadata": {},
   "outputs": [],
   "source": [
    "rnaseq_44_cov = rnaseq_44_id.merge(rnaseq_cov, on = ['individualID', 'specimenID'], how = 'inner')\n",
    "print(len(rnaseq_44_id.index))\n",
    "print(len(rnaseq_44_cov.index))\n",
    "print(len(rnaseq_44_cov['individualID'].unique()))"
   ]
  },
  {
   "cell_type": "markdown",
   "id": "209",
   "metadata": {},
   "source": [
    "### correct for covariates"
   ]
  },
  {
   "cell_type": "markdown",
   "id": "210",
   "metadata": {},
   "source": [
    "#### 10"
   ]
  },
  {
   "cell_type": "code",
   "execution_count": null,
   "id": "211",
   "metadata": {},
   "outputs": [],
   "source": [
    "# Add intercept to covariate matrix\n",
    "X = sm.add_constant(rnaseq_10_cov[['sex',\n",
    "                                   'race',\n",
    "                                   'pmi',\n",
    "                                   'ageDeath',\n",
    "                                   'RIN',\n",
    "                                   'sequencingBatch',\n",
    "                                   'rRNA.rate',\n",
    "                                   'Exonic.Rate']])\n",
    "# Store residualized expression\n",
    "rnaseq_10_corrected = rnaseq_10_cov[['SampleID', 'SUBJID', 'individualID', 'specimenID']]\n",
    "\n",
    "rnaseq_10_gene_list_loop = rnaseq_10_cov.columns.tolist()\n",
    "remove_cols = ['sex',\n",
    "               'race',\n",
    "               'pmi',\n",
    "               'ageDeath',\n",
    "               'RIN',\n",
    "               'sequencingBatch',\n",
    "               'rRNA.rate',\n",
    "               'Exonic.Rate',\n",
    "               'SampleID',\n",
    "               'SUBJID',\n",
    "               'individualID',\n",
    "               'specimenID']\n",
    "\n",
    "print(len(rnaseq_10_gene_list_loop))\n",
    "for col in remove_cols:\n",
    "    rnaseq_10_gene_list_loop.remove(col)\n",
    "print(len(rnaseq_10_gene_list_loop))\n",
    "\n",
    "for index, gene in enumerate(rnaseq_10_gene_list_loop):\n",
    "    print(index)\n",
    "    rnaseq_10_cov[gene] = rnaseq_10_cov[gene].astype(float)\n",
    "    y = rnaseq_10_cov[gene]\n",
    "    \n",
    "    # Fit linear model\n",
    "    model = sm.OLS(y, X).fit()\n",
    "    \n",
    "    # Get residuals\n",
    "    rnaseq_10_corrected[gene] = model.resid"
   ]
  },
  {
   "cell_type": "code",
   "execution_count": null,
   "id": "212",
   "metadata": {},
   "outputs": [],
   "source": [
    "print(len(rnaseq_10_gene_list_loop))\n",
    "print(len(rnaseq_10_corrected.columns))\n",
    "rnaseq_10_corrected.head()"
   ]
  },
  {
   "cell_type": "markdown",
   "id": "213",
   "metadata": {},
   "source": [
    "#### 22"
   ]
  },
  {
   "cell_type": "code",
   "execution_count": null,
   "id": "214",
   "metadata": {},
   "outputs": [],
   "source": [
    "# Add intercept to covariate matrix\n",
    "X = sm.add_constant(rnaseq_22_cov[['sex',\n",
    "                                   'race',\n",
    "                                   'pmi',\n",
    "                                   'ageDeath',\n",
    "                                   'RIN',\n",
    "                                   'sequencingBatch',\n",
    "                                   'rRNA.rate',\n",
    "                                   'Exonic.Rate']])\n",
    "# Store residualized expression\n",
    "rnaseq_22_corrected = rnaseq_22_cov[['SampleID', 'SUBJID', 'individualID', 'specimenID']]\n",
    "\n",
    "rnaseq_22_gene_list_loop = rnaseq_22_cov.columns.tolist()\n",
    "remove_cols = ['sex',\n",
    "               'race',\n",
    "               'pmi',\n",
    "               'ageDeath',\n",
    "               'RIN',\n",
    "               'sequencingBatch',\n",
    "               'rRNA.rate',\n",
    "               'Exonic.Rate',\n",
    "               'SampleID',\n",
    "               'SUBJID',\n",
    "               'individualID',\n",
    "               'specimenID']\n",
    "\n",
    "print(len(rnaseq_22_gene_list_loop))\n",
    "for col in remove_cols:\n",
    "    rnaseq_22_gene_list_loop.remove(col)\n",
    "print(len(rnaseq_22_gene_list_loop))\n",
    "\n",
    "for index, gene in enumerate(rnaseq_22_gene_list_loop):\n",
    "    print(index)\n",
    "    rnaseq_22_cov[gene] = rnaseq_22_cov[gene].astype(float)\n",
    "    y = rnaseq_22_cov[gene]\n",
    "    \n",
    "    # Fit linear model\n",
    "    model = sm.OLS(y, X).fit()\n",
    "    \n",
    "    # Get residuals\n",
    "    rnaseq_22_corrected[gene] = model.resid"
   ]
  },
  {
   "cell_type": "code",
   "execution_count": null,
   "id": "215",
   "metadata": {},
   "outputs": [],
   "source": [
    "print(len(rnaseq_22_gene_list_loop))\n",
    "print(len(rnaseq_22_corrected.columns))\n",
    "rnaseq_22_corrected.head()"
   ]
  },
  {
   "cell_type": "markdown",
   "id": "216",
   "metadata": {},
   "source": [
    "#### 36"
   ]
  },
  {
   "cell_type": "code",
   "execution_count": null,
   "id": "217",
   "metadata": {},
   "outputs": [],
   "source": [
    "# Add intercept to covariate matrix\n",
    "X = sm.add_constant(rnaseq_36_cov[['sex',\n",
    "                                   'race',\n",
    "                                   'pmi',\n",
    "                                   'ageDeath',\n",
    "                                   'RIN',\n",
    "                                   'sequencingBatch',\n",
    "                                   'rRNA.rate',\n",
    "                                   'Exonic.Rate']])\n",
    "# Store residualized expression\n",
    "rnaseq_36_corrected = rnaseq_36_cov[['SampleID', 'SUBJID', 'individualID', 'specimenID']]\n",
    "\n",
    "rnaseq_36_gene_list_loop = rnaseq_36_cov.columns.tolist()\n",
    "remove_cols = ['sex',\n",
    "               'race',\n",
    "               'pmi',\n",
    "               'ageDeath',\n",
    "               'RIN',\n",
    "               'sequencingBatch',\n",
    "               'rRNA.rate',\n",
    "               'Exonic.Rate',\n",
    "               'SampleID',\n",
    "               'SUBJID',\n",
    "               'individualID',\n",
    "               'specimenID']\n",
    "\n",
    "print(len(rnaseq_36_gene_list_loop))\n",
    "for col in remove_cols:\n",
    "    rnaseq_36_gene_list_loop.remove(col)\n",
    "print(len(rnaseq_36_gene_list_loop))\n",
    "\n",
    "for index, gene in enumerate(rnaseq_36_gene_list_loop):\n",
    "    print(index)\n",
    "    rnaseq_36_cov[gene] = rnaseq_36_cov[gene].astype(float)\n",
    "    y = rnaseq_36_cov[gene]\n",
    "    \n",
    "    # Fit linear model\n",
    "    model = sm.OLS(y, X).fit()\n",
    "    \n",
    "    # Get residuals\n",
    "    rnaseq_36_corrected[gene] = model.resid"
   ]
  },
  {
   "cell_type": "code",
   "execution_count": null,
   "id": "218",
   "metadata": {},
   "outputs": [],
   "source": [
    "print(len(rnaseq_36_gene_list_loop))\n",
    "print(len(rnaseq_36_corrected.columns))\n",
    "rnaseq_36_corrected.head()"
   ]
  },
  {
   "cell_type": "markdown",
   "id": "219",
   "metadata": {},
   "source": [
    "#### 44"
   ]
  },
  {
   "cell_type": "code",
   "execution_count": null,
   "id": "220",
   "metadata": {},
   "outputs": [],
   "source": [
    "# Add intercept to covariate matrix\n",
    "X = sm.add_constant(rnaseq_44_cov[['sex',\n",
    "                                   'race',\n",
    "                                   'pmi',\n",
    "                                   'ageDeath',\n",
    "                                   'RIN',\n",
    "                                   'sequencingBatch',\n",
    "                                   'rRNA.rate',\n",
    "                                   'Exonic.Rate']])\n",
    "# Store residualized expression\n",
    "rnaseq_44_corrected = rnaseq_44_cov[['SampleID', 'SUBJID', 'individualID', 'specimenID']]\n",
    "\n",
    "rnaseq_44_gene_list_loop = rnaseq_44_cov.columns.tolist()\n",
    "remove_cols = ['sex',\n",
    "               'race',\n",
    "               'pmi',\n",
    "               'ageDeath',\n",
    "               'RIN',\n",
    "               'sequencingBatch',\n",
    "               'rRNA.rate',\n",
    "               'Exonic.Rate',\n",
    "               'SampleID',\n",
    "               'SUBJID',\n",
    "               'individualID',\n",
    "               'specimenID']\n",
    "\n",
    "print(len(rnaseq_44_gene_list_loop))\n",
    "for col in remove_cols:\n",
    "    rnaseq_44_gene_list_loop.remove(col)\n",
    "print(len(rnaseq_44_gene_list_loop))\n",
    "\n",
    "for index, gene in enumerate(rnaseq_44_gene_list_loop):\n",
    "    print(index)\n",
    "    rnaseq_44_cov[gene] = rnaseq_44_cov[gene].astype(float)\n",
    "    y = rnaseq_44_cov[gene]\n",
    "    \n",
    "    # Fit linear model\n",
    "    model = sm.OLS(y, X).fit()\n",
    "    \n",
    "    # Get residuals\n",
    "    rnaseq_44_corrected[gene] = model.resid"
   ]
  },
  {
   "cell_type": "code",
   "execution_count": null,
   "id": "221",
   "metadata": {},
   "outputs": [],
   "source": [
    "print(len(rnaseq_44_gene_list_loop))\n",
    "print(len(rnaseq_44_corrected.columns))\n",
    "rnaseq_44_corrected.head()"
   ]
  },
  {
   "cell_type": "markdown",
   "id": "222",
   "metadata": {},
   "source": [
    "## create common ID col and transpose back (for new script)"
   ]
  },
  {
   "cell_type": "raw",
   "id": "223",
   "metadata": {},
   "source": [
    "ID format: SampleID:individualID"
   ]
  },
  {
   "cell_type": "code",
   "execution_count": null,
   "id": "224",
   "metadata": {},
   "outputs": [],
   "source": [
    "rnaseq_10_reformat = rnaseq_10_corrected.copy()\n",
    "rnaseq_10_reformat['ID'] = rnaseq_10_reformat['SampleID'] + ':' + rnaseq_10_reformat['individualID']\n",
    "rnaseq_10_reformat.set_index('ID', inplace = True)\n",
    "rnaseq_10_reformat.drop(columns = ['SampleID', 'SUBJID', 'individualID', 'specimenID'], inplace = True)\n",
    "rnaseq_10_reformat = rnaseq_10_reformat.transpose()\n",
    "rnaseq_10_reformat.insert(0, 'GENE', rnaseq_10_reformat.index)\n",
    "rnaseq_10_reformat.head()"
   ]
  },
  {
   "cell_type": "code",
   "execution_count": null,
   "id": "225",
   "metadata": {},
   "outputs": [],
   "source": [
    "rnaseq_22_reformat = rnaseq_22_corrected.copy()\n",
    "rnaseq_22_reformat['ID'] = rnaseq_22_reformat['SampleID'] + ':' + rnaseq_22_reformat['individualID']\n",
    "rnaseq_22_reformat.set_index('ID', inplace = True)\n",
    "rnaseq_22_reformat.drop(columns = ['SampleID', 'SUBJID', 'individualID', 'specimenID'], inplace = True)\n",
    "rnaseq_22_reformat = rnaseq_22_reformat.transpose()\n",
    "rnaseq_22_reformat.insert(0, 'GENE', rnaseq_22_reformat.index)\n",
    "rnaseq_22_reformat.head()"
   ]
  },
  {
   "cell_type": "code",
   "execution_count": null,
   "id": "226",
   "metadata": {},
   "outputs": [],
   "source": [
    "rnaseq_36_reformat = rnaseq_36_corrected.copy()\n",
    "rnaseq_36_reformat['ID'] = rnaseq_36_reformat['SampleID'] + ':' + rnaseq_36_reformat['individualID']\n",
    "rnaseq_36_reformat.set_index('ID', inplace = True)\n",
    "rnaseq_36_reformat.drop(columns = ['SampleID', 'SUBJID', 'individualID', 'specimenID'], inplace = True)\n",
    "rnaseq_36_reformat = rnaseq_36_reformat.transpose()\n",
    "rnaseq_36_reformat.insert(0, 'GENE', rnaseq_36_reformat.index)\n",
    "rnaseq_36_reformat.head()"
   ]
  },
  {
   "cell_type": "code",
   "execution_count": null,
   "id": "227",
   "metadata": {},
   "outputs": [],
   "source": [
    "rnaseq_44_reformat = rnaseq_44_corrected.copy()\n",
    "rnaseq_44_reformat['ID'] = rnaseq_44_reformat['SampleID'] + ':' + rnaseq_44_reformat['individualID']\n",
    "rnaseq_44_reformat.set_index('ID', inplace = True)\n",
    "rnaseq_44_reformat.drop(columns = ['SampleID', 'SUBJID', 'individualID', 'specimenID'], inplace = True)\n",
    "rnaseq_44_reformat = rnaseq_44_reformat.transpose()\n",
    "rnaseq_44_reformat.insert(0, 'GENE', rnaseq_44_reformat.index)\n",
    "rnaseq_44_reformat.head()"
   ]
  },
  {
   "cell_type": "markdown",
   "id": "228",
   "metadata": {},
   "source": [
    "## create gene list"
   ]
  },
  {
   "cell_type": "code",
   "execution_count": null,
   "id": "229",
   "metadata": {},
   "outputs": [],
   "source": [
    "rnaseq_gene_list = pd.concat([rnaseq_10_reformat[['GENE']], rnaseq_22_reformat[['GENE']], rnaseq_36_reformat[['GENE']], rnaseq_44_reformat[['GENE']]], axis = 0)\n",
    "print(len(rnaseq_gene_list.index))\n",
    "rnaseq_gene_list.drop_duplicates(inplace = True)\n",
    "print(len(rnaseq_gene_list.index))\n",
    "rnaseq_gene_list.head()"
   ]
  },
  {
   "cell_type": "markdown",
   "id": "230",
   "metadata": {},
   "source": [
    "## check final shapes"
   ]
  },
  {
   "cell_type": "code",
   "execution_count": null,
   "id": "231",
   "metadata": {},
   "outputs": [],
   "source": [
    "print(rnaseq_10_corrected.shape)\n",
    "print(rnaseq_10_reformat.shape)"
   ]
  },
  {
   "cell_type": "code",
   "execution_count": null,
   "id": "232",
   "metadata": {},
   "outputs": [],
   "source": [
    "print(rnaseq_22_corrected.shape)\n",
    "print(rnaseq_22_reformat.shape)"
   ]
  },
  {
   "cell_type": "code",
   "execution_count": null,
   "id": "233",
   "metadata": {},
   "outputs": [],
   "source": [
    "print(rnaseq_36_corrected.shape)\n",
    "print(rnaseq_36_reformat.shape)"
   ]
  },
  {
   "cell_type": "code",
   "execution_count": null,
   "id": "234",
   "metadata": {},
   "outputs": [],
   "source": [
    "print(rnaseq_44_corrected.shape)\n",
    "print(rnaseq_44_reformat.shape)"
   ]
  },
  {
   "cell_type": "markdown",
   "id": "235",
   "metadata": {},
   "source": [
    "# clean methylation"
   ]
  },
  {
   "cell_type": "markdown",
   "id": "236",
   "metadata": {},
   "source": [
    "## map to genes and accessions"
   ]
  },
  {
   "cell_type": "markdown",
   "id": "237",
   "metadata": {},
   "source": [
    "### subset and rename"
   ]
  },
  {
   "cell_type": "code",
   "execution_count": null,
   "id": "238",
   "metadata": {},
   "outputs": [],
   "source": [
    "methyl_gene_map_sub = methyl_gene_map[['IlmnID', 'GencodeBasicV12_NAME', 'UCSC_RefGene_Accession']]\n",
    "methyl_gene_map_sub.rename(columns = {'GencodeBasicV12_NAME' : 'GENE',\n",
    "                                      'UCSC_RefGene_Accession' : 'Accession'}, inplace = True)\n",
    "methyl_gene_map_sub.head()"
   ]
  },
  {
   "cell_type": "code",
   "execution_count": null,
   "id": "239",
   "metadata": {},
   "outputs": [],
   "source": [
    "methyl_gene_map_missing_sub = methyl_gene_map_missing[['IlmnID', 'GencodeBasicV12_NAME', 'UCSC_RefGene_Accession']]\n",
    "methyl_gene_map_missing_sub.rename(columns = {'GencodeBasicV12_NAME' : 'GENE',\n",
    "                                      'UCSC_RefGene_Accession' : 'Accession'}, inplace = True)\n",
    "methyl_gene_map_missing_sub.head()"
   ]
  },
  {
   "cell_type": "code",
   "execution_count": null,
   "id": "240",
   "metadata": {},
   "outputs": [],
   "source": [
    "methyl.rename(columns = {'Unnamed: 0' : 'IlmnID'}, inplace = True)\n",
    "methyl.head()"
   ]
  },
  {
   "cell_type": "markdown",
   "id": "241",
   "metadata": {},
   "source": [
    "### split genes and accessions into their own rows"
   ]
  },
  {
   "cell_type": "code",
   "execution_count": null,
   "id": "242",
   "metadata": {},
   "outputs": [],
   "source": [
    "methyl_gene_map_explode = (methyl_gene_map_sub.assign(GENE = methyl_gene_map_sub['GENE'].str.split(';')).explode(['GENE']).reset_index(drop = True))\n",
    "methyl_gene_map_explode.head()"
   ]
  },
  {
   "cell_type": "code",
   "execution_count": null,
   "id": "243",
   "metadata": {},
   "outputs": [],
   "source": [
    "methyl_gene_map_explode = (methyl_gene_map_explode.assign(Accession = methyl_gene_map_sub['Accession'].str.split(';')).explode(['Accession']).reset_index(drop = True))\n",
    "methyl_gene_map_explode.head()"
   ]
  },
  {
   "cell_type": "code",
   "execution_count": null,
   "id": "244",
   "metadata": {},
   "outputs": [],
   "source": [
    "methyl_gene_map_missing_explode = (methyl_gene_map_missing_sub.assign(GENE = methyl_gene_map_missing_sub['GENE'].str.split(';')).explode(['GENE']).reset_index(drop = True))\n",
    "methyl_gene_map_missing_explode = (methyl_gene_map_missing_explode.assign(Accession = methyl_gene_map_missing_sub['Accession'].str.split(';')).explode(['Accession']).reset_index(drop = True))\n",
    "methyl_gene_map_missing_explode.head()"
   ]
  },
  {
   "cell_type": "markdown",
   "id": "245",
   "metadata": {},
   "source": [
    "### concatenate gene maps"
   ]
  },
  {
   "cell_type": "code",
   "execution_count": null,
   "id": "246",
   "metadata": {},
   "outputs": [],
   "source": [
    "methyl_gene_map_all = pd.concat([methyl_gene_map_explode, methyl_gene_map_missing_explode], axis = 0)\n",
    "methyl_gene_map_all.head()"
   ]
  },
  {
   "cell_type": "markdown",
   "id": "247",
   "metadata": {},
   "source": [
    "### merge"
   ]
  },
  {
   "cell_type": "code",
   "execution_count": null,
   "id": "248",
   "metadata": {},
   "outputs": [],
   "source": [
    "methyl_gene = methyl_gene_map_all.merge(methyl, on = 'IlmnID', how = 'inner')\n",
    "print(len(methyl_gene.index))\n",
    "print(len(methyl_gene['IlmnID'].unique()))\n",
    "print(len(methyl['IlmnID'].unique()))\n",
    "methyl_gene.head()"
   ]
  },
  {
   "cell_type": "markdown",
   "id": "249",
   "metadata": {},
   "source": [
    "### check out ids that didn't map"
   ]
  },
  {
   "cell_type": "raw",
   "id": "250",
   "metadata": {},
   "source": [
    "# they are in the legacy file (were likely discontinued in more recent arrays)"
   ]
  },
  {
   "cell_type": "code",
   "execution_count": null,
   "id": "251",
   "metadata": {},
   "outputs": [],
   "source": [
    "methyl_no_map = methyl[~methyl['IlmnID'].isin(methyl_gene['IlmnID'])]\n",
    "print(len(methyl_no_map.index))\n",
    "methyl_no_map['IlmnID']"
   ]
  },
  {
   "cell_type": "markdown",
   "id": "252",
   "metadata": {},
   "source": [
    "### drop missing genes and accessions"
   ]
  },
  {
   "cell_type": "code",
   "execution_count": null,
   "id": "253",
   "metadata": {},
   "outputs": [],
   "source": [
    "print(len(methyl_gene.index))\n",
    "print(len(methyl_gene['IlmnID'].unique()))\n",
    "methyl_gene.dropna(subset = ['GENE', 'Accession'], inplace = True)\n",
    "print(len(methyl_gene.index))\n",
    "print(len(methyl_gene['IlmnID'].unique()))"
   ]
  },
  {
   "cell_type": "markdown",
   "id": "254",
   "metadata": {},
   "source": [
    "### drop duplicates"
   ]
  },
  {
   "cell_type": "raw",
   "id": "255",
   "metadata": {},
   "source": [
    "# there are none"
   ]
  },
  {
   "cell_type": "code",
   "execution_count": null,
   "id": "256",
   "metadata": {},
   "outputs": [],
   "source": [
    "print(len(methyl_gene.index))\n",
    "print(len(methyl_gene['IlmnID'].unique()))\n",
    "methyl_gene.drop_duplicates(inplace = True)\n",
    "print(len(methyl_gene.index))\n",
    "print(len(methyl_gene['IlmnID'].unique()))"
   ]
  },
  {
   "cell_type": "markdown",
   "id": "257",
   "metadata": {},
   "source": [
    "### create unique ID"
   ]
  },
  {
   "cell_type": "code",
   "execution_count": null,
   "id": "258",
   "metadata": {},
   "outputs": [],
   "source": [
    "methyl_gene.insert(0, 'RefGene_TargetID_Accession', methyl_gene['GENE'] + '_' + methyl_gene['IlmnID'] + '_' + methyl_gene['Accession'])\n",
    "methyl_gene.head()"
   ]
  },
  {
   "cell_type": "markdown",
   "id": "259",
   "metadata": {},
   "source": [
    "### filter to reference transcripts"
   ]
  },
  {
   "cell_type": "code",
   "execution_count": null,
   "id": "260",
   "metadata": {},
   "outputs": [],
   "source": [
    "ref_direct = ref[ref['info_type'].isin(['DIRECT'])]\n",
    "print(len(ref_direct.index))\n",
    "print(ref_direct['info_type'].unique())"
   ]
  },
  {
   "cell_type": "code",
   "execution_count": null,
   "id": "261",
   "metadata": {},
   "outputs": [],
   "source": [
    "methyl_ref = methyl_gene[methyl_gene['Accession'].isin(ref_direct['xref'])]\n",
    "print(len(methyl_ref['Accession'].unique()))\n",
    "print(len(methyl_ref['IlmnID'].unique()))\n",
    "print(len(methyl_gene['Accession'].unique()))\n",
    "print(len(methyl_gene['IlmnID'].unique()))"
   ]
  },
  {
   "cell_type": "markdown",
   "id": "262",
   "metadata": {},
   "source": [
    "### create gene list"
   ]
  },
  {
   "cell_type": "code",
   "execution_count": null,
   "id": "263",
   "metadata": {},
   "outputs": [],
   "source": [
    "methyl_gene_list = methyl_ref[['GENE']].drop_duplicates()\n",
    "print(len(methyl_gene_list['GENE'].unique()))\n",
    "len(methyl_gene_list.index)"
   ]
  },
  {
   "cell_type": "markdown",
   "id": "264",
   "metadata": {},
   "source": [
    "### drop other ID columns"
   ]
  },
  {
   "cell_type": "code",
   "execution_count": null,
   "id": "265",
   "metadata": {},
   "outputs": [],
   "source": [
    "methyl_ref.drop(columns = ['IlmnID', 'GENE', 'Accession'], inplace = True)\n",
    "methyl_ref.head()"
   ]
  },
  {
   "cell_type": "markdown",
   "id": "266",
   "metadata": {},
   "source": [
    "## map to individual IDs"
   ]
  },
  {
   "cell_type": "markdown",
   "id": "267",
   "metadata": {},
   "source": [
    "### transpose"
   ]
  },
  {
   "cell_type": "code",
   "execution_count": null,
   "id": "268",
   "metadata": {},
   "outputs": [],
   "source": [
    "methyl_transpose = methyl_ref.transpose()\n",
    "methyl_transpose.columns = methyl_transpose.iloc[0]\n",
    "methyl_transpose = methyl_transpose.iloc[1:]\n",
    "methyl_transpose['Sample_Name'] = methyl_transpose.index\n",
    "methyl_transpose['Sample_Name'] = methyl_transpose['Sample_Name'].str.replace('#', '').astype(int)\n",
    "methyl_transpose.head()"
   ]
  },
  {
   "cell_type": "markdown",
   "id": "269",
   "metadata": {},
   "source": [
    "### add specimen IDs"
   ]
  },
  {
   "cell_type": "code",
   "execution_count": null,
   "id": "270",
   "metadata": {},
   "outputs": [],
   "source": [
    "methyl_meta_sub = methyl_meta[['specimenID', 'Sample_Name']]"
   ]
  },
  {
   "cell_type": "code",
   "execution_count": null,
   "id": "271",
   "metadata": {},
   "outputs": [],
   "source": [
    "methyl_specimen_id = methyl_meta_sub.merge(methyl_transpose, on = 'Sample_Name', how = 'inner')\n",
    "print(len(methyl_specimen_id.index))\n",
    "print(len(methyl_meta_sub.index))\n",
    "print(len(methyl_transpose.index))"
   ]
  },
  {
   "cell_type": "markdown",
   "id": "272",
   "metadata": {},
   "source": [
    "### merge"
   ]
  },
  {
   "cell_type": "raw",
   "id": "273",
   "metadata": {},
   "source": [
    "2 IDs not in ADSP"
   ]
  },
  {
   "cell_type": "code",
   "execution_count": null,
   "id": "274",
   "metadata": {},
   "outputs": [],
   "source": [
    "methyl_id = id_map.merge(methyl_specimen_id, on = 'specimenID')\n",
    "print(len(methyl_transpose.index))\n",
    "print(len(methyl_id.index))\n",
    "methyl_id.head()"
   ]
  },
  {
   "cell_type": "markdown",
   "id": "275",
   "metadata": {},
   "source": [
    "### drop sample name column"
   ]
  },
  {
   "cell_type": "code",
   "execution_count": null,
   "id": "276",
   "metadata": {},
   "outputs": [],
   "source": [
    "methyl_id.drop(columns = ['Sample_Name'], inplace = True)"
   ]
  },
  {
   "cell_type": "markdown",
   "id": "277",
   "metadata": {},
   "source": [
    "## convert to m-values"
   ]
  },
  {
   "cell_type": "markdown",
   "id": "278",
   "metadata": {},
   "source": [
    "### create function"
   ]
  },
  {
   "cell_type": "code",
   "execution_count": null,
   "id": "279",
   "metadata": {},
   "outputs": [],
   "source": [
    "def beta_to_m(beta):\n",
    "    beta = beta.copy()\n",
    "    beta[(beta <= 0) | (beta >= 1)] = np.nan\n",
    "    return np.log2(beta / (1 - beta))"
   ]
  },
  {
   "cell_type": "markdown",
   "id": "280",
   "metadata": {},
   "source": [
    "### extract id cols"
   ]
  },
  {
   "cell_type": "code",
   "execution_count": null,
   "id": "281",
   "metadata": {},
   "outputs": [],
   "source": [
    "methyl_id_only = methyl_id[['SampleID', 'SUBJID', 'individualID', 'specimenID']]"
   ]
  },
  {
   "cell_type": "code",
   "execution_count": null,
   "id": "282",
   "metadata": {},
   "outputs": [],
   "source": [
    "methyl_no_id = methyl_id.drop(columns = ['SampleID', 'SUBJID', 'individualID', 'specimenID'])\n",
    "methyl_no_id.head()"
   ]
  },
  {
   "cell_type": "markdown",
   "id": "283",
   "metadata": {},
   "source": [
    "### convert to float"
   ]
  },
  {
   "cell_type": "code",
   "execution_count": null,
   "id": "284",
   "metadata": {},
   "outputs": [],
   "source": [
    "methyl_no_id = methyl_no_id.astype(float)\n",
    "methyl_no_id.head()"
   ]
  },
  {
   "cell_type": "markdown",
   "id": "285",
   "metadata": {},
   "source": [
    "### normalize"
   ]
  },
  {
   "cell_type": "code",
   "execution_count": null,
   "id": "286",
   "metadata": {},
   "outputs": [],
   "source": [
    "methyl_norm = beta_to_m(methyl_no_id)\n",
    "methyl_norm.head()"
   ]
  },
  {
   "cell_type": "markdown",
   "id": "287",
   "metadata": {},
   "source": [
    "### add ID cols back in"
   ]
  },
  {
   "cell_type": "code",
   "execution_count": null,
   "id": "288",
   "metadata": {},
   "outputs": [],
   "source": [
    "methyl_norm_id = pd.concat([methyl_id_only, methyl_norm], axis = 1)\n",
    "methyl_norm_id.head()"
   ]
  },
  {
   "cell_type": "markdown",
   "id": "289",
   "metadata": {},
   "source": [
    "## transpose and add common id"
   ]
  },
  {
   "cell_type": "code",
   "execution_count": null,
   "id": "290",
   "metadata": {},
   "outputs": [],
   "source": [
    "methyl_norm_reformat = methyl_norm_id.copy()\n",
    "methyl_norm_reformat['ID'] = methyl_norm_reformat['SampleID'] + ':' + methyl_norm_reformat['individualID']\n",
    "methyl_norm_reformat.set_index('ID', inplace = True)\n",
    "methyl_norm_reformat.drop(columns = ['SampleID', 'SUBJID', 'individualID', 'specimenID'], inplace = True)\n",
    "methyl_norm_reformat = methyl_norm_reformat.transpose()\n",
    "methyl_norm_reformat.insert(0, 'GENE', methyl_norm_reformat.index)\n",
    "methyl_norm_reformat.head()"
   ]
  },
  {
   "cell_type": "markdown",
   "id": "291",
   "metadata": {},
   "source": [
    "# clean proteomics"
   ]
  },
  {
   "cell_type": "raw",
   "id": "292",
   "metadata": {},
   "source": [
    "# drop proteins with missing genes\n",
    "# cleaned up duplicated by removing isoforms\n",
    "# remaining duplicates are APOE, APP, and PIK3R3\n",
    "# APOE has entire protein, e4 subset, and e2 subset - I will keep entire protein\n",
    "# APP has entire protein and AB 42 subset - I will keep entire protein\n",
    "# PIK3R3 - keeping Q92569 because it is reviewed by UniProtKB (F6TDL0 is not) - these have differing numbers of AA"
   ]
  },
  {
   "cell_type": "markdown",
   "id": "293",
   "metadata": {},
   "source": [
    "## subset and rename"
   ]
  },
  {
   "cell_type": "code",
   "execution_count": null,
   "id": "294",
   "metadata": {},
   "outputs": [],
   "source": [
    "tmt_sub = tmt.drop(columns = ['Unnamed: 0'])\n",
    "tmt_sub.rename(columns = {'Unnamed: 1' : 'GENE', 'Unnamed: 2' : 'Protein_Accession', 'Unnamed: 3' : 'Annotation'}, inplace = True)\n",
    "tmt_sub.head()"
   ]
  },
  {
   "cell_type": "markdown",
   "id": "295",
   "metadata": {},
   "source": [
    "## drop missing genes"
   ]
  },
  {
   "cell_type": "code",
   "execution_count": null,
   "id": "296",
   "metadata": {},
   "outputs": [],
   "source": [
    "print(len(tmt_sub.index))\n",
    "tmt_sub.dropna(subset = ['GENE'], inplace = True)\n",
    "print(len(tmt_sub.index))"
   ]
  },
  {
   "cell_type": "markdown",
   "id": "297",
   "metadata": {},
   "source": [
    "## assess duplicates"
   ]
  },
  {
   "cell_type": "code",
   "execution_count": null,
   "id": "298",
   "metadata": {},
   "outputs": [],
   "source": [
    "tmt_dup = tmt_sub[tmt_sub.duplicated('GENE', keep = False)]\n",
    "print(len(tmt_dup.index))\n",
    "print(len(tmt_dup['GENE'].unique()))\n",
    "tmt_dup.head()"
   ]
  },
  {
   "cell_type": "markdown",
   "id": "299",
   "metadata": {},
   "source": [
    "## remove isoforms"
   ]
  },
  {
   "cell_type": "code",
   "execution_count": null,
   "id": "300",
   "metadata": {},
   "outputs": [],
   "source": [
    "tmt_dup_fixed = tmt_dup[~tmt_dup['Annotation'].str.contains('Isoform')]\n",
    "print(len(tmt_dup_fixed.index))\n",
    "print(len(tmt_dup_fixed['GENE'].unique()))\n",
    "tmt_dup_fixed.head()"
   ]
  },
  {
   "cell_type": "markdown",
   "id": "301",
   "metadata": {},
   "source": [
    "## assess remaining dups"
   ]
  },
  {
   "cell_type": "code",
   "execution_count": null,
   "id": "302",
   "metadata": {},
   "outputs": [],
   "source": [
    "tmt_still_dup = tmt_dup_fixed[tmt_dup_fixed.duplicated('GENE', keep = False)]\n",
    "print(len(tmt_still_dup.index))\n",
    "print(len(tmt_still_dup['GENE'].unique()))\n",
    "print(tmt_still_dup['GENE'].unique())\n",
    "tmt_still_dup"
   ]
  },
  {
   "cell_type": "markdown",
   "id": "303",
   "metadata": {},
   "source": [
    "## clean remaining dups"
   ]
  },
  {
   "cell_type": "code",
   "execution_count": null,
   "id": "304",
   "metadata": {},
   "outputs": [],
   "source": [
    "tmt_dup_fixed_again = tmt_still_dup[tmt_still_dup.index.isin([690, 699, 7855])]\n",
    "print(len(tmt_dup_fixed_again.index))\n",
    "tmt_dup_fixed_again.head()"
   ]
  },
  {
   "cell_type": "markdown",
   "id": "305",
   "metadata": {},
   "source": [
    "## concat"
   ]
  },
  {
   "cell_type": "code",
   "execution_count": null,
   "id": "306",
   "metadata": {},
   "outputs": [],
   "source": [
    "tmt_no_dups = tmt_sub[~tmt_sub['GENE'].isin(tmt_dup['GENE'])]\n",
    "print(len(tmt_sub.index))\n",
    "print(len(tmt_no_dups.index))"
   ]
  },
  {
   "cell_type": "code",
   "execution_count": null,
   "id": "307",
   "metadata": {},
   "outputs": [],
   "source": [
    "print(len(tmt_dup_fixed.index))\n",
    "tmt_dup_fixed = tmt_dup_fixed[~tmt_dup_fixed['GENE'].isin(tmt_still_dup['GENE'])]\n",
    "print(len(tmt_dup_fixed.index))"
   ]
  },
  {
   "cell_type": "code",
   "execution_count": null,
   "id": "308",
   "metadata": {},
   "outputs": [],
   "source": [
    "tmt_clean = pd.concat([tmt_no_dups, tmt_dup_fixed, tmt_dup_fixed_again], axis = 0)\n",
    "print(len(tmt_sub.index))\n",
    "print(len(tmt_clean.index))\n",
    "print(len(tmt_clean['GENE'].unique()))\n",
    "tmt_clean.head()"
   ]
  },
  {
   "cell_type": "markdown",
   "id": "309",
   "metadata": {},
   "source": [
    "## create gene list"
   ]
  },
  {
   "cell_type": "code",
   "execution_count": null,
   "id": "310",
   "metadata": {},
   "outputs": [],
   "source": [
    "tmt_gene_list = tmt_clean[['GENE']]\n",
    "tmt_gene_list.head()"
   ]
  },
  {
   "cell_type": "markdown",
   "id": "311",
   "metadata": {},
   "source": [
    "## map to individual IDs"
   ]
  },
  {
   "cell_type": "markdown",
   "id": "312",
   "metadata": {},
   "source": [
    "### remove protein and annotation columns"
   ]
  },
  {
   "cell_type": "code",
   "execution_count": null,
   "id": "313",
   "metadata": {},
   "outputs": [],
   "source": [
    "tmt_clean.drop(columns = ['Protein_Accession', 'Annotation'], inplace = True)"
   ]
  },
  {
   "cell_type": "markdown",
   "id": "314",
   "metadata": {},
   "source": [
    "### transpose"
   ]
  },
  {
   "cell_type": "code",
   "execution_count": null,
   "id": "315",
   "metadata": {},
   "outputs": [],
   "source": [
    "tmt_transpose = tmt_clean.transpose()\n",
    "tmt_transpose.head()"
   ]
  },
  {
   "cell_type": "markdown",
   "id": "316",
   "metadata": {},
   "source": [
    "### clean up"
   ]
  },
  {
   "cell_type": "code",
   "execution_count": null,
   "id": "317",
   "metadata": {},
   "outputs": [],
   "source": [
    "tmt_transpose.columns = tmt_transpose.iloc[0]\n",
    "tmt_transpose = tmt_transpose.iloc[1:]\n",
    "tmt_transpose['specimenID'] = tmt_transpose.index\n",
    "tmt_transpose.head()"
   ]
  },
  {
   "cell_type": "markdown",
   "id": "318",
   "metadata": {},
   "source": [
    "### merge"
   ]
  },
  {
   "cell_type": "code",
   "execution_count": null,
   "id": "319",
   "metadata": {},
   "outputs": [],
   "source": [
    "tmt_id = id_map.merge(tmt_transpose, on = 'specimenID')\n",
    "print(len(tmt_transpose.index))\n",
    "print(len(tmt_id.index))\n",
    "tmt_id.head()"
   ]
  },
  {
   "cell_type": "markdown",
   "id": "320",
   "metadata": {},
   "source": [
    "### check out ids that didn't map"
   ]
  },
  {
   "cell_type": "raw",
   "id": "321",
   "metadata": {},
   "source": [
    "# ids didn't map because they weren't in ADSP pheno file or had unknown individualID"
   ]
  },
  {
   "cell_type": "code",
   "execution_count": null,
   "id": "322",
   "metadata": {},
   "outputs": [],
   "source": [
    "tmt_no_map = tmt_transpose[~tmt_transpose['specimenID'].isin(tmt_id['specimenID'])]\n",
    "print(len(tmt_no_map.index))\n",
    "print(len(raw_id_map[raw_id_map['AlternateID'].isin(tmt_no_map['specimenID'])].index))\n",
    "print(raw_id_map[raw_id_map['AlternateID'].isin(tmt_no_map['specimenID'])])\n",
    "tmt_no_map"
   ]
  },
  {
   "cell_type": "code",
   "execution_count": null,
   "id": "323",
   "metadata": {},
   "outputs": [],
   "source": [
    "tmt_biospec_no_map = biospec[biospec['specimenID'].isin(tmt_no_map['specimenID'])]\n",
    "print(len(tmt_biospec_no_map.index))\n",
    "tmt_biospec_no_map"
   ]
  },
  {
   "cell_type": "code",
   "execution_count": null,
   "id": "324",
   "metadata": {},
   "outputs": [],
   "source": [
    "raw_id_map[raw_id_map['AlternateID'].isin(tmt_biospec_no_map['individualID'])]"
   ]
  },
  {
   "cell_type": "code",
   "execution_count": null,
   "id": "325",
   "metadata": {},
   "outputs": [],
   "source": [
    "biospec[biospec['individualID'].isin(['AMPAD_MSSM_0000020337'])]"
   ]
  },
  {
   "cell_type": "markdown",
   "id": "326",
   "metadata": {},
   "source": [
    "### drop ID columns for transformation"
   ]
  },
  {
   "cell_type": "code",
   "execution_count": null,
   "id": "327",
   "metadata": {},
   "outputs": [],
   "source": [
    "tmt_id_only = tmt_id[['SampleID','SUBJID', 'individualID', 'specimenID']]"
   ]
  },
  {
   "cell_type": "code",
   "execution_count": null,
   "id": "328",
   "metadata": {},
   "outputs": [],
   "source": [
    "tmt_no_id = tmt_id.drop(columns = ['SampleID','SUBJID', 'individualID', 'specimenID'])\n",
    "tmt_no_id.head()"
   ]
  },
  {
   "cell_type": "markdown",
   "id": "329",
   "metadata": {},
   "source": [
    "### convert to numeric"
   ]
  },
  {
   "cell_type": "code",
   "execution_count": null,
   "id": "330",
   "metadata": {},
   "outputs": [],
   "source": [
    "tmt_numeric = tmt_no_id.apply(pd.to_numeric, errors='coerce')"
   ]
  },
  {
   "cell_type": "markdown",
   "id": "331",
   "metadata": {},
   "source": [
    "### log2 transform"
   ]
  },
  {
   "cell_type": "code",
   "execution_count": null,
   "id": "332",
   "metadata": {},
   "outputs": [],
   "source": [
    "tmt_norm = np.log2(tmt_numeric)\n",
    "tmt_norm.head()"
   ]
  },
  {
   "cell_type": "markdown",
   "id": "333",
   "metadata": {},
   "source": [
    "### add ID cols back in"
   ]
  },
  {
   "cell_type": "code",
   "execution_count": null,
   "id": "334",
   "metadata": {},
   "outputs": [],
   "source": [
    "tmt_norm_id = pd.concat([tmt_id_only, tmt_norm], axis = 1)\n",
    "tmt_norm_id.head()"
   ]
  },
  {
   "cell_type": "markdown",
   "id": "335",
   "metadata": {},
   "source": [
    "## reformat and add common ID col"
   ]
  },
  {
   "cell_type": "code",
   "execution_count": null,
   "id": "336",
   "metadata": {},
   "outputs": [],
   "source": [
    "tmt_norm_id = pd.read_csv('/project/ritchie/projects/AD_KMI/pathway_score/msbb/MSBB.TMT_proteomics.19batch.normalized.gene_symbol.individualID.log2_transformed.txt',\n",
    "                   sep = '\\t')\n",
    "tmt_norm_id.head()"
   ]
  },
  {
   "cell_type": "code",
   "execution_count": null,
   "id": "337",
   "metadata": {},
   "outputs": [],
   "source": [
    "tmt_norm_reformat = tmt_norm_id.copy()\n",
    "tmt_norm_reformat['ID'] = tmt_norm_reformat['SampleID'] + ':' + tmt_norm_reformat['individualID']\n",
    "tmt_norm_reformat.set_index('ID', inplace = True)\n",
    "tmt_norm_reformat.drop(columns = ['SampleID', 'SUBJID', 'individualID', 'specimenID'], inplace = True)\n",
    "tmt_norm_reformat = tmt_norm_reformat.transpose()\n",
    "tmt_norm_reformat.insert(0, 'GENE', tmt_norm_reformat.index)\n",
    "tmt_norm_reformat.head()"
   ]
  },
  {
   "cell_type": "markdown",
   "id": "338",
   "metadata": {},
   "source": [
    "# export"
   ]
  },
  {
   "cell_type": "markdown",
   "id": "339",
   "metadata": {},
   "source": [
    "## rnaseq"
   ]
  },
  {
   "cell_type": "code",
   "execution_count": null,
   "id": "340",
   "metadata": {},
   "outputs": [],
   "source": [
    "rnaseq_10_corrected.to_csv('msbb/MSBB.RNAseq.BA_10.19batch.gene_symbol.individualID.mvalue_norm.tpm.log2.coding_genes_only.covar_corrected.txt',\n",
    "                           sep = '\\t',\n",
    "                           index = None)"
   ]
  },
  {
   "cell_type": "code",
   "execution_count": null,
   "id": "341",
   "metadata": {},
   "outputs": [],
   "source": [
    "rnaseq_10_reformat.to_csv('msbb/MSBB.RNAseq.BA_10.19batch.gene_symbol.individualID.mvalue_norm.tpm.log2.coding_genes_only.covar_corrected.common_id.transpose.txt',\n",
    "                           sep = '\\t',\n",
    "                           index = None)"
   ]
  },
  {
   "cell_type": "code",
   "execution_count": null,
   "id": "342",
   "metadata": {},
   "outputs": [],
   "source": [
    "rnaseq_22_corrected.to_csv('msbb/MSBB.RNAseq.BA_22.19batch.gene_symbol.individualID.mvalue_norm.tpm.log2.coding_genes_only.covar_corrected.txt',\n",
    "                           sep = '\\t',\n",
    "                           index = None)"
   ]
  },
  {
   "cell_type": "code",
   "execution_count": null,
   "id": "343",
   "metadata": {},
   "outputs": [],
   "source": [
    "rnaseq_22_reformat.to_csv('msbb/MSBB.RNAseq.BA_22.19batch.gene_symbol.individualID.mvalue_norm.tpm.log2.coding_genes_only.covar_corrected.common_id.transpose.txt',\n",
    "                           sep = '\\t',\n",
    "                           index = None)"
   ]
  },
  {
   "cell_type": "code",
   "execution_count": null,
   "id": "344",
   "metadata": {},
   "outputs": [],
   "source": [
    "rnaseq_36_corrected.to_csv('msbb/MSBB.RNAseq.BA_36.19batch.gene_symbol.individualID.mvalue_norm.tpm.log2.coding_genes_only.covar_corrected.txt',\n",
    "                           sep = '\\t',\n",
    "                           index = None)"
   ]
  },
  {
   "cell_type": "code",
   "execution_count": null,
   "id": "345",
   "metadata": {},
   "outputs": [],
   "source": [
    "rnaseq_36_reformat.to_csv('msbb/MSBB.RNAseq.BA_36.19batch.gene_symbol.individualID.mvalue_norm.tpm.log2.coding_genes_only.covar_corrected.common_id.transpose.txt',\n",
    "                           sep = '\\t',\n",
    "                           index = None)"
   ]
  },
  {
   "cell_type": "code",
   "execution_count": null,
   "id": "346",
   "metadata": {},
   "outputs": [],
   "source": [
    "rnaseq_44_corrected.to_csv('msbb/MSBB.RNAseq.BA_44.19batch.gene_symbol.individualID.mvalue_norm.tpm.log2.coding_genes_only.covar_corrected.txt',\n",
    "                           sep = '\\t',\n",
    "                           index = None)"
   ]
  },
  {
   "cell_type": "code",
   "execution_count": null,
   "id": "347",
   "metadata": {},
   "outputs": [],
   "source": [
    "rnaseq_44_reformat.to_csv('msbb/MSBB.RNAseq.BA_44.19batch.gene_symbol.individualID.mvalue_norm.tpm.log2.coding_genes_only.covar_corrected.common_id.transpose.txt',\n",
    "                           sep = '\\t',\n",
    "                           index = None)"
   ]
  },
  {
   "cell_type": "code",
   "execution_count": null,
   "id": "348",
   "metadata": {},
   "outputs": [],
   "source": [
    "rnaseq_gene_list.to_csv('msbb/MSBB.RNAseq.BA_ALL.19batch.gene_symbol.individualID.mvalue_norm.tpm.log2.coding_genes_only.covar_corrected.gene_list.txt',\n",
    "                        sep = '\\t',\n",
    "                        index = None)"
   ]
  },
  {
   "cell_type": "markdown",
   "id": "349",
   "metadata": {},
   "source": [
    "## methylation"
   ]
  },
  {
   "cell_type": "code",
   "execution_count": null,
   "id": "350",
   "metadata": {},
   "outputs": [],
   "source": [
    "methyl_norm_id.to_csv('msbb/MSBB.methylation_array.19batch.gene_symbol.individualID.mvalue_norm.txt',\n",
    "                      sep = '\\t',\n",
    "                     index = None)"
   ]
  },
  {
   "cell_type": "code",
   "execution_count": null,
   "id": "351",
   "metadata": {},
   "outputs": [],
   "source": [
    "methyl_norm_reformat.to_csv('msbb/MSBB.methylation_array.19batch.gene_symbol.individualID.mvalue_norm.common_id.transpose.txt',\n",
    "                            sep = '\\t',\n",
    "                            index = None)"
   ]
  },
  {
   "cell_type": "code",
   "execution_count": null,
   "id": "352",
   "metadata": {},
   "outputs": [],
   "source": [
    "methyl_gene_list.to_csv('msbb/MSBB.methylation_array.19batch.gene_symbol.individualID.mvalue_norm.gene_list.txt',\n",
    "                        sep = '\\t',\n",
    "                        index = None)"
   ]
  },
  {
   "cell_type": "markdown",
   "id": "353",
   "metadata": {},
   "source": [
    "## proteomics"
   ]
  },
  {
   "cell_type": "code",
   "execution_count": null,
   "id": "354",
   "metadata": {},
   "outputs": [],
   "source": [
    "tmt_norm_id.to_csv('msbb/MSBB.TMT_proteomics.19batch.normalized.gene_symbol.individualID.log2_transformed.txt',\n",
    "                   sep = '\\t',\n",
    "                   index = None)"
   ]
  },
  {
   "cell_type": "code",
   "execution_count": null,
   "id": "355",
   "metadata": {},
   "outputs": [],
   "source": [
    "tmt_norm_reformat.to_csv('msbb/MSBB.TMT_proteomics.19batch.normalized.gene_symbol.individualID.log2_transformed.common_id.transpose.txt',\n",
    "                         sep = '\\t',\n",
    "                         index = None)"
   ]
  },
  {
   "cell_type": "code",
   "execution_count": null,
   "id": "356",
   "metadata": {},
   "outputs": [],
   "source": [
    "tmt_gene_list.to_csv('msbb/MSBB.TMT_proteomics.19batch.normalized.gene_symbol.individualID.log2_transformed.gene_list.txt',\n",
    "                     sep = '\\t',\n",
    "                     index = None)"
   ]
  },
  {
   "cell_type": "code",
   "execution_count": null,
   "id": "357",
   "metadata": {},
   "outputs": [],
   "source": []
  }
 ],
 "metadata": {
  "kernelspec": {
   "display_name": "Python 3 (ipykernel)",
   "language": "python",
   "name": "python3"
  },
  "language_info": {
   "codemirror_mode": {
    "name": "ipython",
    "version": 3
   },
   "file_extension": ".py",
   "mimetype": "text/x-python",
   "name": "python",
   "nbconvert_exporter": "python",
   "pygments_lexer": "ipython3",
   "version": "3.12.3"
  }
 },
 "nbformat": 4,
 "nbformat_minor": 5
}

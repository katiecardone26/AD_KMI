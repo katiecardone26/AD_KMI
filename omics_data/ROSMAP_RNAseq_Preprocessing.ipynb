{
 "cells": [
  {
   "cell_type": "markdown",
   "id": "0",
   "metadata": {},
   "source": [
    "# import modules"
   ]
  },
  {
   "cell_type": "code",
   "execution_count": null,
   "id": "1",
   "metadata": {},
   "outputs": [],
   "source": [
    "import pandas as pd"
   ]
  },
  {
   "cell_type": "code",
   "execution_count": null,
   "id": "2",
   "metadata": {},
   "outputs": [],
   "source": [
    "import re"
   ]
  },
  {
   "cell_type": "code",
   "execution_count": null,
   "id": "3",
   "metadata": {},
   "outputs": [],
   "source": [
    "import numpy as np"
   ]
  },
  {
   "cell_type": "code",
   "execution_count": null,
   "id": "4",
   "metadata": {},
   "outputs": [],
   "source": [
    "import warnings"
   ]
  },
  {
   "cell_type": "code",
   "execution_count": null,
   "id": "5",
   "metadata": {},
   "outputs": [],
   "source": [
    "warnings.filterwarnings('ignore') "
   ]
  },
  {
   "cell_type": "markdown",
   "id": "6",
   "metadata": {},
   "source": [
    "# read in input files"
   ]
  },
  {
   "cell_type": "code",
   "execution_count": null,
   "id": "7",
   "metadata": {},
   "outputs": [],
   "source": [
    "biospec = pd.read_csv('rosmap/Metadata/ROSMAP_biospecimen_metadata.csv')\n",
    "biospec.head()"
   ]
  },
  {
   "cell_type": "code",
   "execution_count": null,
   "id": "8",
   "metadata": {},
   "outputs": [],
   "source": [
    "rnaseq_meta = pd.read_csv('rosmap/Metadata/ROSMAP_assay_rnaSeq_metadata.csv')\n",
    "rnaseq_meta.head()"
   ]
  },
  {
   "cell_type": "code",
   "execution_count": null,
   "id": "9",
   "metadata": {},
   "outputs": [],
   "source": [
    "raw_rna = pd.read_csv('rosmap/Gene_Expression/Gene Expression (RNA seq)/Gene Expression (RNA seq - bulk brain)/ROSMAP_RNAseq_FPKM_gene.tsv',\n",
    "                      sep = '\\t')\n",
    "raw_rna.head()"
   ]
  },
  {
   "cell_type": "code",
   "execution_count": null,
   "id": "10",
   "metadata": {},
   "outputs": [],
   "source": [
    "rna_clean = pd.read_csv('rosmap/ROSMAP_RNAseq.TPM5_log2norm.individualids.codinggenes.pathway_genes.ensembl_ids.tsv',\n",
    "                        sep = '\\t')\n",
    "rna_clean.head()"
   ]
  },
  {
   "cell_type": "markdown",
   "id": "11",
   "metadata": {},
   "source": [
    "# parse rnaseq meta data"
   ]
  },
  {
   "cell_type": "markdown",
   "id": "12",
   "metadata": {},
   "source": [
    "## extract ids from raw rnaseq file"
   ]
  },
  {
   "cell_type": "code",
   "execution_count": null,
   "id": "13",
   "metadata": {},
   "outputs": [],
   "source": [
    "raw_rna_transposed = raw_rna.transpose()\n",
    "raw_rna_transposed['rawID'] = raw_rna_transposed.index\n",
    "raw_rna_transposed[['id_1', 'id_2', 'id_3']] = raw_rna_transposed['rawID'].str.split('_', expand = True)\n",
    "raw_rna_transposed['rawID_no_batch'] = raw_rna_transposed['id_1']+ '_' + raw_rna_transposed['id_2']\n",
    "raw_rna_transposed = raw_rna_transposed[['rawID', 'rawID_no_batch']]\n",
    "raw_rna_transposed =  raw_rna_transposed.iloc[2:]\n",
    "print(len(raw_rna_transposed.index))\n",
    "raw_rna_transposed.head()"
   ]
  },
  {
   "cell_type": "markdown",
   "id": "14",
   "metadata": {},
   "source": [
    "## extract ids from rnaseq meta file"
   ]
  },
  {
   "cell_type": "code",
   "execution_count": null,
   "id": "15",
   "metadata": {},
   "outputs": [],
   "source": [
    "print(len(rnaseq_meta.index))\n",
    "rnaseq_meta.head()"
   ]
  },
  {
   "cell_type": "code",
   "execution_count": null,
   "id": "16",
   "metadata": {},
   "outputs": [],
   "source": [
    "rnaseq_meta_filt=rnaseq_meta[rnaseq_meta['specimenID'].isin(raw_rna_transposed['rawID_no_batch'])]\n",
    "print(len(rnaseq_meta_filt.index))\n",
    "print(rnaseq_meta_filt['notes'].unique())\n",
    "print(rnaseq_meta_filt['libraryBatch'].unique())\n",
    "print(rnaseq_meta_filt['sequencingBatch'].unique())\n",
    "rnaseq_meta_filt.head()"
   ]
  },
  {
   "cell_type": "markdown",
   "id": "17",
   "metadata": {},
   "source": [
    "## extract IDs from biospec file"
   ]
  },
  {
   "cell_type": "code",
   "execution_count": null,
   "id": "18",
   "metadata": {},
   "outputs": [],
   "source": [
    "biospec_filt = biospec[biospec['specimenID'].isin(raw_rna_transposed['rawID_no_batch'])]\n",
    "biospec_filt = biospec_filt[biospec_filt['assay'].isin(['rnaSeq'])]\n",
    "print(len(biospec_filt.index))\n",
    "print(len(biospec_filt['specimenID'].unique()))\n",
    "print(biospec_filt['tissue'].unique())\n",
    "biospec_filt.head()"
   ]
  },
  {
   "cell_type": "code",
   "execution_count": null,
   "id": "19",
   "metadata": {},
   "outputs": [],
   "source": [
    "biospec_filt[biospec_filt['specimenID'].isin(['510_120515'])]"
   ]
  },
  {
   "cell_type": "code",
   "execution_count": null,
   "id": "20",
   "metadata": {},
   "outputs": [],
   "source": [
    "rnaseq_meta[rnaseq_meta['notes'].isin(['data contribution batch 2'])]"
   ]
  },
  {
   "cell_type": "code",
   "execution_count": null,
   "id": "21",
   "metadata": {},
   "outputs": [],
   "source": [
    "rnaseq_meta[rnaseq_meta['notes'].isin(['data contribution batch 3'])]"
   ]
  },
  {
   "cell_type": "markdown",
   "id": "22",
   "metadata": {},
   "source": [
    "# select one of duplicate ids"
   ]
  },
  {
   "cell_type": "code",
   "execution_count": null,
   "id": "23",
   "metadata": {},
   "outputs": [],
   "source": [
    "dup = raw_rna.transpose()\n",
    "dup.columns = dup.iloc[1]\n",
    "dup.insert(0, 'ID' ,dup.index)\n",
    "dup = dup[dup['ID'].isin(['492_120515_0', '492_120515_6', '492_120515_7'])]\n",
    "dup.head()"
   ]
  },
  {
   "cell_type": "code",
   "execution_count": null,
   "id": "24",
   "metadata": {},
   "outputs": [],
   "source": [
    "raw_gene_list = dup.columns.tolist()\n",
    "clean_gene_list =[]\n",
    "for gene in raw_ gene_list:\n",
    "    clean_gene = gene.split('.')[0]\n",
    "    clean_gene_list.append(clean_gene)"
   ]
  },
  {
   "cell_type": "code",
   "execution_count": null,
   "id": "25",
   "metadata": {},
   "outputs": [],
   "source": [
    "dup = dup.set_axis(clean_gene_list, axis = 1)\n",
    "dup.head()"
   ]
  },
  {
   "cell_type": "code",
   "execution_count": null,
   "id": "26",
   "metadata": {},
   "outputs": [],
   "source": [
    "rna_clean_dup = rna_clean[rna_clean['individualID'].isin(['R5693901'])]\n",
    "rna_clean_dup.head()"
   ]
  },
  {
   "cell_type": "code",
   "execution_count": null,
   "id": "27",
   "metadata": {},
   "outputs": [],
   "source": [
    "rna_clean_dup_col_list = rna_clean_dup.columns.tolist()\n",
    "rna_clean_dup_col_list.remove('individualID')\n",
    "rna_clean_dup_col_list.insert(0, 'ID')"
   ]
  },
  {
   "cell_type": "code",
   "execution_count": null,
   "id": "28",
   "metadata": {},
   "outputs": [],
   "source": [
    "dup_pathway = dup[rna_clean_dup_col_list]\n",
    "dup_pathway.head()"
   ]
  },
  {
   "cell_type": "markdown",
   "id": "29",
   "metadata": {},
   "source": [
    "# convert fpkm to tpm"
   ]
  },
  {
   "cell_type": "code",
   "execution_count": null,
   "id": "30",
   "metadata": {},
   "outputs": [],
   "source": [
    "# Function to convert FPKM to TPM\n",
    "def fpkm_to_tpm(fpkm):\n",
    "    return np.exp(np.log(fpkm) - np.log(np.sum(fpkm)) + np.log(1e6))\n",
    "\n",
    "dup_tpm = dup_pathway.astype('float').apply(fpkm_to_tpm)\n",
    "dup_tpm.head()"
   ]
  },
  {
   "cell_type": "code",
   "execution_count": null,
   "id": "31",
   "metadata": {},
   "outputs": [],
   "source": [
    "rnaseq_tpm_coding = dup_tpm"
   ]
  },
  {
   "cell_type": "markdown",
   "id": "32",
   "metadata": {},
   "source": [
    "# remove genes with median TPM <= 5"
   ]
  },
  {
   "cell_type": "code",
   "execution_count": null,
   "id": "33",
   "metadata": {},
   "outputs": [],
   "source": [
    "## Filter genes w/ minimal expression: 5 TPM\n",
    "gene_filt = []\n",
    "for gene in rnaseq_tpm_coding.columns:\n",
    "    if (rnaseq_tpm_coding[gene].median() > 5):\n",
    "        gene_filt.append(gene)\n",
    "rnaseq_tpm_coding_tpm5 = rnaseq_tpm_coding[gene_filt]\n",
    "\n",
    "## log2 transform - first replace any values below 1 to 1\n",
    "rnaseq_tpm_coding_tpm5_log2 = rnaseq_tpm_coding_tpm5.apply(lambda x: np.where(x < 1, 1.00, x))\n",
    "rnaseq_tpm_coding_tpm5_log2 = np.log2(rnaseq_tpm_coding_tpm5_log2.astype('float'))\n",
    "# rnaseq_gene_tpm_log2\n",
    "\n",
    "## Normalize by mean of log transformed\n",
    "# # merged_gene_exp_norm = (merged_gene_exp_filt-merged_gene_exp_filt.mean())/merged_gene_exp_filt.std()\n",
    "# # merged_gene_exp_norm_df = pd.DataFrame(merged_gene_exp_norm, columns=merged_gene_exp.columns)\n",
    "# # merged_gene_exp_norm = StandardScaler().fit_transform(merged_gene_exp_filt)  \n",
    "# # merged_gene_exp_norm_df = pd.DataFrame(merged_gene_exp_norm, columns=merged_gene_exp_filt.columns)\n",
    "# # merged_gene_exp_norm_df\n",
    "\n",
    "rnaseq_gene_exp_norm_dict = {}\n",
    "for i, j in rnaseq_tpm_coding_tpm5_log2.items():\n",
    "    rnaseq_gene_exp_norm_dict[i] = j/rnaseq_tpm_coding_tpm5_log2[i].mean()\n",
    "    \n",
    "rnaseq_gene_exp_norm = pd.DataFrame.from_dict(rnaseq_gene_exp_norm_dict)\n",
    "print(len(rnaseq_gene_exp_norm.columns))\n",
    "rnaseq_gene_exp_norm"
   ]
  },
  {
   "cell_type": "markdown",
   "id": "34",
   "metadata": {},
   "source": [
    "## export ID list"
   ]
  },
  {
   "cell_type": "code",
   "execution_count": null,
   "id": "35",
   "metadata": {},
   "outputs": [],
   "source": [
    "print(len(biospec_filt.index))\n",
    "biospec_filt.head()"
   ]
  },
  {
   "cell_type": "code",
   "execution_count": null,
   "id": "36",
   "metadata": {},
   "outputs": [],
   "source": [
    "biospec_filt_id=biospec_filt[['individualID','specimenID']]"
   ]
  },
  {
   "cell_type": "code",
   "execution_count": null,
   "id": "37",
   "metadata": {},
   "outputs": [],
   "source": [
    "biospec_filt_id.to_csv('rosmap/ID_mapping/ROSMAP_RNAseq.batch1.DLPFC.ID_map.txt',\n",
    "                       sep='\\t',\n",
    "                       index=None)"
   ]
  },
  {
   "cell_type": "raw",
   "id": "38",
   "metadata": {},
   "source": [
    "# duplicate conclusion:\n",
    "select the first sequencing batch (0)"
   ]
  }
 ],
 "metadata": {
  "kernelspec": {
   "display_name": "Python 3 (ipykernel)",
   "language": "python",
   "name": "python3"
  },
  "language_info": {
   "codemirror_mode": {
    "name": "ipython",
    "version": 3
   },
   "file_extension": ".py",
   "mimetype": "text/x-python",
   "name": "python",
   "nbconvert_exporter": "python",
   "pygments_lexer": "ipython3",
   "version": "3.12.3"
  }
 },
 "nbformat": 4,
 "nbformat_minor": 5
}

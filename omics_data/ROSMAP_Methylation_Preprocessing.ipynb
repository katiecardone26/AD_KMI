{
 "cells": [
  {
   "cell_type": "markdown",
   "id": "0",
   "metadata": {},
   "source": [
    "# load packages"
   ]
  },
  {
   "cell_type": "code",
   "execution_count": null,
   "id": "1",
   "metadata": {},
   "outputs": [],
   "source": [
    "library(tidyverse)"
   ]
  },
  {
   "cell_type": "code",
   "execution_count": null,
   "id": "2",
   "metadata": {},
   "outputs": [],
   "source": [
    "library(data.table)"
   ]
  },
  {
   "cell_type": "markdown",
   "id": "3",
   "metadata": {},
   "source": [
    "# read in input files"
   ]
  },
  {
   "cell_type": "code",
   "execution_count": null,
   "id": "4",
   "metadata": {},
   "outputs": [],
   "source": [
    "id_map = read.csv('rosmap/ID_mapping/ROSMAP.Methylation_Array.individualID_map.txt',\n",
    "                  sep = '\\t',\n",
    "                  na.strings = c(''))\n",
    "head(id_map)"
   ]
  },
  {
   "cell_type": "code",
   "execution_count": null,
   "id": "5",
   "metadata": {},
   "outputs": [],
   "source": [
    "methylation = fread('rosmap/ROSMAP_arrayMethylation_imputed.tsv.gz',\n",
    "                    sep = '\\t',\n",
    "                    na.strings = c(''))\n",
    "head(methylation)"
   ]
  },
  {
   "cell_type": "code",
   "execution_count": null,
   "id": "6",
   "metadata": {},
   "outputs": [],
   "source": [
    "gene_map = read.csv('rosmap/ROSMAP_arrayMethylation_metaData.tsv',\n",
    "                    sep = '\\t',\n",
    "                    na.strings = c(''))\n",
    "head(gene_map)"
   ]
  },
  {
   "cell_type": "code",
   "execution_count": null,
   "id": "7",
   "metadata": {},
   "outputs": [],
   "source": [
    "ref = fread('ensembl_start_stop/Homo_sapiens.GRCh38.113.refseq.tsv.gz',\n",
    "            sep = '\\t')\n",
    "head(ref)"
   ]
  },
  {
   "cell_type": "code",
   "execution_count": null,
   "id": "8",
   "metadata": {},
   "outputs": [],
   "source": [
    "raw_methyl = fread('rosmap/Epigenetics/Epigenetics (DNA methylation array)/ROSMAP_arrayMethylation_raw.gz',\n",
    "                   sep = '\\t')\n",
    "raw_methyl.head()"
   ]
  },
  {
   "cell_type": "markdown",
   "id": "9",
   "metadata": {},
   "source": [
    "# look at data"
   ]
  },
  {
   "cell_type": "code",
   "execution_count": null,
   "id": "10",
   "metadata": {},
   "outputs": [],
   "source": [
    "dim(id_map)"
   ]
  },
  {
   "cell_type": "code",
   "execution_count": null,
   "id": "11",
   "metadata": {},
   "outputs": [],
   "source": [
    "dim(methylation)"
   ]
  },
  {
   "cell_type": "code",
   "execution_count": null,
   "id": "12",
   "metadata": {},
   "outputs": [],
   "source": [
    "dim(gene_map)"
   ]
  },
  {
   "cell_type": "code",
   "execution_count": null,
   "id": "13",
   "metadata": {},
   "outputs": [],
   "source": [
    "gene_map %>%\n",
    "filter(!is.na(RefGene)) %>%\n",
    "nrow()"
   ]
  },
  {
   "cell_type": "code",
   "execution_count": null,
   "id": "14",
   "metadata": {},
   "outputs": [],
   "source": [
    "length(unique(methylation$TargetID))"
   ]
  },
  {
   "cell_type": "code",
   "execution_count": null,
   "id": "15",
   "metadata": {},
   "outputs": [],
   "source": [
    "length(unique(gene_map$TargetID))"
   ]
  },
  {
   "cell_type": "code",
   "execution_count": null,
   "id": "16",
   "metadata": {},
   "outputs": [],
   "source": [
    "length(unique(gene_map$RefGene))"
   ]
  },
  {
   "cell_type": "markdown",
   "id": "17",
   "metadata": {},
   "source": [
    "# clean up meta data"
   ]
  },
  {
   "cell_type": "markdown",
   "id": "18",
   "metadata": {},
   "source": [
    "## filter to non-missing ref genes"
   ]
  },
  {
   "cell_type": "code",
   "execution_count": null,
   "id": "19",
   "metadata": {},
   "outputs": [],
   "source": [
    "ref_gene_map = gene_map %>%\n",
    "filter(!is.na(RefGene))\n",
    "dim(ref_gene_map)\n",
    "length(unique(ref_gene_map$RefGene))\n",
    "head(ref_gene_map)"
   ]
  },
  {
   "cell_type": "markdown",
   "id": "20",
   "metadata": {},
   "source": [
    "## subset"
   ]
  },
  {
   "cell_type": "code",
   "execution_count": null,
   "id": "21",
   "metadata": {},
   "outputs": [],
   "source": [
    "ref_gene_map_sub = ref_gene_map %>%\n",
    "dplyr::select(TargetID,RefGene,Accession)\n",
    "head(ref_gene_map_sub)"
   ]
  },
  {
   "cell_type": "markdown",
   "id": "22",
   "metadata": {},
   "source": [
    "## split rows with multiple genes"
   ]
  },
  {
   "cell_type": "code",
   "execution_count": null,
   "id": "23",
   "metadata": {},
   "outputs": [],
   "source": [
    "ref_gene_map_explode = ref_gene_map_sub %>%\n",
    "separate_rows(RefGene, Accession, sep = \";\")\n",
    "nrow(ref_gene_map_explode)\n",
    "length(unique(ref_gene_map_explode$RefGene))\n",
    "length(unique(ref_gene_map_explode$Accession))\n",
    "length(unique(ref_gene_map_explode$TargetID))\n",
    "head(ref_gene_map_explode)"
   ]
  },
  {
   "cell_type": "code",
   "execution_count": null,
   "id": "24",
   "metadata": {},
   "outputs": [],
   "source": [
    "ref_gene_map_explode %>%\n",
    "filter(grepl('cg00001583', TargetID))"
   ]
  },
  {
   "cell_type": "markdown",
   "id": "25",
   "metadata": {},
   "source": [
    "## change month/day genes"
   ]
  },
  {
   "cell_type": "markdown",
   "id": "26",
   "metadata": {},
   "source": [
    "### filter to date genes"
   ]
  },
  {
   "cell_type": "code",
   "execution_count": null,
   "id": "27",
   "metadata": {},
   "outputs": [],
   "source": [
    "ref_gene_map_explode %>%\n",
    "arrange(RefGene) %>%\n",
    "distinct(RefGene) %>%\n",
    "head(n = 20)"
   ]
  },
  {
   "cell_type": "code",
   "execution_count": null,
   "id": "28",
   "metadata": {},
   "outputs": [],
   "source": [
    "ref_gene_map_explode_date = ref_gene_map_explode %>%\n",
    "filter(grepl('Dec|Mar|Sep', RefGene))\n",
    "unique(ref_gene_map_explode_date$RefGene)\n",
    "head(ref_gene_map_explode_date)"
   ]
  },
  {
   "cell_type": "markdown",
   "id": "29",
   "metadata": {},
   "source": [
    "## create map"
   ]
  },
  {
   "cell_type": "markdown",
   "id": "30",
   "metadata": {},
   "source": [
    "### create vectors"
   ]
  },
  {
   "cell_type": "code",
   "execution_count": null,
   "id": "31",
   "metadata": {},
   "outputs": [],
   "source": [
    "date_accession_vec = as.vector(unique(ref_gene_map_explode_date$Accession))\n",
    "date_accession_vec"
   ]
  },
  {
   "cell_type": "code",
   "execution_count": null,
   "id": "32",
   "metadata": {},
   "outputs": [],
   "source": [
    "gene_vec = c('MARCHF4',\n",
    "             'MARCHF7',\n",
    "             'MARCHF1',\n",
    "             'SEPTIN11',\n",
    "             'MARCHF11',\n",
    "             'MARCHF3',\n",
    "             'MARCHF6',\n",
    "             'SEPTIN8',\n",
    "             'SEPTIN8',\n",
    "             'SEPTIN7P2',\n",
    "             'SEPTIN14',\n",
    "             'DELEC1',\n",
    "             'MARCHF5',\n",
    "            'MARCHF9',\n",
    "            'SEPTIN1',\n",
    "            'SEPTIN9',\n",
    "            'MARCHF10',\n",
    "            'SEPTIN5')\n",
    "gene_vec"
   ]
  },
  {
   "cell_type": "markdown",
   "id": "33",
   "metadata": {},
   "source": [
    "### create df"
   ]
  },
  {
   "cell_type": "code",
   "execution_count": null,
   "id": "34",
   "metadata": {},
   "outputs": [],
   "source": [
    "all_accession_gene_map = data.frame(date_accession_vec,gene_vec)\n",
    "all_accession_gene_map=all_accession_gene_map %>%\n",
    "rename('Accession' = 'date_accession_vec')\n",
    "all_accession_gene_map"
   ]
  },
  {
   "cell_type": "markdown",
   "id": "35",
   "metadata": {},
   "source": [
    "## merge"
   ]
  },
  {
   "cell_type": "code",
   "execution_count": null,
   "id": "36",
   "metadata": {},
   "outputs": [],
   "source": [
    "ref_gene_map_explode_date_correct_genes = ref_gene_map_explode_date %>%\n",
    "inner_join(all_accession_gene_map, by='Accession')\n",
    "nrow(ref_gene_map_explode_date_correct_genes)\n",
    "nrow(ref_gene_map_explode_date_correct_genes)\n",
    "head(ref_gene_map_explode_date_correct_genes)"
   ]
  },
  {
   "cell_type": "markdown",
   "id": "37",
   "metadata": {},
   "source": [
    "## subset"
   ]
  },
  {
   "cell_type": "code",
   "execution_count": null,
   "id": "38",
   "metadata": {},
   "outputs": [],
   "source": [
    "ref_gene_map_explode_date_correct_genes = ref_gene_map_explode_date_correct_genes %>%\n",
    "dplyr::select(TargetID, gene_vec, Accession) %>%\n",
    "rename('RefGene' = 'gene_vec')\n",
    "head(ref_gene_map_explode_date_correct_genes)"
   ]
  },
  {
   "cell_type": "markdown",
   "id": "39",
   "metadata": {},
   "source": [
    "## create df without date genes"
   ]
  },
  {
   "cell_type": "code",
   "execution_count": null,
   "id": "40",
   "metadata": {},
   "outputs": [],
   "source": [
    "ref_gene_map_explode_no_date = ref_gene_map_explode %>%\n",
    "filter(!grepl('Dec|Mar|Sep', RefGene))\n",
    "head(ref_gene_map_explode_no_date)"
   ]
  },
  {
   "cell_type": "markdown",
   "id": "41",
   "metadata": {},
   "source": [
    "## concatenate date + fixed date"
   ]
  },
  {
   "cell_type": "code",
   "execution_count": null,
   "id": "42",
   "metadata": {},
   "outputs": [],
   "source": [
    "ref_gene_map_explode_fixed = ref_gene_map_explode_no_date %>%\n",
    "rbind(ref_gene_map_explode_date_correct_genes)\n",
    "nrow(ref_gene_map_explode_fixed)\n",
    "nrow(ref_gene_map_explode)\n",
    "head(ref_gene_map_explode_fixed)"
   ]
  },
  {
   "cell_type": "markdown",
   "id": "43",
   "metadata": {},
   "source": [
    "## clean up ref seq file"
   ]
  },
  {
   "cell_type": "code",
   "execution_count": null,
   "id": "44",
   "metadata": {},
   "outputs": [],
   "source": [
    "ref_direct = ref %>%\n",
    "filter(info_type == 'DIRECT')\n",
    "nrow(ref)\n",
    "nrow(ref_direct)\n",
    "head(ref_direct)"
   ]
  },
  {
   "cell_type": "markdown",
   "id": "45",
   "metadata": {},
   "source": [
    "## filter gene map to ref transcripts"
   ]
  },
  {
   "cell_type": "code",
   "execution_count": null,
   "id": "46",
   "metadata": {},
   "outputs": [],
   "source": [
    "ref_gene_map_ref_trans = ref_gene_map_explode_fixed[ref_gene_map_explode_fixed$Accession %in% ref_direct$xref,]\n",
    "nrow(ref_gene_map_explode_fixed)\n",
    "nrow(ref_gene_map_ref_trans)\n",
    "length(unique(ref_gene_map_ref_trans$Accession))\n",
    "head(ref_gene_map_ref_trans)"
   ]
  },
  {
   "cell_type": "code",
   "execution_count": null,
   "id": "47",
   "metadata": {},
   "outputs": [],
   "source": [
    "length(unique(ref_gene_map_ref_trans$RefGene))\n",
    "length(unique(ref_gene_map_ref_trans$TargetID))"
   ]
  },
  {
   "cell_type": "code",
   "execution_count": null,
   "id": "48",
   "metadata": {},
   "outputs": [],
   "source": [
    "dups <- ref_gene_map_ref_trans[duplicated(ref_gene_map_ref_trans$TargetID) | duplicated(ref_gene_map_ref_trans$TargetID, fromLast = TRUE), ]\n",
    "head(dups)"
   ]
  },
  {
   "cell_type": "code",
   "execution_count": null,
   "id": "49",
   "metadata": {},
   "outputs": [],
   "source": [
    "ref_gene_map_ref_trans_no_dup = ref_gene_map_ref_trans %>%\n",
    "distinct()\n",
    "nrow(ref_gene_map_ref_trans)\n",
    "nrow(ref_gene_map_ref_trans_no_dup)\n",
    "head(ref_gene_map_ref_trans_no_dup)"
   ]
  },
  {
   "cell_type": "code",
   "execution_count": null,
   "id": "50",
   "metadata": {},
   "outputs": [],
   "source": [
    "ref_gene_map_ref_trans_no_dup_again = ref_gene_map_ref_trans_no_dup %>%\n",
    "distinct(TargetID, RefGene, .keep_all = T)\n",
    "nrow(ref_gene_map_ref_trans_no_dup)\n",
    "nrow(ref_gene_map_ref_trans_no_dup_again)\n",
    "head(ref_gene_map_ref_trans_no_dup_again)"
   ]
  },
  {
   "cell_type": "code",
   "execution_count": null,
   "id": "51",
   "metadata": {},
   "outputs": [],
   "source": [
    "still_dups <- ref_gene_map_ref_trans_no_dup_again[duplicated(ref_gene_map_ref_trans_no_dup_again$TargetID) | duplicated(ref_gene_map_ref_trans_no_dup_again$TargetID, fromLast = TRUE), ]\n",
    "head(still_dups)"
   ]
  },
  {
   "cell_type": "markdown",
   "id": "52",
   "metadata": {},
   "source": [
    "## create unique gene list"
   ]
  },
  {
   "cell_type": "code",
   "execution_count": null,
   "id": "53",
   "metadata": {},
   "outputs": [],
   "source": [
    "gene_list = ref_gene_map_ref_trans_no_dup_again %>%\n",
    "dplyr::select(RefGene) %>%\n",
    "distinct()\n",
    "nrow(gene_list)\n",
    "head(gene_list)"
   ]
  },
  {
   "cell_type": "markdown",
   "id": "54",
   "metadata": {},
   "source": [
    "# filter methylation data to ref genes"
   ]
  },
  {
   "cell_type": "markdown",
   "id": "55",
   "metadata": {},
   "source": [
    "## merge"
   ]
  },
  {
   "cell_type": "code",
   "execution_count": null,
   "id": "56",
   "metadata": {},
   "outputs": [],
   "source": [
    "methyl_ref = ref_gene_map_ref_trans_no_dup_again %>%\n",
    "inner_join(methylation, by = 'TargetID')\n",
    "nrow(methyl_ref)\n",
    "length(unique(methyl_ref$TargetID))\n",
    "length(unique(methyl_ref$RefGene))\n",
    "head(methyl_ref)"
   ]
  },
  {
   "cell_type": "markdown",
   "id": "57",
   "metadata": {},
   "source": [
    "## create column combining RefGene and TargetID"
   ]
  },
  {
   "cell_type": "code",
   "execution_count": null,
   "id": "58",
   "metadata": {},
   "outputs": [],
   "source": [
    "methyl_ref_id = methyl_ref %>%\n",
    "mutate(RefGene_TargetID_Accession = paste0(RefGene, '_', TargetID, '_', Accession)) %>%\n",
    "select(RefGene_TargetID_Accession) %>%\n",
    "cbind(methyl_ref) %>%\n",
    "select(-c(TargetID, RefGene, Accession)) %>%\n",
    "distinct()\n",
    "nrow(methyl_ref_id)\n",
    "length(unique(methyl_ref_id$RefGene_TargetID_Accession))\n",
    "head(methyl_ref_id)"
   ]
  },
  {
   "cell_type": "code",
   "execution_count": null,
   "id": "59",
   "metadata": {},
   "outputs": [],
   "source": [
    "methyl_ref_id%>%\n",
    "filter(duplicated(RefGene_TargetID_Accession) | duplicated(RefGene_TargetID_Accession, fromLast = TRUE)) %>%\n",
    "arrange(RefGene_TargetID_Accession) %>%\n",
    "head()"
   ]
  },
  {
   "cell_type": "markdown",
   "id": "60",
   "metadata": {},
   "source": [
    "# map to individual ids"
   ]
  },
  {
   "cell_type": "markdown",
   "id": "61",
   "metadata": {},
   "source": [
    "## transpose"
   ]
  },
  {
   "cell_type": "code",
   "execution_count": null,
   "id": "62",
   "metadata": {},
   "outputs": [],
   "source": [
    "methyl_ref_tranpose = data.frame(t(methyl_ref_id))\n",
    "head(methyl_ref_tranpose)"
   ]
  },
  {
   "cell_type": "markdown",
   "id": "63",
   "metadata": {},
   "source": [
    "## rename columns"
   ]
  },
  {
   "cell_type": "code",
   "execution_count": null,
   "id": "64",
   "metadata": {},
   "outputs": [],
   "source": [
    "colnames(methyl_ref_tranpose) = as.character(methyl_ref_tranpose[1, ])\n",
    "head(methyl_ref_tranpose)"
   ]
  },
  {
   "cell_type": "markdown",
   "id": "65",
   "metadata": {},
   "source": [
    "## drop first row"
   ]
  },
  {
   "cell_type": "code",
   "execution_count": null,
   "id": "66",
   "metadata": {},
   "outputs": [],
   "source": [
    "methyl_ref_tranpose <- methyl_ref_tranpose[-1, ]\n",
    "head(methyl_ref_tranpose)"
   ]
  },
  {
   "cell_type": "markdown",
   "id": "67",
   "metadata": {},
   "source": [
    "## add ID column"
   ]
  },
  {
   "cell_type": "code",
   "execution_count": null,
   "id": "68",
   "metadata": {},
   "outputs": [],
   "source": [
    "methyl_ref_tranpose_id = data.frame(rownames(methyl_ref_tranpose))\n",
    "colnames(methyl_ref_tranpose_id) = c('specimenID')\n",
    "head(methyl_ref_tranpose_id)"
   ]
  },
  {
   "cell_type": "code",
   "execution_count": null,
   "id": "69",
   "metadata": {},
   "outputs": [],
   "source": [
    "methyl_ref_tranpose = cbind(methyl_ref_tranpose_id, methyl_ref_tranpose)\n",
    "head(methyl_ref_tranpose)"
   ]
  },
  {
   "cell_type": "markdown",
   "id": "70",
   "metadata": {},
   "source": [
    "## add individual ID"
   ]
  },
  {
   "cell_type": "code",
   "execution_count": null,
   "id": "71",
   "metadata": {},
   "outputs": [],
   "source": [
    "methyl_ref_tranpose_id_map = id_map %>%\n",
    "inner_join(methyl_ref_tranpose, by = 'specimenID')\n",
    "nrow(methyl_ref_tranpose_id_map)\n",
    "nrow(methyl_ref_tranpose)\n",
    "nrow(id_map)\n",
    "head(methyl_ref_tranpose_id_map)"
   ]
  },
  {
   "cell_type": "markdown",
   "id": "72",
   "metadata": {},
   "source": [
    "## drop specimenID"
   ]
  },
  {
   "cell_type": "code",
   "execution_count": null,
   "id": "73",
   "metadata": {},
   "outputs": [],
   "source": [
    "methyl_ref_tranpose_id_map = methyl_ref_tranpose_id_map %>%\n",
    "dplyr::select(-c(specimenID))\n",
    "head(methyl_ref_tranpose_id_map)"
   ]
  },
  {
   "cell_type": "markdown",
   "id": "74",
   "metadata": {},
   "source": [
    "# convert to m-values (logit transformed beta values)"
   ]
  },
  {
   "cell_type": "raw",
   "id": "75",
   "metadata": {},
   "source": [
    "formula:\n",
    "\n",
    "M = log2(beta / (1 - beta))"
   ]
  },
  {
   "cell_type": "markdown",
   "id": "76",
   "metadata": {},
   "source": [
    "## drop id col"
   ]
  },
  {
   "cell_type": "code",
   "execution_count": null,
   "id": "77",
   "metadata": {},
   "outputs": [],
   "source": [
    "methyl_id = methyl_ref_tranpose_id_map %>%\n",
    "select(individualID)"
   ]
  },
  {
   "cell_type": "code",
   "execution_count": null,
   "id": "78",
   "metadata": {},
   "outputs": [],
   "source": [
    "methyl_no_id = methyl_ref_tranpose_id_map %>%\n",
    "select(-c(individualID))"
   ]
  },
  {
   "cell_type": "markdown",
   "id": "79",
   "metadata": {},
   "source": [
    "## convert to numeric"
   ]
  },
  {
   "cell_type": "code",
   "execution_count": null,
   "id": "80",
   "metadata": {},
   "outputs": [],
   "source": [
    "methyl_no_id[] = lapply(methyl_no_id, function(x) as.numeric(as.character(x)))\n",
    "head(methyl_no_id)"
   ]
  },
  {
   "cell_type": "markdown",
   "id": "81",
   "metadata": {},
   "source": [
    "## create normalizing function"
   ]
  },
  {
   "cell_type": "code",
   "execution_count": null,
   "id": "82",
   "metadata": {},
   "outputs": [],
   "source": [
    "beta_to_m <- function(beta) {\n",
    "  log2(beta / (1 - beta))\n",
    "}"
   ]
  },
  {
   "cell_type": "markdown",
   "id": "83",
   "metadata": {},
   "source": [
    "## normalize"
   ]
  },
  {
   "cell_type": "code",
   "execution_count": null,
   "id": "84",
   "metadata": {},
   "outputs": [],
   "source": [
    "methyl_ref_norm <- as.data.frame(lapply(methyl_no_id, beta_to_m))\n",
    "head(methyl_ref_norm)"
   ]
  },
  {
   "cell_type": "markdown",
   "id": "85",
   "metadata": {},
   "source": [
    "## add id back in"
   ]
  },
  {
   "cell_type": "code",
   "execution_count": null,
   "id": "86",
   "metadata": {},
   "outputs": [],
   "source": [
    "methyl_ref_norm_id = cbind(methyl_id, methyl_ref_norm)\n",
    "head(methyl_ref_norm_id)"
   ]
  },
  {
   "cell_type": "markdown",
   "id": "87",
   "metadata": {},
   "source": [
    "# export"
   ]
  },
  {
   "cell_type": "code",
   "execution_count": null,
   "id": "88",
   "metadata": {},
   "outputs": [],
   "source": [
    "write.table(gene_list,\n",
    "            'rosmap/ROSMAP_arrayMethylation_imputed.gene_list.txt',\n",
    "            sep = '\\t',\n",
    "            col.names = T,\n",
    "            row.names = F,\n",
    "            quote = F)"
   ]
  },
  {
   "cell_type": "code",
   "execution_count": null,
   "id": "89",
   "metadata": {},
   "outputs": [],
   "source": [
    "write.table(methyl_ref_norm_id,\n",
    "            'rosmap/ROSMAP_arrayMethylation_imputed.gene_symbol.individualID.mvalue_norm.txt',\n",
    "            sep = '\\t',\n",
    "            col.names = T,\n",
    "            row.names = F,\n",
    "            quote = F)"
   ]
  },
  {
   "cell_type": "code",
   "execution_count": null,
   "id": "90",
   "metadata": {},
   "outputs": [],
   "source": []
  }
 ],
 "metadata": {
  "kernelspec": {
   "display_name": "R",
   "language": "R",
   "name": "ir"
  },
  "language_info": {
   "codemirror_mode": "r",
   "file_extension": ".r",
   "mimetype": "text/x-r-source",
   "name": "R",
   "pygments_lexer": "r",
   "version": "4.4.3"
  }
 },
 "nbformat": 4,
 "nbformat_minor": 5
}

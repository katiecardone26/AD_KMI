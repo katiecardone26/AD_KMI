{
 "cells": [
  {
   "cell_type": "markdown",
   "id": "0",
   "metadata": {},
   "source": [
    "# load packages"
   ]
  },
  {
   "cell_type": "code",
   "execution_count": null,
   "id": "1",
   "metadata": {},
   "outputs": [],
   "source": [
    "import pandas as pd"
   ]
  },
  {
   "cell_type": "code",
   "execution_count": null,
   "id": "2",
   "metadata": {},
   "outputs": [],
   "source": [
    "import numpy as np"
   ]
  },
  {
   "cell_type": "code",
   "execution_count": null,
   "id": "3",
   "metadata": {},
   "outputs": [],
   "source": [
    "from scipy.stats import zscore"
   ]
  },
  {
   "cell_type": "markdown",
   "id": "4",
   "metadata": {},
   "source": [
    "# read in input files"
   ]
  },
  {
   "cell_type": "code",
   "execution_count": null,
   "id": "5",
   "metadata": {},
   "outputs": [],
   "source": [
    "id_map = pd.read_csv('rosmap/Metadata/ROSMAP_clinical.csv')\n",
    "id_map.head()"
   ]
  },
  {
   "cell_type": "code",
   "execution_count": null,
   "id": "6",
   "metadata": {},
   "outputs": [],
   "source": [
    "metadata = pd.read_csv('rosmap/Metadata/ROSMAP_assay_proteomics_metadata.csv')\n",
    "print(metadata.shape)\n",
    "metadata.head()"
   ]
  },
  {
   "cell_type": "code",
   "execution_count": null,
   "id": "7",
   "metadata": {},
   "outputs": [],
   "source": [
    "biospec = pd.read_csv('osmap/Metadata/ROSMAP_biospecimen_metadata.csv')\n",
    "biospec.head()"
   ]
  },
  {
   "cell_type": "code",
   "execution_count": null,
   "id": "8",
   "metadata": {},
   "outputs": [],
   "source": [
    "adsp_rosmap_id_map = pd.read_csv('rosmap/ID_mapping/ROSMAP.ADSP_PHENO.ID_map.txt',\n",
    "                                 sep = '\\t')\n",
    "adsp_rosmap_id_map.head()"
   ]
  },
  {
   "cell_type": "code",
   "execution_count": null,
   "id": "9",
   "metadata": {},
   "outputs": [],
   "source": [
    "somoscan = pd.read_csv('rosmap/Proteomics/Proteomics_SomoScan/OhNM2025_ROSMAP_plasma_Soma7k_protein_level_ANML_log10.csv')\n",
    "somoscan.head()"
   ]
  },
  {
   "cell_type": "code",
   "execution_count": null,
   "id": "10",
   "metadata": {},
   "outputs": [],
   "source": [
    "somoscan_protein_meta = pd.read_csv('rosmap/Proteomics/Proteomics_SomoScan/OhNM2025_ROSMAP_plasma_Soma7k_protein_metadata.csv')\n",
    "somoscan_protein_meta.head()"
   ]
  },
  {
   "cell_type": "code",
   "execution_count": null,
   "id": "11",
   "metadata": {},
   "outputs": [],
   "source": [
    "somoscan_indiv_meta = pd.read_csv('rosmap/Proteomics/Proteomics_SomoScan/OhNM2025_ROSMAP_plasma_Soma7k_sample_metadata.csv')\n",
    "somoscan_indiv_meta.head()"
   ]
  },
  {
   "cell_type": "code",
   "execution_count": null,
   "id": "12",
   "metadata": {},
   "outputs": [],
   "source": [
    "common_id_map = pd.read_csv('id_map/ADSP.ROSMAP.MSBB.id_map.txt',\n",
    "                            sep = '\\t')\n",
    "common_id_map.head()"
   ]
  },
  {
   "cell_type": "markdown",
   "id": "13",
   "metadata": {},
   "source": [
    "# clean somoscan data"
   ]
  },
  {
   "cell_type": "markdown",
   "id": "14",
   "metadata": {},
   "source": [
    "## identify duplicate IDs"
   ]
  },
  {
   "cell_type": "code",
   "execution_count": null,
   "id": "15",
   "metadata": {},
   "outputs": [],
   "source": [
    "somoscan_indiv_meta_dup = somoscan_indiv_meta[somoscan_indiv_meta['projid'].isin(somoscan_indiv_meta['projid'][somoscan_indiv_meta['projid'].duplicated()])].sort_values(by = 'projid')\n",
    "print(len(somoscan_indiv_meta_dup.index))\n",
    "print(len(somoscan_indiv_meta_dup['projid'].unique()))\n",
    "print(somoscan_indiv_meta_dup['Diagnosis'].unique())\n",
    "somoscan_indiv_meta_dup.head()"
   ]
  },
  {
   "cell_type": "markdown",
   "id": "16",
   "metadata": {},
   "source": [
    "## fix dups by picked latest dx"
   ]
  },
  {
   "cell_type": "code",
   "execution_count": null,
   "id": "17",
   "metadata": {},
   "outputs": [],
   "source": [
    "somoscan_indiv_meta_dup.sort_values(by = ['projid', 'age_at_visit'], inplace = True, ascending = False)\n",
    "somoscan_indiv_meta_dup.head()"
   ]
  },
  {
   "cell_type": "code",
   "execution_count": null,
   "id": "18",
   "metadata": {},
   "outputs": [],
   "source": [
    "somoscan_indiv_meta_dup_fixed = somoscan_indiv_meta_dup.drop_duplicates(subset = 'projid', keep = 'first')\n",
    "print(len(somoscan_indiv_meta_dup_fixed.index))\n",
    "somoscan_indiv_meta_dup_fixed.head()"
   ]
  },
  {
   "cell_type": "markdown",
   "id": "19",
   "metadata": {},
   "source": [
    "## check dup dx in rosmap clinical data"
   ]
  },
  {
   "cell_type": "code",
   "execution_count": null,
   "id": "20",
   "metadata": {},
   "outputs": [],
   "source": [
    "somoscan_indiv_meta_dup_pheno = id_map[id_map['individualID'].isin(somoscan_indiv_meta_dup['projid'])]\n",
    "somoscan_indiv_meta_dup_pheno = somoscan_indiv_meta_dup_pheno[['individualID', 'cogdx', 'dcfdx_lv']]\n",
    "somoscan_indiv_meta_dup_pheno['Final_Dx'] = np.where(somoscan_indiv_meta_dup_pheno['cogdx'].isna() == False, somoscan_indiv_meta_dup_pheno['cogdx'], somoscan_indiv_meta_dup_pheno['dcfdx_lv'])\n",
    "print(len(somoscan_indiv_meta_dup_pheno.index))\n",
    "somoscan_indiv_meta_dup_pheno.head()"
   ]
  },
  {
   "cell_type": "code",
   "execution_count": null,
   "id": "21",
   "metadata": {},
   "outputs": [],
   "source": [
    "somoscan_indiv_meta_dup[~somoscan_indiv_meta_dup['projid'].isin(id_map['individualID'])]"
   ]
  },
  {
   "cell_type": "code",
   "execution_count": null,
   "id": "22",
   "metadata": {},
   "outputs": [],
   "source": [
    "id_map[id_map['projid'].isin([14410843, 54712250, 22894364])]"
   ]
  },
  {
   "cell_type": "code",
   "execution_count": null,
   "id": "23",
   "metadata": {},
   "outputs": [],
   "source": [
    "print(len(id_map.index))\n",
    "print(len(id_map['individualID'].unique()))"
   ]
  },
  {
   "cell_type": "code",
   "execution_count": null,
   "id": "24",
   "metadata": {},
   "outputs": [],
   "source": [
    "somoscan_indiv_meta_dup['Final_Dx'] = somoscan_indiv_meta_dup['Diagnosis'].map({\n",
    "    'NCI' : 1.0,\n",
    "    'MCI' : 2.0,\n",
    "    'MCI+' : 3.0,\n",
    "    'AD' : 4.0,\n",
    "    'AD+' : 5.0,\n",
    "    'OtherDem' : 6.0})\n",
    "print(somoscan_indiv_meta_dup['Final_Dx'].unique())\n",
    "somoscan_indiv_meta_dup.head()"
   ]
  },
  {
   "cell_type": "code",
   "execution_count": null,
   "id": "25",
   "metadata": {},
   "outputs": [],
   "source": [
    "somoscan_indiv_meta_dup_pheno_for_merge = somoscan_indiv_meta_dup_pheno[['individualID', 'Final_Dx']]\n",
    "somoscan_indiv_meta_dup_pheno_for_merge.rename(columns = {'individualID' : 'projid'}, inplace = True)"
   ]
  },
  {
   "cell_type": "code",
   "execution_count": null,
   "id": "26",
   "metadata": {},
   "outputs": [],
   "source": [
    "merge = somoscan_indiv_meta_dup.merge(somoscan_indiv_meta_dup_pheno_for_merge, on = ['projid','Final_Dx'], how = 'inner')\n",
    "print(len(merge.index))\n",
    "merge.head()"
   ]
  },
  {
   "cell_type": "code",
   "execution_count": null,
   "id": "27",
   "metadata": {},
   "outputs": [],
   "source": [
    "somoscan_indiv_meta_dup[somoscan_indiv_meta_dup['projid'].isin(['R1807730'])]"
   ]
  },
  {
   "cell_type": "markdown",
   "id": "28",
   "metadata": {},
   "source": [
    "## create df without dups"
   ]
  },
  {
   "cell_type": "code",
   "execution_count": null,
   "id": "29",
   "metadata": {},
   "outputs": [],
   "source": [
    "somoscan_indiv_meta_no_dup = somoscan_indiv_meta[~somoscan_indiv_meta['projid'].isin(somoscan_indiv_meta['projid'][somoscan_indiv_meta['projid'].duplicated()])].sort_values(by = 'projid')\n",
    "print(len(somoscan_indiv_meta_no_dup.index))"
   ]
  },
  {
   "cell_type": "markdown",
   "id": "30",
   "metadata": {},
   "source": [
    "## concatenate no dup + dup fixed"
   ]
  },
  {
   "cell_type": "code",
   "execution_count": null,
   "id": "31",
   "metadata": {},
   "outputs": [],
   "source": [
    "somoscan_indiv_meta_id_fix = pd.concat([somoscan_indiv_meta_no_dup, somoscan_indiv_meta_dup_fixed], axis = 0)\n",
    "print(len(somoscan_indiv_meta_id_fix.index))\n",
    "somoscan_indiv_meta_id_fix.head()"
   ]
  },
  {
   "cell_type": "markdown",
   "id": "32",
   "metadata": {},
   "source": [
    "## create id map"
   ]
  },
  {
   "cell_type": "code",
   "execution_count": null,
   "id": "33",
   "metadata": {},
   "outputs": [],
   "source": [
    "somoscan_indiv_meta_id_map = somoscan_indiv_meta_id_fix[['projid', 'projid_visit']]\n",
    "somoscan_indiv_meta_id_map.rename(columns = {'projid' : 'individualID'}, inplace = True)\n",
    "somoscan_indiv_meta_id_map.head()"
   ]
  },
  {
   "cell_type": "markdown",
   "id": "34",
   "metadata": {},
   "source": [
    "## add individual IDs to proteomics data and filter dup measurements"
   ]
  },
  {
   "cell_type": "code",
   "execution_count": null,
   "id": "35",
   "metadata": {},
   "outputs": [],
   "source": [
    "somoscan_id_map = somoscan_indiv_meta_id_map.merge(somoscan, how = 'inner', on = 'projid_visit')\n",
    "print(len(somoscan_id_map.index))\n",
    "print(len(somoscan.index))\n",
    "print(len(somoscan_indiv_meta_id_map.index))\n",
    "somoscan_id_map.head()"
   ]
  },
  {
   "cell_type": "markdown",
   "id": "36",
   "metadata": {},
   "source": [
    "## map proteins to gene names and uniprot ids"
   ]
  },
  {
   "cell_type": "markdown",
   "id": "37",
   "metadata": {},
   "source": [
    "### subset map"
   ]
  },
  {
   "cell_type": "code",
   "execution_count": null,
   "id": "38",
   "metadata": {},
   "outputs": [],
   "source": [
    "somoscan_protein_meta_sub = somoscan_protein_meta[['SeqId', 'EntrezGeneSymbol', 'UniProt']]\n",
    "somoscan_protein_meta_sub.head()"
   ]
  },
  {
   "cell_type": "markdown",
   "id": "39",
   "metadata": {},
   "source": [
    "### split duplicate genes"
   ]
  },
  {
   "cell_type": "code",
   "execution_count": null,
   "id": "40",
   "metadata": {},
   "outputs": [],
   "source": [
    "print(len(somoscan_protein_meta_sub[somoscan_protein_meta_sub['EntrezGeneSymbol'].str.contains(r'\\|', regex = True, na = False)].index))\n",
    "print(len(somoscan_protein_meta_sub.index))"
   ]
  },
  {
   "cell_type": "code",
   "execution_count": null,
   "id": "41",
   "metadata": {},
   "outputs": [],
   "source": [
    "somoscan_protein_meta_sub[\"GENE\"] = somoscan_protein_meta_sub['EntrezGeneSymbol'].str.split('|')\n",
    "somoscan_protein_meta_split = somoscan_protein_meta_sub.explode('GENE')\n",
    "print(len(somoscan_protein_meta_split.index))\n",
    "print(len(somoscan_protein_meta_split[somoscan_protein_meta_split['GENE'].str.contains(r'\\|', regex = True, na = False)].index))\n",
    "somoscan_protein_meta_split.head()"
   ]
  },
  {
   "cell_type": "code",
   "execution_count": null,
   "id": "42",
   "metadata": {},
   "outputs": [],
   "source": [
    "somoscan_protein_meta_split_sub = somoscan_protein_meta_split[['SeqId', 'GENE', 'UniProt']]"
   ]
  },
  {
   "cell_type": "markdown",
   "id": "43",
   "metadata": {},
   "source": [
    "### save duplicate genes"
   ]
  },
  {
   "cell_type": "code",
   "execution_count": null,
   "id": "44",
   "metadata": {},
   "outputs": [],
   "source": [
    "somoscan_protein_dups_df = somoscan_protein_meta_sub[somoscan_protein_meta_sub['EntrezGeneSymbol'].str.contains(r'\\|', regex = True, na = False)]\n",
    "print(len(somoscan_protein_dups_df.index))\n",
    "somoscan_protein_dups_df.head()"
   ]
  },
  {
   "cell_type": "code",
   "execution_count": null,
   "id": "45",
   "metadata": {},
   "outputs": [],
   "source": [
    "somoscan_id_map[['4179-57', '8901-40']]"
   ]
  },
  {
   "cell_type": "markdown",
   "id": "46",
   "metadata": {},
   "source": [
    "### transpose"
   ]
  },
  {
   "cell_type": "code",
   "execution_count": null,
   "id": "47",
   "metadata": {},
   "outputs": [],
   "source": [
    "somoscan_id_map_transpose = somoscan_id_map.transpose().reset_index()\n",
    "somoscan_id_map_transpose.rename(columns = {'index' : 'SeqId'}, inplace = True)\n",
    "somoscan_id_map_transpose.head()"
   ]
  },
  {
   "cell_type": "markdown",
   "id": "48",
   "metadata": {},
   "source": [
    "### extract ID rows"
   ]
  },
  {
   "cell_type": "code",
   "execution_count": null,
   "id": "49",
   "metadata": {},
   "outputs": [],
   "source": [
    "id_rows = somoscan_id_map_transpose.head(2)\n",
    "id_rows"
   ]
  },
  {
   "cell_type": "markdown",
   "id": "50",
   "metadata": {},
   "source": [
    "### merge"
   ]
  },
  {
   "cell_type": "code",
   "execution_count": null,
   "id": "51",
   "metadata": {},
   "outputs": [],
   "source": [
    "somoscan_id_map_merge = somoscan_protein_meta_split_sub.merge(somoscan_id_map_transpose, on = 'SeqId')\n",
    "print(len(somoscan_id_map_merge.index))\n",
    "print(len(somoscan_protein_meta_split_sub.index))\n",
    "print(len(somoscan_id_map_transpose.index))\n",
    "somoscan_id_map_merge.head()"
   ]
  },
  {
   "cell_type": "markdown",
   "id": "52",
   "metadata": {},
   "source": [
    "## check for duplicates"
   ]
  },
  {
   "cell_type": "code",
   "execution_count": null,
   "id": "53",
   "metadata": {},
   "outputs": [],
   "source": [
    "no_na = somoscan_id_map_merge.dropna(subset = 'GENE')\n",
    "gene_dup = no_na[no_na['GENE'].duplicated(keep = False)].sort_values(by = 'GENE')\n",
    "print(len(gene_dup.index))\n",
    "gene_dup"
   ]
  },
  {
   "cell_type": "code",
   "execution_count": null,
   "id": "54",
   "metadata": {},
   "outputs": [],
   "source": [
    "somoscan_protein_meta[somoscan_protein_meta['SeqId'].isin(gene_dup['SeqId'])].sort_values(by = 'EntrezGeneID')"
   ]
  },
  {
   "cell_type": "code",
   "execution_count": null,
   "id": "55",
   "metadata": {},
   "outputs": [],
   "source": [
    "pd.set_option('display.max_columns', None)\n",
    "somoscan_protein_meta[somoscan_protein_meta['EntrezGeneSymbol'].isin(['YWHAG'])]"
   ]
  },
  {
   "cell_type": "markdown",
   "id": "56",
   "metadata": {},
   "source": [
    "### create gene and protein lists"
   ]
  },
  {
   "cell_type": "code",
   "execution_count": null,
   "id": "57",
   "metadata": {},
   "outputs": [],
   "source": [
    "somoscan_gene_list = somoscan_id_map_merge[['GENE']].drop_duplicates()\n",
    "somoscan_gene_list = somoscan_gene_list[~somoscan_gene_list['GENE'].isna()]\n",
    "print(len(somoscan_gene_list))"
   ]
  },
  {
   "cell_type": "markdown",
   "id": "58",
   "metadata": {},
   "source": [
    "### drop extra columns and rename columns"
   ]
  },
  {
   "cell_type": "code",
   "execution_count": null,
   "id": "59",
   "metadata": {},
   "outputs": [],
   "source": [
    "somoscan_gene_sub = somoscan_id_map_merge.drop(columns = ['SeqId', 'UniProt'])\n",
    "somoscan_gene_sub.rename(columns = {'GENE' : 'SeqId'}, inplace = True)"
   ]
  },
  {
   "cell_type": "markdown",
   "id": "60",
   "metadata": {},
   "source": [
    "### add id back in"
   ]
  },
  {
   "cell_type": "code",
   "execution_count": null,
   "id": "61",
   "metadata": {},
   "outputs": [],
   "source": [
    "somoscan_gene_sub_id = pd.concat([id_rows, somoscan_gene_sub], axis = 0)\n",
    "somoscan_gene_sub_id.head()"
   ]
  },
  {
   "cell_type": "markdown",
   "id": "62",
   "metadata": {},
   "source": [
    "### remove missing gene names"
   ]
  },
  {
   "cell_type": "raw",
   "id": "63",
   "metadata": {},
   "source": [
    "# only missing gene names, not missing protein names"
   ]
  },
  {
   "cell_type": "code",
   "execution_count": null,
   "id": "64",
   "metadata": {},
   "outputs": [],
   "source": [
    "somoscan_gene_no_missing = somoscan_gene_sub_id[~somoscan_gene_sub_id['SeqId'].isna()]\n",
    "print(len(somoscan_gene_sub_id.index))\n",
    "print(len(somoscan_gene_no_missing.index))"
   ]
  },
  {
   "cell_type": "markdown",
   "id": "65",
   "metadata": {},
   "source": [
    "### remake index"
   ]
  },
  {
   "cell_type": "code",
   "execution_count": null,
   "id": "66",
   "metadata": {},
   "outputs": [],
   "source": [
    "somoscan_gene_no_missing.set_index('SeqId', inplace = True)\n",
    "somoscan_gene_no_missing.head()"
   ]
  },
  {
   "cell_type": "markdown",
   "id": "67",
   "metadata": {},
   "source": [
    "### tranpose back"
   ]
  },
  {
   "cell_type": "code",
   "execution_count": null,
   "id": "68",
   "metadata": {},
   "outputs": [],
   "source": [
    "somoscan_gene = somoscan_gene_no_missing.transpose()\n",
    "print(somoscan_gene_no_missing.shape)\n",
    "print(somoscan_gene.shape)\n",
    "somoscan_gene.head()"
   ]
  },
  {
   "cell_type": "markdown",
   "id": "69",
   "metadata": {},
   "source": [
    "### add common id and keep genes as columns"
   ]
  },
  {
   "cell_type": "code",
   "execution_count": null,
   "id": "70",
   "metadata": {},
   "outputs": [],
   "source": [
    "common_id_map_sub = common_id_map.drop(columns = ['SampleID'])"
   ]
  },
  {
   "cell_type": "code",
   "execution_count": null,
   "id": "71",
   "metadata": {},
   "outputs": [],
   "source": [
    "somoscan_gene_no_missing = somoscan_gene[~somoscan_gene['individualID'].isna()]"
   ]
  },
  {
   "cell_type": "code",
   "execution_count": null,
   "id": "72",
   "metadata": {},
   "outputs": [],
   "source": [
    "somoscan_gene_common_id = common_id_map_sub.merge(somoscan_gene_no_missing, on = 'individualID', how = 'inner')\n",
    "print(len(somoscan_gene_no_missing.index))\n",
    "print(len(somoscan_gene_common_id.index))\n",
    "somoscan_gene_common_id.head()"
   ]
  },
  {
   "cell_type": "code",
   "execution_count": null,
   "id": "73",
   "metadata": {},
   "outputs": [],
   "source": [
    "somoscan_gene_common_id_sub = somoscan_gene_common_id.drop(columns = ['individualID', 'projid_visit'])"
   ]
  },
  {
   "cell_type": "code",
   "execution_count": null,
   "id": "74",
   "metadata": {},
   "outputs": [],
   "source": [
    "somoscan_gene_common_id_sub.set_index('CommonID', drop = True, inplace = True)"
   ]
  },
  {
   "cell_type": "markdown",
   "id": "75",
   "metadata": {},
   "source": [
    "### transpose common id file so genes are column names and ids are row names"
   ]
  },
  {
   "cell_type": "code",
   "execution_count": null,
   "id": "76",
   "metadata": {},
   "outputs": [],
   "source": [
    "somoscan_gene_common_id_transpose = somoscan_gene_common_id_sub.transpose()\n",
    "somoscan_gene_common_id_transpose.insert(0, 'GENE', somoscan_gene_common_id_transpose.index)\n",
    "print(somoscan_gene_common_id_transpose.shape)\n",
    "somoscan_gene_common_id_transpose.head()"
   ]
  },
  {
   "cell_type": "markdown",
   "id": "77",
   "metadata": {},
   "source": [
    "# export"
   ]
  },
  {
   "cell_type": "code",
   "execution_count": null,
   "id": "78",
   "metadata": {},
   "outputs": [],
   "source": [
    "srm_round1_id.to_csv('rosmap/ROSMAP.proteomics.LC_SRM.round1.individualID.txt',\n",
    "                     sep = '\\t',\n",
    "                     index = None)"
   ]
  },
  {
   "cell_type": "code",
   "execution_count": null,
   "id": "79",
   "metadata": {},
   "outputs": [],
   "source": [
    "somoscan_gene.to_csv('rosmap/ROSMAP.proteomics.somoscan.individualID.entrez_gene_symbol.txt',\n",
    "                     sep = '\\t',\n",
    "                     index = None)"
   ]
  },
  {
   "cell_type": "code",
   "execution_count": null,
   "id": "80",
   "metadata": {},
   "outputs": [],
   "source": [
    "somoscan_gene_common_id_transpose.to_csv('rosmap/ROSMAP.proteomics.somoscan.individualID.entrez_gene_symbol.common_id.transpose.txt.gz',\n",
    "                                         sep = '\\t',\n",
    "                                         index = None,\n",
    "                                         compression = 'gzip')"
   ]
  },
  {
   "cell_type": "code",
   "execution_count": null,
   "id": "81",
   "metadata": {},
   "outputs": [],
   "source": [
    "somoscan_gene_list.to_csv('rosmap/ROSMAP.proteomics.somoscan.individualID.entrez_gene_symbol.gene_list.txt',\n",
    "                     sep = '\\t',\n",
    "                     index = None)"
   ]
  },
  {
   "cell_type": "code",
   "execution_count": null,
   "id": "82",
   "metadata": {},
   "outputs": [],
   "source": []
  }
 ],
 "metadata": {
  "kernelspec": {
   "display_name": "Python 3 (ipykernel)",
   "language": "python",
   "name": "python3"
  },
  "language_info": {
   "codemirror_mode": {
    "name": "ipython",
    "version": 3
   },
   "file_extension": ".py",
   "mimetype": "text/x-python",
   "name": "python",
   "nbconvert_exporter": "python",
   "pygments_lexer": "ipython3",
   "version": "3.12.3"
  }
 },
 "nbformat": 4,
 "nbformat_minor": 5
}

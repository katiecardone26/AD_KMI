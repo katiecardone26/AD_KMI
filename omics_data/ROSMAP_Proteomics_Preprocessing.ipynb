{
 "cells": [
  {
   "cell_type": "markdown",
   "id": "e2c1e343-0fe4-4fdf-add2-de076bb136c2",
   "metadata": {},
   "source": [
    "# load packages"
   ]
  },
  {
   "cell_type": "code",
   "execution_count": null,
   "id": "9f09e972-6658-4519-b837-2d4d9e7a5e4b",
   "metadata": {},
   "outputs": [],
   "source": [
    "import pandas as pd"
   ]
  },
  {
   "cell_type": "code",
   "execution_count": null,
   "id": "919be01d-3587-45aa-b7d9-9157fe4b1164",
   "metadata": {},
   "outputs": [],
   "source": [
    "import numpy as np"
   ]
  },
  {
   "cell_type": "code",
   "execution_count": null,
   "id": "26b7c30e-dc90-42dc-b4b8-54c9750dc8c7",
   "metadata": {},
   "outputs": [],
   "source": [
    "from scipy.stats import zscore"
   ]
  },
  {
   "cell_type": "markdown",
   "id": "a5747005-55d2-44fa-8517-7a37d376edaf",
   "metadata": {},
   "source": [
    "# read in input files"
   ]
  },
  {
   "cell_type": "code",
   "execution_count": null,
   "id": "d894dbbe-07dc-46f3-8ab7-c10646240468",
   "metadata": {},
   "outputs": [],
   "source": [
    "id_map = pd.read_csv('rosmap/Metadata/ROSMAP_clinical.csv')\n",
    "id_map.head()"
   ]
  },
  {
   "cell_type": "code",
   "execution_count": null,
   "id": "a7dd773a-53a9-47bf-a75e-957b668e844a",
   "metadata": {},
   "outputs": [],
   "source": [
    "metadata = pd.read_csv('rosmap/Metadata/ROSMAP_assay_proteomics_metadata.csv')\n",
    "print(metadata.shape)\n",
    "metadata.head()"
   ]
  },
  {
   "cell_type": "code",
   "execution_count": null,
   "id": "78d5b917-fdcb-41de-a616-bd3123409d67",
   "metadata": {},
   "outputs": [],
   "source": [
    "biospec = pd.read_csv('osmap/Metadata/ROSMAP_biospecimen_metadata.csv')\n",
    "biospec.head()"
   ]
  },
  {
   "cell_type": "code",
   "execution_count": null,
   "id": "e69203d2-f066-42c0-8371-95bb3fee6ec3",
   "metadata": {},
   "outputs": [],
   "source": [
    "adsp_rosmap_id_map = pd.read_csv('rosmap/ID_mapping/ROSMAP.ADSP_PHENO.ID_map.txt',\n",
    "                                 sep = '\\t')\n",
    "adsp_rosmap_id_map.head()"
   ]
  },
  {
   "cell_type": "code",
   "execution_count": null,
   "id": "670d2310-decc-4299-9a99-641995112695",
   "metadata": {},
   "outputs": [],
   "source": [
    "somoscan = pd.read_csv('rosmap/Proteomics/Proteomics_SomoScan/OhNM2025_ROSMAP_plasma_Soma7k_protein_level_ANML_log10.csv')\n",
    "somoscan.head()"
   ]
  },
  {
   "cell_type": "code",
   "execution_count": null,
   "id": "2126e860-f323-4b84-8438-9a61b9c79925",
   "metadata": {},
   "outputs": [],
   "source": [
    "somoscan_protein_meta = pd.read_csv('rosmap/Proteomics/Proteomics_SomoScan/OhNM2025_ROSMAP_plasma_Soma7k_protein_metadata.csv')\n",
    "somoscan_protein_meta.head()"
   ]
  },
  {
   "cell_type": "code",
   "execution_count": null,
   "id": "ad3aed83-f99e-46b4-8774-a5f087b601e3",
   "metadata": {},
   "outputs": [],
   "source": [
    "somoscan_indiv_meta = pd.read_csv('rosmap/Proteomics/Proteomics_SomoScan/OhNM2025_ROSMAP_plasma_Soma7k_sample_metadata.csv')\n",
    "somoscan_indiv_meta.head()"
   ]
  },
  {
   "cell_type": "code",
   "execution_count": null,
   "id": "99435bb1-ccb6-4896-ba8e-0f862de9be4c",
   "metadata": {},
   "outputs": [],
   "source": [
    "common_id_map = pd.read_csv('id_map/ADSP.ROSMAP.MSBB.id_map.txt',\n",
    "                            sep = '\\t')\n",
    "common_id_map.head()"
   ]
  },
  {
   "cell_type": "markdown",
   "id": "1fd0da0c-cf97-4423-ba72-e11cdf3e835d",
   "metadata": {},
   "source": [
    "# clean somoscan data"
   ]
  },
  {
   "cell_type": "markdown",
   "id": "8b230fcb-5127-443c-ade9-06f581def372",
   "metadata": {},
   "source": [
    "## identify duplicate IDs"
   ]
  },
  {
   "cell_type": "code",
   "execution_count": null,
   "id": "108a6496-41b4-4d5e-83fc-3fe199c18f90",
   "metadata": {},
   "outputs": [],
   "source": [
    "somoscan_indiv_meta_dup = somoscan_indiv_meta[somoscan_indiv_meta['projid'].isin(somoscan_indiv_meta['projid'][somoscan_indiv_meta['projid'].duplicated()])].sort_values(by = 'projid')\n",
    "print(len(somoscan_indiv_meta_dup.index))\n",
    "print(len(somoscan_indiv_meta_dup['projid'].unique()))\n",
    "print(somoscan_indiv_meta_dup['Diagnosis'].unique())\n",
    "somoscan_indiv_meta_dup.head()"
   ]
  },
  {
   "cell_type": "markdown",
   "id": "abc953f5-1914-4ec0-8790-2f732e9f7e09",
   "metadata": {},
   "source": [
    "## fix dups by picked latest dx"
   ]
  },
  {
   "cell_type": "code",
   "execution_count": null,
   "id": "a76cc176-b907-454c-af0d-20d7fb0401d7",
   "metadata": {},
   "outputs": [],
   "source": [
    "somoscan_indiv_meta_dup.sort_values(by = ['projid', 'age_at_visit'], inplace = True, ascending = False)\n",
    "somoscan_indiv_meta_dup.head()"
   ]
  },
  {
   "cell_type": "code",
   "execution_count": null,
   "id": "fd2928bb-31bf-4276-bc67-c9b301c7e3a7",
   "metadata": {},
   "outputs": [],
   "source": [
    "somoscan_indiv_meta_dup_fixed = somoscan_indiv_meta_dup.drop_duplicates(subset = 'projid', keep = 'first')\n",
    "print(len(somoscan_indiv_meta_dup_fixed.index))\n",
    "somoscan_indiv_meta_dup_fixed.head()"
   ]
  },
  {
   "cell_type": "markdown",
   "id": "27f27b80-d7ed-4080-9309-fc9b7d5ccc9a",
   "metadata": {},
   "source": [
    "## check dup dx in rosmap clinical data"
   ]
  },
  {
   "cell_type": "code",
   "execution_count": null,
   "id": "bc0dc6ef-5d63-4c77-a9c5-6e177daccec6",
   "metadata": {},
   "outputs": [],
   "source": [
    "somoscan_indiv_meta_dup_pheno = id_map[id_map['individualID'].isin(somoscan_indiv_meta_dup['projid'])]\n",
    "somoscan_indiv_meta_dup_pheno = somoscan_indiv_meta_dup_pheno[['individualID', 'cogdx', 'dcfdx_lv']]\n",
    "somoscan_indiv_meta_dup_pheno['Final_Dx'] = np.where(somoscan_indiv_meta_dup_pheno['cogdx'].isna() == False, somoscan_indiv_meta_dup_pheno['cogdx'], somoscan_indiv_meta_dup_pheno['dcfdx_lv'])\n",
    "print(len(somoscan_indiv_meta_dup_pheno.index))\n",
    "somoscan_indiv_meta_dup_pheno.head()"
   ]
  },
  {
   "cell_type": "code",
   "execution_count": null,
   "id": "6e564575-6fc7-4652-b2e8-3e1a2a13e3b0",
   "metadata": {},
   "outputs": [],
   "source": [
    "somoscan_indiv_meta_dup[~somoscan_indiv_meta_dup['projid'].isin(id_map['individualID'])]"
   ]
  },
  {
   "cell_type": "code",
   "execution_count": null,
   "id": "732eb3cc-7264-43f7-b976-488b4d99b7ee",
   "metadata": {},
   "outputs": [],
   "source": [
    "id_map[id_map['projid'].isin([14410843, 54712250, 22894364])]"
   ]
  },
  {
   "cell_type": "code",
   "execution_count": null,
   "id": "917ec7e5-6780-4714-817e-6cfac3112fee",
   "metadata": {},
   "outputs": [],
   "source": [
    "print(len(id_map.index))\n",
    "print(len(id_map['individualID'].unique()))"
   ]
  },
  {
   "cell_type": "code",
   "execution_count": null,
   "id": "415629b6-d223-4dc4-b164-1b2ba31051ba",
   "metadata": {},
   "outputs": [],
   "source": [
    "somoscan_indiv_meta_dup['Final_Dx'] = somoscan_indiv_meta_dup['Diagnosis'].map({\n",
    "    'NCI' : 1.0,\n",
    "    'MCI' : 2.0,\n",
    "    'MCI+' : 3.0,\n",
    "    'AD' : 4.0,\n",
    "    'AD+' : 5.0,\n",
    "    'OtherDem' : 6.0})\n",
    "print(somoscan_indiv_meta_dup['Final_Dx'].unique())\n",
    "somoscan_indiv_meta_dup.head()"
   ]
  },
  {
   "cell_type": "code",
   "execution_count": null,
   "id": "ba54162d-e62c-4489-955c-03b7ea66915f",
   "metadata": {},
   "outputs": [],
   "source": [
    "somoscan_indiv_meta_dup_pheno_for_merge = somoscan_indiv_meta_dup_pheno[['individualID', 'Final_Dx']]\n",
    "somoscan_indiv_meta_dup_pheno_for_merge.rename(columns = {'individualID' : 'projid'}, inplace = True)"
   ]
  },
  {
   "cell_type": "code",
   "execution_count": null,
   "id": "eb07e1a5-1cd8-4db7-a363-c00fc7f86a5d",
   "metadata": {},
   "outputs": [],
   "source": [
    "merge = somoscan_indiv_meta_dup.merge(somoscan_indiv_meta_dup_pheno_for_merge, on = ['projid','Final_Dx'], how = 'inner')\n",
    "print(len(merge.index))\n",
    "merge.head()"
   ]
  },
  {
   "cell_type": "code",
   "execution_count": null,
   "id": "4cf04216-c16b-4c76-abfe-71e4e6860043",
   "metadata": {},
   "outputs": [],
   "source": [
    "somoscan_indiv_meta_dup[somoscan_indiv_meta_dup['projid'].isin(['R1807730'])]"
   ]
  },
  {
   "cell_type": "markdown",
   "id": "283c7fc0-5d9d-47e6-b850-5f0e1458818c",
   "metadata": {},
   "source": [
    "## create df without dups"
   ]
  },
  {
   "cell_type": "code",
   "execution_count": null,
   "id": "0fafb88b-d1fa-44d1-bed8-a8f280e87574",
   "metadata": {},
   "outputs": [],
   "source": [
    "somoscan_indiv_meta_no_dup = somoscan_indiv_meta[~somoscan_indiv_meta['projid'].isin(somoscan_indiv_meta['projid'][somoscan_indiv_meta['projid'].duplicated()])].sort_values(by = 'projid')\n",
    "print(len(somoscan_indiv_meta_no_dup.index))"
   ]
  },
  {
   "cell_type": "markdown",
   "id": "8839b131-164c-486a-b9e0-26a91c40254b",
   "metadata": {},
   "source": [
    "## concatenate no dup + dup fixed"
   ]
  },
  {
   "cell_type": "code",
   "execution_count": null,
   "id": "fe8f650f-4e85-49fe-b9e2-00d28f0f3c00",
   "metadata": {},
   "outputs": [],
   "source": [
    "somoscan_indiv_meta_id_fix = pd.concat([somoscan_indiv_meta_no_dup, somoscan_indiv_meta_dup_fixed], axis = 0)\n",
    "print(len(somoscan_indiv_meta_id_fix.index))\n",
    "somoscan_indiv_meta_id_fix.head()"
   ]
  },
  {
   "cell_type": "markdown",
   "id": "c7dc09fa-a649-491f-8798-7ea815113242",
   "metadata": {},
   "source": [
    "## create id map"
   ]
  },
  {
   "cell_type": "code",
   "execution_count": null,
   "id": "0203810b-938e-4008-bef2-e9d81e44a27b",
   "metadata": {},
   "outputs": [],
   "source": [
    "somoscan_indiv_meta_id_map = somoscan_indiv_meta_id_fix[['projid', 'projid_visit']]\n",
    "somoscan_indiv_meta_id_map.rename(columns = {'projid' : 'individualID'}, inplace = True)\n",
    "somoscan_indiv_meta_id_map.head()"
   ]
  },
  {
   "cell_type": "markdown",
   "id": "325aaeca-20cd-421d-ad49-ea2e2186c4d5",
   "metadata": {},
   "source": [
    "## add individual IDs to proteomics data and filter dup measurements"
   ]
  },
  {
   "cell_type": "code",
   "execution_count": null,
   "id": "df77c1a1-4c14-40d1-8b53-8aa3755359c1",
   "metadata": {},
   "outputs": [],
   "source": [
    "somoscan_id_map = somoscan_indiv_meta_id_map.merge(somoscan, how = 'inner', on = 'projid_visit')\n",
    "print(len(somoscan_id_map.index))\n",
    "print(len(somoscan.index))\n",
    "print(len(somoscan_indiv_meta_id_map.index))\n",
    "somoscan_id_map.head()"
   ]
  },
  {
   "cell_type": "markdown",
   "id": "430e46f7-8190-490b-9a9c-cafee3e19fbe",
   "metadata": {},
   "source": [
    "## map proteins to gene names and uniprot ids"
   ]
  },
  {
   "cell_type": "markdown",
   "id": "76e212f5-f37f-4216-ba26-a66e6adb189d",
   "metadata": {},
   "source": [
    "### subset map"
   ]
  },
  {
   "cell_type": "code",
   "execution_count": null,
   "id": "a0600f13-42c0-461f-8783-e03339f72760",
   "metadata": {},
   "outputs": [],
   "source": [
    "somoscan_protein_meta_sub = somoscan_protein_meta[['SeqId', 'EntrezGeneSymbol', 'UniProt']]\n",
    "somoscan_protein_meta_sub.head()"
   ]
  },
  {
   "cell_type": "markdown",
   "id": "54c985eb-7871-45c0-a54a-dfbded506142",
   "metadata": {},
   "source": [
    "### split duplicate genes"
   ]
  },
  {
   "cell_type": "code",
   "execution_count": null,
   "id": "a9455777-3bc1-4079-bf69-3d897a173e96",
   "metadata": {},
   "outputs": [],
   "source": [
    "print(len(somoscan_protein_meta_sub[somoscan_protein_meta_sub['EntrezGeneSymbol'].str.contains(r'\\|', regex = True, na = False)].index))\n",
    "print(len(somoscan_protein_meta_sub.index))"
   ]
  },
  {
   "cell_type": "code",
   "execution_count": null,
   "id": "c632642f-0af5-41f8-baa6-d013415f7eb6",
   "metadata": {},
   "outputs": [],
   "source": [
    "somoscan_protein_meta_sub[\"GENE\"] = somoscan_protein_meta_sub['EntrezGeneSymbol'].str.split('|')\n",
    "somoscan_protein_meta_split = somoscan_protein_meta_sub.explode('GENE')\n",
    "print(len(somoscan_protein_meta_split.index))\n",
    "print(len(somoscan_protein_meta_split[somoscan_protein_meta_split['GENE'].str.contains(r'\\|', regex = True, na = False)].index))\n",
    "somoscan_protein_meta_split.head()"
   ]
  },
  {
   "cell_type": "code",
   "execution_count": null,
   "id": "82143a95-0097-40c5-b5d2-e9450dc2a7ad",
   "metadata": {},
   "outputs": [],
   "source": [
    "somoscan_protein_meta_split_sub = somoscan_protein_meta_split[['SeqId', 'GENE', 'UniProt']]"
   ]
  },
  {
   "cell_type": "markdown",
   "id": "c41225c9-5220-4d0a-95c5-34df2a859e3d",
   "metadata": {},
   "source": [
    "### save duplicate genes"
   ]
  },
  {
   "cell_type": "code",
   "execution_count": null,
   "id": "836475e6-400f-42bc-a617-8059f76d6d34",
   "metadata": {},
   "outputs": [],
   "source": [
    "somoscan_protein_dups_df = somoscan_protein_meta_sub[somoscan_protein_meta_sub['EntrezGeneSymbol'].str.contains(r'\\|', regex = True, na = False)]\n",
    "print(len(somoscan_protein_dups_df.index))\n",
    "somoscan_protein_dups_df.head()"
   ]
  },
  {
   "cell_type": "code",
   "execution_count": null,
   "id": "3a3be614-e56c-4e6d-80d6-cf9a5b50f0fe",
   "metadata": {},
   "outputs": [],
   "source": [
    "somoscan_id_map[['4179-57', '8901-40']]"
   ]
  },
  {
   "cell_type": "markdown",
   "id": "5b43e147-c51d-4861-8861-cddd83344c1e",
   "metadata": {},
   "source": [
    "### transpose"
   ]
  },
  {
   "cell_type": "code",
   "execution_count": null,
   "id": "03766f5c-e79b-4ebc-a87f-03d4391f432e",
   "metadata": {},
   "outputs": [],
   "source": [
    "somoscan_id_map_transpose = somoscan_id_map.transpose().reset_index()\n",
    "somoscan_id_map_transpose.rename(columns = {'index' : 'SeqId'}, inplace = True)\n",
    "somoscan_id_map_transpose.head()"
   ]
  },
  {
   "cell_type": "markdown",
   "id": "eaa37229-a60e-4cc8-a11a-9870a393bc30",
   "metadata": {},
   "source": [
    "### extract ID rows"
   ]
  },
  {
   "cell_type": "code",
   "execution_count": null,
   "id": "57a51f66-eb78-43e4-972c-105d88c1a49d",
   "metadata": {},
   "outputs": [],
   "source": [
    "id_rows = somoscan_id_map_transpose.head(2)\n",
    "id_rows"
   ]
  },
  {
   "cell_type": "markdown",
   "id": "6757f032-2f32-47ea-b81a-85c493be9048",
   "metadata": {},
   "source": [
    "### merge"
   ]
  },
  {
   "cell_type": "code",
   "execution_count": null,
   "id": "5531f92b-9bf2-4f15-8af3-a2e2bd17ccfd",
   "metadata": {},
   "outputs": [],
   "source": [
    "somoscan_id_map_merge = somoscan_protein_meta_split_sub.merge(somoscan_id_map_transpose, on = 'SeqId')\n",
    "print(len(somoscan_id_map_merge.index))\n",
    "print(len(somoscan_protein_meta_split_sub.index))\n",
    "print(len(somoscan_id_map_transpose.index))\n",
    "somoscan_id_map_merge.head()"
   ]
  },
  {
   "cell_type": "markdown",
   "id": "f14cd087-76ea-4ff5-919b-4e5c2aa2a5e4",
   "metadata": {},
   "source": [
    "## check for duplicates"
   ]
  },
  {
   "cell_type": "code",
   "execution_count": null,
   "id": "d120e667-a92d-4884-b234-dfd10ce9e9c1",
   "metadata": {},
   "outputs": [],
   "source": [
    "no_na = somoscan_id_map_merge.dropna(subset = 'GENE')\n",
    "gene_dup = no_na[no_na['GENE'].duplicated(keep = False)].sort_values(by = 'GENE')\n",
    "print(len(gene_dup.index))\n",
    "gene_dup"
   ]
  },
  {
   "cell_type": "code",
   "execution_count": null,
   "id": "3950f9c9-be99-477f-80e0-5bf9a3ab9bdb",
   "metadata": {},
   "outputs": [],
   "source": [
    "somoscan_protein_meta[somoscan_protein_meta['SeqId'].isin(gene_dup['SeqId'])].sort_values(by = 'EntrezGeneID')"
   ]
  },
  {
   "cell_type": "code",
   "execution_count": null,
   "id": "5b7147d6-b3b9-4af8-b9d6-0805a16e0c87",
   "metadata": {},
   "outputs": [],
   "source": [
    "pd.set_option('display.max_columns', None)\n",
    "somoscan_protein_meta[somoscan_protein_meta['EntrezGeneSymbol'].isin(['YWHAG'])]"
   ]
  },
  {
   "cell_type": "markdown",
   "id": "95c2ef2d-f113-44b4-a7f6-b179c83e5732",
   "metadata": {},
   "source": [
    "### create gene and protein lists"
   ]
  },
  {
   "cell_type": "code",
   "execution_count": null,
   "id": "e43b7617-fcea-4b74-ba7e-2803f0bb66b8",
   "metadata": {},
   "outputs": [],
   "source": [
    "somoscan_gene_list = somoscan_id_map_merge[['GENE']].drop_duplicates()\n",
    "somoscan_gene_list = somoscan_gene_list[~somoscan_gene_list['GENE'].isna()]\n",
    "print(len(somoscan_gene_list))"
   ]
  },
  {
   "cell_type": "markdown",
   "id": "8a587a80-fb31-419b-8b1a-8afc075fc533",
   "metadata": {},
   "source": [
    "### drop extra columns and rename columns"
   ]
  },
  {
   "cell_type": "code",
   "execution_count": null,
   "id": "09b62bc8-9e8d-40d0-9a97-e92d12e4f967",
   "metadata": {},
   "outputs": [],
   "source": [
    "somoscan_gene_sub = somoscan_id_map_merge.drop(columns = ['SeqId', 'UniProt'])\n",
    "somoscan_gene_sub.rename(columns = {'GENE' : 'SeqId'}, inplace = True)"
   ]
  },
  {
   "cell_type": "markdown",
   "id": "57e5ab55-a92e-472a-a903-b6b97ed767db",
   "metadata": {},
   "source": [
    "### add id back in"
   ]
  },
  {
   "cell_type": "code",
   "execution_count": null,
   "id": "44fc6abb-4444-42c5-8318-39cbe6e14d96",
   "metadata": {},
   "outputs": [],
   "source": [
    "somoscan_gene_sub_id = pd.concat([id_rows, somoscan_gene_sub], axis = 0)\n",
    "somoscan_gene_sub_id.head()"
   ]
  },
  {
   "cell_type": "markdown",
   "id": "07ea691c-9d20-4e2c-b3d6-ec4c2eac0879",
   "metadata": {},
   "source": [
    "### remove missing gene names"
   ]
  },
  {
   "cell_type": "raw",
   "id": "4c90667e-db92-4951-a0c1-257cfd985acc",
   "metadata": {},
   "source": [
    "# only missing gene names, not missing protein names"
   ]
  },
  {
   "cell_type": "code",
   "execution_count": null,
   "id": "e2d799d3-3705-41a7-9c27-0627862756ce",
   "metadata": {},
   "outputs": [],
   "source": [
    "somoscan_gene_no_missing = somoscan_gene_sub_id[~somoscan_gene_sub_id['SeqId'].isna()]\n",
    "print(len(somoscan_gene_sub_id.index))\n",
    "print(len(somoscan_gene_no_missing.index))"
   ]
  },
  {
   "cell_type": "markdown",
   "id": "f8efb17d-02d0-4a96-8d8e-c037d742fcad",
   "metadata": {},
   "source": [
    "### remake index"
   ]
  },
  {
   "cell_type": "code",
   "execution_count": null,
   "id": "ca3d88fd-84a3-4aef-ade0-2061715ee66e",
   "metadata": {},
   "outputs": [],
   "source": [
    "somoscan_gene_no_missing.set_index('SeqId', inplace = True)\n",
    "somoscan_gene_no_missing.head()"
   ]
  },
  {
   "cell_type": "markdown",
   "id": "df39d450-d9ad-4127-a66b-33c185e86c3d",
   "metadata": {},
   "source": [
    "### tranpose back"
   ]
  },
  {
   "cell_type": "code",
   "execution_count": null,
   "id": "6d7ba3c2-6c7c-46e8-adb7-68e9039f9635",
   "metadata": {},
   "outputs": [],
   "source": [
    "somoscan_gene = somoscan_gene_no_missing.transpose()\n",
    "print(somoscan_gene_no_missing.shape)\n",
    "print(somoscan_gene.shape)\n",
    "somoscan_gene.head()"
   ]
  },
  {
   "cell_type": "markdown",
   "id": "7485eeb7-5fc0-4866-bf0e-404960943b4e",
   "metadata": {},
   "source": [
    "### add common id and keep genes as columns"
   ]
  },
  {
   "cell_type": "code",
   "execution_count": null,
   "id": "753c6604-8fa9-4567-9002-239c85a447f9",
   "metadata": {},
   "outputs": [],
   "source": [
    "common_id_map_sub = common_id_map.drop(columns = ['SampleID'])"
   ]
  },
  {
   "cell_type": "code",
   "execution_count": null,
   "id": "76c91905-a348-40b3-8321-bd4922ce90eb",
   "metadata": {},
   "outputs": [],
   "source": [
    "somoscan_gene_no_missing = somoscan_gene[~somoscan_gene['individualID'].isna()]"
   ]
  },
  {
   "cell_type": "code",
   "execution_count": null,
   "id": "0bef8fce-f273-45a2-bbba-472775a68434",
   "metadata": {},
   "outputs": [],
   "source": [
    "somoscan_gene_common_id = common_id_map_sub.merge(somoscan_gene_no_missing, on = 'individualID', how = 'inner')\n",
    "print(len(somoscan_gene_no_missing.index))\n",
    "print(len(somoscan_gene_common_id.index))\n",
    "somoscan_gene_common_id.head()"
   ]
  },
  {
   "cell_type": "code",
   "execution_count": null,
   "id": "63a688ef-0997-4256-b90e-9f838a841d2d",
   "metadata": {},
   "outputs": [],
   "source": [
    "somoscan_gene_common_id_sub = somoscan_gene_common_id.drop(columns = ['individualID', 'projid_visit'])"
   ]
  },
  {
   "cell_type": "code",
   "execution_count": null,
   "id": "b50fe55f-de50-4ede-a9e5-a918c28889a3",
   "metadata": {},
   "outputs": [],
   "source": [
    "somoscan_gene_common_id_sub.set_index('CommonID', drop = True, inplace = True)"
   ]
  },
  {
   "cell_type": "markdown",
   "id": "cc00836f-1133-468f-81ca-b4fa2c3aa3a2",
   "metadata": {},
   "source": [
    "### transpose common id file so genes are column names and ids are row names"
   ]
  },
  {
   "cell_type": "code",
   "execution_count": null,
   "id": "549256f3-608f-4292-959a-c3cd5963926b",
   "metadata": {},
   "outputs": [],
   "source": [
    "somoscan_gene_common_id_transpose = somoscan_gene_common_id_sub.transpose()\n",
    "somoscan_gene_common_id_transpose.insert(0, 'GENE', somoscan_gene_common_id_transpose.index)\n",
    "print(somoscan_gene_common_id_transpose.shape)\n",
    "somoscan_gene_common_id_transpose.head()"
   ]
  },
  {
   "cell_type": "markdown",
   "id": "bf7005c5-d92a-47d8-979c-d4216ad2b8af",
   "metadata": {},
   "source": [
    "# export"
   ]
  },
  {
   "cell_type": "code",
   "execution_count": null,
   "id": "18d4ac54-c9eb-4152-a316-425c764dc82f",
   "metadata": {},
   "outputs": [],
   "source": [
    "srm_round1_id.to_csv('rosmap/ROSMAP.proteomics.LC_SRM.round1.individualID.txt',\n",
    "                     sep = '\\t',\n",
    "                     index = None)"
   ]
  },
  {
   "cell_type": "code",
   "execution_count": null,
   "id": "af9edb8b-a1c0-4f90-983e-e9f73b3d1eb5",
   "metadata": {},
   "outputs": [],
   "source": [
    "somoscan_gene.to_csv('rosmap/ROSMAP.proteomics.somoscan.individualID.entrez_gene_symbol.txt',\n",
    "                     sep = '\\t',\n",
    "                     index = None)"
   ]
  },
  {
   "cell_type": "code",
   "execution_count": null,
   "id": "3c73a07d-1794-4a9b-9a87-d5c56f5332fb",
   "metadata": {},
   "outputs": [],
   "source": [
    "somoscan_gene_common_id_transpose.to_csv('rosmap/ROSMAP.proteomics.somoscan.individualID.entrez_gene_symbol.common_id.transpose.txt.gz',\n",
    "                                         sep = '\\t',\n",
    "                                         index = None,\n",
    "                                         compression = 'gzip')"
   ]
  },
  {
   "cell_type": "code",
   "execution_count": null,
   "id": "6419af66-982a-4467-a185-b46c9e60de16",
   "metadata": {},
   "outputs": [],
   "source": [
    "somoscan_gene_list.to_csv('rosmap/ROSMAP.proteomics.somoscan.individualID.entrez_gene_symbol.gene_list.txt',\n",
    "                     sep = '\\t',\n",
    "                     index = None)"
   ]
  },
  {
   "cell_type": "code",
   "execution_count": null,
   "id": "1069000e-6ba5-47d9-9b80-6aaf28a6f7df",
   "metadata": {},
   "outputs": [],
   "source": []
  }
 ],
 "metadata": {
  "kernelspec": {
   "display_name": "Python 3 (ipykernel)",
   "language": "python",
   "name": "python3"
  },
  "language_info": {
   "codemirror_mode": {
    "name": "ipython",
    "version": 3
   },
   "file_extension": ".py",
   "mimetype": "text/x-python",
   "name": "python",
   "nbconvert_exporter": "python",
   "pygments_lexer": "ipython3",
   "version": "3.12.3"
  }
 },
 "nbformat": 4,
 "nbformat_minor": 5
}

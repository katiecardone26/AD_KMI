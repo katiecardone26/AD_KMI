{
 "cells": [
  {
   "cell_type": "markdown",
   "id": "a9b31ec4-db29-4ee4-9308-cd02fda0e1fc",
   "metadata": {},
   "source": [
    "# load packages"
   ]
  },
  {
   "cell_type": "code",
   "execution_count": null,
   "id": "cc8c1858-7c02-49bb-9cbd-d3c5d878276d",
   "metadata": {},
   "outputs": [],
   "source": [
    "import pandas as pd"
   ]
  },
  {
   "cell_type": "code",
   "execution_count": null,
   "id": "dc8e2df6-ac13-487d-8c27-95674628f404",
   "metadata": {},
   "outputs": [],
   "source": [
    "import numpy as np"
   ]
  },
  {
   "cell_type": "code",
   "execution_count": null,
   "id": "455a7034-2fc6-40bf-bcff-e394cb93d29b",
   "metadata": {},
   "outputs": [],
   "source": [
    "import statsmodels.api as sm"
   ]
  },
  {
   "cell_type": "markdown",
   "id": "e93d864e-9ecd-428d-afbd-4894d9309171",
   "metadata": {},
   "source": [
    "# read in input files"
   ]
  },
  {
   "cell_type": "markdown",
   "id": "a2a46f2a-bda9-445b-8294-9a6da6c75bfb",
   "metadata": {},
   "source": [
    "## rnaseq"
   ]
  },
  {
   "cell_type": "raw",
   "id": "a32b98eb-c586-4f00-a383-89a174430366",
   "metadata": {},
   "source": [
    "# rnaseq expression data is available for 4 brain areas\n",
    "Brodmann's Area 10\n",
    "- 262 individuals\n",
    "Brodmann's Area 22\n",
    "- 241 individuals\n",
    "Brodmann's Area 36\n",
    "- 216 individuals\n",
    "- TMT proteomics here\n",
    "Brodmann's Area 44\n",
    "- 232 individuals\n",
    "\n",
    "# --- i am going to include all 4 areas for now and potentially control for area and add it as a feature in my models ---\n",
    "\n",
    "- all have data for 23202 genes\n",
    "\n",
    "# there is another RNAseq batch done on parahippocampal gyrus (Brodmann's areas 27, 28, 35, 36, and 37) on different cell types (Neuronal nuclei (NEU), oligodendrocytes (OLIG), and microglia/astrocytes(MGAS))\n",
    "- 42 individuals\n",
    "\n",
    "# other MSBB areas\n",
    "- methylation array in PHG (Brodmann's areas 27, 28, 35, 36, and 37)\n",
    "- tmt proteomics in Brodmann's area 36 of PHG\n",
    "\n",
    "# rosmap areas\n",
    "- bulk brain RNAseq in dorsolateral prefrontal cortex (Brodmann's areas 9 & 46), posterior cingulate cortex (Brodmann's areas 23 and 31), head of caudate nucleus (doesn't directly correspond to an area but has connections to Brodmann's areas 9 and 0)\n",
    "- methylation array in prefrontal cortex (BA8, BA9, BA10, BA11, BA12, BA13, BA14, BA24, BA25, BA32, BA44, BA45, BA46, and BA47)\n",
    "- somoscan proteomics in blood\n"
   ]
  },
  {
   "cell_type": "code",
   "execution_count": null,
   "id": "ff4412ad-c496-4c07-a0f6-d2e18ee6dd1b",
   "metadata": {},
   "outputs": [],
   "source": [
    "rnaseq_10_norm_done = pd.read_csv('MSBB/Data/Gene Expression/Gene Expression (RNA seq)/Processed/NormalizedExpression/AMP-AD_MSBB_MSSM_BM_10.normalized.sex_race_age_RIN_PMI_exonicRate_rRnaRate_batch_adj.tsv',\n",
    "                                  sep = '\\t')\n",
    "rnaseq_10_norm_done.head()"
   ]
  },
  {
   "cell_type": "code",
   "execution_count": null,
   "id": "b6d05d14-f74b-416b-9cec-5723a0879783",
   "metadata": {},
   "outputs": [],
   "source": [
    "rnaseq_10_quant = pd.read_csv('MSBB/Data/Gene Expression/Gene Expression (RNA seq)/Processed/QuantitatedExpression/AMP-AD_MSBB_MSSM_BM_10.raw_counts.tsv',\n",
    "                              sep = '\\t')\n",
    "rnaseq_10_quant.head()"
   ]
  },
  {
   "cell_type": "code",
   "execution_count": null,
   "id": "162ceb27-1a60-485e-a9ce-94e59d03ee93",
   "metadata": {},
   "outputs": [],
   "source": [
    "rnaseq_22_norm_done = pd.read_csv('MSBB/Data/Gene Expression/Gene Expression (RNA seq)/Processed/NormalizedExpression/AMP-AD_MSBB_MSSM_BM_22.normalized.sex_race_age_RIN_PMI_exonicRate_rRnaRate_batch_adj.tsv',\n",
    "                                  sep = '\\t')\n",
    "rnaseq_22_norm_done.head()"
   ]
  },
  {
   "cell_type": "code",
   "execution_count": null,
   "id": "f1b5eeb3-e547-4252-b535-8428aa4ba93c",
   "metadata": {},
   "outputs": [],
   "source": [
    "rnaseq_22_quant = pd.read_csv('MSBB/Data/Gene Expression/Gene Expression (RNA seq)/Processed/QuantitatedExpression/AMP-AD_MSBB_MSSM_BM_22.raw_counts.tsv',\n",
    "                              sep = '\\t')\n",
    "rnaseq_22_quant.head()"
   ]
  },
  {
   "cell_type": "code",
   "execution_count": null,
   "id": "e924f4a6-1ba2-4a55-814f-944ce4964084",
   "metadata": {},
   "outputs": [],
   "source": [
    "rnaseq_36_norm_done = pd.read_csv('MSBB/Data/Gene Expression/Gene Expression (RNA seq)/Processed/NormalizedExpression/AMP-AD_MSBB_MSSM_BM_36.normalized.sex_race_age_RIN_PMI_exonicRate_rRnaRate_batch_adj.tsv',\n",
    "                                  sep = '\\t')\n",
    "rnaseq_36_norm_done.head()"
   ]
  },
  {
   "cell_type": "code",
   "execution_count": null,
   "id": "c4a58a31-9a69-498f-b300-afde30f7ee37",
   "metadata": {},
   "outputs": [],
   "source": [
    "rnaseq_36_quant = pd.read_csv('MSBB/Data/Gene Expression/Gene Expression (RNA seq)/Processed/QuantitatedExpression/AMP-AD_MSBB_MSSM_BM_36.raw_counts.tsv',\n",
    "                              sep = '\\t')\n",
    "rnaseq_36_quant.head()"
   ]
  },
  {
   "cell_type": "code",
   "execution_count": null,
   "id": "b1225336-8267-4604-a080-31344a11a9ad",
   "metadata": {},
   "outputs": [],
   "source": [
    "rnaseq_44_norm_done = pd.read_csv('MSBB/Data/Gene Expression/Gene Expression (RNA seq)/Processed/NormalizedExpression/AMP-AD_MSBB_MSSM_BM_44.normalized.sex_race_age_RIN_PMI_exonicRate_rRnaRate_batch_adj.tsv',\n",
    "                                  sep = '\\t')\n",
    "rnaseq_44_norm_done.head()"
   ]
  },
  {
   "cell_type": "code",
   "execution_count": null,
   "id": "f391f486-7079-456b-961a-b09fb7b7e1b7",
   "metadata": {},
   "outputs": [],
   "source": [
    "rnaseq_44_quant = pd.read_csv('MSBB/Data/Gene Expression/Gene Expression (RNA seq)/Processed/QuantitatedExpression/AMP-AD_MSBB_MSSM_BM_44.raw_counts.tsv',\n",
    "                              sep = '\\t')\n",
    "rnaseq_44_quant.head()"
   ]
  },
  {
   "cell_type": "markdown",
   "id": "33cadc30-fb2a-4191-b61d-5ebf4e756fda",
   "metadata": {},
   "source": [
    "## methylation"
   ]
  },
  {
   "cell_type": "code",
   "execution_count": null,
   "id": "ddc39de2-63b0-4be6-a585-a48db50a714f",
   "metadata": {},
   "outputs": [],
   "source": [
    "methyl = pd.read_csv('MSBB/Data/Epigenetics/Epigenetics (Methylation Array)/ROU_13169_B01_CUS_MethylEPIC.illumina.beta.txt',\n",
    "                     sep = '\\t')\n",
    "methyl.head()"
   ]
  },
  {
   "cell_type": "markdown",
   "id": "4f02fd64-a199-4903-965f-a63b4e6de1fc",
   "metadata": {},
   "source": [
    "## proteomics"
   ]
  },
  {
   "cell_type": "code",
   "execution_count": null,
   "id": "dcac57b9-c9b6-4c84-bc27-b42a174c3ccc",
   "metadata": {},
   "outputs": [],
   "source": [
    "tmt = pd.read_excel('MSBB/Data/Proteomics/Proteomics (TMT proteomics)/analysis/msbb_19batch_normalized_tmt_matrix.xlsx', skiprows = 4)\n",
    "tmt.head()"
   ]
  },
  {
   "cell_type": "markdown",
   "id": "4f6a5886-5e09-4fa7-98f9-d740c161293b",
   "metadata": {},
   "source": [
    "## id map"
   ]
  },
  {
   "cell_type": "code",
   "execution_count": null,
   "id": "10f473aa-28a8-4dcc-8d92-a96466899751",
   "metadata": {},
   "outputs": [],
   "source": [
    "id_map = pd.read_csv('msbb/MSBB.ADSP.ID_map.csv')\n",
    "id_map.head()"
   ]
  },
  {
   "cell_type": "markdown",
   "id": "419d2db9-ba68-4c31-931a-557c7fccee0b",
   "metadata": {},
   "source": [
    "## raw id map"
   ]
  },
  {
   "cell_type": "code",
   "execution_count": null,
   "id": "973d89f0-3b55-4c26-94ec-5a313480cc54",
   "metadata": {},
   "outputs": [],
   "source": [
    "raw_id_map = pd.read_csv('ADSP/MAP_FILES/AMP-AD_IDs_17k.csv')\n",
    "raw_id_map.head()"
   ]
  },
  {
   "cell_type": "markdown",
   "id": "b14b4cdd-0078-46e2-a801-8e859f6e2bc2",
   "metadata": {},
   "source": [
    "## raw biospec"
   ]
  },
  {
   "cell_type": "code",
   "execution_count": null,
   "id": "50632ac7-3708-4992-9242-675238666d86",
   "metadata": {},
   "outputs": [],
   "source": [
    "biospec = pd.read_csv('MSBB/Data/Metadata/MSBB_biospecimen_metadata.csv')\n",
    "biospec.head()"
   ]
  },
  {
   "cell_type": "markdown",
   "id": "5559604b-9d4b-4693-88ea-4667a850a5d2",
   "metadata": {},
   "source": [
    "## gene map"
   ]
  },
  {
   "cell_type": "code",
   "execution_count": null,
   "id": "b0ad0cdb-6e37-4d20-a3ff-c9ba3310ee4f",
   "metadata": {},
   "outputs": [],
   "source": [
    "gene_map = pd.read_csv('ensembl_start_stop/Homo_sapiens.GRCh38.113.gene_start_stop.all_chr.500kb_upstream_downstream.gtf.txt',\n",
    "                       sep = '\\t')\n",
    "gene_map.head()"
   ]
  },
  {
   "cell_type": "markdown",
   "id": "081eedd6-fc46-46c0-9441-07218077f71d",
   "metadata": {},
   "source": [
    "## methylation gene map"
   ]
  },
  {
   "cell_type": "code",
   "execution_count": null,
   "id": "703bf436-41df-4eb0-8d5b-6bf3d4864ccf",
   "metadata": {},
   "outputs": [],
   "source": [
    "methyl_gene_map = pd.read_csv('msbb/infinium-methylationepic-v-1-0-b5-manifest-file.csv',\n",
    "                              skiprows = 7,\n",
    "                              low_memory = False)\n",
    "methyl_gene_map.head()"
   ]
  },
  {
   "cell_type": "markdown",
   "id": "b823f359-2847-497f-b3ac-e238aa60e65c",
   "metadata": {},
   "source": [
    "## missing methylation gene map"
   ]
  },
  {
   "cell_type": "code",
   "execution_count": null,
   "id": "52929c8c-cda8-4d3c-944f-f33bf3be7f1e",
   "metadata": {},
   "outputs": [],
   "source": [
    "methyl_gene_map_missing = pd.read_csv('msbb/MethylationEPIC Missing Legacy CpG (v1.0_B3 vs. v1.0_B2) Annotations.csv')\n",
    "methyl_gene_map_missing.head()"
   ]
  },
  {
   "cell_type": "markdown",
   "id": "f7764a1f-a68d-47e3-966c-cf7eecff4d37",
   "metadata": {},
   "source": [
    "## reference transcripts"
   ]
  },
  {
   "cell_type": "code",
   "execution_count": null,
   "id": "394d24d3-bbea-45fd-bcaa-637207706c99",
   "metadata": {},
   "outputs": [],
   "source": [
    "ref = pd.read_csv('ensembl_start_stop/Homo_sapiens.GRCh38.113.refseq.tsv.gz',\n",
    "                  sep = '\\t')\n",
    "ref.head()"
   ]
  },
  {
   "cell_type": "markdown",
   "id": "afcbe0e5-4224-4d5c-a5c6-34f6efb29e99",
   "metadata": {},
   "source": [
    "## methylation metadata"
   ]
  },
  {
   "cell_type": "code",
   "execution_count": null,
   "id": "ba393178-e465-4953-a86e-96ab05006339",
   "metadata": {},
   "outputs": [],
   "source": [
    "methyl_meta = pd.read_csv('MSBB/Data/Metadata/MSBB_assay_MethylationArray_metadata.csv')\n",
    "methyl_meta.head()"
   ]
  },
  {
   "cell_type": "markdown",
   "id": "eaddd50d-7058-4755-9e5a-10b34b196009",
   "metadata": {},
   "source": [
    "## rnaseq metadata"
   ]
  },
  {
   "cell_type": "code",
   "execution_count": null,
   "id": "ee6c0789-bf28-4afb-af4e-d00ba5ff1da9",
   "metadata": {},
   "outputs": [],
   "source": [
    "rnaseq_meta = pd.read_csv('MSBB/Data/Metadata/MSBB_assay_rnaSeq_metadata.csv')\n",
    "rnaseq_meta.head()"
   ]
  },
  {
   "cell_type": "markdown",
   "id": "b6fb6dc4-a37a-4d2b-b9e2-170479f0c6c2",
   "metadata": {},
   "source": [
    "## clinical metadata"
   ]
  },
  {
   "cell_type": "code",
   "execution_count": null,
   "id": "63705592-9171-49f4-a7b6-39afead0bb33",
   "metadata": {},
   "outputs": [],
   "source": [
    "clinical_meta = pd.read_csv('MSBB/Data/Metadata/MSBB_individual_metadata.csv')\n",
    "clinical_meta.head()"
   ]
  },
  {
   "cell_type": "markdown",
   "id": "f9afe74c-f63c-4366-ab9e-f0b13db5d3fe",
   "metadata": {},
   "source": [
    "## ensembl release 70 gtf"
   ]
  },
  {
   "cell_type": "code",
   "execution_count": null,
   "id": "7e8d618f-f56f-4b28-9fd6-267e16f9af9e",
   "metadata": {},
   "outputs": [],
   "source": [
    "rnaseq_gtf = pd.read_csv('msbb/Homo_sapiens.GRCh37.70.gtf.gz',\n",
    "                         sep = '\\t',\n",
    "                         header = None,\n",
    "                         low_memory = False)\n",
    "rnaseq_gtf.head()"
   ]
  },
  {
   "cell_type": "markdown",
   "id": "7381ef08-c9b5-4df8-a8ee-4b1892980bf1",
   "metadata": {},
   "source": [
    "## ensembl release 113 gtf"
   ]
  },
  {
   "cell_type": "code",
   "execution_count": null,
   "id": "f89c7974-88b7-416e-b385-3ac1119033ba",
   "metadata": {},
   "outputs": [],
   "source": [
    "gtf_113 = pd.read_csv('ensembl_start_stop/Homo_sapiens.GRCh38.113.gtf.csv',\n",
    "                      header = None,\n",
    "                      low_memory = False)\n",
    "gtf_113.head()"
   ]
  },
  {
   "cell_type": "markdown",
   "id": "7686a8b5-96f1-4667-b03e-6369180efd02",
   "metadata": {},
   "source": [
    "## rnaseq exonic rate"
   ]
  },
  {
   "cell_type": "code",
   "execution_count": null,
   "id": "17695490-19a1-43f8-a8a7-2f19fb64d314",
   "metadata": {},
   "outputs": [],
   "source": [
    "rnaseq_exonic_rate = pd.read_csv('MSBB/Data/Metadata/MSBB_assay_rnaSeq_exonic_rate.tsv',\n",
    "                                 sep = '\\t')\n",
    "rnaseq_exonic_rate.head()"
   ]
  },
  {
   "cell_type": "markdown",
   "id": "3bdc7956-9d3d-4744-9310-4d9bdf976167",
   "metadata": {},
   "source": [
    "# filter biospec file to exclude particiants"
   ]
  },
  {
   "cell_type": "code",
   "execution_count": null,
   "id": "bc696924-5af8-480e-bc54-78e52a338f80",
   "metadata": {},
   "outputs": [],
   "source": [
    "biospec_exclude = biospec[biospec['exclude'] == True]\n",
    "print(len(biospec.index))\n",
    "print(len(biospec_exclude.index))\n",
    "print(biospec_exclude['assay'].unique())\n",
    "biospec_exclude.head()"
   ]
  },
  {
   "cell_type": "markdown",
   "id": "7bca7709-144c-495a-9268-5d80c023506a",
   "metadata": {},
   "source": [
    "# clean RNAseq"
   ]
  },
  {
   "cell_type": "markdown",
   "id": "228cdfd9-c59a-4bdb-a13e-3cfbc76a591c",
   "metadata": {},
   "source": [
    "## subset and rename"
   ]
  },
  {
   "cell_type": "code",
   "execution_count": null,
   "id": "17a7e120-a925-44c4-a645-ab00355b3a71",
   "metadata": {},
   "outputs": [],
   "source": [
    "gene_map_sub = gene_map[['ENS_ID', 'GENE']]"
   ]
  },
  {
   "cell_type": "code",
   "execution_count": null,
   "id": "d93e435c-788f-43f0-864e-3185a7b15c48",
   "metadata": {},
   "outputs": [],
   "source": [
    "rnaseq_10_norm_done.rename(columns = {'Ensembl ID' : 'ENS_ID'}, inplace = True)"
   ]
  },
  {
   "cell_type": "code",
   "execution_count": null,
   "id": "b7bdcdb4-fc9d-4286-9d50-e082244b5c6b",
   "metadata": {},
   "outputs": [],
   "source": [
    "rnaseq_10_quant.rename(columns = {'Ensembl ID' : 'ENS_ID'}, inplace = True)"
   ]
  },
  {
   "cell_type": "code",
   "execution_count": null,
   "id": "e230bf7c-c357-4afd-be57-f3cb7202975c",
   "metadata": {},
   "outputs": [],
   "source": [
    "rnaseq_22_norm_done.rename(columns = {'Ensembl ID' : 'ENS_ID'}, inplace = True)"
   ]
  },
  {
   "cell_type": "code",
   "execution_count": null,
   "id": "68ad4c7e-d4f3-4d2e-9f5a-3cf0b5896ef3",
   "metadata": {},
   "outputs": [],
   "source": [
    "rnaseq_22_quant.rename(columns = {'Ensembl ID' : 'ENS_ID'}, inplace = True)"
   ]
  },
  {
   "cell_type": "code",
   "execution_count": null,
   "id": "ebba4436-65b8-4375-9764-89bb8f9722f1",
   "metadata": {},
   "outputs": [],
   "source": [
    "rnaseq_36_norm_done.rename(columns = {'Ensembl ID' : 'ENS_ID'}, inplace = True)"
   ]
  },
  {
   "cell_type": "code",
   "execution_count": null,
   "id": "c7794086-22b3-4ce2-8081-4a371c2e3c29",
   "metadata": {},
   "outputs": [],
   "source": [
    "rnaseq_36_quant.rename(columns = {'Ensembl ID' : 'ENS_ID'}, inplace = True)"
   ]
  },
  {
   "cell_type": "code",
   "execution_count": null,
   "id": "b8dcdc51-a4fe-4cab-9834-8520c5e919a9",
   "metadata": {},
   "outputs": [],
   "source": [
    "rnaseq_44_norm_done.rename(columns = {'Ensembl ID' : 'ENS_ID'}, inplace = True)"
   ]
  },
  {
   "cell_type": "code",
   "execution_count": null,
   "id": "95ca4d04-c2d3-4db9-bb26-b894c1f9bdf9",
   "metadata": {},
   "outputs": [],
   "source": [
    "rnaseq_44_quant.rename(columns = {'Ensembl ID' : 'ENS_ID'}, inplace = True)"
   ]
  },
  {
   "cell_type": "markdown",
   "id": "a68a0e1e-a4ee-4cda-bbc9-8eeb8ab45a53",
   "metadata": {},
   "source": [
    "## filter to genes in normalized dataframe (genes kept after QC)"
   ]
  },
  {
   "cell_type": "code",
   "execution_count": null,
   "id": "664848c9-bf4a-4eeb-bc60-f19888d9e097",
   "metadata": {},
   "outputs": [],
   "source": [
    "rnaseq_10_quant_gene_filt = rnaseq_10_quant[rnaseq_10_quant['ENS_ID'].isin(rnaseq_10_norm_done['ENS_ID'])]\n",
    "print(len(rnaseq_10_quant.index))\n",
    "print(len(rnaseq_10_norm_done.index))\n",
    "print(len(rnaseq_10_quant_gene_filt.index))"
   ]
  },
  {
   "cell_type": "code",
   "execution_count": null,
   "id": "2dc03763-2523-483a-bcf8-686c133b4330",
   "metadata": {},
   "outputs": [],
   "source": [
    "rnaseq_22_quant_gene_filt = rnaseq_22_quant[rnaseq_22_quant['ENS_ID'].isin(rnaseq_22_norm_done['ENS_ID'])]\n",
    "print(len(rnaseq_22_quant.index))\n",
    "print(len(rnaseq_22_norm_done.index))\n",
    "print(len(rnaseq_22_quant_gene_filt.index))"
   ]
  },
  {
   "cell_type": "code",
   "execution_count": null,
   "id": "7c2e7bb7-9008-4c54-8ff6-49fcc3bea0ad",
   "metadata": {},
   "outputs": [],
   "source": [
    "rnaseq_36_quant_gene_filt = rnaseq_36_quant[rnaseq_36_quant['ENS_ID'].isin(rnaseq_36_norm_done['ENS_ID'])]\n",
    "print(len(rnaseq_36_quant.index))\n",
    "print(len(rnaseq_36_norm_done.index))\n",
    "print(len(rnaseq_36_quant_gene_filt.index))"
   ]
  },
  {
   "cell_type": "code",
   "execution_count": null,
   "id": "7dbe2f0a-2b04-4a29-acae-b7561b7a35df",
   "metadata": {},
   "outputs": [],
   "source": [
    "rnaseq_44_quant_gene_filt = rnaseq_44_quant[rnaseq_44_quant['ENS_ID'].isin(rnaseq_44_norm_done['ENS_ID'])]\n",
    "print(len(rnaseq_44_quant.index))\n",
    "print(len(rnaseq_44_norm_done.index))\n",
    "print(len(rnaseq_44_quant_gene_filt.index))"
   ]
  },
  {
   "cell_type": "markdown",
   "id": "40ce9c90-edc8-481c-8657-c3022c8c9049",
   "metadata": {},
   "source": [
    "## map genes"
   ]
  },
  {
   "cell_type": "code",
   "execution_count": null,
   "id": "94ea70cf-48ec-4a2c-97d3-bc45a859bc6c",
   "metadata": {},
   "outputs": [],
   "source": [
    "rnaseq_10_gene = gene_map_sub.merge(rnaseq_10_quant_gene_filt, how = 'inner', on = 'ENS_ID')\n",
    "print(len(rnaseq_10_quant_gene_filt.index))\n",
    "print(len(gene_map_sub.index))\n",
    "print(len(rnaseq_10_gene.index))\n",
    "print(len(rnaseq_10_gene['ENS_ID'].unique()))\n",
    "print(len(rnaseq_10_gene['GENE'].unique()))"
   ]
  },
  {
   "cell_type": "code",
   "execution_count": null,
   "id": "a2d12363-58bf-4aee-b91b-d3c96e69c6c8",
   "metadata": {},
   "outputs": [],
   "source": [
    "rnaseq_22_gene = gene_map_sub.merge(rnaseq_22_quant_gene_filt, how = 'inner', on = 'ENS_ID')\n",
    "print(len(rnaseq_22_quant_gene_filt.index))\n",
    "print(len(gene_map_sub.index))\n",
    "print(len(rnaseq_22_gene.index))\n",
    "print(len(rnaseq_22_gene['ENS_ID'].unique()))\n",
    "print(len(rnaseq_22_gene['GENE'].unique()))"
   ]
  },
  {
   "cell_type": "code",
   "execution_count": null,
   "id": "48b35089-e6ff-4110-b0e3-44aae2dd1703",
   "metadata": {},
   "outputs": [],
   "source": [
    "rnaseq_36_gene = gene_map_sub.merge(rnaseq_36_quant_gene_filt, how = 'inner', on = 'ENS_ID')\n",
    "print(len(rnaseq_36_quant_gene_filt.index))\n",
    "print(len(gene_map_sub.index))\n",
    "print(len(rnaseq_36_gene.index))\n",
    "print(len(rnaseq_36_gene['ENS_ID'].unique()))\n",
    "print(len(rnaseq_36_gene['GENE'].unique()))"
   ]
  },
  {
   "cell_type": "code",
   "execution_count": null,
   "id": "5b76b2b5-5567-4700-8881-c2f8aa485bdc",
   "metadata": {},
   "outputs": [],
   "source": [
    "rnaseq_44_gene = gene_map_sub.merge(rnaseq_44_quant_gene_filt, how = 'inner', on = 'ENS_ID')\n",
    "print(len(rnaseq_44_quant_gene_filt.index))\n",
    "print(len(gene_map_sub.index))\n",
    "print(len(rnaseq_44_gene.index))\n",
    "print(len(rnaseq_44_gene['ENS_ID'].unique()))\n",
    "print(len(rnaseq_44_gene['GENE'].unique()))"
   ]
  },
  {
   "cell_type": "markdown",
   "id": "3f510efc-3ec4-4f5b-919d-8be2f6c90bbc",
   "metadata": {},
   "source": [
    "## assess genes that didn't map"
   ]
  },
  {
   "cell_type": "raw",
   "id": "ddb55b4f-f84c-48cc-ab19-b930392b23c2",
   "metadata": {},
   "source": [
    "# these genes seem to either be\n",
    "- discontinued in more recent versions\n",
    "- novel transcripts that are not mapped to genes\n",
    "- not in the database at all (ENSG00000233937)"
   ]
  },
  {
   "cell_type": "code",
   "execution_count": null,
   "id": "1c74938c-c6a2-42e5-a3dd-8bb4fcef71ac",
   "metadata": {},
   "outputs": [],
   "source": [
    "rnaseq_no_map = rnaseq_10[~rnaseq_10['ENS_ID'].isin(rnaseq_10_gene['ENS_ID'])]\n",
    "print(len(rnaseq_no_map.index))\n",
    "print(rnaseq_no_map['ENS_ID'].head())\n",
    "print(rnaseq_no_map['ENS_ID'].tail())"
   ]
  },
  {
   "cell_type": "markdown",
   "id": "5069a363-6378-4c14-9fae-281719f993c8",
   "metadata": {},
   "source": [
    "## figure out duplicate genes"
   ]
  },
  {
   "cell_type": "raw",
   "id": "1ceebdac-6fb1-4050-927d-109e4853d2ae",
   "metadata": {},
   "source": [
    "ELFN2\n",
    "- keep ENSG00000166897 (on RefSeq, other gene is not)\n",
    "\n",
    "GUSBP5\n",
    "- keep ENSG00000236296 (neither are on RefSeq, but this gene's coordinates more closely align with GUSBP5 coordinates)\n",
    "\n",
    "Metazoa_SRP\n",
    "- dropping both- these are on different chromosomes and not in reactome database\n",
    "\n",
    "SPATA13\n",
    "- keep ENSG00000182957 (on RefSeq, other gene is not)\n",
    "\n",
    "Y_RNA\n",
    "- dropping both- these are on different chromosomes and not in reactome database"
   ]
  },
  {
   "cell_type": "code",
   "execution_count": null,
   "id": "8d5e1f95-8341-42cd-a267-c898238ba938",
   "metadata": {},
   "outputs": [],
   "source": [
    "rnaseq_10_dup_gene = rnaseq_10_gene[rnaseq_10_gene.duplicated('GENE', keep = False)]\n",
    "print(len(rnaseq_10_dup_gene.index))\n",
    "print(len(rnaseq_10_dup_gene['GENE'].unique()))\n",
    "rnaseq_10_dup_gene[['ENS_ID', 'GENE']].sort_values(by = 'GENE')"
   ]
  },
  {
   "cell_type": "markdown",
   "id": "053a2e36-d1e7-4799-823b-654f0ba9d15c",
   "metadata": {},
   "source": [
    "## fix duplicate genes"
   ]
  },
  {
   "cell_type": "code",
   "execution_count": null,
   "id": "3f75022b-12da-41b9-8fc5-182de898c4c7",
   "metadata": {},
   "outputs": [],
   "source": [
    "rnaseq_10_dup_fixed = rnaseq_10_dup_gene[rnaseq_10_dup_gene['ENS_ID'].isin(['ENSG00000166897', 'ENSG00000236296', 'ENSG00000182957'])]\n",
    "print(rnaseq_10_dup_fixed[['ENS_ID', 'GENE']])\n",
    "rnaseq_10_no_dup = rnaseq_10_gene[~rnaseq_10_gene.index.isin(rnaseq_10_dup_gene.index)]\n",
    "rnaseq_10_gene_clean = pd.concat([rnaseq_10_no_dup, rnaseq_10_dup_fixed], axis = 0)\n",
    "print(len(rnaseq_10_gene_clean.index))\n",
    "print(len(rnaseq_10_gene_clean['GENE'].unique()))"
   ]
  },
  {
   "cell_type": "code",
   "execution_count": null,
   "id": "8059d5ad-65e8-4a80-be4a-bfe35d5a5243",
   "metadata": {},
   "outputs": [],
   "source": [
    "rnaseq_22_dup_gene = rnaseq_22_gene[rnaseq_22_gene.duplicated('GENE', keep = False)]\n",
    "rnaseq_22_dup_fixed = rnaseq_22_dup_gene[rnaseq_22_dup_gene['ENS_ID'].isin(['ENSG00000166897', 'ENSG00000236296', 'ENSG00000182957'])]\n",
    "rnaseq_22_no_dup = rnaseq_22_gene[~rnaseq_22_gene.index.isin(rnaseq_22_dup_gene.index)]\n",
    "rnaseq_22_gene_clean = pd.concat([rnaseq_22_no_dup, rnaseq_22_dup_fixed], axis = 0)\n",
    "print(len(rnaseq_22_gene_clean.index))\n",
    "print(len(rnaseq_22_gene_clean['GENE'].unique()))"
   ]
  },
  {
   "cell_type": "code",
   "execution_count": null,
   "id": "5cf54dec-bd60-410f-98ad-ae43f5fc6a24",
   "metadata": {},
   "outputs": [],
   "source": [
    "rnaseq_36_dup_gene = rnaseq_36_gene[rnaseq_36_gene.duplicated('GENE', keep = False)]\n",
    "rnaseq_36_dup_fixed = rnaseq_36_dup_gene[rnaseq_36_dup_gene['ENS_ID'].isin(['ENSG00000166897', 'ENSG00000236296', 'ENSG00000182957'])]\n",
    "rnaseq_36_no_dup = rnaseq_36_gene[~rnaseq_36_gene.index.isin(rnaseq_36_dup_gene.index)]\n",
    "rnaseq_36_gene_clean = pd.concat([rnaseq_36_no_dup, rnaseq_36_dup_fixed], axis = 0)\n",
    "print(len(rnaseq_36_gene_clean.index))\n",
    "print(len(rnaseq_36_gene_clean['GENE'].unique()))"
   ]
  },
  {
   "cell_type": "code",
   "execution_count": null,
   "id": "85a2bee9-63ed-4b01-9e99-6265921cbb40",
   "metadata": {},
   "outputs": [],
   "source": [
    "rnaseq_44_dup_gene = rnaseq_44_gene[rnaseq_44_gene.duplicated('GENE', keep = False)]\n",
    "rnaseq_44_dup_fixed = rnaseq_44_dup_gene[rnaseq_44_dup_gene['ENS_ID'].isin(['ENSG00000166897', 'ENSG00000236296', 'ENSG00000182957'])]\n",
    "rnaseq_44_no_dup = rnaseq_44_gene[~rnaseq_44_gene.index.isin(rnaseq_44_dup_gene.index)]\n",
    "rnaseq_44_gene_clean = pd.concat([rnaseq_44_no_dup, rnaseq_44_dup_fixed], axis = 0)\n",
    "print(len(rnaseq_44_gene_clean.index))\n",
    "print(len(rnaseq_44_gene_clean['GENE'].unique()))"
   ]
  },
  {
   "cell_type": "markdown",
   "id": "84b5e6b2-2d29-44ab-a45d-463b6f01f1c7",
   "metadata": {},
   "source": [
    "## filter to coding genes"
   ]
  },
  {
   "cell_type": "markdown",
   "id": "c3620ea1-86b2-43e7-8329-6dba0f3eb61e",
   "metadata": {},
   "source": [
    "### clean v113 gtf file"
   ]
  },
  {
   "cell_type": "code",
   "execution_count": null,
   "id": "540c3992-d35b-4bb6-b25b-0e74c3616e92",
   "metadata": {},
   "outputs": [],
   "source": [
    "gtf_113_gene = gtf_113[gtf_113[2].isin(['gene'])]\n",
    "split_cols_113 = gtf_113_gene[8].str.split(';', expand=True)\n",
    "biotype = split_cols_113[split_cols_113.astype(str).apply(lambda row: row.str.contains('biotype', case=False, na=False)).any(axis=1)]\n",
    "protein_coding = biotype[biotype.astype(str).apply(lambda row: row.str.contains('protein_coding', case=False, na=False)).any(axis=1)]\n",
    "protein_coding[0] = protein_coding[0].str.replace('gene_id', '')\n",
    "protein_coding[0] = protein_coding[0].str.replace('\"', '')\n",
    "protein_coding[0] = protein_coding[0].str.replace(' ', '')\n",
    "print(len(protein_coding[0].unique()))\n",
    "print(len(protein_coding.index))\n",
    "protein_coding.head()"
   ]
  },
  {
   "cell_type": "markdown",
   "id": "ac1c0742-0211-4c39-a1e3-aaf878522738",
   "metadata": {},
   "source": [
    "### filter to protein coding genes"
   ]
  },
  {
   "cell_type": "code",
   "execution_count": null,
   "id": "82f57913-8c84-4ccd-bdc0-d815ea9cfcdd",
   "metadata": {},
   "outputs": [],
   "source": [
    "rnaseq_10_protein_coding = rnaseq_10_gene_clean[rnaseq_10_gene_clean['ENS_ID'].isin(protein_coding[0])]\n",
    "print(len(rnaseq_10_gene_clean.index))\n",
    "print(len(rnaseq_10_protein_coding.index))"
   ]
  },
  {
   "cell_type": "code",
   "execution_count": null,
   "id": "0e22c906-ccf8-4707-9fe9-5df6f4587f97",
   "metadata": {},
   "outputs": [],
   "source": [
    "rnaseq_22_protein_coding = rnaseq_22_gene_clean[rnaseq_22_gene_clean['ENS_ID'].isin(protein_coding[0])]\n",
    "print(len(rnaseq_22_gene_clean.index))\n",
    "print(len(rnaseq_22_protein_coding.index))"
   ]
  },
  {
   "cell_type": "code",
   "execution_count": null,
   "id": "370e50d1-967a-465b-924d-1872ce8e67dd",
   "metadata": {},
   "outputs": [],
   "source": [
    "rnaseq_36_protein_coding = rnaseq_36_gene_clean[rnaseq_36_gene_clean['ENS_ID'].isin(protein_coding[0])]\n",
    "print(len(rnaseq_36_gene_clean.index))\n",
    "print(len(rnaseq_36_protein_coding.index))"
   ]
  },
  {
   "cell_type": "code",
   "execution_count": null,
   "id": "77f3e7eb-8e44-426c-8f0e-d8abdd2158ff",
   "metadata": {},
   "outputs": [],
   "source": [
    "rnaseq_44_protein_coding = rnaseq_44_gene_clean[rnaseq_44_gene_clean['ENS_ID'].isin(protein_coding[0])]\n",
    "print(len(rnaseq_44_gene_clean.index))\n",
    "print(len(rnaseq_44_protein_coding.index))"
   ]
  },
  {
   "cell_type": "markdown",
   "id": "dc49f9c5-d771-4722-afb4-b1bde29b6854",
   "metadata": {},
   "source": [
    "## convert to TPM"
   ]
  },
  {
   "cell_type": "markdown",
   "id": "7bfc9217-567f-4da7-a150-fb7a106e9a17",
   "metadata": {},
   "source": [
    "### clean v70 gtf file"
   ]
  },
  {
   "cell_type": "code",
   "execution_count": null,
   "id": "6ba76e8b-056e-4b12-ae99-fe8281a604ae",
   "metadata": {},
   "outputs": [],
   "source": [
    "rnaseq_exon = rnaseq_gtf[rnaseq_gtf[2].isin(['exon'])]\n",
    "rnaseq_exon['LENGTH'] = rnaseq_exon[4] - rnaseq_exon[3]\n",
    "split_cols = rnaseq_exon[8].str.split(';', expand=True)\n",
    "split_cols.drop(columns = [7], inplace = True)\n",
    "split_cols.rename(columns = {0 : 'gene_id',\n",
    "                             1 : 'transcript_id',\n",
    "                             2 : 'exon_number',\n",
    "                             3 : 'gene_name',\n",
    "                             4 : 'gene_biotype',\n",
    "                             5 : 'transcript_name',\n",
    "                             6 : 'exon_id'}, inplace = True)\n",
    "rnaseq_exon = pd.concat([rnaseq_exon, split_cols], axis = 1)\n",
    "rnaseq_exon_sub = rnaseq_exon[['gene_id', 'LENGTH']]\n",
    "rnaseq_exon_sub['gene_id'] = rnaseq_exon_sub['gene_id'].str.replace('gene_id', '')\n",
    "rnaseq_exon_sub['gene_id'] = rnaseq_exon_sub['gene_id'].str.replace('\"', '')\n",
    "rnaseq_exon_sub['gene_id'] = rnaseq_exon_sub['gene_id'].str.replace(' ', '')\n",
    "\n",
    "rnaseq_exon_sub.head()"
   ]
  },
  {
   "cell_type": "code",
   "execution_count": null,
   "id": "22dae09d-3ebf-44cc-9d02-92f829bfaa3d",
   "metadata": {},
   "outputs": [],
   "source": [
    "rnaseq_exon_sum = rnaseq_exon_sub.groupby('gene_id', as_index=False)['LENGTH'].sum()\n",
    "print(len(rnaseq_exon_sum.index))\n",
    "print(len(rnaseq_exon_sum['gene_id'].unique()))\n",
    "print(rnaseq_exon_sum['LENGTH'].describe().apply(lambda x: f\"{x:.0f}\"))\n",
    "rnaseq_exon_sum.rename(columns = {'gene_id' : 'ENS_ID'}, inplace = True)\n",
    "rnaseq_exon_sum.head()"
   ]
  },
  {
   "cell_type": "markdown",
   "id": "9308bf6a-5eb2-4644-8195-ec83ea2cf157",
   "metadata": {},
   "source": [
    "### merge rnaseq with gtf file"
   ]
  },
  {
   "cell_type": "code",
   "execution_count": null,
   "id": "58f6fc03-0c48-4057-bf53-a1998c67e7f2",
   "metadata": {},
   "outputs": [],
   "source": [
    "rnaseq_10_gene_length = rnaseq_10_protein_coding.merge(rnaseq_exon_sum, on = 'ENS_ID', how = 'inner')\n",
    "print(len(rnaseq_10_gene_length.index))\n",
    "print(len(rnaseq_10_protein_coding.index))"
   ]
  },
  {
   "cell_type": "code",
   "execution_count": null,
   "id": "74a870b1-33a3-4cc8-a3dd-cba88f71a42c",
   "metadata": {},
   "outputs": [],
   "source": [
    "rnaseq_22_gene_length = rnaseq_22_protein_coding.merge(rnaseq_exon_sum, on = 'ENS_ID', how = 'inner')\n",
    "print(len(rnaseq_22_gene_length.index))\n",
    "print(len(rnaseq_22_protein_coding.index))"
   ]
  },
  {
   "cell_type": "code",
   "execution_count": null,
   "id": "dfb59af0-8e5a-4e6e-919a-16c398cdc2cb",
   "metadata": {},
   "outputs": [],
   "source": [
    "rnaseq_36_gene_length = rnaseq_36_protein_coding.merge(rnaseq_exon_sum, on = 'ENS_ID', how = 'inner')\n",
    "print(len(rnaseq_36_gene_length.index))\n",
    "print(len(rnaseq_36_protein_coding.index))"
   ]
  },
  {
   "cell_type": "code",
   "execution_count": null,
   "id": "48c7c394-f48c-4cae-ad8d-1b9f0cd4b271",
   "metadata": {},
   "outputs": [],
   "source": [
    "rnaseq_44_gene_length = rnaseq_44_protein_coding.merge(rnaseq_exon_sum, on = 'ENS_ID', how = 'inner')\n",
    "print(len(rnaseq_44_gene_length.index))\n",
    "print(len(rnaseq_44_protein_coding.index))"
   ]
  },
  {
   "cell_type": "markdown",
   "id": "b0d24498-316a-401a-bc28-9cbb3cd612bf",
   "metadata": {},
   "source": [
    "### drop gene columns"
   ]
  },
  {
   "cell_type": "code",
   "execution_count": null,
   "id": "3aa2ca21-4006-4ca0-b811-4b01e41b2b6a",
   "metadata": {},
   "outputs": [],
   "source": [
    "rnaseq_10_gene_only = rnaseq_10_gene_length[['GENE']]\n",
    "rnaseq_10_no_gene = rnaseq_10_gene_length.drop(columns = ['ENS_ID', 'GENE'])\n",
    "rnaseq_10_no_gene.head()"
   ]
  },
  {
   "cell_type": "code",
   "execution_count": null,
   "id": "4c0b54f8-fdff-41b2-9bc4-0e6eb4c5fa59",
   "metadata": {},
   "outputs": [],
   "source": [
    "rnaseq_22_gene_only = rnaseq_22_gene_length[['GENE']]\n",
    "rnaseq_22_no_gene = rnaseq_22_gene_length.drop(columns = ['ENS_ID', 'GENE'])\n",
    "rnaseq_22_no_gene.head()"
   ]
  },
  {
   "cell_type": "code",
   "execution_count": null,
   "id": "cf768440-6e39-4539-a614-b79503503bf3",
   "metadata": {},
   "outputs": [],
   "source": [
    "rnaseq_36_gene_only = rnaseq_36_gene_length[['GENE']]\n",
    "rnaseq_36_no_gene = rnaseq_36_gene_length.drop(columns = ['ENS_ID', 'GENE'])\n",
    "rnaseq_36_no_gene.head()"
   ]
  },
  {
   "cell_type": "code",
   "execution_count": null,
   "id": "4f9998cc-9b97-4116-8ab9-fbe5db0a5410",
   "metadata": {},
   "outputs": [],
   "source": [
    "rnaseq_44_gene_only = rnaseq_44_gene_length[['GENE']]\n",
    "rnaseq_44_no_gene = rnaseq_44_gene_length.drop(columns = ['ENS_ID', 'GENE'])\n",
    "rnaseq_44_no_gene.head()"
   ]
  },
  {
   "cell_type": "markdown",
   "id": "bd97b6e3-460e-4d2f-9c4a-a0faa2f280d9",
   "metadata": {},
   "source": [
    "### create TPM function"
   ]
  },
  {
   "cell_type": "code",
   "execution_count": null,
   "id": "6a3f5619-2cdf-4ed6-a04e-ec265b5df1cc",
   "metadata": {},
   "outputs": [],
   "source": [
    "def count_to_tpm(df):\n",
    "    # convert length col to kb\n",
    "    gene_lengths_kb = df['LENGTH'] / 1000\n",
    "    # drop length column\n",
    "    counts = df.drop(columns = ['LENGTH'])\n",
    "    # compute rate\n",
    "    rpk = counts.div(gene_lengths_kb, axis = 0)\n",
    "    # compute sum per column (per individual)\n",
    "    scaling_factor = rpk.sum(axis = 0)\n",
    "    # divide by sum and multiply by 1e6\n",
    "    tpm = rpk.div(scaling_factor, axis=1) * 1e6\n",
    "    # return completed df\n",
    "    return tpm"
   ]
  },
  {
   "cell_type": "markdown",
   "id": "444adda6-7a29-4c00-b3ef-29d54be6a4e2",
   "metadata": {},
   "source": [
    "### convert to TPM"
   ]
  },
  {
   "cell_type": "code",
   "execution_count": null,
   "id": "bdf276a3-feef-4788-b7a2-fce0bab87467",
   "metadata": {},
   "outputs": [],
   "source": [
    "rnaseq_10_tpm = count_to_tpm(rnaseq_10_no_gene)\n",
    "rnaseq_10_tpm.head()"
   ]
  },
  {
   "cell_type": "code",
   "execution_count": null,
   "id": "945d86ab-d39b-4799-94fd-9f4b3840f6f1",
   "metadata": {},
   "outputs": [],
   "source": [
    "rnaseq_22_tpm = count_to_tpm(rnaseq_22_no_gene)\n",
    "rnaseq_22_tpm.head()"
   ]
  },
  {
   "cell_type": "code",
   "execution_count": null,
   "id": "470e255f-5a2f-41e2-9d0e-2ccf84c5e3e0",
   "metadata": {},
   "outputs": [],
   "source": [
    "rnaseq_36_tpm = count_to_tpm(rnaseq_36_no_gene)\n",
    "rnaseq_36_tpm.head()"
   ]
  },
  {
   "cell_type": "code",
   "execution_count": null,
   "id": "49e153e0-05b1-4e39-a180-5f02ae117ed9",
   "metadata": {},
   "outputs": [],
   "source": [
    "rnaseq_44_tpm = count_to_tpm(rnaseq_44_no_gene)\n",
    "rnaseq_44_tpm.head()"
   ]
  },
  {
   "cell_type": "markdown",
   "id": "19677368-574c-4859-aac7-c5cb4292096e",
   "metadata": {},
   "source": [
    "### add gene column back in and compute column wide medians"
   ]
  },
  {
   "cell_type": "code",
   "execution_count": null,
   "id": "81b36fc5-228e-4c68-8b71-5214a055bc3e",
   "metadata": {},
   "outputs": [],
   "source": [
    "rnaseq_10_tpm['MEDIAN'] = rnaseq_10_tpm.median(axis = 1)\n",
    "rnaseq_10_tpm_gene = pd.concat([rnaseq_10_gene_only, rnaseq_10_tpm], axis = 1)\n",
    "rnaseq_10_tpm_gene.head()"
   ]
  },
  {
   "cell_type": "code",
   "execution_count": null,
   "id": "c9006381-8c54-4b17-b2d6-2081995a94d2",
   "metadata": {},
   "outputs": [],
   "source": [
    "rnaseq_22_tpm['MEDIAN'] = rnaseq_22_tpm.median(axis = 1)\n",
    "rnaseq_22_tpm_gene = pd.concat([rnaseq_22_gene_only, rnaseq_22_tpm], axis = 1)\n",
    "rnaseq_22_tpm_gene.head()"
   ]
  },
  {
   "cell_type": "code",
   "execution_count": null,
   "id": "36be2428-6d26-422d-a4cf-de82d3675fe7",
   "metadata": {},
   "outputs": [],
   "source": [
    "rnaseq_36_tpm['MEDIAN'] = rnaseq_36_tpm.median(axis = 1)\n",
    "rnaseq_36_tpm_gene = pd.concat([rnaseq_36_gene_only, rnaseq_36_tpm], axis = 1)\n",
    "rnaseq_36_tpm_gene.head()"
   ]
  },
  {
   "cell_type": "code",
   "execution_count": null,
   "id": "ac0fc2c4-174d-4ff2-8d4c-32a802372572",
   "metadata": {},
   "outputs": [],
   "source": [
    "rnaseq_44_tpm['MEDIAN'] = rnaseq_44_tpm.median(axis = 1)\n",
    "rnaseq_44_tpm_gene = pd.concat([rnaseq_44_gene_only, rnaseq_44_tpm], axis = 1)\n",
    "rnaseq_44_tpm_gene.head()"
   ]
  },
  {
   "cell_type": "markdown",
   "id": "4d1d8277-91cb-4b39-9c03-b273c38e60c3",
   "metadata": {},
   "source": [
    "### filter to genes with median tpm > 5"
   ]
  },
  {
   "cell_type": "code",
   "execution_count": null,
   "id": "fd1de646-2807-4842-9fc6-771cf68ddde9",
   "metadata": {},
   "outputs": [],
   "source": [
    "rnaseq_10_tpm_gene_min = rnaseq_10_tpm_gene[rnaseq_10_tpm_gene['MEDIAN'] > 5]\n",
    "rnaseq_10_tpm_gene_min.drop(columns = ['MEDIAN'], inplace = True)\n",
    "print(len(rnaseq_10_tpm_gene.index))\n",
    "print(len(rnaseq_10_tpm_gene_min.index))"
   ]
  },
  {
   "cell_type": "code",
   "execution_count": null,
   "id": "4a3b3199-157c-4488-bcd8-a68773c6c5bd",
   "metadata": {},
   "outputs": [],
   "source": [
    "rnaseq_22_tpm_gene_min = rnaseq_22_tpm_gene[rnaseq_22_tpm_gene['MEDIAN'] > 5]\n",
    "rnaseq_22_tpm_gene_min.drop(columns = ['MEDIAN'], inplace = True)\n",
    "print(len(rnaseq_22_tpm_gene.index))\n",
    "print(len(rnaseq_22_tpm_gene_min.index))"
   ]
  },
  {
   "cell_type": "code",
   "execution_count": null,
   "id": "964c2ea2-3ef3-40d1-9c40-1b1852d4b7b4",
   "metadata": {},
   "outputs": [],
   "source": [
    "rnaseq_36_tpm_gene_min = rnaseq_36_tpm_gene[rnaseq_36_tpm_gene['MEDIAN'] > 5]\n",
    "rnaseq_36_tpm_gene_min.drop(columns = ['MEDIAN'], inplace = True)\n",
    "print(len(rnaseq_36_tpm_gene.index))\n",
    "print(len(rnaseq_36_tpm_gene_min.index))"
   ]
  },
  {
   "cell_type": "code",
   "execution_count": null,
   "id": "ac6c5eac-91dc-4f10-851f-c5c96b5523b0",
   "metadata": {},
   "outputs": [],
   "source": [
    "rnaseq_44_tpm_gene_min = rnaseq_44_tpm_gene[rnaseq_44_tpm_gene['MEDIAN'] > 5]\n",
    "rnaseq_44_tpm_gene_min.drop(columns = ['MEDIAN'], inplace = True)\n",
    "print(len(rnaseq_44_tpm_gene.index))\n",
    "print(len(rnaseq_44_tpm_gene_min.index))"
   ]
  },
  {
   "cell_type": "markdown",
   "id": "c244ed4d-784e-4f1c-af1b-b13298ebf36b",
   "metadata": {},
   "source": [
    "### remove gene name again"
   ]
  },
  {
   "cell_type": "code",
   "execution_count": null,
   "id": "3b465b29-ad86-48e8-bb7d-368cc0be8b7e",
   "metadata": {},
   "outputs": [],
   "source": [
    "rnaseq_10_tpm_gene_min_gene_only = rnaseq_10_tpm_gene_min[['GENE']]\n",
    "rnaseq_10_tpm_gene_min_no_gene = rnaseq_10_tpm_gene_min.drop(columns = ['GENE'])\n",
    "rnaseq_10_tpm_gene_min_no_gene.head()"
   ]
  },
  {
   "cell_type": "code",
   "execution_count": null,
   "id": "52476b7b-5edf-401c-8b41-decc1c0ec67b",
   "metadata": {},
   "outputs": [],
   "source": [
    "rnaseq_22_tpm_gene_min_gene_only = rnaseq_22_tpm_gene_min[['GENE']]\n",
    "rnaseq_22_tpm_gene_min_no_gene = rnaseq_22_tpm_gene_min.drop(columns = ['GENE'])\n",
    "rnaseq_22_tpm_gene_min_no_gene.head()"
   ]
  },
  {
   "cell_type": "code",
   "execution_count": null,
   "id": "5594a30a-710e-4060-9fe5-e49bac9a0b4d",
   "metadata": {},
   "outputs": [],
   "source": [
    "rnaseq_36_tpm_gene_min_gene_only = rnaseq_36_tpm_gene_min[['GENE']]\n",
    "rnaseq_36_tpm_gene_min_no_gene = rnaseq_36_tpm_gene_min.drop(columns = ['GENE'])\n",
    "rnaseq_36_tpm_gene_min_no_gene.head()"
   ]
  },
  {
   "cell_type": "code",
   "execution_count": null,
   "id": "81be1674-832c-406f-be5e-4e9de833a533",
   "metadata": {},
   "outputs": [],
   "source": [
    "rnaseq_44_tpm_gene_min_gene_only = rnaseq_44_tpm_gene_min[['GENE']]\n",
    "rnaseq_44_tpm_gene_min_no_gene = rnaseq_44_tpm_gene_min.drop(columns = ['GENE'])\n",
    "rnaseq_44_tpm_gene_min_no_gene.head()"
   ]
  },
  {
   "cell_type": "markdown",
   "id": "73f972fb-d18f-4c4e-becf-b0ce0f3a08a0",
   "metadata": {},
   "source": [
    "### replace zeros with np.nan and log2 transform"
   ]
  },
  {
   "cell_type": "code",
   "execution_count": null,
   "id": "115f2dfe-5bdd-4e5f-90fa-906d76a72cf4",
   "metadata": {},
   "outputs": [],
   "source": [
    "rnaseq_10_tpm_gene_min_no_gene = rnaseq_10_tpm_gene_min_no_gene.replace(0, np.nan)\n",
    "rnaseq_10_tpm_log2 = np.log2(rnaseq_10_tpm_gene_min_no_gene)\n",
    "rnaseq_10_tpm_log2.head()"
   ]
  },
  {
   "cell_type": "code",
   "execution_count": null,
   "id": "f0a7ba20-9a70-4d58-9dff-7ff4b8237c06",
   "metadata": {},
   "outputs": [],
   "source": [
    "rnaseq_22_tpm_gene_min_no_gene = rnaseq_22_tpm_gene_min_no_gene.replace(0, np.nan)\n",
    "rnaseq_22_tpm_log2 = np.log2(rnaseq_22_tpm_gene_min_no_gene)\n",
    "rnaseq_22_tpm_log2.head()"
   ]
  },
  {
   "cell_type": "code",
   "execution_count": null,
   "id": "a56cfdf1-3102-4558-a727-430e9e240866",
   "metadata": {},
   "outputs": [],
   "source": [
    "rnaseq_36_tpm_gene_min_no_gene = rnaseq_36_tpm_gene_min_no_gene.replace(0, np.nan)\n",
    "rnaseq_36_tpm_log2 = np.log2(rnaseq_36_tpm_gene_min_no_gene)\n",
    "rnaseq_36_tpm_log2.head()"
   ]
  },
  {
   "cell_type": "code",
   "execution_count": null,
   "id": "65c1991f-dd1e-484f-9dd9-4b021d136ba9",
   "metadata": {},
   "outputs": [],
   "source": [
    "rnaseq_44_tpm_gene_min_no_gene = rnaseq_44_tpm_gene_min_no_gene.replace(0, np.nan)\n",
    "rnaseq_44_tpm_log2 = np.log2(rnaseq_44_tpm_gene_min_no_gene)\n",
    "rnaseq_44_tpm_log2.head()"
   ]
  },
  {
   "cell_type": "markdown",
   "id": "4feb39d5-69ce-4ae5-b06a-66c5b114805c",
   "metadata": {},
   "source": [
    "### divide by rowwise (gene) means"
   ]
  },
  {
   "cell_type": "code",
   "execution_count": null,
   "id": "850785de-798f-4382-8ab9-033cf757d62e",
   "metadata": {},
   "outputs": [],
   "source": [
    "rnaseq_10_gene_means = rnaseq_10_tpm_log2.mean(axis = 1)\n",
    "rnaseq_10_tpm_log2_mean = rnaseq_10_tpm_log2.div(rnaseq_10_gene_means, axis = 0)\n",
    "rnaseq_10_tpm_log2_mean.head()"
   ]
  },
  {
   "cell_type": "code",
   "execution_count": null,
   "id": "6053eb0d-7096-48db-97ed-9f669d22076a",
   "metadata": {},
   "outputs": [],
   "source": [
    "rnaseq_22_gene_means = rnaseq_22_tpm_log2.mean(axis = 1)\n",
    "rnaseq_22_tpm_log2_mean = rnaseq_22_tpm_log2.div(rnaseq_22_gene_means, axis = 0)\n",
    "rnaseq_22_tpm_log2_mean.head()"
   ]
  },
  {
   "cell_type": "code",
   "execution_count": null,
   "id": "606d7c82-dbd7-4b50-9330-8dbab1c05d72",
   "metadata": {},
   "outputs": [],
   "source": [
    "rnaseq_36_gene_means = rnaseq_36_tpm_log2.mean(axis = 1)\n",
    "rnaseq_36_tpm_log2_mean = rnaseq_36_tpm_log2.div(rnaseq_36_gene_means, axis = 0)\n",
    "rnaseq_36_tpm_log2_mean.head()"
   ]
  },
  {
   "cell_type": "code",
   "execution_count": null,
   "id": "d5ed1efc-3534-4cb4-8e7a-0c78b3e046e8",
   "metadata": {},
   "outputs": [],
   "source": [
    "rnaseq_44_gene_means = rnaseq_44_tpm_log2.mean(axis = 1)\n",
    "rnaseq_44_tpm_log2_mean = rnaseq_44_tpm_log2.div(rnaseq_44_gene_means, axis = 0)\n",
    "rnaseq_44_tpm_log2_mean.head()"
   ]
  },
  {
   "cell_type": "markdown",
   "id": "d21b2a12-020b-4fb5-9b1d-28c656751f24",
   "metadata": {},
   "source": [
    "### add ID back in"
   ]
  },
  {
   "cell_type": "code",
   "execution_count": null,
   "id": "93adbf01-d7eb-49e1-8439-90a39ac36cba",
   "metadata": {},
   "outputs": [],
   "source": [
    "rnaseq_10_tpm_log2_mean_gene = pd.concat([rnaseq_10_tpm_gene_min_gene_only, rnaseq_10_tpm_log2_mean], axis = 1)\n",
    "print(len(rnaseq_10_tpm_log2_mean_gene.index))\n",
    "rnaseq_10_tpm_log2_mean_gene.head()"
   ]
  },
  {
   "cell_type": "code",
   "execution_count": null,
   "id": "d6ec4d04-eaa4-42d5-9a0b-9b9c54d53231",
   "metadata": {},
   "outputs": [],
   "source": [
    "rnaseq_22_tpm_log2_mean_gene = pd.concat([rnaseq_22_tpm_gene_min_gene_only, rnaseq_22_tpm_log2_mean], axis = 1)\n",
    "print(len(rnaseq_22_tpm_log2_mean_gene.index))\n",
    "rnaseq_22_tpm_log2_mean_gene.head()"
   ]
  },
  {
   "cell_type": "code",
   "execution_count": null,
   "id": "2d178e37-a0bf-4e0a-bbd0-4bb51d81c19f",
   "metadata": {},
   "outputs": [],
   "source": [
    "rnaseq_36_tpm_log2_mean_gene = pd.concat([rnaseq_36_tpm_gene_min_gene_only, rnaseq_36_tpm_log2_mean], axis = 1)\n",
    "print(len(rnaseq_36_tpm_log2_mean_gene.index))\n",
    "rnaseq_36_tpm_log2_mean_gene.head()"
   ]
  },
  {
   "cell_type": "code",
   "execution_count": null,
   "id": "716760ae-77eb-4f23-a081-710a20b29e6d",
   "metadata": {},
   "outputs": [],
   "source": [
    "rnaseq_44_tpm_log2_mean_gene = pd.concat([rnaseq_44_tpm_gene_min_gene_only, rnaseq_44_tpm_log2_mean], axis = 1)\n",
    "print(len(rnaseq_44_tpm_log2_mean_gene.index))\n",
    "rnaseq_44_tpm_log2_mean_gene.head()"
   ]
  },
  {
   "cell_type": "markdown",
   "id": "f37955d6-c231-46ae-8def-5b650b8c098b",
   "metadata": {},
   "source": [
    "## map to individual IDs"
   ]
  },
  {
   "cell_type": "markdown",
   "id": "117c8402-4300-49d8-83b4-03d846ae4d2f",
   "metadata": {},
   "source": [
    "### transpose"
   ]
  },
  {
   "cell_type": "code",
   "execution_count": null,
   "id": "b05ec14a-ed10-41e9-a4dd-4bd02a7fc779",
   "metadata": {},
   "outputs": [],
   "source": [
    "rnaseq_10_transpose = rnaseq_10_tpm_log2_mean_gene.transpose()\n",
    "rnaseq_10_transpose.columns = rnaseq_10_transpose.iloc[0]\n",
    "rnaseq_10_transpose = rnaseq_10_transpose.iloc[1:]\n",
    "rnaseq_10_transpose['specimenID'] = rnaseq_10_transpose.index\n",
    "rnaseq_10_transpose.head()"
   ]
  },
  {
   "cell_type": "code",
   "execution_count": null,
   "id": "2086883d-995d-4a23-aeb3-adc2e94d4314",
   "metadata": {},
   "outputs": [],
   "source": [
    "rnaseq_22_transpose = rnaseq_22_tpm_log2_mean_gene.transpose()\n",
    "rnaseq_22_transpose.columns = rnaseq_22_transpose.iloc[0]\n",
    "rnaseq_22_transpose = rnaseq_22_transpose.iloc[1:]\n",
    "rnaseq_22_transpose['specimenID'] = rnaseq_22_transpose.index\n",
    "rnaseq_22_transpose.head()"
   ]
  },
  {
   "cell_type": "code",
   "execution_count": null,
   "id": "41670b8c-7cb1-46c8-8c15-81bd87b29e59",
   "metadata": {},
   "outputs": [],
   "source": [
    "rnaseq_36_transpose = rnaseq_36_tpm_log2_mean_gene.transpose()\n",
    "rnaseq_36_transpose.columns = rnaseq_36_transpose.iloc[0]\n",
    "rnaseq_36_transpose = rnaseq_36_transpose.iloc[1:]\n",
    "rnaseq_36_transpose['specimenID'] = rnaseq_36_transpose.index\n",
    "rnaseq_36_transpose.head()"
   ]
  },
  {
   "cell_type": "code",
   "execution_count": null,
   "id": "18375aa3-4617-4106-a524-6099acd28ce7",
   "metadata": {},
   "outputs": [],
   "source": [
    "rnaseq_44_transpose = rnaseq_44_tpm_log2_mean_gene.transpose()\n",
    "rnaseq_44_transpose.columns = rnaseq_44_transpose.iloc[0]\n",
    "rnaseq_44_transpose = rnaseq_44_transpose.iloc[1:]\n",
    "rnaseq_44_transpose['specimenID'] = rnaseq_44_transpose.index\n",
    "rnaseq_44_transpose.head()"
   ]
  },
  {
   "cell_type": "markdown",
   "id": "fad31dfc-77aa-42a9-996a-fb57c1f0ad0f",
   "metadata": {},
   "source": [
    "### check rnaseq meta file for sample filtering"
   ]
  },
  {
   "cell_type": "raw",
   "id": "29012976-2158-44c5-9889-06bacecfe46a",
   "metadata": {},
   "source": [
    "# the only exclusion criteria that needs to be applied is high rRNA.rate\n",
    "# number of people to exclude\n",
    "BA 10: 1\n",
    "BA 22: 3\n",
    "BA 36: 0\n",
    "BA 44: 11\n",
    "- this has one person in the biospec file to exclude (hB_RNA_5001), but this person already has high rRNA.rate and thus is already excluded"
   ]
  },
  {
   "cell_type": "code",
   "execution_count": null,
   "id": "28084e11-29cc-42a4-a065-0572fd8e160e",
   "metadata": {},
   "outputs": [],
   "source": [
    "rnaseq_meta['new_id'] = rnaseq_meta['specimenID'].str.replace('_resequenced', '')\n",
    "print(len(rnaseq_meta['new_id'].unique()))\n",
    "rnaseq_meta.head()"
   ]
  },
  {
   "cell_type": "code",
   "execution_count": null,
   "id": "cd94be61-38cb-4317-863a-154096431793",
   "metadata": {},
   "outputs": [],
   "source": [
    "rnaseq_meta_10 = rnaseq_meta[rnaseq_meta['new_id'].isin(rnaseq_10_transpose['specimenID'])]\n",
    "print(len(rnaseq_meta_10[rnaseq_meta_10['RIN'] < 4].index))\n",
    "print(len(rnaseq_meta_10[rnaseq_meta_10['rRNA.rate'] > 0.05].index))\n",
    "print(len(rnaseq_meta_10[rnaseq_meta_10['specimenID'].isin(biospec_exclude['specimenID'])].index))\n",
    "print(rnaseq_meta_10.astype(str).apply(lambda col: col.str.contains('Remap', case = False, na=False)).any().any())\n",
    "print(rnaseq_meta_10.astype(str).apply(lambda col: col.str.contains('Exclude', case = False, na=False)).any().any())\n",
    "exclude_10 = rnaseq_meta_10[rnaseq_meta_10['rRNA.rate'] > 0.05]\n",
    "rnaseq_meta_10[rnaseq_meta_10['specimenID'].str.contains('|'.join(exclude_10['specimenID']))]"
   ]
  },
  {
   "cell_type": "code",
   "execution_count": null,
   "id": "47d5cdcb-b904-4873-ac79-e452b244d450",
   "metadata": {},
   "outputs": [],
   "source": [
    "rnaseq_meta_22 = rnaseq_meta[rnaseq_meta['new_id'].isin(rnaseq_22_transpose['specimenID'])]\n",
    "print(len(rnaseq_meta_22[rnaseq_meta_22['RIN'] < 4].index))\n",
    "print(len(rnaseq_meta_22[rnaseq_meta_22['rRNA.rate'] > 0.05].index))\n",
    "print(len(rnaseq_meta_22[rnaseq_meta_22['specimenID'].isin(biospec_exclude['specimenID'])].index))\n",
    "print(rnaseq_meta_22.astype(str).apply(lambda col: col.str.contains('Remap', case=False, na=False)).any().any())\n",
    "print(rnaseq_meta_22.astype(str).apply(lambda col: col.str.contains('Exclude', case=False, na=False)).any().any())\n",
    "exclude_22 = rnaseq_meta_22[rnaseq_meta_22['rRNA.rate'] > 0.05]\n",
    "rnaseq_meta_22[rnaseq_meta_22['specimenID'].str.contains('|'.join(exclude_22['specimenID']))]"
   ]
  },
  {
   "cell_type": "code",
   "execution_count": null,
   "id": "46a1be10-0636-47c7-96bc-c5d00b4c7411",
   "metadata": {},
   "outputs": [],
   "source": [
    "rnaseq_meta_36 = rnaseq_meta[rnaseq_meta['new_id'].isin(rnaseq_36_transpose['specimenID'])]\n",
    "print(len(rnaseq_meta_36[rnaseq_meta_36['RIN'] < 4].index))\n",
    "print(len(rnaseq_meta_36[rnaseq_meta_36['rRNA.rate'] > 0.05].index))\n",
    "print(len(rnaseq_meta_36[rnaseq_meta_36['specimenID'].isin(biospec_exclude['specimenID'])].index))\n",
    "print(rnaseq_meta_36.astype(str).apply(lambda col: col.str.contains('Remap', case=False, na=False)).any().any())\n",
    "print(rnaseq_meta_36.astype(str).apply(lambda col: col.str.contains('Exclude', case=False, na=False)).any().any())\n",
    "#exclude_36 = rnaseq_meta_36[rnaseq_meta_36['rRNA.rate'] > 0.05]\n",
    "#rnaseq_meta_36[rnaseq_meta_36['specimenID'].str.contains('|'.join(exclude_36['specimenID']))]"
   ]
  },
  {
   "cell_type": "code",
   "execution_count": null,
   "id": "e746d2f8-a393-48e8-9e63-005ad560386d",
   "metadata": {},
   "outputs": [],
   "source": [
    "rnaseq_meta_44 = rnaseq_meta[rnaseq_meta['new_id'].isin(rnaseq_44_transpose['specimenID'])]\n",
    "print(len(rnaseq_meta_44[rnaseq_meta_44['RIN'] < 4].index))\n",
    "print(len(rnaseq_meta_44[rnaseq_meta_44['rRNA.rate'] > 0.05].index))\n",
    "print(len(rnaseq_meta_44[rnaseq_meta_44['specimenID'].isin(biospec_exclude['specimenID'])].index))\n",
    "print(rnaseq_meta_44[rnaseq_meta_44['specimenID'].isin(biospec_exclude['specimenID'])])\n",
    "print(rnaseq_meta_44.astype(str).apply(lambda col: col.str.contains('Remap', case=False, na=False)).any().any())\n",
    "print(rnaseq_meta_44.astype(str).apply(lambda col: col.str.contains('Exclude', case=False, na=False)).any().any())\n",
    "exclude_44 = rnaseq_meta_44[rnaseq_meta_44['rRNA.rate'] > 0.05]\n",
    "rnaseq_meta_44[rnaseq_meta_44['specimenID'].str.contains('|'.join(exclude_44['specimenID']))]"
   ]
  },
  {
   "cell_type": "code",
   "execution_count": null,
   "id": "c92603a2-e450-476f-a501-3e36e55bbc5f",
   "metadata": {},
   "outputs": [],
   "source": [
    "biospec_exclude[biospec_exclude['specimenID'].isin(['hB_RNA_5001'])]"
   ]
  },
  {
   "cell_type": "markdown",
   "id": "cae96ef3-5a0f-4617-a085-7e8cbec14aa9",
   "metadata": {},
   "source": [
    "### remove samples that failed QC"
   ]
  },
  {
   "cell_type": "code",
   "execution_count": null,
   "id": "30dcbf6e-4353-4c7b-8006-b9e68d8bfea8",
   "metadata": {},
   "outputs": [],
   "source": [
    "print(len(rnaseq_10_transpose.index))\n",
    "rnaseq_10_transpose = rnaseq_10_transpose[~rnaseq_10_transpose['specimenID'].isin(exclude_10['specimenID'])]\n",
    "print(len(rnaseq_10_transpose.index))"
   ]
  },
  {
   "cell_type": "code",
   "execution_count": null,
   "id": "87aed498-e8ed-4ae5-a29d-5c3f1fc78a80",
   "metadata": {},
   "outputs": [],
   "source": [
    "print(len(rnaseq_22_transpose.index))\n",
    "rnaseq_22_transpose = rnaseq_22_transpose[~rnaseq_22_transpose['specimenID'].isin(exclude_22['specimenID'])]\n",
    "print(len(rnaseq_22_transpose.index))"
   ]
  },
  {
   "cell_type": "code",
   "execution_count": null,
   "id": "89fd76ce-d35e-4be9-9b05-72cc1eac6032",
   "metadata": {},
   "outputs": [],
   "source": [
    "print(len(rnaseq_44_transpose.index))\n",
    "rnaseq_44_transpose = rnaseq_44_transpose[~rnaseq_44_transpose['specimenID'].isin(exclude_44['specimenID'])]\n",
    "print(len(rnaseq_44_transpose.index))"
   ]
  },
  {
   "cell_type": "markdown",
   "id": "a3fa195d-d2e2-489d-905f-406e0e1345aa",
   "metadata": {},
   "source": [
    "### merge"
   ]
  },
  {
   "cell_type": "code",
   "execution_count": null,
   "id": "a45b94db-53ab-4014-aca8-8ee7d86ecdbb",
   "metadata": {},
   "outputs": [],
   "source": [
    "rnaseq_10_id = id_map.merge(rnaseq_10_transpose, on = 'specimenID')\n",
    "print(len(rnaseq_10_transpose.index))\n",
    "print(len(rnaseq_10_id.index))\n",
    "rnaseq_10_id.head()"
   ]
  },
  {
   "cell_type": "code",
   "execution_count": null,
   "id": "9f26a82e-e106-4f1f-a830-74103818fa6d",
   "metadata": {},
   "outputs": [],
   "source": [
    "rnaseq_22_id = id_map.merge(rnaseq_22_transpose, on = 'specimenID')\n",
    "print(len(rnaseq_22_transpose.index))\n",
    "print(len(rnaseq_22_id.index))\n",
    "rnaseq_22_id.head()"
   ]
  },
  {
   "cell_type": "code",
   "execution_count": null,
   "id": "b2120214-6f0e-41a8-a3f6-5bd1d78c1e0f",
   "metadata": {},
   "outputs": [],
   "source": [
    "rnaseq_36_id = id_map.merge(rnaseq_36_transpose, on = 'specimenID')\n",
    "print(len(rnaseq_36_transpose.index))\n",
    "print(len(rnaseq_36_id.index))\n",
    "rnaseq_36_id.head()"
   ]
  },
  {
   "cell_type": "code",
   "execution_count": null,
   "id": "2d01bb92-3aef-4b70-abf8-f62858e8b569",
   "metadata": {},
   "outputs": [],
   "source": [
    "rnaseq_44_id = id_map.merge(rnaseq_44_transpose, on = 'specimenID')\n",
    "print(len(rnaseq_44_transpose.index))\n",
    "print(len(rnaseq_44_id.index))\n",
    "rnaseq_44_id.head()"
   ]
  },
  {
   "cell_type": "markdown",
   "id": "55c0d858-4956-43c1-b455-5fe9f7701bd2",
   "metadata": {
    "jp-MarkdownHeadingCollapsed": true
   },
   "source": [
    "### check out IDs that didn't map"
   ]
  },
  {
   "cell_type": "raw",
   "id": "6a108634-41cc-411b-aaca-ee9735a577ce",
   "metadata": {},
   "source": [
    "# not in ADSP"
   ]
  },
  {
   "cell_type": "code",
   "execution_count": null,
   "id": "96010b8a-c8a6-4b26-93df-302d6e56cf02",
   "metadata": {},
   "outputs": [],
   "source": [
    "rnaseq_10_no_map = rnaseq_10_transpose[~rnaseq_10_transpose['specimenID'].isin(rnaseq_10_id['specimenID'])]\n",
    "print(len(rnaseq_10_no_map.index))\n",
    "print(len(raw_id_map[raw_id_map['AlternateID'].isin(rnaseq_10_no_map['specimenID'])].index))\n",
    "print(raw_id_map[raw_id_map['AlternateID'].isin(rnaseq_10_no_map['specimenID'])])"
   ]
  },
  {
   "cell_type": "code",
   "execution_count": null,
   "id": "1dedf249-a023-469a-9a36-50b26e8bf767",
   "metadata": {},
   "outputs": [],
   "source": [
    "rnaseq_10_biospec_no_map = biospec[biospec['specimenID'].isin(rnaseq_10_no_map['specimenID'])]\n",
    "print(len(rnaseq_10_biospec_no_map.index))\n",
    "rnaseq_10_biospec_no_map"
   ]
  },
  {
   "cell_type": "markdown",
   "id": "67dadcd2-6ddd-49cd-9558-59b6e992d609",
   "metadata": {},
   "source": [
    "## correct for covariates"
   ]
  },
  {
   "cell_type": "markdown",
   "id": "7d0cd017-45ac-4abc-b34e-78b02dc4b77a",
   "metadata": {},
   "source": [
    "### subset covariate files"
   ]
  },
  {
   "cell_type": "code",
   "execution_count": null,
   "id": "7eaa0a0b-8082-43e9-b31f-0b3f416bc039",
   "metadata": {},
   "outputs": [],
   "source": [
    "print(len(rnaseq_meta_10[rnaseq_meta_10['rnaBatch'].isna() == False].index))\n",
    "print(len(rnaseq_meta_10[rnaseq_meta_10['libraryBatch'].isna() == False].index))\n",
    "print(len(rnaseq_meta_10[rnaseq_meta_10['sequencingBatch'].isna() == True].index))"
   ]
  },
  {
   "cell_type": "code",
   "execution_count": null,
   "id": "6f382843-5938-496c-b036-d34edf44adc9",
   "metadata": {},
   "outputs": [],
   "source": [
    "rnaseq_meta_cov = rnaseq_meta[['specimenID', 'RIN', 'sequencingBatch', 'rRNA.rate']]\n",
    "print(len(rnaseq_meta_cov.index))\n",
    "rnaseq_meta_cov.head()"
   ]
  },
  {
   "cell_type": "code",
   "execution_count": null,
   "id": "14390a9e-2918-4dcc-b698-5e37da45f2d5",
   "metadata": {},
   "outputs": [],
   "source": [
    "len(clinical_meta[clinical_meta['ageDeath'].isna()].index)"
   ]
  },
  {
   "cell_type": "code",
   "execution_count": null,
   "id": "2d1b67ac-e076-46ba-9251-66e8ca9aa4bf",
   "metadata": {},
   "outputs": [],
   "source": [
    "clinical_meta_cov = clinical_meta[['individualID', 'sex', 'race', 'pmi', 'ageDeath']]\n",
    "print(len(clinical_meta_cov.index))\n",
    "clinical_meta_cov.head()"
   ]
  },
  {
   "cell_type": "code",
   "execution_count": null,
   "id": "8de35f83-398e-4ede-a728-eae101b2d139",
   "metadata": {},
   "outputs": [],
   "source": [
    "rnaseq_exonic_rate_sub = rnaseq_exonic_rate[['ID', 'Exonic.Rate']]\n",
    "print(len(rnaseq_exonic_rate_sub.index))\n",
    "rnaseq_exonic_rate_sub.head()"
   ]
  },
  {
   "cell_type": "markdown",
   "id": "718b8aad-935d-44fd-9c23-14976d9bd444",
   "metadata": {},
   "source": [
    "### fix resequenced specimenIDs"
   ]
  },
  {
   "cell_type": "code",
   "execution_count": null,
   "id": "76aeb027-ba83-4b7a-a545-0728f41ace89",
   "metadata": {},
   "outputs": [],
   "source": [
    "rnaseq_meta_cov[rnaseq_meta_cov['specimenID'].str.contains('resequenced')]"
   ]
  },
  {
   "cell_type": "code",
   "execution_count": null,
   "id": "07c7875b-f2d3-46bd-8692-c029a869fffd",
   "metadata": {},
   "outputs": [],
   "source": [
    "rnaseq_meta_cov[rnaseq_meta_cov['specimenID'].str.contains('hB_RNA_8215')]"
   ]
  },
  {
   "cell_type": "code",
   "execution_count": null,
   "id": "442d8d90-a96a-45ff-8b9a-3c580f2f2780",
   "metadata": {},
   "outputs": [],
   "source": [
    "rnaseq_exonic_rate_sub[rnaseq_exonic_rate_sub['ID'].str.contains('resequenced')]"
   ]
  },
  {
   "cell_type": "code",
   "execution_count": null,
   "id": "2eded3c5-2041-4b89-b5d8-77970ea8b0c3",
   "metadata": {},
   "outputs": [],
   "source": [
    "rnaseq_meta_cov['new_id'] = rnaseq_meta_cov['specimenID'].str.replace('_resequenced', '')\n",
    "rnaseq_meta_cov_dup_id = rnaseq_meta_cov[rnaseq_meta_cov.duplicated('new_id', keep = False)].sort_values(by = 'new_id')\n",
    "rnaseq_meta_cov_dup_fixed = rnaseq_meta_cov_dup_id[rnaseq_meta_cov_dup_id['specimenID'].str.contains('resequenced')]\n",
    "print(len(rnaseq_meta_cov_dup_id.index))\n",
    "print(len(rnaseq_meta_cov_dup_id['new_id'].unique()))\n",
    "print(len(rnaseq_meta_cov_dup_fixed.index))\n",
    "print(len(rnaseq_meta_cov_dup_fixed['new_id'].unique()))\n",
    "rnaseq_meta_cov_dup_fixed['specimenID'] = rnaseq_meta_cov_dup_fixed['new_id']\n",
    "rnaseq_meta_cov_dup_fixed.drop(columns = ['new_id'], inplace = True)\n",
    "rnaseq_meta_cov_no_dup = rnaseq_meta_cov[~rnaseq_meta_cov['specimenID'].isin(rnaseq_meta_cov_dup_id['specimenID'])]\n",
    "rnaseq_meta_cov_no_dup.drop(columns = ['new_id'], inplace = True)\n",
    "rnaseq_meta_cov_no_reseq = pd.concat([rnaseq_meta_cov_no_dup, rnaseq_meta_cov_dup_fixed], axis = 0)\n",
    "print(len(rnaseq_meta_cov.index))\n",
    "print(len(rnaseq_meta_cov_no_reseq.index))\n",
    "rnaseq_meta_cov_no_reseq.head()"
   ]
  },
  {
   "cell_type": "markdown",
   "id": "1a7bda86-39fd-45c5-bf30-02ff1c0ee7d8",
   "metadata": {},
   "source": [
    "### filter to rnaseq data specimenIDs to fix duplicates"
   ]
  },
  {
   "cell_type": "code",
   "execution_count": null,
   "id": "2773655d-0ae2-401f-835c-f23747eda34c",
   "metadata": {},
   "outputs": [],
   "source": [
    "print(len(rnaseq_10_id.index))\n",
    "print(len(rnaseq_10_id['individualID'].unique()))\n",
    "print(len(rnaseq_22_id.index))\n",
    "print(len(rnaseq_22_id['individualID'].unique()))\n",
    "print(len(rnaseq_36_id.index))\n",
    "print(len(rnaseq_36_id['individualID'].unique()))\n",
    "print(len(rnaseq_44_id.index))\n",
    "print(len(rnaseq_44_id['individualID'].unique()))"
   ]
  },
  {
   "cell_type": "code",
   "execution_count": null,
   "id": "10133b1d-904e-4358-8ea9-1ded45780df4",
   "metadata": {},
   "outputs": [],
   "source": [
    "all_rnaseq_ids = pd.concat([rnaseq_10_id, rnaseq_22_id, rnaseq_36_id, rnaseq_44_id], axis = 0)\n",
    "all_rnaseq_ids = all_rnaseq_ids[['specimenID']]\n",
    "all_rnaseq_ids.drop_duplicates(inplace = True)\n",
    "print(len(all_rnaseq_ids.index))\n",
    "all_rnaseq_ids.head()"
   ]
  },
  {
   "cell_type": "markdown",
   "id": "36fa7055-c0b3-4b6c-aa06-c664f5636f08",
   "metadata": {},
   "source": [
    "### map to individualIDs and specimenIDs"
   ]
  },
  {
   "cell_type": "code",
   "execution_count": null,
   "id": "cdda336e-3fda-4c0e-b5e8-4bc5233a453b",
   "metadata": {},
   "outputs": [],
   "source": [
    "id_map_sub = id_map[['individualID', 'specimenID']]"
   ]
  },
  {
   "cell_type": "code",
   "execution_count": null,
   "id": "67b5470c-e128-4ecf-af9d-7bfbcb93bf0a",
   "metadata": {},
   "outputs": [],
   "source": [
    "rnaseq_meta_cov_id = id_map_sub.merge(rnaseq_meta_cov_no_reseq, on = 'specimenID', how = 'inner')\n",
    "print(len(rnaseq_meta_cov_no_reseq.index))\n",
    "print(len(rnaseq_meta_cov_id.index))\n",
    "rnaseq_meta_cov_id.head()"
   ]
  },
  {
   "cell_type": "code",
   "execution_count": null,
   "id": "f7316931-a1d1-43c3-8b1a-377c400b7c65",
   "metadata": {},
   "outputs": [],
   "source": [
    "rnaseq_exonic_rate_sub.rename(columns = {'ID' : 'specimenID'}, inplace = True)\n",
    "rnaseq_exonic_rate_id = id_map_sub.merge(rnaseq_exonic_rate_sub, on = 'specimenID', how = 'inner')\n",
    "print(len(rnaseq_exonic_rate_sub.index))\n",
    "print(len(rnaseq_exonic_rate_id.index))\n",
    "rnaseq_exonic_rate_id.head()"
   ]
  },
  {
   "cell_type": "code",
   "execution_count": null,
   "id": "d753c4bb-51b9-40b8-a43c-07efd7207df3",
   "metadata": {},
   "outputs": [],
   "source": [
    "clinical_meta_cov_id = id_map_sub.merge(clinical_meta_cov, on = 'individualID', how = 'inner')\n",
    "print(len(clinical_meta_cov.index))\n",
    "print(len(clinical_meta_cov_id.index))\n",
    "clinical_meta_cov_id.head()"
   ]
  },
  {
   "cell_type": "markdown",
   "id": "7f8af77f-8dec-495e-bcf6-cc5edae7a576",
   "metadata": {},
   "source": [
    "### merge"
   ]
  },
  {
   "cell_type": "code",
   "execution_count": null,
   "id": "4f941713-50c6-4d1a-b567-cb99d52969db",
   "metadata": {},
   "outputs": [],
   "source": [
    "print(len(rnaseq_meta_cov_id.index))\n",
    "print(len(rnaseq_meta_cov_id['individualID'].unique()))\n",
    "print(len(rnaseq_exonic_rate_id.index))\n",
    "print(len(rnaseq_exonic_rate_id['individualID'].unique()))\n",
    "print(len(clinical_meta_cov.index))\n",
    "print(len(clinical_meta_cov['individualID'].unique()))"
   ]
  },
  {
   "cell_type": "code",
   "execution_count": null,
   "id": "9ef12a8a-43cb-453e-814f-535154be6179",
   "metadata": {},
   "outputs": [],
   "source": [
    "rnaseq_cov = clinical_meta_cov_id.merge(rnaseq_meta_cov_id, on = ['individualID' ,'specimenID'], how = 'inner').merge(rnaseq_exonic_rate_id, on = ['individualID' ,'specimenID'], how = 'inner')\n",
    "print(len(rnaseq_meta_cov_id.index))\n",
    "print(len(rnaseq_exonic_rate_id.index))\n",
    "print(len(clinical_meta_cov_id.index))\n",
    "print(len(rnaseq_cov.index))\n",
    "rnaseq_cov.head()"
   ]
  },
  {
   "cell_type": "markdown",
   "id": "34ae981b-f439-4b98-82de-1da6c44025ec",
   "metadata": {},
   "source": [
    "### recode columns"
   ]
  },
  {
   "cell_type": "raw",
   "id": "da82aea6-fc5a-4545-9b73-5aadf4606f54",
   "metadata": {},
   "source": [
    "# convert ageDeath 90+ to 90 and convert column type to float\n",
    "# recode sex column (male = 1, female = 2) and convert column type to float\n",
    "# recode race column (B = 1, W = 2, H = 3, A = 4, U = 5) and convert column type to float"
   ]
  },
  {
   "cell_type": "markdown",
   "id": "33e329b5-ffef-42c3-bb10-e759455e7a75",
   "metadata": {},
   "source": [
    "#### age death"
   ]
  },
  {
   "cell_type": "code",
   "execution_count": null,
   "id": "3872c143-e16a-4547-b755-38220c37edc6",
   "metadata": {},
   "outputs": [],
   "source": [
    "rnaseq_cov['ageDeath'] = rnaseq_cov['ageDeath'].str.replace('+', '')\n",
    "rnaseq_cov['ageDeath'] = rnaseq_cov['ageDeath'].astype(float)\n",
    "print(rnaseq_cov['ageDeath'].describe().apply(lambda x: f\"{x:.0f}\"))"
   ]
  },
  {
   "cell_type": "markdown",
   "id": "c7661e5a-bd25-4b7a-87d1-b2bc165120ac",
   "metadata": {},
   "source": [
    "#### sex"
   ]
  },
  {
   "cell_type": "code",
   "execution_count": null,
   "id": "4f0c82c5-4010-48df-af71-611993c514af",
   "metadata": {},
   "outputs": [],
   "source": [
    "print(rnaseq_cov['sex'].unique())\n",
    "rnaseq_cov['sex'] = rnaseq_cov['sex'].str.replace('female', '2')\n",
    "rnaseq_cov['sex'] = rnaseq_cov['sex'].str.replace('male', '1')\n",
    "rnaseq_cov['sex'] = rnaseq_cov['sex'].astype(float)\n",
    "print(rnaseq_cov['sex'].unique())"
   ]
  },
  {
   "cell_type": "markdown",
   "id": "4e8878c7-ffb3-48b8-827c-e2835a254457",
   "metadata": {},
   "source": [
    "#### race"
   ]
  },
  {
   "cell_type": "code",
   "execution_count": null,
   "id": "dd3090e2-7042-4c6e-a218-a022b70715c6",
   "metadata": {},
   "outputs": [],
   "source": [
    "print(rnaseq_cov['race'].unique())\n",
    "rnaseq_cov['race'] = rnaseq_cov['race'].str.replace('B', '1')\n",
    "rnaseq_cov['race'] = rnaseq_cov['race'].str.replace('W', '2')\n",
    "rnaseq_cov['race'] = rnaseq_cov['race'].str.replace('H', '3')\n",
    "rnaseq_cov['race'] = rnaseq_cov['race'].str.replace('A', '4')\n",
    "rnaseq_cov['race'] = rnaseq_cov['race'].str.replace('U', '5')\n",
    "rnaseq_cov['race'] = rnaseq_cov['race'].astype(float)\n",
    "print(rnaseq_cov['race'].unique())"
   ]
  },
  {
   "cell_type": "markdown",
   "id": "7647ee79-f6b9-4f1a-ab30-94bd3bed9ddf",
   "metadata": {},
   "source": [
    "#### sequencing batch"
   ]
  },
  {
   "cell_type": "code",
   "execution_count": null,
   "id": "8b38c3c0-8243-41d1-a31c-7604d438b617",
   "metadata": {},
   "outputs": [],
   "source": [
    "batch_unique = rnaseq_cov['sequencingBatch'].unique()\n",
    "print(rnaseq_cov['sequencingBatch'].value_counts(dropna = False))\n",
    "batch_labels = {label: i+1 for i, label in enumerate(batch_unique)}\n",
    "rnaseq_cov['sequencingBatch'] = rnaseq_cov['sequencingBatch'].map(batch_labels)\n",
    "print(rnaseq_cov['sequencingBatch'].value_counts(dropna = False))\n",
    "print(rnaseq_cov['sequencingBatch'].dtype)"
   ]
  },
  {
   "cell_type": "markdown",
   "id": "c5254950-1197-4fb6-a9b5-a9501d5b0176",
   "metadata": {},
   "source": [
    "#### check other column dtypes"
   ]
  },
  {
   "cell_type": "code",
   "execution_count": null,
   "id": "9a1bafd7-d007-4b8f-9823-1fb9e2def4d7",
   "metadata": {},
   "outputs": [],
   "source": [
    "print(rnaseq_cov['pmi'].dtype)"
   ]
  },
  {
   "cell_type": "code",
   "execution_count": null,
   "id": "7df55328-173c-4d0e-ab61-6c6dcab9258d",
   "metadata": {},
   "outputs": [],
   "source": [
    "print(rnaseq_cov['RIN'].dtype)"
   ]
  },
  {
   "cell_type": "code",
   "execution_count": null,
   "id": "5e8aa69e-97a1-46c4-9db0-bc4df1c69e86",
   "metadata": {},
   "outputs": [],
   "source": [
    "print(rnaseq_cov['rRNA.rate'].dtype)"
   ]
  },
  {
   "cell_type": "code",
   "execution_count": null,
   "id": "0f54ab0f-5179-47a0-a4f8-e132722d14cf",
   "metadata": {},
   "outputs": [],
   "source": [
    "print(rnaseq_cov['Exonic.Rate'].dtype)"
   ]
  },
  {
   "cell_type": "code",
   "execution_count": null,
   "id": "e57aa095-fa87-4bf6-ab34-c4c158a0c81b",
   "metadata": {},
   "outputs": [],
   "source": [
    "rnaseq_cov.head()"
   ]
  },
  {
   "cell_type": "markdown",
   "id": "354294f2-08d2-4ca1-ac1b-e6d4ba7d1b19",
   "metadata": {},
   "source": [
    "### merge w RNAseq data"
   ]
  },
  {
   "cell_type": "code",
   "execution_count": null,
   "id": "ab1f4a90-0344-447b-ac95-644f342662a2",
   "metadata": {},
   "outputs": [],
   "source": [
    "rnaseq_10_cov = rnaseq_10_id.merge(rnaseq_cov, on = ['individualID', 'specimenID'], how = 'inner')\n",
    "print(len(rnaseq_10_id.index))\n",
    "print(len(rnaseq_10_cov.index))\n",
    "print(len(rnaseq_10_cov['individualID'].unique()))"
   ]
  },
  {
   "cell_type": "code",
   "execution_count": null,
   "id": "2d73e576-0941-4240-99ea-dfa4fcc3d2fc",
   "metadata": {},
   "outputs": [],
   "source": [
    "rnaseq_22_cov = rnaseq_22_id.merge(rnaseq_cov, on = ['individualID', 'specimenID'], how = 'inner')\n",
    "print(len(rnaseq_22_id.index))\n",
    "print(len(rnaseq_22_cov.index))\n",
    "print(len(rnaseq_22_cov['individualID'].unique()))"
   ]
  },
  {
   "cell_type": "code",
   "execution_count": null,
   "id": "d7beb43c-62b8-4f58-94f8-6b9f939aa4aa",
   "metadata": {},
   "outputs": [],
   "source": [
    "rnaseq_36_cov = rnaseq_36_id.merge(rnaseq_cov, on = ['individualID', 'specimenID'], how = 'inner')\n",
    "print(len(rnaseq_36_id.index))\n",
    "print(len(rnaseq_36_cov.index))\n",
    "print(len(rnaseq_36_cov['individualID'].unique()))"
   ]
  },
  {
   "cell_type": "code",
   "execution_count": null,
   "id": "afb8a675-6095-4f4a-80e1-9f249655d745",
   "metadata": {},
   "outputs": [],
   "source": [
    "rnaseq_44_cov = rnaseq_44_id.merge(rnaseq_cov, on = ['individualID', 'specimenID'], how = 'inner')\n",
    "print(len(rnaseq_44_id.index))\n",
    "print(len(rnaseq_44_cov.index))\n",
    "print(len(rnaseq_44_cov['individualID'].unique()))"
   ]
  },
  {
   "cell_type": "markdown",
   "id": "c13f3931-c511-4d1e-8926-fafa58283504",
   "metadata": {},
   "source": [
    "### correct for covariates"
   ]
  },
  {
   "cell_type": "markdown",
   "id": "a267844f-544e-4f0f-8bb9-001e7026f7cc",
   "metadata": {},
   "source": [
    "#### 10"
   ]
  },
  {
   "cell_type": "code",
   "execution_count": null,
   "id": "2b7adaae-9c10-45e4-8e0d-147754cead7c",
   "metadata": {},
   "outputs": [],
   "source": [
    "# Add intercept to covariate matrix\n",
    "X = sm.add_constant(rnaseq_10_cov[['sex',\n",
    "                                   'race',\n",
    "                                   'pmi',\n",
    "                                   'ageDeath',\n",
    "                                   'RIN',\n",
    "                                   'sequencingBatch',\n",
    "                                   'rRNA.rate',\n",
    "                                   'Exonic.Rate']])\n",
    "# Store residualized expression\n",
    "rnaseq_10_corrected = rnaseq_10_cov[['SampleID', 'SUBJID', 'individualID', 'specimenID']]\n",
    "\n",
    "rnaseq_10_gene_list_loop = rnaseq_10_cov.columns.tolist()\n",
    "remove_cols = ['sex',\n",
    "               'race',\n",
    "               'pmi',\n",
    "               'ageDeath',\n",
    "               'RIN',\n",
    "               'sequencingBatch',\n",
    "               'rRNA.rate',\n",
    "               'Exonic.Rate',\n",
    "               'SampleID',\n",
    "               'SUBJID',\n",
    "               'individualID',\n",
    "               'specimenID']\n",
    "\n",
    "print(len(rnaseq_10_gene_list_loop))\n",
    "for col in remove_cols:\n",
    "    rnaseq_10_gene_list_loop.remove(col)\n",
    "print(len(rnaseq_10_gene_list_loop))\n",
    "\n",
    "for index, gene in enumerate(rnaseq_10_gene_list_loop):\n",
    "    print(index)\n",
    "    rnaseq_10_cov[gene] = rnaseq_10_cov[gene].astype(float)\n",
    "    y = rnaseq_10_cov[gene]\n",
    "    \n",
    "    # Fit linear model\n",
    "    model = sm.OLS(y, X).fit()\n",
    "    \n",
    "    # Get residuals\n",
    "    rnaseq_10_corrected[gene] = model.resid"
   ]
  },
  {
   "cell_type": "code",
   "execution_count": null,
   "id": "e1d25817-2012-4ff0-8755-d59e31332d14",
   "metadata": {},
   "outputs": [],
   "source": [
    "print(len(rnaseq_10_gene_list_loop))\n",
    "print(len(rnaseq_10_corrected.columns))\n",
    "rnaseq_10_corrected.head()"
   ]
  },
  {
   "cell_type": "markdown",
   "id": "9d1de67f-38cb-4a8b-949c-3cbbfc00ff3d",
   "metadata": {},
   "source": [
    "#### 22"
   ]
  },
  {
   "cell_type": "code",
   "execution_count": null,
   "id": "e4dfac9a-cf2d-464a-ba9b-3d057b38bcee",
   "metadata": {},
   "outputs": [],
   "source": [
    "# Add intercept to covariate matrix\n",
    "X = sm.add_constant(rnaseq_22_cov[['sex',\n",
    "                                   'race',\n",
    "                                   'pmi',\n",
    "                                   'ageDeath',\n",
    "                                   'RIN',\n",
    "                                   'sequencingBatch',\n",
    "                                   'rRNA.rate',\n",
    "                                   'Exonic.Rate']])\n",
    "# Store residualized expression\n",
    "rnaseq_22_corrected = rnaseq_22_cov[['SampleID', 'SUBJID', 'individualID', 'specimenID']]\n",
    "\n",
    "rnaseq_22_gene_list_loop = rnaseq_22_cov.columns.tolist()\n",
    "remove_cols = ['sex',\n",
    "               'race',\n",
    "               'pmi',\n",
    "               'ageDeath',\n",
    "               'RIN',\n",
    "               'sequencingBatch',\n",
    "               'rRNA.rate',\n",
    "               'Exonic.Rate',\n",
    "               'SampleID',\n",
    "               'SUBJID',\n",
    "               'individualID',\n",
    "               'specimenID']\n",
    "\n",
    "print(len(rnaseq_22_gene_list_loop))\n",
    "for col in remove_cols:\n",
    "    rnaseq_22_gene_list_loop.remove(col)\n",
    "print(len(rnaseq_22_gene_list_loop))\n",
    "\n",
    "for index, gene in enumerate(rnaseq_22_gene_list_loop):\n",
    "    print(index)\n",
    "    rnaseq_22_cov[gene] = rnaseq_22_cov[gene].astype(float)\n",
    "    y = rnaseq_22_cov[gene]\n",
    "    \n",
    "    # Fit linear model\n",
    "    model = sm.OLS(y, X).fit()\n",
    "    \n",
    "    # Get residuals\n",
    "    rnaseq_22_corrected[gene] = model.resid"
   ]
  },
  {
   "cell_type": "code",
   "execution_count": null,
   "id": "72f0fca9-d1b5-4884-ad3a-7dcd57ba91f1",
   "metadata": {},
   "outputs": [],
   "source": [
    "print(len(rnaseq_22_gene_list_loop))\n",
    "print(len(rnaseq_22_corrected.columns))\n",
    "rnaseq_22_corrected.head()"
   ]
  },
  {
   "cell_type": "markdown",
   "id": "676f46c2-3a14-4cd9-b7b1-b44517aa5405",
   "metadata": {},
   "source": [
    "#### 36"
   ]
  },
  {
   "cell_type": "code",
   "execution_count": null,
   "id": "ee382c11-4469-49bc-8da2-5d0769059657",
   "metadata": {},
   "outputs": [],
   "source": [
    "# Add intercept to covariate matrix\n",
    "X = sm.add_constant(rnaseq_36_cov[['sex',\n",
    "                                   'race',\n",
    "                                   'pmi',\n",
    "                                   'ageDeath',\n",
    "                                   'RIN',\n",
    "                                   'sequencingBatch',\n",
    "                                   'rRNA.rate',\n",
    "                                   'Exonic.Rate']])\n",
    "# Store residualized expression\n",
    "rnaseq_36_corrected = rnaseq_36_cov[['SampleID', 'SUBJID', 'individualID', 'specimenID']]\n",
    "\n",
    "rnaseq_36_gene_list_loop = rnaseq_36_cov.columns.tolist()\n",
    "remove_cols = ['sex',\n",
    "               'race',\n",
    "               'pmi',\n",
    "               'ageDeath',\n",
    "               'RIN',\n",
    "               'sequencingBatch',\n",
    "               'rRNA.rate',\n",
    "               'Exonic.Rate',\n",
    "               'SampleID',\n",
    "               'SUBJID',\n",
    "               'individualID',\n",
    "               'specimenID']\n",
    "\n",
    "print(len(rnaseq_36_gene_list_loop))\n",
    "for col in remove_cols:\n",
    "    rnaseq_36_gene_list_loop.remove(col)\n",
    "print(len(rnaseq_36_gene_list_loop))\n",
    "\n",
    "for index, gene in enumerate(rnaseq_36_gene_list_loop):\n",
    "    print(index)\n",
    "    rnaseq_36_cov[gene] = rnaseq_36_cov[gene].astype(float)\n",
    "    y = rnaseq_36_cov[gene]\n",
    "    \n",
    "    # Fit linear model\n",
    "    model = sm.OLS(y, X).fit()\n",
    "    \n",
    "    # Get residuals\n",
    "    rnaseq_36_corrected[gene] = model.resid"
   ]
  },
  {
   "cell_type": "code",
   "execution_count": null,
   "id": "016a8d7c-b72b-40a7-8127-8050f76c72a2",
   "metadata": {},
   "outputs": [],
   "source": [
    "print(len(rnaseq_36_gene_list_loop))\n",
    "print(len(rnaseq_36_corrected.columns))\n",
    "rnaseq_36_corrected.head()"
   ]
  },
  {
   "cell_type": "markdown",
   "id": "0d59aba1-3355-439a-8d48-e4661b611286",
   "metadata": {},
   "source": [
    "#### 44"
   ]
  },
  {
   "cell_type": "code",
   "execution_count": null,
   "id": "1d8626d5-f0e4-4c19-a886-9473d0391dda",
   "metadata": {},
   "outputs": [],
   "source": [
    "# Add intercept to covariate matrix\n",
    "X = sm.add_constant(rnaseq_44_cov[['sex',\n",
    "                                   'race',\n",
    "                                   'pmi',\n",
    "                                   'ageDeath',\n",
    "                                   'RIN',\n",
    "                                   'sequencingBatch',\n",
    "                                   'rRNA.rate',\n",
    "                                   'Exonic.Rate']])\n",
    "# Store residualized expression\n",
    "rnaseq_44_corrected = rnaseq_44_cov[['SampleID', 'SUBJID', 'individualID', 'specimenID']]\n",
    "\n",
    "rnaseq_44_gene_list_loop = rnaseq_44_cov.columns.tolist()\n",
    "remove_cols = ['sex',\n",
    "               'race',\n",
    "               'pmi',\n",
    "               'ageDeath',\n",
    "               'RIN',\n",
    "               'sequencingBatch',\n",
    "               'rRNA.rate',\n",
    "               'Exonic.Rate',\n",
    "               'SampleID',\n",
    "               'SUBJID',\n",
    "               'individualID',\n",
    "               'specimenID']\n",
    "\n",
    "print(len(rnaseq_44_gene_list_loop))\n",
    "for col in remove_cols:\n",
    "    rnaseq_44_gene_list_loop.remove(col)\n",
    "print(len(rnaseq_44_gene_list_loop))\n",
    "\n",
    "for index, gene in enumerate(rnaseq_44_gene_list_loop):\n",
    "    print(index)\n",
    "    rnaseq_44_cov[gene] = rnaseq_44_cov[gene].astype(float)\n",
    "    y = rnaseq_44_cov[gene]\n",
    "    \n",
    "    # Fit linear model\n",
    "    model = sm.OLS(y, X).fit()\n",
    "    \n",
    "    # Get residuals\n",
    "    rnaseq_44_corrected[gene] = model.resid"
   ]
  },
  {
   "cell_type": "code",
   "execution_count": null,
   "id": "dfb136a1-eed8-4eb5-8b11-a74883e16a8e",
   "metadata": {},
   "outputs": [],
   "source": [
    "print(len(rnaseq_44_gene_list_loop))\n",
    "print(len(rnaseq_44_corrected.columns))\n",
    "rnaseq_44_corrected.head()"
   ]
  },
  {
   "cell_type": "markdown",
   "id": "51c9b483-e7ed-499d-9905-a5714045bd5f",
   "metadata": {},
   "source": [
    "## create common ID col and transpose back (for new script)"
   ]
  },
  {
   "cell_type": "raw",
   "id": "d806b235-a71b-44b0-868a-e9518a73b1f5",
   "metadata": {},
   "source": [
    "ID format: SampleID:individualID"
   ]
  },
  {
   "cell_type": "code",
   "execution_count": null,
   "id": "12b78ff0-7907-4232-91e0-82e80bf92edb",
   "metadata": {},
   "outputs": [],
   "source": [
    "rnaseq_10_reformat = rnaseq_10_corrected.copy()\n",
    "rnaseq_10_reformat['ID'] = rnaseq_10_reformat['SampleID'] + ':' + rnaseq_10_reformat['individualID']\n",
    "rnaseq_10_reformat.set_index('ID', inplace = True)\n",
    "rnaseq_10_reformat.drop(columns = ['SampleID', 'SUBJID', 'individualID', 'specimenID'], inplace = True)\n",
    "rnaseq_10_reformat = rnaseq_10_reformat.transpose()\n",
    "rnaseq_10_reformat.insert(0, 'GENE', rnaseq_10_reformat.index)\n",
    "rnaseq_10_reformat.head()"
   ]
  },
  {
   "cell_type": "code",
   "execution_count": null,
   "id": "8950ca4f-258c-4f30-88cf-c039b93497a3",
   "metadata": {},
   "outputs": [],
   "source": [
    "rnaseq_22_reformat = rnaseq_22_corrected.copy()\n",
    "rnaseq_22_reformat['ID'] = rnaseq_22_reformat['SampleID'] + ':' + rnaseq_22_reformat['individualID']\n",
    "rnaseq_22_reformat.set_index('ID', inplace = True)\n",
    "rnaseq_22_reformat.drop(columns = ['SampleID', 'SUBJID', 'individualID', 'specimenID'], inplace = True)\n",
    "rnaseq_22_reformat = rnaseq_22_reformat.transpose()\n",
    "rnaseq_22_reformat.insert(0, 'GENE', rnaseq_22_reformat.index)\n",
    "rnaseq_22_reformat.head()"
   ]
  },
  {
   "cell_type": "code",
   "execution_count": null,
   "id": "6d14c038-9b82-4d03-9a1b-0227410900c0",
   "metadata": {},
   "outputs": [],
   "source": [
    "rnaseq_36_reformat = rnaseq_36_corrected.copy()\n",
    "rnaseq_36_reformat['ID'] = rnaseq_36_reformat['SampleID'] + ':' + rnaseq_36_reformat['individualID']\n",
    "rnaseq_36_reformat.set_index('ID', inplace = True)\n",
    "rnaseq_36_reformat.drop(columns = ['SampleID', 'SUBJID', 'individualID', 'specimenID'], inplace = True)\n",
    "rnaseq_36_reformat = rnaseq_36_reformat.transpose()\n",
    "rnaseq_36_reformat.insert(0, 'GENE', rnaseq_36_reformat.index)\n",
    "rnaseq_36_reformat.head()"
   ]
  },
  {
   "cell_type": "code",
   "execution_count": null,
   "id": "7d48ce2e-fc70-4bf9-ae71-f03d79b0e4f9",
   "metadata": {},
   "outputs": [],
   "source": [
    "rnaseq_44_reformat = rnaseq_44_corrected.copy()\n",
    "rnaseq_44_reformat['ID'] = rnaseq_44_reformat['SampleID'] + ':' + rnaseq_44_reformat['individualID']\n",
    "rnaseq_44_reformat.set_index('ID', inplace = True)\n",
    "rnaseq_44_reformat.drop(columns = ['SampleID', 'SUBJID', 'individualID', 'specimenID'], inplace = True)\n",
    "rnaseq_44_reformat = rnaseq_44_reformat.transpose()\n",
    "rnaseq_44_reformat.insert(0, 'GENE', rnaseq_44_reformat.index)\n",
    "rnaseq_44_reformat.head()"
   ]
  },
  {
   "cell_type": "markdown",
   "id": "29c234e4-d29a-42af-a1ea-d3bddad16755",
   "metadata": {},
   "source": [
    "## create gene list"
   ]
  },
  {
   "cell_type": "code",
   "execution_count": null,
   "id": "fa484ad9-cb5e-487b-9d5e-3e8b1e7587bc",
   "metadata": {},
   "outputs": [],
   "source": [
    "rnaseq_gene_list = pd.concat([rnaseq_10_reformat[['GENE']], rnaseq_22_reformat[['GENE']], rnaseq_36_reformat[['GENE']], rnaseq_44_reformat[['GENE']]], axis = 0)\n",
    "print(len(rnaseq_gene_list.index))\n",
    "rnaseq_gene_list.drop_duplicates(inplace = True)\n",
    "print(len(rnaseq_gene_list.index))\n",
    "rnaseq_gene_list.head()"
   ]
  },
  {
   "cell_type": "markdown",
   "id": "1ff6f329-bab8-490d-9464-e781104f0e08",
   "metadata": {},
   "source": [
    "## check final shapes"
   ]
  },
  {
   "cell_type": "code",
   "execution_count": null,
   "id": "84ac44ab-ca70-46c8-955f-10b18e44996e",
   "metadata": {},
   "outputs": [],
   "source": [
    "print(rnaseq_10_corrected.shape)\n",
    "print(rnaseq_10_reformat.shape)"
   ]
  },
  {
   "cell_type": "code",
   "execution_count": null,
   "id": "a66e0813-a735-47ad-9c4a-c24d59bd7e0b",
   "metadata": {},
   "outputs": [],
   "source": [
    "print(rnaseq_22_corrected.shape)\n",
    "print(rnaseq_22_reformat.shape)"
   ]
  },
  {
   "cell_type": "code",
   "execution_count": null,
   "id": "ad7fef49-8fcc-4091-9d0a-0c476d9c919f",
   "metadata": {},
   "outputs": [],
   "source": [
    "print(rnaseq_36_corrected.shape)\n",
    "print(rnaseq_36_reformat.shape)"
   ]
  },
  {
   "cell_type": "code",
   "execution_count": null,
   "id": "b5f50b1b-8cc3-4b06-ad4c-74ed8ee0cbe8",
   "metadata": {},
   "outputs": [],
   "source": [
    "print(rnaseq_44_corrected.shape)\n",
    "print(rnaseq_44_reformat.shape)"
   ]
  },
  {
   "cell_type": "markdown",
   "id": "00200d86-5404-4f87-a9c9-c25acaae40b6",
   "metadata": {},
   "source": [
    "# clean methylation"
   ]
  },
  {
   "cell_type": "markdown",
   "id": "a7330f6a-89b7-44a9-9242-921d62e01068",
   "metadata": {},
   "source": [
    "## map to genes and accessions"
   ]
  },
  {
   "cell_type": "markdown",
   "id": "0acbec79-2ad0-49f7-ae44-6209b132b687",
   "metadata": {},
   "source": [
    "### subset and rename"
   ]
  },
  {
   "cell_type": "code",
   "execution_count": null,
   "id": "517a642d-a118-4f44-821e-98a849028454",
   "metadata": {},
   "outputs": [],
   "source": [
    "methyl_gene_map_sub = methyl_gene_map[['IlmnID', 'GencodeBasicV12_NAME', 'UCSC_RefGene_Accession']]\n",
    "methyl_gene_map_sub.rename(columns = {'GencodeBasicV12_NAME' : 'GENE',\n",
    "                                      'UCSC_RefGene_Accession' : 'Accession'}, inplace = True)\n",
    "methyl_gene_map_sub.head()"
   ]
  },
  {
   "cell_type": "code",
   "execution_count": null,
   "id": "8e46fd9d-36dc-46f6-8f94-4e12f52f46ff",
   "metadata": {},
   "outputs": [],
   "source": [
    "methyl_gene_map_missing_sub = methyl_gene_map_missing[['IlmnID', 'GencodeBasicV12_NAME', 'UCSC_RefGene_Accession']]\n",
    "methyl_gene_map_missing_sub.rename(columns = {'GencodeBasicV12_NAME' : 'GENE',\n",
    "                                      'UCSC_RefGene_Accession' : 'Accession'}, inplace = True)\n",
    "methyl_gene_map_missing_sub.head()"
   ]
  },
  {
   "cell_type": "code",
   "execution_count": null,
   "id": "4a0aaea3-7dcb-4628-bcce-93983421e608",
   "metadata": {},
   "outputs": [],
   "source": [
    "methyl.rename(columns = {'Unnamed: 0' : 'IlmnID'}, inplace = True)\n",
    "methyl.head()"
   ]
  },
  {
   "cell_type": "markdown",
   "id": "83aecac8-7bb2-4bc5-9d3f-14866b28005e",
   "metadata": {},
   "source": [
    "### split genes and accessions into their own rows"
   ]
  },
  {
   "cell_type": "code",
   "execution_count": null,
   "id": "6eac1ed5-c151-4c60-94b8-6b5fc61821e4",
   "metadata": {},
   "outputs": [],
   "source": [
    "methyl_gene_map_explode = (methyl_gene_map_sub.assign(GENE = methyl_gene_map_sub['GENE'].str.split(';')).explode(['GENE']).reset_index(drop = True))\n",
    "methyl_gene_map_explode.head()"
   ]
  },
  {
   "cell_type": "code",
   "execution_count": null,
   "id": "1fa46f57-ee6e-4d43-b1c2-f57cfa26c533",
   "metadata": {},
   "outputs": [],
   "source": [
    "methyl_gene_map_explode = (methyl_gene_map_explode.assign(Accession = methyl_gene_map_sub['Accession'].str.split(';')).explode(['Accession']).reset_index(drop = True))\n",
    "methyl_gene_map_explode.head()"
   ]
  },
  {
   "cell_type": "code",
   "execution_count": null,
   "id": "61753025-a24f-4385-a798-da32e0214add",
   "metadata": {},
   "outputs": [],
   "source": [
    "methyl_gene_map_missing_explode = (methyl_gene_map_missing_sub.assign(GENE = methyl_gene_map_missing_sub['GENE'].str.split(';')).explode(['GENE']).reset_index(drop = True))\n",
    "methyl_gene_map_missing_explode = (methyl_gene_map_missing_explode.assign(Accession = methyl_gene_map_missing_sub['Accession'].str.split(';')).explode(['Accession']).reset_index(drop = True))\n",
    "methyl_gene_map_missing_explode.head()"
   ]
  },
  {
   "cell_type": "markdown",
   "id": "58d1bea8-f33b-4e77-b9ae-fb92c72ad621",
   "metadata": {},
   "source": [
    "### concatenate gene maps"
   ]
  },
  {
   "cell_type": "code",
   "execution_count": null,
   "id": "d4bef363-62fc-4c4e-921c-15d5340dfafe",
   "metadata": {},
   "outputs": [],
   "source": [
    "methyl_gene_map_all = pd.concat([methyl_gene_map_explode, methyl_gene_map_missing_explode], axis = 0)\n",
    "methyl_gene_map_all.head()"
   ]
  },
  {
   "cell_type": "markdown",
   "id": "0cef3f21-b5b9-443a-a8c1-a3261378b3f0",
   "metadata": {},
   "source": [
    "### merge"
   ]
  },
  {
   "cell_type": "code",
   "execution_count": null,
   "id": "1f229a8c-dfed-4515-a08f-8b4f74819376",
   "metadata": {},
   "outputs": [],
   "source": [
    "methyl_gene = methyl_gene_map_all.merge(methyl, on = 'IlmnID', how = 'inner')\n",
    "print(len(methyl_gene.index))\n",
    "print(len(methyl_gene['IlmnID'].unique()))\n",
    "print(len(methyl['IlmnID'].unique()))\n",
    "methyl_gene.head()"
   ]
  },
  {
   "cell_type": "markdown",
   "id": "a45e854f-6910-43f8-bc9e-f47c3283bbd0",
   "metadata": {},
   "source": [
    "### check out ids that didn't map"
   ]
  },
  {
   "cell_type": "raw",
   "id": "da9d8123-f155-4016-887c-101b0d7574ab",
   "metadata": {},
   "source": [
    "# they are in the legacy file (were likely discontinued in more recent arrays)"
   ]
  },
  {
   "cell_type": "code",
   "execution_count": null,
   "id": "2ea3d46a-7b6f-4da7-9d74-8286eaeae9fd",
   "metadata": {},
   "outputs": [],
   "source": [
    "methyl_no_map = methyl[~methyl['IlmnID'].isin(methyl_gene['IlmnID'])]\n",
    "print(len(methyl_no_map.index))\n",
    "methyl_no_map['IlmnID']"
   ]
  },
  {
   "cell_type": "markdown",
   "id": "aa75acd9-54d0-4bfc-ba24-f2dc646aa59f",
   "metadata": {},
   "source": [
    "### drop missing genes and accessions"
   ]
  },
  {
   "cell_type": "code",
   "execution_count": null,
   "id": "d5153e2e-6b2d-440d-94f9-e64bb06db813",
   "metadata": {},
   "outputs": [],
   "source": [
    "print(len(methyl_gene.index))\n",
    "print(len(methyl_gene['IlmnID'].unique()))\n",
    "methyl_gene.dropna(subset = ['GENE', 'Accession'], inplace = True)\n",
    "print(len(methyl_gene.index))\n",
    "print(len(methyl_gene['IlmnID'].unique()))"
   ]
  },
  {
   "cell_type": "markdown",
   "id": "1d4ac1c9-7388-4cbf-bf8e-8156253ddc12",
   "metadata": {},
   "source": [
    "### drop duplicates"
   ]
  },
  {
   "cell_type": "raw",
   "id": "c433c348-d9af-4171-828a-52d975f0356c",
   "metadata": {},
   "source": [
    "# there are none"
   ]
  },
  {
   "cell_type": "code",
   "execution_count": null,
   "id": "655502c0-568b-4b87-b98a-e69960d87d18",
   "metadata": {},
   "outputs": [],
   "source": [
    "print(len(methyl_gene.index))\n",
    "print(len(methyl_gene['IlmnID'].unique()))\n",
    "methyl_gene.drop_duplicates(inplace = True)\n",
    "print(len(methyl_gene.index))\n",
    "print(len(methyl_gene['IlmnID'].unique()))"
   ]
  },
  {
   "cell_type": "markdown",
   "id": "1dbffdd4-d791-45cd-88f0-72f8b5d739d8",
   "metadata": {},
   "source": [
    "### create unique ID"
   ]
  },
  {
   "cell_type": "code",
   "execution_count": null,
   "id": "03fcee0f-fd7b-424d-93db-7fafeeeb8cc5",
   "metadata": {},
   "outputs": [],
   "source": [
    "methyl_gene.insert(0, 'RefGene_TargetID_Accession', methyl_gene['GENE'] + '_' + methyl_gene['IlmnID'] + '_' + methyl_gene['Accession'])\n",
    "methyl_gene.head()"
   ]
  },
  {
   "cell_type": "markdown",
   "id": "dc35e2d1-86ca-4fb4-9f50-5e1492cdefd1",
   "metadata": {},
   "source": [
    "### filter to reference transcripts"
   ]
  },
  {
   "cell_type": "code",
   "execution_count": null,
   "id": "94a9c92f-d10c-43b4-9245-c9d42b314b43",
   "metadata": {},
   "outputs": [],
   "source": [
    "ref_direct = ref[ref['info_type'].isin(['DIRECT'])]\n",
    "print(len(ref_direct.index))\n",
    "print(ref_direct['info_type'].unique())"
   ]
  },
  {
   "cell_type": "code",
   "execution_count": null,
   "id": "17d6b273-a4e3-469a-b344-41fe03bf3167",
   "metadata": {},
   "outputs": [],
   "source": [
    "methyl_ref = methyl_gene[methyl_gene['Accession'].isin(ref_direct['xref'])]\n",
    "print(len(methyl_ref['Accession'].unique()))\n",
    "print(len(methyl_ref['IlmnID'].unique()))\n",
    "print(len(methyl_gene['Accession'].unique()))\n",
    "print(len(methyl_gene['IlmnID'].unique()))"
   ]
  },
  {
   "cell_type": "markdown",
   "id": "3104233b-4532-473f-8f6d-185a112de500",
   "metadata": {},
   "source": [
    "### create gene list"
   ]
  },
  {
   "cell_type": "code",
   "execution_count": null,
   "id": "7ccfc6ee-0998-4dfe-a9bd-a6fa3b6e16d5",
   "metadata": {},
   "outputs": [],
   "source": [
    "methyl_gene_list = methyl_ref[['GENE']].drop_duplicates()\n",
    "print(len(methyl_gene_list['GENE'].unique()))\n",
    "len(methyl_gene_list.index)"
   ]
  },
  {
   "cell_type": "markdown",
   "id": "237c7633-9cf9-4114-842f-e8c060f9bdd1",
   "metadata": {},
   "source": [
    "### drop other ID columns"
   ]
  },
  {
   "cell_type": "code",
   "execution_count": null,
   "id": "0aa9b92a-f95d-4e3c-907d-4ea9d7518e20",
   "metadata": {},
   "outputs": [],
   "source": [
    "methyl_ref.drop(columns = ['IlmnID', 'GENE', 'Accession'], inplace = True)\n",
    "methyl_ref.head()"
   ]
  },
  {
   "cell_type": "markdown",
   "id": "12b71961-1530-409a-a280-0a36ec414e23",
   "metadata": {},
   "source": [
    "## map to individual IDs"
   ]
  },
  {
   "cell_type": "markdown",
   "id": "b56a59b8-5d58-4d48-a9ae-81b970b58462",
   "metadata": {},
   "source": [
    "### transpose"
   ]
  },
  {
   "cell_type": "code",
   "execution_count": null,
   "id": "746071f0-b8fa-4c91-9043-7707be10534b",
   "metadata": {},
   "outputs": [],
   "source": [
    "methyl_transpose = methyl_ref.transpose()\n",
    "methyl_transpose.columns = methyl_transpose.iloc[0]\n",
    "methyl_transpose = methyl_transpose.iloc[1:]\n",
    "methyl_transpose['Sample_Name'] = methyl_transpose.index\n",
    "methyl_transpose['Sample_Name'] = methyl_transpose['Sample_Name'].str.replace('#', '').astype(int)\n",
    "methyl_transpose.head()"
   ]
  },
  {
   "cell_type": "markdown",
   "id": "e5c57675-d7d3-45d3-ad52-651c7d1b51f3",
   "metadata": {},
   "source": [
    "### add specimen IDs"
   ]
  },
  {
   "cell_type": "code",
   "execution_count": null,
   "id": "8b52543c-2f5c-4bc0-907b-0cecfdb8eb1c",
   "metadata": {},
   "outputs": [],
   "source": [
    "methyl_meta_sub = methyl_meta[['specimenID', 'Sample_Name']]"
   ]
  },
  {
   "cell_type": "code",
   "execution_count": null,
   "id": "4c4bbe9c-6f72-4c4a-a094-e1e193cae979",
   "metadata": {},
   "outputs": [],
   "source": [
    "methyl_specimen_id = methyl_meta_sub.merge(methyl_transpose, on = 'Sample_Name', how = 'inner')\n",
    "print(len(methyl_specimen_id.index))\n",
    "print(len(methyl_meta_sub.index))\n",
    "print(len(methyl_transpose.index))"
   ]
  },
  {
   "cell_type": "markdown",
   "id": "0b54b4ab-8200-458a-b2ee-b3fff5b8f8ef",
   "metadata": {},
   "source": [
    "### merge"
   ]
  },
  {
   "cell_type": "raw",
   "id": "9522b2e3-cc79-4d31-9e21-0af688a0650e",
   "metadata": {},
   "source": [
    "2 IDs not in ADSP"
   ]
  },
  {
   "cell_type": "code",
   "execution_count": null,
   "id": "31410f7c-870a-4069-8268-cadec014a16c",
   "metadata": {},
   "outputs": [],
   "source": [
    "methyl_id = id_map.merge(methyl_specimen_id, on = 'specimenID')\n",
    "print(len(methyl_transpose.index))\n",
    "print(len(methyl_id.index))\n",
    "methyl_id.head()"
   ]
  },
  {
   "cell_type": "markdown",
   "id": "d7236317-dce3-4476-9205-d56c060f5a60",
   "metadata": {},
   "source": [
    "### drop sample name column"
   ]
  },
  {
   "cell_type": "code",
   "execution_count": null,
   "id": "3b102ad2-87f3-45d2-a841-7b1286c085a5",
   "metadata": {},
   "outputs": [],
   "source": [
    "methyl_id.drop(columns = ['Sample_Name'], inplace = True)"
   ]
  },
  {
   "cell_type": "markdown",
   "id": "9faa0e92-27a5-4393-8751-4cc2b6e9923c",
   "metadata": {},
   "source": [
    "## convert to m-values"
   ]
  },
  {
   "cell_type": "markdown",
   "id": "10e8d36e-754c-4e80-ad01-8885bd9e949e",
   "metadata": {},
   "source": [
    "### create function"
   ]
  },
  {
   "cell_type": "code",
   "execution_count": null,
   "id": "a43e7db3-c5e6-4efd-bdf2-8c622980f92a",
   "metadata": {},
   "outputs": [],
   "source": [
    "def beta_to_m(beta):\n",
    "    beta = beta.copy()\n",
    "    beta[(beta <= 0) | (beta >= 1)] = np.nan\n",
    "    return np.log2(beta / (1 - beta))"
   ]
  },
  {
   "cell_type": "markdown",
   "id": "b93e11d9-b4c7-4a2f-9f39-6682720d4de3",
   "metadata": {},
   "source": [
    "### extract id cols"
   ]
  },
  {
   "cell_type": "code",
   "execution_count": null,
   "id": "dce72bc4-c3f3-41f6-bd56-e1637b1764cb",
   "metadata": {},
   "outputs": [],
   "source": [
    "methyl_id_only = methyl_id[['SampleID', 'SUBJID', 'individualID', 'specimenID']]"
   ]
  },
  {
   "cell_type": "code",
   "execution_count": null,
   "id": "c92450c5-4d71-4c8b-b0af-e7bafe936ccb",
   "metadata": {},
   "outputs": [],
   "source": [
    "methyl_no_id = methyl_id.drop(columns = ['SampleID', 'SUBJID', 'individualID', 'specimenID'])\n",
    "methyl_no_id.head()"
   ]
  },
  {
   "cell_type": "markdown",
   "id": "17ffbea8-f851-4d49-a089-f1c2a1b05065",
   "metadata": {},
   "source": [
    "### convert to float"
   ]
  },
  {
   "cell_type": "code",
   "execution_count": null,
   "id": "97cb14ba-af96-4d37-bd17-2d50709a2910",
   "metadata": {},
   "outputs": [],
   "source": [
    "methyl_no_id = methyl_no_id.astype(float)\n",
    "methyl_no_id.head()"
   ]
  },
  {
   "cell_type": "markdown",
   "id": "1e0db54e-8d48-489c-a2be-97fa772d9da7",
   "metadata": {},
   "source": [
    "### normalize"
   ]
  },
  {
   "cell_type": "code",
   "execution_count": null,
   "id": "38e3df87-f976-4dc4-a950-844626ee3639",
   "metadata": {
    "scrolled": true
   },
   "outputs": [],
   "source": [
    "methyl_norm = beta_to_m(methyl_no_id)\n",
    "methyl_norm.head()"
   ]
  },
  {
   "cell_type": "markdown",
   "id": "919c023b-5a35-4713-931c-5be8c862a098",
   "metadata": {},
   "source": [
    "### add ID cols back in"
   ]
  },
  {
   "cell_type": "code",
   "execution_count": null,
   "id": "961cdb8e-8938-49c3-80cd-913f753e3854",
   "metadata": {},
   "outputs": [],
   "source": [
    "methyl_norm_id = pd.concat([methyl_id_only, methyl_norm], axis = 1)\n",
    "methyl_norm_id.head()"
   ]
  },
  {
   "cell_type": "markdown",
   "id": "90f51551-83ea-45c4-b6d5-2497582790c0",
   "metadata": {},
   "source": [
    "## transpose and add common id"
   ]
  },
  {
   "cell_type": "code",
   "execution_count": null,
   "id": "72fb96d2-00e2-4886-9e7c-8c4fb4db6e88",
   "metadata": {},
   "outputs": [],
   "source": [
    "methyl_norm_reformat = methyl_norm_id.copy()\n",
    "methyl_norm_reformat['ID'] = methyl_norm_reformat['SampleID'] + ':' + methyl_norm_reformat['individualID']\n",
    "methyl_norm_reformat.set_index('ID', inplace = True)\n",
    "methyl_norm_reformat.drop(columns = ['SampleID', 'SUBJID', 'individualID', 'specimenID'], inplace = True)\n",
    "methyl_norm_reformat = methyl_norm_reformat.transpose()\n",
    "methyl_norm_reformat.insert(0, 'GENE', methyl_norm_reformat.index)\n",
    "methyl_norm_reformat.head()"
   ]
  },
  {
   "cell_type": "markdown",
   "id": "73a63681-0d6c-43d8-a8af-c5e3821581d1",
   "metadata": {},
   "source": [
    "# clean proteomics"
   ]
  },
  {
   "cell_type": "raw",
   "id": "e96700dd-00bf-4552-8c2d-6ddd7bbe804c",
   "metadata": {},
   "source": [
    "# drop proteins with missing genes\n",
    "# cleaned up duplicated by removing isoforms\n",
    "# remaining duplicates are APOE, APP, and PIK3R3\n",
    "# APOE has entire protein, e4 subset, and e2 subset - I will keep entire protein\n",
    "# APP has entire protein and AB 42 subset - I will keep entire protein\n",
    "# PIK3R3 - keeping Q92569 because it is reviewed by UniProtKB (F6TDL0 is not) - these have differing numbers of AA"
   ]
  },
  {
   "cell_type": "markdown",
   "id": "ab5415f1-859d-4287-aaa2-29e11272d917",
   "metadata": {},
   "source": [
    "## subset and rename"
   ]
  },
  {
   "cell_type": "code",
   "execution_count": null,
   "id": "022cc638-e2e5-4909-8c1d-b87b61790216",
   "metadata": {},
   "outputs": [],
   "source": [
    "tmt_sub = tmt.drop(columns = ['Unnamed: 0'])\n",
    "tmt_sub.rename(columns = {'Unnamed: 1' : 'GENE', 'Unnamed: 2' : 'Protein_Accession', 'Unnamed: 3' : 'Annotation'}, inplace = True)\n",
    "tmt_sub.head()"
   ]
  },
  {
   "cell_type": "markdown",
   "id": "8cceeaf3-8a27-4d22-b727-352626d0e23b",
   "metadata": {},
   "source": [
    "## drop missing genes"
   ]
  },
  {
   "cell_type": "code",
   "execution_count": null,
   "id": "dcfc9e0c-4ece-4f5c-9e47-fd291713f73b",
   "metadata": {},
   "outputs": [],
   "source": [
    "print(len(tmt_sub.index))\n",
    "tmt_sub.dropna(subset = ['GENE'], inplace = True)\n",
    "print(len(tmt_sub.index))"
   ]
  },
  {
   "cell_type": "markdown",
   "id": "de379b49-b5a1-486e-96c0-16cbd51b0bba",
   "metadata": {},
   "source": [
    "## assess duplicates"
   ]
  },
  {
   "cell_type": "code",
   "execution_count": null,
   "id": "a418fe87-223c-44c4-96cb-5dfd37d34e7f",
   "metadata": {},
   "outputs": [],
   "source": [
    "tmt_dup = tmt_sub[tmt_sub.duplicated('GENE', keep = False)]\n",
    "print(len(tmt_dup.index))\n",
    "print(len(tmt_dup['GENE'].unique()))\n",
    "tmt_dup.head()"
   ]
  },
  {
   "cell_type": "markdown",
   "id": "a81b4111-8866-4aee-b519-1e5e880c8943",
   "metadata": {},
   "source": [
    "## remove isoforms"
   ]
  },
  {
   "cell_type": "code",
   "execution_count": null,
   "id": "a3fd34f6-a437-4e6e-9f35-1503c7c49d6f",
   "metadata": {},
   "outputs": [],
   "source": [
    "tmt_dup_fixed = tmt_dup[~tmt_dup['Annotation'].str.contains('Isoform')]\n",
    "print(len(tmt_dup_fixed.index))\n",
    "print(len(tmt_dup_fixed['GENE'].unique()))\n",
    "tmt_dup_fixed.head()"
   ]
  },
  {
   "cell_type": "markdown",
   "id": "c2eed425-7044-4a85-ba2b-a09c1b604d72",
   "metadata": {},
   "source": [
    "## assess remaining dups"
   ]
  },
  {
   "cell_type": "code",
   "execution_count": null,
   "id": "2638c923-5ab8-43a2-a305-7a34269f5180",
   "metadata": {},
   "outputs": [],
   "source": [
    "tmt_still_dup = tmt_dup_fixed[tmt_dup_fixed.duplicated('GENE', keep = False)]\n",
    "print(len(tmt_still_dup.index))\n",
    "print(len(tmt_still_dup['GENE'].unique()))\n",
    "print(tmt_still_dup['GENE'].unique())\n",
    "tmt_still_dup"
   ]
  },
  {
   "cell_type": "markdown",
   "id": "738827d3-bb75-4a60-ba14-06eb9ae2eaec",
   "metadata": {},
   "source": [
    "## clean remaining dups"
   ]
  },
  {
   "cell_type": "code",
   "execution_count": null,
   "id": "3b7bdebe-8390-4016-993b-706fe7794279",
   "metadata": {},
   "outputs": [],
   "source": [
    "tmt_dup_fixed_again = tmt_still_dup[tmt_still_dup.index.isin([690, 699, 7855])]\n",
    "print(len(tmt_dup_fixed_again.index))\n",
    "tmt_dup_fixed_again.head()"
   ]
  },
  {
   "cell_type": "markdown",
   "id": "e81679f2-c57e-4530-bf32-f68fdabec542",
   "metadata": {},
   "source": [
    "## concat"
   ]
  },
  {
   "cell_type": "code",
   "execution_count": null,
   "id": "724e7213-a3b0-4ff9-b1d5-6ab807ce3d49",
   "metadata": {},
   "outputs": [],
   "source": [
    "tmt_no_dups = tmt_sub[~tmt_sub['GENE'].isin(tmt_dup['GENE'])]\n",
    "print(len(tmt_sub.index))\n",
    "print(len(tmt_no_dups.index))"
   ]
  },
  {
   "cell_type": "code",
   "execution_count": null,
   "id": "3279bdfe-da52-41ed-bd72-19fa4b7c4ce0",
   "metadata": {},
   "outputs": [],
   "source": [
    "print(len(tmt_dup_fixed.index))\n",
    "tmt_dup_fixed = tmt_dup_fixed[~tmt_dup_fixed['GENE'].isin(tmt_still_dup['GENE'])]\n",
    "print(len(tmt_dup_fixed.index))"
   ]
  },
  {
   "cell_type": "code",
   "execution_count": null,
   "id": "a86ff9e4-8792-4af3-b76c-2ecca4847fa0",
   "metadata": {},
   "outputs": [],
   "source": [
    "tmt_clean = pd.concat([tmt_no_dups, tmt_dup_fixed, tmt_dup_fixed_again], axis = 0)\n",
    "print(len(tmt_sub.index))\n",
    "print(len(tmt_clean.index))\n",
    "print(len(tmt_clean['GENE'].unique()))\n",
    "tmt_clean.head()"
   ]
  },
  {
   "cell_type": "markdown",
   "id": "25cf0377-e04a-4fe0-87d2-c3ff0153485d",
   "metadata": {},
   "source": [
    "## create gene list"
   ]
  },
  {
   "cell_type": "code",
   "execution_count": null,
   "id": "6a1b499a-b3b4-4312-9dc6-19b57b025b24",
   "metadata": {},
   "outputs": [],
   "source": [
    "tmt_gene_list = tmt_clean[['GENE']]\n",
    "tmt_gene_list.head()"
   ]
  },
  {
   "cell_type": "markdown",
   "id": "cb76afc5-f954-4756-b746-4fef1a0eaf75",
   "metadata": {},
   "source": [
    "## map to individual IDs"
   ]
  },
  {
   "cell_type": "markdown",
   "id": "da5f95b3-4eca-4427-89df-442d51bf480f",
   "metadata": {},
   "source": [
    "### remove protein and annotation columns"
   ]
  },
  {
   "cell_type": "code",
   "execution_count": null,
   "id": "719f58fc-f736-4873-9110-bf42c600c9f9",
   "metadata": {},
   "outputs": [],
   "source": [
    "tmt_clean.drop(columns = ['Protein_Accession', 'Annotation'], inplace = True)"
   ]
  },
  {
   "cell_type": "markdown",
   "id": "f1f798b4-b2e4-4fad-88ac-686f4ddd96e1",
   "metadata": {},
   "source": [
    "### transpose"
   ]
  },
  {
   "cell_type": "code",
   "execution_count": null,
   "id": "65008e76-10a0-42f0-a268-3ae05d9cf1d1",
   "metadata": {},
   "outputs": [],
   "source": [
    "tmt_transpose = tmt_clean.transpose()\n",
    "tmt_transpose.head()"
   ]
  },
  {
   "cell_type": "markdown",
   "id": "daf4c43b-f1a7-445d-8f68-a527c8a40574",
   "metadata": {},
   "source": [
    "### clean up"
   ]
  },
  {
   "cell_type": "code",
   "execution_count": null,
   "id": "a2d55a7b-5613-419c-b687-754dc11afb8b",
   "metadata": {},
   "outputs": [],
   "source": [
    "tmt_transpose.columns = tmt_transpose.iloc[0]\n",
    "tmt_transpose = tmt_transpose.iloc[1:]\n",
    "tmt_transpose['specimenID'] = tmt_transpose.index\n",
    "tmt_transpose.head()"
   ]
  },
  {
   "cell_type": "markdown",
   "id": "d8df95f6-4357-499d-91d6-5ae18722d644",
   "metadata": {},
   "source": [
    "### merge"
   ]
  },
  {
   "cell_type": "code",
   "execution_count": null,
   "id": "d10433d2-c481-4f00-81ea-1a00553efe85",
   "metadata": {
    "scrolled": true
   },
   "outputs": [],
   "source": [
    "tmt_id = id_map.merge(tmt_transpose, on = 'specimenID')\n",
    "print(len(tmt_transpose.index))\n",
    "print(len(tmt_id.index))\n",
    "tmt_id.head()"
   ]
  },
  {
   "cell_type": "markdown",
   "id": "e5fb2c47-a10a-4ad1-bdb8-8c4fb2c36b7a",
   "metadata": {},
   "source": [
    "### check out ids that didn't map"
   ]
  },
  {
   "cell_type": "raw",
   "id": "5de9b6e6-cc35-4f83-bc47-c9b9f52cd1ff",
   "metadata": {},
   "source": [
    "# ids didn't map because they weren't in ADSP pheno file or had unknown individualID"
   ]
  },
  {
   "cell_type": "code",
   "execution_count": null,
   "id": "75968913-3115-41b2-8d31-f3df21aacfed",
   "metadata": {},
   "outputs": [],
   "source": [
    "tmt_no_map = tmt_transpose[~tmt_transpose['specimenID'].isin(tmt_id['specimenID'])]\n",
    "print(len(tmt_no_map.index))\n",
    "print(len(raw_id_map[raw_id_map['AlternateID'].isin(tmt_no_map['specimenID'])].index))\n",
    "print(raw_id_map[raw_id_map['AlternateID'].isin(tmt_no_map['specimenID'])])\n",
    "tmt_no_map"
   ]
  },
  {
   "cell_type": "code",
   "execution_count": null,
   "id": "1f537d44-ca15-4f63-a0e7-2dd63ed3c964",
   "metadata": {},
   "outputs": [],
   "source": [
    "tmt_biospec_no_map = biospec[biospec['specimenID'].isin(tmt_no_map['specimenID'])]\n",
    "print(len(tmt_biospec_no_map.index))\n",
    "tmt_biospec_no_map"
   ]
  },
  {
   "cell_type": "code",
   "execution_count": null,
   "id": "fcd808e8-5d2b-496b-9020-1c93987dd7a8",
   "metadata": {},
   "outputs": [],
   "source": [
    "raw_id_map[raw_id_map['AlternateID'].isin(tmt_biospec_no_map['individualID'])]"
   ]
  },
  {
   "cell_type": "code",
   "execution_count": null,
   "id": "fed8d1d5-9588-4f66-929c-939079d088e4",
   "metadata": {},
   "outputs": [],
   "source": [
    "biospec[biospec['individualID'].isin(['AMPAD_MSSM_0000020337'])]"
   ]
  },
  {
   "cell_type": "markdown",
   "id": "b7d075ef-1308-4a40-82f8-18ad004fb484",
   "metadata": {},
   "source": [
    "### drop ID columns for transformation"
   ]
  },
  {
   "cell_type": "code",
   "execution_count": null,
   "id": "003b980d-74c9-45d2-819a-bf398b81697f",
   "metadata": {},
   "outputs": [],
   "source": [
    "tmt_id_only = tmt_id[['SampleID','SUBJID', 'individualID', 'specimenID']]"
   ]
  },
  {
   "cell_type": "code",
   "execution_count": null,
   "id": "0a197990-8329-4c92-8f8e-9653a6908e59",
   "metadata": {},
   "outputs": [],
   "source": [
    "tmt_no_id = tmt_id.drop(columns = ['SampleID','SUBJID', 'individualID', 'specimenID'])\n",
    "tmt_no_id.head()"
   ]
  },
  {
   "cell_type": "markdown",
   "id": "bd0bcc73-127b-45cb-b2f1-b6b8ac486f0d",
   "metadata": {},
   "source": [
    "### convert to numeric"
   ]
  },
  {
   "cell_type": "code",
   "execution_count": null,
   "id": "84d95934-8153-48ce-bdca-1f747a0288b2",
   "metadata": {},
   "outputs": [],
   "source": [
    "tmt_numeric = tmt_no_id.apply(pd.to_numeric, errors='coerce')"
   ]
  },
  {
   "cell_type": "markdown",
   "id": "e3bc5a16-3cbb-40ed-b5f0-e195e4351afc",
   "metadata": {},
   "source": [
    "### log2 transform"
   ]
  },
  {
   "cell_type": "code",
   "execution_count": null,
   "id": "2d942682-ac82-4e99-b06e-6e9f0c9aef3b",
   "metadata": {},
   "outputs": [],
   "source": [
    "tmt_norm = np.log2(tmt_numeric)\n",
    "tmt_norm.head()"
   ]
  },
  {
   "cell_type": "markdown",
   "id": "94f0046a-2e71-4122-91f2-a15d92060261",
   "metadata": {},
   "source": [
    "### add ID cols back in"
   ]
  },
  {
   "cell_type": "code",
   "execution_count": null,
   "id": "371b7cfb-b7f7-467a-bbf7-6564f9c10bad",
   "metadata": {},
   "outputs": [],
   "source": [
    "tmt_norm_id = pd.concat([tmt_id_only, tmt_norm], axis = 1)\n",
    "tmt_norm_id.head()"
   ]
  },
  {
   "cell_type": "markdown",
   "id": "f5305c9c-8f87-4f0d-a508-621ad28c0dbc",
   "metadata": {},
   "source": [
    "## reformat and add common ID col"
   ]
  },
  {
   "cell_type": "code",
   "execution_count": null,
   "id": "aa1517d9-af15-401e-907e-f4700d9edf70",
   "metadata": {},
   "outputs": [],
   "source": [
    "tmt_norm_id = pd.read_csv('/project/ritchie/projects/AD_KMI/pathway_score/msbb/MSBB.TMT_proteomics.19batch.normalized.gene_symbol.individualID.log2_transformed.txt',\n",
    "                   sep = '\\t')\n",
    "tmt_norm_id.head()"
   ]
  },
  {
   "cell_type": "code",
   "execution_count": null,
   "id": "8ad6c1e2-3159-4d29-a64b-bee867b05b45",
   "metadata": {},
   "outputs": [],
   "source": [
    "tmt_norm_reformat = tmt_norm_id.copy()\n",
    "tmt_norm_reformat['ID'] = tmt_norm_reformat['SampleID'] + ':' + tmt_norm_reformat['individualID']\n",
    "tmt_norm_reformat.set_index('ID', inplace = True)\n",
    "tmt_norm_reformat.drop(columns = ['SampleID', 'SUBJID', 'individualID', 'specimenID'], inplace = True)\n",
    "tmt_norm_reformat = tmt_norm_reformat.transpose()\n",
    "tmt_norm_reformat.insert(0, 'GENE', tmt_norm_reformat.index)\n",
    "tmt_norm_reformat.head()"
   ]
  },
  {
   "cell_type": "markdown",
   "id": "21fb4009-a5a5-4aa2-9d9c-97740edff13b",
   "metadata": {},
   "source": [
    "# export"
   ]
  },
  {
   "cell_type": "markdown",
   "id": "bfab5008-61d4-4379-9f1e-d3dc17a3f28e",
   "metadata": {},
   "source": [
    "## rnaseq"
   ]
  },
  {
   "cell_type": "code",
   "execution_count": null,
   "id": "6666acc8-2a4d-4268-bb44-91f96ebd6bd8",
   "metadata": {},
   "outputs": [],
   "source": [
    "rnaseq_10_corrected.to_csv('msbb/MSBB.RNAseq.BA_10.19batch.gene_symbol.individualID.mvalue_norm.tpm.log2.coding_genes_only.covar_corrected.txt',\n",
    "                           sep = '\\t',\n",
    "                           index = None)"
   ]
  },
  {
   "cell_type": "code",
   "execution_count": null,
   "id": "b2505be4-76cf-4b10-b4d5-c1960c66354d",
   "metadata": {},
   "outputs": [],
   "source": [
    "rnaseq_10_reformat.to_csv('msbb/MSBB.RNAseq.BA_10.19batch.gene_symbol.individualID.mvalue_norm.tpm.log2.coding_genes_only.covar_corrected.common_id.transpose.txt',\n",
    "                           sep = '\\t',\n",
    "                           index = None)"
   ]
  },
  {
   "cell_type": "code",
   "execution_count": null,
   "id": "a4fd84c3-8fba-4bea-8288-ace655c87187",
   "metadata": {},
   "outputs": [],
   "source": [
    "rnaseq_22_corrected.to_csv('msbb/MSBB.RNAseq.BA_22.19batch.gene_symbol.individualID.mvalue_norm.tpm.log2.coding_genes_only.covar_corrected.txt',\n",
    "                           sep = '\\t',\n",
    "                           index = None)"
   ]
  },
  {
   "cell_type": "code",
   "execution_count": null,
   "id": "02a53289-fd1b-4ad6-a96a-26fabbfe293a",
   "metadata": {},
   "outputs": [],
   "source": [
    "rnaseq_22_reformat.to_csv('msbb/MSBB.RNAseq.BA_22.19batch.gene_symbol.individualID.mvalue_norm.tpm.log2.coding_genes_only.covar_corrected.common_id.transpose.txt',\n",
    "                           sep = '\\t',\n",
    "                           index = None)"
   ]
  },
  {
   "cell_type": "code",
   "execution_count": null,
   "id": "cb260cd9-c727-4fe2-be8a-a9bc0df8c88f",
   "metadata": {},
   "outputs": [],
   "source": [
    "rnaseq_36_corrected.to_csv('msbb/MSBB.RNAseq.BA_36.19batch.gene_symbol.individualID.mvalue_norm.tpm.log2.coding_genes_only.covar_corrected.txt',\n",
    "                           sep = '\\t',\n",
    "                           index = None)"
   ]
  },
  {
   "cell_type": "code",
   "execution_count": null,
   "id": "03bea7c8-a977-4765-9ba2-d47a0655d9f6",
   "metadata": {},
   "outputs": [],
   "source": [
    "rnaseq_36_reformat.to_csv('msbb/MSBB.RNAseq.BA_36.19batch.gene_symbol.individualID.mvalue_norm.tpm.log2.coding_genes_only.covar_corrected.common_id.transpose.txt',\n",
    "                           sep = '\\t',\n",
    "                           index = None)"
   ]
  },
  {
   "cell_type": "code",
   "execution_count": null,
   "id": "becdbad2-f1c3-4e80-8855-6f93740e8117",
   "metadata": {},
   "outputs": [],
   "source": [
    "rnaseq_44_corrected.to_csv('msbb/MSBB.RNAseq.BA_44.19batch.gene_symbol.individualID.mvalue_norm.tpm.log2.coding_genes_only.covar_corrected.txt',\n",
    "                           sep = '\\t',\n",
    "                           index = None)"
   ]
  },
  {
   "cell_type": "code",
   "execution_count": null,
   "id": "89f93d40-8efa-4af9-86d8-5412272676b7",
   "metadata": {},
   "outputs": [],
   "source": [
    "rnaseq_44_reformat.to_csv('msbb/MSBB.RNAseq.BA_44.19batch.gene_symbol.individualID.mvalue_norm.tpm.log2.coding_genes_only.covar_corrected.common_id.transpose.txt',\n",
    "                           sep = '\\t',\n",
    "                           index = None)"
   ]
  },
  {
   "cell_type": "code",
   "execution_count": null,
   "id": "a46d2d9f-05c3-478d-87f3-f150b356fd47",
   "metadata": {},
   "outputs": [],
   "source": [
    "rnaseq_gene_list.to_csv('msbb/MSBB.RNAseq.BA_ALL.19batch.gene_symbol.individualID.mvalue_norm.tpm.log2.coding_genes_only.covar_corrected.gene_list.txt',\n",
    "                        sep = '\\t',\n",
    "                        index = None)"
   ]
  },
  {
   "cell_type": "markdown",
   "id": "22fb63b6-39c5-49df-b695-a61f914a5ddb",
   "metadata": {},
   "source": [
    "## methylation"
   ]
  },
  {
   "cell_type": "code",
   "execution_count": null,
   "id": "d86218b4-7ece-4c5d-959a-52d059446944",
   "metadata": {},
   "outputs": [],
   "source": [
    "methyl_norm_id.to_csv('msbb/MSBB.methylation_array.19batch.gene_symbol.individualID.mvalue_norm.txt',\n",
    "                      sep = '\\t',\n",
    "                     index = None)"
   ]
  },
  {
   "cell_type": "code",
   "execution_count": null,
   "id": "aa569ef5-a64c-4642-a1ee-81d16c3e648c",
   "metadata": {},
   "outputs": [],
   "source": [
    "methyl_norm_reformat.to_csv('msbb/MSBB.methylation_array.19batch.gene_symbol.individualID.mvalue_norm.common_id.transpose.txt',\n",
    "                            sep = '\\t',\n",
    "                            index = None)"
   ]
  },
  {
   "cell_type": "code",
   "execution_count": null,
   "id": "7703aa44-cda3-4e87-863b-0a0dab92a1fb",
   "metadata": {},
   "outputs": [],
   "source": [
    "methyl_gene_list.to_csv('msbb/MSBB.methylation_array.19batch.gene_symbol.individualID.mvalue_norm.gene_list.txt',\n",
    "                        sep = '\\t',\n",
    "                        index = None)"
   ]
  },
  {
   "cell_type": "markdown",
   "id": "748aadd3-1895-48b7-84e6-38651dbbeff5",
   "metadata": {},
   "source": [
    "## proteomics"
   ]
  },
  {
   "cell_type": "code",
   "execution_count": null,
   "id": "e8a5ba0e-09b8-4b77-bfd7-e107736d4f5d",
   "metadata": {},
   "outputs": [],
   "source": [
    "tmt_norm_id.to_csv('msbb/MSBB.TMT_proteomics.19batch.normalized.gene_symbol.individualID.log2_transformed.txt',\n",
    "                   sep = '\\t',\n",
    "                   index = None)"
   ]
  },
  {
   "cell_type": "code",
   "execution_count": null,
   "id": "b77875e2-b8a3-4e68-8868-abda43853959",
   "metadata": {},
   "outputs": [],
   "source": [
    "tmt_norm_reformat.to_csv('msbb/MSBB.TMT_proteomics.19batch.normalized.gene_symbol.individualID.log2_transformed.common_id.transpose.txt',\n",
    "                         sep = '\\t',\n",
    "                         index = None)"
   ]
  },
  {
   "cell_type": "code",
   "execution_count": null,
   "id": "499370df-4d66-4297-8ee9-dd9ee1653541",
   "metadata": {},
   "outputs": [],
   "source": [
    "tmt_gene_list.to_csv('msbb/MSBB.TMT_proteomics.19batch.normalized.gene_symbol.individualID.log2_transformed.gene_list.txt',\n",
    "                     sep = '\\t',\n",
    "                     index = None)"
   ]
  },
  {
   "cell_type": "code",
   "execution_count": null,
   "id": "7a0624f6-ce0b-483e-8dcb-8691e2562b27",
   "metadata": {},
   "outputs": [],
   "source": []
  }
 ],
 "metadata": {
  "kernelspec": {
   "display_name": "Python 3 (ipykernel)",
   "language": "python",
   "name": "python3"
  },
  "language_info": {
   "codemirror_mode": {
    "name": "ipython",
    "version": 3
   },
   "file_extension": ".py",
   "mimetype": "text/x-python",
   "name": "python",
   "nbconvert_exporter": "python",
   "pygments_lexer": "ipython3",
   "version": "3.12.3"
  }
 },
 "nbformat": 4,
 "nbformat_minor": 5
}

{
 "cells": [
  {
   "cell_type": "markdown",
   "id": "2c7b926b-0f1b-4778-b9ff-8b1ed5268d64",
   "metadata": {},
   "source": [
    "# load packages"
   ]
  },
  {
   "cell_type": "code",
   "execution_count": null,
   "id": "b7a6a974-6ecb-455c-acea-285e1a97fa17",
   "metadata": {},
   "outputs": [],
   "source": [
    "library(tidyverse)"
   ]
  },
  {
   "cell_type": "code",
   "execution_count": null,
   "id": "5e275c0e-2996-453a-9f45-5343df191b0b",
   "metadata": {},
   "outputs": [],
   "source": [
    "library(data.table)"
   ]
  },
  {
   "cell_type": "markdown",
   "id": "59434d09-a69b-46fc-ab7b-e72b0ef78199",
   "metadata": {},
   "source": [
    "# read in input files"
   ]
  },
  {
   "cell_type": "code",
   "execution_count": null,
   "id": "96fda289-a81a-4672-854f-eeab79869c47",
   "metadata": {},
   "outputs": [],
   "source": [
    "id_map = read.csv('rosmap/ID_mapping/ROSMAP.Methylation_Array.individualID_map.txt',\n",
    "                  sep = '\\t',\n",
    "                  na.strings = c(''))\n",
    "head(id_map)"
   ]
  },
  {
   "cell_type": "code",
   "execution_count": null,
   "id": "e3efd1a9-a842-43d3-8362-84c79ca7f78c",
   "metadata": {},
   "outputs": [],
   "source": [
    "methylation = fread('rosmap/ROSMAP_arrayMethylation_imputed.tsv.gz',\n",
    "                    sep = '\\t',\n",
    "                    na.strings = c(''))\n",
    "head(methylation)"
   ]
  },
  {
   "cell_type": "code",
   "execution_count": null,
   "id": "4a53cb50-725e-41bc-a439-6693063ecac4",
   "metadata": {},
   "outputs": [],
   "source": [
    "gene_map = read.csv('rosmap/ROSMAP_arrayMethylation_metaData.tsv',\n",
    "                    sep = '\\t',\n",
    "                    na.strings = c(''))\n",
    "head(gene_map)"
   ]
  },
  {
   "cell_type": "code",
   "execution_count": null,
   "id": "582b5834-1e6c-42ea-b823-7effd3b0cf1f",
   "metadata": {},
   "outputs": [],
   "source": [
    "ref = fread('ensembl_start_stop/Homo_sapiens.GRCh38.113.refseq.tsv.gz',\n",
    "            sep = '\\t')\n",
    "head(ref)"
   ]
  },
  {
   "cell_type": "code",
   "execution_count": null,
   "id": "62714a4f-3645-40c1-8410-e1601c6a6407",
   "metadata": {},
   "outputs": [],
   "source": [
    "raw_methyl = fread('rosmap/Epigenetics/Epigenetics (DNA methylation array)/ROSMAP_arrayMethylation_raw.gz',\n",
    "                   sep = '\\t')\n",
    "raw_methyl.head()"
   ]
  },
  {
   "cell_type": "markdown",
   "id": "77c50b66-37b7-4327-93b4-860193efb260",
   "metadata": {},
   "source": [
    "# look at data"
   ]
  },
  {
   "cell_type": "code",
   "execution_count": null,
   "id": "ee7579a1-36d5-441e-ac19-e2595ca2d2c1",
   "metadata": {},
   "outputs": [],
   "source": [
    "dim(id_map)"
   ]
  },
  {
   "cell_type": "code",
   "execution_count": null,
   "id": "7e0aefa1-ff4e-4b06-9dfa-5498a8664870",
   "metadata": {},
   "outputs": [],
   "source": [
    "dim(methylation)"
   ]
  },
  {
   "cell_type": "code",
   "execution_count": null,
   "id": "e422de3c-1c18-496b-9e02-7283912132bf",
   "metadata": {},
   "outputs": [],
   "source": [
    "dim(gene_map)"
   ]
  },
  {
   "cell_type": "code",
   "execution_count": null,
   "id": "b4a4cfb5-fddb-46c5-ba5f-a03411d87a3d",
   "metadata": {},
   "outputs": [],
   "source": [
    "gene_map %>%\n",
    "filter(!is.na(RefGene)) %>%\n",
    "nrow()"
   ]
  },
  {
   "cell_type": "code",
   "execution_count": null,
   "id": "52e4fe23-e295-484f-ae8e-069ade60ed69",
   "metadata": {},
   "outputs": [],
   "source": [
    "length(unique(methylation$TargetID))"
   ]
  },
  {
   "cell_type": "code",
   "execution_count": null,
   "id": "bed05fe2-4a1e-45ee-9cd6-5acc0eee9bff",
   "metadata": {},
   "outputs": [],
   "source": [
    "length(unique(gene_map$TargetID))"
   ]
  },
  {
   "cell_type": "code",
   "execution_count": null,
   "id": "b8fcdad1-7148-479f-bccb-25d1671f709f",
   "metadata": {},
   "outputs": [],
   "source": [
    "length(unique(gene_map$RefGene))"
   ]
  },
  {
   "cell_type": "markdown",
   "id": "12cb7336-bb10-4b08-9d81-f43cc6545a9f",
   "metadata": {},
   "source": [
    "# clean up meta data"
   ]
  },
  {
   "cell_type": "markdown",
   "id": "967eecc9-fc7c-43bb-a628-2b885f3fb86b",
   "metadata": {},
   "source": [
    "## filter to non-missing ref genes"
   ]
  },
  {
   "cell_type": "code",
   "execution_count": null,
   "id": "641fe5e5-d805-4f7f-9c6e-72d7a7199e93",
   "metadata": {},
   "outputs": [],
   "source": [
    "ref_gene_map = gene_map %>%\n",
    "filter(!is.na(RefGene))\n",
    "dim(ref_gene_map)\n",
    "length(unique(ref_gene_map$RefGene))\n",
    "head(ref_gene_map)"
   ]
  },
  {
   "cell_type": "markdown",
   "id": "2f73517e-5399-4b7c-b194-a0bb6a782653",
   "metadata": {},
   "source": [
    "## subset"
   ]
  },
  {
   "cell_type": "code",
   "execution_count": null,
   "id": "269c5e8f-c01d-4a4e-bb80-331f17b9f582",
   "metadata": {},
   "outputs": [],
   "source": [
    "ref_gene_map_sub = ref_gene_map %>%\n",
    "dplyr::select(TargetID,RefGene,Accession)\n",
    "head(ref_gene_map_sub)"
   ]
  },
  {
   "cell_type": "markdown",
   "id": "d3257f6e-349e-4d26-b0c8-8ebba6364c4a",
   "metadata": {},
   "source": [
    "## split rows with multiple genes"
   ]
  },
  {
   "cell_type": "code",
   "execution_count": null,
   "id": "4d96b712-e351-481f-83cf-17fdafb9f2aa",
   "metadata": {},
   "outputs": [],
   "source": [
    "ref_gene_map_explode = ref_gene_map_sub %>%\n",
    "separate_rows(RefGene, Accession, sep = \";\")\n",
    "nrow(ref_gene_map_explode)\n",
    "length(unique(ref_gene_map_explode$RefGene))\n",
    "length(unique(ref_gene_map_explode$Accession))\n",
    "length(unique(ref_gene_map_explode$TargetID))\n",
    "head(ref_gene_map_explode)"
   ]
  },
  {
   "cell_type": "code",
   "execution_count": null,
   "id": "7754697c-7940-41c2-ac4d-825ed85493dd",
   "metadata": {},
   "outputs": [],
   "source": [
    "ref_gene_map_explode %>%\n",
    "filter(grepl('cg00001583', TargetID))"
   ]
  },
  {
   "cell_type": "markdown",
   "id": "7e85ea98-11f7-46a9-9a14-749685435eaf",
   "metadata": {},
   "source": [
    "## change month/day genes"
   ]
  },
  {
   "cell_type": "markdown",
   "id": "f6ec70b1-73f3-436f-ae93-ca1930318a4b",
   "metadata": {},
   "source": [
    "### filter to date genes"
   ]
  },
  {
   "cell_type": "code",
   "execution_count": null,
   "id": "34203fbb-19bf-4d22-87cb-d88ffcb739df",
   "metadata": {},
   "outputs": [],
   "source": [
    "ref_gene_map_explode %>%\n",
    "arrange(RefGene) %>%\n",
    "distinct(RefGene) %>%\n",
    "head(n = 20)"
   ]
  },
  {
   "cell_type": "code",
   "execution_count": null,
   "id": "79d4daf8-0fee-4c2b-98f6-9cd6afda73fd",
   "metadata": {},
   "outputs": [],
   "source": [
    "ref_gene_map_explode_date = ref_gene_map_explode %>%\n",
    "filter(grepl('Dec|Mar|Sep', RefGene))\n",
    "unique(ref_gene_map_explode_date$RefGene)\n",
    "head(ref_gene_map_explode_date)"
   ]
  },
  {
   "cell_type": "markdown",
   "id": "c23b5ea5-8bd0-424d-9d66-2b62d2323228",
   "metadata": {},
   "source": [
    "## create map"
   ]
  },
  {
   "cell_type": "markdown",
   "id": "5f10b97e-055c-465d-821d-2f38aca58de3",
   "metadata": {},
   "source": [
    "### create vectors"
   ]
  },
  {
   "cell_type": "code",
   "execution_count": null,
   "id": "c5913ca3-f6bb-4584-8fc6-455331d6ecb3",
   "metadata": {},
   "outputs": [],
   "source": [
    "date_accession_vec = as.vector(unique(ref_gene_map_explode_date$Accession))\n",
    "date_accession_vec"
   ]
  },
  {
   "cell_type": "code",
   "execution_count": null,
   "id": "1a2a9b49-499a-47d6-a945-8c77a375a6d5",
   "metadata": {},
   "outputs": [],
   "source": [
    "gene_vec = c('MARCHF4',\n",
    "             'MARCHF7',\n",
    "             'MARCHF1',\n",
    "             'SEPTIN11',\n",
    "             'MARCHF11',\n",
    "             'MARCHF3',\n",
    "             'MARCHF6',\n",
    "             'SEPTIN8',\n",
    "             'SEPTIN8',\n",
    "             'SEPTIN7P2',\n",
    "             'SEPTIN14',\n",
    "             'DELEC1',\n",
    "             'MARCHF5',\n",
    "            'MARCHF9',\n",
    "            'SEPTIN1',\n",
    "            'SEPTIN9',\n",
    "            'MARCHF10',\n",
    "            'SEPTIN5')\n",
    "gene_vec"
   ]
  },
  {
   "cell_type": "markdown",
   "id": "153e3ace-3b77-4c9a-bb53-0dfa8c5de4c7",
   "metadata": {},
   "source": [
    "### create df"
   ]
  },
  {
   "cell_type": "code",
   "execution_count": null,
   "id": "5257b1b4-fe81-4dd9-b8cf-505e0c4c5223",
   "metadata": {},
   "outputs": [],
   "source": [
    "all_accession_gene_map = data.frame(date_accession_vec,gene_vec)\n",
    "all_accession_gene_map=all_accession_gene_map %>%\n",
    "rename('Accession' = 'date_accession_vec')\n",
    "all_accession_gene_map"
   ]
  },
  {
   "cell_type": "markdown",
   "id": "069783a6-025b-4c8b-9990-dff301491bac",
   "metadata": {},
   "source": [
    "## merge"
   ]
  },
  {
   "cell_type": "code",
   "execution_count": null,
   "id": "b9d19dfa-476f-4350-8783-33420f07a2cd",
   "metadata": {},
   "outputs": [],
   "source": [
    "ref_gene_map_explode_date_correct_genes = ref_gene_map_explode_date %>%\n",
    "inner_join(all_accession_gene_map, by='Accession')\n",
    "nrow(ref_gene_map_explode_date_correct_genes)\n",
    "nrow(ref_gene_map_explode_date_correct_genes)\n",
    "head(ref_gene_map_explode_date_correct_genes)"
   ]
  },
  {
   "cell_type": "markdown",
   "id": "0b8baaf1-4751-4405-8b32-43cc63f1ef55",
   "metadata": {},
   "source": [
    "## subset"
   ]
  },
  {
   "cell_type": "code",
   "execution_count": null,
   "id": "4194afcd-174a-4852-8fd4-1656772c77ca",
   "metadata": {},
   "outputs": [],
   "source": [
    "ref_gene_map_explode_date_correct_genes = ref_gene_map_explode_date_correct_genes %>%\n",
    "dplyr::select(TargetID, gene_vec, Accession) %>%\n",
    "rename('RefGene' = 'gene_vec')\n",
    "head(ref_gene_map_explode_date_correct_genes)"
   ]
  },
  {
   "cell_type": "markdown",
   "id": "b3bbce23-6937-4375-ae77-026bb5c5de5c",
   "metadata": {},
   "source": [
    "## create df without date genes"
   ]
  },
  {
   "cell_type": "code",
   "execution_count": null,
   "id": "ef78c25d-4478-48bc-9ec6-5f128b375f9f",
   "metadata": {
    "scrolled": true
   },
   "outputs": [],
   "source": [
    "ref_gene_map_explode_no_date = ref_gene_map_explode %>%\n",
    "filter(!grepl('Dec|Mar|Sep', RefGene))\n",
    "head(ref_gene_map_explode_no_date)"
   ]
  },
  {
   "cell_type": "markdown",
   "id": "d3256016-b48a-4763-a3f3-4c6e8efefefd",
   "metadata": {},
   "source": [
    "## concatenate date + fixed date"
   ]
  },
  {
   "cell_type": "code",
   "execution_count": null,
   "id": "5f4f70b8-131c-4200-836b-9c6f08afea8d",
   "metadata": {},
   "outputs": [],
   "source": [
    "ref_gene_map_explode_fixed = ref_gene_map_explode_no_date %>%\n",
    "rbind(ref_gene_map_explode_date_correct_genes)\n",
    "nrow(ref_gene_map_explode_fixed)\n",
    "nrow(ref_gene_map_explode)\n",
    "head(ref_gene_map_explode_fixed)"
   ]
  },
  {
   "cell_type": "markdown",
   "id": "d9eb5c91-eb22-4d8c-a272-53635e6a030d",
   "metadata": {},
   "source": [
    "## clean up ref seq file"
   ]
  },
  {
   "cell_type": "code",
   "execution_count": null,
   "id": "1e6fc4fb-1b83-44f8-91ef-3d9723eef259",
   "metadata": {},
   "outputs": [],
   "source": [
    "ref_direct = ref %>%\n",
    "filter(info_type == 'DIRECT')\n",
    "nrow(ref)\n",
    "nrow(ref_direct)\n",
    "head(ref_direct)"
   ]
  },
  {
   "cell_type": "markdown",
   "id": "f5117fdb-0a91-4625-b1e2-614f4fe2e1f8",
   "metadata": {},
   "source": [
    "## filter gene map to ref transcripts"
   ]
  },
  {
   "cell_type": "code",
   "execution_count": null,
   "id": "4bbbd5b7-3c2b-47ba-bcd1-5aa302a41178",
   "metadata": {},
   "outputs": [],
   "source": [
    "ref_gene_map_ref_trans = ref_gene_map_explode_fixed[ref_gene_map_explode_fixed$Accession %in% ref_direct$xref,]\n",
    "nrow(ref_gene_map_explode_fixed)\n",
    "nrow(ref_gene_map_ref_trans)\n",
    "length(unique(ref_gene_map_ref_trans$Accession))\n",
    "head(ref_gene_map_ref_trans)"
   ]
  },
  {
   "cell_type": "code",
   "execution_count": null,
   "id": "0ca11cff-3e30-472d-81d2-36ee16c6ed1a",
   "metadata": {},
   "outputs": [],
   "source": [
    "length(unique(ref_gene_map_ref_trans$RefGene))\n",
    "length(unique(ref_gene_map_ref_trans$TargetID))"
   ]
  },
  {
   "cell_type": "code",
   "execution_count": null,
   "id": "f75c38d2-40e0-4806-8173-556c72d75373",
   "metadata": {},
   "outputs": [],
   "source": [
    "dups <- ref_gene_map_ref_trans[duplicated(ref_gene_map_ref_trans$TargetID) | duplicated(ref_gene_map_ref_trans$TargetID, fromLast = TRUE), ]\n",
    "head(dups)"
   ]
  },
  {
   "cell_type": "code",
   "execution_count": null,
   "id": "1899fc24-c564-48dc-9ea2-31d126ba9b09",
   "metadata": {},
   "outputs": [],
   "source": [
    "ref_gene_map_ref_trans_no_dup = ref_gene_map_ref_trans %>%\n",
    "distinct()\n",
    "nrow(ref_gene_map_ref_trans)\n",
    "nrow(ref_gene_map_ref_trans_no_dup)\n",
    "head(ref_gene_map_ref_trans_no_dup)"
   ]
  },
  {
   "cell_type": "code",
   "execution_count": null,
   "id": "6d942fdb-498e-4ab5-8aa4-09a1884dd7b9",
   "metadata": {},
   "outputs": [],
   "source": [
    "ref_gene_map_ref_trans_no_dup_again = ref_gene_map_ref_trans_no_dup %>%\n",
    "distinct(TargetID, RefGene, .keep_all = T)\n",
    "nrow(ref_gene_map_ref_trans_no_dup)\n",
    "nrow(ref_gene_map_ref_trans_no_dup_again)\n",
    "head(ref_gene_map_ref_trans_no_dup_again)"
   ]
  },
  {
   "cell_type": "code",
   "execution_count": null,
   "id": "be848d10-fb5e-4119-ba7d-80ffdf962fde",
   "metadata": {},
   "outputs": [],
   "source": [
    "still_dups <- ref_gene_map_ref_trans_no_dup_again[duplicated(ref_gene_map_ref_trans_no_dup_again$TargetID) | duplicated(ref_gene_map_ref_trans_no_dup_again$TargetID, fromLast = TRUE), ]\n",
    "head(still_dups)"
   ]
  },
  {
   "cell_type": "markdown",
   "id": "82d514a7-4756-4462-81e2-cccf5ac40594",
   "metadata": {},
   "source": [
    "## create unique gene list"
   ]
  },
  {
   "cell_type": "code",
   "execution_count": null,
   "id": "e4f1987f-2563-4c3c-9380-6fe59f031d43",
   "metadata": {},
   "outputs": [],
   "source": [
    "gene_list = ref_gene_map_ref_trans_no_dup_again %>%\n",
    "dplyr::select(RefGene) %>%\n",
    "distinct()\n",
    "nrow(gene_list)\n",
    "head(gene_list)"
   ]
  },
  {
   "cell_type": "markdown",
   "id": "a1061800-1c5c-4aef-a01c-7007937c541f",
   "metadata": {},
   "source": [
    "# filter methylation data to ref genes"
   ]
  },
  {
   "cell_type": "markdown",
   "id": "63f28c9b-2264-4235-82a7-81666397cc7d",
   "metadata": {},
   "source": [
    "## merge"
   ]
  },
  {
   "cell_type": "code",
   "execution_count": null,
   "id": "c9e95113-78c5-4a00-aa76-386bcec338ea",
   "metadata": {},
   "outputs": [],
   "source": [
    "methyl_ref = ref_gene_map_ref_trans_no_dup_again %>%\n",
    "inner_join(methylation, by = 'TargetID')\n",
    "nrow(methyl_ref)\n",
    "length(unique(methyl_ref$TargetID))\n",
    "length(unique(methyl_ref$RefGene))\n",
    "head(methyl_ref)"
   ]
  },
  {
   "cell_type": "markdown",
   "id": "274667d8-0e00-4449-9f41-eb51cf1d5782",
   "metadata": {},
   "source": [
    "## create column combining RefGene and TargetID"
   ]
  },
  {
   "cell_type": "code",
   "execution_count": null,
   "id": "d052f085-0f7b-4c25-9f51-579f2afd17a1",
   "metadata": {},
   "outputs": [],
   "source": [
    "methyl_ref_id = methyl_ref %>%\n",
    "mutate(RefGene_TargetID_Accession = paste0(RefGene, '_', TargetID, '_', Accession)) %>%\n",
    "select(RefGene_TargetID_Accession) %>%\n",
    "cbind(methyl_ref) %>%\n",
    "select(-c(TargetID, RefGene, Accession)) %>%\n",
    "distinct()\n",
    "nrow(methyl_ref_id)\n",
    "length(unique(methyl_ref_id$RefGene_TargetID_Accession))\n",
    "head(methyl_ref_id)"
   ]
  },
  {
   "cell_type": "code",
   "execution_count": null,
   "id": "7480f31b-3042-4848-9a61-252a0d5253f4",
   "metadata": {},
   "outputs": [],
   "source": [
    "methyl_ref_id%>%\n",
    "filter(duplicated(RefGene_TargetID_Accession) | duplicated(RefGene_TargetID_Accession, fromLast = TRUE)) %>%\n",
    "arrange(RefGene_TargetID_Accession) %>%\n",
    "head()"
   ]
  },
  {
   "cell_type": "markdown",
   "id": "edebadd0-13d3-4b36-9651-16a4261cad9c",
   "metadata": {},
   "source": [
    "# map to individual ids"
   ]
  },
  {
   "cell_type": "markdown",
   "id": "1def6696-a88f-40f6-8804-45117c4b16ca",
   "metadata": {},
   "source": [
    "## transpose"
   ]
  },
  {
   "cell_type": "code",
   "execution_count": null,
   "id": "173ffadb-ef43-4597-9082-36ed43507e7a",
   "metadata": {},
   "outputs": [],
   "source": [
    "methyl_ref_tranpose = data.frame(t(methyl_ref_id))\n",
    "head(methyl_ref_tranpose)"
   ]
  },
  {
   "cell_type": "markdown",
   "id": "a28d08a6-eb86-4aed-93f2-d01274d3d088",
   "metadata": {},
   "source": [
    "## rename columns"
   ]
  },
  {
   "cell_type": "code",
   "execution_count": null,
   "id": "fb3946ef-61e5-47c3-91b2-7c70ecdd7768",
   "metadata": {},
   "outputs": [],
   "source": [
    "colnames(methyl_ref_tranpose) = as.character(methyl_ref_tranpose[1, ])\n",
    "head(methyl_ref_tranpose)"
   ]
  },
  {
   "cell_type": "markdown",
   "id": "5e04f1a4-ffd3-4641-bd62-e62620fea6fa",
   "metadata": {},
   "source": [
    "## drop first row"
   ]
  },
  {
   "cell_type": "code",
   "execution_count": null,
   "id": "18cce50e-5886-4427-9002-88763ef09215",
   "metadata": {},
   "outputs": [],
   "source": [
    "methyl_ref_tranpose <- methyl_ref_tranpose[-1, ]\n",
    "head(methyl_ref_tranpose)"
   ]
  },
  {
   "cell_type": "markdown",
   "id": "dad02ef4-bfcc-4458-8819-ac7d9010ef85",
   "metadata": {},
   "source": [
    "## add ID column"
   ]
  },
  {
   "cell_type": "code",
   "execution_count": null,
   "id": "d81a83db-1d72-419f-996c-bd9b12d62028",
   "metadata": {},
   "outputs": [],
   "source": [
    "methyl_ref_tranpose_id = data.frame(rownames(methyl_ref_tranpose))\n",
    "colnames(methyl_ref_tranpose_id) = c('specimenID')\n",
    "head(methyl_ref_tranpose_id)"
   ]
  },
  {
   "cell_type": "code",
   "execution_count": null,
   "id": "10ecbf37-04e1-4199-885c-f0641b1637ec",
   "metadata": {},
   "outputs": [],
   "source": [
    "methyl_ref_tranpose = cbind(methyl_ref_tranpose_id, methyl_ref_tranpose)\n",
    "head(methyl_ref_tranpose)"
   ]
  },
  {
   "cell_type": "markdown",
   "id": "d8706428-e568-428c-89ba-1c202e6078d7",
   "metadata": {},
   "source": [
    "## add individual ID"
   ]
  },
  {
   "cell_type": "code",
   "execution_count": null,
   "id": "535d1d3e-70d7-4741-931d-c03e472a2662",
   "metadata": {},
   "outputs": [],
   "source": [
    "methyl_ref_tranpose_id_map = id_map %>%\n",
    "inner_join(methyl_ref_tranpose, by = 'specimenID')\n",
    "nrow(methyl_ref_tranpose_id_map)\n",
    "nrow(methyl_ref_tranpose)\n",
    "nrow(id_map)\n",
    "head(methyl_ref_tranpose_id_map)"
   ]
  },
  {
   "cell_type": "markdown",
   "id": "ea80e43a-3e5c-4566-b424-6eaee8fc70b9",
   "metadata": {},
   "source": [
    "## drop specimenID"
   ]
  },
  {
   "cell_type": "code",
   "execution_count": null,
   "id": "c43dae51-d373-4771-871d-e3f23fa8c57f",
   "metadata": {},
   "outputs": [],
   "source": [
    "methyl_ref_tranpose_id_map = methyl_ref_tranpose_id_map %>%\n",
    "dplyr::select(-c(specimenID))\n",
    "head(methyl_ref_tranpose_id_map)"
   ]
  },
  {
   "cell_type": "markdown",
   "id": "faad6653-511b-44f8-84dd-1cc245ca7e04",
   "metadata": {},
   "source": [
    "# convert to m-values (logit transformed beta values)"
   ]
  },
  {
   "cell_type": "raw",
   "id": "c8f688e8-8891-4472-9ed6-cd076146e7cc",
   "metadata": {},
   "source": [
    "formula:\n",
    "\n",
    "M = log2(beta / (1 - beta))"
   ]
  },
  {
   "cell_type": "markdown",
   "id": "29fee905-e0ab-438e-82ac-d93a3f992bc6",
   "metadata": {},
   "source": [
    "## drop id col"
   ]
  },
  {
   "cell_type": "code",
   "execution_count": null,
   "id": "b9b90b50-f9da-4a22-b8ab-aa8fd5797f0a",
   "metadata": {},
   "outputs": [],
   "source": [
    "methyl_id = methyl_ref_tranpose_id_map %>%\n",
    "select(individualID)"
   ]
  },
  {
   "cell_type": "code",
   "execution_count": null,
   "id": "c618ef20-37ea-45e4-a355-be0437aacf0e",
   "metadata": {},
   "outputs": [],
   "source": [
    "methyl_no_id = methyl_ref_tranpose_id_map %>%\n",
    "select(-c(individualID))"
   ]
  },
  {
   "cell_type": "markdown",
   "id": "dc8bcddf-088f-4372-9751-778efe10bf4f",
   "metadata": {},
   "source": [
    "## convert to numeric"
   ]
  },
  {
   "cell_type": "code",
   "execution_count": null,
   "id": "083f4133-5059-40c4-af36-447f45640322",
   "metadata": {},
   "outputs": [],
   "source": [
    "methyl_no_id[] = lapply(methyl_no_id, function(x) as.numeric(as.character(x)))\n",
    "head(methyl_no_id)"
   ]
  },
  {
   "cell_type": "markdown",
   "id": "9cd9a3bf-b5ea-4b3e-b64d-9a2e8246c6cc",
   "metadata": {},
   "source": [
    "## create normalizing function"
   ]
  },
  {
   "cell_type": "code",
   "execution_count": null,
   "id": "3635c598-412d-4b49-9399-8d35abd0fa2b",
   "metadata": {},
   "outputs": [],
   "source": [
    "beta_to_m <- function(beta) {\n",
    "  log2(beta / (1 - beta))\n",
    "}"
   ]
  },
  {
   "cell_type": "markdown",
   "id": "f60379ec-e6da-4ded-b8d1-8f550f98056a",
   "metadata": {},
   "source": [
    "## normalize"
   ]
  },
  {
   "cell_type": "code",
   "execution_count": null,
   "id": "9b1b39c9-f164-48d4-a9c4-9c04a412fb70",
   "metadata": {},
   "outputs": [],
   "source": [
    "methyl_ref_norm <- as.data.frame(lapply(methyl_no_id, beta_to_m))\n",
    "head(methyl_ref_norm)"
   ]
  },
  {
   "cell_type": "markdown",
   "id": "2ae6b061-541d-46e6-9fef-e02f741ad889",
   "metadata": {},
   "source": [
    "## add id back in"
   ]
  },
  {
   "cell_type": "code",
   "execution_count": null,
   "id": "d63d28a6-9c5b-4d71-b6ae-7d7f50e93684",
   "metadata": {},
   "outputs": [],
   "source": [
    "methyl_ref_norm_id = cbind(methyl_id, methyl_ref_norm)\n",
    "head(methyl_ref_norm_id)"
   ]
  },
  {
   "cell_type": "markdown",
   "id": "32257724-38a3-4187-9b16-85f10d91bfb1",
   "metadata": {},
   "source": [
    "# export"
   ]
  },
  {
   "cell_type": "code",
   "execution_count": null,
   "id": "e22119fe-fbb5-490f-b4b3-527f325f60d3",
   "metadata": {},
   "outputs": [],
   "source": [
    "write.table(gene_list,\n",
    "            'rosmap/ROSMAP_arrayMethylation_imputed.gene_list.txt',\n",
    "            sep = '\\t',\n",
    "            col.names = T,\n",
    "            row.names = F,\n",
    "            quote = F)"
   ]
  },
  {
   "cell_type": "code",
   "execution_count": null,
   "id": "3ca85f55-dcd0-4b05-8ee5-daded16256ef",
   "metadata": {},
   "outputs": [],
   "source": [
    "write.table(methyl_ref_norm_id,\n",
    "            'rosmap/ROSMAP_arrayMethylation_imputed.gene_symbol.individualID.mvalue_norm.txt',\n",
    "            sep = '\\t',\n",
    "            col.names = T,\n",
    "            row.names = F,\n",
    "            quote = F)"
   ]
  },
  {
   "cell_type": "code",
   "execution_count": null,
   "id": "4d349c17-95f3-4eec-8842-3f367b196709",
   "metadata": {},
   "outputs": [],
   "source": []
  }
 ],
 "metadata": {
  "kernelspec": {
   "display_name": "R",
   "language": "R",
   "name": "ir"
  },
  "language_info": {
   "codemirror_mode": "r",
   "file_extension": ".r",
   "mimetype": "text/x-r-source",
   "name": "R",
   "pygments_lexer": "r",
   "version": "4.4.3"
  }
 },
 "nbformat": 4,
 "nbformat_minor": 5
}

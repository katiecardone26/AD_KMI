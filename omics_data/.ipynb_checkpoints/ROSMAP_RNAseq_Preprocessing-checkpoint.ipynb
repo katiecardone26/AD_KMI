{
 "cells": [
  {
   "cell_type": "markdown",
   "id": "8aeac5bd-7c13-4ec8-aa83-d5dd5985b9f0",
   "metadata": {},
   "source": [
    "# import modules"
   ]
  },
  {
   "cell_type": "code",
   "execution_count": null,
   "id": "05b62bfc-3353-4a90-a28f-0bdd14fba19c",
   "metadata": {},
   "outputs": [],
   "source": [
    "import pandas as pd"
   ]
  },
  {
   "cell_type": "code",
   "execution_count": null,
   "id": "0a8ebc6b-c524-4214-9f65-fab440591595",
   "metadata": {},
   "outputs": [],
   "source": [
    "import re"
   ]
  },
  {
   "cell_type": "code",
   "execution_count": null,
   "id": "13485f41-3b81-431f-a24d-847e26bbbfe7",
   "metadata": {},
   "outputs": [],
   "source": [
    "import numpy as np"
   ]
  },
  {
   "cell_type": "code",
   "execution_count": null,
   "id": "374b48c2-c326-4d7f-b081-0a4af904639a",
   "metadata": {},
   "outputs": [],
   "source": [
    "import warnings"
   ]
  },
  {
   "cell_type": "code",
   "execution_count": null,
   "id": "1093b1eb-bcbb-4aaa-aac3-8467a23132a7",
   "metadata": {},
   "outputs": [],
   "source": [
    "warnings.filterwarnings('ignore') "
   ]
  },
  {
   "cell_type": "markdown",
   "id": "7ca6c319-ef9b-4a8d-8a4d-71780fdbff1c",
   "metadata": {},
   "source": [
    "# read in input files"
   ]
  },
  {
   "cell_type": "code",
   "execution_count": null,
   "id": "9c29f283-42d9-4e9b-91cf-9a1b45deaf4c",
   "metadata": {},
   "outputs": [],
   "source": [
    "biospec = pd.read_csv('rosmap/Metadata/ROSMAP_biospecimen_metadata.csv')\n",
    "biospec.head()"
   ]
  },
  {
   "cell_type": "code",
   "execution_count": null,
   "id": "ea0a65a4-2027-4fcd-9a4b-15291764b78e",
   "metadata": {},
   "outputs": [],
   "source": [
    "rnaseq_meta = pd.read_csv('rosmap/Metadata/ROSMAP_assay_rnaSeq_metadata.csv')\n",
    "rnaseq_meta.head()"
   ]
  },
  {
   "cell_type": "code",
   "execution_count": null,
   "id": "780a47d0-a7e0-4b0c-afb1-21c57a58f71c",
   "metadata": {},
   "outputs": [],
   "source": [
    "raw_rna = pd.read_csv('rosmap/Gene_Expression/Gene Expression (RNA seq)/Gene Expression (RNA seq - bulk brain)/ROSMAP_RNAseq_FPKM_gene.tsv',\n",
    "                      sep = '\\t')\n",
    "raw_rna.head()"
   ]
  },
  {
   "cell_type": "code",
   "execution_count": null,
   "id": "950fe9dc-1353-4d18-97aa-73d8fe7b2d83",
   "metadata": {},
   "outputs": [],
   "source": [
    "rna_clean = pd.read_csv('rosmap/ROSMAP_RNAseq.TPM5_log2norm.individualids.codinggenes.pathway_genes.ensembl_ids.tsv',\n",
    "                        sep = '\\t')\n",
    "rna_clean.head()"
   ]
  },
  {
   "cell_type": "markdown",
   "id": "7ac2b776-36fc-4f2f-b7a3-3a56596b4e6e",
   "metadata": {},
   "source": [
    "# parse rnaseq meta data"
   ]
  },
  {
   "cell_type": "markdown",
   "id": "c82a459f-61a6-4838-ac07-13d294d6e8ec",
   "metadata": {},
   "source": [
    "## extract ids from raw rnaseq file"
   ]
  },
  {
   "cell_type": "code",
   "execution_count": null,
   "id": "ec467fb4-cb0a-4f6b-90fa-3dd1878aa2cf",
   "metadata": {},
   "outputs": [],
   "source": [
    "raw_rna_transposed = raw_rna.transpose()\n",
    "raw_rna_transposed['rawID'] = raw_rna_transposed.index\n",
    "raw_rna_transposed[['id_1', 'id_2', 'id_3']] = raw_rna_transposed['rawID'].str.split('_', expand = True)\n",
    "raw_rna_transposed['rawID_no_batch'] = raw_rna_transposed['id_1']+ '_' + raw_rna_transposed['id_2']\n",
    "raw_rna_transposed = raw_rna_transposed[['rawID', 'rawID_no_batch']]\n",
    "raw_rna_transposed =  raw_rna_transposed.iloc[2:]\n",
    "print(len(raw_rna_transposed.index))\n",
    "raw_rna_transposed.head()"
   ]
  },
  {
   "cell_type": "markdown",
   "id": "ee845aa9-1724-4cf6-8aad-e1a3b5efd680",
   "metadata": {},
   "source": [
    "## extract ids from rnaseq meta file"
   ]
  },
  {
   "cell_type": "code",
   "execution_count": null,
   "id": "9dae2a0e-cf15-4f54-b3cd-e16e8a06232f",
   "metadata": {},
   "outputs": [],
   "source": [
    "print(len(rnaseq_meta.index))\n",
    "rnaseq_meta.head()"
   ]
  },
  {
   "cell_type": "code",
   "execution_count": null,
   "id": "a068deb3-fd96-47eb-a294-d634addc162b",
   "metadata": {},
   "outputs": [],
   "source": [
    "rnaseq_meta_filt=rnaseq_meta[rnaseq_meta['specimenID'].isin(raw_rna_transposed['rawID_no_batch'])]\n",
    "print(len(rnaseq_meta_filt.index))\n",
    "print(rnaseq_meta_filt['notes'].unique())\n",
    "print(rnaseq_meta_filt['libraryBatch'].unique())\n",
    "print(rnaseq_meta_filt['sequencingBatch'].unique())\n",
    "rnaseq_meta_filt.head()"
   ]
  },
  {
   "cell_type": "markdown",
   "id": "383c2816-3b31-4136-b6ea-ad0db3d5cfb1",
   "metadata": {},
   "source": [
    "## extract IDs from biospec file"
   ]
  },
  {
   "cell_type": "code",
   "execution_count": null,
   "id": "d092640a-df46-4c5f-bfad-5c987726331d",
   "metadata": {},
   "outputs": [],
   "source": [
    "biospec_filt = biospec[biospec['specimenID'].isin(raw_rna_transposed['rawID_no_batch'])]\n",
    "biospec_filt = biospec_filt[biospec_filt['assay'].isin(['rnaSeq'])]\n",
    "print(len(biospec_filt.index))\n",
    "print(len(biospec_filt['specimenID'].unique()))\n",
    "print(biospec_filt['tissue'].unique())\n",
    "biospec_filt.head()"
   ]
  },
  {
   "cell_type": "code",
   "execution_count": null,
   "id": "a24ce637-6324-433e-aa1f-b088014ff0ad",
   "metadata": {},
   "outputs": [],
   "source": [
    "biospec_filt[biospec_filt['specimenID'].isin(['510_120515'])]"
   ]
  },
  {
   "cell_type": "code",
   "execution_count": null,
   "id": "6aad16d1-16b7-44c1-93cd-288289d8f7e9",
   "metadata": {},
   "outputs": [],
   "source": [
    "rnaseq_meta[rnaseq_meta['notes'].isin(['data contribution batch 2'])]"
   ]
  },
  {
   "cell_type": "code",
   "execution_count": null,
   "id": "11fa94cc-9ffe-45c1-ae8c-6efc43d1d010",
   "metadata": {},
   "outputs": [],
   "source": [
    "rnaseq_meta[rnaseq_meta['notes'].isin(['data contribution batch 3'])]"
   ]
  },
  {
   "cell_type": "markdown",
   "id": "4f547d14-eb59-4240-847a-8f05b13c84fc",
   "metadata": {},
   "source": [
    "# select one of duplicate ids"
   ]
  },
  {
   "cell_type": "code",
   "execution_count": null,
   "id": "0d8a296d-42a9-4ded-88f2-5caec4b096a9",
   "metadata": {},
   "outputs": [],
   "source": [
    "dup = raw_rna.transpose()\n",
    "dup.columns = dup.iloc[1]\n",
    "dup.insert(0, 'ID' ,dup.index)\n",
    "dup = dup[dup['ID'].isin(['492_120515_0', '492_120515_6', '492_120515_7'])]\n",
    "dup.head()"
   ]
  },
  {
   "cell_type": "code",
   "execution_count": null,
   "id": "0651e588-5535-447c-a320-fbde216d8de8",
   "metadata": {},
   "outputs": [],
   "source": [
    "raw_gene_list = dup.columns.tolist()\n",
    "clean_gene_list =[]\n",
    "for gene in raw_ gene_list:\n",
    "    clean_gene = gene.split('.')[0]\n",
    "    clean_gene_list.append(clean_gene)"
   ]
  },
  {
   "cell_type": "code",
   "execution_count": null,
   "id": "88c2e47b-75e5-4cd0-8968-7d827481ac28",
   "metadata": {},
   "outputs": [],
   "source": [
    "dup = dup.set_axis(clean_gene_list, axis = 1)\n",
    "dup.head()"
   ]
  },
  {
   "cell_type": "code",
   "execution_count": null,
   "id": "0f3afa13-c40d-4ff2-8bf0-ac7b64537e26",
   "metadata": {},
   "outputs": [],
   "source": [
    "rna_clean_dup = rna_clean[rna_clean['individualID'].isin(['R5693901'])]\n",
    "rna_clean_dup.head()"
   ]
  },
  {
   "cell_type": "code",
   "execution_count": null,
   "id": "5b098f14-4dfb-44ed-b508-3beab2366016",
   "metadata": {},
   "outputs": [],
   "source": [
    "rna_clean_dup_col_list = rna_clean_dup.columns.tolist()\n",
    "rna_clean_dup_col_list.remove('individualID')\n",
    "rna_clean_dup_col_list.insert(0, 'ID')"
   ]
  },
  {
   "cell_type": "code",
   "execution_count": null,
   "id": "225e86d3-31ec-42f5-b62a-955dca48da31",
   "metadata": {},
   "outputs": [],
   "source": [
    "dup_pathway = dup[rna_clean_dup_col_list]\n",
    "dup_pathway.head()"
   ]
  },
  {
   "cell_type": "markdown",
   "id": "bc12bcba-5a7e-405b-9f3d-95645afcf707",
   "metadata": {},
   "source": [
    "# convert fpkm to tpm"
   ]
  },
  {
   "cell_type": "code",
   "execution_count": null,
   "id": "6f39c2ec-869e-4993-ac87-cbf21f0492b9",
   "metadata": {},
   "outputs": [],
   "source": [
    "# Function to convert FPKM to TPM\n",
    "def fpkm_to_tpm(fpkm):\n",
    "    return np.exp(np.log(fpkm) - np.log(np.sum(fpkm)) + np.log(1e6))\n",
    "\n",
    "dup_tpm = dup_pathway.astype('float').apply(fpkm_to_tpm)\n",
    "dup_tpm.head()"
   ]
  },
  {
   "cell_type": "code",
   "execution_count": null,
   "id": "84ea89b8-d568-4ce1-a459-ab2eb951a9b6",
   "metadata": {},
   "outputs": [],
   "source": [
    "rnaseq_tpm_coding = dup_tpm"
   ]
  },
  {
   "cell_type": "markdown",
   "id": "9562f409-942f-494f-9977-a21b20961907",
   "metadata": {},
   "source": [
    "# remove genes with median TPM <= 5"
   ]
  },
  {
   "cell_type": "code",
   "execution_count": null,
   "id": "d5cbf89b-65a6-469f-a646-be2184ee4094",
   "metadata": {},
   "outputs": [],
   "source": [
    "## Filter genes w/ minimal expression: 5 TPM\n",
    "gene_filt = []\n",
    "for gene in rnaseq_tpm_coding.columns:\n",
    "    if (rnaseq_tpm_coding[gene].median() > 5):\n",
    "        gene_filt.append(gene)\n",
    "rnaseq_tpm_coding_tpm5 = rnaseq_tpm_coding[gene_filt]\n",
    "\n",
    "## log2 transform - first replace any values below 1 to 1\n",
    "rnaseq_tpm_coding_tpm5_log2 = rnaseq_tpm_coding_tpm5.apply(lambda x: np.where(x < 1, 1.00, x))\n",
    "rnaseq_tpm_coding_tpm5_log2 = np.log2(rnaseq_tpm_coding_tpm5_log2.astype('float'))\n",
    "# rnaseq_gene_tpm_log2\n",
    "\n",
    "## Normalize by mean of log transformed\n",
    "# # merged_gene_exp_norm = (merged_gene_exp_filt-merged_gene_exp_filt.mean())/merged_gene_exp_filt.std()\n",
    "# # merged_gene_exp_norm_df = pd.DataFrame(merged_gene_exp_norm, columns=merged_gene_exp.columns)\n",
    "# # merged_gene_exp_norm = StandardScaler().fit_transform(merged_gene_exp_filt)  \n",
    "# # merged_gene_exp_norm_df = pd.DataFrame(merged_gene_exp_norm, columns=merged_gene_exp_filt.columns)\n",
    "# # merged_gene_exp_norm_df\n",
    "\n",
    "rnaseq_gene_exp_norm_dict = {}\n",
    "for i, j in rnaseq_tpm_coding_tpm5_log2.items():\n",
    "    rnaseq_gene_exp_norm_dict[i] = j/rnaseq_tpm_coding_tpm5_log2[i].mean()\n",
    "    \n",
    "rnaseq_gene_exp_norm = pd.DataFrame.from_dict(rnaseq_gene_exp_norm_dict)\n",
    "print(len(rnaseq_gene_exp_norm.columns))\n",
    "rnaseq_gene_exp_norm"
   ]
  },
  {
   "cell_type": "markdown",
   "id": "8939d17e-71a8-4d91-8826-2d7eb344cce9",
   "metadata": {},
   "source": [
    "## export ID list"
   ]
  },
  {
   "cell_type": "code",
   "execution_count": null,
   "id": "f351defb-0961-4c09-afa4-304cb97e79cf",
   "metadata": {},
   "outputs": [],
   "source": [
    "print(len(biospec_filt.index))\n",
    "biospec_filt.head()"
   ]
  },
  {
   "cell_type": "code",
   "execution_count": null,
   "id": "c1b609a2-478b-4ecb-85be-ce5341f9cf26",
   "metadata": {},
   "outputs": [],
   "source": [
    "biospec_filt_id=biospec_filt[['individualID','specimenID']]"
   ]
  },
  {
   "cell_type": "code",
   "execution_count": null,
   "id": "af908099-7283-4e17-8357-f40cf5fd4a7e",
   "metadata": {},
   "outputs": [],
   "source": [
    "biospec_filt_id.to_csv('rosmap/ID_mapping/ROSMAP_RNAseq.batch1.DLPFC.ID_map.txt',\n",
    "                       sep='\\t',\n",
    "                       index=None)"
   ]
  },
  {
   "cell_type": "raw",
   "id": "57707830-692b-4399-8ab0-bbb5cd3008c7",
   "metadata": {},
   "source": [
    "# duplicate conclusion:\n",
    "select the first sequencing batch (0)"
   ]
  }
 ],
 "metadata": {
  "kernelspec": {
   "display_name": "Python 3 (ipykernel)",
   "language": "python",
   "name": "python3"
  },
  "language_info": {
   "codemirror_mode": {
    "name": "ipython",
    "version": 3
   },
   "file_extension": ".py",
   "mimetype": "text/x-python",
   "name": "python",
   "nbconvert_exporter": "python",
   "pygments_lexer": "ipython3",
   "version": "3.12.3"
  }
 },
 "nbformat": 4,
 "nbformat_minor": 5
}
